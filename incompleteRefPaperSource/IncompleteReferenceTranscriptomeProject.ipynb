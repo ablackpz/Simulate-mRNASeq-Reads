{
 "metadata": {
  "name": "Incomplete Reference Transcriptome Project"
 },
 "nbformat": 3,
 "nbformat_minor": 0,
 "worksheets": [
  {
   "cells": [
    {
     "cell_type": "heading",
     "level": 1,
     "metadata": {},
     "source": [
      "Incomplete Reference Transcriptome Project"
     ]
    },
    {
     "cell_type": "raw",
     "metadata": {},
     "source": [
      "Objective: quantify errors from using incomplete reference transcriptomes during RNA-Seq mapping and determine if long reads will lead to error-free mapping"
     ]
    },
    {
     "cell_type": "code",
     "collapsed": false,
     "input": [
      "cd ~/Documents/WorkMsu/Simulate-mRNASeq-Reads/Ipnbk/"
     ],
     "language": "python",
     "metadata": {},
     "outputs": [
      {
       "output_type": "stream",
       "stream": "stdout",
       "text": [
        "/Users/ablackpz/Documents/WorkMsu/Simulate-mRNASeq-Reads/Ipnbk\n"
       ]
      }
     ],
     "prompt_number": 1
    },
    {
     "cell_type": "code",
     "collapsed": false,
     "input": [
      "import os, math"
     ],
     "language": "python",
     "metadata": {},
     "outputs": [],
     "prompt_number": 61
    },
    {
     "cell_type": "code",
     "collapsed": false,
     "input": [
      "def createDataSet(var1,var2):\n",
      "    cmd = \"python DataSet\" + var1 + \"rep\" + var2 + \".py\"\n",
      "    os.system(cmd)\n",
      "    return\n",
      "\n",
      "def runBowtieBuild(num,rep,e,r,g):\n",
      "    dataset = \"DataSet\" + num + \"rep\" + rep + \"E\" + e + \"R\" + r + \"G\" + g\n",
      "    cmd = \"bowtie-build \" + dataset + \".fa \" + dataset + \".Index\"\n",
      "    os.system(cmd)\n",
      "    return\n",
      "\n",
      "def runBowtie(num,rep,e,r,g,mode,rnum,rrep,re,rr,rg):\n",
      "    dataset = \"DataSet\" + num + \"rep\" + rep + \"E\" + e + \"R\" + r + \"G\" + g\n",
      "    ref = \"DataSet\" + rnum + \"rep\" + rrep + \"E\" + re + \"R\" + rr + \"G\" + rg + \"RandomReads.fa\"\n",
      "    if mode == \"default\":\n",
      "        cmd = \"bowtie \" + dataset + \".Index -f \" + ref + \" \" + dataset + \"_default.map\"\n",
      "    elif mode == \"unique\":\n",
      "        cmd = \"bowtie -m 1 \" + dataset + \".Index -f \" + ref + \" \" + dataset + \"_unique.map\"\n",
      "    elif mode == \"multimap\":\n",
      "        cmd = \"bowtie -a \" + dataset + \".Index -f \" + ref + \" \" + dataset + \"_multimap.map\"\n",
      "    else:\n",
      "        print \"This should never print\"\n",
      "    os.system(cmd)\n",
      "    return\n",
      "\n",
      "def runBowtieAllParams(num,rep,e,r,g,rnum,rrep,re,rr,rg):\n",
      "    runBowtie(num,rep,error,r,g,\"default\",num,rep,error,rr,g)\n",
      "    runBowtie(num,rep,error,r,g,\"unique\",num,rep,error,rr,g)\n",
      "    runBowtie(num,rep,error,r,g,\"multimap\",num,rep,error,rr,g)\n",
      "    return\n",
      "\n",
      "def runBowtiePairedEnds(num,rep,e,r,g,mode,rnum,rrep,re,rr,rg):\n",
      "    dataset = \"DataSet\" + num + \"rep\" + rep + \"E\" + e + \"R\" + r + \"G\" + g\n",
      "    ref1 = \"DataSet\" + rnum + \"rep\" + rrep + \"E\" + re + \"R\" + rr + \"G\" + rg + \"RandomReadsPair1.fa\"\n",
      "    ref2 = \"DataSet\" + rnum + \"rep\" + rrep + \"E\" + re + \"R\" + rr + \"G\" + rg + \"RandomReadsPair2.fa\"\n",
      "    if mode == \"default\":\n",
      "        cmd = \"bowtie \" + dataset + \".Index -f -ff -I 0 -X 1000 -1 \" + ref1 + \" -2 \" + ref2 + ' ' + dataset + \"_default.map\"\n",
      "    elif mode == \"unique\":\n",
      "        cmd = \"bowtie -m 1 \" + dataset + \".Index -f -ff -I 0 -X 1000 -1 \" + ref1 + \" -2 \" + ref2 + ' ' + dataset + \"_unique.map\"\n",
      "    elif mode == \"multimap\":\n",
      "        cmd = \"bowtie -a \" + dataset + \".Index -f -ff -I 0 -X 1000 -1 \" + ref1 + \" -2 \" + ref2 + ' ' + dataset + \"_multimap.map\"\n",
      "    else:\n",
      "        print \"This should never print\"\n",
      "    print cmd\n",
      "    os.system(cmd)\n",
      "    return\n",
      "\n",
      "def getTruePositives(num,rep,e,r,g,mode,organism):\n",
      "    dataset = \"DataSet\" + num + \"rep\" + rep + \"E\" + e + \"R\" + r + \"G\" + g + \"_\" + mode + \".map\"\n",
      "    if organism == \"random\":\n",
      "        pos = \"4\"\n",
      "    elif organism == \"chicken\":\n",
      "        pos = \"6\"\n",
      "    elif organism == \"mouse\":\n",
      "        pos = \"8\"\n",
      "    else:\n",
      "        print \"Unknown organism\"\n",
      "    cmd = \"awk '{if ($1 == $\" + pos + \") print $1}' \" + dataset + \" | wc -l > \" + dataset + \".truePositives\"\n",
      "    os.system(cmd)\n",
      "    cmd = \"wc -l \" + dataset + \" > \" + dataset + \".totalReads\"\n",
      "    os.system(cmd)\n",
      "    return\n",
      "\n",
      "def getTruePositivesAllParams(num,rep,e,r,g,organism):\n",
      "    getTruePositives(num,rep,e,r,g,\"default\",organism)\n",
      "    getTruePositives(num,rep,e,r,g,\"unique\",organism)\n",
      "    getTruePositives(num,rep,e,r,g,\"multimap\",organism)\n",
      "    return\n",
      "\n",
      "def getTotalNumReads(num,rep,e,r,g):\n",
      "    dataset = \"DataSet\" + num + \"rep\" + rep + \"E\" + e + \"R\" + r + \"G\" + g + \"RandomReads.fa\"\n",
      "    cmd = \"grep '>' \" + dataset + \" | wc -l > \" + dataset + \".totalNumReads\"\n",
      "    os.system(cmd)\n",
      "    return\n",
      "\n",
      "def getTpFp(num,rep,e,r,g,mode,rnum,rrep,re,rr,rg):\n",
      "    getTotalNumReads(rnum,rrep,re,rr,rg)\n",
      "    dataset = \"DataSet\" + num + \"rep\" + rep + \"E\" + e + \"R\" + r + \"G\" + g + \"_\" + mode + \".map\"\n",
      "    tpDataset = dataset + \".truePositives\"\n",
      "    totalDataset = dataset + \".totalReads\"\n",
      "    ref = \"DataSet\" + rnum + \"rep\" + rrep + \"E\" + re + \"R\" + rr + \"G\" + rg + \"RandomReads.fa.totalNumReads\"\n",
      "    totalNumReads = open(ref,'r').read()\n",
      "    numTp = open(tpDataset,'r').read()\n",
      "    numTotaltmp = open(totalDataset).read().split(' ')\n",
      "    numTotal = numTotaltmp[1]\n",
      "    percTp = float(numTp) / float(totalNumReads) * 100\n",
      "    percFp = (float(numTotal) - float(numTp)) / float(totalNumReads) * 100\n",
      "    return percTp, percFp\n",
      "\n",
      "def getTotalNumReadsPairedEnds(num,rep,e,r,g):\n",
      "    dataset = \"DataSet\" + num + \"rep\" + rep + \"E\" + e + \"R\" + r + \"G\" + g + \"RandomReadsPair1.fa\"\n",
      "    cmd = \"grep '>' \" + dataset + \" | wc -l > \" + dataset + \".totalNumReads\"\n",
      "    os.system(cmd)\n",
      "    return\n",
      "\n",
      "def getTpFpPairedEnds(num,rep,e,r,g,mode,rnum,rrep,re,rr,rg):\n",
      "    getTotalNumReadsPairedEnds(rnum,rrep,re,rr,rg)\n",
      "    dataset = \"DataSet\" + num + \"rep\" + rep + \"E\" + e + \"R\" + r + \"G\" + g + \"_\" + mode + \".map\"\n",
      "    tpDataset = dataset + \".truePositives\"\n",
      "    totalDataset = dataset + \".totalReads\"\n",
      "    ref = \"DataSet\" + rnum + \"rep\" + rrep + \"E\" + re + \"R\" + rr + \"G\" + rg + \"RandomReadsPair1.fa.totalNumReads\"\n",
      "    totalNumReads = open(ref,'r').read()\n",
      "    print \"Total num reads: \", totalNumReads\n",
      "    numTp = open(tpDataset,'r').read()\n",
      "    print \"Num Tp: \", numTp\n",
      "    numTotaltmp = open(totalDataset).read().split(' ')\n",
      "    numTotal = numTotaltmp[1]\n",
      "    print \"Num Reads mapped: \", numTotal    \n",
      "    percTp = float(numTp) / (float(totalNumReads) * 2) * 100\n",
      "    percFp = (float(numTotal) - float(numTp)) / (float(totalNumReads) * 2) * 100\n",
      "    return percTp, percFp\n",
      "\n",
      "def getAverage(listNums):\n",
      "    sum = 0\n",
      "    for item in listNums:\n",
      "        sum += item\n",
      "    return float(sum) / float(len(listNums))"
     ],
     "language": "python",
     "metadata": {},
     "outputs": [],
     "prompt_number": 41
    },
    {
     "cell_type": "heading",
     "level": 2,
     "metadata": {},
     "source": [
      "Test 1: Mapping accuracy of read sets generated from small random and mouse transcriptomes with complete reference"
     ]
    },
    {
     "cell_type": "raw",
     "metadata": {},
     "source": [
      "Objective: determine errors expected in random data and small real data set"
     ]
    },
    {
     "cell_type": "raw",
     "metadata": {},
     "source": [
      "Random transcriptome with 5000 transcripts, single end 100 bp reads, 20x expression"
     ]
    },
    {
     "cell_type": "code",
     "collapsed": false,
     "input": [
      "num = \"237\"\n",
      "rep = \"1\"\n",
      "error = \"1\"\n",
      "r = \"100\"\n",
      "g = \"100\"\n",
      "createDataSet(num,rep)\n",
      "!grep '>' DataSet237rep1E1R100G100.fa | wc -l\n",
      "runBowtieBuild(num,rep,error,r,g)\n",
      "runBowtie(num,rep,error,r,g,\"default\",num,rep,error,r,g)\n",
      "runBowtie(num,rep,error,r,g,\"unique\",num,rep,error,r,g)\n",
      "runBowtie(num,rep,error,r,g,\"multimap\",num,rep,error,r,g)\n",
      "getTruePositives(num,rep,error,r,g,\"default\",\"random\")\n",
      "getTruePositives(num,rep,error,r,g,\"unique\",\"random\")\n",
      "getTruePositives(num,rep,error,r,g,\"multimap\",\"random\")\n",
      "defaultTp1,defaultFp1 = getTpFp(num,rep,error,r,g,\"default\",num,rep,error,r,g)\n",
      "uniqueTp1,uniqueFp1 = getTpFp(num,rep,error,r,g,\"unique\",num,rep,error,r,g)\n",
      "multimapTp1,multimapFp1 = getTpFp(num,rep,error,r,g,\"multimap\",num,rep,error,r,g)"
     ],
     "language": "python",
     "metadata": {},
     "outputs": [
      {
       "output_type": "stream",
       "stream": "stdout",
       "text": [
        "    5000\r\n"
       ]
      }
     ],
     "prompt_number": 5
    },
    {
     "cell_type": "code",
     "collapsed": false,
     "input": [
      "num = \"237\"\n",
      "rep = \"2\"\n",
      "error = \"1\"\n",
      "r = \"100\"\n",
      "g = \"100\"\n",
      "createDataSet(num,rep)\n",
      "!grep '>' DataSet237rep2E1R100G100.fa | wc -l\n",
      "runBowtieBuild(num,rep,error,r,g)\n",
      "runBowtie(num,rep,error,r,g,\"default\",num,rep,error,r,g)\n",
      "runBowtie(num,rep,error,r,g,\"unique\",num,rep,error,r,g)\n",
      "runBowtie(num,rep,error,r,g,\"multimap\",num,rep,error,r,g)\n",
      "getTruePositives(num,rep,error,r,g,\"default\",\"random\")\n",
      "getTruePositives(num,rep,error,r,g,\"unique\",\"random\")\n",
      "getTruePositives(num,rep,error,r,g,\"multimap\",\"random\")\n",
      "defaultTp2,defaultFp2 = getTpFp(num,rep,error,r,g,\"default\",num,rep,error,r,g)\n",
      "uniqueTp2,uniqueFp2 = getTpFp(num,rep,error,r,g,\"unique\",num,rep,error,r,g)\n",
      "multimapTp2,multimapFp2 = getTpFp(num,rep,error,r,g,\"multimap\",num,rep,error,r,g)"
     ],
     "language": "python",
     "metadata": {},
     "outputs": [
      {
       "output_type": "stream",
       "stream": "stdout",
       "text": [
        "    5000\r\n"
       ]
      }
     ],
     "prompt_number": 6
    },
    {
     "cell_type": "code",
     "collapsed": false,
     "input": [
      "num = \"237\"\n",
      "rep = \"3\"\n",
      "error = \"1\"\n",
      "r = \"100\"\n",
      "g = \"100\"\n",
      "createDataSet(num,rep)\n",
      "!grep '>' DataSet237rep3E1R100G100.fa | wc -l\n",
      "runBowtieBuild(num,rep,error,r,g)\n",
      "runBowtie(num,rep,error,r,g,\"default\",num,rep,error,r,g)\n",
      "runBowtie(num,rep,error,r,g,\"unique\",num,rep,error,r,g)\n",
      "runBowtie(num,rep,error,r,g,\"multimap\",num,rep,error,r,g)\n",
      "getTruePositives(num,rep,error,r,g,\"default\",\"random\")\n",
      "getTruePositives(num,rep,error,r,g,\"unique\",\"random\")\n",
      "getTruePositives(num,rep,error,r,g,\"multimap\",\"random\")\n",
      "defaultTp3,defaultFp3 = getTpFp(num,rep,error,r,g,\"default\",num,rep,error,r,g)\n",
      "uniqueTp3,uniqueFp3 = getTpFp(num,rep,error,r,g,\"unique\",num,rep,error,r,g)\n",
      "multimapTp3,multimapFp3 = getTpFp(num,rep,error,r,g,\"multimap\",num,rep,error,r,g)"
     ],
     "language": "python",
     "metadata": {},
     "outputs": [
      {
       "output_type": "stream",
       "stream": "stdout",
       "text": [
        "    5000\r\n"
       ]
      }
     ],
     "prompt_number": 7
    },
    {
     "cell_type": "code",
     "collapsed": false,
     "input": [
      "id = \"randomSe\"\n",
      "defaultAvgTp[id] = sum([defaultTp[\"1\"], defaultTp[\"2\"], defaultTp[\"3\"]]) / 3\n",
      "print \"Average Default True Positive Percentage: \", defaultAvgTp[id]\n",
      "defaultAvgFp[id] = sum([defaultFp[\"1\"], defaultFp[\"2\"], defaultFp[\"3\"]]) / 3\n",
      "print \"Average Default False Positive Percentage: \", defaultAvgFp[id]\n",
      "uniqueAvgTp[id] = sum([uniqueTp[\"1\"], uniqueTp[\"2\"], uniqueTp[\"3\"]]) / 3\n",
      "print \"Average Unique True Positive Percentage: \", uniqueAvgTp[id]\n",
      "uniqueAvgFp[id] = sum([uniqueFp[\"1\"], uniqueFp[\"2\"], uniqueFp[\"3\"]]) / 3\n",
      "print \"Average Unique False Positive Percentage: \", uniqueAvgFp[id]\n",
      "multimapAvgTp[id] = sum([multimapTp[\"1\"], multimapTp[\"2\"], multimapTp[\"3\"]]) / 3\n",
      "print \"Average Multimap True Positive Percentage: \", multimapAvgTp[id]\n",
      "multimapAvgFp[id] = sum([multimapFp[\"1\"], multimapFp[\"2\"], multimapFp[\"3\"]]) / 3\n",
      "print \"Average Multimap False Positive Percentage: \", multimapAvgFp[id]"
     ],
     "language": "python",
     "metadata": {},
     "outputs": [
      {
       "output_type": "stream",
       "stream": "stdout",
       "text": [
        "Average Default True Positive Percentage:  89.1450256049\n",
        "Average Default False Positive Percentage:  2.92797153003\n",
        "Average Unique True Positive Percentage:  86.3889761058\n",
        "Average Unique False Positive Percentage:  2.09915175377e-05\n",
        "Average Multimap True Positive Percentage:  92.0729761434\n",
        "Average Multimap False Positive Percentage:  6.27882638415\n"
       ]
      }
     ],
     "prompt_number": 75
    },
    {
     "cell_type": "raw",
     "metadata": {},
     "source": [
      "Mouse transcriptome with 5000 randomly selected transcripts, single end 100 bp reads, 20x expression"
     ]
    },
    {
     "cell_type": "code",
     "collapsed": false,
     "input": [
      "num = \"236\"\n",
      "rep = \"1\"\n",
      "error = \"1\"\n",
      "r = \"100\"\n",
      "g = \"100\"\n",
      "createDataSet(num,rep)\n",
      "!grep '>' DataSet236rep1E1R100G100.fa | wc -l\n",
      "runBowtieBuild(num,rep,error,r,g)\n",
      "runBowtie(num,rep,error,r,g,\"default\",num,rep,error,r,g)\n",
      "runBowtie(num,rep,error,r,g,\"unique\",num,rep,error,r,g)\n",
      "runBowtie(num,rep,error,r,g,\"multimap\",num,rep,error,r,g)\n",
      "getTruePositives(num,rep,error,r,g,\"default\",\"mouse\")\n",
      "getTruePositives(num,rep,error,r,g,\"unique\",\"mouse\")\n",
      "getTruePositives(num,rep,error,r,g,\"multimap\",\"mouse\")\n",
      "defaultTp1,defaultFp1 = getTpFp(num,rep,error,r,g,\"default\",num,rep,error,r,g)\n",
      "uniqueTp1,uniqueFp1 = getTpFp(num,rep,error,r,g,\"unique\",num,rep,error,r,g)\n",
      "multimapTp1,multimapFp1 = getTpFp(num,rep,error,r,g,\"multimap\",num,rep,error,r,g)"
     ],
     "language": "python",
     "metadata": {},
     "outputs": [
      {
       "output_type": "stream",
       "stream": "stdout",
       "text": [
        "    5000\r\n"
       ]
      }
     ],
     "prompt_number": 10
    },
    {
     "cell_type": "code",
     "collapsed": false,
     "input": [
      "num = \"236\"\n",
      "rep = \"2\"\n",
      "error = \"1\"\n",
      "r = \"100\"\n",
      "g = \"100\"\n",
      "createDataSet(num,rep)\n",
      "!grep '>' DataSet236rep2E1R100G100.fa | wc -l\n",
      "runBowtieBuild(num,rep,error,r,g)\n",
      "runBowtie(num,rep,error,r,g,\"default\",num,rep,error,r,g)\n",
      "runBowtie(num,rep,error,r,g,\"unique\",num,rep,error,r,g)\n",
      "runBowtie(num,rep,error,r,g,\"multimap\",num,rep,error,r,g)\n",
      "getTruePositives(num,rep,error,r,g,\"default\",\"mouse\")\n",
      "getTruePositives(num,rep,error,r,g,\"unique\",\"mouse\")\n",
      "getTruePositives(num,rep,error,r,g,\"multimap\",\"mouse\")\n",
      "defaultTp2,defaultFp2 = getTpFp(num,rep,error,r,g,\"default\",num,rep,error,r,g)\n",
      "uniqueTp2,uniqueFp2 = getTpFp(num,rep,error,r,g,\"unique\",num,rep,error,r,g)\n",
      "multimapTp2,multimapFp2 = getTpFp(num,rep,error,r,g,\"multimap\",num,rep,error,r,g)"
     ],
     "language": "python",
     "metadata": {},
     "outputs": [
      {
       "output_type": "stream",
       "stream": "stdout",
       "text": [
        "    5000\r\n"
       ]
      }
     ],
     "prompt_number": 12
    },
    {
     "cell_type": "code",
     "collapsed": false,
     "input": [
      "num = \"236\"\n",
      "rep = \"3\"\n",
      "error = \"1\"\n",
      "r = \"100\"\n",
      "g = \"100\"\n",
      "createDataSet(num,rep)\n",
      "!grep '>' DataSet236rep3E1R100G100.fa | wc -l\n",
      "runBowtieBuild(num,rep,error,r,g)\n",
      "runBowtie(num,rep,error,r,g,\"default\",num,rep,error,r,g)\n",
      "runBowtie(num,rep,error,r,g,\"unique\",num,rep,error,r,g)\n",
      "runBowtie(num,rep,error,r,g,\"multimap\",num,rep,error,r,g)\n",
      "getTruePositives(num,rep,error,r,g,\"default\",\"mouse\")\n",
      "getTruePositives(num,rep,error,r,g,\"unique\",\"mouse\")\n",
      "getTruePositives(num,rep,error,r,g,\"multimap\",\"mouse\")\n",
      "defaultTp3,defaultFp3 = getTpFp(num,rep,error,r,g,\"default\",num,rep,error,r,g)\n",
      "uniqueTp3,uniqueFp3 = getTpFp(num,rep,error,r,g,\"unique\",num,rep,error,r,g)\n",
      "multimapTp3,multimapFp3 = getTpFp(num,rep,error,r,g,\"multimap\",num,rep,error,r,g)"
     ],
     "language": "python",
     "metadata": {},
     "outputs": [
      {
       "output_type": "stream",
       "stream": "stdout",
       "text": [
        "    5000\r\n"
       ]
      }
     ],
     "prompt_number": 13
    },
    {
     "cell_type": "code",
     "collapsed": false,
     "input": [
      "id = \"mouseSe\"\n",
      "defaultAvgTp[id] = sum([defaultTp[\"1\"], defaultTp[\"2\"], defaultTp[\"3\"]]) / 3\n",
      "print \"Average Default True Positive Percentage: \", defaultAvgTp[id]\n",
      "defaultAvgFp[id] = sum([defaultFp[\"1\"], defaultFp[\"2\"], defaultFp[\"3\"]]) / 3\n",
      "print \"Average Default False Positive Percentage: \", defaultAvgFp[id]\n",
      "uniqueAvgTp[id] = sum([uniqueTp[\"1\"], uniqueTp[\"2\"], uniqueTp[\"3\"]]) / 3\n",
      "print \"Average Unique True Positive Percentage: \", uniqueAvgTp[id]\n",
      "uniqueAvgFp[id] = sum([uniqueFp[\"1\"], uniqueFp[\"2\"], uniqueFp[\"3\"]]) / 3\n",
      "print \"Average Unique False Positive Percentage: \", uniqueAvgFp[id]\n",
      "multimapAvgTp[id] = sum([multimapTp[\"1\"], multimapTp[\"2\"], multimapTp[\"3\"]]) / 3\n",
      "print \"Average Multimap True Positive Percentage: \", multimapAvgTp[id]\n",
      "multimapAvgFp[id] = sum([multimapFp[\"1\"], multimapFp[\"2\"], multimapFp[\"3\"]]) / 3\n",
      "print \"Average Multimap False Positive Percentage: \", multimapAvgFp[id]"
     ],
     "language": "python",
     "metadata": {},
     "outputs": [
      {
       "output_type": "stream",
       "stream": "stdout",
       "text": [
        "Average Default True Positive Percentage:  86.8046457733\n",
        "Average Default False Positive Percentage:  0.052532243608\n",
        "Average Unique True Positive Percentage:  81.4734549555\n",
        "Average Unique False Positive Percentage:  1.73567357673e-06\n",
        "Average Multimap True Positive Percentage:  92.4076777868\n",
        "Average Multimap False Positive Percentage:  0.121803670325\n"
       ]
      }
     ],
     "prompt_number": 16
    },
    {
     "cell_type": "raw",
     "metadata": {},
     "source": [
      "Random transcriptome with 5000 transcripts, paired end 100:50:100 reads, 20x expression"
     ]
    },
    {
     "cell_type": "code",
     "collapsed": false,
     "input": [
      "num = \"241\"\n",
      "rep = \"1\"\n",
      "error = \"1\"\n",
      "r = \"100\"\n",
      "g = \"100\"\n",
      "createDataSet(num,rep)\n",
      "!grep '>' DataSet241rep1E1R100G100.fa | wc -l\n",
      "runBowtieBuild(num,rep,error,r,g)\n",
      "runBowtiePairedEnds(num,rep,error,r,g,\"default\",num,rep,error,r,g)\n",
      "runBowtiePairedEnds(num,rep,error,r,g,\"unique\",num,rep,error,r,g)\n",
      "runBowtiePairedEnds(num,rep,error,r,g,\"multimap\",num,rep,error,r,g)\n",
      "getTruePositives(num,rep,error,r,g,\"default\",\"random\")\n",
      "getTruePositives(num,rep,error,r,g,\"unique\",\"random\")\n",
      "getTruePositives(num,rep,error,r,g,\"multimap\",\"random\")\n",
      "defaultTp1,defaultFp1 = getTpFpPairedEnds(num,rep,error,r,g,\"default\",num,rep,error,r,g)\n",
      "uniqueTp1,uniqueFp1 = getTpFpPairedEnds(num,rep,error,r,g,\"unique\",num,rep,error,r,g)\n",
      "multimapTp1,multimapFp1 = getTpFpPairedEnds(num,rep,error,r,g,\"multimap\",num,rep,error,r,g)"
     ],
     "language": "python",
     "metadata": {},
     "outputs": [
      {
       "output_type": "stream",
       "stream": "stdout",
       "text": [
        "    5000\r\n"
       ]
      },
      {
       "ename": "ZeroDivisionError",
       "evalue": "float division by zero",
       "output_type": "pyerr",
       "traceback": [
        "\u001b[0;31m---------------------------------------------------------------------------\u001b[0m\n\u001b[0;31mZeroDivisionError\u001b[0m                         Traceback (most recent call last)",
        "\u001b[0;32m<ipython-input-19-b0c5c45f6dc4>\u001b[0m in \u001b[0;36m<module>\u001b[0;34m()\u001b[0m\n\u001b[1;32m     13\u001b[0m \u001b[0mgetTruePositives\u001b[0m\u001b[0;34m(\u001b[0m\u001b[0mnum\u001b[0m\u001b[0;34m,\u001b[0m\u001b[0mrep\u001b[0m\u001b[0;34m,\u001b[0m\u001b[0merror\u001b[0m\u001b[0;34m,\u001b[0m\u001b[0mr\u001b[0m\u001b[0;34m,\u001b[0m\u001b[0mg\u001b[0m\u001b[0;34m,\u001b[0m\u001b[0;34m\"unique\"\u001b[0m\u001b[0;34m,\u001b[0m\u001b[0;34m\"random\"\u001b[0m\u001b[0;34m)\u001b[0m\u001b[0;34m\u001b[0m\u001b[0m\n\u001b[1;32m     14\u001b[0m \u001b[0mgetTruePositives\u001b[0m\u001b[0;34m(\u001b[0m\u001b[0mnum\u001b[0m\u001b[0;34m,\u001b[0m\u001b[0mrep\u001b[0m\u001b[0;34m,\u001b[0m\u001b[0merror\u001b[0m\u001b[0;34m,\u001b[0m\u001b[0mr\u001b[0m\u001b[0;34m,\u001b[0m\u001b[0mg\u001b[0m\u001b[0;34m,\u001b[0m\u001b[0;34m\"multimap\"\u001b[0m\u001b[0;34m,\u001b[0m\u001b[0;34m\"random\"\u001b[0m\u001b[0;34m)\u001b[0m\u001b[0;34m\u001b[0m\u001b[0m\n\u001b[0;32m---> 15\u001b[0;31m \u001b[0mdefaultTp1\u001b[0m\u001b[0;34m,\u001b[0m\u001b[0mdefaultFp1\u001b[0m \u001b[0;34m=\u001b[0m \u001b[0mgetTpFpPairedEnds\u001b[0m\u001b[0;34m(\u001b[0m\u001b[0mnum\u001b[0m\u001b[0;34m,\u001b[0m\u001b[0mrep\u001b[0m\u001b[0;34m,\u001b[0m\u001b[0merror\u001b[0m\u001b[0;34m,\u001b[0m\u001b[0mr\u001b[0m\u001b[0;34m,\u001b[0m\u001b[0mg\u001b[0m\u001b[0;34m,\u001b[0m\u001b[0;34m\"default\"\u001b[0m\u001b[0;34m,\u001b[0m\u001b[0mnum\u001b[0m\u001b[0;34m,\u001b[0m\u001b[0mrep\u001b[0m\u001b[0;34m,\u001b[0m\u001b[0merror\u001b[0m\u001b[0;34m,\u001b[0m\u001b[0mr\u001b[0m\u001b[0;34m,\u001b[0m\u001b[0mg\u001b[0m\u001b[0;34m)\u001b[0m\u001b[0;34m\u001b[0m\u001b[0m\n\u001b[0m\u001b[1;32m     16\u001b[0m \u001b[0muniqueTp1\u001b[0m\u001b[0;34m,\u001b[0m\u001b[0muniqueFp1\u001b[0m \u001b[0;34m=\u001b[0m \u001b[0mgetTpFpPairedEnds\u001b[0m\u001b[0;34m(\u001b[0m\u001b[0mnum\u001b[0m\u001b[0;34m,\u001b[0m\u001b[0mrep\u001b[0m\u001b[0;34m,\u001b[0m\u001b[0merror\u001b[0m\u001b[0;34m,\u001b[0m\u001b[0mr\u001b[0m\u001b[0;34m,\u001b[0m\u001b[0mg\u001b[0m\u001b[0;34m,\u001b[0m\u001b[0;34m\"unique\"\u001b[0m\u001b[0;34m,\u001b[0m\u001b[0mnum\u001b[0m\u001b[0;34m,\u001b[0m\u001b[0mrep\u001b[0m\u001b[0;34m,\u001b[0m\u001b[0merror\u001b[0m\u001b[0;34m,\u001b[0m\u001b[0mr\u001b[0m\u001b[0;34m,\u001b[0m\u001b[0mg\u001b[0m\u001b[0;34m)\u001b[0m\u001b[0;34m\u001b[0m\u001b[0m\n\u001b[1;32m     17\u001b[0m \u001b[0mmultimapTp1\u001b[0m\u001b[0;34m,\u001b[0m\u001b[0mmultimapFp1\u001b[0m \u001b[0;34m=\u001b[0m \u001b[0mgetTpFpPairedEnds\u001b[0m\u001b[0;34m(\u001b[0m\u001b[0mnum\u001b[0m\u001b[0;34m,\u001b[0m\u001b[0mrep\u001b[0m\u001b[0;34m,\u001b[0m\u001b[0merror\u001b[0m\u001b[0;34m,\u001b[0m\u001b[0mr\u001b[0m\u001b[0;34m,\u001b[0m\u001b[0mg\u001b[0m\u001b[0;34m,\u001b[0m\u001b[0;34m\"multimap\"\u001b[0m\u001b[0;34m,\u001b[0m\u001b[0mnum\u001b[0m\u001b[0;34m,\u001b[0m\u001b[0mrep\u001b[0m\u001b[0;34m,\u001b[0m\u001b[0merror\u001b[0m\u001b[0;34m,\u001b[0m\u001b[0mr\u001b[0m\u001b[0;34m,\u001b[0m\u001b[0mg\u001b[0m\u001b[0;34m)\u001b[0m\u001b[0;34m\u001b[0m\u001b[0m\n",
        "\u001b[0;32m<ipython-input-18-6e5ad472263e>\u001b[0m in \u001b[0;36mgetTpFpPairedEnds\u001b[0;34m(num, rep, e, r, g, mode, rnum, rrep, re, rr, rg)\u001b[0m\n\u001b[1;32m     85\u001b[0m     \u001b[0mnumTotaltmp\u001b[0m \u001b[0;34m=\u001b[0m \u001b[0mopen\u001b[0m\u001b[0;34m(\u001b[0m\u001b[0mtotalDataset\u001b[0m\u001b[0;34m)\u001b[0m\u001b[0;34m.\u001b[0m\u001b[0mread\u001b[0m\u001b[0;34m(\u001b[0m\u001b[0;34m)\u001b[0m\u001b[0;34m.\u001b[0m\u001b[0msplit\u001b[0m\u001b[0;34m(\u001b[0m\u001b[0;34m' '\u001b[0m\u001b[0;34m)\u001b[0m\u001b[0;34m\u001b[0m\u001b[0m\n\u001b[1;32m     86\u001b[0m     \u001b[0mnumTotal\u001b[0m \u001b[0;34m=\u001b[0m \u001b[0mnumTotaltmp\u001b[0m\u001b[0;34m[\u001b[0m\u001b[0;36m1\u001b[0m\u001b[0;34m]\u001b[0m\u001b[0;34m\u001b[0m\u001b[0m\n\u001b[0;32m---> 87\u001b[0;31m     \u001b[0mpercTp\u001b[0m \u001b[0;34m=\u001b[0m \u001b[0mfloat\u001b[0m\u001b[0;34m(\u001b[0m\u001b[0mnumTp\u001b[0m\u001b[0;34m)\u001b[0m \u001b[0;34m/\u001b[0m \u001b[0;34m(\u001b[0m\u001b[0mfloat\u001b[0m\u001b[0;34m(\u001b[0m\u001b[0mtotalNumReads\u001b[0m\u001b[0;34m)\u001b[0m \u001b[0;34m*\u001b[0m \u001b[0;36m2\u001b[0m\u001b[0;34m)\u001b[0m \u001b[0;34m*\u001b[0m \u001b[0;36m100\u001b[0m\u001b[0;34m\u001b[0m\u001b[0m\n\u001b[0m\u001b[1;32m     88\u001b[0m     \u001b[0mpercFp\u001b[0m \u001b[0;34m=\u001b[0m \u001b[0;34m(\u001b[0m\u001b[0mfloat\u001b[0m\u001b[0;34m(\u001b[0m\u001b[0mnumTotal\u001b[0m\u001b[0;34m)\u001b[0m \u001b[0;34m-\u001b[0m \u001b[0mfloat\u001b[0m\u001b[0;34m(\u001b[0m\u001b[0mnumTp\u001b[0m\u001b[0;34m)\u001b[0m\u001b[0;34m)\u001b[0m \u001b[0;34m/\u001b[0m \u001b[0;34m(\u001b[0m\u001b[0mfloat\u001b[0m\u001b[0;34m(\u001b[0m\u001b[0mtotalNumReads\u001b[0m\u001b[0;34m)\u001b[0m \u001b[0;34m*\u001b[0m \u001b[0;36m2\u001b[0m\u001b[0;34m)\u001b[0m \u001b[0;34m*\u001b[0m \u001b[0;36m100\u001b[0m\u001b[0;34m\u001b[0m\u001b[0m\n\u001b[1;32m     89\u001b[0m     \u001b[0;32mreturn\u001b[0m \u001b[0mpercTp\u001b[0m\u001b[0;34m,\u001b[0m \u001b[0mpercFp\u001b[0m\u001b[0;34m\u001b[0m\u001b[0m\n",
        "\u001b[0;31mZeroDivisionError\u001b[0m: float division by zero"
       ]
      }
     ],
     "prompt_number": 19
    },
    {
     "cell_type": "code",
     "collapsed": false,
     "input": [
      "runBowtiePairedEnds(num,rep,error,r,g,\"default\",num,rep,error,r,g)\n",
      "defaultTp1,defaultFp1 = getTpFpPairedEnds(num,rep,error,r,g,\"default\",num,rep,error,r,g)"
     ],
     "language": "python",
     "metadata": {},
     "outputs": [
      {
       "output_type": "stream",
       "stream": "stdout",
       "text": [
        "bowtie DataSet241rep1E1R100G100.Index -f -ff -I 0 -X 1000 -1 DataSet241rep1E1R100G100RandomReadsPair1.fa -2 DataSet241rep1E1R100G100RandomReadsPair2.fa DataSet241rep1E1R100G100_default.map\n",
        "Total num reads: "
       ]
      },
      {
       "ename": "ValueError",
       "evalue": "could not convert string to float: ",
       "output_type": "pyerr",
       "traceback": [
        "\u001b[0;31m---------------------------------------------------------------------------\u001b[0m\n\u001b[0;31mValueError\u001b[0m                                Traceback (most recent call last)",
        "\u001b[0;32m<ipython-input-34-b0a3c6d563e5>\u001b[0m in \u001b[0;36m<module>\u001b[0;34m()\u001b[0m\n\u001b[1;32m      1\u001b[0m \u001b[0mrunBowtiePairedEnds\u001b[0m\u001b[0;34m(\u001b[0m\u001b[0mnum\u001b[0m\u001b[0;34m,\u001b[0m\u001b[0mrep\u001b[0m\u001b[0;34m,\u001b[0m\u001b[0merror\u001b[0m\u001b[0;34m,\u001b[0m\u001b[0mr\u001b[0m\u001b[0;34m,\u001b[0m\u001b[0mg\u001b[0m\u001b[0;34m,\u001b[0m\u001b[0;34m\"default\"\u001b[0m\u001b[0;34m,\u001b[0m\u001b[0mnum\u001b[0m\u001b[0;34m,\u001b[0m\u001b[0mrep\u001b[0m\u001b[0;34m,\u001b[0m\u001b[0merror\u001b[0m\u001b[0;34m,\u001b[0m\u001b[0mr\u001b[0m\u001b[0;34m,\u001b[0m\u001b[0mg\u001b[0m\u001b[0;34m)\u001b[0m\u001b[0;34m\u001b[0m\u001b[0m\n\u001b[0;32m----> 2\u001b[0;31m \u001b[0mdefaultTp1\u001b[0m\u001b[0;34m,\u001b[0m\u001b[0mdefaultFp1\u001b[0m \u001b[0;34m=\u001b[0m \u001b[0mgetTpFpPairedEnds\u001b[0m\u001b[0;34m(\u001b[0m\u001b[0mnum\u001b[0m\u001b[0;34m,\u001b[0m\u001b[0mrep\u001b[0m\u001b[0;34m,\u001b[0m\u001b[0merror\u001b[0m\u001b[0;34m,\u001b[0m\u001b[0mr\u001b[0m\u001b[0;34m,\u001b[0m\u001b[0mg\u001b[0m\u001b[0;34m,\u001b[0m\u001b[0;34m\"default\"\u001b[0m\u001b[0;34m,\u001b[0m\u001b[0mnum\u001b[0m\u001b[0;34m,\u001b[0m\u001b[0mrep\u001b[0m\u001b[0;34m,\u001b[0m\u001b[0merror\u001b[0m\u001b[0;34m,\u001b[0m\u001b[0mr\u001b[0m\u001b[0;34m,\u001b[0m\u001b[0mg\u001b[0m\u001b[0;34m)\u001b[0m\u001b[0;34m\u001b[0m\u001b[0m\n\u001b[0m",
        "\u001b[0;32m<ipython-input-33-ab587c9d9ce0>\u001b[0m in \u001b[0;36mgetTpFpPairedEnds\u001b[0;34m(num, rep, e, r, g, mode, rnum, rrep, re, rr, rg)\u001b[0m\n\u001b[1;32m     96\u001b[0m     \u001b[0;32mprint\u001b[0m \u001b[0;34m\"Num Reads mapped: \"\u001b[0m\u001b[0;34m,\u001b[0m \u001b[0mnumTotal\u001b[0m\u001b[0;34m\u001b[0m\u001b[0m\n\u001b[1;32m     97\u001b[0m     \u001b[0mpercTp\u001b[0m \u001b[0;34m=\u001b[0m \u001b[0mfloat\u001b[0m\u001b[0;34m(\u001b[0m\u001b[0mnumTp\u001b[0m\u001b[0;34m)\u001b[0m \u001b[0;34m/\u001b[0m \u001b[0;34m(\u001b[0m\u001b[0mfloat\u001b[0m\u001b[0;34m(\u001b[0m\u001b[0mtotalNumReads\u001b[0m\u001b[0;34m)\u001b[0m \u001b[0;34m*\u001b[0m \u001b[0;36m2\u001b[0m\u001b[0;34m)\u001b[0m \u001b[0;34m*\u001b[0m \u001b[0;36m100\u001b[0m\u001b[0;34m\u001b[0m\u001b[0m\n\u001b[0;32m---> 98\u001b[0;31m     \u001b[0mpercFp\u001b[0m \u001b[0;34m=\u001b[0m \u001b[0;34m(\u001b[0m\u001b[0mfloat\u001b[0m\u001b[0;34m(\u001b[0m\u001b[0mnumTotal\u001b[0m\u001b[0;34m)\u001b[0m \u001b[0;34m-\u001b[0m \u001b[0mfloat\u001b[0m\u001b[0;34m(\u001b[0m\u001b[0mnumTp\u001b[0m\u001b[0;34m)\u001b[0m\u001b[0;34m)\u001b[0m \u001b[0;34m/\u001b[0m \u001b[0;34m(\u001b[0m\u001b[0mfloat\u001b[0m\u001b[0;34m(\u001b[0m\u001b[0mtotalNumReads\u001b[0m\u001b[0;34m)\u001b[0m \u001b[0;34m*\u001b[0m \u001b[0;36m2\u001b[0m\u001b[0;34m)\u001b[0m \u001b[0;34m*\u001b[0m \u001b[0;36m100\u001b[0m\u001b[0;34m\u001b[0m\u001b[0m\n\u001b[0m\u001b[1;32m     99\u001b[0m     \u001b[0;32mreturn\u001b[0m \u001b[0mpercTp\u001b[0m\u001b[0;34m,\u001b[0m \u001b[0mpercFp\u001b[0m\u001b[0;34m\u001b[0m\u001b[0m\n\u001b[1;32m    100\u001b[0m \u001b[0;34m\u001b[0m\u001b[0m\n",
        "\u001b[0;31mValueError\u001b[0m: could not convert string to float: "
       ]
      },
      {
       "output_type": "stream",
       "stream": "stdout",
       "text": [
        "  1011671\n",
        "\n",
        "Num Tp:         0\n",
        "\n",
        "Num Reads mapped:  \n"
       ]
      }
     ],
     "prompt_number": 34
    },
    {
     "cell_type": "code",
     "collapsed": false,
     "input": [
      "num = \"241\"\n",
      "rep = \"2\"\n",
      "error = \"1\"\n",
      "r = \"100\"\n",
      "g = \"100\"\n",
      "createDataSet(num,rep)\n",
      "!grep '>' DataSet241rep2E1R100G100.fa | wc -l\n",
      "runBowtieBuild(num,rep,error,r,g)\n",
      "runBowtiePairedEnds(num,rep,error,r,g,\"default\",num,rep,error,r,g)\n",
      "runBowtiePairedEnds(num,rep,error,r,g,\"unique\",num,rep,error,r,g)\n",
      "runBowtiePairedEnds(num,rep,error,r,g,\"multimap\",num,rep,error,r,g)\n",
      "getTruePositives(num,rep,error,r,g,\"default\",\"random\")\n",
      "getTruePositives(num,rep,error,r,g,\"unique\",\"random\")\n",
      "getTruePositives(num,rep,error,r,g,\"multimap\",\"random\")\n",
      "defaultTp2,defaultFp2 = getTpFpPairedEnds(num,rep,error,r,g,\"default\",num,rep,error,r,g)\n",
      "uniqueTp2,uniqueFp2 = getTpFpPairedEnds(num,rep,error,r,g,\"unique\",num,rep,error,r,g)\n",
      "multimapTp2,multimapFp2 = getTpFpPairedEnds(num,rep,error,r,g,\"multimap\",num,rep,error,r,g)"
     ],
     "language": "python",
     "metadata": {},
     "outputs": []
    },
    {
     "cell_type": "code",
     "collapsed": false,
     "input": [
      "num = \"241\"\n",
      "rep = \"3\"\n",
      "error = \"1\"\n",
      "r = \"100\"\n",
      "g = \"100\"\n",
      "createDataSet(num,rep)\n",
      "!grep '>' DataSet241rep3E1R100G100.fa | wc -l\n",
      "runBowtieBuild(num,rep,error,r,g)\n",
      "runBowtiePairedEnds(num,rep,error,r,g,\"default\",num,rep,error,r,g)\n",
      "runBowtiePairedEnds(num,rep,error,r,g,\"unique\",num,rep,error,r,g)\n",
      "runBowtiePairedEnds(num,rep,error,r,g,\"multimap\",num,rep,error,r,g)\n",
      "getTruePositives(num,rep,error,r,g,\"default\",\"random\")\n",
      "getTruePositives(num,rep,error,r,g,\"unique\",\"random\")\n",
      "getTruePositives(num,rep,error,r,g,\"multimap\",\"random\")\n",
      "defaultTp3,defaultFp3 = getTpFpPairedEnds(num,rep,error,r,g,\"default\",num,rep,error,r,g)\n",
      "uniqueTp3,uniqueFp3 = getTpFpPairedEnds(num,rep,error,r,g,\"unique\",num,rep,error,r,g)\n",
      "multimapTp3,multimapFp3 = getTpFpPairedEnds(num,rep,error,r,g,\"multimap\",num,rep,error,r,g)"
     ],
     "language": "python",
     "metadata": {},
     "outputs": []
    },
    {
     "cell_type": "code",
     "collapsed": false,
     "input": [
      "defaultTp = [defaultTp1, defaultTp2, defaultTp3]\n",
      "defaultAvgTp = getAverage(defaultTp)\n",
      "print \"Average Default True Positive Percentage: \", defaultAvgTp\n",
      "defaultFp = [defaultFp1, defaultFp2, defaultFp3]\n",
      "defaultAvgFp = getAverage(defaultFp)\n",
      "print \"Average Default False Positive Percentage: \", defaultAvgFp\n",
      "uniqueTp = [uniqueTp1, uniqueTp2, uniqueTp3]\n",
      "uniqueAvgTp = getAverage(uniqueTp)\n",
      "print \"Average Unique True Positive Percentage: \", uniqueAvgTp\n",
      "uniqueFp = [uniqueFp1, uniqueFp2, uniqueFp3]\n",
      "uniqueAvgFp = getAverage(uniqueFp)\n",
      "print \"Average Unique False Positive Percentage: \", uniqueAvgFp\n",
      "multimapTp = [multimapTp1, multimapTp2, multimapTp3]\n",
      "multimapAvgTp = getAverage(multimapTp)\n",
      "print \"Average Multimap True Positive Percentage: \", multimapAvgTp\n",
      "multimapFp = [multimapFp1, multimapFp2, multimapFp3]\n",
      "multimapAvgFp = getAverage(multimapFp)\n",
      "print \"Average Multimap False Positive Percentage: \", multimapAvgFp\n"
     ],
     "language": "python",
     "metadata": {},
     "outputs": []
    },
    {
     "cell_type": "raw",
     "metadata": {},
     "source": [
      "Mouse transcriptome with 5000 randomly selected transcripts, paired end 100:50:100 reads, 20x expression"
     ]
    },
    {
     "cell_type": "code",
     "collapsed": false,
     "input": [
      "num = \"240\"\n",
      "rep = \"1\"\n",
      "error = \"1\"\n",
      "r = \"100\"\n",
      "g = \"100\"\n",
      "createDataSet(num,rep)\n",
      "!grep '>' DataSet240rep1E1R100G100.fa | wc -l\n",
      "runBowtieBuild(num,rep,error,r,g)\n",
      "runBowtiePairedEnds(num,rep,error,r,g,\"default\",num,rep,error,r,g)\n",
      "runBowtiePairedEnds(num,rep,error,r,g,\"unique\",num,rep,error,r,g)\n",
      "runBowtiePairedEnds(num,rep,error,r,g,\"multimap\",num,rep,error,r,g)\n",
      "getTruePositives(num,rep,error,r,g,\"default\",\"mouse\")\n",
      "getTruePositives(num,rep,error,r,g,\"unique\",\"mouse\")\n",
      "getTruePositives(num,rep,error,r,g,\"multimap\",\"mouse\")\n",
      "defaultTp1,defaultFp1 = getTpFpPairedEnds(num,rep,error,r,g,\"default\",num,rep,error,r,g)\n",
      "uniqueTp1,uniqueFp1 = getTpFpPairedEnds(num,rep,error,r,g,\"unique\",num,rep,error,r,g)\n",
      "multimapTp1,multimapFp1 = getTpFpPairedEnds(num,rep,error,r,g,\"multimap\",num,rep,error,r,g)"
     ],
     "language": "python",
     "metadata": {},
     "outputs": [
      {
       "output_type": "stream",
       "stream": "stdout",
       "text": [
        "256\n"
       ]
      }
     ],
     "prompt_number": 49
    },
    {
     "cell_type": "code",
     "collapsed": false,
     "input": [
      "num = \"240\"\n",
      "rep = \"2\"\n",
      "error = \"1\"\n",
      "r = \"100\"\n",
      "g = \"100\"\n",
      "createDataSet(num,rep)\n",
      "!grep '>' DataSet240rep2E1R100G100.fa | wc -l\n",
      "runBowtieBuild(num,rep,error,r,g)\n",
      "runBowtiePairedEnds(num,rep,error,r,g,\"default\",num,rep,error,r,g)\n",
      "runBowtiePairedEnds(num,rep,error,r,g,\"unique\",num,rep,error,r,g)\n",
      "runBowtiePairedEnds(num,rep,error,r,g,\"multimap\",num,rep,error,r,g)\n",
      "getTruePositives(num,rep,error,r,g,\"default\",\"mouse\")\n",
      "getTruePositives(num,rep,error,r,g,\"unique\",\"mouse\")\n",
      "getTruePositives(num,rep,error,r,g,\"multimap\",\"mouse\")\n",
      "defaultTp2,defaultFp2 = getTpFpPairedEnds(num,rep,error,r,g,\"default\",num,rep,error,r,g)\n",
      "uniqueTp2,uniqueFp2 = getTpFpPairedEnds(num,rep,error,r,g,\"unique\",num,rep,error,r,g)\n",
      "multimapTp2,multimapFp2 = getTpFpPairedEnds(num,rep,error,r,g,\"multimap\",num,rep,error,r,g)"
     ],
     "language": "python",
     "metadata": {},
     "outputs": []
    },
    {
     "cell_type": "code",
     "collapsed": false,
     "input": [
      "num = \"240\"\n",
      "rep = \"3\"\n",
      "error = \"1\"\n",
      "r = \"100\"\n",
      "g = \"100\"\n",
      "createDataSet(num,rep)\n",
      "!grep '>' DataSet240rep1E1R100G100.fa | wc -l\n",
      "runBowtieBuild(num,rep,error,r,g)\n",
      "runBowtiePairedEnds(num,rep,error,r,g,\"default\",num,rep,error,r,g)\n",
      "runBowtiePairedEnds(num,rep,error,r,g,\"unique\",num,rep,error,r,g)\n",
      "runBowtiePairedEnds(num,rep,error,r,g,\"multimap\",num,rep,error,r,g)\n",
      "getTruePositives(num,rep,error,r,g,\"default\",\"mouse\")\n",
      "getTruePositives(num,rep,error,r,g,\"unique\",\"mouse\")\n",
      "getTruePositives(num,rep,error,r,g,\"multimap\",\"mouse\")\n",
      "defaultTp3,defaultFp3 = getTpFpPairedEnds(num,rep,error,r,g,\"default\",num,rep,error,r,g)\n",
      "uniqueTp3,uniqueFp3 = getTpFpPairedEnds(num,rep,error,r,g,\"unique\",num,rep,error,r,g)\n",
      "multimapTp3,multimapFp3 = getTpFpPairedEnds(num,rep,error,r,g,\"multimap\",num,rep,error,r,g)"
     ],
     "language": "python",
     "metadata": {},
     "outputs": []
    },
    {
     "cell_type": "code",
     "collapsed": false,
     "input": [
      "defaultTp = [defaultTp1, defaultTp2, defaultTp3]\n",
      "defaultAvgTp = getAverage(defaultTp)\n",
      "print \"Average Default True Positive Percentage: \", defaultAvgTp\n",
      "defaultFp = [defaultFp1, defaultFp2, defaultFp3]\n",
      "defaultAvgFp = getAverage(defaultFp)\n",
      "print \"Average Default False Positive Percentage: \", defaultAvgFp\n",
      "uniqueTp = [uniqueTp1, uniqueTp2, uniqueTp3]\n",
      "uniqueAvgTp = getAverage(uniqueTp)\n",
      "print \"Average Unique True Positive Percentage: \", uniqueAvgTp\n",
      "uniqueFp = [uniqueFp1, uniqueFp2, uniqueFp3]\n",
      "uniqueAvgFp = getAverage(uniqueFp)\n",
      "print \"Average Unique False Positive Percentage: \", uniqueAvgFp\n",
      "multimapTp = [multimapTp1, multimapTp2, multimapTp3]\n",
      "multimapAvgTp = getAverage(multimapTp)\n",
      "print \"Average Multimap True Positive Percentage: \", multimapAvgTp\n",
      "multimapFp = [multimapFp1, multimapFp2, multimapFp3]\n",
      "multimapAvgFp = getAverage(multimapFp)\n",
      "print \"Average Multimap False Positive Percentage: \", multimapAvgFp"
     ],
     "language": "python",
     "metadata": {},
     "outputs": []
    },
    {
     "cell_type": "heading",
     "level": 2,
     "metadata": {},
     "source": [
      "Test 2: Mapping accuracy of read sets generated from small random transcriptomes with artificial isoforms with complete reference"
     ]
    },
    {
     "cell_type": "raw",
     "metadata": {},
     "source": [
      "Random transcriptome with 5000 transcripts, 0% artificial isoforms, single end 100 bp reads, 50x expression"
     ]
    },
    {
     "cell_type": "code",
     "collapsed": false,
     "input": [
      "defaultAvgTp = {}\n",
      "defaultAvgFp = {}\n",
      "uniqueAvgTp = {}\n",
      "uniqueAvgFp = {}\n",
      "multimapAvgTp = {}\n",
      "multimapAvgFp = {}"
     ],
     "language": "python",
     "metadata": {},
     "outputs": [],
     "prompt_number": 78
    },
    {
     "cell_type": "code",
     "collapsed": false,
     "input": [
      "num = \"181\"\n",
      "rep = \"1\"\n",
      "error = \"1\"\n",
      "r = \"100\"\n",
      "g = \"100\"\n"
     ],
     "language": "python",
     "metadata": {},
     "outputs": [],
     "prompt_number": 79
    },
    {
     "cell_type": "code",
     "collapsed": false,
     "input": [
      "createDataSet(num,rep)\n",
      "!grep '>' DataSet181rep1E1R100G100.fa | wc -l\n"
     ],
     "language": "python",
     "metadata": {},
     "outputs": []
    },
    {
     "cell_type": "code",
     "collapsed": false,
     "input": [
      "runBowtieBuild(num,rep,error,r,g)\n",
      "runBowtieAllParams(num,rep,error,r,g,num,rep,error,r,g)\n",
      "getTruePositivesAllParams(num,rep,error,r,g,\"random\")\n",
      "defaultTp = {}\n",
      "defaultFp = {}\n",
      "uniqueTp = {}\n",
      "uniqueFp = {}\n",
      "multimapTp = {}\n",
      "multimapFp = {}\n",
      "defaultTp[rep],defaultFp[rep] = getTpFp(num,rep,error,r,g,\"default\",num,rep,error,r,g)\n",
      "uniqueTp[rep],uniqueFp[rep] = getTpFp(num,rep,error,r,g,\"unique\",num,rep,error,r,g)\n",
      "multimapTp[rep],multimapFp[rep] = getTpFp(num,rep,error,r,g,\"multimap\",num,rep,error,r,g)\n",
      "print defaultTp, defaultFp, uniqueTp, uniqueFp, multimapTp, multimapFp"
     ],
     "language": "python",
     "metadata": {},
     "outputs": [],
     "prompt_number": "*"
    },
    {
     "cell_type": "code",
     "collapsed": false,
     "input": [
      "num = \"181\"\n",
      "rep = \"2\"\n",
      "error = \"1\"\n",
      "r = \"100\"\n",
      "g = \"100\"\n"
     ],
     "language": "python",
     "metadata": {},
     "outputs": [
      {
       "output_type": "stream",
       "stream": "stdout",
       "text": [
        "    5000\r\n"
       ]
      }
     ],
     "prompt_number": 47
    },
    {
     "cell_type": "code",
     "collapsed": false,
     "input": [
      "createDataSet(num,rep)\n",
      "!grep '>' DataSet181rep2E1R100G100.fa | wc -l\n"
     ],
     "language": "python",
     "metadata": {},
     "outputs": []
    },
    {
     "cell_type": "code",
     "collapsed": false,
     "input": [
      "runBowtieBuild(num,rep,error,r,g)\n",
      "runBowtieAllParams(num,rep,error,r,g,num,rep,error,r,g)\n",
      "getTruePositivesAllParams(num,rep,error,r,g,\"random\")\n",
      "defaultTp[rep],defaultFp[rep] = getTpFp(num,rep,error,r,g,\"default\",num,rep,error,r,g)\n",
      "uniqueTp[rep],uniqueFp[rep] = getTpFp(num,rep,error,r,g,\"unique\",num,rep,error,r,g)\n",
      "multimapTp[rep],multimapFp[rep] = getTpFp(num,rep,error,r,g,\"multimap\",num,rep,error,r,g)\n",
      "print defaultTp, defaultFp, uniqueTp, uniqueFp, multimapTp, multimapFp"
     ],
     "language": "python",
     "metadata": {},
     "outputs": []
    },
    {
     "cell_type": "code",
     "collapsed": false,
     "input": [
      "num = \"181\"\n",
      "rep = \"3\"\n",
      "error = \"1\"\n",
      "r = \"100\"\n",
      "g = \"100\"\n"
     ],
     "language": "python",
     "metadata": {},
     "outputs": [
      {
       "output_type": "stream",
       "stream": "stdout",
       "text": [
        "    5000\r\n"
       ]
      }
     ],
     "prompt_number": 48
    },
    {
     "cell_type": "code",
     "collapsed": false,
     "input": [
      "createDataSet(num,rep)\n",
      "!grep '>' DataSet181rep3E1R100G100.fa | wc -l\n"
     ],
     "language": "python",
     "metadata": {},
     "outputs": []
    },
    {
     "cell_type": "code",
     "collapsed": false,
     "input": [
      "runBowtieBuild(num,rep,error,r,g)\n",
      "runBowtieAllParams(num,rep,error,r,g,num,rep,error,r,g)\n",
      "getTruePositivesAllParams(num,rep,error,r,g,\"random\")\n",
      "defaultTp[rep],defaultFp[rep] = getTpFp(num,rep,error,r,g,\"default\",num,rep,error,r,g)\n",
      "uniqueTp[rep],uniqueFp[rep] = getTpFp(num,rep,error,r,g,\"unique\",num,rep,error,r,g)\n",
      "multimapTp[rep],multimapFp[rep] = getTpFp(num,rep,error,r,g,\"multimap\",num,rep,error,r,g)\n",
      "print defaultTp, defaultFp, uniqueTp, uniqueFp, multimapTp, multimapFp"
     ],
     "language": "python",
     "metadata": {},
     "outputs": []
    },
    {
     "cell_type": "code",
     "collapsed": false,
     "input": [
      "id = \"00\"\n",
      "defaultAvgTp[id] = sum([defaultTp[\"1\"], defaultTp[\"2\"], defaultTp[\"3\"]]) / 3\n",
      "print \"Average Default True Positive Percentage: \", defaultAvgTp[id]\n",
      "defaultAvgFp[id] = sum([defaultFp[\"1\"], defaultFp[\"2\"], defaultFp[\"3\"]]) / 3\n",
      "print \"Average Default False Positive Percentage: \", defaultAvgFp[id]\n",
      "uniqueAvgTp[id] = sum([uniqueTp[\"1\"], uniqueTp[\"2\"], uniqueTp[\"3\"]]) / 3\n",
      "print \"Average Unique True Positive Percentage: \", uniqueAvgTp[id]\n",
      "uniqueAvgFp[id] = sum([uniqueFp[\"1\"], uniqueFp[\"2\"], uniqueFp[\"3\"]]) / 3\n",
      "print \"Average Unique False Positive Percentage: \", uniqueAvgFp[id]\n",
      "multimapAvgTp[id] = sum([multimapTp[\"1\"], multimapTp[\"2\"], multimapTp[\"3\"]]) / 3\n",
      "print \"Average Multimap True Positive Percentage: \", multimapAvgTp[id]\n",
      "multimapAvgFp[id] = sum([multimapFp[\"1\"], multimapFp[\"2\"], multimapFp[\"3\"]]) / 3\n",
      "print \"Average Multimap False Positive Percentage: \", multimapAvgFp[id]"
     ],
     "language": "python",
     "metadata": {},
     "outputs": [
      {
       "output_type": "stream",
       "stream": "stdout",
       "text": [
        "Average Default True Positive Percentage:  89.1450256049\n",
        "Average Default False Positive Percentage:  2.92797153003\n",
        "Average Unique True Positive Percentage:  86.3889761058\n",
        "Average Unique False Positive Percentage:  2.09915175377e-05\n",
        "Average Multimap True Positive Percentage:  92.0729761434\n",
        "Average Multimap False Positive Percentage:  6.27882638415\n"
       ]
      }
     ],
     "prompt_number": 74
    },
    {
     "cell_type": "raw",
     "metadata": {},
     "source": [
      "Random transcriptome with 5000 transcripts, 5% artificial isoforms, single end 100 bp reads, 50x expression"
     ]
    },
    {
     "cell_type": "code",
     "collapsed": false,
     "input": [
      "num = \"182\"\n",
      "rep = \"1\"\n",
      "error = \"1\"\n",
      "r = \"100\"\n",
      "g = \"100\"\n"
     ],
     "language": "python",
     "metadata": {},
     "outputs": [
      {
       "output_type": "stream",
       "stream": "stdout",
       "text": [
        "    5000\r\n"
       ]
      },
      {
       "output_type": "stream",
       "stream": "stdout",
       "text": [
        "{'1': 89.18270663109202}"
       ]
      },
      {
       "output_type": "stream",
       "stream": "stdout",
       "text": [
        " {'1': 2.889290117881246} {'1': 86.4835536572317} {'1': 0.0} {'1': 92.07199674897326} {'1': 6.216737428202027}\n"
       ]
      }
     ],
     "prompt_number": 55
    },
    {
     "cell_type": "code",
     "collapsed": false,
     "input": [
      "createDataSet(num,rep)\n",
      "!grep '>' DataSet182rep1E1R100G100.fa | wc -l\n"
     ],
     "language": "python",
     "metadata": {},
     "outputs": []
    },
    {
     "cell_type": "code",
     "collapsed": false,
     "input": [
      "defaultTp = {}\n",
      "defaultFp = {}\n",
      "uniqueTp = {}\n",
      "uniqueFp = {}\n",
      "multimapTp = {}\n",
      "multimapFp = {}\n",
      "runBowtieBuild(num,rep,error,r,g)\n",
      "runBowtieAllParams(num,rep,error,r,g,num,rep,error,r,g)\n",
      "getTruePositivesAllParams(num,rep,error,r,g,\"random\")\n",
      "defaultTp[rep],defaultFp[rep] = getTpFp(num,rep,error,r,g,\"default\",num,rep,error,r,g)\n",
      "uniqueTp[rep],uniqueFp[rep] = getTpFp(num,rep,error,r,g,\"unique\",num,rep,error,r,g)\n",
      "multimapTp[rep],multimapFp[rep] = getTpFp(num,rep,error,r,g,\"multimap\",num,rep,error,r,g)\n",
      "print defaultTp, defaultFp, uniqueTp, uniqueFp, multimapTp, multimapFp"
     ],
     "language": "python",
     "metadata": {},
     "outputs": []
    },
    {
     "cell_type": "code",
     "collapsed": false,
     "input": [
      "num = \"182\"\n",
      "rep = \"2\"\n",
      "error = \"1\"\n",
      "r = \"100\"\n",
      "g = \"100\"\n"
     ],
     "language": "python",
     "metadata": {},
     "outputs": [
      {
       "output_type": "stream",
       "stream": "stdout",
       "text": [
        "    5000\r\n"
       ]
      },
      {
       "output_type": "stream",
       "stream": "stdout",
       "text": [
        "{'1': 89.18270663109202, '2': 88.7980236066408}"
       ]
      },
      {
       "output_type": "stream",
       "stream": "stdout",
       "text": [
        " {'1': 2.889290117881246, '2': 3.2793368527711633} {'1': 86.4835536572317, '2': 85.70449317135439} {'1': 0.0, '2': 6.29745526130346e-05} {'1': 92.07199674897326, '2': 92.07729748485934} {'1': 6.216737428202027, '2': 6.978997356958026}\n"
       ]
      }
     ],
     "prompt_number": 56
    },
    {
     "cell_type": "code",
     "collapsed": false,
     "input": [
      "createDataSet(num,rep)\n",
      "!grep '>' DataSet182rep2E1R100G100.fa | wc -l\n"
     ],
     "language": "python",
     "metadata": {},
     "outputs": []
    },
    {
     "cell_type": "code",
     "collapsed": false,
     "input": [
      "runBowtieBuild(num,rep,error,r,g)\n",
      "runBowtieAllParams(num,rep,error,r,g,num,rep,error,r,g)\n",
      "getTruePositivesAllParams(num,rep,error,r,g,\"random\")\n",
      "defaultTp[rep],defaultFp[rep] = getTpFp(num,rep,error,r,g,\"default\",num,rep,error,r,g)\n",
      "uniqueTp[rep],uniqueFp[rep] = getTpFp(num,rep,error,r,g,\"unique\",num,rep,error,r,g)\n",
      "multimapTp[rep],multimapFp[rep] = getTpFp(num,rep,error,r,g,\"multimap\",num,rep,error,r,g)\n",
      "print defaultTp, defaultFp, uniqueTp, uniqueFp, multimapTp, multimapFp"
     ],
     "language": "python",
     "metadata": {},
     "outputs": []
    },
    {
     "cell_type": "code",
     "collapsed": false,
     "input": [
      "num = \"182\"\n",
      "rep = \"3\"\n",
      "error = \"1\"\n",
      "r = \"100\"\n",
      "g = \"100\"\n"
     ],
     "language": "python",
     "metadata": {},
     "outputs": [
      {
       "output_type": "stream",
       "stream": "stdout",
       "text": [
        "    5000\r\n"
       ]
      },
      {
       "output_type": "stream",
       "stream": "stdout",
       "text": [
        "{'1': 89.18270663109202, '3': 89.45434657704958, '2': 88.7980236066408}"
       ]
      },
      {
       "output_type": "stream",
       "stream": "stdout",
       "text": [
        " {'1': 2.889290117881246, '3': 2.6152876194389445, '2': 3.2793368527711633} {'1': 86.4835536572317, '3': 86.97888148886021, '2': 85.70449317135439} {'1': 0.0, '3': 0.0, '2': 6.29745526130346e-05} {'1': 92.07199674897326, '3': 92.06963419648851, '2': 92.07729748485934} {'1': 6.216737428202027, '3': 5.640744367281842, '2': 6.978997356958026}\n"
       ]
      }
     ],
     "prompt_number": 57
    },
    {
     "cell_type": "code",
     "collapsed": false,
     "input": [
      "createDataSet(num,rep)\n",
      "!grep '>' DataSet182rep3E1R100G100.fa | wc -l\n"
     ],
     "language": "python",
     "metadata": {},
     "outputs": []
    },
    {
     "cell_type": "code",
     "collapsed": false,
     "input": [
      "runBowtieBuild(num,rep,error,r,g)\n",
      "runBowtieAllParams(num,rep,error,r,g,num,rep,error,r,g)\n",
      "getTruePositivesAllParams(num,rep,error,r,g,\"random\")\n",
      "defaultTp[rep],defaultFp[rep] = getTpFp(num,rep,error,r,g,\"default\",num,rep,error,r,g)\n",
      "uniqueTp[rep],uniqueFp[rep] = getTpFp(num,rep,error,r,g,\"unique\",num,rep,error,r,g)\n",
      "multimapTp[rep],multimapFp[rep] = getTpFp(num,rep,error,r,g,\"multimap\",num,rep,error,r,g)\n",
      "print defaultTp, defaultFp, uniqueTp, uniqueFp, multimapTp, multimapFp"
     ],
     "language": "python",
     "metadata": {},
     "outputs": []
    },
    {
     "cell_type": "code",
     "collapsed": false,
     "input": [
      "id = \"05\"\n",
      "defaultAvgTp[id] = sum([defaultTp[\"1\"], defaultTp[\"2\"], defaultTp[\"3\"]]) / 3\n",
      "print \"Average Default True Positive Percentage: \", defaultAvgTp[id]\n",
      "defaultAvgFp[id] = sum([defaultFp[\"1\"], defaultFp[\"2\"], defaultFp[\"3\"]]) / 3\n",
      "print \"Average Default False Positive Percentage: \", defaultAvgFp[id]\n",
      "uniqueAvgTp[id] = sum([uniqueTp[\"1\"], uniqueTp[\"2\"], uniqueTp[\"3\"]]) / 3\n",
      "print \"Average Unique True Positive Percentage: \", uniqueAvgTp[id]\n",
      "uniqueAvgFp[id] = sum([uniqueFp[\"1\"], uniqueFp[\"2\"], uniqueFp[\"3\"]]) / 3\n",
      "print \"Average Unique False Positive Percentage: \", uniqueAvgFp[id]\n",
      "multimapAvgTp[id] = sum([multimapTp[\"1\"], multimapTp[\"2\"], multimapTp[\"3\"]]) / 3\n",
      "print \"Average Multimap True Positive Percentage: \", multimapAvgTp[id]\n",
      "multimapAvgFp[id] = sum([multimapFp[\"1\"], multimapFp[\"2\"], multimapFp[\"3\"]]) / 3\n",
      "print \"Average Multimap False Positive Percentage: \", multimapAvgFp[id]"
     ],
     "language": "python",
     "metadata": {},
     "outputs": [
      {
       "output_type": "stream",
       "stream": "stdout",
       "text": [
        "Average Default True Positive Percentage:  89.1450256049\n",
        "Average Default False Positive Percentage:  2.92797153003\n",
        "Average Unique True Positive Percentage:  86.3889761058\n",
        "Average Unique False Positive Percentage:  2.09915175377e-05\n",
        "Average Multimap True Positive Percentage:  92.0729761434\n",
        "Average Multimap False Positive Percentage:  6.27882638415\n"
       ]
      }
     ],
     "prompt_number": 73
    },
    {
     "cell_type": "raw",
     "metadata": {},
     "source": [
      "Random transcriptome with 5000 transcripts, 10% artificial isoforms, single end 100 bp reads, 50x expression"
     ]
    },
    {
     "cell_type": "code",
     "collapsed": false,
     "input": [
      "num = \"183\"\n",
      "rep = \"1\"\n",
      "error = \"1\"\n",
      "r = \"100\"\n",
      "g = \"100\"\n"
     ],
     "language": "python",
     "metadata": {},
     "outputs": []
    },
    {
     "cell_type": "code",
     "collapsed": false,
     "input": [
      "createDataSet(num,rep)\n",
      "!grep '>' DataSet183rep1E1R100G100.fa | wc -l\n"
     ],
     "language": "python",
     "metadata": {},
     "outputs": []
    },
    {
     "cell_type": "code",
     "collapsed": false,
     "input": [
      "defaultTp = {}\n",
      "defaultFp = {}\n",
      "uniqueTp = {}\n",
      "uniqueFp = {}\n",
      "multimapTp = {}\n",
      "multimapFp = {}\n",
      "runBowtieAllParams(num,rep,error,r,g,num,rep,error,r,g)\n",
      "getTruePositivesAllParams(num,rep,error,r,g,\"random\")\n",
      "defaultTp[rep],defaultFp[rep] = getTpFp(num,rep,error,r,g,\"default\",num,rep,error,r,g)\n",
      "uniqueTp[rep],uniqueFp[rep] = getTpFp(num,rep,error,r,g,\"unique\",num,rep,error,r,g)\n",
      "multimapTp[rep],multimapFp[rep] = getTpFp(num,rep,error,r,g,\"multimap\",num,rep,error,r,g)\n",
      "print defaultTp, defaultFp, uniqueTp, uniqueFp, multimapTp, multimapFp"
     ],
     "language": "python",
     "metadata": {},
     "outputs": []
    },
    {
     "cell_type": "code",
     "collapsed": false,
     "input": [
      "num = \"183\"\n",
      "rep = \"2\"\n",
      "error = \"1\"\n",
      "r = \"100\"\n",
      "g = \"100\"\n"
     ],
     "language": "python",
     "metadata": {},
     "outputs": []
    },
    {
     "cell_type": "code",
     "collapsed": false,
     "input": [
      "createDataSet(num,rep)\n",
      "!grep '>' DataSet183rep2E1R100G100.fa | wc -l\n"
     ],
     "language": "python",
     "metadata": {},
     "outputs": []
    },
    {
     "cell_type": "code",
     "collapsed": false,
     "input": [
      "runBowtieBuild(num,rep,error,r,g)\n",
      "runBowtieAllParams(num,rep,error,r,g,num,rep,error,r,g)\n",
      "getTruePositivesAllParams(num,rep,error,r,g,\"random\")\n",
      "defaultTp[rep],defaultFp[rep] = getTpFp(num,rep,error,r,g,\"default\",num,rep,error,r,g)\n",
      "uniqueTp[rep],uniqueFp[rep] = getTpFp(num,rep,error,r,g,\"unique\",num,rep,error,r,g)\n",
      "multimapTp[rep],multimapFp[rep] = getTpFp(num,rep,error,r,g,\"multimap\",num,rep,error,r,g)\n",
      "print defaultTp, defaultFp, uniqueTp, uniqueFp, multimapTp, multimapFp"
     ],
     "language": "python",
     "metadata": {},
     "outputs": []
    },
    {
     "cell_type": "code",
     "collapsed": false,
     "input": [
      "num = \"183\"\n",
      "rep = \"3\"\n",
      "error = \"1\"\n",
      "r = \"100\"\n",
      "g = \"100\"\n"
     ],
     "language": "python",
     "metadata": {},
     "outputs": []
    },
    {
     "cell_type": "code",
     "collapsed": false,
     "input": [
      "createDataSet(num,rep)\n",
      "!grep '>' DataSet183rep3E1R100G100.fa | wc -l\n"
     ],
     "language": "python",
     "metadata": {},
     "outputs": []
    },
    {
     "cell_type": "code",
     "collapsed": false,
     "input": [
      "runBowtieBuild(num,rep,error,r,g)\n",
      "runBowtieAllParams(num,rep,error,r,g,num,rep,error,r,g)\n",
      "getTruePositivesAllParams(num,rep,error,r,g,\"random\")\n",
      "defaultTp[rep],defaultFp[rep] = getTpFp(num,rep,error,r,g,\"default\",num,rep,error,r,g)\n",
      "uniqueTp[rep],uniqueFp[rep] = getTpFp(num,rep,error,r,g,\"unique\",num,rep,error,r,g)\n",
      "multimapTp[rep],multimapFp[rep] = getTpFp(num,rep,error,r,g,\"multimap\",num,rep,error,r,g)\n",
      "print defaultTp, defaultFp, uniqueTp, uniqueFp, multimapTp, multimapFp"
     ],
     "language": "python",
     "metadata": {},
     "outputs": []
    },
    {
     "cell_type": "code",
     "collapsed": false,
     "input": [
      "id = \"10\"\n",
      "defaultAvgTp[id] = sum([defaultTp[\"1\"], defaultTp[\"2\"], defaultTp[\"3\"]]) / 3\n",
      "print \"Average Default True Positive Percentage: \", defaultAvgTp[id]\n",
      "defaultAvgFp[id] = sum([defaultFp[\"1\"], defaultFp[\"2\"], defaultFp[\"3\"]]) / 3\n",
      "print \"Average Default False Positive Percentage: \", defaultAvgFp[id]\n",
      "uniqueAvgTp[id] = sum([uniqueTp[\"1\"], uniqueTp[\"2\"], uniqueTp[\"3\"]]) / 3\n",
      "print \"Average Unique True Positive Percentage: \", uniqueAvgTp[id]\n",
      "uniqueAvgFp[id] = sum([uniqueFp[\"1\"], uniqueFp[\"2\"], uniqueFp[\"3\"]]) / 3\n",
      "print \"Average Unique False Positive Percentage: \", uniqueAvgFp[id]\n",
      "multimapAvgTp[id] = sum([multimapTp[\"1\"], multimapTp[\"2\"], multimapTp[\"3\"]]) / 3\n",
      "print \"Average Multimap True Positive Percentage: \", multimapAvgTp[id]\n",
      "multimapAvgFp[id] = sum([multimapFp[\"1\"], multimapFp[\"2\"], multimapFp[\"3\"]]) / 3\n",
      "print \"Average Multimap False Positive Percentage: \", multimapAvgFp[id]"
     ],
     "language": "python",
     "metadata": {},
     "outputs": []
    },
    {
     "cell_type": "raw",
     "metadata": {},
     "source": [
      "Random transcriptome with 5000 transcripts, 15% artificial isoforms, single end 100 bp reads, 50x expression"
     ]
    },
    {
     "cell_type": "code",
     "collapsed": false,
     "input": [
      "num = \"184\"\n",
      "rep = \"1\"\n",
      "error = \"1\"\n",
      "r = \"100\"\n",
      "g = \"100\"\n",
      "createDataSet(num,rep)\n",
      "!grep '>' DataSet184rep1E1R100G100.fa | wc -l\n",
      "runBowtieBuild(num,rep,error,r,g)\n",
      "defaultTp = {}\n",
      "defaultFp = {}\n",
      "uniqueTp = {}\n",
      "uniqueFp = {}\n",
      "multimapTp = {}\n",
      "multimapFp = {}\n",
      "runBowtieAllParams(num,rep,error,r,g,num,rep,error,r,g)\n",
      "getTruePositivesAllParams(num,rep,error,r,g,\"random\")\n",
      "defaultTp[rep],defaultFp[rep] = getTpFp(num,rep,error,r,g,\"default\",num,rep,error,r,g)\n",
      "uniqueTp[rep],uniqueFp[rep] = getTpFp(num,rep,error,r,g,\"unique\",num,rep,error,r,g)\n",
      "multimapTp[rep],multimapFp[rep] = getTpFp(num,rep,error,r,g,\"multimap\",num,rep,error,r,g)\n",
      "print defaultTp, defaultFp, uniqueTp, uniqueFp, multimapTp, multimapFp"
     ],
     "language": "python",
     "metadata": {},
     "outputs": []
    },
    {
     "cell_type": "code",
     "collapsed": false,
     "input": [
      "num = \"184\"\n",
      "rep = \"2\"\n",
      "error = \"1\"\n",
      "r = \"100\"\n",
      "g = \"100\"\n",
      "createDataSet(num,rep)\n",
      "!grep '>' DataSet184rep2E1R100G100.fa | wc -l\n",
      "runBowtieBuild(num,rep,error,r,g)\n",
      "runBowtieAllParams(num,rep,error,r,g,num,rep,error,r,g)\n",
      "getTruePositivesAllParams(num,rep,error,r,g,\"random\")\n",
      "defaultTp[rep],defaultFp[rep] = getTpFp(num,rep,error,r,g,\"default\",num,rep,error,r,g)\n",
      "uniqueTp[rep],uniqueFp[rep] = getTpFp(num,rep,error,r,g,\"unique\",num,rep,error,r,g)\n",
      "multimapTp[rep],multimapFp[rep] = getTpFp(num,rep,error,r,g,\"multimap\",num,rep,error,r,g)\n",
      "print defaultTp, defaultFp, uniqueTp, uniqueFp, multimapTp, multimapFp"
     ],
     "language": "python",
     "metadata": {},
     "outputs": []
    },
    {
     "cell_type": "code",
     "collapsed": false,
     "input": [
      "num = \"184\"\n",
      "rep = \"3\"\n",
      "error = \"1\"\n",
      "r = \"100\"\n",
      "g = \"100\"\n",
      "createDataSet(num,rep)\n",
      "!grep '>' DataSet184rep3E1R100G100.fa | wc -l\n",
      "runBowtieBuild(num,rep,error,r,g)\n",
      "runBowtieAllParams(num,rep,error,r,g,num,rep,error,r,g)\n",
      "getTruePositivesAllParams(num,rep,error,r,g,\"random\")\n",
      "defaultTp[rep],defaultFp[rep] = getTpFp(num,rep,error,r,g,\"default\",num,rep,error,r,g)\n",
      "uniqueTp[rep],uniqueFp[rep] = getTpFp(num,rep,error,r,g,\"unique\",num,rep,error,r,g)\n",
      "multimapTp[rep],multimapFp[rep] = getTpFp(num,rep,error,r,g,\"multimap\",num,rep,error,r,g)\n",
      "print defaultTp, defaultFp, uniqueTp, uniqueFp, multimapTp, multimapFp"
     ],
     "language": "python",
     "metadata": {},
     "outputs": []
    },
    {
     "cell_type": "code",
     "collapsed": false,
     "input": [
      "id = \"15\"\n",
      "defaultAvgTp[id] = sum([defaultTp[\"1\"], defaultTp[\"2\"], defaultTp[\"3\"]]) / 3\n",
      "print \"Average Default True Positive Percentage: \", defaultAvgTp[id]\n",
      "defaultAvgFp[id] = sum([defaultFp[\"1\"], defaultFp[\"2\"], defaultFp[\"3\"]]) / 3\n",
      "print \"Average Default False Positive Percentage: \", defaultAvgFp[id]\n",
      "uniqueAvgTp[id] = sum([uniqueTp[\"1\"], uniqueTp[\"2\"], uniqueTp[\"3\"]]) / 3\n",
      "print \"Average Unique True Positive Percentage: \", uniqueAvgTp[id]\n",
      "uniqueAvgFp[id] = sum([uniqueFp[\"1\"], uniqueFp[\"2\"], uniqueFp[\"3\"]]) / 3\n",
      "print \"Average Unique False Positive Percentage: \", uniqueAvgFp[id]\n",
      "multimapAvgTp[id] = sum([multimapTp[\"1\"], multimapTp[\"2\"], multimapTp[\"3\"]]) / 3\n",
      "print \"Average Multimap True Positive Percentage: \", multimapAvgTp[id]\n",
      "multimapAvgFp[id] = sum([multimapFp[\"1\"], multimapFp[\"2\"], multimapFp[\"3\"]]) / 3\n",
      "print \"Average Multimap False Positive Percentage: \", multimapAvgFp[id]"
     ],
     "language": "python",
     "metadata": {},
     "outputs": []
    },
    {
     "cell_type": "raw",
     "metadata": {},
     "source": [
      "Random transcriptome with 5000 transcripts, 20% artificial isoforms, single end 100 bp reads, 50x expression"
     ]
    },
    {
     "cell_type": "code",
     "collapsed": false,
     "input": [
      "num = \"185\"\n",
      "rep = \"1\"\n",
      "error = \"1\"\n",
      "r = \"100\"\n",
      "g = \"100\"\n",
      "createDataSet(num,rep)\n",
      "!grep '>' DataSet185rep1E1R100G100.fa | wc -l\n",
      "runBowtieBuild(num,rep,error,r,g)\n",
      "defaultTp = {}\n",
      "defaultFp = {}\n",
      "uniqueTp = {}\n",
      "uniqueFp = {}\n",
      "multimapTp = {}\n",
      "multimapFp = {}\n",
      "runBowtieAllParams(num,rep,error,r,g,num,rep,error,r,g)\n",
      "getTruePositivesAllParams(num,rep,error,r,g,\"random\")\n",
      "defaultTp[rep],defaultFp[rep] = getTpFp(num,rep,error,r,g,\"default\",num,rep,error,r,g)\n",
      "uniqueTp[rep],uniqueFp[rep] = getTpFp(num,rep,error,r,g,\"unique\",num,rep,error,r,g)\n",
      "multimapTp[rep],multimapFp[rep] = getTpFp(num,rep,error,r,g,\"multimap\",num,rep,error,r,g)\n",
      "print defaultTp, defaultFp, uniqueTp, uniqueFp, multimapTp, multimapFp"
     ],
     "language": "python",
     "metadata": {},
     "outputs": []
    },
    {
     "cell_type": "code",
     "collapsed": false,
     "input": [
      "num = \"185\"\n",
      "rep = \"2\"\n",
      "error = \"1\"\n",
      "r = \"100\"\n",
      "g = \"100\"\n",
      "createDataSet(num,rep)\n",
      "!grep '>' DataSet185rep2E1R100G100.fa | wc -l\n",
      "runBowtieBuild(num,rep,error,r,g)\n",
      "runBowtieAllParams(num,rep,error,r,g,num,rep,error,r,g)\n",
      "getTruePositivesAllParams(num,rep,error,r,g,\"random\")\n",
      "defaultTp[rep],defaultFp[rep] = getTpFp(num,rep,error,r,g,\"default\",num,rep,error,r,g)\n",
      "uniqueTp[rep],uniqueFp[rep] = getTpFp(num,rep,error,r,g,\"unique\",num,rep,error,r,g)\n",
      "multimapTp[rep],multimapFp[rep] = getTpFp(num,rep,error,r,g,\"multimap\",num,rep,error,r,g)\n",
      "print defaultTp, defaultFp, uniqueTp, uniqueFp, multimapTp, multimapFp"
     ],
     "language": "python",
     "metadata": {},
     "outputs": []
    },
    {
     "cell_type": "code",
     "collapsed": false,
     "input": [
      "num = \"185\"\n",
      "rep = \"3\"\n",
      "error = \"1\"\n",
      "r = \"100\"\n",
      "g = \"100\"\n",
      "createDataSet(num,rep)\n",
      "!grep '>' DataSet185rep3E1R100G100.fa | wc -l\n",
      "runBowtieBuild(num,rep,error,r,g)\n",
      "runBowtieAllParams(num,rep,error,r,g,num,rep,error,r,g)\n",
      "getTruePositivesAllParams(num,rep,error,r,g,\"random\")\n",
      "defaultTp[rep],defaultFp[rep] = getTpFp(num,rep,error,r,g,\"default\",num,rep,error,r,g)\n",
      "uniqueTp[rep],uniqueFp[rep] = getTpFp(num,rep,error,r,g,\"unique\",num,rep,error,r,g)\n",
      "multimapTp[rep],multimapFp[rep] = getTpFp(num,rep,error,r,g,\"multimap\",num,rep,error,r,g)\n",
      "print defaultTp, defaultFp, uniqueTp, uniqueFp, multimapTp, multimapFp"
     ],
     "language": "python",
     "metadata": {},
     "outputs": []
    },
    {
     "cell_type": "code",
     "collapsed": false,
     "input": [
      "id = \"20\"\n",
      "defaultAvgTp[id] = sum([defaultTp[\"1\"], defaultTp[\"2\"], defaultTp[\"3\"]]) / 3\n",
      "print \"Average Default True Positive Percentage: \", defaultAvgTp[id]\n",
      "defaultAvgFp[id] = sum([defaultFp[\"1\"], defaultFp[\"2\"], defaultFp[\"3\"]]) / 3\n",
      "print \"Average Default False Positive Percentage: \", defaultAvgFp[id]\n",
      "uniqueAvgTp[id] = sum([uniqueTp[\"1\"], uniqueTp[\"2\"], uniqueTp[\"3\"]]) / 3\n",
      "print \"Average Unique True Positive Percentage: \", uniqueAvgTp[id]\n",
      "uniqueAvgFp[id] = sum([uniqueFp[\"1\"], uniqueFp[\"2\"], uniqueFp[\"3\"]]) / 3\n",
      "print \"Average Unique False Positive Percentage: \", uniqueAvgFp[id]\n",
      "multimapAvgTp[id] = sum([multimapTp[\"1\"], multimapTp[\"2\"], multimapTp[\"3\"]]) / 3\n",
      "print \"Average Multimap True Positive Percentage: \", multimapAvgTp[id]\n",
      "multimapAvgFp[id] = sum([multimapFp[\"1\"], multimapFp[\"2\"], multimapFp[\"3\"]]) / 3\n",
      "print \"Average Multimap False Positive Percentage: \", multimapAvgFp[id]"
     ],
     "language": "python",
     "metadata": {},
     "outputs": []
    },
    {
     "cell_type": "raw",
     "metadata": {},
     "source": [
      "Random transcriptome with 5000 transcripts, 25% artificial isoforms, single end 100 bp reads, 50x expression"
     ]
    },
    {
     "cell_type": "code",
     "collapsed": false,
     "input": [
      "num = \"186\"\n",
      "rep = \"1\"\n",
      "error = \"1\"\n",
      "r = \"100\"\n",
      "g = \"100\"\n",
      "createDataSet(num,rep)\n",
      "!grep '>' DataSet186rep1E1R100G100.fa | wc -l\n",
      "runBowtieBuild(num,rep,error,r,g)\n",
      "defaultTp = {}\n",
      "defaultFp = {}\n",
      "uniqueTp = {}\n",
      "uniqueFp = {}\n",
      "multimapTp = {}\n",
      "multimapFp = {}\n",
      "runBowtieAllParams(num,rep,error,r,g,num,rep,error,r,g)\n",
      "getTruePositivesAllParams(num,rep,error,r,g,\"random\")\n",
      "defaultTp[rep],defaultFp[rep] = getTpFp(num,rep,error,r,g,\"default\",num,rep,error,r,g)\n",
      "uniqueTp[rep],uniqueFp[rep] = getTpFp(num,rep,error,r,g,\"unique\",num,rep,error,r,g)\n",
      "multimapTp[rep],multimapFp[rep] = getTpFp(num,rep,error,r,g,\"multimap\",num,rep,error,r,g)\n",
      "print defaultTp, defaultFp, uniqueTp, uniqueFp, multimapTp, multimapFp"
     ],
     "language": "python",
     "metadata": {},
     "outputs": []
    },
    {
     "cell_type": "code",
     "collapsed": false,
     "input": [
      "num = \"186\"\n",
      "rep = \"2\"\n",
      "error = \"1\"\n",
      "r = \"100\"\n",
      "g = \"100\"\n",
      "createDataSet(num,rep)\n",
      "!grep '>' DataSet186rep2E1R100G100.fa | wc -l\n",
      "runBowtieBuild(num,rep,error,r,g)\n",
      "runBowtieAllParams(num,rep,error,r,g,num,rep,error,r,g)\n",
      "getTruePositivesAllParams(num,rep,error,r,g,\"random\")\n",
      "defaultTp[rep],defaultFp[rep] = getTpFp(num,rep,error,r,g,\"default\",num,rep,error,r,g)\n",
      "uniqueTp[rep],uniqueFp[rep] = getTpFp(num,rep,error,r,g,\"unique\",num,rep,error,r,g)\n",
      "multimapTp[rep],multimapFp[rep] = getTpFp(num,rep,error,r,g,\"multimap\",num,rep,error,r,g)\n",
      "print defaultTp, defaultFp, uniqueTp, uniqueFp, multimapTp, multimapFp"
     ],
     "language": "python",
     "metadata": {},
     "outputs": []
    },
    {
     "cell_type": "code",
     "collapsed": false,
     "input": [
      "num = \"186\"\n",
      "rep = \"3\"\n",
      "error = \"1\"\n",
      "r = \"100\"\n",
      "g = \"100\"\n",
      "createDataSet(num,rep)\n",
      "!grep '>' DataSet186rep3E1R100G100.fa | wc -l\n",
      "runBowtieBuild(num,rep,error,r,g)\n",
      "runBowtieAllParams(num,rep,error,r,g,num,rep,error,r,g)\n",
      "getTruePositivesAllParams(num,rep,error,r,g,\"random\")\n",
      "defaultTp[rep],defaultFp[rep] = getTpFp(num,rep,error,r,g,\"default\",num,rep,error,r,g)\n",
      "uniqueTp[rep],uniqueFp[rep] = getTpFp(num,rep,error,r,g,\"unique\",num,rep,error,r,g)\n",
      "multimapTp[rep],multimapFp[rep] = getTpFp(num,rep,error,r,g,\"multimap\",num,rep,error,r,g)\n",
      "print defaultTp, defaultFp, uniqueTp, uniqueFp, multimapTp, multimapFp"
     ],
     "language": "python",
     "metadata": {},
     "outputs": []
    },
    {
     "cell_type": "code",
     "collapsed": false,
     "input": [
      "id = \"25\"\n",
      "defaultAvgTp[id] = sum([defaultTp[\"1\"], defaultTp[\"2\"], defaultTp[\"3\"]]) / 3\n",
      "print \"Average Default True Positive Percentage: \", defaultAvgTp[id]\n",
      "defaultAvgFp[id] = sum([defaultFp[\"1\"], defaultFp[\"2\"], defaultFp[\"3\"]]) / 3\n",
      "print \"Average Default False Positive Percentage: \", defaultAvgFp[id]\n",
      "uniqueAvgTp[id] = sum([uniqueTp[\"1\"], uniqueTp[\"2\"], uniqueTp[\"3\"]]) / 3\n",
      "print \"Average Unique True Positive Percentage: \", uniqueAvgTp[id]\n",
      "uniqueAvgFp[id] = sum([uniqueFp[\"1\"], uniqueFp[\"2\"], uniqueFp[\"3\"]]) / 3\n",
      "print \"Average Unique False Positive Percentage: \", uniqueAvgFp[id]\n",
      "multimapAvgTp[id] = sum([multimapTp[\"1\"], multimapTp[\"2\"], multimapTp[\"3\"]]) / 3\n",
      "print \"Average Multimap True Positive Percentage: \", multimapAvgTp[id]\n",
      "multimapAvgFp[id] = sum([multimapFp[\"1\"], multimapFp[\"2\"], multimapFp[\"3\"]]) / 3\n",
      "print \"Average Multimap False Positive Percentage: \", multimapAvgFp[id]"
     ],
     "language": "python",
     "metadata": {},
     "outputs": []
    },
    {
     "cell_type": "raw",
     "metadata": {},
     "source": [
      "Random transcriptome with 5000 transcripts, 30% artificial isoforms, single end 100 bp reads, 50x expression"
     ]
    },
    {
     "cell_type": "code",
     "collapsed": false,
     "input": [
      "num = \"187\"\n",
      "rep = \"1\"\n",
      "error = \"1\"\n",
      "r = \"100\"\n",
      "g = \"100\"\n",
      "createDataSet(num,rep)\n",
      "!grep '>' DataSet187rep1E1R100G100.fa | wc -l\n",
      "runBowtieBuild(num,rep,error,r,g)\n",
      "defaultTp = {}\n",
      "defaultFp = {}\n",
      "uniqueTp = {}\n",
      "uniqueFp = {}\n",
      "multimapTp = {}\n",
      "multimapFp = {}\n",
      "runBowtieAllParams(num,rep,error,r,g,num,rep,error,r,g)\n",
      "getTruePositivesAllParams(num,rep,error,r,g,\"random\")\n",
      "defaultTp[rep],defaultFp[rep] = getTpFp(num,rep,error,r,g,\"default\",num,rep,error,r,g)\n",
      "uniqueTp[rep],uniqueFp[rep] = getTpFp(num,rep,error,r,g,\"unique\",num,rep,error,r,g)\n",
      "multimapTp[rep],multimapFp[rep] = getTpFp(num,rep,error,r,g,\"multimap\",num,rep,error,r,g)\n",
      "print defaultTp, defaultFp, uniqueTp, uniqueFp, multimapTp, multimapFp"
     ],
     "language": "python",
     "metadata": {},
     "outputs": []
    },
    {
     "cell_type": "code",
     "collapsed": false,
     "input": [
      "num = \"187\"\n",
      "rep = \"2\"\n",
      "error = \"1\"\n",
      "r = \"100\"\n",
      "g = \"100\"\n",
      "createDataSet(num,rep)\n",
      "!grep '>' DataSet187rep2E1R100G100.fa | wc -l\n",
      "runBowtieBuild(num,rep,error,r,g)\n",
      "runBowtieAllParams(num,rep,error,r,g,num,rep,error,r,g)\n",
      "getTruePositivesAllParams(num,rep,error,r,g,\"random\")\n",
      "defaultTp[rep],defaultFp[rep] = getTpFp(num,rep,error,r,g,\"default\",num,rep,error,r,g)\n",
      "uniqueTp[rep],uniqueFp[rep] = getTpFp(num,rep,error,r,g,\"unique\",num,rep,error,r,g)\n",
      "multimapTp[rep],multimapFp[rep] = getTpFp(num,rep,error,r,g,\"multimap\",num,rep,error,r,g)\n",
      "print defaultTp, defaultFp, uniqueTp, uniqueFp, multimapTp, multimapFp"
     ],
     "language": "python",
     "metadata": {},
     "outputs": []
    },
    {
     "cell_type": "code",
     "collapsed": false,
     "input": [
      "num = \"187\"\n",
      "rep = \"3\"\n",
      "error = \"1\"\n",
      "r = \"100\"\n",
      "g = \"100\"\n",
      "createDataSet(num,rep)\n",
      "!grep '>' DataSet187rep3E1R100G100.fa | wc -l\n",
      "runBowtieBuild(num,rep,error,r,g)\n",
      "runBowtieAllParams(num,rep,error,r,g,num,rep,error,r,g)\n",
      "getTruePositivesAllParams(num,rep,error,r,g,\"random\")\n",
      "defaultTp[rep],defaultFp[rep] = getTpFp(num,rep,error,r,g,\"default\",num,rep,error,r,g)\n",
      "uniqueTp[rep],uniqueFp[rep] = getTpFp(num,rep,error,r,g,\"unique\",num,rep,error,r,g)\n",
      "multimapTp[rep],multimapFp[rep] = getTpFp(num,rep,error,r,g,\"multimap\",num,rep,error,r,g)\n",
      "print defaultTp, defaultFp, uniqueTp, uniqueFp, multimapTp, multimapFp"
     ],
     "language": "python",
     "metadata": {},
     "outputs": []
    },
    {
     "cell_type": "code",
     "collapsed": false,
     "input": [
      "id = \"30\"\n",
      "defaultAvgTp[id] = sum([defaultTp[\"1\"], defaultTp[\"2\"], defaultTp[\"3\"]]) / 3\n",
      "print \"Average Default True Positive Percentage: \", defaultAvgTp[id]\n",
      "defaultAvgFp[id] = sum([defaultFp[\"1\"], defaultFp[\"2\"], defaultFp[\"3\"]]) / 3\n",
      "print \"Average Default False Positive Percentage: \", defaultAvgFp[id]\n",
      "uniqueAvgTp[id] = sum([uniqueTp[\"1\"], uniqueTp[\"2\"], uniqueTp[\"3\"]]) / 3\n",
      "print \"Average Unique True Positive Percentage: \", uniqueAvgTp[id]\n",
      "uniqueAvgFp[id] = sum([uniqueFp[\"1\"], uniqueFp[\"2\"], uniqueFp[\"3\"]]) / 3\n",
      "print \"Average Unique False Positive Percentage: \", uniqueAvgFp[id]\n",
      "multimapAvgTp[id] = sum([multimapTp[\"1\"], multimapTp[\"2\"], multimapTp[\"3\"]]) / 3\n",
      "print \"Average Multimap True Positive Percentage: \", multimapAvgTp[id]\n",
      "multimapAvgFp[id] = sum([multimapFp[\"1\"], multimapFp[\"2\"], multimapFp[\"3\"]]) / 3\n",
      "print \"Average Multimap False Positive Percentage: \", multimapAvgFp[id]"
     ],
     "language": "python",
     "metadata": {},
     "outputs": []
    },
    {
     "cell_type": "raw",
     "metadata": {},
     "source": [
      "Random transcriptome with 5000 transcripts, 35% artificial isoforms, single end 100 bp reads, 50x expression"
     ]
    },
    {
     "cell_type": "code",
     "collapsed": false,
     "input": [
      "num = \"188\"\n",
      "rep = \"1\"\n",
      "error = \"1\"\n",
      "r = \"100\"\n",
      "g = \"100\"\n",
      "createDataSet(num,rep)\n",
      "!grep '>' DataSet188rep1E1R100G100.fa | wc -l\n",
      "defaultTp = {}\n",
      "defaultFp = {}\n",
      "uniqueTp = {}\n",
      "uniqueFp = {}\n",
      "multimapTp = {}\n",
      "multimapFp = {}\n",
      "runBowtieBuild(num,rep,error,r,g)\n",
      "runBowtieAllParams(num,rep,error,r,g,num,rep,error,r,g)\n",
      "getTruePositivesAllParams(num,rep,error,r,g,\"random\")\n",
      "defaultTp[rep],defaultFp[rep] = getTpFp(num,rep,error,r,g,\"default\",num,rep,error,r,g)\n",
      "uniqueTp[rep],uniqueFp[rep] = getTpFp(num,rep,error,r,g,\"unique\",num,rep,error,r,g)\n",
      "multimapTp[rep],multimapFp[rep] = getTpFp(num,rep,error,r,g,\"multimap\",num,rep,error,r,g)\n",
      "print defaultTp, defaultFp, uniqueTp, uniqueFp, multimapTp, multimapFp"
     ],
     "language": "python",
     "metadata": {},
     "outputs": []
    },
    {
     "cell_type": "code",
     "collapsed": false,
     "input": [
      "num = \"188\"\n",
      "rep = \"2\"\n",
      "error = \"1\"\n",
      "r = \"100\"\n",
      "g = \"100\"\n",
      "createDataSet(num,rep)\n",
      "!grep '>' DataSet188rep2E1R100G100.fa | wc -l\n",
      "runBowtieBuild(num,rep,error,r,g)\n",
      "runBowtieAllParams(num,rep,error,r,g,num,rep,error,r,g)\n",
      "getTruePositivesAllParams(num,rep,error,r,g,\"random\")\n",
      "defaultTp[rep],defaultFp[rep] = getTpFp(num,rep,error,r,g,\"default\",num,rep,error,r,g)\n",
      "uniqueTp[rep],uniqueFp[rep] = getTpFp(num,rep,error,r,g,\"unique\",num,rep,error,r,g)\n",
      "multimapTp[rep],multimapFp[rep] = getTpFp(num,rep,error,r,g,\"multimap\",num,rep,error,r,g)\n",
      "print defaultTp, defaultFp, uniqueTp, uniqueFp, multimapTp, multimapFp"
     ],
     "language": "python",
     "metadata": {},
     "outputs": []
    },
    {
     "cell_type": "code",
     "collapsed": false,
     "input": [
      "num = \"188\"\n",
      "rep = \"3\"\n",
      "error = \"1\"\n",
      "r = \"100\"\n",
      "g = \"100\"\n",
      "createDataSet(num,rep)\n",
      "!grep '>' DataSet188rep3E1R100G100.fa | wc -l\n",
      "runBowtieBuild(num,rep,error,r,g)\n",
      "runBowtieAllParams(num,rep,error,r,g,num,rep,error,r,g)\n",
      "getTruePositivesAllParams(num,rep,error,r,g,\"random\")\n",
      "defaultTp[rep],defaultFp[rep] = getTpFp(num,rep,error,r,g,\"default\",num,rep,error,r,g)\n",
      "uniqueTp[rep],uniqueFp[rep] = getTpFp(num,rep,error,r,g,\"unique\",num,rep,error,r,g)\n",
      "multimapTp[rep],multimapFp[rep] = getTpFp(num,rep,error,r,g,\"multimap\",num,rep,error,r,g)\n",
      "print defaultTp, defaultFp, uniqueTp, uniqueFp, multimapTp, multimapFp"
     ],
     "language": "python",
     "metadata": {},
     "outputs": []
    },
    {
     "cell_type": "code",
     "collapsed": false,
     "input": [
      "id = \"35\"\n",
      "defaultAvgTp[id] = sum([defaultTp[\"1\"], defaultTp[\"2\"], defaultTp[\"3\"]]) / 3\n",
      "print \"Average Default True Positive Percentage: \", defaultAvgTp[id]\n",
      "defaultAvgFp[id] = sum([defaultFp[\"1\"], defaultFp[\"2\"], defaultFp[\"3\"]]) / 3\n",
      "print \"Average Default False Positive Percentage: \", defaultAvgFp[id]\n",
      "uniqueAvgTp[id] = sum([uniqueTp[\"1\"], uniqueTp[\"2\"], uniqueTp[\"3\"]]) / 3\n",
      "print \"Average Unique True Positive Percentage: \", uniqueAvgTp[id]\n",
      "uniqueAvgFp[id] = sum([uniqueFp[\"1\"], uniqueFp[\"2\"], uniqueFp[\"3\"]]) / 3\n",
      "print \"Average Unique False Positive Percentage: \", uniqueAvgFp[id]\n",
      "multimapAvgTp[id] = sum([multimapTp[\"1\"], multimapTp[\"2\"], multimapTp[\"3\"]]) / 3\n",
      "print \"Average Multimap True Positive Percentage: \", multimapAvgTp[id]\n",
      "multimapAvgFp[id] = sum([multimapFp[\"1\"], multimapFp[\"2\"], multimapFp[\"3\"]]) / 3\n",
      "print \"Average Multimap False Positive Percentage: \", multimapAvgFp[id]"
     ],
     "language": "python",
     "metadata": {},
     "outputs": []
    },
    {
     "cell_type": "raw",
     "metadata": {},
     "source": [
      "Random transcriptome with 5000 transcripts, 40% artificial isoforms, single end 100 bp reads, 50x expression"
     ]
    },
    {
     "cell_type": "code",
     "collapsed": false,
     "input": [
      "num = \"189\"\n",
      "rep = \"1\"\n",
      "error = \"1\"\n",
      "r = \"100\"\n",
      "g = \"100\"\n",
      "createDataSet(num,rep)\n",
      "!grep '>' DataSet189rep1E1R100G100.fa | wc -l\n",
      "defaultTp = {}\n",
      "defaultFp = {}\n",
      "uniqueTp = {}\n",
      "uniqueFp = {}\n",
      "multimapTp = {}\n",
      "multimapFp = {}\n",
      "runBowtieBuild(num,rep,error,r,g)\n",
      "runBowtieAllParams(num,rep,error,r,g,num,rep,error,r,g)\n",
      "getTruePositivesAllParams(num,rep,error,r,g,\"random\")\n",
      "defaultTp[rep],defaultFp[rep] = getTpFp(num,rep,error,r,g,\"default\",num,rep,error,r,g)\n",
      "uniqueTp[rep],uniqueFp[rep] = getTpFp(num,rep,error,r,g,\"unique\",num,rep,error,r,g)\n",
      "multimapTp[rep],multimapFp[rep] = getTpFp(num,rep,error,r,g,\"multimap\",num,rep,error,r,g)\n",
      "print defaultTp, defaultFp, uniqueTp, uniqueFp, multimapTp, multimapFp"
     ],
     "language": "python",
     "metadata": {},
     "outputs": []
    },
    {
     "cell_type": "code",
     "collapsed": false,
     "input": [
      "num = \"189\"\n",
      "rep = \"2\"\n",
      "error = \"1\"\n",
      "r = \"100\"\n",
      "g = \"100\"\n",
      "createDataSet(num,rep)\n",
      "!grep '>' DataSet189rep2E1R100G100.fa | wc -l\n",
      "runBowtieBuild(num,rep,error,r,g)\n",
      "runBowtieAllParams(num,rep,error,r,g,num,rep,error,r,g)\n",
      "getTruePositivesAllParams(num,rep,error,r,g,\"random\")\n",
      "defaultTp[rep],defaultFp[rep] = getTpFp(num,rep,error,r,g,\"default\",num,rep,error,r,g)\n",
      "uniqueTp[rep],uniqueFp[rep] = getTpFp(num,rep,error,r,g,\"unique\",num,rep,error,r,g)\n",
      "multimapTp[rep],multimapFp[rep] = getTpFp(num,rep,error,r,g,\"multimap\",num,rep,error,r,g)\n",
      "print defaultTp, defaultFp, uniqueTp, uniqueFp, multimapTp, multimapFp"
     ],
     "language": "python",
     "metadata": {},
     "outputs": []
    },
    {
     "cell_type": "code",
     "collapsed": false,
     "input": [
      "num = \"189\"\n",
      "rep = \"3\"\n",
      "error = \"1\"\n",
      "r = \"100\"\n",
      "g = \"100\"\n",
      "createDataSet(num,rep)\n",
      "!grep '>' DataSet189rep3E1R100G100.fa | wc -l\n",
      "runBowtieBuild(num,rep,error,r,g)\n",
      "runBowtieAllParams(num,rep,error,r,g,num,rep,error,r,g)\n",
      "getTruePositivesAllParams(num,rep,error,r,g,\"random\")\n",
      "defaultTp[rep],defaultFp[rep] = getTpFp(num,rep,error,r,g,\"default\",num,rep,error,r,g)\n",
      "uniqueTp[rep],uniqueFp[rep] = getTpFp(num,rep,error,r,g,\"unique\",num,rep,error,r,g)\n",
      "multimapTp[rep],multimapFp[rep] = getTpFp(num,rep,error,r,g,\"multimap\",num,rep,error,r,g)\n",
      "print defaultTp, defaultFp, uniqueTp, uniqueFp, multimapTp, multimapFp"
     ],
     "language": "python",
     "metadata": {},
     "outputs": []
    },
    {
     "cell_type": "code",
     "collapsed": false,
     "input": [
      "id = \"40\"\n",
      "defaultAvgTp[id] = sum([defaultTp[\"1\"], defaultTp[\"2\"], defaultTp[\"3\"]]) / 3\n",
      "print \"Average Default True Positive Percentage: \", defaultAvgTp[id]\n",
      "defaultAvgFp[id] = sum([defaultFp[\"1\"], defaultFp[\"2\"], defaultFp[\"3\"]]) / 3\n",
      "print \"Average Default False Positive Percentage: \", defaultAvgFp[id]\n",
      "uniqueAvgTp[id] = sum([uniqueTp[\"1\"], uniqueTp[\"2\"], uniqueTp[\"3\"]]) / 3\n",
      "print \"Average Unique True Positive Percentage: \", uniqueAvgTp[id]\n",
      "uniqueAvgFp[id] = sum([uniqueFp[\"1\"], uniqueFp[\"2\"], uniqueFp[\"3\"]]) / 3\n",
      "print \"Average Unique False Positive Percentage: \", uniqueAvgFp[id]\n",
      "multimapAvgTp[id] = sum([multimapTp[\"1\"], multimapTp[\"2\"], multimapTp[\"3\"]]) / 3\n",
      "print \"Average Multimap True Positive Percentage: \", multimapAvgTp[id]\n",
      "multimapAvgFp[id] = sum([multimapFp[\"1\"], multimapFp[\"2\"], multimapFp[\"3\"]]) / 3\n",
      "print \"Average Multimap False Positive Percentage: \", multimapAvgFp[id]"
     ],
     "language": "python",
     "metadata": {},
     "outputs": []
    },
    {
     "cell_type": "raw",
     "metadata": {},
     "source": [
      "Random transcriptome with 5000 transcripts, 45% artificial isoforms, single end 100 bp reads, 50x expression"
     ]
    },
    {
     "cell_type": "code",
     "collapsed": false,
     "input": [
      "num = \"190\"\n",
      "rep = \"1\"\n",
      "error = \"1\"\n",
      "r = \"100\"\n",
      "g = \"100\"\n",
      "createDataSet(num,rep)\n",
      "!grep '>' DataSet190rep1E1R100G100.fa | wc -l\n",
      "defaultTp = {}\n",
      "defaultFp = {}\n",
      "uniqueTp = {}\n",
      "uniqueFp = {}\n",
      "multimapTp = {}\n",
      "multimapFp = {}\n",
      "runBowtieBuild(num,rep,error,r,g)\n",
      "runBowtieAllParams(num,rep,error,r,g,num,rep,error,r,g)\n",
      "getTruePositivesAllParams(num,rep,error,r,g,\"random\")\n",
      "defaultTp[rep],defaultFp[rep] = getTpFp(num,rep,error,r,g,\"default\",num,rep,error,r,g)\n",
      "uniqueTp[rep],uniqueFp[rep] = getTpFp(num,rep,error,r,g,\"unique\",num,rep,error,r,g)\n",
      "multimapTp[rep],multimapFp[rep] = getTpFp(num,rep,error,r,g,\"multimap\",num,rep,error,r,g)\n",
      "print defaultTp, defaultFp, uniqueTp, uniqueFp, multimapTp, multimapFp"
     ],
     "language": "python",
     "metadata": {},
     "outputs": []
    },
    {
     "cell_type": "code",
     "collapsed": false,
     "input": [
      "num = \"190\"\n",
      "rep = \"2\"\n",
      "error = \"1\"\n",
      "r = \"100\"\n",
      "g = \"100\"\n",
      "createDataSet(num,rep)\n",
      "!grep '>' DataSet190rep2E1R100G100.fa | wc -l\n",
      "runBowtieBuild(num,rep,error,r,g)\n",
      "runBowtieAllParams(num,rep,error,r,g,num,rep,error,r,g)\n",
      "getTruePositivesAllParams(num,rep,error,r,g,\"random\")\n",
      "defaultTp[rep],defaultFp[rep] = getTpFp(num,rep,error,r,g,\"default\",num,rep,error,r,g)\n",
      "uniqueTp[rep],uniqueFp[rep] = getTpFp(num,rep,error,r,g,\"unique\",num,rep,error,r,g)\n",
      "multimapTp[rep],multimapFp[rep] = getTpFp(num,rep,error,r,g,\"multimap\",num,rep,error,r,g)\n",
      "print defaultTp, defaultFp, uniqueTp, uniqueFp, multimapTp, multimapFp"
     ],
     "language": "python",
     "metadata": {},
     "outputs": []
    },
    {
     "cell_type": "code",
     "collapsed": false,
     "input": [
      "num = \"190\"\n",
      "rep = \"3\"\n",
      "error = \"1\"\n",
      "r = \"100\"\n",
      "g = \"100\"\n",
      "createDataSet(num,rep)\n",
      "!grep '>' DataSet190rep3E1R100G100.fa | wc -l\n",
      "runBowtieBuild(num,rep,error,r,g)\n",
      "runBowtieAllParams(num,rep,error,r,g,num,rep,error,r,g)\n",
      "getTruePositivesAllParams(num,rep,error,r,g,\"random\")\n",
      "defaultTp[rep],defaultFp[rep] = getTpFp(num,rep,error,r,g,\"default\",num,rep,error,r,g)\n",
      "uniqueTp[rep],uniqueFp[rep] = getTpFp(num,rep,error,r,g,\"unique\",num,rep,error,r,g)\n",
      "multimapTp[rep],multimapFp[rep] = getTpFp(num,rep,error,r,g,\"multimap\",num,rep,error,r,g)\n",
      "print defaultTp, defaultFp, uniqueTp, uniqueFp, multimapTp, multimapFp"
     ],
     "language": "python",
     "metadata": {},
     "outputs": []
    },
    {
     "cell_type": "code",
     "collapsed": false,
     "input": [
      "id = \"45\"\n",
      "defaultAvgTp[id] = sum([defaultTp[\"1\"], defaultTp[\"2\"], defaultTp[\"3\"]]) / 3\n",
      "print \"Average Default True Positive Percentage: \", defaultAvgTp[id]\n",
      "defaultAvgFp[id] = sum([defaultFp[\"1\"], defaultFp[\"2\"], defaultFp[\"3\"]]) / 3\n",
      "print \"Average Default False Positive Percentage: \", defaultAvgFp[id]\n",
      "uniqueAvgTp[id] = sum([uniqueTp[\"1\"], uniqueTp[\"2\"], uniqueTp[\"3\"]]) / 3\n",
      "print \"Average Unique True Positive Percentage: \", uniqueAvgTp[id]\n",
      "uniqueAvgFp[id] = sum([uniqueFp[\"1\"], uniqueFp[\"2\"], uniqueFp[\"3\"]]) / 3\n",
      "print \"Average Unique False Positive Percentage: \", uniqueAvgFp[id]\n",
      "multimapAvgTp[id] = sum([multimapTp[\"1\"], multimapTp[\"2\"], multimapTp[\"3\"]]) / 3\n",
      "print \"Average Multimap True Positive Percentage: \", multimapAvgTp[id]\n",
      "multimapAvgFp[id] = sum([multimapFp[\"1\"], multimapFp[\"2\"], multimapFp[\"3\"]]) / 3\n",
      "print \"Average Multimap False Positive Percentage: \", multimapAvgFp[id]"
     ],
     "language": "python",
     "metadata": {},
     "outputs": []
    },
    {
     "cell_type": "raw",
     "metadata": {},
     "source": [
      "Random transcriptome with 5000 transcripts, 50% artificial isoforms, single end 100 bp reads, 50x expression"
     ]
    },
    {
     "cell_type": "code",
     "collapsed": false,
     "input": [
      "num = \"191\"\n",
      "rep = \"1\"\n",
      "error = \"1\"\n",
      "r = \"100\"\n",
      "g = \"100\"\n",
      "createDataSet(num,rep)\n",
      "!grep '>' DataSet191rep1E1R100G100.fa | wc -l\n",
      "defaultTp = {}\n",
      "defaultFp = {}\n",
      "uniqueTp = {}\n",
      "uniqueFp = {}\n",
      "multimapTp = {}\n",
      "multimapFp = {}\n",
      "runBowtieBuild(num,rep,error,r,g)\n",
      "runBowtieAllParams(num,rep,error,r,g,num,rep,error,r,g)\n",
      "getTruePositivesAllParams(num,rep,error,r,g,\"random\")\n",
      "defaultTp[rep],defaultFp[rep] = getTpFp(num,rep,error,r,g,\"default\",num,rep,error,r,g)\n",
      "uniqueTp[rep],uniqueFp[rep] = getTpFp(num,rep,error,r,g,\"unique\",num,rep,error,r,g)\n",
      "multimapTp[rep],multimapFp[rep] = getTpFp(num,rep,error,r,g,\"multimap\",num,rep,error,r,g)\n",
      "print defaultTp, defaultFp, uniqueTp, uniqueFp, multimapTp, multimapFp"
     ],
     "language": "python",
     "metadata": {},
     "outputs": []
    },
    {
     "cell_type": "code",
     "collapsed": false,
     "input": [
      "num = \"191\"\n",
      "rep = \"2\"\n",
      "error = \"1\"\n",
      "r = \"100\"\n",
      "g = \"100\"\n",
      "createDataSet(num,rep)\n",
      "!grep '>' DataSet191rep2E1R100G100.fa | wc -l\n",
      "runBowtieBuild(num,rep,error,r,g)\n",
      "runBowtieAllParams(num,rep,error,r,g,num,rep,error,r,g)\n",
      "getTruePositivesAllParams(num,rep,error,r,g,\"random\")\n",
      "defaultTp[rep],defaultFp[rep] = getTpFp(num,rep,error,r,g,\"default\",num,rep,error,r,g)\n",
      "uniqueTp[rep],uniqueFp[rep] = getTpFp(num,rep,error,r,g,\"unique\",num,rep,error,r,g)\n",
      "multimapTp[rep],multimapFp[rep] = getTpFp(num,rep,error,r,g,\"multimap\",num,rep,error,r,g)\n",
      "print defaultTp, defaultFp, uniqueTp, uniqueFp, multimapTp, multimapFp"
     ],
     "language": "python",
     "metadata": {},
     "outputs": []
    },
    {
     "cell_type": "code",
     "collapsed": false,
     "input": [
      "num = \"191\"\n",
      "rep = \"3\"\n",
      "error = \"1\"\n",
      "r = \"100\"\n",
      "g = \"100\"\n",
      "createDataSet(num,rep)\n",
      "!grep '>' DataSet191rep3E1R100G100.fa | wc -l\n",
      "runBowtieBuild(num,rep,error,r,g)\n",
      "runBowtieAllParams(num,rep,error,r,g,num,rep,error,r,g)\n",
      "getTruePositivesAllParams(num,rep,error,r,g,\"random\")\n",
      "defaultTp[rep],defaultFp[rep] = getTpFp(num,rep,error,r,g,\"default\",num,rep,error,r,g)\n",
      "uniqueTp[rep],uniqueFp[rep] = getTpFp(num,rep,error,r,g,\"unique\",num,rep,error,r,g)\n",
      "multimapTp[rep],multimapFp[rep] = getTpFp(num,rep,error,r,g,\"multimap\",num,rep,error,r,g)\n",
      "print defaultTp, defaultFp, uniqueTp, uniqueFp, multimapTp, multimapFp"
     ],
     "language": "python",
     "metadata": {},
     "outputs": []
    },
    {
     "cell_type": "code",
     "collapsed": false,
     "input": [
      "id = \"50\"\n",
      "defaultAvgTp[id] = sum([defaultTp[\"1\"], defaultTp[\"2\"], defaultTp[\"3\"]]) / 3\n",
      "print \"Average Default True Positive Percentage: \", defaultAvgTp[id]\n",
      "defaultAvgFp[id] = sum([defaultFp[\"1\"], defaultFp[\"2\"], defaultFp[\"3\"]]) / 3\n",
      "print \"Average Default False Positive Percentage: \", defaultAvgFp[id]\n",
      "uniqueAvgTp[id] = sum([uniqueTp[\"1\"], uniqueTp[\"2\"], uniqueTp[\"3\"]]) / 3\n",
      "print \"Average Unique True Positive Percentage: \", uniqueAvgTp[id]\n",
      "uniqueAvgFp[id] = sum([uniqueFp[\"1\"], uniqueFp[\"2\"], uniqueFp[\"3\"]]) / 3\n",
      "print \"Average Unique False Positive Percentage: \", uniqueAvgFp[id]\n",
      "multimapAvgTp[id] = sum([multimapTp[\"1\"], multimapTp[\"2\"], multimapTp[\"3\"]]) / 3\n",
      "print \"Average Multimap True Positive Percentage: \", multimapAvgTp[id]\n",
      "multimapAvgFp[id] = sum([multimapFp[\"1\"], multimapFp[\"2\"], multimapFp[\"3\"]]) / 3\n",
      "print \"Average Multimap False Positive Percentage: \", multimapAvgFp[id]"
     ],
     "language": "python",
     "metadata": {},
     "outputs": []
    },
    {
     "cell_type": "raw",
     "metadata": {},
     "source": [
      "Random transcriptome with 5000 transcripts, 55% artificial isoforms, single end 100 bp reads, 50x expression"
     ]
    },
    {
     "cell_type": "code",
     "collapsed": false,
     "input": [
      "num = \"192\"\n",
      "rep = \"1\"\n",
      "error = \"1\"\n",
      "r = \"100\"\n",
      "g = \"100\"\n",
      "createDataSet(num,rep)\n",
      "!grep '>' DataSet192rep1E1R100G100.fa | wc -l\n",
      "defaultTp = {}\n",
      "defaultFp = {}\n",
      "uniqueTp = {}\n",
      "uniqueFp = {}\n",
      "multimapTp = {}\n",
      "multimapFp = {}\n",
      "runBowtieBuild(num,rep,error,r,g)\n",
      "runBowtieAllParams(num,rep,error,r,g,num,rep,error,r,g)\n",
      "getTruePositivesAllParams(num,rep,error,r,g,\"random\")\n",
      "defaultTp[rep],defaultFp[rep] = getTpFp(num,rep,error,r,g,\"default\",num,rep,error,r,g)\n",
      "uniqueTp[rep],uniqueFp[rep] = getTpFp(num,rep,error,r,g,\"unique\",num,rep,error,r,g)\n",
      "multimapTp[rep],multimapFp[rep] = getTpFp(num,rep,error,r,g,\"multimap\",num,rep,error,r,g)\n",
      "print defaultTp, defaultFp, uniqueTp, uniqueFp, multimapTp, multimapFp"
     ],
     "language": "python",
     "metadata": {},
     "outputs": []
    },
    {
     "cell_type": "code",
     "collapsed": false,
     "input": [
      "num = \"192\"\n",
      "rep = \"2\"\n",
      "error = \"1\"\n",
      "r = \"100\"\n",
      "g = \"100\"\n",
      "createDataSet(num,rep)\n",
      "!grep '>' DataSet192rep2E1R100G100.fa | wc -l\n",
      "runBowtieBuild(num,rep,error,r,g)\n",
      "runBowtieAllParams(num,rep,error,r,g,num,rep,error,r,g)\n",
      "getTruePositivesAllParams(num,rep,error,r,g,\"random\")\n",
      "defaultTp[rep],defaultFp[rep] = getTpFp(num,rep,error,r,g,\"default\",num,rep,error,r,g)\n",
      "uniqueTp[rep],uniqueFp[rep] = getTpFp(num,rep,error,r,g,\"unique\",num,rep,error,r,g)\n",
      "multimapTp[rep],multimapFp[rep] = getTpFp(num,rep,error,r,g,\"multimap\",num,rep,error,r,g)\n",
      "print defaultTp, defaultFp, uniqueTp, uniqueFp, multimapTp, multimapFp"
     ],
     "language": "python",
     "metadata": {},
     "outputs": []
    },
    {
     "cell_type": "code",
     "collapsed": false,
     "input": [
      "num = \"192\"\n",
      "rep = \"3\"\n",
      "error = \"1\"\n",
      "r = \"100\"\n",
      "g = \"100\"\n",
      "createDataSet(num,rep)\n",
      "!grep '>' DataSet192rep3E1R100G100.fa | wc -l\n",
      "runBowtieBuild(num,rep,error,r,g)\n",
      "runBowtieAllParams(num,rep,error,r,g,num,rep,error,r,g)\n",
      "getTruePositivesAllParams(num,rep,error,r,g,\"random\")\n",
      "defaultTp[rep],defaultFp[rep] = getTpFp(num,rep,error,r,g,\"default\",num,rep,error,r,g)\n",
      "uniqueTp[rep],uniqueFp[rep] = getTpFp(num,rep,error,r,g,\"unique\",num,rep,error,r,g)\n",
      "multimapTp[rep],multimapFp[rep] = getTpFp(num,rep,error,r,g,\"multimap\",num,rep,error,r,g)\n",
      "print defaultTp, defaultFp, uniqueTp, uniqueFp, multimapTp, multimapFp"
     ],
     "language": "python",
     "metadata": {},
     "outputs": []
    },
    {
     "cell_type": "code",
     "collapsed": false,
     "input": [
      "id = \"55\"\n",
      "defaultAvgTp[id] = sum([defaultTp[\"1\"], defaultTp[\"2\"], defaultTp[\"3\"]]) / 3\n",
      "print \"Average Default True Positive Percentage: \", defaultAvgTp[id]\n",
      "defaultAvgFp[id] = sum([defaultFp[\"1\"], defaultFp[\"2\"], defaultFp[\"3\"]]) / 3\n",
      "print \"Average Default False Positive Percentage: \", defaultAvgFp[id]\n",
      "uniqueAvgTp[id] = sum([uniqueTp[\"1\"], uniqueTp[\"2\"], uniqueTp[\"3\"]]) / 3\n",
      "print \"Average Unique True Positive Percentage: \", uniqueAvgTp[id]\n",
      "uniqueAvgFp[id] = sum([uniqueFp[\"1\"], uniqueFp[\"2\"], uniqueFp[\"3\"]]) / 3\n",
      "print \"Average Unique False Positive Percentage: \", uniqueAvgFp[id]\n",
      "multimapAvgTp[id] = sum([multimapTp[\"1\"], multimapTp[\"2\"], multimapTp[\"3\"]]) / 3\n",
      "print \"Average Multimap True Positive Percentage: \", multimapAvgTp[id]\n",
      "multimapAvgFp[id] = sum([multimapFp[\"1\"], multimapFp[\"2\"], multimapFp[\"3\"]]) / 3\n",
      "print \"Average Multimap False Positive Percentage: \", multimapAvgFp[id]"
     ],
     "language": "python",
     "metadata": {},
     "outputs": []
    },
    {
     "cell_type": "raw",
     "metadata": {},
     "source": [
      "Random transcriptome with 5000 transcripts, 60% artificial isoforms, single end 100 bp reads, 50x expression"
     ]
    },
    {
     "cell_type": "code",
     "collapsed": false,
     "input": [
      "num = \"193\"\n",
      "rep = \"1\"\n",
      "error = \"1\"\n",
      "r = \"100\"\n",
      "g = \"100\"\n",
      "createDataSet(num,rep)\n",
      "!grep '>' DataSet193rep1E1R100G100.fa | wc -l\n",
      "defaultTp = {}\n",
      "defaultFp = {}\n",
      "uniqueTp = {}\n",
      "uniqueFp = {}\n",
      "multimapTp = {}\n",
      "multimapFp = {}\n",
      "runBowtieBuild(num,rep,error,r,g)\n",
      "runBowtieAllParams(num,rep,error,r,g,num,rep,error,r,g)\n",
      "getTruePositivesAllParams(num,rep,error,r,g,\"random\")\n",
      "defaultTp[rep],defaultFp[rep] = getTpFp(num,rep,error,r,g,\"default\",num,rep,error,r,g)\n",
      "uniqueTp[rep],uniqueFp[rep] = getTpFp(num,rep,error,r,g,\"unique\",num,rep,error,r,g)\n",
      "multimapTp[rep],multimapFp[rep] = getTpFp(num,rep,error,r,g,\"multimap\",num,rep,error,r,g)\n",
      "print defaultTp, defaultFp, uniqueTp, uniqueFp, multimapTp, multimapFp"
     ],
     "language": "python",
     "metadata": {},
     "outputs": []
    },
    {
     "cell_type": "code",
     "collapsed": false,
     "input": [
      "num = \"193\"\n",
      "rep = \"2\"\n",
      "error = \"1\"\n",
      "r = \"100\"\n",
      "g = \"100\"\n",
      "createDataSet(num,rep)\n",
      "!grep '>' DataSet193rep2E1R100G100.fa | wc -l\n",
      "runBowtieBuild(num,rep,error,r,g)\n",
      "runBowtieAllParams(num,rep,error,r,g,num,rep,error,r,g)\n",
      "getTruePositivesAllParams(num,rep,error,r,g,\"random\")\n",
      "defaultTp[rep],defaultFp[rep] = getTpFp(num,rep,error,r,g,\"default\",num,rep,error,r,g)\n",
      "uniqueTp[rep],uniqueFp[rep] = getTpFp(num,rep,error,r,g,\"unique\",num,rep,error,r,g)\n",
      "multimapTp[rep],multimapFp[rep] = getTpFp(num,rep,error,r,g,\"multimap\",num,rep,error,r,g)\n",
      "print defaultTp, defaultFp, uniqueTp, uniqueFp, multimapTp, multimapFp"
     ],
     "language": "python",
     "metadata": {},
     "outputs": []
    },
    {
     "cell_type": "code",
     "collapsed": false,
     "input": [
      "num = \"193\"\n",
      "rep = \"3\"\n",
      "error = \"1\"\n",
      "r = \"100\"\n",
      "g = \"100\"\n",
      "createDataSet(num,rep)\n",
      "!grep '>' DataSet193rep3E1R100G100.fa | wc -l\n",
      "runBowtieBuild(num,rep,error,r,g)\n",
      "runBowtieAllParams(num,rep,error,r,g,num,rep,error,r,g)\n",
      "getTruePositivesAllParams(num,rep,error,r,g,\"random\")\n",
      "defaultTp[rep],defaultFp[rep] = getTpFp(num,rep,error,r,g,\"default\",num,rep,error,r,g)\n",
      "uniqueTp[rep],uniqueFp[rep] = getTpFp(num,rep,error,r,g,\"unique\",num,rep,error,r,g)\n",
      "multimapTp[rep],multimapFp[rep] = getTpFp(num,rep,error,r,g,\"multimap\",num,rep,error,r,g)\n",
      "print defaultTp, defaultFp, uniqueTp, uniqueFp, multimapTp, multimapFp"
     ],
     "language": "python",
     "metadata": {},
     "outputs": []
    },
    {
     "cell_type": "code",
     "collapsed": false,
     "input": [
      "id = \"60\"\n",
      "defaultAvgTp[id] = sum([defaultTp[\"1\"], defaultTp[\"2\"], defaultTp[\"3\"]]) / 3\n",
      "print \"Average Default True Positive Percentage: \", defaultAvgTp[id]\n",
      "defaultAvgFp[id] = sum([defaultFp[\"1\"], defaultFp[\"2\"], defaultFp[\"3\"]]) / 3\n",
      "print \"Average Default False Positive Percentage: \", defaultAvgFp[id]\n",
      "uniqueAvgTp[id] = sum([uniqueTp[\"1\"], uniqueTp[\"2\"], uniqueTp[\"3\"]]) / 3\n",
      "print \"Average Unique True Positive Percentage: \", uniqueAvgTp[id]\n",
      "uniqueAvgFp[id] = sum([uniqueFp[\"1\"], uniqueFp[\"2\"], uniqueFp[\"3\"]]) / 3\n",
      "print \"Average Unique False Positive Percentage: \", uniqueAvgFp[id]\n",
      "multimapAvgTp[id] = sum([multimapTp[\"1\"], multimapTp[\"2\"], multimapTp[\"3\"]]) / 3\n",
      "print \"Average Multimap True Positive Percentage: \", multimapAvgTp[id]\n",
      "multimapAvgFp[id] = sum([multimapFp[\"1\"], multimapFp[\"2\"], multimapFp[\"3\"]]) / 3\n",
      "print \"Average Multimap False Positive Percentage: \", multimapAvgFp[id]"
     ],
     "language": "python",
     "metadata": {},
     "outputs": []
    },
    {
     "cell_type": "raw",
     "metadata": {},
     "source": [
      "Random transcriptome with 5000 transcripts, 65% artificial isoforms, single end 100 bp reads, 50x expression"
     ]
    },
    {
     "cell_type": "code",
     "collapsed": false,
     "input": [
      "num = \"194\"\n",
      "rep = \"1\"\n",
      "error = \"1\"\n",
      "r = \"100\"\n",
      "g = \"100\"\n",
      "createDataSet(num,rep)\n",
      "!grep '>' DataSet194rep1E1R100G100.fa | wc -l\n",
      "defaultTp = {}\n",
      "defaultFp = {}\n",
      "uniqueTp = {}\n",
      "uniqueFp = {}\n",
      "multimapTp = {}\n",
      "multimapFp = {}\n",
      "runBowtieBuild(num,rep,error,r,g)\n",
      "runBowtieAllParams(num,rep,error,r,g,num,rep,error,r,g)\n",
      "getTruePositivesAllParams(num,rep,error,r,g,\"random\")\n",
      "defaultTp[rep],defaultFp[rep] = getTpFp(num,rep,error,r,g,\"default\",num,rep,error,r,g)\n",
      "uniqueTp[rep],uniqueFp[rep] = getTpFp(num,rep,error,r,g,\"unique\",num,rep,error,r,g)\n",
      "multimapTp[rep],multimapFp[rep] = getTpFp(num,rep,error,r,g,\"multimap\",num,rep,error,r,g)\n",
      "print defaultTp, defaultFp, uniqueTp, uniqueFp, multimapTp, multimapFp"
     ],
     "language": "python",
     "metadata": {},
     "outputs": []
    },
    {
     "cell_type": "code",
     "collapsed": false,
     "input": [
      "num = \"194\"\n",
      "rep = \"2\"\n",
      "error = \"1\"\n",
      "r = \"100\"\n",
      "g = \"100\"\n",
      "createDataSet(num,rep)\n",
      "!grep '>' DataSet194rep2E1R100G100.fa | wc -l\n",
      "runBowtieBuild(num,rep,error,r,g)\n",
      "runBowtieAllParams(num,rep,error,r,g,num,rep,error,r,g)\n",
      "getTruePositivesAllParams(num,rep,error,r,g,\"random\")\n",
      "defaultTp[rep],defaultFp[rep] = getTpFp(num,rep,error,r,g,\"default\",num,rep,error,r,g)\n",
      "uniqueTp[rep],uniqueFp[rep] = getTpFp(num,rep,error,r,g,\"unique\",num,rep,error,r,g)\n",
      "multimapTp[rep],multimapFp[rep] = getTpFp(num,rep,error,r,g,\"multimap\",num,rep,error,r,g)\n",
      "print defaultTp, defaultFp, uniqueTp, uniqueFp, multimapTp, multimapFp"
     ],
     "language": "python",
     "metadata": {},
     "outputs": []
    },
    {
     "cell_type": "code",
     "collapsed": false,
     "input": [
      "num = \"194\"\n",
      "rep = \"3\"\n",
      "error = \"1\"\n",
      "r = \"100\"\n",
      "g = \"100\"\n",
      "createDataSet(num,rep)\n",
      "!grep '>' DataSet194rep3E1R100G100.fa | wc -l\n",
      "runBowtieBuild(num,rep,error,r,g)\n",
      "runBowtieAllParams(num,rep,error,r,g,num,rep,error,r,g)\n",
      "getTruePositivesAllParams(num,rep,error,r,g,\"random\")\n",
      "defaultTp[rep],defaultFp[rep] = getTpFp(num,rep,error,r,g,\"default\",num,rep,error,r,g)\n",
      "uniqueTp[rep],uniqueFp[rep] = getTpFp(num,rep,error,r,g,\"unique\",num,rep,error,r,g)\n",
      "multimapTp[rep],multimapFp[rep] = getTpFp(num,rep,error,r,g,\"multimap\",num,rep,error,r,g)\n",
      "print defaultTp, defaultFp, uniqueTp, uniqueFp, multimapTp, multimapFp"
     ],
     "language": "python",
     "metadata": {},
     "outputs": []
    },
    {
     "cell_type": "code",
     "collapsed": false,
     "input": [
      "id = \"65\"\n",
      "defaultAvgTp[id] = sum([defaultTp[\"1\"], defaultTp[\"2\"], defaultTp[\"3\"]]) / 3\n",
      "print \"Average Default True Positive Percentage: \", defaultAvgTp[id]\n",
      "defaultAvgFp[id] = sum([defaultFp[\"1\"], defaultFp[\"2\"], defaultFp[\"3\"]]) / 3\n",
      "print \"Average Default False Positive Percentage: \", defaultAvgFp[id]\n",
      "uniqueAvgTp[id] = sum([uniqueTp[\"1\"], uniqueTp[\"2\"], uniqueTp[\"3\"]]) / 3\n",
      "print \"Average Unique True Positive Percentage: \", uniqueAvgTp[id]\n",
      "uniqueAvgFp[id] = sum([uniqueFp[\"1\"], uniqueFp[\"2\"], uniqueFp[\"3\"]]) / 3\n",
      "print \"Average Unique False Positive Percentage: \", uniqueAvgFp[id]\n",
      "multimapAvgTp[id] = sum([multimapTp[\"1\"], multimapTp[\"2\"], multimapTp[\"3\"]]) / 3\n",
      "print \"Average Multimap True Positive Percentage: \", multimapAvgTp[id]\n",
      "multimapAvgFp[id] = sum([multimapFp[\"1\"], multimapFp[\"2\"], multimapFp[\"3\"]]) / 3\n",
      "print \"Average Multimap False Positive Percentage: \", multimapAvgFp[id]"
     ],
     "language": "python",
     "metadata": {},
     "outputs": []
    },
    {
     "cell_type": "raw",
     "metadata": {},
     "source": [
      "Random transcriptome with 5000 transcripts, 70% artificial isoforms, single end 100 bp reads, 50x expression"
     ]
    },
    {
     "cell_type": "code",
     "collapsed": false,
     "input": [
      "num = \"195\"\n",
      "rep = \"1\"\n",
      "error = \"1\"\n",
      "r = \"100\"\n",
      "g = \"100\"\n",
      "createDataSet(num,rep)\n",
      "!grep '>' DataSet195rep1E1R100G100.fa | wc -l\n",
      "defaultTp = {}\n",
      "defaultFp = {}\n",
      "uniqueTp = {}\n",
      "uniqueFp = {}\n",
      "multimapTp = {}\n",
      "multimapFp = {}\n",
      "runBowtieBuild(num,rep,error,r,g)\n",
      "runBowtieAllParams(num,rep,error,r,g,num,rep,error,r,g)\n",
      "getTruePositivesAllParams(num,rep,error,r,g,\"random\")\n",
      "defaultTp[rep],defaultFp[rep] = getTpFp(num,rep,error,r,g,\"default\",num,rep,error,r,g)\n",
      "uniqueTp[rep],uniqueFp[rep] = getTpFp(num,rep,error,r,g,\"unique\",num,rep,error,r,g)\n",
      "multimapTp[rep],multimapFp[rep] = getTpFp(num,rep,error,r,g,\"multimap\",num,rep,error,r,g)\n",
      "print defaultTp, defaultFp, uniqueTp, uniqueFp, multimapTp, multimapFp"
     ],
     "language": "python",
     "metadata": {},
     "outputs": []
    },
    {
     "cell_type": "code",
     "collapsed": false,
     "input": [
      "num = \"195\"\n",
      "rep = \"2\"\n",
      "error = \"1\"\n",
      "r = \"100\"\n",
      "g = \"100\"\n",
      "createDataSet(num,rep)\n",
      "!grep '>' DataSet195rep2E1R100G100.fa | wc -l\n",
      "runBowtieBuild(num,rep,error,r,g)\n",
      "runBowtieAllParams(num,rep,error,r,g,num,rep,error,r,g)\n",
      "getTruePositivesAllParams(num,rep,error,r,g,\"random\")\n",
      "defaultTp[rep],defaultFp[rep] = getTpFp(num,rep,error,r,g,\"default\",num,rep,error,r,g)\n",
      "uniqueTp[rep],uniqueFp[rep] = getTpFp(num,rep,error,r,g,\"unique\",num,rep,error,r,g)\n",
      "multimapTp[rep],multimapFp[rep] = getTpFp(num,rep,error,r,g,\"multimap\",num,rep,error,r,g)\n",
      "print defaultTp, defaultFp, uniqueTp, uniqueFp, multimapTp, multimapFp"
     ],
     "language": "python",
     "metadata": {},
     "outputs": []
    },
    {
     "cell_type": "code",
     "collapsed": false,
     "input": [
      "num = \"195\"\n",
      "rep = \"3\"\n",
      "error = \"1\"\n",
      "r = \"100\"\n",
      "g = \"100\"\n",
      "createDataSet(num,rep)\n",
      "!grep '>' DataSet195rep3E1R100G100.fa | wc -l\n",
      "runBowtieBuild(num,rep,error,r,g)\n",
      "runBowtieAllParams(num,rep,error,r,g,num,rep,error,r,g)\n",
      "getTruePositivesAllParams(num,rep,error,r,g,\"random\")\n",
      "defaultTp[rep],defaultFp[rep] = getTpFp(num,rep,error,r,g,\"default\",num,rep,error,r,g)\n",
      "uniqueTp[rep],uniqueFp[rep] = getTpFp(num,rep,error,r,g,\"unique\",num,rep,error,r,g)\n",
      "multimapTp[rep],multimapFp[rep] = getTpFp(num,rep,error,r,g,\"multimap\",num,rep,error,r,g)\n",
      "print defaultTp, defaultFp, uniqueTp, uniqueFp, multimapTp, multimapFp"
     ],
     "language": "python",
     "metadata": {},
     "outputs": []
    },
    {
     "cell_type": "code",
     "collapsed": false,
     "input": [
      "id = \"70\"\n",
      "defaultAvgTp[id] = sum([defaultTp[\"1\"], defaultTp[\"2\"], defaultTp[\"3\"]]) / 3\n",
      "print \"Average Default True Positive Percentage: \", defaultAvgTp[id]\n",
      "defaultAvgFp[id] = sum([defaultFp[\"1\"], defaultFp[\"2\"], defaultFp[\"3\"]]) / 3\n",
      "print \"Average Default False Positive Percentage: \", defaultAvgFp[id]\n",
      "uniqueAvgTp[id] = sum([uniqueTp[\"1\"], uniqueTp[\"2\"], uniqueTp[\"3\"]]) / 3\n",
      "print \"Average Unique True Positive Percentage: \", uniqueAvgTp[id]\n",
      "uniqueAvgFp[id] = sum([uniqueFp[\"1\"], uniqueFp[\"2\"], uniqueFp[\"3\"]]) / 3\n",
      "print \"Average Unique False Positive Percentage: \", uniqueAvgFp[id]\n",
      "multimapAvgTp[id] = sum([multimapTp[\"1\"], multimapTp[\"2\"], multimapTp[\"3\"]]) / 3\n",
      "print \"Average Multimap True Positive Percentage: \", multimapAvgTp[id]\n",
      "multimapAvgFp[id] = sum([multimapFp[\"1\"], multimapFp[\"2\"], multimapFp[\"3\"]]) / 3\n",
      "print \"Average Multimap False Positive Percentage: \", multimapAvgFp[id]"
     ],
     "language": "python",
     "metadata": {},
     "outputs": []
    },
    {
     "cell_type": "raw",
     "metadata": {},
     "source": [
      "Random transcriptome with 5000 transcripts, 75% artificial isoforms, single end 100 bp reads, 50x expression"
     ]
    },
    {
     "cell_type": "code",
     "collapsed": false,
     "input": [
      "num = \"196\"\n",
      "rep = \"1\"\n",
      "error = \"1\"\n",
      "r = \"100\"\n",
      "g = \"100\"\n",
      "createDataSet(num,rep)\n",
      "!grep '>' DataSet196rep1E1R100G100.fa | wc -l\n",
      "defaultTp = {}\n",
      "defaultFp = {}\n",
      "uniqueTp = {}\n",
      "uniqueFp = {}\n",
      "multimapTp = {}\n",
      "multimapFp = {}\n",
      "runBowtieBuild(num,rep,error,r,g)\n",
      "runBowtieAllParams(num,rep,error,r,g,num,rep,error,r,g)\n",
      "getTruePositivesAllParams(num,rep,error,r,g,\"random\")\n",
      "defaultTp[rep],defaultFp[rep] = getTpFp(num,rep,error,r,g,\"default\",num,rep,error,r,g)\n",
      "uniqueTp[rep],uniqueFp[rep] = getTpFp(num,rep,error,r,g,\"unique\",num,rep,error,r,g)\n",
      "multimapTp[rep],multimapFp[rep] = getTpFp(num,rep,error,r,g,\"multimap\",num,rep,error,r,g)\n",
      "print defaultTp, defaultFp, uniqueTp, uniqueFp, multimapTp, multimapFp"
     ],
     "language": "python",
     "metadata": {},
     "outputs": []
    },
    {
     "cell_type": "code",
     "collapsed": false,
     "input": [
      "num = \"196\"\n",
      "rep = \"2\"\n",
      "error = \"1\"\n",
      "r = \"100\"\n",
      "g = \"100\"\n",
      "createDataSet(num,rep)\n",
      "!grep '>' DataSet196rep2E1R100G100.fa | wc -l\n",
      "runBowtieBuild(num,rep,error,r,g)\n",
      "runBowtieAllParams(num,rep,error,r,g,num,rep,error,r,g)\n",
      "getTruePositivesAllParams(num,rep,error,r,g,\"random\")\n",
      "defaultTp[rep],defaultFp[rep] = getTpFp(num,rep,error,r,g,\"default\",num,rep,error,r,g)\n",
      "uniqueTp[rep],uniqueFp[rep] = getTpFp(num,rep,error,r,g,\"unique\",num,rep,error,r,g)\n",
      "multimapTp[rep],multimapFp[rep] = getTpFp(num,rep,error,r,g,\"multimap\",num,rep,error,r,g)\n",
      "print defaultTp, defaultFp, uniqueTp, uniqueFp, multimapTp, multimapFp"
     ],
     "language": "python",
     "metadata": {},
     "outputs": []
    },
    {
     "cell_type": "code",
     "collapsed": false,
     "input": [
      "num = \"196\"\n",
      "rep = \"3\"\n",
      "error = \"1\"\n",
      "r = \"100\"\n",
      "g = \"100\"\n",
      "createDataSet(num,rep)\n",
      "!grep '>' DataSet196rep3E1R100G100.fa | wc -l\n",
      "runBowtieBuild(num,rep,error,r,g)\n",
      "runBowtieAllParams(num,rep,error,r,g,num,rep,error,r,g)\n",
      "getTruePositivesAllParams(num,rep,error,r,g,\"random\")\n",
      "defaultTp[rep],defaultFp[rep] = getTpFp(num,rep,error,r,g,\"default\",num,rep,error,r,g)\n",
      "uniqueTp[rep],uniqueFp[rep] = getTpFp(num,rep,error,r,g,\"unique\",num,rep,error,r,g)\n",
      "multimapTp[rep],multimapFp[rep] = getTpFp(num,rep,error,r,g,\"multimap\",num,rep,error,r,g)\n",
      "print defaultTp, defaultFp, uniqueTp, uniqueFp, multimapTp, multimapFp"
     ],
     "language": "python",
     "metadata": {},
     "outputs": []
    },
    {
     "cell_type": "code",
     "collapsed": false,
     "input": [
      "id = \"75\"\n",
      "defaultAvgTp[id] = sum([defaultTp[\"1\"], defaultTp[\"2\"], defaultTp[\"3\"]]) / 3\n",
      "print \"Average Default True Positive Percentage: \", defaultAvgTp[id]\n",
      "defaultAvgFp[id] = sum([defaultFp[\"1\"], defaultFp[\"2\"], defaultFp[\"3\"]]) / 3\n",
      "print \"Average Default False Positive Percentage: \", defaultAvgFp[id]\n",
      "uniqueAvgTp[id] = sum([uniqueTp[\"1\"], uniqueTp[\"2\"], uniqueTp[\"3\"]]) / 3\n",
      "print \"Average Unique True Positive Percentage: \", uniqueAvgTp[id]\n",
      "uniqueAvgFp[id] = sum([uniqueFp[\"1\"], uniqueFp[\"2\"], uniqueFp[\"3\"]]) / 3\n",
      "print \"Average Unique False Positive Percentage: \", uniqueAvgFp[id]\n",
      "multimapAvgTp[id] = sum([multimapTp[\"1\"], multimapTp[\"2\"], multimapTp[\"3\"]]) / 3\n",
      "print \"Average Multimap True Positive Percentage: \", multimapAvgTp[id]\n",
      "multimapAvgFp[id] = sum([multimapFp[\"1\"], multimapFp[\"2\"], multimapFp[\"3\"]]) / 3\n",
      "print \"Average Multimap False Positive Percentage: \", multimapAvgFp[id]"
     ],
     "language": "python",
     "metadata": {},
     "outputs": []
    },
    {
     "cell_type": "raw",
     "metadata": {},
     "source": [
      "Random transcriptome with 5000 transcripts, 80% artificial isoforms, single end 100 bp reads, 50x expression"
     ]
    },
    {
     "cell_type": "code",
     "collapsed": false,
     "input": [
      "num = \"197\"\n",
      "rep = \"1\"\n",
      "error = \"1\"\n",
      "r = \"100\"\n",
      "g = \"100\"\n",
      "createDataSet(num,rep)\n",
      "!grep '>' DataSet197rep1E1R100G100.fa | wc -l\n",
      "defaultTp = {}\n",
      "defaultFp = {}\n",
      "uniqueTp = {}\n",
      "uniqueFp = {}\n",
      "multimapTp = {}\n",
      "multimapFp = {}\n",
      "runBowtieBuild(num,rep,error,r,g)\n",
      "runBowtieAllParams(num,rep,error,r,g,num,rep,error,r,g)\n",
      "getTruePositivesAllParams(num,rep,error,r,g,\"random\")\n",
      "defaultTp[rep],defaultFp[rep] = getTpFp(num,rep,error,r,g,\"default\",num,rep,error,r,g)\n",
      "uniqueTp[rep],uniqueFp[rep] = getTpFp(num,rep,error,r,g,\"unique\",num,rep,error,r,g)\n",
      "multimapTp[rep],multimapFp[rep] = getTpFp(num,rep,error,r,g,\"multimap\",num,rep,error,r,g)\n",
      "print defaultTp, defaultFp, uniqueTp, uniqueFp, multimapTp, multimapFp"
     ],
     "language": "python",
     "metadata": {},
     "outputs": []
    },
    {
     "cell_type": "code",
     "collapsed": false,
     "input": [
      "num = \"197\"\n",
      "rep = \"2\"\n",
      "error = \"1\"\n",
      "r = \"100\"\n",
      "g = \"100\"\n",
      "createDataSet(num,rep)\n",
      "!grep '>' DataSet197rep2E1R100G100.fa | wc -l\n",
      "runBowtieBuild(num,rep,error,r,g)\n",
      "runBowtieAllParams(num,rep,error,r,g,num,rep,error,r,g)\n",
      "getTruePositivesAllParams(num,rep,error,r,g,\"random\")\n",
      "defaultTp[rep],defaultFp[rep] = getTpFp(num,rep,error,r,g,\"default\",num,rep,error,r,g)\n",
      "uniqueTp[rep],uniqueFp[rep] = getTpFp(num,rep,error,r,g,\"unique\",num,rep,error,r,g)\n",
      "multimapTp[rep],multimapFp[rep] = getTpFp(num,rep,error,r,g,\"multimap\",num,rep,error,r,g)\n",
      "print defaultTp, defaultFp, uniqueTp, uniqueFp, multimapTp, multimapFp"
     ],
     "language": "python",
     "metadata": {},
     "outputs": []
    },
    {
     "cell_type": "code",
     "collapsed": false,
     "input": [
      "num = \"197\"\n",
      "rep = \"3\"\n",
      "error = \"1\"\n",
      "r = \"100\"\n",
      "g = \"100\"\n",
      "createDataSet(num,rep)\n",
      "!grep '>' DataSet197rep3E1R100G100.fa | wc -l\n",
      "runBowtieBuild(num,rep,error,r,g)\n",
      "runBowtieAllParams(num,rep,error,r,g,num,rep,error,r,g)\n",
      "getTruePositivesAllParams(num,rep,error,r,g,\"random\")\n",
      "defaultTp[rep],defaultFp[rep] = getTpFp(num,rep,error,r,g,\"default\",num,rep,error,r,g)\n",
      "uniqueTp[rep],uniqueFp[rep] = getTpFp(num,rep,error,r,g,\"unique\",num,rep,error,r,g)\n",
      "multimapTp[rep],multimapFp[rep] = getTpFp(num,rep,error,r,g,\"multimap\",num,rep,error,r,g)\n",
      "print defaultTp, defaultFp, uniqueTp, uniqueFp, multimapTp, multimapFp"
     ],
     "language": "python",
     "metadata": {},
     "outputs": []
    },
    {
     "cell_type": "code",
     "collapsed": false,
     "input": [
      "id = \"80\"\n",
      "defaultAvgTp[id] = sum([defaultTp[\"1\"], defaultTp[\"2\"], defaultTp[\"3\"]]) / 3\n",
      "print \"Average Default True Positive Percentage: \", defaultAvgTp[id]\n",
      "defaultAvgFp[id] = sum([defaultFp[\"1\"], defaultFp[\"2\"], defaultFp[\"3\"]]) / 3\n",
      "print \"Average Default False Positive Percentage: \", defaultAvgFp[id]\n",
      "uniqueAvgTp[id] = sum([uniqueTp[\"1\"], uniqueTp[\"2\"], uniqueTp[\"3\"]]) / 3\n",
      "print \"Average Unique True Positive Percentage: \", uniqueAvgTp[id]\n",
      "uniqueAvgFp[id] = sum([uniqueFp[\"1\"], uniqueFp[\"2\"], uniqueFp[\"3\"]]) / 3\n",
      "print \"Average Unique False Positive Percentage: \", uniqueAvgFp[id]\n",
      "multimapAvgTp[id] = sum([multimapTp[\"1\"], multimapTp[\"2\"], multimapTp[\"3\"]]) / 3\n",
      "print \"Average Multimap True Positive Percentage: \", multimapAvgTp[id]\n",
      "multimapAvgFp[id] = sum([multimapFp[\"1\"], multimapFp[\"2\"], multimapFp[\"3\"]]) / 3\n",
      "print \"Average Multimap False Positive Percentage: \", multimapAvgFp[id]"
     ],
     "language": "python",
     "metadata": {},
     "outputs": []
    },
    {
     "cell_type": "raw",
     "metadata": {},
     "source": [
      "Random transcriptome with 5000 transcripts, 85% artificial isoforms, single end 100 bp reads, 50x expression"
     ]
    },
    {
     "cell_type": "code",
     "collapsed": false,
     "input": [
      "num = \"198\"\n",
      "rep = \"1\"\n",
      "error = \"1\"\n",
      "r = \"100\"\n",
      "g = \"100\"\n",
      "createDataSet(num,rep)\n",
      "!grep '>' DataSet198rep1E1R100G100.fa | wc -l\n",
      "defaultTp = {}\n",
      "defaultFp = {}\n",
      "uniqueTp = {}\n",
      "uniqueFp = {}\n",
      "multimapTp = {}\n",
      "multimapFp = {}\n",
      "runBowtieBuild(num,rep,error,r,g)\n",
      "runBowtieAllParams(num,rep,error,r,g,num,rep,error,r,g)\n",
      "getTruePositivesAllParams(num,rep,error,r,g,\"random\")\n",
      "defaultTp[rep],defaultFp[rep] = getTpFp(num,rep,error,r,g,\"default\",num,rep,error,r,g)\n",
      "uniqueTp[rep],uniqueFp[rep] = getTpFp(num,rep,error,r,g,\"unique\",num,rep,error,r,g)\n",
      "multimapTp[rep],multimapFp[rep] = getTpFp(num,rep,error,r,g,\"multimap\",num,rep,error,r,g)\n",
      "print defaultTp, defaultFp, uniqueTp, uniqueFp, multimapTp, multimapFp"
     ],
     "language": "python",
     "metadata": {},
     "outputs": []
    },
    {
     "cell_type": "code",
     "collapsed": false,
     "input": [
      "num = \"198\"\n",
      "rep = \"2\"\n",
      "error = \"1\"\n",
      "r = \"100\"\n",
      "g = \"100\"\n",
      "createDataSet(num,rep)\n",
      "!grep '>' DataSet198rep2E1R100G100.fa | wc -l\n",
      "runBowtieBuild(num,rep,error,r,g)\n",
      "runBowtieAllParams(num,rep,error,r,g,num,rep,error,r,g)\n",
      "getTruePositivesAllParams(num,rep,error,r,g,\"random\")\n",
      "defaultTp[rep],defaultFp[rep] = getTpFp(num,rep,error,r,g,\"default\",num,rep,error,r,g)\n",
      "uniqueTp[rep],uniqueFp[rep] = getTpFp(num,rep,error,r,g,\"unique\",num,rep,error,r,g)\n",
      "multimapTp[rep],multimapFp[rep] = getTpFp(num,rep,error,r,g,\"multimap\",num,rep,error,r,g)\n",
      "print defaultTp, defaultFp, uniqueTp, uniqueFp, multimapTp, multimapFp"
     ],
     "language": "python",
     "metadata": {},
     "outputs": []
    },
    {
     "cell_type": "code",
     "collapsed": false,
     "input": [
      "num = \"198\"\n",
      "rep = \"3\"\n",
      "error = \"1\"\n",
      "r = \"100\"\n",
      "g = \"100\"\n",
      "createDataSet(num,rep)\n",
      "!grep '>' DataSet198rep3E1R100G100.fa | wc -l\n",
      "runBowtieBuild(num,rep,error,r,g)\n",
      "runBowtieAllParams(num,rep,error,r,g,num,rep,error,r,g)\n",
      "getTruePositivesAllParams(num,rep,error,r,g,\"random\")\n",
      "defaultTp[rep],defaultFp[rep] = getTpFp(num,rep,error,r,g,\"default\",num,rep,error,r,g)\n",
      "uniqueTp[rep],uniqueFp[rep] = getTpFp(num,rep,error,r,g,\"unique\",num,rep,error,r,g)\n",
      "multimapTp[rep],multimapFp[rep] = getTpFp(num,rep,error,r,g,\"multimap\",num,rep,error,r,g)\n",
      "print defaultTp, defaultFp, uniqueTp, uniqueFp, multimapTp, multimapFp"
     ],
     "language": "python",
     "metadata": {},
     "outputs": []
    },
    {
     "cell_type": "code",
     "collapsed": false,
     "input": [
      "id = \"85\"\n",
      "defaultAvgTp[id] = sum([defaultTp[\"1\"], defaultTp[\"2\"], defaultTp[\"3\"]]) / 3\n",
      "print \"Average Default True Positive Percentage: \", defaultAvgTp[id]\n",
      "defaultAvgFp[id] = sum([defaultFp[\"1\"], defaultFp[\"2\"], defaultFp[\"3\"]]) / 3\n",
      "print \"Average Default False Positive Percentage: \", defaultAvgFp[id]\n",
      "uniqueAvgTp[id] = sum([uniqueTp[\"1\"], uniqueTp[\"2\"], uniqueTp[\"3\"]]) / 3\n",
      "print \"Average Unique True Positive Percentage: \", uniqueAvgTp[id]\n",
      "uniqueAvgFp[id] = sum([uniqueFp[\"1\"], uniqueFp[\"2\"], uniqueFp[\"3\"]]) / 3\n",
      "print \"Average Unique False Positive Percentage: \", uniqueAvgFp[id]\n",
      "multimapAvgTp[id] = sum([multimapTp[\"1\"], multimapTp[\"2\"], multimapTp[\"3\"]]) / 3\n",
      "print \"Average Multimap True Positive Percentage: \", multimapAvgTp[id]\n",
      "multimapAvgFp[id] = sum([multimapFp[\"1\"], multimapFp[\"2\"], multimapFp[\"3\"]]) / 3\n",
      "print \"Average Multimap False Positive Percentage: \", multimapAvgFp[id]"
     ],
     "language": "python",
     "metadata": {},
     "outputs": []
    },
    {
     "cell_type": "raw",
     "metadata": {},
     "source": [
      "Random transcriptome with 5000 transcripts, 90% artificial isoforms, single end 100 bp reads, 50x expression"
     ]
    },
    {
     "cell_type": "code",
     "collapsed": false,
     "input": [
      "num = \"199\"\n",
      "rep = \"1\"\n",
      "error = \"1\"\n",
      "r = \"100\"\n",
      "g = \"100\"\n",
      "createDataSet(num,rep)\n",
      "!grep '>' DataSet199rep1E1R100G100.fa | wc -l\n",
      "defaultTp = {}\n",
      "defaultFp = {}\n",
      "uniqueTp = {}\n",
      "uniqueFp = {}\n",
      "multimapTp = {}\n",
      "multimapFp = {}\n",
      "runBowtieBuild(num,rep,error,r,g)\n",
      "runBowtieAllParams(num,rep,error,r,g,num,rep,error,r,g)\n",
      "getTruePositivesAllParams(num,rep,error,r,g,\"random\")\n",
      "defaultTp[rep],defaultFp[rep] = getTpFp(num,rep,error,r,g,\"default\",num,rep,error,r,g)\n",
      "uniqueTp[rep],uniqueFp[rep] = getTpFp(num,rep,error,r,g,\"unique\",num,rep,error,r,g)\n",
      "multimapTp[rep],multimapFp[rep] = getTpFp(num,rep,error,r,g,\"multimap\",num,rep,error,r,g)\n",
      "print defaultTp, defaultFp, uniqueTp, uniqueFp, multimapTp, multimapFp"
     ],
     "language": "python",
     "metadata": {},
     "outputs": []
    },
    {
     "cell_type": "code",
     "collapsed": false,
     "input": [
      "num = \"199\"\n",
      "rep = \"2\"\n",
      "error = \"1\"\n",
      "r = \"100\"\n",
      "g = \"100\"\n",
      "createDataSet(num,rep)\n",
      "!grep '>' DataSet199rep2E1R100G100.fa | wc -l\n",
      "runBowtieBuild(num,rep,error,r,g)\n",
      "runBowtieAllParams(num,rep,error,r,g,num,rep,error,r,g)\n",
      "getTruePositivesAllParams(num,rep,error,r,g,\"random\")\n",
      "defaultTp[rep],defaultFp[rep] = getTpFp(num,rep,error,r,g,\"default\",num,rep,error,r,g)\n",
      "uniqueTp[rep],uniqueFp[rep] = getTpFp(num,rep,error,r,g,\"unique\",num,rep,error,r,g)\n",
      "multimapTp[rep],multimapFp[rep] = getTpFp(num,rep,error,r,g,\"multimap\",num,rep,error,r,g)\n",
      "print defaultTp, defaultFp, uniqueTp, uniqueFp, multimapTp, multimapFp"
     ],
     "language": "python",
     "metadata": {},
     "outputs": []
    },
    {
     "cell_type": "code",
     "collapsed": false,
     "input": [
      "num = \"199\"\n",
      "rep = \"3\"\n",
      "error = \"1\"\n",
      "r = \"100\"\n",
      "g = \"100\"\n",
      "createDataSet(num,rep)\n",
      "!grep '>' DataSet199rep3E1R100G100.fa | wc -l\n",
      "runBowtieBuild(num,rep,error,r,g)\n",
      "runBowtieAllParams(num,rep,error,r,g,num,rep,error,r,g)\n",
      "getTruePositivesAllParams(num,rep,error,r,g,\"random\")\n",
      "defaultTp[rep],defaultFp[rep] = getTpFp(num,rep,error,r,g,\"default\",num,rep,error,r,g)\n",
      "uniqueTp[rep],uniqueFp[rep] = getTpFp(num,rep,error,r,g,\"unique\",num,rep,error,r,g)\n",
      "multimapTp[rep],multimapFp[rep] = getTpFp(num,rep,error,r,g,\"multimap\",num,rep,error,r,g)\n",
      "print defaultTp, defaultFp, uniqueTp, uniqueFp, multimapTp, multimapFp"
     ],
     "language": "python",
     "metadata": {},
     "outputs": []
    },
    {
     "cell_type": "code",
     "collapsed": false,
     "input": [
      "id = \"90\"\n",
      "defaultAvgTp[id] = sum([defaultTp[\"1\"], defaultTp[\"2\"], defaultTp[\"3\"]]) / 3\n",
      "print \"Average Default True Positive Percentage: \", defaultAvgTp[id]\n",
      "defaultAvgFp[id] = sum([defaultFp[\"1\"], defaultFp[\"2\"], defaultFp[\"3\"]]) / 3\n",
      "print \"Average Default False Positive Percentage: \", defaultAvgFp[id]\n",
      "uniqueAvgTp[id] = sum([uniqueTp[\"1\"], uniqueTp[\"2\"], uniqueTp[\"3\"]]) / 3\n",
      "print \"Average Unique True Positive Percentage: \", uniqueAvgTp[id]\n",
      "uniqueAvgFp[id] = sum([uniqueFp[\"1\"], uniqueFp[\"2\"], uniqueFp[\"3\"]]) / 3\n",
      "print \"Average Unique False Positive Percentage: \", uniqueAvgFp[id]\n",
      "multimapAvgTp[id] = sum([multimapTp[\"1\"], multimapTp[\"2\"], multimapTp[\"3\"]]) / 3\n",
      "print \"Average Multimap True Positive Percentage: \", multimapAvgTp[id]\n",
      "multimapAvgFp[id] = sum([multimapFp[\"1\"], multimapFp[\"2\"], multimapFp[\"3\"]]) / 3\n",
      "print \"Average Multimap False Positive Percentage: \", multimapAvgFp[id]"
     ],
     "language": "python",
     "metadata": {},
     "outputs": []
    },
    {
     "cell_type": "raw",
     "metadata": {},
     "source": [
      "Random transcriptome with 5000 transcripts, 95% artificial isoforms, single end 100 bp reads, 50x expression"
     ]
    },
    {
     "cell_type": "code",
     "collapsed": false,
     "input": [
      "num = \"200\"\n",
      "rep = \"1\"\n",
      "error = \"1\"\n",
      "r = \"100\"\n",
      "g = \"100\"\n",
      "createDataSet(num,rep)\n",
      "!grep '>' DataSet200rep1E1R100G100.fa | wc -l\n",
      "defaultTp = {}\n",
      "defaultFp = {}\n",
      "uniqueTp = {}\n",
      "uniqueFp = {}\n",
      "multimapTp = {}\n",
      "multimapFp = {}\n",
      "runBowtieBuild(num,rep,error,r,g)\n",
      "runBowtieAllParams(num,rep,error,r,g,num,rep,error,r,g)\n",
      "getTruePositivesAllParams(num,rep,error,r,g,\"random\")\n",
      "defaultTp[rep],defaultFp[rep] = getTpFp(num,rep,error,r,g,\"default\",num,rep,error,r,g)\n",
      "uniqueTp[rep],uniqueFp[rep] = getTpFp(num,rep,error,r,g,\"unique\",num,rep,error,r,g)\n",
      "multimapTp[rep],multimapFp[rep] = getTpFp(num,rep,error,r,g,\"multimap\",num,rep,error,r,g)\n",
      "print defaultTp, defaultFp, uniqueTp, uniqueFp, multimapTp, multimapFp"
     ],
     "language": "python",
     "metadata": {},
     "outputs": []
    },
    {
     "cell_type": "code",
     "collapsed": false,
     "input": [
      "num = \"200\"\n",
      "rep = \"2\"\n",
      "error = \"1\"\n",
      "r = \"100\"\n",
      "g = \"100\"\n",
      "createDataSet(num,rep)\n",
      "!grep '>' DataSet200rep2E1R100G100.fa | wc -l\n",
      "runBowtieBuild(num,rep,error,r,g)\n",
      "runBowtieAllParams(num,rep,error,r,g,num,rep,error,r,g)\n",
      "getTruePositivesAllParams(num,rep,error,r,g,\"random\")\n",
      "defaultTp[rep],defaultFp[rep] = getTpFp(num,rep,error,r,g,\"default\",num,rep,error,r,g)\n",
      "uniqueTp[rep],uniqueFp[rep] = getTpFp(num,rep,error,r,g,\"unique\",num,rep,error,r,g)\n",
      "multimapTp[rep],multimapFp[rep] = getTpFp(num,rep,error,r,g,\"multimap\",num,rep,error,r,g)\n",
      "print defaultTp, defaultFp, uniqueTp, uniqueFp, multimapTp, multimapFp"
     ],
     "language": "python",
     "metadata": {},
     "outputs": []
    },
    {
     "cell_type": "code",
     "collapsed": false,
     "input": [
      "num = \"200\"\n",
      "rep = \"3\"\n",
      "error = \"1\"\n",
      "r = \"100\"\n",
      "g = \"100\"\n",
      "createDataSet(num,rep)\n",
      "!grep '>' DataSet200rep3E1R100G100.fa | wc -l\n",
      "runBowtieBuild(num,rep,error,r,g)\n",
      "runBowtieAllParams(num,rep,error,r,g,num,rep,error,r,g)\n",
      "getTruePositivesAllParams(num,rep,error,r,g,\"random\")\n",
      "defaultTp[rep],defaultFp[rep] = getTpFp(num,rep,error,r,g,\"default\",num,rep,error,r,g)\n",
      "uniqueTp[rep],uniqueFp[rep] = getTpFp(num,rep,error,r,g,\"unique\",num,rep,error,r,g)\n",
      "multimapTp[rep],multimapFp[rep] = getTpFp(num,rep,error,r,g,\"multimap\",num,rep,error,r,g)\n",
      "print defaultTp, defaultFp, uniqueTp, uniqueFp, multimapTp, multimapFp"
     ],
     "language": "python",
     "metadata": {},
     "outputs": []
    },
    {
     "cell_type": "code",
     "collapsed": false,
     "input": [
      "id = \"95\"\n",
      "defaultAvgTp[id] = sum([defaultTp[\"1\"], defaultTp[\"2\"], defaultTp[\"3\"]]) / 3\n",
      "print \"Average Default True Positive Percentage: \", defaultAvgTp[id]\n",
      "defaultAvgFp[id] = sum([defaultFp[\"1\"], defaultFp[\"2\"], defaultFp[\"3\"]]) / 3\n",
      "print \"Average Default False Positive Percentage: \", defaultAvgFp[id]\n",
      "uniqueAvgTp[id] = sum([uniqueTp[\"1\"], uniqueTp[\"2\"], uniqueTp[\"3\"]]) / 3\n",
      "print \"Average Unique True Positive Percentage: \", uniqueAvgTp[id]\n",
      "uniqueAvgFp[id] = sum([uniqueFp[\"1\"], uniqueFp[\"2\"], uniqueFp[\"3\"]]) / 3\n",
      "print \"Average Unique False Positive Percentage: \", uniqueAvgFp[id]\n",
      "multimapAvgTp[id] = sum([multimapTp[\"1\"], multimapTp[\"2\"], multimapTp[\"3\"]]) / 3\n",
      "print \"Average Multimap True Positive Percentage: \", multimapAvgTp[id]\n",
      "multimapAvgFp[id] = sum([multimapFp[\"1\"], multimapFp[\"2\"], multimapFp[\"3\"]]) / 3\n",
      "print \"Average Multimap False Positive Percentage: \", multimapAvgFp[id]"
     ],
     "language": "python",
     "metadata": {},
     "outputs": []
    },
    {
     "cell_type": "heading",
     "level": 2,
     "metadata": {},
     "source": [
      "Test 3: Mapping accuracy of read sets generated from 50% expressed full chicken and mouse transcriptomes with incomplete reference transcriptomes"
     ]
    },
    {
     "cell_type": "raw",
     "metadata": {},
     "source": [
      "Chicken transcriptome, 50% expression, single end 100 bp reads, {0 10 100 100}x expression"
     ]
    },
    {
     "cell_type": "code",
     "collapsed": false,
     "input": [
      "defaultAvgTp = {}\n",
      "defaultAvgFp = {}\n",
      "uniqueAvgTp = {}\n",
      "uniqueAvgFp = {}\n",
      "multimapAvgTp = {}\n",
      "multimapAvgFp = {}"
     ],
     "language": "python",
     "metadata": {},
     "outputs": []
    },
    {
     "cell_type": "code",
     "collapsed": false,
     "input": [
      "num = \"234\"\n",
      "rep = \"1\"\n",
      "error = \"1\"\n",
      "r = \"100\"\n",
      "g = \"100\"\n",
      "createDataSet(num,rep)\n",
      "!grep '>' DataSet234rep1E1R100G100.fa | wc -l\n",
      "defaultTp = {}\n",
      "defaultFp = {}\n",
      "uniqueTp = {}\n",
      "uniqueFp = {}\n",
      "multimapTp = {}\n",
      "multimapFp = {}\n",
      "runBowtieBuild(num,rep,error,r,g)\n",
      "runBowtieAllParams(num,rep,error,r,g,num,rep,error,r,g)\n",
      "getTruePositivesAllParams(num,rep,error,r,g,\"random\")\n",
      "defaultTp[rep],defaultFp[rep] = getTpFp(num,rep,error,r,g,\"default\",num,rep,error,r,g)\n",
      "uniqueTp[rep],uniqueFp[rep] = getTpFp(num,rep,error,r,g,\"unique\",num,rep,error,r,g)\n",
      "multimapTp[rep],multimapFp[rep] = getTpFp(num,rep,error,r,g,\"multimap\",num,rep,error,r,g)\n",
      "print defaultTp, defaultFp, uniqueTp, uniqueFp, multimapTp, multimapFp"
     ],
     "language": "python",
     "metadata": {},
     "outputs": []
    },
    {
     "cell_type": "code",
     "collapsed": false,
     "input": [
      "num = \"234\"\n",
      "rep = \"2\"\n",
      "error = \"1\"\n",
      "r = \"100\"\n",
      "g = \"100\"\n",
      "createDataSet(num,rep)\n",
      "!grep '>' DataSet234rep2E1R100G100.fa | wc -l\n",
      "runBowtieBuild(num,rep,error,r,g)\n",
      "runBowtieAllParams(num,rep,error,r,g,num,rep,error,r,g)\n",
      "getTruePositivesAllParams(num,rep,error,r,g,\"random\")\n",
      "defaultTp[rep],defaultFp[rep] = getTpFp(num,rep,error,r,g,\"default\",num,rep,error,r,g)\n",
      "uniqueTp[rep],uniqueFp[rep] = getTpFp(num,rep,error,r,g,\"unique\",num,rep,error,r,g)\n",
      "multimapTp[rep],multimapFp[rep] = getTpFp(num,rep,error,r,g,\"multimap\",num,rep,error,r,g)\n",
      "print defaultTp, defaultFp, uniqueTp, uniqueFp, multimapTp, multimapFp"
     ],
     "language": "python",
     "metadata": {},
     "outputs": []
    },
    {
     "cell_type": "code",
     "collapsed": false,
     "input": [
      "num = \"234\"\n",
      "rep = \"3\"\n",
      "error = \"1\"\n",
      "r = \"100\"\n",
      "g = \"100\"\n",
      "createDataSet(num,rep)\n",
      "!grep '>' DataSet234rep3E1R100G100.fa | wc -l\n",
      "runBowtieBuild(num,rep,error,r,g)\n",
      "runBowtieAllParams(num,rep,error,r,g,num,rep,error,r,g)\n",
      "getTruePositivesAllParams(num,rep,error,r,g,\"random\")\n",
      "defaultTp[rep],defaultFp[rep] = getTpFp(num,rep,error,r,g,\"default\",num,rep,error,r,g)\n",
      "uniqueTp[rep],uniqueFp[rep] = getTpFp(num,rep,error,r,g,\"unique\",num,rep,error,r,g)\n",
      "multimapTp[rep],multimapFp[rep] = getTpFp(num,rep,error,r,g,\"multimap\",num,rep,error,r,g)\n",
      "print defaultTp, defaultFp, uniqueTp, uniqueFp, multimapTp, multimapFp"
     ],
     "language": "python",
     "metadata": {},
     "outputs": []
    },
    {
     "cell_type": "code",
     "collapsed": false,
     "input": [
      "id = \"100\"\n",
      "defaultAvgTp[id] = sum([defaultTp[\"1\"], defaultTp[\"2\"], defaultTp[\"3\"]]) / 3\n",
      "print \"Average Default True Positive Percentage: \", defaultAvgTp[id]\n",
      "defaultAvgFp[id] = sum([defaultFp[\"1\"], defaultFp[\"2\"], defaultFp[\"3\"]]) / 3\n",
      "print \"Average Default False Positive Percentage: \", defaultAvgFp[id]\n",
      "uniqueAvgTp[id] = sum([uniqueTp[\"1\"], uniqueTp[\"2\"], uniqueTp[\"3\"]]) / 3\n",
      "print \"Average Unique True Positive Percentage: \", uniqueAvgTp[id]\n",
      "uniqueAvgFp[id] = sum([uniqueFp[\"1\"], uniqueFp[\"2\"], uniqueFp[\"3\"]]) / 3\n",
      "print \"Average Unique False Positive Percentage: \", uniqueAvgFp[id]\n",
      "multimapAvgTp[id] = sum([multimapTp[\"1\"], multimapTp[\"2\"], multimapTp[\"3\"]]) / 3\n",
      "print \"Average Multimap True Positive Percentage: \", multimapAvgTp[id]\n",
      "multimapAvgFp[id] = sum([multimapFp[\"1\"], multimapFp[\"2\"], multimapFp[\"3\"]]) / 3\n",
      "print \"Average Multimap False Positive Percentage: \", multimapAvgFp[id]"
     ],
     "language": "python",
     "metadata": {},
     "outputs": []
    },
    {
     "cell_type": "code",
     "collapsed": false,
     "input": [
      "num = \"234\"\n",
      "rep = \"1\"\n",
      "error = \"1\"\n",
      "r = \"90\"\n",
      "id = \"090\"\n",
      "g = \"100\"\n",
      "rr = \"100\"\n",
      "runBowtieBuild(num,rep,error,r,g)\n",
      "runBowtieAllParams(num,rep,error,r,g,num,rep,error,r,g)\n",
      "getTruePositivesAllParams(num,rep,error,r,g,\"chicken\")\n",
      "defaultTp[rep],defaultFp[rep] = getTpFp(num,rep,error,r,g,\"default\",num,rep,error,r,g)\n",
      "uniqueTp[rep],uniqueFp[rep] = getTpFp(num,rep,error,r,g,\"unique\",num,rep,error,r,g)\n",
      "multimapTp[rep],multimapFp[rep] = getTpFp(num,rep,error,r,g,\"multimap\",num,rep,error,r,g)\n",
      "rep = \"2\"\n",
      "runBowtieBuild(num,rep,error,r,g)\n",
      "runBowtieAllParams(num,rep,error,r,g,num,rep,error,r,g)\n",
      "getTruePositivesAllParams(num,rep,error,r,g,\"chicken\")\n",
      "defaultTp[rep],defaultFp[rep] = getTpFp(num,rep,error,r,g,\"default\",num,rep,error,r,g)\n",
      "uniqueTp[rep],uniqueFp[rep] = getTpFp(num,rep,error,r,g,\"unique\",num,rep,error,r,g)\n",
      "multimapTp[rep],multimapFp[rep] = getTpFp(num,rep,error,r,g,\"multimap\",num,rep,error,r,g)\n",
      "rep = \"3\"\n",
      "runBowtieBuild(num,rep,error,r,g)\n",
      "runBowtieAllParams(num,rep,error,r,g,num,rep,error,r,g)\n",
      "getTruePositivesAllParams(num,rep,error,r,g,\"chicken\")\n",
      "defaultTp[rep],defaultFp[rep] = getTpFp(num,rep,error,r,g,\"default\",num,rep,error,r,g)\n",
      "uniqueTp[rep],uniqueFp[rep] = getTpFp(num,rep,error,r,g,\"unique\",num,rep,error,r,g)\n",
      "multimapTp[rep],multimapFp[rep] = getTpFp(num,rep,error,r,g,\"multimap\",num,rep,error,r,g)\n",
      "defaultAvgTp[id] = getAverage([defaultTp[\"1\"], defaultTp[\"2\"], defaultTp[\"3\"]])\n",
      "print \"Average Default True Positive Percentage: \", defaultAvgTp[id]\n",
      "defaultAvgFp[id] = getAverage([defaultFp[\"1\"], defaultFp[\"2\"], defaultFp[\"3\"]])\n",
      "print \"Average Default False Positive Percentage: \", defaultAvgFp[id]\n",
      "uniqueAvgTp[id] = getAverage([uniqueTp[\"1\"], uniqueTp[\"2\"], uniqueTp[\"3\"]])\n",
      "print \"Average Unique True Positive Percentage: \", uniqueAvgTp[id]\n",
      "uniqueAvgFp[id] = getAverage([uniqueFp[\"1\"], uniqueFp[\"2\"], uniqueFp[\"3\"]])\n",
      "print \"Average Unique False Positive Percentage: \", uniqueAvgFp[id]\n",
      "multimapAvgTp[id] = getAverage([multimapTp[\"1\"], multimapTp[\"2\"], multimapTp[\"3\"]])\n",
      "print \"Average Multimap True Positive Percentage: \", multimapAvgTp[id]\n",
      "multimapAvgFp[id] = getAverage([multimapFp[\"1\"], multimapFp[\"2\"], multimapFp[\"3\"]])\n",
      "print \"Average Multimap False Positive Percentage: \", multimapAvgFp[id]"
     ],
     "language": "python",
     "metadata": {},
     "outputs": []
    },
    {
     "cell_type": "code",
     "collapsed": false,
     "input": [
      "num = \"234\"\n",
      "rep = \"1\"\n",
      "error = \"1\"\n",
      "r = \"80\"\n",
      "id = \"080\"\n",
      "g = \"100\"\n",
      "rr = \"100\"\n",
      "runBowtieBuild(num,rep,error,r,g)\n",
      "runBowtieAllParams(num,rep,error,r,g,num,rep,error,r,g)\n",
      "getTruePositivesAllParams(num,rep,error,r,g,\"chicken\")\n",
      "defaultTp[rep],defaultFp[rep] = getTpFp(num,rep,error,r,g,\"default\",num,rep,error,r,g)\n",
      "uniqueTp[rep],uniqueFp[rep] = getTpFp(num,rep,error,r,g,\"unique\",num,rep,error,r,g)\n",
      "multimapTp[rep],multimapFp[rep] = getTpFp(num,rep,error,r,g,\"multimap\",num,rep,error,r,g)\n",
      "rep = \"2\"\n",
      "runBowtieBuild(num,rep,error,r,g)\n",
      "runBowtieAllParams(num,rep,error,r,g,num,rep,error,r,g)\n",
      "getTruePositivesAllParams(num,rep,error,r,g,\"chicken\")\n",
      "defaultTp[rep],defaultFp[rep] = getTpFp(num,rep,error,r,g,\"default\",num,rep,error,r,g)\n",
      "uniqueTp[rep],uniqueFp[rep] = getTpFp(num,rep,error,r,g,\"unique\",num,rep,error,r,g)\n",
      "multimapTp[rep],multimapFp[rep] = getTpFp(num,rep,error,r,g,\"multimap\",num,rep,error,r,g)\n",
      "rep = \"3\"\n",
      "runBowtieBuild(num,rep,error,r,g)\n",
      "runBowtieAllParams(num,rep,error,r,g,num,rep,error,r,g)\n",
      "getTruePositivesAllParams(num,rep,error,r,g,\"chicken\")\n",
      "defaultTp[rep],defaultFp[rep] = getTpFp(num,rep,error,r,g,\"default\",num,rep,error,r,g)\n",
      "uniqueTp[rep],uniqueFp[rep] = getTpFp(num,rep,error,r,g,\"unique\",num,rep,error,r,g)\n",
      "multimapTp[rep],multimapFp[rep] = getTpFp(num,rep,error,r,g,\"multimap\",num,rep,error,r,g)\n",
      "defaultAvgTp[id] = sum([defaultTp[\"1\"], defaultTp[\"2\"], defaultTp[\"3\"]]) / 3\n",
      "print \"Average Default True Positive Percentage: \", defaultAvgTp[id]\n",
      "defaultAvgFp[id] = sum([defaultFp[\"1\"], defaultFp[\"2\"], defaultFp[\"3\"]]) / 3\n",
      "print \"Average Default False Positive Percentage: \", defaultAvgFp[id]\n",
      "uniqueAvgTp[id] = sum([uniqueTp[\"1\"], uniqueTp[\"2\"], uniqueTp[\"3\"]]) / 3\n",
      "print \"Average Unique True Positive Percentage: \", uniqueAvgTp[id]\n",
      "uniqueAvgFp[id] = sum([uniqueFp[\"1\"], uniqueFp[\"2\"], uniqueFp[\"3\"]]) / 3\n",
      "print \"Average Unique False Positive Percentage: \", uniqueAvgFp[id]\n",
      "multimapAvgTp[id] = sum([multimapTp[\"1\"], multimapTp[\"2\"], multimapTp[\"3\"]]) / 3\n",
      "print \"Average Multimap True Positive Percentage: \", multimapAvgTp[id]\n",
      "multimapAvgFp[id] = sum([multimapFp[\"1\"], multimapFp[\"2\"], multimapFp[\"3\"]]) / 3\n",
      "print \"Average Multimap False Positive Percentage: \", multimapAvgFp[id]"
     ],
     "language": "python",
     "metadata": {},
     "outputs": []
    },
    {
     "cell_type": "code",
     "collapsed": false,
     "input": [
      "num = \"234\"\n",
      "rep = \"1\"\n",
      "error = \"1\"\n",
      "r = \"70\"\n",
      "id = \"070\"\n",
      "g = \"100\"\n",
      "rr = \"100\"\n",
      "runBowtieBuild(num,rep,error,r,g)\n",
      "runBowtieAllParams(num,rep,error,r,g,num,rep,error,r,g)\n",
      "getTruePositivesAllParams(num,rep,error,r,g,\"chicken\")\n",
      "defaultTp[rep],defaultFp[rep] = getTpFp(num,rep,error,r,g,\"default\",num,rep,error,r,g)\n",
      "uniqueTp[rep],uniqueFp[rep] = getTpFp(num,rep,error,r,g,\"unique\",num,rep,error,r,g)\n",
      "multimapTp[rep],multimapFp[rep] = getTpFp(num,rep,error,r,g,\"multimap\",num,rep,error,r,g)\n",
      "rep = \"2\"\n",
      "runBowtieBuild(num,rep,error,r,g)\n",
      "runBowtieAllParams(num,rep,error,r,g,num,rep,error,r,g)\n",
      "getTruePositivesAllParams(num,rep,error,r,g,\"chicken\")\n",
      "defaultTp[rep],defaultFp[rep] = getTpFp(num,rep,error,r,g,\"default\",num,rep,error,r,g)\n",
      "uniqueTp[rep],uniqueFp[rep] = getTpFp(num,rep,error,r,g,\"unique\",num,rep,error,r,g)\n",
      "multimapTp[rep],multimapFp[rep] = getTpFp(num,rep,error,r,g,\"multimap\",num,rep,error,r,g)\n",
      "rep = \"3\"\n",
      "runBowtieBuild(num,rep,error,r,g)\n",
      "runBowtieAllParams(num,rep,error,r,g,num,rep,error,r,g)\n",
      "getTruePositivesAllParams(num,rep,error,r,g,\"chicken\")\n",
      "defaultTp[rep],defaultFp[rep] = getTpFp(num,rep,error,r,g,\"default\",num,rep,error,r,g)\n",
      "uniqueTp[rep],uniqueFp[rep] = getTpFp(num,rep,error,r,g,\"unique\",num,rep,error,r,g)\n",
      "multimapTp[rep],multimapFp[rep] = getTpFp(num,rep,error,r,g,\"multimap\",num,rep,error,r,g)\n",
      "defaultAvgTp[id] = sum([defaultTp[\"1\"], defaultTp[\"2\"], defaultTp[\"3\"]]) / 3\n",
      "print \"Average Default True Positive Percentage: \", defaultAvgTp[id]\n",
      "defaultAvgFp[id] = sum([defaultFp[\"1\"], defaultFp[\"2\"], defaultFp[\"3\"]]) / 3\n",
      "print \"Average Default False Positive Percentage: \", defaultAvgFp[id]\n",
      "uniqueAvgTp[id] = sum([uniqueTp[\"1\"], uniqueTp[\"2\"], uniqueTp[\"3\"]]) / 3\n",
      "print \"Average Unique True Positive Percentage: \", uniqueAvgTp[id]\n",
      "uniqueAvgFp[id] = sum([uniqueFp[\"1\"], uniqueFp[\"2\"], uniqueFp[\"3\"]]) / 3\n",
      "print \"Average Unique False Positive Percentage: \", uniqueAvgFp[id]\n",
      "multimapAvgTp[id] = sum([multimapTp[\"1\"], multimapTp[\"2\"], multimapTp[\"3\"]]) / 3\n",
      "print \"Average Multimap True Positive Percentage: \", multimapAvgTp[id]\n",
      "multimapAvgFp[id] = sum([multimapFp[\"1\"], multimapFp[\"2\"], multimapFp[\"3\"]]) / 3\n",
      "print \"Average Multimap False Positive Percentage: \", multimapAvgFp[id]"
     ],
     "language": "python",
     "metadata": {},
     "outputs": []
    },
    {
     "cell_type": "code",
     "collapsed": false,
     "input": [
      "num = \"234\"\n",
      "rep = \"1\"\n",
      "error = \"1\"\n",
      "r = \"60\"\n",
      "id = \"060\"\n",
      "g = \"100\"\n",
      "rr = \"100\"\n",
      "runBowtieBuild(num,rep,error,r,g)\n",
      "runBowtieAllParams(num,rep,error,r,g,num,rep,error,r,g)\n",
      "getTruePositivesAllParams(num,rep,error,r,g,\"chicken\")\n",
      "defaultTp[rep],defaultFp[rep] = getTpFp(num,rep,error,r,g,\"default\",num,rep,error,r,g)\n",
      "uniqueTp[rep],uniqueFp[rep] = getTpFp(num,rep,error,r,g,\"unique\",num,rep,error,r,g)\n",
      "multimapTp[rep],multimapFp[rep] = getTpFp(num,rep,error,r,g,\"multimap\",num,rep,error,r,g)\n",
      "rep = \"2\"\n",
      "runBowtieBuild(num,rep,error,r,g)\n",
      "runBowtieAllParams(num,rep,error,r,g,num,rep,error,r,g)\n",
      "getTruePositivesAllParams(num,rep,error,r,g,\"chicken\")\n",
      "defaultTp[rep],defaultFp[rep] = getTpFp(num,rep,error,r,g,\"default\",num,rep,error,r,g)\n",
      "uniqueTp[rep],uniqueFp[rep] = getTpFp(num,rep,error,r,g,\"unique\",num,rep,error,r,g)\n",
      "multimapTp[rep],multimapFp[rep] = getTpFp(num,rep,error,r,g,\"multimap\",num,rep,error,r,g)\n",
      "rep = \"3\"\n",
      "runBowtieBuild(num,rep,error,r,g)\n",
      "runBowtieAllParams(num,rep,error,r,g,num,rep,error,r,g)\n",
      "getTruePositivesAllParams(num,rep,error,r,g,\"chicken\")\n",
      "defaultTp[rep],defaultFp[rep] = getTpFp(num,rep,error,r,g,\"default\",num,rep,error,r,g)\n",
      "uniqueTp[rep],uniqueFp[rep] = getTpFp(num,rep,error,r,g,\"unique\",num,rep,error,r,g)\n",
      "multimapTp[rep],multimapFp[rep] = getTpFp(num,rep,error,r,g,\"multimap\",num,rep,error,r,g)\n",
      "defaultAvgTp[id] = sum([defaultTp[\"1\"], defaultTp[\"2\"], defaultTp[\"3\"]]) / 3\n",
      "print \"Average Default True Positive Percentage: \", defaultAvgTp[id]\n",
      "defaultAvgFp[id] = sum([defaultFp[\"1\"], defaultFp[\"2\"], defaultFp[\"3\"]]) / 3\n",
      "print \"Average Default False Positive Percentage: \", defaultAvgFp[id]\n",
      "uniqueAvgTp[id] = sum([uniqueTp[\"1\"], uniqueTp[\"2\"], uniqueTp[\"3\"]]) / 3\n",
      "print \"Average Unique True Positive Percentage: \", uniqueAvgTp[id]\n",
      "uniqueAvgFp[id] = sum([uniqueFp[\"1\"], uniqueFp[\"2\"], uniqueFp[\"3\"]]) / 3\n",
      "print \"Average Unique False Positive Percentage: \", uniqueAvgFp[id]\n",
      "multimapAvgTp[id] = sum([multimapTp[\"1\"], multimapTp[\"2\"], multimapTp[\"3\"]]) / 3\n",
      "print \"Average Multimap True Positive Percentage: \", multimapAvgTp[id]\n",
      "multimapAvgFp[id] = sum([multimapFp[\"1\"], multimapFp[\"2\"], multimapFp[\"3\"]]) / 3\n",
      "print \"Average Multimap False Positive Percentage: \", multimapAvgFp[id]"
     ],
     "language": "python",
     "metadata": {},
     "outputs": []
    },
    {
     "cell_type": "code",
     "collapsed": false,
     "input": [
      "num = \"234\"\n",
      "rep = \"1\"\n",
      "error = \"1\"\n",
      "r = \"50\"\n",
      "id = \"050\"\n",
      "g = \"100\"\n",
      "rr = \"100\"\n",
      "runBowtieBuild(num,rep,error,r,g)\n",
      "runBowtieAllParams(num,rep,error,r,g,num,rep,error,r,g)\n",
      "getTruePositivesAllParams(num,rep,error,r,g,\"chicken\")\n",
      "defaultTp[rep],defaultFp[rep] = getTpFp(num,rep,error,r,g,\"default\",num,rep,error,r,g)\n",
      "uniqueTp[rep],uniqueFp[rep] = getTpFp(num,rep,error,r,g,\"unique\",num,rep,error,r,g)\n",
      "multimapTp[rep],multimapFp[rep] = getTpFp(num,rep,error,r,g,\"multimap\",num,rep,error,r,g)\n",
      "rep = \"2\"\n",
      "runBowtieBuild(num,rep,error,r,g)\n",
      "runBowtieAllParams(num,rep,error,r,g,num,rep,error,r,g)\n",
      "getTruePositivesAllParams(num,rep,error,r,g,\"chicken\")\n",
      "defaultTp[rep],defaultFp[rep] = getTpFp(num,rep,error,r,g,\"default\",num,rep,error,r,g)\n",
      "uniqueTp[rep],uniqueFp[rep] = getTpFp(num,rep,error,r,g,\"unique\",num,rep,error,r,g)\n",
      "multimapTp[rep],multimapFp[rep] = getTpFp(num,rep,error,r,g,\"multimap\",num,rep,error,r,g)\n",
      "rep = \"3\"\n",
      "runBowtieBuild(num,rep,error,r,g)\n",
      "runBowtieAllParams(num,rep,error,r,g,num,rep,error,r,g)\n",
      "getTruePositivesAllParams(num,rep,error,r,g,\"chicken\")\n",
      "defaultTp[rep],defaultFp[rep] = getTpFp(num,rep,error,r,g,\"default\",num,rep,error,r,g)\n",
      "uniqueTp[rep],uniqueFp[rep] = getTpFp(num,rep,error,r,g,\"unique\",num,rep,error,r,g)\n",
      "multimapTp[rep],multimapFp[rep] = getTpFp(num,rep,error,r,g,\"multimap\",num,rep,error,r,g)\n",
      "defaultAvgTp[id] = sum([defaultTp[\"1\"], defaultTp[\"2\"], defaultTp[\"3\"]]) / 3\n",
      "print \"Average Default True Positive Percentage: \", defaultAvgTp[id]\n",
      "defaultAvgFp[id] = sum([defaultFp[\"1\"], defaultFp[\"2\"], defaultFp[\"3\"]]) / 3\n",
      "print \"Average Default False Positive Percentage: \", defaultAvgFp[id]\n",
      "uniqueAvgTp[id] = sum([uniqueTp[\"1\"], uniqueTp[\"2\"], uniqueTp[\"3\"]]) / 3\n",
      "print \"Average Unique True Positive Percentage: \", uniqueAvgTp[id]\n",
      "uniqueAvgFp[id] = sum([uniqueFp[\"1\"], uniqueFp[\"2\"], uniqueFp[\"3\"]]) / 3\n",
      "print \"Average Unique False Positive Percentage: \", uniqueAvgFp[id]\n",
      "multimapAvgTp[id] = sum([multimapTp[\"1\"], multimapTp[\"2\"], multimapTp[\"3\"]]) / 3\n",
      "print \"Average Multimap True Positive Percentage: \", multimapAvgTp[id]\n",
      "multimapAvgFp[id] = sum([multimapFp[\"1\"], multimapFp[\"2\"], multimapFp[\"3\"]]) / 3\n",
      "print \"Average Multimap False Positive Percentage: \", multimapAvgFp[id]"
     ],
     "language": "python",
     "metadata": {},
     "outputs": []
    },
    {
     "cell_type": "code",
     "collapsed": false,
     "input": [
      "num = \"234\"\n",
      "rep = \"1\"\n",
      "error = \"1\"\n",
      "r = \"40\"\n",
      "id = \"040\"\n",
      "g = \"100\"\n",
      "rr = \"100\"\n",
      "runBowtieBuild(num,rep,error,r,g)\n",
      "runBowtieAllParams(num,rep,error,r,g,num,rep,error,r,g)\n",
      "getTruePositivesAllParams(num,rep,error,r,g,\"chicken\")\n",
      "defaultTp[rep],defaultFp[rep] = getTpFp(num,rep,error,r,g,\"default\",num,rep,error,r,g)\n",
      "uniqueTp[rep],uniqueFp[rep] = getTpFp(num,rep,error,r,g,\"unique\",num,rep,error,r,g)\n",
      "multimapTp[rep],multimapFp[rep] = getTpFp(num,rep,error,r,g,\"multimap\",num,rep,error,r,g)\n",
      "rep = \"2\"\n",
      "runBowtieBuild(num,rep,error,r,g)\n",
      "runBowtieAllParams(num,rep,error,r,g,num,rep,error,r,g)\n",
      "getTruePositivesAllParams(num,rep,error,r,g,\"chicken\")\n",
      "defaultTp[rep],defaultFp[rep] = getTpFp(num,rep,error,r,g,\"default\",num,rep,error,r,g)\n",
      "uniqueTp[rep],uniqueFp[rep] = getTpFp(num,rep,error,r,g,\"unique\",num,rep,error,r,g)\n",
      "multimapTp[rep],multimapFp[rep] = getTpFp(num,rep,error,r,g,\"multimap\",num,rep,error,r,g)\n",
      "rep = \"3\"\n",
      "runBowtieBuild(num,rep,error,r,g)\n",
      "runBowtieAllParams(num,rep,error,r,g,num,rep,error,r,g)\n",
      "getTruePositivesAllParams(num,rep,error,r,g,\"chicken\")\n",
      "defaultTp[rep],defaultFp[rep] = getTpFp(num,rep,error,r,g,\"default\",num,rep,error,r,g)\n",
      "uniqueTp[rep],uniqueFp[rep] = getTpFp(num,rep,error,r,g,\"unique\",num,rep,error,r,g)\n",
      "multimapTp[rep],multimapFp[rep] = getTpFp(num,rep,error,r,g,\"multimap\",num,rep,error,r,g)\n",
      "defaultAvgTp[id] = sum([defaultTp[\"1\"], defaultTp[\"2\"], defaultTp[\"3\"]]) / 3\n",
      "print \"Average Default True Positive Percentage: \", defaultAvgTp[id]\n",
      "defaultAvgFp[id] = sum([defaultFp[\"1\"], defaultFp[\"2\"], defaultFp[\"3\"]]) / 3\n",
      "print \"Average Default False Positive Percentage: \", defaultAvgFp[id]\n",
      "uniqueAvgTp[id] = sum([uniqueTp[\"1\"], uniqueTp[\"2\"], uniqueTp[\"3\"]]) / 3\n",
      "print \"Average Unique True Positive Percentage: \", uniqueAvgTp[id]\n",
      "uniqueAvgFp[id] = sum([uniqueFp[\"1\"], uniqueFp[\"2\"], uniqueFp[\"3\"]]) / 3\n",
      "print \"Average Unique False Positive Percentage: \", uniqueAvgFp[id]\n",
      "multimapAvgTp[id] = sum([multimapTp[\"1\"], multimapTp[\"2\"], multimapTp[\"3\"]]) / 3\n",
      "print \"Average Multimap True Positive Percentage: \", multimapAvgTp[id]\n",
      "multimapAvgFp[id] = sum([multimapFp[\"1\"], multimapFp[\"2\"], multimapFp[\"3\"]]) / 3\n",
      "print \"Average Multimap False Positive Percentage: \", multimapAvgFp[id]"
     ],
     "language": "python",
     "metadata": {},
     "outputs": []
    },
    {
     "cell_type": "code",
     "collapsed": false,
     "input": [
      "num = \"234\"\n",
      "rep = \"1\"\n",
      "error = \"1\"\n",
      "r = \"30\"\n",
      "id = \"030\"\n",
      "g = \"100\"\n",
      "rr = \"100\"\n",
      "runBowtieBuild(num,rep,error,r,g)\n",
      "runBowtieAllParams(num,rep,error,r,g,num,rep,error,r,g)\n",
      "getTruePositivesAllParams(num,rep,error,r,g,\"chicken\")\n",
      "defaultTp[rep],defaultFp[rep] = getTpFp(num,rep,error,r,g,\"default\",num,rep,error,r,g)\n",
      "uniqueTp[rep],uniqueFp[rep] = getTpFp(num,rep,error,r,g,\"unique\",num,rep,error,r,g)\n",
      "multimapTp[rep],multimapFp[rep] = getTpFp(num,rep,error,r,g,\"multimap\",num,rep,error,r,g)\n",
      "rep = \"2\"\n",
      "runBowtieBuild(num,rep,error,r,g)\n",
      "runBowtieAllParams(num,rep,error,r,g,num,rep,error,r,g)\n",
      "getTruePositivesAllParams(num,rep,error,r,g,\"chicken\")\n",
      "defaultTp[rep],defaultFp[rep] = getTpFp(num,rep,error,r,g,\"default\",num,rep,error,r,g)\n",
      "uniqueTp[rep],uniqueFp[rep] = getTpFp(num,rep,error,r,g,\"unique\",num,rep,error,r,g)\n",
      "multimapTp[rep],multimapFp[rep] = getTpFp(num,rep,error,r,g,\"multimap\",num,rep,error,r,g)\n",
      "rep = \"3\"\n",
      "runBowtieBuild(num,rep,error,r,g)\n",
      "runBowtieAllParams(num,rep,error,r,g,num,rep,error,r,g)\n",
      "getTruePositivesAllParams(num,rep,error,r,g,\"chicken\")\n",
      "defaultTp[rep],defaultFp[rep] = getTpFp(num,rep,error,r,g,\"default\",num,rep,error,r,g)\n",
      "uniqueTp[rep],uniqueFp[rep] = getTpFp(num,rep,error,r,g,\"unique\",num,rep,error,r,g)\n",
      "multimapTp[rep],multimapFp[rep] = getTpFp(num,rep,error,r,g,\"multimap\",num,rep,error,r,g)\n",
      "defaultAvgTp[id] = sum([defaultTp[\"1\"], defaultTp[\"2\"], defaultTp[\"3\"]]) / 3\n",
      "print \"Average Default True Positive Percentage: \", defaultAvgTp[id]\n",
      "defaultAvgFp[id] = sum([defaultFp[\"1\"], defaultFp[\"2\"], defaultFp[\"3\"]]) / 3\n",
      "print \"Average Default False Positive Percentage: \", defaultAvgFp[id]\n",
      "uniqueAvgTp[id] = sum([uniqueTp[\"1\"], uniqueTp[\"2\"], uniqueTp[\"3\"]]) / 3\n",
      "print \"Average Unique True Positive Percentage: \", uniqueAvgTp[id]\n",
      "uniqueAvgFp[id] = sum([uniqueFp[\"1\"], uniqueFp[\"2\"], uniqueFp[\"3\"]]) / 3\n",
      "print \"Average Unique False Positive Percentage: \", uniqueAvgFp[id]\n",
      "multimapAvgTp[id] = sum([multimapTp[\"1\"], multimapTp[\"2\"], multimapTp[\"3\"]]) / 3\n",
      "print \"Average Multimap True Positive Percentage: \", multimapAvgTp[id]\n",
      "multimapAvgFp[id] = sum([multimapFp[\"1\"], multimapFp[\"2\"], multimapFp[\"3\"]]) / 3\n",
      "print \"Average Multimap False Positive Percentage: \", multimapAvgFp[id]"
     ],
     "language": "python",
     "metadata": {},
     "outputs": []
    },
    {
     "cell_type": "code",
     "collapsed": false,
     "input": [
      "num = \"234\"\n",
      "rep = \"1\"\n",
      "error = \"1\"\n",
      "r = \"20\"\n",
      "id = \"020\"\n",
      "g = \"100\"\n",
      "rr = \"100\"\n",
      "runBowtieBuild(num,rep,error,r,g)\n",
      "runBowtieAllParams(num,rep,error,r,g,num,rep,error,r,g)\n",
      "getTruePositivesAllParams(num,rep,error,r,g,\"chicken\")\n",
      "defaultTp[rep],defaultFp[rep] = getTpFp(num,rep,error,r,g,\"default\",num,rep,error,r,g)\n",
      "uniqueTp[rep],uniqueFp[rep] = getTpFp(num,rep,error,r,g,\"unique\",num,rep,error,r,g)\n",
      "multimapTp[rep],multimapFp[rep] = getTpFp(num,rep,error,r,g,\"multimap\",num,rep,error,r,g)\n",
      "rep = \"2\"\n",
      "runBowtieBuild(num,rep,error,r,g)\n",
      "runBowtieAllParams(num,rep,error,r,g,num,rep,error,r,g)\n",
      "getTruePositivesAllParams(num,rep,error,r,g,\"chicken\")\n",
      "defaultTp[rep],defaultFp[rep] = getTpFp(num,rep,error,r,g,\"default\",num,rep,error,r,g)\n",
      "uniqueTp[rep],uniqueFp[rep] = getTpFp(num,rep,error,r,g,\"unique\",num,rep,error,r,g)\n",
      "multimapTp[rep],multimapFp[rep] = getTpFp(num,rep,error,r,g,\"multimap\",num,rep,error,r,g)\n",
      "rep = \"3\"\n",
      "runBowtieBuild(num,rep,error,r,g)\n",
      "runBowtieAllParams(num,rep,error,r,g,num,rep,error,r,g)\n",
      "getTruePositivesAllParams(num,rep,error,r,g,\"chicken\")\n",
      "defaultTp[rep],defaultFp[rep] = getTpFp(num,rep,error,r,g,\"default\",num,rep,error,r,g)\n",
      "uniqueTp[rep],uniqueFp[rep] = getTpFp(num,rep,error,r,g,\"unique\",num,rep,error,r,g)\n",
      "multimapTp[rep],multimapFp[rep] = getTpFp(num,rep,error,r,g,\"multimap\",num,rep,error,r,g)\n",
      "defaultAvgTp[id] = sum([defaultTp[\"1\"], defaultTp[\"2\"], defaultTp[\"3\"]]) / 3\n",
      "print \"Average Default True Positive Percentage: \", defaultAvgTp[id]\n",
      "defaultAvgFp[id] = sum([defaultFp[\"1\"], defaultFp[\"2\"], defaultFp[\"3\"]]) / 3\n",
      "print \"Average Default False Positive Percentage: \", defaultAvgFp[id]\n",
      "uniqueAvgTp[id] = sum([uniqueTp[\"1\"], uniqueTp[\"2\"], uniqueTp[\"3\"]]) / 3\n",
      "print \"Average Unique True Positive Percentage: \", uniqueAvgTp[id]\n",
      "uniqueAvgFp[id] = sum([uniqueFp[\"1\"], uniqueFp[\"2\"], uniqueFp[\"3\"]]) / 3\n",
      "print \"Average Unique False Positive Percentage: \", uniqueAvgFp[id]\n",
      "multimapAvgTp[id] = sum([multimapTp[\"1\"], multimapTp[\"2\"], multimapTp[\"3\"]]) / 3\n",
      "print \"Average Multimap True Positive Percentage: \", multimapAvgTp[id]\n",
      "multimapAvgFp[id] = sum([multimapFp[\"1\"], multimapFp[\"2\"], multimapFp[\"3\"]]) / 3\n",
      "print \"Average Multimap False Positive Percentage: \", multimapAvgFp[id]"
     ],
     "language": "python",
     "metadata": {},
     "outputs": []
    },
    {
     "cell_type": "code",
     "collapsed": false,
     "input": [
      "num = \"234\"\n",
      "rep = \"1\"\n",
      "error = \"1\"\n",
      "r = \"10\"\n",
      "id = \"010\"\n",
      "g = \"100\"\n",
      "rr = \"100\"\n",
      "runBowtieBuild(num,rep,error,r,g)\n",
      "runBowtieAllParams(num,rep,error,r,g,num,rep,error,r,g)\n",
      "getTruePositivesAllParams(num,rep,error,r,g,\"chicken\")\n",
      "defaultTp[rep],defaultFp[rep] = getTpFp(num,rep,error,r,g,\"default\",num,rep,error,r,g)\n",
      "uniqueTp[rep],uniqueFp[rep] = getTpFp(num,rep,error,r,g,\"unique\",num,rep,error,r,g)\n",
      "multimapTp[rep],multimapFp[rep] = getTpFp(num,rep,error,r,g,\"multimap\",num,rep,error,r,g)\n",
      "rep = \"2\"\n",
      "runBowtieBuild(num,rep,error,r,g)\n",
      "runBowtieAllParams(num,rep,error,r,g,num,rep,error,r,g)\n",
      "getTruePositivesAllParams(num,rep,error,r,g,\"chicken\")\n",
      "defaultTp[rep],defaultFp[rep] = getTpFp(num,rep,error,r,g,\"default\",num,rep,error,r,g)\n",
      "uniqueTp[rep],uniqueFp[rep] = getTpFp(num,rep,error,r,g,\"unique\",num,rep,error,r,g)\n",
      "multimapTp[rep],multimapFp[rep] = getTpFp(num,rep,error,r,g,\"multimap\",num,rep,error,r,g)\n",
      "rep = \"3\"\n",
      "runBowtieBuild(num,rep,error,r,g)\n",
      "runBowtieAllParams(num,rep,error,r,g,num,rep,error,r,g)\n",
      "getTruePositivesAllParams(num,rep,error,r,g,\"chicken\")\n",
      "defaultTp[rep],defaultFp[rep] = getTpFp(num,rep,error,r,g,\"default\",num,rep,error,r,g)\n",
      "uniqueTp[rep],uniqueFp[rep] = getTpFp(num,rep,error,r,g,\"unique\",num,rep,error,r,g)\n",
      "multimapTp[rep],multimapFp[rep] = getTpFp(num,rep,error,r,g,\"multimap\",num,rep,error,r,g)\n",
      "defaultAvgTp[id] = sum([defaultTp[\"1\"], defaultTp[\"2\"], defaultTp[\"3\"]]) / 3\n",
      "print \"Average Default True Positive Percentage: \", defaultAvgTp[id]\n",
      "defaultAvgFp[id] = sum([defaultFp[\"1\"], defaultFp[\"2\"], defaultFp[\"3\"]]) / 3\n",
      "print \"Average Default False Positive Percentage: \", defaultAvgFp[id]\n",
      "uniqueAvgTp[id] = sum([uniqueTp[\"1\"], uniqueTp[\"2\"], uniqueTp[\"3\"]]) / 3\n",
      "print \"Average Unique True Positive Percentage: \", uniqueAvgTp[id]\n",
      "uniqueAvgFp[id] = sum([uniqueFp[\"1\"], uniqueFp[\"2\"], uniqueFp[\"3\"]]) / 3\n",
      "print \"Average Unique False Positive Percentage: \", uniqueAvgFp[id]\n",
      "multimapAvgTp[id] = sum([multimapTp[\"1\"], multimapTp[\"2\"], multimapTp[\"3\"]]) / 3\n",
      "print \"Average Multimap True Positive Percentage: \", multimapAvgTp[id]\n",
      "multimapAvgFp[id] = sum([multimapFp[\"1\"], multimapFp[\"2\"], multimapFp[\"3\"]]) / 3\n",
      "print \"Average Multimap False Positive Percentage: \", multimapAvgFp[id]"
     ],
     "language": "python",
     "metadata": {},
     "outputs": []
    },
    {
     "cell_type": "raw",
     "metadata": {},
     "source": [
      "Mouse transcriptome, 50% expression, single end 100 bp reads, {0 10 100 100}x expression"
     ]
    },
    {
     "cell_type": "code",
     "collapsed": false,
     "input": [
      "defaultAvgTp = {}\n",
      "defaultAvgFp = {}\n",
      "uniqueAvgTp = {}\n",
      "uniqueAvgFp = {}\n",
      "multimapAvgTp = {}\n",
      "multimapAvgFp = {}"
     ],
     "language": "python",
     "metadata": {},
     "outputs": []
    },
    {
     "cell_type": "code",
     "collapsed": false,
     "input": [
      "num = \"230\"\n",
      "rep = \"1\"\n",
      "error = \"1\"\n",
      "r = \"100\"\n",
      "g = \"100\"\n",
      "createDataSet(num,rep)\n",
      "!grep '>' DataSet230rep1E1R100G100.fa | wc -l\n",
      "defaultTp = {}\n",
      "defaultFp = {}\n",
      "uniqueTp = {}\n",
      "uniqueFp = {}\n",
      "multimapTp = {}\n",
      "multimapFp = {}\n",
      "runBowtieBuild(num,rep,error,r,g)\n",
      "runBowtieAllParams(num,rep,error,r,g,num,rep,error,r,g)\n",
      "getTruePositivesAllParams(num,rep,error,r,g,\"mouse\")\n",
      "defaultTp[rep],defaultFp[rep] = getTpFp(num,rep,error,r,g,\"default\",num,rep,error,r,g)\n",
      "uniqueTp[rep],uniqueFp[rep] = getTpFp(num,rep,error,r,g,\"unique\",num,rep,error,r,g)\n",
      "multimapTp[rep],multimapFp[rep] = getTpFp(num,rep,error,r,g,\"multimap\",num,rep,error,r,g)\n",
      "print defaultTp, defaultFp, uniqueTp, uniqueFp, multimapTp, multimapFp"
     ],
     "language": "python",
     "metadata": {},
     "outputs": []
    },
    {
     "cell_type": "code",
     "collapsed": false,
     "input": [
      "num = \"230\"\n",
      "rep = \"2\"\n",
      "error = \"1\"\n",
      "r = \"100\"\n",
      "g = \"100\"\n",
      "createDataSet(num,rep)\n",
      "!grep '>' DataSet230rep2E1R100G100.fa | wc -l\n",
      "runBowtieBuild(num,rep,error,r,g)\n",
      "runBowtieAllParams(num,rep,error,r,g,num,rep,error,r,g)\n",
      "getTruePositivesAllParams(num,rep,error,r,g,\"mouse\")\n",
      "defaultTp[rep],defaultFp[rep] = getTpFp(num,rep,error,r,g,\"default\",num,rep,error,r,g)\n",
      "uniqueTp[rep],uniqueFp[rep] = getTpFp(num,rep,error,r,g,\"unique\",num,rep,error,r,g)\n",
      "multimapTp[rep],multimapFp[rep] = getTpFp(num,rep,error,r,g,\"multimap\",num,rep,error,r,g)\n",
      "print defaultTp, defaultFp, uniqueTp, uniqueFp, multimapTp, multimapFp"
     ],
     "language": "python",
     "metadata": {},
     "outputs": []
    },
    {
     "cell_type": "code",
     "collapsed": false,
     "input": [
      "num = \"230\"\n",
      "rep = \"3\"\n",
      "error = \"1\"\n",
      "r = \"100\"\n",
      "g = \"100\"\n",
      "createDataSet(num,rep)\n",
      "!grep '>' DataSet230rep3E1R100G100.fa | wc -l\n",
      "runBowtieBuild(num,rep,error,r,g)\n",
      "runBowtieAllParams(num,rep,error,r,g,num,rep,error,r,g)\n",
      "getTruePositivesAllParams(num,rep,error,r,g,\"mouse\")\n",
      "defaultTp[rep],defaultFp[rep] = getTpFp(num,rep,error,r,g,\"default\",num,rep,error,r,g)\n",
      "uniqueTp[rep],uniqueFp[rep] = getTpFp(num,rep,error,r,g,\"unique\",num,rep,error,r,g)\n",
      "multimapTp[rep],multimapFp[rep] = getTpFp(num,rep,error,r,g,\"multimap\",num,rep,error,r,g)\n",
      "print defaultTp, defaultFp, uniqueTp, uniqueFp, multimapTp, multimapFp"
     ],
     "language": "python",
     "metadata": {},
     "outputs": []
    },
    {
     "cell_type": "code",
     "collapsed": false,
     "input": [
      "id = \"100\"\n",
      "defaultAvgTp[id] = sum([defaultTp[\"1\"], defaultTp[\"2\"], defaultTp[\"3\"]]) / 3\n",
      "print \"Average Default True Positive Percentage: \", defaultAvgTp[id]\n",
      "defaultAvgFp[id] = sum([defaultFp[\"1\"], defaultFp[\"2\"], defaultFp[\"3\"]]) / 3\n",
      "print \"Average Default False Positive Percentage: \", defaultAvgFp[id]\n",
      "uniqueAvgTp[id] = sum([uniqueTp[\"1\"], uniqueTp[\"2\"], uniqueTp[\"3\"]]) / 3\n",
      "print \"Average Unique True Positive Percentage: \", uniqueAvgTp[id]\n",
      "uniqueAvgFp[id] = sum([uniqueFp[\"1\"], uniqueFp[\"2\"], uniqueFp[\"3\"]]) / 3\n",
      "print \"Average Unique False Positive Percentage: \", uniqueAvgFp[id]\n",
      "multimapAvgTp[id] = sum([multimapTp[\"1\"], multimapTp[\"2\"], multimapTp[\"3\"]]) / 3\n",
      "print \"Average Multimap True Positive Percentage: \", multimapAvgTp[id]\n",
      "multimapAvgFp[id] = sum([multimapFp[\"1\"], multimapFp[\"2\"], multimapFp[\"3\"]]) / 3\n",
      "print \"Average Multimap False Positive Percentage: \", multimapAvgFp[id]"
     ],
     "language": "python",
     "metadata": {},
     "outputs": []
    },
    {
     "cell_type": "code",
     "collapsed": false,
     "input": [
      "num = \"230\"\n",
      "rep = \"1\"\n",
      "error = \"1\"\n",
      "r = \"90\"\n",
      "id = \"090\"\n",
      "g = \"100\"\n",
      "rr = \"100\"\n",
      "runBowtieBuild(num,rep,error,r,g)\n",
      "runBowtieAllParams(num,rep,error,r,g,num,rep,error,r,g)\n",
      "getTruePositivesAllParams(num,rep,error,r,g,\"mouse\")\n",
      "defaultTp[rep],defaultFp[rep] = getTpFp(num,rep,error,r,g,\"default\",num,rep,error,r,g)\n",
      "uniqueTp[rep],uniqueFp[rep] = getTpFp(num,rep,error,r,g,\"unique\",num,rep,error,r,g)\n",
      "multimapTp[rep],multimapFp[rep] = getTpFp(num,rep,error,r,g,\"multimap\",num,rep,error,r,g)\n",
      "rep = \"2\"\n",
      "runBowtieBuild(num,rep,error,r,g)\n",
      "runBowtieAllParams(num,rep,error,r,g,num,rep,error,r,g)\n",
      "getTruePositivesAllParams(num,rep,error,r,g,\"mouse\")\n",
      "defaultTp[rep],defaultFp[rep] = getTpFp(num,rep,error,r,g,\"default\",num,rep,error,r,g)\n",
      "uniqueTp[rep],uniqueFp[rep] = getTpFp(num,rep,error,r,g,\"unique\",num,rep,error,r,g)\n",
      "multimapTp[rep],multimapFp[rep] = getTpFp(num,rep,error,r,g,\"multimap\",num,rep,error,r,g)\n",
      "rep = \"3\"\n",
      "runBowtieBuild(num,rep,error,r,g)\n",
      "runBowtieAllParams(num,rep,error,r,g,num,rep,error,r,g)\n",
      "getTruePositivesAllParams(num,rep,error,r,g,\"mouse\")\n",
      "defaultTp[rep],defaultFp[rep] = getTpFp(num,rep,error,r,g,\"default\",num,rep,error,r,g)\n",
      "uniqueTp[rep],uniqueFp[rep] = getTpFp(num,rep,error,r,g,\"unique\",num,rep,error,r,g)\n",
      "multimapTp[rep],multimapFp[rep] = getTpFp(num,rep,error,r,g,\"multimap\",num,rep,error,r,g)\n",
      "defaultAvgTp[id] = sum([defaultTp[\"1\"], defaultTp[\"2\"], defaultTp[\"3\"]]) / 3\n",
      "print \"Average Default True Positive Percentage: \", defaultAvgTp[id]\n",
      "defaultAvgFp[id] = sum([defaultFp[\"1\"], defaultFp[\"2\"], defaultFp[\"3\"]]) / 3\n",
      "print \"Average Default False Positive Percentage: \", defaultAvgFp[id]\n",
      "uniqueAvgTp[id] = sum([uniqueTp[\"1\"], uniqueTp[\"2\"], uniqueTp[\"3\"]]) / 3\n",
      "print \"Average Unique True Positive Percentage: \", uniqueAvgTp[id]\n",
      "uniqueAvgFp[id] = sum([uniqueFp[\"1\"], uniqueFp[\"2\"], uniqueFp[\"3\"]]) / 3\n",
      "print \"Average Unique False Positive Percentage: \", uniqueAvgFp[id]\n",
      "multimapAvgTp[id] = sum([multimapTp[\"1\"], multimapTp[\"2\"], multimapTp[\"3\"]]) / 3\n",
      "print \"Average Multimap True Positive Percentage: \", multimapAvgTp[id]\n",
      "multimapAvgFp[id] = sum([multimapFp[\"1\"], multimapFp[\"2\"], multimapFp[\"3\"]]) / 3\n",
      "print \"Average Multimap False Positive Percentage: \", multimapAvgFp[id]"
     ],
     "language": "python",
     "metadata": {},
     "outputs": []
    },
    {
     "cell_type": "code",
     "collapsed": false,
     "input": [
      "num = \"230\"\n",
      "rep = \"1\"\n",
      "error = \"1\"\n",
      "r = \"80\"\n",
      "id = \"080\"\n",
      "g = \"100\"\n",
      "rr = \"100\"\n",
      "runBowtieBuild(num,rep,error,r,g)\n",
      "runBowtieAllParams(num,rep,error,r,g,num,rep,error,r,g)\n",
      "getTruePositivesAllParams(num,rep,error,r,g,\"mouse\")\n",
      "defaultTp[rep],defaultFp[rep] = getTpFp(num,rep,error,r,g,\"default\",num,rep,error,r,g)\n",
      "uniqueTp[rep],uniqueFp[rep] = getTpFp(num,rep,error,r,g,\"unique\",num,rep,error,r,g)\n",
      "multimapTp[rep],multimapFp[rep] = getTpFp(num,rep,error,r,g,\"multimap\",num,rep,error,r,g)\n",
      "rep = \"2\"\n",
      "runBowtieBuild(num,rep,error,r,g)\n",
      "runBowtieAllParams(num,rep,error,r,g,num,rep,error,r,g)\n",
      "getTruePositivesAllParams(num,rep,error,r,g,\"mouse\")\n",
      "defaultTp[rep],defaultFp[rep] = getTpFp(num,rep,error,r,g,\"default\",num,rep,error,r,g)\n",
      "uniqueTp[rep],uniqueFp[rep] = getTpFp(num,rep,error,r,g,\"unique\",num,rep,error,r,g)\n",
      "multimapTp[rep],multimapFp[rep] = getTpFp(num,rep,error,r,g,\"multimap\",num,rep,error,r,g)\n",
      "rep = \"3\"\n",
      "runBowtieBuild(num,rep,error,r,g)\n",
      "runBowtieAllParams(num,rep,error,r,g,num,rep,error,r,g)\n",
      "getTruePositivesAllParams(num,rep,error,r,g,\"mouse\")\n",
      "defaultTp[rep],defaultFp[rep] = getTpFp(num,rep,error,r,g,\"default\",num,rep,error,r,g)\n",
      "uniqueTp[rep],uniqueFp[rep] = getTpFp(num,rep,error,r,g,\"unique\",num,rep,error,r,g)\n",
      "multimapTp[rep],multimapFp[rep] = getTpFp(num,rep,error,r,g,\"multimap\",num,rep,error,r,g)\n",
      "defaultAvgTp[id] = sum([defaultTp[\"1\"], defaultTp[\"2\"], defaultTp[\"3\"]]) / 3\n",
      "print \"Average Default True Positive Percentage: \", defaultAvgTp[id]\n",
      "defaultAvgFp[id] = sum([defaultFp[\"1\"], defaultFp[\"2\"], defaultFp[\"3\"]]) / 3\n",
      "print \"Average Default False Positive Percentage: \", defaultAvgFp[id]\n",
      "uniqueAvgTp[id] = sum([uniqueTp[\"1\"], uniqueTp[\"2\"], uniqueTp[\"3\"]]) / 3\n",
      "print \"Average Unique True Positive Percentage: \", uniqueAvgTp[id]\n",
      "uniqueAvgFp[id] = sum([uniqueFp[\"1\"], uniqueFp[\"2\"], uniqueFp[\"3\"]]) / 3\n",
      "print \"Average Unique False Positive Percentage: \", uniqueAvgFp[id]\n",
      "multimapAvgTp[id] = sum([multimapTp[\"1\"], multimapTp[\"2\"], multimapTp[\"3\"]]) / 3\n",
      "print \"Average Multimap True Positive Percentage: \", multimapAvgTp[id]\n",
      "multimapAvgFp[id] = sum([multimapFp[\"1\"], multimapFp[\"2\"], multimapFp[\"3\"]]) / 3\n",
      "print \"Average Multimap False Positive Percentage: \", multimapAvgFp[id]"
     ],
     "language": "python",
     "metadata": {},
     "outputs": []
    },
    {
     "cell_type": "code",
     "collapsed": false,
     "input": [
      "num = \"230\"\n",
      "rep = \"1\"\n",
      "error = \"1\"\n",
      "r = \"70\"\n",
      "id = \"070\"\n",
      "g = \"100\"\n",
      "rr = \"100\"\n",
      "runBowtieBuild(num,rep,error,r,g)\n",
      "runBowtieAllParams(num,rep,error,r,g,num,rep,error,r,g)\n",
      "getTruePositivesAllParams(num,rep,error,r,g,\"mouse\")\n",
      "defaultTp[rep],defaultFp[rep] = getTpFp(num,rep,error,r,g,\"default\",num,rep,error,r,g)\n",
      "uniqueTp[rep],uniqueFp[rep] = getTpFp(num,rep,error,r,g,\"unique\",num,rep,error,r,g)\n",
      "multimapTp[rep],multimapFp[rep] = getTpFp(num,rep,error,r,g,\"multimap\",num,rep,error,r,g)\n",
      "rep = \"2\"\n",
      "runBowtieBuild(num,rep,error,r,g)\n",
      "runBowtieAllParams(num,rep,error,r,g,num,rep,error,r,g)\n",
      "getTruePositivesAllParams(num,rep,error,r,g,\"mouse\")\n",
      "defaultTp[rep],defaultFp[rep] = getTpFp(num,rep,error,r,g,\"default\",num,rep,error,r,g)\n",
      "uniqueTp[rep],uniqueFp[rep] = getTpFp(num,rep,error,r,g,\"unique\",num,rep,error,r,g)\n",
      "multimapTp[rep],multimapFp[rep] = getTpFp(num,rep,error,r,g,\"multimap\",num,rep,error,r,g)\n",
      "rep = \"3\"\n",
      "runBowtieBuild(num,rep,error,r,g)\n",
      "runBowtieAllParams(num,rep,error,r,g,num,rep,error,r,g)\n",
      "getTruePositivesAllParams(num,rep,error,r,g,\"mouse\")\n",
      "defaultTp[rep],defaultFp[rep] = getTpFp(num,rep,error,r,g,\"default\",num,rep,error,r,g)\n",
      "uniqueTp[rep],uniqueFp[rep] = getTpFp(num,rep,error,r,g,\"unique\",num,rep,error,r,g)\n",
      "multimapTp[rep],multimapFp[rep] = getTpFp(num,rep,error,r,g,\"multimap\",num,rep,error,r,g)\n",
      "defaultAvgTp[id] = sum([defaultTp[\"1\"], defaultTp[\"2\"], defaultTp[\"3\"]]) / 3\n",
      "print \"Average Default True Positive Percentage: \", defaultAvgTp[id]\n",
      "defaultAvgFp[id] = sum([defaultFp[\"1\"], defaultFp[\"2\"], defaultFp[\"3\"]]) / 3\n",
      "print \"Average Default False Positive Percentage: \", defaultAvgFp[id]\n",
      "uniqueAvgTp[id] = sum([uniqueTp[\"1\"], uniqueTp[\"2\"], uniqueTp[\"3\"]]) / 3\n",
      "print \"Average Unique True Positive Percentage: \", uniqueAvgTp[id]\n",
      "uniqueAvgFp[id] = sum([uniqueFp[\"1\"], uniqueFp[\"2\"], uniqueFp[\"3\"]]) / 3\n",
      "print \"Average Unique False Positive Percentage: \", uniqueAvgFp[id]\n",
      "multimapAvgTp[id] = sum([multimapTp[\"1\"], multimapTp[\"2\"], multimapTp[\"3\"]]) / 3\n",
      "print \"Average Multimap True Positive Percentage: \", multimapAvgTp[id]\n",
      "multimapAvgFp[id] = sum([multimapFp[\"1\"], multimapFp[\"2\"], multimapFp[\"3\"]]) / 3\n",
      "print \"Average Multimap False Positive Percentage: \", multimapAvgFp[id]"
     ],
     "language": "python",
     "metadata": {},
     "outputs": []
    },
    {
     "cell_type": "code",
     "collapsed": false,
     "input": [
      "num = \"230\"\n",
      "rep = \"1\"\n",
      "error = \"1\"\n",
      "r = \"60\"\n",
      "id = \"060\"\n",
      "g = \"100\"\n",
      "rr = \"100\"\n",
      "runBowtieBuild(num,rep,error,r,g)\n",
      "runBowtieAllParams(num,rep,error,r,g,num,rep,error,r,g)\n",
      "getTruePositivesAllParams(num,rep,error,r,g,\"mouse\")\n",
      "defaultTp[rep],defaultFp[rep] = getTpFp(num,rep,error,r,g,\"default\",num,rep,error,r,g)\n",
      "uniqueTp[rep],uniqueFp[rep] = getTpFp(num,rep,error,r,g,\"unique\",num,rep,error,r,g)\n",
      "multimapTp[rep],multimapFp[rep] = getTpFp(num,rep,error,r,g,\"multimap\",num,rep,error,r,g)\n",
      "rep = \"2\"\n",
      "runBowtieBuild(num,rep,error,r,g)\n",
      "runBowtieAllParams(num,rep,error,r,g,num,rep,error,r,g)\n",
      "getTruePositivesAllParams(num,rep,error,r,g,\"mouse\")\n",
      "defaultTp[rep],defaultFp[rep] = getTpFp(num,rep,error,r,g,\"default\",num,rep,error,r,g)\n",
      "uniqueTp[rep],uniqueFp[rep] = getTpFp(num,rep,error,r,g,\"unique\",num,rep,error,r,g)\n",
      "multimapTp[rep],multimapFp[rep] = getTpFp(num,rep,error,r,g,\"multimap\",num,rep,error,r,g)\n",
      "rep = \"3\"\n",
      "runBowtieBuild(num,rep,error,r,g)\n",
      "runBowtieAllParams(num,rep,error,r,g,num,rep,error,r,g)\n",
      "getTruePositivesAllParams(num,rep,error,r,g,\"mouse\")\n",
      "defaultTp[rep],defaultFp[rep] = getTpFp(num,rep,error,r,g,\"default\",num,rep,error,r,g)\n",
      "uniqueTp[rep],uniqueFp[rep] = getTpFp(num,rep,error,r,g,\"unique\",num,rep,error,r,g)\n",
      "multimapTp[rep],multimapFp[rep] = getTpFp(num,rep,error,r,g,\"multimap\",num,rep,error,r,g)\n",
      "defaultAvgTp[id] = sum([defaultTp[\"1\"], defaultTp[\"2\"], defaultTp[\"3\"]]) / 3\n",
      "print \"Average Default True Positive Percentage: \", defaultAvgTp[id]\n",
      "defaultAvgFp[id] = sum([defaultFp[\"1\"], defaultFp[\"2\"], defaultFp[\"3\"]]) / 3\n",
      "print \"Average Default False Positive Percentage: \", defaultAvgFp[id]\n",
      "uniqueAvgTp[id] = sum([uniqueTp[\"1\"], uniqueTp[\"2\"], uniqueTp[\"3\"]]) / 3\n",
      "print \"Average Unique True Positive Percentage: \", uniqueAvgTp[id]\n",
      "uniqueAvgFp[id] = sum([uniqueFp[\"1\"], uniqueFp[\"2\"], uniqueFp[\"3\"]]) / 3\n",
      "print \"Average Unique False Positive Percentage: \", uniqueAvgFp[id]\n",
      "multimapAvgTp[id] = sum([multimapTp[\"1\"], multimapTp[\"2\"], multimapTp[\"3\"]]) / 3\n",
      "print \"Average Multimap True Positive Percentage: \", multimapAvgTp[id]\n",
      "multimapAvgFp[id] = sum([multimapFp[\"1\"], multimapFp[\"2\"], multimapFp[\"3\"]]) / 3\n",
      "print \"Average Multimap False Positive Percentage: \", multimapAvgFp[id]"
     ],
     "language": "python",
     "metadata": {},
     "outputs": []
    },
    {
     "cell_type": "code",
     "collapsed": false,
     "input": [
      "num = \"230\"\n",
      "rep = \"1\"\n",
      "error = \"1\"\n",
      "r = \"50\"\n",
      "id = \"050\"\n",
      "g = \"100\"\n",
      "rr = \"100\"\n",
      "runBowtieBuild(num,rep,error,r,g)\n",
      "runBowtieAllParams(num,rep,error,r,g,num,rep,error,r,g)\n",
      "getTruePositivesAllParams(num,rep,error,r,g,\"mouse\")\n",
      "defaultTp[rep],defaultFp[rep] = getTpFp(num,rep,error,r,g,\"default\",num,rep,error,r,g)\n",
      "uniqueTp[rep],uniqueFp[rep] = getTpFp(num,rep,error,r,g,\"unique\",num,rep,error,r,g)\n",
      "multimapTp[rep],multimapFp[rep] = getTpFp(num,rep,error,r,g,\"multimap\",num,rep,error,r,g)\n",
      "rep = \"2\"\n",
      "runBowtieBuild(num,rep,error,r,g)\n",
      "runBowtieAllParams(num,rep,error,r,g,num,rep,error,r,g)\n",
      "getTruePositivesAllParams(num,rep,error,r,g,\"mouse\")\n",
      "defaultTp[rep],defaultFp[rep] = getTpFp(num,rep,error,r,g,\"default\",num,rep,error,r,g)\n",
      "uniqueTp[rep],uniqueFp[rep] = getTpFp(num,rep,error,r,g,\"unique\",num,rep,error,r,g)\n",
      "multimapTp[rep],multimapFp[rep] = getTpFp(num,rep,error,r,g,\"multimap\",num,rep,error,r,g)\n",
      "rep = \"3\"\n",
      "runBowtieBuild(num,rep,error,r,g)\n",
      "runBowtieAllParams(num,rep,error,r,g,num,rep,error,r,g)\n",
      "getTruePositivesAllParams(num,rep,error,r,g,\"mouse\")\n",
      "defaultTp[rep],defaultFp[rep] = getTpFp(num,rep,error,r,g,\"default\",num,rep,error,r,g)\n",
      "uniqueTp[rep],uniqueFp[rep] = getTpFp(num,rep,error,r,g,\"unique\",num,rep,error,r,g)\n",
      "multimapTp[rep],multimapFp[rep] = getTpFp(num,rep,error,r,g,\"multimap\",num,rep,error,r,g)\n",
      "defaultAvgTp[id] = sum([defaultTp[\"1\"], defaultTp[\"2\"], defaultTp[\"3\"]]) / 3\n",
      "print \"Average Default True Positive Percentage: \", defaultAvgTp[id]\n",
      "defaultAvgFp[id] = sum([defaultFp[\"1\"], defaultFp[\"2\"], defaultFp[\"3\"]]) / 3\n",
      "print \"Average Default False Positive Percentage: \", defaultAvgFp[id]\n",
      "uniqueAvgTp[id] = sum([uniqueTp[\"1\"], uniqueTp[\"2\"], uniqueTp[\"3\"]]) / 3\n",
      "print \"Average Unique True Positive Percentage: \", uniqueAvgTp[id]\n",
      "uniqueAvgFp[id] = sum([uniqueFp[\"1\"], uniqueFp[\"2\"], uniqueFp[\"3\"]]) / 3\n",
      "print \"Average Unique False Positive Percentage: \", uniqueAvgFp[id]\n",
      "multimapAvgTp[id] = sum([multimapTp[\"1\"], multimapTp[\"2\"], multimapTp[\"3\"]]) / 3\n",
      "print \"Average Multimap True Positive Percentage: \", multimapAvgTp[id]\n",
      "multimapAvgFp[id] = sum([multimapFp[\"1\"], multimapFp[\"2\"], multimapFp[\"3\"]]) / 3\n",
      "print \"Average Multimap False Positive Percentage: \", multimapAvgFp[id]"
     ],
     "language": "python",
     "metadata": {},
     "outputs": []
    },
    {
     "cell_type": "code",
     "collapsed": false,
     "input": [
      "num = \"230\"\n",
      "rep = \"1\"\n",
      "error = \"1\"\n",
      "r = \"40\"\n",
      "id = \"040\"\n",
      "g = \"100\"\n",
      "rr = \"100\"\n",
      "runBowtieBuild(num,rep,error,r,g)\n",
      "runBowtieAllParams(num,rep,error,r,g,num,rep,error,r,g)\n",
      "getTruePositivesAllParams(num,rep,error,r,g,\"mouse\")\n",
      "defaultTp[rep],defaultFp[rep] = getTpFp(num,rep,error,r,g,\"default\",num,rep,error,r,g)\n",
      "uniqueTp[rep],uniqueFp[rep] = getTpFp(num,rep,error,r,g,\"unique\",num,rep,error,r,g)\n",
      "multimapTp[rep],multimapFp[rep] = getTpFp(num,rep,error,r,g,\"multimap\",num,rep,error,r,g)\n",
      "rep = \"2\"\n",
      "runBowtieBuild(num,rep,error,r,g)\n",
      "runBowtieAllParams(num,rep,error,r,g,num,rep,error,r,g)\n",
      "getTruePositivesAllParams(num,rep,error,r,g,\"mouse\")\n",
      "defaultTp[rep],defaultFp[rep] = getTpFp(num,rep,error,r,g,\"default\",num,rep,error,r,g)\n",
      "uniqueTp[rep],uniqueFp[rep] = getTpFp(num,rep,error,r,g,\"unique\",num,rep,error,r,g)\n",
      "multimapTp[rep],multimapFp[rep] = getTpFp(num,rep,error,r,g,\"multimap\",num,rep,error,r,g)\n",
      "rep = \"3\"\n",
      "runBowtieBuild(num,rep,error,r,g)\n",
      "runBowtieAllParams(num,rep,error,r,g,num,rep,error,r,g)\n",
      "getTruePositivesAllParams(num,rep,error,r,g,\"mouse\")\n",
      "defaultTp[rep],defaultFp[rep] = getTpFp(num,rep,error,r,g,\"default\",num,rep,error,r,g)\n",
      "uniqueTp[rep],uniqueFp[rep] = getTpFp(num,rep,error,r,g,\"unique\",num,rep,error,r,g)\n",
      "multimapTp[rep],multimapFp[rep] = getTpFp(num,rep,error,r,g,\"multimap\",num,rep,error,r,g)\n",
      "defaultAvgTp[id] = sum([defaultTp[\"1\"], defaultTp[\"2\"], defaultTp[\"3\"]]) / 3\n",
      "print \"Average Default True Positive Percentage: \", defaultAvgTp[id]\n",
      "defaultAvgFp[id] = sum([defaultFp[\"1\"], defaultFp[\"2\"], defaultFp[\"3\"]]) / 3\n",
      "print \"Average Default False Positive Percentage: \", defaultAvgFp[id]\n",
      "uniqueAvgTp[id] = sum([uniqueTp[\"1\"], uniqueTp[\"2\"], uniqueTp[\"3\"]]) / 3\n",
      "print \"Average Unique True Positive Percentage: \", uniqueAvgTp[id]\n",
      "uniqueAvgFp[id] = sum([uniqueFp[\"1\"], uniqueFp[\"2\"], uniqueFp[\"3\"]]) / 3\n",
      "print \"Average Unique False Positive Percentage: \", uniqueAvgFp[id]\n",
      "multimapAvgTp[id] = sum([multimapTp[\"1\"], multimapTp[\"2\"], multimapTp[\"3\"]]) / 3\n",
      "print \"Average Multimap True Positive Percentage: \", multimapAvgTp[id]\n",
      "multimapAvgFp[id] = sum([multimapFp[\"1\"], multimapFp[\"2\"], multimapFp[\"3\"]]) / 3\n",
      "print \"Average Multimap False Positive Percentage: \", multimapAvgFp[id]"
     ],
     "language": "python",
     "metadata": {},
     "outputs": []
    },
    {
     "cell_type": "code",
     "collapsed": false,
     "input": [
      "num = \"230\"\n",
      "rep = \"1\"\n",
      "error = \"1\"\n",
      "r = \"30\"\n",
      "id = \"030\"\n",
      "g = \"100\"\n",
      "rr = \"100\"\n",
      "runBowtieBuild(num,rep,error,r,g)\n",
      "runBowtieAllParams(num,rep,error,r,g,num,rep,error,r,g)\n",
      "getTruePositivesAllParams(num,rep,error,r,g,\"mouse\")\n",
      "defaultTp[rep],defaultFp[rep] = getTpFp(num,rep,error,r,g,\"default\",num,rep,error,r,g)\n",
      "uniqueTp[rep],uniqueFp[rep] = getTpFp(num,rep,error,r,g,\"unique\",num,rep,error,r,g)\n",
      "multimapTp[rep],multimapFp[rep] = getTpFp(num,rep,error,r,g,\"multimap\",num,rep,error,r,g)\n",
      "rep = \"2\"\n",
      "runBowtieBuild(num,rep,error,r,g)\n",
      "runBowtieAllParams(num,rep,error,r,g,num,rep,error,r,g)\n",
      "getTruePositivesAllParams(num,rep,error,r,g,\"mouse\")\n",
      "defaultTp[rep],defaultFp[rep] = getTpFp(num,rep,error,r,g,\"default\",num,rep,error,r,g)\n",
      "uniqueTp[rep],uniqueFp[rep] = getTpFp(num,rep,error,r,g,\"unique\",num,rep,error,r,g)\n",
      "multimapTp[rep],multimapFp[rep] = getTpFp(num,rep,error,r,g,\"multimap\",num,rep,error,r,g)\n",
      "rep = \"3\"\n",
      "runBowtieBuild(num,rep,error,r,g)\n",
      "runBowtieAllParams(num,rep,error,r,g,num,rep,error,r,g)\n",
      "getTruePositivesAllParams(num,rep,error,r,g,\"mouse\")\n",
      "defaultTp[rep],defaultFp[rep] = getTpFp(num,rep,error,r,g,\"default\",num,rep,error,r,g)\n",
      "uniqueTp[rep],uniqueFp[rep] = getTpFp(num,rep,error,r,g,\"unique\",num,rep,error,r,g)\n",
      "multimapTp[rep],multimapFp[rep] = getTpFp(num,rep,error,r,g,\"multimap\",num,rep,error,r,g)\n",
      "defaultAvgTp[id] = sum([defaultTp[\"1\"], defaultTp[\"2\"], defaultTp[\"3\"]]) / 3\n",
      "print \"Average Default True Positive Percentage: \", defaultAvgTp[id]\n",
      "defaultAvgFp[id] = sum([defaultFp[\"1\"], defaultFp[\"2\"], defaultFp[\"3\"]]) / 3\n",
      "print \"Average Default False Positive Percentage: \", defaultAvgFp[id]\n",
      "uniqueAvgTp[id] = sum([uniqueTp[\"1\"], uniqueTp[\"2\"], uniqueTp[\"3\"]]) / 3\n",
      "print \"Average Unique True Positive Percentage: \", uniqueAvgTp[id]\n",
      "uniqueAvgFp[id] = sum([uniqueFp[\"1\"], uniqueFp[\"2\"], uniqueFp[\"3\"]]) / 3\n",
      "print \"Average Unique False Positive Percentage: \", uniqueAvgFp[id]\n",
      "multimapAvgTp[id] = sum([multimapTp[\"1\"], multimapTp[\"2\"], multimapTp[\"3\"]]) / 3\n",
      "print \"Average Multimap True Positive Percentage: \", multimapAvgTp[id]\n",
      "multimapAvgFp[id] = sum([multimapFp[\"1\"], multimapFp[\"2\"], multimapFp[\"3\"]]) / 3\n",
      "print \"Average Multimap False Positive Percentage: \", multimapAvgFp[id]"
     ],
     "language": "python",
     "metadata": {},
     "outputs": []
    },
    {
     "cell_type": "code",
     "collapsed": false,
     "input": [
      "num = \"230\"\n",
      "rep = \"1\"\n",
      "error = \"1\"\n",
      "r = \"20\"\n",
      "id = \"020\"\n",
      "g = \"100\"\n",
      "rr = \"100\"\n",
      "runBowtieBuild(num,rep,error,r,g)\n",
      "runBowtieAllParams(num,rep,error,r,g,num,rep,error,r,g)\n",
      "getTruePositivesAllParams(num,rep,error,r,g,\"mouse\")\n",
      "defaultTp[rep],defaultFp[rep] = getTpFp(num,rep,error,r,g,\"default\",num,rep,error,r,g)\n",
      "uniqueTp[rep],uniqueFp[rep] = getTpFp(num,rep,error,r,g,\"unique\",num,rep,error,r,g)\n",
      "multimapTp[rep],multimapFp[rep] = getTpFp(num,rep,error,r,g,\"multimap\",num,rep,error,r,g)\n",
      "rep = \"2\"\n",
      "runBowtieBuild(num,rep,error,r,g)\n",
      "runBowtieAllParams(num,rep,error,r,g,num,rep,error,r,g)\n",
      "getTruePositivesAllParams(num,rep,error,r,g,\"mouse\")\n",
      "defaultTp[rep],defaultFp[rep] = getTpFp(num,rep,error,r,g,\"default\",num,rep,error,r,g)\n",
      "uniqueTp[rep],uniqueFp[rep] = getTpFp(num,rep,error,r,g,\"unique\",num,rep,error,r,g)\n",
      "multimapTp[rep],multimapFp[rep] = getTpFp(num,rep,error,r,g,\"multimap\",num,rep,error,r,g)\n",
      "rep = \"3\"\n",
      "runBowtieBuild(num,rep,error,r,g)\n",
      "runBowtieAllParams(num,rep,error,r,g,num,rep,error,r,g)\n",
      "getTruePositivesAllParams(num,rep,error,r,g,\"mouse\")\n",
      "defaultTp[rep],defaultFp[rep] = getTpFp(num,rep,error,r,g,\"default\",num,rep,error,r,g)\n",
      "uniqueTp[rep],uniqueFp[rep] = getTpFp(num,rep,error,r,g,\"unique\",num,rep,error,r,g)\n",
      "multimapTp[rep],multimapFp[rep] = getTpFp(num,rep,error,r,g,\"multimap\",num,rep,error,r,g)\n",
      "defaultAvgTp[id] = sum([defaultTp[\"1\"], defaultTp[\"2\"], defaultTp[\"3\"]]) / 3\n",
      "print \"Average Default True Positive Percentage: \", defaultAvgTp[id]\n",
      "defaultAvgFp[id] = sum([defaultFp[\"1\"], defaultFp[\"2\"], defaultFp[\"3\"]]) / 3\n",
      "print \"Average Default False Positive Percentage: \", defaultAvgFp[id]\n",
      "uniqueAvgTp[id] = sum([uniqueTp[\"1\"], uniqueTp[\"2\"], uniqueTp[\"3\"]]) / 3\n",
      "print \"Average Unique True Positive Percentage: \", uniqueAvgTp[id]\n",
      "uniqueAvgFp[id] = sum([uniqueFp[\"1\"], uniqueFp[\"2\"], uniqueFp[\"3\"]]) / 3\n",
      "print \"Average Unique False Positive Percentage: \", uniqueAvgFp[id]\n",
      "multimapAvgTp[id] = sum([multimapTp[\"1\"], multimapTp[\"2\"], multimapTp[\"3\"]]) / 3\n",
      "print \"Average Multimap True Positive Percentage: \", multimapAvgTp[id]\n",
      "multimapAvgFp[id] = sum([multimapFp[\"1\"], multimapFp[\"2\"], multimapFp[\"3\"]]) / 3\n",
      "print \"Average Multimap False Positive Percentage: \", multimapAvgFp[id]"
     ],
     "language": "python",
     "metadata": {},
     "outputs": []
    },
    {
     "cell_type": "code",
     "collapsed": false,
     "input": [
      "num = \"230\"\n",
      "rep = \"1\"\n",
      "error = \"1\"\n",
      "r = \"10\"\n",
      "id = \"010\"\n",
      "g = \"100\"\n",
      "rr = \"100\"\n",
      "runBowtieBuild(num,rep,error,r,g)\n",
      "runBowtieAllParams(num,rep,error,r,g,num,rep,error,r,g)\n",
      "getTruePositivesAllParams(num,rep,error,r,g,\"mouse\")\n",
      "defaultTp[rep],defaultFp[rep] = getTpFp(num,rep,error,r,g,\"default\",num,rep,error,r,g)\n",
      "uniqueTp[rep],uniqueFp[rep] = getTpFp(num,rep,error,r,g,\"unique\",num,rep,error,r,g)\n",
      "multimapTp[rep],multimapFp[rep] = getTpFp(num,rep,error,r,g,\"multimap\",num,rep,error,r,g)\n",
      "rep = \"2\"\n",
      "runBowtieBuild(num,rep,error,r,g)\n",
      "runBowtieAllParams(num,rep,error,r,g,num,rep,error,r,g)\n",
      "getTruePositivesAllParams(num,rep,error,r,g,\"mouse\")\n",
      "defaultTp[rep],defaultFp[rep] = getTpFp(num,rep,error,r,g,\"default\",num,rep,error,r,g)\n",
      "uniqueTp[rep],uniqueFp[rep] = getTpFp(num,rep,error,r,g,\"unique\",num,rep,error,r,g)\n",
      "multimapTp[rep],multimapFp[rep] = getTpFp(num,rep,error,r,g,\"multimap\",num,rep,error,r,g)\n",
      "rep = \"3\"\n",
      "runBowtieBuild(num,rep,error,r,g)\n",
      "runBowtieAllParams(num,rep,error,r,g,num,rep,error,r,g)\n",
      "getTruePositivesAllParams(num,rep,error,r,g,\"mouse\")\n",
      "defaultTp[rep],defaultFp[rep] = getTpFp(num,rep,error,r,g,\"default\",num,rep,error,r,g)\n",
      "uniqueTp[rep],uniqueFp[rep] = getTpFp(num,rep,error,r,g,\"unique\",num,rep,error,r,g)\n",
      "multimapTp[rep],multimapFp[rep] = getTpFp(num,rep,error,r,g,\"multimap\",num,rep,error,r,g)\n",
      "defaultAvgTp[id] = sum([defaultTp[\"1\"], defaultTp[\"2\"], defaultTp[\"3\"]]) / 3\n",
      "print \"Average Default True Positive Percentage: \", defaultAvgTp[id]\n",
      "defaultAvgFp[id] = sum([defaultFp[\"1\"], defaultFp[\"2\"], defaultFp[\"3\"]]) / 3\n",
      "print \"Average Default False Positive Percentage: \", defaultAvgFp[id]\n",
      "uniqueAvgTp[id] = sum([uniqueTp[\"1\"], uniqueTp[\"2\"], uniqueTp[\"3\"]]) / 3\n",
      "print \"Average Unique True Positive Percentage: \", uniqueAvgTp[id]\n",
      "uniqueAvgFp[id] = sum([uniqueFp[\"1\"], uniqueFp[\"2\"], uniqueFp[\"3\"]]) / 3\n",
      "print \"Average Unique False Positive Percentage: \", uniqueAvgFp[id]\n",
      "multimapAvgTp[id] = sum([multimapTp[\"1\"], multimapTp[\"2\"], multimapTp[\"3\"]]) / 3\n",
      "print \"Average Multimap True Positive Percentage: \", multimapAvgTp[id]\n",
      "multimapAvgFp[id] = sum([multimapFp[\"1\"], multimapFp[\"2\"], multimapFp[\"3\"]]) / 3\n",
      "print \"Average Multimap False Positive Percentage: \", multimapAvgFp[id]"
     ],
     "language": "python",
     "metadata": {},
     "outputs": []
    },
    {
     "cell_type": "heading",
     "level": 2,
     "metadata": {},
     "source": [
      "Test 4: Mapping accuracy of read sets generated from 50% expressed full chicken transcriptome when mapped with bowtie, bwa, and soap2"
     ]
    },
    {
     "cell_type": "heading",
     "level": 2,
     "metadata": {},
     "source": [
      "Test 5: Transcript expression accuracy of read sets generated from 25, 50, 75, and 100% expressed full chicken transcriptome with incomplete reference transcriptome"
     ]
    },
    {
     "cell_type": "heading",
     "level": 6,
     "metadata": {},
     "source": [
      "Single end read sets"
     ]
    },
    {
     "cell_type": "raw",
     "metadata": {},
     "source": [
      "Chicken transcriptome, 25% expression, single end 100 bp reads, {0 10 100 100}x expression"
     ]
    },
    {
     "cell_type": "raw",
     "metadata": {},
     "source": [
      "Chicken transcriptome, 75% expression, single end 100 bp reads, {0 10 100 100}x expression"
     ]
    },
    {
     "cell_type": "raw",
     "metadata": {},
     "source": [
      "Chicken transcriptome, 100% expression, single end 100 bp reads, {0 10 100 100}x expression"
     ]
    },
    {
     "cell_type": "heading",
     "level": 6,
     "metadata": {},
     "source": [
      "Paired end read sets"
     ]
    },
    {
     "cell_type": "raw",
     "metadata": {},
     "source": [
      "Chicken transcriptome, 25% expression, paired end 100:50:100 bp reads, {0 10 100 100}x expression"
     ]
    },
    {
     "cell_type": "raw",
     "metadata": {},
     "source": [
      "Chicken transcriptome, 50% expression, paired end 100:50:100 bp reads, {0 10 100 100}x expression"
     ]
    },
    {
     "cell_type": "raw",
     "metadata": {},
     "source": [
      "Chicken transcriptome, 75% expression, paired end 100:50:100 bp reads, {0 10 100 100}x expression"
     ]
    },
    {
     "cell_type": "raw",
     "metadata": {},
     "source": [
      "Chicken transcriptome, 100% expression, paired end 100:50:100 bp reads, {0 10 100 100}x expression"
     ]
    },
    {
     "cell_type": "heading",
     "level": 2,
     "metadata": {},
     "source": [
      "Test 6: Gene expression accuracy of read sets generated from 25, 50, 75, 100% expressed full chicken transcriptome with incomplete reference transcriptome"
     ]
    },
    {
     "cell_type": "heading",
     "level": 2,
     "metadata": {},
     "source": [
      "Test 7: Transcript family expression accuracy of read sets generated from 25, 50, 75, 100% expressed full chicken transcriptome with incomplete reference transcriptome"
     ]
    },
    {
     "cell_type": "heading",
     "level": 2,
     "metadata": {},
     "source": [
      "Test 8: Mapping accuracy of reads from 100% expressed mouse transcriptome at progressively longer read lengths, single end 100 bp reads, 20x"
     ]
    },
    {
     "cell_type": "raw",
     "metadata": {},
     "source": [
      "Mouse transcriptome, single end 100 bp reads, 20x expression"
     ]
    },
    {
     "cell_type": "code",
     "collapsed": false,
     "input": [
      "defaultAvgTp = {}\n",
      "defaultAvgFp = {}\n",
      "uniqueAvgTp = {}\n",
      "uniqueAvgFp = {}\n",
      "multimapAvgTp = {}\n",
      "multimapAvgFp = {}"
     ],
     "language": "python",
     "metadata": {},
     "outputs": []
    },
    {
     "cell_type": "code",
     "collapsed": false,
     "input": [
      "num = \"201\"\n",
      "rep = \"1\"\n",
      "error = \"1\"\n",
      "r = \"100\"\n",
      "g = \"100\"\n",
      "createDataSet(num,rep)\n",
      "!grep '>' DataSet201rep1E1R100G100.fa | wc -l\n",
      "defaultTp = {}\n",
      "defaultFp = {}\n",
      "uniqueTp = {}\n",
      "uniqueFp = {}\n",
      "multimapTp = {}\n",
      "multimapFp = {}\n",
      "runBowtieBuild(num,rep,error,r,g)\n",
      "runBowtieAllParams(num,rep,error,r,g,num,rep,error,r,g)\n",
      "getTruePositivesAllParams(num,rep,error,r,g,\"mouse\")\n",
      "defaultTp[rep],defaultFp[rep] = getTpFp(num,rep,error,r,g,\"default\",num,rep,error,r,g)\n",
      "uniqueTp[rep],uniqueFp[rep] = getTpFp(num,rep,error,r,g,\"unique\",num,rep,error,r,g)\n",
      "multimapTp[rep],multimapFp[rep] = getTpFp(num,rep,error,r,g,\"multimap\",num,rep,error,r,g)\n",
      "print defaultTp, defaultFp, uniqueTp, uniqueFp, multimapTp, multimapFp"
     ],
     "language": "python",
     "metadata": {},
     "outputs": []
    },
    {
     "cell_type": "code",
     "collapsed": false,
     "input": [
      "num = \"201\"\n",
      "rep = \"2\"\n",
      "error = \"1\"\n",
      "r = \"100\"\n",
      "g = \"100\"\n",
      "createDataSet(num,rep)\n",
      "!grep '>' DataSet201rep2E1R100G100.fa | wc -l\n",
      "runBowtieBuild(num,rep,error,r,g)\n",
      "runBowtieAllParams(num,rep,error,r,g,num,rep,error,r,g)\n",
      "getTruePositivesAllParams(num,rep,error,r,g,\"mouse\")\n",
      "defaultTp[rep],defaultFp[rep] = getTpFp(num,rep,error,r,g,\"default\",num,rep,error,r,g)\n",
      "uniqueTp[rep],uniqueFp[rep] = getTpFp(num,rep,error,r,g,\"unique\",num,rep,error,r,g)\n",
      "multimapTp[rep],multimapFp[rep] = getTpFp(num,rep,error,r,g,\"multimap\",num,rep,error,r,g)\n",
      "print defaultTp, defaultFp, uniqueTp, uniqueFp, multimapTp, multimapFp"
     ],
     "language": "python",
     "metadata": {},
     "outputs": []
    },
    {
     "cell_type": "code",
     "collapsed": false,
     "input": [
      "num = \"201\"\n",
      "rep = \"3\"\n",
      "error = \"1\"\n",
      "r = \"100\"\n",
      "g = \"100\"\n",
      "createDataSet(num,rep)\n",
      "!grep '>' DataSet201rep3E1R100G100.fa | wc -l\n",
      "runBowtieBuild(num,rep,error,r,g)\n",
      "runBowtieAllParams(num,rep,error,r,g,num,rep,error,r,g)\n",
      "getTruePositivesAllParams(num,rep,error,r,g,\"mouse\")\n",
      "defaultTp[rep],defaultFp[rep] = getTpFp(num,rep,error,r,g,\"default\",num,rep,error,r,g)\n",
      "uniqueTp[rep],uniqueFp[rep] = getTpFp(num,rep,error,r,g,\"unique\",num,rep,error,r,g)\n",
      "multimapTp[rep],multimapFp[rep] = getTpFp(num,rep,error,r,g,\"multimap\",num,rep,error,r,g)\n",
      "print defaultTp, defaultFp, uniqueTp, uniqueFp, multimapTp, multimapFp"
     ],
     "language": "python",
     "metadata": {},
     "outputs": []
    },
    {
     "cell_type": "code",
     "collapsed": false,
     "input": [
      "id = \"0100\"\n",
      "defaultAvgTp[id] = sum([defaultTp[\"1\"], defaultTp[\"2\"], defaultTp[\"3\"]]) / 3\n",
      "print \"Average Default True Positive Percentage: \", defaultAvgTp[id]\n",
      "defaultAvgFp[id] = sum([defaultFp[\"1\"], defaultFp[\"2\"], defaultFp[\"3\"]]) / 3\n",
      "print \"Average Default False Positive Percentage: \", defaultAvgFp[id]\n",
      "uniqueAvgTp[id] = sum([uniqueTp[\"1\"], uniqueTp[\"2\"], uniqueTp[\"3\"]]) / 3\n",
      "print \"Average Unique True Positive Percentage: \", uniqueAvgTp[id]\n",
      "uniqueAvgFp[id] = sum([uniqueFp[\"1\"], uniqueFp[\"2\"], uniqueFp[\"3\"]]) / 3\n",
      "print \"Average Unique False Positive Percentage: \", uniqueAvgFp[id]\n",
      "multimapAvgTp[id] = sum([multimapTp[\"1\"], multimapTp[\"2\"], multimapTp[\"3\"]]) / 3\n",
      "print \"Average Multimap True Positive Percentage: \", multimapAvgTp[id]\n",
      "multimapAvgFp[id] = sum([multimapFp[\"1\"], multimapFp[\"2\"], multimapFp[\"3\"]]) / 3\n",
      "print \"Average Multimap False Positive Percentage: \", multimapAvgFp[id]"
     ],
     "language": "python",
     "metadata": {},
     "outputs": []
    },
    {
     "cell_type": "raw",
     "metadata": {},
     "source": [
      "Mouse transcriptome, single end 200 bp reads, 20x expression"
     ]
    },
    {
     "cell_type": "code",
     "collapsed": false,
     "input": [
      "num = \"202\"\n",
      "rep = \"1\"\n",
      "error = \"1\"\n",
      "r = \"100\"\n",
      "g = \"100\"\n",
      "createDataSet(num,rep)\n",
      "!grep '>' DataSet202rep1E1R100G100.fa | wc -l\n",
      "defaultTp = {}\n",
      "defaultFp = {}\n",
      "uniqueTp = {}\n",
      "uniqueFp = {}\n",
      "multimapTp = {}\n",
      "multimapFp = {}\n",
      "runBowtieBuild(num,rep,error,r,g)\n",
      "runBowtieAllParams(num,rep,error,r,g,num,rep,error,r,g)\n",
      "getTruePositivesAllParams(num,rep,error,r,g,\"mouse\")\n",
      "defaultTp[rep],defaultFp[rep] = getTpFp(num,rep,error,r,g,\"default\",num,rep,error,r,g)\n",
      "uniqueTp[rep],uniqueFp[rep] = getTpFp(num,rep,error,r,g,\"unique\",num,rep,error,r,g)\n",
      "multimapTp[rep],multimapFp[rep] = getTpFp(num,rep,error,r,g,\"multimap\",num,rep,error,r,g)\n",
      "print defaultTp, defaultFp, uniqueTp, uniqueFp, multimapTp, multimapFp"
     ],
     "language": "python",
     "metadata": {},
     "outputs": []
    },
    {
     "cell_type": "code",
     "collapsed": false,
     "input": [
      "num = \"202\"\n",
      "rep = \"2\"\n",
      "error = \"1\"\n",
      "r = \"100\"\n",
      "g = \"100\"\n",
      "createDataSet(num,rep)\n",
      "!grep '>' DataSet202rep2E1R100G100.fa | wc -l\n",
      "runBowtieBuild(num,rep,error,r,g)\n",
      "runBowtieAllParams(num,rep,error,r,g,num,rep,error,r,g)\n",
      "getTruePositivesAllParams(num,rep,error,r,g,\"mouse\")\n",
      "defaultTp[rep],defaultFp[rep] = getTpFp(num,rep,error,r,g,\"default\",num,rep,error,r,g)\n",
      "uniqueTp[rep],uniqueFp[rep] = getTpFp(num,rep,error,r,g,\"unique\",num,rep,error,r,g)\n",
      "multimapTp[rep],multimapFp[rep] = getTpFp(num,rep,error,r,g,\"multimap\",num,rep,error,r,g)\n",
      "print defaultTp, defaultFp, uniqueTp, uniqueFp, multimapTp, multimapFp"
     ],
     "language": "python",
     "metadata": {},
     "outputs": []
    },
    {
     "cell_type": "code",
     "collapsed": false,
     "input": [
      "num = \"202\"\n",
      "rep = \"3\"\n",
      "error = \"1\"\n",
      "r = \"100\"\n",
      "g = \"100\"\n",
      "createDataSet(num,rep)\n",
      "!grep '>' DataSet202rep3E1R100G100.fa | wc -l\n",
      "runBowtieBuild(num,rep,error,r,g)\n",
      "runBowtieAllParams(num,rep,error,r,g,num,rep,error,r,g)\n",
      "getTruePositivesAllParams(num,rep,error,r,g,\"mouse\")\n",
      "defaultTp[rep],defaultFp[rep] = getTpFp(num,rep,error,r,g,\"default\",num,rep,error,r,g)\n",
      "uniqueTp[rep],uniqueFp[rep] = getTpFp(num,rep,error,r,g,\"unique\",num,rep,error,r,g)\n",
      "multimapTp[rep],multimapFp[rep] = getTpFp(num,rep,error,r,g,\"multimap\",num,rep,error,r,g)\n",
      "print defaultTp, defaultFp, uniqueTp, uniqueFp, multimapTp, multimapFp"
     ],
     "language": "python",
     "metadata": {},
     "outputs": []
    },
    {
     "cell_type": "code",
     "collapsed": false,
     "input": [
      "id = \"0200\"\n",
      "defaultAvgTp[id] = sum([defaultTp[\"1\"], defaultTp[\"2\"], defaultTp[\"3\"]]) / 3\n",
      "print \"Average Default True Positive Percentage: \", defaultAvgTp[id]\n",
      "defaultAvgFp[id] = sum([defaultFp[\"1\"], defaultFp[\"2\"], defaultFp[\"3\"]]) / 3\n",
      "print \"Average Default False Positive Percentage: \", defaultAvgFp[id]\n",
      "uniqueAvgTp[id] = sum([uniqueTp[\"1\"], uniqueTp[\"2\"], uniqueTp[\"3\"]]) / 3\n",
      "print \"Average Unique True Positive Percentage: \", uniqueAvgTp[id]\n",
      "uniqueAvgFp[id] = sum([uniqueFp[\"1\"], uniqueFp[\"2\"], uniqueFp[\"3\"]]) / 3\n",
      "print \"Average Unique False Positive Percentage: \", uniqueAvgFp[id]\n",
      "multimapAvgTp[id] = sum([multimapTp[\"1\"], multimapTp[\"2\"], multimapTp[\"3\"]]) / 3\n",
      "print \"Average Multimap True Positive Percentage: \", multimapAvgTp[id]\n",
      "multimapAvgFp[id] = sum([multimapFp[\"1\"], multimapFp[\"2\"], multimapFp[\"3\"]]) / 3\n",
      "print \"Average Multimap False Positive Percentage: \", multimapAvgFp[id]"
     ],
     "language": "python",
     "metadata": {},
     "outputs": []
    },
    {
     "cell_type": "raw",
     "metadata": {},
     "source": [
      "Mouse transcriptome, single end 300 bp reads, 20x expression"
     ]
    },
    {
     "cell_type": "code",
     "collapsed": false,
     "input": [
      "num = \"203\"\n",
      "rep = \"1\"\n",
      "error = \"1\"\n",
      "r = \"100\"\n",
      "g = \"100\"\n",
      "createDataSet(num,rep)\n",
      "!grep '>' DataSet203rep1E1R100G100.fa | wc -l\n",
      "defaultTp = {}\n",
      "defaultFp = {}\n",
      "uniqueTp = {}\n",
      "uniqueFp = {}\n",
      "multimapTp = {}\n",
      "multimapFp = {}\n",
      "runBowtieBuild(num,rep,error,r,g)\n",
      "runBowtieAllParams(num,rep,error,r,g,num,rep,error,r,g)\n",
      "getTruePositivesAllParams(num,rep,error,r,g,\"mouse\")\n",
      "defaultTp[rep],defaultFp[rep] = getTpFp(num,rep,error,r,g,\"default\",num,rep,error,r,g)\n",
      "uniqueTp[rep],uniqueFp[rep] = getTpFp(num,rep,error,r,g,\"unique\",num,rep,error,r,g)\n",
      "multimapTp[rep],multimapFp[rep] = getTpFp(num,rep,error,r,g,\"multimap\",num,rep,error,r,g)\n",
      "print defaultTp, defaultFp, uniqueTp, uniqueFp, multimapTp, multimapFp"
     ],
     "language": "python",
     "metadata": {},
     "outputs": []
    },
    {
     "cell_type": "code",
     "collapsed": false,
     "input": [
      "num = \"203\"\n",
      "rep = \"2\"\n",
      "error = \"1\"\n",
      "r = \"100\"\n",
      "g = \"100\"\n",
      "createDataSet(num,rep)\n",
      "!grep '>' DataSet203rep2E1R100G100.fa | wc -l\n",
      "runBowtieBuild(num,rep,error,r,g)\n",
      "runBowtieAllParams(num,rep,error,r,g,num,rep,error,r,g)\n",
      "getTruePositivesAllParams(num,rep,error,r,g,\"mouse\")\n",
      "defaultTp[rep],defaultFp[rep] = getTpFp(num,rep,error,r,g,\"default\",num,rep,error,r,g)\n",
      "uniqueTp[rep],uniqueFp[rep] = getTpFp(num,rep,error,r,g,\"unique\",num,rep,error,r,g)\n",
      "multimapTp[rep],multimapFp[rep] = getTpFp(num,rep,error,r,g,\"multimap\",num,rep,error,r,g)\n",
      "print defaultTp, defaultFp, uniqueTp, uniqueFp, multimapTp, multimapFp"
     ],
     "language": "python",
     "metadata": {},
     "outputs": []
    },
    {
     "cell_type": "code",
     "collapsed": false,
     "input": [
      "num = \"203\"\n",
      "rep = \"3\"\n",
      "error = \"1\"\n",
      "r = \"100\"\n",
      "g = \"100\"\n",
      "createDataSet(num,rep)\n",
      "!grep '>' DataSet203rep3E1R100G100.fa | wc -l\n",
      "runBowtieBuild(num,rep,error,r,g)\n",
      "runBowtieAllParams(num,rep,error,r,g,num,rep,error,r,g)\n",
      "getTruePositivesAllParams(num,rep,error,r,g,\"mouse\")\n",
      "defaultTp[rep],defaultFp[rep] = getTpFp(num,rep,error,r,g,\"default\",num,rep,error,r,g)\n",
      "uniqueTp[rep],uniqueFp[rep] = getTpFp(num,rep,error,r,g,\"unique\",num,rep,error,r,g)\n",
      "multimapTp[rep],multimapFp[rep] = getTpFp(num,rep,error,r,g,\"multimap\",num,rep,error,r,g)\n",
      "print defaultTp, defaultFp, uniqueTp, uniqueFp, multimapTp, multimapFp"
     ],
     "language": "python",
     "metadata": {},
     "outputs": []
    },
    {
     "cell_type": "code",
     "collapsed": false,
     "input": [
      "id = \"0300\"\n",
      "defaultAvgTp[id] = sum([defaultTp[\"1\"], defaultTp[\"2\"], defaultTp[\"3\"]]) / 3\n",
      "print \"Average Default True Positive Percentage: \", defaultAvgTp[id]\n",
      "defaultAvgFp[id] = sum([defaultFp[\"1\"], defaultFp[\"2\"], defaultFp[\"3\"]]) / 3\n",
      "print \"Average Default False Positive Percentage: \", defaultAvgFp[id]\n",
      "uniqueAvgTp[id] = sum([uniqueTp[\"1\"], uniqueTp[\"2\"], uniqueTp[\"3\"]]) / 3\n",
      "print \"Average Unique True Positive Percentage: \", uniqueAvgTp[id]\n",
      "uniqueAvgFp[id] = sum([uniqueFp[\"1\"], uniqueFp[\"2\"], uniqueFp[\"3\"]]) / 3\n",
      "print \"Average Unique False Positive Percentage: \", uniqueAvgFp[id]\n",
      "multimapAvgTp[id] = sum([multimapTp[\"1\"], multimapTp[\"2\"], multimapTp[\"3\"]]) / 3\n",
      "print \"Average Multimap True Positive Percentage: \", multimapAvgTp[id]\n",
      "multimapAvgFp[id] = sum([multimapFp[\"1\"], multimapFp[\"2\"], multimapFp[\"3\"]]) / 3\n",
      "print \"Average Multimap False Positive Percentage: \", multimapAvgFp[id]"
     ],
     "language": "python",
     "metadata": {},
     "outputs": []
    },
    {
     "cell_type": "raw",
     "metadata": {},
     "source": [
      "Mouse transcriptome, single end 400 bp reads, 20x expression"
     ]
    },
    {
     "cell_type": "code",
     "collapsed": false,
     "input": [
      "num = \"204\"\n",
      "rep = \"1\"\n",
      "error = \"1\"\n",
      "r = \"100\"\n",
      "g = \"100\"\n",
      "createDataSet(num,rep)\n",
      "!grep '>' DataSet204rep1E1R100G100.fa | wc -l\n",
      "defaultTp = {}\n",
      "defaultFp = {}\n",
      "uniqueTp = {}\n",
      "uniqueFp = {}\n",
      "multimapTp = {}\n",
      "multimapFp = {}\n",
      "runBowtieBuild(num,rep,error,r,g)\n",
      "runBowtieAllParams(num,rep,error,r,g,num,rep,error,r,g)\n",
      "getTruePositivesAllParams(num,rep,error,r,g,\"mouse\")\n",
      "defaultTp[rep],defaultFp[rep] = getTpFp(num,rep,error,r,g,\"default\",num,rep,error,r,g)\n",
      "uniqueTp[rep],uniqueFp[rep] = getTpFp(num,rep,error,r,g,\"unique\",num,rep,error,r,g)\n",
      "multimapTp[rep],multimapFp[rep] = getTpFp(num,rep,error,r,g,\"multimap\",num,rep,error,r,g)\n",
      "print defaultTp, defaultFp, uniqueTp, uniqueFp, multimapTp, multimapFp"
     ],
     "language": "python",
     "metadata": {},
     "outputs": []
    },
    {
     "cell_type": "code",
     "collapsed": false,
     "input": [
      "num = \"204\"\n",
      "rep = \"2\"\n",
      "error = \"1\"\n",
      "r = \"100\"\n",
      "g = \"100\"\n",
      "createDataSet(num,rep)\n",
      "!grep '>' DataSet204rep2E1R100G100.fa | wc -l\n",
      "runBowtieBuild(num,rep,error,r,g)\n",
      "runBowtieAllParams(num,rep,error,r,g,num,rep,error,r,g)\n",
      "getTruePositivesAllParams(num,rep,error,r,g,\"mouse\")\n",
      "defaultTp[rep],defaultFp[rep] = getTpFp(num,rep,error,r,g,\"default\",num,rep,error,r,g)\n",
      "uniqueTp[rep],uniqueFp[rep] = getTpFp(num,rep,error,r,g,\"unique\",num,rep,error,r,g)\n",
      "multimapTp[rep],multimapFp[rep] = getTpFp(num,rep,error,r,g,\"multimap\",num,rep,error,r,g)\n",
      "print defaultTp, defaultFp, uniqueTp, uniqueFp, multimapTp, multimapFp"
     ],
     "language": "python",
     "metadata": {},
     "outputs": []
    },
    {
     "cell_type": "code",
     "collapsed": false,
     "input": [
      "num = \"204\"\n",
      "rep = \"3\"\n",
      "error = \"1\"\n",
      "r = \"100\"\n",
      "g = \"100\"\n",
      "createDataSet(num,rep)\n",
      "!grep '>' DataSet204rep3E1R100G100.fa | wc -l\n",
      "runBowtieBuild(num,rep,error,r,g)\n",
      "runBowtieAllParams(num,rep,error,r,g,num,rep,error,r,g)\n",
      "getTruePositivesAllParams(num,rep,error,r,g,\"mouse\")\n",
      "defaultTp[rep],defaultFp[rep] = getTpFp(num,rep,error,r,g,\"default\",num,rep,error,r,g)\n",
      "uniqueTp[rep],uniqueFp[rep] = getTpFp(num,rep,error,r,g,\"unique\",num,rep,error,r,g)\n",
      "multimapTp[rep],multimapFp[rep] = getTpFp(num,rep,error,r,g,\"multimap\",num,rep,error,r,g)\n",
      "print defaultTp, defaultFp, uniqueTp, uniqueFp, multimapTp, multimapFp"
     ],
     "language": "python",
     "metadata": {},
     "outputs": []
    },
    {
     "cell_type": "code",
     "collapsed": false,
     "input": [
      "id = \"0400\"\n",
      "defaultAvgTp[id] = sum([defaultTp[\"1\"], defaultTp[\"2\"], defaultTp[\"3\"]]) / 3\n",
      "print \"Average Default True Positive Percentage: \", defaultAvgTp[id]\n",
      "defaultAvgFp[id] = sum([defaultFp[\"1\"], defaultFp[\"2\"], defaultFp[\"3\"]]) / 3\n",
      "print \"Average Default False Positive Percentage: \", defaultAvgFp[id]\n",
      "uniqueAvgTp[id] = sum([uniqueTp[\"1\"], uniqueTp[\"2\"], uniqueTp[\"3\"]]) / 3\n",
      "print \"Average Unique True Positive Percentage: \", uniqueAvgTp[id]\n",
      "uniqueAvgFp[id] = sum([uniqueFp[\"1\"], uniqueFp[\"2\"], uniqueFp[\"3\"]]) / 3\n",
      "print \"Average Unique False Positive Percentage: \", uniqueAvgFp[id]\n",
      "multimapAvgTp[id] = sum([multimapTp[\"1\"], multimapTp[\"2\"], multimapTp[\"3\"]]) / 3\n",
      "print \"Average Multimap True Positive Percentage: \", multimapAvgTp[id]\n",
      "multimapAvgFp[id] = sum([multimapFp[\"1\"], multimapFp[\"2\"], multimapFp[\"3\"]]) / 3\n",
      "print \"Average Multimap False Positive Percentage: \", multimapAvgFp[id]"
     ],
     "language": "python",
     "metadata": {},
     "outputs": []
    },
    {
     "cell_type": "raw",
     "metadata": {},
     "source": [
      "Mouse transcriptome, single end 500 bp reads, 20x expression"
     ]
    },
    {
     "cell_type": "code",
     "collapsed": false,
     "input": [
      "num = \"205\"\n",
      "rep = \"1\"\n",
      "error = \"1\"\n",
      "r = \"100\"\n",
      "g = \"100\"\n",
      "createDataSet(num,rep)\n",
      "!grep '>' DataSet205rep1E1R100G100.fa | wc -l\n",
      "defaultTp = {}\n",
      "defaultFp = {}\n",
      "uniqueTp = {}\n",
      "uniqueFp = {}\n",
      "multimapTp = {}\n",
      "multimapFp = {}\n",
      "runBowtieBuild(num,rep,error,r,g)\n",
      "runBowtieAllParams(num,rep,error,r,g,num,rep,error,r,g)\n",
      "getTruePositivesAllParams(num,rep,error,r,g,\"mouse\")\n",
      "defaultTp[rep],defaultFp[rep] = getTpFp(num,rep,error,r,g,\"default\",num,rep,error,r,g)\n",
      "uniqueTp[rep],uniqueFp[rep] = getTpFp(num,rep,error,r,g,\"unique\",num,rep,error,r,g)\n",
      "multimapTp[rep],multimapFp[rep] = getTpFp(num,rep,error,r,g,\"multimap\",num,rep,error,r,g)\n",
      "print defaultTp, defaultFp, uniqueTp, uniqueFp, multimapTp, multimapFp"
     ],
     "language": "python",
     "metadata": {},
     "outputs": []
    },
    {
     "cell_type": "code",
     "collapsed": false,
     "input": [
      "num = \"205\"\n",
      "rep = \"2\"\n",
      "error = \"1\"\n",
      "r = \"100\"\n",
      "g = \"100\"\n",
      "createDataSet(num,rep)\n",
      "!grep '>' DataSet205rep2E1R100G100.fa | wc -l\n",
      "runBowtieBuild(num,rep,error,r,g)\n",
      "runBowtieAllParams(num,rep,error,r,g,num,rep,error,r,g)\n",
      "getTruePositivesAllParams(num,rep,error,r,g,\"mouse\")\n",
      "defaultTp[rep],defaultFp[rep] = getTpFp(num,rep,error,r,g,\"default\",num,rep,error,r,g)\n",
      "uniqueTp[rep],uniqueFp[rep] = getTpFp(num,rep,error,r,g,\"unique\",num,rep,error,r,g)\n",
      "multimapTp[rep],multimapFp[rep] = getTpFp(num,rep,error,r,g,\"multimap\",num,rep,error,r,g)\n",
      "print defaultTp, defaultFp, uniqueTp, uniqueFp, multimapTp, multimapFp"
     ],
     "language": "python",
     "metadata": {},
     "outputs": []
    },
    {
     "cell_type": "code",
     "collapsed": false,
     "input": [
      "num = \"205\"\n",
      "rep = \"3\"\n",
      "error = \"1\"\n",
      "r = \"100\"\n",
      "g = \"100\"\n",
      "createDataSet(num,rep)\n",
      "!grep '>' DataSet205rep3E1R100G100.fa | wc -l\n",
      "runBowtieBuild(num,rep,error,r,g)\n",
      "runBowtieAllParams(num,rep,error,r,g,num,rep,error,r,g)\n",
      "getTruePositivesAllParams(num,rep,error,r,g,\"mouse\")\n",
      "defaultTp[rep],defaultFp[rep] = getTpFp(num,rep,error,r,g,\"default\",num,rep,error,r,g)\n",
      "uniqueTp[rep],uniqueFp[rep] = getTpFp(num,rep,error,r,g,\"unique\",num,rep,error,r,g)\n",
      "multimapTp[rep],multimapFp[rep] = getTpFp(num,rep,error,r,g,\"multimap\",num,rep,error,r,g)\n",
      "print defaultTp, defaultFp, uniqueTp, uniqueFp, multimapTp, multimapFp"
     ],
     "language": "python",
     "metadata": {},
     "outputs": []
    },
    {
     "cell_type": "code",
     "collapsed": false,
     "input": [
      "id = \"0500\"\n",
      "defaultAvgTp[id] = sum([defaultTp[\"1\"], defaultTp[\"2\"], defaultTp[\"3\"]]) / 3\n",
      "print \"Average Default True Positive Percentage: \", defaultAvgTp[id]\n",
      "defaultAvgFp[id] = sum([defaultFp[\"1\"], defaultFp[\"2\"], defaultFp[\"3\"]]) / 3\n",
      "print \"Average Default False Positive Percentage: \", defaultAvgFp[id]\n",
      "uniqueAvgTp[id] = sum([uniqueTp[\"1\"], uniqueTp[\"2\"], uniqueTp[\"3\"]]) / 3\n",
      "print \"Average Unique True Positive Percentage: \", uniqueAvgTp[id]\n",
      "uniqueAvgFp[id] = sum([uniqueFp[\"1\"], uniqueFp[\"2\"], uniqueFp[\"3\"]]) / 3\n",
      "print \"Average Unique False Positive Percentage: \", uniqueAvgFp[id]\n",
      "multimapAvgTp[id] = sum([multimapTp[\"1\"], multimapTp[\"2\"], multimapTp[\"3\"]]) / 3\n",
      "print \"Average Multimap True Positive Percentage: \", multimapAvgTp[id]\n",
      "multimapAvgFp[id] = sum([multimapFp[\"1\"], multimapFp[\"2\"], multimapFp[\"3\"]]) / 3\n",
      "print \"Average Multimap False Positive Percentage: \", multimapAvgFp[id]"
     ],
     "language": "python",
     "metadata": {},
     "outputs": []
    },
    {
     "cell_type": "raw",
     "metadata": {},
     "source": [
      "Mouse transcriptome, single end 600 bp reads, 20x expression"
     ]
    },
    {
     "cell_type": "code",
     "collapsed": false,
     "input": [
      "num = \"206\"\n",
      "rep = \"1\"\n",
      "error = \"1\"\n",
      "r = \"100\"\n",
      "g = \"100\"\n",
      "createDataSet(num,rep)\n",
      "!grep '>' DataSet206rep1E1R100G100.fa | wc -l\n",
      "defaultTp = {}\n",
      "defaultFp = {}\n",
      "uniqueTp = {}\n",
      "uniqueFp = {}\n",
      "multimapTp = {}\n",
      "multimapFp = {}\n",
      "runBowtieBuild(num,rep,error,r,g)\n",
      "runBowtieAllParams(num,rep,error,r,g,num,rep,error,r,g)\n",
      "getTruePositivesAllParams(num,rep,error,r,g,\"mouse\")\n",
      "defaultTp[rep],defaultFp[rep] = getTpFp(num,rep,error,r,g,\"default\",num,rep,error,r,g)\n",
      "uniqueTp[rep],uniqueFp[rep] = getTpFp(num,rep,error,r,g,\"unique\",num,rep,error,r,g)\n",
      "multimapTp[rep],multimapFp[rep] = getTpFp(num,rep,error,r,g,\"multimap\",num,rep,error,r,g)\n",
      "print defaultTp, defaultFp, uniqueTp, uniqueFp, multimapTp, multimapFp"
     ],
     "language": "python",
     "metadata": {},
     "outputs": []
    },
    {
     "cell_type": "code",
     "collapsed": false,
     "input": [
      "num = \"206\"\n",
      "rep = \"2\"\n",
      "error = \"1\"\n",
      "r = \"100\"\n",
      "g = \"100\"\n",
      "createDataSet(num,rep)\n",
      "!grep '>' DataSet206rep2E1R100G100.fa | wc -l\n",
      "runBowtieBuild(num,rep,error,r,g)\n",
      "runBowtieAllParams(num,rep,error,r,g,num,rep,error,r,g)\n",
      "getTruePositivesAllParams(num,rep,error,r,g,\"mouse\")\n",
      "defaultTp[rep],defaultFp[rep] = getTpFp(num,rep,error,r,g,\"default\",num,rep,error,r,g)\n",
      "uniqueTp[rep],uniqueFp[rep] = getTpFp(num,rep,error,r,g,\"unique\",num,rep,error,r,g)\n",
      "multimapTp[rep],multimapFp[rep] = getTpFp(num,rep,error,r,g,\"multimap\",num,rep,error,r,g)\n",
      "print defaultTp, defaultFp, uniqueTp, uniqueFp, multimapTp, multimapFp"
     ],
     "language": "python",
     "metadata": {},
     "outputs": []
    },
    {
     "cell_type": "code",
     "collapsed": false,
     "input": [
      "num = \"206\"\n",
      "rep = \"3\"\n",
      "error = \"1\"\n",
      "r = \"100\"\n",
      "g = \"100\"\n",
      "createDataSet(num,rep)\n",
      "!grep '>' DataSet206rep3E1R100G100.fa | wc -l\n",
      "runBowtieBuild(num,rep,error,r,g)\n",
      "runBowtieAllParams(num,rep,error,r,g,num,rep,error,r,g)\n",
      "getTruePositivesAllParams(num,rep,error,r,g,\"mouse\")\n",
      "defaultTp[rep],defaultFp[rep] = getTpFp(num,rep,error,r,g,\"default\",num,rep,error,r,g)\n",
      "uniqueTp[rep],uniqueFp[rep] = getTpFp(num,rep,error,r,g,\"unique\",num,rep,error,r,g)\n",
      "multimapTp[rep],multimapFp[rep] = getTpFp(num,rep,error,r,g,\"multimap\",num,rep,error,r,g)\n",
      "print defaultTp, defaultFp, uniqueTp, uniqueFp, multimapTp, multimapFp"
     ],
     "language": "python",
     "metadata": {},
     "outputs": []
    },
    {
     "cell_type": "code",
     "collapsed": false,
     "input": [
      "id = \"0600\"\n",
      "defaultAvgTp[id] = sum([defaultTp[\"1\"], defaultTp[\"2\"], defaultTp[\"3\"]]) / 3\n",
      "print \"Average Default True Positive Percentage: \", defaultAvgTp[id]\n",
      "defaultAvgFp[id] = sum([defaultFp[\"1\"], defaultFp[\"2\"], defaultFp[\"3\"]]) / 3\n",
      "print \"Average Default False Positive Percentage: \", defaultAvgFp[id]\n",
      "uniqueAvgTp[id] = sum([uniqueTp[\"1\"], uniqueTp[\"2\"], uniqueTp[\"3\"]]) / 3\n",
      "print \"Average Unique True Positive Percentage: \", uniqueAvgTp[id]\n",
      "uniqueAvgFp[id] = sum([uniqueFp[\"1\"], uniqueFp[\"2\"], uniqueFp[\"3\"]]) / 3\n",
      "print \"Average Unique False Positive Percentage: \", uniqueAvgFp[id]\n",
      "multimapAvgTp[id] = sum([multimapTp[\"1\"], multimapTp[\"2\"], multimapTp[\"3\"]]) / 3\n",
      "print \"Average Multimap True Positive Percentage: \", multimapAvgTp[id]\n",
      "multimapAvgFp[id] = sum([multimapFp[\"1\"], multimapFp[\"2\"], multimapFp[\"3\"]]) / 3\n",
      "print \"Average Multimap False Positive Percentage: \", multimapAvgFp[id]"
     ],
     "language": "python",
     "metadata": {},
     "outputs": []
    },
    {
     "cell_type": "raw",
     "metadata": {},
     "source": [
      "Mouse transcriptome, single end 700 bp reads, 20x expression"
     ]
    },
    {
     "cell_type": "code",
     "collapsed": false,
     "input": [
      "num = \"207\"\n",
      "rep = \"1\"\n",
      "error = \"1\"\n",
      "r = \"100\"\n",
      "g = \"100\"\n",
      "createDataSet(num,rep)\n",
      "!grep '>' DataSet207rep1E1R100G100.fa | wc -l\n",
      "defaultTp = {}\n",
      "defaultFp = {}\n",
      "uniqueTp = {}\n",
      "uniqueFp = {}\n",
      "multimapTp = {}\n",
      "multimapFp = {}\n",
      "runBowtieBuild(num,rep,error,r,g)\n",
      "runBowtieAllParams(num,rep,error,r,g,num,rep,error,r,g)\n",
      "getTruePositivesAllParams(num,rep,error,r,g,\"mouse\")\n",
      "defaultTp[rep],defaultFp[rep] = getTpFp(num,rep,error,r,g,\"default\",num,rep,error,r,g)\n",
      "uniqueTp[rep],uniqueFp[rep] = getTpFp(num,rep,error,r,g,\"unique\",num,rep,error,r,g)\n",
      "multimapTp[rep],multimapFp[rep] = getTpFp(num,rep,error,r,g,\"multimap\",num,rep,error,r,g)\n",
      "print defaultTp, defaultFp, uniqueTp, uniqueFp, multimapTp, multimapFp"
     ],
     "language": "python",
     "metadata": {},
     "outputs": []
    },
    {
     "cell_type": "code",
     "collapsed": false,
     "input": [
      "num = \"207\"\n",
      "rep = \"2\"\n",
      "error = \"1\"\n",
      "r = \"100\"\n",
      "g = \"100\"\n",
      "createDataSet(num,rep)\n",
      "!grep '>' DataSet207rep2E1R100G100.fa | wc -l\n",
      "runBowtieBuild(num,rep,error,r,g)\n",
      "runBowtieAllParams(num,rep,error,r,g,num,rep,error,r,g)\n",
      "getTruePositivesAllParams(num,rep,error,r,g,\"mouse\")\n",
      "defaultTp[rep],defaultFp[rep] = getTpFp(num,rep,error,r,g,\"default\",num,rep,error,r,g)\n",
      "uniqueTp[rep],uniqueFp[rep] = getTpFp(num,rep,error,r,g,\"unique\",num,rep,error,r,g)\n",
      "multimapTp[rep],multimapFp[rep] = getTpFp(num,rep,error,r,g,\"multimap\",num,rep,error,r,g)\n",
      "print defaultTp, defaultFp, uniqueTp, uniqueFp, multimapTp, multimapFp"
     ],
     "language": "python",
     "metadata": {},
     "outputs": []
    },
    {
     "cell_type": "code",
     "collapsed": false,
     "input": [
      "num = \"207\"\n",
      "rep = \"3\"\n",
      "error = \"1\"\n",
      "r = \"100\"\n",
      "g = \"100\"\n",
      "createDataSet(num,rep)\n",
      "!grep '>' DataSet207rep3E1R100G100.fa | wc -l\n",
      "runBowtieBuild(num,rep,error,r,g)\n",
      "runBowtieAllParams(num,rep,error,r,g,num,rep,error,r,g)\n",
      "getTruePositivesAllParams(num,rep,error,r,g,\"mouse\")\n",
      "defaultTp[rep],defaultFp[rep] = getTpFp(num,rep,error,r,g,\"default\",num,rep,error,r,g)\n",
      "uniqueTp[rep],uniqueFp[rep] = getTpFp(num,rep,error,r,g,\"unique\",num,rep,error,r,g)\n",
      "multimapTp[rep],multimapFp[rep] = getTpFp(num,rep,error,r,g,\"multimap\",num,rep,error,r,g)\n",
      "print defaultTp, defaultFp, uniqueTp, uniqueFp, multimapTp, multimapFp"
     ],
     "language": "python",
     "metadata": {},
     "outputs": []
    },
    {
     "cell_type": "code",
     "collapsed": false,
     "input": [
      "id = \"0700\"\n",
      "defaultAvgTp[id] = sum([defaultTp[\"1\"], defaultTp[\"2\"], defaultTp[\"3\"]]) / 3\n",
      "print \"Average Default True Positive Percentage: \", defaultAvgTp[id]\n",
      "defaultAvgFp[id] = sum([defaultFp[\"1\"], defaultFp[\"2\"], defaultFp[\"3\"]]) / 3\n",
      "print \"Average Default False Positive Percentage: \", defaultAvgFp[id]\n",
      "uniqueAvgTp[id] = sum([uniqueTp[\"1\"], uniqueTp[\"2\"], uniqueTp[\"3\"]]) / 3\n",
      "print \"Average Unique True Positive Percentage: \", uniqueAvgTp[id]\n",
      "uniqueAvgFp[id] = sum([uniqueFp[\"1\"], uniqueFp[\"2\"], uniqueFp[\"3\"]]) / 3\n",
      "print \"Average Unique False Positive Percentage: \", uniqueAvgFp[id]\n",
      "multimapAvgTp[id] = sum([multimapTp[\"1\"], multimapTp[\"2\"], multimapTp[\"3\"]]) / 3\n",
      "print \"Average Multimap True Positive Percentage: \", multimapAvgTp[id]\n",
      "multimapAvgFp[id] = sum([multimapFp[\"1\"], multimapFp[\"2\"], multimapFp[\"3\"]]) / 3\n",
      "print \"Average Multimap False Positive Percentage: \", multimapAvgFp[id]"
     ],
     "language": "python",
     "metadata": {},
     "outputs": []
    },
    {
     "cell_type": "raw",
     "metadata": {},
     "source": [
      "Mouse transcriptome, single end 800 bp reads, 20x expression"
     ]
    },
    {
     "cell_type": "code",
     "collapsed": false,
     "input": [
      "num = \"208\"\n",
      "rep = \"1\"\n",
      "error = \"1\"\n",
      "r = \"100\"\n",
      "g = \"100\"\n",
      "createDataSet(num,rep)\n",
      "!grep '>' DataSet208rep1E1R100G100.fa | wc -l\n",
      "defaultTp = {}\n",
      "defaultFp = {}\n",
      "uniqueTp = {}\n",
      "uniqueFp = {}\n",
      "multimapTp = {}\n",
      "multimapFp = {}\n",
      "runBowtieBuild(num,rep,error,r,g)\n",
      "runBowtieAllParams(num,rep,error,r,g,num,rep,error,r,g)\n",
      "getTruePositivesAllParams(num,rep,error,r,g,\"mouse\")\n",
      "defaultTp[rep],defaultFp[rep] = getTpFp(num,rep,error,r,g,\"default\",num,rep,error,r,g)\n",
      "uniqueTp[rep],uniqueFp[rep] = getTpFp(num,rep,error,r,g,\"unique\",num,rep,error,r,g)\n",
      "multimapTp[rep],multimapFp[rep] = getTpFp(num,rep,error,r,g,\"multimap\",num,rep,error,r,g)\n",
      "print defaultTp, defaultFp, uniqueTp, uniqueFp, multimapTp, multimapFp"
     ],
     "language": "python",
     "metadata": {},
     "outputs": []
    },
    {
     "cell_type": "code",
     "collapsed": false,
     "input": [
      "num = \"208\"\n",
      "rep = \"2\"\n",
      "error = \"1\"\n",
      "r = \"100\"\n",
      "g = \"100\"\n",
      "createDataSet(num,rep)\n",
      "!grep '>' DataSet208rep2E1R100G100.fa | wc -l\n",
      "runBowtieBuild(num,rep,error,r,g)\n",
      "runBowtieAllParams(num,rep,error,r,g,num,rep,error,r,g)\n",
      "getTruePositivesAllParams(num,rep,error,r,g,\"mouse\")\n",
      "defaultTp[rep],defaultFp[rep] = getTpFp(num,rep,error,r,g,\"default\",num,rep,error,r,g)\n",
      "uniqueTp[rep],uniqueFp[rep] = getTpFp(num,rep,error,r,g,\"unique\",num,rep,error,r,g)\n",
      "multimapTp[rep],multimapFp[rep] = getTpFp(num,rep,error,r,g,\"multimap\",num,rep,error,r,g)\n",
      "print defaultTp, defaultFp, uniqueTp, uniqueFp, multimapTp, multimapFp"
     ],
     "language": "python",
     "metadata": {},
     "outputs": []
    },
    {
     "cell_type": "code",
     "collapsed": false,
     "input": [
      "num = \"208\"\n",
      "rep = \"3\"\n",
      "error = \"1\"\n",
      "r = \"100\"\n",
      "g = \"100\"\n",
      "createDataSet(num,rep)\n",
      "!grep '>' DataSet208rep3E1R100G100.fa | wc -l\n",
      "runBowtieBuild(num,rep,error,r,g)\n",
      "runBowtieAllParams(num,rep,error,r,g,num,rep,error,r,g)\n",
      "getTruePositivesAllParams(num,rep,error,r,g,\"mouse\")\n",
      "defaultTp[rep],defaultFp[rep] = getTpFp(num,rep,error,r,g,\"default\",num,rep,error,r,g)\n",
      "uniqueTp[rep],uniqueFp[rep] = getTpFp(num,rep,error,r,g,\"unique\",num,rep,error,r,g)\n",
      "multimapTp[rep],multimapFp[rep] = getTpFp(num,rep,error,r,g,\"multimap\",num,rep,error,r,g)\n",
      "print defaultTp, defaultFp, uniqueTp, uniqueFp, multimapTp, multimapFp"
     ],
     "language": "python",
     "metadata": {},
     "outputs": []
    },
    {
     "cell_type": "code",
     "collapsed": false,
     "input": [
      "id = \"0800\"\n",
      "defaultAvgTp[id] = sum([defaultTp[\"1\"], defaultTp[\"2\"], defaultTp[\"3\"]]) / 3\n",
      "print \"Average Default True Positive Percentage: \", defaultAvgTp[id]\n",
      "defaultAvgFp[id] = sum([defaultFp[\"1\"], defaultFp[\"2\"], defaultFp[\"3\"]]) / 3\n",
      "print \"Average Default False Positive Percentage: \", defaultAvgFp[id]\n",
      "uniqueAvgTp[id] = sum([uniqueTp[\"1\"], uniqueTp[\"2\"], uniqueTp[\"3\"]]) / 3\n",
      "print \"Average Unique True Positive Percentage: \", uniqueAvgTp[id]\n",
      "uniqueAvgFp[id] = sum([uniqueFp[\"1\"], uniqueFp[\"2\"], uniqueFp[\"3\"]]) / 3\n",
      "print \"Average Unique False Positive Percentage: \", uniqueAvgFp[id]\n",
      "multimapAvgTp[id] = sum([multimapTp[\"1\"], multimapTp[\"2\"], multimapTp[\"3\"]]) / 3\n",
      "print \"Average Multimap True Positive Percentage: \", multimapAvgTp[id]\n",
      "multimapAvgFp[id] = sum([multimapFp[\"1\"], multimapFp[\"2\"], multimapFp[\"3\"]]) / 3\n",
      "print \"Average Multimap False Positive Percentage: \", multimapAvgFp[id]"
     ],
     "language": "python",
     "metadata": {},
     "outputs": []
    },
    {
     "cell_type": "raw",
     "metadata": {},
     "source": [
      "Mouse transcriptome, single end 900 bp reads, 20x expression"
     ]
    },
    {
     "cell_type": "code",
     "collapsed": false,
     "input": [
      "num = \"209\"\n",
      "rep = \"1\"\n",
      "error = \"1\"\n",
      "r = \"100\"\n",
      "g = \"100\"\n",
      "createDataSet(num,rep)\n",
      "!grep '>' DataSet209rep1E1R100G100.fa | wc -l\n",
      "defaultTp = {}\n",
      "defaultFp = {}\n",
      "uniqueTp = {}\n",
      "uniqueFp = {}\n",
      "multimapTp = {}\n",
      "multimapFp = {}\n",
      "runBowtieBuild(num,rep,error,r,g)\n",
      "runBowtieAllParams(num,rep,error,r,g,num,rep,error,r,g)\n",
      "getTruePositivesAllParams(num,rep,error,r,g,\"mouse\")\n",
      "defaultTp[rep],defaultFp[rep] = getTpFp(num,rep,error,r,g,\"default\",num,rep,error,r,g)\n",
      "uniqueTp[rep],uniqueFp[rep] = getTpFp(num,rep,error,r,g,\"unique\",num,rep,error,r,g)\n",
      "multimapTp[rep],multimapFp[rep] = getTpFp(num,rep,error,r,g,\"multimap\",num,rep,error,r,g)\n",
      "print defaultTp, defaultFp, uniqueTp, uniqueFp, multimapTp, multimapFp"
     ],
     "language": "python",
     "metadata": {},
     "outputs": []
    },
    {
     "cell_type": "code",
     "collapsed": false,
     "input": [
      "num = \"209\"\n",
      "rep = \"2\"\n",
      "error = \"1\"\n",
      "r = \"100\"\n",
      "g = \"100\"\n",
      "createDataSet(num,rep)\n",
      "!grep '>' DataSet209rep2E1R100G100.fa | wc -l\n",
      "runBowtieBuild(num,rep,error,r,g)\n",
      "runBowtieAllParams(num,rep,error,r,g,num,rep,error,r,g)\n",
      "getTruePositivesAllParams(num,rep,error,r,g,\"mouse\")\n",
      "defaultTp[rep],defaultFp[rep] = getTpFp(num,rep,error,r,g,\"default\",num,rep,error,r,g)\n",
      "uniqueTp[rep],uniqueFp[rep] = getTpFp(num,rep,error,r,g,\"unique\",num,rep,error,r,g)\n",
      "multimapTp[rep],multimapFp[rep] = getTpFp(num,rep,error,r,g,\"multimap\",num,rep,error,r,g)\n",
      "print defaultTp, defaultFp, uniqueTp, uniqueFp, multimapTp, multimapFp"
     ],
     "language": "python",
     "metadata": {},
     "outputs": []
    },
    {
     "cell_type": "code",
     "collapsed": false,
     "input": [
      "num = \"209\"\n",
      "rep = \"3\"\n",
      "error = \"1\"\n",
      "r = \"100\"\n",
      "g = \"100\"\n",
      "createDataSet(num,rep)\n",
      "!grep '>' DataSet209rep3E1R100G100.fa | wc -l\n",
      "runBowtieBuild(num,rep,error,r,g)\n",
      "runBowtieAllParams(num,rep,error,r,g,num,rep,error,r,g)\n",
      "getTruePositivesAllParams(num,rep,error,r,g,\"mouse\")\n",
      "defaultTp[rep],defaultFp[rep] = getTpFp(num,rep,error,r,g,\"default\",num,rep,error,r,g)\n",
      "uniqueTp[rep],uniqueFp[rep] = getTpFp(num,rep,error,r,g,\"unique\",num,rep,error,r,g)\n",
      "multimapTp[rep],multimapFp[rep] = getTpFp(num,rep,error,r,g,\"multimap\",num,rep,error,r,g)\n",
      "print defaultTp, defaultFp, uniqueTp, uniqueFp, multimapTp, multimapFp"
     ],
     "language": "python",
     "metadata": {},
     "outputs": []
    },
    {
     "cell_type": "code",
     "collapsed": false,
     "input": [
      "id = \"0900\"\n",
      "defaultAvgTp[id] = sum([defaultTp[\"1\"], defaultTp[\"2\"], defaultTp[\"3\"]]) / 3\n",
      "print \"Average Default True Positive Percentage: \", defaultAvgTp[id]\n",
      "defaultAvgFp[id] = sum([defaultFp[\"1\"], defaultFp[\"2\"], defaultFp[\"3\"]]) / 3\n",
      "print \"Average Default False Positive Percentage: \", defaultAvgFp[id]\n",
      "uniqueAvgTp[id] = sum([uniqueTp[\"1\"], uniqueTp[\"2\"], uniqueTp[\"3\"]]) / 3\n",
      "print \"Average Unique True Positive Percentage: \", uniqueAvgTp[id]\n",
      "uniqueAvgFp[id] = sum([uniqueFp[\"1\"], uniqueFp[\"2\"], uniqueFp[\"3\"]]) / 3\n",
      "print \"Average Unique False Positive Percentage: \", uniqueAvgFp[id]\n",
      "multimapAvgTp[id] = sum([multimapTp[\"1\"], multimapTp[\"2\"], multimapTp[\"3\"]]) / 3\n",
      "print \"Average Multimap True Positive Percentage: \", multimapAvgTp[id]\n",
      "multimapAvgFp[id] = sum([multimapFp[\"1\"], multimapFp[\"2\"], multimapFp[\"3\"]]) / 3\n",
      "print \"Average Multimap False Positive Percentage: \", multimapAvgFp[id]"
     ],
     "language": "python",
     "metadata": {},
     "outputs": []
    },
    {
     "cell_type": "raw",
     "metadata": {},
     "source": [
      "Mouse transcriptome, single end 1000 bp reads, 20x expression"
     ]
    },
    {
     "cell_type": "code",
     "collapsed": false,
     "input": [
      "num = \"210\"\n",
      "rep = \"1\"\n",
      "error = \"1\"\n",
      "r = \"100\"\n",
      "g = \"100\"\n",
      "createDataSet(num,rep)\n",
      "!grep '>' DataSet210rep1E1R100G100.fa | wc -l\n",
      "defaultTp = {}\n",
      "defaultFp = {}\n",
      "uniqueTp = {}\n",
      "uniqueFp = {}\n",
      "multimapTp = {}\n",
      "multimapFp = {}\n",
      "runBowtieBuild(num,rep,error,r,g)\n",
      "runBowtieAllParams(num,rep,error,r,g,num,rep,error,r,g)\n",
      "getTruePositivesAllParams(num,rep,error,r,g,\"mouse\")\n",
      "defaultTp[rep],defaultFp[rep] = getTpFp(num,rep,error,r,g,\"default\",num,rep,error,r,g)\n",
      "uniqueTp[rep],uniqueFp[rep] = getTpFp(num,rep,error,r,g,\"unique\",num,rep,error,r,g)\n",
      "multimapTp[rep],multimapFp[rep] = getTpFp(num,rep,error,r,g,\"multimap\",num,rep,error,r,g)\n",
      "print defaultTp, defaultFp, uniqueTp, uniqueFp, multimapTp, multimapFp"
     ],
     "language": "python",
     "metadata": {},
     "outputs": []
    },
    {
     "cell_type": "code",
     "collapsed": false,
     "input": [
      "num = \"210\"\n",
      "rep = \"2\"\n",
      "error = \"1\"\n",
      "r = \"100\"\n",
      "g = \"100\"\n",
      "createDataSet(num,rep)\n",
      "!grep '>' DataSet210rep2E1R100G100.fa | wc -l\n",
      "runBowtieBuild(num,rep,error,r,g)\n",
      "runBowtieAllParams(num,rep,error,r,g,num,rep,error,r,g)\n",
      "getTruePositivesAllParams(num,rep,error,r,g,\"mouse\")\n",
      "defaultTp[rep],defaultFp[rep] = getTpFp(num,rep,error,r,g,\"default\",num,rep,error,r,g)\n",
      "uniqueTp[rep],uniqueFp[rep] = getTpFp(num,rep,error,r,g,\"unique\",num,rep,error,r,g)\n",
      "multimapTp[rep],multimapFp[rep] = getTpFp(num,rep,error,r,g,\"multimap\",num,rep,error,r,g)\n",
      "print defaultTp, defaultFp, uniqueTp, uniqueFp, multimapTp, multimapFp"
     ],
     "language": "python",
     "metadata": {},
     "outputs": []
    },
    {
     "cell_type": "code",
     "collapsed": false,
     "input": [
      "num = \"210\"\n",
      "rep = \"3\"\n",
      "error = \"1\"\n",
      "r = \"100\"\n",
      "g = \"100\"\n",
      "createDataSet(num,rep)\n",
      "!grep '>' DataSet210rep3E1R100G100.fa | wc -l\n",
      "runBowtieBuild(num,rep,error,r,g)\n",
      "runBowtieAllParams(num,rep,error,r,g,num,rep,error,r,g)\n",
      "getTruePositivesAllParams(num,rep,error,r,g,\"mouse\")\n",
      "defaultTp[rep],defaultFp[rep] = getTpFp(num,rep,error,r,g,\"default\",num,rep,error,r,g)\n",
      "uniqueTp[rep],uniqueFp[rep] = getTpFp(num,rep,error,r,g,\"unique\",num,rep,error,r,g)\n",
      "multimapTp[rep],multimapFp[rep] = getTpFp(num,rep,error,r,g,\"multimap\",num,rep,error,r,g)\n",
      "print defaultTp, defaultFp, uniqueTp, uniqueFp, multimapTp, multimapFp"
     ],
     "language": "python",
     "metadata": {},
     "outputs": []
    },
    {
     "cell_type": "code",
     "collapsed": false,
     "input": [
      "id = \"1000\"\n",
      "defaultAvgTp[id] = sum([defaultTp[\"1\"], defaultTp[\"2\"], defaultTp[\"3\"]]) / 3\n",
      "print \"Average Default True Positive Percentage: \", defaultAvgTp[id]\n",
      "defaultAvgFp[id] = sum([defaultFp[\"1\"], defaultFp[\"2\"], defaultFp[\"3\"]]) / 3\n",
      "print \"Average Default False Positive Percentage: \", defaultAvgFp[id]\n",
      "uniqueAvgTp[id] = sum([uniqueTp[\"1\"], uniqueTp[\"2\"], uniqueTp[\"3\"]]) / 3\n",
      "print \"Average Unique True Positive Percentage: \", uniqueAvgTp[id]\n",
      "uniqueAvgFp[id] = sum([uniqueFp[\"1\"], uniqueFp[\"2\"], uniqueFp[\"3\"]]) / 3\n",
      "print \"Average Unique False Positive Percentage: \", uniqueAvgFp[id]\n",
      "multimapAvgTp[id] = sum([multimapTp[\"1\"], multimapTp[\"2\"], multimapTp[\"3\"]]) / 3\n",
      "print \"Average Multimap True Positive Percentage: \", multimapAvgTp[id]\n",
      "multimapAvgFp[id] = sum([multimapFp[\"1\"], multimapFp[\"2\"], multimapFp[\"3\"]]) / 3\n",
      "print \"Average Multimap False Positive Percentage: \", multimapAvgFp[id]"
     ],
     "language": "python",
     "metadata": {},
     "outputs": []
    },
    {
     "cell_type": "heading",
     "level": 2,
     "metadata": {},
     "source": [
      "Test 9: Mapping accuracy of reads from 100% expressed mouse transcriptome at progressively longer fragment lengths, paired end 100:X:100 bp reads, 20x"
     ]
    },
    {
     "cell_type": "raw",
     "metadata": {},
     "source": [
      "Mouse transcriptome, paired end 100:100:100 bp reads, 300 bp fragments, 20x expression"
     ]
    },
    {
     "cell_type": "raw",
     "metadata": {},
     "source": [
      "Mouse transcriptome, paired end 100:200:100 bp reads, 400 bp fragments, 20x expression"
     ]
    },
    {
     "cell_type": "raw",
     "metadata": {},
     "source": [
      "Mouse transcriptome, paired end 100:300:100 bp reads, 500 bp fragments, 20x expression"
     ]
    },
    {
     "cell_type": "raw",
     "metadata": {},
     "source": [
      "Mouse transcriptome, paired end 100:400:100 bp reads, 600 bp fragments, 20x expression"
     ]
    },
    {
     "cell_type": "raw",
     "metadata": {},
     "source": [
      "Mouse transcriptome, paired end 100:500:100 bp reads, 700 bp fragments, 20x expression"
     ]
    },
    {
     "cell_type": "raw",
     "metadata": {},
     "source": [
      "Mouse transcriptome, paired end 100:600:100 bp reads, 800 bp fragments, 20x expression"
     ]
    },
    {
     "cell_type": "raw",
     "metadata": {},
     "source": [
      "Mouse transcriptome, paired end 100:700:100 bp reads, 900 bp fragments, 20x expression"
     ]
    },
    {
     "cell_type": "raw",
     "metadata": {},
     "source": [
      "Mouse transcriptome, paired end 100:800:100 bp reads, 1000 bp fragments, 20x expression"
     ]
    },
    {
     "cell_type": "heading",
     "level": 2,
     "metadata": {},
     "source": [
      "Test 10: Mapping accuracy of reads from 100% expressed mouse transcriptome at progressively longer paired end read lengths with 1000 bp fragment length, paired end X:X:X bp reads, 20x expression"
     ]
    },
    {
     "cell_type": "raw",
     "metadata": {},
     "source": [
      "Mouse transcriptome, paired end 100:800:100 bp reads, 1000 bp fragments, 20x expression"
     ]
    },
    {
     "cell_type": "raw",
     "metadata": {},
     "source": [
      "Mouse transcriptome, paired end 200:600:200 bp reads, 1000 bp fragments, 20x expression"
     ]
    },
    {
     "cell_type": "raw",
     "metadata": {},
     "source": [
      "Mouse transcriptome, paired end 300:400:300 bp reads, 1000 bp fragments, 20x expression"
     ]
    },
    {
     "cell_type": "raw",
     "metadata": {},
     "source": [
      "Mouse transcriptome, paired end 400:200:400 bp reads, 1000 bp fragments, 20x expression"
     ]
    }
   ],
   "metadata": {}
  }
 ]
}