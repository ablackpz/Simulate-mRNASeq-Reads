{
 "metadata": {
  "name": "IncompleteReferenceTranscriptomeProject"
 },
 "nbformat": 3,
 "nbformat_minor": 0,
 "worksheets": [
  {
   "cells": [
    {
     "cell_type": "heading",
     "level": 1,
     "metadata": {},
     "source": [
      "Incomplete Reference Transcriptome Project"
     ]
    },
    {
     "cell_type": "raw",
     "metadata": {},
     "source": [
      "Objective: quantify errors from using incomplete reference transcriptomes during RNA-Seq mapping and determine if long reads will lead to error-free mapping"
     ]
    },
    {
     "cell_type": "code",
     "collapsed": false,
     "input": [
      "cd ~/Documents/WorkMsu/Simulate-mRNASeq-Reads/Ipnbk/"
     ],
     "language": "python",
     "metadata": {},
     "outputs": [
      {
       "output_type": "stream",
       "stream": "stdout",
       "text": [
        "/Users/ablackpz/Documents/WorkMsu/Simulate-mRNASeq-Reads/Ipnbk\n"
       ]
      }
     ],
     "prompt_number": 1
    },
    {
     "cell_type": "code",
     "collapsed": false,
     "input": [
      "import os, math"
     ],
     "language": "python",
     "metadata": {},
     "outputs": [],
     "prompt_number": 2
    },
    {
     "cell_type": "code",
     "collapsed": false,
     "input": [
      "def createDataSet(var1,var2):\n",
      "    cmd = \"python DataSet\" + var1 + \"rep\" + var2 + \".py\"\n",
      "    os.system(cmd)\n",
      "    return\n",
      "\n",
      "def runBowtieBuild(num,rep,e,r,g):\n",
      "    dataset = \"DataSet\" + num + \"rep\" + rep + \"E\" + e + \"R\" + r + \"G\" + g\n",
      "    cmd = \"bowtie-build \" + dataset + \".fa \" + dataset + \".Index\"\n",
      "    os.system(cmd)\n",
      "    return\n",
      "\n",
      "def runBwaBuild(num,rep,e,r,g):\n",
      "    dataset = \"DataSet\" + num + \"rep\" + rep + \"E\" + e + \"R\" + r + \"G\" + g\n",
      "    cmd = \"bwa index \" + dataset + \".fa\"\n",
      "    os.system(cmd)\n",
      "    return\n",
      "\n",
      "def runSoapBuild(num,rep,e,r,g):\n",
      "    dataset = \"DataSet\" + num + \"rep\" + rep + \"E\" + e + \"R\" + r + \"G\" + g\n",
      "    cmd = \"2bwt-builder \" + dataset + \".fa\"\n",
      "    os.system(cmd)\n",
      "    return\n",
      "\n",
      "def runBowtie(num,rep,e,r,g,mode,rnum,rrep,re,rr,rg):\n",
      "    dataset = \"DataSet\" + num + \"rep\" + rep + \"E\" + e + \"R\" + r + \"G\" + g\n",
      "    ref = \"DataSet\" + rnum + \"rep\" + rrep + \"E\" + re + \"R\" + rr + \"G\" + rg + \"RandomReads.fa\"\n",
      "    if mode == \"default\":\n",
      "        cmd = \"bowtie \" + dataset + \".Index -f \" + ref + \" \" + dataset + \"_default.map\"\n",
      "    elif mode == \"unique\":\n",
      "        cmd = \"bowtie -m 1 \" + dataset + \".Index -f \" + ref + \" \" + dataset + \"_unique.map\"\n",
      "    elif mode == \"multimap\":\n",
      "        cmd = \"bowtie -a \" + dataset + \".Index -f \" + ref + \" \" + dataset + \"_multimap.map\"\n",
      "    else:\n",
      "        print \"This should never print\"\n",
      "    os.system(cmd)\n",
      "    return\n",
      "\n",
      "def runBwa(num,rep,e,r,g,mode,rnum,rrep,re,rr,rg):\n",
      "    dataset = \"DataSet\" + num + \"rep\" + rep + \"E\" + e + \"R\" + r + \"G\" + g\n",
      "    ref = \"DataSet\" + rnum + \"rep\" + rrep + \"E\" + re + \"R\" + rr + \"G\" + rg + \"RandomReads.fa\"\n",
      "    if mode == \"default\":\n",
      "        cmd = \"bwa aln \" + dataset + \".fa \" + ref + \" > \" + dataset + \"_default.sai\"\n",
      "        os.system(cmd)\n",
      "        cmd = \"bwa samse \" + dataset + \".fa \" + dataset + \"_default.sai\" + ref + \" > \" + dataset + \"_default_aln.sam\"\n",
      "        os.system(cmd)\n",
      "        cmd = \"samtools view -S -b \" + dataset + \"_default_aln.sam \" + \" > \" + dataset + \"_default_aln.bam\"\n",
      "        os.system(cmd)\n",
      "        cmd = \"samtools sort \" + dataset + \"_default_aln.bam \" + dataset + \"_default_aln_sort\"\n",
      "        os.system(cmd)\n",
      "        cmd = \"samtools view \" + dataset + \"_default_aln_sort.bam \" + \" > \" + dataset + \"_default_aln_sort.sam\"\n",
      "        os.system(cmd)\n",
      "        cmd = \"awk '{print $1,$20}' \" + dataset + \"_default_aln_sort.sam \" + \" > \" + dataset + \"_default_aln_sort_nameAssign.2cols\"\n",
      "        os.system(cmd)\n",
      "    else:\n",
      "        print \"This should never print\"\n",
      "    return\n",
      "\n",
      "def runSoap(num,rep,e,r,g,mode,rnum,rrep,re,rr,rg):\n",
      "    dataset = \"DataSet\" + num + \"rep\" + rep + \"E\" + e + \"R\" + r + \"G\" + g\n",
      "    ref = \"DataSet\" + rnum + \"rep\" + rrep + \"E\" + re + \"R\" + rr + \"G\" + rg + \"RandomReads.fa\"\n",
      "    if mode == \"default\":\n",
      "        cmd = \"soap -a \" + ref + \" -D \" + dataset + \".fa.index -o \" + dataset + \"_default.soapAln\"\n",
      "        os.system(cmd)\n",
      "    else:\n",
      "        print \"This should never print\"\n",
      "    return\n",
      "\n",
      "def runBowtieAllParams(num,rep,e,r,g,rnum,rrep,re,rr,rg):\n",
      "    runBowtie(num,rep,error,r,g,\"default\",num,rep,error,rr,g)\n",
      "    runBowtie(num,rep,error,r,g,\"unique\",num,rep,error,rr,g)\n",
      "    runBowtie(num,rep,error,r,g,\"multimap\",num,rep,error,rr,g)\n",
      "    return\n",
      "\n",
      "def runBowtieAllParamsPaired(num,rep,e,r,g,rnum,rrep,re,rr,rg):\n",
      "    runBowtiePairedEnds(num,rep,error,r,g,\"default\",num,rep,error,rr,g)\n",
      "    runBowtiePairedEnds(num,rep,error,r,g,\"unique\",num,rep,error,rr,g)\n",
      "    runBowtiePairedEnds(num,rep,error,r,g,\"multimap\",num,rep,error,rr,g)\n",
      "    return\n",
      "\n",
      "def runBowtiePairedEnds(num,rep,e,r,g,mode,rnum,rrep,re,rr,rg):\n",
      "    dataset = \"DataSet\" + num + \"rep\" + rep + \"E\" + e + \"R\" + r + \"G\" + g\n",
      "    ref1 = \"DataSet\" + rnum + \"rep\" + rrep + \"E\" + re + \"R\" + rr + \"G\" + rg + \"RandomReadsPair1.fa\"\n",
      "    ref2 = \"DataSet\" + rnum + \"rep\" + rrep + \"E\" + re + \"R\" + rr + \"G\" + rg + \"RandomReadsPair2.fa\"\n",
      "    if mode == \"default\":\n",
      "        cmd = \"bowtie \" + dataset + \".Index --ff -I 0 -X 1000 -f -1 \" + ref1 + \" -2 \" + ref2 + ' ' + dataset + \"_default.map\"\n",
      "    elif mode == \"unique\":\n",
      "        cmd = \"bowtie -m 1 \" + dataset + \".Index --ff -I 0 -X 1000 -f -1 \" + ref1 + \" -2 \" + ref2 + ' ' + dataset + \"_unique.map\"\n",
      "    elif mode == \"multimap\":\n",
      "        cmd = \"bowtie -a \" + dataset + \".Index --ff -I 0 -X 1000 -f -1 \" + ref1 + \" -2 \" + ref2 + ' ' + dataset + \"_multimap.map\"\n",
      "    else:\n",
      "        print \"This should never print\"\n",
      "#    print cmd\n",
      "    os.system(cmd)\n",
      "    return\n",
      "\n",
      "def getTruePositives(num,rep,e,r,g,mode,organism):\n",
      "    dataset = \"DataSet\" + num + \"rep\" + rep + \"E\" + e + \"R\" + r + \"G\" + g + \"_\" + mode + \".map\"\n",
      "    if organism == \"random\":\n",
      "        pos = \"4\"\n",
      "    elif organism == \"chicken\":\n",
      "        pos = \"6\"\n",
      "    elif organism == \"mouse\":\n",
      "        pos = \"8\"\n",
      "    else:\n",
      "        print \"Unknown organism\"\n",
      "    cmd = \"awk '{if ($1 == $\" + pos + \") print $1}' \" + dataset + \" | wc -l > \" + dataset + \".truePositives\"\n",
      "    os.system(cmd)\n",
      "    cmd = \"wc -l \" + dataset + \" > \" + dataset + \".totalReads\"\n",
      "    os.system(cmd)\n",
      "    return\n",
      "\n",
      "def getTruePositivesPaired(num,rep,e,r,g,mode,organism):\n",
      "    dataset = \"DataSet\" + num + \"rep\" + rep + \"E\" + e + \"R\" + r + \"G\" + g + \"_\" + mode + \".map\"\n",
      "    if organism == \"random\":\n",
      "        pos = \"5\"\n",
      "    elif organism == \"chicken\":\n",
      "        pos = \"7\"\n",
      "    elif organism == \"mouse\":\n",
      "        pos = \"9\"\n",
      "    else:\n",
      "        print \"Unknown organism\"\n",
      "    cmd = \"awk '{if ($1 == $\" + pos + \") print $1}' \" + dataset + \" | wc -l > \" + dataset + \".truePositives\"\n",
      "    os.system(cmd)\n",
      "    cmd = \"wc -l \" + dataset + \" > \" + dataset + \".totalReads\"\n",
      "    os.system(cmd)\n",
      "    return\n",
      "\n",
      "def getTruePositivesAllParams(num,rep,e,r,g,organism):\n",
      "    getTruePositives(num,rep,e,r,g,\"default\",organism)\n",
      "    getTruePositives(num,rep,e,r,g,\"unique\",organism)\n",
      "    getTruePositives(num,rep,e,r,g,\"multimap\",organism)\n",
      "    return\n",
      "\n",
      "def getTruePositivesAllParamsPaired(num,rep,e,r,g,organism):\n",
      "    getTruePositivesPaired(num,rep,e,r,g,\"default\",organism)\n",
      "    getTruePositivesPaired(num,rep,e,r,g,\"unique\",organism)\n",
      "    getTruePositivesPaired(num,rep,e,r,g,\"multimap\",organism)\n",
      "    return\n",
      "\n",
      "def getTotalNumReads(num,rep,e,r,g):\n",
      "    dataset = \"DataSet\" + num + \"rep\" + rep + \"E\" + e + \"R\" + r + \"G\" + g + \"RandomReads.fa\"\n",
      "    cmd = \"grep '>' \" + dataset + \" | wc -l > \" + dataset + \".totalNumReads\"\n",
      "    os.system(cmd)\n",
      "    return\n",
      "\n",
      "def getTpFp(num,rep,e,r,g,mode,rnum,rrep,re,rr,rg):\n",
      "    getTotalNumReads(rnum,rrep,re,rr,rg)\n",
      "    dataset = \"DataSet\" + num + \"rep\" + rep + \"E\" + e + \"R\" + r + \"G\" + g + \"_\" + mode + \".map\"\n",
      "    tpDataset = dataset + \".truePositives\"\n",
      "    totalDataset = dataset + \".totalReads\"\n",
      "    ref = \"DataSet\" + rnum + \"rep\" + rrep + \"E\" + re + \"R\" + rr + \"G\" + rg + \"RandomReads.fa.totalNumReads\"\n",
      "    totalNumReads = open(ref,'r').read()\n",
      "    numTp = open(tpDataset,'r').read()\n",
      "    numTotaltmp = open(totalDataset).read().split(' ')\n",
      "#    print numTotaltmp\n",
      "    numTotaltmp2 = []\n",
      "    for item in numTotaltmp:\n",
      "        if item != '':\n",
      "            numTotaltmp2.append(item)\n",
      "#    print numTotaltmp2\n",
      "    numTotal = numTotaltmp2[0]\n",
      "    percTp = float(numTp) / float(totalNumReads) * 100\n",
      "#    print numTotal, numTp, totalNumReads\n",
      "    percFp = (float(numTotal) - float(numTp)) / float(totalNumReads) * 100\n",
      "    return percTp, percFp\n",
      "\n",
      "def getTruePositivesBwa(num,rep,e,r,g,mode,organism):\n",
      "    dataset = \"DataSet\" + num + \"rep\" + rep + \"E\" + e + \"R\" + r + \"G\" + g + \"_\" + mode + \"_aln_sort_nameAssign.2cols\"\n",
      "    pos = 2\n",
      "    cmd = \"python getBwaSamParse.py  \" + dataset + \" \" + dataset + \".parsed\"\n",
      "    os.system(cmd)\n",
      "    cmd = \"awk '{if ($1==$2) print $0}' \" + dataset + \".parsed\" + \" | wc -l > \" + dataset + \"parsed.truePositives\"\n",
      "    os.system(cmd)\n",
      "    cmd = \"wc -l \" + dataset + \" > \" + dataset + \".totalReads\"\n",
      "    os.system(cmd)\n",
      "    return\n",
      "\n",
      "def getTpFpBwa(num,rep,e,r,g,mode,rnum,rrep,re,rr,rg):\n",
      "    getTotalNumReads(rnum,rrep,re,rr,rg)\n",
      "    dataset = \"DataSet\" + num + \"rep\" + rep + \"E\" + e + \"R\" + r + \"G\" + g + \"_\" + mode + \"_aln_sort_nameAssign.2cols\"\n",
      "    tpDataset = dataset + \".parsed.truePositives\"\n",
      "    totalDataset = dataset + \".totalReads\"\n",
      "    ref = \"DataSet\" + rnum + \"rep\" + rrep + \"E\" + re + \"R\" + rr + \"G\" + rg + \"RandomReads.fa.totalNumReads\"\n",
      "    totalNumReads = open(ref,'r').read()\n",
      "    numTp = open(tpDataset,'r').read()\n",
      "    numTotaltmp = open(totalDataset).read().split(' ')\n",
      "#    print numTotaltmp\n",
      "    numTotaltmp2 = []\n",
      "    for item in numTotaltmp:\n",
      "        if item != '':\n",
      "            numTotaltmp2.append(item)\n",
      "#    print numTotaltmp2\n",
      "    numTotal = numTotaltmp2[0]\n",
      "    percTp = float(numTp) / float(totalNumReads) * 100\n",
      "#    print numTotal, numTp, totalNumReads\n",
      "    percFp = (float(numTotal) - float(numTp)) / float(totalNumReads) * 100\n",
      "    return percTp, percFp\n",
      "\n",
      "def getTruePositivesSoap(num,rep,e,r,g,mode,organism):\n",
      "    dataset = \"DataSet\" + num + \"rep\" + rep + \"E\" + e + \"R\" + r + \"G\" + g + \"_default.soapAln\"\n",
      "    pos = \"8\"\n",
      "    cmd = \"awk '{if ($1 == $\" + pos + \") print $1}' \" + dataset + \" | wc -l > \" + dataset + \".truePositives\"\n",
      "    os.system(cmd)\n",
      "    cmd = \"wc -l \" + dataset + \" > \" + dataset + \".totalReads\"\n",
      "    os.system(cmd)\n",
      "    return\n",
      "\n",
      "def getTpFpSoap(num,rep,e,r,g,mode,rnum,rrep,re,rr,rg):\n",
      "    getTotalNumReads(rnum,rrep,re,rr,rg)\n",
      "    dataset = \"DataSet\" + num + \"rep\" + rep + \"E\" + e + \"R\" + r + \"G\" + g + \"_default.soapAln\"\n",
      "    tpDataset = dataset + \".truePositives\"\n",
      "    totalDataset = dataset + \".totalReads\"\n",
      "    ref = \"DataSet\" + rnum + \"rep\" + rrep + \"E\" + re + \"R\" + rr + \"G\" + rg + \"RandomReads.fa.totalNumReads\"\n",
      "    totalNumReads = open(ref,'r').read()\n",
      "    numTp = open(tpDataset,'r').read()\n",
      "    numTotaltmp = open(totalDataset).read().split(' ')\n",
      "#    print numTotaltmp\n",
      "    numTotaltmp2 = []\n",
      "    for item in numTotaltmp:\n",
      "        if item != '':\n",
      "            numTotaltmp2.append(item)\n",
      "#    print numTotaltmp2\n",
      "    numTotal = numTotaltmp2[0]\n",
      "    percTp = float(numTp) / float(totalNumReads) * 100\n",
      "#    print numTotal, numTp, totalNumReads\n",
      "    percFp = (float(numTotal) - float(numTp)) / float(totalNumReads) * 100\n",
      "    return percTp, percFp\n",
      "\n",
      "def getTotalNumReadsPairedEnds(num,rep,e,r,g):\n",
      "    dataset = \"DataSet\" + num + \"rep\" + rep + \"E\" + e + \"R\" + r + \"G\" + g + \"RandomReadsPair1.fa\"\n",
      "    cmd = \"grep '>' \" + dataset + \" | wc -l > \" + dataset + \".totalNumReads\"\n",
      "    os.system(cmd)\n",
      "    return\n",
      "\n",
      "def getTpFpPairedEnds(num,rep,e,r,g,mode,rnum,rrep,re,rr,rg):\n",
      "    getTotalNumReadsPairedEnds(rnum,rrep,re,rr,rg)\n",
      "    dataset = \"DataSet\" + num + \"rep\" + rep + \"E\" + e + \"R\" + r + \"G\" + g + \"_\" + mode + \".map\"\n",
      "    tpDataset = dataset + \".truePositives\"\n",
      "    totalDataset = dataset + \".totalReads\"\n",
      "    ref = \"DataSet\" + rnum + \"rep\" + rrep + \"E\" + re + \"R\" + rr + \"G\" + rg + \"RandomReadsPair1.fa.totalNumReads\"\n",
      "    totalNumReads = open(ref,'r').read()\n",
      "#    print \"Total num reads: \", totalNumReads\n",
      "    numTp = open(tpDataset,'r').read()\n",
      "#    print \"Num Tp: \", numTp\n",
      "    numTotaltmp = open(totalDataset).read().split(' ')\n",
      "    numTotaltmp2 = []\n",
      "    for item in numTotaltmp:\n",
      "        if item != '':\n",
      "            numTotaltmp2.append(item)\n",
      "#    print numTotaltmp2\n",
      "    numTotal = numTotaltmp2[0]\n",
      "#    print \"Num Reads mapped: \", numTotal    \n",
      "    percTp = float(numTp) / (float(totalNumReads) * 2) * 100\n",
      "#    print numTotal, numTp, totalNumReads\n",
      "    percFp = (float(numTotal) - float(numTp)) / (float(totalNumReads) * 2) * 100\n",
      "    return percTp, percFp\n",
      "\n",
      "def getAverage(listNums):\n",
      "    sum = 0\n",
      "    for item in listNums:\n",
      "        sum += item\n",
      "    return float(sum) / float(len(listNums))"
     ],
     "language": "python",
     "metadata": {},
     "outputs": [],
     "prompt_number": 34
    },
    {
     "cell_type": "heading",
     "level": 2,
     "metadata": {},
     "source": [
      "Test 1: Mapping accuracy of read sets generated from small random and mouse transcriptomes with complete reference"
     ]
    },
    {
     "cell_type": "raw",
     "metadata": {},
     "source": [
      "Objective: determine errors expected in random data and small real data set"
     ]
    },
    {
     "cell_type": "raw",
     "metadata": {},
     "source": [
      "Random transcriptome with 5000 transcripts, single end 100 bp reads, 20x expression"
     ]
    },
    {
     "cell_type": "code",
     "collapsed": false,
     "input": [
      "num = \"237\"\n",
      "rep = \"1\"\n",
      "error = \"1\"\n",
      "r = \"100\"\n",
      "g = \"100\"\n",
      "createDataSet(num,rep)\n",
      "!grep '>' DataSet237rep1E1R100G100.fa | wc -l\n",
      "runBowtieBuild(num,rep,error,r,g)\n",
      "runBowtie(num,rep,error,r,g,\"default\",num,rep,error,r,g)\n",
      "runBowtie(num,rep,error,r,g,\"unique\",num,rep,error,r,g)\n",
      "runBowtie(num,rep,error,r,g,\"multimap\",num,rep,error,r,g)\n",
      "getTruePositives(num,rep,error,r,g,\"default\",\"random\")\n",
      "getTruePositives(num,rep,error,r,g,\"unique\",\"random\")\n",
      "getTruePositives(num,rep,error,r,g,\"multimap\",\"random\")\n",
      "defaultTp1,defaultFp1 = getTpFp(num,rep,error,r,g,\"default\",num,rep,error,r,g)\n",
      "uniqueTp1,uniqueFp1 = getTpFp(num,rep,error,r,g,\"unique\",num,rep,error,r,g)\n",
      "multimapTp1,multimapFp1 = getTpFp(num,rep,error,r,g,\"multimap\",num,rep,error,r,g)"
     ],
     "language": "python",
     "metadata": {},
     "outputs": [
      {
       "output_type": "stream",
       "stream": "stdout",
       "text": [
        "    5000\r\n"
       ]
      }
     ],
     "prompt_number": 5
    },
    {
     "cell_type": "code",
     "collapsed": false,
     "input": [
      "num = \"237\"\n",
      "rep = \"2\"\n",
      "error = \"1\"\n",
      "r = \"100\"\n",
      "g = \"100\"\n",
      "createDataSet(num,rep)\n",
      "!grep '>' DataSet237rep2E1R100G100.fa | wc -l\n",
      "runBowtieBuild(num,rep,error,r,g)\n",
      "runBowtie(num,rep,error,r,g,\"default\",num,rep,error,r,g)\n",
      "runBowtie(num,rep,error,r,g,\"unique\",num,rep,error,r,g)\n",
      "runBowtie(num,rep,error,r,g,\"multimap\",num,rep,error,r,g)\n",
      "getTruePositives(num,rep,error,r,g,\"default\",\"random\")\n",
      "getTruePositives(num,rep,error,r,g,\"unique\",\"random\")\n",
      "getTruePositives(num,rep,error,r,g,\"multimap\",\"random\")\n",
      "defaultTp2,defaultFp2 = getTpFp(num,rep,error,r,g,\"default\",num,rep,error,r,g)\n",
      "uniqueTp2,uniqueFp2 = getTpFp(num,rep,error,r,g,\"unique\",num,rep,error,r,g)\n",
      "multimapTp2,multimapFp2 = getTpFp(num,rep,error,r,g,\"multimap\",num,rep,error,r,g)"
     ],
     "language": "python",
     "metadata": {},
     "outputs": [
      {
       "output_type": "stream",
       "stream": "stdout",
       "text": [
        "    5000\r\n"
       ]
      }
     ],
     "prompt_number": 6
    },
    {
     "cell_type": "code",
     "collapsed": false,
     "input": [
      "num = \"237\"\n",
      "rep = \"3\"\n",
      "error = \"1\"\n",
      "r = \"100\"\n",
      "g = \"100\"\n",
      "createDataSet(num,rep)\n",
      "!grep '>' DataSet237rep3E1R100G100.fa | wc -l\n",
      "runBowtieBuild(num,rep,error,r,g)\n",
      "runBowtie(num,rep,error,r,g,\"default\",num,rep,error,r,g)\n",
      "runBowtie(num,rep,error,r,g,\"unique\",num,rep,error,r,g)\n",
      "runBowtie(num,rep,error,r,g,\"multimap\",num,rep,error,r,g)\n",
      "getTruePositives(num,rep,error,r,g,\"default\",\"random\")\n",
      "getTruePositives(num,rep,error,r,g,\"unique\",\"random\")\n",
      "getTruePositives(num,rep,error,r,g,\"multimap\",\"random\")\n",
      "defaultTp3,defaultFp3 = getTpFp(num,rep,error,r,g,\"default\",num,rep,error,r,g)\n",
      "uniqueTp3,uniqueFp3 = getTpFp(num,rep,error,r,g,\"unique\",num,rep,error,r,g)\n",
      "multimapTp3,multimapFp3 = getTpFp(num,rep,error,r,g,\"multimap\",num,rep,error,r,g)"
     ],
     "language": "python",
     "metadata": {},
     "outputs": [
      {
       "output_type": "stream",
       "stream": "stdout",
       "text": [
        "    5000\r\n"
       ]
      }
     ],
     "prompt_number": 7
    },
    {
     "cell_type": "code",
     "collapsed": false,
     "input": [
      "id = \"randomSe\"\n",
      "defaultAvgTp[id] = sum([defaultTp[\"1\"], defaultTp[\"2\"], defaultTp[\"3\"]]) / 3\n",
      "print \"Average Default True Positive Percentage: \", defaultAvgTp[id]\n",
      "defaultAvgFp[id] = sum([defaultFp[\"1\"], defaultFp[\"2\"], defaultFp[\"3\"]]) / 3\n",
      "print \"Average Default False Positive Percentage: \", defaultAvgFp[id]\n",
      "uniqueAvgTp[id] = sum([uniqueTp[\"1\"], uniqueTp[\"2\"], uniqueTp[\"3\"]]) / 3\n",
      "print \"Average Unique True Positive Percentage: \", uniqueAvgTp[id]\n",
      "uniqueAvgFp[id] = sum([uniqueFp[\"1\"], uniqueFp[\"2\"], uniqueFp[\"3\"]]) / 3\n",
      "print \"Average Unique False Positive Percentage: \", uniqueAvgFp[id]\n",
      "multimapAvgTp[id] = sum([multimapTp[\"1\"], multimapTp[\"2\"], multimapTp[\"3\"]]) / 3\n",
      "print \"Average Multimap True Positive Percentage: \", multimapAvgTp[id]\n",
      "multimapAvgFp[id] = sum([multimapFp[\"1\"], multimapFp[\"2\"], multimapFp[\"3\"]]) / 3\n",
      "print \"Average Multimap False Positive Percentage: \", multimapAvgFp[id]"
     ],
     "language": "python",
     "metadata": {},
     "outputs": [
      {
       "output_type": "stream",
       "stream": "stdout",
       "text": [
        "Average Default True Positive Percentage:  89.1450256049\n",
        "Average Default False Positive Percentage:  2.92797153003\n",
        "Average Unique True Positive Percentage:  86.3889761058\n",
        "Average Unique False Positive Percentage:  2.09915175377e-05\n",
        "Average Multimap True Positive Percentage:  92.0729761434\n",
        "Average Multimap False Positive Percentage:  6.27882638415\n"
       ]
      }
     ],
     "prompt_number": 75
    },
    {
     "cell_type": "raw",
     "metadata": {},
     "source": [
      "Mouse transcriptome with 5000 randomly selected transcripts, single end 100 bp reads, 20x expression"
     ]
    },
    {
     "cell_type": "code",
     "collapsed": false,
     "input": [
      "num = \"236\"\n",
      "rep = \"1\"\n",
      "error = \"1\"\n",
      "r = \"100\"\n",
      "g = \"100\"\n",
      "createDataSet(num,rep)\n",
      "!grep '>' DataSet236rep1E1R100G100.fa | wc -l\n",
      "runBowtieBuild(num,rep,error,r,g)\n",
      "runBowtie(num,rep,error,r,g,\"default\",num,rep,error,r,g)\n",
      "runBowtie(num,rep,error,r,g,\"unique\",num,rep,error,r,g)\n",
      "runBowtie(num,rep,error,r,g,\"multimap\",num,rep,error,r,g)\n",
      "getTruePositives(num,rep,error,r,g,\"default\",\"mouse\")\n",
      "getTruePositives(num,rep,error,r,g,\"unique\",\"mouse\")\n",
      "getTruePositives(num,rep,error,r,g,\"multimap\",\"mouse\")\n",
      "defaultTp1,defaultFp1 = getTpFp(num,rep,error,r,g,\"default\",num,rep,error,r,g)\n",
      "uniqueTp1,uniqueFp1 = getTpFp(num,rep,error,r,g,\"unique\",num,rep,error,r,g)\n",
      "multimapTp1,multimapFp1 = getTpFp(num,rep,error,r,g,\"multimap\",num,rep,error,r,g)"
     ],
     "language": "python",
     "metadata": {},
     "outputs": [
      {
       "output_type": "stream",
       "stream": "stdout",
       "text": [
        "    5000\r\n"
       ]
      }
     ],
     "prompt_number": 10
    },
    {
     "cell_type": "code",
     "collapsed": false,
     "input": [
      "num = \"236\"\n",
      "rep = \"2\"\n",
      "error = \"1\"\n",
      "r = \"100\"\n",
      "g = \"100\"\n",
      "createDataSet(num,rep)\n",
      "!grep '>' DataSet236rep2E1R100G100.fa | wc -l\n",
      "runBowtieBuild(num,rep,error,r,g)\n",
      "runBowtie(num,rep,error,r,g,\"default\",num,rep,error,r,g)\n",
      "runBowtie(num,rep,error,r,g,\"unique\",num,rep,error,r,g)\n",
      "runBowtie(num,rep,error,r,g,\"multimap\",num,rep,error,r,g)\n",
      "getTruePositives(num,rep,error,r,g,\"default\",\"mouse\")\n",
      "getTruePositives(num,rep,error,r,g,\"unique\",\"mouse\")\n",
      "getTruePositives(num,rep,error,r,g,\"multimap\",\"mouse\")\n",
      "defaultTp2,defaultFp2 = getTpFp(num,rep,error,r,g,\"default\",num,rep,error,r,g)\n",
      "uniqueTp2,uniqueFp2 = getTpFp(num,rep,error,r,g,\"unique\",num,rep,error,r,g)\n",
      "multimapTp2,multimapFp2 = getTpFp(num,rep,error,r,g,\"multimap\",num,rep,error,r,g)"
     ],
     "language": "python",
     "metadata": {},
     "outputs": [
      {
       "output_type": "stream",
       "stream": "stdout",
       "text": [
        "    5000\r\n"
       ]
      }
     ],
     "prompt_number": 12
    },
    {
     "cell_type": "code",
     "collapsed": false,
     "input": [
      "num = \"236\"\n",
      "rep = \"3\"\n",
      "error = \"1\"\n",
      "r = \"100\"\n",
      "g = \"100\"\n",
      "createDataSet(num,rep)\n",
      "!grep '>' DataSet236rep3E1R100G100.fa | wc -l\n",
      "runBowtieBuild(num,rep,error,r,g)\n",
      "runBowtie(num,rep,error,r,g,\"default\",num,rep,error,r,g)\n",
      "runBowtie(num,rep,error,r,g,\"unique\",num,rep,error,r,g)\n",
      "runBowtie(num,rep,error,r,g,\"multimap\",num,rep,error,r,g)\n",
      "getTruePositives(num,rep,error,r,g,\"default\",\"mouse\")\n",
      "getTruePositives(num,rep,error,r,g,\"unique\",\"mouse\")\n",
      "getTruePositives(num,rep,error,r,g,\"multimap\",\"mouse\")\n",
      "defaultTp3,defaultFp3 = getTpFp(num,rep,error,r,g,\"default\",num,rep,error,r,g)\n",
      "uniqueTp3,uniqueFp3 = getTpFp(num,rep,error,r,g,\"unique\",num,rep,error,r,g)\n",
      "multimapTp3,multimapFp3 = getTpFp(num,rep,error,r,g,\"multimap\",num,rep,error,r,g)"
     ],
     "language": "python",
     "metadata": {},
     "outputs": [
      {
       "output_type": "stream",
       "stream": "stdout",
       "text": [
        "    5000\r\n"
       ]
      }
     ],
     "prompt_number": 13
    },
    {
     "cell_type": "code",
     "collapsed": false,
     "input": [
      "id = \"mouseSe\"\n",
      "defaultAvgTp[id] = sum([defaultTp[\"1\"], defaultTp[\"2\"], defaultTp[\"3\"]]) / 3\n",
      "print \"Average Default True Positive Percentage: \", defaultAvgTp[id]\n",
      "defaultAvgFp[id] = sum([defaultFp[\"1\"], defaultFp[\"2\"], defaultFp[\"3\"]]) / 3\n",
      "print \"Average Default False Positive Percentage: \", defaultAvgFp[id]\n",
      "uniqueAvgTp[id] = sum([uniqueTp[\"1\"], uniqueTp[\"2\"], uniqueTp[\"3\"]]) / 3\n",
      "print \"Average Unique True Positive Percentage: \", uniqueAvgTp[id]\n",
      "uniqueAvgFp[id] = sum([uniqueFp[\"1\"], uniqueFp[\"2\"], uniqueFp[\"3\"]]) / 3\n",
      "print \"Average Unique False Positive Percentage: \", uniqueAvgFp[id]\n",
      "multimapAvgTp[id] = sum([multimapTp[\"1\"], multimapTp[\"2\"], multimapTp[\"3\"]]) / 3\n",
      "print \"Average Multimap True Positive Percentage: \", multimapAvgTp[id]\n",
      "multimapAvgFp[id] = sum([multimapFp[\"1\"], multimapFp[\"2\"], multimapFp[\"3\"]]) / 3\n",
      "print \"Average Multimap False Positive Percentage: \", multimapAvgFp[id]"
     ],
     "language": "python",
     "metadata": {},
     "outputs": [
      {
       "output_type": "stream",
       "stream": "stdout",
       "text": [
        "Average Default True Positive Percentage:  86.8046457733\n",
        "Average Default False Positive Percentage:  0.052532243608\n",
        "Average Unique True Positive Percentage:  81.4734549555\n",
        "Average Unique False Positive Percentage:  1.73567357673e-06\n",
        "Average Multimap True Positive Percentage:  92.4076777868\n",
        "Average Multimap False Positive Percentage:  0.121803670325\n"
       ]
      }
     ],
     "prompt_number": 16
    },
    {
     "cell_type": "raw",
     "metadata": {},
     "source": [
      "Random transcriptome with 5000 transcripts, paired end 100:50:100 reads, 20x expression"
     ]
    },
    {
     "cell_type": "code",
     "collapsed": false,
     "input": [
      "num = \"241\"\n",
      "rep = \"1\"\n",
      "error = \"1\"\n",
      "r = \"100\"\n",
      "g = \"100\"\n",
      "createDataSet(num,rep)\n",
      "!grep '>' DataSet241rep1E1R100G100.fa | wc -l\n",
      "runBowtieBuild(num,rep,error,r,g)\n",
      "runBowtiePairedEnds(num,rep,error,r,g,\"default\",num,rep,error,r,g)\n",
      "runBowtiePairedEnds(num,rep,error,r,g,\"unique\",num,rep,error,r,g)\n",
      "runBowtiePairedEnds(num,rep,error,r,g,\"multimap\",num,rep,error,r,g)\n",
      "getTruePositivesPaired(num,rep,error,r,g,\"default\",\"random\")\n",
      "getTruePositivesPaired(num,rep,error,r,g,\"unique\",\"random\")\n",
      "getTruePositivesPaired(num,rep,error,r,g,\"multimap\",\"random\")\n",
      "defaultTp1,defaultFp1 = getTpFpPairedEnds(num,rep,error,r,g,\"default\",num,rep,error,r,g)\n",
      "uniqueTp1,uniqueFp1 = getTpFpPairedEnds(num,rep,error,r,g,\"unique\",num,rep,error,r,g)\n",
      "multimapTp1,multimapFp1 = getTpFpPairedEnds(num,rep,error,r,g,\"multimap\",num,rep,error,r,g)"
     ],
     "language": "python",
     "metadata": {},
     "outputs": [
      {
       "output_type": "stream",
       "stream": "stdout",
       "text": [
        "    5000\r\n"
       ]
      },
      {
       "output_type": "stream",
       "stream": "stdout",
       "text": [
        "bowtie DataSet241rep1E1R100G100.Index --ff -I 0 -X 1000 -f -1 DataSet241rep1E1R100G100RandomReadsPair1.fa -2 DataSet241rep1E1R100G100RandomReadsPair2.fa DataSet241rep1E1R100G100_default.map"
       ]
      },
      {
       "output_type": "stream",
       "stream": "stdout",
       "text": [
        "\n",
        "bowtie -m 1 DataSet241rep1E1R100G100.Index --ff -I 0 -X 1000 -f -1 DataSet241rep1E1R100G100RandomReadsPair1.fa -2 DataSet241rep1E1R100G100RandomReadsPair2.fa DataSet241rep1E1R100G100_unique.map"
       ]
      },
      {
       "output_type": "stream",
       "stream": "stdout",
       "text": [
        "\n",
        "bowtie -a DataSet241rep1E1R100G100.Index --ff -I 0 -X 1000 -f -1 DataSet241rep1E1R100G100RandomReadsPair1.fa -2 DataSet241rep1E1R100G100RandomReadsPair2.fa DataSet241rep1E1R100G100_multimap.map"
       ]
      },
      {
       "output_type": "stream",
       "stream": "stdout",
       "text": [
        "\n",
        "Total num reads: "
       ]
      },
      {
       "output_type": "stream",
       "stream": "stdout",
       "text": [
        "  1022426\n",
        "\n",
        "Num Tp:   1736390\n",
        "\n",
        "Num Reads mapped:  1736390\n",
        "1736390  1736390\n",
        " 1022426\n",
        "\n",
        "Total num reads: "
       ]
      },
      {
       "output_type": "stream",
       "stream": "stdout",
       "text": [
        "  1022426\n",
        "\n",
        "Num Tp: "
       ]
      },
      {
       "output_type": "stream",
       "stream": "stdout",
       "text": [
        "  1736390\n",
        "\n",
        "Num Reads mapped:  1736390\n",
        "1736390  1736390\n",
        " 1022426\n",
        "\n",
        "Total num reads: "
       ]
      },
      {
       "output_type": "stream",
       "stream": "stdout",
       "text": [
        "  1022426\n",
        "\n",
        "Num Tp:   1736390\n",
        "\n",
        "Num Reads mapped:  1736390\n",
        "1736390  1736390\n",
        " 1022426\n",
        "\n"
       ]
      }
     ],
     "prompt_number": 15
    },
    {
     "cell_type": "code",
     "collapsed": false,
     "input": [
      "num = \"241\"\n",
      "rep = \"2\"\n",
      "error = \"1\"\n",
      "r = \"100\"\n",
      "g = \"100\"\n",
      "createDataSet(num,rep)\n",
      "!grep '>' DataSet241rep2E1R100G100.fa | wc -l\n",
      "runBowtieBuild(num,rep,error,r,g)\n",
      "runBowtiePairedEnds(num,rep,error,r,g,\"default\",num,rep,error,r,g)\n",
      "runBowtiePairedEnds(num,rep,error,r,g,\"unique\",num,rep,error,r,g)\n",
      "runBowtiePairedEnds(num,rep,error,r,g,\"multimap\",num,rep,error,r,g)\n",
      "getTruePositivesPaired(num,rep,error,r,g,\"default\",\"random\")\n",
      "getTruePositivesPaired(num,rep,error,r,g,\"unique\",\"random\")\n",
      "getTruePositivesPaired(num,rep,error,r,g,\"multimap\",\"random\")\n",
      "defaultTp2,defaultFp2 = getTpFpPairedEnds(num,rep,error,r,g,\"default\",num,rep,error,r,g)\n",
      "uniqueTp2,uniqueFp2 = getTpFpPairedEnds(num,rep,error,r,g,\"unique\",num,rep,error,r,g)\n",
      "multimapTp2,multimapFp2 = getTpFpPairedEnds(num,rep,error,r,g,\"multimap\",num,rep,error,r,g)"
     ],
     "language": "python",
     "metadata": {},
     "outputs": [
      {
       "output_type": "stream",
       "stream": "stdout",
       "text": [
        "    5000\r\n"
       ]
      }
     ],
     "prompt_number": 17
    },
    {
     "cell_type": "code",
     "collapsed": false,
     "input": [
      "num = \"241\"\n",
      "rep = \"3\"\n",
      "error = \"1\"\n",
      "r = \"100\"\n",
      "g = \"100\"\n",
      "createDataSet(num,rep)\n",
      "!grep '>' DataSet241rep3E1R100G100.fa | wc -l\n",
      "runBowtieBuild(num,rep,error,r,g)\n",
      "runBowtiePairedEnds(num,rep,error,r,g,\"default\",num,rep,error,r,g)\n",
      "runBowtiePairedEnds(num,rep,error,r,g,\"unique\",num,rep,error,r,g)\n",
      "runBowtiePairedEnds(num,rep,error,r,g,\"multimap\",num,rep,error,r,g)\n",
      "getTruePositivesPaired(num,rep,error,r,g,\"default\",\"random\")\n",
      "getTruePositivesPaired(num,rep,error,r,g,\"unique\",\"random\")\n",
      "getTruePositivesPaired(num,rep,error,r,g,\"multimap\",\"random\")\n",
      "defaultTp3,defaultFp3 = getTpFpPairedEnds(num,rep,error,r,g,\"default\",num,rep,error,r,g)\n",
      "uniqueTp3,uniqueFp3 = getTpFpPairedEnds(num,rep,error,r,g,\"unique\",num,rep,error,r,g)\n",
      "multimapTp3,multimapFp3 = getTpFpPairedEnds(num,rep,error,r,g,\"multimap\",num,rep,error,r,g)"
     ],
     "language": "python",
     "metadata": {},
     "outputs": [
      {
       "output_type": "stream",
       "stream": "stdout",
       "text": [
        "    5000\r\n"
       ]
      }
     ],
     "prompt_number": 18
    },
    {
     "cell_type": "code",
     "collapsed": false,
     "input": [
      "defaultTp = [defaultTp1, defaultTp2, defaultTp3]\n",
      "defaultAvgTp = getAverage(defaultTp)\n",
      "print \"Average Default True Positive Percentage: \", defaultAvgTp\n",
      "defaultFp = [defaultFp1, defaultFp2, defaultFp3]\n",
      "defaultAvgFp = getAverage(defaultFp)\n",
      "print \"Average Default False Positive Percentage: \", defaultAvgFp\n",
      "uniqueTp = [uniqueTp1, uniqueTp2, uniqueTp3]\n",
      "uniqueAvgTp = getAverage(uniqueTp)\n",
      "print \"Average Unique True Positive Percentage: \", uniqueAvgTp\n",
      "uniqueFp = [uniqueFp1, uniqueFp2, uniqueFp3]\n",
      "uniqueAvgFp = getAverage(uniqueFp)\n",
      "print \"Average Unique False Positive Percentage: \", uniqueAvgFp\n",
      "multimapTp = [multimapTp1, multimapTp2, multimapTp3]\n",
      "multimapAvgTp = getAverage(multimapTp)\n",
      "print \"Average Multimap True Positive Percentage: \", multimapAvgTp\n",
      "multimapFp = [multimapFp1, multimapFp2, multimapFp3]\n",
      "multimapAvgFp = getAverage(multimapFp)\n",
      "print \"Average Multimap False Positive Percentage: \", multimapAvgFp\n"
     ],
     "language": "python",
     "metadata": {},
     "outputs": [
      {
       "output_type": "stream",
       "stream": "stdout",
       "text": [
        "Average Default True Positive Percentage: "
       ]
      },
      {
       "output_type": "stream",
       "stream": "stdout",
       "text": [
        " 84.942157604\n",
        "Average Default False Positive Percentage:  0.0\n",
        "Average Unique True Positive Percentage:  84.942157604\n",
        "Average Unique False Positive Percentage:  0.0\n",
        "Average Multimap True Positive Percentage:  84.942157604\n",
        "Average Multimap False Positive Percentage:  0.0\n"
       ]
      }
     ],
     "prompt_number": 19
    },
    {
     "cell_type": "raw",
     "metadata": {},
     "source": [
      "Mouse transcriptome with 5000 randomly selected transcripts, paired end 100:50:100 reads, 20x expression"
     ]
    },
    {
     "cell_type": "code",
     "collapsed": false,
     "input": [
      "num = \"240\"\n",
      "rep = \"1\"\n",
      "error = \"1\"\n",
      "r = \"100\"\n",
      "g = \"100\"\n",
      "createDataSet(num,rep)\n",
      "!grep '>' DataSet240rep1E1R100G100.fa | wc -l\n",
      "runBowtieBuild(num,rep,error,r,g)\n",
      "runBowtiePairedEnds(num,rep,error,r,g,\"default\",num,rep,error,r,g)\n",
      "runBowtiePairedEnds(num,rep,error,r,g,\"unique\",num,rep,error,r,g)\n",
      "runBowtiePairedEnds(num,rep,error,r,g,\"multimap\",num,rep,error,r,g)\n",
      "getTruePositivesPaired(num,rep,error,r,g,\"default\",\"mouse\")\n",
      "getTruePositivesPaired(num,rep,error,r,g,\"unique\",\"mouse\")\n",
      "getTruePositivesPaired(num,rep,error,r,g,\"multimap\",\"mouse\")\n",
      "defaultTp1,defaultFp1 = getTpFpPairedEnds(num,rep,error,r,g,\"default\",num,rep,error,r,g)\n",
      "uniqueTp1,uniqueFp1 = getTpFpPairedEnds(num,rep,error,r,g,\"unique\",num,rep,error,r,g)\n",
      "multimapTp1,multimapFp1 = getTpFpPairedEnds(num,rep,error,r,g,\"multimap\",num,rep,error,r,g)"
     ],
     "language": "python",
     "metadata": {},
     "outputs": [
      {
       "output_type": "stream",
       "stream": "stdout",
       "text": [
        "    5000\r\n"
       ]
      }
     ],
     "prompt_number": 23
    },
    {
     "cell_type": "code",
     "collapsed": false,
     "input": [
      "num = \"240\"\n",
      "rep = \"2\"\n",
      "error = \"1\"\n",
      "r = \"100\"\n",
      "g = \"100\"\n",
      "createDataSet(num,rep)\n",
      "!grep '>' DataSet240rep2E1R100G100.fa | wc -l\n",
      "runBowtieBuild(num,rep,error,r,g)\n",
      "runBowtiePairedEnds(num,rep,error,r,g,\"default\",num,rep,error,r,g)\n",
      "runBowtiePairedEnds(num,rep,error,r,g,\"unique\",num,rep,error,r,g)\n",
      "runBowtiePairedEnds(num,rep,error,r,g,\"multimap\",num,rep,error,r,g)\n",
      "getTruePositivesPaired(num,rep,error,r,g,\"default\",\"mouse\")\n",
      "getTruePositivesPaired(num,rep,error,r,g,\"unique\",\"mouse\")\n",
      "getTruePositivesPaired(num,rep,error,r,g,\"multimap\",\"mouse\")\n",
      "defaultTp2,defaultFp2 = getTpFpPairedEnds(num,rep,error,r,g,\"default\",num,rep,error,r,g)\n",
      "uniqueTp2,uniqueFp2 = getTpFpPairedEnds(num,rep,error,r,g,\"unique\",num,rep,error,r,g)\n",
      "multimapTp2,multimapFp2 = getTpFpPairedEnds(num,rep,error,r,g,\"multimap\",num,rep,error,r,g)"
     ],
     "language": "python",
     "metadata": {},
     "outputs": [
      {
       "output_type": "stream",
       "stream": "stdout",
       "text": [
        "    5000\r\n"
       ]
      }
     ],
     "prompt_number": 24
    },
    {
     "cell_type": "code",
     "collapsed": false,
     "input": [
      "num = \"240\"\n",
      "rep = \"3\"\n",
      "error = \"1\"\n",
      "r = \"100\"\n",
      "g = \"100\"\n",
      "createDataSet(num,rep)\n",
      "!grep '>' DataSet240rep1E1R100G100.fa | wc -l\n",
      "runBowtieBuild(num,rep,error,r,g)\n",
      "runBowtiePairedEnds(num,rep,error,r,g,\"default\",num,rep,error,r,g)\n",
      "runBowtiePairedEnds(num,rep,error,r,g,\"unique\",num,rep,error,r,g)\n",
      "runBowtiePairedEnds(num,rep,error,r,g,\"multimap\",num,rep,error,r,g)\n",
      "getTruePositivesPaired(num,rep,error,r,g,\"default\",\"mouse\")\n",
      "getTruePositivesPaired(num,rep,error,r,g,\"unique\",\"mouse\")\n",
      "getTruePositivesPaired(num,rep,error,r,g,\"multimap\",\"mouse\")\n",
      "defaultTp3,defaultFp3 = getTpFpPairedEnds(num,rep,error,r,g,\"default\",num,rep,error,r,g)\n",
      "uniqueTp3,uniqueFp3 = getTpFpPairedEnds(num,rep,error,r,g,\"unique\",num,rep,error,r,g)\n",
      "multimapTp3,multimapFp3 = getTpFpPairedEnds(num,rep,error,r,g,\"multimap\",num,rep,error,r,g)"
     ],
     "language": "python",
     "metadata": {},
     "outputs": [
      {
       "output_type": "stream",
       "stream": "stdout",
       "text": [
        "    5000\r\n"
       ]
      }
     ],
     "prompt_number": 25
    },
    {
     "cell_type": "code",
     "collapsed": false,
     "input": [
      "defaultTp = [defaultTp1, defaultTp2, defaultTp3]\n",
      "defaultAvgTp = getAverage(defaultTp)\n",
      "print \"Average Default True Positive Percentage: \", defaultAvgTp\n",
      "defaultFp = [defaultFp1, defaultFp2, defaultFp3]\n",
      "defaultAvgFp = getAverage(defaultFp)\n",
      "print \"Average Default False Positive Percentage: \", defaultAvgFp\n",
      "uniqueTp = [uniqueTp1, uniqueTp2, uniqueTp3]\n",
      "uniqueAvgTp = getAverage(uniqueTp)\n",
      "print \"Average Unique True Positive Percentage: \", uniqueAvgTp\n",
      "uniqueFp = [uniqueFp1, uniqueFp2, uniqueFp3]\n",
      "uniqueAvgFp = getAverage(uniqueFp)\n",
      "print \"Average Unique False Positive Percentage: \", uniqueAvgFp\n",
      "multimapTp = [multimapTp1, multimapTp2, multimapTp3]\n",
      "multimapAvgTp = getAverage(multimapTp)\n",
      "print \"Average Multimap True Positive Percentage: \", multimapAvgTp\n",
      "multimapFp = [multimapFp1, multimapFp2, multimapFp3]\n",
      "multimapAvgFp = getAverage(multimapFp)\n",
      "print \"Average Multimap False Positive Percentage: \", multimapAvgFp"
     ],
     "language": "python",
     "metadata": {},
     "outputs": [
      {
       "output_type": "stream",
       "stream": "stdout",
       "text": [
        "Average Default True Positive Percentage: "
       ]
      },
      {
       "output_type": "stream",
       "stream": "stdout",
       "text": [
        " 80.8104714485\n",
        "Average Default False Positive Percentage:  4.1187964661\n",
        "Average Unique True Positive Percentage:  76.5931046013\n",
        "Average Unique False Positive Percentage:  0.000391843388035\n",
        "Average Multimap True Positive Percentage:  85.3316039978\n",
        "Average Multimap False Positive Percentage:  9.19469217654\n"
       ]
      }
     ],
     "prompt_number": 26
    },
    {
     "cell_type": "heading",
     "level": 2,
     "metadata": {},
     "source": [
      "Test 2: Mapping accuracy of read sets generated from small random transcriptomes with artificial isoforms with complete reference"
     ]
    },
    {
     "cell_type": "raw",
     "metadata": {},
     "source": [
      "Random transcriptome with 5000 transcripts, 0% artificial isoforms, single end 100 bp reads, 50x expression"
     ]
    },
    {
     "cell_type": "code",
     "collapsed": false,
     "input": [
      "defaultAvgTp = {}\n",
      "defaultAvgFp = {}\n",
      "uniqueAvgTp = {}\n",
      "uniqueAvgFp = {}\n",
      "multimapAvgTp = {}\n",
      "multimapAvgFp = {}"
     ],
     "language": "python",
     "metadata": {},
     "outputs": [],
     "prompt_number": 8
    },
    {
     "cell_type": "code",
     "collapsed": false,
     "input": [
      "num = \"181\"\n",
      "rep = \"1\"\n",
      "error = \"1\"\n",
      "r = \"100\"\n",
      "g = \"100\"\n"
     ],
     "language": "python",
     "metadata": {},
     "outputs": [],
     "prompt_number": 28
    },
    {
     "cell_type": "code",
     "collapsed": false,
     "input": [
      "createDataSet(num,rep)\n",
      "!grep '>' DataSet181rep1E1R100G100.fa | wc -l\n"
     ],
     "language": "python",
     "metadata": {},
     "outputs": [
      {
       "output_type": "stream",
       "stream": "stdout",
       "text": [
        "    5000\r\n"
       ]
      }
     ],
     "prompt_number": 29
    },
    {
     "cell_type": "code",
     "collapsed": false,
     "input": [
      "runBowtieBuild(num,rep,error,r,g)\n",
      "runBowtieAllParams(num,rep,error,r,g,num,rep,error,r,g)\n",
      "getTruePositivesAllParams(num,rep,error,r,g,\"random\")\n",
      "defaultTp = {}\n",
      "defaultFp = {}\n",
      "uniqueTp = {}\n",
      "uniqueFp = {}\n",
      "multimapTp = {}\n",
      "multimapFp = {}\n",
      "defaultTp[rep],defaultFp[rep] = getTpFp(num,rep,error,r,g,\"default\",num,rep,error,r,g)\n",
      "uniqueTp[rep],uniqueFp[rep] = getTpFp(num,rep,error,r,g,\"unique\",num,rep,error,r,g)\n",
      "multimapTp[rep],multimapFp[rep] = getTpFp(num,rep,error,r,g,\"multimap\",num,rep,error,r,g)\n",
      "print defaultTp, defaultFp, uniqueTp, uniqueFp, multimapTp, multimapFp"
     ],
     "language": "python",
     "metadata": {},
     "outputs": [
      {
       "output_type": "stream",
       "stream": "stdout",
       "text": [
        "{'1': 92.0508222699047}"
       ]
      },
      {
       "output_type": "stream",
       "stream": "stdout",
       "text": [
        " {'1': 0.0} {'1': 92.0508222699047} {'1': 0.0} {'1': 92.0508222699047} {'1': 0.0}\n"
       ]
      }
     ],
     "prompt_number": 30
    },
    {
     "cell_type": "code",
     "collapsed": false,
     "input": [
      "num = \"181\"\n",
      "rep = \"2\"\n",
      "error = \"1\"\n",
      "r = \"100\"\n",
      "g = \"100\"\n"
     ],
     "language": "python",
     "metadata": {},
     "outputs": [],
     "prompt_number": 31
    },
    {
     "cell_type": "code",
     "collapsed": false,
     "input": [
      "createDataSet(num,rep)\n",
      "!grep '>' DataSet181rep2E1R100G100.fa | wc -l\n"
     ],
     "language": "python",
     "metadata": {},
     "outputs": [
      {
       "output_type": "stream",
       "stream": "stdout",
       "text": [
        "    5000\r\n"
       ]
      }
     ],
     "prompt_number": 32
    },
    {
     "cell_type": "code",
     "collapsed": false,
     "input": [
      "runBowtieBuild(num,rep,error,r,g)\n",
      "runBowtieAllParams(num,rep,error,r,g,num,rep,error,r,g)\n",
      "getTruePositivesAllParams(num,rep,error,r,g,\"random\")\n",
      "defaultTp[rep],defaultFp[rep] = getTpFp(num,rep,error,r,g,\"default\",num,rep,error,r,g)\n",
      "uniqueTp[rep],uniqueFp[rep] = getTpFp(num,rep,error,r,g,\"unique\",num,rep,error,r,g)\n",
      "multimapTp[rep],multimapFp[rep] = getTpFp(num,rep,error,r,g,\"multimap\",num,rep,error,r,g)\n",
      "print defaultTp, defaultFp, uniqueTp, uniqueFp, multimapTp, multimapFp"
     ],
     "language": "python",
     "metadata": {},
     "outputs": [
      {
       "output_type": "stream",
       "stream": "stdout",
       "text": [
        "{'1': 92.0508222699047, '2': 92.05171443546651}"
       ]
      },
      {
       "output_type": "stream",
       "stream": "stdout",
       "text": [
        " {'1': 0.0, '2': 0.0} {'1': 92.0508222699047, '2': 92.05171443546651} {'1': 0.0, '2': 0.0} {'1': 92.0508222699047, '2': 92.05171443546651} {'1': 0.0, '2': 0.0}\n"
       ]
      }
     ],
     "prompt_number": 33
    },
    {
     "cell_type": "code",
     "collapsed": false,
     "input": [
      "num = \"181\"\n",
      "rep = \"3\"\n",
      "error = \"1\"\n",
      "r = \"100\"\n",
      "g = \"100\"\n"
     ],
     "language": "python",
     "metadata": {},
     "outputs": [],
     "prompt_number": 34
    },
    {
     "cell_type": "code",
     "collapsed": false,
     "input": [
      "createDataSet(num,rep)\n",
      "!grep '>' DataSet181rep3E1R100G100.fa | wc -l\n"
     ],
     "language": "python",
     "metadata": {},
     "outputs": [
      {
       "output_type": "stream",
       "stream": "stdout",
       "text": [
        "    5000\r\n"
       ]
      }
     ],
     "prompt_number": 35
    },
    {
     "cell_type": "code",
     "collapsed": false,
     "input": [
      "runBowtieBuild(num,rep,error,r,g)\n",
      "runBowtieAllParams(num,rep,error,r,g,num,rep,error,r,g)\n",
      "getTruePositivesAllParams(num,rep,error,r,g,\"random\")\n",
      "defaultTp[rep],defaultFp[rep] = getTpFp(num,rep,error,r,g,\"default\",num,rep,error,r,g)\n",
      "uniqueTp[rep],uniqueFp[rep] = getTpFp(num,rep,error,r,g,\"unique\",num,rep,error,r,g)\n",
      "multimapTp[rep],multimapFp[rep] = getTpFp(num,rep,error,r,g,\"multimap\",num,rep,error,r,g)\n",
      "print defaultTp, defaultFp, uniqueTp, uniqueFp, multimapTp, multimapFp"
     ],
     "language": "python",
     "metadata": {},
     "outputs": [
      {
       "output_type": "stream",
       "stream": "stdout",
       "text": [
        "{'1': 92.0508222699047, '3': 92.06068333972026, '2': 92.05171443546651}"
       ]
      },
      {
       "output_type": "stream",
       "stream": "stdout",
       "text": [
        " {'1': 0.0, '3': 0.0, '2': 0.0} {'1': 92.0508222699047, '3': 92.06068333972026, '2': 92.05171443546651} {'1': 0.0, '3': 0.0, '2': 0.0} {'1': 92.0508222699047, '3': 92.06068333972026, '2': 92.05171443546651} {'1': 0.0, '3': 0.0, '2': 0.0}\n"
       ]
      }
     ],
     "prompt_number": 36
    },
    {
     "cell_type": "code",
     "collapsed": false,
     "input": [
      "id = \"00\"\n",
      "defaultAvgTp[id] = sum([defaultTp[\"1\"], defaultTp[\"2\"], defaultTp[\"3\"]]) / 3\n",
      "print \"Average Default True Positive Percentage: \", defaultAvgTp[id]\n",
      "defaultAvgFp[id] = sum([defaultFp[\"1\"], defaultFp[\"2\"], defaultFp[\"3\"]]) / 3\n",
      "print \"Average Default False Positive Percentage: \", defaultAvgFp[id]\n",
      "uniqueAvgTp[id] = sum([uniqueTp[\"1\"], uniqueTp[\"2\"], uniqueTp[\"3\"]]) / 3\n",
      "print \"Average Unique True Positive Percentage: \", uniqueAvgTp[id]\n",
      "uniqueAvgFp[id] = sum([uniqueFp[\"1\"], uniqueFp[\"2\"], uniqueFp[\"3\"]]) / 3\n",
      "print \"Average Unique False Positive Percentage: \", uniqueAvgFp[id]\n",
      "multimapAvgTp[id] = sum([multimapTp[\"1\"], multimapTp[\"2\"], multimapTp[\"3\"]]) / 3\n",
      "print \"Average Multimap True Positive Percentage: \", multimapAvgTp[id]\n",
      "multimapAvgFp[id] = sum([multimapFp[\"1\"], multimapFp[\"2\"], multimapFp[\"3\"]]) / 3\n",
      "print \"Average Multimap False Positive Percentage: \", multimapAvgFp[id]"
     ],
     "language": "python",
     "metadata": {},
     "outputs": [
      {
       "output_type": "stream",
       "stream": "stdout",
       "text": [
        "Average Default True Positive Percentage:  92.0544066817\n",
        "Average Default False Positive Percentage:  0.0\n",
        "Average Unique True Positive Percentage:  92.0544066817\n",
        "Average Unique False Positive Percentage:  0.0\n",
        "Average Multimap True Positive Percentage:  92.0544066817\n",
        "Average Multimap False Positive Percentage:  0.0\n"
       ]
      }
     ],
     "prompt_number": 37
    },
    {
     "cell_type": "raw",
     "metadata": {},
     "source": [
      "Random transcriptome with 5000 transcripts, 5% artificial isoforms, single end 100 bp reads, 50x expression"
     ]
    },
    {
     "cell_type": "code",
     "collapsed": false,
     "input": [
      "num = \"182\"\n",
      "rep = \"1\"\n",
      "error = \"1\"\n",
      "r = \"100\"\n",
      "g = \"100\"\n"
     ],
     "language": "python",
     "metadata": {},
     "outputs": [],
     "prompt_number": 38
    },
    {
     "cell_type": "code",
     "collapsed": false,
     "input": [
      "createDataSet(num,rep)\n",
      "!grep '>' DataSet182rep1E1R100G100.fa | wc -l\n"
     ],
     "language": "python",
     "metadata": {},
     "outputs": [
      {
       "output_type": "stream",
       "stream": "stdout",
       "text": [
        "    5000\r\n"
       ]
      }
     ],
     "prompt_number": 39
    },
    {
     "cell_type": "code",
     "collapsed": false,
     "input": [
      "defaultTp = {}\n",
      "defaultFp = {}\n",
      "uniqueTp = {}\n",
      "uniqueFp = {}\n",
      "multimapTp = {}\n",
      "multimapFp = {}\n",
      "runBowtieBuild(num,rep,error,r,g)\n",
      "runBowtieAllParams(num,rep,error,r,g,num,rep,error,r,g)\n",
      "getTruePositivesAllParams(num,rep,error,r,g,\"random\")\n",
      "defaultTp[rep],defaultFp[rep] = getTpFp(num,rep,error,r,g,\"default\",num,rep,error,r,g)\n",
      "uniqueTp[rep],uniqueFp[rep] = getTpFp(num,rep,error,r,g,\"unique\",num,rep,error,r,g)\n",
      "multimapTp[rep],multimapFp[rep] = getTpFp(num,rep,error,r,g,\"multimap\",num,rep,error,r,g)\n",
      "print defaultTp, defaultFp, uniqueTp, uniqueFp, multimapTp, multimapFp"
     ],
     "language": "python",
     "metadata": {},
     "outputs": [
      {
       "output_type": "stream",
       "stream": "stdout",
       "text": [
        "{'1': 89.20680962497578}"
       ]
      },
      {
       "output_type": "stream",
       "stream": "stdout",
       "text": [
        " {'1': 2.8475410433471704} {'1': 86.46044245428315} {'1': 0.0} {'1': 92.05435066832295} {'1': 5.952508057148374}\n"
       ]
      }
     ],
     "prompt_number": 40
    },
    {
     "cell_type": "code",
     "collapsed": false,
     "input": [
      "num = \"182\"\n",
      "rep = \"2\"\n",
      "error = \"1\"\n",
      "r = \"100\"\n",
      "g = \"100\"\n"
     ],
     "language": "python",
     "metadata": {},
     "outputs": [],
     "prompt_number": 41
    },
    {
     "cell_type": "code",
     "collapsed": false,
     "input": [
      "createDataSet(num,rep)\n",
      "!grep '>' DataSet182rep2E1R100G100.fa | wc -l\n"
     ],
     "language": "python",
     "metadata": {},
     "outputs": [
      {
       "output_type": "stream",
       "stream": "stdout",
       "text": [
        "    5000\r\n"
       ]
      }
     ],
     "prompt_number": 42
    },
    {
     "cell_type": "code",
     "collapsed": false,
     "input": [
      "runBowtieBuild(num,rep,error,r,g)\n",
      "runBowtieAllParams(num,rep,error,r,g,num,rep,error,r,g)\n",
      "getTruePositivesAllParams(num,rep,error,r,g,\"random\")\n",
      "defaultTp[rep],defaultFp[rep] = getTpFp(num,rep,error,r,g,\"default\",num,rep,error,r,g)\n",
      "uniqueTp[rep],uniqueFp[rep] = getTpFp(num,rep,error,r,g,\"unique\",num,rep,error,r,g)\n",
      "multimapTp[rep],multimapFp[rep] = getTpFp(num,rep,error,r,g,\"multimap\",num,rep,error,r,g)\n",
      "print defaultTp, defaultFp, uniqueTp, uniqueFp, multimapTp, multimapFp"
     ],
     "language": "python",
     "metadata": {},
     "outputs": [
      {
       "output_type": "stream",
       "stream": "stdout",
       "text": [
        "{'1': 89.20680962497578, '2': 88.70846492048614}"
       ]
      },
      {
       "output_type": "stream",
       "stream": "stdout",
       "text": [
        " {'1': 2.8475410433471704, '2': 3.3562208883300153} {'1': 86.46044245428315, '2': 85.65896271007018} {'1': 0.0, '2': 0.0} {'1': 92.05435066832295, '2': 92.06468580881617} {'1': 5.952508057148374, '2': 7.483116666340899}\n"
       ]
      }
     ],
     "prompt_number": 43
    },
    {
     "cell_type": "code",
     "collapsed": false,
     "input": [
      "num = \"182\"\n",
      "rep = \"3\"\n",
      "error = \"1\"\n",
      "r = \"100\"\n",
      "g = \"100\"\n"
     ],
     "language": "python",
     "metadata": {},
     "outputs": [],
     "prompt_number": 44
    },
    {
     "cell_type": "code",
     "collapsed": false,
     "input": [
      "createDataSet(num,rep)\n",
      "!grep '>' DataSet182rep3E1R100G100.fa | wc -l\n"
     ],
     "language": "python",
     "metadata": {},
     "outputs": [
      {
       "output_type": "stream",
       "stream": "stdout",
       "text": [
        "    5000\r\n"
       ]
      }
     ],
     "prompt_number": 45
    },
    {
     "cell_type": "code",
     "collapsed": false,
     "input": [
      "runBowtieBuild(num,rep,error,r,g)\n",
      "runBowtieAllParams(num,rep,error,r,g,num,rep,error,r,g)\n",
      "getTruePositivesAllParams(num,rep,error,r,g,\"random\")\n",
      "defaultTp[rep],defaultFp[rep] = getTpFp(num,rep,error,r,g,\"default\",num,rep,error,r,g)\n",
      "uniqueTp[rep],uniqueFp[rep] = getTpFp(num,rep,error,r,g,\"unique\",num,rep,error,r,g)\n",
      "multimapTp[rep],multimapFp[rep] = getTpFp(num,rep,error,r,g,\"multimap\",num,rep,error,r,g)\n",
      "print defaultTp, defaultFp, uniqueTp, uniqueFp, multimapTp, multimapFp"
     ],
     "language": "python",
     "metadata": {},
     "outputs": [
      {
       "output_type": "stream",
       "stream": "stdout",
       "text": [
        "{'1': 89.20680962497578, '3': 89.97977517138308, '2': 88.70846492048614}"
       ]
      },
      {
       "output_type": "stream",
       "stream": "stdout",
       "text": [
        " {'1': 2.8475410433471704, '3': 2.087430990660465, '2': 3.3562208883300153} {'1': 86.46044245428315, '3': 87.94185970954223, '2': 85.65896271007018} {'1': 0.0, '3': 0.0, '2': 0.0} {'1': 92.05435066832295, '3': 92.06720616204355, '2': 92.06468580881617} {'1': 5.952508057148374, '3': 4.273486917903566, '2': 7.483116666340899}\n"
       ]
      }
     ],
     "prompt_number": 46
    },
    {
     "cell_type": "code",
     "collapsed": false,
     "input": [
      "id = \"05\"\n",
      "defaultAvgTp[id] = sum([defaultTp[\"1\"], defaultTp[\"2\"], defaultTp[\"3\"]]) / 3\n",
      "print \"Average Default True Positive Percentage: \", defaultAvgTp[id]\n",
      "defaultAvgFp[id] = sum([defaultFp[\"1\"], defaultFp[\"2\"], defaultFp[\"3\"]]) / 3\n",
      "print \"Average Default False Positive Percentage: \", defaultAvgFp[id]\n",
      "uniqueAvgTp[id] = sum([uniqueTp[\"1\"], uniqueTp[\"2\"], uniqueTp[\"3\"]]) / 3\n",
      "print \"Average Unique True Positive Percentage: \", uniqueAvgTp[id]\n",
      "uniqueAvgFp[id] = sum([uniqueFp[\"1\"], uniqueFp[\"2\"], uniqueFp[\"3\"]]) / 3\n",
      "print \"Average Unique False Positive Percentage: \", uniqueAvgFp[id]\n",
      "multimapAvgTp[id] = sum([multimapTp[\"1\"], multimapTp[\"2\"], multimapTp[\"3\"]]) / 3\n",
      "print \"Average Multimap True Positive Percentage: \", multimapAvgTp[id]\n",
      "multimapAvgFp[id] = sum([multimapFp[\"1\"], multimapFp[\"2\"], multimapFp[\"3\"]]) / 3\n",
      "print \"Average Multimap False Positive Percentage: \", multimapAvgFp[id]"
     ],
     "language": "python",
     "metadata": {},
     "outputs": [
      {
       "output_type": "stream",
       "stream": "stdout",
       "text": [
        "Average Default True Positive Percentage:  89.2983499056\n",
        "Average Default False Positive Percentage:  2.76373097411\n",
        "Average Unique True Positive Percentage:  86.6870882913\n",
        "Average Unique False Positive Percentage:  0.0\n",
        "Average Multimap True Positive Percentage:  92.0620808797\n",
        "Average Multimap False Positive Percentage:  5.9030372138\n"
       ]
      }
     ],
     "prompt_number": 47
    },
    {
     "cell_type": "raw",
     "metadata": {},
     "source": [
      "Random transcriptome with 5000 transcripts, 10% artificial isoforms, single end 100 bp reads, 50x expression"
     ]
    },
    {
     "cell_type": "code",
     "collapsed": false,
     "input": [
      "num = \"183\"\n",
      "rep = \"1\"\n",
      "error = \"1\"\n",
      "r = \"100\"\n",
      "g = \"100\"\n"
     ],
     "language": "python",
     "metadata": {},
     "outputs": [],
     "prompt_number": 48
    },
    {
     "cell_type": "code",
     "collapsed": false,
     "input": [
      "createDataSet(num,rep)\n",
      "!grep '>' DataSet183rep1E1R100G100.fa | wc -l\n"
     ],
     "language": "python",
     "metadata": {},
     "outputs": [
      {
       "output_type": "stream",
       "stream": "stdout",
       "text": [
        "    5000\r\n"
       ]
      }
     ],
     "prompt_number": 49
    },
    {
     "cell_type": "code",
     "collapsed": false,
     "input": [
      "defaultTp = {}\n",
      "defaultFp = {}\n",
      "uniqueTp = {}\n",
      "uniqueFp = {}\n",
      "multimapTp = {}\n",
      "multimapFp = {}\n",
      "runBowtieBuild(num,rep,error,r,g)\n",
      "runBowtieAllParams(num,rep,error,r,g,num,rep,error,r,g)\n",
      "getTruePositivesAllParams(num,rep,error,r,g,\"random\")\n",
      "defaultTp[rep],defaultFp[rep] = getTpFp(num,rep,error,r,g,\"default\",num,rep,error,r,g)\n",
      "uniqueTp[rep],uniqueFp[rep] = getTpFp(num,rep,error,r,g,\"unique\",num,rep,error,r,g)\n",
      "multimapTp[rep],multimapFp[rep] = getTpFp(num,rep,error,r,g,\"multimap\",num,rep,error,r,g)\n",
      "print defaultTp, defaultFp, uniqueTp, uniqueFp, multimapTp, multimapFp"
     ],
     "language": "python",
     "metadata": {},
     "outputs": [
      {
       "output_type": "stream",
       "stream": "stdout",
       "text": [
        "{'1': 85.81482109810194}"
       ]
      },
      {
       "output_type": "stream",
       "stream": "stdout",
       "text": [
        " {'1': 6.272692846746389} {'1': 80.14545131995725} {'1': 0.0} {'1': 92.08751394484834} {'1': 14.021267812731347}\n"
       ]
      }
     ],
     "prompt_number": 51
    },
    {
     "cell_type": "code",
     "collapsed": false,
     "input": [
      "num = \"183\"\n",
      "rep = \"2\"\n",
      "error = \"1\"\n",
      "r = \"100\"\n",
      "g = \"100\"\n"
     ],
     "language": "python",
     "metadata": {},
     "outputs": [],
     "prompt_number": 52
    },
    {
     "cell_type": "code",
     "collapsed": false,
     "input": [
      "createDataSet(num,rep)\n",
      "!grep '>' DataSet183rep2E1R100G100.fa | wc -l\n"
     ],
     "language": "python",
     "metadata": {},
     "outputs": [
      {
       "output_type": "stream",
       "stream": "stdout",
       "text": [
        "    5000\r\n"
       ]
      }
     ],
     "prompt_number": 53
    },
    {
     "cell_type": "code",
     "collapsed": false,
     "input": [
      "runBowtieBuild(num,rep,error,r,g)\n",
      "runBowtieAllParams(num,rep,error,r,g,num,rep,error,r,g)\n",
      "getTruePositivesAllParams(num,rep,error,r,g,\"random\")\n",
      "defaultTp[rep],defaultFp[rep] = getTpFp(num,rep,error,r,g,\"default\",num,rep,error,r,g)\n",
      "uniqueTp[rep],uniqueFp[rep] = getTpFp(num,rep,error,r,g,\"unique\",num,rep,error,r,g)\n",
      "multimapTp[rep],multimapFp[rep] = getTpFp(num,rep,error,r,g,\"multimap\",num,rep,error,r,g)\n",
      "print defaultTp, defaultFp, uniqueTp, uniqueFp, multimapTp, multimapFp"
     ],
     "language": "python",
     "metadata": {},
     "outputs": [
      {
       "output_type": "stream",
       "stream": "stdout",
       "text": [
        "{'1': 85.81482109810194, '2': 86.37425664865518}"
       ]
      },
      {
       "output_type": "stream",
       "stream": "stdout",
       "text": [
        " {'1': 6.272692846746389, '2': 5.706332725889043} {'1': 80.14545131995725, '2': 81.40413369282172} {'1': 0.0, '2': 0.0} {'1': 92.08751394484834, '2': 92.08058937454422} {'1': 14.021267812731347, '2': 13.375955056536807}\n"
       ]
      }
     ],
     "prompt_number": 54
    },
    {
     "cell_type": "code",
     "collapsed": false,
     "input": [
      "num = \"183\"\n",
      "rep = \"3\"\n",
      "error = \"1\"\n",
      "r = \"100\"\n",
      "g = \"100\"\n"
     ],
     "language": "python",
     "metadata": {},
     "outputs": [],
     "prompt_number": 55
    },
    {
     "cell_type": "code",
     "collapsed": false,
     "input": [
      "createDataSet(num,rep)\n",
      "!grep '>' DataSet183rep3E1R100G100.fa | wc -l\n"
     ],
     "language": "python",
     "metadata": {},
     "outputs": [
      {
       "output_type": "stream",
       "stream": "stdout",
       "text": [
        "    5000\r\n"
       ]
      }
     ],
     "prompt_number": 56
    },
    {
     "cell_type": "code",
     "collapsed": false,
     "input": [
      "runBowtieBuild(num,rep,error,r,g)\n",
      "runBowtieAllParams(num,rep,error,r,g,num,rep,error,r,g)\n",
      "getTruePositivesAllParams(num,rep,error,r,g,\"random\")\n",
      "defaultTp[rep],defaultFp[rep] = getTpFp(num,rep,error,r,g,\"default\",num,rep,error,r,g)\n",
      "uniqueTp[rep],uniqueFp[rep] = getTpFp(num,rep,error,r,g,\"unique\",num,rep,error,r,g)\n",
      "multimapTp[rep],multimapFp[rep] = getTpFp(num,rep,error,r,g,\"multimap\",num,rep,error,r,g)\n",
      "print defaultTp, defaultFp, uniqueTp, uniqueFp, multimapTp, multimapFp"
     ],
     "language": "python",
     "metadata": {},
     "outputs": [
      {
       "output_type": "stream",
       "stream": "stdout",
       "text": [
        "{'1': 85.81482109810194, '3': 85.73223207546995, '2': 86.37425664865518}"
       ]
      },
      {
       "output_type": "stream",
       "stream": "stdout",
       "text": [
        " {'1': 6.272692846746389, '3': 6.34389954242742, '2': 5.706332725889043} {'1': 80.14545131995725, '3': 80.29627353063671, '2': 81.40413369282172} {'1': 0.0, '3': 0.0, '2': 0.0} {'1': 92.08751394484834, '3': 92.07613161789737, '2': 92.08058937454422} {'1': 14.021267812731347, '3': 14.61913320621438, '2': 13.375955056536807}\n"
       ]
      }
     ],
     "prompt_number": 57
    },
    {
     "cell_type": "code",
     "collapsed": false,
     "input": [
      "id = \"10\"\n",
      "defaultAvgTp[id] = sum([defaultTp[\"1\"], defaultTp[\"2\"], defaultTp[\"3\"]]) / 3\n",
      "print \"Average Default True Positive Percentage: \", defaultAvgTp[id]\n",
      "defaultAvgFp[id] = sum([defaultFp[\"1\"], defaultFp[\"2\"], defaultFp[\"3\"]]) / 3\n",
      "print \"Average Default False Positive Percentage: \", defaultAvgFp[id]\n",
      "uniqueAvgTp[id] = sum([uniqueTp[\"1\"], uniqueTp[\"2\"], uniqueTp[\"3\"]]) / 3\n",
      "print \"Average Unique True Positive Percentage: \", uniqueAvgTp[id]\n",
      "uniqueAvgFp[id] = sum([uniqueFp[\"1\"], uniqueFp[\"2\"], uniqueFp[\"3\"]]) / 3\n",
      "print \"Average Unique False Positive Percentage: \", uniqueAvgFp[id]\n",
      "multimapAvgTp[id] = sum([multimapTp[\"1\"], multimapTp[\"2\"], multimapTp[\"3\"]]) / 3\n",
      "print \"Average Multimap True Positive Percentage: \", multimapAvgTp[id]\n",
      "multimapAvgFp[id] = sum([multimapFp[\"1\"], multimapFp[\"2\"], multimapFp[\"3\"]]) / 3\n",
      "print \"Average Multimap False Positive Percentage: \", multimapAvgFp[id]"
     ],
     "language": "python",
     "metadata": {},
     "outputs": [
      {
       "output_type": "stream",
       "stream": "stdout",
       "text": [
        "Average Default True Positive Percentage:  85.9737699407\n",
        "Average Default False Positive Percentage:  6.10764170502\n",
        "Average Unique True Positive Percentage:  80.6152861811\n",
        "Average Unique False Positive Percentage:  0.0\n",
        "Average Multimap True Positive Percentage:  92.0814116458\n",
        "Average Multimap False Positive Percentage:  14.0054520252\n"
       ]
      }
     ],
     "prompt_number": 58
    },
    {
     "cell_type": "raw",
     "metadata": {},
     "source": [
      "Random transcriptome with 5000 transcripts, 15% artificial isoforms, single end 100 bp reads, 50x expression"
     ]
    },
    {
     "cell_type": "code",
     "collapsed": false,
     "input": [
      "num = \"184\"\n",
      "rep = \"1\"\n",
      "error = \"1\"\n",
      "r = \"100\"\n",
      "g = \"100\"\n",
      "createDataSet(num,rep)\n",
      "!grep '>' DataSet184rep1E1R100G100.fa | wc -l\n",
      "runBowtieBuild(num,rep,error,r,g)\n",
      "defaultTp = {}\n",
      "defaultFp = {}\n",
      "uniqueTp = {}\n",
      "uniqueFp = {}\n",
      "multimapTp = {}\n",
      "multimapFp = {}\n",
      "runBowtieAllParams(num,rep,error,r,g,num,rep,error,r,g)\n",
      "getTruePositivesAllParams(num,rep,error,r,g,\"random\")\n",
      "defaultTp[rep],defaultFp[rep] = getTpFp(num,rep,error,r,g,\"default\",num,rep,error,r,g)\n",
      "uniqueTp[rep],uniqueFp[rep] = getTpFp(num,rep,error,r,g,\"unique\",num,rep,error,r,g)\n",
      "multimapTp[rep],multimapFp[rep] = getTpFp(num,rep,error,r,g,\"multimap\",num,rep,error,r,g)\n",
      "print defaultTp, defaultFp, uniqueTp, uniqueFp, multimapTp, multimapFp"
     ],
     "language": "python",
     "metadata": {},
     "outputs": [
      {
       "output_type": "stream",
       "stream": "stdout",
       "text": [
        "    5000\r\n"
       ]
      },
      {
       "output_type": "stream",
       "stream": "stdout",
       "text": [
        "{'1': 82.31845004854664}"
       ]
      },
      {
       "output_type": "stream",
       "stream": "stdout",
       "text": [
        " {'1': 9.729103687920723} {'1': 74.38383659541078} {'1': 0.0} {'1': 92.04755373646736} {'1': 24.556098359413287}\n"
       ]
      }
     ],
     "prompt_number": 59
    },
    {
     "cell_type": "code",
     "collapsed": false,
     "input": [
      "num = \"184\"\n",
      "rep = \"2\"\n",
      "error = \"1\"\n",
      "r = \"100\"\n",
      "g = \"100\"\n",
      "createDataSet(num,rep)\n",
      "!grep '>' DataSet184rep2E1R100G100.fa | wc -l\n",
      "runBowtieBuild(num,rep,error,r,g)\n",
      "runBowtieAllParams(num,rep,error,r,g,num,rep,error,r,g)\n",
      "getTruePositivesAllParams(num,rep,error,r,g,\"random\")\n",
      "defaultTp[rep],defaultFp[rep] = getTpFp(num,rep,error,r,g,\"default\",num,rep,error,r,g)\n",
      "uniqueTp[rep],uniqueFp[rep] = getTpFp(num,rep,error,r,g,\"unique\",num,rep,error,r,g)\n",
      "multimapTp[rep],multimapFp[rep] = getTpFp(num,rep,error,r,g,\"multimap\",num,rep,error,r,g)\n",
      "print defaultTp, defaultFp, uniqueTp, uniqueFp, multimapTp, multimapFp"
     ],
     "language": "python",
     "metadata": {},
     "outputs": [
      {
       "output_type": "stream",
       "stream": "stdout",
       "text": [
        "    5000\r\n"
       ]
      },
      {
       "output_type": "stream",
       "stream": "stdout",
       "text": [
        "{'1': 82.31845004854664, '2': 82.46302757215702}"
       ]
      },
      {
       "output_type": "stream",
       "stream": "stdout",
       "text": [
        " {'1': 9.729103687920723, '2': 9.5865717425173} {'1': 74.38383659541078, '2': 74.77943595230143} {'1': 0.0, '2': 6.289699798918297e-05} {'1': 92.04755373646736, '2': 92.04953641767632} {'1': 24.556098359413287, '2': 24.650245518431653}\n"
       ]
      }
     ],
     "prompt_number": 60
    },
    {
     "cell_type": "code",
     "collapsed": false,
     "input": [
      "num = \"184\"\n",
      "rep = \"3\"\n",
      "error = \"1\"\n",
      "r = \"100\"\n",
      "g = \"100\"\n",
      "createDataSet(num,rep)\n",
      "!grep '>' DataSet184rep3E1R100G100.fa | wc -l\n",
      "runBowtieBuild(num,rep,error,r,g)\n",
      "runBowtieAllParams(num,rep,error,r,g,num,rep,error,r,g)\n",
      "getTruePositivesAllParams(num,rep,error,r,g,\"random\")\n",
      "defaultTp[rep],defaultFp[rep] = getTpFp(num,rep,error,r,g,\"default\",num,rep,error,r,g)\n",
      "uniqueTp[rep],uniqueFp[rep] = getTpFp(num,rep,error,r,g,\"unique\",num,rep,error,r,g)\n",
      "multimapTp[rep],multimapFp[rep] = getTpFp(num,rep,error,r,g,\"multimap\",num,rep,error,r,g)\n",
      "print defaultTp, defaultFp, uniqueTp, uniqueFp, multimapTp, multimapFp"
     ],
     "language": "python",
     "metadata": {},
     "outputs": [
      {
       "output_type": "stream",
       "stream": "stdout",
       "text": [
        "    5000\r\n"
       ]
      },
      {
       "output_type": "stream",
       "stream": "stdout",
       "text": [
        "{'1': 82.31845004854664, '3': 83.06161769093286, '2': 82.46302757215702}"
       ]
      },
      {
       "output_type": "stream",
       "stream": "stdout",
       "text": [
        " {'1': 9.729103687920723, '3': 8.999780966924147, '2': 9.5865717425173} {'1': 74.38383659541078, '3': 75.48493210439358, '2': 74.77943595230143} {'1': 0.0, '3': 0.0, '2': 6.289699798918297e-05} {'1': 92.04755373646736, '3': 92.06139865785701, '2': 92.04953641767632} {'1': 24.556098359413287, '3': 22.919193524551996, '2': 24.650245518431653}\n"
       ]
      }
     ],
     "prompt_number": 61
    },
    {
     "cell_type": "code",
     "collapsed": false,
     "input": [
      "id = \"15\"\n",
      "defaultAvgTp[id] = sum([defaultTp[\"1\"], defaultTp[\"2\"], defaultTp[\"3\"]]) / 3\n",
      "print \"Average Default True Positive Percentage: \", defaultAvgTp[id]\n",
      "defaultAvgFp[id] = sum([defaultFp[\"1\"], defaultFp[\"2\"], defaultFp[\"3\"]]) / 3\n",
      "print \"Average Default False Positive Percentage: \", defaultAvgFp[id]\n",
      "uniqueAvgTp[id] = sum([uniqueTp[\"1\"], uniqueTp[\"2\"], uniqueTp[\"3\"]]) / 3\n",
      "print \"Average Unique True Positive Percentage: \", uniqueAvgTp[id]\n",
      "uniqueAvgFp[id] = sum([uniqueFp[\"1\"], uniqueFp[\"2\"], uniqueFp[\"3\"]]) / 3\n",
      "print \"Average Unique False Positive Percentage: \", uniqueAvgFp[id]\n",
      "multimapAvgTp[id] = sum([multimapTp[\"1\"], multimapTp[\"2\"], multimapTp[\"3\"]]) / 3\n",
      "print \"Average Multimap True Positive Percentage: \", multimapAvgTp[id]\n",
      "multimapAvgFp[id] = sum([multimapFp[\"1\"], multimapFp[\"2\"], multimapFp[\"3\"]]) / 3\n",
      "print \"Average Multimap False Positive Percentage: \", multimapAvgFp[id]"
     ],
     "language": "python",
     "metadata": {},
     "outputs": [
      {
       "output_type": "stream",
       "stream": "stdout",
       "text": [
        "Average Default True Positive Percentage:  82.6143651039\n",
        "Average Default False Positive Percentage:  9.43848546579\n",
        "Average Unique True Positive Percentage:  74.882734884\n",
        "Average Unique False Positive Percentage:  2.09656659964e-05\n",
        "Average Multimap True Positive Percentage:  92.052829604\n",
        "Average Multimap False Positive Percentage:  24.0418458008\n"
       ]
      }
     ],
     "prompt_number": 62
    },
    {
     "cell_type": "raw",
     "metadata": {},
     "source": [
      "Random transcriptome with 5000 transcripts, 20% artificial isoforms, single end 100 bp reads, 50x expression"
     ]
    },
    {
     "cell_type": "code",
     "collapsed": false,
     "input": [
      "num = \"185\"\n",
      "rep = \"1\"\n",
      "error = \"1\"\n",
      "r = \"100\"\n",
      "g = \"100\"\n",
      "createDataSet(num,rep)\n",
      "!grep '>' DataSet185rep1E1R100G100.fa | wc -l\n",
      "runBowtieBuild(num,rep,error,r,g)\n",
      "defaultTp = {}\n",
      "defaultFp = {}\n",
      "uniqueTp = {}\n",
      "uniqueFp = {}\n",
      "multimapTp = {}\n",
      "multimapFp = {}\n",
      "runBowtieAllParams(num,rep,error,r,g,num,rep,error,r,g)\n",
      "getTruePositivesAllParams(num,rep,error,r,g,\"random\")\n",
      "defaultTp[rep],defaultFp[rep] = getTpFp(num,rep,error,r,g,\"default\",num,rep,error,r,g)\n",
      "uniqueTp[rep],uniqueFp[rep] = getTpFp(num,rep,error,r,g,\"unique\",num,rep,error,r,g)\n",
      "multimapTp[rep],multimapFp[rep] = getTpFp(num,rep,error,r,g,\"multimap\",num,rep,error,r,g)\n",
      "print defaultTp, defaultFp, uniqueTp, uniqueFp, multimapTp, multimapFp"
     ],
     "language": "python",
     "metadata": {},
     "outputs": [
      {
       "output_type": "stream",
       "stream": "stdout",
       "text": [
        "    5000\r\n"
       ]
      },
      {
       "output_type": "stream",
       "stream": "stdout",
       "text": [
        "{'1': 80.01298192251612}"
       ]
      },
      {
       "output_type": "stream",
       "stream": "stdout",
       "text": [
        " {'1': 12.072623508568382} {'1': 70.57568868471802} {'1': 0.0} {'1': 92.08560543108449} {'1': 32.018406735548204}\n"
       ]
      }
     ],
     "prompt_number": 63
    },
    {
     "cell_type": "code",
     "collapsed": false,
     "input": [
      "num = \"185\"\n",
      "rep = \"2\"\n",
      "error = \"1\"\n",
      "r = \"100\"\n",
      "g = \"100\"\n",
      "createDataSet(num,rep)\n",
      "!grep '>' DataSet185rep2E1R100G100.fa | wc -l\n",
      "runBowtieBuild(num,rep,error,r,g)\n",
      "runBowtieAllParams(num,rep,error,r,g,num,rep,error,r,g)\n",
      "getTruePositivesAllParams(num,rep,error,r,g,\"random\")\n",
      "defaultTp[rep],defaultFp[rep] = getTpFp(num,rep,error,r,g,\"default\",num,rep,error,r,g)\n",
      "uniqueTp[rep],uniqueFp[rep] = getTpFp(num,rep,error,r,g,\"unique\",num,rep,error,r,g)\n",
      "multimapTp[rep],multimapFp[rep] = getTpFp(num,rep,error,r,g,\"multimap\",num,rep,error,r,g)\n",
      "print defaultTp, defaultFp, uniqueTp, uniqueFp, multimapTp, multimapFp"
     ],
     "language": "python",
     "metadata": {},
     "outputs": [
      {
       "output_type": "stream",
       "stream": "stdout",
       "text": [
        "    5000\r\n"
       ]
      },
      {
       "output_type": "stream",
       "stream": "stdout",
       "text": [
        "{'1': 80.01298192251612, '2': 80.20222156923374} {'1': 12.072623508568382, '2': 11.834231832676185} {'1': 70.57568868471802, '2': 71.2609207521659} {'1': 0.0, '2': 0.0} {'1': 92.08560543108449, '2': 92.03642139267077} {'1': 32.018406735548204, '2': 32.08951831856747}\n"
       ]
      }
     ],
     "prompt_number": 64
    },
    {
     "cell_type": "code",
     "collapsed": false,
     "input": [
      "num = \"185\"\n",
      "rep = \"3\"\n",
      "error = \"1\"\n",
      "r = \"100\"\n",
      "g = \"100\"\n",
      "createDataSet(num,rep)\n",
      "!grep '>' DataSet185rep3E1R100G100.fa | wc -l\n",
      "runBowtieBuild(num,rep,error,r,g)\n",
      "runBowtieAllParams(num,rep,error,r,g,num,rep,error,r,g)\n",
      "getTruePositivesAllParams(num,rep,error,r,g,\"random\")\n",
      "defaultTp[rep],defaultFp[rep] = getTpFp(num,rep,error,r,g,\"default\",num,rep,error,r,g)\n",
      "uniqueTp[rep],uniqueFp[rep] = getTpFp(num,rep,error,r,g,\"unique\",num,rep,error,r,g)\n",
      "multimapTp[rep],multimapFp[rep] = getTpFp(num,rep,error,r,g,\"multimap\",num,rep,error,r,g)\n",
      "print defaultTp, defaultFp, uniqueTp, uniqueFp, multimapTp, multimapFp"
     ],
     "language": "python",
     "metadata": {},
     "outputs": [
      {
       "output_type": "stream",
       "stream": "stdout",
       "text": [
        "    5000\r\n"
       ]
      },
      {
       "output_type": "stream",
       "stream": "stdout",
       "text": [
        "{'1': 80.01298192251612, '3': 79.76317389793486, '2': 80.20222156923374}"
       ]
      },
      {
       "output_type": "stream",
       "stream": "stdout",
       "text": [
        " {'1': 12.072623508568382, '3': 12.288026211278792, '2': 11.834231832676185} {'1': 70.57568868471802, '3': 70.42580917394757, '2': 71.2609207521659} {'1': 0.0, '3': 0.0, '2': 0.0} {'1': 92.08560543108449, '3': 92.05120010921365, '2': 92.03642139267077} {'1': 32.018406735548204, '3': 33.04113507744241, '2': 32.08951831856747}\n"
       ]
      }
     ],
     "prompt_number": 65
    },
    {
     "cell_type": "code",
     "collapsed": false,
     "input": [
      "id = \"20\"\n",
      "defaultAvgTp[id] = sum([defaultTp[\"1\"], defaultTp[\"2\"], defaultTp[\"3\"]]) / 3\n",
      "print \"Average Default True Positive Percentage: \", defaultAvgTp[id]\n",
      "defaultAvgFp[id] = sum([defaultFp[\"1\"], defaultFp[\"2\"], defaultFp[\"3\"]]) / 3\n",
      "print \"Average Default False Positive Percentage: \", defaultAvgFp[id]\n",
      "uniqueAvgTp[id] = sum([uniqueTp[\"1\"], uniqueTp[\"2\"], uniqueTp[\"3\"]]) / 3\n",
      "print \"Average Unique True Positive Percentage: \", uniqueAvgTp[id]\n",
      "uniqueAvgFp[id] = sum([uniqueFp[\"1\"], uniqueFp[\"2\"], uniqueFp[\"3\"]]) / 3\n",
      "print \"Average Unique False Positive Percentage: \", uniqueAvgFp[id]\n",
      "multimapAvgTp[id] = sum([multimapTp[\"1\"], multimapTp[\"2\"], multimapTp[\"3\"]]) / 3\n",
      "print \"Average Multimap True Positive Percentage: \", multimapAvgTp[id]\n",
      "multimapAvgFp[id] = sum([multimapFp[\"1\"], multimapFp[\"2\"], multimapFp[\"3\"]]) / 3\n",
      "print \"Average Multimap False Positive Percentage: \", multimapAvgFp[id]"
     ],
     "language": "python",
     "metadata": {},
     "outputs": [
      {
       "output_type": "stream",
       "stream": "stdout",
       "text": [
        "Average Default True Positive Percentage:  79.9927924632\n",
        "Average Default False Positive Percentage:  12.0649605175\n",
        "Average Unique True Positive Percentage:  70.7541395369\n",
        "Average Unique False Positive Percentage:  0.0\n",
        "Average Multimap True Positive Percentage:  92.057742311\n",
        "Average Multimap False Positive Percentage:  32.3830200439\n"
       ]
      }
     ],
     "prompt_number": 66
    },
    {
     "cell_type": "raw",
     "metadata": {},
     "source": [
      "Random transcriptome with 5000 transcripts, 25% artificial isoforms, single end 100 bp reads, 50x expression"
     ]
    },
    {
     "cell_type": "code",
     "collapsed": false,
     "input": [
      "num = \"186\"\n",
      "rep = \"1\"\n",
      "error = \"1\"\n",
      "r = \"100\"\n",
      "g = \"100\"\n",
      "createDataSet(num,rep)\n",
      "!grep '>' DataSet186rep1E1R100G100.fa | wc -l\n",
      "runBowtieBuild(num,rep,error,r,g)\n",
      "defaultTp = {}\n",
      "defaultFp = {}\n",
      "uniqueTp = {}\n",
      "uniqueFp = {}\n",
      "multimapTp = {}\n",
      "multimapFp = {}\n",
      "runBowtieAllParams(num,rep,error,r,g,num,rep,error,r,g)\n",
      "getTruePositivesAllParams(num,rep,error,r,g,\"random\")\n",
      "defaultTp[rep],defaultFp[rep] = getTpFp(num,rep,error,r,g,\"default\",num,rep,error,r,g)\n",
      "uniqueTp[rep],uniqueFp[rep] = getTpFp(num,rep,error,r,g,\"unique\",num,rep,error,r,g)\n",
      "multimapTp[rep],multimapFp[rep] = getTpFp(num,rep,error,r,g,\"multimap\",num,rep,error,r,g)\n",
      "print defaultTp, defaultFp, uniqueTp, uniqueFp, multimapTp, multimapFp"
     ],
     "language": "python",
     "metadata": {},
     "outputs": [
      {
       "output_type": "stream",
       "stream": "stdout",
       "text": [
        "    5000\r\n"
       ]
      },
      {
       "output_type": "stream",
       "stream": "stdout",
       "text": [
        "{'1': 76.74255366631041}"
       ]
      },
      {
       "output_type": "stream",
       "stream": "stdout",
       "text": [
        " {'1': 15.336265220263462} {'1': 65.6608412527554} {'1': 3.17900129766833e-05} {'1': 92.07878709656089} {'1': 44.05768361434645}\n"
       ]
      }
     ],
     "prompt_number": 67
    },
    {
     "cell_type": "code",
     "collapsed": false,
     "input": [
      "num = \"186\"\n",
      "rep = \"2\"\n",
      "error = \"1\"\n",
      "r = \"100\"\n",
      "g = \"100\"\n",
      "createDataSet(num,rep)\n",
      "!grep '>' DataSet186rep2E1R100G100.fa | wc -l\n",
      "runBowtieBuild(num,rep,error,r,g)\n",
      "runBowtieAllParams(num,rep,error,r,g,num,rep,error,r,g)\n",
      "getTruePositivesAllParams(num,rep,error,r,g,\"random\")\n",
      "defaultTp[rep],defaultFp[rep] = getTpFp(num,rep,error,r,g,\"default\",num,rep,error,r,g)\n",
      "uniqueTp[rep],uniqueFp[rep] = getTpFp(num,rep,error,r,g,\"unique\",num,rep,error,r,g)\n",
      "multimapTp[rep],multimapFp[rep] = getTpFp(num,rep,error,r,g,\"multimap\",num,rep,error,r,g)\n",
      "print defaultTp, defaultFp, uniqueTp, uniqueFp, multimapTp, multimapFp"
     ],
     "language": "python",
     "metadata": {},
     "outputs": [
      {
       "output_type": "stream",
       "stream": "stdout",
       "text": [
        "    5000\r\n"
       ]
      },
      {
       "output_type": "stream",
       "stream": "stdout",
       "text": [
        "{'1': 76.74255366631041, '2': 76.9939424493498}"
       ]
      },
      {
       "output_type": "stream",
       "stream": "stdout",
       "text": [
        " {'1': 15.336265220263462, '2': 15.046653580275478} {'1': 65.6608412527554, '2': 66.07871962798782} {'1': 3.17900129766833e-05, '2': 0.0} {'1': 92.07878709656089, '2': 92.04059602962528} {'1': 44.05768361434645, '2': 44.42052274708871}\n"
       ]
      }
     ],
     "prompt_number": 68
    },
    {
     "cell_type": "code",
     "collapsed": false,
     "input": [
      "num = \"186\"\n",
      "rep = \"3\"\n",
      "error = \"1\"\n",
      "r = \"100\"\n",
      "g = \"100\"\n",
      "createDataSet(num,rep)\n",
      "!grep '>' DataSet186rep3E1R100G100.fa | wc -l\n",
      "runBowtieBuild(num,rep,error,r,g)\n",
      "runBowtieAllParams(num,rep,error,r,g,num,rep,error,r,g)\n",
      "getTruePositivesAllParams(num,rep,error,r,g,\"random\")\n",
      "defaultTp[rep],defaultFp[rep] = getTpFp(num,rep,error,r,g,\"default\",num,rep,error,r,g)\n",
      "uniqueTp[rep],uniqueFp[rep] = getTpFp(num,rep,error,r,g,\"unique\",num,rep,error,r,g)\n",
      "multimapTp[rep],multimapFp[rep] = getTpFp(num,rep,error,r,g,\"multimap\",num,rep,error,r,g)\n",
      "print defaultTp, defaultFp, uniqueTp, uniqueFp, multimapTp, multimapFp"
     ],
     "language": "python",
     "metadata": {},
     "outputs": [
      {
       "output_type": "stream",
       "stream": "stdout",
       "text": [
        "    5000\r\n"
       ]
      },
      {
       "output_type": "stream",
       "stream": "stdout",
       "text": [
        "{'1': 76.74255366631041, '3': 76.3626157749685, '2': 76.9939424493498}"
       ]
      },
      {
       "output_type": "stream",
       "stream": "stdout",
       "text": [
        " {'1': 15.336265220263462, '3': 15.700197814596034, '2': 15.046653580275478} {'1': 65.6608412527554, '3': 65.80488298869027, '2': 66.07871962798782} {'1': 3.17900129766833e-05, '3': 0.0, '2': 0.0} {'1': 92.07878709656089, '3': 92.06281358956453, '2': 92.04059602962528} {'1': 44.05768361434645, '3': 50.01009575121087, '2': 44.42052274708871}\n"
       ]
      }
     ],
     "prompt_number": 69
    },
    {
     "cell_type": "code",
     "collapsed": false,
     "input": [
      "id = \"25\"\n",
      "defaultAvgTp[id] = sum([defaultTp[\"1\"], defaultTp[\"2\"], defaultTp[\"3\"]]) / 3\n",
      "print \"Average Default True Positive Percentage: \", defaultAvgTp[id]\n",
      "defaultAvgFp[id] = sum([defaultFp[\"1\"], defaultFp[\"2\"], defaultFp[\"3\"]]) / 3\n",
      "print \"Average Default False Positive Percentage: \", defaultAvgFp[id]\n",
      "uniqueAvgTp[id] = sum([uniqueTp[\"1\"], uniqueTp[\"2\"], uniqueTp[\"3\"]]) / 3\n",
      "print \"Average Unique True Positive Percentage: \", uniqueAvgTp[id]\n",
      "uniqueAvgFp[id] = sum([uniqueFp[\"1\"], uniqueFp[\"2\"], uniqueFp[\"3\"]]) / 3\n",
      "print \"Average Unique False Positive Percentage: \", uniqueAvgFp[id]\n",
      "multimapAvgTp[id] = sum([multimapTp[\"1\"], multimapTp[\"2\"], multimapTp[\"3\"]]) / 3\n",
      "print \"Average Multimap True Positive Percentage: \", multimapAvgTp[id]\n",
      "multimapAvgFp[id] = sum([multimapFp[\"1\"], multimapFp[\"2\"], multimapFp[\"3\"]]) / 3\n",
      "print \"Average Multimap False Positive Percentage: \", multimapAvgFp[id]"
     ],
     "language": "python",
     "metadata": {},
     "outputs": [
      {
       "output_type": "stream",
       "stream": "stdout",
       "text": [
        "Average Default True Positive Percentage:  76.6997039635\n",
        "Average Default False Positive Percentage:  15.3610388717\n",
        "Average Unique True Positive Percentage:  65.8481479565\n",
        "Average Unique False Positive Percentage:  1.05966709922e-05\n",
        "Average Multimap True Positive Percentage:  92.0607322386\n",
        "Average Multimap False Positive Percentage:  46.1627673709\n"
       ]
      }
     ],
     "prompt_number": 70
    },
    {
     "cell_type": "raw",
     "metadata": {},
     "source": [
      "Random transcriptome with 5000 transcripts, 30% artificial isoforms, single end 100 bp reads, 50x expression"
     ]
    },
    {
     "cell_type": "code",
     "collapsed": false,
     "input": [
      "num = \"187\"\n",
      "rep = \"1\"\n",
      "error = \"1\"\n",
      "r = \"100\"\n",
      "g = \"100\"\n",
      "createDataSet(num,rep)\n",
      "!grep '>' DataSet187rep1E1R100G100.fa | wc -l\n",
      "runBowtieBuild(num,rep,error,r,g)\n",
      "defaultTp = {}\n",
      "defaultFp = {}\n",
      "uniqueTp = {}\n",
      "uniqueFp = {}\n",
      "multimapTp = {}\n",
      "multimapFp = {}\n",
      "runBowtieAllParams(num,rep,error,r,g,num,rep,error,r,g)\n",
      "getTruePositivesAllParams(num,rep,error,r,g,\"random\")\n",
      "defaultTp[rep],defaultFp[rep] = getTpFp(num,rep,error,r,g,\"default\",num,rep,error,r,g)\n",
      "uniqueTp[rep],uniqueFp[rep] = getTpFp(num,rep,error,r,g,\"unique\",num,rep,error,r,g)\n",
      "multimapTp[rep],multimapFp[rep] = getTpFp(num,rep,error,r,g,\"multimap\",num,rep,error,r,g)\n",
      "print defaultTp, defaultFp, uniqueTp, uniqueFp, multimapTp, multimapFp"
     ],
     "language": "python",
     "metadata": {},
     "outputs": [
      {
       "output_type": "stream",
       "stream": "stdout",
       "text": [
        "    5000\r\n"
       ]
      },
      {
       "output_type": "stream",
       "stream": "stdout",
       "text": [
        "{'1': 73.90220181228213}"
       ]
      },
      {
       "output_type": "stream",
       "stream": "stdout",
       "text": [
        " {'1': 18.169942889002744} {'1': 62.04950373205549} {'1': 0.0} {'1': 92.07214470128487} {'1': 59.84527415287866}\n"
       ]
      }
     ],
     "prompt_number": 71
    },
    {
     "cell_type": "code",
     "collapsed": false,
     "input": [
      "num = \"187\"\n",
      "rep = \"2\"\n",
      "error = \"1\"\n",
      "r = \"100\"\n",
      "g = \"100\"\n",
      "createDataSet(num,rep)\n",
      "!grep '>' DataSet187rep2E1R100G100.fa | wc -l\n",
      "runBowtieBuild(num,rep,error,r,g)\n",
      "runBowtieAllParams(num,rep,error,r,g,num,rep,error,r,g)\n",
      "getTruePositivesAllParams(num,rep,error,r,g,\"random\")\n",
      "defaultTp[rep],defaultFp[rep] = getTpFp(num,rep,error,r,g,\"default\",num,rep,error,r,g)\n",
      "uniqueTp[rep],uniqueFp[rep] = getTpFp(num,rep,error,r,g,\"unique\",num,rep,error,r,g)\n",
      "multimapTp[rep],multimapFp[rep] = getTpFp(num,rep,error,r,g,\"multimap\",num,rep,error,r,g)\n",
      "print defaultTp, defaultFp, uniqueTp, uniqueFp, multimapTp, multimapFp"
     ],
     "language": "python",
     "metadata": {},
     "outputs": [
      {
       "output_type": "stream",
       "stream": "stdout",
       "text": [
        "    5000\r\n"
       ]
      },
      {
       "output_type": "stream",
       "stream": "stdout",
       "text": [
        "{'1': 73.90220181228213, '2': 73.40379609732565}"
       ]
      },
      {
       "output_type": "stream",
       "stream": "stdout",
       "text": [
        " {'1': 18.169942889002744, '2': 18.64439059536516} {'1': 62.04950373205549, '2': 61.219550263841214} {'1': 0.0, '2': 0.0} {'1': 92.07214470128487, '2': 92.04815516102434} {'1': 59.84527415287866, '2': 64.86744875710053}\n"
       ]
      }
     ],
     "prompt_number": 72
    },
    {
     "cell_type": "code",
     "collapsed": false,
     "input": [
      "num = \"187\"\n",
      "rep = \"3\"\n",
      "error = \"1\"\n",
      "r = \"100\"\n",
      "g = \"100\"\n",
      "createDataSet(num,rep)\n",
      "!grep '>' DataSet187rep3E1R100G100.fa | wc -l\n",
      "runBowtieBuild(num,rep,error,r,g)\n",
      "runBowtieAllParams(num,rep,error,r,g,num,rep,error,r,g)\n",
      "getTruePositivesAllParams(num,rep,error,r,g,\"random\")\n",
      "defaultTp[rep],defaultFp[rep] = getTpFp(num,rep,error,r,g,\"default\",num,rep,error,r,g)\n",
      "uniqueTp[rep],uniqueFp[rep] = getTpFp(num,rep,error,r,g,\"unique\",num,rep,error,r,g)\n",
      "multimapTp[rep],multimapFp[rep] = getTpFp(num,rep,error,r,g,\"multimap\",num,rep,error,r,g)\n",
      "print defaultTp, defaultFp, uniqueTp, uniqueFp, multimapTp, multimapFp"
     ],
     "language": "python",
     "metadata": {},
     "outputs": [
      {
       "output_type": "stream",
       "stream": "stdout",
       "text": [
        "    5000\r\n"
       ]
      },
      {
       "output_type": "stream",
       "stream": "stdout",
       "text": [
        "{'1': 73.90220181228213, '3': 72.71256389237446, '2': 73.40379609732565}"
       ]
      },
      {
       "output_type": "stream",
       "stream": "stdout",
       "text": [
        " {'1': 18.169942889002744, '3': 19.345425004885257, '2': 18.64439059536516} {'1': 62.04950373205549, '3': 59.88698777027135, '2': 61.219550263841214} {'1': 0.0, '3': 6.144974701139156e-05, '2': 0.0} {'1': 92.07214470128487, '3': 92.0579274475127, '2': 92.04815516102434} {'1': 59.84527415287866, '3': 61.79638503428282, '2': 64.86744875710053}\n"
       ]
      }
     ],
     "prompt_number": 73
    },
    {
     "cell_type": "code",
     "collapsed": false,
     "input": [
      "id = \"30\"\n",
      "defaultAvgTp[id] = sum([defaultTp[\"1\"], defaultTp[\"2\"], defaultTp[\"3\"]]) / 3\n",
      "print \"Average Default True Positive Percentage: \", defaultAvgTp[id]\n",
      "defaultAvgFp[id] = sum([defaultFp[\"1\"], defaultFp[\"2\"], defaultFp[\"3\"]]) / 3\n",
      "print \"Average Default False Positive Percentage: \", defaultAvgFp[id]\n",
      "uniqueAvgTp[id] = sum([uniqueTp[\"1\"], uniqueTp[\"2\"], uniqueTp[\"3\"]]) / 3\n",
      "print \"Average Unique True Positive Percentage: \", uniqueAvgTp[id]\n",
      "uniqueAvgFp[id] = sum([uniqueFp[\"1\"], uniqueFp[\"2\"], uniqueFp[\"3\"]]) / 3\n",
      "print \"Average Unique False Positive Percentage: \", uniqueAvgFp[id]\n",
      "multimapAvgTp[id] = sum([multimapTp[\"1\"], multimapTp[\"2\"], multimapTp[\"3\"]]) / 3\n",
      "print \"Average Multimap True Positive Percentage: \", multimapAvgTp[id]\n",
      "multimapAvgFp[id] = sum([multimapFp[\"1\"], multimapFp[\"2\"], multimapFp[\"3\"]]) / 3\n",
      "print \"Average Multimap False Positive Percentage: \", multimapAvgFp[id]"
     ],
     "language": "python",
     "metadata": {},
     "outputs": [
      {
       "output_type": "stream",
       "stream": "stdout",
       "text": [
        "Average Default True Positive Percentage:  73.3395206007\n",
        "Average Default False Positive Percentage:  18.7199194964\n",
        "Average Unique True Positive Percentage:  61.0520139221\n",
        "Average Unique False Positive Percentage:  2.04832490038e-05\n",
        "Average Multimap True Positive Percentage:  92.0594091033\n",
        "Average Multimap False Positive Percentage:  62.1697026481\n"
       ]
      }
     ],
     "prompt_number": 74
    },
    {
     "cell_type": "raw",
     "metadata": {},
     "source": [
      "Random transcriptome with 5000 transcripts, 35% artificial isoforms, single end 100 bp reads, 50x expression"
     ]
    },
    {
     "cell_type": "code",
     "collapsed": false,
     "input": [
      "num = \"188\"\n",
      "rep = \"1\"\n",
      "error = \"1\"\n",
      "r = \"100\"\n",
      "g = \"100\"\n",
      "createDataSet(num,rep)\n",
      "!grep '>' DataSet188rep1E1R100G100.fa | wc -l\n",
      "defaultTp = {}\n",
      "defaultFp = {}\n",
      "uniqueTp = {}\n",
      "uniqueFp = {}\n",
      "multimapTp = {}\n",
      "multimapFp = {}\n",
      "runBowtieBuild(num,rep,error,r,g)\n",
      "runBowtieAllParams(num,rep,error,r,g,num,rep,error,r,g)\n",
      "getTruePositivesAllParams(num,rep,error,r,g,\"random\")\n",
      "defaultTp[rep],defaultFp[rep] = getTpFp(num,rep,error,r,g,\"default\",num,rep,error,r,g)\n",
      "uniqueTp[rep],uniqueFp[rep] = getTpFp(num,rep,error,r,g,\"unique\",num,rep,error,r,g)\n",
      "multimapTp[rep],multimapFp[rep] = getTpFp(num,rep,error,r,g,\"multimap\",num,rep,error,r,g)\n",
      "print defaultTp, defaultFp, uniqueTp, uniqueFp, multimapTp, multimapFp"
     ],
     "language": "python",
     "metadata": {},
     "outputs": [
      {
       "output_type": "stream",
       "stream": "stdout",
       "text": [
        "    5000\r\n"
       ]
      },
      {
       "output_type": "stream",
       "stream": "stdout",
       "text": [
        "{'1': 70.67803767986132}"
       ]
      },
      {
       "output_type": "stream",
       "stream": "stdout",
       "text": [
        " {'1': 21.40479276906218} {'1': 57.17761425145422} {'1': 6.38414484858564e-05} {'1': 92.08276660747501} {'1': 79.83194377100583}\n"
       ]
      }
     ],
     "prompt_number": 75
    },
    {
     "cell_type": "code",
     "collapsed": false,
     "input": [
      "num = \"188\"\n",
      "rep = \"2\"\n",
      "error = \"1\"\n",
      "r = \"100\"\n",
      "g = \"100\"\n",
      "createDataSet(num,rep)\n",
      "!grep '>' DataSet188rep2E1R100G100.fa | wc -l\n",
      "runBowtieBuild(num,rep,error,r,g)\n",
      "runBowtieAllParams(num,rep,error,r,g,num,rep,error,r,g)\n",
      "getTruePositivesAllParams(num,rep,error,r,g,\"random\")\n",
      "defaultTp[rep],defaultFp[rep] = getTpFp(num,rep,error,r,g,\"default\",num,rep,error,r,g)\n",
      "uniqueTp[rep],uniqueFp[rep] = getTpFp(num,rep,error,r,g,\"unique\",num,rep,error,r,g)\n",
      "multimapTp[rep],multimapFp[rep] = getTpFp(num,rep,error,r,g,\"multimap\",num,rep,error,r,g)\n",
      "print defaultTp, defaultFp, uniqueTp, uniqueFp, multimapTp, multimapFp"
     ],
     "language": "python",
     "metadata": {},
     "outputs": [
      {
       "output_type": "stream",
       "stream": "stdout",
       "text": [
        "    5000\r\n"
       ]
      },
      {
       "output_type": "stream",
       "stream": "stdout",
       "text": [
        "{'1': 70.67803767986132, '2': 71.27188028605877}"
       ]
      },
      {
       "output_type": "stream",
       "stream": "stdout",
       "text": [
        " {'1': 21.40479276906218, '2': 20.789008809927306} {'1': 57.17761425145422, '2': 57.772619251280624} {'1': 6.38414484858564e-05, '2': 0.0} {'1': 92.08276660747501, '2': 92.06088909598608} {'1': 79.83194377100583, '2': 70.86230672459926}\n"
       ]
      }
     ],
     "prompt_number": 76
    },
    {
     "cell_type": "code",
     "collapsed": false,
     "input": [
      "num = \"188\"\n",
      "rep = \"3\"\n",
      "error = \"1\"\n",
      "r = \"100\"\n",
      "g = \"100\"\n",
      "createDataSet(num,rep)\n",
      "!grep '>' DataSet188rep3E1R100G100.fa | wc -l\n",
      "runBowtieBuild(num,rep,error,r,g)\n",
      "runBowtieAllParams(num,rep,error,r,g,num,rep,error,r,g)\n",
      "getTruePositivesAllParams(num,rep,error,r,g,\"random\")\n",
      "defaultTp[rep],defaultFp[rep] = getTpFp(num,rep,error,r,g,\"default\",num,rep,error,r,g)\n",
      "uniqueTp[rep],uniqueFp[rep] = getTpFp(num,rep,error,r,g,\"unique\",num,rep,error,r,g)\n",
      "multimapTp[rep],multimapFp[rep] = getTpFp(num,rep,error,r,g,\"multimap\",num,rep,error,r,g)\n",
      "print defaultTp, defaultFp, uniqueTp, uniqueFp, multimapTp, multimapFp"
     ],
     "language": "python",
     "metadata": {},
     "outputs": [
      {
       "output_type": "stream",
       "stream": "stdout",
       "text": [
        "    5000\r\n"
       ]
      },
      {
       "output_type": "stream",
       "stream": "stdout",
       "text": [
        "{'1': 70.67803767986132, '3': 69.58092973846999, '2': 71.27188028605877}"
       ]
      },
      {
       "output_type": "stream",
       "stream": "stdout",
       "text": [
        " {'1': 21.40479276906218, '3': 22.46831116518929, '2': 20.789008809927306} {'1': 57.17761425145422, '3': 55.88041566009725, '2': 57.772619251280624} {'1': 6.38414484858564e-05, '3': 0.0, '2': 0.0} {'1': 92.08276660747501, '3': 92.04924090365928, '2': 92.06088909598608} {'1': 79.83194377100583, '3': 93.78967040995781, '2': 70.86230672459926}\n"
       ]
      }
     ],
     "prompt_number": 77
    },
    {
     "cell_type": "code",
     "collapsed": false,
     "input": [
      "id = \"35\"\n",
      "defaultAvgTp[id] = sum([defaultTp[\"1\"], defaultTp[\"2\"], defaultTp[\"3\"]]) / 3\n",
      "print \"Average Default True Positive Percentage: \", defaultAvgTp[id]\n",
      "defaultAvgFp[id] = sum([defaultFp[\"1\"], defaultFp[\"2\"], defaultFp[\"3\"]]) / 3\n",
      "print \"Average Default False Positive Percentage: \", defaultAvgFp[id]\n",
      "uniqueAvgTp[id] = sum([uniqueTp[\"1\"], uniqueTp[\"2\"], uniqueTp[\"3\"]]) / 3\n",
      "print \"Average Unique True Positive Percentage: \", uniqueAvgTp[id]\n",
      "uniqueAvgFp[id] = sum([uniqueFp[\"1\"], uniqueFp[\"2\"], uniqueFp[\"3\"]]) / 3\n",
      "print \"Average Unique False Positive Percentage: \", uniqueAvgFp[id]\n",
      "multimapAvgTp[id] = sum([multimapTp[\"1\"], multimapTp[\"2\"], multimapTp[\"3\"]]) / 3\n",
      "print \"Average Multimap True Positive Percentage: \", multimapAvgTp[id]\n",
      "multimapAvgFp[id] = sum([multimapFp[\"1\"], multimapFp[\"2\"], multimapFp[\"3\"]]) / 3\n",
      "print \"Average Multimap False Positive Percentage: \", multimapAvgFp[id]"
     ],
     "language": "python",
     "metadata": {},
     "outputs": [
      {
       "output_type": "stream",
       "stream": "stdout",
       "text": [
        "Average Default True Positive Percentage:  70.5102825681\n",
        "Average Default False Positive Percentage:  21.5540375814\n",
        "Average Unique True Positive Percentage:  56.9435497209\n",
        "Average Unique False Positive Percentage:  2.12804828286e-05\n",
        "Average Multimap True Positive Percentage:  92.064298869\n",
        "Average Multimap False Positive Percentage:  81.4946403019\n"
       ]
      }
     ],
     "prompt_number": 78
    },
    {
     "cell_type": "raw",
     "metadata": {},
     "source": [
      "Random transcriptome with 5000 transcripts, 40% artificial isoforms, single end 100 bp reads, 50x expression"
     ]
    },
    {
     "cell_type": "code",
     "collapsed": false,
     "input": [
      "num = \"189\"\n",
      "rep = \"1\"\n",
      "error = \"1\"\n",
      "r = \"100\"\n",
      "g = \"100\"\n",
      "createDataSet(num,rep)\n",
      "!grep '>' DataSet189rep1E1R100G100.fa | wc -l\n",
      "defaultTp = {}\n",
      "defaultFp = {}\n",
      "uniqueTp = {}\n",
      "uniqueFp = {}\n",
      "multimapTp = {}\n",
      "multimapFp = {}\n",
      "runBowtieBuild(num,rep,error,r,g)\n",
      "runBowtieAllParams(num,rep,error,r,g,num,rep,error,r,g)\n",
      "getTruePositivesAllParams(num,rep,error,r,g,\"random\")\n",
      "defaultTp[rep],defaultFp[rep] = getTpFp(num,rep,error,r,g,\"default\",num,rep,error,r,g)\n",
      "uniqueTp[rep],uniqueFp[rep] = getTpFp(num,rep,error,r,g,\"unique\",num,rep,error,r,g)\n",
      "multimapTp[rep],multimapFp[rep] = getTpFp(num,rep,error,r,g,\"multimap\",num,rep,error,r,g)\n",
      "print defaultTp, defaultFp, uniqueTp, uniqueFp, multimapTp, multimapFp"
     ],
     "language": "python",
     "metadata": {},
     "outputs": [
      {
       "output_type": "stream",
       "stream": "stdout",
       "text": [
        "    5000\r\n"
       ]
      },
      {
       "output_type": "stream",
       "stream": "stdout",
       "text": [
        "{'1': 66.28415567163968} {'1': 25.752617007915163} {'1': 52.348122254522224} {'1': 3.147806844276422e-05} {'1': 92.0367412014864} {'1': 125.07694026879123}\n"
       ]
      }
     ],
     "prompt_number": 79
    },
    {
     "cell_type": "code",
     "collapsed": false,
     "input": [
      "num = \"189\"\n",
      "rep = \"2\"\n",
      "error = \"1\"\n",
      "r = \"100\"\n",
      "g = \"100\"\n",
      "createDataSet(num,rep)\n",
      "!grep '>' DataSet189rep2E1R100G100.fa | wc -l\n",
      "runBowtieBuild(num,rep,error,r,g)\n",
      "runBowtieAllParams(num,rep,error,r,g,num,rep,error,r,g)\n",
      "getTruePositivesAllParams(num,rep,error,r,g,\"random\")\n",
      "defaultTp[rep],defaultFp[rep] = getTpFp(num,rep,error,r,g,\"default\",num,rep,error,r,g)\n",
      "uniqueTp[rep],uniqueFp[rep] = getTpFp(num,rep,error,r,g,\"unique\",num,rep,error,r,g)\n",
      "multimapTp[rep],multimapFp[rep] = getTpFp(num,rep,error,r,g,\"multimap\",num,rep,error,r,g)\n",
      "print defaultTp, defaultFp, uniqueTp, uniqueFp, multimapTp, multimapFp"
     ],
     "language": "python",
     "metadata": {},
     "outputs": [
      {
       "output_type": "stream",
       "stream": "stdout",
       "text": [
        "    5000\r\n"
       ]
      },
      {
       "output_type": "stream",
       "stream": "stdout",
       "text": [
        "{'1': 66.28415567163968, '2': 66.97531009146277}"
       ]
      },
      {
       "output_type": "stream",
       "stream": "stdout",
       "text": [
        " {'1': 25.752617007915163, '2': 25.10074430717566} {'1': 52.348122254522224, '2': 52.73892078746967} {'1': 3.147806844276422e-05, '2': 0.0} {'1': 92.0367412014864, '2': 92.07602308970915} {'1': 125.07694026879123, '2': 112.18014406490717}\n"
       ]
      }
     ],
     "prompt_number": 80
    },
    {
     "cell_type": "code",
     "collapsed": false,
     "input": [
      "num = \"189\"\n",
      "rep = \"3\"\n",
      "error = \"1\"\n",
      "r = \"100\"\n",
      "g = \"100\"\n",
      "createDataSet(num,rep)\n",
      "!grep '>' DataSet189rep3E1R100G100.fa | wc -l\n",
      "runBowtieBuild(num,rep,error,r,g)\n",
      "runBowtieAllParams(num,rep,error,r,g,num,rep,error,r,g)\n",
      "getTruePositivesAllParams(num,rep,error,r,g,\"random\")\n",
      "defaultTp[rep],defaultFp[rep] = getTpFp(num,rep,error,r,g,\"default\",num,rep,error,r,g)\n",
      "uniqueTp[rep],uniqueFp[rep] = getTpFp(num,rep,error,r,g,\"unique\",num,rep,error,r,g)\n",
      "multimapTp[rep],multimapFp[rep] = getTpFp(num,rep,error,r,g,\"multimap\",num,rep,error,r,g)\n",
      "print defaultTp, defaultFp, uniqueTp, uniqueFp, multimapTp, multimapFp"
     ],
     "language": "python",
     "metadata": {},
     "outputs": [
      {
       "output_type": "stream",
       "stream": "stdout",
       "text": [
        "    5000\r\n"
       ]
      },
      {
       "output_type": "stream",
       "stream": "stdout",
       "text": [
        "{'1': 66.28415567163968, '3': 67.56233514805817, '2': 66.97531009146277}"
       ]
      },
      {
       "output_type": "stream",
       "stream": "stdout",
       "text": [
        " {'1': 25.752617007915163, '3': 24.516326026792097, '2': 25.10074430717566} {'1': 52.348122254522224, '3': 53.15197840892005, '2': 52.73892078746967} {'1': 3.147806844276422e-05, '3': 6.187264999941221e-05, '2': 0.0} {'1': 92.0367412014864, '3': 92.07856836587526, '2': 92.07602308970915} {'1': 125.07694026879123, '3': 109.85751966158135, '2': 112.18014406490717}\n"
       ]
      }
     ],
     "prompt_number": 81
    },
    {
     "cell_type": "code",
     "collapsed": false,
     "input": [
      "id = \"40\"\n",
      "defaultAvgTp[id] = sum([defaultTp[\"1\"], defaultTp[\"2\"], defaultTp[\"3\"]]) / 3\n",
      "print \"Average Default True Positive Percentage: \", defaultAvgTp[id]\n",
      "defaultAvgFp[id] = sum([defaultFp[\"1\"], defaultFp[\"2\"], defaultFp[\"3\"]]) / 3\n",
      "print \"Average Default False Positive Percentage: \", defaultAvgFp[id]\n",
      "uniqueAvgTp[id] = sum([uniqueTp[\"1\"], uniqueTp[\"2\"], uniqueTp[\"3\"]]) / 3\n",
      "print \"Average Unique True Positive Percentage: \", uniqueAvgTp[id]\n",
      "uniqueAvgFp[id] = sum([uniqueFp[\"1\"], uniqueFp[\"2\"], uniqueFp[\"3\"]]) / 3\n",
      "print \"Average Unique False Positive Percentage: \", uniqueAvgFp[id]\n",
      "multimapAvgTp[id] = sum([multimapTp[\"1\"], multimapTp[\"2\"], multimapTp[\"3\"]]) / 3\n",
      "print \"Average Multimap True Positive Percentage: \", multimapAvgTp[id]\n",
      "multimapAvgFp[id] = sum([multimapFp[\"1\"], multimapFp[\"2\"], multimapFp[\"3\"]]) / 3\n",
      "print \"Average Multimap False Positive Percentage: \", multimapAvgFp[id]"
     ],
     "language": "python",
     "metadata": {},
     "outputs": [
      {
       "output_type": "stream",
       "stream": "stdout",
       "text": [
        "Average Default True Positive Percentage:  66.9406003037\n",
        "Average Default False Positive Percentage:  25.123229114\n",
        "Average Unique True Positive Percentage:  52.7463404836\n",
        "Average Unique False Positive Percentage:  3.11169061474e-05\n",
        "Average Multimap True Positive Percentage:  92.0637775524\n",
        "Average Multimap False Positive Percentage:  115.704867998\n"
       ]
      }
     ],
     "prompt_number": 82
    },
    {
     "cell_type": "raw",
     "metadata": {},
     "source": [
      "Random transcriptome with 5000 transcripts, 45% artificial isoforms, single end 100 bp reads, 50x expression"
     ]
    },
    {
     "cell_type": "code",
     "collapsed": false,
     "input": [
      "num = \"190\"\n",
      "rep = \"1\"\n",
      "error = \"1\"\n",
      "r = \"100\"\n",
      "g = \"100\"\n",
      "createDataSet(num,rep)\n",
      "!grep '>' DataSet190rep1E1R100G100.fa | wc -l\n",
      "defaultTp = {}\n",
      "defaultFp = {}\n",
      "uniqueTp = {}\n",
      "uniqueFp = {}\n",
      "multimapTp = {}\n",
      "multimapFp = {}\n",
      "runBowtieBuild(num,rep,error,r,g)\n",
      "runBowtieAllParams(num,rep,error,r,g,num,rep,error,r,g)\n",
      "getTruePositivesAllParams(num,rep,error,r,g,\"random\")\n",
      "defaultTp[rep],defaultFp[rep] = getTpFp(num,rep,error,r,g,\"default\",num,rep,error,r,g)\n",
      "uniqueTp[rep],uniqueFp[rep] = getTpFp(num,rep,error,r,g,\"unique\",num,rep,error,r,g)\n",
      "multimapTp[rep],multimapFp[rep] = getTpFp(num,rep,error,r,g,\"multimap\",num,rep,error,r,g)\n",
      "print defaultTp, defaultFp, uniqueTp, uniqueFp, multimapTp, multimapFp"
     ],
     "language": "python",
     "metadata": {},
     "outputs": [
      {
       "output_type": "stream",
       "stream": "stdout",
       "text": [
        "    5000\r\n"
       ]
      },
      {
       "output_type": "stream",
       "stream": "stdout",
       "text": [
        "{'1': 62.06646099993207} {'1': 30.000679237295497} {'1': 46.91646802924828} {'1': 9.477729704626553e-05} {'1': 92.06701386749818} {'1': 171.22583376378023}\n"
       ]
      }
     ],
     "prompt_number": 4
    },
    {
     "cell_type": "code",
     "collapsed": false,
     "input": [
      "num = \"190\"\n",
      "rep = \"2\"\n",
      "error = \"1\"\n",
      "r = \"100\"\n",
      "g = \"100\"\n",
      "createDataSet(num,rep)\n",
      "!grep '>' DataSet190rep2E1R100G100.fa | wc -l\n",
      "runBowtieBuild(num,rep,error,r,g)\n",
      "runBowtieAllParams(num,rep,error,r,g,num,rep,error,r,g)\n",
      "getTruePositivesAllParams(num,rep,error,r,g,\"random\")\n",
      "defaultTp[rep],defaultFp[rep] = getTpFp(num,rep,error,r,g,\"default\",num,rep,error,r,g)\n",
      "uniqueTp[rep],uniqueFp[rep] = getTpFp(num,rep,error,r,g,\"unique\",num,rep,error,r,g)\n",
      "multimapTp[rep],multimapFp[rep] = getTpFp(num,rep,error,r,g,\"multimap\",num,rep,error,r,g)\n",
      "print defaultTp, defaultFp, uniqueTp, uniqueFp, multimapTp, multimapFp"
     ],
     "language": "python",
     "metadata": {},
     "outputs": [
      {
       "output_type": "stream",
       "stream": "stdout",
       "text": [
        "    5000\r\n"
       ]
      },
      {
       "output_type": "stream",
       "stream": "stdout",
       "text": [
        "{'1': 62.06646099993207, '2': 64.6619350944631}"
       ]
      },
      {
       "output_type": "stream",
       "stream": "stdout",
       "text": [
        " {'1': 30.000679237295497, '2': 27.402167318688303} {'1': 46.91646802924828, '2': 49.934405363081964} {'1': 9.477729704626553e-05, '2': 6.196942552483456e-05} {'1': 92.06701386749818, '2': 92.06388552016206} {'1': 171.22583376378023, '2': 163.560056739206}\n"
       ]
      }
     ],
     "prompt_number": 5
    },
    {
     "cell_type": "code",
     "collapsed": false,
     "input": [
      "num = \"190\"\n",
      "rep = \"3\"\n",
      "error = \"1\"\n",
      "r = \"100\"\n",
      "g = \"100\"\n",
      "createDataSet(num,rep)\n",
      "!grep '>' DataSet190rep3E1R100G100.fa | wc -l\n",
      "runBowtieBuild(num,rep,error,r,g)\n",
      "runBowtieAllParams(num,rep,error,r,g,num,rep,error,r,g)\n",
      "getTruePositivesAllParams(num,rep,error,r,g,\"random\")\n",
      "defaultTp[rep],defaultFp[rep] = getTpFp(num,rep,error,r,g,\"default\",num,rep,error,r,g)\n",
      "uniqueTp[rep],uniqueFp[rep] = getTpFp(num,rep,error,r,g,\"unique\",num,rep,error,r,g)\n",
      "multimapTp[rep],multimapFp[rep] = getTpFp(num,rep,error,r,g,\"multimap\",num,rep,error,r,g)\n",
      "print defaultTp, defaultFp, uniqueTp, uniqueFp, multimapTp, multimapFp"
     ],
     "language": "python",
     "metadata": {},
     "outputs": [
      {
       "output_type": "stream",
       "stream": "stdout",
       "text": [
        "    5000\r\n"
       ]
      },
      {
       "output_type": "stream",
       "stream": "stdout",
       "text": [
        "{'1': 62.06646099993207, '3': 64.10272509766072, '2': 64.6619350944631}"
       ]
      },
      {
       "output_type": "stream",
       "stream": "stdout",
       "text": [
        " {'1': 30.000679237295497, '3': 27.967675809011887, '2': 27.402167318688303} {'1': 46.91646802924828, '3': 49.18490650096501, '2': 49.934405363081964} {'1': 9.477729704626553e-05, '3': 9.465540856271756e-05, '2': 6.196942552483456e-05} {'1': 92.06701386749818, '3': 92.07030625126404, '2': 92.06388552016206} {'1': 171.22583376378023, '3': 137.91062699427115, '2': 163.560056739206}\n"
       ]
      }
     ],
     "prompt_number": 6
    },
    {
     "cell_type": "code",
     "collapsed": false,
     "input": [
      "id = \"45\"\n",
      "defaultAvgTp[id] = sum([defaultTp[\"1\"], defaultTp[\"2\"], defaultTp[\"3\"]]) / 3\n",
      "print \"Average Default True Positive Percentage: \", defaultAvgTp[id]\n",
      "defaultAvgFp[id] = sum([defaultFp[\"1\"], defaultFp[\"2\"], defaultFp[\"3\"]]) / 3\n",
      "print \"Average Default False Positive Percentage: \", defaultAvgFp[id]\n",
      "uniqueAvgTp[id] = sum([uniqueTp[\"1\"], uniqueTp[\"2\"], uniqueTp[\"3\"]]) / 3\n",
      "print \"Average Unique True Positive Percentage: \", uniqueAvgTp[id]\n",
      "uniqueAvgFp[id] = sum([uniqueFp[\"1\"], uniqueFp[\"2\"], uniqueFp[\"3\"]]) / 3\n",
      "print \"Average Unique False Positive Percentage: \", uniqueAvgFp[id]\n",
      "multimapAvgTp[id] = sum([multimapTp[\"1\"], multimapTp[\"2\"], multimapTp[\"3\"]]) / 3\n",
      "print \"Average Multimap True Positive Percentage: \", multimapAvgTp[id]\n",
      "multimapAvgFp[id] = sum([multimapFp[\"1\"], multimapFp[\"2\"], multimapFp[\"3\"]]) / 3\n",
      "print \"Average Multimap False Positive Percentage: \", multimapAvgFp[id]"
     ],
     "language": "python",
     "metadata": {},
     "outputs": [
      {
       "output_type": "stream",
       "stream": "stdout",
       "text": [
        "Average Default True Positive Percentage:  63.6103737307\n",
        "Average Default False Positive Percentage:  28.4568407883\n",
        "Average Unique True Positive Percentage:  48.6785932978\n",
        "Average Unique False Positive Percentage:  8.38007103779e-05\n",
        "Average Multimap True Positive Percentage:  92.0670685463\n",
        "Average Multimap False Positive Percentage:  157.565505832\n"
       ]
      }
     ],
     "prompt_number": 9
    },
    {
     "cell_type": "raw",
     "metadata": {},
     "source": [
      "Random transcriptome with 5000 transcripts, 50% artificial isoforms, single end 100 bp reads, 50x expression"
     ]
    },
    {
     "cell_type": "code",
     "collapsed": false,
     "input": [
      "num = \"191\"\n",
      "rep = \"1\"\n",
      "error = \"1\"\n",
      "r = \"100\"\n",
      "g = \"100\"\n",
      "createDataSet(num,rep)\n",
      "!grep '>' DataSet191rep1E1R100G100.fa | wc -l\n",
      "defaultTp = {}\n",
      "defaultFp = {}\n",
      "uniqueTp = {}\n",
      "uniqueFp = {}\n",
      "multimapTp = {}\n",
      "multimapFp = {}\n",
      "runBowtieBuild(num,rep,error,r,g)\n",
      "runBowtieAllParams(num,rep,error,r,g,num,rep,error,r,g)\n",
      "getTruePositivesAllParams(num,rep,error,r,g,\"random\")\n",
      "defaultTp[rep],defaultFp[rep] = getTpFp(num,rep,error,r,g,\"default\",num,rep,error,r,g)\n",
      "uniqueTp[rep],uniqueFp[rep] = getTpFp(num,rep,error,r,g,\"unique\",num,rep,error,r,g)\n",
      "multimapTp[rep],multimapFp[rep] = getTpFp(num,rep,error,r,g,\"multimap\",num,rep,error,r,g)\n",
      "print defaultTp, defaultFp, uniqueTp, uniqueFp, multimapTp, multimapFp"
     ],
     "language": "python",
     "metadata": {},
     "outputs": [
      {
       "output_type": "stream",
       "stream": "stdout",
       "text": [
        "    5000\r\n"
       ]
      },
      {
       "output_type": "stream",
       "stream": "stdout",
       "text": [
        "{'1': 61.44534660077552}"
       ]
      },
      {
       "output_type": "stream",
       "stream": "stdout",
       "text": [
        " {'1': 30.606370669896837} {'1': 45.9181406223469} {'1': 6.312218751203267e-05} {'1': 92.0516225873911} {'1': 163.86516722014304}\n"
       ]
      }
     ],
     "prompt_number": 4
    },
    {
     "cell_type": "code",
     "collapsed": false,
     "input": [
      "num = \"191\"\n",
      "rep = \"2\"\n",
      "error = \"1\"\n",
      "r = \"100\"\n",
      "g = \"100\"\n",
      "createDataSet(num,rep)\n",
      "!grep '>' DataSet191rep2E1R100G100.fa | wc -l\n",
      "runBowtieBuild(num,rep,error,r,g)\n",
      "runBowtieAllParams(num,rep,error,r,g,num,rep,error,r,g)\n",
      "getTruePositivesAllParams(num,rep,error,r,g,\"random\")\n",
      "defaultTp[rep],defaultFp[rep] = getTpFp(num,rep,error,r,g,\"default\",num,rep,error,r,g)\n",
      "uniqueTp[rep],uniqueFp[rep] = getTpFp(num,rep,error,r,g,\"unique\",num,rep,error,r,g)\n",
      "multimapTp[rep],multimapFp[rep] = getTpFp(num,rep,error,r,g,\"multimap\",num,rep,error,r,g)\n",
      "print defaultTp, defaultFp, uniqueTp, uniqueFp, multimapTp, multimapFp"
     ],
     "language": "python",
     "metadata": {},
     "outputs": [
      {
       "output_type": "stream",
       "stream": "stdout",
       "text": [
        "    5000\r\n"
       ]
      },
      {
       "output_type": "stream",
       "stream": "stdout",
       "text": [
        "{'1': 61.44534660077552, '2': 61.140992039991694}"
       ]
      },
      {
       "output_type": "stream",
       "stream": "stdout",
       "text": [
        " {'1': 30.606370669896837, '2': 30.90978390213571} {'1': 45.9181406223469, '2': 45.77830541856135} {'1': 6.312218751203267e-05, '2': 9.243642068924293e-05} {'1': 92.0516225873911, '2': 92.05065269356648} {'1': 163.86516722014304, '2': 163.39437629141383}\n"
       ]
      }
     ],
     "prompt_number": 5
    },
    {
     "cell_type": "code",
     "collapsed": false,
     "input": [
      "num = \"191\"\n",
      "rep = \"3\"\n",
      "error = \"1\"\n",
      "r = \"100\"\n",
      "g = \"100\"\n",
      "createDataSet(num,rep)\n",
      "!grep '>' DataSet191rep3E1R100G100.fa | wc -l\n",
      "runBowtieBuild(num,rep,error,r,g)\n",
      "runBowtieAllParams(num,rep,error,r,g,num,rep,error,r,g)\n",
      "getTruePositivesAllParams(num,rep,error,r,g,\"random\")\n",
      "defaultTp[rep],defaultFp[rep] = getTpFp(num,rep,error,r,g,\"default\",num,rep,error,r,g)\n",
      "uniqueTp[rep],uniqueFp[rep] = getTpFp(num,rep,error,r,g,\"unique\",num,rep,error,r,g)\n",
      "multimapTp[rep],multimapFp[rep] = getTpFp(num,rep,error,r,g,\"multimap\",num,rep,error,r,g)\n",
      "print defaultTp, defaultFp, uniqueTp, uniqueFp, multimapTp, multimapFp"
     ],
     "language": "python",
     "metadata": {},
     "outputs": [
      {
       "output_type": "stream",
       "stream": "stdout",
       "text": [
        "    5000\r\n"
       ]
      },
      {
       "output_type": "stream",
       "stream": "stdout",
       "text": [
        "{'1': 61.44534660077552, '3': 60.468883080312544, '2': 61.140992039991694}"
       ]
      },
      {
       "output_type": "stream",
       "stream": "stdout",
       "text": [
        " {'1': 30.606370669896837, '3': 31.59306123252105, '2': 30.90978390213571} {'1': 45.9181406223469, '3': 45.407599962395906, '2': 45.77830541856135} {'1': 6.312218751203267e-05, '3': 9.369790981826041e-05, '2': 9.243642068924293e-05} {'1': 92.0516225873911, '3': 92.06185061492377, '2': 92.05065269356648} {'1': 163.86516722014304, '3': 248.60669646468415, '2': 163.39437629141383}\n"
       ]
      }
     ],
     "prompt_number": 6
    },
    {
     "cell_type": "code",
     "collapsed": false,
     "input": [
      "id = \"50\"\n",
      "defaultAvgTp[id] = sum([defaultTp[\"1\"], defaultTp[\"2\"], defaultTp[\"3\"]]) / 3\n",
      "print \"Average Default True Positive Percentage: \", defaultAvgTp[id]\n",
      "defaultAvgFp[id] = sum([defaultFp[\"1\"], defaultFp[\"2\"], defaultFp[\"3\"]]) / 3\n",
      "print \"Average Default False Positive Percentage: \", defaultAvgFp[id]\n",
      "uniqueAvgTp[id] = sum([uniqueTp[\"1\"], uniqueTp[\"2\"], uniqueTp[\"3\"]]) / 3\n",
      "print \"Average Unique True Positive Percentage: \", uniqueAvgTp[id]\n",
      "uniqueAvgFp[id] = sum([uniqueFp[\"1\"], uniqueFp[\"2\"], uniqueFp[\"3\"]]) / 3\n",
      "print \"Average Unique False Positive Percentage: \", uniqueAvgFp[id]\n",
      "multimapAvgTp[id] = sum([multimapTp[\"1\"], multimapTp[\"2\"], multimapTp[\"3\"]]) / 3\n",
      "print \"Average Multimap True Positive Percentage: \", multimapAvgTp[id]\n",
      "multimapAvgFp[id] = sum([multimapFp[\"1\"], multimapFp[\"2\"], multimapFp[\"3\"]]) / 3\n",
      "print \"Average Multimap False Positive Percentage: \", multimapAvgFp[id]"
     ],
     "language": "python",
     "metadata": {},
     "outputs": [
      {
       "output_type": "stream",
       "stream": "stdout",
       "text": [
        "Average Default True Positive Percentage:  61.0184072404\n",
        "Average Default False Positive Percentage:  31.0364052682\n",
        "Average Unique True Positive Percentage:  45.7013486678\n",
        "Average Unique False Positive Percentage:  8.30855060065e-05\n",
        "Average Multimap True Positive Percentage:  92.054708632\n",
        "Average Multimap False Positive Percentage:  191.955413325\n"
       ]
      }
     ],
     "prompt_number": 9
    },
    {
     "cell_type": "raw",
     "metadata": {},
     "source": [
      "Random transcriptome with 5000 transcripts, 55% artificial isoforms, single end 100 bp reads, 50x expression"
     ]
    },
    {
     "cell_type": "code",
     "collapsed": false,
     "input": [
      "num = \"192\"\n",
      "rep = \"1\"\n",
      "error = \"1\"\n",
      "r = \"100\"\n",
      "g = \"100\"\n",
      "createDataSet(num,rep)\n",
      "!grep '>' DataSet192rep1E1R100G100.fa | wc -l\n",
      "defaultTp = {}\n",
      "defaultFp = {}\n",
      "uniqueTp = {}\n",
      "uniqueFp = {}\n",
      "multimapTp = {}\n",
      "multimapFp = {}\n",
      "runBowtieBuild(num,rep,error,r,g)\n",
      "runBowtieAllParams(num,rep,error,r,g,num,rep,error,r,g)\n",
      "getTruePositivesAllParams(num,rep,error,r,g,\"random\")\n",
      "defaultTp[rep],defaultFp[rep] = getTpFp(num,rep,error,r,g,\"default\",num,rep,error,r,g)\n",
      "uniqueTp[rep],uniqueFp[rep] = getTpFp(num,rep,error,r,g,\"unique\",num,rep,error,r,g)\n",
      "multimapTp[rep],multimapFp[rep] = getTpFp(num,rep,error,r,g,\"multimap\",num,rep,error,r,g)\n",
      "print defaultTp, defaultFp, uniqueTp, uniqueFp, multimapTp, multimapFp"
     ],
     "language": "python",
     "metadata": {},
     "outputs": [
      {
       "output_type": "stream",
       "stream": "stdout",
       "text": [
        "    5000\r\n"
       ]
      },
      {
       "output_type": "stream",
       "stream": "stdout",
       "text": [
        "{'1': 56.62676819284228}"
       ]
      },
      {
       "output_type": "stream",
       "stream": "stdout",
       "text": [
        " {'1': 35.45105075898408} {'1': 41.323266894013074} {'1': 9.233382988415182e-05} {'1': 92.07766506210989} {'1': 368.512471222623}\n"
       ]
      }
     ],
     "prompt_number": 12
    },
    {
     "cell_type": "code",
     "collapsed": false,
     "input": [
      "num = \"192\"\n",
      "rep = \"2\"\n",
      "error = \"1\"\n",
      "r = \"100\"\n",
      "g = \"100\"\n",
      "createDataSet(num,rep)\n",
      "!grep '>' DataSet192rep2E1R100G100.fa | wc -l\n",
      "runBowtieBuild(num,rep,error,r,g)\n",
      "runBowtieAllParams(num,rep,error,r,g,num,rep,error,r,g)\n",
      "getTruePositivesAllParams(num,rep,error,r,g,\"random\")\n",
      "defaultTp[rep],defaultFp[rep] = getTpFp(num,rep,error,r,g,\"default\",num,rep,error,r,g)\n",
      "uniqueTp[rep],uniqueFp[rep] = getTpFp(num,rep,error,r,g,\"unique\",num,rep,error,r,g)\n",
      "multimapTp[rep],multimapFp[rep] = getTpFp(num,rep,error,r,g,\"multimap\",num,rep,error,r,g)\n",
      "print defaultTp, defaultFp, uniqueTp, uniqueFp, multimapTp, multimapFp"
     ],
     "language": "python",
     "metadata": {},
     "outputs": [
      {
       "output_type": "stream",
       "stream": "stdout",
       "text": [
        "    5000\r\n"
       ]
      },
      {
       "output_type": "stream",
       "stream": "stdout",
       "text": [
        "{'1': 56.62676819284228, '2': 58.198909929990975}"
       ]
      },
      {
       "output_type": "stream",
       "stream": "stdout",
       "text": [
        " {'1': 35.45105075898408, '2': 33.86868529607957} {'1': 41.323266894013074, '2': 42.52288805264537} {'1': 9.233382988415182e-05, '2': 6.32878546809596e-05} {'1': 92.07766506210989, '2': 92.06750029428854} {'1': 368.512471222623, '2': 232.62558525443615}\n"
       ]
      }
     ],
     "prompt_number": 13
    },
    {
     "cell_type": "code",
     "collapsed": false,
     "input": [
      "num = \"192\"\n",
      "rep = \"3\"\n",
      "error = \"1\"\n",
      "r = \"100\"\n",
      "g = \"100\"\n",
      "createDataSet(num,rep)\n",
      "!grep '>' DataSet192rep3E1R100G100.fa | wc -l\n",
      "runBowtieBuild(num,rep,error,r,g)\n",
      "runBowtieAllParams(num,rep,error,r,g,num,rep,error,r,g)\n",
      "getTruePositivesAllParams(num,rep,error,r,g,\"random\")\n",
      "defaultTp[rep],defaultFp[rep] = getTpFp(num,rep,error,r,g,\"default\",num,rep,error,r,g)\n",
      "uniqueTp[rep],uniqueFp[rep] = getTpFp(num,rep,error,r,g,\"unique\",num,rep,error,r,g)\n",
      "multimapTp[rep],multimapFp[rep] = getTpFp(num,rep,error,r,g,\"multimap\",num,rep,error,r,g)\n",
      "print defaultTp, defaultFp, uniqueTp, uniqueFp, multimapTp, multimapFp"
     ],
     "language": "python",
     "metadata": {},
     "outputs": [
      {
       "output_type": "stream",
       "stream": "stdout",
       "text": [
        "    5000\r\n"
       ]
      },
      {
       "output_type": "stream",
       "stream": "stdout",
       "text": [
        "{'1': 56.62676819284228, '3': 57.338168734820314, '2': 58.198909929990975}"
       ]
      },
      {
       "output_type": "stream",
       "stream": "stdout",
       "text": [
        " {'1': 35.45105075898408, '3': 34.71270844758903, '2': 33.86868529607957} {'1': 41.323266894013074, '3': 41.64510121799083, '2': 42.52288805264537} {'1': 9.233382988415182e-05, '3': 3.0133370296934233e-05, '2': 6.32878546809596e-05} {'1': 92.07766506210989, '3': 92.05075664892816, '2': 92.06750029428854} {'1': 368.512471222623, '3': 309.894864671034, '2': 232.62558525443615}\n"
       ]
      }
     ],
     "prompt_number": 14
    },
    {
     "cell_type": "code",
     "collapsed": false,
     "input": [
      "id = \"55\"\n",
      "defaultAvgTp[id] = sum([defaultTp[\"1\"], defaultTp[\"2\"], defaultTp[\"3\"]]) / 3\n",
      "print \"Average Default True Positive Percentage: \", defaultAvgTp[id]\n",
      "defaultAvgFp[id] = sum([defaultFp[\"1\"], defaultFp[\"2\"], defaultFp[\"3\"]]) / 3\n",
      "print \"Average Default False Positive Percentage: \", defaultAvgFp[id]\n",
      "uniqueAvgTp[id] = sum([uniqueTp[\"1\"], uniqueTp[\"2\"], uniqueTp[\"3\"]]) / 3\n",
      "print \"Average Unique True Positive Percentage: \", uniqueAvgTp[id]\n",
      "uniqueAvgFp[id] = sum([uniqueFp[\"1\"], uniqueFp[\"2\"], uniqueFp[\"3\"]]) / 3\n",
      "print \"Average Unique False Positive Percentage: \", uniqueAvgFp[id]\n",
      "multimapAvgTp[id] = sum([multimapTp[\"1\"], multimapTp[\"2\"], multimapTp[\"3\"]]) / 3\n",
      "print \"Average Multimap True Positive Percentage: \", multimapAvgTp[id]\n",
      "multimapAvgFp[id] = sum([multimapFp[\"1\"], multimapFp[\"2\"], multimapFp[\"3\"]]) / 3\n",
      "print \"Average Multimap False Positive Percentage: \", multimapAvgFp[id]"
     ],
     "language": "python",
     "metadata": {},
     "outputs": [
      {
       "output_type": "stream",
       "stream": "stdout",
       "text": [
        "Average Default True Positive Percentage:  57.3879489526\n",
        "Average Default False Positive Percentage:  34.6774815009\n",
        "Average Unique True Positive Percentage:  41.8304187215\n",
        "Average Unique False Positive Percentage:  6.19183516207e-05\n",
        "Average Multimap True Positive Percentage:  92.0653073351\n",
        "Average Multimap False Positive Percentage:  303.677640383\n"
       ]
      }
     ],
     "prompt_number": 15
    },
    {
     "cell_type": "raw",
     "metadata": {},
     "source": [
      "Random transcriptome with 5000 transcripts, 60% artificial isoforms, single end 100 bp reads, 50x expression"
     ]
    },
    {
     "cell_type": "code",
     "collapsed": false,
     "input": [
      "num = \"193\"\n",
      "rep = \"1\"\n",
      "error = \"1\"\n",
      "r = \"100\"\n",
      "g = \"100\"\n",
      "createDataSet(num,rep)\n",
      "!grep '>' DataSet193rep1E1R100G100.fa | wc -l\n",
      "defaultTp = {}\n",
      "defaultFp = {}\n",
      "uniqueTp = {}\n",
      "uniqueFp = {}\n",
      "multimapTp = {}\n",
      "multimapFp = {}\n",
      "runBowtieBuild(num,rep,error,r,g)\n",
      "runBowtieAllParams(num,rep,error,r,g,num,rep,error,r,g)\n",
      "getTruePositivesAllParams(num,rep,error,r,g,\"random\")\n",
      "defaultTp[rep],defaultFp[rep] = getTpFp(num,rep,error,r,g,\"default\",num,rep,error,r,g)\n",
      "uniqueTp[rep],uniqueFp[rep] = getTpFp(num,rep,error,r,g,\"unique\",num,rep,error,r,g)\n",
      "multimapTp[rep],multimapFp[rep] = getTpFp(num,rep,error,r,g,\"multimap\",num,rep,error,r,g)\n",
      "print defaultTp, defaultFp, uniqueTp, uniqueFp, multimapTp, multimapFp"
     ],
     "language": "python",
     "metadata": {},
     "outputs": [
      {
       "output_type": "stream",
       "stream": "stdout",
       "text": [
        "    5000\r\n"
       ]
      },
      {
       "output_type": "stream",
       "stream": "stdout",
       "text": [
        "{'1': 54.35823664018965}"
       ]
      },
      {
       "output_type": "stream",
       "stream": "stdout",
       "text": [
        " {'1': 37.70185939789002} {'1': 38.5872677306149} {'1': 9.321068878038475e-05} {'1': 92.05984747624292} {'1': 403.07498955263526}\n"
       ]
      }
     ],
     "prompt_number": 16
    },
    {
     "cell_type": "code",
     "collapsed": false,
     "input": [
      "num = \"193\"\n",
      "rep = \"2\"\n",
      "error = \"1\"\n",
      "r = \"100\"\n",
      "g = \"100\"\n",
      "createDataSet(num,rep)\n",
      "!grep '>' DataSet193rep2E1R100G100.fa | wc -l\n",
      "runBowtieBuild(num,rep,error,r,g)\n",
      "runBowtieAllParams(num,rep,error,r,g,num,rep,error,r,g)\n",
      "getTruePositivesAllParams(num,rep,error,r,g,\"random\")\n",
      "defaultTp[rep],defaultFp[rep] = getTpFp(num,rep,error,r,g,\"default\",num,rep,error,r,g)\n",
      "uniqueTp[rep],uniqueFp[rep] = getTpFp(num,rep,error,r,g,\"unique\",num,rep,error,r,g)\n",
      "multimapTp[rep],multimapFp[rep] = getTpFp(num,rep,error,r,g,\"multimap\",num,rep,error,r,g)\n",
      "print defaultTp, defaultFp, uniqueTp, uniqueFp, multimapTp, multimapFp"
     ],
     "language": "python",
     "metadata": {},
     "outputs": [
      {
       "output_type": "stream",
       "stream": "stdout",
       "text": [
        "    5000\r\n"
       ]
      },
      {
       "output_type": "stream",
       "stream": "stdout",
       "text": [
        "{'1': 54.35823664018965, '2': 55.42771568999616}"
       ]
      },
      {
       "output_type": "stream",
       "stream": "stdout",
       "text": [
        " {'1': 37.70185939789002, '2': 36.62637326962162} {'1': 38.5872677306149, '2': 39.28164245602114} {'1': 9.321068878038475e-05, '2': 3.214300293433474e-05} {'1': 92.05984747624292, '2': 92.05399253060898} {'1': 403.07498955263526, '2': 320.5078787321642}\n"
       ]
      }
     ],
     "prompt_number": 17
    },
    {
     "cell_type": "code",
     "collapsed": false,
     "input": [
      "num = \"193\"\n",
      "rep = \"3\"\n",
      "error = \"1\"\n",
      "r = \"100\"\n",
      "g = \"100\"\n",
      "createDataSet(num,rep)\n",
      "!grep '>' DataSet193rep3E1R100G100.fa | wc -l\n",
      "runBowtieBuild(num,rep,error,r,g)\n",
      "runBowtieAllParams(num,rep,error,r,g,num,rep,error,r,g)\n",
      "getTruePositivesAllParams(num,rep,error,r,g,\"random\")\n",
      "defaultTp[rep],defaultFp[rep] = getTpFp(num,rep,error,r,g,\"default\",num,rep,error,r,g)\n",
      "uniqueTp[rep],uniqueFp[rep] = getTpFp(num,rep,error,r,g,\"unique\",num,rep,error,r,g)\n",
      "multimapTp[rep],multimapFp[rep] = getTpFp(num,rep,error,r,g,\"multimap\",num,rep,error,r,g)\n",
      "print defaultTp, defaultFp, uniqueTp, uniqueFp, multimapTp, multimapFp"
     ],
     "language": "python",
     "metadata": {},
     "outputs": [
      {
       "output_type": "stream",
       "stream": "stdout",
       "text": [
        "    5000\r\n"
       ]
      },
      {
       "output_type": "stream",
       "stream": "stdout",
       "text": [
        "{'1': 54.35823664018965, '3': 54.162809837952565, '2': 55.42771568999616}"
       ]
      },
      {
       "output_type": "stream",
       "stream": "stdout",
       "text": [
        " {'1': 37.70185939789002, '3': 37.91061816944882, '2': 36.62637326962162} {'1': 38.5872677306149, '3': 38.03660704374818, '2': 39.28164245602114} {'1': 9.321068878038475e-05, '3': 6.218601890392789e-05, '2': 3.214300293433474e-05} {'1': 92.05984747624292, '3': 92.07327254235412, '2': 92.05399253060898} {'1': 403.07498955263526, '3': 296.14490213008884, '2': 320.5078787321642}\n"
       ]
      }
     ],
     "prompt_number": 18
    },
    {
     "cell_type": "code",
     "collapsed": false,
     "input": [
      "id = \"60\"\n",
      "defaultAvgTp[id] = sum([defaultTp[\"1\"], defaultTp[\"2\"], defaultTp[\"3\"]]) / 3\n",
      "print \"Average Default True Positive Percentage: \", defaultAvgTp[id]\n",
      "defaultAvgFp[id] = sum([defaultFp[\"1\"], defaultFp[\"2\"], defaultFp[\"3\"]]) / 3\n",
      "print \"Average Default False Positive Percentage: \", defaultAvgFp[id]\n",
      "uniqueAvgTp[id] = sum([uniqueTp[\"1\"], uniqueTp[\"2\"], uniqueTp[\"3\"]]) / 3\n",
      "print \"Average Unique True Positive Percentage: \", uniqueAvgTp[id]\n",
      "uniqueAvgFp[id] = sum([uniqueFp[\"1\"], uniqueFp[\"2\"], uniqueFp[\"3\"]]) / 3\n",
      "print \"Average Unique False Positive Percentage: \", uniqueAvgFp[id]\n",
      "multimapAvgTp[id] = sum([multimapTp[\"1\"], multimapTp[\"2\"], multimapTp[\"3\"]]) / 3\n",
      "print \"Average Multimap True Positive Percentage: \", multimapAvgTp[id]\n",
      "multimapAvgFp[id] = sum([multimapFp[\"1\"], multimapFp[\"2\"], multimapFp[\"3\"]]) / 3\n",
      "print \"Average Multimap False Positive Percentage: \", multimapAvgFp[id]"
     ],
     "language": "python",
     "metadata": {},
     "outputs": [
      {
       "output_type": "stream",
       "stream": "stdout",
       "text": [
        "Average Default True Positive Percentage:  54.6495873894\n",
        "Average Default False Positive Percentage:  37.412950279\n",
        "Average Unique True Positive Percentage:  38.6351724101\n",
        "Average Unique False Positive Percentage:  6.25132368729e-05\n",
        "Average Multimap True Positive Percentage:  92.0623708497\n",
        "Average Multimap False Positive Percentage:  339.909256805\n"
       ]
      }
     ],
     "prompt_number": 19
    },
    {
     "cell_type": "raw",
     "metadata": {},
     "source": [
      "Random transcriptome with 5000 transcripts, 65% artificial isoforms, single end 100 bp reads, 50x expression"
     ]
    },
    {
     "cell_type": "code",
     "collapsed": false,
     "input": [
      "num = \"194\"\n",
      "rep = \"1\"\n",
      "error = \"1\"\n",
      "r = \"100\"\n",
      "g = \"100\"\n",
      "createDataSet(num,rep)\n",
      "!grep '>' DataSet194rep1E1R100G100.fa | wc -l\n",
      "defaultTp = {}\n",
      "defaultFp = {}\n",
      "uniqueTp = {}\n",
      "uniqueFp = {}\n",
      "multimapTp = {}\n",
      "multimapFp = {}\n",
      "runBowtieBuild(num,rep,error,r,g)\n",
      "runBowtieAllParams(num,rep,error,r,g,num,rep,error,r,g)\n",
      "getTruePositivesAllParams(num,rep,error,r,g,\"random\")\n",
      "defaultTp[rep],defaultFp[rep] = getTpFp(num,rep,error,r,g,\"default\",num,rep,error,r,g)\n",
      "uniqueTp[rep],uniqueFp[rep] = getTpFp(num,rep,error,r,g,\"unique\",num,rep,error,r,g)\n",
      "multimapTp[rep],multimapFp[rep] = getTpFp(num,rep,error,r,g,\"multimap\",num,rep,error,r,g)\n",
      "print defaultTp, defaultFp, uniqueTp, uniqueFp, multimapTp, multimapFp"
     ],
     "language": "python",
     "metadata": {},
     "outputs": [
      {
       "output_type": "stream",
       "stream": "stdout",
       "text": [
        "    5000\r\n"
       ]
      },
      {
       "output_type": "stream",
       "stream": "stdout",
       "text": [
        "{'1': 50.04134843188651}"
       ]
      },
      {
       "output_type": "stream",
       "stream": "stdout",
       "text": [
        " {'1': 42.03638725496888} {'1': 35.31578297422366} {'1': 9.523631144686497e-05} {'1': 92.0776087051068} {'1': 479.24559508250485}\n"
       ]
      }
     ],
     "prompt_number": 10
    },
    {
     "cell_type": "code",
     "collapsed": false,
     "input": [
      "num = \"194\"\n",
      "rep = \"2\"\n",
      "error = \"1\"\n",
      "r = \"100\"\n",
      "g = \"100\"\n",
      "createDataSet(num,rep)\n",
      "!grep '>' DataSet194rep2E1R100G100.fa | wc -l\n",
      "runBowtieBuild(num,rep,error,r,g)\n",
      "runBowtieAllParams(num,rep,error,r,g,num,rep,error,r,g)\n",
      "getTruePositivesAllParams(num,rep,error,r,g,\"random\")\n",
      "defaultTp[rep],defaultFp[rep] = getTpFp(num,rep,error,r,g,\"default\",num,rep,error,r,g)\n",
      "uniqueTp[rep],uniqueFp[rep] = getTpFp(num,rep,error,r,g,\"unique\",num,rep,error,r,g)\n",
      "multimapTp[rep],multimapFp[rep] = getTpFp(num,rep,error,r,g,\"multimap\",num,rep,error,r,g)\n",
      "print defaultTp, defaultFp, uniqueTp, uniqueFp, multimapTp, multimapFp"
     ],
     "language": "python",
     "metadata": {},
     "outputs": [
      {
       "output_type": "stream",
       "stream": "stdout",
       "text": [
        "    5000\r\n"
       ]
      },
      {
       "output_type": "stream",
       "stream": "stdout",
       "text": [
        "{'1': 50.04134843188651, '2': 50.47493301830704}"
       ]
      },
      {
       "output_type": "stream",
       "stream": "stdout",
       "text": [
        " {'1': 42.03638725496888, '2': 41.60533691598527} {'1': 35.31578297422366, '2': 35.084478006068885} {'1': 9.523631144686497e-05, '2': 3.088493047030028e-05} {'1': 92.0776087051068, '2': 92.08014639457043} {'1': 479.24559508250485, '2': 359.8766764726321}\n"
       ]
      }
     ],
     "prompt_number": 11
    },
    {
     "cell_type": "code",
     "collapsed": false,
     "input": [
      "num = \"194\"\n",
      "rep = \"3\"\n",
      "error = \"1\"\n",
      "r = \"100\"\n",
      "g = \"100\"\n",
      "createDataSet(num,rep)\n",
      "!grep '>' DataSet194rep3E1R100G100.fa | wc -l\n",
      "runBowtieBuild(num,rep,error,r,g)\n",
      "runBowtieAllParams(num,rep,error,r,g,num,rep,error,r,g)\n",
      "getTruePositivesAllParams(num,rep,error,r,g,\"random\")\n",
      "defaultTp[rep],defaultFp[rep] = getTpFp(num,rep,error,r,g,\"default\",num,rep,error,r,g)\n",
      "uniqueTp[rep],uniqueFp[rep] = getTpFp(num,rep,error,r,g,\"unique\",num,rep,error,r,g)\n",
      "multimapTp[rep],multimapFp[rep] = getTpFp(num,rep,error,r,g,\"multimap\",num,rep,error,r,g)\n",
      "print defaultTp, defaultFp, uniqueTp, uniqueFp, multimapTp, multimapFp"
     ],
     "language": "python",
     "metadata": {},
     "outputs": [
      {
       "output_type": "stream",
       "stream": "stdout",
       "text": [
        "    5000\r\n"
       ]
      },
      {
       "output_type": "stream",
       "stream": "stdout",
       "text": [
        "{'1': 50.04134843188651, '3': 51.48831538070362, '2': 50.47493301830704}"
       ]
      },
      {
       "output_type": "stream",
       "stream": "stdout",
       "text": [
        " {'1': 42.03638725496888, '3': 40.56886592801484, '2': 41.60533691598527} {'1': 35.31578297422366, '3': 36.27333328196672, '2': 35.084478006068885} {'1': 9.523631144686497e-05, '3': 0.0003852495646679919, '2': 3.088493047030028e-05} {'1': 92.0776087051068, '3': 92.05660343437145, '2': 92.08014639457043} {'1': 479.24559508250485, '3': 956.0145483077271, '2': 359.8766764726321}\n"
       ]
      }
     ],
     "prompt_number": 12
    },
    {
     "cell_type": "code",
     "collapsed": false,
     "input": [
      "id = \"65\"\n",
      "defaultAvgTp[id] = sum([defaultTp[\"1\"], defaultTp[\"2\"], defaultTp[\"3\"]]) / 3\n",
      "print \"Average Default True Positive Percentage: \", defaultAvgTp[id]\n",
      "defaultAvgFp[id] = sum([defaultFp[\"1\"], defaultFp[\"2\"], defaultFp[\"3\"]]) / 3\n",
      "print \"Average Default False Positive Percentage: \", defaultAvgFp[id]\n",
      "uniqueAvgTp[id] = sum([uniqueTp[\"1\"], uniqueTp[\"2\"], uniqueTp[\"3\"]]) / 3\n",
      "print \"Average Unique True Positive Percentage: \", uniqueAvgTp[id]\n",
      "uniqueAvgFp[id] = sum([uniqueFp[\"1\"], uniqueFp[\"2\"], uniqueFp[\"3\"]]) / 3\n",
      "print \"Average Unique False Positive Percentage: \", uniqueAvgFp[id]\n",
      "multimapAvgTp[id] = sum([multimapTp[\"1\"], multimapTp[\"2\"], multimapTp[\"3\"]]) / 3\n",
      "print \"Average Multimap True Positive Percentage: \", multimapAvgTp[id]\n",
      "multimapAvgFp[id] = sum([multimapFp[\"1\"], multimapFp[\"2\"], multimapFp[\"3\"]]) / 3\n",
      "print \"Average Multimap False Positive Percentage: \", multimapAvgFp[id]"
     ],
     "language": "python",
     "metadata": {},
     "outputs": [
      {
       "output_type": "stream",
       "stream": "stdout",
       "text": [
        "Average Default True Positive Percentage:  50.6681989436\n",
        "Average Default False Positive Percentage:  41.403530033\n",
        "Average Unique True Positive Percentage:  35.5578647541\n",
        "Average Unique False Positive Percentage:  0.000170456935528\n",
        "Average Multimap True Positive Percentage:  92.0714528447\n",
        "Average Multimap False Positive Percentage:  598.378939954\n"
       ]
      }
     ],
     "prompt_number": 13
    },
    {
     "cell_type": "raw",
     "metadata": {},
     "source": [
      "Random transcriptome with 5000 transcripts, 70% artificial isoforms, single end 100 bp reads, 50x expression"
     ]
    },
    {
     "cell_type": "code",
     "collapsed": false,
     "input": [
      "num = \"195\"\n",
      "rep = \"1\"\n",
      "error = \"1\"\n",
      "r = \"100\"\n",
      "g = \"100\"\n",
      "createDataSet(num,rep)\n",
      "!grep '>' DataSet195rep1E1R100G100.fa | wc -l\n",
      "defaultTp = {}\n",
      "defaultFp = {}\n",
      "uniqueTp = {}\n",
      "uniqueFp = {}\n",
      "multimapTp = {}\n",
      "multimapFp = {}\n",
      "runBowtieBuild(num,rep,error,r,g)\n",
      "runBowtieAllParams(num,rep,error,r,g,num,rep,error,r,g)\n",
      "getTruePositivesAllParams(num,rep,error,r,g,\"random\")\n",
      "defaultTp[rep],defaultFp[rep] = getTpFp(num,rep,error,r,g,\"default\",num,rep,error,r,g)\n",
      "uniqueTp[rep],uniqueFp[rep] = getTpFp(num,rep,error,r,g,\"unique\",num,rep,error,r,g)\n",
      "multimapTp[rep],multimapFp[rep] = getTpFp(num,rep,error,r,g,\"multimap\",num,rep,error,r,g)\n",
      "print defaultTp, defaultFp, uniqueTp, uniqueFp, multimapTp, multimapFp"
     ],
     "language": "python",
     "metadata": {},
     "outputs": [
      {
       "output_type": "stream",
       "stream": "stdout",
       "text": [
        "    5000\r\n"
       ]
      },
      {
       "output_type": "stream",
       "stream": "stdout",
       "text": [
        "{'1': 46.04109273553769}"
       ]
      },
      {
       "output_type": "stream",
       "stream": "stdout",
       "text": [
        " {'1': 46.02886438025755} {'1': 30.409067310268572} {'1': 0.00021240319345167022} {'1': 92.06950196609499} {'1': 803.9015735738869}\n"
       ]
      }
     ],
     "prompt_number": 14
    },
    {
     "cell_type": "code",
     "collapsed": false,
     "input": [
      "num = \"195\"\n",
      "rep = \"2\"\n",
      "error = \"1\"\n",
      "r = \"100\"\n",
      "g = \"100\"\n",
      "createDataSet(num,rep)\n",
      "!grep '>' DataSet195rep2E1R100G100.fa | wc -l\n",
      "runBowtieBuild(num,rep,error,r,g)\n",
      "runBowtieAllParams(num,rep,error,r,g,num,rep,error,r,g)\n",
      "getTruePositivesAllParams(num,rep,error,r,g,\"random\")\n",
      "defaultTp[rep],defaultFp[rep] = getTpFp(num,rep,error,r,g,\"default\",num,rep,error,r,g)\n",
      "uniqueTp[rep],uniqueFp[rep] = getTpFp(num,rep,error,r,g,\"unique\",num,rep,error,r,g)\n",
      "multimapTp[rep],multimapFp[rep] = getTpFp(num,rep,error,r,g,\"multimap\",num,rep,error,r,g)\n",
      "print defaultTp, defaultFp, uniqueTp, uniqueFp, multimapTp, multimapFp"
     ],
     "language": "python",
     "metadata": {},
     "outputs": [
      {
       "output_type": "stream",
       "stream": "stdout",
       "text": [
        "    5000\r\n"
       ]
      },
      {
       "output_type": "stream",
       "stream": "stdout",
       "text": [
        "{'1': 46.04109273553769, '2': 48.923227631100794} {'1': 46.02886438025755, '2': 43.13450569591253} {'1': 30.409067310268572, '2': 32.56908565198843} {'1': 0.00021240319345167022, '2': 0.00012640027808061177} {'1': 92.06950196609499, '2': 92.05757532666571} {'1': 803.9015735738869, '2': 397.0720955586102}\n"
       ]
      }
     ],
     "prompt_number": 15
    },
    {
     "cell_type": "code",
     "collapsed": false,
     "input": [
      "num = \"195\"\n",
      "rep = \"3\"\n",
      "error = \"1\"\n",
      "r = \"100\"\n",
      "g = \"100\"\n",
      "createDataSet(num,rep)\n",
      "!grep '>' DataSet195rep3E1R100G100.fa | wc -l\n",
      "runBowtieBuild(num,rep,error,r,g)\n",
      "runBowtieAllParams(num,rep,error,r,g,num,rep,error,r,g)\n",
      "getTruePositivesAllParams(num,rep,error,r,g,\"random\")\n",
      "defaultTp[rep],defaultFp[rep] = getTpFp(num,rep,error,r,g,\"default\",num,rep,error,r,g)\n",
      "uniqueTp[rep],uniqueFp[rep] = getTpFp(num,rep,error,r,g,\"unique\",num,rep,error,r,g)\n",
      "multimapTp[rep],multimapFp[rep] = getTpFp(num,rep,error,r,g,\"multimap\",num,rep,error,r,g)\n",
      "print defaultTp, defaultFp, uniqueTp, uniqueFp, multimapTp, multimapFp"
     ],
     "language": "python",
     "metadata": {},
     "outputs": [
      {
       "output_type": "stream",
       "stream": "stdout",
       "text": [
        "    5000\r\n"
       ]
      },
      {
       "output_type": "stream",
       "stream": "stdout",
       "text": [
        "{'1': 46.04109273553769, '3': 49.13117300448374, '2': 48.923227631100794}"
       ]
      },
      {
       "output_type": "stream",
       "stream": "stdout",
       "text": [
        " {'1': 46.02886438025755, '3': 42.96690961457436, '2': 43.13450569591253} {'1': 30.409067310268572, '3': 33.31630182556801, '2': 32.56908565198843} {'1': 0.00021240319345167022, '3': 0.0002829850521006924, '2': 0.00012640027808061177} {'1': 92.06950196609499, '3': 92.0976109773046, '2': 92.05757532666571} {'1': 803.9015735738869, '3': 691.7372452348461, '2': 397.0720955586102}\n"
       ]
      }
     ],
     "prompt_number": 16
    },
    {
     "cell_type": "code",
     "collapsed": false,
     "input": [
      "id = \"70\"\n",
      "defaultAvgTp[id] = sum([defaultTp[\"1\"], defaultTp[\"2\"], defaultTp[\"3\"]]) / 3\n",
      "print \"Average Default True Positive Percentage: \", defaultAvgTp[id]\n",
      "defaultAvgFp[id] = sum([defaultFp[\"1\"], defaultFp[\"2\"], defaultFp[\"3\"]]) / 3\n",
      "print \"Average Default False Positive Percentage: \", defaultAvgFp[id]\n",
      "uniqueAvgTp[id] = sum([uniqueTp[\"1\"], uniqueTp[\"2\"], uniqueTp[\"3\"]]) / 3\n",
      "print \"Average Unique True Positive Percentage: \", uniqueAvgTp[id]\n",
      "uniqueAvgFp[id] = sum([uniqueFp[\"1\"], uniqueFp[\"2\"], uniqueFp[\"3\"]]) / 3\n",
      "print \"Average Unique False Positive Percentage: \", uniqueAvgFp[id]\n",
      "multimapAvgTp[id] = sum([multimapTp[\"1\"], multimapTp[\"2\"], multimapTp[\"3\"]]) / 3\n",
      "print \"Average Multimap True Positive Percentage: \", multimapAvgTp[id]\n",
      "multimapAvgFp[id] = sum([multimapFp[\"1\"], multimapFp[\"2\"], multimapFp[\"3\"]]) / 3\n",
      "print \"Average Multimap False Positive Percentage: \", multimapAvgFp[id]"
     ],
     "language": "python",
     "metadata": {},
     "outputs": [
      {
       "output_type": "stream",
       "stream": "stdout",
       "text": [
        "Average Default True Positive Percentage:  48.0318311237\n",
        "Average Default False Positive Percentage:  44.0434265636\n",
        "Average Unique True Positive Percentage:  32.0981515959\n",
        "Average Unique False Positive Percentage:  0.000207262841211\n",
        "Average Multimap True Positive Percentage:  92.07489609\n",
        "Average Multimap False Positive Percentage:  630.903638122\n"
       ]
      }
     ],
     "prompt_number": 17
    },
    {
     "cell_type": "raw",
     "metadata": {},
     "source": [
      "Random transcriptome with 5000 transcripts, 75% artificial isoforms, single end 100 bp reads, 50x expression"
     ]
    },
    {
     "cell_type": "code",
     "collapsed": false,
     "input": [
      "num = \"196\"\n",
      "rep = \"1\"\n",
      "error = \"1\"\n",
      "r = \"100\"\n",
      "g = \"100\"\n",
      "createDataSet(num,rep)\n",
      "!grep '>' DataSet196rep1E1R100G100.fa | wc -l\n",
      "defaultTp = {}\n",
      "defaultFp = {}\n",
      "uniqueTp = {}\n",
      "uniqueFp = {}\n",
      "multimapTp = {}\n",
      "multimapFp = {}\n",
      "runBowtieBuild(num,rep,error,r,g)\n",
      "runBowtieAllParams(num,rep,error,r,g,num,rep,error,r,g)\n",
      "getTruePositivesAllParams(num,rep,error,r,g,\"random\")\n",
      "defaultTp[rep],defaultFp[rep] = getTpFp(num,rep,error,r,g,\"default\",num,rep,error,r,g)\n",
      "uniqueTp[rep],uniqueFp[rep] = getTpFp(num,rep,error,r,g,\"unique\",num,rep,error,r,g)\n",
      "multimapTp[rep],multimapFp[rep] = getTpFp(num,rep,error,r,g,\"multimap\",num,rep,error,r,g)\n",
      "print defaultTp, defaultFp, uniqueTp, uniqueFp, multimapTp, multimapFp"
     ],
     "language": "python",
     "metadata": {},
     "outputs": [
      {
       "output_type": "stream",
       "stream": "stdout",
       "text": [
        "    5000\r\n"
       ]
      },
      {
       "output_type": "stream",
       "stream": "stdout",
       "text": [
        "{'1': 46.06735898565814} {'1': 46.00145903717711} {'1': 30.819465859361507} {'1': 0.00030794368449075507} {'1': 92.06826372420316} {'1': 752.5170854854748}\n"
       ]
      }
     ],
     "prompt_number": 18
    },
    {
     "cell_type": "code",
     "collapsed": false,
     "input": [
      "num = \"196\"\n",
      "rep = \"2\"\n",
      "error = \"1\"\n",
      "r = \"100\"\n",
      "g = \"100\"\n",
      "createDataSet(num,rep)\n",
      "!grep '>' DataSet196rep2E1R100G100.fa | wc -l\n",
      "runBowtieBuild(num,rep,error,r,g)\n",
      "runBowtieAllParams(num,rep,error,r,g,num,rep,error,r,g)\n",
      "getTruePositivesAllParams(num,rep,error,r,g,\"random\")\n",
      "defaultTp[rep],defaultFp[rep] = getTpFp(num,rep,error,r,g,\"default\",num,rep,error,r,g)\n",
      "uniqueTp[rep],uniqueFp[rep] = getTpFp(num,rep,error,r,g,\"unique\",num,rep,error,r,g)\n",
      "multimapTp[rep],multimapFp[rep] = getTpFp(num,rep,error,r,g,\"multimap\",num,rep,error,r,g)\n",
      "print defaultTp, defaultFp, uniqueTp, uniqueFp, multimapTp, multimapFp"
     ],
     "language": "python",
     "metadata": {},
     "outputs": [
      {
       "output_type": "stream",
       "stream": "stdout",
       "text": [
        "    5000\r\n"
       ]
      },
      {
       "output_type": "stream",
       "stream": "stdout",
       "text": [
        "{'1': 46.06735898565814, '2': 44.38348656239452}"
       ]
      },
      {
       "output_type": "stream",
       "stream": "stdout",
       "text": [
        " {'1': 46.00145903717711, '2': 47.69388456572025} {'1': 30.819465859361507, '2': 29.038171531908702} {'1': 0.00030794368449075507, '2': 0.0006193158417895751} {'1': 92.06826372420316, '2': 92.07619442801537} {'1': 752.5170854854748, '2': 1346.9290604669022}\n"
       ]
      }
     ],
     "prompt_number": 35
    },
    {
     "cell_type": "code",
     "collapsed": false,
     "input": [
      "num = \"196\"\n",
      "rep = \"3\"\n",
      "error = \"1\"\n",
      "r = \"100\"\n",
      "g = \"100\"\n",
      "createDataSet(num,rep)\n",
      "!grep '>' DataSet196rep3E1R100G100.fa | wc -l\n",
      "runBowtieBuild(num,rep,error,r,g)\n",
      "runBowtieAllParams(num,rep,error,r,g,num,rep,error,r,g)\n",
      "getTruePositivesAllParams(num,rep,error,r,g,\"random\")\n",
      "defaultTp[rep],defaultFp[rep] = getTpFp(num,rep,error,r,g,\"default\",num,rep,error,r,g)\n",
      "uniqueTp[rep],uniqueFp[rep] = getTpFp(num,rep,error,r,g,\"unique\",num,rep,error,r,g)\n",
      "multimapTp[rep],multimapFp[rep] = getTpFp(num,rep,error,r,g,\"multimap\",num,rep,error,r,g)\n",
      "print defaultTp, defaultFp, uniqueTp, uniqueFp, multimapTp, multimapFp"
     ],
     "language": "python",
     "metadata": {},
     "outputs": [
      {
       "output_type": "stream",
       "stream": "stdout",
       "text": [
        "    5000\r\n"
       ]
      },
      {
       "output_type": "stream",
       "stream": "stdout",
       "text": [
        "{'1': 46.06735898565814, '3': 44.775506972423095, '2': 44.38348656239452}"
       ]
      },
      {
       "output_type": "stream",
       "stream": "stdout",
       "text": [
        " {'1': 46.00145903717711, '3': 47.29515863575867, '2': 47.69388456572025} {'1': 30.819465859361507, '3': 29.45059636111194, '2': 29.038171531908702} {'1': 0.00030794368449075507, '3': 0.0005418864693658032, '2': 0.0006193158417895751} {'1': 92.06826372420316, '3': 92.06976246406614, '2': 92.07619442801537} {'1': 752.5170854854748, '3': 762.9073593902452, '2': 1346.9290604669022}\n"
       ]
      }
     ],
     "prompt_number": 36
    },
    {
     "cell_type": "code",
     "collapsed": false,
     "input": [
      "id = \"75\"\n",
      "defaultAvgTp[id] = sum([defaultTp[\"1\"], defaultTp[\"2\"], defaultTp[\"3\"]]) / 3\n",
      "print \"Average Default True Positive Percentage: \", defaultAvgTp[id]\n",
      "defaultAvgFp[id] = sum([defaultFp[\"1\"], defaultFp[\"2\"], defaultFp[\"3\"]]) / 3\n",
      "print \"Average Default False Positive Percentage: \", defaultAvgFp[id]\n",
      "uniqueAvgTp[id] = sum([uniqueTp[\"1\"], uniqueTp[\"2\"], uniqueTp[\"3\"]]) / 3\n",
      "print \"Average Unique True Positive Percentage: \", uniqueAvgTp[id]\n",
      "uniqueAvgFp[id] = sum([uniqueFp[\"1\"], uniqueFp[\"2\"], uniqueFp[\"3\"]]) / 3\n",
      "print \"Average Unique False Positive Percentage: \", uniqueAvgFp[id]\n",
      "multimapAvgTp[id] = sum([multimapTp[\"1\"], multimapTp[\"2\"], multimapTp[\"3\"]]) / 3\n",
      "print \"Average Multimap True Positive Percentage: \", multimapAvgTp[id]\n",
      "multimapAvgFp[id] = sum([multimapFp[\"1\"], multimapFp[\"2\"], multimapFp[\"3\"]]) / 3\n",
      "print \"Average Multimap False Positive Percentage: \", multimapAvgFp[id]"
     ],
     "language": "python",
     "metadata": {},
     "outputs": [
      {
       "output_type": "stream",
       "stream": "stdout",
       "text": [
        "Average Default True Positive Percentage:  45.0754508402\n",
        "Average Default False Positive Percentage:  46.9968340796\n",
        "Average Unique True Positive Percentage:  29.7694112508\n",
        "Average Unique False Positive Percentage:  0.000489715331882\n",
        "Average Multimap True Positive Percentage:  92.0714068721\n",
        "Average Multimap False Positive Percentage:  954.117835114\n"
       ]
      }
     ],
     "prompt_number": 37
    },
    {
     "cell_type": "raw",
     "metadata": {},
     "source": [
      "Random transcriptome with 5000 transcripts, 80% artificial isoforms, single end 100 bp reads, 50x expression"
     ]
    },
    {
     "cell_type": "code",
     "collapsed": false,
     "input": [
      "num = \"197\"\n",
      "rep = \"1\"\n",
      "error = \"1\"\n",
      "r = \"100\"\n",
      "g = \"100\"\n",
      "createDataSet(num,rep)\n",
      "!grep '>' DataSet197rep1E1R100G100.fa | wc -l\n",
      "defaultTp = {}\n",
      "defaultFp = {}\n",
      "uniqueTp = {}\n",
      "uniqueFp = {}\n",
      "multimapTp = {}\n",
      "multimapFp = {}\n",
      "runBowtieBuild(num,rep,error,r,g)\n",
      "runBowtieAllParams(num,rep,error,r,g,num,rep,error,r,g)\n",
      "getTruePositivesAllParams(num,rep,error,r,g,\"random\")\n",
      "defaultTp[rep],defaultFp[rep] = getTpFp(num,rep,error,r,g,\"default\",num,rep,error,r,g)\n",
      "uniqueTp[rep],uniqueFp[rep] = getTpFp(num,rep,error,r,g,\"unique\",num,rep,error,r,g)\n",
      "multimapTp[rep],multimapFp[rep] = getTpFp(num,rep,error,r,g,\"multimap\",num,rep,error,r,g)\n",
      "print defaultTp, defaultFp, uniqueTp, uniqueFp, multimapTp, multimapFp"
     ],
     "language": "python",
     "metadata": {},
     "outputs": [
      {
       "output_type": "stream",
       "stream": "stdout",
       "text": [
        "    5000\r\n"
       ]
      },
      {
       "output_type": "stream",
       "stream": "stdout",
       "text": [
        "{'1': 43.028065374319304}"
       ]
      },
      {
       "output_type": "stream",
       "stream": "stdout",
       "text": [
        " {'1': 49.04187362398441} {'1': 28.233598755528387} {'1': 0.00044664178021204635} {'1': 92.06926903563341} {'1': 1030.897466041666}\n"
       ]
      }
     ],
     "prompt_number": 38
    },
    {
     "cell_type": "code",
     "collapsed": false,
     "input": [
      "num = \"197\"\n",
      "rep = \"2\"\n",
      "error = \"1\"\n",
      "r = \"100\"\n",
      "g = \"100\"\n",
      "createDataSet(num,rep)\n",
      "!grep '>' DataSet197rep2E1R100G100.fa | wc -l\n",
      "runBowtieBuild(num,rep,error,r,g)\n",
      "runBowtieAllParams(num,rep,error,r,g,num,rep,error,r,g)\n",
      "getTruePositivesAllParams(num,rep,error,r,g,\"random\")\n",
      "defaultTp[rep],defaultFp[rep] = getTpFp(num,rep,error,r,g,\"default\",num,rep,error,r,g)\n",
      "uniqueTp[rep],uniqueFp[rep] = getTpFp(num,rep,error,r,g,\"unique\",num,rep,error,r,g)\n",
      "multimapTp[rep],multimapFp[rep] = getTpFp(num,rep,error,r,g,\"multimap\",num,rep,error,r,g)\n",
      "print defaultTp, defaultFp, uniqueTp, uniqueFp, multimapTp, multimapFp"
     ],
     "language": "python",
     "metadata": {},
     "outputs": [
      {
       "output_type": "stream",
       "stream": "stdout",
       "text": [
        "    5000\r\n"
       ]
      },
      {
       "output_type": "stream",
       "stream": "stdout",
       "text": [
        "{'1': 43.028065374319304, '2': 42.02509952021166}"
       ]
      },
      {
       "output_type": "stream",
       "stream": "stdout",
       "text": [
        " {'1': 49.04187362398441, '2': 50.05085440259908} {'1': 28.233598755528387, '2': 26.540526672875785} {'1': 0.00044664178021204635, '2': 0.00024317705964890096} {'1': 92.06926903563341, '2': 92.07531558302917} {'1': 1030.897466041666, '2': 1155.663532924958}\n"
       ]
      }
     ],
     "prompt_number": 39
    },
    {
     "cell_type": "code",
     "collapsed": false,
     "input": [
      "num = \"197\"\n",
      "rep = \"3\"\n",
      "error = \"1\"\n",
      "r = \"100\"\n",
      "g = \"100\"\n",
      "createDataSet(num,rep)\n",
      "!grep '>' DataSet197rep3E1R100G100.fa | wc -l\n",
      "runBowtieBuild(num,rep,error,r,g)\n",
      "runBowtieAllParams(num,rep,error,r,g,num,rep,error,r,g)\n",
      "getTruePositivesAllParams(num,rep,error,r,g,\"random\")\n",
      "defaultTp[rep],defaultFp[rep] = getTpFp(num,rep,error,r,g,\"default\",num,rep,error,r,g)\n",
      "uniqueTp[rep],uniqueFp[rep] = getTpFp(num,rep,error,r,g,\"unique\",num,rep,error,r,g)\n",
      "multimapTp[rep],multimapFp[rep] = getTpFp(num,rep,error,r,g,\"multimap\",num,rep,error,r,g)\n",
      "print defaultTp, defaultFp, uniqueTp, uniqueFp, multimapTp, multimapFp"
     ],
     "language": "python",
     "metadata": {},
     "outputs": [
      {
       "output_type": "stream",
       "stream": "stdout",
       "text": [
        "    5000\r\n"
       ]
      },
      {
       "output_type": "stream",
       "stream": "stdout",
       "text": [
        "{'1': 43.028065374319304, '3': 43.56217490044699, '2': 42.02509952021166}"
       ]
      },
      {
       "output_type": "stream",
       "stream": "stdout",
       "text": [
        " {'1': 49.04187362398441, '3': 48.495866882128084, '2': 50.05085440259908} {'1': 28.233598755528387, '3': 29.047994223148144, '2': 26.540526672875785} {'1': 0.00044664178021204635, '3': 0.0004469270889531755, '2': 0.00024317705964890096} {'1': 92.06926903563341, '3': 92.05708408167018, '2': 92.07531558302917} {'1': 1030.897466041666, '3': 1184.951422217767, '2': 1155.663532924958}\n"
       ]
      }
     ],
     "prompt_number": 40
    },
    {
     "cell_type": "code",
     "collapsed": false,
     "input": [
      "id = \"80\"\n",
      "defaultAvgTp[id] = sum([defaultTp[\"1\"], defaultTp[\"2\"], defaultTp[\"3\"]]) / 3\n",
      "print \"Average Default True Positive Percentage: \", defaultAvgTp[id]\n",
      "defaultAvgFp[id] = sum([defaultFp[\"1\"], defaultFp[\"2\"], defaultFp[\"3\"]]) / 3\n",
      "print \"Average Default False Positive Percentage: \", defaultAvgFp[id]\n",
      "uniqueAvgTp[id] = sum([uniqueTp[\"1\"], uniqueTp[\"2\"], uniqueTp[\"3\"]]) / 3\n",
      "print \"Average Unique True Positive Percentage: \", uniqueAvgTp[id]\n",
      "uniqueAvgFp[id] = sum([uniqueFp[\"1\"], uniqueFp[\"2\"], uniqueFp[\"3\"]]) / 3\n",
      "print \"Average Unique False Positive Percentage: \", uniqueAvgFp[id]\n",
      "multimapAvgTp[id] = sum([multimapTp[\"1\"], multimapTp[\"2\"], multimapTp[\"3\"]]) / 3\n",
      "print \"Average Multimap True Positive Percentage: \", multimapAvgTp[id]\n",
      "multimapAvgFp[id] = sum([multimapFp[\"1\"], multimapFp[\"2\"], multimapFp[\"3\"]]) / 3\n",
      "print \"Average Multimap False Positive Percentage: \", multimapAvgFp[id]"
     ],
     "language": "python",
     "metadata": {},
     "outputs": [
      {
       "output_type": "stream",
       "stream": "stdout",
       "text": [
        "Average Default True Positive Percentage:  42.8717799317\n",
        "Average Default False Positive Percentage:  49.1961983029\n",
        "Average Unique True Positive Percentage:  27.9407065505\n",
        "Average Unique False Positive Percentage:  0.000378915309605\n",
        "Average Multimap True Positive Percentage:  92.0672229001\n",
        "Average Multimap False Positive Percentage:  1123.83747373\n"
       ]
      }
     ],
     "prompt_number": 41
    },
    {
     "cell_type": "raw",
     "metadata": {},
     "source": [
      "Random transcriptome with 5000 transcripts, 85% artificial isoforms, single end 100 bp reads, 50x expression"
     ]
    },
    {
     "cell_type": "code",
     "collapsed": false,
     "input": [
      "num = \"198\"\n",
      "rep = \"1\"\n",
      "error = \"1\"\n",
      "r = \"100\"\n",
      "g = \"100\"\n",
      "createDataSet(num,rep)\n",
      "!grep '>' DataSet198rep1E1R100G100.fa | wc -l\n",
      "defaultTp = {}\n",
      "defaultFp = {}\n",
      "uniqueTp = {}\n",
      "uniqueFp = {}\n",
      "multimapTp = {}\n",
      "multimapFp = {}\n",
      "runBowtieBuild(num,rep,error,r,g)\n",
      "runBowtieAllParams(num,rep,error,r,g,num,rep,error,r,g)\n",
      "getTruePositivesAllParams(num,rep,error,r,g,\"random\")\n",
      "defaultTp[rep],defaultFp[rep] = getTpFp(num,rep,error,r,g,\"default\",num,rep,error,r,g)\n",
      "uniqueTp[rep],uniqueFp[rep] = getTpFp(num,rep,error,r,g,\"unique\",num,rep,error,r,g)\n",
      "multimapTp[rep],multimapFp[rep] = getTpFp(num,rep,error,r,g,\"multimap\",num,rep,error,r,g)\n",
      "print defaultTp, defaultFp, uniqueTp, uniqueFp, multimapTp, multimapFp"
     ],
     "language": "python",
     "metadata": {},
     "outputs": [
      {
       "output_type": "stream",
       "stream": "stdout",
       "text": [
        "    5000\r\n"
       ]
      }
     ],
     "prompt_number": "*"
    },
    {
     "cell_type": "code",
     "collapsed": false,
     "input": [
      "num = \"198\"\n",
      "rep = \"2\"\n",
      "error = \"1\"\n",
      "r = \"100\"\n",
      "g = \"100\"\n",
      "createDataSet(num,rep)\n",
      "!grep '>' DataSet198rep2E1R100G100.fa | wc -l\n",
      "runBowtieBuild(num,rep,error,r,g)\n",
      "runBowtieAllParams(num,rep,error,r,g,num,rep,error,r,g)\n",
      "getTruePositivesAllParams(num,rep,error,r,g,\"random\")\n",
      "defaultTp[rep],defaultFp[rep] = getTpFp(num,rep,error,r,g,\"default\",num,rep,error,r,g)\n",
      "uniqueTp[rep],uniqueFp[rep] = getTpFp(num,rep,error,r,g,\"unique\",num,rep,error,r,g)\n",
      "multimapTp[rep],multimapFp[rep] = getTpFp(num,rep,error,r,g,\"multimap\",num,rep,error,r,g)\n",
      "print defaultTp, defaultFp, uniqueTp, uniqueFp, multimapTp, multimapFp"
     ],
     "language": "python",
     "metadata": {},
     "outputs": [],
     "prompt_number": "*"
    },
    {
     "cell_type": "code",
     "collapsed": false,
     "input": [
      "num = \"198\"\n",
      "rep = \"3\"\n",
      "error = \"1\"\n",
      "r = \"100\"\n",
      "g = \"100\"\n",
      "createDataSet(num,rep)\n",
      "!grep '>' DataSet198rep3E1R100G100.fa | wc -l\n",
      "runBowtieBuild(num,rep,error,r,g)\n",
      "runBowtieAllParams(num,rep,error,r,g,num,rep,error,r,g)\n",
      "getTruePositivesAllParams(num,rep,error,r,g,\"random\")\n",
      "defaultTp[rep],defaultFp[rep] = getTpFp(num,rep,error,r,g,\"default\",num,rep,error,r,g)\n",
      "uniqueTp[rep],uniqueFp[rep] = getTpFp(num,rep,error,r,g,\"unique\",num,rep,error,r,g)\n",
      "multimapTp[rep],multimapFp[rep] = getTpFp(num,rep,error,r,g,\"multimap\",num,rep,error,r,g)\n",
      "print defaultTp, defaultFp, uniqueTp, uniqueFp, multimapTp, multimapFp"
     ],
     "language": "python",
     "metadata": {},
     "outputs": [],
     "prompt_number": "*"
    },
    {
     "cell_type": "code",
     "collapsed": false,
     "input": [
      "id = \"85\"\n",
      "defaultAvgTp[id] = sum([defaultTp[\"1\"], defaultTp[\"2\"], defaultTp[\"3\"]]) / 3\n",
      "print \"Average Default True Positive Percentage: \", defaultAvgTp[id]\n",
      "defaultAvgFp[id] = sum([defaultFp[\"1\"], defaultFp[\"2\"], defaultFp[\"3\"]]) / 3\n",
      "print \"Average Default False Positive Percentage: \", defaultAvgFp[id]\n",
      "uniqueAvgTp[id] = sum([uniqueTp[\"1\"], uniqueTp[\"2\"], uniqueTp[\"3\"]]) / 3\n",
      "print \"Average Unique True Positive Percentage: \", uniqueAvgTp[id]\n",
      "uniqueAvgFp[id] = sum([uniqueFp[\"1\"], uniqueFp[\"2\"], uniqueFp[\"3\"]]) / 3\n",
      "print \"Average Unique False Positive Percentage: \", uniqueAvgFp[id]\n",
      "multimapAvgTp[id] = sum([multimapTp[\"1\"], multimapTp[\"2\"], multimapTp[\"3\"]]) / 3\n",
      "print \"Average Multimap True Positive Percentage: \", multimapAvgTp[id]\n",
      "multimapAvgFp[id] = sum([multimapFp[\"1\"], multimapFp[\"2\"], multimapFp[\"3\"]]) / 3\n",
      "print \"Average Multimap False Positive Percentage: \", multimapAvgFp[id]"
     ],
     "language": "python",
     "metadata": {},
     "outputs": [],
     "prompt_number": "*"
    },
    {
     "cell_type": "raw",
     "metadata": {},
     "source": [
      "Random transcriptome with 5000 transcripts, 90% artificial isoforms, single end 100 bp reads, 50x expression"
     ]
    },
    {
     "cell_type": "code",
     "collapsed": false,
     "input": [
      "num = \"199\"\n",
      "rep = \"1\"\n",
      "error = \"1\"\n",
      "r = \"100\"\n",
      "g = \"100\"\n",
      "createDataSet(num,rep)\n",
      "!grep '>' DataSet199rep1E1R100G100.fa | wc -l\n",
      "defaultTp = {}\n",
      "defaultFp = {}\n",
      "uniqueTp = {}\n",
      "uniqueFp = {}\n",
      "multimapTp = {}\n",
      "multimapFp = {}\n",
      "runBowtieBuild(num,rep,error,r,g)\n",
      "runBowtieAllParams(num,rep,error,r,g,num,rep,error,r,g)\n",
      "getTruePositivesAllParams(num,rep,error,r,g,\"random\")\n",
      "defaultTp[rep],defaultFp[rep] = getTpFp(num,rep,error,r,g,\"default\",num,rep,error,r,g)\n",
      "uniqueTp[rep],uniqueFp[rep] = getTpFp(num,rep,error,r,g,\"unique\",num,rep,error,r,g)\n",
      "multimapTp[rep],multimapFp[rep] = getTpFp(num,rep,error,r,g,\"multimap\",num,rep,error,r,g)\n",
      "print defaultTp, defaultFp, uniqueTp, uniqueFp, multimapTp, multimapFp"
     ],
     "language": "python",
     "metadata": {},
     "outputs": []
    },
    {
     "cell_type": "code",
     "collapsed": false,
     "input": [
      "num = \"199\"\n",
      "rep = \"2\"\n",
      "error = \"1\"\n",
      "r = \"100\"\n",
      "g = \"100\"\n",
      "createDataSet(num,rep)\n",
      "!grep '>' DataSet199rep2E1R100G100.fa | wc -l\n",
      "runBowtieBuild(num,rep,error,r,g)\n",
      "runBowtieAllParams(num,rep,error,r,g,num,rep,error,r,g)\n",
      "getTruePositivesAllParams(num,rep,error,r,g,\"random\")\n",
      "defaultTp[rep],defaultFp[rep] = getTpFp(num,rep,error,r,g,\"default\",num,rep,error,r,g)\n",
      "uniqueTp[rep],uniqueFp[rep] = getTpFp(num,rep,error,r,g,\"unique\",num,rep,error,r,g)\n",
      "multimapTp[rep],multimapFp[rep] = getTpFp(num,rep,error,r,g,\"multimap\",num,rep,error,r,g)\n",
      "print defaultTp, defaultFp, uniqueTp, uniqueFp, multimapTp, multimapFp"
     ],
     "language": "python",
     "metadata": {},
     "outputs": []
    },
    {
     "cell_type": "code",
     "collapsed": false,
     "input": [
      "num = \"199\"\n",
      "rep = \"3\"\n",
      "error = \"1\"\n",
      "r = \"100\"\n",
      "g = \"100\"\n",
      "createDataSet(num,rep)\n",
      "!grep '>' DataSet199rep3E1R100G100.fa | wc -l\n",
      "runBowtieBuild(num,rep,error,r,g)\n",
      "runBowtieAllParams(num,rep,error,r,g,num,rep,error,r,g)\n",
      "getTruePositivesAllParams(num,rep,error,r,g,\"random\")\n",
      "defaultTp[rep],defaultFp[rep] = getTpFp(num,rep,error,r,g,\"default\",num,rep,error,r,g)\n",
      "uniqueTp[rep],uniqueFp[rep] = getTpFp(num,rep,error,r,g,\"unique\",num,rep,error,r,g)\n",
      "multimapTp[rep],multimapFp[rep] = getTpFp(num,rep,error,r,g,\"multimap\",num,rep,error,r,g)\n",
      "print defaultTp, defaultFp, uniqueTp, uniqueFp, multimapTp, multimapFp"
     ],
     "language": "python",
     "metadata": {},
     "outputs": []
    },
    {
     "cell_type": "code",
     "collapsed": false,
     "input": [
      "id = \"90\"\n",
      "defaultAvgTp[id] = sum([defaultTp[\"1\"], defaultTp[\"2\"], defaultTp[\"3\"]]) / 3\n",
      "print \"Average Default True Positive Percentage: \", defaultAvgTp[id]\n",
      "defaultAvgFp[id] = sum([defaultFp[\"1\"], defaultFp[\"2\"], defaultFp[\"3\"]]) / 3\n",
      "print \"Average Default False Positive Percentage: \", defaultAvgFp[id]\n",
      "uniqueAvgTp[id] = sum([uniqueTp[\"1\"], uniqueTp[\"2\"], uniqueTp[\"3\"]]) / 3\n",
      "print \"Average Unique True Positive Percentage: \", uniqueAvgTp[id]\n",
      "uniqueAvgFp[id] = sum([uniqueFp[\"1\"], uniqueFp[\"2\"], uniqueFp[\"3\"]]) / 3\n",
      "print \"Average Unique False Positive Percentage: \", uniqueAvgFp[id]\n",
      "multimapAvgTp[id] = sum([multimapTp[\"1\"], multimapTp[\"2\"], multimapTp[\"3\"]]) / 3\n",
      "print \"Average Multimap True Positive Percentage: \", multimapAvgTp[id]\n",
      "multimapAvgFp[id] = sum([multimapFp[\"1\"], multimapFp[\"2\"], multimapFp[\"3\"]]) / 3\n",
      "print \"Average Multimap False Positive Percentage: \", multimapAvgFp[id]"
     ],
     "language": "python",
     "metadata": {},
     "outputs": []
    },
    {
     "cell_type": "raw",
     "metadata": {},
     "source": [
      "Random transcriptome with 5000 transcripts, 95% artificial isoforms, single end 100 bp reads, 50x expression"
     ]
    },
    {
     "cell_type": "code",
     "collapsed": false,
     "input": [
      "num = \"200\"\n",
      "rep = \"1\"\n",
      "error = \"1\"\n",
      "r = \"100\"\n",
      "g = \"100\"\n",
      "createDataSet(num,rep)\n",
      "!grep '>' DataSet200rep1E1R100G100.fa | wc -l\n",
      "defaultTp = {}\n",
      "defaultFp = {}\n",
      "uniqueTp = {}\n",
      "uniqueFp = {}\n",
      "multimapTp = {}\n",
      "multimapFp = {}\n",
      "runBowtieBuild(num,rep,error,r,g)\n",
      "runBowtieAllParams(num,rep,error,r,g,num,rep,error,r,g)\n",
      "getTruePositivesAllParams(num,rep,error,r,g,\"random\")\n",
      "defaultTp[rep],defaultFp[rep] = getTpFp(num,rep,error,r,g,\"default\",num,rep,error,r,g)\n",
      "uniqueTp[rep],uniqueFp[rep] = getTpFp(num,rep,error,r,g,\"unique\",num,rep,error,r,g)\n",
      "multimapTp[rep],multimapFp[rep] = getTpFp(num,rep,error,r,g,\"multimap\",num,rep,error,r,g)\n",
      "print defaultTp, defaultFp, uniqueTp, uniqueFp, multimapTp, multimapFp"
     ],
     "language": "python",
     "metadata": {},
     "outputs": []
    },
    {
     "cell_type": "code",
     "collapsed": false,
     "input": [
      "num = \"200\"\n",
      "rep = \"2\"\n",
      "error = \"1\"\n",
      "r = \"100\"\n",
      "g = \"100\"\n",
      "createDataSet(num,rep)\n",
      "!grep '>' DataSet200rep2E1R100G100.fa | wc -l\n",
      "runBowtieBuild(num,rep,error,r,g)\n",
      "runBowtieAllParams(num,rep,error,r,g,num,rep,error,r,g)\n",
      "getTruePositivesAllParams(num,rep,error,r,g,\"random\")\n",
      "defaultTp[rep],defaultFp[rep] = getTpFp(num,rep,error,r,g,\"default\",num,rep,error,r,g)\n",
      "uniqueTp[rep],uniqueFp[rep] = getTpFp(num,rep,error,r,g,\"unique\",num,rep,error,r,g)\n",
      "multimapTp[rep],multimapFp[rep] = getTpFp(num,rep,error,r,g,\"multimap\",num,rep,error,r,g)\n",
      "print defaultTp, defaultFp, uniqueTp, uniqueFp, multimapTp, multimapFp"
     ],
     "language": "python",
     "metadata": {},
     "outputs": []
    },
    {
     "cell_type": "code",
     "collapsed": false,
     "input": [
      "num = \"200\"\n",
      "rep = \"3\"\n",
      "error = \"1\"\n",
      "r = \"100\"\n",
      "g = \"100\"\n",
      "createDataSet(num,rep)\n",
      "!grep '>' DataSet200rep3E1R100G100.fa | wc -l\n",
      "runBowtieBuild(num,rep,error,r,g)\n",
      "runBowtieAllParams(num,rep,error,r,g,num,rep,error,r,g)\n",
      "getTruePositivesAllParams(num,rep,error,r,g,\"random\")\n",
      "defaultTp[rep],defaultFp[rep] = getTpFp(num,rep,error,r,g,\"default\",num,rep,error,r,g)\n",
      "uniqueTp[rep],uniqueFp[rep] = getTpFp(num,rep,error,r,g,\"unique\",num,rep,error,r,g)\n",
      "multimapTp[rep],multimapFp[rep] = getTpFp(num,rep,error,r,g,\"multimap\",num,rep,error,r,g)\n",
      "print defaultTp, defaultFp, uniqueTp, uniqueFp, multimapTp, multimapFp"
     ],
     "language": "python",
     "metadata": {},
     "outputs": []
    },
    {
     "cell_type": "code",
     "collapsed": false,
     "input": [
      "id = \"95\"\n",
      "defaultAvgTp[id] = sum([defaultTp[\"1\"], defaultTp[\"2\"], defaultTp[\"3\"]]) / 3\n",
      "print \"Average Default True Positive Percentage: \", defaultAvgTp[id]\n",
      "defaultAvgFp[id] = sum([defaultFp[\"1\"], defaultFp[\"2\"], defaultFp[\"3\"]]) / 3\n",
      "print \"Average Default False Positive Percentage: \", defaultAvgFp[id]\n",
      "uniqueAvgTp[id] = sum([uniqueTp[\"1\"], uniqueTp[\"2\"], uniqueTp[\"3\"]]) / 3\n",
      "print \"Average Unique True Positive Percentage: \", uniqueAvgTp[id]\n",
      "uniqueAvgFp[id] = sum([uniqueFp[\"1\"], uniqueFp[\"2\"], uniqueFp[\"3\"]]) / 3\n",
      "print \"Average Unique False Positive Percentage: \", uniqueAvgFp[id]\n",
      "multimapAvgTp[id] = sum([multimapTp[\"1\"], multimapTp[\"2\"], multimapTp[\"3\"]]) / 3\n",
      "print \"Average Multimap True Positive Percentage: \", multimapAvgTp[id]\n",
      "multimapAvgFp[id] = sum([multimapFp[\"1\"], multimapFp[\"2\"], multimapFp[\"3\"]]) / 3\n",
      "print \"Average Multimap False Positive Percentage: \", multimapAvgFp[id]"
     ],
     "language": "python",
     "metadata": {},
     "outputs": []
    },
    {
     "cell_type": "heading",
     "level": 2,
     "metadata": {},
     "source": [
      "Test 3: Mapping accuracy of read sets generated from 50% expressed full chicken and mouse transcriptomes with incomplete reference transcriptomes"
     ]
    },
    {
     "cell_type": "raw",
     "metadata": {},
     "source": [
      "Chicken transcriptome, 50% expression, single end 100 bp reads, {0 10 100 100}x expression"
     ]
    },
    {
     "cell_type": "code",
     "collapsed": false,
     "input": [
      "defaultAvgTp = {}\n",
      "defaultAvgFp = {}\n",
      "uniqueAvgTp = {}\n",
      "uniqueAvgFp = {}\n",
      "multimapAvgTp = {}\n",
      "multimapAvgFp = {}"
     ],
     "language": "python",
     "metadata": {},
     "outputs": []
    },
    {
     "cell_type": "code",
     "collapsed": false,
     "input": [
      "num = \"234\"\n",
      "rep = \"1\"\n",
      "error = \"1\"\n",
      "r = \"100\"\n",
      "g = \"100\"\n",
      "createDataSet(num,rep)\n",
      "!grep '>' DataSet234rep1E1R100G100.fa | wc -l\n",
      "defaultTp = {}\n",
      "defaultFp = {}\n",
      "uniqueTp = {}\n",
      "uniqueFp = {}\n",
      "multimapTp = {}\n",
      "multimapFp = {}\n",
      "runBowtieBuild(num,rep,error,r,g)\n",
      "runBowtieAllParams(num,rep,error,r,g,num,rep,error,r,g)\n",
      "getTruePositivesAllParams(num,rep,error,r,g,\"random\")\n",
      "defaultTp[rep],defaultFp[rep] = getTpFp(num,rep,error,r,g,\"default\",num,rep,error,r,g)\n",
      "uniqueTp[rep],uniqueFp[rep] = getTpFp(num,rep,error,r,g,\"unique\",num,rep,error,r,g)\n",
      "multimapTp[rep],multimapFp[rep] = getTpFp(num,rep,error,r,g,\"multimap\",num,rep,error,r,g)\n",
      "print defaultTp, defaultFp, uniqueTp, uniqueFp, multimapTp, multimapFp"
     ],
     "language": "python",
     "metadata": {},
     "outputs": []
    },
    {
     "cell_type": "code",
     "collapsed": false,
     "input": [
      "num = \"234\"\n",
      "rep = \"2\"\n",
      "error = \"1\"\n",
      "r = \"100\"\n",
      "g = \"100\"\n",
      "createDataSet(num,rep)\n",
      "!grep '>' DataSet234rep2E1R100G100.fa | wc -l\n",
      "runBowtieBuild(num,rep,error,r,g)\n",
      "runBowtieAllParams(num,rep,error,r,g,num,rep,error,r,g)\n",
      "getTruePositivesAllParams(num,rep,error,r,g,\"random\")\n",
      "defaultTp[rep],defaultFp[rep] = getTpFp(num,rep,error,r,g,\"default\",num,rep,error,r,g)\n",
      "uniqueTp[rep],uniqueFp[rep] = getTpFp(num,rep,error,r,g,\"unique\",num,rep,error,r,g)\n",
      "multimapTp[rep],multimapFp[rep] = getTpFp(num,rep,error,r,g,\"multimap\",num,rep,error,r,g)\n",
      "print defaultTp, defaultFp, uniqueTp, uniqueFp, multimapTp, multimapFp"
     ],
     "language": "python",
     "metadata": {},
     "outputs": []
    },
    {
     "cell_type": "code",
     "collapsed": false,
     "input": [
      "num = \"234\"\n",
      "rep = \"3\"\n",
      "error = \"1\"\n",
      "r = \"100\"\n",
      "g = \"100\"\n",
      "createDataSet(num,rep)\n",
      "!grep '>' DataSet234rep3E1R100G100.fa | wc -l\n",
      "runBowtieBuild(num,rep,error,r,g)\n",
      "runBowtieAllParams(num,rep,error,r,g,num,rep,error,r,g)\n",
      "getTruePositivesAllParams(num,rep,error,r,g,\"random\")\n",
      "defaultTp[rep],defaultFp[rep] = getTpFp(num,rep,error,r,g,\"default\",num,rep,error,r,g)\n",
      "uniqueTp[rep],uniqueFp[rep] = getTpFp(num,rep,error,r,g,\"unique\",num,rep,error,r,g)\n",
      "multimapTp[rep],multimapFp[rep] = getTpFp(num,rep,error,r,g,\"multimap\",num,rep,error,r,g)\n",
      "print defaultTp, defaultFp, uniqueTp, uniqueFp, multimapTp, multimapFp"
     ],
     "language": "python",
     "metadata": {},
     "outputs": []
    },
    {
     "cell_type": "code",
     "collapsed": false,
     "input": [
      "id = \"100\"\n",
      "defaultAvgTp[id] = sum([defaultTp[\"1\"], defaultTp[\"2\"], defaultTp[\"3\"]]) / 3\n",
      "print \"Average Default True Positive Percentage: \", defaultAvgTp[id]\n",
      "defaultAvgFp[id] = sum([defaultFp[\"1\"], defaultFp[\"2\"], defaultFp[\"3\"]]) / 3\n",
      "print \"Average Default False Positive Percentage: \", defaultAvgFp[id]\n",
      "uniqueAvgTp[id] = sum([uniqueTp[\"1\"], uniqueTp[\"2\"], uniqueTp[\"3\"]]) / 3\n",
      "print \"Average Unique True Positive Percentage: \", uniqueAvgTp[id]\n",
      "uniqueAvgFp[id] = sum([uniqueFp[\"1\"], uniqueFp[\"2\"], uniqueFp[\"3\"]]) / 3\n",
      "print \"Average Unique False Positive Percentage: \", uniqueAvgFp[id]\n",
      "multimapAvgTp[id] = sum([multimapTp[\"1\"], multimapTp[\"2\"], multimapTp[\"3\"]]) / 3\n",
      "print \"Average Multimap True Positive Percentage: \", multimapAvgTp[id]\n",
      "multimapAvgFp[id] = sum([multimapFp[\"1\"], multimapFp[\"2\"], multimapFp[\"3\"]]) / 3\n",
      "print \"Average Multimap False Positive Percentage: \", multimapAvgFp[id]"
     ],
     "language": "python",
     "metadata": {},
     "outputs": []
    },
    {
     "cell_type": "code",
     "collapsed": false,
     "input": [
      "num = \"234\"\n",
      "rep = \"1\"\n",
      "error = \"1\"\n",
      "r = \"90\"\n",
      "id = \"090\"\n",
      "g = \"100\"\n",
      "rr = \"100\"\n",
      "runBowtieBuild(num,rep,error,r,g)\n",
      "runBowtieAllParams(num,rep,error,r,g,num,rep,error,r,g)\n",
      "getTruePositivesAllParams(num,rep,error,r,g,\"chicken\")\n",
      "defaultTp[rep],defaultFp[rep] = getTpFp(num,rep,error,r,g,\"default\",num,rep,error,r,g)\n",
      "uniqueTp[rep],uniqueFp[rep] = getTpFp(num,rep,error,r,g,\"unique\",num,rep,error,r,g)\n",
      "multimapTp[rep],multimapFp[rep] = getTpFp(num,rep,error,r,g,\"multimap\",num,rep,error,r,g)\n",
      "rep = \"2\"\n",
      "runBowtieBuild(num,rep,error,r,g)\n",
      "runBowtieAllParams(num,rep,error,r,g,num,rep,error,r,g)\n",
      "getTruePositivesAllParams(num,rep,error,r,g,\"chicken\")\n",
      "defaultTp[rep],defaultFp[rep] = getTpFp(num,rep,error,r,g,\"default\",num,rep,error,r,g)\n",
      "uniqueTp[rep],uniqueFp[rep] = getTpFp(num,rep,error,r,g,\"unique\",num,rep,error,r,g)\n",
      "multimapTp[rep],multimapFp[rep] = getTpFp(num,rep,error,r,g,\"multimap\",num,rep,error,r,g)\n",
      "rep = \"3\"\n",
      "runBowtieBuild(num,rep,error,r,g)\n",
      "runBowtieAllParams(num,rep,error,r,g,num,rep,error,r,g)\n",
      "getTruePositivesAllParams(num,rep,error,r,g,\"chicken\")\n",
      "defaultTp[rep],defaultFp[rep] = getTpFp(num,rep,error,r,g,\"default\",num,rep,error,r,g)\n",
      "uniqueTp[rep],uniqueFp[rep] = getTpFp(num,rep,error,r,g,\"unique\",num,rep,error,r,g)\n",
      "multimapTp[rep],multimapFp[rep] = getTpFp(num,rep,error,r,g,\"multimap\",num,rep,error,r,g)\n",
      "defaultAvgTp[id] = getAverage([defaultTp[\"1\"], defaultTp[\"2\"], defaultTp[\"3\"]])\n",
      "print \"Average Default True Positive Percentage: \", defaultAvgTp[id]\n",
      "defaultAvgFp[id] = getAverage([defaultFp[\"1\"], defaultFp[\"2\"], defaultFp[\"3\"]])\n",
      "print \"Average Default False Positive Percentage: \", defaultAvgFp[id]\n",
      "uniqueAvgTp[id] = getAverage([uniqueTp[\"1\"], uniqueTp[\"2\"], uniqueTp[\"3\"]])\n",
      "print \"Average Unique True Positive Percentage: \", uniqueAvgTp[id]\n",
      "uniqueAvgFp[id] = getAverage([uniqueFp[\"1\"], uniqueFp[\"2\"], uniqueFp[\"3\"]])\n",
      "print \"Average Unique False Positive Percentage: \", uniqueAvgFp[id]\n",
      "multimapAvgTp[id] = getAverage([multimapTp[\"1\"], multimapTp[\"2\"], multimapTp[\"3\"]])\n",
      "print \"Average Multimap True Positive Percentage: \", multimapAvgTp[id]\n",
      "multimapAvgFp[id] = getAverage([multimapFp[\"1\"], multimapFp[\"2\"], multimapFp[\"3\"]])\n",
      "print \"Average Multimap False Positive Percentage: \", multimapAvgFp[id]"
     ],
     "language": "python",
     "metadata": {},
     "outputs": []
    },
    {
     "cell_type": "code",
     "collapsed": false,
     "input": [
      "num = \"234\"\n",
      "rep = \"1\"\n",
      "error = \"1\"\n",
      "r = \"80\"\n",
      "id = \"080\"\n",
      "g = \"100\"\n",
      "rr = \"100\"\n",
      "runBowtieBuild(num,rep,error,r,g)\n",
      "runBowtieAllParams(num,rep,error,r,g,num,rep,error,r,g)\n",
      "getTruePositivesAllParams(num,rep,error,r,g,\"chicken\")\n",
      "defaultTp[rep],defaultFp[rep] = getTpFp(num,rep,error,r,g,\"default\",num,rep,error,r,g)\n",
      "uniqueTp[rep],uniqueFp[rep] = getTpFp(num,rep,error,r,g,\"unique\",num,rep,error,r,g)\n",
      "multimapTp[rep],multimapFp[rep] = getTpFp(num,rep,error,r,g,\"multimap\",num,rep,error,r,g)\n",
      "rep = \"2\"\n",
      "runBowtieBuild(num,rep,error,r,g)\n",
      "runBowtieAllParams(num,rep,error,r,g,num,rep,error,r,g)\n",
      "getTruePositivesAllParams(num,rep,error,r,g,\"chicken\")\n",
      "defaultTp[rep],defaultFp[rep] = getTpFp(num,rep,error,r,g,\"default\",num,rep,error,r,g)\n",
      "uniqueTp[rep],uniqueFp[rep] = getTpFp(num,rep,error,r,g,\"unique\",num,rep,error,r,g)\n",
      "multimapTp[rep],multimapFp[rep] = getTpFp(num,rep,error,r,g,\"multimap\",num,rep,error,r,g)\n",
      "rep = \"3\"\n",
      "runBowtieBuild(num,rep,error,r,g)\n",
      "runBowtieAllParams(num,rep,error,r,g,num,rep,error,r,g)\n",
      "getTruePositivesAllParams(num,rep,error,r,g,\"chicken\")\n",
      "defaultTp[rep],defaultFp[rep] = getTpFp(num,rep,error,r,g,\"default\",num,rep,error,r,g)\n",
      "uniqueTp[rep],uniqueFp[rep] = getTpFp(num,rep,error,r,g,\"unique\",num,rep,error,r,g)\n",
      "multimapTp[rep],multimapFp[rep] = getTpFp(num,rep,error,r,g,\"multimap\",num,rep,error,r,g)\n",
      "defaultAvgTp[id] = sum([defaultTp[\"1\"], defaultTp[\"2\"], defaultTp[\"3\"]]) / 3\n",
      "print \"Average Default True Positive Percentage: \", defaultAvgTp[id]\n",
      "defaultAvgFp[id] = sum([defaultFp[\"1\"], defaultFp[\"2\"], defaultFp[\"3\"]]) / 3\n",
      "print \"Average Default False Positive Percentage: \", defaultAvgFp[id]\n",
      "uniqueAvgTp[id] = sum([uniqueTp[\"1\"], uniqueTp[\"2\"], uniqueTp[\"3\"]]) / 3\n",
      "print \"Average Unique True Positive Percentage: \", uniqueAvgTp[id]\n",
      "uniqueAvgFp[id] = sum([uniqueFp[\"1\"], uniqueFp[\"2\"], uniqueFp[\"3\"]]) / 3\n",
      "print \"Average Unique False Positive Percentage: \", uniqueAvgFp[id]\n",
      "multimapAvgTp[id] = sum([multimapTp[\"1\"], multimapTp[\"2\"], multimapTp[\"3\"]]) / 3\n",
      "print \"Average Multimap True Positive Percentage: \", multimapAvgTp[id]\n",
      "multimapAvgFp[id] = sum([multimapFp[\"1\"], multimapFp[\"2\"], multimapFp[\"3\"]]) / 3\n",
      "print \"Average Multimap False Positive Percentage: \", multimapAvgFp[id]"
     ],
     "language": "python",
     "metadata": {},
     "outputs": []
    },
    {
     "cell_type": "code",
     "collapsed": false,
     "input": [
      "num = \"234\"\n",
      "rep = \"1\"\n",
      "error = \"1\"\n",
      "r = \"70\"\n",
      "id = \"070\"\n",
      "g = \"100\"\n",
      "rr = \"100\"\n",
      "runBowtieBuild(num,rep,error,r,g)\n",
      "runBowtieAllParams(num,rep,error,r,g,num,rep,error,r,g)\n",
      "getTruePositivesAllParams(num,rep,error,r,g,\"chicken\")\n",
      "defaultTp[rep],defaultFp[rep] = getTpFp(num,rep,error,r,g,\"default\",num,rep,error,r,g)\n",
      "uniqueTp[rep],uniqueFp[rep] = getTpFp(num,rep,error,r,g,\"unique\",num,rep,error,r,g)\n",
      "multimapTp[rep],multimapFp[rep] = getTpFp(num,rep,error,r,g,\"multimap\",num,rep,error,r,g)\n",
      "rep = \"2\"\n",
      "runBowtieBuild(num,rep,error,r,g)\n",
      "runBowtieAllParams(num,rep,error,r,g,num,rep,error,r,g)\n",
      "getTruePositivesAllParams(num,rep,error,r,g,\"chicken\")\n",
      "defaultTp[rep],defaultFp[rep] = getTpFp(num,rep,error,r,g,\"default\",num,rep,error,r,g)\n",
      "uniqueTp[rep],uniqueFp[rep] = getTpFp(num,rep,error,r,g,\"unique\",num,rep,error,r,g)\n",
      "multimapTp[rep],multimapFp[rep] = getTpFp(num,rep,error,r,g,\"multimap\",num,rep,error,r,g)\n",
      "rep = \"3\"\n",
      "runBowtieBuild(num,rep,error,r,g)\n",
      "runBowtieAllParams(num,rep,error,r,g,num,rep,error,r,g)\n",
      "getTruePositivesAllParams(num,rep,error,r,g,\"chicken\")\n",
      "defaultTp[rep],defaultFp[rep] = getTpFp(num,rep,error,r,g,\"default\",num,rep,error,r,g)\n",
      "uniqueTp[rep],uniqueFp[rep] = getTpFp(num,rep,error,r,g,\"unique\",num,rep,error,r,g)\n",
      "multimapTp[rep],multimapFp[rep] = getTpFp(num,rep,error,r,g,\"multimap\",num,rep,error,r,g)\n",
      "defaultAvgTp[id] = sum([defaultTp[\"1\"], defaultTp[\"2\"], defaultTp[\"3\"]]) / 3\n",
      "print \"Average Default True Positive Percentage: \", defaultAvgTp[id]\n",
      "defaultAvgFp[id] = sum([defaultFp[\"1\"], defaultFp[\"2\"], defaultFp[\"3\"]]) / 3\n",
      "print \"Average Default False Positive Percentage: \", defaultAvgFp[id]\n",
      "uniqueAvgTp[id] = sum([uniqueTp[\"1\"], uniqueTp[\"2\"], uniqueTp[\"3\"]]) / 3\n",
      "print \"Average Unique True Positive Percentage: \", uniqueAvgTp[id]\n",
      "uniqueAvgFp[id] = sum([uniqueFp[\"1\"], uniqueFp[\"2\"], uniqueFp[\"3\"]]) / 3\n",
      "print \"Average Unique False Positive Percentage: \", uniqueAvgFp[id]\n",
      "multimapAvgTp[id] = sum([multimapTp[\"1\"], multimapTp[\"2\"], multimapTp[\"3\"]]) / 3\n",
      "print \"Average Multimap True Positive Percentage: \", multimapAvgTp[id]\n",
      "multimapAvgFp[id] = sum([multimapFp[\"1\"], multimapFp[\"2\"], multimapFp[\"3\"]]) / 3\n",
      "print \"Average Multimap False Positive Percentage: \", multimapAvgFp[id]"
     ],
     "language": "python",
     "metadata": {},
     "outputs": []
    },
    {
     "cell_type": "code",
     "collapsed": false,
     "input": [
      "num = \"234\"\n",
      "rep = \"1\"\n",
      "error = \"1\"\n",
      "r = \"60\"\n",
      "id = \"060\"\n",
      "g = \"100\"\n",
      "rr = \"100\"\n",
      "runBowtieBuild(num,rep,error,r,g)\n",
      "runBowtieAllParams(num,rep,error,r,g,num,rep,error,r,g)\n",
      "getTruePositivesAllParams(num,rep,error,r,g,\"chicken\")\n",
      "defaultTp[rep],defaultFp[rep] = getTpFp(num,rep,error,r,g,\"default\",num,rep,error,r,g)\n",
      "uniqueTp[rep],uniqueFp[rep] = getTpFp(num,rep,error,r,g,\"unique\",num,rep,error,r,g)\n",
      "multimapTp[rep],multimapFp[rep] = getTpFp(num,rep,error,r,g,\"multimap\",num,rep,error,r,g)\n",
      "rep = \"2\"\n",
      "runBowtieBuild(num,rep,error,r,g)\n",
      "runBowtieAllParams(num,rep,error,r,g,num,rep,error,r,g)\n",
      "getTruePositivesAllParams(num,rep,error,r,g,\"chicken\")\n",
      "defaultTp[rep],defaultFp[rep] = getTpFp(num,rep,error,r,g,\"default\",num,rep,error,r,g)\n",
      "uniqueTp[rep],uniqueFp[rep] = getTpFp(num,rep,error,r,g,\"unique\",num,rep,error,r,g)\n",
      "multimapTp[rep],multimapFp[rep] = getTpFp(num,rep,error,r,g,\"multimap\",num,rep,error,r,g)\n",
      "rep = \"3\"\n",
      "runBowtieBuild(num,rep,error,r,g)\n",
      "runBowtieAllParams(num,rep,error,r,g,num,rep,error,r,g)\n",
      "getTruePositivesAllParams(num,rep,error,r,g,\"chicken\")\n",
      "defaultTp[rep],defaultFp[rep] = getTpFp(num,rep,error,r,g,\"default\",num,rep,error,r,g)\n",
      "uniqueTp[rep],uniqueFp[rep] = getTpFp(num,rep,error,r,g,\"unique\",num,rep,error,r,g)\n",
      "multimapTp[rep],multimapFp[rep] = getTpFp(num,rep,error,r,g,\"multimap\",num,rep,error,r,g)\n",
      "defaultAvgTp[id] = sum([defaultTp[\"1\"], defaultTp[\"2\"], defaultTp[\"3\"]]) / 3\n",
      "print \"Average Default True Positive Percentage: \", defaultAvgTp[id]\n",
      "defaultAvgFp[id] = sum([defaultFp[\"1\"], defaultFp[\"2\"], defaultFp[\"3\"]]) / 3\n",
      "print \"Average Default False Positive Percentage: \", defaultAvgFp[id]\n",
      "uniqueAvgTp[id] = sum([uniqueTp[\"1\"], uniqueTp[\"2\"], uniqueTp[\"3\"]]) / 3\n",
      "print \"Average Unique True Positive Percentage: \", uniqueAvgTp[id]\n",
      "uniqueAvgFp[id] = sum([uniqueFp[\"1\"], uniqueFp[\"2\"], uniqueFp[\"3\"]]) / 3\n",
      "print \"Average Unique False Positive Percentage: \", uniqueAvgFp[id]\n",
      "multimapAvgTp[id] = sum([multimapTp[\"1\"], multimapTp[\"2\"], multimapTp[\"3\"]]) / 3\n",
      "print \"Average Multimap True Positive Percentage: \", multimapAvgTp[id]\n",
      "multimapAvgFp[id] = sum([multimapFp[\"1\"], multimapFp[\"2\"], multimapFp[\"3\"]]) / 3\n",
      "print \"Average Multimap False Positive Percentage: \", multimapAvgFp[id]"
     ],
     "language": "python",
     "metadata": {},
     "outputs": []
    },
    {
     "cell_type": "code",
     "collapsed": false,
     "input": [
      "num = \"234\"\n",
      "rep = \"1\"\n",
      "error = \"1\"\n",
      "r = \"50\"\n",
      "id = \"050\"\n",
      "g = \"100\"\n",
      "rr = \"100\"\n",
      "runBowtieBuild(num,rep,error,r,g)\n",
      "runBowtieAllParams(num,rep,error,r,g,num,rep,error,r,g)\n",
      "getTruePositivesAllParams(num,rep,error,r,g,\"chicken\")\n",
      "defaultTp[rep],defaultFp[rep] = getTpFp(num,rep,error,r,g,\"default\",num,rep,error,r,g)\n",
      "uniqueTp[rep],uniqueFp[rep] = getTpFp(num,rep,error,r,g,\"unique\",num,rep,error,r,g)\n",
      "multimapTp[rep],multimapFp[rep] = getTpFp(num,rep,error,r,g,\"multimap\",num,rep,error,r,g)\n",
      "rep = \"2\"\n",
      "runBowtieBuild(num,rep,error,r,g)\n",
      "runBowtieAllParams(num,rep,error,r,g,num,rep,error,r,g)\n",
      "getTruePositivesAllParams(num,rep,error,r,g,\"chicken\")\n",
      "defaultTp[rep],defaultFp[rep] = getTpFp(num,rep,error,r,g,\"default\",num,rep,error,r,g)\n",
      "uniqueTp[rep],uniqueFp[rep] = getTpFp(num,rep,error,r,g,\"unique\",num,rep,error,r,g)\n",
      "multimapTp[rep],multimapFp[rep] = getTpFp(num,rep,error,r,g,\"multimap\",num,rep,error,r,g)\n",
      "rep = \"3\"\n",
      "runBowtieBuild(num,rep,error,r,g)\n",
      "runBowtieAllParams(num,rep,error,r,g,num,rep,error,r,g)\n",
      "getTruePositivesAllParams(num,rep,error,r,g,\"chicken\")\n",
      "defaultTp[rep],defaultFp[rep] = getTpFp(num,rep,error,r,g,\"default\",num,rep,error,r,g)\n",
      "uniqueTp[rep],uniqueFp[rep] = getTpFp(num,rep,error,r,g,\"unique\",num,rep,error,r,g)\n",
      "multimapTp[rep],multimapFp[rep] = getTpFp(num,rep,error,r,g,\"multimap\",num,rep,error,r,g)\n",
      "defaultAvgTp[id] = sum([defaultTp[\"1\"], defaultTp[\"2\"], defaultTp[\"3\"]]) / 3\n",
      "print \"Average Default True Positive Percentage: \", defaultAvgTp[id]\n",
      "defaultAvgFp[id] = sum([defaultFp[\"1\"], defaultFp[\"2\"], defaultFp[\"3\"]]) / 3\n",
      "print \"Average Default False Positive Percentage: \", defaultAvgFp[id]\n",
      "uniqueAvgTp[id] = sum([uniqueTp[\"1\"], uniqueTp[\"2\"], uniqueTp[\"3\"]]) / 3\n",
      "print \"Average Unique True Positive Percentage: \", uniqueAvgTp[id]\n",
      "uniqueAvgFp[id] = sum([uniqueFp[\"1\"], uniqueFp[\"2\"], uniqueFp[\"3\"]]) / 3\n",
      "print \"Average Unique False Positive Percentage: \", uniqueAvgFp[id]\n",
      "multimapAvgTp[id] = sum([multimapTp[\"1\"], multimapTp[\"2\"], multimapTp[\"3\"]]) / 3\n",
      "print \"Average Multimap True Positive Percentage: \", multimapAvgTp[id]\n",
      "multimapAvgFp[id] = sum([multimapFp[\"1\"], multimapFp[\"2\"], multimapFp[\"3\"]]) / 3\n",
      "print \"Average Multimap False Positive Percentage: \", multimapAvgFp[id]"
     ],
     "language": "python",
     "metadata": {},
     "outputs": []
    },
    {
     "cell_type": "code",
     "collapsed": false,
     "input": [
      "num = \"234\"\n",
      "rep = \"1\"\n",
      "error = \"1\"\n",
      "r = \"40\"\n",
      "id = \"040\"\n",
      "g = \"100\"\n",
      "rr = \"100\"\n",
      "runBowtieBuild(num,rep,error,r,g)\n",
      "runBowtieAllParams(num,rep,error,r,g,num,rep,error,r,g)\n",
      "getTruePositivesAllParams(num,rep,error,r,g,\"chicken\")\n",
      "defaultTp[rep],defaultFp[rep] = getTpFp(num,rep,error,r,g,\"default\",num,rep,error,r,g)\n",
      "uniqueTp[rep],uniqueFp[rep] = getTpFp(num,rep,error,r,g,\"unique\",num,rep,error,r,g)\n",
      "multimapTp[rep],multimapFp[rep] = getTpFp(num,rep,error,r,g,\"multimap\",num,rep,error,r,g)\n",
      "rep = \"2\"\n",
      "runBowtieBuild(num,rep,error,r,g)\n",
      "runBowtieAllParams(num,rep,error,r,g,num,rep,error,r,g)\n",
      "getTruePositivesAllParams(num,rep,error,r,g,\"chicken\")\n",
      "defaultTp[rep],defaultFp[rep] = getTpFp(num,rep,error,r,g,\"default\",num,rep,error,r,g)\n",
      "uniqueTp[rep],uniqueFp[rep] = getTpFp(num,rep,error,r,g,\"unique\",num,rep,error,r,g)\n",
      "multimapTp[rep],multimapFp[rep] = getTpFp(num,rep,error,r,g,\"multimap\",num,rep,error,r,g)\n",
      "rep = \"3\"\n",
      "runBowtieBuild(num,rep,error,r,g)\n",
      "runBowtieAllParams(num,rep,error,r,g,num,rep,error,r,g)\n",
      "getTruePositivesAllParams(num,rep,error,r,g,\"chicken\")\n",
      "defaultTp[rep],defaultFp[rep] = getTpFp(num,rep,error,r,g,\"default\",num,rep,error,r,g)\n",
      "uniqueTp[rep],uniqueFp[rep] = getTpFp(num,rep,error,r,g,\"unique\",num,rep,error,r,g)\n",
      "multimapTp[rep],multimapFp[rep] = getTpFp(num,rep,error,r,g,\"multimap\",num,rep,error,r,g)\n",
      "defaultAvgTp[id] = sum([defaultTp[\"1\"], defaultTp[\"2\"], defaultTp[\"3\"]]) / 3\n",
      "print \"Average Default True Positive Percentage: \", defaultAvgTp[id]\n",
      "defaultAvgFp[id] = sum([defaultFp[\"1\"], defaultFp[\"2\"], defaultFp[\"3\"]]) / 3\n",
      "print \"Average Default False Positive Percentage: \", defaultAvgFp[id]\n",
      "uniqueAvgTp[id] = sum([uniqueTp[\"1\"], uniqueTp[\"2\"], uniqueTp[\"3\"]]) / 3\n",
      "print \"Average Unique True Positive Percentage: \", uniqueAvgTp[id]\n",
      "uniqueAvgFp[id] = sum([uniqueFp[\"1\"], uniqueFp[\"2\"], uniqueFp[\"3\"]]) / 3\n",
      "print \"Average Unique False Positive Percentage: \", uniqueAvgFp[id]\n",
      "multimapAvgTp[id] = sum([multimapTp[\"1\"], multimapTp[\"2\"], multimapTp[\"3\"]]) / 3\n",
      "print \"Average Multimap True Positive Percentage: \", multimapAvgTp[id]\n",
      "multimapAvgFp[id] = sum([multimapFp[\"1\"], multimapFp[\"2\"], multimapFp[\"3\"]]) / 3\n",
      "print \"Average Multimap False Positive Percentage: \", multimapAvgFp[id]"
     ],
     "language": "python",
     "metadata": {},
     "outputs": []
    },
    {
     "cell_type": "code",
     "collapsed": false,
     "input": [
      "num = \"234\"\n",
      "rep = \"1\"\n",
      "error = \"1\"\n",
      "r = \"30\"\n",
      "id = \"030\"\n",
      "g = \"100\"\n",
      "rr = \"100\"\n",
      "runBowtieBuild(num,rep,error,r,g)\n",
      "runBowtieAllParams(num,rep,error,r,g,num,rep,error,r,g)\n",
      "getTruePositivesAllParams(num,rep,error,r,g,\"chicken\")\n",
      "defaultTp[rep],defaultFp[rep] = getTpFp(num,rep,error,r,g,\"default\",num,rep,error,r,g)\n",
      "uniqueTp[rep],uniqueFp[rep] = getTpFp(num,rep,error,r,g,\"unique\",num,rep,error,r,g)\n",
      "multimapTp[rep],multimapFp[rep] = getTpFp(num,rep,error,r,g,\"multimap\",num,rep,error,r,g)\n",
      "rep = \"2\"\n",
      "runBowtieBuild(num,rep,error,r,g)\n",
      "runBowtieAllParams(num,rep,error,r,g,num,rep,error,r,g)\n",
      "getTruePositivesAllParams(num,rep,error,r,g,\"chicken\")\n",
      "defaultTp[rep],defaultFp[rep] = getTpFp(num,rep,error,r,g,\"default\",num,rep,error,r,g)\n",
      "uniqueTp[rep],uniqueFp[rep] = getTpFp(num,rep,error,r,g,\"unique\",num,rep,error,r,g)\n",
      "multimapTp[rep],multimapFp[rep] = getTpFp(num,rep,error,r,g,\"multimap\",num,rep,error,r,g)\n",
      "rep = \"3\"\n",
      "runBowtieBuild(num,rep,error,r,g)\n",
      "runBowtieAllParams(num,rep,error,r,g,num,rep,error,r,g)\n",
      "getTruePositivesAllParams(num,rep,error,r,g,\"chicken\")\n",
      "defaultTp[rep],defaultFp[rep] = getTpFp(num,rep,error,r,g,\"default\",num,rep,error,r,g)\n",
      "uniqueTp[rep],uniqueFp[rep] = getTpFp(num,rep,error,r,g,\"unique\",num,rep,error,r,g)\n",
      "multimapTp[rep],multimapFp[rep] = getTpFp(num,rep,error,r,g,\"multimap\",num,rep,error,r,g)\n",
      "defaultAvgTp[id] = sum([defaultTp[\"1\"], defaultTp[\"2\"], defaultTp[\"3\"]]) / 3\n",
      "print \"Average Default True Positive Percentage: \", defaultAvgTp[id]\n",
      "defaultAvgFp[id] = sum([defaultFp[\"1\"], defaultFp[\"2\"], defaultFp[\"3\"]]) / 3\n",
      "print \"Average Default False Positive Percentage: \", defaultAvgFp[id]\n",
      "uniqueAvgTp[id] = sum([uniqueTp[\"1\"], uniqueTp[\"2\"], uniqueTp[\"3\"]]) / 3\n",
      "print \"Average Unique True Positive Percentage: \", uniqueAvgTp[id]\n",
      "uniqueAvgFp[id] = sum([uniqueFp[\"1\"], uniqueFp[\"2\"], uniqueFp[\"3\"]]) / 3\n",
      "print \"Average Unique False Positive Percentage: \", uniqueAvgFp[id]\n",
      "multimapAvgTp[id] = sum([multimapTp[\"1\"], multimapTp[\"2\"], multimapTp[\"3\"]]) / 3\n",
      "print \"Average Multimap True Positive Percentage: \", multimapAvgTp[id]\n",
      "multimapAvgFp[id] = sum([multimapFp[\"1\"], multimapFp[\"2\"], multimapFp[\"3\"]]) / 3\n",
      "print \"Average Multimap False Positive Percentage: \", multimapAvgFp[id]"
     ],
     "language": "python",
     "metadata": {},
     "outputs": []
    },
    {
     "cell_type": "code",
     "collapsed": false,
     "input": [
      "num = \"234\"\n",
      "rep = \"1\"\n",
      "error = \"1\"\n",
      "r = \"20\"\n",
      "id = \"020\"\n",
      "g = \"100\"\n",
      "rr = \"100\"\n",
      "runBowtieBuild(num,rep,error,r,g)\n",
      "runBowtieAllParams(num,rep,error,r,g,num,rep,error,r,g)\n",
      "getTruePositivesAllParams(num,rep,error,r,g,\"chicken\")\n",
      "defaultTp[rep],defaultFp[rep] = getTpFp(num,rep,error,r,g,\"default\",num,rep,error,r,g)\n",
      "uniqueTp[rep],uniqueFp[rep] = getTpFp(num,rep,error,r,g,\"unique\",num,rep,error,r,g)\n",
      "multimapTp[rep],multimapFp[rep] = getTpFp(num,rep,error,r,g,\"multimap\",num,rep,error,r,g)\n",
      "rep = \"2\"\n",
      "runBowtieBuild(num,rep,error,r,g)\n",
      "runBowtieAllParams(num,rep,error,r,g,num,rep,error,r,g)\n",
      "getTruePositivesAllParams(num,rep,error,r,g,\"chicken\")\n",
      "defaultTp[rep],defaultFp[rep] = getTpFp(num,rep,error,r,g,\"default\",num,rep,error,r,g)\n",
      "uniqueTp[rep],uniqueFp[rep] = getTpFp(num,rep,error,r,g,\"unique\",num,rep,error,r,g)\n",
      "multimapTp[rep],multimapFp[rep] = getTpFp(num,rep,error,r,g,\"multimap\",num,rep,error,r,g)\n",
      "rep = \"3\"\n",
      "runBowtieBuild(num,rep,error,r,g)\n",
      "runBowtieAllParams(num,rep,error,r,g,num,rep,error,r,g)\n",
      "getTruePositivesAllParams(num,rep,error,r,g,\"chicken\")\n",
      "defaultTp[rep],defaultFp[rep] = getTpFp(num,rep,error,r,g,\"default\",num,rep,error,r,g)\n",
      "uniqueTp[rep],uniqueFp[rep] = getTpFp(num,rep,error,r,g,\"unique\",num,rep,error,r,g)\n",
      "multimapTp[rep],multimapFp[rep] = getTpFp(num,rep,error,r,g,\"multimap\",num,rep,error,r,g)\n",
      "defaultAvgTp[id] = sum([defaultTp[\"1\"], defaultTp[\"2\"], defaultTp[\"3\"]]) / 3\n",
      "print \"Average Default True Positive Percentage: \", defaultAvgTp[id]\n",
      "defaultAvgFp[id] = sum([defaultFp[\"1\"], defaultFp[\"2\"], defaultFp[\"3\"]]) / 3\n",
      "print \"Average Default False Positive Percentage: \", defaultAvgFp[id]\n",
      "uniqueAvgTp[id] = sum([uniqueTp[\"1\"], uniqueTp[\"2\"], uniqueTp[\"3\"]]) / 3\n",
      "print \"Average Unique True Positive Percentage: \", uniqueAvgTp[id]\n",
      "uniqueAvgFp[id] = sum([uniqueFp[\"1\"], uniqueFp[\"2\"], uniqueFp[\"3\"]]) / 3\n",
      "print \"Average Unique False Positive Percentage: \", uniqueAvgFp[id]\n",
      "multimapAvgTp[id] = sum([multimapTp[\"1\"], multimapTp[\"2\"], multimapTp[\"3\"]]) / 3\n",
      "print \"Average Multimap True Positive Percentage: \", multimapAvgTp[id]\n",
      "multimapAvgFp[id] = sum([multimapFp[\"1\"], multimapFp[\"2\"], multimapFp[\"3\"]]) / 3\n",
      "print \"Average Multimap False Positive Percentage: \", multimapAvgFp[id]"
     ],
     "language": "python",
     "metadata": {},
     "outputs": []
    },
    {
     "cell_type": "code",
     "collapsed": false,
     "input": [
      "num = \"234\"\n",
      "rep = \"1\"\n",
      "error = \"1\"\n",
      "r = \"10\"\n",
      "id = \"010\"\n",
      "g = \"100\"\n",
      "rr = \"100\"\n",
      "runBowtieBuild(num,rep,error,r,g)\n",
      "runBowtieAllParams(num,rep,error,r,g,num,rep,error,r,g)\n",
      "getTruePositivesAllParams(num,rep,error,r,g,\"chicken\")\n",
      "defaultTp[rep],defaultFp[rep] = getTpFp(num,rep,error,r,g,\"default\",num,rep,error,r,g)\n",
      "uniqueTp[rep],uniqueFp[rep] = getTpFp(num,rep,error,r,g,\"unique\",num,rep,error,r,g)\n",
      "multimapTp[rep],multimapFp[rep] = getTpFp(num,rep,error,r,g,\"multimap\",num,rep,error,r,g)\n",
      "rep = \"2\"\n",
      "runBowtieBuild(num,rep,error,r,g)\n",
      "runBowtieAllParams(num,rep,error,r,g,num,rep,error,r,g)\n",
      "getTruePositivesAllParams(num,rep,error,r,g,\"chicken\")\n",
      "defaultTp[rep],defaultFp[rep] = getTpFp(num,rep,error,r,g,\"default\",num,rep,error,r,g)\n",
      "uniqueTp[rep],uniqueFp[rep] = getTpFp(num,rep,error,r,g,\"unique\",num,rep,error,r,g)\n",
      "multimapTp[rep],multimapFp[rep] = getTpFp(num,rep,error,r,g,\"multimap\",num,rep,error,r,g)\n",
      "rep = \"3\"\n",
      "runBowtieBuild(num,rep,error,r,g)\n",
      "runBowtieAllParams(num,rep,error,r,g,num,rep,error,r,g)\n",
      "getTruePositivesAllParams(num,rep,error,r,g,\"chicken\")\n",
      "defaultTp[rep],defaultFp[rep] = getTpFp(num,rep,error,r,g,\"default\",num,rep,error,r,g)\n",
      "uniqueTp[rep],uniqueFp[rep] = getTpFp(num,rep,error,r,g,\"unique\",num,rep,error,r,g)\n",
      "multimapTp[rep],multimapFp[rep] = getTpFp(num,rep,error,r,g,\"multimap\",num,rep,error,r,g)\n",
      "defaultAvgTp[id] = sum([defaultTp[\"1\"], defaultTp[\"2\"], defaultTp[\"3\"]]) / 3\n",
      "print \"Average Default True Positive Percentage: \", defaultAvgTp[id]\n",
      "defaultAvgFp[id] = sum([defaultFp[\"1\"], defaultFp[\"2\"], defaultFp[\"3\"]]) / 3\n",
      "print \"Average Default False Positive Percentage: \", defaultAvgFp[id]\n",
      "uniqueAvgTp[id] = sum([uniqueTp[\"1\"], uniqueTp[\"2\"], uniqueTp[\"3\"]]) / 3\n",
      "print \"Average Unique True Positive Percentage: \", uniqueAvgTp[id]\n",
      "uniqueAvgFp[id] = sum([uniqueFp[\"1\"], uniqueFp[\"2\"], uniqueFp[\"3\"]]) / 3\n",
      "print \"Average Unique False Positive Percentage: \", uniqueAvgFp[id]\n",
      "multimapAvgTp[id] = sum([multimapTp[\"1\"], multimapTp[\"2\"], multimapTp[\"3\"]]) / 3\n",
      "print \"Average Multimap True Positive Percentage: \", multimapAvgTp[id]\n",
      "multimapAvgFp[id] = sum([multimapFp[\"1\"], multimapFp[\"2\"], multimapFp[\"3\"]]) / 3\n",
      "print \"Average Multimap False Positive Percentage: \", multimapAvgFp[id]"
     ],
     "language": "python",
     "metadata": {},
     "outputs": []
    },
    {
     "cell_type": "raw",
     "metadata": {},
     "source": [
      "Mouse transcriptome, 50% expression, single end 100 bp reads, {0 10 100 100}x expression"
     ]
    },
    {
     "cell_type": "code",
     "collapsed": false,
     "input": [
      "defaultAvgTp = {}\n",
      "defaultAvgFp = {}\n",
      "uniqueAvgTp = {}\n",
      "uniqueAvgFp = {}\n",
      "multimapAvgTp = {}\n",
      "multimapAvgFp = {}"
     ],
     "language": "python",
     "metadata": {},
     "outputs": []
    },
    {
     "cell_type": "code",
     "collapsed": false,
     "input": [
      "num = \"230\"\n",
      "rep = \"1\"\n",
      "error = \"1\"\n",
      "r = \"100\"\n",
      "g = \"100\"\n",
      "createDataSet(num,rep)\n",
      "!grep '>' DataSet230rep1E1R100G100.fa | wc -l\n",
      "defaultTp = {}\n",
      "defaultFp = {}\n",
      "uniqueTp = {}\n",
      "uniqueFp = {}\n",
      "multimapTp = {}\n",
      "multimapFp = {}\n",
      "runBowtieBuild(num,rep,error,r,g)\n",
      "runBowtieAllParams(num,rep,error,r,g,num,rep,error,r,g)\n",
      "getTruePositivesAllParams(num,rep,error,r,g,\"mouse\")\n",
      "defaultTp[rep],defaultFp[rep] = getTpFp(num,rep,error,r,g,\"default\",num,rep,error,r,g)\n",
      "uniqueTp[rep],uniqueFp[rep] = getTpFp(num,rep,error,r,g,\"unique\",num,rep,error,r,g)\n",
      "multimapTp[rep],multimapFp[rep] = getTpFp(num,rep,error,r,g,\"multimap\",num,rep,error,r,g)\n",
      "print defaultTp, defaultFp, uniqueTp, uniqueFp, multimapTp, multimapFp"
     ],
     "language": "python",
     "metadata": {},
     "outputs": []
    },
    {
     "cell_type": "code",
     "collapsed": false,
     "input": [
      "num = \"230\"\n",
      "rep = \"2\"\n",
      "error = \"1\"\n",
      "r = \"100\"\n",
      "g = \"100\"\n",
      "createDataSet(num,rep)\n",
      "!grep '>' DataSet230rep2E1R100G100.fa | wc -l\n",
      "runBowtieBuild(num,rep,error,r,g)\n",
      "runBowtieAllParams(num,rep,error,r,g,num,rep,error,r,g)\n",
      "getTruePositivesAllParams(num,rep,error,r,g,\"mouse\")\n",
      "defaultTp[rep],defaultFp[rep] = getTpFp(num,rep,error,r,g,\"default\",num,rep,error,r,g)\n",
      "uniqueTp[rep],uniqueFp[rep] = getTpFp(num,rep,error,r,g,\"unique\",num,rep,error,r,g)\n",
      "multimapTp[rep],multimapFp[rep] = getTpFp(num,rep,error,r,g,\"multimap\",num,rep,error,r,g)\n",
      "print defaultTp, defaultFp, uniqueTp, uniqueFp, multimapTp, multimapFp"
     ],
     "language": "python",
     "metadata": {},
     "outputs": []
    },
    {
     "cell_type": "code",
     "collapsed": false,
     "input": [
      "num = \"230\"\n",
      "rep = \"3\"\n",
      "error = \"1\"\n",
      "r = \"100\"\n",
      "g = \"100\"\n",
      "createDataSet(num,rep)\n",
      "!grep '>' DataSet230rep3E1R100G100.fa | wc -l\n",
      "runBowtieBuild(num,rep,error,r,g)\n",
      "runBowtieAllParams(num,rep,error,r,g,num,rep,error,r,g)\n",
      "getTruePositivesAllParams(num,rep,error,r,g,\"mouse\")\n",
      "defaultTp[rep],defaultFp[rep] = getTpFp(num,rep,error,r,g,\"default\",num,rep,error,r,g)\n",
      "uniqueTp[rep],uniqueFp[rep] = getTpFp(num,rep,error,r,g,\"unique\",num,rep,error,r,g)\n",
      "multimapTp[rep],multimapFp[rep] = getTpFp(num,rep,error,r,g,\"multimap\",num,rep,error,r,g)\n",
      "print defaultTp, defaultFp, uniqueTp, uniqueFp, multimapTp, multimapFp"
     ],
     "language": "python",
     "metadata": {},
     "outputs": []
    },
    {
     "cell_type": "code",
     "collapsed": false,
     "input": [
      "id = \"100\"\n",
      "defaultAvgTp[id] = sum([defaultTp[\"1\"], defaultTp[\"2\"], defaultTp[\"3\"]]) / 3\n",
      "print \"Average Default True Positive Percentage: \", defaultAvgTp[id]\n",
      "defaultAvgFp[id] = sum([defaultFp[\"1\"], defaultFp[\"2\"], defaultFp[\"3\"]]) / 3\n",
      "print \"Average Default False Positive Percentage: \", defaultAvgFp[id]\n",
      "uniqueAvgTp[id] = sum([uniqueTp[\"1\"], uniqueTp[\"2\"], uniqueTp[\"3\"]]) / 3\n",
      "print \"Average Unique True Positive Percentage: \", uniqueAvgTp[id]\n",
      "uniqueAvgFp[id] = sum([uniqueFp[\"1\"], uniqueFp[\"2\"], uniqueFp[\"3\"]]) / 3\n",
      "print \"Average Unique False Positive Percentage: \", uniqueAvgFp[id]\n",
      "multimapAvgTp[id] = sum([multimapTp[\"1\"], multimapTp[\"2\"], multimapTp[\"3\"]]) / 3\n",
      "print \"Average Multimap True Positive Percentage: \", multimapAvgTp[id]\n",
      "multimapAvgFp[id] = sum([multimapFp[\"1\"], multimapFp[\"2\"], multimapFp[\"3\"]]) / 3\n",
      "print \"Average Multimap False Positive Percentage: \", multimapAvgFp[id]"
     ],
     "language": "python",
     "metadata": {},
     "outputs": []
    },
    {
     "cell_type": "code",
     "collapsed": false,
     "input": [
      "num = \"230\"\n",
      "rep = \"1\"\n",
      "error = \"1\"\n",
      "r = \"90\"\n",
      "id = \"090\"\n",
      "g = \"100\"\n",
      "rr = \"100\"\n",
      "runBowtieBuild(num,rep,error,r,g)\n",
      "runBowtieAllParams(num,rep,error,r,g,num,rep,error,r,g)\n",
      "getTruePositivesAllParams(num,rep,error,r,g,\"mouse\")\n",
      "defaultTp[rep],defaultFp[rep] = getTpFp(num,rep,error,r,g,\"default\",num,rep,error,r,g)\n",
      "uniqueTp[rep],uniqueFp[rep] = getTpFp(num,rep,error,r,g,\"unique\",num,rep,error,r,g)\n",
      "multimapTp[rep],multimapFp[rep] = getTpFp(num,rep,error,r,g,\"multimap\",num,rep,error,r,g)\n",
      "rep = \"2\"\n",
      "runBowtieBuild(num,rep,error,r,g)\n",
      "runBowtieAllParams(num,rep,error,r,g,num,rep,error,r,g)\n",
      "getTruePositivesAllParams(num,rep,error,r,g,\"mouse\")\n",
      "defaultTp[rep],defaultFp[rep] = getTpFp(num,rep,error,r,g,\"default\",num,rep,error,r,g)\n",
      "uniqueTp[rep],uniqueFp[rep] = getTpFp(num,rep,error,r,g,\"unique\",num,rep,error,r,g)\n",
      "multimapTp[rep],multimapFp[rep] = getTpFp(num,rep,error,r,g,\"multimap\",num,rep,error,r,g)\n",
      "rep = \"3\"\n",
      "runBowtieBuild(num,rep,error,r,g)\n",
      "runBowtieAllParams(num,rep,error,r,g,num,rep,error,r,g)\n",
      "getTruePositivesAllParams(num,rep,error,r,g,\"mouse\")\n",
      "defaultTp[rep],defaultFp[rep] = getTpFp(num,rep,error,r,g,\"default\",num,rep,error,r,g)\n",
      "uniqueTp[rep],uniqueFp[rep] = getTpFp(num,rep,error,r,g,\"unique\",num,rep,error,r,g)\n",
      "multimapTp[rep],multimapFp[rep] = getTpFp(num,rep,error,r,g,\"multimap\",num,rep,error,r,g)\n",
      "defaultAvgTp[id] = sum([defaultTp[\"1\"], defaultTp[\"2\"], defaultTp[\"3\"]]) / 3\n",
      "print \"Average Default True Positive Percentage: \", defaultAvgTp[id]\n",
      "defaultAvgFp[id] = sum([defaultFp[\"1\"], defaultFp[\"2\"], defaultFp[\"3\"]]) / 3\n",
      "print \"Average Default False Positive Percentage: \", defaultAvgFp[id]\n",
      "uniqueAvgTp[id] = sum([uniqueTp[\"1\"], uniqueTp[\"2\"], uniqueTp[\"3\"]]) / 3\n",
      "print \"Average Unique True Positive Percentage: \", uniqueAvgTp[id]\n",
      "uniqueAvgFp[id] = sum([uniqueFp[\"1\"], uniqueFp[\"2\"], uniqueFp[\"3\"]]) / 3\n",
      "print \"Average Unique False Positive Percentage: \", uniqueAvgFp[id]\n",
      "multimapAvgTp[id] = sum([multimapTp[\"1\"], multimapTp[\"2\"], multimapTp[\"3\"]]) / 3\n",
      "print \"Average Multimap True Positive Percentage: \", multimapAvgTp[id]\n",
      "multimapAvgFp[id] = sum([multimapFp[\"1\"], multimapFp[\"2\"], multimapFp[\"3\"]]) / 3\n",
      "print \"Average Multimap False Positive Percentage: \", multimapAvgFp[id]"
     ],
     "language": "python",
     "metadata": {},
     "outputs": []
    },
    {
     "cell_type": "code",
     "collapsed": false,
     "input": [
      "num = \"230\"\n",
      "rep = \"1\"\n",
      "error = \"1\"\n",
      "r = \"80\"\n",
      "id = \"080\"\n",
      "g = \"100\"\n",
      "rr = \"100\"\n",
      "runBowtieBuild(num,rep,error,r,g)\n",
      "runBowtieAllParams(num,rep,error,r,g,num,rep,error,r,g)\n",
      "getTruePositivesAllParams(num,rep,error,r,g,\"mouse\")\n",
      "defaultTp[rep],defaultFp[rep] = getTpFp(num,rep,error,r,g,\"default\",num,rep,error,r,g)\n",
      "uniqueTp[rep],uniqueFp[rep] = getTpFp(num,rep,error,r,g,\"unique\",num,rep,error,r,g)\n",
      "multimapTp[rep],multimapFp[rep] = getTpFp(num,rep,error,r,g,\"multimap\",num,rep,error,r,g)\n",
      "rep = \"2\"\n",
      "runBowtieBuild(num,rep,error,r,g)\n",
      "runBowtieAllParams(num,rep,error,r,g,num,rep,error,r,g)\n",
      "getTruePositivesAllParams(num,rep,error,r,g,\"mouse\")\n",
      "defaultTp[rep],defaultFp[rep] = getTpFp(num,rep,error,r,g,\"default\",num,rep,error,r,g)\n",
      "uniqueTp[rep],uniqueFp[rep] = getTpFp(num,rep,error,r,g,\"unique\",num,rep,error,r,g)\n",
      "multimapTp[rep],multimapFp[rep] = getTpFp(num,rep,error,r,g,\"multimap\",num,rep,error,r,g)\n",
      "rep = \"3\"\n",
      "runBowtieBuild(num,rep,error,r,g)\n",
      "runBowtieAllParams(num,rep,error,r,g,num,rep,error,r,g)\n",
      "getTruePositivesAllParams(num,rep,error,r,g,\"mouse\")\n",
      "defaultTp[rep],defaultFp[rep] = getTpFp(num,rep,error,r,g,\"default\",num,rep,error,r,g)\n",
      "uniqueTp[rep],uniqueFp[rep] = getTpFp(num,rep,error,r,g,\"unique\",num,rep,error,r,g)\n",
      "multimapTp[rep],multimapFp[rep] = getTpFp(num,rep,error,r,g,\"multimap\",num,rep,error,r,g)\n",
      "defaultAvgTp[id] = sum([defaultTp[\"1\"], defaultTp[\"2\"], defaultTp[\"3\"]]) / 3\n",
      "print \"Average Default True Positive Percentage: \", defaultAvgTp[id]\n",
      "defaultAvgFp[id] = sum([defaultFp[\"1\"], defaultFp[\"2\"], defaultFp[\"3\"]]) / 3\n",
      "print \"Average Default False Positive Percentage: \", defaultAvgFp[id]\n",
      "uniqueAvgTp[id] = sum([uniqueTp[\"1\"], uniqueTp[\"2\"], uniqueTp[\"3\"]]) / 3\n",
      "print \"Average Unique True Positive Percentage: \", uniqueAvgTp[id]\n",
      "uniqueAvgFp[id] = sum([uniqueFp[\"1\"], uniqueFp[\"2\"], uniqueFp[\"3\"]]) / 3\n",
      "print \"Average Unique False Positive Percentage: \", uniqueAvgFp[id]\n",
      "multimapAvgTp[id] = sum([multimapTp[\"1\"], multimapTp[\"2\"], multimapTp[\"3\"]]) / 3\n",
      "print \"Average Multimap True Positive Percentage: \", multimapAvgTp[id]\n",
      "multimapAvgFp[id] = sum([multimapFp[\"1\"], multimapFp[\"2\"], multimapFp[\"3\"]]) / 3\n",
      "print \"Average Multimap False Positive Percentage: \", multimapAvgFp[id]"
     ],
     "language": "python",
     "metadata": {},
     "outputs": []
    },
    {
     "cell_type": "code",
     "collapsed": false,
     "input": [
      "num = \"230\"\n",
      "rep = \"1\"\n",
      "error = \"1\"\n",
      "r = \"70\"\n",
      "id = \"070\"\n",
      "g = \"100\"\n",
      "rr = \"100\"\n",
      "runBowtieBuild(num,rep,error,r,g)\n",
      "runBowtieAllParams(num,rep,error,r,g,num,rep,error,r,g)\n",
      "getTruePositivesAllParams(num,rep,error,r,g,\"mouse\")\n",
      "defaultTp[rep],defaultFp[rep] = getTpFp(num,rep,error,r,g,\"default\",num,rep,error,r,g)\n",
      "uniqueTp[rep],uniqueFp[rep] = getTpFp(num,rep,error,r,g,\"unique\",num,rep,error,r,g)\n",
      "multimapTp[rep],multimapFp[rep] = getTpFp(num,rep,error,r,g,\"multimap\",num,rep,error,r,g)\n",
      "rep = \"2\"\n",
      "runBowtieBuild(num,rep,error,r,g)\n",
      "runBowtieAllParams(num,rep,error,r,g,num,rep,error,r,g)\n",
      "getTruePositivesAllParams(num,rep,error,r,g,\"mouse\")\n",
      "defaultTp[rep],defaultFp[rep] = getTpFp(num,rep,error,r,g,\"default\",num,rep,error,r,g)\n",
      "uniqueTp[rep],uniqueFp[rep] = getTpFp(num,rep,error,r,g,\"unique\",num,rep,error,r,g)\n",
      "multimapTp[rep],multimapFp[rep] = getTpFp(num,rep,error,r,g,\"multimap\",num,rep,error,r,g)\n",
      "rep = \"3\"\n",
      "runBowtieBuild(num,rep,error,r,g)\n",
      "runBowtieAllParams(num,rep,error,r,g,num,rep,error,r,g)\n",
      "getTruePositivesAllParams(num,rep,error,r,g,\"mouse\")\n",
      "defaultTp[rep],defaultFp[rep] = getTpFp(num,rep,error,r,g,\"default\",num,rep,error,r,g)\n",
      "uniqueTp[rep],uniqueFp[rep] = getTpFp(num,rep,error,r,g,\"unique\",num,rep,error,r,g)\n",
      "multimapTp[rep],multimapFp[rep] = getTpFp(num,rep,error,r,g,\"multimap\",num,rep,error,r,g)\n",
      "defaultAvgTp[id] = sum([defaultTp[\"1\"], defaultTp[\"2\"], defaultTp[\"3\"]]) / 3\n",
      "print \"Average Default True Positive Percentage: \", defaultAvgTp[id]\n",
      "defaultAvgFp[id] = sum([defaultFp[\"1\"], defaultFp[\"2\"], defaultFp[\"3\"]]) / 3\n",
      "print \"Average Default False Positive Percentage: \", defaultAvgFp[id]\n",
      "uniqueAvgTp[id] = sum([uniqueTp[\"1\"], uniqueTp[\"2\"], uniqueTp[\"3\"]]) / 3\n",
      "print \"Average Unique True Positive Percentage: \", uniqueAvgTp[id]\n",
      "uniqueAvgFp[id] = sum([uniqueFp[\"1\"], uniqueFp[\"2\"], uniqueFp[\"3\"]]) / 3\n",
      "print \"Average Unique False Positive Percentage: \", uniqueAvgFp[id]\n",
      "multimapAvgTp[id] = sum([multimapTp[\"1\"], multimapTp[\"2\"], multimapTp[\"3\"]]) / 3\n",
      "print \"Average Multimap True Positive Percentage: \", multimapAvgTp[id]\n",
      "multimapAvgFp[id] = sum([multimapFp[\"1\"], multimapFp[\"2\"], multimapFp[\"3\"]]) / 3\n",
      "print \"Average Multimap False Positive Percentage: \", multimapAvgFp[id]"
     ],
     "language": "python",
     "metadata": {},
     "outputs": []
    },
    {
     "cell_type": "code",
     "collapsed": false,
     "input": [
      "num = \"230\"\n",
      "rep = \"1\"\n",
      "error = \"1\"\n",
      "r = \"60\"\n",
      "id = \"060\"\n",
      "g = \"100\"\n",
      "rr = \"100\"\n",
      "runBowtieBuild(num,rep,error,r,g)\n",
      "runBowtieAllParams(num,rep,error,r,g,num,rep,error,r,g)\n",
      "getTruePositivesAllParams(num,rep,error,r,g,\"mouse\")\n",
      "defaultTp[rep],defaultFp[rep] = getTpFp(num,rep,error,r,g,\"default\",num,rep,error,r,g)\n",
      "uniqueTp[rep],uniqueFp[rep] = getTpFp(num,rep,error,r,g,\"unique\",num,rep,error,r,g)\n",
      "multimapTp[rep],multimapFp[rep] = getTpFp(num,rep,error,r,g,\"multimap\",num,rep,error,r,g)\n",
      "rep = \"2\"\n",
      "runBowtieBuild(num,rep,error,r,g)\n",
      "runBowtieAllParams(num,rep,error,r,g,num,rep,error,r,g)\n",
      "getTruePositivesAllParams(num,rep,error,r,g,\"mouse\")\n",
      "defaultTp[rep],defaultFp[rep] = getTpFp(num,rep,error,r,g,\"default\",num,rep,error,r,g)\n",
      "uniqueTp[rep],uniqueFp[rep] = getTpFp(num,rep,error,r,g,\"unique\",num,rep,error,r,g)\n",
      "multimapTp[rep],multimapFp[rep] = getTpFp(num,rep,error,r,g,\"multimap\",num,rep,error,r,g)\n",
      "rep = \"3\"\n",
      "runBowtieBuild(num,rep,error,r,g)\n",
      "runBowtieAllParams(num,rep,error,r,g,num,rep,error,r,g)\n",
      "getTruePositivesAllParams(num,rep,error,r,g,\"mouse\")\n",
      "defaultTp[rep],defaultFp[rep] = getTpFp(num,rep,error,r,g,\"default\",num,rep,error,r,g)\n",
      "uniqueTp[rep],uniqueFp[rep] = getTpFp(num,rep,error,r,g,\"unique\",num,rep,error,r,g)\n",
      "multimapTp[rep],multimapFp[rep] = getTpFp(num,rep,error,r,g,\"multimap\",num,rep,error,r,g)\n",
      "defaultAvgTp[id] = sum([defaultTp[\"1\"], defaultTp[\"2\"], defaultTp[\"3\"]]) / 3\n",
      "print \"Average Default True Positive Percentage: \", defaultAvgTp[id]\n",
      "defaultAvgFp[id] = sum([defaultFp[\"1\"], defaultFp[\"2\"], defaultFp[\"3\"]]) / 3\n",
      "print \"Average Default False Positive Percentage: \", defaultAvgFp[id]\n",
      "uniqueAvgTp[id] = sum([uniqueTp[\"1\"], uniqueTp[\"2\"], uniqueTp[\"3\"]]) / 3\n",
      "print \"Average Unique True Positive Percentage: \", uniqueAvgTp[id]\n",
      "uniqueAvgFp[id] = sum([uniqueFp[\"1\"], uniqueFp[\"2\"], uniqueFp[\"3\"]]) / 3\n",
      "print \"Average Unique False Positive Percentage: \", uniqueAvgFp[id]\n",
      "multimapAvgTp[id] = sum([multimapTp[\"1\"], multimapTp[\"2\"], multimapTp[\"3\"]]) / 3\n",
      "print \"Average Multimap True Positive Percentage: \", multimapAvgTp[id]\n",
      "multimapAvgFp[id] = sum([multimapFp[\"1\"], multimapFp[\"2\"], multimapFp[\"3\"]]) / 3\n",
      "print \"Average Multimap False Positive Percentage: \", multimapAvgFp[id]"
     ],
     "language": "python",
     "metadata": {},
     "outputs": []
    },
    {
     "cell_type": "code",
     "collapsed": false,
     "input": [
      "num = \"230\"\n",
      "rep = \"1\"\n",
      "error = \"1\"\n",
      "r = \"50\"\n",
      "id = \"050\"\n",
      "g = \"100\"\n",
      "rr = \"100\"\n",
      "runBowtieBuild(num,rep,error,r,g)\n",
      "runBowtieAllParams(num,rep,error,r,g,num,rep,error,r,g)\n",
      "getTruePositivesAllParams(num,rep,error,r,g,\"mouse\")\n",
      "defaultTp[rep],defaultFp[rep] = getTpFp(num,rep,error,r,g,\"default\",num,rep,error,r,g)\n",
      "uniqueTp[rep],uniqueFp[rep] = getTpFp(num,rep,error,r,g,\"unique\",num,rep,error,r,g)\n",
      "multimapTp[rep],multimapFp[rep] = getTpFp(num,rep,error,r,g,\"multimap\",num,rep,error,r,g)\n",
      "rep = \"2\"\n",
      "runBowtieBuild(num,rep,error,r,g)\n",
      "runBowtieAllParams(num,rep,error,r,g,num,rep,error,r,g)\n",
      "getTruePositivesAllParams(num,rep,error,r,g,\"mouse\")\n",
      "defaultTp[rep],defaultFp[rep] = getTpFp(num,rep,error,r,g,\"default\",num,rep,error,r,g)\n",
      "uniqueTp[rep],uniqueFp[rep] = getTpFp(num,rep,error,r,g,\"unique\",num,rep,error,r,g)\n",
      "multimapTp[rep],multimapFp[rep] = getTpFp(num,rep,error,r,g,\"multimap\",num,rep,error,r,g)\n",
      "rep = \"3\"\n",
      "runBowtieBuild(num,rep,error,r,g)\n",
      "runBowtieAllParams(num,rep,error,r,g,num,rep,error,r,g)\n",
      "getTruePositivesAllParams(num,rep,error,r,g,\"mouse\")\n",
      "defaultTp[rep],defaultFp[rep] = getTpFp(num,rep,error,r,g,\"default\",num,rep,error,r,g)\n",
      "uniqueTp[rep],uniqueFp[rep] = getTpFp(num,rep,error,r,g,\"unique\",num,rep,error,r,g)\n",
      "multimapTp[rep],multimapFp[rep] = getTpFp(num,rep,error,r,g,\"multimap\",num,rep,error,r,g)\n",
      "defaultAvgTp[id] = sum([defaultTp[\"1\"], defaultTp[\"2\"], defaultTp[\"3\"]]) / 3\n",
      "print \"Average Default True Positive Percentage: \", defaultAvgTp[id]\n",
      "defaultAvgFp[id] = sum([defaultFp[\"1\"], defaultFp[\"2\"], defaultFp[\"3\"]]) / 3\n",
      "print \"Average Default False Positive Percentage: \", defaultAvgFp[id]\n",
      "uniqueAvgTp[id] = sum([uniqueTp[\"1\"], uniqueTp[\"2\"], uniqueTp[\"3\"]]) / 3\n",
      "print \"Average Unique True Positive Percentage: \", uniqueAvgTp[id]\n",
      "uniqueAvgFp[id] = sum([uniqueFp[\"1\"], uniqueFp[\"2\"], uniqueFp[\"3\"]]) / 3\n",
      "print \"Average Unique False Positive Percentage: \", uniqueAvgFp[id]\n",
      "multimapAvgTp[id] = sum([multimapTp[\"1\"], multimapTp[\"2\"], multimapTp[\"3\"]]) / 3\n",
      "print \"Average Multimap True Positive Percentage: \", multimapAvgTp[id]\n",
      "multimapAvgFp[id] = sum([multimapFp[\"1\"], multimapFp[\"2\"], multimapFp[\"3\"]]) / 3\n",
      "print \"Average Multimap False Positive Percentage: \", multimapAvgFp[id]"
     ],
     "language": "python",
     "metadata": {},
     "outputs": []
    },
    {
     "cell_type": "code",
     "collapsed": false,
     "input": [
      "num = \"230\"\n",
      "rep = \"1\"\n",
      "error = \"1\"\n",
      "r = \"40\"\n",
      "id = \"040\"\n",
      "g = \"100\"\n",
      "rr = \"100\"\n",
      "runBowtieBuild(num,rep,error,r,g)\n",
      "runBowtieAllParams(num,rep,error,r,g,num,rep,error,r,g)\n",
      "getTruePositivesAllParams(num,rep,error,r,g,\"mouse\")\n",
      "defaultTp[rep],defaultFp[rep] = getTpFp(num,rep,error,r,g,\"default\",num,rep,error,r,g)\n",
      "uniqueTp[rep],uniqueFp[rep] = getTpFp(num,rep,error,r,g,\"unique\",num,rep,error,r,g)\n",
      "multimapTp[rep],multimapFp[rep] = getTpFp(num,rep,error,r,g,\"multimap\",num,rep,error,r,g)\n",
      "rep = \"2\"\n",
      "runBowtieBuild(num,rep,error,r,g)\n",
      "runBowtieAllParams(num,rep,error,r,g,num,rep,error,r,g)\n",
      "getTruePositivesAllParams(num,rep,error,r,g,\"mouse\")\n",
      "defaultTp[rep],defaultFp[rep] = getTpFp(num,rep,error,r,g,\"default\",num,rep,error,r,g)\n",
      "uniqueTp[rep],uniqueFp[rep] = getTpFp(num,rep,error,r,g,\"unique\",num,rep,error,r,g)\n",
      "multimapTp[rep],multimapFp[rep] = getTpFp(num,rep,error,r,g,\"multimap\",num,rep,error,r,g)\n",
      "rep = \"3\"\n",
      "runBowtieBuild(num,rep,error,r,g)\n",
      "runBowtieAllParams(num,rep,error,r,g,num,rep,error,r,g)\n",
      "getTruePositivesAllParams(num,rep,error,r,g,\"mouse\")\n",
      "defaultTp[rep],defaultFp[rep] = getTpFp(num,rep,error,r,g,\"default\",num,rep,error,r,g)\n",
      "uniqueTp[rep],uniqueFp[rep] = getTpFp(num,rep,error,r,g,\"unique\",num,rep,error,r,g)\n",
      "multimapTp[rep],multimapFp[rep] = getTpFp(num,rep,error,r,g,\"multimap\",num,rep,error,r,g)\n",
      "defaultAvgTp[id] = sum([defaultTp[\"1\"], defaultTp[\"2\"], defaultTp[\"3\"]]) / 3\n",
      "print \"Average Default True Positive Percentage: \", defaultAvgTp[id]\n",
      "defaultAvgFp[id] = sum([defaultFp[\"1\"], defaultFp[\"2\"], defaultFp[\"3\"]]) / 3\n",
      "print \"Average Default False Positive Percentage: \", defaultAvgFp[id]\n",
      "uniqueAvgTp[id] = sum([uniqueTp[\"1\"], uniqueTp[\"2\"], uniqueTp[\"3\"]]) / 3\n",
      "print \"Average Unique True Positive Percentage: \", uniqueAvgTp[id]\n",
      "uniqueAvgFp[id] = sum([uniqueFp[\"1\"], uniqueFp[\"2\"], uniqueFp[\"3\"]]) / 3\n",
      "print \"Average Unique False Positive Percentage: \", uniqueAvgFp[id]\n",
      "multimapAvgTp[id] = sum([multimapTp[\"1\"], multimapTp[\"2\"], multimapTp[\"3\"]]) / 3\n",
      "print \"Average Multimap True Positive Percentage: \", multimapAvgTp[id]\n",
      "multimapAvgFp[id] = sum([multimapFp[\"1\"], multimapFp[\"2\"], multimapFp[\"3\"]]) / 3\n",
      "print \"Average Multimap False Positive Percentage: \", multimapAvgFp[id]"
     ],
     "language": "python",
     "metadata": {},
     "outputs": []
    },
    {
     "cell_type": "code",
     "collapsed": false,
     "input": [
      "num = \"230\"\n",
      "rep = \"1\"\n",
      "error = \"1\"\n",
      "r = \"30\"\n",
      "id = \"030\"\n",
      "g = \"100\"\n",
      "rr = \"100\"\n",
      "runBowtieBuild(num,rep,error,r,g)\n",
      "runBowtieAllParams(num,rep,error,r,g,num,rep,error,r,g)\n",
      "getTruePositivesAllParams(num,rep,error,r,g,\"mouse\")\n",
      "defaultTp[rep],defaultFp[rep] = getTpFp(num,rep,error,r,g,\"default\",num,rep,error,r,g)\n",
      "uniqueTp[rep],uniqueFp[rep] = getTpFp(num,rep,error,r,g,\"unique\",num,rep,error,r,g)\n",
      "multimapTp[rep],multimapFp[rep] = getTpFp(num,rep,error,r,g,\"multimap\",num,rep,error,r,g)\n",
      "rep = \"2\"\n",
      "runBowtieBuild(num,rep,error,r,g)\n",
      "runBowtieAllParams(num,rep,error,r,g,num,rep,error,r,g)\n",
      "getTruePositivesAllParams(num,rep,error,r,g,\"mouse\")\n",
      "defaultTp[rep],defaultFp[rep] = getTpFp(num,rep,error,r,g,\"default\",num,rep,error,r,g)\n",
      "uniqueTp[rep],uniqueFp[rep] = getTpFp(num,rep,error,r,g,\"unique\",num,rep,error,r,g)\n",
      "multimapTp[rep],multimapFp[rep] = getTpFp(num,rep,error,r,g,\"multimap\",num,rep,error,r,g)\n",
      "rep = \"3\"\n",
      "runBowtieBuild(num,rep,error,r,g)\n",
      "runBowtieAllParams(num,rep,error,r,g,num,rep,error,r,g)\n",
      "getTruePositivesAllParams(num,rep,error,r,g,\"mouse\")\n",
      "defaultTp[rep],defaultFp[rep] = getTpFp(num,rep,error,r,g,\"default\",num,rep,error,r,g)\n",
      "uniqueTp[rep],uniqueFp[rep] = getTpFp(num,rep,error,r,g,\"unique\",num,rep,error,r,g)\n",
      "multimapTp[rep],multimapFp[rep] = getTpFp(num,rep,error,r,g,\"multimap\",num,rep,error,r,g)\n",
      "defaultAvgTp[id] = sum([defaultTp[\"1\"], defaultTp[\"2\"], defaultTp[\"3\"]]) / 3\n",
      "print \"Average Default True Positive Percentage: \", defaultAvgTp[id]\n",
      "defaultAvgFp[id] = sum([defaultFp[\"1\"], defaultFp[\"2\"], defaultFp[\"3\"]]) / 3\n",
      "print \"Average Default False Positive Percentage: \", defaultAvgFp[id]\n",
      "uniqueAvgTp[id] = sum([uniqueTp[\"1\"], uniqueTp[\"2\"], uniqueTp[\"3\"]]) / 3\n",
      "print \"Average Unique True Positive Percentage: \", uniqueAvgTp[id]\n",
      "uniqueAvgFp[id] = sum([uniqueFp[\"1\"], uniqueFp[\"2\"], uniqueFp[\"3\"]]) / 3\n",
      "print \"Average Unique False Positive Percentage: \", uniqueAvgFp[id]\n",
      "multimapAvgTp[id] = sum([multimapTp[\"1\"], multimapTp[\"2\"], multimapTp[\"3\"]]) / 3\n",
      "print \"Average Multimap True Positive Percentage: \", multimapAvgTp[id]\n",
      "multimapAvgFp[id] = sum([multimapFp[\"1\"], multimapFp[\"2\"], multimapFp[\"3\"]]) / 3\n",
      "print \"Average Multimap False Positive Percentage: \", multimapAvgFp[id]"
     ],
     "language": "python",
     "metadata": {},
     "outputs": []
    },
    {
     "cell_type": "code",
     "collapsed": false,
     "input": [
      "num = \"230\"\n",
      "rep = \"1\"\n",
      "error = \"1\"\n",
      "r = \"20\"\n",
      "id = \"020\"\n",
      "g = \"100\"\n",
      "rr = \"100\"\n",
      "runBowtieBuild(num,rep,error,r,g)\n",
      "runBowtieAllParams(num,rep,error,r,g,num,rep,error,r,g)\n",
      "getTruePositivesAllParams(num,rep,error,r,g,\"mouse\")\n",
      "defaultTp[rep],defaultFp[rep] = getTpFp(num,rep,error,r,g,\"default\",num,rep,error,r,g)\n",
      "uniqueTp[rep],uniqueFp[rep] = getTpFp(num,rep,error,r,g,\"unique\",num,rep,error,r,g)\n",
      "multimapTp[rep],multimapFp[rep] = getTpFp(num,rep,error,r,g,\"multimap\",num,rep,error,r,g)\n",
      "rep = \"2\"\n",
      "runBowtieBuild(num,rep,error,r,g)\n",
      "runBowtieAllParams(num,rep,error,r,g,num,rep,error,r,g)\n",
      "getTruePositivesAllParams(num,rep,error,r,g,\"mouse\")\n",
      "defaultTp[rep],defaultFp[rep] = getTpFp(num,rep,error,r,g,\"default\",num,rep,error,r,g)\n",
      "uniqueTp[rep],uniqueFp[rep] = getTpFp(num,rep,error,r,g,\"unique\",num,rep,error,r,g)\n",
      "multimapTp[rep],multimapFp[rep] = getTpFp(num,rep,error,r,g,\"multimap\",num,rep,error,r,g)\n",
      "rep = \"3\"\n",
      "runBowtieBuild(num,rep,error,r,g)\n",
      "runBowtieAllParams(num,rep,error,r,g,num,rep,error,r,g)\n",
      "getTruePositivesAllParams(num,rep,error,r,g,\"mouse\")\n",
      "defaultTp[rep],defaultFp[rep] = getTpFp(num,rep,error,r,g,\"default\",num,rep,error,r,g)\n",
      "uniqueTp[rep],uniqueFp[rep] = getTpFp(num,rep,error,r,g,\"unique\",num,rep,error,r,g)\n",
      "multimapTp[rep],multimapFp[rep] = getTpFp(num,rep,error,r,g,\"multimap\",num,rep,error,r,g)\n",
      "defaultAvgTp[id] = sum([defaultTp[\"1\"], defaultTp[\"2\"], defaultTp[\"3\"]]) / 3\n",
      "print \"Average Default True Positive Percentage: \", defaultAvgTp[id]\n",
      "defaultAvgFp[id] = sum([defaultFp[\"1\"], defaultFp[\"2\"], defaultFp[\"3\"]]) / 3\n",
      "print \"Average Default False Positive Percentage: \", defaultAvgFp[id]\n",
      "uniqueAvgTp[id] = sum([uniqueTp[\"1\"], uniqueTp[\"2\"], uniqueTp[\"3\"]]) / 3\n",
      "print \"Average Unique True Positive Percentage: \", uniqueAvgTp[id]\n",
      "uniqueAvgFp[id] = sum([uniqueFp[\"1\"], uniqueFp[\"2\"], uniqueFp[\"3\"]]) / 3\n",
      "print \"Average Unique False Positive Percentage: \", uniqueAvgFp[id]\n",
      "multimapAvgTp[id] = sum([multimapTp[\"1\"], multimapTp[\"2\"], multimapTp[\"3\"]]) / 3\n",
      "print \"Average Multimap True Positive Percentage: \", multimapAvgTp[id]\n",
      "multimapAvgFp[id] = sum([multimapFp[\"1\"], multimapFp[\"2\"], multimapFp[\"3\"]]) / 3\n",
      "print \"Average Multimap False Positive Percentage: \", multimapAvgFp[id]"
     ],
     "language": "python",
     "metadata": {},
     "outputs": []
    },
    {
     "cell_type": "code",
     "collapsed": false,
     "input": [
      "num = \"230\"\n",
      "rep = \"1\"\n",
      "error = \"1\"\n",
      "r = \"10\"\n",
      "id = \"010\"\n",
      "g = \"100\"\n",
      "rr = \"100\"\n",
      "runBowtieBuild(num,rep,error,r,g)\n",
      "runBowtieAllParams(num,rep,error,r,g,num,rep,error,r,g)\n",
      "getTruePositivesAllParams(num,rep,error,r,g,\"mouse\")\n",
      "defaultTp[rep],defaultFp[rep] = getTpFp(num,rep,error,r,g,\"default\",num,rep,error,r,g)\n",
      "uniqueTp[rep],uniqueFp[rep] = getTpFp(num,rep,error,r,g,\"unique\",num,rep,error,r,g)\n",
      "multimapTp[rep],multimapFp[rep] = getTpFp(num,rep,error,r,g,\"multimap\",num,rep,error,r,g)\n",
      "rep = \"2\"\n",
      "runBowtieBuild(num,rep,error,r,g)\n",
      "runBowtieAllParams(num,rep,error,r,g,num,rep,error,r,g)\n",
      "getTruePositivesAllParams(num,rep,error,r,g,\"mouse\")\n",
      "defaultTp[rep],defaultFp[rep] = getTpFp(num,rep,error,r,g,\"default\",num,rep,error,r,g)\n",
      "uniqueTp[rep],uniqueFp[rep] = getTpFp(num,rep,error,r,g,\"unique\",num,rep,error,r,g)\n",
      "multimapTp[rep],multimapFp[rep] = getTpFp(num,rep,error,r,g,\"multimap\",num,rep,error,r,g)\n",
      "rep = \"3\"\n",
      "runBowtieBuild(num,rep,error,r,g)\n",
      "runBowtieAllParams(num,rep,error,r,g,num,rep,error,r,g)\n",
      "getTruePositivesAllParams(num,rep,error,r,g,\"mouse\")\n",
      "defaultTp[rep],defaultFp[rep] = getTpFp(num,rep,error,r,g,\"default\",num,rep,error,r,g)\n",
      "uniqueTp[rep],uniqueFp[rep] = getTpFp(num,rep,error,r,g,\"unique\",num,rep,error,r,g)\n",
      "multimapTp[rep],multimapFp[rep] = getTpFp(num,rep,error,r,g,\"multimap\",num,rep,error,r,g)\n",
      "defaultAvgTp[id] = sum([defaultTp[\"1\"], defaultTp[\"2\"], defaultTp[\"3\"]]) / 3\n",
      "print \"Average Default True Positive Percentage: \", defaultAvgTp[id]\n",
      "defaultAvgFp[id] = sum([defaultFp[\"1\"], defaultFp[\"2\"], defaultFp[\"3\"]]) / 3\n",
      "print \"Average Default False Positive Percentage: \", defaultAvgFp[id]\n",
      "uniqueAvgTp[id] = sum([uniqueTp[\"1\"], uniqueTp[\"2\"], uniqueTp[\"3\"]]) / 3\n",
      "print \"Average Unique True Positive Percentage: \", uniqueAvgTp[id]\n",
      "uniqueAvgFp[id] = sum([uniqueFp[\"1\"], uniqueFp[\"2\"], uniqueFp[\"3\"]]) / 3\n",
      "print \"Average Unique False Positive Percentage: \", uniqueAvgFp[id]\n",
      "multimapAvgTp[id] = sum([multimapTp[\"1\"], multimapTp[\"2\"], multimapTp[\"3\"]]) / 3\n",
      "print \"Average Multimap True Positive Percentage: \", multimapAvgTp[id]\n",
      "multimapAvgFp[id] = sum([multimapFp[\"1\"], multimapFp[\"2\"], multimapFp[\"3\"]]) / 3\n",
      "print \"Average Multimap False Positive Percentage: \", multimapAvgFp[id]"
     ],
     "language": "python",
     "metadata": {},
     "outputs": []
    },
    {
     "cell_type": "heading",
     "level": 2,
     "metadata": {},
     "source": [
      "Test 4: Mapping accuracy of read sets generated from 50% expressed full chicken transcriptome when mapped with bowtie, bwa, and soap2"
     ]
    },
    {
     "cell_type": "raw",
     "metadata": {},
     "source": [
      "Mapping already performed with bowtie.  Repeating with BWA."
     ]
    },
    {
     "cell_type": "code",
     "collapsed": false,
     "input": [
      "defaultAvgTp = {}\n",
      "defaultAvgFp = {}\n",
      "defaultTp = {}\n",
      "defaultFp = {}"
     ],
     "language": "python",
     "metadata": {},
     "outputs": []
    },
    {
     "cell_type": "code",
     "collapsed": false,
     "input": [
      "num = \"234\"\n",
      "rep = \"1\"\n",
      "error = \"1\"\n",
      "r = \"100\"\n",
      "id = \"100\"\n",
      "g = \"100\"\n",
      "rr = \"100\"\n",
      "runBwaBuild(num,rep,error,r,g)\n",
      "runBwa(num,rep,error,r,g,num,rep,error,r,g)\n",
      "getTruePositivesBwa(num,rep,error,r,g)\n",
      "defaultTp[rep],defaultFp[rep] = getTpFpBwa(num,rep,error,r,g,\"default\",num,rep,error,r,g)\n",
      "rep = \"2\"\n",
      "runBwaBuild(num,rep,error,r,g)\n",
      "runBwa(num,rep,error,r,g,num,rep,error,r,g)\n",
      "getTruePositivesBwa(num,rep,error,r,g)\n",
      "defaultTp[rep],defaultFp[rep] = getTpFpBwa(num,rep,error,r,g,\"default\",num,rep,error,r,g)\n",
      "rep = \"3\"\n",
      "runBwaBuild(num,rep,error,r,g)\n",
      "runBwa(num,rep,error,r,g,num,rep,error,r,g)\n",
      "getTruePositivesBwa(num,rep,error,r,g)\n",
      "defaultTp[rep],defaultFp[rep] = getTpFpBwa(num,rep,error,r,g,\"default\",num,rep,error,r,g)\n",
      "\n",
      "defaultAvgTp[id] = sum([defaultTp[\"1\"], defaultTp[\"2\"], defaultTp[\"3\"]]) / 3\n",
      "print \"Average Default True Positive Percentage: \", defaultAvgTp[id]\n",
      "defaultAvgFp[id] = sum([defaultFp[\"1\"], defaultFp[\"2\"], defaultFp[\"3\"]]) / 3\n",
      "print \"Average Default False Positive Percentage: \", defaultAvgFp[id]\n"
     ],
     "language": "python",
     "metadata": {},
     "outputs": []
    },
    {
     "cell_type": "code",
     "collapsed": false,
     "input": [
      "num = \"234\"\n",
      "rep = \"1\"\n",
      "error = \"1\"\n",
      "r = \"90\"\n",
      "id = \"090\"\n",
      "g = \"100\"\n",
      "rr = \"100\"\n",
      "runBwaBuild(num,rep,error,r,g)\n",
      "runBwa(num,rep,error,r,g,num,rep,error,r,g)\n",
      "getTruePositivesBwa(num,rep,error,r,g)\n",
      "defaultTp[rep],defaultFp[rep] = getTpFpBwa(num,rep,error,r,g,\"default\",num,rep,error,r,g)\n",
      "rep = \"2\"\n",
      "runBwaBuild(num,rep,error,r,g)\n",
      "runBwa(num,rep,error,r,g,num,rep,error,r,g)\n",
      "getTruePositivesBwa(num,rep,error,r,g)\n",
      "defaultTp[rep],defaultFp[rep] = getTpFpBwa(num,rep,error,r,g,\"default\",num,rep,error,r,g)\n",
      "rep = \"3\"\n",
      "runBwaBuild(num,rep,error,r,g)\n",
      "runBwa(num,rep,error,r,g,num,rep,error,r,g)\n",
      "getTruePositivesBwa(num,rep,error,r,g)\n",
      "defaultTp[rep],defaultFp[rep] = getTpFpBwa(num,rep,error,r,g,\"default\",num,rep,error,r,g)\n",
      "\n",
      "defaultAvgTp[id] = sum([defaultTp[\"1\"], defaultTp[\"2\"], defaultTp[\"3\"]]) / 3\n",
      "print \"Average Default True Positive Percentage: \", defaultAvgTp[id]\n",
      "defaultAvgFp[id] = sum([defaultFp[\"1\"], defaultFp[\"2\"], defaultFp[\"3\"]]) / 3\n",
      "print \"Average Default False Positive Percentage: \", defaultAvgFp[id]\n"
     ],
     "language": "python",
     "metadata": {},
     "outputs": []
    },
    {
     "cell_type": "code",
     "collapsed": false,
     "input": [
      "num = \"234\"\n",
      "rep = \"1\"\n",
      "error = \"1\"\n",
      "r = \"80\"\n",
      "id = \"080\"\n",
      "g = \"100\"\n",
      "rr = \"100\"\n",
      "runBwaBuild(num,rep,error,r,g)\n",
      "runBwa(num,rep,error,r,g,num,rep,error,r,g)\n",
      "getTruePositivesBwa(num,rep,error,r,g)\n",
      "defaultTp[rep],defaultFp[rep] = getTpFpBwa(num,rep,error,r,g,\"default\",num,rep,error,r,g)\n",
      "rep = \"2\"\n",
      "runBwaBuild(num,rep,error,r,g)\n",
      "runBwa(num,rep,error,r,g,num,rep,error,r,g)\n",
      "getTruePositivesBwa(num,rep,error,r,g)\n",
      "defaultTp[rep],defaultFp[rep] = getTpFpBwa(num,rep,error,r,g,\"default\",num,rep,error,r,g)\n",
      "rep = \"3\"\n",
      "runBwaBuild(num,rep,error,r,g)\n",
      "runBwa(num,rep,error,r,g,num,rep,error,r,g)\n",
      "getTruePositivesBwa(num,rep,error,r,g)\n",
      "defaultTp[rep],defaultFp[rep] = getTpFpBwa(num,rep,error,r,g,\"default\",num,rep,error,r,g)\n",
      "\n",
      "defaultAvgTp[id] = sum([defaultTp[\"1\"], defaultTp[\"2\"], defaultTp[\"3\"]]) / 3\n",
      "print \"Average Default True Positive Percentage: \", defaultAvgTp[id]\n",
      "defaultAvgFp[id] = sum([defaultFp[\"1\"], defaultFp[\"2\"], defaultFp[\"3\"]]) / 3\n",
      "print \"Average Default False Positive Percentage: \", defaultAvgFp[id]\n"
     ],
     "language": "python",
     "metadata": {},
     "outputs": []
    },
    {
     "cell_type": "code",
     "collapsed": false,
     "input": [
      "num = \"234\"\n",
      "rep = \"1\"\n",
      "error = \"1\"\n",
      "r = \"70\"\n",
      "id = \"070\"\n",
      "g = \"100\"\n",
      "rr = \"100\"\n",
      "runBwaBuild(num,rep,error,r,g)\n",
      "runBwa(num,rep,error,r,g,num,rep,error,r,g)\n",
      "getTruePositivesBwa(num,rep,error,r,g)\n",
      "defaultTp[rep],defaultFp[rep] = getTpFpBwa(num,rep,error,r,g,\"default\",num,rep,error,r,g)\n",
      "rep = \"2\"\n",
      "runBwaBuild(num,rep,error,r,g)\n",
      "runBwa(num,rep,error,r,g,num,rep,error,r,g)\n",
      "getTruePositivesBwa(num,rep,error,r,g)\n",
      "defaultTp[rep],defaultFp[rep] = getTpFpBwa(num,rep,error,r,g,\"default\",num,rep,error,r,g)\n",
      "rep = \"3\"\n",
      "runBwaBuild(num,rep,error,r,g)\n",
      "runBwa(num,rep,error,r,g,num,rep,error,r,g)\n",
      "getTruePositivesBwa(num,rep,error,r,g)\n",
      "defaultTp[rep],defaultFp[rep] = getTpFpBwa(num,rep,error,r,g,\"default\",num,rep,error,r,g)\n",
      "\n",
      "defaultAvgTp[id] = sum([defaultTp[\"1\"], defaultTp[\"2\"], defaultTp[\"3\"]]) / 3\n",
      "print \"Average Default True Positive Percentage: \", defaultAvgTp[id]\n",
      "defaultAvgFp[id] = sum([defaultFp[\"1\"], defaultFp[\"2\"], defaultFp[\"3\"]]) / 3\n",
      "print \"Average Default False Positive Percentage: \", defaultAvgFp[id]\n"
     ],
     "language": "python",
     "metadata": {},
     "outputs": []
    },
    {
     "cell_type": "code",
     "collapsed": false,
     "input": [
      "num = \"234\"\n",
      "rep = \"1\"\n",
      "error = \"1\"\n",
      "r = \"60\"\n",
      "id = \"060\"\n",
      "g = \"100\"\n",
      "rr = \"100\"\n",
      "runBwaBuild(num,rep,error,r,g)\n",
      "runBwa(num,rep,error,r,g,num,rep,error,r,g)\n",
      "getTruePositivesBwa(num,rep,error,r,g)\n",
      "defaultTp[rep],defaultFp[rep] = getTpFpBwa(num,rep,error,r,g,\"default\",num,rep,error,r,g)\n",
      "rep = \"2\"\n",
      "runBwaBuild(num,rep,error,r,g)\n",
      "runBwa(num,rep,error,r,g,num,rep,error,r,g)\n",
      "getTruePositivesBwa(num,rep,error,r,g)\n",
      "defaultTp[rep],defaultFp[rep] = getTpFpBwa(num,rep,error,r,g,\"default\",num,rep,error,r,g)\n",
      "rep = \"3\"\n",
      "runBwaBuild(num,rep,error,r,g)\n",
      "runBwa(num,rep,error,r,g,num,rep,error,r,g)\n",
      "getTruePositivesBwa(num,rep,error,r,g)\n",
      "defaultTp[rep],defaultFp[rep] = getTpFpBwa(num,rep,error,r,g,\"default\",num,rep,error,r,g)\n",
      "\n",
      "defaultAvgTp[id] = sum([defaultTp[\"1\"], defaultTp[\"2\"], defaultTp[\"3\"]]) / 3\n",
      "print \"Average Default True Positive Percentage: \", defaultAvgTp[id]\n",
      "defaultAvgFp[id] = sum([defaultFp[\"1\"], defaultFp[\"2\"], defaultFp[\"3\"]]) / 3\n",
      "print \"Average Default False Positive Percentage: \", defaultAvgFp[id]\n"
     ],
     "language": "python",
     "metadata": {},
     "outputs": []
    },
    {
     "cell_type": "code",
     "collapsed": false,
     "input": [
      "num = \"234\"\n",
      "rep = \"1\"\n",
      "error = \"1\"\n",
      "r = \"50\"\n",
      "id = \"050\"\n",
      "g = \"100\"\n",
      "rr = \"100\"\n",
      "runBwaBuild(num,rep,error,r,g)\n",
      "runBwa(num,rep,error,r,g,num,rep,error,r,g)\n",
      "getTruePositivesBwa(num,rep,error,r,g)\n",
      "defaultTp[rep],defaultFp[rep] = getTpFpBwa(num,rep,error,r,g,\"default\",num,rep,error,r,g)\n",
      "rep = \"2\"\n",
      "runBwaBuild(num,rep,error,r,g)\n",
      "runBwa(num,rep,error,r,g,num,rep,error,r,g)\n",
      "getTruePositivesBwa(num,rep,error,r,g)\n",
      "defaultTp[rep],defaultFp[rep] = getTpFpBwa(num,rep,error,r,g,\"default\",num,rep,error,r,g)\n",
      "rep = \"3\"\n",
      "runBwaBuild(num,rep,error,r,g)\n",
      "runBwa(num,rep,error,r,g,num,rep,error,r,g)\n",
      "getTruePositivesBwa(num,rep,error,r,g)\n",
      "defaultTp[rep],defaultFp[rep] = getTpFpBwa(num,rep,error,r,g,\"default\",num,rep,error,r,g)\n",
      "\n",
      "defaultAvgTp[id] = sum([defaultTp[\"1\"], defaultTp[\"2\"], defaultTp[\"3\"]]) / 3\n",
      "print \"Average Default True Positive Percentage: \", defaultAvgTp[id]\n",
      "defaultAvgFp[id] = sum([defaultFp[\"1\"], defaultFp[\"2\"], defaultFp[\"3\"]]) / 3\n",
      "print \"Average Default False Positive Percentage: \", defaultAvgFp[id]\n"
     ],
     "language": "python",
     "metadata": {},
     "outputs": []
    },
    {
     "cell_type": "code",
     "collapsed": false,
     "input": [
      "num = \"234\"\n",
      "rep = \"1\"\n",
      "error = \"1\"\n",
      "r = \"40\"\n",
      "id = \"040\"\n",
      "g = \"100\"\n",
      "rr = \"100\"\n",
      "runBwaBuild(num,rep,error,r,g)\n",
      "runBwa(num,rep,error,r,g,num,rep,error,r,g)\n",
      "getTruePositivesBwa(num,rep,error,r,g)\n",
      "defaultTp[rep],defaultFp[rep] = getTpFpBwa(num,rep,error,r,g,\"default\",num,rep,error,r,g)\n",
      "rep = \"2\"\n",
      "runBwaBuild(num,rep,error,r,g)\n",
      "runBwa(num,rep,error,r,g,num,rep,error,r,g)\n",
      "getTruePositivesBwa(num,rep,error,r,g)\n",
      "defaultTp[rep],defaultFp[rep] = getTpFpBwa(num,rep,error,r,g,\"default\",num,rep,error,r,g)\n",
      "rep = \"3\"\n",
      "runBwaBuild(num,rep,error,r,g)\n",
      "runBwa(num,rep,error,r,g,num,rep,error,r,g)\n",
      "getTruePositivesBwa(num,rep,error,r,g)\n",
      "defaultTp[rep],defaultFp[rep] = getTpFpBwa(num,rep,error,r,g,\"default\",num,rep,error,r,g)\n",
      "\n",
      "defaultAvgTp[id] = sum([defaultTp[\"1\"], defaultTp[\"2\"], defaultTp[\"3\"]]) / 3\n",
      "print \"Average Default True Positive Percentage: \", defaultAvgTp[id]\n",
      "defaultAvgFp[id] = sum([defaultFp[\"1\"], defaultFp[\"2\"], defaultFp[\"3\"]]) / 3\n",
      "print \"Average Default False Positive Percentage: \", defaultAvgFp[id]\n"
     ],
     "language": "python",
     "metadata": {},
     "outputs": []
    },
    {
     "cell_type": "code",
     "collapsed": false,
     "input": [
      "num = \"234\"\n",
      "rep = \"1\"\n",
      "error = \"1\"\n",
      "r = \"30\"\n",
      "id = \"030\"\n",
      "g = \"100\"\n",
      "rr = \"100\"\n",
      "runBwaBuild(num,rep,error,r,g)\n",
      "runBwa(num,rep,error,r,g,num,rep,error,r,g)\n",
      "getTruePositivesBwa(num,rep,error,r,g)\n",
      "defaultTp[rep],defaultFp[rep] = getTpFpBwa(num,rep,error,r,g,\"default\",num,rep,error,r,g)\n",
      "rep = \"2\"\n",
      "runBwaBuild(num,rep,error,r,g)\n",
      "runBwa(num,rep,error,r,g,num,rep,error,r,g)\n",
      "getTruePositivesBwa(num,rep,error,r,g)\n",
      "defaultTp[rep],defaultFp[rep] = getTpFpBwa(num,rep,error,r,g,\"default\",num,rep,error,r,g)\n",
      "rep = \"3\"\n",
      "runBwaBuild(num,rep,error,r,g)\n",
      "runBwa(num,rep,error,r,g,num,rep,error,r,g)\n",
      "getTruePositivesBwa(num,rep,error,r,g)\n",
      "defaultTp[rep],defaultFp[rep] = getTpFpBwa(num,rep,error,r,g,\"default\",num,rep,error,r,g)\n",
      "\n",
      "defaultAvgTp[id] = sum([defaultTp[\"1\"], defaultTp[\"2\"], defaultTp[\"3\"]]) / 3\n",
      "print \"Average Default True Positive Percentage: \", defaultAvgTp[id]\n",
      "defaultAvgFp[id] = sum([defaultFp[\"1\"], defaultFp[\"2\"], defaultFp[\"3\"]]) / 3\n",
      "print \"Average Default False Positive Percentage: \", defaultAvgFp[id]\n"
     ],
     "language": "python",
     "metadata": {},
     "outputs": []
    },
    {
     "cell_type": "code",
     "collapsed": false,
     "input": [
      "num = \"234\"\n",
      "rep = \"1\"\n",
      "error = \"1\"\n",
      "r = \"20\"\n",
      "id = \"020\"\n",
      "g = \"100\"\n",
      "rr = \"100\"\n",
      "runBwaBuild(num,rep,error,r,g)\n",
      "runBwa(num,rep,error,r,g,num,rep,error,r,g)\n",
      "getTruePositivesBwa(num,rep,error,r,g)\n",
      "defaultTp[rep],defaultFp[rep] = getTpFpBwa(num,rep,error,r,g,\"default\",num,rep,error,r,g)\n",
      "rep = \"2\"\n",
      "runBwaBuild(num,rep,error,r,g)\n",
      "runBwa(num,rep,error,r,g,num,rep,error,r,g)\n",
      "getTruePositivesBwa(num,rep,error,r,g)\n",
      "defaultTp[rep],defaultFp[rep] = getTpFpBwa(num,rep,error,r,g,\"default\",num,rep,error,r,g)\n",
      "rep = \"3\"\n",
      "runBwaBuild(num,rep,error,r,g)\n",
      "runBwa(num,rep,error,r,g,num,rep,error,r,g)\n",
      "getTruePositivesBwa(num,rep,error,r,g)\n",
      "defaultTp[rep],defaultFp[rep] = getTpFpBwa(num,rep,error,r,g,\"default\",num,rep,error,r,g)\n",
      "\n",
      "defaultAvgTp[id] = sum([defaultTp[\"1\"], defaultTp[\"2\"], defaultTp[\"3\"]]) / 3\n",
      "print \"Average Default True Positive Percentage: \", defaultAvgTp[id]\n",
      "defaultAvgFp[id] = sum([defaultFp[\"1\"], defaultFp[\"2\"], defaultFp[\"3\"]]) / 3\n",
      "print \"Average Default False Positive Percentage: \", defaultAvgFp[id]\n"
     ],
     "language": "python",
     "metadata": {},
     "outputs": []
    },
    {
     "cell_type": "code",
     "collapsed": false,
     "input": [
      "num = \"234\"\n",
      "rep = \"1\"\n",
      "error = \"1\"\n",
      "r = \"10\"\n",
      "id = \"010\"\n",
      "g = \"100\"\n",
      "rr = \"100\"\n",
      "runBwaBuild(num,rep,error,r,g)\n",
      "runBwa(num,rep,error,r,g,num,rep,error,r,g)\n",
      "getTruePositivesBwa(num,rep,error,r,g)\n",
      "defaultTp[rep],defaultFp[rep] = getTpFpBwa(num,rep,error,r,g,\"default\",num,rep,error,r,g)\n",
      "rep = \"2\"\n",
      "runBwaBuild(num,rep,error,r,g)\n",
      "runBwa(num,rep,error,r,g,num,rep,error,r,g)\n",
      "getTruePositivesBwa(num,rep,error,r,g)\n",
      "defaultTp[rep],defaultFp[rep] = getTpFpBwa(num,rep,error,r,g,\"default\",num,rep,error,r,g)\n",
      "rep = \"3\"\n",
      "runBwaBuild(num,rep,error,r,g)\n",
      "runBwa(num,rep,error,r,g,num,rep,error,r,g)\n",
      "getTruePositivesBwa(num,rep,error,r,g)\n",
      "defaultTp[rep],defaultFp[rep] = getTpFpBwa(num,rep,error,r,g,\"default\",num,rep,error,r,g)\n",
      "\n",
      "defaultAvgTp[id] = sum([defaultTp[\"1\"], defaultTp[\"2\"], defaultTp[\"3\"]]) / 3\n",
      "print \"Average Default True Positive Percentage: \", defaultAvgTp[id]\n",
      "defaultAvgFp[id] = sum([defaultFp[\"1\"], defaultFp[\"2\"], defaultFp[\"3\"]]) / 3\n",
      "print \"Average Default False Positive Percentage: \", defaultAvgFp[id]\n"
     ],
     "language": "python",
     "metadata": {},
     "outputs": []
    },
    {
     "cell_type": "markdown",
     "metadata": {},
     "source": [
      "Same datasets aligned with Soap2"
     ]
    },
    {
     "cell_type": "code",
     "collapsed": false,
     "input": [
      "num = \"234\"\n",
      "rep = \"1\"\n",
      "error = \"1\"\n",
      "r = \"100\"\n",
      "id = \"100\"\n",
      "g = \"100\"\n",
      "rr = \"100\"\n",
      "runSoapBuild(num,rep,error,r,g)\n",
      "runSoap(num,rep,error,r,g,num,rep,error,r,g)\n",
      "getTruePositivesSoap(num,rep,error,r,g)\n",
      "defaultTp[rep],defaultFp[rep] = getTpFpSoap(num,rep,error,r,g,\"default\",num,rep,error,r,g)\n",
      "rep = \"2\"\n",
      "runSoapBuild(num,rep,error,r,g)\n",
      "runSoap(num,rep,error,r,g,num,rep,error,r,g)\n",
      "getTruePositivesSoap(num,rep,error,r,g)\n",
      "defaultTp[rep],defaultFp[rep] = getTpFpSoap(num,rep,error,r,g,\"default\",num,rep,error,r,g)\n",
      "rep = \"3\"\n",
      "runSoapBuild(num,rep,error,r,g)\n",
      "runSoap(num,rep,error,r,g,num,rep,error,r,g)\n",
      "getTruePositivesSoap(num,rep,error,r,g)\n",
      "defaultTp[rep],defaultFp[rep] = getTpFpSoap(num,rep,error,r,g,\"default\",num,rep,error,r,g)\n",
      "\n",
      "defaultAvgTp[id] = sum([defaultTp[\"1\"], defaultTp[\"2\"], defaultTp[\"3\"]]) / 3\n",
      "print \"Average Default True Positive Percentage: \", defaultAvgTp[id]\n",
      "defaultAvgFp[id] = sum([defaultFp[\"1\"], defaultFp[\"2\"], defaultFp[\"3\"]]) / 3\n",
      "print \"Average Default False Positive Percentage: \", defaultAvgFp[id]\n"
     ],
     "language": "python",
     "metadata": {},
     "outputs": []
    },
    {
     "cell_type": "code",
     "collapsed": false,
     "input": [
      "num = \"234\"\n",
      "rep = \"1\"\n",
      "error = \"1\"\n",
      "r = \"90\"\n",
      "id = \"090\"\n",
      "g = \"100\"\n",
      "rr = \"100\"\n",
      "runSoapBuild(num,rep,error,r,g)\n",
      "runSoap(num,rep,error,r,g,num,rep,error,r,g)\n",
      "getTruePositivesSoap(num,rep,error,r,g)\n",
      "defaultTp[rep],defaultFp[rep] = getTpFpSoap(num,rep,error,r,g,\"default\",num,rep,error,r,g)\n",
      "rep = \"2\"\n",
      "runSoapBuild(num,rep,error,r,g)\n",
      "runSoap(num,rep,error,r,g,num,rep,error,r,g)\n",
      "getTruePositivesSoap(num,rep,error,r,g)\n",
      "defaultTp[rep],defaultFp[rep] = getTpFpSoap(num,rep,error,r,g,\"default\",num,rep,error,r,g)\n",
      "rep = \"3\"\n",
      "runSoapBuild(num,rep,error,r,g)\n",
      "runSoap(num,rep,error,r,g,num,rep,error,r,g)\n",
      "getTruePositivesSoap(num,rep,error,r,g)\n",
      "defaultTp[rep],defaultFp[rep] = getTpFpSoap(num,rep,error,r,g,\"default\",num,rep,error,r,g)\n",
      "\n",
      "defaultAvgTp[id] = sum([defaultTp[\"1\"], defaultTp[\"2\"], defaultTp[\"3\"]]) / 3\n",
      "print \"Average Default True Positive Percentage: \", defaultAvgTp[id]\n",
      "defaultAvgFp[id] = sum([defaultFp[\"1\"], defaultFp[\"2\"], defaultFp[\"3\"]]) / 3\n",
      "print \"Average Default False Positive Percentage: \", defaultAvgFp[id]\n"
     ],
     "language": "python",
     "metadata": {},
     "outputs": []
    },
    {
     "cell_type": "code",
     "collapsed": false,
     "input": [
      "num = \"234\"\n",
      "rep = \"1\"\n",
      "error = \"1\"\n",
      "r = \"80\"\n",
      "id = \"080\"\n",
      "g = \"100\"\n",
      "rr = \"100\"\n",
      "runSoapBuild(num,rep,error,r,g)\n",
      "runSoap(num,rep,error,r,g,num,rep,error,r,g)\n",
      "getTruePositivesSoap(num,rep,error,r,g)\n",
      "defaultTp[rep],defaultFp[rep] = getTpFpSoap(num,rep,error,r,g,\"default\",num,rep,error,r,g)\n",
      "rep = \"2\"\n",
      "runSoapBuild(num,rep,error,r,g)\n",
      "runSoap(num,rep,error,r,g,num,rep,error,r,g)\n",
      "getTruePositivesSoap(num,rep,error,r,g)\n",
      "defaultTp[rep],defaultFp[rep] = getTpFpSoap(num,rep,error,r,g,\"default\",num,rep,error,r,g)\n",
      "rep = \"3\"\n",
      "runSoapBuild(num,rep,error,r,g)\n",
      "runSoap(num,rep,error,r,g,num,rep,error,r,g)\n",
      "getTruePositivesSoap(num,rep,error,r,g)\n",
      "defaultTp[rep],defaultFp[rep] = getTpFpSoap(num,rep,error,r,g,\"default\",num,rep,error,r,g)\n",
      "\n",
      "defaultAvgTp[id] = sum([defaultTp[\"1\"], defaultTp[\"2\"], defaultTp[\"3\"]]) / 3\n",
      "print \"Average Default True Positive Percentage: \", defaultAvgTp[id]\n",
      "defaultAvgFp[id] = sum([defaultFp[\"1\"], defaultFp[\"2\"], defaultFp[\"3\"]]) / 3\n",
      "print \"Average Default False Positive Percentage: \", defaultAvgFp[id]\n"
     ],
     "language": "python",
     "metadata": {},
     "outputs": []
    },
    {
     "cell_type": "code",
     "collapsed": false,
     "input": [
      "num = \"234\"\n",
      "rep = \"1\"\n",
      "error = \"1\"\n",
      "r = \"70\"\n",
      "id = \"070\"\n",
      "g = \"100\"\n",
      "rr = \"100\"\n",
      "runSoapBuild(num,rep,error,r,g)\n",
      "runSoap(num,rep,error,r,g,num,rep,error,r,g)\n",
      "getTruePositivesSoap(num,rep,error,r,g)\n",
      "defaultTp[rep],defaultFp[rep] = getTpFpSoap(num,rep,error,r,g,\"default\",num,rep,error,r,g)\n",
      "rep = \"2\"\n",
      "runSoapBuild(num,rep,error,r,g)\n",
      "runSoap(num,rep,error,r,g,num,rep,error,r,g)\n",
      "getTruePositivesSoap(num,rep,error,r,g)\n",
      "defaultTp[rep],defaultFp[rep] = getTpFpSoap(num,rep,error,r,g,\"default\",num,rep,error,r,g)\n",
      "rep = \"3\"\n",
      "runSoapBuild(num,rep,error,r,g)\n",
      "runSoap(num,rep,error,r,g,num,rep,error,r,g)\n",
      "getTruePositivesSoap(num,rep,error,r,g)\n",
      "defaultTp[rep],defaultFp[rep] = getTpFpSoap(num,rep,error,r,g,\"default\",num,rep,error,r,g)\n",
      "\n",
      "defaultAvgTp[id] = sum([defaultTp[\"1\"], defaultTp[\"2\"], defaultTp[\"3\"]]) / 3\n",
      "print \"Average Default True Positive Percentage: \", defaultAvgTp[id]\n",
      "defaultAvgFp[id] = sum([defaultFp[\"1\"], defaultFp[\"2\"], defaultFp[\"3\"]]) / 3\n",
      "print \"Average Default False Positive Percentage: \", defaultAvgFp[id]\n"
     ],
     "language": "python",
     "metadata": {},
     "outputs": []
    },
    {
     "cell_type": "code",
     "collapsed": false,
     "input": [
      "num = \"234\"\n",
      "rep = \"1\"\n",
      "error = \"1\"\n",
      "r = \"60\"\n",
      "id = \"060\"\n",
      "g = \"100\"\n",
      "rr = \"100\"\n",
      "runSoapBuild(num,rep,error,r,g)\n",
      "runSoap(num,rep,error,r,g,num,rep,error,r,g)\n",
      "getTruePositivesSoap(num,rep,error,r,g)\n",
      "defaultTp[rep],defaultFp[rep] = getTpFpSoap(num,rep,error,r,g,\"default\",num,rep,error,r,g)\n",
      "rep = \"2\"\n",
      "runSoapBuild(num,rep,error,r,g)\n",
      "runSoap(num,rep,error,r,g,num,rep,error,r,g)\n",
      "getTruePositivesSoap(num,rep,error,r,g)\n",
      "defaultTp[rep],defaultFp[rep] = getTpFpSoap(num,rep,error,r,g,\"default\",num,rep,error,r,g)\n",
      "rep = \"3\"\n",
      "runSoapBuild(num,rep,error,r,g)\n",
      "runSoap(num,rep,error,r,g,num,rep,error,r,g)\n",
      "getTruePositivesSoap(num,rep,error,r,g)\n",
      "defaultTp[rep],defaultFp[rep] = getTpFpSoap(num,rep,error,r,g,\"default\",num,rep,error,r,g)\n",
      "\n",
      "defaultAvgTp[id] = sum([defaultTp[\"1\"], defaultTp[\"2\"], defaultTp[\"3\"]]) / 3\n",
      "print \"Average Default True Positive Percentage: \", defaultAvgTp[id]\n",
      "defaultAvgFp[id] = sum([defaultFp[\"1\"], defaultFp[\"2\"], defaultFp[\"3\"]]) / 3\n",
      "print \"Average Default False Positive Percentage: \", defaultAvgFp[id]\n"
     ],
     "language": "python",
     "metadata": {},
     "outputs": []
    },
    {
     "cell_type": "code",
     "collapsed": false,
     "input": [
      "num = \"234\"\n",
      "rep = \"1\"\n",
      "error = \"1\"\n",
      "r = \"50\"\n",
      "id = \"050\"\n",
      "g = \"100\"\n",
      "rr = \"100\"\n",
      "runSoapBuild(num,rep,error,r,g)\n",
      "runSoap(num,rep,error,r,g,num,rep,error,r,g)\n",
      "getTruePositivesSoap(num,rep,error,r,g)\n",
      "defaultTp[rep],defaultFp[rep] = getTpFpSoap(num,rep,error,r,g,\"default\",num,rep,error,r,g)\n",
      "rep = \"2\"\n",
      "runSoapBuild(num,rep,error,r,g)\n",
      "runSoap(num,rep,error,r,g,num,rep,error,r,g)\n",
      "getTruePositivesSoap(num,rep,error,r,g)\n",
      "defaultTp[rep],defaultFp[rep] = getTpFpSoap(num,rep,error,r,g,\"default\",num,rep,error,r,g)\n",
      "rep = \"3\"\n",
      "runSoapBuild(num,rep,error,r,g)\n",
      "runSoap(num,rep,error,r,g,num,rep,error,r,g)\n",
      "getTruePositivesSoap(num,rep,error,r,g)\n",
      "defaultTp[rep],defaultFp[rep] = getTpFpSoap(num,rep,error,r,g,\"default\",num,rep,error,r,g)\n",
      "\n",
      "defaultAvgTp[id] = sum([defaultTp[\"1\"], defaultTp[\"2\"], defaultTp[\"3\"]]) / 3\n",
      "print \"Average Default True Positive Percentage: \", defaultAvgTp[id]\n",
      "defaultAvgFp[id] = sum([defaultFp[\"1\"], defaultFp[\"2\"], defaultFp[\"3\"]]) / 3\n",
      "print \"Average Default False Positive Percentage: \", defaultAvgFp[id]\n"
     ],
     "language": "python",
     "metadata": {},
     "outputs": []
    },
    {
     "cell_type": "code",
     "collapsed": false,
     "input": [
      "num = \"234\"\n",
      "rep = \"1\"\n",
      "error = \"1\"\n",
      "r = \"40\"\n",
      "id = \"040\"\n",
      "g = \"100\"\n",
      "rr = \"100\"\n",
      "runSoapBuild(num,rep,error,r,g)\n",
      "runSoap(num,rep,error,r,g,num,rep,error,r,g)\n",
      "getTruePositivesSoap(num,rep,error,r,g)\n",
      "defaultTp[rep],defaultFp[rep] = getTpFpSoap(num,rep,error,r,g,\"default\",num,rep,error,r,g)\n",
      "rep = \"2\"\n",
      "runSoapBuild(num,rep,error,r,g)\n",
      "runSoap(num,rep,error,r,g,num,rep,error,r,g)\n",
      "getTruePositivesSoap(num,rep,error,r,g)\n",
      "defaultTp[rep],defaultFp[rep] = getTpFpSoap(num,rep,error,r,g,\"default\",num,rep,error,r,g)\n",
      "rep = \"3\"\n",
      "runSoapBuild(num,rep,error,r,g)\n",
      "runSoap(num,rep,error,r,g,num,rep,error,r,g)\n",
      "getTruePositivesSoap(num,rep,error,r,g)\n",
      "defaultTp[rep],defaultFp[rep] = getTpFpSoap(num,rep,error,r,g,\"default\",num,rep,error,r,g)\n",
      "\n",
      "defaultAvgTp[id] = sum([defaultTp[\"1\"], defaultTp[\"2\"], defaultTp[\"3\"]]) / 3\n",
      "print \"Average Default True Positive Percentage: \", defaultAvgTp[id]\n",
      "defaultAvgFp[id] = sum([defaultFp[\"1\"], defaultFp[\"2\"], defaultFp[\"3\"]]) / 3\n",
      "print \"Average Default False Positive Percentage: \", defaultAvgFp[id]\n"
     ],
     "language": "python",
     "metadata": {},
     "outputs": []
    },
    {
     "cell_type": "code",
     "collapsed": false,
     "input": [
      "num = \"234\"\n",
      "rep = \"1\"\n",
      "error = \"1\"\n",
      "r = \"30\"\n",
      "id = \"030\"\n",
      "g = \"100\"\n",
      "rr = \"100\"\n",
      "runSoapBuild(num,rep,error,r,g)\n",
      "runSoap(num,rep,error,r,g,num,rep,error,r,g)\n",
      "getTruePositivesSoap(num,rep,error,r,g)\n",
      "defaultTp[rep],defaultFp[rep] = getTpFpSoap(num,rep,error,r,g,\"default\",num,rep,error,r,g)\n",
      "rep = \"2\"\n",
      "runSoapBuild(num,rep,error,r,g)\n",
      "runSoap(num,rep,error,r,g,num,rep,error,r,g)\n",
      "getTruePositivesSoap(num,rep,error,r,g)\n",
      "defaultTp[rep],defaultFp[rep] = getTpFpSoap(num,rep,error,r,g,\"default\",num,rep,error,r,g)\n",
      "rep = \"3\"\n",
      "runSoapBuild(num,rep,error,r,g)\n",
      "runSoap(num,rep,error,r,g,num,rep,error,r,g)\n",
      "getTruePositivesSoap(num,rep,error,r,g)\n",
      "defaultTp[rep],defaultFp[rep] = getTpFpSoap(num,rep,error,r,g,\"default\",num,rep,error,r,g)\n",
      "\n",
      "defaultAvgTp[id] = sum([defaultTp[\"1\"], defaultTp[\"2\"], defaultTp[\"3\"]]) / 3\n",
      "print \"Average Default True Positive Percentage: \", defaultAvgTp[id]\n",
      "defaultAvgFp[id] = sum([defaultFp[\"1\"], defaultFp[\"2\"], defaultFp[\"3\"]]) / 3\n",
      "print \"Average Default False Positive Percentage: \", defaultAvgFp[id]\n"
     ],
     "language": "python",
     "metadata": {},
     "outputs": []
    },
    {
     "cell_type": "code",
     "collapsed": false,
     "input": [
      "num = \"234\"\n",
      "rep = \"1\"\n",
      "error = \"1\"\n",
      "r = \"10\"\n",
      "id = \"020\"\n",
      "g = \"100\"\n",
      "rr = \"100\"\n",
      "runSoapBuild(num,rep,error,r,g)\n",
      "runSoap(num,rep,error,r,g,num,rep,error,r,g)\n",
      "getTruePositivesSoap(num,rep,error,r,g)\n",
      "defaultTp[rep],defaultFp[rep] = getTpFpSoap(num,rep,error,r,g,\"default\",num,rep,error,r,g)\n",
      "rep = \"2\"\n",
      "runSoapBuild(num,rep,error,r,g)\n",
      "runSoap(num,rep,error,r,g,num,rep,error,r,g)\n",
      "getTruePositivesSoap(num,rep,error,r,g)\n",
      "defaultTp[rep],defaultFp[rep] = getTpFpSoap(num,rep,error,r,g,\"default\",num,rep,error,r,g)\n",
      "rep = \"3\"\n",
      "runSoapBuild(num,rep,error,r,g)\n",
      "runSoap(num,rep,error,r,g,num,rep,error,r,g)\n",
      "getTruePositivesSoap(num,rep,error,r,g)\n",
      "defaultTp[rep],defaultFp[rep] = getTpFpSoap(num,rep,error,r,g,\"default\",num,rep,error,r,g)\n",
      "\n",
      "defaultAvgTp[id] = sum([defaultTp[\"1\"], defaultTp[\"2\"], defaultTp[\"3\"]]) / 3\n",
      "print \"Average Default True Positive Percentage: \", defaultAvgTp[id]\n",
      "defaultAvgFp[id] = sum([defaultFp[\"1\"], defaultFp[\"2\"], defaultFp[\"3\"]]) / 3\n",
      "print \"Average Default False Positive Percentage: \", defaultAvgFp[id]\n"
     ],
     "language": "python",
     "metadata": {},
     "outputs": []
    },
    {
     "cell_type": "code",
     "collapsed": false,
     "input": [
      "num = \"234\"\n",
      "rep = \"1\"\n",
      "error = \"1\"\n",
      "r = \"10\"\n",
      "id = \"010\"\n",
      "g = \"100\"\n",
      "rr = \"100\"\n",
      "runSoapBuild(num,rep,error,r,g)\n",
      "runSoap(num,rep,error,r,g,num,rep,error,r,g)\n",
      "getTruePositivesSoap(num,rep,error,r,g)\n",
      "defaultTp[rep],defaultFp[rep] = getTpFpSoap(num,rep,error,r,g,\"default\",num,rep,error,r,g)\n",
      "rep = \"2\"\n",
      "runSoapBuild(num,rep,error,r,g)\n",
      "runSoap(num,rep,error,r,g,num,rep,error,r,g)\n",
      "getTruePositivesSoap(num,rep,error,r,g)\n",
      "defaultTp[rep],defaultFp[rep] = getTpFpSoap(num,rep,error,r,g,\"default\",num,rep,error,r,g)\n",
      "rep = \"3\"\n",
      "runSoapBuild(num,rep,error,r,g)\n",
      "runSoap(num,rep,error,r,g,num,rep,error,r,g)\n",
      "getTruePositivesSoap(num,rep,error,r,g)\n",
      "defaultTp[rep],defaultFp[rep] = getTpFpSoap(num,rep,error,r,g,\"default\",num,rep,error,r,g)\n",
      "\n",
      "defaultAvgTp[id] = sum([defaultTp[\"1\"], defaultTp[\"2\"], defaultTp[\"3\"]]) / 3\n",
      "print \"Average Default True Positive Percentage: \", defaultAvgTp[id]\n",
      "defaultAvgFp[id] = sum([defaultFp[\"1\"], defaultFp[\"2\"], defaultFp[\"3\"]]) / 3\n",
      "print \"Average Default False Positive Percentage: \", defaultAvgFp[id]\n"
     ],
     "language": "python",
     "metadata": {},
     "outputs": []
    },
    {
     "cell_type": "heading",
     "level": 2,
     "metadata": {},
     "source": [
      "Test 5: Transcript expression accuracy of read sets generated from 25, 50, 75, and 100% expressed full chicken transcriptome with incomplete reference transcriptome"
     ]
    },
    {
     "cell_type": "heading",
     "level": 6,
     "metadata": {},
     "source": [
      "Single end read sets"
     ]
    },
    {
     "cell_type": "raw",
     "metadata": {},
     "source": [
      "Chicken transcriptome, 25% expression, single end 100 bp reads, {0 10 100 100}x expression"
     ]
    },
    {
     "cell_type": "code",
     "collapsed": false,
     "input": [
      "num = \"235\"\n",
      "rep = \"1\"\n",
      "error = \"1\"\n",
      "r = \"100\"\n",
      "id = \"100\"\n",
      "g = \"100\"\n",
      "rr = \"100\"\n",
      "runBowtieBuild(num,rep,error,r,g)\n",
      "runBowtieAllParams(num,rep,error,r,g,num,rep,error,r,g)\n",
      "getTruePositivesAllParams(num,rep,error,r,g,\"chicken\")\n",
      "defaultTp[rep],defaultFp[rep] = getTpFp(num,rep,error,r,g,\"default\",num,rep,error,r,g)\n",
      "uniqueTp[rep],uniqueFp[rep] = getTpFp(num,rep,error,r,g,\"unique\",num,rep,error,r,g)\n",
      "multimapTp[rep],multimapFp[rep] = getTpFp(num,rep,error,r,g,\"multimap\",num,rep,error,r,g)\n",
      "rep = \"2\"\n",
      "runBowtieBuild(num,rep,error,r,g)\n",
      "runBowtieAllParams(num,rep,error,r,g,num,rep,error,r,g)\n",
      "getTruePositivesAllParams(num,rep,error,r,g,\"chicken\")\n",
      "defaultTp[rep],defaultFp[rep] = getTpFp(num,rep,error,r,g,\"default\",num,rep,error,r,g)\n",
      "uniqueTp[rep],uniqueFp[rep] = getTpFp(num,rep,error,r,g,\"unique\",num,rep,error,r,g)\n",
      "multimapTp[rep],multimapFp[rep] = getTpFp(num,rep,error,r,g,\"multimap\",num,rep,error,r,g)\n",
      "rep = \"3\"\n",
      "runBowtieBuild(num,rep,error,r,g)\n",
      "runBowtieAllParams(num,rep,error,r,g,num,rep,error,r,g)\n",
      "getTruePositivesAllParams(num,rep,error,r,g,\"chicken\")\n",
      "defaultTp[rep],defaultFp[rep] = getTpFp(num,rep,error,r,g,\"default\",num,rep,error,r,g)\n",
      "uniqueTp[rep],uniqueFp[rep] = getTpFp(num,rep,error,r,g,\"unique\",num,rep,error,r,g)\n",
      "multimapTp[rep],multimapFp[rep] = getTpFp(num,rep,error,r,g,\"multimap\",num,rep,error,r,g)\n",
      "defaultAvgTp[id] = sum([defaultTp[\"1\"], defaultTp[\"2\"], defaultTp[\"3\"]]) / 3\n",
      "print \"Average Default True Positive Percentage: \", defaultAvgTp[id]\n",
      "defaultAvgFp[id] = sum([defaultFp[\"1\"], defaultFp[\"2\"], defaultFp[\"3\"]]) / 3\n",
      "print \"Average Default False Positive Percentage: \", defaultAvgFp[id]\n",
      "uniqueAvgTp[id] = sum([uniqueTp[\"1\"], uniqueTp[\"2\"], uniqueTp[\"3\"]]) / 3\n",
      "print \"Average Unique True Positive Percentage: \", uniqueAvgTp[id]\n",
      "uniqueAvgFp[id] = sum([uniqueFp[\"1\"], uniqueFp[\"2\"], uniqueFp[\"3\"]]) / 3\n",
      "print \"Average Unique False Positive Percentage: \", uniqueAvgFp[id]\n",
      "multimapAvgTp[id] = sum([multimapTp[\"1\"], multimapTp[\"2\"], multimapTp[\"3\"]]) / 3\n",
      "print \"Average Multimap True Positive Percentage: \", multimapAvgTp[id]\n",
      "multimapAvgFp[id] = sum([multimapFp[\"1\"], multimapFp[\"2\"], multimapFp[\"3\"]]) / 3\n",
      "print \"Average Multimap False Positive Percentage: \", multimapAvgFp[id]"
     ],
     "language": "python",
     "metadata": {},
     "outputs": []
    },
    {
     "cell_type": "code",
     "collapsed": false,
     "input": [
      "num = \"235\"\n",
      "rep = \"1\"\n",
      "error = \"1\"\n",
      "r = \"90\"\n",
      "id = \"090\"\n",
      "g = \"100\"\n",
      "rr = \"100\"\n",
      "runBowtieBuild(num,rep,error,r,g)\n",
      "runBowtieAllParams(num,rep,error,r,g,num,rep,error,r,g)\n",
      "getTruePositivesAllParams(num,rep,error,r,g,\"chicken\")\n",
      "defaultTp[rep],defaultFp[rep] = getTpFp(num,rep,error,r,g,\"default\",num,rep,error,r,g)\n",
      "uniqueTp[rep],uniqueFp[rep] = getTpFp(num,rep,error,r,g,\"unique\",num,rep,error,r,g)\n",
      "multimapTp[rep],multimapFp[rep] = getTpFp(num,rep,error,r,g,\"multimap\",num,rep,error,r,g)\n",
      "rep = \"2\"\n",
      "runBowtieBuild(num,rep,error,r,g)\n",
      "runBowtieAllParams(num,rep,error,r,g,num,rep,error,r,g)\n",
      "getTruePositivesAllParams(num,rep,error,r,g,\"chicken\")\n",
      "defaultTp[rep],defaultFp[rep] = getTpFp(num,rep,error,r,g,\"default\",num,rep,error,r,g)\n",
      "uniqueTp[rep],uniqueFp[rep] = getTpFp(num,rep,error,r,g,\"unique\",num,rep,error,r,g)\n",
      "multimapTp[rep],multimapFp[rep] = getTpFp(num,rep,error,r,g,\"multimap\",num,rep,error,r,g)\n",
      "rep = \"3\"\n",
      "runBowtieBuild(num,rep,error,r,g)\n",
      "runBowtieAllParams(num,rep,error,r,g,num,rep,error,r,g)\n",
      "getTruePositivesAllParams(num,rep,error,r,g,\"chicken\")\n",
      "defaultTp[rep],defaultFp[rep] = getTpFp(num,rep,error,r,g,\"default\",num,rep,error,r,g)\n",
      "uniqueTp[rep],uniqueFp[rep] = getTpFp(num,rep,error,r,g,\"unique\",num,rep,error,r,g)\n",
      "multimapTp[rep],multimapFp[rep] = getTpFp(num,rep,error,r,g,\"multimap\",num,rep,error,r,g)\n",
      "defaultAvgTp[id] = sum([defaultTp[\"1\"], defaultTp[\"2\"], defaultTp[\"3\"]]) / 3\n",
      "print \"Average Default True Positive Percentage: \", defaultAvgTp[id]\n",
      "defaultAvgFp[id] = sum([defaultFp[\"1\"], defaultFp[\"2\"], defaultFp[\"3\"]]) / 3\n",
      "print \"Average Default False Positive Percentage: \", defaultAvgFp[id]\n",
      "uniqueAvgTp[id] = sum([uniqueTp[\"1\"], uniqueTp[\"2\"], uniqueTp[\"3\"]]) / 3\n",
      "print \"Average Unique True Positive Percentage: \", uniqueAvgTp[id]\n",
      "uniqueAvgFp[id] = sum([uniqueFp[\"1\"], uniqueFp[\"2\"], uniqueFp[\"3\"]]) / 3\n",
      "print \"Average Unique False Positive Percentage: \", uniqueAvgFp[id]\n",
      "multimapAvgTp[id] = sum([multimapTp[\"1\"], multimapTp[\"2\"], multimapTp[\"3\"]]) / 3\n",
      "print \"Average Multimap True Positive Percentage: \", multimapAvgTp[id]\n",
      "multimapAvgFp[id] = sum([multimapFp[\"1\"], multimapFp[\"2\"], multimapFp[\"3\"]]) / 3\n",
      "print \"Average Multimap False Positive Percentage: \", multimapAvgFp[id]"
     ],
     "language": "python",
     "metadata": {},
     "outputs": []
    },
    {
     "cell_type": "code",
     "collapsed": false,
     "input": [
      "num = \"235\"\n",
      "rep = \"1\"\n",
      "error = \"1\"\n",
      "r = \"80\"\n",
      "id = \"080\"\n",
      "g = \"100\"\n",
      "rr = \"100\"\n",
      "runBowtieBuild(num,rep,error,r,g)\n",
      "runBowtieAllParams(num,rep,error,r,g,num,rep,error,r,g)\n",
      "getTruePositivesAllParams(num,rep,error,r,g,\"chicken\")\n",
      "defaultTp[rep],defaultFp[rep] = getTpFp(num,rep,error,r,g,\"default\",num,rep,error,r,g)\n",
      "uniqueTp[rep],uniqueFp[rep] = getTpFp(num,rep,error,r,g,\"unique\",num,rep,error,r,g)\n",
      "multimapTp[rep],multimapFp[rep] = getTpFp(num,rep,error,r,g,\"multimap\",num,rep,error,r,g)\n",
      "rep = \"2\"\n",
      "runBowtieBuild(num,rep,error,r,g)\n",
      "runBowtieAllParams(num,rep,error,r,g,num,rep,error,r,g)\n",
      "getTruePositivesAllParams(num,rep,error,r,g,\"chicken\")\n",
      "defaultTp[rep],defaultFp[rep] = getTpFp(num,rep,error,r,g,\"default\",num,rep,error,r,g)\n",
      "uniqueTp[rep],uniqueFp[rep] = getTpFp(num,rep,error,r,g,\"unique\",num,rep,error,r,g)\n",
      "multimapTp[rep],multimapFp[rep] = getTpFp(num,rep,error,r,g,\"multimap\",num,rep,error,r,g)\n",
      "rep = \"3\"\n",
      "runBowtieBuild(num,rep,error,r,g)\n",
      "runBowtieAllParams(num,rep,error,r,g,num,rep,error,r,g)\n",
      "getTruePositivesAllParams(num,rep,error,r,g,\"chicken\")\n",
      "defaultTp[rep],defaultFp[rep] = getTpFp(num,rep,error,r,g,\"default\",num,rep,error,r,g)\n",
      "uniqueTp[rep],uniqueFp[rep] = getTpFp(num,rep,error,r,g,\"unique\",num,rep,error,r,g)\n",
      "multimapTp[rep],multimapFp[rep] = getTpFp(num,rep,error,r,g,\"multimap\",num,rep,error,r,g)\n",
      "defaultAvgTp[id] = sum([defaultTp[\"1\"], defaultTp[\"2\"], defaultTp[\"3\"]]) / 3\n",
      "print \"Average Default True Positive Percentage: \", defaultAvgTp[id]\n",
      "defaultAvgFp[id] = sum([defaultFp[\"1\"], defaultFp[\"2\"], defaultFp[\"3\"]]) / 3\n",
      "print \"Average Default False Positive Percentage: \", defaultAvgFp[id]\n",
      "uniqueAvgTp[id] = sum([uniqueTp[\"1\"], uniqueTp[\"2\"], uniqueTp[\"3\"]]) / 3\n",
      "print \"Average Unique True Positive Percentage: \", uniqueAvgTp[id]\n",
      "uniqueAvgFp[id] = sum([uniqueFp[\"1\"], uniqueFp[\"2\"], uniqueFp[\"3\"]]) / 3\n",
      "print \"Average Unique False Positive Percentage: \", uniqueAvgFp[id]\n",
      "multimapAvgTp[id] = sum([multimapTp[\"1\"], multimapTp[\"2\"], multimapTp[\"3\"]]) / 3\n",
      "print \"Average Multimap True Positive Percentage: \", multimapAvgTp[id]\n",
      "multimapAvgFp[id] = sum([multimapFp[\"1\"], multimapFp[\"2\"], multimapFp[\"3\"]]) / 3\n",
      "print \"Average Multimap False Positive Percentage: \", multimapAvgFp[id]"
     ],
     "language": "python",
     "metadata": {},
     "outputs": []
    },
    {
     "cell_type": "code",
     "collapsed": false,
     "input": [
      "num = \"235\"\n",
      "rep = \"1\"\n",
      "error = \"1\"\n",
      "r = \"70\"\n",
      "id = \"070\"\n",
      "g = \"100\"\n",
      "rr = \"100\"\n",
      "runBowtieBuild(num,rep,error,r,g)\n",
      "runBowtieAllParams(num,rep,error,r,g,num,rep,error,r,g)\n",
      "getTruePositivesAllParams(num,rep,error,r,g,\"chicken\")\n",
      "defaultTp[rep],defaultFp[rep] = getTpFp(num,rep,error,r,g,\"default\",num,rep,error,r,g)\n",
      "uniqueTp[rep],uniqueFp[rep] = getTpFp(num,rep,error,r,g,\"unique\",num,rep,error,r,g)\n",
      "multimapTp[rep],multimapFp[rep] = getTpFp(num,rep,error,r,g,\"multimap\",num,rep,error,r,g)\n",
      "rep = \"2\"\n",
      "runBowtieBuild(num,rep,error,r,g)\n",
      "runBowtieAllParams(num,rep,error,r,g,num,rep,error,r,g)\n",
      "getTruePositivesAllParams(num,rep,error,r,g,\"chicken\")\n",
      "defaultTp[rep],defaultFp[rep] = getTpFp(num,rep,error,r,g,\"default\",num,rep,error,r,g)\n",
      "uniqueTp[rep],uniqueFp[rep] = getTpFp(num,rep,error,r,g,\"unique\",num,rep,error,r,g)\n",
      "multimapTp[rep],multimapFp[rep] = getTpFp(num,rep,error,r,g,\"multimap\",num,rep,error,r,g)\n",
      "rep = \"3\"\n",
      "runBowtieBuild(num,rep,error,r,g)\n",
      "runBowtieAllParams(num,rep,error,r,g,num,rep,error,r,g)\n",
      "getTruePositivesAllParams(num,rep,error,r,g,\"chicken\")\n",
      "defaultTp[rep],defaultFp[rep] = getTpFp(num,rep,error,r,g,\"default\",num,rep,error,r,g)\n",
      "uniqueTp[rep],uniqueFp[rep] = getTpFp(num,rep,error,r,g,\"unique\",num,rep,error,r,g)\n",
      "multimapTp[rep],multimapFp[rep] = getTpFp(num,rep,error,r,g,\"multimap\",num,rep,error,r,g)\n",
      "defaultAvgTp[id] = sum([defaultTp[\"1\"], defaultTp[\"2\"], defaultTp[\"3\"]]) / 3\n",
      "print \"Average Default True Positive Percentage: \", defaultAvgTp[id]\n",
      "defaultAvgFp[id] = sum([defaultFp[\"1\"], defaultFp[\"2\"], defaultFp[\"3\"]]) / 3\n",
      "print \"Average Default False Positive Percentage: \", defaultAvgFp[id]\n",
      "uniqueAvgTp[id] = sum([uniqueTp[\"1\"], uniqueTp[\"2\"], uniqueTp[\"3\"]]) / 3\n",
      "print \"Average Unique True Positive Percentage: \", uniqueAvgTp[id]\n",
      "uniqueAvgFp[id] = sum([uniqueFp[\"1\"], uniqueFp[\"2\"], uniqueFp[\"3\"]]) / 3\n",
      "print \"Average Unique False Positive Percentage: \", uniqueAvgFp[id]\n",
      "multimapAvgTp[id] = sum([multimapTp[\"1\"], multimapTp[\"2\"], multimapTp[\"3\"]]) / 3\n",
      "print \"Average Multimap True Positive Percentage: \", multimapAvgTp[id]\n",
      "multimapAvgFp[id] = sum([multimapFp[\"1\"], multimapFp[\"2\"], multimapFp[\"3\"]]) / 3\n",
      "print \"Average Multimap False Positive Percentage: \", multimapAvgFp[id]"
     ],
     "language": "python",
     "metadata": {},
     "outputs": []
    },
    {
     "cell_type": "code",
     "collapsed": false,
     "input": [
      "num = \"235\"\n",
      "rep = \"1\"\n",
      "error = \"1\"\n",
      "r = \"60\"\n",
      "id = \"060\"\n",
      "g = \"100\"\n",
      "rr = \"100\"\n",
      "runBowtieBuild(num,rep,error,r,g)\n",
      "runBowtieAllParams(num,rep,error,r,g,num,rep,error,r,g)\n",
      "getTruePositivesAllParams(num,rep,error,r,g,\"chicken\")\n",
      "defaultTp[rep],defaultFp[rep] = getTpFp(num,rep,error,r,g,\"default\",num,rep,error,r,g)\n",
      "uniqueTp[rep],uniqueFp[rep] = getTpFp(num,rep,error,r,g,\"unique\",num,rep,error,r,g)\n",
      "multimapTp[rep],multimapFp[rep] = getTpFp(num,rep,error,r,g,\"multimap\",num,rep,error,r,g)\n",
      "rep = \"2\"\n",
      "runBowtieBuild(num,rep,error,r,g)\n",
      "runBowtieAllParams(num,rep,error,r,g,num,rep,error,r,g)\n",
      "getTruePositivesAllParams(num,rep,error,r,g,\"chicken\")\n",
      "defaultTp[rep],defaultFp[rep] = getTpFp(num,rep,error,r,g,\"default\",num,rep,error,r,g)\n",
      "uniqueTp[rep],uniqueFp[rep] = getTpFp(num,rep,error,r,g,\"unique\",num,rep,error,r,g)\n",
      "multimapTp[rep],multimapFp[rep] = getTpFp(num,rep,error,r,g,\"multimap\",num,rep,error,r,g)\n",
      "rep = \"3\"\n",
      "runBowtieBuild(num,rep,error,r,g)\n",
      "runBowtieAllParams(num,rep,error,r,g,num,rep,error,r,g)\n",
      "getTruePositivesAllParams(num,rep,error,r,g,\"chicken\")\n",
      "defaultTp[rep],defaultFp[rep] = getTpFp(num,rep,error,r,g,\"default\",num,rep,error,r,g)\n",
      "uniqueTp[rep],uniqueFp[rep] = getTpFp(num,rep,error,r,g,\"unique\",num,rep,error,r,g)\n",
      "multimapTp[rep],multimapFp[rep] = getTpFp(num,rep,error,r,g,\"multimap\",num,rep,error,r,g)\n",
      "defaultAvgTp[id] = sum([defaultTp[\"1\"], defaultTp[\"2\"], defaultTp[\"3\"]]) / 3\n",
      "print \"Average Default True Positive Percentage: \", defaultAvgTp[id]\n",
      "defaultAvgFp[id] = sum([defaultFp[\"1\"], defaultFp[\"2\"], defaultFp[\"3\"]]) / 3\n",
      "print \"Average Default False Positive Percentage: \", defaultAvgFp[id]\n",
      "uniqueAvgTp[id] = sum([uniqueTp[\"1\"], uniqueTp[\"2\"], uniqueTp[\"3\"]]) / 3\n",
      "print \"Average Unique True Positive Percentage: \", uniqueAvgTp[id]\n",
      "uniqueAvgFp[id] = sum([uniqueFp[\"1\"], uniqueFp[\"2\"], uniqueFp[\"3\"]]) / 3\n",
      "print \"Average Unique False Positive Percentage: \", uniqueAvgFp[id]\n",
      "multimapAvgTp[id] = sum([multimapTp[\"1\"], multimapTp[\"2\"], multimapTp[\"3\"]]) / 3\n",
      "print \"Average Multimap True Positive Percentage: \", multimapAvgTp[id]\n",
      "multimapAvgFp[id] = sum([multimapFp[\"1\"], multimapFp[\"2\"], multimapFp[\"3\"]]) / 3\n",
      "print \"Average Multimap False Positive Percentage: \", multimapAvgFp[id]"
     ],
     "language": "python",
     "metadata": {},
     "outputs": []
    },
    {
     "cell_type": "code",
     "collapsed": false,
     "input": [
      "num = \"235\"\n",
      "rep = \"1\"\n",
      "error = \"1\"\n",
      "r = \"50\"\n",
      "id = \"050\"\n",
      "g = \"100\"\n",
      "rr = \"100\"\n",
      "runBowtieBuild(num,rep,error,r,g)\n",
      "runBowtieAllParams(num,rep,error,r,g,num,rep,error,r,g)\n",
      "getTruePositivesAllParams(num,rep,error,r,g,\"chicken\")\n",
      "defaultTp[rep],defaultFp[rep] = getTpFp(num,rep,error,r,g,\"default\",num,rep,error,r,g)\n",
      "uniqueTp[rep],uniqueFp[rep] = getTpFp(num,rep,error,r,g,\"unique\",num,rep,error,r,g)\n",
      "multimapTp[rep],multimapFp[rep] = getTpFp(num,rep,error,r,g,\"multimap\",num,rep,error,r,g)\n",
      "rep = \"2\"\n",
      "runBowtieBuild(num,rep,error,r,g)\n",
      "runBowtieAllParams(num,rep,error,r,g,num,rep,error,r,g)\n",
      "getTruePositivesAllParams(num,rep,error,r,g,\"chicken\")\n",
      "defaultTp[rep],defaultFp[rep] = getTpFp(num,rep,error,r,g,\"default\",num,rep,error,r,g)\n",
      "uniqueTp[rep],uniqueFp[rep] = getTpFp(num,rep,error,r,g,\"unique\",num,rep,error,r,g)\n",
      "multimapTp[rep],multimapFp[rep] = getTpFp(num,rep,error,r,g,\"multimap\",num,rep,error,r,g)\n",
      "rep = \"3\"\n",
      "runBowtieBuild(num,rep,error,r,g)\n",
      "runBowtieAllParams(num,rep,error,r,g,num,rep,error,r,g)\n",
      "getTruePositivesAllParams(num,rep,error,r,g,\"chicken\")\n",
      "defaultTp[rep],defaultFp[rep] = getTpFp(num,rep,error,r,g,\"default\",num,rep,error,r,g)\n",
      "uniqueTp[rep],uniqueFp[rep] = getTpFp(num,rep,error,r,g,\"unique\",num,rep,error,r,g)\n",
      "multimapTp[rep],multimapFp[rep] = getTpFp(num,rep,error,r,g,\"multimap\",num,rep,error,r,g)\n",
      "defaultAvgTp[id] = sum([defaultTp[\"1\"], defaultTp[\"2\"], defaultTp[\"3\"]]) / 3\n",
      "print \"Average Default True Positive Percentage: \", defaultAvgTp[id]\n",
      "defaultAvgFp[id] = sum([defaultFp[\"1\"], defaultFp[\"2\"], defaultFp[\"3\"]]) / 3\n",
      "print \"Average Default False Positive Percentage: \", defaultAvgFp[id]\n",
      "uniqueAvgTp[id] = sum([uniqueTp[\"1\"], uniqueTp[\"2\"], uniqueTp[\"3\"]]) / 3\n",
      "print \"Average Unique True Positive Percentage: \", uniqueAvgTp[id]\n",
      "uniqueAvgFp[id] = sum([uniqueFp[\"1\"], uniqueFp[\"2\"], uniqueFp[\"3\"]]) / 3\n",
      "print \"Average Unique False Positive Percentage: \", uniqueAvgFp[id]\n",
      "multimapAvgTp[id] = sum([multimapTp[\"1\"], multimapTp[\"2\"], multimapTp[\"3\"]]) / 3\n",
      "print \"Average Multimap True Positive Percentage: \", multimapAvgTp[id]\n",
      "multimapAvgFp[id] = sum([multimapFp[\"1\"], multimapFp[\"2\"], multimapFp[\"3\"]]) / 3\n",
      "print \"Average Multimap False Positive Percentage: \", multimapAvgFp[id]"
     ],
     "language": "python",
     "metadata": {},
     "outputs": []
    },
    {
     "cell_type": "code",
     "collapsed": false,
     "input": [
      "num = \"235\"\n",
      "rep = \"1\"\n",
      "error = \"1\"\n",
      "r = \"40\"\n",
      "id = \"040\"\n",
      "g = \"100\"\n",
      "rr = \"100\"\n",
      "runBowtieBuild(num,rep,error,r,g)\n",
      "runBowtieAllParams(num,rep,error,r,g,num,rep,error,r,g)\n",
      "getTruePositivesAllParams(num,rep,error,r,g,\"chicken\")\n",
      "defaultTp[rep],defaultFp[rep] = getTpFp(num,rep,error,r,g,\"default\",num,rep,error,r,g)\n",
      "uniqueTp[rep],uniqueFp[rep] = getTpFp(num,rep,error,r,g,\"unique\",num,rep,error,r,g)\n",
      "multimapTp[rep],multimapFp[rep] = getTpFp(num,rep,error,r,g,\"multimap\",num,rep,error,r,g)\n",
      "rep = \"2\"\n",
      "runBowtieBuild(num,rep,error,r,g)\n",
      "runBowtieAllParams(num,rep,error,r,g,num,rep,error,r,g)\n",
      "getTruePositivesAllParams(num,rep,error,r,g,\"chicken\")\n",
      "defaultTp[rep],defaultFp[rep] = getTpFp(num,rep,error,r,g,\"default\",num,rep,error,r,g)\n",
      "uniqueTp[rep],uniqueFp[rep] = getTpFp(num,rep,error,r,g,\"unique\",num,rep,error,r,g)\n",
      "multimapTp[rep],multimapFp[rep] = getTpFp(num,rep,error,r,g,\"multimap\",num,rep,error,r,g)\n",
      "rep = \"3\"\n",
      "runBowtieBuild(num,rep,error,r,g)\n",
      "runBowtieAllParams(num,rep,error,r,g,num,rep,error,r,g)\n",
      "getTruePositivesAllParams(num,rep,error,r,g,\"chicken\")\n",
      "defaultTp[rep],defaultFp[rep] = getTpFp(num,rep,error,r,g,\"default\",num,rep,error,r,g)\n",
      "uniqueTp[rep],uniqueFp[rep] = getTpFp(num,rep,error,r,g,\"unique\",num,rep,error,r,g)\n",
      "multimapTp[rep],multimapFp[rep] = getTpFp(num,rep,error,r,g,\"multimap\",num,rep,error,r,g)\n",
      "defaultAvgTp[id] = sum([defaultTp[\"1\"], defaultTp[\"2\"], defaultTp[\"3\"]]) / 3\n",
      "print \"Average Default True Positive Percentage: \", defaultAvgTp[id]\n",
      "defaultAvgFp[id] = sum([defaultFp[\"1\"], defaultFp[\"2\"], defaultFp[\"3\"]]) / 3\n",
      "print \"Average Default False Positive Percentage: \", defaultAvgFp[id]\n",
      "uniqueAvgTp[id] = sum([uniqueTp[\"1\"], uniqueTp[\"2\"], uniqueTp[\"3\"]]) / 3\n",
      "print \"Average Unique True Positive Percentage: \", uniqueAvgTp[id]\n",
      "uniqueAvgFp[id] = sum([uniqueFp[\"1\"], uniqueFp[\"2\"], uniqueFp[\"3\"]]) / 3\n",
      "print \"Average Unique False Positive Percentage: \", uniqueAvgFp[id]\n",
      "multimapAvgTp[id] = sum([multimapTp[\"1\"], multimapTp[\"2\"], multimapTp[\"3\"]]) / 3\n",
      "print \"Average Multimap True Positive Percentage: \", multimapAvgTp[id]\n",
      "multimapAvgFp[id] = sum([multimapFp[\"1\"], multimapFp[\"2\"], multimapFp[\"3\"]]) / 3\n",
      "print \"Average Multimap False Positive Percentage: \", multimapAvgFp[id]"
     ],
     "language": "python",
     "metadata": {},
     "outputs": []
    },
    {
     "cell_type": "code",
     "collapsed": false,
     "input": [
      "num = \"235\"\n",
      "rep = \"1\"\n",
      "error = \"1\"\n",
      "r = \"30\"\n",
      "id = \"030\"\n",
      "g = \"100\"\n",
      "rr = \"100\"\n",
      "runBowtieBuild(num,rep,error,r,g)\n",
      "runBowtieAllParams(num,rep,error,r,g,num,rep,error,r,g)\n",
      "getTruePositivesAllParams(num,rep,error,r,g,\"chicken\")\n",
      "defaultTp[rep],defaultFp[rep] = getTpFp(num,rep,error,r,g,\"default\",num,rep,error,r,g)\n",
      "uniqueTp[rep],uniqueFp[rep] = getTpFp(num,rep,error,r,g,\"unique\",num,rep,error,r,g)\n",
      "multimapTp[rep],multimapFp[rep] = getTpFp(num,rep,error,r,g,\"multimap\",num,rep,error,r,g)\n",
      "rep = \"2\"\n",
      "runBowtieBuild(num,rep,error,r,g)\n",
      "runBowtieAllParams(num,rep,error,r,g,num,rep,error,r,g)\n",
      "getTruePositivesAllParams(num,rep,error,r,g,\"chicken\")\n",
      "defaultTp[rep],defaultFp[rep] = getTpFp(num,rep,error,r,g,\"default\",num,rep,error,r,g)\n",
      "uniqueTp[rep],uniqueFp[rep] = getTpFp(num,rep,error,r,g,\"unique\",num,rep,error,r,g)\n",
      "multimapTp[rep],multimapFp[rep] = getTpFp(num,rep,error,r,g,\"multimap\",num,rep,error,r,g)\n",
      "rep = \"3\"\n",
      "runBowtieBuild(num,rep,error,r,g)\n",
      "runBowtieAllParams(num,rep,error,r,g,num,rep,error,r,g)\n",
      "getTruePositivesAllParams(num,rep,error,r,g,\"chicken\")\n",
      "defaultTp[rep],defaultFp[rep] = getTpFp(num,rep,error,r,g,\"default\",num,rep,error,r,g)\n",
      "uniqueTp[rep],uniqueFp[rep] = getTpFp(num,rep,error,r,g,\"unique\",num,rep,error,r,g)\n",
      "multimapTp[rep],multimapFp[rep] = getTpFp(num,rep,error,r,g,\"multimap\",num,rep,error,r,g)\n",
      "defaultAvgTp[id] = sum([defaultTp[\"1\"], defaultTp[\"2\"], defaultTp[\"3\"]]) / 3\n",
      "print \"Average Default True Positive Percentage: \", defaultAvgTp[id]\n",
      "defaultAvgFp[id] = sum([defaultFp[\"1\"], defaultFp[\"2\"], defaultFp[\"3\"]]) / 3\n",
      "print \"Average Default False Positive Percentage: \", defaultAvgFp[id]\n",
      "uniqueAvgTp[id] = sum([uniqueTp[\"1\"], uniqueTp[\"2\"], uniqueTp[\"3\"]]) / 3\n",
      "print \"Average Unique True Positive Percentage: \", uniqueAvgTp[id]\n",
      "uniqueAvgFp[id] = sum([uniqueFp[\"1\"], uniqueFp[\"2\"], uniqueFp[\"3\"]]) / 3\n",
      "print \"Average Unique False Positive Percentage: \", uniqueAvgFp[id]\n",
      "multimapAvgTp[id] = sum([multimapTp[\"1\"], multimapTp[\"2\"], multimapTp[\"3\"]]) / 3\n",
      "print \"Average Multimap True Positive Percentage: \", multimapAvgTp[id]\n",
      "multimapAvgFp[id] = sum([multimapFp[\"1\"], multimapFp[\"2\"], multimapFp[\"3\"]]) / 3\n",
      "print \"Average Multimap False Positive Percentage: \", multimapAvgFp[id]"
     ],
     "language": "python",
     "metadata": {},
     "outputs": []
    },
    {
     "cell_type": "code",
     "collapsed": false,
     "input": [
      "num = \"235\"\n",
      "rep = \"1\"\n",
      "error = \"1\"\n",
      "r = \"20\"\n",
      "id = \"020\"\n",
      "g = \"100\"\n",
      "rr = \"100\"\n",
      "runBowtieBuild(num,rep,error,r,g)\n",
      "runBowtieAllParams(num,rep,error,r,g,num,rep,error,r,g)\n",
      "getTruePositivesAllParams(num,rep,error,r,g,\"chicken\")\n",
      "defaultTp[rep],defaultFp[rep] = getTpFp(num,rep,error,r,g,\"default\",num,rep,error,r,g)\n",
      "uniqueTp[rep],uniqueFp[rep] = getTpFp(num,rep,error,r,g,\"unique\",num,rep,error,r,g)\n",
      "multimapTp[rep],multimapFp[rep] = getTpFp(num,rep,error,r,g,\"multimap\",num,rep,error,r,g)\n",
      "rep = \"2\"\n",
      "runBowtieBuild(num,rep,error,r,g)\n",
      "runBowtieAllParams(num,rep,error,r,g,num,rep,error,r,g)\n",
      "getTruePositivesAllParams(num,rep,error,r,g,\"chicken\")\n",
      "defaultTp[rep],defaultFp[rep] = getTpFp(num,rep,error,r,g,\"default\",num,rep,error,r,g)\n",
      "uniqueTp[rep],uniqueFp[rep] = getTpFp(num,rep,error,r,g,\"unique\",num,rep,error,r,g)\n",
      "multimapTp[rep],multimapFp[rep] = getTpFp(num,rep,error,r,g,\"multimap\",num,rep,error,r,g)\n",
      "rep = \"3\"\n",
      "runBowtieBuild(num,rep,error,r,g)\n",
      "runBowtieAllParams(num,rep,error,r,g,num,rep,error,r,g)\n",
      "getTruePositivesAllParams(num,rep,error,r,g,\"chicken\")\n",
      "defaultTp[rep],defaultFp[rep] = getTpFp(num,rep,error,r,g,\"default\",num,rep,error,r,g)\n",
      "uniqueTp[rep],uniqueFp[rep] = getTpFp(num,rep,error,r,g,\"unique\",num,rep,error,r,g)\n",
      "multimapTp[rep],multimapFp[rep] = getTpFp(num,rep,error,r,g,\"multimap\",num,rep,error,r,g)\n",
      "defaultAvgTp[id] = sum([defaultTp[\"1\"], defaultTp[\"2\"], defaultTp[\"3\"]]) / 3\n",
      "print \"Average Default True Positive Percentage: \", defaultAvgTp[id]\n",
      "defaultAvgFp[id] = sum([defaultFp[\"1\"], defaultFp[\"2\"], defaultFp[\"3\"]]) / 3\n",
      "print \"Average Default False Positive Percentage: \", defaultAvgFp[id]\n",
      "uniqueAvgTp[id] = sum([uniqueTp[\"1\"], uniqueTp[\"2\"], uniqueTp[\"3\"]]) / 3\n",
      "print \"Average Unique True Positive Percentage: \", uniqueAvgTp[id]\n",
      "uniqueAvgFp[id] = sum([uniqueFp[\"1\"], uniqueFp[\"2\"], uniqueFp[\"3\"]]) / 3\n",
      "print \"Average Unique False Positive Percentage: \", uniqueAvgFp[id]\n",
      "multimapAvgTp[id] = sum([multimapTp[\"1\"], multimapTp[\"2\"], multimapTp[\"3\"]]) / 3\n",
      "print \"Average Multimap True Positive Percentage: \", multimapAvgTp[id]\n",
      "multimapAvgFp[id] = sum([multimapFp[\"1\"], multimapFp[\"2\"], multimapFp[\"3\"]]) / 3\n",
      "print \"Average Multimap False Positive Percentage: \", multimapAvgFp[id]"
     ],
     "language": "python",
     "metadata": {},
     "outputs": []
    },
    {
     "cell_type": "code",
     "collapsed": false,
     "input": [
      "num = \"235\"\n",
      "rep = \"1\"\n",
      "error = \"1\"\n",
      "r = \"10\"\n",
      "id = \"010\"\n",
      "g = \"100\"\n",
      "rr = \"100\"\n",
      "runBowtieBuild(num,rep,error,r,g)\n",
      "runBowtieAllParams(num,rep,error,r,g,num,rep,error,r,g)\n",
      "getTruePositivesAllParams(num,rep,error,r,g,\"chicken\")\n",
      "defaultTp[rep],defaultFp[rep] = getTpFp(num,rep,error,r,g,\"default\",num,rep,error,r,g)\n",
      "uniqueTp[rep],uniqueFp[rep] = getTpFp(num,rep,error,r,g,\"unique\",num,rep,error,r,g)\n",
      "multimapTp[rep],multimapFp[rep] = getTpFp(num,rep,error,r,g,\"multimap\",num,rep,error,r,g)\n",
      "rep = \"2\"\n",
      "runBowtieBuild(num,rep,error,r,g)\n",
      "runBowtieAllParams(num,rep,error,r,g,num,rep,error,r,g)\n",
      "getTruePositivesAllParams(num,rep,error,r,g,\"chicken\")\n",
      "defaultTp[rep],defaultFp[rep] = getTpFp(num,rep,error,r,g,\"default\",num,rep,error,r,g)\n",
      "uniqueTp[rep],uniqueFp[rep] = getTpFp(num,rep,error,r,g,\"unique\",num,rep,error,r,g)\n",
      "multimapTp[rep],multimapFp[rep] = getTpFp(num,rep,error,r,g,\"multimap\",num,rep,error,r,g)\n",
      "rep = \"3\"\n",
      "runBowtieBuild(num,rep,error,r,g)\n",
      "runBowtieAllParams(num,rep,error,r,g,num,rep,error,r,g)\n",
      "getTruePositivesAllParams(num,rep,error,r,g,\"chicken\")\n",
      "defaultTp[rep],defaultFp[rep] = getTpFp(num,rep,error,r,g,\"default\",num,rep,error,r,g)\n",
      "uniqueTp[rep],uniqueFp[rep] = getTpFp(num,rep,error,r,g,\"unique\",num,rep,error,r,g)\n",
      "multimapTp[rep],multimapFp[rep] = getTpFp(num,rep,error,r,g,\"multimap\",num,rep,error,r,g)\n",
      "defaultAvgTp[id] = sum([defaultTp[\"1\"], defaultTp[\"2\"], defaultTp[\"3\"]]) / 3\n",
      "print \"Average Default True Positive Percentage: \", defaultAvgTp[id]\n",
      "defaultAvgFp[id] = sum([defaultFp[\"1\"], defaultFp[\"2\"], defaultFp[\"3\"]]) / 3\n",
      "print \"Average Default False Positive Percentage: \", defaultAvgFp[id]\n",
      "uniqueAvgTp[id] = sum([uniqueTp[\"1\"], uniqueTp[\"2\"], uniqueTp[\"3\"]]) / 3\n",
      "print \"Average Unique True Positive Percentage: \", uniqueAvgTp[id]\n",
      "uniqueAvgFp[id] = sum([uniqueFp[\"1\"], uniqueFp[\"2\"], uniqueFp[\"3\"]]) / 3\n",
      "print \"Average Unique False Positive Percentage: \", uniqueAvgFp[id]\n",
      "multimapAvgTp[id] = sum([multimapTp[\"1\"], multimapTp[\"2\"], multimapTp[\"3\"]]) / 3\n",
      "print \"Average Multimap True Positive Percentage: \", multimapAvgTp[id]\n",
      "multimapAvgFp[id] = sum([multimapFp[\"1\"], multimapFp[\"2\"], multimapFp[\"3\"]]) / 3\n",
      "print \"Average Multimap False Positive Percentage: \", multimapAvgFp[id]"
     ],
     "language": "python",
     "metadata": {},
     "outputs": []
    },
    {
     "cell_type": "raw",
     "metadata": {},
     "source": [
      "Chicken transcriptome, 75% expression, single end 100 bp reads, {0 10 100 100}x expression"
     ]
    },
    {
     "cell_type": "code",
     "collapsed": false,
     "input": [
      "num = \"233\"\n",
      "rep = \"1\"\n",
      "error = \"1\"\n",
      "r = \"100\"\n",
      "id = \"100\"\n",
      "g = \"100\"\n",
      "rr = \"100\"\n",
      "runBowtieBuild(num,rep,error,r,g)\n",
      "runBowtieAllParams(num,rep,error,r,g,num,rep,error,r,g)\n",
      "getTruePositivesAllParams(num,rep,error,r,g,\"chicken\")\n",
      "defaultTp[rep],defaultFp[rep] = getTpFp(num,rep,error,r,g,\"default\",num,rep,error,r,g)\n",
      "uniqueTp[rep],uniqueFp[rep] = getTpFp(num,rep,error,r,g,\"unique\",num,rep,error,r,g)\n",
      "multimapTp[rep],multimapFp[rep] = getTpFp(num,rep,error,r,g,\"multimap\",num,rep,error,r,g)\n",
      "rep = \"2\"\n",
      "runBowtieBuild(num,rep,error,r,g)\n",
      "runBowtieAllParams(num,rep,error,r,g,num,rep,error,r,g)\n",
      "getTruePositivesAllParams(num,rep,error,r,g,\"chicken\")\n",
      "defaultTp[rep],defaultFp[rep] = getTpFp(num,rep,error,r,g,\"default\",num,rep,error,r,g)\n",
      "uniqueTp[rep],uniqueFp[rep] = getTpFp(num,rep,error,r,g,\"unique\",num,rep,error,r,g)\n",
      "multimapTp[rep],multimapFp[rep] = getTpFp(num,rep,error,r,g,\"multimap\",num,rep,error,r,g)\n",
      "rep = \"3\"\n",
      "runBowtieBuild(num,rep,error,r,g)\n",
      "runBowtieAllParams(num,rep,error,r,g,num,rep,error,r,g)\n",
      "getTruePositivesAllParams(num,rep,error,r,g,\"chicken\")\n",
      "defaultTp[rep],defaultFp[rep] = getTpFp(num,rep,error,r,g,\"default\",num,rep,error,r,g)\n",
      "uniqueTp[rep],uniqueFp[rep] = getTpFp(num,rep,error,r,g,\"unique\",num,rep,error,r,g)\n",
      "multimapTp[rep],multimapFp[rep] = getTpFp(num,rep,error,r,g,\"multimap\",num,rep,error,r,g)\n",
      "defaultAvgTp[id] = sum([defaultTp[\"1\"], defaultTp[\"2\"], defaultTp[\"3\"]]) / 3\n",
      "print \"Average Default True Positive Percentage: \", defaultAvgTp[id]\n",
      "defaultAvgFp[id] = sum([defaultFp[\"1\"], defaultFp[\"2\"], defaultFp[\"3\"]]) / 3\n",
      "print \"Average Default False Positive Percentage: \", defaultAvgFp[id]\n",
      "uniqueAvgTp[id] = sum([uniqueTp[\"1\"], uniqueTp[\"2\"], uniqueTp[\"3\"]]) / 3\n",
      "print \"Average Unique True Positive Percentage: \", uniqueAvgTp[id]\n",
      "uniqueAvgFp[id] = sum([uniqueFp[\"1\"], uniqueFp[\"2\"], uniqueFp[\"3\"]]) / 3\n",
      "print \"Average Unique False Positive Percentage: \", uniqueAvgFp[id]\n",
      "multimapAvgTp[id] = sum([multimapTp[\"1\"], multimapTp[\"2\"], multimapTp[\"3\"]]) / 3\n",
      "print \"Average Multimap True Positive Percentage: \", multimapAvgTp[id]\n",
      "multimapAvgFp[id] = sum([multimapFp[\"1\"], multimapFp[\"2\"], multimapFp[\"3\"]]) / 3\n",
      "print \"Average Multimap False Positive Percentage: \", multimapAvgFp[id]"
     ],
     "language": "python",
     "metadata": {},
     "outputs": []
    },
    {
     "cell_type": "code",
     "collapsed": false,
     "input": [
      "num = \"233\"\n",
      "rep = \"1\"\n",
      "error = \"1\"\n",
      "r = \"90\"\n",
      "id = \"090\"\n",
      "g = \"100\"\n",
      "rr = \"100\"\n",
      "runBowtieBuild(num,rep,error,r,g)\n",
      "runBowtieAllParams(num,rep,error,r,g,num,rep,error,r,g)\n",
      "getTruePositivesAllParams(num,rep,error,r,g,\"chicken\")\n",
      "defaultTp[rep],defaultFp[rep] = getTpFp(num,rep,error,r,g,\"default\",num,rep,error,r,g)\n",
      "uniqueTp[rep],uniqueFp[rep] = getTpFp(num,rep,error,r,g,\"unique\",num,rep,error,r,g)\n",
      "multimapTp[rep],multimapFp[rep] = getTpFp(num,rep,error,r,g,\"multimap\",num,rep,error,r,g)\n",
      "rep = \"2\"\n",
      "runBowtieBuild(num,rep,error,r,g)\n",
      "runBowtieAllParams(num,rep,error,r,g,num,rep,error,r,g)\n",
      "getTruePositivesAllParams(num,rep,error,r,g,\"chicken\")\n",
      "defaultTp[rep],defaultFp[rep] = getTpFp(num,rep,error,r,g,\"default\",num,rep,error,r,g)\n",
      "uniqueTp[rep],uniqueFp[rep] = getTpFp(num,rep,error,r,g,\"unique\",num,rep,error,r,g)\n",
      "multimapTp[rep],multimapFp[rep] = getTpFp(num,rep,error,r,g,\"multimap\",num,rep,error,r,g)\n",
      "rep = \"3\"\n",
      "runBowtieBuild(num,rep,error,r,g)\n",
      "runBowtieAllParams(num,rep,error,r,g,num,rep,error,r,g)\n",
      "getTruePositivesAllParams(num,rep,error,r,g,\"chicken\")\n",
      "defaultTp[rep],defaultFp[rep] = getTpFp(num,rep,error,r,g,\"default\",num,rep,error,r,g)\n",
      "uniqueTp[rep],uniqueFp[rep] = getTpFp(num,rep,error,r,g,\"unique\",num,rep,error,r,g)\n",
      "multimapTp[rep],multimapFp[rep] = getTpFp(num,rep,error,r,g,\"multimap\",num,rep,error,r,g)\n",
      "defaultAvgTp[id] = sum([defaultTp[\"1\"], defaultTp[\"2\"], defaultTp[\"3\"]]) / 3\n",
      "print \"Average Default True Positive Percentage: \", defaultAvgTp[id]\n",
      "defaultAvgFp[id] = sum([defaultFp[\"1\"], defaultFp[\"2\"], defaultFp[\"3\"]]) / 3\n",
      "print \"Average Default False Positive Percentage: \", defaultAvgFp[id]\n",
      "uniqueAvgTp[id] = sum([uniqueTp[\"1\"], uniqueTp[\"2\"], uniqueTp[\"3\"]]) / 3\n",
      "print \"Average Unique True Positive Percentage: \", uniqueAvgTp[id]\n",
      "uniqueAvgFp[id] = sum([uniqueFp[\"1\"], uniqueFp[\"2\"], uniqueFp[\"3\"]]) / 3\n",
      "print \"Average Unique False Positive Percentage: \", uniqueAvgFp[id]\n",
      "multimapAvgTp[id] = sum([multimapTp[\"1\"], multimapTp[\"2\"], multimapTp[\"3\"]]) / 3\n",
      "print \"Average Multimap True Positive Percentage: \", multimapAvgTp[id]\n",
      "multimapAvgFp[id] = sum([multimapFp[\"1\"], multimapFp[\"2\"], multimapFp[\"3\"]]) / 3\n",
      "print \"Average Multimap False Positive Percentage: \", multimapAvgFp[id]"
     ],
     "language": "python",
     "metadata": {},
     "outputs": []
    },
    {
     "cell_type": "code",
     "collapsed": false,
     "input": [
      "num = \"233\"\n",
      "rep = \"1\"\n",
      "error = \"1\"\n",
      "r = \"80\"\n",
      "id = \"080\"\n",
      "g = \"100\"\n",
      "rr = \"100\"\n",
      "runBowtieBuild(num,rep,error,r,g)\n",
      "runBowtieAllParams(num,rep,error,r,g,num,rep,error,r,g)\n",
      "getTruePositivesAllParams(num,rep,error,r,g,\"chicken\")\n",
      "defaultTp[rep],defaultFp[rep] = getTpFp(num,rep,error,r,g,\"default\",num,rep,error,r,g)\n",
      "uniqueTp[rep],uniqueFp[rep] = getTpFp(num,rep,error,r,g,\"unique\",num,rep,error,r,g)\n",
      "multimapTp[rep],multimapFp[rep] = getTpFp(num,rep,error,r,g,\"multimap\",num,rep,error,r,g)\n",
      "rep = \"2\"\n",
      "runBowtieBuild(num,rep,error,r,g)\n",
      "runBowtieAllParams(num,rep,error,r,g,num,rep,error,r,g)\n",
      "getTruePositivesAllParams(num,rep,error,r,g,\"chicken\")\n",
      "defaultTp[rep],defaultFp[rep] = getTpFp(num,rep,error,r,g,\"default\",num,rep,error,r,g)\n",
      "uniqueTp[rep],uniqueFp[rep] = getTpFp(num,rep,error,r,g,\"unique\",num,rep,error,r,g)\n",
      "multimapTp[rep],multimapFp[rep] = getTpFp(num,rep,error,r,g,\"multimap\",num,rep,error,r,g)\n",
      "rep = \"3\"\n",
      "runBowtieBuild(num,rep,error,r,g)\n",
      "runBowtieAllParams(num,rep,error,r,g,num,rep,error,r,g)\n",
      "getTruePositivesAllParams(num,rep,error,r,g,\"chicken\")\n",
      "defaultTp[rep],defaultFp[rep] = getTpFp(num,rep,error,r,g,\"default\",num,rep,error,r,g)\n",
      "uniqueTp[rep],uniqueFp[rep] = getTpFp(num,rep,error,r,g,\"unique\",num,rep,error,r,g)\n",
      "multimapTp[rep],multimapFp[rep] = getTpFp(num,rep,error,r,g,\"multimap\",num,rep,error,r,g)\n",
      "defaultAvgTp[id] = sum([defaultTp[\"1\"], defaultTp[\"2\"], defaultTp[\"3\"]]) / 3\n",
      "print \"Average Default True Positive Percentage: \", defaultAvgTp[id]\n",
      "defaultAvgFp[id] = sum([defaultFp[\"1\"], defaultFp[\"2\"], defaultFp[\"3\"]]) / 3\n",
      "print \"Average Default False Positive Percentage: \", defaultAvgFp[id]\n",
      "uniqueAvgTp[id] = sum([uniqueTp[\"1\"], uniqueTp[\"2\"], uniqueTp[\"3\"]]) / 3\n",
      "print \"Average Unique True Positive Percentage: \", uniqueAvgTp[id]\n",
      "uniqueAvgFp[id] = sum([uniqueFp[\"1\"], uniqueFp[\"2\"], uniqueFp[\"3\"]]) / 3\n",
      "print \"Average Unique False Positive Percentage: \", uniqueAvgFp[id]\n",
      "multimapAvgTp[id] = sum([multimapTp[\"1\"], multimapTp[\"2\"], multimapTp[\"3\"]]) / 3\n",
      "print \"Average Multimap True Positive Percentage: \", multimapAvgTp[id]\n",
      "multimapAvgFp[id] = sum([multimapFp[\"1\"], multimapFp[\"2\"], multimapFp[\"3\"]]) / 3\n",
      "print \"Average Multimap False Positive Percentage: \", multimapAvgFp[id]"
     ],
     "language": "python",
     "metadata": {},
     "outputs": []
    },
    {
     "cell_type": "code",
     "collapsed": false,
     "input": [
      "num = \"233\"\n",
      "rep = \"1\"\n",
      "error = \"1\"\n",
      "r = \"70\"\n",
      "id = \"070\"\n",
      "g = \"100\"\n",
      "rr = \"100\"\n",
      "runBowtieBuild(num,rep,error,r,g)\n",
      "runBowtieAllParams(num,rep,error,r,g,num,rep,error,r,g)\n",
      "getTruePositivesAllParams(num,rep,error,r,g,\"chicken\")\n",
      "defaultTp[rep],defaultFp[rep] = getTpFp(num,rep,error,r,g,\"default\",num,rep,error,r,g)\n",
      "uniqueTp[rep],uniqueFp[rep] = getTpFp(num,rep,error,r,g,\"unique\",num,rep,error,r,g)\n",
      "multimapTp[rep],multimapFp[rep] = getTpFp(num,rep,error,r,g,\"multimap\",num,rep,error,r,g)\n",
      "rep = \"2\"\n",
      "runBowtieBuild(num,rep,error,r,g)\n",
      "runBowtieAllParams(num,rep,error,r,g,num,rep,error,r,g)\n",
      "getTruePositivesAllParams(num,rep,error,r,g,\"chicken\")\n",
      "defaultTp[rep],defaultFp[rep] = getTpFp(num,rep,error,r,g,\"default\",num,rep,error,r,g)\n",
      "uniqueTp[rep],uniqueFp[rep] = getTpFp(num,rep,error,r,g,\"unique\",num,rep,error,r,g)\n",
      "multimapTp[rep],multimapFp[rep] = getTpFp(num,rep,error,r,g,\"multimap\",num,rep,error,r,g)\n",
      "rep = \"3\"\n",
      "runBowtieBuild(num,rep,error,r,g)\n",
      "runBowtieAllParams(num,rep,error,r,g,num,rep,error,r,g)\n",
      "getTruePositivesAllParams(num,rep,error,r,g,\"chicken\")\n",
      "defaultTp[rep],defaultFp[rep] = getTpFp(num,rep,error,r,g,\"default\",num,rep,error,r,g)\n",
      "uniqueTp[rep],uniqueFp[rep] = getTpFp(num,rep,error,r,g,\"unique\",num,rep,error,r,g)\n",
      "multimapTp[rep],multimapFp[rep] = getTpFp(num,rep,error,r,g,\"multimap\",num,rep,error,r,g)\n",
      "defaultAvgTp[id] = sum([defaultTp[\"1\"], defaultTp[\"2\"], defaultTp[\"3\"]]) / 3\n",
      "print \"Average Default True Positive Percentage: \", defaultAvgTp[id]\n",
      "defaultAvgFp[id] = sum([defaultFp[\"1\"], defaultFp[\"2\"], defaultFp[\"3\"]]) / 3\n",
      "print \"Average Default False Positive Percentage: \", defaultAvgFp[id]\n",
      "uniqueAvgTp[id] = sum([uniqueTp[\"1\"], uniqueTp[\"2\"], uniqueTp[\"3\"]]) / 3\n",
      "print \"Average Unique True Positive Percentage: \", uniqueAvgTp[id]\n",
      "uniqueAvgFp[id] = sum([uniqueFp[\"1\"], uniqueFp[\"2\"], uniqueFp[\"3\"]]) / 3\n",
      "print \"Average Unique False Positive Percentage: \", uniqueAvgFp[id]\n",
      "multimapAvgTp[id] = sum([multimapTp[\"1\"], multimapTp[\"2\"], multimapTp[\"3\"]]) / 3\n",
      "print \"Average Multimap True Positive Percentage: \", multimapAvgTp[id]\n",
      "multimapAvgFp[id] = sum([multimapFp[\"1\"], multimapFp[\"2\"], multimapFp[\"3\"]]) / 3\n",
      "print \"Average Multimap False Positive Percentage: \", multimapAvgFp[id]"
     ],
     "language": "python",
     "metadata": {},
     "outputs": []
    },
    {
     "cell_type": "code",
     "collapsed": false,
     "input": [
      "num = \"233\"\n",
      "rep = \"1\"\n",
      "error = \"1\"\n",
      "r = \"60\"\n",
      "id = \"060\"\n",
      "g = \"100\"\n",
      "rr = \"100\"\n",
      "runBowtieBuild(num,rep,error,r,g)\n",
      "runBowtieAllParams(num,rep,error,r,g,num,rep,error,r,g)\n",
      "getTruePositivesAllParams(num,rep,error,r,g,\"chicken\")\n",
      "defaultTp[rep],defaultFp[rep] = getTpFp(num,rep,error,r,g,\"default\",num,rep,error,r,g)\n",
      "uniqueTp[rep],uniqueFp[rep] = getTpFp(num,rep,error,r,g,\"unique\",num,rep,error,r,g)\n",
      "multimapTp[rep],multimapFp[rep] = getTpFp(num,rep,error,r,g,\"multimap\",num,rep,error,r,g)\n",
      "rep = \"2\"\n",
      "runBowtieBuild(num,rep,error,r,g)\n",
      "runBowtieAllParams(num,rep,error,r,g,num,rep,error,r,g)\n",
      "getTruePositivesAllParams(num,rep,error,r,g,\"chicken\")\n",
      "defaultTp[rep],defaultFp[rep] = getTpFp(num,rep,error,r,g,\"default\",num,rep,error,r,g)\n",
      "uniqueTp[rep],uniqueFp[rep] = getTpFp(num,rep,error,r,g,\"unique\",num,rep,error,r,g)\n",
      "multimapTp[rep],multimapFp[rep] = getTpFp(num,rep,error,r,g,\"multimap\",num,rep,error,r,g)\n",
      "rep = \"3\"\n",
      "runBowtieBuild(num,rep,error,r,g)\n",
      "runBowtieAllParams(num,rep,error,r,g,num,rep,error,r,g)\n",
      "getTruePositivesAllParams(num,rep,error,r,g,\"chicken\")\n",
      "defaultTp[rep],defaultFp[rep] = getTpFp(num,rep,error,r,g,\"default\",num,rep,error,r,g)\n",
      "uniqueTp[rep],uniqueFp[rep] = getTpFp(num,rep,error,r,g,\"unique\",num,rep,error,r,g)\n",
      "multimapTp[rep],multimapFp[rep] = getTpFp(num,rep,error,r,g,\"multimap\",num,rep,error,r,g)\n",
      "defaultAvgTp[id] = sum([defaultTp[\"1\"], defaultTp[\"2\"], defaultTp[\"3\"]]) / 3\n",
      "print \"Average Default True Positive Percentage: \", defaultAvgTp[id]\n",
      "defaultAvgFp[id] = sum([defaultFp[\"1\"], defaultFp[\"2\"], defaultFp[\"3\"]]) / 3\n",
      "print \"Average Default False Positive Percentage: \", defaultAvgFp[id]\n",
      "uniqueAvgTp[id] = sum([uniqueTp[\"1\"], uniqueTp[\"2\"], uniqueTp[\"3\"]]) / 3\n",
      "print \"Average Unique True Positive Percentage: \", uniqueAvgTp[id]\n",
      "uniqueAvgFp[id] = sum([uniqueFp[\"1\"], uniqueFp[\"2\"], uniqueFp[\"3\"]]) / 3\n",
      "print \"Average Unique False Positive Percentage: \", uniqueAvgFp[id]\n",
      "multimapAvgTp[id] = sum([multimapTp[\"1\"], multimapTp[\"2\"], multimapTp[\"3\"]]) / 3\n",
      "print \"Average Multimap True Positive Percentage: \", multimapAvgTp[id]\n",
      "multimapAvgFp[id] = sum([multimapFp[\"1\"], multimapFp[\"2\"], multimapFp[\"3\"]]) / 3\n",
      "print \"Average Multimap False Positive Percentage: \", multimapAvgFp[id]"
     ],
     "language": "python",
     "metadata": {},
     "outputs": []
    },
    {
     "cell_type": "code",
     "collapsed": false,
     "input": [
      "num = \"233\"\n",
      "rep = \"1\"\n",
      "error = \"1\"\n",
      "r = \"50\"\n",
      "id = \"050\"\n",
      "g = \"100\"\n",
      "rr = \"100\"\n",
      "runBowtieBuild(num,rep,error,r,g)\n",
      "runBowtieAllParams(num,rep,error,r,g,num,rep,error,r,g)\n",
      "getTruePositivesAllParams(num,rep,error,r,g,\"chicken\")\n",
      "defaultTp[rep],defaultFp[rep] = getTpFp(num,rep,error,r,g,\"default\",num,rep,error,r,g)\n",
      "uniqueTp[rep],uniqueFp[rep] = getTpFp(num,rep,error,r,g,\"unique\",num,rep,error,r,g)\n",
      "multimapTp[rep],multimapFp[rep] = getTpFp(num,rep,error,r,g,\"multimap\",num,rep,error,r,g)\n",
      "rep = \"2\"\n",
      "runBowtieBuild(num,rep,error,r,g)\n",
      "runBowtieAllParams(num,rep,error,r,g,num,rep,error,r,g)\n",
      "getTruePositivesAllParams(num,rep,error,r,g,\"chicken\")\n",
      "defaultTp[rep],defaultFp[rep] = getTpFp(num,rep,error,r,g,\"default\",num,rep,error,r,g)\n",
      "uniqueTp[rep],uniqueFp[rep] = getTpFp(num,rep,error,r,g,\"unique\",num,rep,error,r,g)\n",
      "multimapTp[rep],multimapFp[rep] = getTpFp(num,rep,error,r,g,\"multimap\",num,rep,error,r,g)\n",
      "rep = \"3\"\n",
      "runBowtieBuild(num,rep,error,r,g)\n",
      "runBowtieAllParams(num,rep,error,r,g,num,rep,error,r,g)\n",
      "getTruePositivesAllParams(num,rep,error,r,g,\"chicken\")\n",
      "defaultTp[rep],defaultFp[rep] = getTpFp(num,rep,error,r,g,\"default\",num,rep,error,r,g)\n",
      "uniqueTp[rep],uniqueFp[rep] = getTpFp(num,rep,error,r,g,\"unique\",num,rep,error,r,g)\n",
      "multimapTp[rep],multimapFp[rep] = getTpFp(num,rep,error,r,g,\"multimap\",num,rep,error,r,g)\n",
      "defaultAvgTp[id] = sum([defaultTp[\"1\"], defaultTp[\"2\"], defaultTp[\"3\"]]) / 3\n",
      "print \"Average Default True Positive Percentage: \", defaultAvgTp[id]\n",
      "defaultAvgFp[id] = sum([defaultFp[\"1\"], defaultFp[\"2\"], defaultFp[\"3\"]]) / 3\n",
      "print \"Average Default False Positive Percentage: \", defaultAvgFp[id]\n",
      "uniqueAvgTp[id] = sum([uniqueTp[\"1\"], uniqueTp[\"2\"], uniqueTp[\"3\"]]) / 3\n",
      "print \"Average Unique True Positive Percentage: \", uniqueAvgTp[id]\n",
      "uniqueAvgFp[id] = sum([uniqueFp[\"1\"], uniqueFp[\"2\"], uniqueFp[\"3\"]]) / 3\n",
      "print \"Average Unique False Positive Percentage: \", uniqueAvgFp[id]\n",
      "multimapAvgTp[id] = sum([multimapTp[\"1\"], multimapTp[\"2\"], multimapTp[\"3\"]]) / 3\n",
      "print \"Average Multimap True Positive Percentage: \", multimapAvgTp[id]\n",
      "multimapAvgFp[id] = sum([multimapFp[\"1\"], multimapFp[\"2\"], multimapFp[\"3\"]]) / 3\n",
      "print \"Average Multimap False Positive Percentage: \", multimapAvgFp[id]"
     ],
     "language": "python",
     "metadata": {},
     "outputs": []
    },
    {
     "cell_type": "code",
     "collapsed": false,
     "input": [
      "num = \"233\"\n",
      "rep = \"1\"\n",
      "error = \"1\"\n",
      "r = \"40\"\n",
      "id = \"040\"\n",
      "g = \"100\"\n",
      "rr = \"100\"\n",
      "runBowtieBuild(num,rep,error,r,g)\n",
      "runBowtieAllParams(num,rep,error,r,g,num,rep,error,r,g)\n",
      "getTruePositivesAllParams(num,rep,error,r,g,\"chicken\")\n",
      "defaultTp[rep],defaultFp[rep] = getTpFp(num,rep,error,r,g,\"default\",num,rep,error,r,g)\n",
      "uniqueTp[rep],uniqueFp[rep] = getTpFp(num,rep,error,r,g,\"unique\",num,rep,error,r,g)\n",
      "multimapTp[rep],multimapFp[rep] = getTpFp(num,rep,error,r,g,\"multimap\",num,rep,error,r,g)\n",
      "rep = \"2\"\n",
      "runBowtieBuild(num,rep,error,r,g)\n",
      "runBowtieAllParams(num,rep,error,r,g,num,rep,error,r,g)\n",
      "getTruePositivesAllParams(num,rep,error,r,g,\"chicken\")\n",
      "defaultTp[rep],defaultFp[rep] = getTpFp(num,rep,error,r,g,\"default\",num,rep,error,r,g)\n",
      "uniqueTp[rep],uniqueFp[rep] = getTpFp(num,rep,error,r,g,\"unique\",num,rep,error,r,g)\n",
      "multimapTp[rep],multimapFp[rep] = getTpFp(num,rep,error,r,g,\"multimap\",num,rep,error,r,g)\n",
      "rep = \"3\"\n",
      "runBowtieBuild(num,rep,error,r,g)\n",
      "runBowtieAllParams(num,rep,error,r,g,num,rep,error,r,g)\n",
      "getTruePositivesAllParams(num,rep,error,r,g,\"chicken\")\n",
      "defaultTp[rep],defaultFp[rep] = getTpFp(num,rep,error,r,g,\"default\",num,rep,error,r,g)\n",
      "uniqueTp[rep],uniqueFp[rep] = getTpFp(num,rep,error,r,g,\"unique\",num,rep,error,r,g)\n",
      "multimapTp[rep],multimapFp[rep] = getTpFp(num,rep,error,r,g,\"multimap\",num,rep,error,r,g)\n",
      "defaultAvgTp[id] = sum([defaultTp[\"1\"], defaultTp[\"2\"], defaultTp[\"3\"]]) / 3\n",
      "print \"Average Default True Positive Percentage: \", defaultAvgTp[id]\n",
      "defaultAvgFp[id] = sum([defaultFp[\"1\"], defaultFp[\"2\"], defaultFp[\"3\"]]) / 3\n",
      "print \"Average Default False Positive Percentage: \", defaultAvgFp[id]\n",
      "uniqueAvgTp[id] = sum([uniqueTp[\"1\"], uniqueTp[\"2\"], uniqueTp[\"3\"]]) / 3\n",
      "print \"Average Unique True Positive Percentage: \", uniqueAvgTp[id]\n",
      "uniqueAvgFp[id] = sum([uniqueFp[\"1\"], uniqueFp[\"2\"], uniqueFp[\"3\"]]) / 3\n",
      "print \"Average Unique False Positive Percentage: \", uniqueAvgFp[id]\n",
      "multimapAvgTp[id] = sum([multimapTp[\"1\"], multimapTp[\"2\"], multimapTp[\"3\"]]) / 3\n",
      "print \"Average Multimap True Positive Percentage: \", multimapAvgTp[id]\n",
      "multimapAvgFp[id] = sum([multimapFp[\"1\"], multimapFp[\"2\"], multimapFp[\"3\"]]) / 3\n",
      "print \"Average Multimap False Positive Percentage: \", multimapAvgFp[id]"
     ],
     "language": "python",
     "metadata": {},
     "outputs": []
    },
    {
     "cell_type": "code",
     "collapsed": false,
     "input": [
      "num = \"233\"\n",
      "rep = \"1\"\n",
      "error = \"1\"\n",
      "r = \"40\"\n",
      "id = \"040\"\n",
      "g = \"100\"\n",
      "rr = \"100\"\n",
      "runBowtieBuild(num,rep,error,r,g)\n",
      "runBowtieAllParams(num,rep,error,r,g,num,rep,error,r,g)\n",
      "getTruePositivesAllParams(num,rep,error,r,g,\"chicken\")\n",
      "defaultTp[rep],defaultFp[rep] = getTpFp(num,rep,error,r,g,\"default\",num,rep,error,r,g)\n",
      "uniqueTp[rep],uniqueFp[rep] = getTpFp(num,rep,error,r,g,\"unique\",num,rep,error,r,g)\n",
      "multimapTp[rep],multimapFp[rep] = getTpFp(num,rep,error,r,g,\"multimap\",num,rep,error,r,g)\n",
      "rep = \"2\"\n",
      "runBowtieBuild(num,rep,error,r,g)\n",
      "runBowtieAllParams(num,rep,error,r,g,num,rep,error,r,g)\n",
      "getTruePositivesAllParams(num,rep,error,r,g,\"chicken\")\n",
      "defaultTp[rep],defaultFp[rep] = getTpFp(num,rep,error,r,g,\"default\",num,rep,error,r,g)\n",
      "uniqueTp[rep],uniqueFp[rep] = getTpFp(num,rep,error,r,g,\"unique\",num,rep,error,r,g)\n",
      "multimapTp[rep],multimapFp[rep] = getTpFp(num,rep,error,r,g,\"multimap\",num,rep,error,r,g)\n",
      "rep = \"3\"\n",
      "runBowtieBuild(num,rep,error,r,g)\n",
      "runBowtieAllParams(num,rep,error,r,g,num,rep,error,r,g)\n",
      "getTruePositivesAllParams(num,rep,error,r,g,\"chicken\")\n",
      "defaultTp[rep],defaultFp[rep] = getTpFp(num,rep,error,r,g,\"default\",num,rep,error,r,g)\n",
      "uniqueTp[rep],uniqueFp[rep] = getTpFp(num,rep,error,r,g,\"unique\",num,rep,error,r,g)\n",
      "multimapTp[rep],multimapFp[rep] = getTpFp(num,rep,error,r,g,\"multimap\",num,rep,error,r,g)\n",
      "defaultAvgTp[id] = sum([defaultTp[\"1\"], defaultTp[\"2\"], defaultTp[\"3\"]]) / 3\n",
      "print \"Average Default True Positive Percentage: \", defaultAvgTp[id]\n",
      "defaultAvgFp[id] = sum([defaultFp[\"1\"], defaultFp[\"2\"], defaultFp[\"3\"]]) / 3\n",
      "print \"Average Default False Positive Percentage: \", defaultAvgFp[id]\n",
      "uniqueAvgTp[id] = sum([uniqueTp[\"1\"], uniqueTp[\"2\"], uniqueTp[\"3\"]]) / 3\n",
      "print \"Average Unique True Positive Percentage: \", uniqueAvgTp[id]\n",
      "uniqueAvgFp[id] = sum([uniqueFp[\"1\"], uniqueFp[\"2\"], uniqueFp[\"3\"]]) / 3\n",
      "print \"Average Unique False Positive Percentage: \", uniqueAvgFp[id]\n",
      "multimapAvgTp[id] = sum([multimapTp[\"1\"], multimapTp[\"2\"], multimapTp[\"3\"]]) / 3\n",
      "print \"Average Multimap True Positive Percentage: \", multimapAvgTp[id]\n",
      "multimapAvgFp[id] = sum([multimapFp[\"1\"], multimapFp[\"2\"], multimapFp[\"3\"]]) / 3\n",
      "print \"Average Multimap False Positive Percentage: \", multimapAvgFp[id]"
     ],
     "language": "python",
     "metadata": {},
     "outputs": []
    },
    {
     "cell_type": "code",
     "collapsed": false,
     "input": [
      "num = \"233\"\n",
      "rep = \"1\"\n",
      "error = \"1\"\n",
      "r = \"30\"\n",
      "id = \"030\"\n",
      "g = \"100\"\n",
      "rr = \"100\"\n",
      "runBowtieBuild(num,rep,error,r,g)\n",
      "runBowtieAllParams(num,rep,error,r,g,num,rep,error,r,g)\n",
      "getTruePositivesAllParams(num,rep,error,r,g,\"chicken\")\n",
      "defaultTp[rep],defaultFp[rep] = getTpFp(num,rep,error,r,g,\"default\",num,rep,error,r,g)\n",
      "uniqueTp[rep],uniqueFp[rep] = getTpFp(num,rep,error,r,g,\"unique\",num,rep,error,r,g)\n",
      "multimapTp[rep],multimapFp[rep] = getTpFp(num,rep,error,r,g,\"multimap\",num,rep,error,r,g)\n",
      "rep = \"2\"\n",
      "runBowtieBuild(num,rep,error,r,g)\n",
      "runBowtieAllParams(num,rep,error,r,g,num,rep,error,r,g)\n",
      "getTruePositivesAllParams(num,rep,error,r,g,\"chicken\")\n",
      "defaultTp[rep],defaultFp[rep] = getTpFp(num,rep,error,r,g,\"default\",num,rep,error,r,g)\n",
      "uniqueTp[rep],uniqueFp[rep] = getTpFp(num,rep,error,r,g,\"unique\",num,rep,error,r,g)\n",
      "multimapTp[rep],multimapFp[rep] = getTpFp(num,rep,error,r,g,\"multimap\",num,rep,error,r,g)\n",
      "rep = \"3\"\n",
      "runBowtieBuild(num,rep,error,r,g)\n",
      "runBowtieAllParams(num,rep,error,r,g,num,rep,error,r,g)\n",
      "getTruePositivesAllParams(num,rep,error,r,g,\"chicken\")\n",
      "defaultTp[rep],defaultFp[rep] = getTpFp(num,rep,error,r,g,\"default\",num,rep,error,r,g)\n",
      "uniqueTp[rep],uniqueFp[rep] = getTpFp(num,rep,error,r,g,\"unique\",num,rep,error,r,g)\n",
      "multimapTp[rep],multimapFp[rep] = getTpFp(num,rep,error,r,g,\"multimap\",num,rep,error,r,g)\n",
      "defaultAvgTp[id] = sum([defaultTp[\"1\"], defaultTp[\"2\"], defaultTp[\"3\"]]) / 3\n",
      "print \"Average Default True Positive Percentage: \", defaultAvgTp[id]\n",
      "defaultAvgFp[id] = sum([defaultFp[\"1\"], defaultFp[\"2\"], defaultFp[\"3\"]]) / 3\n",
      "print \"Average Default False Positive Percentage: \", defaultAvgFp[id]\n",
      "uniqueAvgTp[id] = sum([uniqueTp[\"1\"], uniqueTp[\"2\"], uniqueTp[\"3\"]]) / 3\n",
      "print \"Average Unique True Positive Percentage: \", uniqueAvgTp[id]\n",
      "uniqueAvgFp[id] = sum([uniqueFp[\"1\"], uniqueFp[\"2\"], uniqueFp[\"3\"]]) / 3\n",
      "print \"Average Unique False Positive Percentage: \", uniqueAvgFp[id]\n",
      "multimapAvgTp[id] = sum([multimapTp[\"1\"], multimapTp[\"2\"], multimapTp[\"3\"]]) / 3\n",
      "print \"Average Multimap True Positive Percentage: \", multimapAvgTp[id]\n",
      "multimapAvgFp[id] = sum([multimapFp[\"1\"], multimapFp[\"2\"], multimapFp[\"3\"]]) / 3\n",
      "print \"Average Multimap False Positive Percentage: \", multimapAvgFp[id]"
     ],
     "language": "python",
     "metadata": {},
     "outputs": []
    },
    {
     "cell_type": "code",
     "collapsed": false,
     "input": [
      "num = \"233\"\n",
      "rep = \"1\"\n",
      "error = \"1\"\n",
      "r = \"20\"\n",
      "id = \"020\"\n",
      "g = \"100\"\n",
      "rr = \"100\"\n",
      "runBowtieBuild(num,rep,error,r,g)\n",
      "runBowtieAllParams(num,rep,error,r,g,num,rep,error,r,g)\n",
      "getTruePositivesAllParams(num,rep,error,r,g,\"chicken\")\n",
      "defaultTp[rep],defaultFp[rep] = getTpFp(num,rep,error,r,g,\"default\",num,rep,error,r,g)\n",
      "uniqueTp[rep],uniqueFp[rep] = getTpFp(num,rep,error,r,g,\"unique\",num,rep,error,r,g)\n",
      "multimapTp[rep],multimapFp[rep] = getTpFp(num,rep,error,r,g,\"multimap\",num,rep,error,r,g)\n",
      "rep = \"2\"\n",
      "runBowtieBuild(num,rep,error,r,g)\n",
      "runBowtieAllParams(num,rep,error,r,g,num,rep,error,r,g)\n",
      "getTruePositivesAllParams(num,rep,error,r,g,\"chicken\")\n",
      "defaultTp[rep],defaultFp[rep] = getTpFp(num,rep,error,r,g,\"default\",num,rep,error,r,g)\n",
      "uniqueTp[rep],uniqueFp[rep] = getTpFp(num,rep,error,r,g,\"unique\",num,rep,error,r,g)\n",
      "multimapTp[rep],multimapFp[rep] = getTpFp(num,rep,error,r,g,\"multimap\",num,rep,error,r,g)\n",
      "rep = \"3\"\n",
      "runBowtieBuild(num,rep,error,r,g)\n",
      "runBowtieAllParams(num,rep,error,r,g,num,rep,error,r,g)\n",
      "getTruePositivesAllParams(num,rep,error,r,g,\"chicken\")\n",
      "defaultTp[rep],defaultFp[rep] = getTpFp(num,rep,error,r,g,\"default\",num,rep,error,r,g)\n",
      "uniqueTp[rep],uniqueFp[rep] = getTpFp(num,rep,error,r,g,\"unique\",num,rep,error,r,g)\n",
      "multimapTp[rep],multimapFp[rep] = getTpFp(num,rep,error,r,g,\"multimap\",num,rep,error,r,g)\n",
      "defaultAvgTp[id] = sum([defaultTp[\"1\"], defaultTp[\"2\"], defaultTp[\"3\"]]) / 3\n",
      "print \"Average Default True Positive Percentage: \", defaultAvgTp[id]\n",
      "defaultAvgFp[id] = sum([defaultFp[\"1\"], defaultFp[\"2\"], defaultFp[\"3\"]]) / 3\n",
      "print \"Average Default False Positive Percentage: \", defaultAvgFp[id]\n",
      "uniqueAvgTp[id] = sum([uniqueTp[\"1\"], uniqueTp[\"2\"], uniqueTp[\"3\"]]) / 3\n",
      "print \"Average Unique True Positive Percentage: \", uniqueAvgTp[id]\n",
      "uniqueAvgFp[id] = sum([uniqueFp[\"1\"], uniqueFp[\"2\"], uniqueFp[\"3\"]]) / 3\n",
      "print \"Average Unique False Positive Percentage: \", uniqueAvgFp[id]\n",
      "multimapAvgTp[id] = sum([multimapTp[\"1\"], multimapTp[\"2\"], multimapTp[\"3\"]]) / 3\n",
      "print \"Average Multimap True Positive Percentage: \", multimapAvgTp[id]\n",
      "multimapAvgFp[id] = sum([multimapFp[\"1\"], multimapFp[\"2\"], multimapFp[\"3\"]]) / 3\n",
      "print \"Average Multimap False Positive Percentage: \", multimapAvgFp[id]"
     ],
     "language": "python",
     "metadata": {},
     "outputs": []
    },
    {
     "cell_type": "code",
     "collapsed": false,
     "input": [
      "num = \"233\"\n",
      "rep = \"1\"\n",
      "error = \"1\"\n",
      "r = \"10\"\n",
      "id = \"010\"\n",
      "g = \"100\"\n",
      "rr = \"100\"\n",
      "runBowtieBuild(num,rep,error,r,g)\n",
      "runBowtieAllParams(num,rep,error,r,g,num,rep,error,r,g)\n",
      "getTruePositivesAllParams(num,rep,error,r,g,\"chicken\")\n",
      "defaultTp[rep],defaultFp[rep] = getTpFp(num,rep,error,r,g,\"default\",num,rep,error,r,g)\n",
      "uniqueTp[rep],uniqueFp[rep] = getTpFp(num,rep,error,r,g,\"unique\",num,rep,error,r,g)\n",
      "multimapTp[rep],multimapFp[rep] = getTpFp(num,rep,error,r,g,\"multimap\",num,rep,error,r,g)\n",
      "rep = \"2\"\n",
      "runBowtieBuild(num,rep,error,r,g)\n",
      "runBowtieAllParams(num,rep,error,r,g,num,rep,error,r,g)\n",
      "getTruePositivesAllParams(num,rep,error,r,g,\"chicken\")\n",
      "defaultTp[rep],defaultFp[rep] = getTpFp(num,rep,error,r,g,\"default\",num,rep,error,r,g)\n",
      "uniqueTp[rep],uniqueFp[rep] = getTpFp(num,rep,error,r,g,\"unique\",num,rep,error,r,g)\n",
      "multimapTp[rep],multimapFp[rep] = getTpFp(num,rep,error,r,g,\"multimap\",num,rep,error,r,g)\n",
      "rep = \"3\"\n",
      "runBowtieBuild(num,rep,error,r,g)\n",
      "runBowtieAllParams(num,rep,error,r,g,num,rep,error,r,g)\n",
      "getTruePositivesAllParams(num,rep,error,r,g,\"chicken\")\n",
      "defaultTp[rep],defaultFp[rep] = getTpFp(num,rep,error,r,g,\"default\",num,rep,error,r,g)\n",
      "uniqueTp[rep],uniqueFp[rep] = getTpFp(num,rep,error,r,g,\"unique\",num,rep,error,r,g)\n",
      "multimapTp[rep],multimapFp[rep] = getTpFp(num,rep,error,r,g,\"multimap\",num,rep,error,r,g)\n",
      "defaultAvgTp[id] = sum([defaultTp[\"1\"], defaultTp[\"2\"], defaultTp[\"3\"]]) / 3\n",
      "print \"Average Default True Positive Percentage: \", defaultAvgTp[id]\n",
      "defaultAvgFp[id] = sum([defaultFp[\"1\"], defaultFp[\"2\"], defaultFp[\"3\"]]) / 3\n",
      "print \"Average Default False Positive Percentage: \", defaultAvgFp[id]\n",
      "uniqueAvgTp[id] = sum([uniqueTp[\"1\"], uniqueTp[\"2\"], uniqueTp[\"3\"]]) / 3\n",
      "print \"Average Unique True Positive Percentage: \", uniqueAvgTp[id]\n",
      "uniqueAvgFp[id] = sum([uniqueFp[\"1\"], uniqueFp[\"2\"], uniqueFp[\"3\"]]) / 3\n",
      "print \"Average Unique False Positive Percentage: \", uniqueAvgFp[id]\n",
      "multimapAvgTp[id] = sum([multimapTp[\"1\"], multimapTp[\"2\"], multimapTp[\"3\"]]) / 3\n",
      "print \"Average Multimap True Positive Percentage: \", multimapAvgTp[id]\n",
      "multimapAvgFp[id] = sum([multimapFp[\"1\"], multimapFp[\"2\"], multimapFp[\"3\"]]) / 3\n",
      "print \"Average Multimap False Positive Percentage: \", multimapAvgFp[id]"
     ],
     "language": "python",
     "metadata": {},
     "outputs": []
    },
    {
     "cell_type": "raw",
     "metadata": {},
     "source": [
      "Chicken transcriptome, 100% expression, single end 100 bp reads, {0 10 100 100}x expression"
     ]
    },
    {
     "cell_type": "code",
     "collapsed": false,
     "input": [
      "num = \"232\"\n",
      "rep = \"1\"\n",
      "error = \"1\"\n",
      "r = \"100\"\n",
      "id = \"100\"\n",
      "g = \"100\"\n",
      "rr = \"100\"\n",
      "runBowtieBuild(num,rep,error,r,g)\n",
      "runBowtieAllParams(num,rep,error,r,g,num,rep,error,r,g)\n",
      "getTruePositivesAllParams(num,rep,error,r,g,\"chicken\")\n",
      "defaultTp[rep],defaultFp[rep] = getTpFp(num,rep,error,r,g,\"default\",num,rep,error,r,g)\n",
      "uniqueTp[rep],uniqueFp[rep] = getTpFp(num,rep,error,r,g,\"unique\",num,rep,error,r,g)\n",
      "multimapTp[rep],multimapFp[rep] = getTpFp(num,rep,error,r,g,\"multimap\",num,rep,error,r,g)\n",
      "rep = \"2\"\n",
      "runBowtieBuild(num,rep,error,r,g)\n",
      "runBowtieAllParams(num,rep,error,r,g,num,rep,error,r,g)\n",
      "getTruePositivesAllParams(num,rep,error,r,g,\"chicken\")\n",
      "defaultTp[rep],defaultFp[rep] = getTpFp(num,rep,error,r,g,\"default\",num,rep,error,r,g)\n",
      "uniqueTp[rep],uniqueFp[rep] = getTpFp(num,rep,error,r,g,\"unique\",num,rep,error,r,g)\n",
      "multimapTp[rep],multimapFp[rep] = getTpFp(num,rep,error,r,g,\"multimap\",num,rep,error,r,g)\n",
      "rep = \"3\"\n",
      "runBowtieBuild(num,rep,error,r,g)\n",
      "runBowtieAllParams(num,rep,error,r,g,num,rep,error,r,g)\n",
      "getTruePositivesAllParams(num,rep,error,r,g,\"chicken\")\n",
      "defaultTp[rep],defaultFp[rep] = getTpFp(num,rep,error,r,g,\"default\",num,rep,error,r,g)\n",
      "uniqueTp[rep],uniqueFp[rep] = getTpFp(num,rep,error,r,g,\"unique\",num,rep,error,r,g)\n",
      "multimapTp[rep],multimapFp[rep] = getTpFp(num,rep,error,r,g,\"multimap\",num,rep,error,r,g)\n",
      "defaultAvgTp[id] = sum([defaultTp[\"1\"], defaultTp[\"2\"], defaultTp[\"3\"]]) / 3\n",
      "print \"Average Default True Positive Percentage: \", defaultAvgTp[id]\n",
      "defaultAvgFp[id] = sum([defaultFp[\"1\"], defaultFp[\"2\"], defaultFp[\"3\"]]) / 3\n",
      "print \"Average Default False Positive Percentage: \", defaultAvgFp[id]\n",
      "uniqueAvgTp[id] = sum([uniqueTp[\"1\"], uniqueTp[\"2\"], uniqueTp[\"3\"]]) / 3\n",
      "print \"Average Unique True Positive Percentage: \", uniqueAvgTp[id]\n",
      "uniqueAvgFp[id] = sum([uniqueFp[\"1\"], uniqueFp[\"2\"], uniqueFp[\"3\"]]) / 3\n",
      "print \"Average Unique False Positive Percentage: \", uniqueAvgFp[id]\n",
      "multimapAvgTp[id] = sum([multimapTp[\"1\"], multimapTp[\"2\"], multimapTp[\"3\"]]) / 3\n",
      "print \"Average Multimap True Positive Percentage: \", multimapAvgTp[id]\n",
      "multimapAvgFp[id] = sum([multimapFp[\"1\"], multimapFp[\"2\"], multimapFp[\"3\"]]) / 3\n",
      "print \"Average Multimap False Positive Percentage: \", multimapAvgFp[id]"
     ],
     "language": "python",
     "metadata": {},
     "outputs": []
    },
    {
     "cell_type": "code",
     "collapsed": false,
     "input": [
      "num = \"232\"\n",
      "rep = \"1\"\n",
      "error = \"1\"\n",
      "r = \"90\"\n",
      "id = \"090\"\n",
      "g = \"100\"\n",
      "rr = \"100\"\n",
      "runBowtieBuild(num,rep,error,r,g)\n",
      "runBowtieAllParams(num,rep,error,r,g,num,rep,error,r,g)\n",
      "getTruePositivesAllParams(num,rep,error,r,g,\"chicken\")\n",
      "defaultTp[rep],defaultFp[rep] = getTpFp(num,rep,error,r,g,\"default\",num,rep,error,r,g)\n",
      "uniqueTp[rep],uniqueFp[rep] = getTpFp(num,rep,error,r,g,\"unique\",num,rep,error,r,g)\n",
      "multimapTp[rep],multimapFp[rep] = getTpFp(num,rep,error,r,g,\"multimap\",num,rep,error,r,g)\n",
      "rep = \"2\"\n",
      "runBowtieBuild(num,rep,error,r,g)\n",
      "runBowtieAllParams(num,rep,error,r,g,num,rep,error,r,g)\n",
      "getTruePositivesAllParams(num,rep,error,r,g,\"chicken\")\n",
      "defaultTp[rep],defaultFp[rep] = getTpFp(num,rep,error,r,g,\"default\",num,rep,error,r,g)\n",
      "uniqueTp[rep],uniqueFp[rep] = getTpFp(num,rep,error,r,g,\"unique\",num,rep,error,r,g)\n",
      "multimapTp[rep],multimapFp[rep] = getTpFp(num,rep,error,r,g,\"multimap\",num,rep,error,r,g)\n",
      "rep = \"3\"\n",
      "runBowtieBuild(num,rep,error,r,g)\n",
      "runBowtieAllParams(num,rep,error,r,g,num,rep,error,r,g)\n",
      "getTruePositivesAllParams(num,rep,error,r,g,\"chicken\")\n",
      "defaultTp[rep],defaultFp[rep] = getTpFp(num,rep,error,r,g,\"default\",num,rep,error,r,g)\n",
      "uniqueTp[rep],uniqueFp[rep] = getTpFp(num,rep,error,r,g,\"unique\",num,rep,error,r,g)\n",
      "multimapTp[rep],multimapFp[rep] = getTpFp(num,rep,error,r,g,\"multimap\",num,rep,error,r,g)\n",
      "defaultAvgTp[id] = sum([defaultTp[\"1\"], defaultTp[\"2\"], defaultTp[\"3\"]]) / 3\n",
      "print \"Average Default True Positive Percentage: \", defaultAvgTp[id]\n",
      "defaultAvgFp[id] = sum([defaultFp[\"1\"], defaultFp[\"2\"], defaultFp[\"3\"]]) / 3\n",
      "print \"Average Default False Positive Percentage: \", defaultAvgFp[id]\n",
      "uniqueAvgTp[id] = sum([uniqueTp[\"1\"], uniqueTp[\"2\"], uniqueTp[\"3\"]]) / 3\n",
      "print \"Average Unique True Positive Percentage: \", uniqueAvgTp[id]\n",
      "uniqueAvgFp[id] = sum([uniqueFp[\"1\"], uniqueFp[\"2\"], uniqueFp[\"3\"]]) / 3\n",
      "print \"Average Unique False Positive Percentage: \", uniqueAvgFp[id]\n",
      "multimapAvgTp[id] = sum([multimapTp[\"1\"], multimapTp[\"2\"], multimapTp[\"3\"]]) / 3\n",
      "print \"Average Multimap True Positive Percentage: \", multimapAvgTp[id]\n",
      "multimapAvgFp[id] = sum([multimapFp[\"1\"], multimapFp[\"2\"], multimapFp[\"3\"]]) / 3\n",
      "print \"Average Multimap False Positive Percentage: \", multimapAvgFp[id]"
     ],
     "language": "python",
     "metadata": {},
     "outputs": []
    },
    {
     "cell_type": "code",
     "collapsed": false,
     "input": [
      "num = \"232\"\n",
      "rep = \"1\"\n",
      "error = \"1\"\n",
      "r = \"80\"\n",
      "id = \"080\"\n",
      "g = \"100\"\n",
      "rr = \"100\"\n",
      "runBowtieBuild(num,rep,error,r,g)\n",
      "runBowtieAllParams(num,rep,error,r,g,num,rep,error,r,g)\n",
      "getTruePositivesAllParams(num,rep,error,r,g,\"chicken\")\n",
      "defaultTp[rep],defaultFp[rep] = getTpFp(num,rep,error,r,g,\"default\",num,rep,error,r,g)\n",
      "uniqueTp[rep],uniqueFp[rep] = getTpFp(num,rep,error,r,g,\"unique\",num,rep,error,r,g)\n",
      "multimapTp[rep],multimapFp[rep] = getTpFp(num,rep,error,r,g,\"multimap\",num,rep,error,r,g)\n",
      "rep = \"2\"\n",
      "runBowtieBuild(num,rep,error,r,g)\n",
      "runBowtieAllParams(num,rep,error,r,g,num,rep,error,r,g)\n",
      "getTruePositivesAllParams(num,rep,error,r,g,\"chicken\")\n",
      "defaultTp[rep],defaultFp[rep] = getTpFp(num,rep,error,r,g,\"default\",num,rep,error,r,g)\n",
      "uniqueTp[rep],uniqueFp[rep] = getTpFp(num,rep,error,r,g,\"unique\",num,rep,error,r,g)\n",
      "multimapTp[rep],multimapFp[rep] = getTpFp(num,rep,error,r,g,\"multimap\",num,rep,error,r,g)\n",
      "rep = \"3\"\n",
      "runBowtieBuild(num,rep,error,r,g)\n",
      "runBowtieAllParams(num,rep,error,r,g,num,rep,error,r,g)\n",
      "getTruePositivesAllParams(num,rep,error,r,g,\"chicken\")\n",
      "defaultTp[rep],defaultFp[rep] = getTpFp(num,rep,error,r,g,\"default\",num,rep,error,r,g)\n",
      "uniqueTp[rep],uniqueFp[rep] = getTpFp(num,rep,error,r,g,\"unique\",num,rep,error,r,g)\n",
      "multimapTp[rep],multimapFp[rep] = getTpFp(num,rep,error,r,g,\"multimap\",num,rep,error,r,g)\n",
      "defaultAvgTp[id] = sum([defaultTp[\"1\"], defaultTp[\"2\"], defaultTp[\"3\"]]) / 3\n",
      "print \"Average Default True Positive Percentage: \", defaultAvgTp[id]\n",
      "defaultAvgFp[id] = sum([defaultFp[\"1\"], defaultFp[\"2\"], defaultFp[\"3\"]]) / 3\n",
      "print \"Average Default False Positive Percentage: \", defaultAvgFp[id]\n",
      "uniqueAvgTp[id] = sum([uniqueTp[\"1\"], uniqueTp[\"2\"], uniqueTp[\"3\"]]) / 3\n",
      "print \"Average Unique True Positive Percentage: \", uniqueAvgTp[id]\n",
      "uniqueAvgFp[id] = sum([uniqueFp[\"1\"], uniqueFp[\"2\"], uniqueFp[\"3\"]]) / 3\n",
      "print \"Average Unique False Positive Percentage: \", uniqueAvgFp[id]\n",
      "multimapAvgTp[id] = sum([multimapTp[\"1\"], multimapTp[\"2\"], multimapTp[\"3\"]]) / 3\n",
      "print \"Average Multimap True Positive Percentage: \", multimapAvgTp[id]\n",
      "multimapAvgFp[id] = sum([multimapFp[\"1\"], multimapFp[\"2\"], multimapFp[\"3\"]]) / 3\n",
      "print \"Average Multimap False Positive Percentage: \", multimapAvgFp[id]"
     ],
     "language": "python",
     "metadata": {},
     "outputs": []
    },
    {
     "cell_type": "code",
     "collapsed": false,
     "input": [
      "num = \"232\"\n",
      "rep = \"1\"\n",
      "error = \"1\"\n",
      "r = \"70\"\n",
      "id = \"070\"\n",
      "g = \"100\"\n",
      "rr = \"100\"\n",
      "runBowtieBuild(num,rep,error,r,g)\n",
      "runBowtieAllParams(num,rep,error,r,g,num,rep,error,r,g)\n",
      "getTruePositivesAllParams(num,rep,error,r,g,\"chicken\")\n",
      "defaultTp[rep],defaultFp[rep] = getTpFp(num,rep,error,r,g,\"default\",num,rep,error,r,g)\n",
      "uniqueTp[rep],uniqueFp[rep] = getTpFp(num,rep,error,r,g,\"unique\",num,rep,error,r,g)\n",
      "multimapTp[rep],multimapFp[rep] = getTpFp(num,rep,error,r,g,\"multimap\",num,rep,error,r,g)\n",
      "rep = \"2\"\n",
      "runBowtieBuild(num,rep,error,r,g)\n",
      "runBowtieAllParams(num,rep,error,r,g,num,rep,error,r,g)\n",
      "getTruePositivesAllParams(num,rep,error,r,g,\"chicken\")\n",
      "defaultTp[rep],defaultFp[rep] = getTpFp(num,rep,error,r,g,\"default\",num,rep,error,r,g)\n",
      "uniqueTp[rep],uniqueFp[rep] = getTpFp(num,rep,error,r,g,\"unique\",num,rep,error,r,g)\n",
      "multimapTp[rep],multimapFp[rep] = getTpFp(num,rep,error,r,g,\"multimap\",num,rep,error,r,g)\n",
      "rep = \"3\"\n",
      "runBowtieBuild(num,rep,error,r,g)\n",
      "runBowtieAllParams(num,rep,error,r,g,num,rep,error,r,g)\n",
      "getTruePositivesAllParams(num,rep,error,r,g,\"chicken\")\n",
      "defaultTp[rep],defaultFp[rep] = getTpFp(num,rep,error,r,g,\"default\",num,rep,error,r,g)\n",
      "uniqueTp[rep],uniqueFp[rep] = getTpFp(num,rep,error,r,g,\"unique\",num,rep,error,r,g)\n",
      "multimapTp[rep],multimapFp[rep] = getTpFp(num,rep,error,r,g,\"multimap\",num,rep,error,r,g)\n",
      "defaultAvgTp[id] = sum([defaultTp[\"1\"], defaultTp[\"2\"], defaultTp[\"3\"]]) / 3\n",
      "print \"Average Default True Positive Percentage: \", defaultAvgTp[id]\n",
      "defaultAvgFp[id] = sum([defaultFp[\"1\"], defaultFp[\"2\"], defaultFp[\"3\"]]) / 3\n",
      "print \"Average Default False Positive Percentage: \", defaultAvgFp[id]\n",
      "uniqueAvgTp[id] = sum([uniqueTp[\"1\"], uniqueTp[\"2\"], uniqueTp[\"3\"]]) / 3\n",
      "print \"Average Unique True Positive Percentage: \", uniqueAvgTp[id]\n",
      "uniqueAvgFp[id] = sum([uniqueFp[\"1\"], uniqueFp[\"2\"], uniqueFp[\"3\"]]) / 3\n",
      "print \"Average Unique False Positive Percentage: \", uniqueAvgFp[id]\n",
      "multimapAvgTp[id] = sum([multimapTp[\"1\"], multimapTp[\"2\"], multimapTp[\"3\"]]) / 3\n",
      "print \"Average Multimap True Positive Percentage: \", multimapAvgTp[id]\n",
      "multimapAvgFp[id] = sum([multimapFp[\"1\"], multimapFp[\"2\"], multimapFp[\"3\"]]) / 3\n",
      "print \"Average Multimap False Positive Percentage: \", multimapAvgFp[id]"
     ],
     "language": "python",
     "metadata": {},
     "outputs": []
    },
    {
     "cell_type": "code",
     "collapsed": false,
     "input": [
      "num = \"232\"\n",
      "rep = \"1\"\n",
      "error = \"1\"\n",
      "r = \"60\"\n",
      "id = \"060\"\n",
      "g = \"100\"\n",
      "rr = \"100\"\n",
      "runBowtieBuild(num,rep,error,r,g)\n",
      "runBowtieAllParams(num,rep,error,r,g,num,rep,error,r,g)\n",
      "getTruePositivesAllParams(num,rep,error,r,g,\"chicken\")\n",
      "defaultTp[rep],defaultFp[rep] = getTpFp(num,rep,error,r,g,\"default\",num,rep,error,r,g)\n",
      "uniqueTp[rep],uniqueFp[rep] = getTpFp(num,rep,error,r,g,\"unique\",num,rep,error,r,g)\n",
      "multimapTp[rep],multimapFp[rep] = getTpFp(num,rep,error,r,g,\"multimap\",num,rep,error,r,g)\n",
      "rep = \"2\"\n",
      "runBowtieBuild(num,rep,error,r,g)\n",
      "runBowtieAllParams(num,rep,error,r,g,num,rep,error,r,g)\n",
      "getTruePositivesAllParams(num,rep,error,r,g,\"chicken\")\n",
      "defaultTp[rep],defaultFp[rep] = getTpFp(num,rep,error,r,g,\"default\",num,rep,error,r,g)\n",
      "uniqueTp[rep],uniqueFp[rep] = getTpFp(num,rep,error,r,g,\"unique\",num,rep,error,r,g)\n",
      "multimapTp[rep],multimapFp[rep] = getTpFp(num,rep,error,r,g,\"multimap\",num,rep,error,r,g)\n",
      "rep = \"3\"\n",
      "runBowtieBuild(num,rep,error,r,g)\n",
      "runBowtieAllParams(num,rep,error,r,g,num,rep,error,r,g)\n",
      "getTruePositivesAllParams(num,rep,error,r,g,\"chicken\")\n",
      "defaultTp[rep],defaultFp[rep] = getTpFp(num,rep,error,r,g,\"default\",num,rep,error,r,g)\n",
      "uniqueTp[rep],uniqueFp[rep] = getTpFp(num,rep,error,r,g,\"unique\",num,rep,error,r,g)\n",
      "multimapTp[rep],multimapFp[rep] = getTpFp(num,rep,error,r,g,\"multimap\",num,rep,error,r,g)\n",
      "defaultAvgTp[id] = sum([defaultTp[\"1\"], defaultTp[\"2\"], defaultTp[\"3\"]]) / 3\n",
      "print \"Average Default True Positive Percentage: \", defaultAvgTp[id]\n",
      "defaultAvgFp[id] = sum([defaultFp[\"1\"], defaultFp[\"2\"], defaultFp[\"3\"]]) / 3\n",
      "print \"Average Default False Positive Percentage: \", defaultAvgFp[id]\n",
      "uniqueAvgTp[id] = sum([uniqueTp[\"1\"], uniqueTp[\"2\"], uniqueTp[\"3\"]]) / 3\n",
      "print \"Average Unique True Positive Percentage: \", uniqueAvgTp[id]\n",
      "uniqueAvgFp[id] = sum([uniqueFp[\"1\"], uniqueFp[\"2\"], uniqueFp[\"3\"]]) / 3\n",
      "print \"Average Unique False Positive Percentage: \", uniqueAvgFp[id]\n",
      "multimapAvgTp[id] = sum([multimapTp[\"1\"], multimapTp[\"2\"], multimapTp[\"3\"]]) / 3\n",
      "print \"Average Multimap True Positive Percentage: \", multimapAvgTp[id]\n",
      "multimapAvgFp[id] = sum([multimapFp[\"1\"], multimapFp[\"2\"], multimapFp[\"3\"]]) / 3\n",
      "print \"Average Multimap False Positive Percentage: \", multimapAvgFp[id]"
     ],
     "language": "python",
     "metadata": {},
     "outputs": []
    },
    {
     "cell_type": "code",
     "collapsed": false,
     "input": [
      "num = \"232\"\n",
      "rep = \"1\"\n",
      "error = \"1\"\n",
      "r = \"50\"\n",
      "id = \"050\"\n",
      "g = \"100\"\n",
      "rr = \"100\"\n",
      "runBowtieBuild(num,rep,error,r,g)\n",
      "runBowtieAllParams(num,rep,error,r,g,num,rep,error,r,g)\n",
      "getTruePositivesAllParams(num,rep,error,r,g,\"chicken\")\n",
      "defaultTp[rep],defaultFp[rep] = getTpFp(num,rep,error,r,g,\"default\",num,rep,error,r,g)\n",
      "uniqueTp[rep],uniqueFp[rep] = getTpFp(num,rep,error,r,g,\"unique\",num,rep,error,r,g)\n",
      "multimapTp[rep],multimapFp[rep] = getTpFp(num,rep,error,r,g,\"multimap\",num,rep,error,r,g)\n",
      "rep = \"2\"\n",
      "runBowtieBuild(num,rep,error,r,g)\n",
      "runBowtieAllParams(num,rep,error,r,g,num,rep,error,r,g)\n",
      "getTruePositivesAllParams(num,rep,error,r,g,\"chicken\")\n",
      "defaultTp[rep],defaultFp[rep] = getTpFp(num,rep,error,r,g,\"default\",num,rep,error,r,g)\n",
      "uniqueTp[rep],uniqueFp[rep] = getTpFp(num,rep,error,r,g,\"unique\",num,rep,error,r,g)\n",
      "multimapTp[rep],multimapFp[rep] = getTpFp(num,rep,error,r,g,\"multimap\",num,rep,error,r,g)\n",
      "rep = \"3\"\n",
      "runBowtieBuild(num,rep,error,r,g)\n",
      "runBowtieAllParams(num,rep,error,r,g,num,rep,error,r,g)\n",
      "getTruePositivesAllParams(num,rep,error,r,g,\"chicken\")\n",
      "defaultTp[rep],defaultFp[rep] = getTpFp(num,rep,error,r,g,\"default\",num,rep,error,r,g)\n",
      "uniqueTp[rep],uniqueFp[rep] = getTpFp(num,rep,error,r,g,\"unique\",num,rep,error,r,g)\n",
      "multimapTp[rep],multimapFp[rep] = getTpFp(num,rep,error,r,g,\"multimap\",num,rep,error,r,g)\n",
      "defaultAvgTp[id] = sum([defaultTp[\"1\"], defaultTp[\"2\"], defaultTp[\"3\"]]) / 3\n",
      "print \"Average Default True Positive Percentage: \", defaultAvgTp[id]\n",
      "defaultAvgFp[id] = sum([defaultFp[\"1\"], defaultFp[\"2\"], defaultFp[\"3\"]]) / 3\n",
      "print \"Average Default False Positive Percentage: \", defaultAvgFp[id]\n",
      "uniqueAvgTp[id] = sum([uniqueTp[\"1\"], uniqueTp[\"2\"], uniqueTp[\"3\"]]) / 3\n",
      "print \"Average Unique True Positive Percentage: \", uniqueAvgTp[id]\n",
      "uniqueAvgFp[id] = sum([uniqueFp[\"1\"], uniqueFp[\"2\"], uniqueFp[\"3\"]]) / 3\n",
      "print \"Average Unique False Positive Percentage: \", uniqueAvgFp[id]\n",
      "multimapAvgTp[id] = sum([multimapTp[\"1\"], multimapTp[\"2\"], multimapTp[\"3\"]]) / 3\n",
      "print \"Average Multimap True Positive Percentage: \", multimapAvgTp[id]\n",
      "multimapAvgFp[id] = sum([multimapFp[\"1\"], multimapFp[\"2\"], multimapFp[\"3\"]]) / 3\n",
      "print \"Average Multimap False Positive Percentage: \", multimapAvgFp[id]"
     ],
     "language": "python",
     "metadata": {},
     "outputs": []
    },
    {
     "cell_type": "heading",
     "level": 6,
     "metadata": {},
     "source": [
      "Paired end read sets"
     ]
    },
    {
     "cell_type": "raw",
     "metadata": {},
     "source": [
      "Chicken transcriptome, 25% expression, paired end 100:50:100 bp reads, {0 10 100 100}x expression"
     ]
    },
    {
     "cell_type": "raw",
     "metadata": {},
     "source": [
      "Chicken transcriptome, 50% expression, paired end 100:50:100 bp reads, {0 10 100 100}x expression"
     ]
    },
    {
     "cell_type": "raw",
     "metadata": {},
     "source": [
      "Chicken transcriptome, 75% expression, paired end 100:50:100 bp reads, {0 10 100 100}x expression"
     ]
    },
    {
     "cell_type": "raw",
     "metadata": {},
     "source": [
      "Chicken transcriptome, 100% expression, paired end 100:50:100 bp reads, {0 10 100 100}x expression"
     ]
    },
    {
     "cell_type": "heading",
     "level": 2,
     "metadata": {},
     "source": [
      "Test 6: Gene expression accuracy of read sets generated from 25, 50, 75, 100% expressed full chicken transcriptome with incomplete reference transcriptome"
     ]
    },
    {
     "cell_type": "heading",
     "level": 2,
     "metadata": {},
     "source": [
      "Test 7: Transcript family expression accuracy of read sets generated from 25, 50, 75, 100% expressed full chicken transcriptome with incomplete reference transcriptome"
     ]
    },
    {
     "cell_type": "heading",
     "level": 2,
     "metadata": {},
     "source": [
      "Test 8: Mapping accuracy of reads from 100% expressed mouse transcriptome at progressively longer read lengths, single end 100 bp reads, 20x"
     ]
    },
    {
     "cell_type": "raw",
     "metadata": {},
     "source": [
      "Mouse transcriptome, single end 100 bp reads, 20x expression"
     ]
    },
    {
     "cell_type": "code",
     "collapsed": false,
     "input": [
      "defaultAvgTp = {}\n",
      "defaultAvgFp = {}\n",
      "uniqueAvgTp = {}\n",
      "uniqueAvgFp = {}\n",
      "multimapAvgTp = {}\n",
      "multimapAvgFp = {}"
     ],
     "language": "python",
     "metadata": {},
     "outputs": []
    },
    {
     "cell_type": "code",
     "collapsed": false,
     "input": [
      "num = \"201\"\n",
      "rep = \"1\"\n",
      "error = \"1\"\n",
      "r = \"100\"\n",
      "g = \"100\"\n",
      "createDataSet(num,rep)\n",
      "!grep '>' DataSet201rep1E1R100G100.fa | wc -l\n",
      "defaultTp = {}\n",
      "defaultFp = {}\n",
      "uniqueTp = {}\n",
      "uniqueFp = {}\n",
      "multimapTp = {}\n",
      "multimapFp = {}\n",
      "runBowtieBuild(num,rep,error,r,g)\n",
      "runBowtieAllParams(num,rep,error,r,g,num,rep,error,r,g)\n",
      "getTruePositivesAllParams(num,rep,error,r,g,\"mouse\")\n",
      "defaultTp[rep],defaultFp[rep] = getTpFp(num,rep,error,r,g,\"default\",num,rep,error,r,g)\n",
      "uniqueTp[rep],uniqueFp[rep] = getTpFp(num,rep,error,r,g,\"unique\",num,rep,error,r,g)\n",
      "multimapTp[rep],multimapFp[rep] = getTpFp(num,rep,error,r,g,\"multimap\",num,rep,error,r,g)\n",
      "print defaultTp, defaultFp, uniqueTp, uniqueFp, multimapTp, multimapFp"
     ],
     "language": "python",
     "metadata": {},
     "outputs": []
    },
    {
     "cell_type": "code",
     "collapsed": false,
     "input": [
      "num = \"201\"\n",
      "rep = \"2\"\n",
      "error = \"1\"\n",
      "r = \"100\"\n",
      "g = \"100\"\n",
      "createDataSet(num,rep)\n",
      "!grep '>' DataSet201rep2E1R100G100.fa | wc -l\n",
      "runBowtieBuild(num,rep,error,r,g)\n",
      "runBowtieAllParams(num,rep,error,r,g,num,rep,error,r,g)\n",
      "getTruePositivesAllParams(num,rep,error,r,g,\"mouse\")\n",
      "defaultTp[rep],defaultFp[rep] = getTpFp(num,rep,error,r,g,\"default\",num,rep,error,r,g)\n",
      "uniqueTp[rep],uniqueFp[rep] = getTpFp(num,rep,error,r,g,\"unique\",num,rep,error,r,g)\n",
      "multimapTp[rep],multimapFp[rep] = getTpFp(num,rep,error,r,g,\"multimap\",num,rep,error,r,g)\n",
      "print defaultTp, defaultFp, uniqueTp, uniqueFp, multimapTp, multimapFp"
     ],
     "language": "python",
     "metadata": {},
     "outputs": []
    },
    {
     "cell_type": "code",
     "collapsed": false,
     "input": [
      "num = \"201\"\n",
      "rep = \"3\"\n",
      "error = \"1\"\n",
      "r = \"100\"\n",
      "g = \"100\"\n",
      "createDataSet(num,rep)\n",
      "!grep '>' DataSet201rep3E1R100G100.fa | wc -l\n",
      "runBowtieBuild(num,rep,error,r,g)\n",
      "runBowtieAllParams(num,rep,error,r,g,num,rep,error,r,g)\n",
      "getTruePositivesAllParams(num,rep,error,r,g,\"mouse\")\n",
      "defaultTp[rep],defaultFp[rep] = getTpFp(num,rep,error,r,g,\"default\",num,rep,error,r,g)\n",
      "uniqueTp[rep],uniqueFp[rep] = getTpFp(num,rep,error,r,g,\"unique\",num,rep,error,r,g)\n",
      "multimapTp[rep],multimapFp[rep] = getTpFp(num,rep,error,r,g,\"multimap\",num,rep,error,r,g)\n",
      "print defaultTp, defaultFp, uniqueTp, uniqueFp, multimapTp, multimapFp"
     ],
     "language": "python",
     "metadata": {},
     "outputs": []
    },
    {
     "cell_type": "code",
     "collapsed": false,
     "input": [
      "id = \"0100\"\n",
      "defaultAvgTp[id] = sum([defaultTp[\"1\"], defaultTp[\"2\"], defaultTp[\"3\"]]) / 3\n",
      "print \"Average Default True Positive Percentage: \", defaultAvgTp[id]\n",
      "defaultAvgFp[id] = sum([defaultFp[\"1\"], defaultFp[\"2\"], defaultFp[\"3\"]]) / 3\n",
      "print \"Average Default False Positive Percentage: \", defaultAvgFp[id]\n",
      "uniqueAvgTp[id] = sum([uniqueTp[\"1\"], uniqueTp[\"2\"], uniqueTp[\"3\"]]) / 3\n",
      "print \"Average Unique True Positive Percentage: \", uniqueAvgTp[id]\n",
      "uniqueAvgFp[id] = sum([uniqueFp[\"1\"], uniqueFp[\"2\"], uniqueFp[\"3\"]]) / 3\n",
      "print \"Average Unique False Positive Percentage: \", uniqueAvgFp[id]\n",
      "multimapAvgTp[id] = sum([multimapTp[\"1\"], multimapTp[\"2\"], multimapTp[\"3\"]]) / 3\n",
      "print \"Average Multimap True Positive Percentage: \", multimapAvgTp[id]\n",
      "multimapAvgFp[id] = sum([multimapFp[\"1\"], multimapFp[\"2\"], multimapFp[\"3\"]]) / 3\n",
      "print \"Average Multimap False Positive Percentage: \", multimapAvgFp[id]"
     ],
     "language": "python",
     "metadata": {},
     "outputs": []
    },
    {
     "cell_type": "raw",
     "metadata": {},
     "source": [
      "Mouse transcriptome, single end 200 bp reads, 20x expression"
     ]
    },
    {
     "cell_type": "code",
     "collapsed": false,
     "input": [
      "num = \"202\"\n",
      "rep = \"1\"\n",
      "error = \"1\"\n",
      "r = \"100\"\n",
      "g = \"100\"\n",
      "createDataSet(num,rep)\n",
      "!grep '>' DataSet202rep1E1R100G100.fa | wc -l\n",
      "defaultTp = {}\n",
      "defaultFp = {}\n",
      "uniqueTp = {}\n",
      "uniqueFp = {}\n",
      "multimapTp = {}\n",
      "multimapFp = {}\n",
      "runBowtieBuild(num,rep,error,r,g)\n",
      "runBowtieAllParams(num,rep,error,r,g,num,rep,error,r,g)\n",
      "getTruePositivesAllParams(num,rep,error,r,g,\"mouse\")\n",
      "defaultTp[rep],defaultFp[rep] = getTpFp(num,rep,error,r,g,\"default\",num,rep,error,r,g)\n",
      "uniqueTp[rep],uniqueFp[rep] = getTpFp(num,rep,error,r,g,\"unique\",num,rep,error,r,g)\n",
      "multimapTp[rep],multimapFp[rep] = getTpFp(num,rep,error,r,g,\"multimap\",num,rep,error,r,g)\n",
      "print defaultTp, defaultFp, uniqueTp, uniqueFp, multimapTp, multimapFp"
     ],
     "language": "python",
     "metadata": {},
     "outputs": []
    },
    {
     "cell_type": "code",
     "collapsed": false,
     "input": [
      "num = \"202\"\n",
      "rep = \"2\"\n",
      "error = \"1\"\n",
      "r = \"100\"\n",
      "g = \"100\"\n",
      "createDataSet(num,rep)\n",
      "!grep '>' DataSet202rep2E1R100G100.fa | wc -l\n",
      "runBowtieBuild(num,rep,error,r,g)\n",
      "runBowtieAllParams(num,rep,error,r,g,num,rep,error,r,g)\n",
      "getTruePositivesAllParams(num,rep,error,r,g,\"mouse\")\n",
      "defaultTp[rep],defaultFp[rep] = getTpFp(num,rep,error,r,g,\"default\",num,rep,error,r,g)\n",
      "uniqueTp[rep],uniqueFp[rep] = getTpFp(num,rep,error,r,g,\"unique\",num,rep,error,r,g)\n",
      "multimapTp[rep],multimapFp[rep] = getTpFp(num,rep,error,r,g,\"multimap\",num,rep,error,r,g)\n",
      "print defaultTp, defaultFp, uniqueTp, uniqueFp, multimapTp, multimapFp"
     ],
     "language": "python",
     "metadata": {},
     "outputs": []
    },
    {
     "cell_type": "code",
     "collapsed": false,
     "input": [
      "num = \"202\"\n",
      "rep = \"3\"\n",
      "error = \"1\"\n",
      "r = \"100\"\n",
      "g = \"100\"\n",
      "createDataSet(num,rep)\n",
      "!grep '>' DataSet202rep3E1R100G100.fa | wc -l\n",
      "runBowtieBuild(num,rep,error,r,g)\n",
      "runBowtieAllParams(num,rep,error,r,g,num,rep,error,r,g)\n",
      "getTruePositivesAllParams(num,rep,error,r,g,\"mouse\")\n",
      "defaultTp[rep],defaultFp[rep] = getTpFp(num,rep,error,r,g,\"default\",num,rep,error,r,g)\n",
      "uniqueTp[rep],uniqueFp[rep] = getTpFp(num,rep,error,r,g,\"unique\",num,rep,error,r,g)\n",
      "multimapTp[rep],multimapFp[rep] = getTpFp(num,rep,error,r,g,\"multimap\",num,rep,error,r,g)\n",
      "print defaultTp, defaultFp, uniqueTp, uniqueFp, multimapTp, multimapFp"
     ],
     "language": "python",
     "metadata": {},
     "outputs": []
    },
    {
     "cell_type": "code",
     "collapsed": false,
     "input": [
      "id = \"0200\"\n",
      "defaultAvgTp[id] = sum([defaultTp[\"1\"], defaultTp[\"2\"], defaultTp[\"3\"]]) / 3\n",
      "print \"Average Default True Positive Percentage: \", defaultAvgTp[id]\n",
      "defaultAvgFp[id] = sum([defaultFp[\"1\"], defaultFp[\"2\"], defaultFp[\"3\"]]) / 3\n",
      "print \"Average Default False Positive Percentage: \", defaultAvgFp[id]\n",
      "uniqueAvgTp[id] = sum([uniqueTp[\"1\"], uniqueTp[\"2\"], uniqueTp[\"3\"]]) / 3\n",
      "print \"Average Unique True Positive Percentage: \", uniqueAvgTp[id]\n",
      "uniqueAvgFp[id] = sum([uniqueFp[\"1\"], uniqueFp[\"2\"], uniqueFp[\"3\"]]) / 3\n",
      "print \"Average Unique False Positive Percentage: \", uniqueAvgFp[id]\n",
      "multimapAvgTp[id] = sum([multimapTp[\"1\"], multimapTp[\"2\"], multimapTp[\"3\"]]) / 3\n",
      "print \"Average Multimap True Positive Percentage: \", multimapAvgTp[id]\n",
      "multimapAvgFp[id] = sum([multimapFp[\"1\"], multimapFp[\"2\"], multimapFp[\"3\"]]) / 3\n",
      "print \"Average Multimap False Positive Percentage: \", multimapAvgFp[id]"
     ],
     "language": "python",
     "metadata": {},
     "outputs": []
    },
    {
     "cell_type": "raw",
     "metadata": {},
     "source": [
      "Mouse transcriptome, single end 300 bp reads, 20x expression"
     ]
    },
    {
     "cell_type": "code",
     "collapsed": false,
     "input": [
      "num = \"203\"\n",
      "rep = \"1\"\n",
      "error = \"1\"\n",
      "r = \"100\"\n",
      "g = \"100\"\n",
      "createDataSet(num,rep)\n",
      "!grep '>' DataSet203rep1E1R100G100.fa | wc -l\n",
      "defaultTp = {}\n",
      "defaultFp = {}\n",
      "uniqueTp = {}\n",
      "uniqueFp = {}\n",
      "multimapTp = {}\n",
      "multimapFp = {}\n",
      "runBowtieBuild(num,rep,error,r,g)\n",
      "runBowtieAllParams(num,rep,error,r,g,num,rep,error,r,g)\n",
      "getTruePositivesAllParams(num,rep,error,r,g,\"mouse\")\n",
      "defaultTp[rep],defaultFp[rep] = getTpFp(num,rep,error,r,g,\"default\",num,rep,error,r,g)\n",
      "uniqueTp[rep],uniqueFp[rep] = getTpFp(num,rep,error,r,g,\"unique\",num,rep,error,r,g)\n",
      "multimapTp[rep],multimapFp[rep] = getTpFp(num,rep,error,r,g,\"multimap\",num,rep,error,r,g)\n",
      "print defaultTp, defaultFp, uniqueTp, uniqueFp, multimapTp, multimapFp"
     ],
     "language": "python",
     "metadata": {},
     "outputs": []
    },
    {
     "cell_type": "code",
     "collapsed": false,
     "input": [
      "num = \"203\"\n",
      "rep = \"2\"\n",
      "error = \"1\"\n",
      "r = \"100\"\n",
      "g = \"100\"\n",
      "createDataSet(num,rep)\n",
      "!grep '>' DataSet203rep2E1R100G100.fa | wc -l\n",
      "runBowtieBuild(num,rep,error,r,g)\n",
      "runBowtieAllParams(num,rep,error,r,g,num,rep,error,r,g)\n",
      "getTruePositivesAllParams(num,rep,error,r,g,\"mouse\")\n",
      "defaultTp[rep],defaultFp[rep] = getTpFp(num,rep,error,r,g,\"default\",num,rep,error,r,g)\n",
      "uniqueTp[rep],uniqueFp[rep] = getTpFp(num,rep,error,r,g,\"unique\",num,rep,error,r,g)\n",
      "multimapTp[rep],multimapFp[rep] = getTpFp(num,rep,error,r,g,\"multimap\",num,rep,error,r,g)\n",
      "print defaultTp, defaultFp, uniqueTp, uniqueFp, multimapTp, multimapFp"
     ],
     "language": "python",
     "metadata": {},
     "outputs": []
    },
    {
     "cell_type": "code",
     "collapsed": false,
     "input": [
      "num = \"203\"\n",
      "rep = \"3\"\n",
      "error = \"1\"\n",
      "r = \"100\"\n",
      "g = \"100\"\n",
      "createDataSet(num,rep)\n",
      "!grep '>' DataSet203rep3E1R100G100.fa | wc -l\n",
      "runBowtieBuild(num,rep,error,r,g)\n",
      "runBowtieAllParams(num,rep,error,r,g,num,rep,error,r,g)\n",
      "getTruePositivesAllParams(num,rep,error,r,g,\"mouse\")\n",
      "defaultTp[rep],defaultFp[rep] = getTpFp(num,rep,error,r,g,\"default\",num,rep,error,r,g)\n",
      "uniqueTp[rep],uniqueFp[rep] = getTpFp(num,rep,error,r,g,\"unique\",num,rep,error,r,g)\n",
      "multimapTp[rep],multimapFp[rep] = getTpFp(num,rep,error,r,g,\"multimap\",num,rep,error,r,g)\n",
      "print defaultTp, defaultFp, uniqueTp, uniqueFp, multimapTp, multimapFp"
     ],
     "language": "python",
     "metadata": {},
     "outputs": []
    },
    {
     "cell_type": "code",
     "collapsed": false,
     "input": [
      "id = \"0300\"\n",
      "defaultAvgTp[id] = sum([defaultTp[\"1\"], defaultTp[\"2\"], defaultTp[\"3\"]]) / 3\n",
      "print \"Average Default True Positive Percentage: \", defaultAvgTp[id]\n",
      "defaultAvgFp[id] = sum([defaultFp[\"1\"], defaultFp[\"2\"], defaultFp[\"3\"]]) / 3\n",
      "print \"Average Default False Positive Percentage: \", defaultAvgFp[id]\n",
      "uniqueAvgTp[id] = sum([uniqueTp[\"1\"], uniqueTp[\"2\"], uniqueTp[\"3\"]]) / 3\n",
      "print \"Average Unique True Positive Percentage: \", uniqueAvgTp[id]\n",
      "uniqueAvgFp[id] = sum([uniqueFp[\"1\"], uniqueFp[\"2\"], uniqueFp[\"3\"]]) / 3\n",
      "print \"Average Unique False Positive Percentage: \", uniqueAvgFp[id]\n",
      "multimapAvgTp[id] = sum([multimapTp[\"1\"], multimapTp[\"2\"], multimapTp[\"3\"]]) / 3\n",
      "print \"Average Multimap True Positive Percentage: \", multimapAvgTp[id]\n",
      "multimapAvgFp[id] = sum([multimapFp[\"1\"], multimapFp[\"2\"], multimapFp[\"3\"]]) / 3\n",
      "print \"Average Multimap False Positive Percentage: \", multimapAvgFp[id]"
     ],
     "language": "python",
     "metadata": {},
     "outputs": []
    },
    {
     "cell_type": "raw",
     "metadata": {},
     "source": [
      "Mouse transcriptome, single end 400 bp reads, 20x expression"
     ]
    },
    {
     "cell_type": "code",
     "collapsed": false,
     "input": [
      "num = \"204\"\n",
      "rep = \"1\"\n",
      "error = \"1\"\n",
      "r = \"100\"\n",
      "g = \"100\"\n",
      "createDataSet(num,rep)\n",
      "!grep '>' DataSet204rep1E1R100G100.fa | wc -l\n",
      "defaultTp = {}\n",
      "defaultFp = {}\n",
      "uniqueTp = {}\n",
      "uniqueFp = {}\n",
      "multimapTp = {}\n",
      "multimapFp = {}\n",
      "runBowtieBuild(num,rep,error,r,g)\n",
      "runBowtieAllParams(num,rep,error,r,g,num,rep,error,r,g)\n",
      "getTruePositivesAllParams(num,rep,error,r,g,\"mouse\")\n",
      "defaultTp[rep],defaultFp[rep] = getTpFp(num,rep,error,r,g,\"default\",num,rep,error,r,g)\n",
      "uniqueTp[rep],uniqueFp[rep] = getTpFp(num,rep,error,r,g,\"unique\",num,rep,error,r,g)\n",
      "multimapTp[rep],multimapFp[rep] = getTpFp(num,rep,error,r,g,\"multimap\",num,rep,error,r,g)\n",
      "print defaultTp, defaultFp, uniqueTp, uniqueFp, multimapTp, multimapFp"
     ],
     "language": "python",
     "metadata": {},
     "outputs": []
    },
    {
     "cell_type": "code",
     "collapsed": false,
     "input": [
      "num = \"204\"\n",
      "rep = \"2\"\n",
      "error = \"1\"\n",
      "r = \"100\"\n",
      "g = \"100\"\n",
      "createDataSet(num,rep)\n",
      "!grep '>' DataSet204rep2E1R100G100.fa | wc -l\n",
      "runBowtieBuild(num,rep,error,r,g)\n",
      "runBowtieAllParams(num,rep,error,r,g,num,rep,error,r,g)\n",
      "getTruePositivesAllParams(num,rep,error,r,g,\"mouse\")\n",
      "defaultTp[rep],defaultFp[rep] = getTpFp(num,rep,error,r,g,\"default\",num,rep,error,r,g)\n",
      "uniqueTp[rep],uniqueFp[rep] = getTpFp(num,rep,error,r,g,\"unique\",num,rep,error,r,g)\n",
      "multimapTp[rep],multimapFp[rep] = getTpFp(num,rep,error,r,g,\"multimap\",num,rep,error,r,g)\n",
      "print defaultTp, defaultFp, uniqueTp, uniqueFp, multimapTp, multimapFp"
     ],
     "language": "python",
     "metadata": {},
     "outputs": []
    },
    {
     "cell_type": "code",
     "collapsed": false,
     "input": [
      "num = \"204\"\n",
      "rep = \"3\"\n",
      "error = \"1\"\n",
      "r = \"100\"\n",
      "g = \"100\"\n",
      "createDataSet(num,rep)\n",
      "!grep '>' DataSet204rep3E1R100G100.fa | wc -l\n",
      "runBowtieBuild(num,rep,error,r,g)\n",
      "runBowtieAllParams(num,rep,error,r,g,num,rep,error,r,g)\n",
      "getTruePositivesAllParams(num,rep,error,r,g,\"mouse\")\n",
      "defaultTp[rep],defaultFp[rep] = getTpFp(num,rep,error,r,g,\"default\",num,rep,error,r,g)\n",
      "uniqueTp[rep],uniqueFp[rep] = getTpFp(num,rep,error,r,g,\"unique\",num,rep,error,r,g)\n",
      "multimapTp[rep],multimapFp[rep] = getTpFp(num,rep,error,r,g,\"multimap\",num,rep,error,r,g)\n",
      "print defaultTp, defaultFp, uniqueTp, uniqueFp, multimapTp, multimapFp"
     ],
     "language": "python",
     "metadata": {},
     "outputs": []
    },
    {
     "cell_type": "code",
     "collapsed": false,
     "input": [
      "id = \"0400\"\n",
      "defaultAvgTp[id] = sum([defaultTp[\"1\"], defaultTp[\"2\"], defaultTp[\"3\"]]) / 3\n",
      "print \"Average Default True Positive Percentage: \", defaultAvgTp[id]\n",
      "defaultAvgFp[id] = sum([defaultFp[\"1\"], defaultFp[\"2\"], defaultFp[\"3\"]]) / 3\n",
      "print \"Average Default False Positive Percentage: \", defaultAvgFp[id]\n",
      "uniqueAvgTp[id] = sum([uniqueTp[\"1\"], uniqueTp[\"2\"], uniqueTp[\"3\"]]) / 3\n",
      "print \"Average Unique True Positive Percentage: \", uniqueAvgTp[id]\n",
      "uniqueAvgFp[id] = sum([uniqueFp[\"1\"], uniqueFp[\"2\"], uniqueFp[\"3\"]]) / 3\n",
      "print \"Average Unique False Positive Percentage: \", uniqueAvgFp[id]\n",
      "multimapAvgTp[id] = sum([multimapTp[\"1\"], multimapTp[\"2\"], multimapTp[\"3\"]]) / 3\n",
      "print \"Average Multimap True Positive Percentage: \", multimapAvgTp[id]\n",
      "multimapAvgFp[id] = sum([multimapFp[\"1\"], multimapFp[\"2\"], multimapFp[\"3\"]]) / 3\n",
      "print \"Average Multimap False Positive Percentage: \", multimapAvgFp[id]"
     ],
     "language": "python",
     "metadata": {},
     "outputs": []
    },
    {
     "cell_type": "raw",
     "metadata": {},
     "source": [
      "Mouse transcriptome, single end 500 bp reads, 20x expression"
     ]
    },
    {
     "cell_type": "code",
     "collapsed": false,
     "input": [
      "num = \"205\"\n",
      "rep = \"1\"\n",
      "error = \"1\"\n",
      "r = \"100\"\n",
      "g = \"100\"\n",
      "createDataSet(num,rep)\n",
      "!grep '>' DataSet205rep1E1R100G100.fa | wc -l\n",
      "defaultTp = {}\n",
      "defaultFp = {}\n",
      "uniqueTp = {}\n",
      "uniqueFp = {}\n",
      "multimapTp = {}\n",
      "multimapFp = {}\n",
      "runBowtieBuild(num,rep,error,r,g)\n",
      "runBowtieAllParams(num,rep,error,r,g,num,rep,error,r,g)\n",
      "getTruePositivesAllParams(num,rep,error,r,g,\"mouse\")\n",
      "defaultTp[rep],defaultFp[rep] = getTpFp(num,rep,error,r,g,\"default\",num,rep,error,r,g)\n",
      "uniqueTp[rep],uniqueFp[rep] = getTpFp(num,rep,error,r,g,\"unique\",num,rep,error,r,g)\n",
      "multimapTp[rep],multimapFp[rep] = getTpFp(num,rep,error,r,g,\"multimap\",num,rep,error,r,g)\n",
      "print defaultTp, defaultFp, uniqueTp, uniqueFp, multimapTp, multimapFp"
     ],
     "language": "python",
     "metadata": {},
     "outputs": []
    },
    {
     "cell_type": "code",
     "collapsed": false,
     "input": [
      "num = \"205\"\n",
      "rep = \"2\"\n",
      "error = \"1\"\n",
      "r = \"100\"\n",
      "g = \"100\"\n",
      "createDataSet(num,rep)\n",
      "!grep '>' DataSet205rep2E1R100G100.fa | wc -l\n",
      "runBowtieBuild(num,rep,error,r,g)\n",
      "runBowtieAllParams(num,rep,error,r,g,num,rep,error,r,g)\n",
      "getTruePositivesAllParams(num,rep,error,r,g,\"mouse\")\n",
      "defaultTp[rep],defaultFp[rep] = getTpFp(num,rep,error,r,g,\"default\",num,rep,error,r,g)\n",
      "uniqueTp[rep],uniqueFp[rep] = getTpFp(num,rep,error,r,g,\"unique\",num,rep,error,r,g)\n",
      "multimapTp[rep],multimapFp[rep] = getTpFp(num,rep,error,r,g,\"multimap\",num,rep,error,r,g)\n",
      "print defaultTp, defaultFp, uniqueTp, uniqueFp, multimapTp, multimapFp"
     ],
     "language": "python",
     "metadata": {},
     "outputs": []
    },
    {
     "cell_type": "code",
     "collapsed": false,
     "input": [
      "num = \"205\"\n",
      "rep = \"3\"\n",
      "error = \"1\"\n",
      "r = \"100\"\n",
      "g = \"100\"\n",
      "createDataSet(num,rep)\n",
      "!grep '>' DataSet205rep3E1R100G100.fa | wc -l\n",
      "runBowtieBuild(num,rep,error,r,g)\n",
      "runBowtieAllParams(num,rep,error,r,g,num,rep,error,r,g)\n",
      "getTruePositivesAllParams(num,rep,error,r,g,\"mouse\")\n",
      "defaultTp[rep],defaultFp[rep] = getTpFp(num,rep,error,r,g,\"default\",num,rep,error,r,g)\n",
      "uniqueTp[rep],uniqueFp[rep] = getTpFp(num,rep,error,r,g,\"unique\",num,rep,error,r,g)\n",
      "multimapTp[rep],multimapFp[rep] = getTpFp(num,rep,error,r,g,\"multimap\",num,rep,error,r,g)\n",
      "print defaultTp, defaultFp, uniqueTp, uniqueFp, multimapTp, multimapFp"
     ],
     "language": "python",
     "metadata": {},
     "outputs": []
    },
    {
     "cell_type": "code",
     "collapsed": false,
     "input": [
      "id = \"0500\"\n",
      "defaultAvgTp[id] = sum([defaultTp[\"1\"], defaultTp[\"2\"], defaultTp[\"3\"]]) / 3\n",
      "print \"Average Default True Positive Percentage: \", defaultAvgTp[id]\n",
      "defaultAvgFp[id] = sum([defaultFp[\"1\"], defaultFp[\"2\"], defaultFp[\"3\"]]) / 3\n",
      "print \"Average Default False Positive Percentage: \", defaultAvgFp[id]\n",
      "uniqueAvgTp[id] = sum([uniqueTp[\"1\"], uniqueTp[\"2\"], uniqueTp[\"3\"]]) / 3\n",
      "print \"Average Unique True Positive Percentage: \", uniqueAvgTp[id]\n",
      "uniqueAvgFp[id] = sum([uniqueFp[\"1\"], uniqueFp[\"2\"], uniqueFp[\"3\"]]) / 3\n",
      "print \"Average Unique False Positive Percentage: \", uniqueAvgFp[id]\n",
      "multimapAvgTp[id] = sum([multimapTp[\"1\"], multimapTp[\"2\"], multimapTp[\"3\"]]) / 3\n",
      "print \"Average Multimap True Positive Percentage: \", multimapAvgTp[id]\n",
      "multimapAvgFp[id] = sum([multimapFp[\"1\"], multimapFp[\"2\"], multimapFp[\"3\"]]) / 3\n",
      "print \"Average Multimap False Positive Percentage: \", multimapAvgFp[id]"
     ],
     "language": "python",
     "metadata": {},
     "outputs": []
    },
    {
     "cell_type": "raw",
     "metadata": {},
     "source": [
      "Mouse transcriptome, single end 600 bp reads, 20x expression"
     ]
    },
    {
     "cell_type": "code",
     "collapsed": false,
     "input": [
      "num = \"206\"\n",
      "rep = \"1\"\n",
      "error = \"1\"\n",
      "r = \"100\"\n",
      "g = \"100\"\n",
      "createDataSet(num,rep)\n",
      "!grep '>' DataSet206rep1E1R100G100.fa | wc -l\n",
      "defaultTp = {}\n",
      "defaultFp = {}\n",
      "uniqueTp = {}\n",
      "uniqueFp = {}\n",
      "multimapTp = {}\n",
      "multimapFp = {}\n",
      "runBowtieBuild(num,rep,error,r,g)\n",
      "runBowtieAllParams(num,rep,error,r,g,num,rep,error,r,g)\n",
      "getTruePositivesAllParams(num,rep,error,r,g,\"mouse\")\n",
      "defaultTp[rep],defaultFp[rep] = getTpFp(num,rep,error,r,g,\"default\",num,rep,error,r,g)\n",
      "uniqueTp[rep],uniqueFp[rep] = getTpFp(num,rep,error,r,g,\"unique\",num,rep,error,r,g)\n",
      "multimapTp[rep],multimapFp[rep] = getTpFp(num,rep,error,r,g,\"multimap\",num,rep,error,r,g)\n",
      "print defaultTp, defaultFp, uniqueTp, uniqueFp, multimapTp, multimapFp"
     ],
     "language": "python",
     "metadata": {},
     "outputs": []
    },
    {
     "cell_type": "code",
     "collapsed": false,
     "input": [
      "num = \"206\"\n",
      "rep = \"2\"\n",
      "error = \"1\"\n",
      "r = \"100\"\n",
      "g = \"100\"\n",
      "createDataSet(num,rep)\n",
      "!grep '>' DataSet206rep2E1R100G100.fa | wc -l\n",
      "runBowtieBuild(num,rep,error,r,g)\n",
      "runBowtieAllParams(num,rep,error,r,g,num,rep,error,r,g)\n",
      "getTruePositivesAllParams(num,rep,error,r,g,\"mouse\")\n",
      "defaultTp[rep],defaultFp[rep] = getTpFp(num,rep,error,r,g,\"default\",num,rep,error,r,g)\n",
      "uniqueTp[rep],uniqueFp[rep] = getTpFp(num,rep,error,r,g,\"unique\",num,rep,error,r,g)\n",
      "multimapTp[rep],multimapFp[rep] = getTpFp(num,rep,error,r,g,\"multimap\",num,rep,error,r,g)\n",
      "print defaultTp, defaultFp, uniqueTp, uniqueFp, multimapTp, multimapFp"
     ],
     "language": "python",
     "metadata": {},
     "outputs": []
    },
    {
     "cell_type": "code",
     "collapsed": false,
     "input": [
      "num = \"206\"\n",
      "rep = \"3\"\n",
      "error = \"1\"\n",
      "r = \"100\"\n",
      "g = \"100\"\n",
      "createDataSet(num,rep)\n",
      "!grep '>' DataSet206rep3E1R100G100.fa | wc -l\n",
      "runBowtieBuild(num,rep,error,r,g)\n",
      "runBowtieAllParams(num,rep,error,r,g,num,rep,error,r,g)\n",
      "getTruePositivesAllParams(num,rep,error,r,g,\"mouse\")\n",
      "defaultTp[rep],defaultFp[rep] = getTpFp(num,rep,error,r,g,\"default\",num,rep,error,r,g)\n",
      "uniqueTp[rep],uniqueFp[rep] = getTpFp(num,rep,error,r,g,\"unique\",num,rep,error,r,g)\n",
      "multimapTp[rep],multimapFp[rep] = getTpFp(num,rep,error,r,g,\"multimap\",num,rep,error,r,g)\n",
      "print defaultTp, defaultFp, uniqueTp, uniqueFp, multimapTp, multimapFp"
     ],
     "language": "python",
     "metadata": {},
     "outputs": []
    },
    {
     "cell_type": "code",
     "collapsed": false,
     "input": [
      "id = \"0600\"\n",
      "defaultAvgTp[id] = sum([defaultTp[\"1\"], defaultTp[\"2\"], defaultTp[\"3\"]]) / 3\n",
      "print \"Average Default True Positive Percentage: \", defaultAvgTp[id]\n",
      "defaultAvgFp[id] = sum([defaultFp[\"1\"], defaultFp[\"2\"], defaultFp[\"3\"]]) / 3\n",
      "print \"Average Default False Positive Percentage: \", defaultAvgFp[id]\n",
      "uniqueAvgTp[id] = sum([uniqueTp[\"1\"], uniqueTp[\"2\"], uniqueTp[\"3\"]]) / 3\n",
      "print \"Average Unique True Positive Percentage: \", uniqueAvgTp[id]\n",
      "uniqueAvgFp[id] = sum([uniqueFp[\"1\"], uniqueFp[\"2\"], uniqueFp[\"3\"]]) / 3\n",
      "print \"Average Unique False Positive Percentage: \", uniqueAvgFp[id]\n",
      "multimapAvgTp[id] = sum([multimapTp[\"1\"], multimapTp[\"2\"], multimapTp[\"3\"]]) / 3\n",
      "print \"Average Multimap True Positive Percentage: \", multimapAvgTp[id]\n",
      "multimapAvgFp[id] = sum([multimapFp[\"1\"], multimapFp[\"2\"], multimapFp[\"3\"]]) / 3\n",
      "print \"Average Multimap False Positive Percentage: \", multimapAvgFp[id]"
     ],
     "language": "python",
     "metadata": {},
     "outputs": []
    },
    {
     "cell_type": "raw",
     "metadata": {},
     "source": [
      "Mouse transcriptome, single end 700 bp reads, 20x expression"
     ]
    },
    {
     "cell_type": "code",
     "collapsed": false,
     "input": [
      "num = \"207\"\n",
      "rep = \"1\"\n",
      "error = \"1\"\n",
      "r = \"100\"\n",
      "g = \"100\"\n",
      "createDataSet(num,rep)\n",
      "!grep '>' DataSet207rep1E1R100G100.fa | wc -l\n",
      "defaultTp = {}\n",
      "defaultFp = {}\n",
      "uniqueTp = {}\n",
      "uniqueFp = {}\n",
      "multimapTp = {}\n",
      "multimapFp = {}\n",
      "runBowtieBuild(num,rep,error,r,g)\n",
      "runBowtieAllParams(num,rep,error,r,g,num,rep,error,r,g)\n",
      "getTruePositivesAllParams(num,rep,error,r,g,\"mouse\")\n",
      "defaultTp[rep],defaultFp[rep] = getTpFp(num,rep,error,r,g,\"default\",num,rep,error,r,g)\n",
      "uniqueTp[rep],uniqueFp[rep] = getTpFp(num,rep,error,r,g,\"unique\",num,rep,error,r,g)\n",
      "multimapTp[rep],multimapFp[rep] = getTpFp(num,rep,error,r,g,\"multimap\",num,rep,error,r,g)\n",
      "print defaultTp, defaultFp, uniqueTp, uniqueFp, multimapTp, multimapFp"
     ],
     "language": "python",
     "metadata": {},
     "outputs": []
    },
    {
     "cell_type": "code",
     "collapsed": false,
     "input": [
      "num = \"207\"\n",
      "rep = \"2\"\n",
      "error = \"1\"\n",
      "r = \"100\"\n",
      "g = \"100\"\n",
      "createDataSet(num,rep)\n",
      "!grep '>' DataSet207rep2E1R100G100.fa | wc -l\n",
      "runBowtieBuild(num,rep,error,r,g)\n",
      "runBowtieAllParams(num,rep,error,r,g,num,rep,error,r,g)\n",
      "getTruePositivesAllParams(num,rep,error,r,g,\"mouse\")\n",
      "defaultTp[rep],defaultFp[rep] = getTpFp(num,rep,error,r,g,\"default\",num,rep,error,r,g)\n",
      "uniqueTp[rep],uniqueFp[rep] = getTpFp(num,rep,error,r,g,\"unique\",num,rep,error,r,g)\n",
      "multimapTp[rep],multimapFp[rep] = getTpFp(num,rep,error,r,g,\"multimap\",num,rep,error,r,g)\n",
      "print defaultTp, defaultFp, uniqueTp, uniqueFp, multimapTp, multimapFp"
     ],
     "language": "python",
     "metadata": {},
     "outputs": []
    },
    {
     "cell_type": "code",
     "collapsed": false,
     "input": [
      "num = \"207\"\n",
      "rep = \"3\"\n",
      "error = \"1\"\n",
      "r = \"100\"\n",
      "g = \"100\"\n",
      "createDataSet(num,rep)\n",
      "!grep '>' DataSet207rep3E1R100G100.fa | wc -l\n",
      "runBowtieBuild(num,rep,error,r,g)\n",
      "runBowtieAllParams(num,rep,error,r,g,num,rep,error,r,g)\n",
      "getTruePositivesAllParams(num,rep,error,r,g,\"mouse\")\n",
      "defaultTp[rep],defaultFp[rep] = getTpFp(num,rep,error,r,g,\"default\",num,rep,error,r,g)\n",
      "uniqueTp[rep],uniqueFp[rep] = getTpFp(num,rep,error,r,g,\"unique\",num,rep,error,r,g)\n",
      "multimapTp[rep],multimapFp[rep] = getTpFp(num,rep,error,r,g,\"multimap\",num,rep,error,r,g)\n",
      "print defaultTp, defaultFp, uniqueTp, uniqueFp, multimapTp, multimapFp"
     ],
     "language": "python",
     "metadata": {},
     "outputs": []
    },
    {
     "cell_type": "code",
     "collapsed": false,
     "input": [
      "id = \"0700\"\n",
      "defaultAvgTp[id] = sum([defaultTp[\"1\"], defaultTp[\"2\"], defaultTp[\"3\"]]) / 3\n",
      "print \"Average Default True Positive Percentage: \", defaultAvgTp[id]\n",
      "defaultAvgFp[id] = sum([defaultFp[\"1\"], defaultFp[\"2\"], defaultFp[\"3\"]]) / 3\n",
      "print \"Average Default False Positive Percentage: \", defaultAvgFp[id]\n",
      "uniqueAvgTp[id] = sum([uniqueTp[\"1\"], uniqueTp[\"2\"], uniqueTp[\"3\"]]) / 3\n",
      "print \"Average Unique True Positive Percentage: \", uniqueAvgTp[id]\n",
      "uniqueAvgFp[id] = sum([uniqueFp[\"1\"], uniqueFp[\"2\"], uniqueFp[\"3\"]]) / 3\n",
      "print \"Average Unique False Positive Percentage: \", uniqueAvgFp[id]\n",
      "multimapAvgTp[id] = sum([multimapTp[\"1\"], multimapTp[\"2\"], multimapTp[\"3\"]]) / 3\n",
      "print \"Average Multimap True Positive Percentage: \", multimapAvgTp[id]\n",
      "multimapAvgFp[id] = sum([multimapFp[\"1\"], multimapFp[\"2\"], multimapFp[\"3\"]]) / 3\n",
      "print \"Average Multimap False Positive Percentage: \", multimapAvgFp[id]"
     ],
     "language": "python",
     "metadata": {},
     "outputs": []
    },
    {
     "cell_type": "raw",
     "metadata": {},
     "source": [
      "Mouse transcriptome, single end 800 bp reads, 20x expression"
     ]
    },
    {
     "cell_type": "code",
     "collapsed": false,
     "input": [
      "num = \"208\"\n",
      "rep = \"1\"\n",
      "error = \"1\"\n",
      "r = \"100\"\n",
      "g = \"100\"\n",
      "createDataSet(num,rep)\n",
      "!grep '>' DataSet208rep1E1R100G100.fa | wc -l\n",
      "defaultTp = {}\n",
      "defaultFp = {}\n",
      "uniqueTp = {}\n",
      "uniqueFp = {}\n",
      "multimapTp = {}\n",
      "multimapFp = {}\n",
      "runBowtieBuild(num,rep,error,r,g)\n",
      "runBowtieAllParams(num,rep,error,r,g,num,rep,error,r,g)\n",
      "getTruePositivesAllParams(num,rep,error,r,g,\"mouse\")\n",
      "defaultTp[rep],defaultFp[rep] = getTpFp(num,rep,error,r,g,\"default\",num,rep,error,r,g)\n",
      "uniqueTp[rep],uniqueFp[rep] = getTpFp(num,rep,error,r,g,\"unique\",num,rep,error,r,g)\n",
      "multimapTp[rep],multimapFp[rep] = getTpFp(num,rep,error,r,g,\"multimap\",num,rep,error,r,g)\n",
      "print defaultTp, defaultFp, uniqueTp, uniqueFp, multimapTp, multimapFp"
     ],
     "language": "python",
     "metadata": {},
     "outputs": []
    },
    {
     "cell_type": "code",
     "collapsed": false,
     "input": [
      "num = \"208\"\n",
      "rep = \"2\"\n",
      "error = \"1\"\n",
      "r = \"100\"\n",
      "g = \"100\"\n",
      "createDataSet(num,rep)\n",
      "!grep '>' DataSet208rep2E1R100G100.fa | wc -l\n",
      "runBowtieBuild(num,rep,error,r,g)\n",
      "runBowtieAllParams(num,rep,error,r,g,num,rep,error,r,g)\n",
      "getTruePositivesAllParams(num,rep,error,r,g,\"mouse\")\n",
      "defaultTp[rep],defaultFp[rep] = getTpFp(num,rep,error,r,g,\"default\",num,rep,error,r,g)\n",
      "uniqueTp[rep],uniqueFp[rep] = getTpFp(num,rep,error,r,g,\"unique\",num,rep,error,r,g)\n",
      "multimapTp[rep],multimapFp[rep] = getTpFp(num,rep,error,r,g,\"multimap\",num,rep,error,r,g)\n",
      "print defaultTp, defaultFp, uniqueTp, uniqueFp, multimapTp, multimapFp"
     ],
     "language": "python",
     "metadata": {},
     "outputs": []
    },
    {
     "cell_type": "code",
     "collapsed": false,
     "input": [
      "num = \"208\"\n",
      "rep = \"3\"\n",
      "error = \"1\"\n",
      "r = \"100\"\n",
      "g = \"100\"\n",
      "createDataSet(num,rep)\n",
      "!grep '>' DataSet208rep3E1R100G100.fa | wc -l\n",
      "runBowtieBuild(num,rep,error,r,g)\n",
      "runBowtieAllParams(num,rep,error,r,g,num,rep,error,r,g)\n",
      "getTruePositivesAllParams(num,rep,error,r,g,\"mouse\")\n",
      "defaultTp[rep],defaultFp[rep] = getTpFp(num,rep,error,r,g,\"default\",num,rep,error,r,g)\n",
      "uniqueTp[rep],uniqueFp[rep] = getTpFp(num,rep,error,r,g,\"unique\",num,rep,error,r,g)\n",
      "multimapTp[rep],multimapFp[rep] = getTpFp(num,rep,error,r,g,\"multimap\",num,rep,error,r,g)\n",
      "print defaultTp, defaultFp, uniqueTp, uniqueFp, multimapTp, multimapFp"
     ],
     "language": "python",
     "metadata": {},
     "outputs": []
    },
    {
     "cell_type": "code",
     "collapsed": false,
     "input": [
      "id = \"0800\"\n",
      "defaultAvgTp[id] = sum([defaultTp[\"1\"], defaultTp[\"2\"], defaultTp[\"3\"]]) / 3\n",
      "print \"Average Default True Positive Percentage: \", defaultAvgTp[id]\n",
      "defaultAvgFp[id] = sum([defaultFp[\"1\"], defaultFp[\"2\"], defaultFp[\"3\"]]) / 3\n",
      "print \"Average Default False Positive Percentage: \", defaultAvgFp[id]\n",
      "uniqueAvgTp[id] = sum([uniqueTp[\"1\"], uniqueTp[\"2\"], uniqueTp[\"3\"]]) / 3\n",
      "print \"Average Unique True Positive Percentage: \", uniqueAvgTp[id]\n",
      "uniqueAvgFp[id] = sum([uniqueFp[\"1\"], uniqueFp[\"2\"], uniqueFp[\"3\"]]) / 3\n",
      "print \"Average Unique False Positive Percentage: \", uniqueAvgFp[id]\n",
      "multimapAvgTp[id] = sum([multimapTp[\"1\"], multimapTp[\"2\"], multimapTp[\"3\"]]) / 3\n",
      "print \"Average Multimap True Positive Percentage: \", multimapAvgTp[id]\n",
      "multimapAvgFp[id] = sum([multimapFp[\"1\"], multimapFp[\"2\"], multimapFp[\"3\"]]) / 3\n",
      "print \"Average Multimap False Positive Percentage: \", multimapAvgFp[id]"
     ],
     "language": "python",
     "metadata": {},
     "outputs": []
    },
    {
     "cell_type": "raw",
     "metadata": {},
     "source": [
      "Mouse transcriptome, single end 900 bp reads, 20x expression"
     ]
    },
    {
     "cell_type": "code",
     "collapsed": false,
     "input": [
      "num = \"209\"\n",
      "rep = \"1\"\n",
      "error = \"1\"\n",
      "r = \"100\"\n",
      "g = \"100\"\n",
      "createDataSet(num,rep)\n",
      "!grep '>' DataSet209rep1E1R100G100.fa | wc -l\n",
      "defaultTp = {}\n",
      "defaultFp = {}\n",
      "uniqueTp = {}\n",
      "uniqueFp = {}\n",
      "multimapTp = {}\n",
      "multimapFp = {}\n",
      "runBowtieBuild(num,rep,error,r,g)\n",
      "runBowtieAllParams(num,rep,error,r,g,num,rep,error,r,g)\n",
      "getTruePositivesAllParams(num,rep,error,r,g,\"mouse\")\n",
      "defaultTp[rep],defaultFp[rep] = getTpFp(num,rep,error,r,g,\"default\",num,rep,error,r,g)\n",
      "uniqueTp[rep],uniqueFp[rep] = getTpFp(num,rep,error,r,g,\"unique\",num,rep,error,r,g)\n",
      "multimapTp[rep],multimapFp[rep] = getTpFp(num,rep,error,r,g,\"multimap\",num,rep,error,r,g)\n",
      "print defaultTp, defaultFp, uniqueTp, uniqueFp, multimapTp, multimapFp"
     ],
     "language": "python",
     "metadata": {},
     "outputs": []
    },
    {
     "cell_type": "code",
     "collapsed": false,
     "input": [
      "num = \"209\"\n",
      "rep = \"2\"\n",
      "error = \"1\"\n",
      "r = \"100\"\n",
      "g = \"100\"\n",
      "createDataSet(num,rep)\n",
      "!grep '>' DataSet209rep2E1R100G100.fa | wc -l\n",
      "runBowtieBuild(num,rep,error,r,g)\n",
      "runBowtieAllParams(num,rep,error,r,g,num,rep,error,r,g)\n",
      "getTruePositivesAllParams(num,rep,error,r,g,\"mouse\")\n",
      "defaultTp[rep],defaultFp[rep] = getTpFp(num,rep,error,r,g,\"default\",num,rep,error,r,g)\n",
      "uniqueTp[rep],uniqueFp[rep] = getTpFp(num,rep,error,r,g,\"unique\",num,rep,error,r,g)\n",
      "multimapTp[rep],multimapFp[rep] = getTpFp(num,rep,error,r,g,\"multimap\",num,rep,error,r,g)\n",
      "print defaultTp, defaultFp, uniqueTp, uniqueFp, multimapTp, multimapFp"
     ],
     "language": "python",
     "metadata": {},
     "outputs": []
    },
    {
     "cell_type": "code",
     "collapsed": false,
     "input": [
      "num = \"209\"\n",
      "rep = \"3\"\n",
      "error = \"1\"\n",
      "r = \"100\"\n",
      "g = \"100\"\n",
      "createDataSet(num,rep)\n",
      "!grep '>' DataSet209rep3E1R100G100.fa | wc -l\n",
      "runBowtieBuild(num,rep,error,r,g)\n",
      "runBowtieAllParams(num,rep,error,r,g,num,rep,error,r,g)\n",
      "getTruePositivesAllParams(num,rep,error,r,g,\"mouse\")\n",
      "defaultTp[rep],defaultFp[rep] = getTpFp(num,rep,error,r,g,\"default\",num,rep,error,r,g)\n",
      "uniqueTp[rep],uniqueFp[rep] = getTpFp(num,rep,error,r,g,\"unique\",num,rep,error,r,g)\n",
      "multimapTp[rep],multimapFp[rep] = getTpFp(num,rep,error,r,g,\"multimap\",num,rep,error,r,g)\n",
      "print defaultTp, defaultFp, uniqueTp, uniqueFp, multimapTp, multimapFp"
     ],
     "language": "python",
     "metadata": {},
     "outputs": []
    },
    {
     "cell_type": "code",
     "collapsed": false,
     "input": [
      "id = \"0900\"\n",
      "defaultAvgTp[id] = sum([defaultTp[\"1\"], defaultTp[\"2\"], defaultTp[\"3\"]]) / 3\n",
      "print \"Average Default True Positive Percentage: \", defaultAvgTp[id]\n",
      "defaultAvgFp[id] = sum([defaultFp[\"1\"], defaultFp[\"2\"], defaultFp[\"3\"]]) / 3\n",
      "print \"Average Default False Positive Percentage: \", defaultAvgFp[id]\n",
      "uniqueAvgTp[id] = sum([uniqueTp[\"1\"], uniqueTp[\"2\"], uniqueTp[\"3\"]]) / 3\n",
      "print \"Average Unique True Positive Percentage: \", uniqueAvgTp[id]\n",
      "uniqueAvgFp[id] = sum([uniqueFp[\"1\"], uniqueFp[\"2\"], uniqueFp[\"3\"]]) / 3\n",
      "print \"Average Unique False Positive Percentage: \", uniqueAvgFp[id]\n",
      "multimapAvgTp[id] = sum([multimapTp[\"1\"], multimapTp[\"2\"], multimapTp[\"3\"]]) / 3\n",
      "print \"Average Multimap True Positive Percentage: \", multimapAvgTp[id]\n",
      "multimapAvgFp[id] = sum([multimapFp[\"1\"], multimapFp[\"2\"], multimapFp[\"3\"]]) / 3\n",
      "print \"Average Multimap False Positive Percentage: \", multimapAvgFp[id]"
     ],
     "language": "python",
     "metadata": {},
     "outputs": []
    },
    {
     "cell_type": "raw",
     "metadata": {},
     "source": [
      "Mouse transcriptome, single end 1000 bp reads, 20x expression"
     ]
    },
    {
     "cell_type": "code",
     "collapsed": false,
     "input": [
      "num = \"210\"\n",
      "rep = \"1\"\n",
      "error = \"1\"\n",
      "r = \"100\"\n",
      "g = \"100\"\n",
      "createDataSet(num,rep)\n",
      "!grep '>' DataSet210rep1E1R100G100.fa | wc -l\n",
      "defaultTp = {}\n",
      "defaultFp = {}\n",
      "uniqueTp = {}\n",
      "uniqueFp = {}\n",
      "multimapTp = {}\n",
      "multimapFp = {}\n",
      "runBowtieBuild(num,rep,error,r,g)\n",
      "runBowtieAllParams(num,rep,error,r,g,num,rep,error,r,g)\n",
      "getTruePositivesAllParams(num,rep,error,r,g,\"mouse\")\n",
      "defaultTp[rep],defaultFp[rep] = getTpFp(num,rep,error,r,g,\"default\",num,rep,error,r,g)\n",
      "uniqueTp[rep],uniqueFp[rep] = getTpFp(num,rep,error,r,g,\"unique\",num,rep,error,r,g)\n",
      "multimapTp[rep],multimapFp[rep] = getTpFp(num,rep,error,r,g,\"multimap\",num,rep,error,r,g)\n",
      "print defaultTp, defaultFp, uniqueTp, uniqueFp, multimapTp, multimapFp"
     ],
     "language": "python",
     "metadata": {},
     "outputs": []
    },
    {
     "cell_type": "code",
     "collapsed": false,
     "input": [
      "num = \"210\"\n",
      "rep = \"2\"\n",
      "error = \"1\"\n",
      "r = \"100\"\n",
      "g = \"100\"\n",
      "createDataSet(num,rep)\n",
      "!grep '>' DataSet210rep2E1R100G100.fa | wc -l\n",
      "runBowtieBuild(num,rep,error,r,g)\n",
      "runBowtieAllParams(num,rep,error,r,g,num,rep,error,r,g)\n",
      "getTruePositivesAllParams(num,rep,error,r,g,\"mouse\")\n",
      "defaultTp[rep],defaultFp[rep] = getTpFp(num,rep,error,r,g,\"default\",num,rep,error,r,g)\n",
      "uniqueTp[rep],uniqueFp[rep] = getTpFp(num,rep,error,r,g,\"unique\",num,rep,error,r,g)\n",
      "multimapTp[rep],multimapFp[rep] = getTpFp(num,rep,error,r,g,\"multimap\",num,rep,error,r,g)\n",
      "print defaultTp, defaultFp, uniqueTp, uniqueFp, multimapTp, multimapFp"
     ],
     "language": "python",
     "metadata": {},
     "outputs": []
    },
    {
     "cell_type": "code",
     "collapsed": false,
     "input": [
      "num = \"210\"\n",
      "rep = \"3\"\n",
      "error = \"1\"\n",
      "r = \"100\"\n",
      "g = \"100\"\n",
      "createDataSet(num,rep)\n",
      "!grep '>' DataSet210rep3E1R100G100.fa | wc -l\n",
      "runBowtieBuild(num,rep,error,r,g)\n",
      "runBowtieAllParams(num,rep,error,r,g,num,rep,error,r,g)\n",
      "getTruePositivesAllParams(num,rep,error,r,g,\"mouse\")\n",
      "defaultTp[rep],defaultFp[rep] = getTpFp(num,rep,error,r,g,\"default\",num,rep,error,r,g)\n",
      "uniqueTp[rep],uniqueFp[rep] = getTpFp(num,rep,error,r,g,\"unique\",num,rep,error,r,g)\n",
      "multimapTp[rep],multimapFp[rep] = getTpFp(num,rep,error,r,g,\"multimap\",num,rep,error,r,g)\n",
      "print defaultTp, defaultFp, uniqueTp, uniqueFp, multimapTp, multimapFp"
     ],
     "language": "python",
     "metadata": {},
     "outputs": []
    },
    {
     "cell_type": "code",
     "collapsed": false,
     "input": [
      "id = \"1000\"\n",
      "defaultAvgTp[id] = sum([defaultTp[\"1\"], defaultTp[\"2\"], defaultTp[\"3\"]]) / 3\n",
      "print \"Average Default True Positive Percentage: \", defaultAvgTp[id]\n",
      "defaultAvgFp[id] = sum([defaultFp[\"1\"], defaultFp[\"2\"], defaultFp[\"3\"]]) / 3\n",
      "print \"Average Default False Positive Percentage: \", defaultAvgFp[id]\n",
      "uniqueAvgTp[id] = sum([uniqueTp[\"1\"], uniqueTp[\"2\"], uniqueTp[\"3\"]]) / 3\n",
      "print \"Average Unique True Positive Percentage: \", uniqueAvgTp[id]\n",
      "uniqueAvgFp[id] = sum([uniqueFp[\"1\"], uniqueFp[\"2\"], uniqueFp[\"3\"]]) / 3\n",
      "print \"Average Unique False Positive Percentage: \", uniqueAvgFp[id]\n",
      "multimapAvgTp[id] = sum([multimapTp[\"1\"], multimapTp[\"2\"], multimapTp[\"3\"]]) / 3\n",
      "print \"Average Multimap True Positive Percentage: \", multimapAvgTp[id]\n",
      "multimapAvgFp[id] = sum([multimapFp[\"1\"], multimapFp[\"2\"], multimapFp[\"3\"]]) / 3\n",
      "print \"Average Multimap False Positive Percentage: \", multimapAvgFp[id]"
     ],
     "language": "python",
     "metadata": {},
     "outputs": []
    },
    {
     "cell_type": "heading",
     "level": 2,
     "metadata": {},
     "source": [
      "Test 9: Mapping accuracy of reads from 100% expressed mouse transcriptome at progressively longer fragment lengths, paired end 100:X:100 bp reads, 20x"
     ]
    },
    {
     "cell_type": "raw",
     "metadata": {},
     "source": [
      "Mouse transcriptome, paired end 100:100:100 bp reads, 300 bp fragments, 20x expression"
     ]
    },
    {
     "cell_type": "code",
     "collapsed": false,
     "input": [
      "num = \"281\"\n",
      "rep = \"1\"\n",
      "error = \"1\"\n",
      "r = \"100\"\n",
      "g = \"100\"\n",
      "createDataSet(num,rep)\n",
      "!grep '>' DataSet281rep1E1R100G100.fa | wc -l\n",
      "defaultTp = {}\n",
      "defaultFp = {}\n",
      "uniqueTp = {}\n",
      "uniqueFp = {}\n",
      "multimapTp = {}\n",
      "multimapFp = {}\n",
      "runBowtieBuild(num,rep,error,r,g)\n",
      "runBowtieAllParamsPaired(num,rep,error,r,g,num,rep,error,r,g)\n",
      "getTruePositivesAllParamsPaired(num,rep,error,r,g,\"mouse\")\n",
      "defaultTp[rep],defaultFp[rep] = getTpFpPairedEnds(num,rep,error,r,g,\"default\",num,rep,error,r,g)\n",
      "uniqueTp[rep],uniqueFp[rep] = getTpFpPairedEnds(num,rep,error,r,g,\"unique\",num,rep,error,r,g)\n",
      "multimapTp[rep],multimapFp[rep] = getTpFpPairedEnds(num,rep,error,r,g,\"multimap\",num,rep,error,r,g)\n",
      "print defaultTp, defaultFp, uniqueTp, uniqueFp, multimapTp, multimapFp"
     ],
     "language": "python",
     "metadata": {},
     "outputs": []
    },
    {
     "cell_type": "code",
     "collapsed": false,
     "input": [
      "num = \"281\"\n",
      "rep = \"2\"\n",
      "error = \"1\"\n",
      "r = \"100\"\n",
      "g = \"100\"\n",
      "createDataSet(num,rep)\n",
      "!grep '>' DataSet281rep2E1R100G100.fa | wc -l\n",
      "runBowtieBuild(num,rep,error,r,g)\n",
      "runBowtieAllParamsPaired(num,rep,error,r,g,num,rep,error,r,g)\n",
      "getTruePositivesAllParamsPaired(num,rep,error,r,g,\"mouse\")\n",
      "defaultTp[rep],defaultFp[rep] = getTpFpPairedEnds(num,rep,error,r,g,\"default\",num,rep,error,r,g)\n",
      "uniqueTp[rep],uniqueFp[rep] = getTpFpPairedEnds(num,rep,error,r,g,\"unique\",num,rep,error,r,g)\n",
      "multimapTp[rep],multimapFp[rep] = getTpFpPairedEnds(num,rep,error,r,g,\"multimap\",num,rep,error,r,g)\n",
      "print defaultTp, defaultFp, uniqueTp, uniqueFp, multimapTp, multimapFp"
     ],
     "language": "python",
     "metadata": {},
     "outputs": []
    },
    {
     "cell_type": "code",
     "collapsed": false,
     "input": [
      "num = \"281\"\n",
      "rep = \"3\"\n",
      "error = \"1\"\n",
      "r = \"100\"\n",
      "g = \"100\"\n",
      "createDataSet(num,rep)\n",
      "!grep '>' DataSet281rep3E1R100G100.fa | wc -l\n",
      "runBowtieBuild(num,rep,error,r,g)\n",
      "runBowtieAllParamsPaired(num,rep,error,r,g,num,rep,error,r,g)\n",
      "getTruePositivesAllParamsPaired(num,rep,error,r,g,\"mouse\")\n",
      "defaultTp[rep],defaultFp[rep] = getTpFpPairedEnds(num,rep,error,r,g,\"default\",num,rep,error,r,g)\n",
      "uniqueTp[rep],uniqueFp[rep] = getTpFpPairedEnds(num,rep,error,r,g,\"unique\",num,rep,error,r,g)\n",
      "multimapTp[rep],multimapFp[rep] = getTpFpPairedEnds(num,rep,error,r,g,\"multimap\",num,rep,error,r,g)\n",
      "print defaultTp, defaultFp, uniqueTp, uniqueFp, multimapTp, multimapFp"
     ],
     "language": "python",
     "metadata": {},
     "outputs": []
    },
    {
     "cell_type": "code",
     "collapsed": false,
     "input": [
      "id = \"300\"\n",
      "defaultAvgTp[id] = sum([defaultTp[\"1\"], defaultTp[\"2\"], defaultTp[\"3\"]]) / 3\n",
      "print \"Average Default True Positive Percentage: \", defaultAvgTp[id]\n",
      "defaultAvgFp[id] = sum([defaultFp[\"1\"], defaultFp[\"2\"], defaultFp[\"3\"]]) / 3\n",
      "print \"Average Default False Positive Percentage: \", defaultAvgFp[id]\n",
      "uniqueAvgTp[id] = sum([uniqueTp[\"1\"], uniqueTp[\"2\"], uniqueTp[\"3\"]]) / 3\n",
      "print \"Average Unique True Positive Percentage: \", uniqueAvgTp[id]\n",
      "uniqueAvgFp[id] = sum([uniqueFp[\"1\"], uniqueFp[\"2\"], uniqueFp[\"3\"]]) / 3\n",
      "print \"Average Unique False Positive Percentage: \", uniqueAvgFp[id]\n",
      "multimapAvgTp[id] = sum([multimapTp[\"1\"], multimapTp[\"2\"], multimapTp[\"3\"]]) / 3\n",
      "print \"Average Multimap True Positive Percentage: \", multimapAvgTp[id]\n",
      "multimapAvgFp[id] = sum([multimapFp[\"1\"], multimapFp[\"2\"], multimapFp[\"3\"]]) / 3\n",
      "print \"Average Multimap False Positive Percentage: \", multimapAvgFp[id]"
     ],
     "language": "python",
     "metadata": {},
     "outputs": []
    },
    {
     "cell_type": "raw",
     "metadata": {},
     "source": [
      "Mouse transcriptome, paired end 100:200:100 bp reads, 400 bp fragments, 20x expression"
     ]
    },
    {
     "cell_type": "code",
     "collapsed": false,
     "input": [
      "num = \"280\"\n",
      "rep = \"1\"\n",
      "error = \"1\"\n",
      "r = \"100\"\n",
      "g = \"100\"\n",
      "createDataSet(num,rep)\n",
      "!grep '>' DataSet280rep1E1R100G100.fa | wc -l\n",
      "defaultTp = {}\n",
      "defaultFp = {}\n",
      "uniqueTp = {}\n",
      "uniqueFp = {}\n",
      "multimapTp = {}\n",
      "multimapFp = {}\n",
      "runBowtieBuild(num,rep,error,r,g)\n",
      "runBowtieAllParamsPaired(num,rep,error,r,g,num,rep,error,r,g)\n",
      "getTruePositivesAllParamsPaired(num,rep,error,r,g,\"mouse\")\n",
      "defaultTp[rep],defaultFp[rep] = getTpFpPairedEnds(num,rep,error,r,g,\"default\",num,rep,error,r,g)\n",
      "uniqueTp[rep],uniqueFp[rep] = getTpFpPairedEnds(num,rep,error,r,g,\"unique\",num,rep,error,r,g)\n",
      "multimapTp[rep],multimapFp[rep] = getTpFpPairedEnds(num,rep,error,r,g,\"multimap\",num,rep,error,r,g)\n",
      "print defaultTp, defaultFp, uniqueTp, uniqueFp, multimapTp, multimapFp"
     ],
     "language": "python",
     "metadata": {},
     "outputs": []
    },
    {
     "cell_type": "code",
     "collapsed": false,
     "input": [
      "num = \"280\"\n",
      "rep = \"2\"\n",
      "error = \"1\"\n",
      "r = \"100\"\n",
      "g = \"100\"\n",
      "createDataSet(num,rep)\n",
      "!grep '>' DataSet280rep2E1R100G100.fa | wc -l\n",
      "runBowtieBuild(num,rep,error,r,g)\n",
      "runBowtieAllParamsPaired(num,rep,error,r,g,num,rep,error,r,g)\n",
      "getTruePositivesAllParamsPaired(num,rep,error,r,g,\"mouse\")\n",
      "defaultTp[rep],defaultFp[rep] = getTpFpPairedEnds(num,rep,error,r,g,\"default\",num,rep,error,r,g)\n",
      "uniqueTp[rep],uniqueFp[rep] = getTpFpPairedEnds(num,rep,error,r,g,\"unique\",num,rep,error,r,g)\n",
      "multimapTp[rep],multimapFp[rep] = getTpFpPairedEnds(num,rep,error,r,g,\"multimap\",num,rep,error,r,g)\n",
      "print defaultTp, defaultFp, uniqueTp, uniqueFp, multimapTp, multimapFp"
     ],
     "language": "python",
     "metadata": {},
     "outputs": []
    },
    {
     "cell_type": "code",
     "collapsed": false,
     "input": [
      "num = \"280\"\n",
      "rep = \"3\"\n",
      "error = \"1\"\n",
      "r = \"100\"\n",
      "g = \"100\"\n",
      "createDataSet(num,rep)\n",
      "!grep '>' DataSet280rep3E1R100G100.fa | wc -l\n",
      "runBowtieBuild(num,rep,error,r,g)\n",
      "runBowtieAllParamsPaired(num,rep,error,r,g,num,rep,error,r,g)\n",
      "getTruePositivesAllParamsPaired(num,rep,error,r,g,\"mouse\")\n",
      "defaultTp[rep],defaultFp[rep] = getTpFpPairedEnds(num,rep,error,r,g,\"default\",num,rep,error,r,g)\n",
      "uniqueTp[rep],uniqueFp[rep] = getTpFpPairedEnds(num,rep,error,r,g,\"unique\",num,rep,error,r,g)\n",
      "multimapTp[rep],multimapFp[rep] = getTpFpPairedEnds(num,rep,error,r,g,\"multimap\",num,rep,error,r,g)\n",
      "print defaultTp, defaultFp, uniqueTp, uniqueFp, multimapTp, multimapFp"
     ],
     "language": "python",
     "metadata": {},
     "outputs": []
    },
    {
     "cell_type": "code",
     "collapsed": false,
     "input": [
      "id = \"400\"\n",
      "defaultAvgTp[id] = sum([defaultTp[\"1\"], defaultTp[\"2\"], defaultTp[\"3\"]]) / 3\n",
      "print \"Average Default True Positive Percentage: \", defaultAvgTp[id]\n",
      "defaultAvgFp[id] = sum([defaultFp[\"1\"], defaultFp[\"2\"], defaultFp[\"3\"]]) / 3\n",
      "print \"Average Default False Positive Percentage: \", defaultAvgFp[id]\n",
      "uniqueAvgTp[id] = sum([uniqueTp[\"1\"], uniqueTp[\"2\"], uniqueTp[\"3\"]]) / 3\n",
      "print \"Average Unique True Positive Percentage: \", uniqueAvgTp[id]\n",
      "uniqueAvgFp[id] = sum([uniqueFp[\"1\"], uniqueFp[\"2\"], uniqueFp[\"3\"]]) / 3\n",
      "print \"Average Unique False Positive Percentage: \", uniqueAvgFp[id]\n",
      "multimapAvgTp[id] = sum([multimapTp[\"1\"], multimapTp[\"2\"], multimapTp[\"3\"]]) / 3\n",
      "print \"Average Multimap True Positive Percentage: \", multimapAvgTp[id]\n",
      "multimapAvgFp[id] = sum([multimapFp[\"1\"], multimapFp[\"2\"], multimapFp[\"3\"]]) / 3\n",
      "print \"Average Multimap False Positive Percentage: \", multimapAvgFp[id]"
     ],
     "language": "python",
     "metadata": {},
     "outputs": []
    },
    {
     "cell_type": "raw",
     "metadata": {},
     "source": [
      "Mouse transcriptome, paired end 100:300:100 bp reads, 500 bp fragments, 20x expression"
     ]
    },
    {
     "cell_type": "code",
     "collapsed": false,
     "input": [
      "num = \"279\"\n",
      "rep = \"1\"\n",
      "error = \"1\"\n",
      "r = \"100\"\n",
      "g = \"100\"\n",
      "createDataSet(num,rep)\n",
      "!grep '>' DataSet279rep1E1R100G100.fa | wc -l\n",
      "defaultTp = {}\n",
      "defaultFp = {}\n",
      "uniqueTp = {}\n",
      "uniqueFp = {}\n",
      "multimapTp = {}\n",
      "multimapFp = {}\n",
      "runBowtieBuild(num,rep,error,r,g)\n",
      "runBowtieAllParamsPaired(num,rep,error,r,g,num,rep,error,r,g)\n",
      "getTruePositivesAllParamsPaired(num,rep,error,r,g,\"mouse\")\n",
      "defaultTp[rep],defaultFp[rep] = getTpFpPairedEnds(num,rep,error,r,g,\"default\",num,rep,error,r,g)\n",
      "uniqueTp[rep],uniqueFp[rep] = getTpFpPairedEnds(num,rep,error,r,g,\"unique\",num,rep,error,r,g)\n",
      "multimapTp[rep],multimapFp[rep] = getTpFpPairedEnds(num,rep,error,r,g,\"multimap\",num,rep,error,r,g)\n",
      "print defaultTp, defaultFp, uniqueTp, uniqueFp, multimapTp, multimapFp"
     ],
     "language": "python",
     "metadata": {},
     "outputs": []
    },
    {
     "cell_type": "code",
     "collapsed": false,
     "input": [
      "num = \"279\"\n",
      "rep = \"2\"\n",
      "error = \"1\"\n",
      "r = \"100\"\n",
      "g = \"100\"\n",
      "createDataSet(num,rep)\n",
      "!grep '>' DataSet279rep2E1R100G100.fa | wc -l\n",
      "runBowtieBuild(num,rep,error,r,g)\n",
      "runBowtieAllParamsPaired(num,rep,error,r,g,num,rep,error,r,g)\n",
      "getTruePositivesAllParamsPaired(num,rep,error,r,g,\"mouse\")\n",
      "defaultTp[rep],defaultFp[rep] = getTpFpPairedEnds(num,rep,error,r,g,\"default\",num,rep,error,r,g)\n",
      "uniqueTp[rep],uniqueFp[rep] = getTpFpPairedEnds(num,rep,error,r,g,\"unique\",num,rep,error,r,g)\n",
      "multimapTp[rep],multimapFp[rep] = getTpFpPairedEnds(num,rep,error,r,g,\"multimap\",num,rep,error,r,g)\n",
      "print defaultTp, defaultFp, uniqueTp, uniqueFp, multimapTp, multimapFp"
     ],
     "language": "python",
     "metadata": {},
     "outputs": []
    },
    {
     "cell_type": "code",
     "collapsed": false,
     "input": [
      "num = \"279\"\n",
      "rep = \"3\"\n",
      "error = \"1\"\n",
      "r = \"100\"\n",
      "g = \"100\"\n",
      "createDataSet(num,rep)\n",
      "!grep '>' DataSet279rep3E1R100G100.fa | wc -l\n",
      "runBowtieBuild(num,rep,error,r,g)\n",
      "runBowtieAllParamsPaired(num,rep,error,r,g,num,rep,error,r,g)\n",
      "getTruePositivesAllParamsPaired(num,rep,error,r,g,\"mouse\")\n",
      "defaultTp[rep],defaultFp[rep] = getTpFpPairedEnds(num,rep,error,r,g,\"default\",num,rep,error,r,g)\n",
      "uniqueTp[rep],uniqueFp[rep] = getTpFpPairedEnds(num,rep,error,r,g,\"unique\",num,rep,error,r,g)\n",
      "multimapTp[rep],multimapFp[rep] = getTpFpPairedEnds(num,rep,error,r,g,\"multimap\",num,rep,error,r,g)\n",
      "print defaultTp, defaultFp, uniqueTp, uniqueFp, multimapTp, multimapFp"
     ],
     "language": "python",
     "metadata": {},
     "outputs": []
    },
    {
     "cell_type": "code",
     "collapsed": false,
     "input": [
      "id = \"500\"\n",
      "defaultAvgTp[id] = sum([defaultTp[\"1\"], defaultTp[\"2\"], defaultTp[\"3\"]]) / 3\n",
      "print \"Average Default True Positive Percentage: \", defaultAvgTp[id]\n",
      "defaultAvgFp[id] = sum([defaultFp[\"1\"], defaultFp[\"2\"], defaultFp[\"3\"]]) / 3\n",
      "print \"Average Default False Positive Percentage: \", defaultAvgFp[id]\n",
      "uniqueAvgTp[id] = sum([uniqueTp[\"1\"], uniqueTp[\"2\"], uniqueTp[\"3\"]]) / 3\n",
      "print \"Average Unique True Positive Percentage: \", uniqueAvgTp[id]\n",
      "uniqueAvgFp[id] = sum([uniqueFp[\"1\"], uniqueFp[\"2\"], uniqueFp[\"3\"]]) / 3\n",
      "print \"Average Unique False Positive Percentage: \", uniqueAvgFp[id]\n",
      "multimapAvgTp[id] = sum([multimapTp[\"1\"], multimapTp[\"2\"], multimapTp[\"3\"]]) / 3\n",
      "print \"Average Multimap True Positive Percentage: \", multimapAvgTp[id]\n",
      "multimapAvgFp[id] = sum([multimapFp[\"1\"], multimapFp[\"2\"], multimapFp[\"3\"]]) / 3\n",
      "print \"Average Multimap False Positive Percentage: \", multimapAvgFp[id]"
     ],
     "language": "python",
     "metadata": {},
     "outputs": []
    },
    {
     "cell_type": "raw",
     "metadata": {},
     "source": [
      "Mouse transcriptome, paired end 100:400:100 bp reads, 600 bp fragments, 20x expression"
     ]
    },
    {
     "cell_type": "code",
     "collapsed": false,
     "input": [
      "num = \"278\"\n",
      "rep = \"1\"\n",
      "error = \"1\"\n",
      "r = \"100\"\n",
      "g = \"100\"\n",
      "createDataSet(num,rep)\n",
      "!grep '>' DataSet278rep1E1R100G100.fa | wc -l\n",
      "defaultTp = {}\n",
      "defaultFp = {}\n",
      "uniqueTp = {}\n",
      "uniqueFp = {}\n",
      "multimapTp = {}\n",
      "multimapFp = {}\n",
      "runBowtieBuild(num,rep,error,r,g)\n",
      "runBowtieAllParamsPaired(num,rep,error,r,g,num,rep,error,r,g)\n",
      "getTruePositivesAllParamsPaired(num,rep,error,r,g,\"mouse\")\n",
      "defaultTp[rep],defaultFp[rep] = getTpFpPairedEnds(num,rep,error,r,g,\"default\",num,rep,error,r,g)\n",
      "uniqueTp[rep],uniqueFp[rep] = getTpFpPairedEnds(num,rep,error,r,g,\"unique\",num,rep,error,r,g)\n",
      "multimapTp[rep],multimapFp[rep] = getTpFpPairedEnds(num,rep,error,r,g,\"multimap\",num,rep,error,r,g)\n",
      "print defaultTp, defaultFp, uniqueTp, uniqueFp, multimapTp, multimapFp"
     ],
     "language": "python",
     "metadata": {},
     "outputs": []
    },
    {
     "cell_type": "code",
     "collapsed": false,
     "input": [
      "num = \"278\"\n",
      "rep = \"2\"\n",
      "error = \"1\"\n",
      "r = \"100\"\n",
      "g = \"100\"\n",
      "createDataSet(num,rep)\n",
      "!grep '>' DataSet278rep2E1R100G100.fa | wc -l\n",
      "runBowtieBuild(num,rep,error,r,g)\n",
      "runBowtieAllParamsPaired(num,rep,error,r,g,num,rep,error,r,g)\n",
      "getTruePositivesAllParamsPaired(num,rep,error,r,g,\"mouse\")\n",
      "defaultTp[rep],defaultFp[rep] = getTpFpPairedEnds(num,rep,error,r,g,\"default\",num,rep,error,r,g)\n",
      "uniqueTp[rep],uniqueFp[rep] = getTpFpPairedEnds(num,rep,error,r,g,\"unique\",num,rep,error,r,g)\n",
      "multimapTp[rep],multimapFp[rep] = getTpFpPairedEnds(num,rep,error,r,g,\"multimap\",num,rep,error,r,g)\n",
      "print defaultTp, defaultFp, uniqueTp, uniqueFp, multimapTp, multimapFp"
     ],
     "language": "python",
     "metadata": {},
     "outputs": []
    },
    {
     "cell_type": "code",
     "collapsed": false,
     "input": [
      "num = \"278\"\n",
      "rep = \"3\"\n",
      "error = \"1\"\n",
      "r = \"100\"\n",
      "g = \"100\"\n",
      "createDataSet(num,rep)\n",
      "!grep '>' DataSet278rep3E1R100G100.fa | wc -l\n",
      "runBowtieBuild(num,rep,error,r,g)\n",
      "runBowtieAllParamsPaired(num,rep,error,r,g,num,rep,error,r,g)\n",
      "getTruePositivesAllParamsPaired(num,rep,error,r,g,\"mouse\")\n",
      "defaultTp[rep],defaultFp[rep] = getTpFpPairedEnds(num,rep,error,r,g,\"default\",num,rep,error,r,g)\n",
      "uniqueTp[rep],uniqueFp[rep] = getTpFpPairedEnds(num,rep,error,r,g,\"unique\",num,rep,error,r,g)\n",
      "multimapTp[rep],multimapFp[rep] = getTpFpPairedEnds(num,rep,error,r,g,\"multimap\",num,rep,error,r,g)\n",
      "print defaultTp, defaultFp, uniqueTp, uniqueFp, multimapTp, multimapFp"
     ],
     "language": "python",
     "metadata": {},
     "outputs": []
    },
    {
     "cell_type": "code",
     "collapsed": false,
     "input": [
      "id = \"600\"\n",
      "defaultAvgTp[id] = sum([defaultTp[\"1\"], defaultTp[\"2\"], defaultTp[\"3\"]]) / 3\n",
      "print \"Average Default True Positive Percentage: \", defaultAvgTp[id]\n",
      "defaultAvgFp[id] = sum([defaultFp[\"1\"], defaultFp[\"2\"], defaultFp[\"3\"]]) / 3\n",
      "print \"Average Default False Positive Percentage: \", defaultAvgFp[id]\n",
      "uniqueAvgTp[id] = sum([uniqueTp[\"1\"], uniqueTp[\"2\"], uniqueTp[\"3\"]]) / 3\n",
      "print \"Average Unique True Positive Percentage: \", uniqueAvgTp[id]\n",
      "uniqueAvgFp[id] = sum([uniqueFp[\"1\"], uniqueFp[\"2\"], uniqueFp[\"3\"]]) / 3\n",
      "print \"Average Unique False Positive Percentage: \", uniqueAvgFp[id]\n",
      "multimapAvgTp[id] = sum([multimapTp[\"1\"], multimapTp[\"2\"], multimapTp[\"3\"]]) / 3\n",
      "print \"Average Multimap True Positive Percentage: \", multimapAvgTp[id]\n",
      "multimapAvgFp[id] = sum([multimapFp[\"1\"], multimapFp[\"2\"], multimapFp[\"3\"]]) / 3\n",
      "print \"Average Multimap False Positive Percentage: \", multimapAvgFp[id]"
     ],
     "language": "python",
     "metadata": {},
     "outputs": []
    },
    {
     "cell_type": "raw",
     "metadata": {},
     "source": [
      "Mouse transcriptome, paired end 100:500:100 bp reads, 700 bp fragments, 20x expression"
     ]
    },
    {
     "cell_type": "code",
     "collapsed": false,
     "input": [
      "num = \"277\"\n",
      "rep = \"1\"\n",
      "error = \"1\"\n",
      "r = \"100\"\n",
      "g = \"100\"\n",
      "createDataSet(num,rep)\n",
      "!grep '>' DataSet277rep1E1R100G100.fa | wc -l\n",
      "defaultTp = {}\n",
      "defaultFp = {}\n",
      "uniqueTp = {}\n",
      "uniqueFp = {}\n",
      "multimapTp = {}\n",
      "multimapFp = {}\n",
      "runBowtieBuild(num,rep,error,r,g)\n",
      "runBowtieAllParamsPaired(num,rep,error,r,g,num,rep,error,r,g)\n",
      "getTruePositivesAllParamsPaired(num,rep,error,r,g,\"mouse\")\n",
      "defaultTp[rep],defaultFp[rep] = getTpFpPairedEnds(num,rep,error,r,g,\"default\",num,rep,error,r,g)\n",
      "uniqueTp[rep],uniqueFp[rep] = getTpFpPairedEnds(num,rep,error,r,g,\"unique\",num,rep,error,r,g)\n",
      "multimapTp[rep],multimapFp[rep] = getTpFpPairedEnds(num,rep,error,r,g,\"multimap\",num,rep,error,r,g)\n",
      "print defaultTp, defaultFp, uniqueTp, uniqueFp, multimapTp, multimapFp"
     ],
     "language": "python",
     "metadata": {},
     "outputs": []
    },
    {
     "cell_type": "code",
     "collapsed": false,
     "input": [
      "num = \"277\"\n",
      "rep = \"2\"\n",
      "error = \"1\"\n",
      "r = \"100\"\n",
      "g = \"100\"\n",
      "createDataSet(num,rep)\n",
      "!grep '>' DataSet277rep2E1R100G100.fa | wc -l\n",
      "runBowtieBuild(num,rep,error,r,g)\n",
      "runBowtieAllParamsPaired(num,rep,error,r,g,num,rep,error,r,g)\n",
      "getTruePositivesAllParamsPaired(num,rep,error,r,g,\"mouse\")\n",
      "defaultTp[rep],defaultFp[rep] = getTpFpPairedEnds(num,rep,error,r,g,\"default\",num,rep,error,r,g)\n",
      "uniqueTp[rep],uniqueFp[rep] = getTpFpPairedEnds(num,rep,error,r,g,\"unique\",num,rep,error,r,g)\n",
      "multimapTp[rep],multimapFp[rep] = getTpFpPairedEnds(num,rep,error,r,g,\"multimap\",num,rep,error,r,g)\n",
      "print defaultTp, defaultFp, uniqueTp, uniqueFp, multimapTp, multimapFp"
     ],
     "language": "python",
     "metadata": {},
     "outputs": []
    },
    {
     "cell_type": "code",
     "collapsed": false,
     "input": [
      "num = \"277\"\n",
      "rep = \"3\"\n",
      "error = \"1\"\n",
      "r = \"100\"\n",
      "g = \"100\"\n",
      "createDataSet(num,rep)\n",
      "!grep '>' DataSet277rep3E1R100G100.fa | wc -l\n",
      "runBowtieBuild(num,rep,error,r,g)\n",
      "runBowtieAllParamsPaired(num,rep,error,r,g,num,rep,error,r,g)\n",
      "getTruePositivesAllParamsPaired(num,rep,error,r,g,\"mouse\")\n",
      "defaultTp[rep],defaultFp[rep] = getTpFpPairedEnds(num,rep,error,r,g,\"default\",num,rep,error,r,g)\n",
      "uniqueTp[rep],uniqueFp[rep] = getTpFpPairedEnds(num,rep,error,r,g,\"unique\",num,rep,error,r,g)\n",
      "multimapTp[rep],multimapFp[rep] = getTpFpPairedEnds(num,rep,error,r,g,\"multimap\",num,rep,error,r,g)\n",
      "print defaultTp, defaultFp, uniqueTp, uniqueFp, multimapTp, multimapFp"
     ],
     "language": "python",
     "metadata": {},
     "outputs": []
    },
    {
     "cell_type": "code",
     "collapsed": false,
     "input": [
      "id = \"700\"\n",
      "defaultAvgTp[id] = sum([defaultTp[\"1\"], defaultTp[\"2\"], defaultTp[\"3\"]]) / 3\n",
      "print \"Average Default True Positive Percentage: \", defaultAvgTp[id]\n",
      "defaultAvgFp[id] = sum([defaultFp[\"1\"], defaultFp[\"2\"], defaultFp[\"3\"]]) / 3\n",
      "print \"Average Default False Positive Percentage: \", defaultAvgFp[id]\n",
      "uniqueAvgTp[id] = sum([uniqueTp[\"1\"], uniqueTp[\"2\"], uniqueTp[\"3\"]]) / 3\n",
      "print \"Average Unique True Positive Percentage: \", uniqueAvgTp[id]\n",
      "uniqueAvgFp[id] = sum([uniqueFp[\"1\"], uniqueFp[\"2\"], uniqueFp[\"3\"]]) / 3\n",
      "print \"Average Unique False Positive Percentage: \", uniqueAvgFp[id]\n",
      "multimapAvgTp[id] = sum([multimapTp[\"1\"], multimapTp[\"2\"], multimapTp[\"3\"]]) / 3\n",
      "print \"Average Multimap True Positive Percentage: \", multimapAvgTp[id]\n",
      "multimapAvgFp[id] = sum([multimapFp[\"1\"], multimapFp[\"2\"], multimapFp[\"3\"]]) / 3\n",
      "print \"Average Multimap False Positive Percentage: \", multimapAvgFp[id]"
     ],
     "language": "python",
     "metadata": {},
     "outputs": []
    },
    {
     "cell_type": "raw",
     "metadata": {},
     "source": [
      "Mouse transcriptome, paired end 100:600:100 bp reads, 800 bp fragments, 20x expression"
     ]
    },
    {
     "cell_type": "code",
     "collapsed": false,
     "input": [
      "num = \"276\"\n",
      "rep = \"1\"\n",
      "error = \"1\"\n",
      "r = \"100\"\n",
      "g = \"100\"\n",
      "createDataSet(num,rep)\n",
      "!grep '>' DataSet276rep1E1R100G100.fa | wc -l\n",
      "defaultTp = {}\n",
      "defaultFp = {}\n",
      "uniqueTp = {}\n",
      "uniqueFp = {}\n",
      "multimapTp = {}\n",
      "multimapFp = {}\n",
      "runBowtieBuild(num,rep,error,r,g)\n",
      "runBowtieAllParamsPaired(num,rep,error,r,g,num,rep,error,r,g)\n",
      "getTruePositivesAllParamsPaired(num,rep,error,r,g,\"mouse\")\n",
      "defaultTp[rep],defaultFp[rep] = getTpFpPairedEnds(num,rep,error,r,g,\"default\",num,rep,error,r,g)\n",
      "uniqueTp[rep],uniqueFp[rep] = getTpFpPairedEnds(num,rep,error,r,g,\"unique\",num,rep,error,r,g)\n",
      "multimapTp[rep],multimapFp[rep] = getTpFpPairedEnds(num,rep,error,r,g,\"multimap\",num,rep,error,r,g)\n",
      "print defaultTp, defaultFp, uniqueTp, uniqueFp, multimapTp, multimapFp"
     ],
     "language": "python",
     "metadata": {},
     "outputs": []
    },
    {
     "cell_type": "code",
     "collapsed": false,
     "input": [
      "num = \"276\"\n",
      "rep = \"2\"\n",
      "error = \"1\"\n",
      "r = \"100\"\n",
      "g = \"100\"\n",
      "createDataSet(num,rep)\n",
      "!grep '>' DataSet276rep2E1R100G100.fa | wc -l\n",
      "runBowtieBuild(num,rep,error,r,g)\n",
      "runBowtieAllParamsPaired(num,rep,error,r,g,num,rep,error,r,g)\n",
      "getTruePositivesAllParamsPaired(num,rep,error,r,g,\"mouse\")\n",
      "defaultTp[rep],defaultFp[rep] = getTpFpPairedEnds(num,rep,error,r,g,\"default\",num,rep,error,r,g)\n",
      "uniqueTp[rep],uniqueFp[rep] = getTpFpPairedEnds(num,rep,error,r,g,\"unique\",num,rep,error,r,g)\n",
      "multimapTp[rep],multimapFp[rep] = getTpFpPairedEnds(num,rep,error,r,g,\"multimap\",num,rep,error,r,g)\n",
      "print defaultTp, defaultFp, uniqueTp, uniqueFp, multimapTp, multimapFp"
     ],
     "language": "python",
     "metadata": {},
     "outputs": []
    },
    {
     "cell_type": "code",
     "collapsed": false,
     "input": [
      "num = \"276\"\n",
      "rep = \"3\"\n",
      "error = \"1\"\n",
      "r = \"100\"\n",
      "g = \"100\"\n",
      "createDataSet(num,rep)\n",
      "!grep '>' DataSet276rep3E1R100G100.fa | wc -l\n",
      "runBowtieBuild(num,rep,error,r,g)\n",
      "runBowtieAllParamsPaired(num,rep,error,r,g,num,rep,error,r,g)\n",
      "getTruePositivesAllParamsPaired(num,rep,error,r,g,\"mouse\")\n",
      "defaultTp[rep],defaultFp[rep] = getTpFpPairedEnds(num,rep,error,r,g,\"default\",num,rep,error,r,g)\n",
      "uniqueTp[rep],uniqueFp[rep] = getTpFpPairedEnds(num,rep,error,r,g,\"unique\",num,rep,error,r,g)\n",
      "multimapTp[rep],multimapFp[rep] = getTpFpPairedEnds(num,rep,error,r,g,\"multimap\",num,rep,error,r,g)\n",
      "print defaultTp, defaultFp, uniqueTp, uniqueFp, multimapTp, multimapFp"
     ],
     "language": "python",
     "metadata": {},
     "outputs": []
    },
    {
     "cell_type": "code",
     "collapsed": false,
     "input": [
      "id = \"800\"\n",
      "defaultAvgTp[id] = sum([defaultTp[\"1\"], defaultTp[\"2\"], defaultTp[\"3\"]]) / 3\n",
      "print \"Average Default True Positive Percentage: \", defaultAvgTp[id]\n",
      "defaultAvgFp[id] = sum([defaultFp[\"1\"], defaultFp[\"2\"], defaultFp[\"3\"]]) / 3\n",
      "print \"Average Default False Positive Percentage: \", defaultAvgFp[id]\n",
      "uniqueAvgTp[id] = sum([uniqueTp[\"1\"], uniqueTp[\"2\"], uniqueTp[\"3\"]]) / 3\n",
      "print \"Average Unique True Positive Percentage: \", uniqueAvgTp[id]\n",
      "uniqueAvgFp[id] = sum([uniqueFp[\"1\"], uniqueFp[\"2\"], uniqueFp[\"3\"]]) / 3\n",
      "print \"Average Unique False Positive Percentage: \", uniqueAvgFp[id]\n",
      "multimapAvgTp[id] = sum([multimapTp[\"1\"], multimapTp[\"2\"], multimapTp[\"3\"]]) / 3\n",
      "print \"Average Multimap True Positive Percentage: \", multimapAvgTp[id]\n",
      "multimapAvgFp[id] = sum([multimapFp[\"1\"], multimapFp[\"2\"], multimapFp[\"3\"]]) / 3\n",
      "print \"Average Multimap False Positive Percentage: \", multimapAvgFp[id]"
     ],
     "language": "python",
     "metadata": {},
     "outputs": []
    },
    {
     "cell_type": "raw",
     "metadata": {},
     "source": [
      "Mouse transcriptome, paired end 100:700:100 bp reads, 900 bp fragments, 20x expression"
     ]
    },
    {
     "cell_type": "code",
     "collapsed": false,
     "input": [
      "num = \"275\"\n",
      "rep = \"1\"\n",
      "error = \"1\"\n",
      "r = \"100\"\n",
      "g = \"100\"\n",
      "createDataSet(num,rep)\n",
      "!grep '>' DataSet275rep1E1R100G100.fa | wc -l\n",
      "defaultTp = {}\n",
      "defaultFp = {}\n",
      "uniqueTp = {}\n",
      "uniqueFp = {}\n",
      "multimapTp = {}\n",
      "multimapFp = {}\n",
      "runBowtieBuild(num,rep,error,r,g)\n",
      "runBowtieAllParamsPaired(num,rep,error,r,g,num,rep,error,r,g)\n",
      "getTruePositivesAllParamsPaired(num,rep,error,r,g,\"mouse\")\n",
      "defaultTp[rep],defaultFp[rep] = getTpFpPairedEnds(num,rep,error,r,g,\"default\",num,rep,error,r,g)\n",
      "uniqueTp[rep],uniqueFp[rep] = getTpFpPairedEnds(num,rep,error,r,g,\"unique\",num,rep,error,r,g)\n",
      "multimapTp[rep],multimapFp[rep] = getTpFpPairedEnds(num,rep,error,r,g,\"multimap\",num,rep,error,r,g)\n",
      "print defaultTp, defaultFp, uniqueTp, uniqueFp, multimapTp, multimapFp"
     ],
     "language": "python",
     "metadata": {},
     "outputs": []
    },
    {
     "cell_type": "code",
     "collapsed": false,
     "input": [
      "num = \"275\"\n",
      "rep = \"2\"\n",
      "error = \"1\"\n",
      "r = \"100\"\n",
      "g = \"100\"\n",
      "createDataSet(num,rep)\n",
      "!grep '>' DataSet275rep2E1R100G100.fa | wc -l\n",
      "runBowtieBuild(num,rep,error,r,g)\n",
      "runBowtieAllParamsPaired(num,rep,error,r,g,num,rep,error,r,g)\n",
      "getTruePositivesAllParamsPaired(num,rep,error,r,g,\"mouse\")\n",
      "defaultTp[rep],defaultFp[rep] = getTpFpPairedEnds(num,rep,error,r,g,\"default\",num,rep,error,r,g)\n",
      "uniqueTp[rep],uniqueFp[rep] = getTpFpPairedEnds(num,rep,error,r,g,\"unique\",num,rep,error,r,g)\n",
      "multimapTp[rep],multimapFp[rep] = getTpFpPairedEnds(num,rep,error,r,g,\"multimap\",num,rep,error,r,g)\n",
      "print defaultTp, defaultFp, uniqueTp, uniqueFp, multimapTp, multimapFp"
     ],
     "language": "python",
     "metadata": {},
     "outputs": []
    },
    {
     "cell_type": "code",
     "collapsed": false,
     "input": [
      "num = \"275\"\n",
      "rep = \"3\"\n",
      "error = \"1\"\n",
      "r = \"100\"\n",
      "g = \"100\"\n",
      "createDataSet(num,rep)\n",
      "!grep '>' DataSet275rep3E1R100G100.fa | wc -l\n",
      "runBowtieBuild(num,rep,error,r,g)\n",
      "runBowtieAllParamsPaired(num,rep,error,r,g,num,rep,error,r,g)\n",
      "getTruePositivesAllParamsPaired(num,rep,error,r,g,\"mouse\")\n",
      "defaultTp[rep],defaultFp[rep] = getTpFpPairedEnds(num,rep,error,r,g,\"default\",num,rep,error,r,g)\n",
      "uniqueTp[rep],uniqueFp[rep] = getTpFpPairedEnds(num,rep,error,r,g,\"unique\",num,rep,error,r,g)\n",
      "multimapTp[rep],multimapFp[rep] = getTpFpPairedEnds(num,rep,error,r,g,\"multimap\",num,rep,error,r,g)\n",
      "print defaultTp, defaultFp, uniqueTp, uniqueFp, multimapTp, multimapFp"
     ],
     "language": "python",
     "metadata": {},
     "outputs": []
    },
    {
     "cell_type": "code",
     "collapsed": false,
     "input": [
      "id = \"900\"\n",
      "defaultAvgTp[id] = sum([defaultTp[\"1\"], defaultTp[\"2\"], defaultTp[\"3\"]]) / 3\n",
      "print \"Average Default True Positive Percentage: \", defaultAvgTp[id]\n",
      "defaultAvgFp[id] = sum([defaultFp[\"1\"], defaultFp[\"2\"], defaultFp[\"3\"]]) / 3\n",
      "print \"Average Default False Positive Percentage: \", defaultAvgFp[id]\n",
      "uniqueAvgTp[id] = sum([uniqueTp[\"1\"], uniqueTp[\"2\"], uniqueTp[\"3\"]]) / 3\n",
      "print \"Average Unique True Positive Percentage: \", uniqueAvgTp[id]\n",
      "uniqueAvgFp[id] = sum([uniqueFp[\"1\"], uniqueFp[\"2\"], uniqueFp[\"3\"]]) / 3\n",
      "print \"Average Unique False Positive Percentage: \", uniqueAvgFp[id]\n",
      "multimapAvgTp[id] = sum([multimapTp[\"1\"], multimapTp[\"2\"], multimapTp[\"3\"]]) / 3\n",
      "print \"Average Multimap True Positive Percentage: \", multimapAvgTp[id]\n",
      "multimapAvgFp[id] = sum([multimapFp[\"1\"], multimapFp[\"2\"], multimapFp[\"3\"]]) / 3\n",
      "print \"Average Multimap False Positive Percentage: \", multimapAvgFp[id]"
     ],
     "language": "python",
     "metadata": {},
     "outputs": []
    },
    {
     "cell_type": "raw",
     "metadata": {},
     "source": [
      "Mouse transcriptome, paired end 100:800:100 bp reads, 1000 bp fragments, 20x expression"
     ]
    },
    {
     "cell_type": "code",
     "collapsed": false,
     "input": [
      "num = \"271\"\n",
      "rep = \"1\"\n",
      "error = \"1\"\n",
      "r = \"100\"\n",
      "g = \"100\"\n",
      "createDataSet(num,rep)\n",
      "!grep '>' DataSet271rep1E1R100G100.fa | wc -l\n",
      "defaultTp = {}\n",
      "defaultFp = {}\n",
      "uniqueTp = {}\n",
      "uniqueFp = {}\n",
      "multimapTp = {}\n",
      "multimapFp = {}\n",
      "runBowtieBuild(num,rep,error,r,g)\n",
      "runBowtieAllParamsPaired(num,rep,error,r,g,num,rep,error,r,g)\n",
      "getTruePositivesAllParamsPaired(num,rep,error,r,g,\"mouse\")\n",
      "defaultTp[rep],defaultFp[rep] = getTpFpPairedEnds(num,rep,error,r,g,\"default\",num,rep,error,r,g)\n",
      "uniqueTp[rep],uniqueFp[rep] = getTpFpPairedEnds(num,rep,error,r,g,\"unique\",num,rep,error,r,g)\n",
      "multimapTp[rep],multimapFp[rep] = getTpFpPairedEnds(num,rep,error,r,g,\"multimap\",num,rep,error,r,g)\n",
      "print defaultTp, defaultFp, uniqueTp, uniqueFp, multimapTp, multimapFp"
     ],
     "language": "python",
     "metadata": {},
     "outputs": []
    },
    {
     "cell_type": "code",
     "collapsed": false,
     "input": [
      "num = \"271\"\n",
      "rep = \"2\"\n",
      "error = \"1\"\n",
      "r = \"100\"\n",
      "g = \"100\"\n",
      "createDataSet(num,rep)\n",
      "!grep '>' DataSet271rep2E1R100G100.fa | wc -l\n",
      "unBowtieBuild(num,rep,error,r,g)\n",
      "runBowtieAllParamsPaired(num,rep,error,r,g,num,rep,error,r,g)\n",
      "getTruePositivesAllParamsPaired(num,rep,error,r,g,\"mouse\")\n",
      "defaultTp[rep],defaultFp[rep] = getTpFpPairedEnds(num,rep,error,r,g,\"default\",num,rep,error,r,g)\n",
      "uniqueTp[rep],uniqueFp[rep] = getTpFpPairedEnds(num,rep,error,r,g,\"unique\",num,rep,error,r,g)\n",
      "multimapTp[rep],multimapFp[rep] = getTpFpPairedEnds(num,rep,error,r,g,\"multimap\",num,rep,error,r,g)\n",
      "print defaultTp, defaultFp, uniqueTp, uniqueFp, multimapTp, multimapFp"
     ],
     "language": "python",
     "metadata": {},
     "outputs": []
    },
    {
     "cell_type": "code",
     "collapsed": false,
     "input": [
      "num = \"271\"\n",
      "rep = \"3\"\n",
      "error = \"1\"\n",
      "r = \"100\"\n",
      "g = \"100\"\n",
      "createDataSet(num,rep)\n",
      "!grep '>' DataSet271rep3E1R100G100.fa | wc -l\n",
      "unBowtieBuild(num,rep,error,r,g)\n",
      "runBowtieAllParamsPaired(num,rep,error,r,g,num,rep,error,r,g)\n",
      "getTruePositivesAllParamsPaired(num,rep,error,r,g,\"mouse\")\n",
      "defaultTp[rep],defaultFp[rep] = getTpFpPairedEnds(num,rep,error,r,g,\"default\",num,rep,error,r,g)\n",
      "uniqueTp[rep],uniqueFp[rep] = getTpFpPairedEnds(num,rep,error,r,g,\"unique\",num,rep,error,r,g)\n",
      "multimapTp[rep],multimapFp[rep] = getTpFpPairedEnds(num,rep,error,r,g,\"multimap\",num,rep,error,r,g)\n",
      "print defaultTp, defaultFp, uniqueTp, uniqueFp, multimapTp, multimapFp"
     ],
     "language": "python",
     "metadata": {},
     "outputs": []
    },
    {
     "cell_type": "code",
     "collapsed": false,
     "input": [
      "id = \"1000\"\n",
      "defaultAvgTp[id] = sum([defaultTp[\"1\"], defaultTp[\"2\"], defaultTp[\"3\"]]) / 3\n",
      "print \"Average Default True Positive Percentage: \", defaultAvgTp[id]\n",
      "defaultAvgFp[id] = sum([defaultFp[\"1\"], defaultFp[\"2\"], defaultFp[\"3\"]]) / 3\n",
      "print \"Average Default False Positive Percentage: \", defaultAvgFp[id]\n",
      "uniqueAvgTp[id] = sum([uniqueTp[\"1\"], uniqueTp[\"2\"], uniqueTp[\"3\"]]) / 3\n",
      "print \"Average Unique True Positive Percentage: \", uniqueAvgTp[id]\n",
      "uniqueAvgFp[id] = sum([uniqueFp[\"1\"], uniqueFp[\"2\"], uniqueFp[\"3\"]]) / 3\n",
      "print \"Average Unique False Positive Percentage: \", uniqueAvgFp[id]\n",
      "multimapAvgTp[id] = sum([multimapTp[\"1\"], multimapTp[\"2\"], multimapTp[\"3\"]]) / 3\n",
      "print \"Average Multimap True Positive Percentage: \", multimapAvgTp[id]\n",
      "multimapAvgFp[id] = sum([multimapFp[\"1\"], multimapFp[\"2\"], multimapFp[\"3\"]]) / 3\n",
      "print \"Average Multimap False Positive Percentage: \", multimapAvgFp[id]"
     ],
     "language": "python",
     "metadata": {},
     "outputs": []
    },
    {
     "cell_type": "heading",
     "level": 2,
     "metadata": {},
     "source": [
      "Test 10: Mapping accuracy of reads from 100% expressed mouse transcriptome at progressively longer paired end read lengths with 1000 bp fragment length, paired end X:X:X bp reads, 20x expression"
     ]
    },
    {
     "cell_type": "raw",
     "metadata": {},
     "source": [
      "Mouse transcriptome, paired end 100:800:100 bp reads, 1000 bp fragments, 20x expression - calculated above above"
     ]
    },
    {
     "cell_type": "raw",
     "metadata": {},
     "source": [
      "Mouse transcriptome, paired end 200:600:200 bp reads, 1000 bp fragments, 20x expression"
     ]
    },
    {
     "cell_type": "code",
     "collapsed": false,
     "input": [
      "num = \"272\"\n",
      "rep = \"1\"\n",
      "error = \"1\"\n",
      "r = \"100\"\n",
      "g = \"100\"\n",
      "createDataSet(num,rep)\n",
      "!grep '>' DataSet272rep1E1R100G100.fa | wc -l\n",
      "defaultTp = {}\n",
      "defaultFp = {}\n",
      "uniqueTp = {}\n",
      "uniqueFp = {}\n",
      "multimapTp = {}\n",
      "multimapFp = {}\n",
      "runBowtieBuild(num,rep,error,r,g)\n",
      "runBowtieAllParamsPaired(num,rep,error,r,g,num,rep,error,r,g)\n",
      "getTruePositivesAllParamsPaired(num,rep,error,r,g,\"mouse\")\n",
      "defaultTp[rep],defaultFp[rep] = getTpFpPairedEnds(num,rep,error,r,g,\"default\",num,rep,error,r,g)\n",
      "uniqueTp[rep],uniqueFp[rep] = getTpFpPairedEnds(num,rep,error,r,g,\"unique\",num,rep,error,r,g)\n",
      "multimapTp[rep],multimapFp[rep] = getTpFpPairedEnds(num,rep,error,r,g,\"multimap\",num,rep,error,r,g)\n",
      "print defaultTp, defaultFp, uniqueTp, uniqueFp, multimapTp, multimapFp"
     ],
     "language": "python",
     "metadata": {},
     "outputs": []
    },
    {
     "cell_type": "code",
     "collapsed": false,
     "input": [
      "num = \"272\"\n",
      "rep = \"2\"\n",
      "error = \"1\"\n",
      "r = \"100\"\n",
      "g = \"100\"\n",
      "createDataSet(num,rep)\n",
      "!grep '>' DataSet272rep2E1R100G100.fa | wc -l\n",
      "runBowtieBuild(num,rep,error,r,g)\n",
      "runBowtieAllParamsPaired(num,rep,error,r,g,num,rep,error,r,g)\n",
      "getTruePositivesAllParamsPaired(num,rep,error,r,g,\"mouse\")\n",
      "defaultTp[rep],defaultFp[rep] = getTpFpPairedEnds(num,rep,error,r,g,\"default\",num,rep,error,r,g)\n",
      "uniqueTp[rep],uniqueFp[rep] = getTpFpPairedEnds(num,rep,error,r,g,\"unique\",num,rep,error,r,g)\n",
      "multimapTp[rep],multimapFp[rep] = getTpFpPairedEnds(num,rep,error,r,g,\"multimap\",num,rep,error,r,g)\n",
      "print defaultTp, defaultFp, uniqueTp, uniqueFp, multimapTp, multimapFp"
     ],
     "language": "python",
     "metadata": {},
     "outputs": []
    },
    {
     "cell_type": "code",
     "collapsed": false,
     "input": [
      "num = \"272\"\n",
      "rep = \"3\"\n",
      "error = \"1\"\n",
      "r = \"100\"\n",
      "g = \"100\"\n",
      "createDataSet(num,rep)\n",
      "!grep '>' DataSet272rep3E1R100G100.fa | wc -l\n",
      "runBowtieBuild(num,rep,error,r,g)\n",
      "runBowtieAllParamsPaired(num,rep,error,r,g,num,rep,error,r,g)\n",
      "getTruePositivesAllParamsPaired(num,rep,error,r,g,\"mouse\")\n",
      "defaultTp[rep],defaultFp[rep] = getTpFpPairedEnds(num,rep,error,r,g,\"default\",num,rep,error,r,g)\n",
      "uniqueTp[rep],uniqueFp[rep] = getTpFpPairedEnds(num,rep,error,r,g,\"unique\",num,rep,error,r,g)\n",
      "multimapTp[rep],multimapFp[rep] = getTpFpPairedEnds(num,rep,error,r,g,\"multimap\",num,rep,error,r,g)\n",
      "print defaultTp, defaultFp, uniqueTp, uniqueFp, multimapTp, multimapFp"
     ],
     "language": "python",
     "metadata": {},
     "outputs": []
    },
    {
     "cell_type": "code",
     "collapsed": false,
     "input": [
      "num = \"273\"\n",
      "rep = \"2\"\n",
      "error = \"1\"\n",
      "r = \"100\"\n",
      "g = \"100\"\n",
      "createDataSet(num,rep)\n",
      "!grep '>' DataSet273rep2E1R100G100.fa | wc -l\n",
      "runBowtieBuild(num,rep,error,r,g)\n",
      "runBowtieAllParamsPaired(num,rep,error,r,g,num,rep,error,r,g)\n",
      "getTruePositivesAllParamsPaired(num,rep,error,r,g,\"mouse\")\n",
      "defaultTp[rep],defaultFp[rep] = getTpFpPairedEnds(num,rep,error,r,g,\"default\",num,rep,error,r,g)\n",
      "uniqueTp[rep],uniqueFp[rep] = getTpFpPairedEnds(num,rep,error,r,g,\"unique\",num,rep,error,r,g)\n",
      "multimapTp[rep],multimapFp[rep] = getTpFpPairedEnds(num,rep,error,r,g,\"multimap\",num,rep,error,r,g)\n",
      "print defaultTp, defaultFp, uniqueTp, uniqueFp, multimapTp, multimapFp"
     ],
     "language": "python",
     "metadata": {},
     "outputs": []
    },
    {
     "cell_type": "code",
     "collapsed": false,
     "input": [
      "num = \"273\"\n",
      "rep = \"3\"\n",
      "error = \"1\"\n",
      "r = \"100\"\n",
      "g = \"100\"\n",
      "createDataSet(num,rep)\n",
      "!grep '>' DataSet273rep3E1R100G100.fa | wc -l\n",
      "runBowtieBuild(num,rep,error,r,g)\n",
      "runBowtieAllParamsPaired(num,rep,error,r,g,num,rep,error,r,g)\n",
      "getTruePositivesAllParamsPaired(num,rep,error,r,g,\"mouse\")\n",
      "defaultTp[rep],defaultFp[rep] = getTpFpPairedEnds(num,rep,error,r,g,\"default\",num,rep,error,r,g)\n",
      "uniqueTp[rep],uniqueFp[rep] = getTpFpPairedEnds(num,rep,error,r,g,\"unique\",num,rep,error,r,g)\n",
      "multimapTp[rep],multimapFp[rep] = getTpFpPairedEnds(num,rep,error,r,g,\"multimap\",num,rep,error,r,g)\n",
      "print defaultTp, defaultFp, uniqueTp, uniqueFp, multimapTp, multimapFp"
     ],
     "language": "python",
     "metadata": {},
     "outputs": []
    },
    {
     "cell_type": "code",
     "collapsed": false,
     "input": [
      "id = \"300\"\n",
      "defaultAvgTp[id] = sum([defaultTp[\"1\"], defaultTp[\"2\"], defaultTp[\"3\"]]) / 3\n",
      "print \"Average Default True Positive Percentage: \", defaultAvgTp[id]\n",
      "defaultAvgFp[id] = sum([defaultFp[\"1\"], defaultFp[\"2\"], defaultFp[\"3\"]]) / 3\n",
      "print \"Average Default False Positive Percentage: \", defaultAvgFp[id]\n",
      "uniqueAvgTp[id] = sum([uniqueTp[\"1\"], uniqueTp[\"2\"], uniqueTp[\"3\"]]) / 3\n",
      "print \"Average Unique True Positive Percentage: \", uniqueAvgTp[id]\n",
      "uniqueAvgFp[id] = sum([uniqueFp[\"1\"], uniqueFp[\"2\"], uniqueFp[\"3\"]]) / 3\n",
      "print \"Average Unique False Positive Percentage: \", uniqueAvgFp[id]\n",
      "multimapAvgTp[id] = sum([multimapTp[\"1\"], multimapTp[\"2\"], multimapTp[\"3\"]]) / 3\n",
      "print \"Average Multimap True Positive Percentage: \", multimapAvgTp[id]\n",
      "multimapAvgFp[id] = sum([multimapFp[\"1\"], multimapFp[\"2\"], multimapFp[\"3\"]]) / 3\n",
      "print \"Average Multimap False Positive Percentage: \", multimapAvgFp[id]"
     ],
     "language": "python",
     "metadata": {},
     "outputs": []
    },
    {
     "cell_type": "raw",
     "metadata": {},
     "source": [
      "Mouse transcriptome, paired end 400:200:400 bp reads, 1000 bp fragments, 20x expression"
     ]
    },
    {
     "cell_type": "code",
     "collapsed": false,
     "input": [
      "num = \"274\"\n",
      "rep = \"1\"\n",
      "error = \"1\"\n",
      "r = \"100\"\n",
      "g = \"100\"\n",
      "createDataSet(num,rep)\n",
      "!grep '>' DataSet274rep1E1R100G100.fa | wc -l\n",
      "defaultTp = {}\n",
      "defaultFp = {}\n",
      "uniqueTp = {}\n",
      "uniqueFp = {}\n",
      "multimapTp = {}\n",
      "multimapFp = {}\n",
      "runBowtieBuild(num,rep,error,r,g)\n",
      "runBowtieAllParamsPaired(num,rep,error,r,g,num,rep,error,r,g)\n",
      "getTruePositivesAllParamsPaired(num,rep,error,r,g,\"mouse\")\n",
      "defaultTp[rep],defaultFp[rep] = getTpFpPairedEnds(num,rep,error,r,g,\"default\",num,rep,error,r,g)\n",
      "uniqueTp[rep],uniqueFp[rep] = getTpFpPairedEnds(num,rep,error,r,g,\"unique\",num,rep,error,r,g)\n",
      "multimapTp[rep],multimapFp[rep] = getTpFpPairedEnds(num,rep,error,r,g,\"multimap\",num,rep,error,r,g)\n",
      "print defaultTp, defaultFp, uniqueTp, uniqueFp, multimapTp, multimapFp"
     ],
     "language": "python",
     "metadata": {},
     "outputs": []
    },
    {
     "cell_type": "code",
     "collapsed": false,
     "input": [
      "num = \"274\"\n",
      "rep = \"2\"\n",
      "error = \"1\"\n",
      "r = \"100\"\n",
      "g = \"100\"\n",
      "createDataSet(num,rep)\n",
      "!grep '>' DataSet274rep2E1R100G100.fa | wc -l\n",
      "runBowtieBuild(num,rep,error,r,g)\n",
      "runBowtieAllParamsPaired(num,rep,error,r,g,num,rep,error,r,g)\n",
      "getTruePositivesAllParamsPaired(num,rep,error,r,g,\"mouse\")\n",
      "defaultTp[rep],defaultFp[rep] = getTpFpPairedEnds(num,rep,error,r,g,\"default\",num,rep,error,r,g)\n",
      "uniqueTp[rep],uniqueFp[rep] = getTpFpPairedEnds(num,rep,error,r,g,\"unique\",num,rep,error,r,g)\n",
      "multimapTp[rep],multimapFp[rep] = getTpFpPairedEnds(num,rep,error,r,g,\"multimap\",num,rep,error,r,g)\n",
      "print defaultTp, defaultFp, uniqueTp, uniqueFp, multimapTp, multimapFp"
     ],
     "language": "python",
     "metadata": {},
     "outputs": []
    },
    {
     "cell_type": "code",
     "collapsed": false,
     "input": [
      "num = \"274\"\n",
      "rep = \"3\"\n",
      "error = \"1\"\n",
      "r = \"100\"\n",
      "g = \"100\"\n",
      "createDataSet(num,rep)\n",
      "!grep '>' DataSet274rep3E1R100G100.fa | wc -l\n",
      "runBowtieBuild(num,rep,error,r,g)\n",
      "runBowtieAllParamsPaired(num,rep,error,r,g,num,rep,error,r,g)\n",
      "getTruePositivesAllParamsPaired(num,rep,error,r,g,\"mouse\")\n",
      "defaultTp[rep],defaultFp[rep] = getTpFpPairedEnds(num,rep,error,r,g,\"default\",num,rep,error,r,g)\n",
      "uniqueTp[rep],uniqueFp[rep] = getTpFpPairedEnds(num,rep,error,r,g,\"unique\",num,rep,error,r,g)\n",
      "multimapTp[rep],multimapFp[rep] = getTpFpPairedEnds(num,rep,error,r,g,\"multimap\",num,rep,error,r,g)\n",
      "print defaultTp, defaultFp, uniqueTp, uniqueFp, multimapTp, multimapFp"
     ],
     "language": "python",
     "metadata": {},
     "outputs": []
    },
    {
     "cell_type": "code",
     "collapsed": false,
     "input": [
      "id = \"400\"\n",
      "defaultAvgTp[id] = sum([defaultTp[\"1\"], defaultTp[\"2\"], defaultTp[\"3\"]]) / 3\n",
      "print \"Average Default True Positive Percentage: \", defaultAvgTp[id]\n",
      "defaultAvgFp[id] = sum([defaultFp[\"1\"], defaultFp[\"2\"], defaultFp[\"3\"]]) / 3\n",
      "print \"Average Default False Positive Percentage: \", defaultAvgFp[id]\n",
      "uniqueAvgTp[id] = sum([uniqueTp[\"1\"], uniqueTp[\"2\"], uniqueTp[\"3\"]]) / 3\n",
      "print \"Average Unique True Positive Percentage: \", uniqueAvgTp[id]\n",
      "uniqueAvgFp[id] = sum([uniqueFp[\"1\"], uniqueFp[\"2\"], uniqueFp[\"3\"]]) / 3\n",
      "print \"Average Unique False Positive Percentage: \", uniqueAvgFp[id]\n",
      "multimapAvgTp[id] = sum([multimapTp[\"1\"], multimapTp[\"2\"], multimapTp[\"3\"]]) / 3\n",
      "print \"Average Multimap True Positive Percentage: \", multimapAvgTp[id]\n",
      "multimapAvgFp[id] = sum([multimapFp[\"1\"], multimapFp[\"2\"], multimapFp[\"3\"]]) / 3\n",
      "print \"Average Multimap False Positive Percentage: \", multimapAvgFp[id]"
     ],
     "language": "python",
     "metadata": {},
     "outputs": []
    },
    {
     "cell_type": "code",
     "collapsed": false,
     "input": [
      "id = \"200\"\n",
      "defaultAvgTp[id] = sum([defaultTp[\"1\"], defaultTp[\"2\"], defaultTp[\"3\"]]) / 3\n",
      "print \"Average Default True Positive Percentage: \", defaultAvgTp[id]\n",
      "defaultAvgFp[id] = sum([defaultFp[\"1\"], defaultFp[\"2\"], defaultFp[\"3\"]]) / 3\n",
      "print \"Average Default False Positive Percentage: \", defaultAvgFp[id]\n",
      "uniqueAvgTp[id] = sum([uniqueTp[\"1\"], uniqueTp[\"2\"], uniqueTp[\"3\"]]) / 3\n",
      "print \"Average Unique True Positive Percentage: \", uniqueAvgTp[id]\n",
      "uniqueAvgFp[id] = sum([uniqueFp[\"1\"], uniqueFp[\"2\"], uniqueFp[\"3\"]]) / 3\n",
      "print \"Average Unique False Positive Percentage: \", uniqueAvgFp[id]\n",
      "multimapAvgTp[id] = sum([multimapTp[\"1\"], multimapTp[\"2\"], multimapTp[\"3\"]]) / 3\n",
      "print \"Average Multimap True Positive Percentage: \", multimapAvgTp[id]\n",
      "multimapAvgFp[id] = sum([multimapFp[\"1\"], multimapFp[\"2\"], multimapFp[\"3\"]]) / 3\n",
      "print \"Average Multimap False Positive Percentage: \", multimapAvgFp[id]"
     ],
     "language": "python",
     "metadata": {},
     "outputs": []
    },
    {
     "cell_type": "raw",
     "metadata": {},
     "source": [
      "Mouse transcriptome, paired end 300:400:300 bp reads, 1000 bp fragments, 20x expression"
     ]
    },
    {
     "cell_type": "code",
     "collapsed": false,
     "input": [
      "num = \"273\"\n",
      "rep = \"1\"\n",
      "error = \"1\"\n",
      "r = \"100\"\n",
      "g = \"100\"\n",
      "createDataSet(num,rep)\n",
      "!grep '>' DataSet273rep1E1R100G100.fa | wc -l\n",
      "defaultTp = {}\n",
      "defaultFp = {}\n",
      "uniqueTp = {}\n",
      "uniqueFp = {}\n",
      "multimapTp = {}\n",
      "multimapFp = {}\n",
      "runBowtieBuild(num,rep,error,r,g)\n",
      "runBowtieAllParamsPaired(num,rep,error,r,g,num,rep,error,r,g)\n",
      "getTruePositivesAllParamsPaired(num,rep,error,r,g,\"mouse\")\n",
      "defaultTp[rep],defaultFp[rep] = getTpFpPairedEnds(num,rep,error,r,g,\"default\",num,rep,error,r,g)\n",
      "uniqueTp[rep],uniqueFp[rep] = getTpFpPairedEnds(num,rep,error,r,g,\"unique\",num,rep,error,r,g)\n",
      "multimapTp[rep],multimapFp[rep] = getTpFpPairedEnds(num,rep,error,r,g,\"multimap\",num,rep,error,r,g)\n",
      "print defaultTp, defaultFp, uniqueTp, uniqueFp, multimapTp, multimapFp"
     ],
     "language": "python",
     "metadata": {},
     "outputs": []
    }
   ],
   "metadata": {}
  }
 ]
}