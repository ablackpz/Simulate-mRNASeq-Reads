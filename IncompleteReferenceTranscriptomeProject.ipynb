{
 "metadata": {
  "name": "IncompleteReferenceTranscriptomeProject"
 },
 "nbformat": 3,
 "nbformat_minor": 0,
 "worksheets": [
  {
   "cells": [
    {
     "cell_type": "heading",
     "level": 1,
     "metadata": {},
     "source": [
      "Incomplete Reference Transcriptome Project"
     ]
    },
    {
     "cell_type": "raw",
     "metadata": {},
     "source": [
      "Objective: quantify errors from using incomplete reference transcriptomes during RNA-Seq mapping and determine if long reads will lead to error-free mapping"
     ]
    },
    {
     "cell_type": "code",
     "collapsed": false,
     "input": [
      "cd ~/Documents/WorkMsu/Simulate-mRNASeq-Reads/Ipnbk/"
     ],
     "language": "python",
     "metadata": {},
     "outputs": [
      {
       "output_type": "stream",
       "stream": "stdout",
       "text": [
        "/Users/ablackpz/Documents/WorkMsu/Simulate-mRNASeq-Reads/Ipnbk\n"
       ]
      }
     ],
     "prompt_number": 1
    },
    {
     "cell_type": "code",
     "collapsed": false,
     "input": [
      "import os, math"
     ],
     "language": "python",
     "metadata": {},
     "outputs": [],
     "prompt_number": 2
    },
    {
     "cell_type": "code",
     "collapsed": false,
     "input": [
      "# All python scripts to create the individual data sets are on GitHub and can be run by typing python DataSetXrepY.py at the command prompt or running it on a cluster.  This function is solely for the use of those who are running the whole notebook on a local machine.\n",
      "def createDataSet(var1,var2):\n",
      "    cmd = \"python DataSet\" + var1 + \"rep\" + var2 + \".py\"\n",
      "    os.system(cmd)\n",
      "    return\n",
      "\n",
      "# This function creates the index file for a reference transcriptome using Bowtie\n",
      "# If running this function on the cmd-line, use \"bowtie-build DataSetXrepXEXRXXGXX.fa DataSetXrepXEXRXXGXX.Index\"\n",
      "def runBowtieBuild(num,rep,e,r,g):\n",
      "    dataset = \"DataSet\" + num + \"rep\" + rep + \"E\" + e + \"R\" + r + \"G\" + g\n",
      "    cmd = \"bowtie-build \" + dataset + \".fa \" + dataset + \".Index\"\n",
      "    os.system(cmd)\n",
      "    return\n",
      "\n",
      "# This function creates the index file for a reference transcriptome using Bwa\n",
      "# If running this function on the cmd-line, use \"bwa index DataSetXrepXEXRXXGXX.fa\"\n",
      "def runBwaBuild(num,rep,e,r,g):\n",
      "    dataset = \"DataSet\" + num + \"rep\" + rep + \"E\" + e + \"R\" + r + \"G\" + g\n",
      "    cmd = \"bwa index \" + dataset + \".fa\"\n",
      "    os.system(cmd)\n",
      "    return\n",
      "\n",
      "# This function creates the index file for a reference transcriptome using Soap2\n",
      "# If running this function on the cmd-line, use \"2bwt-builder DataSetXrepXEXRXXGXX.fa\"\n",
      "def runSoapBuild(num,rep,e,r,g):\n",
      "    dataset = \"DataSet\" + num + \"rep\" + rep + \"E\" + e + \"R\" + r + \"G\" + g\n",
      "    cmd = \"2bwt-builder \" + dataset + \".fa\"\n",
      "    os.system(cmd)\n",
      "    return\n",
      "\n",
      "# This function calls Bowtie for mapping specified read file to specified index file, using appropriate parameters for default, unique, or multimap\n",
      "# If running this function on the cmd-line, use \"bowtie PARAMS DataSetXrepXEXRXXGXX.Index -f DataSetXrepXEXRXXGXXRandomReads.fa DataSetXrepXEXRXXGXX_PARAM.map\"\n",
      "# Invoke default with no extra PARAMS, unique with -m 1, and multimap with -a (see Bowtie manual for details)\n",
      "def runBowtie(num,rep,e,r,g,mode,rnum,rrep,re,rr,rg):\n",
      "    dataset = \"DataSet\" + num + \"rep\" + rep + \"E\" + e + \"R\" + r + \"G\" + g\n",
      "    ref = \"DataSet\" + rnum + \"rep\" + rrep + \"E\" + re + \"R\" + rr + \"G\" + rg + \"RandomReads.fa\"\n",
      "    if mode == \"default\":\n",
      "        cmd = \"bowtie \" + dataset + \".Index -f \" + ref + \" \" + dataset + \"_default.map\"\n",
      "    elif mode == \"unique\":\n",
      "        cmd = \"bowtie -m 1 \" + dataset + \".Index -f \" + ref + \" \" + dataset + \"_unique.map\"\n",
      "    elif mode == \"multimap\":\n",
      "        cmd = \"bowtie -a \" + dataset + \".Index -f \" + ref + \" \" + dataset + \"_multimap.map\"\n",
      "    else:\n",
      "        print \"This should never print\"\n",
      "    os.system(cmd)\n",
      "    return\n",
      "\n",
      "# This function calls Bwa for mapping specified read file to specified index file\n",
      "# If running this function on the cmd-line, use: \n",
      "#     bwa aln DataSetXrepXEXRXXGXX.fa DataSetXrepXEXRXXGXXRandomReads.fa > DataSetXrepXEXRXXGXX.sai\n",
      "#     bwa samse DataSetXrepXEXRXXGXX.fa DataSetXrepXEXRXXGXX.sai DataSetXrepXEXRXXGXXRandomReads.fa > DataSetXrepXEXRXXGXX_aln.sam\n",
      "#     samtools view -S -b DataSetXrepXEXRXXGXX_aln.sam > DataSetXrepXEXRXXGXX_aln.bam\n",
      "#     samtools sort DataSetXrepXEXRXXGXX_aln.bam DataSetXrepXEXRXXGXX_aln_sort\n",
      "#     samtools view DataSetXrepXEXRXXGXX_aln_sort.bam > DataSetXrepXEXRXXGXX_aln_sort.sam\n",
      "#     awk '{print $1, $20}' DataSetXrepXEXRXXGXX_aln_sort.sam > DataSetXrepXEXRXXGXX_aln_sort_nameAssign.2cols\n",
      "def runBwa(num,rep,e,r,g,mode,rnum,rrep,re,rr,rg):\n",
      "    dataset = \"DataSet\" + num + \"rep\" + rep + \"E\" + e + \"R\" + r + \"G\" + g\n",
      "    ref = \"DataSet\" + rnum + \"rep\" + rrep + \"E\" + re + \"R\" + rr + \"G\" + rg + \"RandomReads.fa\"\n",
      "    if mode == \"default\":\n",
      "        cmd = \"bwa aln \" + dataset + \".fa \" + ref + \" > \" + dataset + \".sai\"\n",
      "        os.system(cmd)\n",
      "        cmd = \"bwa samse \" + dataset + \".fa \" + dataset + \".sai \" + ref + \" > \" + dataset + \"_aln.sam\"\n",
      "        os.system(cmd)\n",
      "        cmd = \"samtools view -S -b \" + dataset + \"_aln.sam \" + \" > \" + dataset + \"_aln.bam\"\n",
      "        os.system(cmd)\n",
      "        cmd = \"samtools sort \" + dataset + \"_aln.bam \" + dataset + \"_aln_sort\"\n",
      "        os.system(cmd)\n",
      "        cmd = \"samtools view \" + dataset + \"_aln_sort.bam \" + \" > \" + dataset + \"_aln_sort.sam\"\n",
      "        os.system(cmd)\n",
      "        cmd = \"awk '{print $1,$20}' \" + dataset + \"_aln_sort.sam \" + \" > \" + dataset + \"_aln_sort_nameAssign.2cols\"\n",
      "        os.system(cmd)\n",
      "    else:\n",
      "        print \"This should never print\"\n",
      "    return\n",
      "\n",
      "# This function calls Soap2 for mapping specified read file to specified index file, using appropriate parameters for default\n",
      "# If running this function on the cmd-line, use \"soap -a DataSetXrepXEXRXXGXXRandomReads.fa -D DataSetXrepXEXRXXGXX.fa.index -o DataSetXrepXEXRXXGXX_default.soapAln\"\n",
      "def runSoap(num,rep,e,r,g,mode,rnum,rrep,re,rr,rg):\n",
      "    dataset = \"DataSet\" + num + \"rep\" + rep + \"E\" + e + \"R\" + r + \"G\" + g\n",
      "    ref = \"DataSet\" + rnum + \"rep\" + rrep + \"E\" + re + \"R\" + rr + \"G\" + rg + \"RandomReads.fa\"\n",
      "    if mode == \"default\":\n",
      "        cmd = \"soap -a \" + ref + \" -D \" + dataset + \".fa.index -o \" + dataset + \"_default.soapAln\"\n",
      "        os.system(cmd)\n",
      "    else:\n",
      "        print \"This should never print\"\n",
      "    return\n",
      "\n",
      "# This function simplifies running Bowtie mapping so default, unique, and multimap runs are all performed on the same dataset\n",
      "def runBowtieAllParams(num,rep,e,r,g,rnum,rrep,re,rr,rg):\n",
      "    runBowtie(num,rep,error,r,g,\"default\",num,rep,error,rr,g)\n",
      "    runBowtie(num,rep,error,r,g,\"unique\",num,rep,error,rr,g)\n",
      "    runBowtie(num,rep,error,r,g,\"multimap\",num,rep,error,rr,g)\n",
      "    return\n",
      "\n",
      "# This function simplifies running Bowtie mapping so default, unique, and multimap runs are all performed on the same dataset for paired ends\n",
      "def runBowtieAllParamsPaired(num,rep,e,r,g,rnum,rrep,re,rr,rg):\n",
      "    runBowtiePairedEnds(num,rep,error,r,g,\"default\",num,rep,error,rr,g)\n",
      "    runBowtiePairedEnds(num,rep,error,r,g,\"unique\",num,rep,error,rr,g)\n",
      "    runBowtiePairedEnds(num,rep,error,r,g,\"multimap\",num,rep,error,rr,g)\n",
      "    return\n",
      "\n",
      "# This function calls Bowtie for mapping specified paired end read file to specified index file, using appropriate parameters for default, unique, or multimap\n",
      "# If running this function on the cmd-line, use \"bowtie PARAMS DataSetXrepXEXRXXGXX.Index -ff -I 0 -X 1000 -f -1 DataSetXrepXEXRXXGXXRandomReadsPair1.fa DataSetXrepXEXRXXGXXRandomReadsPair2.fa DataSetXrepXEXRXXGXX_PARAM.map\"\n",
      "# Invoke default with no extra PARAMS, unique with -m 1, and multimap with -a (see Bowtie manual for details)\n",
      "def runBowtiePairedEnds(num,rep,e,r,g,mode,rnum,rrep,re,rr,rg):\n",
      "    dataset = \"DataSet\" + num + \"rep\" + rep + \"E\" + e + \"R\" + r + \"G\" + g\n",
      "    ref1 = \"DataSet\" + rnum + \"rep\" + rrep + \"E\" + re + \"R\" + rr + \"G\" + rg + \"RandomReadsPair1.fa\"\n",
      "    ref2 = \"DataSet\" + rnum + \"rep\" + rrep + \"E\" + re + \"R\" + rr + \"G\" + rg + \"RandomReadsPair2.fa\"\n",
      "    if mode == \"default\":\n",
      "        cmd = \"bowtie \" + dataset + \".Index --ff -I 0 -X 1000 -f -1 \" + ref1 + \" -2 \" + ref2 + ' ' + dataset + \"_default.map\"\n",
      "    elif mode == \"unique\":\n",
      "        cmd = \"bowtie -m 1 \" + dataset + \".Index --ff -I 0 -X 1000 -f -1 \" + ref1 + \" -2 \" + ref2 + ' ' + dataset + \"_unique.map\"\n",
      "    elif mode == \"multimap\":\n",
      "        cmd = \"bowtie -a \" + dataset + \".Index --ff -I 0 -X 1000 -f -1 \" + ref1 + \" -2 \" + ref2 + ' ' + dataset + \"_multimap.map\"\n",
      "    else:\n",
      "        print \"This should never print\"\n",
      "    os.system(cmd)\n",
      "    return\n",
      "\n",
      "# This function parses the Bowtie results map file and matches the transcript name with the name in the read metadata.  Note: due to \n",
      "# inconsistencies in spaces in the Ensembl metadata, the column containing the transcript name changes depending on which transcriptome is used\n",
      "# X.truePositives is the number of reads (lines in map file) where the transcript name and read metadata match\n",
      "# X.totalReads is the number of mappable reads (lines in map file)\n",
      "# X.totalNumReads is the number of reads in the read file, mappable + unmappable\n",
      "def getTruePositives(num,rep,e,r,g,mode,organism):\n",
      "    dataset = \"DataSet\" + num + \"rep\" + rep + \"E\" + e + \"R\" + r + \"G\" + g + \"_\" + mode + \".map\"\n",
      "    if organism == \"random\":\n",
      "        pos = \"4\"\n",
      "    elif organism == \"chicken\":\n",
      "        pos = \"6\"\n",
      "    elif organism == \"mouse\":\n",
      "        pos = \"8\"\n",
      "    else:\n",
      "        print \"Unknown organism\"\n",
      "    cmd = \"awk '{if ($1 == $\" + pos + \") print $1}' \" + dataset + \" | wc -l > \" + dataset + \".truePositives\"\n",
      "    os.system(cmd)\n",
      "    cmd = \"wc -l \" + dataset + \" > \" + dataset + \".totalReads\"\n",
      "    os.system(cmd)\n",
      "    getTotalNumReads(num,rep,e,r,g)\n",
      "    return\n",
      "\n",
      "# This function parses the Bowtie paired end results map file and matches the transcript name with the name in the read metadata.  Note: due to \n",
      "# inconsistencies in spaces in the Ensembl metadata, the column containing the transcript name changes depending on which transcriptome is used\n",
      "# X.truePositives is the number of reads (lines in map file) where the transcript name and read metadata match\n",
      "# X.totalReads is the number of mappable reads (lines in map file)\n",
      "# X.totalNumReads is the number of reads in the read file, mappable + unmappable\n",
      "def getTruePositivesPaired(num,rep,e,r,g,mode,organism):\n",
      "    dataset = \"DataSet\" + num + \"rep\" + rep + \"E\" + e + \"R\" + r + \"G\" + g + \"_\" + mode + \".map\"\n",
      "    if organism == \"random\":\n",
      "        pos = \"4\"\n",
      "    elif organism == \"chicken\":\n",
      "        pos = \"6\"\n",
      "    elif organism == \"mouse\":\n",
      "        pos = \"9\"\n",
      "    else:\n",
      "        print \"Unknown organism\"\n",
      "    cmd = \"awk '{if ($1 == $\" + pos + \") print $1}' \" + dataset + \" | wc -l > \" + dataset + \".truePositives\"\n",
      "    os.system(cmd)\n",
      "    cmd = \"wc -l \" + dataset + \" > \" + dataset + \".totalReads\"\n",
      "    os.system(cmd)\n",
      "    getTotalNumReadsPairedEnds(rnum,rrep,re,rr,rg)\n",
      "    return\n",
      "\n",
      "# This function simplifies calculating true positives from a bowtie map file so default, unique, and multimap results are all analyzed for the same dataset\n",
      "def getTruePositivesAllParams(num,rep,e,r,g,organism):\n",
      "    getTruePositives(num,rep,e,r,g,\"default\",organism)\n",
      "    getTruePositives(num,rep,e,r,g,\"unique\",organism)\n",
      "    getTruePositives(num,rep,e,r,g,\"multimap\",organism)\n",
      "    return\n",
      "\n",
      "# This function simplifies calculating true positives from a bowtie map file so default, unique, and multimap results are all analyzed for the same paired end dataset\n",
      "def getTruePositivesAllParamsPaired(num,rep,e,r,g,organism):\n",
      "    getTruePositivesPaired(num,rep,e,r,g,\"default\",organism)\n",
      "    getTruePositivesPaired(num,rep,e,r,g,\"unique\",organism)\n",
      "    getTruePositivesPaired(num,rep,e,r,g,\"multimap\",organism)\n",
      "    return\n",
      "\n",
      "# This function counts the number of reads in the read file and reports the final number\n",
      "def getTotalNumReads(num,rep,e,r,g):\n",
      "    dataset = \"DataSet\" + num + \"rep\" + rep + \"E\" + e + \"R\" + r + \"G\" + g + \"RandomReads.fa\"\n",
      "    cmd = \"grep '>' \" + dataset + \" | wc -l > \" + dataset + \".totalNumReads\"\n",
      "    os.system(cmd)\n",
      "    return\n",
      "\n",
      "# This function calculates true positive and false positive percentages using the X.truePositive, X.totalReads, and X.totalNumReads files from\n",
      "# the functiong getTruePositives.  The calculation is split up so users can perform the functions requiring creating/parsing large files on a \n",
      "# remote big mem machine and then finish the calculation on a local machine.\n",
      "def getTpFp(num,rep,e,r,g,mode,rnum,rrep,re,rr,rg):\n",
      "    dataset = \"DataSet\" + num + \"rep\" + rep + \"E\" + e + \"R\" + r + \"G\" + g + \"_\" + mode + \".map\"\n",
      "    tpDataset = dataset + \".truePositives\"\n",
      "    totalDataset = dataset + \".totalReads\"\n",
      "    ref = \"DataSet\" + rnum + \"rep\" + rrep + \"E\" + re + \"R\" + \"100\" + \"G\" + rg + \"RandomReads.fa.totalNumReads\"\n",
      "    totalNumReads = open(ref,'r').read()\n",
      "    numTp = open(tpDataset,'r').read()\n",
      "    numTotaltmp = open(totalDataset).read().split(' ')\n",
      "    numTotaltmp2 = []\n",
      "    for item in numTotaltmp:\n",
      "        if item != '':\n",
      "            numTotaltmp2.append(item)\n",
      "    numTotal = numTotaltmp2[0]\n",
      "    percTp = float(numTp) / float(totalNumReads) * 100\n",
      "    percFp = (float(numTotal) - float(numTp)) / float(totalNumReads) * 100\n",
      "    return percTp, percFp\n",
      "\n",
      "# This function parses the Bwa results file and matches the transcript name with the name in the read metadata.  \n",
      "# X.truePositives is the number of reads (lines in map file) where the transcript name and read metadata match\n",
      "# X.totalReads is the number of mappable reads (lines in map file)\n",
      "def getTruePositivesBwa(num,rep,e,r,g,mode,organism):\n",
      "    dataset = \"DataSet\" + num + \"rep\" + rep + \"E\" + e + \"R\" + r + \"G\" + g + \"_aln_sort_nameAssign.2cols\"\n",
      "    pos = 2\n",
      "    cmd = \"python getBwaSamParse.py  \" + dataset + \" \" + dataset + \"Parsed\"\n",
      "    os.system(cmd)\n",
      "    cmd = \"awk '{if ($1==$2) print $0}' \" + dataset + \"Parsed\" + \" | wc -l > \" + dataset + \".truePositives\"\n",
      "    os.system(cmd)\n",
      "    cmd = \"wc -l \" + dataset + \" > \" + dataset + \".totalReads\"\n",
      "    os.system(cmd)\n",
      "    return\n",
      "\n",
      "# This function calculates true positive and false positive percentages using the X.truePositive, X.totalReads, and X.totalNumReads files from\n",
      "# the function getTruePositives.  \n",
      "def getTpFpBwa(num,rep,e,r,g,mode,rnum,rrep,re,rr,rg):\n",
      "    dataset = \"DataSet\" + num + \"rep\" + rep + \"E\" + e + \"R\" + r + \"G\" + g + \"_aln_sort_nameAssign\"\n",
      "    tpDataset = dataset + \".truePositives\"\n",
      "    totalDataset = dataset + \".totalReads\"\n",
      "    ref = \"DataSet\" + rnum + \"rep\" + rrep + \"E\" + re + \"R\" + \"100\" + \"G\" + rg + \"RandomReads.fa.totalNumReads\"\n",
      "    totalNumReads = open(ref,'r').read()\n",
      "    numTp = open(tpDataset,'r').read()\n",
      "    numTotaltmp = open(totalDataset).read().split(' ')\n",
      "    numTotaltmp2 = []\n",
      "    for item in numTotaltmp:\n",
      "        if item != '':\n",
      "            numTotaltmp2.append(item)\n",
      "    numTotal = numTotaltmp2[0]\n",
      "    percTp = float(numTp) / float(totalNumReads) * 100\n",
      "    percFp = (float(numTotal) - float(numTp)) / float(totalNumReads) * 100\n",
      "    return percTp, percFp\n",
      "\n",
      "# This function parses the Soap2 results file and matches the transcript name with the name in the read metadata.  \n",
      "# X.truePositives is the number of reads (lines in map file) where the transcript name and read metadata match\n",
      "# X.totalReads is the number of mappable reads (lines in map file)\n",
      "def getTruePositivesSoap(num,rep,e,r,g,mode,organism):\n",
      "    dataset = \"DataSet\" + num + \"rep\" + rep + \"E\" + e + \"R\" + r + \"G\" + g + \"_default.soapAln\"\n",
      "    pos = \"8\"\n",
      "    cmd = \"awk '{if ($1 == $\" + pos + \") print $1}' \" + dataset + \" | wc -l > \" + dataset + \".truePositives\"\n",
      "    os.system(cmd)\n",
      "    cmd = \"wc -l \" + dataset + \" > \" + dataset + \".totalReads\"\n",
      "    os.system(cmd)\n",
      "    return\n",
      "\n",
      "# This function calculates true positive and false positive percentages using the X.truePositive, X.totalReads, and X.totalNumReads files from\n",
      "# the function getTruePositives.  \n",
      "def getTpFpSoap(num,rep,e,r,g,mode,rnum,rrep,re,rr,rg):\n",
      "    dataset = \"DataSet\" + num + \"rep\" + rep + \"E\" + e + \"R\" + r + \"G\" + g + \"_default.soapAln\"\n",
      "    tpDataset = dataset + \".truePositives\"\n",
      "    totalDataset = dataset + \".totalReads\"\n",
      "    ref = \"DataSet\" + rnum + \"rep\" + rrep + \"E\" + re + \"R\" + \"100\" + \"G\" + rg + \"RandomReads.fa.totalNumReads\"\n",
      "    totalNumReads = open(ref,'r').read()\n",
      "    numTp = open(tpDataset,'r').read()\n",
      "    numTotaltmp = open(totalDataset).read().split(' ')\n",
      "    numTotaltmp2 = []\n",
      "    for item in numTotaltmp:\n",
      "        if item != '':\n",
      "            numTotaltmp2.append(item)\n",
      "    numTotal = numTotaltmp2[0]\n",
      "    percTp = float(numTp) / float(totalNumReads) * 100\n",
      "    percFp = (float(numTotal) - float(numTp)) / float(totalNumReads) * 100\n",
      "    return percTp, percFp\n",
      "\n",
      "# This function counts the number of reads in the read file and reports the final number.  The only difference between this and the \n",
      "# function for single end reads is the expected read file name.\n",
      "def getTotalNumReadsPairedEnds(num,rep,e,r,g):\n",
      "    dataset = \"DataSet\" + num + \"rep\" + rep + \"E\" + e + \"R\" + r + \"G\" + g + \"RandomReadsPair1.fa\"\n",
      "    cmd = \"grep '>' \" + dataset + \" | wc -l > \" + dataset + \".totalNumReads\"\n",
      "    os.system(cmd)\n",
      "    return\n",
      "\n",
      "# This function calculates true positive and false positive percentages using the X.truePositive, X.totalReads, and X.totalNumReads files from\n",
      "# the functiong getTruePositives.  The only difference between this and the function for single end reads is the expected name of the read \n",
      "# file and the fact that the number read from the X.totalNumReads file needs to be doubled.\n",
      "def getTpFpPairedEnds(num,rep,e,r,g,mode,rnum,rrep,re,rr,rg):\n",
      "    dataset = \"DataSet\" + num + \"rep\" + rep + \"E\" + e + \"R\" + r + \"G\" + g + \"_\" + mode + \".map\"\n",
      "    tpDataset = dataset + \".truePositives\"\n",
      "    totalDataset = dataset + \".totalReads\"\n",
      "    ref = \"DataSet\" + rnum + \"rep\" + rrep + \"E\" + re + \"R\" + rr + \"G\" + rg + \"RandomReadsPair1.fa.totalNumReads\"\n",
      "    totalNumReads = open(ref,'r').read()\n",
      "    numTp = open(tpDataset,'r').read()\n",
      "    numTotaltmp = open(totalDataset).read().split(' ')\n",
      "    numTotaltmp2 = []\n",
      "    for item in numTotaltmp:\n",
      "        if item != '':\n",
      "            numTotaltmp2.append(item)\n",
      "    numTotal = numTotaltmp2[0]\n",
      "    percTp = float(numTp) / (float(totalNumReads) * 2) * 100\n",
      "    percFp = (float(numTotal) - float(numTp)) / (float(totalNumReads) * 2) * 100\n",
      "    return percTp, percFp\n",
      "\n",
      "# This function calculates the expression level accuracy at the transcript level.  The 100% complete reference transcriptome is used as the \n",
      "# reference for determining which reads should be assigned to which transcripts.  This is a trivial point for the transcript case, but is \n",
      "# mentioned here for completeness.  Users must have the X.col1 and X.col6 files from the parseMapResults function for this to work -- \n",
      "# the parsing step was split from the calculation step so users could run the mapping on a cluster, parse the results, and save only the \n",
      "# columns of the map file needed.\n",
      "def getTransLevelErrors(num,rep,e,r,g):\n",
      "    groups = 'Gallus_gallus.WASHUC2.63.cdna.all.transcripts'\n",
      "    mapped = \"DataSet\" + num + \"rep\" + rep + \"E\" + e + \"R\" + r + \"G\" + g + \"_\" + \"default\" + \".map\"\n",
      "    name = \"DataSet\" + num + \"rep\" + rep + \"E\" + e + \"R100G\" + g + \".fa\"\n",
      "    cmd = \"python getTranscriptReadCountsFromTranscriptMapping.py \" + groups + \" \" + mapped + \".col6 \" + mapped + \".col1 \" + mapped + \".col1.transExp \" + mapped + \".col6.transExp\"\n",
      "    os.system(cmd)\n",
      "    cmd = \"awk '{print $1}' \" + name + \" > \" + name + \".txt\"\n",
      "    os.system(cmd)\n",
      "    cmd = \"python combine-bowtie-bowtie-refFile-results.py \" + name + \".txt \" + mapped + \".col6.transExp \" + \"DataSet\" + num + \"rep\" + rep + \"E\" + e + \"R100G\" + g + \"_\" + \"default\" + \".map\" + \".col1.transExp \" + mapped + \".col6.col1.transExp.combine\"\n",
      "    os.system(cmd)\n",
      "    cmd = \"python calc-log2-diff-exp2.py \" + mapped + \".col6.col1.transExp.combine \" + mapped + \".col6.col1.transExp.combine.log2diff2\"\n",
      "    os.system(cmd)\n",
      "    cmd = \"awk '{print $4}' \" + mapped + \".col6.col1.transExp.combine.log2diff2 > \" + mapped + \".col6.col1.transExp.combine.log2diff2.nums\"\n",
      "    os.system(cmd)\n",
      "    cmd = \"awk '{if ($1 <= 1 && $1 >= -1) print $0}' \" + mapped + \".col6.col1.transExp.combine.log2diff2.nums > \" + mapped + \".col6.col1.transExp.combine.log2diff2.numsWithinPm1\"\n",
      "    os.system(cmd)\n",
      "    cmd = \"wc -l \" + mapped + \".col6.col1.transExp.combine.log2diff2.numsWithinPm1 > \" + mapped + \".col6.col1.transExp.combine.log2diff2.numsWithinPm1.count\"\n",
      "    os.system(cmd)\n",
      "    cmd = \"wc -l \" + mapped + \".col6.col1.transExp.combine.log2diff2.nums > \" + mapped + \".col6.col1.transExp.combine.log2diff2.nums.count\"\n",
      "    os.system(cmd)\n",
      "    numCorrectTmp = open(mapped + \".col6.col1.transExp.combine.log2diff2.numsWithinPm1.count\").read().split(' ')\n",
      "    numCorrectTmp2 = []\n",
      "    for item in numCorrectTmp:\n",
      "        if item != '':\n",
      "            numCorrectTmp2.append(item)\n",
      "    numCorrectFinal = numCorrectTmp2[0]\n",
      "    numTotalTmp = open(mapped + \".col6.col1.transExp.combine.log2diff2.nums.count\").read().split(' ')\n",
      "    numTotalTmp2 = []\n",
      "    for item in numTotalTmp:\n",
      "        if item != '':\n",
      "            numTotalTmp2.append(item)\n",
      "    numTotalFinal = numTotalTmp2[0]\n",
      "    return float(numCorrectFinal) / float(numTotalFinal) * 100\n",
      "\n",
      "# This function calculates the expression level accuracy at the gene level.  The transcript to gene relationships were derived \n",
      "# from Ensembl.  \n",
      "def getGeneLevelErrors(num,rep,e,r,g):\n",
      "    groups = 'Gallus_gallus.transIdgeneId.txt'\n",
      "    mapped = \"DataSet\" + num + \"rep\" + rep + \"E\" + e + \"R\" + r + \"G\" + g + \"_\" + \"default\" + \".map\"\n",
      "    name = \"Gallus_gallus.allGeneNames.txt\"\n",
      "    cmd = \"python getGeneReadCountsFromTranscriptMapping2.py \" + groups + \" \" + mapped + \".col6 \" + mapped + \".col1 \" + mapped + \".col1.geneExp \" + mapped + \".col6.geneExp\"\n",
      "    os.system(cmd)\n",
      "    cmd = \"python combine-bowtie-bowtie-refFile2-results.py \" + name + \" \" + mapped + \".col6.geneExp \" + \"DataSet\" + num + \"rep\" + rep + \"E\" + e + \"R100G\" + g + \"_\" + \"default\" + \".map.col1.geneExp \" + mapped + \".col6.col1.geneExp.combine\"\n",
      "    os.system(cmd)\n",
      "    cmd = \"python calc-log2-diff-exp2.py \" + mapped + \".col6.col1.geneExp.combine \" + mapped + \".col6.col1.geneExp.combine.log2diff2\"\n",
      "    os.system(cmd)\n",
      "    cmd = \"awk '{print $4}' \" + mapped + \".col6.col1.geneExp.combine.log2diff2 > \" + mapped + \".col6.col1.geneExp.combine.log2diff2.nums\"\n",
      "    os.system(cmd)\n",
      "    cmd = \"awk '{if ($1 <= 1 && $1 >= -1) print $0}' \" + mapped + \".col6.col1.geneExp.combine.log2diff2.nums > \" + mapped + \".col6.col1.geneExp.combine.log2diff2.numsWithinPm1\"\n",
      "    os.system(cmd)\n",
      "    cmd = \"wc -l \" + mapped + \".col6.col1.geneExp.combine.log2diff2.numsWithinPm1 > \" + mapped + \".col6.col1.geneExp.combine.log2diff2.numsWithinPm1.count\"\n",
      "    os.system(cmd)\n",
      "    cmd = \"wc -l \" + mapped + \".col6.col1.geneExp.combine.log2diff2.nums > \" + mapped + \".col6.col1.geneExp.combine.log2diff2.nums.count\"\n",
      "    os.system(cmd)\n",
      "    numCorrectTmp = open(mapped + \".col6.col1.geneExp.combine.log2diff2.numsWithinPm1.count\").read().split(' ')\n",
      "    numCorrectTmp2 = []\n",
      "    for item in numCorrectTmp:\n",
      "        if item != '':\n",
      "            numCorrectTmp2.append(item)\n",
      "    numCorrectFinal = numCorrectTmp2[0]\n",
      "    numTotalTmp = open(mapped + \".col6.col1.geneExp.combine.log2diff2.nums.count\").read().split(' ')\n",
      "    numTotalTmp2 = []\n",
      "    for item in numTotalTmp:\n",
      "        if item != '':\n",
      "            numTotalTmp2.append(item)\n",
      "    numTotalFinal = numTotalTmp2[0]\n",
      "    return float(numCorrectFinal) / float(numTotalFinal) * 100\n",
      "\n",
      "# This function calculates the expression level accuracy at the transcript family level.  The transcript to transcript family \n",
      "# relationships were determined by simulating every 100 bp read (single end) present in the transcriptome (no errors and overlapping \n",
      "# for every transcript), multimapping them with Bowtie, and then creating groups based on which transcripts shared a read.\n",
      "def getTfamLevelErrors(num,rep,e,r,g):\n",
      "    groups = 'Gallus_gallus.WASHUC2.63.cdna.all.map.col1and6.sortUniq.transcriptGroupsOneToOne'\n",
      "    mapped = \"DataSet\" + num + \"rep\" + rep + \"E\" + e + \"R\" + r + \"G\" + g + \"_\" + \"default\" + \".map\"\n",
      "    name = \"Gallus_gallus.allTfamNames.txt\"\n",
      "    cmd = \"python getTranscriptFamilyReadCountsFromTranscriptMapping.py \" + groups + \" \" + mapped + \".col6 \" + mapped + \".col1 \" + mapped + \".col1.tfamExp \" + mapped + \".col6.tfamExp\"\n",
      "    os.system(cmd)\n",
      "    cmd = \"awk '{print $1}' \" + name + \" > \" + name + \".txt\"\n",
      "    os.system(cmd)\n",
      "    cmd = \"python combine-bowtie-bowtie-refFile2-results.py \" + name + \".txt \" + mapped + \".col6.tfamExp \" + \"DataSet\" + num + \"rep\" + rep + \"E\" + e + \"R100G\" + g + \"_\" + \"default\" + \".map\" + \".col1.tfamExp \" + mapped + \".col6.col1.tfamExp.combine\"\n",
      "    os.system(cmd)\n",
      "    cmd = \"python calc-log2-diff-exp2.py \" + mapped + \".col6.col1.tfamExp.combine \" + mapped + \".col6.col1.tfamExp.combine.log2diff2\"\n",
      "    os.system(cmd)\n",
      "    cmd = \"awk '{print $4}' \" + mapped + \".col6.col1.tfamExp.combine.log2diff2 > \" + mapped + \".col6.col1.tfamExp.combine.log2diff2.nums\"\n",
      "    os.system(cmd)\n",
      "    cmd = \"awk '{if ($1 <= 1 && $1 >= -1) print $0}' \" + mapped + \".col6.col1.tfamExp.combine.log2diff2.nums > \" + mapped + \".col6.col1.tfamExp.combine.log2diff2.numsWithinPm1\"\n",
      "    os.system(cmd)\n",
      "    cmd = \"wc -l \" + mapped + \".col6.col1.tfamExp.combine.log2diff2.numsWithinPm1 > \" + mapped + \".col6.col1.tfamExp.combine.log2diff2.numsWithinPm1.count\"\n",
      "    os.system(cmd)\n",
      "    cmd = \"wc -l \" + mapped + \".col6.col1.tfamExp.combine.log2diff2.nums > \" + mapped + \".col6.col1.tfamExp.combine.log2diff2.nums.count\"\n",
      "    os.system(cmd)\n",
      "    numCorrectTmp = open(mapped + \".col6.col1.tfamExp.combine.log2diff2.numsWithinPm1.count\").read().split(' ')\n",
      "    numCorrectTmp2 = []\n",
      "    for item in numCorrectTmp:\n",
      "        if item != '':\n",
      "            numCorrectTmp2.append(item)\n",
      "    numCorrectFinal = numCorrectTmp2[0]\n",
      "    numTotalTmp = open(mapped + \".col6.col1.tfamExp.combine.log2diff2.nums.count\").read().split(' ')\n",
      "    numTotalTmp2 = []\n",
      "    for item in numTotalTmp:\n",
      "        if item != '':\n",
      "            numTotalTmp2.append(item)\n",
      "    numTotalFinal = numTotalTmp2[0]\n",
      "    return float(numCorrectFinal) / float(numTotalFinal) * 100\n",
      "\n",
      "# This function takes a bowtie results map file and parses it to create two files, one with the list of transcript names that Bowtie mapped\n",
      "# the read to and the other with the list of transcript names derived from the read metadata.  This is so the user can save only those \n",
      "# columns of the large map files that are needed.  The column containing the second list differs based on the format of the read \n",
      "# metadata.\n",
      "def parseMapFile(num,rep,e,r,g,mode,organism):\n",
      "    dataset = \"DataSet\" + num + \"rep\" + rep + \"E\" + e + \"R\" + r + \"G\" + g + \"_\" + mode + \".map\"\n",
      "    if organism == \"random\":\n",
      "        pos = \"4\"\n",
      "    elif organism == \"chicken\":\n",
      "        pos = \"6\"\n",
      "    elif organism == \"mouse\":\n",
      "        pos = \"8\"\n",
      "    else:\n",
      "        print \"Unknown organism\"\n",
      "    cmd = \"awk '{print $1}' \" + dataset + \" > \" + dataset + \".col1\"\n",
      "    os.system(cmd)\n",
      "    cmd = \"awk '{print $\" + str(pos) + \"1}' \" + dataset + \" > \" + dataset + \".col6\"\n",
      "    os.system(cmd)\n",
      "    return\n"
     ],
     "language": "python",
     "metadata": {},
     "outputs": [],
     "prompt_number": 236
    },
    {
     "cell_type": "heading",
     "level": 2,
     "metadata": {},
     "source": [
      "Test 1: Mapping accuracy of read sets generated from small random and mouse transcriptomes with complete reference"
     ]
    },
    {
     "cell_type": "raw",
     "metadata": {},
     "source": [
      "Objective: determine errors expected in random data and small real data set"
     ]
    },
    {
     "cell_type": "raw",
     "metadata": {},
     "source": [
      "Random transcriptome with 5000 transcripts, single end 100 bp reads, 20x expression"
     ]
    },
    {
     "cell_type": "code",
     "collapsed": false,
     "input": [
      "defaultAvgTp = {}\n",
      "defaultAvgFp = {}\n",
      "uniqueAvgTp = {}\n",
      "uniqueAvgFp = {}\n",
      "multimapAvgTp = {}\n",
      "multimapAvgFp = {}"
     ],
     "language": "python",
     "metadata": {},
     "outputs": [],
     "prompt_number": 4
    },
    {
     "cell_type": "code",
     "collapsed": false,
     "input": [
      "num = \"237\"\n",
      "rep = \"1\"\n",
      "createDataSet(num,rep)\n",
      "!grep '>' DataSet237rep1E1R100G100.fa | wc -l\n",
      "rep = \"2\"\n",
      "createDataSet(num,rep)\n",
      "!grep '>' DataSet237rep2E1R100G100.fa | wc -l\n",
      "rep = \"3\"\n",
      "createDataSet(num,rep)\n",
      "!grep '>' DataSet237rep3E1R100G100.fa | wc -l\n"
     ],
     "language": "python",
     "metadata": {},
     "outputs": []
    },
    {
     "cell_type": "code",
     "collapsed": false,
     "input": [
      "num = \"237\"\n",
      "rep = \"1\"\n",
      "error = \"1\"\n",
      "r = \"100\"\n",
      "g = \"100\"\n",
      "rep = \"1\"\n",
      "runBowtieBuild(num,rep,error,r,g)\n",
      "runBowtieAllParams(num,rep,error,r,g,num,rep,error,r,g)\n",
      "getTruePositivesAllParams(num,rep,error,r,g,\"random\")\n",
      "rep = \"2\"\n",
      "runBowtieBuild(num,rep,error,r,g)\n",
      "runBowtieAllParams(num,rep,error,r,g,num,rep,error,r,g)\n",
      "getTruePositivesAllParams(num,rep,error,r,g,\"random\")\n",
      "rep = \"3\"\n",
      "runBowtieBuild(num,rep,error,r,g)\n",
      "runBowtieAllParams(num,rep,error,r,g,num,rep,error,r,g)\n",
      "getTruePositivesAllParams(num,rep,error,r,g,\"random\")\n"
     ],
     "language": "python",
     "metadata": {},
     "outputs": [],
     "prompt_number": 11
    },
    {
     "cell_type": "code",
     "collapsed": false,
     "input": [
      "num = \"237\"\n",
      "rep = \"1\"\n",
      "error = \"1\"\n",
      "r = \"100\"\n",
      "g = \"100\"\n",
      "defaultTp = {}\n",
      "defaultFp = {}\n",
      "uniqueTp = {}\n",
      "uniqueFp = {}\n",
      "multimapTp = {}\n",
      "multimapFp = {}\n",
      "defaultTp[rep],defaultFp[rep] = getTpFp(num,rep,error,r,g,\"default\",num,rep,error,r,g)\n",
      "uniqueTp[rep],uniqueFp[rep] = getTpFp(num,rep,error,r,g,\"unique\",num,rep,error,r,g)\n",
      "multimapTp[rep],multimapFp[rep] = getTpFp(num,rep,error,r,g,\"multimap\",num,rep,error,r,g)\n",
      "rep = \"2\"\n",
      "defaultTp[rep],defaultFp[rep] = getTpFp(num,rep,error,r,g,\"default\",num,rep,error,r,g)\n",
      "uniqueTp[rep],uniqueFp[rep] = getTpFp(num,rep,error,r,g,\"unique\",num,rep,error,r,g)\n",
      "multimapTp[rep],multimapFp[rep] = getTpFp(num,rep,error,r,g,\"multimap\",num,rep,error,r,g)\n",
      "rep = \"3\"\n",
      "defaultTp[rep],defaultFp[rep] = getTpFp(num,rep,error,r,g,\"default\",num,rep,error,r,g)\n",
      "uniqueTp[rep],uniqueFp[rep] = getTpFp(num,rep,error,r,g,\"unique\",num,rep,error,r,g)\n",
      "multimapTp[rep],multimapFp[rep] = getTpFp(num,rep,error,r,g,\"multimap\",num,rep,error,r,g)\n",
      "print defaultTp, defaultFp, uniqueTp, uniqueFp, multimapTp, multimapFp"
     ],
     "language": "python",
     "metadata": {},
     "outputs": [
      {
       "output_type": "stream",
       "stream": "stdout",
       "text": [
        "{'1': 92.04900580174782, '3': 92.05204822557292, '2': 92.07525968582857} {'1': 0.0, '3': 0.0, '2': 0.0} {'1': 92.04900580174782, '3': 92.05204822557292, '2': 92.07525968582857} {'1': 0.0, '3': 0.0, '2': 0.0} {'1': 92.04900580174782, '3': 92.05204822557292, '2': 92.07525968582857} {'1': 0.0, '3': 0.0, '2': 0.0}\n"
       ]
      }
     ],
     "prompt_number": 12
    },
    {
     "cell_type": "code",
     "collapsed": false,
     "input": [
      "id = \"randomSe\"\n",
      "defaultAvgTp[id] = sum([defaultTp[\"1\"], defaultTp[\"2\"], defaultTp[\"3\"]]) / 3\n",
      "print \"Average Default True Positive Percentage: \", defaultAvgTp[id]\n",
      "defaultAvgFp[id] = sum([defaultFp[\"1\"], defaultFp[\"2\"], defaultFp[\"3\"]]) / 3\n",
      "print \"Average Default False Positive Percentage: \", defaultAvgFp[id]\n",
      "uniqueAvgTp[id] = sum([uniqueTp[\"1\"], uniqueTp[\"2\"], uniqueTp[\"3\"]]) / 3\n",
      "print \"Average Unique True Positive Percentage: \", uniqueAvgTp[id]\n",
      "uniqueAvgFp[id] = sum([uniqueFp[\"1\"], uniqueFp[\"2\"], uniqueFp[\"3\"]]) / 3\n",
      "print \"Average Unique False Positive Percentage: \", uniqueAvgFp[id]\n",
      "multimapAvgTp[id] = sum([multimapTp[\"1\"], multimapTp[\"2\"], multimapTp[\"3\"]]) / 3\n",
      "print \"Average Multimap True Positive Percentage: \", multimapAvgTp[id]\n",
      "multimapAvgFp[id] = sum([multimapFp[\"1\"], multimapFp[\"2\"], multimapFp[\"3\"]]) / 3\n",
      "print \"Average Multimap False Positive Percentage: \", multimapAvgFp[id]"
     ],
     "language": "python",
     "metadata": {},
     "outputs": [
      {
       "output_type": "stream",
       "stream": "stdout",
       "text": [
        "Average Default True Positive Percentage:  92.0587712377\n",
        "Average Default False Positive Percentage:  0.0\n",
        "Average Unique True Positive Percentage:  92.0587712377\n",
        "Average Unique False Positive Percentage:  0.0\n",
        "Average Multimap True Positive Percentage:  92.0587712377\n",
        "Average Multimap False Positive Percentage:  0.0\n"
       ]
      }
     ],
     "prompt_number": 13
    },
    {
     "cell_type": "raw",
     "metadata": {},
     "source": [
      "Mouse transcriptome with 5000 randomly selected transcripts, single end 100 bp reads, 20x expression"
     ]
    },
    {
     "cell_type": "code",
     "collapsed": false,
     "input": [
      "num = \"236\"\n",
      "rep = \"1\"\n",
      "createDataSet(num,rep)\n",
      "!grep '>' DataSet236rep1E1R100G100.fa | wc -l\n",
      "rep = \"2\"\n",
      "createDataSet(num,rep)\n",
      "!grep '>' DataSet236rep2E1R100G100.fa | wc -l\n",
      "rep = \"3\"\n",
      "createDataSet(num,rep)\n",
      "!grep '>' DataSet236rep3E1R100G100.fa | wc -l\n"
     ],
     "language": "python",
     "metadata": {},
     "outputs": []
    },
    {
     "cell_type": "code",
     "collapsed": false,
     "input": [
      "num = \"236\"\n",
      "rep = \"1\"\n",
      "error = \"1\"\n",
      "r = \"100\"\n",
      "g = \"100\"\n",
      "rep = \"1\"\n",
      "runBowtieBuild(num,rep,error,r,g)\n",
      "runBowtieAllParams(num,rep,error,r,g,num,rep,error,r,g)\n",
      "getTruePositivesAllParams(num,rep,error,r,g,\"mouse\")\n",
      "rep = \"2\"\n",
      "runBowtieBuild(num,rep,error,r,g)\n",
      "runBowtieAllParams(num,rep,error,r,g,num,rep,error,r,g)\n",
      "getTruePositivesAllParams(num,rep,error,r,g,\"mouse\")\n",
      "rep = \"3\"\n",
      "runBowtieBuild(num,rep,error,r,g)\n",
      "runBowtieAllParams(num,rep,error,r,g,num,rep,error,r,g)\n",
      "getTruePositivesAllParams(num,rep,error,r,g,\"mouse\")\n"
     ],
     "language": "python",
     "metadata": {},
     "outputs": [],
     "prompt_number": 14
    },
    {
     "cell_type": "code",
     "collapsed": false,
     "input": [
      "num = \"236\"\n",
      "rep = \"1\"\n",
      "error = \"1\"\n",
      "r = \"100\"\n",
      "g = \"100\"\n",
      "defaultTp = {}\n",
      "defaultFp = {}\n",
      "uniqueTp = {}\n",
      "uniqueFp = {}\n",
      "multimapTp = {}\n",
      "multimapFp = {}\n",
      "defaultTp[rep],defaultFp[rep] = getTpFp(num,rep,error,r,g,\"default\",num,rep,error,r,g)\n",
      "uniqueTp[rep],uniqueFp[rep] = getTpFp(num,rep,error,r,g,\"unique\",num,rep,error,r,g)\n",
      "multimapTp[rep],multimapFp[rep] = getTpFp(num,rep,error,r,g,\"multimap\",num,rep,error,r,g)\n",
      "rep = \"2\"\n",
      "defaultTp[rep],defaultFp[rep] = getTpFp(num,rep,error,r,g,\"default\",num,rep,error,r,g)\n",
      "uniqueTp[rep],uniqueFp[rep] = getTpFp(num,rep,error,r,g,\"unique\",num,rep,error,r,g)\n",
      "multimapTp[rep],multimapFp[rep] = getTpFp(num,rep,error,r,g,\"multimap\",num,rep,error,r,g)\n",
      "rep = \"3\"\n",
      "defaultTp[rep],defaultFp[rep] = getTpFp(num,rep,error,r,g,\"default\",num,rep,error,r,g)\n",
      "uniqueTp[rep],uniqueFp[rep] = getTpFp(num,rep,error,r,g,\"unique\",num,rep,error,r,g)\n",
      "multimapTp[rep],multimapFp[rep] = getTpFp(num,rep,error,r,g,\"multimap\",num,rep,error,r,g)\n",
      "print defaultTp, defaultFp, uniqueTp, uniqueFp, multimapTp, multimapFp"
     ],
     "language": "python",
     "metadata": {},
     "outputs": [
      {
       "output_type": "stream",
       "stream": "stdout",
       "text": [
        "{'1': 86.77604187277791, '3': 86.81217859664542, '2': 86.7923919178707} {'1': 5.27736758025581, '3': 5.263568975320805, '2': 5.257008129200764} {'1': 81.45727847771708, '3': 81.48357393240454, '2': 81.45858023289962} {'1': 0.00015621062190572795, '3': 0.00010414041460381863, '2': 0.0003124212438114559} {'1': 92.3965521191533, '3': 92.42612799690079, '2': 92.40873654766195} {'1': 12.190052091035385, '3': 12.174951730917831, '2': 12.189010686889347}\n"
       ]
      }
     ],
     "prompt_number": 31
    },
    {
     "cell_type": "code",
     "collapsed": false,
     "input": [
      "id = \"mouseSe\"\n",
      "defaultAvgTp[id] = sum([defaultTp[\"1\"], defaultTp[\"2\"], defaultTp[\"3\"]]) / 3\n",
      "print \"Average Default True Positive Percentage: \", defaultAvgTp[id]\n",
      "defaultAvgFp[id] = sum([defaultFp[\"1\"], defaultFp[\"2\"], defaultFp[\"3\"]]) / 3\n",
      "print \"Average Default False Positive Percentage: \", defaultAvgFp[id]\n",
      "uniqueAvgTp[id] = sum([uniqueTp[\"1\"], uniqueTp[\"2\"], uniqueTp[\"3\"]]) / 3\n",
      "print \"Average Unique True Positive Percentage: \", uniqueAvgTp[id]\n",
      "uniqueAvgFp[id] = sum([uniqueFp[\"1\"], uniqueFp[\"2\"], uniqueFp[\"3\"]]) / 3\n",
      "print \"Average Unique False Positive Percentage: \", uniqueAvgFp[id]\n",
      "multimapAvgTp[id] = sum([multimapTp[\"1\"], multimapTp[\"2\"], multimapTp[\"3\"]]) / 3\n",
      "print \"Average Multimap True Positive Percentage: \", multimapAvgTp[id]\n",
      "multimapAvgFp[id] = sum([multimapFp[\"1\"], multimapFp[\"2\"], multimapFp[\"3\"]]) / 3\n",
      "print \"Average Multimap False Positive Percentage: \", multimapAvgFp[id]"
     ],
     "language": "python",
     "metadata": {},
     "outputs": [
      {
       "output_type": "stream",
       "stream": "stdout",
       "text": [
        "Average Default True Positive Percentage:  86.7935374624\n",
        "Average Default False Positive Percentage:  5.26598156159\n",
        "Average Unique True Positive Percentage:  81.4664775477\n",
        "Average Unique False Positive Percentage:  0.00019092409344\n",
        "Average Multimap True Positive Percentage:  92.4104722212\n",
        "Average Multimap False Positive Percentage:  12.1846715029\n"
       ]
      }
     ],
     "prompt_number": 32
    },
    {
     "cell_type": "raw",
     "metadata": {},
     "source": [
      "Random transcriptome with 5000 transcripts, paired end 100:50:100 reads, 20x expression"
     ]
    },
    {
     "cell_type": "code",
     "collapsed": false,
     "input": [
      "num = \"241\"\n",
      "rep = \"1\"\n",
      "createDataSet(num,rep)\n",
      "!grep '>' DataSet241rep1E1R100G100.fa | wc -l\n",
      "rep = \"2\"\n",
      "createDataSet(num,rep)\n",
      "!grep '>' DataSet241rep2E1R100G100.fa | wc -l\n",
      "rep = \"3\"\n",
      "createDataSet(num,rep)\n",
      "!grep '>' DataSet241rep3E1R100G100.fa | wc -l\n"
     ],
     "language": "python",
     "metadata": {},
     "outputs": []
    },
    {
     "cell_type": "code",
     "collapsed": false,
     "input": [
      "num = \"241\"\n",
      "rep = \"1\"\n",
      "error = \"1\"\n",
      "r = \"100\"\n",
      "g = \"100\"\n",
      "rep = \"1\"\n",
      "runBowtieBuild(num,rep,error,r,g)\n",
      "runBowtieAllParamsPaired(num,rep,error,r,g,num,rep,error,r,g)\n",
      "getTruePositivesAllParamsPaired(num,rep,error,r,g,\"random\")\n",
      "rep = \"2\"\n",
      "runBowtieBuild(num,rep,error,r,g)\n",
      "runBowtieAllParamsPaired(num,rep,error,r,g,num,rep,error,r,g)\n",
      "getTruePositivesAllParamsPaired(num,rep,error,r,g,\"random\")\n",
      "rep = \"3\"\n",
      "runBowtieBuild(num,rep,error,r,g)\n",
      "runBowtieAllParamsPaired(num,rep,error,r,g,num,rep,error,r,g)\n",
      "getTruePositivesAllParamsPaired(num,rep,error,r,g,\"random\")\n"
     ],
     "language": "python",
     "metadata": {},
     "outputs": [],
     "prompt_number": 17
    },
    {
     "cell_type": "code",
     "collapsed": false,
     "input": [
      "num = \"241\"\n",
      "rep = \"1\"\n",
      "error = \"1\"\n",
      "r = \"100\"\n",
      "g = \"100\"\n",
      "defaultTp = {}\n",
      "defaultFp = {}\n",
      "uniqueTp = {}\n",
      "uniqueFp = {}\n",
      "multimapTp = {}\n",
      "multimapFp = {}\n",
      "defaultTp[rep],defaultFp[rep] = getTpFpPairedEnds(num,rep,error,r,g,\"default\",num,rep,error,r,g)\n",
      "uniqueTp[rep],uniqueFp[rep] = getTpFpPairedEnds(num,rep,error,r,g,\"unique\",num,rep,error,r,g)\n",
      "multimapTp[rep],multimapFp[rep] = getTpFpPairedEnds(num,rep,error,r,g,\"multimap\",num,rep,error,r,g)\n",
      "rep = \"2\"\n",
      "defaultTp[rep],defaultFp[rep] = getTpFpPairedEnds(num,rep,error,r,g,\"default\",num,rep,error,r,g)\n",
      "uniqueTp[rep],uniqueFp[rep] = getTpFpPairedEnds(num,rep,error,r,g,\"unique\",num,rep,error,r,g)\n",
      "multimapTp[rep],multimapFp[rep] = getTpFpPairedEnds(num,rep,error,r,g,\"multimap\",num,rep,error,r,g)\n",
      "rep = \"3\"\n",
      "defaultTp[rep],defaultFp[rep] = getTpFpPairedEnds(num,rep,error,r,g,\"default\",num,rep,error,r,g)\n",
      "uniqueTp[rep],uniqueFp[rep] = getTpFpPairedEnds(num,rep,error,r,g,\"unique\",num,rep,error,r,g)\n",
      "multimapTp[rep],multimapFp[rep] = getTpFpPairedEnds(num,rep,error,r,g,\"multimap\",num,rep,error,r,g)\n",
      "print defaultTp, defaultFp, uniqueTp, uniqueFp, multimapTp, multimapFp"
     ],
     "language": "python",
     "metadata": {},
     "outputs": [
      {
       "output_type": "stream",
       "stream": "stdout",
       "text": [
        "{'1': 84.91432832081931, '3': 84.88505293095275, '2': 84.91785735088105} {'1': 0.0, '3': 0.0, '2': 0.0} {'1': 84.91432832081931, '3': 84.88505293095275, '2': 84.91785735088105} {'1': 0.0, '3': 0.0, '2': 0.0} {'1': 84.91432832081931, '3': 84.88505293095275, '2': 84.91785735088105} {'1': 0.0, '3': 0.0, '2': 0.0}\n"
       ]
      }
     ],
     "prompt_number": 18
    },
    {
     "cell_type": "code",
     "collapsed": false,
     "input": [
      "id = \"randomPe\"\n",
      "defaultAvgTp[id] = sum([defaultTp[\"1\"], defaultTp[\"2\"], defaultTp[\"3\"]]) / 3\n",
      "print \"Average Default True Positive Percentage: \", defaultAvgTp[id]\n",
      "defaultAvgFp[id] = sum([defaultFp[\"1\"], defaultFp[\"2\"], defaultFp[\"3\"]]) / 3\n",
      "print \"Average Default False Positive Percentage: \", defaultAvgFp[id]\n",
      "uniqueAvgTp[id] = sum([uniqueTp[\"1\"], uniqueTp[\"2\"], uniqueTp[\"3\"]]) / 3\n",
      "print \"Average Unique True Positive Percentage: \", uniqueAvgTp[id]\n",
      "uniqueAvgFp[id] = sum([uniqueFp[\"1\"], uniqueFp[\"2\"], uniqueFp[\"3\"]]) / 3\n",
      "print \"Average Unique False Positive Percentage: \", uniqueAvgFp[id]\n",
      "multimapAvgTp[id] = sum([multimapTp[\"1\"], multimapTp[\"2\"], multimapTp[\"3\"]]) / 3\n",
      "print \"Average Multimap True Positive Percentage: \", multimapAvgTp[id]\n",
      "multimapAvgFp[id] = sum([multimapFp[\"1\"], multimapFp[\"2\"], multimapFp[\"3\"]]) / 3\n",
      "print \"Average Multimap False Positive Percentage: \", multimapAvgFp[id]"
     ],
     "language": "python",
     "metadata": {},
     "outputs": [
      {
       "output_type": "stream",
       "stream": "stdout",
       "text": [
        "Average Default True Positive Percentage:  84.9057462009\n",
        "Average Default False Positive Percentage:  0.0\n",
        "Average Unique True Positive Percentage:  84.9057462009\n",
        "Average Unique False Positive Percentage:  0.0\n",
        "Average Multimap True Positive Percentage:  84.9057462009\n",
        "Average Multimap False Positive Percentage:  0.0\n"
       ]
      }
     ],
     "prompt_number": 19
    },
    {
     "cell_type": "raw",
     "metadata": {},
     "source": [
      "Mouse transcriptome with 5000 randomly selected transcripts, paired end 100:50:100 reads, 20x expression"
     ]
    },
    {
     "cell_type": "code",
     "collapsed": false,
     "input": [
      "num = \"240\"\n",
      "rep = \"1\"\n",
      "createDataSet(num,rep)\n",
      "!grep '>' DataSet240rep1E1R100G100.fa | wc -l\n",
      "rep = \"2\"\n",
      "createDataSet(num,rep)\n",
      "!grep '>' DataSet240rep2E1R100G100.fa | wc -l\n",
      "rep = \"3\"\n",
      "createDataSet(num,rep)\n",
      "!grep '>' DataSet240rep3E1R100G100.fa | wc -l\n"
     ],
     "language": "python",
     "metadata": {},
     "outputs": []
    },
    {
     "cell_type": "code",
     "collapsed": false,
     "input": [
      "num = \"240\"\n",
      "rep = \"1\"\n",
      "error = \"1\"\n",
      "r = \"100\"\n",
      "g = \"100\"\n",
      "rep = \"1\"\n",
      "runBowtieBuild(num,rep,error,r,g)\n",
      "runBowtieAllParamsPaired(num,rep,error,r,g,num,rep,error,r,g)\n",
      "getTruePositivesAllParamsPaired(num,rep,error,r,g,\"mouse\")\n",
      "rep = \"2\"\n",
      "runBowtieBuild(num,rep,error,r,g)\n",
      "runBowtieAllParamsPaired(num,rep,error,r,g,num,rep,error,r,g)\n",
      "getTruePositivesAllParamsPaired(num,rep,error,r,g,\"mouse\")\n",
      "rep = \"3\"\n",
      "runBowtieBuild(num,rep,error,r,g)\n",
      "runBowtieAllParamsPaired(num,rep,error,r,g,num,rep,error,r,g)\n",
      "getTruePositivesAllParamsPaired(num,rep,error,r,g,\"mouse\")\n"
     ],
     "language": "python",
     "metadata": {},
     "outputs": [],
     "prompt_number": 20
    },
    {
     "cell_type": "code",
     "collapsed": false,
     "input": [
      "num = \"240\"\n",
      "rep = \"1\"\n",
      "error = \"1\"\n",
      "r = \"100\"\n",
      "g = \"100\"\n",
      "rep = \"1\"\n",
      "getTruePositivesAllParamsPaired(num,rep,error,r,g,\"mouse\")\n",
      "rep = \"2\"\n",
      "getTruePositivesAllParamsPaired(num,rep,error,r,g,\"mouse\")\n",
      "rep = \"3\"\n",
      "getTruePositivesAllParamsPaired(num,rep,error,r,g,\"mouse\")\n"
     ],
     "language": "python",
     "metadata": {},
     "outputs": [],
     "prompt_number": 47
    },
    {
     "cell_type": "code",
     "collapsed": false,
     "input": [
      "num = \"240\"\n",
      "rep = \"1\"\n",
      "error = \"1\"\n",
      "r = \"100\"\n",
      "g = \"100\"\n",
      "defaultTp = {}\n",
      "defaultFp = {}\n",
      "uniqueTp = {}\n",
      "uniqueFp = {}\n",
      "multimapTp = {}\n",
      "multimapFp = {}\n",
      "defaultTp[rep],defaultFp[rep] = getTpFpPairedEnds(num,rep,error,r,g,\"default\",num,rep,error,r,g)\n",
      "uniqueTp[rep],uniqueFp[rep] = getTpFpPairedEnds(num,rep,error,r,g,\"unique\",num,rep,error,r,g)\n",
      "multimapTp[rep],multimapFp[rep] = getTpFpPairedEnds(num,rep,error,r,g,\"multimap\",num,rep,error,r,g)\n",
      "rep = \"2\"\n",
      "defaultTp[rep],defaultFp[rep] = getTpFpPairedEnds(num,rep,error,r,g,\"default\",num,rep,error,r,g)\n",
      "uniqueTp[rep],uniqueFp[rep] = getTpFpPairedEnds(num,rep,error,r,g,\"unique\",num,rep,error,r,g)\n",
      "multimapTp[rep],multimapFp[rep] = getTpFpPairedEnds(num,rep,error,r,g,\"multimap\",num,rep,error,r,g)\n",
      "rep = \"3\"\n",
      "defaultTp[rep],defaultFp[rep] = getTpFpPairedEnds(num,rep,error,r,g,\"default\",num,rep,error,r,g)\n",
      "uniqueTp[rep],uniqueFp[rep] = getTpFpPairedEnds(num,rep,error,r,g,\"unique\",num,rep,error,r,g)\n",
      "multimapTp[rep],multimapFp[rep] = getTpFpPairedEnds(num,rep,error,r,g,\"multimap\",num,rep,error,r,g)\n",
      "print defaultTp, defaultFp, uniqueTp, uniqueFp, multimapTp, multimapFp"
     ],
     "language": "python",
     "metadata": {},
     "outputs": [
      {
       "output_type": "stream",
       "stream": "stdout",
       "text": [
        "{'1': 80.7802124313621, '3': 80.82240090280717, '2': 80.76244886443786} {'1': 4.108347309080839, '3': 4.13995600904897, '2': 4.078436597127526} {'1': 76.55130797322926, '3': 76.63947273553705, '2': 76.55156920215461} {'1': 0.00026122892535644686, '3': 0.0, '2': 0.0005224578507128937} {'1': 85.29464010490953, '3': 85.33957148007084, '2': 85.24265554876361} {'1': 9.16351885811612, '3': 9.176188460995908, '2': 9.155812604818106}\n"
       ]
      }
     ],
     "prompt_number": 48
    },
    {
     "cell_type": "code",
     "collapsed": false,
     "input": [
      "id = \"mousePe\"\n",
      "defaultAvgTp[id] = sum([defaultTp[\"1\"], defaultTp[\"2\"], defaultTp[\"3\"]]) / 3\n",
      "print \"Average Default True Positive Percentage: \", defaultAvgTp[id]\n",
      "defaultAvgFp[id] = sum([defaultFp[\"1\"], defaultFp[\"2\"], defaultFp[\"3\"]]) / 3\n",
      "print \"Average Default False Positive Percentage: \", defaultAvgFp[id]\n",
      "uniqueAvgTp[id] = sum([uniqueTp[\"1\"], uniqueTp[\"2\"], uniqueTp[\"3\"]]) / 3\n",
      "print \"Average Unique True Positive Percentage: \", uniqueAvgTp[id]\n",
      "uniqueAvgFp[id] = sum([uniqueFp[\"1\"], uniqueFp[\"2\"], uniqueFp[\"3\"]]) / 3\n",
      "print \"Average Unique False Positive Percentage: \", uniqueAvgFp[id]\n",
      "multimapAvgTp[id] = sum([multimapTp[\"1\"], multimapTp[\"2\"], multimapTp[\"3\"]]) / 3\n",
      "print \"Average Multimap True Positive Percentage: \", multimapAvgTp[id]\n",
      "multimapAvgFp[id] = sum([multimapFp[\"1\"], multimapFp[\"2\"], multimapFp[\"3\"]]) / 3\n",
      "print \"Average Multimap False Positive Percentage: \", multimapAvgFp[id]"
     ],
     "language": "python",
     "metadata": {},
     "outputs": [
      {
       "output_type": "stream",
       "stream": "stdout",
       "text": [
        "Average Default True Positive Percentage:  80.7883540662\n",
        "Average Default False Positive Percentage:  4.10891330509\n",
        "Average Unique True Positive Percentage:  76.5807833036\n",
        "Average Unique False Positive Percentage:  0.000261228925356\n",
        "Average Multimap True Positive Percentage:  85.2922890446\n",
        "Average Multimap False Positive Percentage:  9.16517330798\n"
       ]
      }
     ],
     "prompt_number": 49
    },
    {
     "cell_type": "code",
     "collapsed": false,
     "input": [
      "print \"Percent Mapping Accuracy on Small Simulated Transcriptome and Randomly Selected Transcripts from Mouse Transcriptome with Single or Paired End Reads\"\n",
      "print \"Transcriptome\\tTP(d)\\tFP(d)\\tTP(u)\\tFP(u)\\tTP(m)\\tFP(m)\"\n",
      "id = \"randomSe\"\n",
      "print \"RandomSe\\t\\t\" + str(defaultAvgTp[id])[0:5] + \"\\t\" + str(defaultAvgFp[id])[0:5] + \"\\t\" + str(uniqueAvgTp[id])[0:5] + \"\\t\" + str(uniqueAvgFp[id])[0:5] + \"\\t\" + str(multimapAvgTp[id])[0:5] + \"\\t\" + str(multimapAvgFp[id])[0:5]\n",
      "id = \"mouseSe\"\n",
      "print \"MouseSe\\t\\t\" + str(defaultAvgTp[id])[0:5] + \"\\t\" + str(defaultAvgFp[id])[0:5] + \"\\t\" + str(uniqueAvgTp[id])[0:5] + \"\\t\" + str(uniqueAvgFp[id])[0:5] + \"\\t\" + str(multimapAvgTp[id])[0:5] + \"\\t\" + str(multimapAvgFp[id])[0:5]\n",
      "id = \"randomPe\"\n",
      "print \"RandomPe\\t\\t\" + str(defaultAvgTp[id])[0:5] + \"\\t\" + str(defaultAvgFp[id])[0:5] + \"\\t\" + str(uniqueAvgTp[id])[0:5] + \"\\t\" + str(uniqueAvgFp[id])[0:5] + \"\\t\" + str(multimapAvgTp[id])[0:5] + \"\\t\" + str(multimapAvgFp[id])[0:5]\n",
      "id = \"mousePe\"\n",
      "print \"MousePe\\t\\t\" + str(defaultAvgTp[id])[0:5] + \"\\t\" + str(defaultAvgFp[id])[0:5] + \"\\t\" + str(uniqueAvgTp[id])[0:5] + \"\\t\" + str(uniqueAvgFp[id])[0:5] + \"\\t\" + str(multimapAvgTp[id])[0:5] + \"\\t\" + str(multimapAvgFp[id])[0:5]\n"
     ],
     "language": "python",
     "metadata": {},
     "outputs": [
      {
       "output_type": "stream",
       "stream": "stdout",
       "text": [
        "Percent Mapping Accuracy on Small Simulated Transcriptome and Randomly Selected Transcripts from Mouse Transcriptome with Single or Paired End Reads\n",
        "Transcriptome\tTP(d)\tFP(d)\tTP(u)\tFP(u)\tTP(m)\tFP(m)\n",
        "RandomSe\t\t92.05\t0.0\t92.05\t0.0\t92.05\t0.0\n",
        "MouseSe\t\t86.79\t5.265\t81.46\t0.000\t92.41\t12.18\n",
        "RandomPe\t\t84.90\t0.0\t84.90\t0.0\t84.90\t0.0\n",
        "MousePe\t\t80.78\t4.108\t76.58\t0.000\t85.29\t9.165\n"
       ]
      }
     ],
     "prompt_number": 406
    },
    {
     "cell_type": "heading",
     "level": 2,
     "metadata": {},
     "source": [
      "Test 2: Mapping accuracy of read sets generated from small random transcriptomes with artificial isoforms with complete reference"
     ]
    },
    {
     "cell_type": "raw",
     "metadata": {},
     "source": [
      "Random transcriptome with 5000 transcripts, 0% artificial isoforms, single end 100 bp reads, 50x expression"
     ]
    },
    {
     "cell_type": "code",
     "collapsed": false,
     "input": [
      "defaultAvgTp = {}\n",
      "defaultAvgFp = {}\n",
      "uniqueAvgTp = {}\n",
      "uniqueAvgFp = {}\n",
      "multimapAvgTp = {}\n",
      "multimapAvgFp = {}"
     ],
     "language": "python",
     "metadata": {},
     "outputs": [],
     "prompt_number": 28
    },
    {
     "cell_type": "code",
     "collapsed": false,
     "input": [
      "num = \"181\"\n",
      "rep = \"1\"\n",
      "createDataSet(num,rep)\n",
      "!grep '>' DataSet181rep1E1R100G100.fa | wc -l\n",
      "rep = \"2\"\n",
      "createDataSet(num,rep)\n",
      "!grep '>' DataSet181rep2E1R100G100.fa | wc -l\n",
      "rep = \"3\"\n",
      "createDataSet(num,rep)\n",
      "!grep '>' DataSet181rep3E1R100G100.fa | wc -l\n"
     ],
     "language": "python",
     "metadata": {},
     "outputs": [],
     "prompt_number": 28
    },
    {
     "cell_type": "code",
     "collapsed": false,
     "input": [
      "error = \"1\"\n",
      "r = \"100\"\n",
      "g = \"100\"\n",
      "rep = \"1\"\n",
      "runBowtieBuild(num,rep,error,r,g)\n",
      "runBowtieAllParams(num,rep,error,r,g,num,rep,error,r,g)\n",
      "getTruePositivesAllParams(num,rep,error,r,g,\"random\")\n",
      "rep = \"2\"\n",
      "runBowtieBuild(num,rep,error,r,g)\n",
      "runBowtieAllParams(num,rep,error,r,g,num,rep,error,r,g)\n",
      "getTruePositivesAllParams(num,rep,error,r,g,\"random\")\n",
      "rep = \"3\"\n",
      "runBowtieBuild(num,rep,error,r,g)\n",
      "runBowtieAllParams(num,rep,error,r,g,num,rep,error,r,g)\n",
      "getTruePositivesAllParams(num,rep,error,r,g,\"random\")\n"
     ],
     "language": "python",
     "metadata": {},
     "outputs": []
    },
    {
     "cell_type": "code",
     "collapsed": false,
     "input": [
      "num = \"181\"\n",
      "rep = \"1\"\n",
      "error = \"1\"\n",
      "r = \"100\"\n",
      "g = \"100\"\n",
      "defaultTp = {}\n",
      "defaultFp = {}\n",
      "uniqueTp = {}\n",
      "uniqueFp = {}\n",
      "multimapTp = {}\n",
      "multimapFp = {}\n",
      "defaultTp[rep],defaultFp[rep] = getTpFp(num,rep,error,r,g,\"default\",num,rep,error,r,g)\n",
      "uniqueTp[rep],uniqueFp[rep] = getTpFp(num,rep,error,r,g,\"unique\",num,rep,error,r,g)\n",
      "multimapTp[rep],multimapFp[rep] = getTpFp(num,rep,error,r,g,\"multimap\",num,rep,error,r,g)\n",
      "rep = \"2\"\n",
      "defaultTp[rep],defaultFp[rep] = getTpFp(num,rep,error,r,g,\"default\",num,rep,error,r,g)\n",
      "uniqueTp[rep],uniqueFp[rep] = getTpFp(num,rep,error,r,g,\"unique\",num,rep,error,r,g)\n",
      "multimapTp[rep],multimapFp[rep] = getTpFp(num,rep,error,r,g,\"multimap\",num,rep,error,r,g)\n",
      "rep = \"3\"\n",
      "defaultTp[rep],defaultFp[rep] = getTpFp(num,rep,error,r,g,\"default\",num,rep,error,r,g)\n",
      "uniqueTp[rep],uniqueFp[rep] = getTpFp(num,rep,error,r,g,\"unique\",num,rep,error,r,g)\n",
      "multimapTp[rep],multimapFp[rep] = getTpFp(num,rep,error,r,g,\"multimap\",num,rep,error,r,g)\n",
      "print defaultTp, defaultFp, uniqueTp, uniqueFp, multimapTp, multimapFp"
     ],
     "language": "python",
     "metadata": {},
     "outputs": [
      {
       "output_type": "stream",
       "stream": "stdout",
       "text": [
        "{'1': 92.06255683218131, '3': 92.0314486144157, '2': 92.07765973972015} {'1': 0.0, '3': 0.0, '2': 0.0} {'1': 92.06255683218131, '3': 92.0314486144157, '2': 92.07765973972015} {'1': 0.0, '3': 0.0, '2': 0.0} {'1': 92.06255683218131, '3': 92.0314486144157, '2': 92.07765973972015} {'1': 0.0, '3': 0.0, '2': 0.0}\n"
       ]
      }
     ],
     "prompt_number": 315
    },
    {
     "cell_type": "code",
     "collapsed": false,
     "input": [
      "id = \"00\"\n",
      "defaultAvgTp[id] = sum([defaultTp[\"1\"], defaultTp[\"2\"], defaultTp[\"3\"]]) / 3\n",
      "print \"Average Default True Positive Percentage: \", defaultAvgTp[id]\n",
      "defaultAvgFp[id] = sum([defaultFp[\"1\"], defaultFp[\"2\"], defaultFp[\"3\"]]) / 3\n",
      "print \"Average Default False Positive Percentage: \", defaultAvgFp[id]\n",
      "uniqueAvgTp[id] = sum([uniqueTp[\"1\"], uniqueTp[\"2\"], uniqueTp[\"3\"]]) / 3\n",
      "print \"Average Unique True Positive Percentage: \", uniqueAvgTp[id]\n",
      "uniqueAvgFp[id] = sum([uniqueFp[\"1\"], uniqueFp[\"2\"], uniqueFp[\"3\"]]) / 3\n",
      "print \"Average Unique False Positive Percentage: \", uniqueAvgFp[id]\n",
      "multimapAvgTp[id] = sum([multimapTp[\"1\"], multimapTp[\"2\"], multimapTp[\"3\"]]) / 3\n",
      "print \"Average Multimap True Positive Percentage: \", multimapAvgTp[id]\n",
      "multimapAvgFp[id] = sum([multimapFp[\"1\"], multimapFp[\"2\"], multimapFp[\"3\"]]) / 3\n",
      "print \"Average Multimap False Positive Percentage: \", multimapAvgFp[id]"
     ],
     "language": "python",
     "metadata": {},
     "outputs": [
      {
       "output_type": "stream",
       "stream": "stdout",
       "text": [
        "Average Default True Positive Percentage:  92.0572217288\n",
        "Average Default False Positive Percentage:  0.0\n",
        "Average Unique True Positive Percentage:  92.0572217288\n",
        "Average Unique False Positive Percentage:  0.0\n",
        "Average Multimap True Positive Percentage:  92.0572217288\n",
        "Average Multimap False Positive Percentage:  0.0\n"
       ]
      }
     ],
     "prompt_number": 316
    },
    {
     "cell_type": "raw",
     "metadata": {},
     "source": [
      "Random transcriptome with 5000 transcripts, 10% artificial isoforms, single end 100 bp reads, 50x expression"
     ]
    },
    {
     "cell_type": "code",
     "collapsed": false,
     "input": [
      "num = \"183\"\n",
      "rep = \"1\"\n",
      "createDataSet(num,rep)\n",
      "!grep '>' DataSet183rep1E1R100G100.fa | wc -l\n",
      "rep = \"2\"\n",
      "createDataSet(num,rep)\n",
      "!grep '>' DataSet183rep2E1R100G100.fa | wc -l\n",
      "rep = \"3\"\n",
      "createDataSet(num,rep)\n",
      "!grep '>' DataSet183rep3E1R100G100.fa | wc -l\n"
     ],
     "language": "python",
     "metadata": {},
     "outputs": [],
     "prompt_number": 48
    },
    {
     "cell_type": "code",
     "collapsed": false,
     "input": [
      "error = \"1\"\n",
      "r = \"100\"\n",
      "g = \"100\"\n",
      "rep = \"1\"\n",
      "runBowtieBuild(num,rep,error,r,g)\n",
      "runBowtieAllParams(num,rep,error,r,g,num,rep,error,r,g)\n",
      "getTruePositivesAllParams(num,rep,error,r,g,\"random\")\n",
      "rep = \"2\"\n",
      "runBowtieBuild(num,rep,error,r,g)\n",
      "runBowtieAllParams(num,rep,error,r,g,num,rep,error,r,g)\n",
      "getTruePositivesAllParams(num,rep,error,r,g,\"random\")\n",
      "rep = \"3\"\n",
      "runBowtieBuild(num,rep,error,r,g)\n",
      "runBowtieAllParams(num,rep,error,r,g,num,rep,error,r,g)\n",
      "getTruePositivesAllParams(num,rep,error,r,g,\"random\")\n"
     ],
     "language": "python",
     "metadata": {},
     "outputs": []
    },
    {
     "cell_type": "code",
     "collapsed": false,
     "input": [
      "num = \"183\"\n",
      "rep = \"1\"\n",
      "error = \"1\"\n",
      "r = \"100\"\n",
      "g = \"100\"\n",
      "defaultTp = {}\n",
      "defaultFp = {}\n",
      "uniqueTp = {}\n",
      "uniqueFp = {}\n",
      "multimapTp = {}\n",
      "multimapFp = {}\n",
      "defaultTp[rep],defaultFp[rep] = getTpFp(num,rep,error,r,g,\"default\",num,rep,error,r,g)\n",
      "uniqueTp[rep],uniqueFp[rep] = getTpFp(num,rep,error,r,g,\"unique\",num,rep,error,r,g)\n",
      "multimapTp[rep],multimapFp[rep] = getTpFp(num,rep,error,r,g,\"multimap\",num,rep,error,r,g)\n",
      "rep = \"2\"\n",
      "defaultTp[rep],defaultFp[rep] = getTpFp(num,rep,error,r,g,\"default\",num,rep,error,r,g)\n",
      "uniqueTp[rep],uniqueFp[rep] = getTpFp(num,rep,error,r,g,\"unique\",num,rep,error,r,g)\n",
      "multimapTp[rep],multimapFp[rep] = getTpFp(num,rep,error,r,g,\"multimap\",num,rep,error,r,g)\n",
      "rep = \"3\"\n",
      "defaultTp[rep],defaultFp[rep] = getTpFp(num,rep,error,r,g,\"default\",num,rep,error,r,g)\n",
      "uniqueTp[rep],uniqueFp[rep] = getTpFp(num,rep,error,r,g,\"unique\",num,rep,error,r,g)\n",
      "multimapTp[rep],multimapFp[rep] = getTpFp(num,rep,error,r,g,\"multimap\",num,rep,error,r,g)\n",
      "print defaultTp, defaultFp, uniqueTp, uniqueFp, multimapTp, multimapFp"
     ],
     "language": "python",
     "metadata": {},
     "outputs": [
      {
       "output_type": "stream",
       "stream": "stdout",
       "text": [
        "{'1': 85.22328052353349, '3': 85.7885236410023, '2': 85.95008104582054} {'1': 6.862043292671335, '3': 6.288156741811337, '2': 6.103694723016574} {'1': 79.40165375897801, '3': 80.31788641296438, '2': 80.69669284104664} {'1': 0.0, '3': 0.0, '2': 0.0} {'1': 92.08532381620482, '3': 92.07668038281363, '2': 92.05377576883711} {'1': 16.011818707926395, '3': 14.441647547658192, '2': 14.234193868631095}\n"
       ]
      }
     ],
     "prompt_number": 317
    },
    {
     "cell_type": "code",
     "collapsed": false,
     "input": [
      "id = \"10\"\n",
      "defaultAvgTp[id] = sum([defaultTp[\"1\"], defaultTp[\"2\"], defaultTp[\"3\"]]) / 3\n",
      "print \"Average Default True Positive Percentage: \", defaultAvgTp[id]\n",
      "defaultAvgFp[id] = sum([defaultFp[\"1\"], defaultFp[\"2\"], defaultFp[\"3\"]]) / 3\n",
      "print \"Average Default False Positive Percentage: \", defaultAvgFp[id]\n",
      "uniqueAvgTp[id] = sum([uniqueTp[\"1\"], uniqueTp[\"2\"], uniqueTp[\"3\"]]) / 3\n",
      "print \"Average Unique True Positive Percentage: \", uniqueAvgTp[id]\n",
      "uniqueAvgFp[id] = sum([uniqueFp[\"1\"], uniqueFp[\"2\"], uniqueFp[\"3\"]]) / 3\n",
      "print \"Average Unique False Positive Percentage: \", uniqueAvgFp[id]\n",
      "multimapAvgTp[id] = sum([multimapTp[\"1\"], multimapTp[\"2\"], multimapTp[\"3\"]]) / 3\n",
      "print \"Average Multimap True Positive Percentage: \", multimapAvgTp[id]\n",
      "multimapAvgFp[id] = sum([multimapFp[\"1\"], multimapFp[\"2\"], multimapFp[\"3\"]]) / 3\n",
      "print \"Average Multimap False Positive Percentage: \", multimapAvgFp[id]"
     ],
     "language": "python",
     "metadata": {},
     "outputs": [
      {
       "output_type": "stream",
       "stream": "stdout",
       "text": [
        "Average Default True Positive Percentage:  85.6539617368\n",
        "Average Default False Positive Percentage:  6.41796491917\n",
        "Average Unique True Positive Percentage:  80.1387443377\n",
        "Average Unique False Positive Percentage:  0.0\n",
        "Average Multimap True Positive Percentage:  92.071926656\n",
        "Average Multimap False Positive Percentage:  14.8958867081\n"
       ]
      }
     ],
     "prompt_number": 318
    },
    {
     "cell_type": "raw",
     "metadata": {},
     "source": [
      "Random transcriptome with 5000 transcripts, 20% artificial isoforms, single end 100 bp reads, 50x expression"
     ]
    },
    {
     "cell_type": "code",
     "collapsed": false,
     "input": [
      "num = \"185\"\n",
      "rep = \"1\"\n",
      "createDataSet(num,rep)\n",
      "!grep '>' DataSet185rep1E1R100G100.fa | wc -l\n",
      "rep = \"2\"\n",
      "createDataSet(num,rep)\n",
      "!grep '>' DataSet185rep2E1R100G100.fa | wc -l\n",
      "rep = \"3\"\n",
      "createDataSet(num,rep)\n",
      "!grep '>' DataSet185rep3E1R100G100.fa | wc -l\n"
     ],
     "language": "python",
     "metadata": {},
     "outputs": []
    },
    {
     "cell_type": "code",
     "collapsed": false,
     "input": [
      "error = \"1\"\n",
      "r = \"100\"\n",
      "g = \"100\"\n",
      "rep = \"1\"\n",
      "runBowtieBuild(num,rep,error,r,g)\n",
      "runBowtieAllParams(num,rep,error,r,g,num,rep,error,r,g)\n",
      "getTruePositivesAllParams(num,rep,error,r,g,\"random\")\n",
      "rep = \"2\"\n",
      "runBowtieBuild(num,rep,error,r,g)\n",
      "runBowtieAllParams(num,rep,error,r,g,num,rep,error,r,g)\n",
      "getTruePositivesAllParams(num,rep,error,r,g,\"random\")\n",
      "rep = \"3\"\n",
      "runBowtieBuild(num,rep,error,r,g)\n",
      "runBowtieAllParams(num,rep,error,r,g,num,rep,error,r,g)\n",
      "getTruePositivesAllParams(num,rep,error,r,g,\"random\")\n"
     ],
     "language": "python",
     "metadata": {},
     "outputs": []
    },
    {
     "cell_type": "code",
     "collapsed": false,
     "input": [
      "num = \"185\"\n",
      "rep = \"1\"\n",
      "error = \"1\"\n",
      "r = \"100\"\n",
      "g = \"100\"\n",
      "defaultTp = {}\n",
      "defaultFp = {}\n",
      "uniqueTp = {}\n",
      "uniqueFp = {}\n",
      "multimapTp = {}\n",
      "multimapFp = {}\n",
      "defaultTp[rep],defaultFp[rep] = getTpFp(num,rep,error,r,g,\"default\",num,rep,error,r,g)\n",
      "uniqueTp[rep],uniqueFp[rep] = getTpFp(num,rep,error,r,g,\"unique\",num,rep,error,r,g)\n",
      "multimapTp[rep],multimapFp[rep] = getTpFp(num,rep,error,r,g,\"multimap\",num,rep,error,r,g)\n",
      "rep = \"2\"\n",
      "defaultTp[rep],defaultFp[rep] = getTpFp(num,rep,error,r,g,\"default\",num,rep,error,r,g)\n",
      "uniqueTp[rep],uniqueFp[rep] = getTpFp(num,rep,error,r,g,\"unique\",num,rep,error,r,g)\n",
      "multimapTp[rep],multimapFp[rep] = getTpFp(num,rep,error,r,g,\"multimap\",num,rep,error,r,g)\n",
      "rep = \"3\"\n",
      "defaultTp[rep],defaultFp[rep] = getTpFp(num,rep,error,r,g,\"default\",num,rep,error,r,g)\n",
      "uniqueTp[rep],uniqueFp[rep] = getTpFp(num,rep,error,r,g,\"unique\",num,rep,error,r,g)\n",
      "multimapTp[rep],multimapFp[rep] = getTpFp(num,rep,error,r,g,\"multimap\",num,rep,error,r,g)\n",
      "print defaultTp, defaultFp, uniqueTp, uniqueFp, multimapTp, multimapFp"
     ],
     "language": "python",
     "metadata": {},
     "outputs": [
      {
       "output_type": "stream",
       "stream": "stdout",
       "text": [
        "{'1': 79.54444121114832, '3': 80.35380730860105, '2': 79.85848230002574} {'1': 12.524225394266658, '3': 11.694190868619444, '2': 12.244691112833685} {'1': 70.25627063979009, '3': 71.2726983542914, '2': 70.23932026036478} {'1': 3.0728262903642624e-05, '3': 0.0, '2': 3.157467647797114e-05} {'1': 92.06863587715209, '3': 92.04799817722049, '2': 92.10314183818295} {'1': 35.162320512375345, '3': 31.16205033661145, '2': 33.50452070430474}\n"
       ]
      }
     ],
     "prompt_number": 319
    },
    {
     "cell_type": "code",
     "collapsed": false,
     "input": [
      "id = \"20\"\n",
      "defaultAvgTp[id] = sum([defaultTp[\"1\"], defaultTp[\"2\"], defaultTp[\"3\"]]) / 3\n",
      "print \"Average Default True Positive Percentage: \", defaultAvgTp[id]\n",
      "defaultAvgFp[id] = sum([defaultFp[\"1\"], defaultFp[\"2\"], defaultFp[\"3\"]]) / 3\n",
      "print \"Average Default False Positive Percentage: \", defaultAvgFp[id]\n",
      "uniqueAvgTp[id] = sum([uniqueTp[\"1\"], uniqueTp[\"2\"], uniqueTp[\"3\"]]) / 3\n",
      "print \"Average Unique True Positive Percentage: \", uniqueAvgTp[id]\n",
      "uniqueAvgFp[id] = sum([uniqueFp[\"1\"], uniqueFp[\"2\"], uniqueFp[\"3\"]]) / 3\n",
      "print \"Average Unique False Positive Percentage: \", uniqueAvgFp[id]\n",
      "multimapAvgTp[id] = sum([multimapTp[\"1\"], multimapTp[\"2\"], multimapTp[\"3\"]]) / 3\n",
      "print \"Average Multimap True Positive Percentage: \", multimapAvgTp[id]\n",
      "multimapAvgFp[id] = sum([multimapFp[\"1\"], multimapFp[\"2\"], multimapFp[\"3\"]]) / 3\n",
      "print \"Average Multimap False Positive Percentage: \", multimapAvgFp[id]"
     ],
     "language": "python",
     "metadata": {},
     "outputs": [
      {
       "output_type": "stream",
       "stream": "stdout",
       "text": [
        "Average Default True Positive Percentage:  79.9189102733\n",
        "Average Default False Positive Percentage:  12.1543691252\n",
        "Average Unique True Positive Percentage:  70.5894297515\n",
        "Average Unique False Positive Percentage:  2.07676464605e-05\n",
        "Average Multimap True Positive Percentage:  92.0732586309\n",
        "Average Multimap False Positive Percentage:  33.2762971844\n"
       ]
      }
     ],
     "prompt_number": 320
    },
    {
     "cell_type": "raw",
     "metadata": {},
     "source": [
      "Random transcriptome with 5000 transcripts, 30% artificial isoforms, single end 100 bp reads, 50x expression"
     ]
    },
    {
     "cell_type": "code",
     "collapsed": false,
     "input": [
      "num = \"187\"\n",
      "rep = \"1\"\n",
      "createDataSet(num,rep)\n",
      "!grep '>' DataSet187rep1E1R100G100.fa | wc -l\n",
      "rep = \"2\"\n",
      "createDataSet(num,rep)\n",
      "!grep '>' DataSet187rep2E1R100G100.fa | wc -l\n",
      "rep = \"3\"\n",
      "createDataSet(num,rep)\n",
      "!grep '>' DataSet187rep3E1R100G100.fa | wc -l\n"
     ],
     "language": "python",
     "metadata": {},
     "outputs": []
    },
    {
     "cell_type": "code",
     "collapsed": false,
     "input": [
      "error = \"1\"\n",
      "r = \"100\"\n",
      "g = \"100\"\n",
      "rep = \"1\"\n",
      "runBowtieBuild(num,rep,error,r,g)\n",
      "runBowtieAllParams(num,rep,error,r,g,num,rep,error,r,g)\n",
      "getTruePositivesAllParams(num,rep,error,r,g,\"random\")\n",
      "rep = \"2\"\n",
      "runBowtieBuild(num,rep,error,r,g)\n",
      "runBowtieAllParams(num,rep,error,r,g,num,rep,error,r,g)\n",
      "getTruePositivesAllParams(num,rep,error,r,g,\"random\")\n",
      "rep = \"3\"\n",
      "runBowtieBuild(num,rep,error,r,g)\n",
      "runBowtieAllParams(num,rep,error,r,g,num,rep,error,r,g)\n",
      "getTruePositivesAllParams(num,rep,error,r,g,\"random\")\n"
     ],
     "language": "python",
     "metadata": {},
     "outputs": []
    },
    {
     "cell_type": "code",
     "collapsed": false,
     "input": [
      "num = \"187\"\n",
      "rep = \"1\"\n",
      "error = \"1\"\n",
      "r = \"100\"\n",
      "g = \"100\"\n",
      "defaultTp = {}\n",
      "defaultFp = {}\n",
      "uniqueTp = {}\n",
      "uniqueFp = {}\n",
      "multimapTp = {}\n",
      "multimapFp = {}\n",
      "defaultTp[rep],defaultFp[rep] = getTpFp(num,rep,error,r,g,\"default\",num,rep,error,r,g)\n",
      "uniqueTp[rep],uniqueFp[rep] = getTpFp(num,rep,error,r,g,\"unique\",num,rep,error,r,g)\n",
      "multimapTp[rep],multimapFp[rep] = getTpFp(num,rep,error,r,g,\"multimap\",num,rep,error,r,g)\n",
      "rep = \"2\"\n",
      "defaultTp[rep],defaultFp[rep] = getTpFp(num,rep,error,r,g,\"default\",num,rep,error,r,g)\n",
      "uniqueTp[rep],uniqueFp[rep] = getTpFp(num,rep,error,r,g,\"unique\",num,rep,error,r,g)\n",
      "multimapTp[rep],multimapFp[rep] = getTpFp(num,rep,error,r,g,\"multimap\",num,rep,error,r,g)\n",
      "rep = \"3\"\n",
      "defaultTp[rep],defaultFp[rep] = getTpFp(num,rep,error,r,g,\"default\",num,rep,error,r,g)\n",
      "uniqueTp[rep],uniqueFp[rep] = getTpFp(num,rep,error,r,g,\"unique\",num,rep,error,r,g)\n",
      "multimapTp[rep],multimapFp[rep] = getTpFp(num,rep,error,r,g,\"multimap\",num,rep,error,r,g)\n",
      "print defaultTp, defaultFp, uniqueTp, uniqueFp, multimapTp, multimapFp"
     ],
     "language": "python",
     "metadata": {},
     "outputs": [
      {
       "output_type": "stream",
       "stream": "stdout",
       "text": [
        "{'1': 72.2892854615228, '3': 73.2703629832503, '2': 73.39389602131304} {'1': 19.752978441243528, '3': 18.79316055735081, '2': 18.684278823071605} {'1': 59.048190652381315, '3': 61.10219595772245, '2': 60.84020292384561} {'1': 0.0, '3': 0.0, '2': 3.1155782965077175e-05} {'1': 92.04223299725652, '3': 92.06349255532189, '2': 92.07814368860168} {'1': 64.93491763218054, '3': 67.48661978180786, '2': 63.73124149252401}\n"
       ]
      }
     ],
     "prompt_number": 321
    },
    {
     "cell_type": "code",
     "collapsed": false,
     "input": [
      "id = \"30\"\n",
      "defaultAvgTp[id] = sum([defaultTp[\"1\"], defaultTp[\"2\"], defaultTp[\"3\"]]) / 3\n",
      "print \"Average Default True Positive Percentage: \", defaultAvgTp[id]\n",
      "defaultAvgFp[id] = sum([defaultFp[\"1\"], defaultFp[\"2\"], defaultFp[\"3\"]]) / 3\n",
      "print \"Average Default False Positive Percentage: \", defaultAvgFp[id]\n",
      "uniqueAvgTp[id] = sum([uniqueTp[\"1\"], uniqueTp[\"2\"], uniqueTp[\"3\"]]) / 3\n",
      "print \"Average Unique True Positive Percentage: \", uniqueAvgTp[id]\n",
      "uniqueAvgFp[id] = sum([uniqueFp[\"1\"], uniqueFp[\"2\"], uniqueFp[\"3\"]]) / 3\n",
      "print \"Average Unique False Positive Percentage: \", uniqueAvgFp[id]\n",
      "multimapAvgTp[id] = sum([multimapTp[\"1\"], multimapTp[\"2\"], multimapTp[\"3\"]]) / 3\n",
      "print \"Average Multimap True Positive Percentage: \", multimapAvgTp[id]\n",
      "multimapAvgFp[id] = sum([multimapFp[\"1\"], multimapFp[\"2\"], multimapFp[\"3\"]]) / 3\n",
      "print \"Average Multimap False Positive Percentage: \", multimapAvgFp[id]"
     ],
     "language": "python",
     "metadata": {},
     "outputs": [
      {
       "output_type": "stream",
       "stream": "stdout",
       "text": [
        "Average Default True Positive Percentage:  72.984514822\n",
        "Average Default False Positive Percentage:  19.0768059406\n",
        "Average Unique True Positive Percentage:  60.3301965113\n",
        "Average Unique False Positive Percentage:  1.03852609884e-05\n",
        "Average Multimap True Positive Percentage:  92.0612897471\n",
        "Average Multimap False Positive Percentage:  65.3842596355\n"
       ]
      }
     ],
     "prompt_number": 322
    },
    {
     "cell_type": "raw",
     "metadata": {},
     "source": [
      "Random transcriptome with 5000 transcripts, 40% artificial isoforms, single end 100 bp reads, 50x expression"
     ]
    },
    {
     "cell_type": "code",
     "collapsed": false,
     "input": [
      "num = \"189\"\n",
      "rep = \"1\"\n",
      "createDataSet(num,rep)\n",
      "!grep '>' DataSet189rep1E1R100G100.fa | wc -l\n",
      "rep = \"2\"\n",
      "createDataSet(num,rep)\n",
      "!grep '>' DataSet189rep2E1R100G100.fa | wc -l\n",
      "rep = \"3\"\n",
      "createDataSet(num,rep)\n",
      "!grep '>' DataSet189rep3E1R100G100.fa | wc -l\n"
     ],
     "language": "python",
     "metadata": {},
     "outputs": []
    },
    {
     "cell_type": "code",
     "collapsed": false,
     "input": [
      "error = \"1\"\n",
      "r = \"100\"\n",
      "g = \"100\"\n",
      "rep = \"1\"\n",
      "runBowtieBuild(num,rep,error,r,g)\n",
      "runBowtieAllParams(num,rep,error,r,g,num,rep,error,r,g)\n",
      "getTruePositivesAllParams(num,rep,error,r,g,\"random\")\n",
      "rep = \"2\"\n",
      "runBowtieBuild(num,rep,error,r,g)\n",
      "runBowtieAllParams(num,rep,error,r,g,num,rep,error,r,g)\n",
      "getTruePositivesAllParams(num,rep,error,r,g,\"random\")\n",
      "rep = \"3\"\n",
      "runBowtieBuild(num,rep,error,r,g)\n",
      "runBowtieAllParams(num,rep,error,r,g,num,rep,error,r,g)\n",
      "getTruePositivesAllParams(num,rep,error,r,g,\"random\")\n"
     ],
     "language": "python",
     "metadata": {},
     "outputs": []
    },
    {
     "cell_type": "code",
     "collapsed": false,
     "input": [
      "num = \"189\"\n",
      "rep = \"1\"\n",
      "error = \"1\"\n",
      "r = \"100\"\n",
      "g = \"100\"\n",
      "defaultTp = {}\n",
      "defaultFp = {}\n",
      "uniqueTp = {}\n",
      "uniqueFp = {}\n",
      "multimapTp = {}\n",
      "multimapFp = {}\n",
      "defaultTp[rep],defaultFp[rep] = getTpFp(num,rep,error,r,g,\"default\",num,rep,error,r,g)\n",
      "uniqueTp[rep],uniqueFp[rep] = getTpFp(num,rep,error,r,g,\"unique\",num,rep,error,r,g)\n",
      "multimapTp[rep],multimapFp[rep] = getTpFp(num,rep,error,r,g,\"multimap\",num,rep,error,r,g)\n",
      "rep = \"2\"\n",
      "defaultTp[rep],defaultFp[rep] = getTpFp(num,rep,error,r,g,\"default\",num,rep,error,r,g)\n",
      "uniqueTp[rep],uniqueFp[rep] = getTpFp(num,rep,error,r,g,\"unique\",num,rep,error,r,g)\n",
      "multimapTp[rep],multimapFp[rep] = getTpFp(num,rep,error,r,g,\"multimap\",num,rep,error,r,g)\n",
      "rep = \"3\"\n",
      "defaultTp[rep],defaultFp[rep] = getTpFp(num,rep,error,r,g,\"default\",num,rep,error,r,g)\n",
      "uniqueTp[rep],uniqueFp[rep] = getTpFp(num,rep,error,r,g,\"unique\",num,rep,error,r,g)\n",
      "multimapTp[rep],multimapFp[rep] = getTpFp(num,rep,error,r,g,\"multimap\",num,rep,error,r,g)\n",
      "print defaultTp, defaultFp, uniqueTp, uniqueFp, multimapTp, multimapFp"
     ],
     "language": "python",
     "metadata": {},
     "outputs": [
      {
       "output_type": "stream",
       "stream": "stdout",
       "text": [
        "{'1': 67.41148115019871, '3': 67.17455183395187, '2': 66.21030995435171} {'1': 24.654602421149995, '3': 24.874968449982706, '2': 25.86076013215304} {'1': 53.49476027362451, '3': 53.40955194301365, '2': 52.182700310206556} {'1': 6.352723539635913e-05, '3': 3.1160510907736846e-05, '2': 0.00012610022445839954} {'1': 92.06595651687792, '3': 92.04948912342367, '2': 92.07091246122418} {'1': 101.46754266489128, '3': 118.20384583025623, '2': 124.39875412978235}\n"
       ]
      }
     ],
     "prompt_number": 323
    },
    {
     "cell_type": "code",
     "collapsed": false,
     "input": [
      "id = \"40\"\n",
      "defaultAvgTp[id] = sum([defaultTp[\"1\"], defaultTp[\"2\"], defaultTp[\"3\"]]) / 3\n",
      "print \"Average Default True Positive Percentage: \", defaultAvgTp[id]\n",
      "defaultAvgFp[id] = sum([defaultFp[\"1\"], defaultFp[\"2\"], defaultFp[\"3\"]]) / 3\n",
      "print \"Average Default False Positive Percentage: \", defaultAvgFp[id]\n",
      "uniqueAvgTp[id] = sum([uniqueTp[\"1\"], uniqueTp[\"2\"], uniqueTp[\"3\"]]) / 3\n",
      "print \"Average Unique True Positive Percentage: \", uniqueAvgTp[id]\n",
      "uniqueAvgFp[id] = sum([uniqueFp[\"1\"], uniqueFp[\"2\"], uniqueFp[\"3\"]]) / 3\n",
      "print \"Average Unique False Positive Percentage: \", uniqueAvgFp[id]\n",
      "multimapAvgTp[id] = sum([multimapTp[\"1\"], multimapTp[\"2\"], multimapTp[\"3\"]]) / 3\n",
      "print \"Average Multimap True Positive Percentage: \", multimapAvgTp[id]\n",
      "multimapAvgFp[id] = sum([multimapFp[\"1\"], multimapFp[\"2\"], multimapFp[\"3\"]]) / 3\n",
      "print \"Average Multimap False Positive Percentage: \", multimapAvgFp[id]"
     ],
     "language": "python",
     "metadata": {},
     "outputs": [
      {
       "output_type": "stream",
       "stream": "stdout",
       "text": [
        "Average Default True Positive Percentage:  66.9321143128\n",
        "Average Default False Positive Percentage:  25.1301103344\n",
        "Average Unique True Positive Percentage:  53.0290041756\n",
        "Average Unique False Positive Percentage:  7.35959902542e-05\n",
        "Average Multimap True Positive Percentage:  92.0621193672\n",
        "Average Multimap False Positive Percentage:  114.690047542\n"
       ]
      }
     ],
     "prompt_number": 324
    },
    {
     "cell_type": "raw",
     "metadata": {},
     "source": [
      "Random transcriptome with 5000 transcripts, 50% artificial isoforms, single end 100 bp reads, 50x expression"
     ]
    },
    {
     "cell_type": "code",
     "collapsed": false,
     "input": [
      "num = \"191\"\n",
      "rep = \"1\"\n",
      "createDataSet(num,rep)\n",
      "!grep '>' DataSet191rep1E1R100G100.fa | wc -l\n",
      "rep = \"2\"\n",
      "createDataSet(num,rep)\n",
      "!grep '>' DataSet191rep2E1R100G100.fa | wc -l\n",
      "rep = \"3\"\n",
      "createDataSet(num,rep)\n",
      "!grep '>' DataSet191rep3E1R100G100.fa | wc -l\n"
     ],
     "language": "python",
     "metadata": {},
     "outputs": []
    },
    {
     "cell_type": "code",
     "collapsed": false,
     "input": [
      "error = \"1\"\n",
      "r = \"100\"\n",
      "g = \"100\"\n",
      "rep = \"1\"\n",
      "runBowtieBuild(num,rep,error,r,g)\n",
      "runBowtieAllParams(num,rep,error,r,g,num,rep,error,r,g)\n",
      "getTruePositivesAllParams(num,rep,error,r,g,\"random\")\n",
      "rep = \"2\"\n",
      "runBowtieBuild(num,rep,error,r,g)\n",
      "runBowtieAllParams(num,rep,error,r,g,num,rep,error,r,g)\n",
      "getTruePositivesAllParams(num,rep,error,r,g,\"random\")\n",
      "rep = \"3\"\n",
      "runBowtieBuild(num,rep,error,r,g)\n",
      "runBowtieAllParams(num,rep,error,r,g,num,rep,error,r,g)\n",
      "getTruePositivesAllParams(num,rep,error,r,g,\"random\")\n"
     ],
     "language": "python",
     "metadata": {},
     "outputs": []
    },
    {
     "cell_type": "code",
     "collapsed": false,
     "input": [
      "num = \"191\"\n",
      "rep = \"1\"\n",
      "error = \"1\"\n",
      "r = \"100\"\n",
      "g = \"100\"\n",
      "defaultTp = {}\n",
      "defaultFp = {}\n",
      "uniqueTp = {}\n",
      "uniqueFp = {}\n",
      "multimapTp = {}\n",
      "multimapFp = {}\n",
      "defaultTp[rep],defaultFp[rep] = getTpFp(num,rep,error,r,g,\"default\",num,rep,error,r,g)\n",
      "uniqueTp[rep],uniqueFp[rep] = getTpFp(num,rep,error,r,g,\"unique\",num,rep,error,r,g)\n",
      "multimapTp[rep],multimapFp[rep] = getTpFp(num,rep,error,r,g,\"multimap\",num,rep,error,r,g)\n",
      "rep = \"2\"\n",
      "defaultTp[rep],defaultFp[rep] = getTpFp(num,rep,error,r,g,\"default\",num,rep,error,r,g)\n",
      "uniqueTp[rep],uniqueFp[rep] = getTpFp(num,rep,error,r,g,\"unique\",num,rep,error,r,g)\n",
      "multimapTp[rep],multimapFp[rep] = getTpFp(num,rep,error,r,g,\"multimap\",num,rep,error,r,g)\n",
      "rep = \"3\"\n",
      "defaultTp[rep],defaultFp[rep] = getTpFp(num,rep,error,r,g,\"default\",num,rep,error,r,g)\n",
      "uniqueTp[rep],uniqueFp[rep] = getTpFp(num,rep,error,r,g,\"unique\",num,rep,error,r,g)\n",
      "multimapTp[rep],multimapFp[rep] = getTpFp(num,rep,error,r,g,\"multimap\",num,rep,error,r,g)\n",
      "print defaultTp, defaultFp, uniqueTp, uniqueFp, multimapTp, multimapFp"
     ],
     "language": "python",
     "metadata": {},
     "outputs": [
      {
       "output_type": "stream",
       "stream": "stdout",
       "text": [
        "{'1': 61.712769066708795, '3': 61.29642574029312, '2': 61.32222071326245} {'1': 30.326316205221378, '3': 30.749645619940562, '2': 30.734454997965972} {'1': 47.147707255420826, '3': 46.01818695386746, '2': 46.55191283131161} {'1': 6.319364903827166e-05, '3': 0.0001301671476342772, '2': 0.0} {'1': 92.03902207828114, '3': 92.04587610951222, '2': 92.05661439909356} {'1': 198.30378766933921, '3': 175.03898506071647, '2': 174.85595480314666}\n"
       ]
      }
     ],
     "prompt_number": 325
    },
    {
     "cell_type": "code",
     "collapsed": false,
     "input": [
      "id = \"50\"\n",
      "defaultAvgTp[id] = sum([defaultTp[\"1\"], defaultTp[\"2\"], defaultTp[\"3\"]]) / 3\n",
      "print \"Average Default True Positive Percentage: \", defaultAvgTp[id]\n",
      "defaultAvgFp[id] = sum([defaultFp[\"1\"], defaultFp[\"2\"], defaultFp[\"3\"]]) / 3\n",
      "print \"Average Default False Positive Percentage: \", defaultAvgFp[id]\n",
      "uniqueAvgTp[id] = sum([uniqueTp[\"1\"], uniqueTp[\"2\"], uniqueTp[\"3\"]]) / 3\n",
      "print \"Average Unique True Positive Percentage: \", uniqueAvgTp[id]\n",
      "uniqueAvgFp[id] = sum([uniqueFp[\"1\"], uniqueFp[\"2\"], uniqueFp[\"3\"]]) / 3\n",
      "print \"Average Unique False Positive Percentage: \", uniqueAvgFp[id]\n",
      "multimapAvgTp[id] = sum([multimapTp[\"1\"], multimapTp[\"2\"], multimapTp[\"3\"]]) / 3\n",
      "print \"Average Multimap True Positive Percentage: \", multimapAvgTp[id]\n",
      "multimapAvgFp[id] = sum([multimapFp[\"1\"], multimapFp[\"2\"], multimapFp[\"3\"]]) / 3\n",
      "print \"Average Multimap False Positive Percentage: \", multimapAvgFp[id]"
     ],
     "language": "python",
     "metadata": {},
     "outputs": [
      {
       "output_type": "stream",
       "stream": "stdout",
       "text": [
        "Average Default True Positive Percentage:  61.4438051734\n",
        "Average Default False Positive Percentage:  30.6034722744\n",
        "Average Unique True Positive Percentage:  46.5726023469\n",
        "Average Unique False Positive Percentage:  6.44535988908e-05\n",
        "Average Multimap True Positive Percentage:  92.0471708623\n",
        "Average Multimap False Positive Percentage:  182.732909178\n"
       ]
      }
     ],
     "prompt_number": 326
    },
    {
     "cell_type": "raw",
     "metadata": {},
     "source": [
      "Random transcriptome with 5000 transcripts, 60% artificial isoforms, single end 100 bp reads, 50x expression"
     ]
    },
    {
     "cell_type": "code",
     "collapsed": false,
     "input": [
      "num = \"193\"\n",
      "rep = \"1\"\n",
      "createDataSet(num,rep)\n",
      "!grep '>' DataSet193rep1E1R100G100.fa | wc -l\n",
      "rep = \"2\"\n",
      "createDataSet(num,rep)\n",
      "!grep '>' DataSet193rep2E1R100G100.fa | wc -l\n",
      "rep = \"3\"\n",
      "createDataSet(num,rep)\n",
      "!grep '>' DataSet193rep3E1R100G100.fa | wc -l\n"
     ],
     "language": "python",
     "metadata": {},
     "outputs": []
    },
    {
     "cell_type": "code",
     "collapsed": false,
     "input": [
      "error = \"1\"\n",
      "r = \"100\"\n",
      "g = \"100\"\n",
      "rep = \"1\"\n",
      "runBowtieBuild(num,rep,error,r,g)\n",
      "runBowtieAllParams(num,rep,error,r,g,num,rep,error,r,g)\n",
      "getTruePositivesAllParams(num,rep,error,r,g,\"random\")\n",
      "rep = \"2\"\n",
      "runBowtieBuild(num,rep,error,r,g)\n",
      "runBowtieAllParams(num,rep,error,r,g,num,rep,error,r,g)\n",
      "getTruePositivesAllParams(num,rep,error,r,g,\"random\")\n",
      "rep = \"3\"\n",
      "runBowtieBuild(num,rep,error,r,g)\n",
      "runBowtieAllParams(num,rep,error,r,g,num,rep,error,r,g)\n",
      "getTruePositivesAllParams(num,rep,error,r,g,\"random\")\n"
     ],
     "language": "python",
     "metadata": {},
     "outputs": []
    },
    {
     "cell_type": "code",
     "collapsed": false,
     "input": [
      "num = \"193\"\n",
      "rep = \"1\"\n",
      "error = \"1\"\n",
      "r = \"100\"\n",
      "g = \"100\"\n",
      "defaultTp = {}\n",
      "defaultFp = {}\n",
      "uniqueTp = {}\n",
      "uniqueFp = {}\n",
      "multimapTp = {}\n",
      "multimapFp = {}\n",
      "defaultTp[rep],defaultFp[rep] = getTpFp(num,rep,error,r,g,\"default\",num,rep,error,r,g)\n",
      "uniqueTp[rep],uniqueFp[rep] = getTpFp(num,rep,error,r,g,\"unique\",num,rep,error,r,g)\n",
      "multimapTp[rep],multimapFp[rep] = getTpFp(num,rep,error,r,g,\"multimap\",num,rep,error,r,g)\n",
      "rep = \"2\"\n",
      "defaultTp[rep],defaultFp[rep] = getTpFp(num,rep,error,r,g,\"default\",num,rep,error,r,g)\n",
      "uniqueTp[rep],uniqueFp[rep] = getTpFp(num,rep,error,r,g,\"unique\",num,rep,error,r,g)\n",
      "multimapTp[rep],multimapFp[rep] = getTpFp(num,rep,error,r,g,\"multimap\",num,rep,error,r,g)\n",
      "rep = \"3\"\n",
      "defaultTp[rep],defaultFp[rep] = getTpFp(num,rep,error,r,g,\"default\",num,rep,error,r,g)\n",
      "uniqueTp[rep],uniqueFp[rep] = getTpFp(num,rep,error,r,g,\"unique\",num,rep,error,r,g)\n",
      "multimapTp[rep],multimapFp[rep] = getTpFp(num,rep,error,r,g,\"multimap\",num,rep,error,r,g)\n",
      "print defaultTp, defaultFp, uniqueTp, uniqueFp, multimapTp, multimapFp"
     ],
     "language": "python",
     "metadata": {},
     "outputs": [
      {
       "output_type": "stream",
       "stream": "stdout",
       "text": [
        "{'1': 55.87151744862305, '3': 54.82157771063692, '2': 55.59556049580148} {'1': 36.1956588544979, '3': 37.21221537606884, '2': 36.471997008295006} {'1': 40.35044819150709, '3': 39.09119599668703, '2': 39.953664741736155} {'1': 6.573409703207265e-05, '3': 0.00022069675225812186, '2': 9.688163841059859e-05} {'1': 92.06701196787837, '3': 92.03350933373858, '2': 92.06739603469913} {'1': 319.3545831948809, '3': 371.3443238214084, '2': 255.70917036377762}\n"
       ]
      }
     ],
     "prompt_number": 327
    },
    {
     "cell_type": "code",
     "collapsed": false,
     "input": [
      "id = \"60\"\n",
      "defaultAvgTp[id] = sum([defaultTp[\"1\"], defaultTp[\"2\"], defaultTp[\"3\"]]) / 3\n",
      "print \"Average Default True Positive Percentage: \", defaultAvgTp[id]\n",
      "defaultAvgFp[id] = sum([defaultFp[\"1\"], defaultFp[\"2\"], defaultFp[\"3\"]]) / 3\n",
      "print \"Average Default False Positive Percentage: \", defaultAvgFp[id]\n",
      "uniqueAvgTp[id] = sum([uniqueTp[\"1\"], uniqueTp[\"2\"], uniqueTp[\"3\"]]) / 3\n",
      "print \"Average Unique True Positive Percentage: \", uniqueAvgTp[id]\n",
      "uniqueAvgFp[id] = sum([uniqueFp[\"1\"], uniqueFp[\"2\"], uniqueFp[\"3\"]]) / 3\n",
      "print \"Average Unique False Positive Percentage: \", uniqueAvgFp[id]\n",
      "multimapAvgTp[id] = sum([multimapTp[\"1\"], multimapTp[\"2\"], multimapTp[\"3\"]]) / 3\n",
      "print \"Average Multimap True Positive Percentage: \", multimapAvgTp[id]\n",
      "multimapAvgFp[id] = sum([multimapFp[\"1\"], multimapFp[\"2\"], multimapFp[\"3\"]]) / 3\n",
      "print \"Average Multimap False Positive Percentage: \", multimapAvgFp[id]"
     ],
     "language": "python",
     "metadata": {},
     "outputs": [
      {
       "output_type": "stream",
       "stream": "stdout",
       "text": [
        "Average Default True Positive Percentage:  55.429551885\n",
        "Average Default False Positive Percentage:  36.6266237463\n",
        "Average Unique True Positive Percentage:  39.79843631\n",
        "Average Unique False Positive Percentage:  0.000127770829234\n",
        "Average Multimap True Positive Percentage:  92.0559724454\n",
        "Average Multimap False Positive Percentage:  315.469359127\n"
       ]
      }
     ],
     "prompt_number": 328
    },
    {
     "cell_type": "raw",
     "metadata": {},
     "source": [
      "Random transcriptome with 5000 transcripts, 70% artificial isoforms, single end 100 bp reads, 50x expression"
     ]
    },
    {
     "cell_type": "code",
     "collapsed": false,
     "input": [
      "num = \"195\"\n",
      "rep = \"1\"\n",
      "createDataSet(num,rep)\n",
      "!grep '>' DataSet195rep1E1R100G100.fa | wc -l\n",
      "rep = \"2\"\n",
      "createDataSet(num,rep)\n",
      "!grep '>' DataSet195rep2E1R100G100.fa | wc -l\n",
      "rep = \"3\"\n",
      "createDataSet(num,rep)\n",
      "!grep '>' DataSet195rep3E1R100G100.fa | wc -l\n"
     ],
     "language": "python",
     "metadata": {},
     "outputs": [
      {
       "output_type": "stream",
       "stream": "stdout",
       "text": [
        "    5000\r\n"
       ]
      },
      {
       "output_type": "stream",
       "stream": "stdout",
       "text": [
        "    5000\r\n"
       ]
      }
     ],
     "prompt_number": "*"
    },
    {
     "cell_type": "code",
     "collapsed": false,
     "input": [
      "error = \"1\"\n",
      "r = \"100\"\n",
      "g = \"100\"\n",
      "rep = \"1\"\n",
      "runBowtieBuild(num,rep,error,r,g)\n",
      "runBowtieAllParams(num,rep,error,r,g,num,rep,error,r,g)\n",
      "getTruePositivesAllParams(num,rep,error,r,g,\"random\")\n",
      "rep = \"2\"\n",
      "runBowtieBuild(num,rep,error,r,g)\n",
      "runBowtieAllParams(num,rep,error,r,g,num,rep,error,r,g)\n",
      "getTruePositivesAllParams(num,rep,error,r,g,\"random\")\n",
      "rep = \"3\"\n",
      "runBowtieBuild(num,rep,error,r,g)\n",
      "runBowtieAllParams(num,rep,error,r,g,num,rep,error,r,g)\n",
      "getTruePositivesAllParams(num,rep,error,r,g,\"random\")\n"
     ],
     "language": "python",
     "metadata": {},
     "outputs": [],
     "prompt_number": "*"
    },
    {
     "cell_type": "code",
     "collapsed": false,
     "input": [
      "num = \"195\"\n",
      "rep = \"1\"\n",
      "error = \"1\"\n",
      "r = \"100\"\n",
      "g = \"100\"\n",
      "defaultTp = {}\n",
      "defaultFp = {}\n",
      "uniqueTp = {}\n",
      "uniqueFp = {}\n",
      "multimapTp = {}\n",
      "multimapFp = {}\n",
      "defaultTp[rep],defaultFp[rep] = getTpFp(num,rep,error,r,g,\"default\",num,rep,error,r,g)\n",
      "uniqueTp[rep],uniqueFp[rep] = getTpFp(num,rep,error,r,g,\"unique\",num,rep,error,r,g)\n",
      "multimapTp[rep],multimapFp[rep] = getTpFp(num,rep,error,r,g,\"multimap\",num,rep,error,r,g)\n",
      "rep = \"2\"\n",
      "defaultTp[rep],defaultFp[rep] = getTpFp(num,rep,error,r,g,\"default\",num,rep,error,r,g)\n",
      "uniqueTp[rep],uniqueFp[rep] = getTpFp(num,rep,error,r,g,\"unique\",num,rep,error,r,g)\n",
      "multimapTp[rep],multimapFp[rep] = getTpFp(num,rep,error,r,g,\"multimap\",num,rep,error,r,g)\n",
      "rep = \"3\"\n",
      "defaultTp[rep],defaultFp[rep] = getTpFp(num,rep,error,r,g,\"default\",num,rep,error,r,g)\n",
      "uniqueTp[rep],uniqueFp[rep] = getTpFp(num,rep,error,r,g,\"unique\",num,rep,error,r,g)\n",
      "multimapTp[rep],multimapFp[rep] = getTpFp(num,rep,error,r,g,\"multimap\",num,rep,error,r,g)\n",
      "print defaultTp, defaultFp, uniqueTp, uniqueFp, multimapTp, multimapFp"
     ],
     "language": "python",
     "metadata": {},
     "outputs": [
      {
       "output_type": "stream",
       "stream": "stdout",
       "text": [
        "{'1': 46.84054829085082, '3': 47.960108851143076, '2': 48.74880090989598} {'1': 45.22907082271422, '3': 44.11099927296481, '2': 43.342178861868504} {'1': 31.5580827946737, '3': 32.934191538441006, '2': 33.92654260408594} {'1': 0.00021147601801533986, '3': 0.0003454594846686651, '2': 0.00015353266376715114} {'1': 92.06922637238873, '3': 92.07044861054625, '2': 92.09067270643695} {'1': 702.7720880658645, '3': 978.5480337859376, '2': 644.5903687117627}\n"
       ]
      }
     ],
     "prompt_number": 329
    },
    {
     "cell_type": "code",
     "collapsed": false,
     "input": [
      "id = \"70\"\n",
      "defaultAvgTp[id] = sum([defaultTp[\"1\"], defaultTp[\"2\"], defaultTp[\"3\"]]) / 3\n",
      "print \"Average Default True Positive Percentage: \", defaultAvgTp[id]\n",
      "defaultAvgFp[id] = sum([defaultFp[\"1\"], defaultFp[\"2\"], defaultFp[\"3\"]]) / 3\n",
      "print \"Average Default False Positive Percentage: \", defaultAvgFp[id]\n",
      "uniqueAvgTp[id] = sum([uniqueTp[\"1\"], uniqueTp[\"2\"], uniqueTp[\"3\"]]) / 3\n",
      "print \"Average Unique True Positive Percentage: \", uniqueAvgTp[id]\n",
      "uniqueAvgFp[id] = sum([uniqueFp[\"1\"], uniqueFp[\"2\"], uniqueFp[\"3\"]]) / 3\n",
      "print \"Average Unique False Positive Percentage: \", uniqueAvgFp[id]\n",
      "multimapAvgTp[id] = sum([multimapTp[\"1\"], multimapTp[\"2\"], multimapTp[\"3\"]]) / 3\n",
      "print \"Average Multimap True Positive Percentage: \", multimapAvgTp[id]\n",
      "multimapAvgFp[id] = sum([multimapFp[\"1\"], multimapFp[\"2\"], multimapFp[\"3\"]]) / 3\n",
      "print \"Average Multimap False Positive Percentage: \", multimapAvgFp[id]"
     ],
     "language": "python",
     "metadata": {},
     "outputs": [
      {
       "output_type": "stream",
       "stream": "stdout",
       "text": [
        "Average Default True Positive Percentage:  47.8498193506\n",
        "Average Default False Positive Percentage:  44.2274163192\n",
        "Average Unique True Positive Percentage:  32.8062723124\n",
        "Average Unique False Positive Percentage:  0.00023682272215\n",
        "Average Multimap True Positive Percentage:  92.0767825631\n",
        "Average Multimap False Positive Percentage:  775.303496855\n"
       ]
      }
     ],
     "prompt_number": 330
    },
    {
     "cell_type": "raw",
     "metadata": {},
     "source": [
      "Random transcriptome with 5000 transcripts, 80% artificial isoforms, single end 100 bp reads, 50x expression"
     ]
    },
    {
     "cell_type": "code",
     "collapsed": false,
     "input": [
      "num = \"197\"\n",
      "rep = \"1\"\n",
      "createDataSet(num,rep)\n",
      "!grep '>' DataSet197rep1E1R100G100.fa | wc -l\n",
      "rep = \"2\"\n",
      "createDataSet(num,rep)\n",
      "!grep '>' DataSet197rep2E1R100G100.fa | wc -l\n",
      "rep = \"3\"\n",
      "createDataSet(num,rep)\n",
      "!grep '>' DataSet197rep3E1R100G100.fa | wc -l\n"
     ],
     "language": "python",
     "metadata": {},
     "outputs": []
    },
    {
     "cell_type": "code",
     "collapsed": false,
     "input": [
      "num = \"197\"\n",
      "rep = \"1\"\n",
      "error = \"1\"\n",
      "r = \"100\"\n",
      "g = \"100\"\n",
      "rep = \"1\"\n",
      "runBowtieBuild(num,rep,error,r,g)\n",
      "runBowtieAllParams(num,rep,error,r,g,num,rep,error,r,g)\n",
      "getTruePositivesAllParams(num,rep,error,r,g,\"random\")\n",
      "rep = \"2\"\n",
      "runBowtieBuild(num,rep,error,r,g)\n",
      "runBowtieAllParams(num,rep,error,r,g,num,rep,error,r,g)\n",
      "getTruePositivesAllParams(num,rep,error,r,g,\"random\")\n",
      "rep = \"3\"\n",
      "runBowtieBuild(num,rep,error,r,g)\n",
      "runBowtieAllParams(num,rep,error,r,g,num,rep,error,r,g)\n",
      "getTruePositivesAllParams(num,rep,error,r,g,\"random\")\n"
     ],
     "language": "python",
     "metadata": {},
     "outputs": [],
     "prompt_number": 34
    },
    {
     "cell_type": "code",
     "collapsed": false,
     "input": [
      "num = \"197\"\n",
      "rep = \"1\"\n",
      "error = \"1\"\n",
      "r = \"100\"\n",
      "g = \"100\"\n",
      "defaultTp = {}\n",
      "defaultFp = {}\n",
      "uniqueTp = {}\n",
      "uniqueFp = {}\n",
      "multimapTp = {}\n",
      "multimapFp = {}\n",
      "defaultTp[rep],defaultFp[rep] = getTpFp(num,rep,error,r,g,\"default\",num,rep,error,r,g)\n",
      "uniqueTp[rep],uniqueFp[rep] = getTpFp(num,rep,error,r,g,\"unique\",num,rep,error,r,g)\n",
      "multimapTp[rep],multimapFp[rep] = getTpFp(num,rep,error,r,g,\"multimap\",num,rep,error,r,g)\n",
      "rep = \"2\"\n",
      "defaultTp[rep],defaultFp[rep] = getTpFp(num,rep,error,r,g,\"default\",num,rep,error,r,g)\n",
      "uniqueTp[rep],uniqueFp[rep] = getTpFp(num,rep,error,r,g,\"unique\",num,rep,error,r,g)\n",
      "multimapTp[rep],multimapFp[rep] = getTpFp(num,rep,error,r,g,\"multimap\",num,rep,error,r,g)\n",
      "rep = \"3\"\n",
      "defaultTp[rep],defaultFp[rep] = getTpFp(num,rep,error,r,g,\"default\",num,rep,error,r,g)\n",
      "uniqueTp[rep],uniqueFp[rep] = getTpFp(num,rep,error,r,g,\"unique\",num,rep,error,r,g)\n",
      "multimapTp[rep],multimapFp[rep] = getTpFp(num,rep,error,r,g,\"multimap\",num,rep,error,r,g)\n",
      "print defaultTp, defaultFp, uniqueTp, uniqueFp, multimapTp, multimapFp"
     ],
     "language": "python",
     "metadata": {},
     "outputs": [
      {
       "output_type": "stream",
       "stream": "stdout",
       "text": [
        "{'1': 43.6263834406194, '3': 44.151525052784415, '2': 40.13308590275474} {'1': 48.42952439183573, '3': 47.910758189263895, '2': 51.93819953468817} {'1': 29.08299613220574, '3': 28.228041259591546, '2': 26.819457448078264} {'1': 0.0006245429126558001, '3': 0.000378100542605787, '2': 0.0006597615621714312} {'1': 92.05437770231912, '3': 92.06162156609875, '2': 92.06996591431856} {'1': 2137.069744580685, '3': 896.0250920123425, '2': 1860.0520072045963}\n"
       ]
      }
     ],
     "prompt_number": 331
    },
    {
     "cell_type": "code",
     "collapsed": false,
     "input": [
      "id = \"80\"\n",
      "defaultAvgTp[id] = sum([defaultTp[\"1\"], defaultTp[\"2\"], defaultTp[\"3\"]]) / 3\n",
      "print \"Average Default True Positive Percentage: \", defaultAvgTp[id]\n",
      "defaultAvgFp[id] = sum([defaultFp[\"1\"], defaultFp[\"2\"], defaultFp[\"3\"]]) / 3\n",
      "print \"Average Default False Positive Percentage: \", defaultAvgFp[id]\n",
      "uniqueAvgTp[id] = sum([uniqueTp[\"1\"], uniqueTp[\"2\"], uniqueTp[\"3\"]]) / 3\n",
      "print \"Average Unique True Positive Percentage: \", uniqueAvgTp[id]\n",
      "uniqueAvgFp[id] = sum([uniqueFp[\"1\"], uniqueFp[\"2\"], uniqueFp[\"3\"]]) / 3\n",
      "print \"Average Unique False Positive Percentage: \", uniqueAvgFp[id]\n",
      "multimapAvgTp[id] = sum([multimapTp[\"1\"], multimapTp[\"2\"], multimapTp[\"3\"]]) / 3\n",
      "print \"Average Multimap True Positive Percentage: \", multimapAvgTp[id]\n",
      "multimapAvgFp[id] = sum([multimapFp[\"1\"], multimapFp[\"2\"], multimapFp[\"3\"]]) / 3\n",
      "print \"Average Multimap False Positive Percentage: \", multimapAvgFp[id]"
     ],
     "language": "python",
     "metadata": {},
     "outputs": [
      {
       "output_type": "stream",
       "stream": "stdout",
       "text": [
        "Average Default True Positive Percentage:  42.6369981321\n",
        "Average Default False Positive Percentage:  49.4261607053\n",
        "Average Unique True Positive Percentage:  28.04349828\n",
        "Average Unique False Positive Percentage:  0.000554135005811\n",
        "Average Multimap True Positive Percentage:  92.0619883942\n",
        "Average Multimap False Positive Percentage:  1631.04894793\n"
       ]
      }
     ],
     "prompt_number": 332
    },
    {
     "cell_type": "raw",
     "metadata": {},
     "source": [
      "Random transcriptome with 5000 transcripts, 90% artificial isoforms, single end 100 bp reads, 50x expression"
     ]
    },
    {
     "cell_type": "code",
     "collapsed": false,
     "input": [
      "num = \"199\"\n",
      "rep = \"1\"\n",
      "createDataSet(num,rep)\n",
      "!grep '>' DataSet199rep1E1R100G100.fa | wc -l\n",
      "rep = \"2\"\n",
      "createDataSet(num,rep)\n",
      "!grep '>' DataSet199rep2E1R100G100.fa | wc -l\n",
      "rep = \"3\"\n",
      "createDataSet(num,rep)\n",
      "!grep '>' DataSet199rep3E1R100G100.fa | wc -l\n"
     ],
     "language": "python",
     "metadata": {},
     "outputs": []
    },
    {
     "cell_type": "code",
     "collapsed": false,
     "input": [
      "num = \"199\"\n",
      "rep = \"1\"\n",
      "error = \"1\"\n",
      "r = \"100\"\n",
      "g = \"100\"\n",
      "rep = \"1\"\n",
      "runBowtieBuild(num,rep,error,r,g)\n",
      "runBowtieAllParams(num,rep,error,r,g,num,rep,error,r,g)\n",
      "getTruePositivesAllParams(num,rep,error,r,g,\"random\")\n",
      "rep = \"2\"\n",
      "runBowtieBuild(num,rep,error,r,g)\n",
      "runBowtieAllParams(num,rep,error,r,g,num,rep,error,r,g)\n",
      "getTruePositivesAllParams(num,rep,error,r,g,\"random\")\n",
      "rep = \"3\"\n",
      "runBowtieBuild(num,rep,error,r,g)\n",
      "runBowtieAllParams(num,rep,error,r,g,num,rep,error,r,g)\n",
      "getTruePositivesAllParams(num,rep,error,r,g,\"random\")\n"
     ],
     "language": "python",
     "metadata": {},
     "outputs": [],
     "prompt_number": 36
    },
    {
     "cell_type": "code",
     "collapsed": false,
     "input": [
      "num = \"199\"\n",
      "rep = \"1\"\n",
      "error = \"1\"\n",
      "r = \"100\"\n",
      "g = \"100\"\n",
      "defaultTp = {}\n",
      "defaultFp = {}\n",
      "uniqueTp = {}\n",
      "uniqueFp = {}\n",
      "multimapTp = {}\n",
      "multimapFp = {}\n",
      "defaultTp[rep],defaultFp[rep] = getTpFp(num,rep,error,r,g,\"default\",num,rep,error,r,g)\n",
      "uniqueTp[rep],uniqueFp[rep] = getTpFp(num,rep,error,r,g,\"unique\",num,rep,error,r,g)\n",
      "multimapTp[rep],multimapFp[rep] = getTpFp(num,rep,error,r,g,\"multimap\",num,rep,error,r,g)\n",
      "rep = \"2\"\n",
      "defaultTp[rep],defaultFp[rep] = getTpFp(num,rep,error,r,g,\"default\",num,rep,error,r,g)\n",
      "uniqueTp[rep],uniqueFp[rep] = getTpFp(num,rep,error,r,g,\"unique\",num,rep,error,r,g)\n",
      "multimapTp[rep],multimapFp[rep] = getTpFp(num,rep,error,r,g,\"multimap\",num,rep,error,r,g)\n",
      "rep = \"3\"\n",
      "defaultTp[rep],defaultFp[rep] = getTpFp(num,rep,error,r,g,\"default\",num,rep,error,r,g)\n",
      "uniqueTp[rep],uniqueFp[rep] = getTpFp(num,rep,error,r,g,\"unique\",num,rep,error,r,g)\n",
      "multimapTp[rep],multimapFp[rep] = getTpFp(num,rep,error,r,g,\"multimap\",num,rep,error,r,g)\n",
      "print defaultTp, defaultFp, uniqueTp, uniqueFp, multimapTp, multimapFp"
     ],
     "language": "python",
     "metadata": {},
     "outputs": [
      {
       "output_type": "stream",
       "stream": "stdout",
       "text": [
        "{'1': 36.95701955346389, '3': 36.39769459607309, '2': 37.388065357920155} {'1': 55.12899415879923, '3': 55.65764056239239, '2': 54.678149886528736} {'1': 23.30877463823033, '3': 22.593275160092322, '2': 23.361577476702244} {'1': 0.000601737617660598, '3': 0.0006519807485608301, '2': 0.00044585958862446585} {'1': 92.08454279808662, '3': 92.05387596345679, '2': 92.06516428970427} {'1': 1935.9183201357787, '3': 2125.0120616438485, '2': 1538.7725549219394}\n"
       ]
      }
     ],
     "prompt_number": 333
    },
    {
     "cell_type": "code",
     "collapsed": false,
     "input": [
      "id = \"90\"\n",
      "defaultAvgTp[id] = sum([defaultTp[\"1\"], defaultTp[\"2\"], defaultTp[\"3\"]]) / 3\n",
      "print \"Average Default True Positive Percentage: \", defaultAvgTp[id]\n",
      "defaultAvgFp[id] = sum([defaultFp[\"1\"], defaultFp[\"2\"], defaultFp[\"3\"]]) / 3\n",
      "print \"Average Default False Positive Percentage: \", defaultAvgFp[id]\n",
      "uniqueAvgTp[id] = sum([uniqueTp[\"1\"], uniqueTp[\"2\"], uniqueTp[\"3\"]]) / 3\n",
      "print \"Average Unique True Positive Percentage: \", uniqueAvgTp[id]\n",
      "uniqueAvgFp[id] = sum([uniqueFp[\"1\"], uniqueFp[\"2\"], uniqueFp[\"3\"]]) / 3\n",
      "print \"Average Unique False Positive Percentage: \", uniqueAvgFp[id]\n",
      "multimapAvgTp[id] = sum([multimapTp[\"1\"], multimapTp[\"2\"], multimapTp[\"3\"]]) / 3\n",
      "print \"Average Multimap True Positive Percentage: \", multimapAvgTp[id]\n",
      "multimapAvgFp[id] = sum([multimapFp[\"1\"], multimapFp[\"2\"], multimapFp[\"3\"]]) / 3\n",
      "print \"Average Multimap False Positive Percentage: \", multimapAvgFp[id]"
     ],
     "language": "python",
     "metadata": {},
     "outputs": [
      {
       "output_type": "stream",
       "stream": "stdout",
       "text": [
        "Average Default True Positive Percentage:  36.9142598358\n",
        "Average Default False Positive Percentage:  55.1549282026\n",
        "Average Unique True Positive Percentage:  23.0878757583\n",
        "Average Unique False Positive Percentage:  0.000566525984949\n",
        "Average Multimap True Positive Percentage:  92.0678610171\n",
        "Average Multimap False Positive Percentage:  1866.56764557\n"
       ]
      }
     ],
     "prompt_number": 334
    },
    {
     "cell_type": "code",
     "collapsed": false,
     "input": [
      "print \"Mapping Accuracy for Small Simulated Transcriptomes with Increasing Percentage of Transcripts Being Isoforms\"\n",
      "print \"IsoformPerc\\tTP(d)\\tFP(d)\\tTP(u)\\tFP(u)\\tTP(m)\\tFP(m)\"\n",
      "id = \"00\"\n",
      "print \"0\\t\\t\" + str(defaultAvgTp[id])[0:5] + \"\\t\" + str(defaultAvgFp[id])[0:5] + \"\\t\" + str(uniqueAvgTp[id])[0:5] + \"\\t\" + str(round(uniqueAvgFp[id]))[0:5] + \"\\t\" + str(multimapAvgTp[id])[0:5] + \"\\t\" + str(multimapAvgFp[id])[0:5]\n",
      "id = \"10\"\n",
      "print \"10\\t\\t\" + str(defaultAvgTp[id])[0:5] + \"\\t\" + str(defaultAvgFp[id])[0:5] + \"\\t\" + str(uniqueAvgTp[id])[0:5] + \"\\t\" + str(round(uniqueAvgFp[id]))[0:5] + \"\\t\" + str(multimapAvgTp[id])[0:5] + \"\\t\" + str(multimapAvgFp[id])[0:5]\n",
      "id = \"20\"\n",
      "print \"20\\t\\t\" + str(defaultAvgTp[id])[0:5] + \"\\t\" + str(defaultAvgFp[id])[0:5] + \"\\t\" + str(uniqueAvgTp[id])[0:5] + \"\\t\" + str(round(uniqueAvgFp[id]))[0:5] + \"\\t\" + str(multimapAvgTp[id])[0:5] + \"\\t\" + str(multimapAvgFp[id])[0:5]\n",
      "id = \"30\"\n",
      "print \"30\\t\\t\" + str(defaultAvgTp[id])[0:5] + \"\\t\" + str(defaultAvgFp[id])[0:5] + \"\\t\" + str(uniqueAvgTp[id])[0:5] + \"\\t\" + str(round(uniqueAvgFp[id]))[0:5] + \"\\t\" + str(multimapAvgTp[id])[0:5] + \"\\t\" + str(multimapAvgFp[id])[0:5]\n",
      "id = \"40\"\n",
      "print \"40\\t\\t\" + str(defaultAvgTp[id])[0:5] + \"\\t\" + str(defaultAvgFp[id])[0:5] + \"\\t\" + str(uniqueAvgTp[id])[0:5] + \"\\t\" + str(round(uniqueAvgFp[id]))[0:5] + \"\\t\" + str(multimapAvgTp[id])[0:5] + \"\\t\" + str(multimapAvgFp[id])[0:5]\n",
      "id = \"50\"\n",
      "print \"50\\t\\t\" + str(defaultAvgTp[id])[0:5] + \"\\t\" + str(defaultAvgFp[id])[0:5] + \"\\t\" + str(uniqueAvgTp[id])[0:5] + \"\\t\" + str(round(uniqueAvgFp[id]))[0:5] + \"\\t\" + str(multimapAvgTp[id])[0:5] + \"\\t\" + str(multimapAvgFp[id])[0:5]\n",
      "id = \"60\"\n",
      "print \"60\\t\\t\" + str(defaultAvgTp[id])[0:5] + \"\\t\" + str(defaultAvgFp[id])[0:5] + \"\\t\" + str(uniqueAvgTp[id])[0:5] + \"\\t\" + str(round(uniqueAvgFp[id]))[0:5] + \"\\t\" + str(multimapAvgTp[id])[0:5] + \"\\t\" + str(multimapAvgFp[id])[0:5]\n",
      "id = \"70\"\n",
      "print \"70\\t\\t\" + str(defaultAvgTp[id])[0:5] + \"\\t\" + str(defaultAvgFp[id])[0:5] + \"\\t\" + str(uniqueAvgTp[id])[0:5] + \"\\t\" + str(round(uniqueAvgFp[id]))[0:5] + \"\\t\" + str(multimapAvgTp[id])[0:5] + \"\\t\" + str(multimapAvgFp[id])[0:5]\n",
      "id = \"80\"\n",
      "print \"80\\t\\t\" + str(defaultAvgTp[id])[0:5] + \"\\t\" + str(defaultAvgFp[id])[0:5] + \"\\t\" + str(uniqueAvgTp[id])[0:5] + \"\\t\" + str(round(uniqueAvgFp[id]))[0:5] + \"\\t\" + str(multimapAvgTp[id])[0:5] + \"\\t\" + str(multimapAvgFp[id])[0:5]\n",
      "id = \"90\"\n",
      "print \"90\\t\\t\" + str(defaultAvgTp[id])[0:5] + \"\\t\" + str(defaultAvgFp[id])[0:5] + \"\\t\" + str(uniqueAvgTp[id])[0:5] + \"\\t\" + str(round(uniqueAvgFp[id]))[0:5] + \"\\t\" + str(multimapAvgTp[id])[0:5] + \"\\t\" + str(multimapAvgFp[id])[0:5]\n"
     ],
     "language": "python",
     "metadata": {},
     "outputs": [
      {
       "output_type": "stream",
       "stream": "stdout",
       "text": [
        "Mapping Accuracy for Small Simulated Transcriptomes with Increasing Percentage of Transcripts Being Isoforms\n",
        "IsoformPerc\tTP(d)\tFP(d)\tTP(u)\tFP(u)\tTP(m)\tFP(m)\n",
        "0\t\t92.05\t0.0\t92.05\t0.0\t92.05\t0.0\n",
        "10\t\t85.65\t6.417\t80.13\t0.0\t92.07\t14.89\n",
        "20\t\t79.91\t12.15\t70.58\t0.0\t92.07\t33.27\n",
        "30\t\t72.98\t19.07\t60.33\t0.0\t92.06\t65.38\n",
        "40\t\t66.93\t25.13\t53.02\t0.0\t92.06\t114.6\n",
        "50\t\t61.44\t30.60\t46.57\t0.0\t92.04\t182.7\n",
        "60\t\t55.42\t36.62\t39.79\t0.0\t92.05\t315.4\n",
        "70\t\t47.84\t44.22\t32.80\t0.0\t92.07\t775.3\n",
        "80\t\t42.63\t49.42\t28.04\t0.0\t92.06\t1631.\n",
        "90\t\t36.91\t55.15\t23.08\t0.0\t92.06\t1866.\n"
       ]
      }
     ],
     "prompt_number": 407
    },
    {
     "cell_type": "heading",
     "level": 2,
     "metadata": {},
     "source": [
      "Test 3: Mapping accuracy of read sets generated from 50% expressed full chicken and mouse transcriptomes with incomplete reference transcriptomes"
     ]
    },
    {
     "cell_type": "raw",
     "metadata": {},
     "source": [
      "Chicken transcriptome, 50% expression, single end 100 bp reads, {0 10 100 100}x expression"
     ]
    },
    {
     "cell_type": "code",
     "collapsed": false,
     "input": [
      "defaultAvgTp = {}\n",
      "defaultAvgFp = {}\n",
      "uniqueAvgTp = {}\n",
      "uniqueAvgFp = {}\n",
      "multimapAvgTp = {}\n",
      "multimapAvgFp = {}"
     ],
     "language": "python",
     "metadata": {},
     "outputs": [],
     "prompt_number": 17
    },
    {
     "cell_type": "code",
     "collapsed": false,
     "input": [
      "num = \"234\"\n",
      "rep = \"1\"\n",
      "createDataSet(num,rep)\n",
      "!grep '>' DataSet234rep1E1R100G100.fa | wc -l\n",
      "rep = \"2\"\n",
      "createDataSet(num,rep)\n",
      "!grep '>' DataSet234rep2E1R100G100.fa | wc -l\n",
      "rep = \"3\"\n",
      "createDataSet(num,rep)\n",
      "!grep '>' DataSet234rep3E1R100G100.fa | wc -l\n"
     ],
     "language": "python",
     "metadata": {},
     "outputs": []
    },
    {
     "cell_type": "code",
     "collapsed": false,
     "input": [
      "error = \"1\"\n",
      "r = \"100\"\n",
      "g = \"100\"\n",
      "rep = \"1\"\n",
      "runBowtieBuild(num,rep,error,r,g)\n",
      "runBowtieAllParams(num,rep,error,r,g,num,rep,error,r,g)\n",
      "getTruePositivesAllParams(num,rep,error,r,g,\"chicken\")\n",
      "r = \"90\"\n",
      "runBowtieBuild(num,rep,error,r,g)\n",
      "runBowtieAllParams(num,rep,error,r,g,num,rep,error,r,g)\n",
      "getTruePositivesAllParams(num,rep,error,r,g,\"chicken\")\n",
      "r = \"80\"\n",
      "runBowtieBuild(num,rep,error,r,g)\n",
      "runBowtieAllParams(num,rep,error,r,g,num,rep,error,r,g)\n",
      "getTruePositivesAllParams(num,rep,error,r,g,\"chicken\")\n",
      "r = \"70\"\n",
      "runBowtieBuild(num,rep,error,r,g)\n",
      "runBowtieAllParams(num,rep,error,r,g,num,rep,error,r,g)\n",
      "getTruePositivesAllParams(num,rep,error,r,g,\"chicken\")\n",
      "r = \"60\"\n",
      "runBowtieBuild(num,rep,error,r,g)\n",
      "runBowtieAllParams(num,rep,error,r,g,num,rep,error,r,g)\n",
      "getTruePositivesAllParams(num,rep,error,r,g,\"chicken\")\n",
      "r = \"50\"\n",
      "runBowtieBuild(num,rep,error,r,g)\n",
      "runBowtieAllParams(num,rep,error,r,g,num,rep,error,r,g)\n",
      "getTruePositivesAllParams(num,rep,error,r,g,\"chicken\")\n",
      "r = \"40\"\n",
      "runBowtieBuild(num,rep,error,r,g)\n",
      "runBowtieAllParams(num,rep,error,r,g,num,rep,error,r,g)\n",
      "getTruePositivesAllParams(num,rep,error,r,g,\"chicken\")\n",
      "r = \"30\"\n",
      "runBowtieBuild(num,rep,error,r,g)\n",
      "runBowtieAllParams(num,rep,error,r,g,num,rep,error,r,g)\n",
      "getTruePositivesAllParams(num,rep,error,r,g,\"chicken\")\n",
      "r = \"20\"\n",
      "runBowtieBuild(num,rep,error,r,g)\n",
      "runBowtieAllParams(num,rep,error,r,g,num,rep,error,r,g)\n",
      "getTruePositivesAllParams(num,rep,error,r,g,\"chicken\")\n",
      "r = \"10\"\n",
      "runBowtieBuild(num,rep,error,r,g)\n",
      "runBowtieAllParams(num,rep,error,r,g,num,rep,error,r,g)\n",
      "getTruePositivesAllParams(num,rep,error,r,g,\"chicken\")\n",
      "rep = \"2\"\n",
      "runBowtieBuild(num,rep,error,r,g)\n",
      "runBowtieAllParams(num,rep,error,r,g,num,rep,error,r,g)\n",
      "getTruePositivesAllParams(num,rep,error,r,g,\"chicken\")\n",
      "r = \"90\"\n",
      "runBowtieBuild(num,rep,error,r,g)\n",
      "runBowtieAllParams(num,rep,error,r,g,num,rep,error,r,g)\n",
      "getTruePositivesAllParams(num,rep,error,r,g,\"chicken\")\n",
      "r = \"80\"\n",
      "runBowtieBuild(num,rep,error,r,g)\n",
      "runBowtieAllParams(num,rep,error,r,g,num,rep,error,r,g)\n",
      "getTruePositivesAllParams(num,rep,error,r,g,\"chicken\")\n",
      "r = \"70\"\n",
      "runBowtieBuild(num,rep,error,r,g)\n",
      "runBowtieAllParams(num,rep,error,r,g,num,rep,error,r,g)\n",
      "getTruePositivesAllParams(num,rep,error,r,g,\"chicken\")\n",
      "r = \"60\"\n",
      "runBowtieBuild(num,rep,error,r,g)\n",
      "runBowtieAllParams(num,rep,error,r,g,num,rep,error,r,g)\n",
      "getTruePositivesAllParams(num,rep,error,r,g,\"chicken\")\n",
      "r = \"50\"\n",
      "runBowtieBuild(num,rep,error,r,g)\n",
      "runBowtieAllParams(num,rep,error,r,g,num,rep,error,r,g)\n",
      "getTruePositivesAllParams(num,rep,error,r,g,\"chicken\")\n",
      "r = \"40\"\n",
      "runBowtieBuild(num,rep,error,r,g)\n",
      "runBowtieAllParams(num,rep,error,r,g,num,rep,error,r,g)\n",
      "getTruePositivesAllParams(num,rep,error,r,g,\"chicken\")\n",
      "r = \"30\"\n",
      "runBowtieBuild(num,rep,error,r,g)\n",
      "runBowtieAllParams(num,rep,error,r,g,num,rep,error,r,g)\n",
      "getTruePositivesAllParams(num,rep,error,r,g,\"chicken\")\n",
      "r = \"20\"\n",
      "runBowtieBuild(num,rep,error,r,g)\n",
      "runBowtieAllParams(num,rep,error,r,g,num,rep,error,r,g)\n",
      "getTruePositivesAllParams(num,rep,error,r,g,\"chicken\")\n",
      "r = \"10\"\n",
      "runBowtieBuild(num,rep,error,r,g)\n",
      "runBowtieAllParams(num,rep,error,r,g,num,rep,error,r,g)\n",
      "getTruePositivesAllParams(num,rep,error,r,g,\"chicken\")\n",
      "rep = \"3\"\n",
      "runBowtieBuild(num,rep,error,r,g)\n",
      "runBowtieAllParams(num,rep,error,r,g,num,rep,error,r,g)\n",
      "getTruePositivesAllParams(num,rep,error,r,g,\"chicken\")\n",
      "r = \"90\"\n",
      "runBowtieBuild(num,rep,error,r,g)\n",
      "runBowtieAllParams(num,rep,error,r,g,num,rep,error,r,g)\n",
      "getTruePositivesAllParams(num,rep,error,r,g,\"chicken\")\n",
      "r = \"80\"\n",
      "runBowtieBuild(num,rep,error,r,g)\n",
      "runBowtieAllParams(num,rep,error,r,g,num,rep,error,r,g)\n",
      "getTruePositivesAllParams(num,rep,error,r,g,\"chicken\")\n",
      "r = \"70\"\n",
      "runBowtieBuild(num,rep,error,r,g)\n",
      "runBowtieAllParams(num,rep,error,r,g,num,rep,error,r,g)\n",
      "getTruePositivesAllParams(num,rep,error,r,g,\"chicken\")\n",
      "r = \"60\"\n",
      "runBowtieBuild(num,rep,error,r,g)\n",
      "runBowtieAllParams(num,rep,error,r,g,num,rep,error,r,g)\n",
      "getTruePositivesAllParams(num,rep,error,r,g,\"chicken\")\n",
      "r = \"50\"\n",
      "runBowtieBuild(num,rep,error,r,g)\n",
      "runBowtieAllParams(num,rep,error,r,g,num,rep,error,r,g)\n",
      "getTruePositivesAllParams(num,rep,error,r,g,\"chicken\")\n",
      "r = \"40\"\n",
      "runBowtieBuild(num,rep,error,r,g)\n",
      "runBowtieAllParams(num,rep,error,r,g,num,rep,error,r,g)\n",
      "getTruePositivesAllParams(num,rep,error,r,g,\"chicken\")\n",
      "r = \"30\"\n",
      "runBowtieBuild(num,rep,error,r,g)\n",
      "runBowtieAllParams(num,rep,error,r,g,num,rep,error,r,g)\n",
      "getTruePositivesAllParams(num,rep,error,r,g,\"chicken\")\n",
      "r = \"20\"\n",
      "runBowtieBuild(num,rep,error,r,g)\n",
      "runBowtieAllParams(num,rep,error,r,g,num,rep,error,r,g)\n",
      "getTruePositivesAllParams(num,rep,error,r,g,\"chicken\")\n",
      "r = \"10\"\n",
      "runBowtieBuild(num,rep,error,r,g)\n",
      "runBowtieAllParams(num,rep,error,r,g,num,rep,error,r,g)\n",
      "getTruePositivesAllParams(num,rep,error,r,g,\"chicken\")\n"
     ],
     "language": "python",
     "metadata": {},
     "outputs": []
    },
    {
     "cell_type": "code",
     "collapsed": false,
     "input": [
      "num = \"234\"\n",
      "rep = \"1\"\n",
      "error = \"1\"\n",
      "r = \"100\"\n",
      "g = \"100\"\n",
      "defaultTp = {}\n",
      "defaultFp = {}\n",
      "uniqueTp = {}\n",
      "uniqueFp = {}\n",
      "multimapTp = {}\n",
      "multimapFp = {}\n",
      "defaultTp[rep],defaultFp[rep] = getTpFp(num,rep,error,r,g,\"default\",num,rep,error,r,g)\n",
      "uniqueTp[rep],uniqueFp[rep] = getTpFp(num,rep,error,r,g,\"unique\",num,rep,error,r,g)\n",
      "multimapTp[rep],multimapFp[rep] = getTpFp(num,rep,error,r,g,\"multimap\",num,rep,error,r,g)\n",
      "rep = \"2\"\n",
      "defaultTp[rep],defaultFp[rep] = getTpFp(num,rep,error,r,g,\"default\",num,rep,error,r,g)\n",
      "uniqueTp[rep],uniqueFp[rep] = getTpFp(num,rep,error,r,g,\"unique\",num,rep,error,r,g)\n",
      "multimapTp[rep],multimapFp[rep] = getTpFp(num,rep,error,r,g,\"multimap\",num,rep,error,r,g)\n",
      "rep = \"3\"\n",
      "defaultTp[rep],defaultFp[rep] = getTpFp(num,rep,error,r,g,\"default\",num,rep,error,r,g)\n",
      "uniqueTp[rep],uniqueFp[rep] = getTpFp(num,rep,error,r,g,\"unique\",num,rep,error,r,g)\n",
      "multimapTp[rep],multimapFp[rep] = getTpFp(num,rep,error,r,g,\"multimap\",num,rep,error,r,g)\n",
      "print defaultTp, defaultFp, uniqueTp, uniqueFp, multimapTp, multimapFp\n",
      "id = \"050chick100BowtieSe\"\n",
      "defaultAvgTp[id] = sum([defaultTp[\"1\"], defaultTp[\"2\"], defaultTp[\"3\"]]) / 3\n",
      "print \"Average Default True Positive Percentage: \", defaultAvgTp[id]\n",
      "defaultAvgFp[id] = sum([defaultFp[\"1\"], defaultFp[\"2\"], defaultFp[\"3\"]]) / 3\n",
      "print \"Average Default False Positive Percentage: \", defaultAvgFp[id]\n",
      "uniqueAvgTp[id] = sum([uniqueTp[\"1\"], uniqueTp[\"2\"], uniqueTp[\"3\"]]) / 3\n",
      "print \"Average Unique True Positive Percentage: \", uniqueAvgTp[id]\n",
      "uniqueAvgFp[id] = sum([uniqueFp[\"1\"], uniqueFp[\"2\"], uniqueFp[\"3\"]]) / 3\n",
      "print \"Average Unique False Positive Percentage: \", uniqueAvgFp[id]\n",
      "multimapAvgTp[id] = sum([multimapTp[\"1\"], multimapTp[\"2\"], multimapTp[\"3\"]]) / 3\n",
      "print \"Average Multimap True Positive Percentage: \", multimapAvgTp[id]\n",
      "multimapAvgFp[id] = sum([multimapFp[\"1\"], multimapFp[\"2\"], multimapFp[\"3\"]]) / 3\n",
      "print \"Average Multimap False Positive Percentage: \", multimapAvgFp[id]"
     ],
     "language": "python",
     "metadata": {},
     "outputs": [
      {
       "output_type": "stream",
       "stream": "stdout",
       "text": [
        "{'1': 72.04305862420539, '3': 72.39365006966096, '2': 72.2841017299053} {'1': 19.92404908425344, '3': 19.557821039115865, '2': 19.69401426961272} {'1': 55.95991776698459, '3': 56.71308487947893, '2': 56.48000713374003} {'1': 0.00246006086478416, '3': 0.0019167514554492024, '2': 0.0016927970552262377} {'1': 92.03049092780932, '3': 92.3447849805038, '2': 92.08185913369311} {'1': 69.35002501891314, '3': 66.70488639225567, '2': 69.58601515040034}\n",
        "Average Default True Positive Percentage:  72.2402701413\n",
        "Average Default False Positive Percentage:  19.7252947977\n",
        "Average Unique True Positive Percentage:  56.3843365934\n",
        "Average Unique False Positive Percentage:  0.00202320312515\n",
        "Average Multimap True Positive Percentage:  92.1523783473\n",
        "Average Multimap False Positive Percentage:  68.5469755205\n"
       ]
      }
     ],
     "prompt_number": 365
    },
    {
     "cell_type": "code",
     "collapsed": false,
     "input": [
      "num = \"234\"\n",
      "rep = \"1\"\n",
      "error = \"1\"\n",
      "r = \"90\"\n",
      "g = \"100\"\n",
      "defaultTp = {}\n",
      "defaultFp = {}\n",
      "uniqueTp = {}\n",
      "uniqueFp = {}\n",
      "multimapTp = {}\n",
      "multimapFp = {}\n",
      "defaultTp[rep],defaultFp[rep] = getTpFp(num,rep,error,r,g,\"default\",num,rep,error,r,g)\n",
      "uniqueTp[rep],uniqueFp[rep] = getTpFp(num,rep,error,r,g,\"unique\",num,rep,error,r,g)\n",
      "multimapTp[rep],multimapFp[rep] = getTpFp(num,rep,error,r,g,\"multimap\",num,rep,error,r,g)\n",
      "rep = \"2\"\n",
      "defaultTp[rep],defaultFp[rep] = getTpFp(num,rep,error,r,g,\"default\",num,rep,error,r,g)\n",
      "uniqueTp[rep],uniqueFp[rep] = getTpFp(num,rep,error,r,g,\"unique\",num,rep,error,r,g)\n",
      "multimapTp[rep],multimapFp[rep] = getTpFp(num,rep,error,r,g,\"multimap\",num,rep,error,r,g)\n",
      "rep = \"3\"\n",
      "defaultTp[rep],defaultFp[rep] = getTpFp(num,rep,error,r,g,\"default\",num,rep,error,r,g)\n",
      "uniqueTp[rep],uniqueFp[rep] = getTpFp(num,rep,error,r,g,\"unique\",num,rep,error,r,g)\n",
      "multimapTp[rep],multimapFp[rep] = getTpFp(num,rep,error,r,g,\"multimap\",num,rep,error,r,g)\n",
      "print defaultTp, defaultFp, uniqueTp, uniqueFp, multimapTp, multimapFp\n",
      "id = \"050chick090BowtieSe\"\n",
      "defaultAvgTp[id] = sum([defaultTp[\"1\"], defaultTp[\"2\"], defaultTp[\"3\"]]) / 3\n",
      "print \"Average Default True Positive Percentage: \", defaultAvgTp[id]\n",
      "defaultAvgFp[id] = sum([defaultFp[\"1\"], defaultFp[\"2\"], defaultFp[\"3\"]]) / 3\n",
      "print \"Average Default False Positive Percentage: \", defaultAvgFp[id]\n",
      "uniqueAvgTp[id] = sum([uniqueTp[\"1\"], uniqueTp[\"2\"], uniqueTp[\"3\"]]) / 3\n",
      "print \"Average Unique True Positive Percentage: \", uniqueAvgTp[id]\n",
      "uniqueAvgFp[id] = sum([uniqueFp[\"1\"], uniqueFp[\"2\"], uniqueFp[\"3\"]]) / 3\n",
      "print \"Average Unique False Positive Percentage: \", uniqueAvgFp[id]\n",
      "multimapAvgTp[id] = sum([multimapTp[\"1\"], multimapTp[\"2\"], multimapTp[\"3\"]]) / 3\n",
      "print \"Average Multimap True Positive Percentage: \", multimapAvgTp[id]\n",
      "multimapAvgFp[id] = sum([multimapFp[\"1\"], multimapFp[\"2\"], multimapFp[\"3\"]]) / 3\n",
      "print \"Average Multimap False Positive Percentage: \", multimapAvgFp[id]"
     ],
     "language": "python",
     "metadata": {},
     "outputs": [
      {
       "output_type": "stream",
       "stream": "stdout",
       "text": [
        "{'1': 67.18454601870017, '3': 67.1043439068289, '2': 64.97204485618956} {'1': 19.563989787774894, '3': 19.414665614773003, '2': 20.051586324119185} {'1': 53.72880531132117, '3': 53.3484182893738, '2': 51.50043266293238} {'1': 2.2888828625542605, '3': 1.865263685991998, '2': 2.5706309574460144} {'1': 83.6103078513979, '3': 84.23003252997165, '2': 81.65703105256254} {'1': 61.89478972021132, '3': 60.413881577967466, '2': 63.86800128385994}\n",
        "Average Default True Positive Percentage:  66.4203115939\n",
        "Average Default False Positive Percentage:  19.6767472422\n",
        "Average Unique True Positive Percentage:  52.8592187545\n",
        "Average Unique False Positive Percentage:  2.241592502\n",
        "Average Multimap True Positive Percentage:  83.165790478\n",
        "Average Multimap False Positive Percentage:  62.0588908607\n"
       ]
      }
     ],
     "prompt_number": 366
    },
    {
     "cell_type": "code",
     "collapsed": false,
     "input": [
      "num = \"234\"\n",
      "rep = \"1\"\n",
      "error = \"1\"\n",
      "r = \"80\"\n",
      "id = \"050chick080BowtieSe\"\n",
      "g = \"100\"\n",
      "defaultTp = {}\n",
      "defaultFp = {}\n",
      "uniqueTp = {}\n",
      "uniqueFp = {}\n",
      "multimapTp = {}\n",
      "multimapFp = {}\n",
      "defaultTp[rep],defaultFp[rep] = getTpFp(num,rep,error,r,g,\"default\",num,rep,error,r,g)\n",
      "uniqueTp[rep],uniqueFp[rep] = getTpFp(num,rep,error,r,g,\"unique\",num,rep,error,r,g)\n",
      "multimapTp[rep],multimapFp[rep] = getTpFp(num,rep,error,r,g,\"multimap\",num,rep,error,r,g)\n",
      "rep = \"2\"\n",
      "defaultTp[rep],defaultFp[rep] = getTpFp(num,rep,error,r,g,\"default\",num,rep,error,r,g)\n",
      "uniqueTp[rep],uniqueFp[rep] = getTpFp(num,rep,error,r,g,\"unique\",num,rep,error,r,g)\n",
      "multimapTp[rep],multimapFp[rep] = getTpFp(num,rep,error,r,g,\"multimap\",num,rep,error,r,g)\n",
      "rep = \"3\"\n",
      "defaultTp[rep],defaultFp[rep] = getTpFp(num,rep,error,r,g,\"default\",num,rep,error,r,g)\n",
      "uniqueTp[rep],uniqueFp[rep] = getTpFp(num,rep,error,r,g,\"unique\",num,rep,error,r,g)\n",
      "multimapTp[rep],multimapFp[rep] = getTpFp(num,rep,error,r,g,\"multimap\",num,rep,error,r,g)\n",
      "print defaultTp, defaultFp, uniqueTp, uniqueFp, multimapTp, multimapFp\n",
      "defaultAvgTp[id] = sum([defaultTp[\"1\"], defaultTp[\"2\"], defaultTp[\"3\"]]) / 3\n",
      "print \"Average Default True Positive Percentage: \", defaultAvgTp[id]\n",
      "defaultAvgFp[id] = sum([defaultFp[\"1\"], defaultFp[\"2\"], defaultFp[\"3\"]]) / 3\n",
      "print \"Average Default False Positive Percentage: \", defaultAvgFp[id]\n",
      "uniqueAvgTp[id] = sum([uniqueTp[\"1\"], uniqueTp[\"2\"], uniqueTp[\"3\"]]) / 3\n",
      "print \"Average Unique True Positive Percentage: \", uniqueAvgTp[id]\n",
      "uniqueAvgFp[id] = sum([uniqueFp[\"1\"], uniqueFp[\"2\"], uniqueFp[\"3\"]]) / 3\n",
      "print \"Average Unique False Positive Percentage: \", uniqueAvgFp[id]\n",
      "multimapAvgTp[id] = sum([multimapTp[\"1\"], multimapTp[\"2\"], multimapTp[\"3\"]]) / 3\n",
      "print \"Average Multimap True Positive Percentage: \", multimapAvgTp[id]\n",
      "multimapAvgFp[id] = sum([multimapFp[\"1\"], multimapFp[\"2\"], multimapFp[\"3\"]]) / 3\n",
      "print \"Average Multimap False Positive Percentage: \", multimapAvgFp[id]"
     ],
     "language": "python",
     "metadata": {},
     "outputs": [
      {
       "output_type": "stream",
       "stream": "stdout",
       "text": [
        "{'1': 60.318684273905575, '3': 61.221291085255444, '2': 59.60076381135789} {'1': 19.883300038895594, '3': 18.80095381242136, '2': 19.288080202858403} {'1': 48.904588294624205, '3': 50.37587455345999, '2': 48.11183150511251} {'1': 4.796377574499426, '3': 4.294868920109826, '2': 3.9768867889319335} {'1': 73.9590922948392, '3': 74.43056542757164, '2': 73.1939681508898} {'1': 56.41308007771156, '3': 53.341936875039664, '2': 54.84535299217208}\n",
        "Average Default True Positive Percentage:  60.3802463902\n",
        "Average Default False Positive Percentage:  19.3241113514\n",
        "Average Unique True Positive Percentage:  49.1307647844\n",
        "Average Unique False Positive Percentage:  4.35604442785\n",
        "Average Multimap True Positive Percentage:  73.8612086244\n",
        "Average Multimap False Positive Percentage:  54.8667899816\n"
       ]
      }
     ],
     "prompt_number": 367
    },
    {
     "cell_type": "code",
     "collapsed": false,
     "input": [
      "num = \"234\"\n",
      "rep = \"1\"\n",
      "error = \"1\"\n",
      "r = \"70\"\n",
      "id = \"050chick070BowtieSe\"\n",
      "g = \"100\"\n",
      "defaultTp = {}\n",
      "defaultFp = {}\n",
      "uniqueTp = {}\n",
      "uniqueFp = {}\n",
      "multimapTp = {}\n",
      "multimapFp = {}\n",
      "defaultTp[rep],defaultFp[rep] = getTpFp(num,rep,error,r,g,\"default\",num,rep,error,r,g)\n",
      "uniqueTp[rep],uniqueFp[rep] = getTpFp(num,rep,error,r,g,\"unique\",num,rep,error,r,g)\n",
      "multimapTp[rep],multimapFp[rep] = getTpFp(num,rep,error,r,g,\"multimap\",num,rep,error,r,g)\n",
      "rep = \"2\"\n",
      "defaultTp[rep],defaultFp[rep] = getTpFp(num,rep,error,r,g,\"default\",num,rep,error,r,g)\n",
      "uniqueTp[rep],uniqueFp[rep] = getTpFp(num,rep,error,r,g,\"unique\",num,rep,error,r,g)\n",
      "multimapTp[rep],multimapFp[rep] = getTpFp(num,rep,error,r,g,\"multimap\",num,rep,error,r,g)\n",
      "rep = \"3\"\n",
      "defaultTp[rep],defaultFp[rep] = getTpFp(num,rep,error,r,g,\"default\",num,rep,error,r,g)\n",
      "uniqueTp[rep],uniqueFp[rep] = getTpFp(num,rep,error,r,g,\"unique\",num,rep,error,r,g)\n",
      "multimapTp[rep],multimapFp[rep] = getTpFp(num,rep,error,r,g,\"multimap\",num,rep,error,r,g)\n",
      "print defaultTp, defaultFp, uniqueTp, uniqueFp, multimapTp, multimapFp\n",
      "defaultAvgTp[id] = sum([defaultTp[\"1\"], defaultTp[\"2\"], defaultTp[\"3\"]]) / 3\n",
      "print \"Average Default True Positive Percentage: \", defaultAvgTp[id]\n",
      "defaultAvgFp[id] = sum([defaultFp[\"1\"], defaultFp[\"2\"], defaultFp[\"3\"]]) / 3\n",
      "print \"Average Default False Positive Percentage: \", defaultAvgFp[id]\n",
      "uniqueAvgTp[id] = sum([uniqueTp[\"1\"], uniqueTp[\"2\"], uniqueTp[\"3\"]]) / 3\n",
      "print \"Average Unique True Positive Percentage: \", uniqueAvgTp[id]\n",
      "uniqueAvgFp[id] = sum([uniqueFp[\"1\"], uniqueFp[\"2\"], uniqueFp[\"3\"]]) / 3\n",
      "print \"Average Unique False Positive Percentage: \", uniqueAvgFp[id]\n",
      "multimapAvgTp[id] = sum([multimapTp[\"1\"], multimapTp[\"2\"], multimapTp[\"3\"]]) / 3\n",
      "print \"Average Multimap True Positive Percentage: \", multimapAvgTp[id]\n",
      "multimapAvgFp[id] = sum([multimapFp[\"1\"], multimapFp[\"2\"], multimapFp[\"3\"]]) / 3\n",
      "print \"Average Multimap False Positive Percentage: \", multimapAvgFp[id]"
     ],
     "language": "python",
     "metadata": {},
     "outputs": [
      {
       "output_type": "stream",
       "stream": "stdout",
       "text": [
        "{'1': 53.850601862162506, '3': 54.38059233941319, '2': 53.85461352510191} {'1': 18.457109006951306, '3': 18.177697591640456, '2': 18.8030445288266} {'1': 45.0607949770749, '3': 45.23504134200926, '2': 44.83820992176345} {'1': 6.099428370089028, '3': 5.476118212858383, '2': 6.254790482375183} {'1': 64.15094126447988, '3': 65.44044221857104, '2': 64.57436550767383} {'1': 47.801874418425605, '3': 46.55881121148486, '2': 49.5336130847081}\n",
        "Average Default True Positive Percentage:  54.0286025756\n",
        "Average Default False Positive Percentage:  18.4792837091\n",
        "Average Unique True Positive Percentage:  45.0446820803\n",
        "Average Unique False Positive Percentage:  5.94344568844\n",
        "Average Multimap True Positive Percentage:  64.7219163302\n",
        "Average Multimap False Positive Percentage:  47.9647662382\n"
       ]
      }
     ],
     "prompt_number": 368
    },
    {
     "cell_type": "code",
     "collapsed": false,
     "input": [
      "num = \"234\"\n",
      "rep = \"1\"\n",
      "error = \"1\"\n",
      "r = \"60\"\n",
      "id = \"050chick060BowtieSe\"\n",
      "g = \"100\"\n",
      "defaultTp = {}\n",
      "defaultFp = {}\n",
      "uniqueTp = {}\n",
      "uniqueFp = {}\n",
      "multimapTp = {}\n",
      "multimapFp = {}\n",
      "defaultTp[rep],defaultFp[rep] = getTpFp(num,rep,error,r,g,\"default\",num,rep,error,r,g)\n",
      "uniqueTp[rep],uniqueFp[rep] = getTpFp(num,rep,error,r,g,\"unique\",num,rep,error,r,g)\n",
      "multimapTp[rep],multimapFp[rep] = getTpFp(num,rep,error,r,g,\"multimap\",num,rep,error,r,g)\n",
      "rep = \"2\"\n",
      "defaultTp[rep],defaultFp[rep] = getTpFp(num,rep,error,r,g,\"default\",num,rep,error,r,g)\n",
      "uniqueTp[rep],uniqueFp[rep] = getTpFp(num,rep,error,r,g,\"unique\",num,rep,error,r,g)\n",
      "multimapTp[rep],multimapFp[rep] = getTpFp(num,rep,error,r,g,\"multimap\",num,rep,error,r,g)\n",
      "rep = \"3\"\n",
      "defaultTp[rep],defaultFp[rep] = getTpFp(num,rep,error,r,g,\"default\",num,rep,error,r,g)\n",
      "uniqueTp[rep],uniqueFp[rep] = getTpFp(num,rep,error,r,g,\"unique\",num,rep,error,r,g)\n",
      "multimapTp[rep],multimapFp[rep] = getTpFp(num,rep,error,r,g,\"multimap\",num,rep,error,r,g)\n",
      "print defaultTp, defaultFp, uniqueTp, uniqueFp, multimapTp, multimapFp\n",
      "defaultAvgTp[id] = sum([defaultTp[\"1\"], defaultTp[\"2\"], defaultTp[\"3\"]]) / 3\n",
      "print \"Average Default True Positive Percentage: \", defaultAvgTp[id]\n",
      "defaultAvgFp[id] = sum([defaultFp[\"1\"], defaultFp[\"2\"], defaultFp[\"3\"]]) / 3\n",
      "print \"Average Default False Positive Percentage: \", defaultAvgFp[id]\n",
      "uniqueAvgTp[id] = sum([uniqueTp[\"1\"], uniqueTp[\"2\"], uniqueTp[\"3\"]]) / 3\n",
      "print \"Average Unique True Positive Percentage: \", uniqueAvgTp[id]\n",
      "uniqueAvgFp[id] = sum([uniqueFp[\"1\"], uniqueFp[\"2\"], uniqueFp[\"3\"]]) / 3\n",
      "print \"Average Unique False Positive Percentage: \", uniqueAvgFp[id]\n",
      "multimapAvgTp[id] = sum([multimapTp[\"1\"], multimapTp[\"2\"], multimapTp[\"3\"]]) / 3\n",
      "print \"Average Multimap True Positive Percentage: \", multimapAvgTp[id]\n",
      "multimapAvgFp[id] = sum([multimapFp[\"1\"], multimapFp[\"2\"], multimapFp[\"3\"]]) / 3\n",
      "print \"Average Multimap False Positive Percentage: \", multimapAvgFp[id]"
     ],
     "language": "python",
     "metadata": {},
     "outputs": [
      {
       "output_type": "stream",
       "stream": "stdout",
       "text": [
        "{'1': 47.92830325446011, '3': 48.23257474197989, '2': 48.098798300698334} {'1': 17.701737163438725, '3': 17.607687179868257, '2': 17.229252439493838} {'1': 41.24156057222657, '3': 41.36823606152043, '2': 41.49683380305119} {'1': 7.853559369123646, '3': 7.32318429037561, '2': 7.613305438170522} {'1': 55.733549126447045, '3': 56.29160439259204, '2': 55.65833810515496} {'1': 41.0368765141177, '3': 39.468317563474386, '2': 40.865784386173125}\n",
        "Average Default True Positive Percentage:  48.0865587657\n",
        "Average Default False Positive Percentage:  17.5128922609\n",
        "Average Unique True Positive Percentage:  41.3688768123\n",
        "Average Unique False Positive Percentage:  7.59668303256\n",
        "Average Multimap True Positive Percentage:  55.8944972081\n",
        "Average Multimap False Positive Percentage:  40.4569928213\n"
       ]
      }
     ],
     "prompt_number": 369
    },
    {
     "cell_type": "code",
     "collapsed": false,
     "input": [
      "num = \"234\"\n",
      "rep = \"1\"\n",
      "error = \"1\"\n",
      "r = \"50\"\n",
      "id = \"050chick050BowtieSe\"\n",
      "g = \"100\"\n",
      "defaultTp = {}\n",
      "defaultFp = {}\n",
      "uniqueTp = {}\n",
      "uniqueFp = {}\n",
      "multimapTp = {}\n",
      "multimapFp = {}\n",
      "defaultTp[rep],defaultFp[rep] = getTpFp(num,rep,error,r,g,\"default\",num,rep,error,r,g)\n",
      "uniqueTp[rep],uniqueFp[rep] = getTpFp(num,rep,error,r,g,\"unique\",num,rep,error,r,g)\n",
      "multimapTp[rep],multimapFp[rep] = getTpFp(num,rep,error,r,g,\"multimap\",num,rep,error,r,g)\n",
      "rep = \"2\"\n",
      "defaultTp[rep],defaultFp[rep] = getTpFp(num,rep,error,r,g,\"default\",num,rep,error,r,g)\n",
      "uniqueTp[rep],uniqueFp[rep] = getTpFp(num,rep,error,r,g,\"unique\",num,rep,error,r,g)\n",
      "multimapTp[rep],multimapFp[rep] = getTpFp(num,rep,error,r,g,\"multimap\",num,rep,error,r,g)\n",
      "rep = \"3\"\n",
      "defaultTp[rep],defaultFp[rep] = getTpFp(num,rep,error,r,g,\"default\",num,rep,error,r,g)\n",
      "uniqueTp[rep],uniqueFp[rep] = getTpFp(num,rep,error,r,g,\"unique\",num,rep,error,r,g)\n",
      "multimapTp[rep],multimapFp[rep] = getTpFp(num,rep,error,r,g,\"multimap\",num,rep,error,r,g)\n",
      "print defaultTp, defaultFp, uniqueTp, uniqueFp, multimapTp, multimapFp\n",
      "defaultAvgTp[id] = sum([defaultTp[\"1\"], defaultTp[\"2\"], defaultTp[\"3\"]]) / 3\n",
      "print \"Average Default True Positive Percentage: \", defaultAvgTp[id]\n",
      "defaultAvgFp[id] = sum([defaultFp[\"1\"], defaultFp[\"2\"], defaultFp[\"3\"]]) / 3\n",
      "print \"Average Default False Positive Percentage: \", defaultAvgFp[id]\n",
      "uniqueAvgTp[id] = sum([uniqueTp[\"1\"], uniqueTp[\"2\"], uniqueTp[\"3\"]]) / 3\n",
      "print \"Average Unique True Positive Percentage: \", uniqueAvgTp[id]\n",
      "uniqueAvgFp[id] = sum([uniqueFp[\"1\"], uniqueFp[\"2\"], uniqueFp[\"3\"]]) / 3\n",
      "print \"Average Unique False Positive Percentage: \", uniqueAvgFp[id]\n",
      "multimapAvgTp[id] = sum([multimapTp[\"1\"], multimapTp[\"2\"], multimapTp[\"3\"]]) / 3\n",
      "print \"Average Multimap True Positive Percentage: \", multimapAvgTp[id]\n",
      "multimapAvgFp[id] = sum([multimapFp[\"1\"], multimapFp[\"2\"], multimapFp[\"3\"]]) / 3\n",
      "print \"Average Multimap False Positive Percentage: \", multimapAvgFp[id]"
     ],
     "language": "python",
     "metadata": {},
     "outputs": [
      {
       "output_type": "stream",
       "stream": "stdout",
       "text": [
        "{'1': 40.02163400928023, '3': 40.84636554759039, '2': 41.387248519668965} {'1': 16.136740324395006, '3': 16.47772353628896, '2': 15.733202388150099} {'1': 35.28247806920973, '3': 35.37559877457046, '2': 36.75523594125381} {'1': 8.687394914444893, '3': 8.422463632523721, '2': 8.633507571468026} {'1': 45.43552586672625, '3': 46.94845164871689, '2': 46.37246120429048} {'1': 33.93467810742474, '3': 34.59260241373947, '2': 32.99776897345588}\n",
        "Average Default True Positive Percentage:  40.7517493588\n",
        "Average Default False Positive Percentage:  16.1158887496\n",
        "Average Unique True Positive Percentage:  35.804437595\n",
        "Average Unique False Positive Percentage:  8.58112203948\n",
        "Average Multimap True Positive Percentage:  46.2521462399\n",
        "Average Multimap False Positive Percentage:  33.8416831649\n"
       ]
      }
     ],
     "prompt_number": 370
    },
    {
     "cell_type": "code",
     "collapsed": false,
     "input": [
      "num = \"234\"\n",
      "rep = \"1\"\n",
      "error = \"1\"\n",
      "r = \"40\"\n",
      "id = \"050chick040BowtieSe\"\n",
      "g = \"100\"\n",
      "defaultTp = {}\n",
      "defaultFp = {}\n",
      "uniqueTp = {}\n",
      "uniqueFp = {}\n",
      "multimapTp = {}\n",
      "multimapFp = {}\n",
      "defaultTp[rep],defaultFp[rep] = getTpFp(num,rep,error,r,g,\"default\",num,rep,error,r,g)\n",
      "uniqueTp[rep],uniqueFp[rep] = getTpFp(num,rep,error,r,g,\"unique\",num,rep,error,r,g)\n",
      "multimapTp[rep],multimapFp[rep] = getTpFp(num,rep,error,r,g,\"multimap\",num,rep,error,r,g)\n",
      "rep = \"2\"\n",
      "defaultTp[rep],defaultFp[rep] = getTpFp(num,rep,error,r,g,\"default\",num,rep,error,r,g)\n",
      "uniqueTp[rep],uniqueFp[rep] = getTpFp(num,rep,error,r,g,\"unique\",num,rep,error,r,g)\n",
      "multimapTp[rep],multimapFp[rep] = getTpFp(num,rep,error,r,g,\"multimap\",num,rep,error,r,g)\n",
      "rep = \"3\"\n",
      "defaultTp[rep],defaultFp[rep] = getTpFp(num,rep,error,r,g,\"default\",num,rep,error,r,g)\n",
      "uniqueTp[rep],uniqueFp[rep] = getTpFp(num,rep,error,r,g,\"unique\",num,rep,error,r,g)\n",
      "multimapTp[rep],multimapFp[rep] = getTpFp(num,rep,error,r,g,\"multimap\",num,rep,error,r,g)\n",
      "print defaultTp, defaultFp, uniqueTp, uniqueFp, multimapTp, multimapFp\n",
      "defaultAvgTp[id] = sum([defaultTp[\"1\"], defaultTp[\"2\"], defaultTp[\"3\"]]) / 3\n",
      "print \"Average Default True Positive Percentage: \", defaultAvgTp[id]\n",
      "defaultAvgFp[id] = sum([defaultFp[\"1\"], defaultFp[\"2\"], defaultFp[\"3\"]]) / 3\n",
      "print \"Average Default False Positive Percentage: \", defaultAvgFp[id]\n",
      "uniqueAvgTp[id] = sum([uniqueTp[\"1\"], uniqueTp[\"2\"], uniqueTp[\"3\"]]) / 3\n",
      "print \"Average Unique True Positive Percentage: \", uniqueAvgTp[id]\n",
      "uniqueAvgFp[id] = sum([uniqueFp[\"1\"], uniqueFp[\"2\"], uniqueFp[\"3\"]]) / 3\n",
      "print \"Average Unique False Positive Percentage: \", uniqueAvgFp[id]\n",
      "multimapAvgTp[id] = sum([multimapTp[\"1\"], multimapTp[\"2\"], multimapTp[\"3\"]]) / 3\n",
      "print \"Average Multimap True Positive Percentage: \", multimapAvgTp[id]\n",
      "multimapAvgFp[id] = sum([multimapFp[\"1\"], multimapFp[\"2\"], multimapFp[\"3\"]]) / 3\n",
      "print \"Average Multimap False Positive Percentage: \", multimapAvgFp[id]"
     ],
     "language": "python",
     "metadata": {},
     "outputs": [
      {
       "output_type": "stream",
       "stream": "stdout",
       "text": [
        "{'1': 32.39552872034305, '3': 32.99992845755714, '2': 32.1464773293154} {'1': 14.18883480999305, '3': 13.101861652651047, '2': 14.562897140852444} {'1': 28.713313922031862, '3': 29.530361438010154, '2': 28.983779272059945} {'1': 8.24277623773275, '3': 7.90691175148787, '2': 9.351761362000518} {'1': 36.34942758324616, '3': 36.77613908415201, '2': 35.473588633787486} {'1': 27.969061446025663, '3': 25.476978784070937, '2': 27.537028269444242}\n",
        "Average Default True Positive Percentage:  32.5139781691\n",
        "Average Default False Positive Percentage:  13.9511978678\n",
        "Average Unique True Positive Percentage:  29.0758182107\n",
        "Average Unique False Positive Percentage:  8.50048311707\n",
        "Average Multimap True Positive Percentage:  36.1997184337\n",
        "Average Multimap False Positive Percentage:  26.9943561665\n"
       ]
      }
     ],
     "prompt_number": 371
    },
    {
     "cell_type": "code",
     "collapsed": false,
     "input": [
      "num = \"234\"\n",
      "rep = \"1\"\n",
      "error = \"1\"\n",
      "r = \"30\"\n",
      "id = \"050chick030BowtieSe\"\n",
      "g = \"100\"\n",
      "defaultTp = {}\n",
      "defaultFp = {}\n",
      "uniqueTp = {}\n",
      "uniqueFp = {}\n",
      "multimapTp = {}\n",
      "multimapFp = {}\n",
      "defaultTp[rep],defaultFp[rep] = getTpFp(num,rep,error,r,g,\"default\",num,rep,error,r,g)\n",
      "uniqueTp[rep],uniqueFp[rep] = getTpFp(num,rep,error,r,g,\"unique\",num,rep,error,r,g)\n",
      "multimapTp[rep],multimapFp[rep] = getTpFp(num,rep,error,r,g,\"multimap\",num,rep,error,r,g)\n",
      "rep = \"2\"\n",
      "defaultTp[rep],defaultFp[rep] = getTpFp(num,rep,error,r,g,\"default\",num,rep,error,r,g)\n",
      "uniqueTp[rep],uniqueFp[rep] = getTpFp(num,rep,error,r,g,\"unique\",num,rep,error,r,g)\n",
      "multimapTp[rep],multimapFp[rep] = getTpFp(num,rep,error,r,g,\"multimap\",num,rep,error,r,g)\n",
      "rep = \"3\"\n",
      "defaultTp[rep],defaultFp[rep] = getTpFp(num,rep,error,r,g,\"default\",num,rep,error,r,g)\n",
      "uniqueTp[rep],uniqueFp[rep] = getTpFp(num,rep,error,r,g,\"unique\",num,rep,error,r,g)\n",
      "multimapTp[rep],multimapFp[rep] = getTpFp(num,rep,error,r,g,\"multimap\",num,rep,error,r,g)\n",
      "print defaultTp, defaultFp, uniqueTp, uniqueFp, multimapTp, multimapFp\n",
      "defaultAvgTp[id] = sum([defaultTp[\"1\"], defaultTp[\"2\"], defaultTp[\"3\"]]) / 3\n",
      "print \"Average Default True Positive Percentage: \", defaultAvgTp[id]\n",
      "defaultAvgFp[id] = sum([defaultFp[\"1\"], defaultFp[\"2\"], defaultFp[\"3\"]]) / 3\n",
      "print \"Average Default False Positive Percentage: \", defaultAvgFp[id]\n",
      "uniqueAvgTp[id] = sum([uniqueTp[\"1\"], uniqueTp[\"2\"], uniqueTp[\"3\"]]) / 3\n",
      "print \"Average Unique True Positive Percentage: \", uniqueAvgTp[id]\n",
      "uniqueAvgFp[id] = sum([uniqueFp[\"1\"], uniqueFp[\"2\"], uniqueFp[\"3\"]]) / 3\n",
      "print \"Average Unique False Positive Percentage: \", uniqueAvgFp[id]\n",
      "multimapAvgTp[id] = sum([multimapTp[\"1\"], multimapTp[\"2\"], multimapTp[\"3\"]]) / 3\n",
      "print \"Average Multimap True Positive Percentage: \", multimapAvgTp[id]\n",
      "multimapAvgFp[id] = sum([multimapFp[\"1\"], multimapFp[\"2\"], multimapFp[\"3\"]]) / 3\n",
      "print \"Average Multimap False Positive Percentage: \", multimapAvgFp[id]"
     ],
     "language": "python",
     "metadata": {},
     "outputs": [
      {
       "output_type": "stream",
       "stream": "stdout",
       "text": [
        "{'1': 23.62089108972949, '3': 25.364861710791153, '2': 24.96792482808113} {'1': 11.915831378040014, '3': 11.081837582159523, '2': 11.721662577295513} {'1': 21.549585748077877, '3': 23.259788407460068, '2': 22.935200795054794} {'1': 8.147028893435031, '3': 7.500169767476751, '2': 8.201996274246985} {'1': 25.794850507521723, '3': 27.650359249142394, '2': 27.22879391808675} {'1': 20.560590169273976, '3': 19.590730020226406, '2': 21.58717984809079}\n",
        "Average Default True Positive Percentage:  24.6512258762\n",
        "Average Default False Positive Percentage:  11.5731105125\n",
        "Average Unique True Positive Percentage:  22.5815249835\n",
        "Average Unique False Positive Percentage:  7.94973164505\n",
        "Average Multimap True Positive Percentage:  26.8913345583\n",
        "Average Multimap False Positive Percentage:  20.5795000125\n"
       ]
      }
     ],
     "prompt_number": 372
    },
    {
     "cell_type": "code",
     "collapsed": false,
     "input": [
      "num = \"234\"\n",
      "rep = \"1\"\n",
      "error = \"1\"\n",
      "r = \"20\"\n",
      "id = \"050chick020BowtieSe\"\n",
      "g = \"100\"\n",
      "defaultTp = {}\n",
      "defaultFp = {}\n",
      "uniqueTp = {}\n",
      "uniqueFp = {}\n",
      "multimapTp = {}\n",
      "multimapFp = {}\n",
      "defaultTp[rep],defaultFp[rep] = getTpFp(num,rep,error,r,g,\"default\",num,rep,error,r,g)\n",
      "uniqueTp[rep],uniqueFp[rep] = getTpFp(num,rep,error,r,g,\"unique\",num,rep,error,r,g)\n",
      "multimapTp[rep],multimapFp[rep] = getTpFp(num,rep,error,r,g,\"multimap\",num,rep,error,r,g)\n",
      "rep = \"2\"\n",
      "defaultTp[rep],defaultFp[rep] = getTpFp(num,rep,error,r,g,\"default\",num,rep,error,r,g)\n",
      "uniqueTp[rep],uniqueFp[rep] = getTpFp(num,rep,error,r,g,\"unique\",num,rep,error,r,g)\n",
      "multimapTp[rep],multimapFp[rep] = getTpFp(num,rep,error,r,g,\"multimap\",num,rep,error,r,g)\n",
      "rep = \"3\"\n",
      "defaultTp[rep],defaultFp[rep] = getTpFp(num,rep,error,r,g,\"default\",num,rep,error,r,g)\n",
      "uniqueTp[rep],uniqueFp[rep] = getTpFp(num,rep,error,r,g,\"unique\",num,rep,error,r,g)\n",
      "multimapTp[rep],multimapFp[rep] = getTpFp(num,rep,error,r,g,\"multimap\",num,rep,error,r,g)\n",
      "print defaultTp, defaultFp, uniqueTp, uniqueFp, multimapTp, multimapFp\n",
      "defaultAvgTp[id] = sum([defaultTp[\"1\"], defaultTp[\"2\"], defaultTp[\"3\"]]) / 3\n",
      "print \"Average Default True Positive Percentage: \", defaultAvgTp[id]\n",
      "defaultAvgFp[id] = sum([defaultFp[\"1\"], defaultFp[\"2\"], defaultFp[\"3\"]]) / 3\n",
      "print \"Average Default False Positive Percentage: \", defaultAvgFp[id]\n",
      "uniqueAvgTp[id] = sum([uniqueTp[\"1\"], uniqueTp[\"2\"], uniqueTp[\"3\"]]) / 3\n",
      "print \"Average Unique True Positive Percentage: \", uniqueAvgTp[id]\n",
      "uniqueAvgFp[id] = sum([uniqueFp[\"1\"], uniqueFp[\"2\"], uniqueFp[\"3\"]]) / 3\n",
      "print \"Average Unique False Positive Percentage: \", uniqueAvgFp[id]\n",
      "multimapAvgTp[id] = sum([multimapTp[\"1\"], multimapTp[\"2\"], multimapTp[\"3\"]]) / 3\n",
      "print \"Average Multimap True Positive Percentage: \", multimapAvgTp[id]\n",
      "multimapAvgFp[id] = sum([multimapFp[\"1\"], multimapFp[\"2\"], multimapFp[\"3\"]]) / 3\n",
      "print \"Average Multimap False Positive Percentage: \", multimapAvgFp[id]"
     ],
     "language": "python",
     "metadata": {},
     "outputs": [
      {
       "output_type": "stream",
       "stream": "stdout",
       "text": [
        "{'1': 18.079887120732657, '3': 17.993431714637406, '2': 17.86737961413824} {'1': 9.527084032693173, '3': 8.434925908264141, '2': 8.606182894592326} {'1': 16.864751556583673, '3': 17.102999603437283, '2': 17.043961806233117} {'1': 7.147239444516373, '3': 6.4601849213436005, '2': 6.710127564920766} {'1': 19.28896735737303, '3': 18.918974425923444, '2': 18.729271899995414} {'1': 14.705228351619068, '3': 12.968003761553515, '2': 13.013753242972626}\n",
        "Average Default True Positive Percentage:  17.9802328165\n",
        "Average Default False Positive Percentage:  8.85606427852\n",
        "Average Unique True Positive Percentage:  17.0039043221\n",
        "Average Unique False Positive Percentage:  6.77251731026\n",
        "Average Multimap True Positive Percentage:  18.9790712278\n",
        "Average Multimap False Positive Percentage:  13.562328452\n"
       ]
      }
     ],
     "prompt_number": 373
    },
    {
     "cell_type": "code",
     "collapsed": false,
     "input": [
      "num = \"234\"\n",
      "rep = \"1\"\n",
      "error = \"1\"\n",
      "r = \"10\"\n",
      "id = \"050chick010BowtieSe\"\n",
      "g = \"100\"\n",
      "defaultTp = {}\n",
      "defaultFp = {}\n",
      "uniqueTp = {}\n",
      "uniqueFp = {}\n",
      "multimapTp = {}\n",
      "multimapFp = {}\n",
      "defaultTp[rep],defaultFp[rep] = getTpFp(num,rep,error,r,g,\"default\",num,rep,error,r,g)\n",
      "uniqueTp[rep],uniqueFp[rep] = getTpFp(num,rep,error,r,g,\"unique\",num,rep,error,r,g)\n",
      "multimapTp[rep],multimapFp[rep] = getTpFp(num,rep,error,r,g,\"multimap\",num,rep,error,r,g)\n",
      "rep = \"2\"\n",
      "defaultTp[rep],defaultFp[rep] = getTpFp(num,rep,error,r,g,\"default\",num,rep,error,r,g)\n",
      "uniqueTp[rep],uniqueFp[rep] = getTpFp(num,rep,error,r,g,\"unique\",num,rep,error,r,g)\n",
      "multimapTp[rep],multimapFp[rep] = getTpFp(num,rep,error,r,g,\"multimap\",num,rep,error,r,g)\n",
      "rep = \"3\"\n",
      "defaultTp[rep],defaultFp[rep] = getTpFp(num,rep,error,r,g,\"default\",num,rep,error,r,g)\n",
      "uniqueTp[rep],uniqueFp[rep] = getTpFp(num,rep,error,r,g,\"unique\",num,rep,error,r,g)\n",
      "multimapTp[rep],multimapFp[rep] = getTpFp(num,rep,error,r,g,\"multimap\",num,rep,error,r,g)\n",
      "print defaultTp, defaultFp, uniqueTp, uniqueFp, multimapTp, multimapFp\n",
      "defaultAvgTp[id] = sum([defaultTp[\"1\"], defaultTp[\"2\"], defaultTp[\"3\"]]) / 3\n",
      "print \"Average Default True Positive Percentage: \", defaultAvgTp[id]\n",
      "defaultAvgFp[id] = sum([defaultFp[\"1\"], defaultFp[\"2\"], defaultFp[\"3\"]]) / 3\n",
      "print \"Average Default False Positive Percentage: \", defaultAvgFp[id]\n",
      "uniqueAvgTp[id] = sum([uniqueTp[\"1\"], uniqueTp[\"2\"], uniqueTp[\"3\"]]) / 3\n",
      "print \"Average Unique True Positive Percentage: \", uniqueAvgTp[id]\n",
      "uniqueAvgFp[id] = sum([uniqueFp[\"1\"], uniqueFp[\"2\"], uniqueFp[\"3\"]]) / 3\n",
      "print \"Average Unique False Positive Percentage: \", uniqueAvgFp[id]\n",
      "multimapAvgTp[id] = sum([multimapTp[\"1\"], multimapTp[\"2\"], multimapTp[\"3\"]]) / 3\n",
      "print \"Average Multimap True Positive Percentage: \", multimapAvgTp[id]\n",
      "multimapAvgFp[id] = sum([multimapFp[\"1\"], multimapFp[\"2\"], multimapFp[\"3\"]]) / 3\n",
      "print \"Average Multimap False Positive Percentage: \", multimapAvgFp[id]"
     ],
     "language": "python",
     "metadata": {},
     "outputs": [
      {
       "output_type": "stream",
       "stream": "stdout",
       "text": [
        "{'1': 9.937202675954406, '3': 8.926169094266976, '2': 8.457937858619722} {'1': 4.739085998482214, '3': 4.784956357888995, '2': 4.95568203992975} {'1': 9.648789121457522, '3': 8.661620767590996, '2': 8.230961764646294} {'1': 4.113123578689412, '3': 4.214848277252821, '2': 4.254401538925802} {'1': 10.211859258048333, '3': 9.17618917742713, '2': 8.687573110172032} {'1': 6.273204971329732, '3': 6.659404986630353, '2': 7.248943534688211}\n",
        "Average Default True Positive Percentage:  9.10710320961\n",
        "Average Default False Positive Percentage:  4.82657479877\n",
        "Average Unique True Positive Percentage:  8.84712388456\n",
        "Average Unique False Positive Percentage:  4.19412446496\n",
        "Average Multimap True Positive Percentage:  9.35854051522\n",
        "Average Multimap False Positive Percentage:  6.72718449755\n"
       ]
      }
     ],
     "prompt_number": 374
    },
    {
     "cell_type": "code",
     "collapsed": false,
     "input": [
      "print \"Percent Mapping Accuracy for Chicken Transcriptome with Incomplete Reference Transcriptome and 50% Transcriptome Expression\"\n",
      "print \"PercRefComplete\\tTP(d)\\tFP(d)\\tTP(u)\\tFP(u)\\tTP(m)\\tFP(m)\"\n",
      "id = \"050chick100BowtieSe\"\n",
      "print \"100\\t\\t\" + str(defaultAvgTp[id])[0:5] + \"\\t\" + str(defaultAvgFp[id])[0:5] + \"\\t\" + str(uniqueAvgTp[id])[0:5] + \"\\t\" + str(uniqueAvgFp[id])[0:5] + \"\\t\" + str(multimapAvgTp[id])[0:5] + \"\\t\" + str(multimapAvgFp[id])[0:5]\n",
      "id = \"050chick090BowtieSe\"\n",
      "print \"90\\t\\t\" + str(defaultAvgTp[id])[0:5] + \"\\t\" + str(defaultAvgFp[id])[0:5] + \"\\t\" + str(uniqueAvgTp[id])[0:5] + \"\\t\" + str(uniqueAvgFp[id])[0:5] + \"\\t\" + str(multimapAvgTp[id])[0:5] + \"\\t\" + str(multimapAvgFp[id])[0:5]\n",
      "id = \"050chick080BowtieSe\"\n",
      "print \"80\\t\\t\" + str(defaultAvgTp[id])[0:5] + \"\\t\" + str(defaultAvgFp[id])[0:5] + \"\\t\" + str(uniqueAvgTp[id])[0:5] + \"\\t\" + str(uniqueAvgFp[id])[0:5] + \"\\t\" + str(multimapAvgTp[id])[0:5] + \"\\t\" + str(multimapAvgFp[id])[0:5]\n",
      "id = \"050chick070BowtieSe\"\n",
      "print \"70\\t\\t\" + str(defaultAvgTp[id])[0:5] + \"\\t\" + str(defaultAvgFp[id])[0:5] + \"\\t\" + str(uniqueAvgTp[id])[0:5] + \"\\t\" + str(uniqueAvgFp[id])[0:5] + \"\\t\" + str(multimapAvgTp[id])[0:5] + \"\\t\" + str(multimapAvgFp[id])[0:5]\n",
      "id = \"050chick060BowtieSe\"\n",
      "print \"60\\t\\t\" + str(defaultAvgTp[id])[0:5] + \"\\t\" + str(defaultAvgFp[id])[0:5] + \"\\t\" + str(uniqueAvgTp[id])[0:5] + \"\\t\" + str(uniqueAvgFp[id])[0:5] + \"\\t\" + str(multimapAvgTp[id])[0:5] + \"\\t\" + str(multimapAvgFp[id])[0:5]\n",
      "id = \"050chick050BowtieSe\"\n",
      "print \"50\\t\\t\" + str(defaultAvgTp[id])[0:5] + \"\\t\" + str(defaultAvgFp[id])[0:5] + \"\\t\" + str(uniqueAvgTp[id])[0:5] + \"\\t\" + str(uniqueAvgFp[id])[0:5] + \"\\t\" + str(multimapAvgTp[id])[0:5] + \"\\t\" + str(multimapAvgFp[id])[0:5]\n",
      "id = \"050chick040BowtieSe\"\n",
      "print \"40\\t\\t\" + str(defaultAvgTp[id])[0:5] + \"\\t\" + str(defaultAvgFp[id])[0:5] + \"\\t\" + str(uniqueAvgTp[id])[0:5] + \"\\t\" + str(uniqueAvgFp[id])[0:5] + \"\\t\" + str(multimapAvgTp[id])[0:5] + \"\\t\" + str(multimapAvgFp[id])[0:5]\n",
      "id = \"050chick030BowtieSe\"\n",
      "print \"30\\t\\t\" + str(defaultAvgTp[id])[0:5] + \"\\t\" + str(defaultAvgFp[id])[0:5] + \"\\t\" + str(uniqueAvgTp[id])[0:5] + \"\\t\" + str(uniqueAvgFp[id])[0:5] + \"\\t\" + str(multimapAvgTp[id])[0:5] + \"\\t\" + str(multimapAvgFp[id])[0:5]\n",
      "id = \"050chick020BowtieSe\"\n",
      "print \"20\\t\\t\" + str(defaultAvgTp[id])[0:5] + \"\\t\" + str(defaultAvgFp[id])[0:5] + \"\\t\" + str(uniqueAvgTp[id])[0:5] + \"\\t\" + str(uniqueAvgFp[id])[0:5] + \"\\t\" + str(multimapAvgTp[id])[0:5] + \"\\t\" + str(multimapAvgFp[id])[0:5]\n",
      "id = \"050chick010BowtieSe\"\n",
      "print \"10\\t\\t\" + str(defaultAvgTp[id])[0:5] + \"\\t\" + str(defaultAvgFp[id])[0:5] + \"\\t\" + str(uniqueAvgTp[id])[0:5] + \"\\t\" + str(uniqueAvgFp[id])[0:5] + \"\\t\" + str(multimapAvgTp[id])[0:5] + \"\\t\" + str(multimapAvgFp[id])[0:5]\n"
     ],
     "language": "python",
     "metadata": {},
     "outputs": [
      {
       "output_type": "stream",
       "stream": "stdout",
       "text": [
        "Percent Mapping Accuracy for Chicken Transcriptome with Incomplete Reference Transcriptome and 50% Transcriptome Expression\n",
        "PercRefComplete\tTP(d)\tFP(d)\tTP(u)\tFP(u)\tTP(m)\tFP(m)\n",
        "100\t\t72.24\t19.72\t56.38\t0.002\t92.15\t68.54\n",
        "90\t\t66.42\t19.67\t52.85\t2.241\t83.16\t62.05\n",
        "80\t\t60.38\t19.32\t49.13\t4.356\t73.86\t54.86\n",
        "70\t\t54.02\t18.47\t45.04\t5.943\t64.72\t47.96\n",
        "60\t\t48.08\t17.51\t41.36\t7.596\t55.89\t40.45\n",
        "50\t\t40.75\t16.11\t35.80\t8.581\t46.25\t33.84\n",
        "40\t\t32.51\t13.95\t29.07\t8.500\t36.19\t26.99\n",
        "30\t\t24.65\t11.57\t22.58\t7.949\t26.89\t20.57\n",
        "20\t\t17.98\t8.856\t17.00\t6.772\t18.97\t13.56\n",
        "10\t\t9.107\t4.826\t8.847\t4.194\t9.358\t6.727\n"
       ]
      }
     ],
     "prompt_number": 400
    },
    {
     "cell_type": "raw",
     "metadata": {},
     "source": [
      "Mouse transcriptome, 50% expression, single end 100 bp reads, {0 10 100 100}x expression"
     ]
    },
    {
     "cell_type": "code",
     "collapsed": false,
     "input": [
      "num = \"230\"\n",
      "rep = \"1\"\n",
      "createDataSet(num,rep)\n",
      "!grep '>' DataSet230rep1E1R100G100.fa | wc -l\n",
      "rep = \"2\"\n",
      "createDataSet(num,rep)\n",
      "!grep '>' DataSet230rep2E1R100G100.fa | wc -l\n",
      "rep = \"3\"\n",
      "createDataSet(num,rep)\n",
      "!grep '>' DataSet230rep3E1R100G100.fa | wc -l\n"
     ],
     "language": "python",
     "metadata": {},
     "outputs": []
    },
    {
     "cell_type": "code",
     "collapsed": false,
     "input": [
      "error = \"1\"\n",
      "r = \"100\"\n",
      "g = \"100\"\n",
      "rep = \"1\"\n",
      "org = \"mouse\"\n",
      "runBowtieBuild(num,rep,error,r,g)\n",
      "runBowtieAllParams(num,rep,error,r,g,num,rep,error,r,g)\n",
      "getTruePositivesAllParams(num,rep,error,r,g,org)\n",
      "r = \"90\"\n",
      "runBowtieBuild(num,rep,error,r,g)\n",
      "runBowtieAllParams(num,rep,error,r,g,num,rep,error,r,g)\n",
      "getTruePositivesAllParams(num,rep,error,r,g,org)\n",
      "r = \"80\"\n",
      "runBowtieBuild(num,rep,error,r,g)\n",
      "runBowtieAllParams(num,rep,error,r,g,num,rep,error,r,g)\n",
      "getTruePositivesAllParams(num,rep,error,r,g,org)\n",
      "r = \"70\"\n",
      "runBowtieBuild(num,rep,error,r,g)\n",
      "runBowtieAllParams(num,rep,error,r,g,num,rep,error,r,g)\n",
      "getTruePositivesAllParams(num,rep,error,r,g,org)\n",
      "r = \"60\"\n",
      "runBowtieBuild(num,rep,error,r,g)\n",
      "runBowtieAllParams(num,rep,error,r,g,num,rep,error,r,g)\n",
      "getTruePositivesAllParams(num,rep,error,r,g,org)\n",
      "r = \"50\"\n",
      "runBowtieBuild(num,rep,error,r,g)\n",
      "runBowtieAllParams(num,rep,error,r,g,num,rep,error,r,g)\n",
      "getTruePositivesAllParams(num,rep,error,r,g,org)\n",
      "r = \"40\"\n",
      "runBowtieBuild(num,rep,error,r,g)\n",
      "runBowtieAllParams(num,rep,error,r,g,num,rep,error,r,g)\n",
      "getTruePositivesAllParams(num,rep,error,r,g,org)\n",
      "r = \"30\"\n",
      "runBowtieBuild(num,rep,error,r,g)\n",
      "runBowtieAllParams(num,rep,error,r,g,num,rep,error,r,g)\n",
      "getTruePositivesAllParams(num,rep,error,r,g,org)\n",
      "r = \"20\"\n",
      "runBowtieBuild(num,rep,error,r,g)\n",
      "runBowtieAllParams(num,rep,error,r,g,num,rep,error,r,g)\n",
      "getTruePositivesAllParams(num,rep,error,r,g,org)\n",
      "r = \"10\"\n",
      "runBowtieBuild(num,rep,error,r,g)\n",
      "runBowtieAllParams(num,rep,error,r,g,num,rep,error,r,g)\n",
      "getTruePositivesAllParams(num,rep,error,r,g,org)\n",
      "rep = \"2\"\n",
      "runBowtieBuild(num,rep,error,r,g)\n",
      "runBowtieAllParams(num,rep,error,r,g,num,rep,error,r,g)\n",
      "getTruePositivesAllParams(num,rep,error,r,g,org)\n",
      "r = \"90\"\n",
      "runBowtieBuild(num,rep,error,r,g)\n",
      "runBowtieAllParams(num,rep,error,r,g,num,rep,error,r,g)\n",
      "getTruePositivesAllParams(num,rep,error,r,g,org)\n",
      "r = \"80\"\n",
      "runBowtieBuild(num,rep,error,r,g)\n",
      "runBowtieAllParams(num,rep,error,r,g,num,rep,error,r,g)\n",
      "getTruePositivesAllParams(num,rep,error,r,g,org)\n",
      "r = \"70\"\n",
      "runBowtieBuild(num,rep,error,r,g)\n",
      "runBowtieAllParams(num,rep,error,r,g,num,rep,error,r,g)\n",
      "getTruePositivesAllParams(num,rep,error,r,g,org)\n",
      "r = \"60\"\n",
      "runBowtieBuild(num,rep,error,r,g)\n",
      "runBowtieAllParams(num,rep,error,r,g,num,rep,error,r,g)\n",
      "getTruePositivesAllParams(num,rep,error,r,g,org)\n",
      "r = \"50\"\n",
      "runBowtieBuild(num,rep,error,r,g)\n",
      "runBowtieAllParams(num,rep,error,r,g,num,rep,error,r,g)\n",
      "getTruePositivesAllParams(num,rep,error,r,g,org)\n",
      "r = \"40\"\n",
      "runBowtieBuild(num,rep,error,r,g)\n",
      "runBowtieAllParams(num,rep,error,r,g,num,rep,error,r,g)\n",
      "getTruePositivesAllParams(num,rep,error,r,g,org)\n",
      "r = \"30\"\n",
      "runBowtieBuild(num,rep,error,r,g)\n",
      "runBowtieAllParams(num,rep,error,r,g,num,rep,error,r,g)\n",
      "getTruePositivesAllParams(num,rep,error,r,g,org)\n",
      "r = \"20\"\n",
      "runBowtieBuild(num,rep,error,r,g)\n",
      "runBowtieAllParams(num,rep,error,r,g,num,rep,error,r,g)\n",
      "getTruePositivesAllParams(num,rep,error,r,g,org)\n",
      "r = \"10\"\n",
      "runBowtieBuild(num,rep,error,r,g)\n",
      "runBowtieAllParams(num,rep,error,r,g,num,rep,error,r,g)\n",
      "getTruePositivesAllParams(num,rep,error,r,g,org)\n",
      "rep = \"3\"\n",
      "runBowtieBuild(num,rep,error,r,g)\n",
      "runBowtieAllParams(num,rep,error,r,g,num,rep,error,r,g)\n",
      "getTruePositivesAllParams(num,rep,error,r,g,org)\n",
      "r = \"90\"\n",
      "runBowtieBuild(num,rep,error,r,g)\n",
      "runBowtieAllParams(num,rep,error,r,g,num,rep,error,r,g)\n",
      "getTruePositivesAllParams(num,rep,error,r,g,org)\n",
      "r = \"80\"\n",
      "runBowtieBuild(num,rep,error,r,g)\n",
      "runBowtieAllParams(num,rep,error,r,g,num,rep,error,r,g)\n",
      "getTruePositivesAllParams(num,rep,error,r,g,org)\n",
      "r = \"70\"\n",
      "runBowtieBuild(num,rep,error,r,g)\n",
      "runBowtieAllParams(num,rep,error,r,g,num,rep,error,r,g)\n",
      "getTruePositivesAllParams(num,rep,error,r,g,org)\n",
      "r = \"60\"\n",
      "runBowtieBuild(num,rep,error,r,g)\n",
      "runBowtieAllParams(num,rep,error,r,g,num,rep,error,r,g)\n",
      "getTruePositivesAllParams(num,rep,error,r,g,org)\n",
      "r = \"50\"\n",
      "runBowtieBuild(num,rep,error,r,g)\n",
      "runBowtieAllParams(num,rep,error,r,g,num,rep,error,r,g)\n",
      "getTruePositivesAllParams(num,rep,error,r,g,org)\n",
      "r = \"40\"\n",
      "runBowtieBuild(num,rep,error,r,g)\n",
      "runBowtieAllParams(num,rep,error,r,g,num,rep,error,r,g)\n",
      "getTruePositivesAllParams(num,rep,error,r,g,org)\n",
      "r = \"30\"\n",
      "runBowtieBuild(num,rep,error,r,g)\n",
      "runBowtieAllParams(num,rep,error,r,g,num,rep,error,r,g)\n",
      "getTruePositivesAllParams(num,rep,error,r,g,org)\n",
      "r = \"20\"\n",
      "runBowtieBuild(num,rep,error,r,g)\n",
      "runBowtieAllParams(num,rep,error,r,g,num,rep,error,r,g)\n",
      "getTruePositivesAllParams(num,rep,error,r,g,org)\n",
      "r = \"10\"\n",
      "runBowtieBuild(num,rep,error,r,g)\n",
      "runBowtieAllParams(num,rep,error,r,g,num,rep,error,r,g)\n",
      "getTruePositivesAllParams(num,rep,error,r,g,org)\n"
     ],
     "language": "python",
     "metadata": {},
     "outputs": []
    },
    {
     "cell_type": "code",
     "collapsed": false,
     "input": [
      "num = \"230\"\n",
      "rep = \"1\"\n",
      "error = \"1\"\n",
      "r = \"100\"\n",
      "id = \"050mouse100BowtieSe\"\n",
      "g = \"100\"\n",
      "defaultTp = {}\n",
      "defaultFp = {}\n",
      "uniqueTp = {}\n",
      "uniqueFp = {}\n",
      "multimapTp = {}\n",
      "multimapFp = {}\n",
      "defaultTp[rep],defaultFp[rep] = getTpFp(num,rep,error,r,g,\"default\",num,rep,error,r,g)\n",
      "uniqueTp[rep],uniqueFp[rep] = getTpFp(num,rep,error,r,g,\"unique\",num,rep,error,r,g)\n",
      "multimapTp[rep],multimapFp[rep] = getTpFp(num,rep,error,r,g,\"multimap\",num,rep,error,r,g)\n",
      "rep = \"2\"\n",
      "defaultTp[rep],defaultFp[rep] = getTpFp(num,rep,error,r,g,\"default\",num,rep,error,r,g)\n",
      "uniqueTp[rep],uniqueFp[rep] = getTpFp(num,rep,error,r,g,\"unique\",num,rep,error,r,g)\n",
      "multimapTp[rep],multimapFp[rep] = getTpFp(num,rep,error,r,g,\"multimap\",num,rep,error,r,g)\n",
      "rep = \"3\"\n",
      "defaultTp[rep],defaultFp[rep] = getTpFp(num,rep,error,r,g,\"default\",num,rep,error,r,g)\n",
      "uniqueTp[rep],uniqueFp[rep] = getTpFp(num,rep,error,r,g,\"unique\",num,rep,error,r,g)\n",
      "multimapTp[rep],multimapFp[rep] = getTpFp(num,rep,error,r,g,\"multimap\",num,rep,error,r,g)\n",
      "print defaultTp, defaultFp, uniqueTp, uniqueFp, multimapTp, multimapFp\n",
      "defaultAvgTp[id] = sum([defaultTp[\"1\"], defaultTp[\"2\"], defaultTp[\"3\"]]) / 3\n",
      "print \"Average Default True Positive Percentage: \", defaultAvgTp[id]\n",
      "defaultAvgFp[id] = sum([defaultFp[\"1\"], defaultFp[\"2\"], defaultFp[\"3\"]]) / 3\n",
      "print \"Average Default False Positive Percentage: \", defaultAvgFp[id]\n",
      "uniqueAvgTp[id] = sum([uniqueTp[\"1\"], uniqueTp[\"2\"], uniqueTp[\"3\"]]) / 3\n",
      "print \"Average Unique True Positive Percentage: \", uniqueAvgTp[id]\n",
      "uniqueAvgFp[id] = sum([uniqueFp[\"1\"], uniqueFp[\"2\"], uniqueFp[\"3\"]]) / 3\n",
      "print \"Average Unique False Positive Percentage: \", uniqueAvgFp[id]\n",
      "multimapAvgTp[id] = sum([multimapTp[\"1\"], multimapTp[\"2\"], multimapTp[\"3\"]]) / 3\n",
      "print \"Average Multimap True Positive Percentage: \", multimapAvgTp[id]\n",
      "multimapAvgFp[id] = sum([multimapFp[\"1\"], multimapFp[\"2\"], multimapFp[\"3\"]]) / 3\n",
      "print \"Average Multimap False Positive Percentage: \", multimapAvgFp[id]"
     ],
     "language": "python",
     "metadata": {},
     "outputs": [
      {
       "output_type": "stream",
       "stream": "stdout",
       "text": [
        "{'1': 46.9652183864277, '3': 46.40863422946062, '2': 46.738113422476644} {'1': 45.100238128717, '3': 45.657562449784805, '2': 45.32245187059761} {'1': 26.299843224247333, '3': 25.621999231320636, '2': 25.96435877318935} {'1': 0.0013086116282419642, '3': 0.0012591727729838356, '2': 0.0013446208544488102} {'1': 92.3974202174716, '3': 92.40758243982336, '2': 92.25176981492584} {'1': 235.58416625495872, '3': 237.6696917211398, '2': 234.59972996668915}\n",
        "Average Default True Positive Percentage:  46.7039886795\n",
        "Average Default False Positive Percentage:  45.3600841497\n",
        "Average Unique True Positive Percentage:  25.9620670763\n",
        "Average Unique False Positive Percentage:  0.00130413508522\n",
        "Average Multimap True Positive Percentage:  92.3522574907\n",
        "Average Multimap False Positive Percentage:  235.951195981\n"
       ]
      }
     ],
     "prompt_number": 375
    },
    {
     "cell_type": "code",
     "collapsed": false,
     "input": [
      "num = \"230\"\n",
      "rep = \"1\"\n",
      "error = \"1\"\n",
      "r = \"90\"\n",
      "id = \"050mouse090BowtieSe\"\n",
      "g = \"100\"\n",
      "defaultTp = {}\n",
      "defaultFp = {}\n",
      "uniqueTp = {}\n",
      "uniqueFp = {}\n",
      "multimapTp = {}\n",
      "multimapFp = {}\n",
      "defaultTp[rep],defaultFp[rep] = getTpFp(num,rep,error,r,g,\"default\",num,rep,error,r,g)\n",
      "uniqueTp[rep],uniqueFp[rep] = getTpFp(num,rep,error,r,g,\"unique\",num,rep,error,r,g)\n",
      "multimapTp[rep],multimapFp[rep] = getTpFp(num,rep,error,r,g,\"multimap\",num,rep,error,r,g)\n",
      "rep = \"2\"\n",
      "defaultTp[rep],defaultFp[rep] = getTpFp(num,rep,error,r,g,\"default\",num,rep,error,r,g)\n",
      "uniqueTp[rep],uniqueFp[rep] = getTpFp(num,rep,error,r,g,\"unique\",num,rep,error,r,g)\n",
      "multimapTp[rep],multimapFp[rep] = getTpFp(num,rep,error,r,g,\"multimap\",num,rep,error,r,g)\n",
      "rep = \"3\"\n",
      "defaultTp[rep],defaultFp[rep] = getTpFp(num,rep,error,r,g,\"default\",num,rep,error,r,g)\n",
      "uniqueTp[rep],uniqueFp[rep] = getTpFp(num,rep,error,r,g,\"unique\",num,rep,error,r,g)\n",
      "multimapTp[rep],multimapFp[rep] = getTpFp(num,rep,error,r,g,\"multimap\",num,rep,error,r,g)\n",
      "print defaultTp, defaultFp, uniqueTp, uniqueFp, multimapTp, multimapFp\n",
      "defaultAvgTp[id] = sum([defaultTp[\"1\"], defaultTp[\"2\"], defaultTp[\"3\"]]) / 3\n",
      "print \"Average Default True Positive Percentage: \", defaultAvgTp[id]\n",
      "defaultAvgFp[id] = sum([defaultFp[\"1\"], defaultFp[\"2\"], defaultFp[\"3\"]]) / 3\n",
      "print \"Average Default False Positive Percentage: \", defaultAvgFp[id]\n",
      "uniqueAvgTp[id] = sum([uniqueTp[\"1\"], uniqueTp[\"2\"], uniqueTp[\"3\"]]) / 3\n",
      "print \"Average Unique True Positive Percentage: \", uniqueAvgTp[id]\n",
      "uniqueAvgFp[id] = sum([uniqueFp[\"1\"], uniqueFp[\"2\"], uniqueFp[\"3\"]]) / 3\n",
      "print \"Average Unique False Positive Percentage: \", uniqueAvgFp[id]\n",
      "multimapAvgTp[id] = sum([multimapTp[\"1\"], multimapTp[\"2\"], multimapTp[\"3\"]]) / 3\n",
      "print \"Average Multimap True Positive Percentage: \", multimapAvgTp[id]\n",
      "multimapAvgFp[id] = sum([multimapFp[\"1\"], multimapFp[\"2\"], multimapFp[\"3\"]]) / 3\n",
      "print \"Average Multimap False Positive Percentage: \", multimapAvgFp[id]"
     ],
     "language": "python",
     "metadata": {},
     "outputs": [
      {
       "output_type": "stream",
       "stream": "stdout",
       "text": [
        "{'1': 44.39765552906473, '3': 43.942845967907346, '2': 44.26316807885623} {'1': 44.8600454456027, '3': 45.64693887002176, '2': 45.21996414258796} {'1': 25.836603494690348, '3': 24.954538228341764, '2': 25.511461096929356} {'1': 1.9333836156106423, '3': 1.9639575635479702, '2': 1.9600604580866476} {'1': 83.12223361816181, '3': 83.57698452755076, '2': 83.53986514467402} {'1': 211.0396598352882, '3': 213.58206506399196, '2': 211.83039638943683}\n",
        "Average Default True Positive Percentage:  44.2012231919\n",
        "Average Default False Positive Percentage:  45.2423161527\n",
        "Average Unique True Positive Percentage:  25.43420094\n",
        "Average Unique False Positive Percentage:  1.95246721242\n",
        "Average Multimap True Positive Percentage:  83.4130277635\n",
        "Average Multimap False Positive Percentage:  212.150707096\n"
       ]
      }
     ],
     "prompt_number": 376
    },
    {
     "cell_type": "code",
     "collapsed": false,
     "input": [
      "num = \"230\"\n",
      "rep = \"1\"\n",
      "error = \"1\"\n",
      "r = \"80\"\n",
      "id = \"050mouse080BowtieSe\"\n",
      "g = \"100\"\n",
      "defaultTp = {}\n",
      "defaultFp = {}\n",
      "uniqueTp = {}\n",
      "uniqueFp = {}\n",
      "multimapTp = {}\n",
      "multimapFp = {}\n",
      "defaultTp[rep],defaultFp[rep] = getTpFp(num,rep,error,r,g,\"default\",num,rep,error,r,g)\n",
      "uniqueTp[rep],uniqueFp[rep] = getTpFp(num,rep,error,r,g,\"unique\",num,rep,error,r,g)\n",
      "multimapTp[rep],multimapFp[rep] = getTpFp(num,rep,error,r,g,\"multimap\",num,rep,error,r,g)\n",
      "rep = \"2\"\n",
      "defaultTp[rep],defaultFp[rep] = getTpFp(num,rep,error,r,g,\"default\",num,rep,error,r,g)\n",
      "uniqueTp[rep],uniqueFp[rep] = getTpFp(num,rep,error,r,g,\"unique\",num,rep,error,r,g)\n",
      "multimapTp[rep],multimapFp[rep] = getTpFp(num,rep,error,r,g,\"multimap\",num,rep,error,r,g)\n",
      "rep = \"3\"\n",
      "defaultTp[rep],defaultFp[rep] = getTpFp(num,rep,error,r,g,\"default\",num,rep,error,r,g)\n",
      "uniqueTp[rep],uniqueFp[rep] = getTpFp(num,rep,error,r,g,\"unique\",num,rep,error,r,g)\n",
      "multimapTp[rep],multimapFp[rep] = getTpFp(num,rep,error,r,g,\"multimap\",num,rep,error,r,g)\n",
      "print defaultTp, defaultFp, uniqueTp, uniqueFp, multimapTp, multimapFp\n",
      "defaultAvgTp[id] = sum([defaultTp[\"1\"], defaultTp[\"2\"], defaultTp[\"3\"]]) / 3\n",
      "print \"Average Default True Positive Percentage: \", defaultAvgTp[id]\n",
      "defaultAvgFp[id] = sum([defaultFp[\"1\"], defaultFp[\"2\"], defaultFp[\"3\"]]) / 3\n",
      "print \"Average Default False Positive Percentage: \", defaultAvgFp[id]\n",
      "uniqueAvgTp[id] = sum([uniqueTp[\"1\"], uniqueTp[\"2\"], uniqueTp[\"3\"]]) / 3\n",
      "print \"Average Unique True Positive Percentage: \", uniqueAvgTp[id]\n",
      "uniqueAvgFp[id] = sum([uniqueFp[\"1\"], uniqueFp[\"2\"], uniqueFp[\"3\"]]) / 3\n",
      "print \"Average Unique False Positive Percentage: \", uniqueAvgFp[id]\n",
      "multimapAvgTp[id] = sum([multimapTp[\"1\"], multimapTp[\"2\"], multimapTp[\"3\"]]) / 3\n",
      "print \"Average Multimap True Positive Percentage: \", multimapAvgTp[id]\n",
      "multimapAvgFp[id] = sum([multimapFp[\"1\"], multimapFp[\"2\"], multimapFp[\"3\"]]) / 3\n",
      "print \"Average Multimap False Positive Percentage: \", multimapAvgFp[id]"
     ],
     "language": "python",
     "metadata": {},
     "outputs": [
      {
       "output_type": "stream",
       "stream": "stdout",
       "text": [
        "{'1': 41.249228213341596, '3': 40.80730847488902, '2': 40.72330368571693} {'1': 44.638880979773404, '3': 45.3037551028971, '2': 45.142112035556906} {'1': 24.642702502306758, '3': 24.118813674144086, '2': 24.293054234468002} {'1': 4.133260811353081, '3': 4.311235223647756, '2': 4.646678684562616} {'1': 0.0, '3': 0.0, '2': 73.33164233848079} {'1': 0.0, '3': 0.0, '2': 188.01079837639818}\n",
        "Average Default True Positive Percentage:  40.926613458\n",
        "Average Default False Positive Percentage:  45.0282493727\n",
        "Average Unique True Positive Percentage:  24.3515234703\n",
        "Average Unique False Positive Percentage:  4.36372490652\n",
        "Average Multimap True Positive Percentage:  24.4438807795\n",
        "Average Multimap False Positive Percentage:  62.6702661255\n"
       ]
      }
     ],
     "prompt_number": 377
    },
    {
     "cell_type": "code",
     "collapsed": false,
     "input": [
      "num = \"230\"\n",
      "rep = \"1\"\n",
      "error = \"1\"\n",
      "r = \"70\"\n",
      "id = \"050mouse070BowtieSe\"\n",
      "g = \"100\"\n",
      "defaultTp = {}\n",
      "defaultFp = {}\n",
      "uniqueTp = {}\n",
      "uniqueFp = {}\n",
      "multimapTp = {}\n",
      "multimapFp = {}\n",
      "defaultTp[rep],defaultFp[rep] = getTpFp(num,rep,error,r,g,\"default\",num,rep,error,r,g)\n",
      "uniqueTp[rep],uniqueFp[rep] = getTpFp(num,rep,error,r,g,\"unique\",num,rep,error,r,g)\n",
      "multimapTp[rep],multimapFp[rep] = getTpFp(num,rep,error,r,g,\"multimap\",num,rep,error,r,g)\n",
      "rep = \"2\"\n",
      "defaultTp[rep],defaultFp[rep] = getTpFp(num,rep,error,r,g,\"default\",num,rep,error,r,g)\n",
      "uniqueTp[rep],uniqueFp[rep] = getTpFp(num,rep,error,r,g,\"unique\",num,rep,error,r,g)\n",
      "multimapTp[rep],multimapFp[rep] = getTpFp(num,rep,error,r,g,\"multimap\",num,rep,error,r,g)\n",
      "rep = \"3\"\n",
      "defaultTp[rep],defaultFp[rep] = getTpFp(num,rep,error,r,g,\"default\",num,rep,error,r,g)\n",
      "uniqueTp[rep],uniqueFp[rep] = getTpFp(num,rep,error,r,g,\"unique\",num,rep,error,r,g)\n",
      "multimapTp[rep],multimapFp[rep] = getTpFp(num,rep,error,r,g,\"multimap\",num,rep,error,r,g)\n",
      "print defaultTp, defaultFp, uniqueTp, uniqueFp, multimapTp, multimapFp\n",
      "defaultAvgTp[id] = sum([defaultTp[\"1\"], defaultTp[\"2\"], defaultTp[\"3\"]]) / 3\n",
      "print \"Average Default True Positive Percentage: \", defaultAvgTp[id]\n",
      "defaultAvgFp[id] = sum([defaultFp[\"1\"], defaultFp[\"2\"], defaultFp[\"3\"]]) / 3\n",
      "print \"Average Default False Positive Percentage: \", defaultAvgFp[id]\n",
      "uniqueAvgTp[id] = sum([uniqueTp[\"1\"], uniqueTp[\"2\"], uniqueTp[\"3\"]]) / 3\n",
      "print \"Average Unique True Positive Percentage: \", uniqueAvgTp[id]\n",
      "uniqueAvgFp[id] = sum([uniqueFp[\"1\"], uniqueFp[\"2\"], uniqueFp[\"3\"]]) / 3\n",
      "print \"Average Unique False Positive Percentage: \", uniqueAvgFp[id]\n",
      "multimapAvgTp[id] = sum([multimapTp[\"1\"], multimapTp[\"2\"], multimapTp[\"3\"]]) / 3\n",
      "print \"Average Multimap True Positive Percentage: \", multimapAvgTp[id]\n",
      "multimapAvgFp[id] = sum([multimapFp[\"1\"], multimapFp[\"2\"], multimapFp[\"3\"]]) / 3\n",
      "print \"Average Multimap False Positive Percentage: \", multimapAvgFp[id]"
     ],
     "language": "python",
     "metadata": {},
     "outputs": [
      {
       "output_type": "stream",
       "stream": "stdout",
       "text": [
        "{'1': 37.72218534765259, '3': 37.92836981189054, '2': 38.02923305315921} {'1': 43.94865801296965, '3': 44.44267947710977, '2': 44.31019567656047} {'1': 23.73690757994394, '3': 23.221361875879172, '2': 23.647225072217555} {'1': 6.8072887960535455, '3': 6.226360305669573, '2': 6.501496413643477} {'1': 63.94773206825255, '3': 65.55011059870975, '2': 64.84105775166297} {'1': 165.1175884987762, '3': 166.33596982773295, '2': 164.45376154035958}\n",
        "Average Default True Positive Percentage:  37.8932627376\n",
        "Average Default False Positive Percentage:  44.2338443889\n",
        "Average Unique True Positive Percentage:  23.5351648427\n",
        "Average Unique False Positive Percentage:  6.51171517179\n",
        "Average Multimap True Positive Percentage:  64.7796334729\n",
        "Average Multimap False Positive Percentage:  165.302439956\n"
       ]
      }
     ],
     "prompt_number": 378
    },
    {
     "cell_type": "code",
     "collapsed": false,
     "input": [
      "num = \"230\"\n",
      "rep = \"1\"\n",
      "error = \"1\"\n",
      "r = \"60\"\n",
      "id = \"050mouse060BowtieSe\"\n",
      "g = \"100\"\n",
      "defaultTp = {}\n",
      "defaultFp = {}\n",
      "uniqueTp = {}\n",
      "uniqueFp = {}\n",
      "multimapTp = {}\n",
      "multimapFp = {}\n",
      "defaultTp[rep],defaultFp[rep] = getTpFp(num,rep,error,r,g,\"default\",num,rep,error,r,g)\n",
      "uniqueTp[rep],uniqueFp[rep] = getTpFp(num,rep,error,r,g,\"unique\",num,rep,error,r,g)\n",
      "multimapTp[rep],multimapFp[rep] = getTpFp(num,rep,error,r,g,\"multimap\",num,rep,error,r,g)\n",
      "rep = \"2\"\n",
      "defaultTp[rep],defaultFp[rep] = getTpFp(num,rep,error,r,g,\"default\",num,rep,error,r,g)\n",
      "uniqueTp[rep],uniqueFp[rep] = getTpFp(num,rep,error,r,g,\"unique\",num,rep,error,r,g)\n",
      "multimapTp[rep],multimapFp[rep] = getTpFp(num,rep,error,r,g,\"multimap\",num,rep,error,r,g)\n",
      "rep = \"3\"\n",
      "defaultTp[rep],defaultFp[rep] = getTpFp(num,rep,error,r,g,\"default\",num,rep,error,r,g)\n",
      "uniqueTp[rep],uniqueFp[rep] = getTpFp(num,rep,error,r,g,\"unique\",num,rep,error,r,g)\n",
      "multimapTp[rep],multimapFp[rep] = getTpFp(num,rep,error,r,g,\"multimap\",num,rep,error,r,g)\n",
      "print defaultTp, defaultFp, uniqueTp, uniqueFp, multimapTp, multimapFp\n",
      "defaultAvgTp[id] = sum([defaultTp[\"1\"], defaultTp[\"2\"], defaultTp[\"3\"]]) / 3\n",
      "print \"Average Default True Positive Percentage: \", defaultAvgTp[id]\n",
      "defaultAvgFp[id] = sum([defaultFp[\"1\"], defaultFp[\"2\"], defaultFp[\"3\"]]) / 3\n",
      "print \"Average Default False Positive Percentage: \", defaultAvgFp[id]\n",
      "uniqueAvgTp[id] = sum([uniqueTp[\"1\"], uniqueTp[\"2\"], uniqueTp[\"3\"]]) / 3\n",
      "print \"Average Unique True Positive Percentage: \", uniqueAvgTp[id]\n",
      "uniqueAvgFp[id] = sum([uniqueFp[\"1\"], uniqueFp[\"2\"], uniqueFp[\"3\"]]) / 3\n",
      "print \"Average Unique False Positive Percentage: \", uniqueAvgFp[id]\n",
      "multimapAvgTp[id] = sum([multimapTp[\"1\"], multimapTp[\"2\"], multimapTp[\"3\"]]) / 3\n",
      "print \"Average Multimap True Positive Percentage: \", multimapAvgTp[id]\n",
      "multimapAvgFp[id] = sum([multimapFp[\"1\"], multimapFp[\"2\"], multimapFp[\"3\"]]) / 3\n",
      "print \"Average Multimap False Positive Percentage: \", multimapAvgFp[id]"
     ],
     "language": "python",
     "metadata": {},
     "outputs": [
      {
       "output_type": "stream",
       "stream": "stdout",
       "text": [
        "{'1': 34.086263483967954, '3': 33.790784583231506, '2': 34.32242712318585} {'1': 43.10953418563198, '3': 43.48769115368816, '2': 42.764678633877864} {'1': 21.858793819774363, '3': 21.61473001964199, '2': 22.07335544312965} {'1': 9.012669692212318, '3': 9.308928891988218, '2': 8.935893328190165} {'1': 55.41123978703547, '3': 55.288814003094686, '2': 55.87662927676054} {'1': 142.43369621845102, '3': 143.08863597456235, '2': 139.91780940833593}\n",
        "Average Default True Positive Percentage:  34.0664917301\n",
        "Average Default False Positive Percentage:  43.1206346577\n",
        "Average Unique True Positive Percentage:  21.8489597608\n",
        "Average Unique False Positive Percentage:  9.08583063746\n",
        "Average Multimap True Positive Percentage:  55.5255610223\n",
        "Average Multimap False Positive Percentage:  141.813380534\n"
       ]
      }
     ],
     "prompt_number": 379
    },
    {
     "cell_type": "code",
     "collapsed": false,
     "input": [
      "num = \"230\"\n",
      "rep = \"1\"\n",
      "error = \"1\"\n",
      "r = \"50\"\n",
      "id = \"050mouse050BowtieSe\"\n",
      "g = \"100\"\n",
      "defaultTp = {}\n",
      "defaultFp = {}\n",
      "uniqueTp = {}\n",
      "uniqueFp = {}\n",
      "multimapTp = {}\n",
      "multimapFp = {}\n",
      "defaultTp[rep],defaultFp[rep] = getTpFp(num,rep,error,r,g,\"default\",num,rep,error,r,g)\n",
      "uniqueTp[rep],uniqueFp[rep] = getTpFp(num,rep,error,r,g,\"unique\",num,rep,error,r,g)\n",
      "multimapTp[rep],multimapFp[rep] = getTpFp(num,rep,error,r,g,\"multimap\",num,rep,error,r,g)\n",
      "rep = \"2\"\n",
      "defaultTp[rep],defaultFp[rep] = getTpFp(num,rep,error,r,g,\"default\",num,rep,error,r,g)\n",
      "uniqueTp[rep],uniqueFp[rep] = getTpFp(num,rep,error,r,g,\"unique\",num,rep,error,r,g)\n",
      "multimapTp[rep],multimapFp[rep] = getTpFp(num,rep,error,r,g,\"multimap\",num,rep,error,r,g)\n",
      "rep = \"3\"\n",
      "defaultTp[rep],defaultFp[rep] = getTpFp(num,rep,error,r,g,\"default\",num,rep,error,r,g)\n",
      "uniqueTp[rep],uniqueFp[rep] = getTpFp(num,rep,error,r,g,\"unique\",num,rep,error,r,g)\n",
      "multimapTp[rep],multimapFp[rep] = getTpFp(num,rep,error,r,g,\"multimap\",num,rep,error,r,g)\n",
      "print defaultTp, defaultFp, uniqueTp, uniqueFp, multimapTp, multimapFp\n",
      "defaultAvgTp[id] = sum([defaultTp[\"1\"], defaultTp[\"2\"], defaultTp[\"3\"]]) / 3\n",
      "print \"Average Default True Positive Percentage: \", defaultAvgTp[id]\n",
      "defaultAvgFp[id] = sum([defaultFp[\"1\"], defaultFp[\"2\"], defaultFp[\"3\"]]) / 3\n",
      "print \"Average Default False Positive Percentage: \", defaultAvgFp[id]\n",
      "uniqueAvgTp[id] = sum([uniqueTp[\"1\"], uniqueTp[\"2\"], uniqueTp[\"3\"]]) / 3\n",
      "print \"Average Unique True Positive Percentage: \", uniqueAvgTp[id]\n",
      "uniqueAvgFp[id] = sum([uniqueFp[\"1\"], uniqueFp[\"2\"], uniqueFp[\"3\"]]) / 3\n",
      "print \"Average Unique False Positive Percentage: \", uniqueAvgFp[id]\n",
      "multimapAvgTp[id] = sum([multimapTp[\"1\"], multimapTp[\"2\"], multimapTp[\"3\"]]) / 3\n",
      "print \"Average Multimap True Positive Percentage: \", multimapAvgTp[id]\n",
      "multimapAvgFp[id] = sum([multimapFp[\"1\"], multimapFp[\"2\"], multimapFp[\"3\"]]) / 3\n",
      "print \"Average Multimap False Positive Percentage: \", multimapAvgFp[id]"
     ],
     "language": "python",
     "metadata": {},
     "outputs": [
      {
       "output_type": "stream",
       "stream": "stdout",
       "text": [
        "{'1': 30.67211583009191, '3': 30.227570904487607, '2': 30.295132660077435} {'1': 41.01436631817189, '3': 41.33751932995139, '2': 41.39302507586062} {'1': 21.061959487499106, '3': 20.21556463369987, '2': 20.602742299433242} {'1': 11.548432973193266, '3': 11.478285028905749, '2': 11.91303264118479} {'1': 46.61529249887841, '3': 47.060261032229306, '2': 46.190774762989676} {'1': 118.69289889243223, '3': 119.96550567370025, '2': 117.68416194487064}\n",
        "Average Default True Positive Percentage:  30.3982731316\n",
        "Average Default False Positive Percentage:  41.2483035747\n",
        "Average Unique True Positive Percentage:  20.6267554735\n",
        "Average Unique False Positive Percentage:  11.6465835478\n",
        "Average Multimap True Positive Percentage:  46.6221094314\n",
        "Average Multimap False Positive Percentage:  118.780855504\n"
       ]
      }
     ],
     "prompt_number": 380
    },
    {
     "cell_type": "code",
     "collapsed": false,
     "input": [
      "num = \"230\"\n",
      "rep = \"1\"\n",
      "error = \"1\"\n",
      "r = \"40\"\n",
      "id = \"050mouse040BowtieSe\"\n",
      "g = \"100\"\n",
      "defaultTp = {}\n",
      "defaultFp = {}\n",
      "uniqueTp = {}\n",
      "uniqueFp = {}\n",
      "multimapTp = {}\n",
      "multimapFp = {}\n",
      "defaultTp[rep],defaultFp[rep] = getTpFp(num,rep,error,r,g,\"default\",num,rep,error,r,g)\n",
      "uniqueTp[rep],uniqueFp[rep] = getTpFp(num,rep,error,r,g,\"unique\",num,rep,error,r,g)\n",
      "multimapTp[rep],multimapFp[rep] = getTpFp(num,rep,error,r,g,\"multimap\",num,rep,error,r,g)\n",
      "rep = \"2\"\n",
      "defaultTp[rep],defaultFp[rep] = getTpFp(num,rep,error,r,g,\"default\",num,rep,error,r,g)\n",
      "uniqueTp[rep],uniqueFp[rep] = getTpFp(num,rep,error,r,g,\"unique\",num,rep,error,r,g)\n",
      "multimapTp[rep],multimapFp[rep] = getTpFp(num,rep,error,r,g,\"multimap\",num,rep,error,r,g)\n",
      "rep = \"3\"\n",
      "defaultTp[rep],defaultFp[rep] = getTpFp(num,rep,error,r,g,\"default\",num,rep,error,r,g)\n",
      "uniqueTp[rep],uniqueFp[rep] = getTpFp(num,rep,error,r,g,\"unique\",num,rep,error,r,g)\n",
      "multimapTp[rep],multimapFp[rep] = getTpFp(num,rep,error,r,g,\"multimap\",num,rep,error,r,g)\n",
      "print defaultTp, defaultFp, uniqueTp, uniqueFp, multimapTp, multimapFp\n",
      "defaultAvgTp[id] = sum([defaultTp[\"1\"], defaultTp[\"2\"], defaultTp[\"3\"]]) / 3\n",
      "print \"Average Default True Positive Percentage: \", defaultAvgTp[id]\n",
      "defaultAvgFp[id] = sum([defaultFp[\"1\"], defaultFp[\"2\"], defaultFp[\"3\"]]) / 3\n",
      "print \"Average Default False Positive Percentage: \", defaultAvgFp[id]\n",
      "uniqueAvgTp[id] = sum([uniqueTp[\"1\"], uniqueTp[\"2\"], uniqueTp[\"3\"]]) / 3\n",
      "print \"Average Unique True Positive Percentage: \", uniqueAvgTp[id]\n",
      "uniqueAvgFp[id] = sum([uniqueFp[\"1\"], uniqueFp[\"2\"], uniqueFp[\"3\"]]) / 3\n",
      "print \"Average Unique False Positive Percentage: \", uniqueAvgFp[id]\n",
      "multimapAvgTp[id] = sum([multimapTp[\"1\"], multimapTp[\"2\"], multimapTp[\"3\"]]) / 3\n",
      "print \"Average Multimap True Positive Percentage: \", multimapAvgTp[id]\n",
      "multimapAvgFp[id] = sum([multimapFp[\"1\"], multimapFp[\"2\"], multimapFp[\"3\"]]) / 3\n",
      "print \"Average Multimap False Positive Percentage: \", multimapAvgFp[id]"
     ],
     "language": "python",
     "metadata": {},
     "outputs": [
      {
       "output_type": "stream",
       "stream": "stdout",
       "text": [
        "{'1': 25.849590759015236, '3': 25.787071762844754, '2': 26.07881312578045} {'1': 38.27154835458202, '3': 39.21936913158686, '2': 38.813816503474925} {'1': 18.65863178290084, '3': 18.333345344244343, '2': 18.88933208908829} {'1': 14.188147717448832, '3': 14.887810499529305, '2': 14.405848540823493} {'1': 36.705770063762934, '3': 36.989893097746744, '2': 36.90443265725573} {'1': 94.34754778560898, '3': 94.4859091290711, '2': 95.09972751324143}\n",
        "Average Default True Positive Percentage:  25.9051585492\n",
        "Average Default False Positive Percentage:  38.7682446632\n",
        "Average Unique True Positive Percentage:  18.6271030721\n",
        "Average Unique False Positive Percentage:  14.4939355859\n",
        "Average Multimap True Positive Percentage:  36.8666986063\n",
        "Average Multimap False Positive Percentage:  94.6443948093\n"
       ]
      }
     ],
     "prompt_number": 381
    },
    {
     "cell_type": "code",
     "collapsed": false,
     "input": [
      "num = \"230\"\n",
      "rep = \"1\"\n",
      "error = \"1\"\n",
      "r = \"30\"\n",
      "id = \"050mouse030BowtieSe\"\n",
      "g = \"100\"\n",
      "defaultTp = {}\n",
      "defaultFp = {}\n",
      "uniqueTp = {}\n",
      "uniqueFp = {}\n",
      "multimapTp = {}\n",
      "multimapFp = {}\n",
      "defaultTp[rep],defaultFp[rep] = getTpFp(num,rep,error,r,g,\"default\",num,rep,error,r,g)\n",
      "uniqueTp[rep],uniqueFp[rep] = getTpFp(num,rep,error,r,g,\"unique\",num,rep,error,r,g)\n",
      "multimapTp[rep],multimapFp[rep] = getTpFp(num,rep,error,r,g,\"multimap\",num,rep,error,r,g)\n",
      "rep = \"2\"\n",
      "defaultTp[rep],defaultFp[rep] = getTpFp(num,rep,error,r,g,\"default\",num,rep,error,r,g)\n",
      "uniqueTp[rep],uniqueFp[rep] = getTpFp(num,rep,error,r,g,\"unique\",num,rep,error,r,g)\n",
      "multimapTp[rep],multimapFp[rep] = getTpFp(num,rep,error,r,g,\"multimap\",num,rep,error,r,g)\n",
      "rep = \"3\"\n",
      "defaultTp[rep],defaultFp[rep] = getTpFp(num,rep,error,r,g,\"default\",num,rep,error,r,g)\n",
      "uniqueTp[rep],uniqueFp[rep] = getTpFp(num,rep,error,r,g,\"unique\",num,rep,error,r,g)\n",
      "multimapTp[rep],multimapFp[rep] = getTpFp(num,rep,error,r,g,\"multimap\",num,rep,error,r,g)\n",
      "print defaultTp, defaultFp, uniqueTp, uniqueFp, multimapTp, multimapFp\n",
      "defaultAvgTp[id] = sum([defaultTp[\"1\"], defaultTp[\"2\"], defaultTp[\"3\"]]) / 3\n",
      "print \"Average Default True Positive Percentage: \", defaultAvgTp[id]\n",
      "defaultAvgFp[id] = sum([defaultFp[\"1\"], defaultFp[\"2\"], defaultFp[\"3\"]]) / 3\n",
      "print \"Average Default False Positive Percentage: \", defaultAvgFp[id]\n",
      "uniqueAvgTp[id] = sum([uniqueTp[\"1\"], uniqueTp[\"2\"], uniqueTp[\"3\"]]) / 3\n",
      "print \"Average Unique True Positive Percentage: \", uniqueAvgTp[id]\n",
      "uniqueAvgFp[id] = sum([uniqueFp[\"1\"], uniqueFp[\"2\"], uniqueFp[\"3\"]]) / 3\n",
      "print \"Average Unique False Positive Percentage: \", uniqueAvgFp[id]\n",
      "multimapAvgTp[id] = sum([multimapTp[\"1\"], multimapTp[\"2\"], multimapTp[\"3\"]]) / 3\n",
      "print \"Average Multimap True Positive Percentage: \", multimapAvgTp[id]\n",
      "multimapAvgFp[id] = sum([multimapFp[\"1\"], multimapFp[\"2\"], multimapFp[\"3\"]]) / 3\n",
      "print \"Average Multimap False Positive Percentage: \", multimapAvgFp[id]"
     ],
     "language": "python",
     "metadata": {},
     "outputs": [
      {
       "output_type": "stream",
       "stream": "stdout",
       "text": [
        "{'1': 20.523861210307658, '3': 20.172766332852675, '2': 20.375309107401065} {'1': 33.12894190028917, '3': 34.961917220694005, '2': 34.45414234926062} {'1': 15.677627046395173, '3': 15.292346189481032, '2': 15.486897090945975} {'1': 15.609742739726187, '3': 16.76178503249008, '2': 15.858229765561221} {'1': 27.155534953482608, '3': 26.902712097481423, '2': 27.114398522956222} {'1': 68.12861222116541, '3': 72.48472197125837, '2': 71.15606990772127}\n",
        "Average Default True Positive Percentage:  20.3573122169\n",
        "Average Default False Positive Percentage:  34.1816671567\n",
        "Average Unique True Positive Percentage:  15.4856234423\n",
        "Average Unique False Positive Percentage:  16.0765858459\n",
        "Average Multimap True Positive Percentage:  27.0575485246\n",
        "Average Multimap False Positive Percentage:  70.5898013667\n"
       ]
      }
     ],
     "prompt_number": 382
    },
    {
     "cell_type": "code",
     "collapsed": false,
     "input": [
      "num = \"230\"\n",
      "rep = \"1\"\n",
      "error = \"1\"\n",
      "r = \"20\"\n",
      "id = \"050mouse020BowtieSe\"\n",
      "g = \"100\"\n",
      "defaultTp = {}\n",
      "defaultFp = {}\n",
      "uniqueTp = {}\n",
      "uniqueFp = {}\n",
      "multimapTp = {}\n",
      "multimapFp = {}\n",
      "defaultTp[rep],defaultFp[rep] = getTpFp(num,rep,error,r,g,\"default\",num,rep,error,r,g)\n",
      "uniqueTp[rep],uniqueFp[rep] = getTpFp(num,rep,error,r,g,\"unique\",num,rep,error,r,g)\n",
      "multimapTp[rep],multimapFp[rep] = getTpFp(num,rep,error,r,g,\"multimap\",num,rep,error,r,g)\n",
      "rep = \"2\"\n",
      "defaultTp[rep],defaultFp[rep] = getTpFp(num,rep,error,r,g,\"default\",num,rep,error,r,g)\n",
      "uniqueTp[rep],uniqueFp[rep] = getTpFp(num,rep,error,r,g,\"unique\",num,rep,error,r,g)\n",
      "multimapTp[rep],multimapFp[rep] = getTpFp(num,rep,error,r,g,\"multimap\",num,rep,error,r,g)\n",
      "rep = \"3\"\n",
      "defaultTp[rep],defaultFp[rep] = getTpFp(num,rep,error,r,g,\"default\",num,rep,error,r,g)\n",
      "uniqueTp[rep],uniqueFp[rep] = getTpFp(num,rep,error,r,g,\"unique\",num,rep,error,r,g)\n",
      "multimapTp[rep],multimapFp[rep] = getTpFp(num,rep,error,r,g,\"multimap\",num,rep,error,r,g)\n",
      "print defaultTp, defaultFp, uniqueTp, uniqueFp, multimapTp, multimapFp\n",
      "defaultAvgTp[id] = sum([defaultTp[\"1\"], defaultTp[\"2\"], defaultTp[\"3\"]]) / 3\n",
      "print \"Average Default True Positive Percentage: \", defaultAvgTp[id]\n",
      "defaultAvgFp[id] = sum([defaultFp[\"1\"], defaultFp[\"2\"], defaultFp[\"3\"]]) / 3\n",
      "print \"Average Default False Positive Percentage: \", defaultAvgFp[id]\n",
      "uniqueAvgTp[id] = sum([uniqueTp[\"1\"], uniqueTp[\"2\"], uniqueTp[\"3\"]]) / 3\n",
      "print \"Average Unique True Positive Percentage: \", uniqueAvgTp[id]\n",
      "uniqueAvgFp[id] = sum([uniqueFp[\"1\"], uniqueFp[\"2\"], uniqueFp[\"3\"]]) / 3\n",
      "print \"Average Unique False Positive Percentage: \", uniqueAvgFp[id]\n",
      "multimapAvgTp[id] = sum([multimapTp[\"1\"], multimapTp[\"2\"], multimapTp[\"3\"]]) / 3\n",
      "print \"Average Multimap True Positive Percentage: \", multimapAvgTp[id]\n",
      "multimapAvgFp[id] = sum([multimapFp[\"1\"], multimapFp[\"2\"], multimapFp[\"3\"]]) / 3\n",
      "print \"Average Multimap False Positive Percentage: \", multimapAvgFp[id]"
     ],
     "language": "python",
     "metadata": {},
     "outputs": [
      {
       "output_type": "stream",
       "stream": "stdout",
       "text": [
        "{'1': 15.09519445079128, '3': 14.435227377609314, '2': 15.00048566365026} {'1': 26.98521334447576, '3': 27.231576522790885, '2': 27.644021004180203} {'1': 12.394194631025075, '3': 11.788005545675937, '2': 12.388044539466685} {'1': 16.048057968093367, '3': 16.282106810509465, '2': 16.67364617996926} {'1': 18.38704371807531, '3': 17.74626432494875, '2': 18.214276368191097} {'1': 45.8617446542658, '3': 46.47233877567124, '2': 45.930505453719874}\n",
        "Average Default True Positive Percentage:  14.8436358307\n",
        "Average Default False Positive Percentage:  27.2869369571\n",
        "Average Unique True Positive Percentage:  12.1900815721\n",
        "Average Unique False Positive Percentage:  16.3346036529\n",
        "Average Multimap True Positive Percentage:  18.1158614704\n",
        "Average Multimap False Positive Percentage:  46.0881962946\n"
       ]
      }
     ],
     "prompt_number": 383
    },
    {
     "cell_type": "code",
     "collapsed": false,
     "input": [
      "num = \"230\"\n",
      "rep = \"1\"\n",
      "error = \"1\"\n",
      "r = \"10\"\n",
      "id = \"050mouse010BowtieSe\"\n",
      "g = \"100\"\n",
      "defaultTp = {}\n",
      "defaultFp = {}\n",
      "uniqueTp = {}\n",
      "uniqueFp = {}\n",
      "multimapTp = {}\n",
      "multimapFp = {}\n",
      "defaultTp[rep],defaultFp[rep] = getTpFp(num,rep,error,r,g,\"default\",num,rep,error,r,g)\n",
      "uniqueTp[rep],uniqueFp[rep] = getTpFp(num,rep,error,r,g,\"unique\",num,rep,error,r,g)\n",
      "multimapTp[rep],multimapFp[rep] = getTpFp(num,rep,error,r,g,\"multimap\",num,rep,error,r,g)\n",
      "rep = \"2\"\n",
      "defaultTp[rep],defaultFp[rep] = getTpFp(num,rep,error,r,g,\"default\",num,rep,error,r,g)\n",
      "uniqueTp[rep],uniqueFp[rep] = getTpFp(num,rep,error,r,g,\"unique\",num,rep,error,r,g)\n",
      "multimapTp[rep],multimapFp[rep] = getTpFp(num,rep,error,r,g,\"multimap\",num,rep,error,r,g)\n",
      "rep = \"3\"\n",
      "defaultTp[rep],defaultFp[rep] = getTpFp(num,rep,error,r,g,\"default\",num,rep,error,r,g)\n",
      "uniqueTp[rep],uniqueFp[rep] = getTpFp(num,rep,error,r,g,\"unique\",num,rep,error,r,g)\n",
      "multimapTp[rep],multimapFp[rep] = getTpFp(num,rep,error,r,g,\"multimap\",num,rep,error,r,g)\n",
      "print defaultTp, defaultFp, uniqueTp, uniqueFp, multimapTp, multimapFp\n",
      "defaultAvgTp[id] = sum([defaultTp[\"1\"], defaultTp[\"2\"], defaultTp[\"3\"]]) / 3\n",
      "print \"Average Default True Positive Percentage: \", defaultAvgTp[id]\n",
      "defaultAvgFp[id] = sum([defaultFp[\"1\"], defaultFp[\"2\"], defaultFp[\"3\"]]) / 3\n",
      "print \"Average Default False Positive Percentage: \", defaultAvgFp[id]\n",
      "uniqueAvgTp[id] = sum([uniqueTp[\"1\"], uniqueTp[\"2\"], uniqueTp[\"3\"]]) / 3\n",
      "print \"Average Unique True Positive Percentage: \", uniqueAvgTp[id]\n",
      "uniqueAvgFp[id] = sum([uniqueFp[\"1\"], uniqueFp[\"2\"], uniqueFp[\"3\"]]) / 3\n",
      "print \"Average Unique False Positive Percentage: \", uniqueAvgFp[id]\n",
      "multimapAvgTp[id] = sum([multimapTp[\"1\"], multimapTp[\"2\"], multimapTp[\"3\"]]) / 3\n",
      "print \"Average Multimap True Positive Percentage: \", multimapAvgTp[id]\n",
      "multimapAvgFp[id] = sum([multimapFp[\"1\"], multimapFp[\"2\"], multimapFp[\"3\"]]) / 3\n",
      "print \"Average Multimap False Positive Percentage: \", multimapAvgFp[id]"
     ],
     "language": "python",
     "metadata": {},
     "outputs": [
      {
       "output_type": "stream",
       "stream": "stdout",
       "text": [
        "{'1': 8.150140545673413, '3': 8.371943361644771, '2': 8.622084999220924} {'1': 17.367646557041393, '3': 17.068547803237994, '2': 17.575146824753162} {'1': 7.307452712997152, '3': 7.4017338521832245, '2': 7.534991918042684} {'1': 13.17569310199084, '3': 12.53434871965125, '2': 12.477951889547244} {'1': 9.104113087794255, '3': 9.445044868991374, '2': 9.878022252610878} {'1': 23.788549097820077, '3': 23.458175689337196, '2': 24.636965286301674}\n",
        "Average Default True Positive Percentage:  8.38138963551\n",
        "Average Default False Positive Percentage:  17.3371137283\n",
        "Average Unique True Positive Percentage:  7.41472616107\n",
        "Average Unique False Positive Percentage:  12.7293312371\n",
        "Average Multimap True Positive Percentage:  9.47572673647\n",
        "Average Multimap False Positive Percentage:  23.9612300245\n"
       ]
      }
     ],
     "prompt_number": 384
    },
    {
     "cell_type": "code",
     "collapsed": false,
     "input": [
      "print \"Percent Mapping Accuracy for Mouse Transcriptome with Incomplete Reference Transcriptome and 50% Transcriptome Expression\"\n",
      "print \"PercRefComplete\\tTP(d)\\tFP(d)\\tTP(u)\\tFP(u)\\tTP(m)\\tFP(m)\"\n",
      "id = \"050mouse100BowtieSe\"\n",
      "print \"100\\t\\t\" + str(defaultAvgTp[id])[0:5] + \"\\t\" + str(defaultAvgFp[id])[0:5] + \"\\t\" + str(uniqueAvgTp[id])[0:5] + \"\\t\" + str(uniqueAvgFp[id])[0:5] + \"\\t\" + str(multimapAvgTp[id])[0:5] + \"\\t\" + str(multimapAvgFp[id])[0:5]\n",
      "id = \"050mouse090BowtieSe\"\n",
      "print \"90\\t\\t\" + str(defaultAvgTp[id])[0:5] + \"\\t\" + str(defaultAvgFp[id])[0:5] + \"\\t\" + str(uniqueAvgTp[id])[0:5] + \"\\t\" + str(uniqueAvgFp[id])[0:5] + \"\\t\" + str(multimapAvgTp[id])[0:5] + \"\\t\" + str(multimapAvgFp[id])[0:5]\n",
      "id = \"050mouse080BowtieSe\"\n",
      "print \"80\\t\\t\" + str(defaultAvgTp[id])[0:5] + \"\\t\" + str(defaultAvgFp[id])[0:5] + \"\\t\" + str(uniqueAvgTp[id])[0:5] + \"\\t\" + str(uniqueAvgFp[id])[0:5] + \"\\t\" + str(multimapAvgTp[id])[0:5] + \"\\t\" + str(multimapAvgFp[id])[0:5]\n",
      "id = \"050mouse070BowtieSe\"\n",
      "print \"70\\t\\t\" + str(defaultAvgTp[id])[0:5] + \"\\t\" + str(defaultAvgFp[id])[0:5] + \"\\t\" + str(uniqueAvgTp[id])[0:5] + \"\\t\" + str(uniqueAvgFp[id])[0:5] + \"\\t\" + str(multimapAvgTp[id])[0:5] + \"\\t\" + str(multimapAvgFp[id])[0:5]\n",
      "id = \"050mouse060BowtieSe\"\n",
      "print \"60\\t\\t\" + str(defaultAvgTp[id])[0:5] + \"\\t\" + str(defaultAvgFp[id])[0:5] + \"\\t\" + str(uniqueAvgTp[id])[0:5] + \"\\t\" + str(uniqueAvgFp[id])[0:5] + \"\\t\" + str(multimapAvgTp[id])[0:5] + \"\\t\" + str(multimapAvgFp[id])[0:5]\n",
      "id = \"050mouse050BowtieSe\"\n",
      "print \"50\\t\\t\" + str(defaultAvgTp[id])[0:5] + \"\\t\" + str(defaultAvgFp[id])[0:5] + \"\\t\" + str(uniqueAvgTp[id])[0:5] + \"\\t\" + str(uniqueAvgFp[id])[0:5] + \"\\t\" + str(multimapAvgTp[id])[0:5] + \"\\t\" + str(multimapAvgFp[id])[0:5]\n",
      "id = \"050mouse040BowtieSe\"\n",
      "print \"40\\t\\t\" + str(defaultAvgTp[id])[0:5] + \"\\t\" + str(defaultAvgFp[id])[0:5] + \"\\t\" + str(uniqueAvgTp[id])[0:5] + \"\\t\" + str(uniqueAvgFp[id])[0:5] + \"\\t\" + str(multimapAvgTp[id])[0:5] + \"\\t\" + str(multimapAvgFp[id])[0:5]\n",
      "id = \"050mouse030BowtieSe\"\n",
      "print \"30\\t\\t\" + str(defaultAvgTp[id])[0:5] + \"\\t\" + str(defaultAvgFp[id])[0:5] + \"\\t\" + str(uniqueAvgTp[id])[0:5] + \"\\t\" + str(uniqueAvgFp[id])[0:5] + \"\\t\" + str(multimapAvgTp[id])[0:5] + \"\\t\" + str(multimapAvgFp[id])[0:5]\n",
      "id = \"050mouse020BowtieSe\"\n",
      "print \"20\\t\\t\" + str(defaultAvgTp[id])[0:5] + \"\\t\" + str(defaultAvgFp[id])[0:5] + \"\\t\" + str(uniqueAvgTp[id])[0:5] + \"\\t\" + str(uniqueAvgFp[id])[0:5] + \"\\t\" + str(multimapAvgTp[id])[0:5] + \"\\t\" + str(multimapAvgFp[id])[0:5]\n",
      "id = \"050mouse010BowtieSe\"\n",
      "print \"10\\t\\t\" + str(defaultAvgTp[id])[0:5] + \"\\t\" + str(defaultAvgFp[id])[0:5] + \"\\t\" + str(uniqueAvgTp[id])[0:5] + \"\\t\" + str(uniqueAvgFp[id])[0:5] + \"\\t\" + str(multimapAvgTp[id])[0:5] + \"\\t\" + str(multimapAvgFp[id])[0:5]\n"
     ],
     "language": "python",
     "metadata": {},
     "outputs": [
      {
       "output_type": "stream",
       "stream": "stdout",
       "text": [
        "Percent Mapping Accuracy for Mouse Transcriptome with Incomplete Reference Transcriptome and 50% Transcriptome Expression\n",
        "PercRefComplete\tTP(d)\tFP(d)\tTP(u)\tFP(u)\tTP(m)\tFP(m)\n",
        "100\t\t46.70\t45.36\t25.96\t0.001\t92.35\t235.9\n",
        "90\t\t44.20\t45.24\t25.43\t1.952\t83.41\t212.1\n",
        "80\t\t40.92\t45.02\t24.35\t4.363\t24.44\t62.67\n",
        "70\t\t37.89\t44.23\t23.53\t6.511\t64.77\t165.3\n",
        "60\t\t34.06\t43.12\t21.84\t9.085\t55.52\t141.8\n",
        "50\t\t30.39\t41.24\t20.62\t11.64\t46.62\t118.7\n",
        "40\t\t25.90\t38.76\t18.62\t14.49\t36.86\t94.64\n",
        "30\t\t20.35\t34.18\t15.48\t16.07\t27.05\t70.58\n",
        "20\t\t14.84\t27.28\t12.19\t16.33\t18.11\t46.08\n",
        "10\t\t8.381\t17.33\t7.414\t12.72\t9.475\t23.96\n"
       ]
      }
     ],
     "prompt_number": 408
    },
    {
     "cell_type": "heading",
     "level": 2,
     "metadata": {},
     "source": [
      "Test 4: Mapping accuracy of read sets generated from 50% expressed full chicken transcriptome when mapped with bowtie, bwa, and soap2"
     ]
    },
    {
     "cell_type": "raw",
     "metadata": {},
     "source": [
      "Mapping already performed with bowtie.  Repeating with BWA."
     ]
    },
    {
     "cell_type": "code",
     "collapsed": false,
     "input": [
      "num = \"234\"\n",
      "rep = \"1\"\n",
      "error = \"1\"\n",
      "r = \"100\"\n",
      "g = \"100\"\n",
      "rep = \"1\"\n",
      "mode = \"default\"\n",
      "org = \"chick\"\n",
      "runBwaBuild(num,rep,error,r,g)\n",
      "runBwa(num,rep,error,r,g,mode,num,rep,error,\"100\",g)\n",
      "getTruePositivesBwa(num,rep,error,r,g,mode,org)\n",
      "r = \"90\"\n",
      "runBwaBuild(num,rep,error,r,g)\n",
      "runBwa(num,rep,error,r,g,mode,num,rep,error,\"100\",g)\n",
      "getTruePositivesBwa(num,rep,error,r,g,mode,org)\n",
      "r = \"80\"\n",
      "runBwaBuild(num,rep,error,r,g)\n",
      "runBwa(num,rep,error,r,g,mode,num,rep,error,\"100\",g)\n",
      "getTruePositivesBwa(num,rep,error,r,g,mode,org)\n",
      "r = \"70\"\n",
      "runBwaBuild(num,rep,error,r,g)\n",
      "runBwa(num,rep,error,r,g,mode,num,rep,error,\"100\",g)\n",
      "getTruePositivesBwa(num,rep,error,r,g,mode,org)\n",
      "r = \"60\"\n",
      "runBwaBuild(num,rep,error,r,g)\n",
      "runBwa(num,rep,error,r,g,mode,num,rep,error,\"100\",g)\n",
      "getTruePositivesBwa(num,rep,error,r,g,mode,org)\n",
      "r = \"50\"\n",
      "runBwaBuild(num,rep,error,r,g)\n",
      "runBwa(num,rep,error,r,g,mode,num,rep,error,\"100\",g)\n",
      "getTruePositivesBwa(num,rep,error,r,g,mode,org)\n",
      "r = \"40\"\n",
      "runBwaBuild(num,rep,error,r,g)\n",
      "runBwa(num,rep,error,r,g,mode,num,rep,error,\"100\",g)\n",
      "getTruePositivesBwa(num,rep,error,r,g,mode,org)\n",
      "r = \"30\"\n",
      "runBwaBuild(num,rep,error,r,g)\n",
      "runBwa(num,rep,error,r,g,mode,num,rep,error,\"100\",g)\n",
      "getTruePositivesBwa(num,rep,error,r,g,mode,org)\n",
      "r = \"20\"\n",
      "runBwaBuild(num,rep,error,r,g)\n",
      "runBwa(num,rep,error,r,g,mode,num,rep,error,\"100\",g)\n",
      "getTruePositivesBwa(num,rep,error,r,g,mode,org)\n",
      "r = \"10\"\n",
      "runBwaBuild(num,rep,error,r,g)\n",
      "runBwa(num,rep,error,r,g,mode,num,rep,error,\"100\",g)\n",
      "getTruePositivesBwa(num,rep,error,r,g,mode,org)\n",
      "rep = \"2\"\n",
      "runBwaBuild(num,rep,error,r,g)\n",
      "runBwa(num,rep,error,r,g,mode,num,rep,error,\"100\",g)\n",
      "getTruePositivesBwa(num,rep,error,r,g,mode,org)\n",
      "r = \"90\"\n",
      "runBwaBuild(num,rep,error,r,g)\n",
      "runBwa(num,rep,error,r,g,mode,num,rep,error,\"100\",g)\n",
      "getTruePositivesBwa(num,rep,error,r,g,mode,org)\n",
      "r = \"80\"\n",
      "runBwaBuild(num,rep,error,r,g)\n",
      "runBwa(num,rep,error,r,g,mode,num,rep,error,\"100\",g)\n",
      "getTruePositivesBwa(num,rep,error,r,g,mode,org)\n",
      "r = \"70\"\n",
      "runBwaBuild(num,rep,error,r,g)\n",
      "runBwa(num,rep,error,r,g,mode,num,rep,error,\"100\",g)\n",
      "getTruePositivesBwa(num,rep,error,r,g,mode,org)\n",
      "r = \"60\"\n",
      "runBwaBuild(num,rep,error,r,g)\n",
      "runBwa(num,rep,error,r,g,mode,num,rep,error,\"100\",g)\n",
      "getTruePositivesBwa(num,rep,error,r,g,mode,org)\n",
      "r = \"50\"\n",
      "runBwaBuild(num,rep,error,r,g)\n",
      "runBwa(num,rep,error,r,g,mode,num,rep,error,\"100\",g)\n",
      "getTruePositivesBwa(num,rep,error,r,g,mode,org)\n",
      "r = \"40\"\n",
      "runBwaBuild(num,rep,error,r,g)\n",
      "runBwa(num,rep,error,r,g,mode,num,rep,error,\"100\",g)\n",
      "getTruePositivesBwa(num,rep,error,r,g,mode,org)\n",
      "r = \"30\"\n",
      "runBwaBuild(num,rep,error,r,g)\n",
      "runBwa(num,rep,error,r,g,mode,num,rep,error,\"100\",g)\n",
      "getTruePositivesBwa(num,rep,error,r,g,mode,org)\n",
      "r = \"20\"\n",
      "runBwaBuild(num,rep,error,r,g)\n",
      "runBwa(num,rep,error,r,g,mode,num,rep,error,\"100\",g)\n",
      "getTruePositivesBwa(num,rep,error,r,g,mode,org)\n",
      "r = \"10\"\n",
      "runBwaBuild(num,rep,error,r,g)\n",
      "runBwa(num,rep,error,r,g,mode,num,rep,error,\"100\",g)\n",
      "getTruePositivesBwa(num,rep,error,r,g,mode,org)\n",
      "rep = \"3\"\n",
      "runBwaBuild(num,rep,error,r,g)\n",
      "runBwa(num,rep,error,r,g,mode,num,rep,error,\"100\",g)\n",
      "getTruePositivesBwa(num,rep,error,r,g,mode,org)\n",
      "r = \"90\"\n",
      "runBwaBuild(num,rep,error,r,g)\n",
      "runBwa(num,rep,error,r,g,mode,num,rep,error,\"100\",g)\n",
      "getTruePositivesBwa(num,rep,error,r,g,mode,org)\n",
      "r = \"80\"\n",
      "runBwaBuild(num,rep,error,r,g)\n",
      "runBwa(num,rep,error,r,g,mode,num,rep,error,\"100\",g)\n",
      "getTruePositivesBwa(num,rep,error,r,g,mode,org)\n",
      "r = \"70\"\n",
      "runBwaBuild(num,rep,error,r,g)\n",
      "runBwa(num,rep,error,r,g,mode,num,rep,error,\"100\",g)\n",
      "getTruePositivesBwa(num,rep,error,r,g,mode,org)\n",
      "r = \"60\"\n",
      "runBwaBuild(num,rep,error,r,g)\n",
      "runBwa(num,rep,error,r,g,mode,num,rep,error,\"100\",g)\n",
      "getTruePositivesBwa(num,rep,error,r,g,mode,org)\n",
      "r = \"50\"\n",
      "runBwaBuild(num,rep,error,r,g)\n",
      "runBwa(num,rep,error,r,g,mode,num,rep,error,\"100\",g)\n",
      "getTruePositivesBwa(num,rep,error,r,g,mode,org)\n",
      "r = \"40\"\n",
      "runBwaBuild(num,rep,error,r,g)\n",
      "runBwa(num,rep,error,r,g,mode,num,rep,error,\"100\",g)\n",
      "getTruePositivesBwa(num,rep,error,r,g,mode,org)\n",
      "r = \"30\"\n",
      "runBwaBuild(num,rep,error,r,g)\n",
      "runBwa(num,rep,error,r,g,mode,num,rep,error,\"100\",g)\n",
      "getTruePositivesBwa(num,rep,error,r,g,mode,org)\n",
      "r = \"20\"\n",
      "runBwaBuild(num,rep,error,r,g)\n",
      "runBwa(num,rep,error,r,g,mode,num,rep,error,\"100\",g)\n",
      "getTruePositivesBwa(num,rep,error,r,g,mode,org)\n",
      "r = \"10\"\n",
      "runBwaBuild(num,rep,error,r,g)\n",
      "runBwa(num,rep,error,r,g,mode,num,rep,error,\"100\",g)\n",
      "getTruePositivesBwa(num,rep,error,r,g,mode,org)\n"
     ],
     "language": "python",
     "metadata": {},
     "outputs": [],
     "prompt_number": "*"
    },
    {
     "cell_type": "code",
     "collapsed": false,
     "input": [
      "num = \"234\"\n",
      "rep = \"1\"\n",
      "error = \"1\"\n",
      "r = \"100\"\n",
      "id = \"050chick100BwaSe\"\n",
      "g = \"100\"\n",
      "defaultTp = {}\n",
      "defaultFp = {}\n",
      "defaultTp[rep],defaultFp[rep] = getTpFpBwa(num,rep,error,r,g,\"default\",num,rep,error,r,g)\n",
      "rep = \"2\"\n",
      "defaultTp[rep],defaultFp[rep] = getTpFpBwa(num,rep,error,r,g,\"default\",num,rep,error,r,g)\n",
      "rep = \"3\"\n",
      "defaultTp[rep],defaultFp[rep] = getTpFpBwa(num,rep,error,r,g,\"default\",num,rep,error,r,g)\n",
      "print defaultTp, defaultFp\n",
      "defaultAvgTp[id] = sum([defaultTp[\"1\"], defaultTp[\"2\"], defaultTp[\"3\"]]) / 3\n",
      "print \"Average Default True Positive Percentage: \", defaultAvgTp[id]\n",
      "defaultAvgFp[id] = sum([defaultFp[\"1\"], defaultFp[\"2\"], defaultFp[\"3\"]]) / 3\n",
      "print \"Average Default False Positive Percentage: \", defaultAvgFp[id]\n"
     ],
     "language": "python",
     "metadata": {},
     "outputs": [
      {
       "output_type": "stream",
       "stream": "stdout",
       "text": [
        "{'1': 77.69737334634212, '3': 77.92147716343248, '2': 77.68973589166951} {'1': 19.59269811970379, '3': 19.60758603833356, '2': 19.92926107675755}\n",
        "Average Default True Positive Percentage:  77.7695288005\n",
        "Average Default False Positive Percentage:  19.7098484116\n"
       ]
      }
     ],
     "prompt_number": 344
    },
    {
     "cell_type": "code",
     "collapsed": false,
     "input": [
      "num = \"234\"\n",
      "rep = \"1\"\n",
      "error = \"1\"\n",
      "r = \"90\"\n",
      "id = \"050chick090BwaSe\"\n",
      "g = \"100\"\n",
      "defaultTp = {}\n",
      "defaultFp = {}\n",
      "defaultTp[rep],defaultFp[rep] = getTpFpBwa(num,rep,error,r,g,\"default\",num,rep,error,r,g)\n",
      "rep = \"2\"\n",
      "defaultTp[rep],defaultFp[rep] = getTpFpBwa(num,rep,error,r,g,\"default\",num,rep,error,r,g)\n",
      "rep = \"3\"\n",
      "defaultTp[rep],defaultFp[rep] = getTpFpBwa(num,rep,error,r,g,\"default\",num,rep,error,r,g)\n",
      "print defaultTp, defaultFp\n",
      "defaultAvgTp[id] = sum([defaultTp[\"1\"], defaultTp[\"2\"], defaultTp[\"3\"]]) / 3\n",
      "print \"Average Default True Positive Percentage: \", defaultAvgTp[id]\n",
      "defaultAvgFp[id] = sum([defaultFp[\"1\"], defaultFp[\"2\"], defaultFp[\"3\"]]) / 3\n",
      "print \"Average Default False Positive Percentage: \", defaultAvgFp[id]\n"
     ],
     "language": "python",
     "metadata": {},
     "outputs": [
      {
       "output_type": "stream",
       "stream": "stdout",
       "text": [
        "{'1': 72.66884484499693, '3': 71.90660935783292, '2': 69.75754880853745} {'1': 19.646282791542028, '3': 20.280563849948177, '2': 20.784299533907657}\n",
        "Average Default True Positive Percentage:  71.4443343371\n",
        "Average Default False Positive Percentage:  20.2370487251\n"
       ]
      }
     ],
     "prompt_number": 345
    },
    {
     "cell_type": "code",
     "collapsed": false,
     "input": [
      "num = \"234\"\n",
      "rep = \"1\"\n",
      "error = \"1\"\n",
      "r = \"80\"\n",
      "id = \"050chick080BwaSe\"\n",
      "g = \"100\"\n",
      "defaultTp = {}\n",
      "defaultFp = {}\n",
      "defaultTp[rep],defaultFp[rep] = getTpFpBwa(num,rep,error,r,g,\"default\",num,rep,error,r,g)\n",
      "rep = \"2\"\n",
      "defaultTp[rep],defaultFp[rep] = getTpFpBwa(num,rep,error,r,g,\"default\",num,rep,error,r,g)\n",
      "rep = \"3\"\n",
      "defaultTp[rep],defaultFp[rep] = getTpFpBwa(num,rep,error,r,g,\"default\",num,rep,error,r,g)\n",
      "print defaultTp, defaultFp\n",
      "defaultAvgTp[id] = sum([defaultTp[\"1\"], defaultTp[\"2\"], defaultTp[\"3\"]]) / 3\n",
      "print \"Average Default True Positive Percentage: \", defaultAvgTp[id]\n",
      "defaultAvgFp[id] = sum([defaultFp[\"1\"], defaultFp[\"2\"], defaultFp[\"3\"]]) / 3\n",
      "print \"Average Default False Positive Percentage: \", defaultAvgFp[id]\n"
     ],
     "language": "python",
     "metadata": {},
     "outputs": [
      {
       "output_type": "stream",
       "stream": "stdout",
       "text": [
        "{'1': 64.85424159551611, '3': 65.88138593962832, '2': 64.19011257233709} {'1': 20.955546283213884, '3': 19.613588603931838, '2': 20.304375573818216}\n",
        "Average Default True Positive Percentage:  64.9752467025\n",
        "Average Default False Positive Percentage:  20.2911701537\n"
       ]
      }
     ],
     "prompt_number": 346
    },
    {
     "cell_type": "code",
     "collapsed": false,
     "input": [
      "num = \"234\"\n",
      "rep = \"1\"\n",
      "error = \"1\"\n",
      "r = \"70\"\n",
      "id = \"050chick070BwaSe\"\n",
      "g = \"100\"\n",
      "defaultTp = {}\n",
      "defaultFp = {}\n",
      "defaultTp[rep],defaultFp[rep] = getTpFpBwa(num,rep,error,r,g,\"default\",num,rep,error,r,g)\n",
      "rep = \"2\"\n",
      "defaultTp[rep],defaultFp[rep] = getTpFpBwa(num,rep,error,r,g,\"default\",num,rep,error,r,g)\n",
      "rep = \"3\"\n",
      "defaultTp[rep],defaultFp[rep] = getTpFpBwa(num,rep,error,r,g,\"default\",num,rep,error,r,g)\n",
      "print defaultTp, defaultFp\n",
      "defaultAvgTp[id] = sum([defaultTp[\"1\"], defaultTp[\"2\"], defaultTp[\"3\"]]) / 3\n",
      "print \"Average Default True Positive Percentage: \", defaultAvgTp[id]\n",
      "defaultAvgFp[id] = sum([defaultFp[\"1\"], defaultFp[\"2\"], defaultFp[\"3\"]]) / 3\n",
      "print \"Average Default False Positive Percentage: \", defaultAvgFp[id]\n"
     ],
     "language": "python",
     "metadata": {},
     "outputs": [
      {
       "output_type": "stream",
       "stream": "stdout",
       "text": [
        "{'1': 58.049141605541976, '3': 58.713067841688215, '2': 58.26154540908107} {'1': 19.23800011497321, '3': 19.021627114981946, '2': 19.50998323731042}\n",
        "Average Default True Positive Percentage:  58.3412516188\n",
        "Average Default False Positive Percentage:  19.2565368224\n"
       ]
      }
     ],
     "prompt_number": 347
    },
    {
     "cell_type": "code",
     "collapsed": false,
     "input": [
      "num = \"234\"\n",
      "rep = \"1\"\n",
      "error = \"1\"\n",
      "r = \"60\"\n",
      "id = \"050chick060BwaSe\"\n",
      "g = \"100\"\n",
      "defaultTp = {}\n",
      "defaultFp = {}\n",
      "defaultTp[rep],defaultFp[rep] = getTpFpBwa(num,rep,error,r,g,\"default\",num,rep,error,r,g)\n",
      "rep = \"2\"\n",
      "defaultTp[rep],defaultFp[rep] = getTpFpBwa(num,rep,error,r,g,\"default\",num,rep,error,r,g)\n",
      "rep = \"3\"\n",
      "defaultTp[rep],defaultFp[rep] = getTpFpBwa(num,rep,error,r,g,\"default\",num,rep,error,r,g)\n",
      "print defaultTp, defaultFp\n",
      "defaultAvgTp[id] = sum([defaultTp[\"1\"], defaultTp[\"2\"], defaultTp[\"3\"]]) / 3\n",
      "print \"Average Default True Positive Percentage: \", defaultAvgTp[id]\n",
      "defaultAvgFp[id] = sum([defaultFp[\"1\"], defaultFp[\"2\"], defaultFp[\"3\"]]) / 3\n",
      "print \"Average Default False Positive Percentage: \", defaultAvgFp[id]\n"
     ],
     "language": "python",
     "metadata": {},
     "outputs": [
      {
       "output_type": "stream",
       "stream": "stdout",
       "text": [
        "{'1': 51.68477180897758, '3': 51.930201271925334, '2': 52.00218704047891} {'1': 18.944330181110782, '3': 18.89369446829871, '2': 18.426974334530822}\n",
        "Average Default True Positive Percentage:  51.8723867071\n",
        "Average Default False Positive Percentage:  18.7549996613\n"
       ]
      }
     ],
     "prompt_number": 348
    },
    {
     "cell_type": "code",
     "collapsed": false,
     "input": [
      "num = \"234\"\n",
      "rep = \"1\"\n",
      "error = \"1\"\n",
      "r = \"50\"\n",
      "id = \"050chick050BwaSe\"\n",
      "g = \"100\"\n",
      "defaultTp = {}\n",
      "defaultFp = {}\n",
      "defaultTp[rep],defaultFp[rep] = getTpFpBwa(num,rep,error,r,g,\"default\",num,rep,error,r,g)\n",
      "rep = \"2\"\n",
      "defaultTp[rep],defaultFp[rep] = getTpFpBwa(num,rep,error,r,g,\"default\",num,rep,error,r,g)\n",
      "rep = \"3\"\n",
      "defaultTp[rep],defaultFp[rep] = getTpFpBwa(num,rep,error,r,g,\"default\",num,rep,error,r,g)\n",
      "print defaultTp, defaultFp\n",
      "defaultAvgTp[id] = sum([defaultTp[\"1\"], defaultTp[\"2\"], defaultTp[\"3\"]]) / 3\n",
      "print \"Average Default True Positive Percentage: \", defaultAvgTp[id]\n",
      "defaultAvgFp[id] = sum([defaultFp[\"1\"], defaultFp[\"2\"], defaultFp[\"3\"]]) / 3\n",
      "print \"Average Default False Positive Percentage: \", defaultAvgFp[id]\n"
     ],
     "language": "python",
     "metadata": {},
     "outputs": [
      {
       "output_type": "stream",
       "stream": "stdout",
       "text": [
        "{'1': 43.36104356292996, '3': 43.99964415977226, '2': 44.39483438313409} {'1': 17.23993975661995, '3': 17.819790039615306, '2': 17.38046986714609}\n",
        "Average Default True Positive Percentage:  43.9185073686\n",
        "Average Default False Positive Percentage:  17.4800665545\n"
       ]
      }
     ],
     "prompt_number": 349
    },
    {
     "cell_type": "code",
     "collapsed": false,
     "input": [
      "num = \"234\"\n",
      "rep = \"1\"\n",
      "error = \"1\"\n",
      "r = \"40\"\n",
      "id = \"050chick040BwaSe\"\n",
      "g = \"100\"\n",
      "defaultTp = {}\n",
      "defaultFp = {}\n",
      "defaultTp[rep],defaultFp[rep] = getTpFpBwa(num,rep,error,r,g,\"default\",num,rep,error,r,g)\n",
      "rep = \"2\"\n",
      "defaultTp[rep],defaultFp[rep] = getTpFpBwa(num,rep,error,r,g,\"default\",num,rep,error,r,g)\n",
      "rep = \"3\"\n",
      "defaultTp[rep],defaultFp[rep] = getTpFpBwa(num,rep,error,r,g,\"default\",num,rep,error,r,g)\n",
      "print defaultTp, defaultFp\n",
      "defaultAvgTp[id] = sum([defaultTp[\"1\"], defaultTp[\"2\"], defaultTp[\"3\"]]) / 3\n",
      "print \"Average Default True Positive Percentage: \", defaultAvgTp[id]\n",
      "defaultAvgFp[id] = sum([defaultFp[\"1\"], defaultFp[\"2\"], defaultFp[\"3\"]]) / 3\n",
      "print \"Average Default False Positive Percentage: \", defaultAvgFp[id]\n"
     ],
     "language": "python",
     "metadata": {},
     "outputs": [
      {
       "output_type": "stream",
       "stream": "stdout",
       "text": [
        "{'1': 34.97910104991202, '3': 35.57892771470404, '2': 34.79647381043019} {'1': 15.481616297380013, '3': 14.199860447471528, '2': 15.81878327612479}\n",
        "Average Default True Positive Percentage:  35.118167525\n",
        "Average Default False Positive Percentage:  15.1667533403\n"
       ]
      }
     ],
     "prompt_number": 350
    },
    {
     "cell_type": "code",
     "collapsed": false,
     "input": [
      "num = \"234\"\n",
      "rep = \"1\"\n",
      "error = \"1\"\n",
      "r = \"30\"\n",
      "id = \"050chick030BwaSe\"\n",
      "g = \"100\"\n",
      "defaultTp = {}\n",
      "defaultFp = {}\n",
      "defaultTp[rep],defaultFp[rep] = getTpFpBwa(num,rep,error,r,g,\"default\",num,rep,error,r,g)\n",
      "rep = \"2\"\n",
      "defaultTp[rep],defaultFp[rep] = getTpFpBwa(num,rep,error,r,g,\"default\",num,rep,error,r,g)\n",
      "rep = \"3\"\n",
      "defaultTp[rep],defaultFp[rep] = getTpFpBwa(num,rep,error,r,g,\"default\",num,rep,error,r,g)\n",
      "print defaultTp, defaultFp\n",
      "defaultAvgTp[id] = sum([defaultTp[\"1\"], defaultTp[\"2\"], defaultTp[\"3\"]]) / 3\n",
      "print \"Average Default True Positive Percentage: \", defaultAvgTp[id]\n",
      "defaultAvgFp[id] = sum([defaultFp[\"1\"], defaultFp[\"2\"], defaultFp[\"3\"]]) / 3\n",
      "print \"Average Default False Positive Percentage: \", defaultAvgFp[id]\n"
     ],
     "language": "python",
     "metadata": {},
     "outputs": [
      {
       "output_type": "stream",
       "stream": "stdout",
       "text": [
        "{'1': 25.68644104568377, '3': 27.331568077138, '2': 26.777520881384774} {'1': 12.901960696754875, '3': 12.1095527772562, '2': 12.872532648323679}\n",
        "Average Default True Positive Percentage:  26.5985100014\n",
        "Average Default False Positive Percentage:  12.6280153741\n"
       ]
      }
     ],
     "prompt_number": 351
    },
    {
     "cell_type": "code",
     "collapsed": false,
     "input": [
      "num = \"234\"\n",
      "rep = \"1\"\n",
      "error = \"1\"\n",
      "r = \"20\"\n",
      "id = \"050chick020BwaSe\"\n",
      "g = \"100\"\n",
      "defaultTp = {}\n",
      "defaultFp = {}\n",
      "defaultTp[rep],defaultFp[rep] = getTpFpBwa(num,rep,error,r,g,\"default\",num,rep,error,r,g)\n",
      "rep = \"2\"\n",
      "defaultTp[rep],defaultFp[rep] = getTpFpBwa(num,rep,error,r,g,\"default\",num,rep,error,r,g)\n",
      "rep = \"3\"\n",
      "defaultTp[rep],defaultFp[rep] = getTpFpBwa(num,rep,error,r,g,\"default\",num,rep,error,r,g)\n",
      "print defaultTp, defaultFp\n",
      "defaultAvgTp[id] = sum([defaultTp[\"1\"], defaultTp[\"2\"], defaultTp[\"3\"]]) / 3\n",
      "print \"Average Default True Positive Percentage: \", defaultAvgTp[id]\n",
      "defaultAvgFp[id] = sum([defaultFp[\"1\"], defaultFp[\"2\"], defaultFp[\"3\"]]) / 3\n",
      "print \"Average Default False Positive Percentage: \", defaultAvgFp[id]\n"
     ],
     "language": "python",
     "metadata": {},
     "outputs": [
      {
       "output_type": "stream",
       "stream": "stdout",
       "text": [
        "{'1': 19.3354717884282, '3': 19.35372702621451, '2': 19.33593837472289} {'1': 10.77377132334085, '3': 9.520328132656239, '2': 9.555548802139482}\n",
        "Average Default True Positive Percentage:  19.3417123965\n",
        "Average Default False Positive Percentage:  9.94988275271\n"
       ]
      }
     ],
     "prompt_number": 352
    },
    {
     "cell_type": "code",
     "collapsed": false,
     "input": [
      "num = \"234\"\n",
      "rep = \"1\"\n",
      "error = \"1\"\n",
      "r = \"10\"\n",
      "id = \"050chick010BwaSe\"\n",
      "g = \"100\"\n",
      "defaultTp = {}\n",
      "defaultFp = {}\n",
      "defaultTp[rep],defaultFp[rep] = getTpFpBwa(num,rep,error,r,g,\"default\",num,rep,error,r,g)\n",
      "rep = \"2\"\n",
      "defaultTp[rep],defaultFp[rep] = getTpFpBwa(num,rep,error,r,g,\"default\",num,rep,error,r,g)\n",
      "rep = \"3\"\n",
      "defaultTp[rep],defaultFp[rep] = getTpFpBwa(num,rep,error,r,g,\"default\",num,rep,error,r,g)\n",
      "print defaultTp, defaultFp\n",
      "defaultAvgTp[id] = sum([defaultTp[\"1\"], defaultTp[\"2\"], defaultTp[\"3\"]]) / 3\n",
      "print \"Average Default True Positive Percentage: \", defaultAvgTp[id]\n",
      "defaultAvgFp[id] = sum([defaultFp[\"1\"], defaultFp[\"2\"], defaultFp[\"3\"]]) / 3\n",
      "print \"Average Default False Positive Percentage: \", defaultAvgFp[id]\n"
     ],
     "language": "python",
     "metadata": {},
     "outputs": [
      {
       "output_type": "stream",
       "stream": "stdout",
       "text": [
        "{'1': 10.781353260516788, '3': 9.610222826358408, '2': 9.059884495258569} {'1': 5.381604399239821, '3': 5.520071914669752, '2': 5.643273544274507}\n",
        "Average Default True Positive Percentage:  9.81715352738\n",
        "Average Default False Positive Percentage:  5.51498328606\n"
       ]
      }
     ],
     "prompt_number": 353
    },
    {
     "cell_type": "markdown",
     "metadata": {},
     "source": [
      "Same datasets aligned with Soap2"
     ]
    },
    {
     "cell_type": "code",
     "collapsed": false,
     "input": [
      "num = \"234\"\n",
      "rep = \"1\"\n",
      "error = \"1\"\n",
      "r = \"100\"\n",
      "g = \"100\"\n",
      "rep = \"1\"\n",
      "mode = \"default\"\n",
      "org = \"chick\"\n",
      "runSoapBuild(num,rep,error,r,g)\n",
      "runSoap(num,rep,error,r,g,mode,num,rep,error,\"100\",g)\n",
      "getTruePositivesSoap(num,rep,error,r,g,mode,org)\n",
      "r = \"90\"\n",
      "runSoapBuild(num,rep,error,r,g)\n",
      "runSoap(num,rep,error,r,g,mode,num,rep,error,\"100\",g)\n",
      "getTruePositivesSoap(num,rep,error,r,g,mode,org)\n",
      "r = \"80\"\n",
      "runSoapBuild(num,rep,error,r,g)\n",
      "runSoap(num,rep,error,r,g,mode,num,rep,error,\"100\",g)\n",
      "getTruePositivesSoap(num,rep,error,r,g,mode,org)\n",
      "r = \"70\"\n",
      "runSoapBuild(num,rep,error,r,g)\n",
      "runSoap(num,rep,error,r,g,mode,num,rep,error,\"100\",g)\n",
      "getTruePositivesSoap(num,rep,error,r,g,mode,org)\n",
      "r = \"60\"\n",
      "runSoapBuild(num,rep,error,r,g)\n",
      "runSoap(num,rep,error,r,g,mode,num,rep,error,\"100\",g)\n",
      "getTruePositivesSoap(num,rep,error,r,g,mode,org)\n",
      "r = \"50\"\n",
      "runSoapBuild(num,rep,error,r,g)\n",
      "runSoap(num,rep,error,r,g,mode,num,rep,error,\"100\",g)\n",
      "getTruePositivesSoap(num,rep,error,r,g,mode,org)\n",
      "r = \"40\"\n",
      "runSoapBuild(num,rep,error,r,g)\n",
      "runSoap(num,rep,error,r,g,mode,num,rep,error,\"100\",g)\n",
      "getTruePositivesSoap(num,rep,error,r,g,mode,org)\n",
      "r = \"30\"\n",
      "runSoapBuild(num,rep,error,r,g)\n",
      "runSoap(num,rep,error,r,g,mode,num,rep,error,\"100\",g)\n",
      "getTruePositivesSoap(num,rep,error,r,g,mode,org)\n",
      "r = \"20\"\n",
      "runSoapBuild(num,rep,error,r,g)\n",
      "runSoap(num,rep,error,r,g,mode,num,rep,error,\"100\",g)\n",
      "getTruePositivesSoap(num,rep,error,r,g,mode,org)\n",
      "r = \"10\"\n",
      "runSoapBuild(num,rep,error,r,g)\n",
      "runSoap(num,rep,error,r,g,mode,num,rep,error,\"100\",g)\n",
      "getTruePositivesSoap(num,rep,error,r,g,mode,org)\n",
      "rep = \"2\"\n",
      "runSoapBuild(num,rep,error,r,g)\n",
      "runSoap(num,rep,error,r,g,mode,num,rep,error,\"100\",g)\n",
      "getTruePositivesSoap(num,rep,error,r,g,mode,org)\n",
      "r = \"90\"\n",
      "runSoapBuild(num,rep,error,r,g)\n",
      "runSoap(num,rep,error,r,g,mode,num,rep,error,\"100\",g)\n",
      "getTruePositivesSoap(num,rep,error,r,g,mode,org)\n",
      "r = \"80\"\n",
      "runSoapBuild(num,rep,error,r,g)\n",
      "runSoap(num,rep,error,r,g,mode,num,rep,error,\"100\",g)\n",
      "getTruePositivesSoap(num,rep,error,r,g,mode,org)\n",
      "r = \"70\"\n",
      "runSoapBuild(num,rep,error,r,g)\n",
      "runSoap(num,rep,error,r,g,mode,num,rep,error,\"100\",g)\n",
      "getTruePositivesSoap(num,rep,error,r,g,mode,org)\n",
      "r = \"60\"\n",
      "runSoapBuild(num,rep,error,r,g)\n",
      "runSoap(num,rep,error,r,g,mode,num,rep,error,\"100\",g)\n",
      "getTruePositivesSoap(num,rep,error,r,g,mode,org)\n",
      "r = \"50\"\n",
      "runSoapBuild(num,rep,error,r,g)\n",
      "runSoap(num,rep,error,r,g,mode,num,rep,error,\"100\",g)\n",
      "getTruePositivesSoap(num,rep,error,r,g,mode,org)\n",
      "r = \"40\"\n",
      "runSoapBuild(num,rep,error,r,g)\n",
      "runSoap(num,rep,error,r,g,mode,num,rep,error,\"100\",g)\n",
      "getTruePositivesSoap(num,rep,error,r,g,mode,org)\n",
      "r = \"30\"\n",
      "runSoapBuild(num,rep,error,r,g)\n",
      "runSoap(num,rep,error,r,g,mode,num,rep,error,\"100\",g)\n",
      "getTruePositivesSoap(num,rep,error,r,g,mode,org)\n",
      "r = \"20\"\n",
      "runSoapBuild(num,rep,error,r,g)\n",
      "runSoap(num,rep,error,r,g,mode,num,rep,error,\"100\",g)\n",
      "getTruePositivesSoap(num,rep,error,r,g,mode,org)\n",
      "r = \"10\"\n",
      "runSoapBuild(num,rep,error,r,g)\n",
      "runSoap(num,rep,error,r,g,mode,num,rep,error,\"100\",g)\n",
      "getTruePositivesSoap(num,rep,error,r,g,mode,org)\n",
      "rep = \"3\"\n",
      "runSoapBuild(num,rep,error,r,g)\n",
      "runSoap(num,rep,error,r,g,mode,num,rep,error,\"100\",g)\n",
      "getTruePositivesSoap(num,rep,error,r,g,mode,org)\n",
      "r = \"90\"\n",
      "runSoapBuild(num,rep,error,r,g)\n",
      "runSoap(num,rep,error,r,g,mode,num,rep,error,\"100\",g)\n",
      "getTruePositivesSoap(num,rep,error,r,g,mode,org)\n",
      "r = \"80\"\n",
      "runSoapBuild(num,rep,error,r,g)\n",
      "runSoap(num,rep,error,r,g,mode,num,rep,error,\"100\",g)\n",
      "getTruePositivesSoap(num,rep,error,r,g,mode,org)\n",
      "r = \"70\"\n",
      "runSoapBuild(num,rep,error,r,g)\n",
      "runSoap(num,rep,error,r,g,mode,num,rep,error,\"100\",g)\n",
      "getTruePositivesSoap(num,rep,error,r,g,mode,org)\n",
      "r = \"60\"\n",
      "runSoapBuild(num,rep,error,r,g)\n",
      "runSoap(num,rep,error,r,g,mode,num,rep,error,\"100\",g)\n",
      "getTruePositivesSoap(num,rep,error,r,g,mode,org)\n",
      "r = \"50\"\n",
      "runSoapBuild(num,rep,error,r,g)\n",
      "runSoap(num,rep,error,r,g,mode,num,rep,error,\"100\",g)\n",
      "getTruePositivesSoap(num,rep,error,r,g,mode,org)\n",
      "r = \"40\"\n",
      "runSoapBuild(num,rep,error,r,g)\n",
      "runSoap(num,rep,error,r,g,mode,num,rep,error,\"100\",g)\n",
      "getTruePositivesSoap(num,rep,error,r,g,mode,org)\n",
      "r = \"30\"\n",
      "runSoapBuild(num,rep,error,r,g)\n",
      "runSoap(num,rep,error,r,g,mode,num,rep,error,\"100\",g)\n",
      "getTruePositivesSoap(num,rep,error,r,g,mode,org)\n",
      "r = \"20\"\n",
      "runSoapBuild(num,rep,error,r,g)\n",
      "runSoap(num,rep,error,r,g,mode,num,rep,error,\"100\",g)\n",
      "getTruePositivesSoap(num,rep,error,r,g,mode,org)\n",
      "r = \"10\"\n",
      "runSoapBuild(num,rep,error,r,g)\n",
      "runSoap(num,rep,error,r,g,mode,num,rep,error,\"100\",g)\n",
      "getTruePositivesSoap(num,rep,error,r,g,mode,org)\n"
     ],
     "language": "python",
     "metadata": {},
     "outputs": [],
     "prompt_number": 14
    },
    {
     "cell_type": "code",
     "collapsed": false,
     "input": [
      "num = \"234\"\n",
      "rep = \"1\"\n",
      "error = \"1\"\n",
      "r = \"100\"\n",
      "id = \"050chick100SoapSe\"\n",
      "g = \"100\"\n",
      "defaultTp = {}\n",
      "defaultFp = {}\n",
      "defaultTp[rep],defaultFp[rep] = getTpFpSoap(num,rep,error,r,g,\"default\",num,rep,error,r,g)\n",
      "rep = \"2\"\n",
      "defaultTp[rep],defaultFp[rep] = getTpFpSoap(num,rep,error,r,g,\"default\",num,rep,error,r,g)\n",
      "rep = \"3\"\n",
      "defaultTp[rep],defaultFp[rep] = getTpFpSoap(num,rep,error,r,g,\"default\",num,rep,error,r,g)\n",
      "print defaultTp, defaultFp\n",
      "defaultAvgTp[id] = sum([defaultTp[\"1\"], defaultTp[\"2\"], defaultTp[\"3\"]]) / 3\n",
      "print \"Average Default True Positive Percentage: \", defaultAvgTp[id]\n",
      "defaultAvgFp[id] = sum([defaultFp[\"1\"], defaultFp[\"2\"], defaultFp[\"3\"]]) / 3\n",
      "print \"Average Default False Positive Percentage: \", defaultAvgFp[id]\n"
     ],
     "language": "python",
     "metadata": {},
     "outputs": [
      {
       "output_type": "stream",
       "stream": "stdout",
       "text": [
        "{'1': 72.13263362333716, '3': 72.46516266925642, '2': 72.36765259432478} {'1': 19.865716454595255, '3': 19.5149023559602, '2': 19.630794297699822}\n",
        "Average Default True Positive Percentage:  72.3218162956\n",
        "Average Default False Positive Percentage:  19.6704710361\n"
       ]
      }
     ],
     "prompt_number": 354
    },
    {
     "cell_type": "code",
     "collapsed": false,
     "input": [
      "num = \"234\"\n",
      "rep = \"1\"\n",
      "error = \"1\"\n",
      "r = \"90\"\n",
      "id = \"050chick090SoapSe\"\n",
      "g = \"100\"\n",
      "defaultTp = {}\n",
      "defaultFp = {}\n",
      "defaultTp[rep],defaultFp[rep] = getTpFpSoap(num,rep,error,r,g,\"default\",num,rep,error,r,g)\n",
      "rep = \"2\"\n",
      "defaultTp[rep],defaultFp[rep] = getTpFpSoap(num,rep,error,r,g,\"default\",num,rep,error,r,g)\n",
      "rep = \"3\"\n",
      "defaultTp[rep],defaultFp[rep] = getTpFpSoap(num,rep,error,r,g,\"default\",num,rep,error,r,g)\n",
      "print defaultTp, defaultFp\n",
      "defaultAvgTp[id] = sum([defaultTp[\"1\"], defaultTp[\"2\"], defaultTp[\"3\"]]) / 3\n",
      "print \"Average Default True Positive Percentage: \", defaultAvgTp[id]\n",
      "defaultAvgFp[id] = sum([defaultFp[\"1\"], defaultFp[\"2\"], defaultFp[\"3\"]]) / 3\n",
      "print \"Average Default False Positive Percentage: \", defaultAvgFp[id]\n"
     ],
     "language": "python",
     "metadata": {},
     "outputs": [
      {
       "output_type": "stream",
       "stream": "stdout",
       "text": [
        "{'1': 67.25069193078785, '3': 67.16858831513044, '2': 65.03238440728644} {'1': 19.530415135338185, '3': 19.373689456800776, '2': 20.00479981275265}\n",
        "Average Default True Positive Percentage:  66.4838882177\n",
        "Average Default False Positive Percentage:  19.6363014683\n"
       ]
      }
     ],
     "prompt_number": 355
    },
    {
     "cell_type": "code",
     "collapsed": false,
     "input": [
      "num = \"234\"\n",
      "rep = \"1\"\n",
      "error = \"1\"\n",
      "r = \"80\"\n",
      "id = \"050chick080SoapSe\"\n",
      "g = \"100\"\n",
      "defaultTp = {}\n",
      "defaultFp = {}\n",
      "defaultTp[rep],defaultFp[rep] = getTpFpSoap(num,rep,error,r,g,\"default\",num,rep,error,r,g)\n",
      "rep = \"2\"\n",
      "defaultTp[rep],defaultFp[rep] = getTpFpSoap(num,rep,error,r,g,\"default\",num,rep,error,r,g)\n",
      "rep = \"3\"\n",
      "defaultTp[rep],defaultFp[rep] = getTpFpSoap(num,rep,error,r,g,\"default\",num,rep,error,r,g)\n",
      "print defaultTp, defaultFp\n",
      "defaultAvgTp[id] = sum([defaultTp[\"1\"], defaultTp[\"2\"], defaultTp[\"3\"]]) / 3\n",
      "print \"Average Default True Positive Percentage: \", defaultAvgTp[id]\n",
      "defaultAvgFp[id] = sum([defaultFp[\"1\"], defaultFp[\"2\"], defaultFp[\"3\"]]) / 3\n",
      "print \"Average Default False Positive Percentage: \", defaultAvgFp[id]\n"
     ],
     "language": "python",
     "metadata": {},
     "outputs": [
      {
       "output_type": "stream",
       "stream": "stdout",
       "text": [
        "{'1': 60.3872404807279, '3': 61.271921539128904, '2': 59.663737194723375} {'1': 19.843122631518902, '3': 18.769021519950535, '2': 19.24218674190683}\n",
        "Average Default True Positive Percentage:  60.4409664049\n",
        "Average Default False Positive Percentage:  19.2847769645\n"
       ]
      }
     ],
     "prompt_number": 356
    },
    {
     "cell_type": "code",
     "collapsed": false,
     "input": [
      "num = \"234\"\n",
      "rep = \"1\"\n",
      "error = \"1\"\n",
      "r = \"70\"\n",
      "id = \"050chick070SoapSe\"\n",
      "g = \"100\"\n",
      "defaultTp = {}\n",
      "defaultFp = {}\n",
      "defaultTp[rep],defaultFp[rep] = getTpFpSoap(num,rep,error,r,g,\"default\",num,rep,error,r,g)\n",
      "rep = \"2\"\n",
      "defaultTp[rep],defaultFp[rep] = getTpFpSoap(num,rep,error,r,g,\"default\",num,rep,error,r,g)\n",
      "rep = \"3\"\n",
      "defaultTp[rep],defaultFp[rep] = getTpFpSoap(num,rep,error,r,g,\"default\",num,rep,error,r,g)\n",
      "print defaultTp, defaultFp\n",
      "defaultAvgTp[id] = sum([defaultTp[\"1\"], defaultTp[\"2\"], defaultTp[\"3\"]]) / 3\n",
      "print \"Average Default True Positive Percentage: \", defaultAvgTp[id]\n",
      "defaultAvgFp[id] = sum([defaultFp[\"1\"], defaultFp[\"2\"], defaultFp[\"3\"]]) / 3\n",
      "print \"Average Default False Positive Percentage: \", defaultAvgFp[id]\n"
     ],
     "language": "python",
     "metadata": {},
     "outputs": [
      {
       "output_type": "stream",
       "stream": "stdout",
       "text": [
        "{'1': 53.90005594520044, '3': 54.42369143866481, '2': 53.908047263960114} {'1': 18.428605119665082, '3': 18.149677479776507, '2': 18.764995249504956}\n",
        "Average Default True Positive Percentage:  54.0772648826\n",
        "Average Default False Positive Percentage:  18.447759283\n"
       ]
      }
     ],
     "prompt_number": 357
    },
    {
     "cell_type": "code",
     "collapsed": false,
     "input": [
      "num = \"234\"\n",
      "rep = \"1\"\n",
      "error = \"1\"\n",
      "r = \"60\"\n",
      "id = \"050chick060SoapSe\"\n",
      "g = \"100\"\n",
      "defaultTp = {}\n",
      "defaultFp = {}\n",
      "defaultTp[rep],defaultFp[rep] = getTpFpSoap(num,rep,error,r,g,\"default\",num,rep,error,r,g)\n",
      "rep = \"2\"\n",
      "defaultTp[rep],defaultFp[rep] = getTpFpSoap(num,rep,error,r,g,\"default\",num,rep,error,r,g)\n",
      "rep = \"3\"\n",
      "defaultTp[rep],defaultFp[rep] = getTpFpSoap(num,rep,error,r,g,\"default\",num,rep,error,r,g)\n",
      "print defaultTp, defaultFp\n",
      "defaultAvgTp[id] = sum([defaultTp[\"1\"], defaultTp[\"2\"], defaultTp[\"3\"]]) / 3\n",
      "print \"Average Default True Positive Percentage: \", defaultAvgTp[id]\n",
      "defaultAvgFp[id] = sum([defaultFp[\"1\"], defaultFp[\"2\"], defaultFp[\"3\"]]) / 3\n",
      "print \"Average Default False Positive Percentage: \", defaultAvgFp[id]\n"
     ],
     "language": "python",
     "metadata": {},
     "outputs": [
      {
       "output_type": "stream",
       "stream": "stdout",
       "text": [
        "{'1': 47.97010545873383, '3': 48.2687217172335, '2': 48.14089962966399} {'1': 17.677178250737743, '3': 17.583847837987104, '2': 17.200472223732856}\n",
        "Average Default True Positive Percentage:  48.1265756019\n",
        "Average Default False Positive Percentage:  17.4871661042\n"
       ]
      }
     ],
     "prompt_number": 358
    },
    {
     "cell_type": "code",
     "collapsed": false,
     "input": [
      "num = \"234\"\n",
      "rep = \"1\"\n",
      "error = \"1\"\n",
      "r = \"50\"\n",
      "id = \"050chick050SoapSe\"\n",
      "g = \"100\"\n",
      "defaultTp = {}\n",
      "defaultFp = {}\n",
      "defaultTp[rep],defaultFp[rep] = getTpFpSoap(num,rep,error,r,g,\"default\",num,rep,error,r,g)\n",
      "rep = \"2\"\n",
      "defaultTp[rep],defaultFp[rep] = getTpFpSoap(num,rep,error,r,g,\"default\",num,rep,error,r,g)\n",
      "rep = \"3\"\n",
      "defaultTp[rep],defaultFp[rep] = getTpFpSoap(num,rep,error,r,g,\"default\",num,rep,error,r,g)\n",
      "print defaultTp, defaultFp\n",
      "defaultAvgTp[id] = sum([defaultTp[\"1\"], defaultTp[\"2\"], defaultTp[\"3\"]]) / 3\n",
      "print \"Average Default True Positive Percentage: \", defaultAvgTp[id]\n",
      "defaultAvgFp[id] = sum([defaultFp[\"1\"], defaultFp[\"2\"], defaultFp[\"3\"]]) / 3\n",
      "print \"Average Default False Positive Percentage: \", defaultAvgFp[id]\n"
     ],
     "language": "python",
     "metadata": {},
     "outputs": [
      {
       "output_type": "stream",
       "stream": "stdout",
       "text": [
        "{'1': 40.04792532132174, '3': 40.87705391855757, '2': 41.420904524113425} {'1': 16.121787619838525, '3': 16.46520021750856, '2': 15.713847186544635}\n",
        "Average Default True Positive Percentage:  40.7819612547\n",
        "Average Default False Positive Percentage:  16.1002783413\n"
       ]
      }
     ],
     "prompt_number": 359
    },
    {
     "cell_type": "code",
     "collapsed": false,
     "input": [
      "num = \"234\"\n",
      "rep = \"1\"\n",
      "error = \"1\"\n",
      "r = \"40\"\n",
      "id = \"050chick040SoapSe\"\n",
      "g = \"100\"\n",
      "defaultTp = {}\n",
      "defaultFp = {}\n",
      "defaultTp[rep],defaultFp[rep] = getTpFpSoap(num,rep,error,r,g,\"default\",num,rep,error,r,g)\n",
      "rep = \"2\"\n",
      "defaultTp[rep],defaultFp[rep] = getTpFpSoap(num,rep,error,r,g,\"default\",num,rep,error,r,g)\n",
      "rep = \"3\"\n",
      "defaultTp[rep],defaultFp[rep] = getTpFpSoap(num,rep,error,r,g,\"default\",num,rep,error,r,g)\n",
      "print defaultTp, defaultFp\n",
      "defaultAvgTp[id] = sum([defaultTp[\"1\"], defaultTp[\"2\"], defaultTp[\"3\"]]) / 3\n",
      "print \"Average Default True Positive Percentage: \", defaultAvgTp[id]\n",
      "defaultAvgFp[id] = sum([defaultFp[\"1\"], defaultFp[\"2\"], defaultFp[\"3\"]]) / 3\n",
      "print \"Average Default False Positive Percentage: \", defaultAvgFp[id]\n"
     ],
     "language": "python",
     "metadata": {},
     "outputs": [
      {
       "output_type": "stream",
       "stream": "stdout",
       "text": [
        "{'1': 32.408134346600434, '3': 33.01952056036751, '2': 32.162789494954666} {'1': 14.182147318128804, '3': 13.092646866637697, '2': 14.54963334282366}\n",
        "Average Default True Positive Percentage:  32.530148134\n",
        "Average Default False Positive Percentage:  13.9414758425\n"
       ]
      }
     ],
     "prompt_number": 360
    },
    {
     "cell_type": "code",
     "collapsed": false,
     "input": [
      "num = \"234\"\n",
      "rep = \"1\"\n",
      "error = \"1\"\n",
      "r = \"30\"\n",
      "id = \"050chick030SoapSe\"\n",
      "g = \"100\"\n",
      "defaultTp = {}\n",
      "defaultFp = {}\n",
      "defaultTp[rep],defaultFp[rep] = getTpFpSoap(num,rep,error,r,g,\"default\",num,rep,error,r,g)\n",
      "rep = \"2\"\n",
      "defaultTp[rep],defaultFp[rep] = getTpFpSoap(num,rep,error,r,g,\"default\",num,rep,error,r,g)\n",
      "rep = \"3\"\n",
      "defaultTp[rep],defaultFp[rep] = getTpFpSoap(num,rep,error,r,g,\"default\",num,rep,error,r,g)\n",
      "print defaultTp, defaultFp\n",
      "defaultAvgTp[id] = sum([defaultTp[\"1\"], defaultTp[\"2\"], defaultTp[\"3\"]]) / 3\n",
      "print \"Average Default True Positive Percentage: \", defaultAvgTp[id]\n",
      "defaultAvgFp[id] = sum([defaultFp[\"1\"], defaultFp[\"2\"], defaultFp[\"3\"]]) / 3\n",
      "print \"Average Default False Positive Percentage: \", defaultAvgFp[id]\n"
     ],
     "language": "python",
     "metadata": {},
     "outputs": [
      {
       "output_type": "stream",
       "stream": "stdout",
       "text": [
        "{'1': 23.626807879092084, '3': 25.380369355970693, '2': 24.981359238726505} {'1': 11.912975878195326, '3': 11.077305475568826, '2': 11.70984898650774}\n",
        "Average Default True Positive Percentage:  24.6628454913\n",
        "Average Default False Positive Percentage:  11.5667101134\n"
       ]
      }
     ],
     "prompt_number": 361
    },
    {
     "cell_type": "code",
     "collapsed": false,
     "input": [
      "num = \"234\"\n",
      "rep = \"1\"\n",
      "error = \"1\"\n",
      "r = \"20\"\n",
      "id = \"050chick020SoapSe\"\n",
      "g = \"100\"\n",
      "defaultTp = {}\n",
      "defaultFp = {}\n",
      "defaultTp[rep],defaultFp[rep] = getTpFpSoap(num,rep,error,r,g,\"default\",num,rep,error,r,g)\n",
      "rep = \"2\"\n",
      "defaultTp[rep],defaultFp[rep] = getTpFpSoap(num,rep,error,r,g,\"default\",num,rep,error,r,g)\n",
      "rep = \"3\"\n",
      "defaultTp[rep],defaultFp[rep] = getTpFpSoap(num,rep,error,r,g,\"default\",num,rep,error,r,g)\n",
      "print defaultTp, defaultFp\n",
      "defaultAvgTp[id] = sum([defaultTp[\"1\"], defaultTp[\"2\"], defaultTp[\"3\"]]) / 3\n",
      "print \"Average Default True Positive Percentage: \", defaultAvgTp[id]\n",
      "defaultAvgFp[id] = sum([defaultFp[\"1\"], defaultFp[\"2\"], defaultFp[\"3\"]]) / 3\n",
      "print \"Average Default False Positive Percentage: \", defaultAvgFp[id]\n"
     ],
     "language": "python",
     "metadata": {},
     "outputs": [
      {
       "output_type": "stream",
       "stream": "stdout",
       "text": [
        "{'1': 18.091159821721043, '3': 17.99651506641252, '2': 17.872649944497585} {'1': 9.527194325197772, '3': 8.430997449513269, '2': 8.602942587788188}\n",
        "Average Default True Positive Percentage:  17.9867749442\n",
        "Average Default False Positive Percentage:  8.85371145417\n"
       ]
      }
     ],
     "prompt_number": 362
    },
    {
     "cell_type": "code",
     "collapsed": false,
     "input": [
      "num = \"234\"\n",
      "rep = \"1\"\n",
      "error = \"1\"\n",
      "r = \"10\"\n",
      "id = \"050chick010SoapSe\"\n",
      "g = \"100\"\n",
      "defaultTp = {}\n",
      "defaultFp = {}\n",
      "defaultTp[rep],defaultFp[rep] = getTpFpSoap(num,rep,error,r,g,\"default\",num,rep,error,r,g)\n",
      "rep = \"2\"\n",
      "defaultTp[rep],defaultFp[rep] = getTpFpSoap(num,rep,error,r,g,\"default\",num,rep,error,r,g)\n",
      "rep = \"3\"\n",
      "defaultTp[rep],defaultFp[rep] = getTpFpSoap(num,rep,error,r,g,\"default\",num,rep,error,r,g)\n",
      "print defaultTp, defaultFp\n",
      "defaultAvgTp[id] = sum([defaultTp[\"1\"], defaultTp[\"2\"], defaultTp[\"3\"]]) / 3\n",
      "print \"Average Default True Positive Percentage: \", defaultAvgTp[id]\n",
      "defaultAvgFp[id] = sum([defaultFp[\"1\"], defaultFp[\"2\"], defaultFp[\"3\"]]) / 3\n",
      "print \"Average Default False Positive Percentage: \", defaultAvgFp[id]\n"
     ],
     "language": "python",
     "metadata": {},
     "outputs": [
      {
       "output_type": "stream",
       "stream": "stdout",
       "text": [
        "{'1': 9.938134782121328, '3': 8.932780733753077, '2': 8.4608929224555} {'1': 4.739373835018608, '3': 4.782950076641571, '2': 4.952285782530761}\n",
        "Average Default True Positive Percentage:  9.11060281278\n",
        "Average Default False Positive Percentage:  4.82486989806\n"
       ]
      }
     ],
     "prompt_number": 363
    },
    {
     "cell_type": "code",
     "collapsed": false,
     "input": [
      "print \"Percent Mapping Accuracy Comparison on 50% Expressed Chicken Transcriptome using Bowtie, Bwa, and Soap Aligners\"\n",
      "print \"PercRefComplete\\tTP(Bowt)\\tFP(Bowt)\\tTP(Bwa)\\tFP(Bwa)\\tTP(Soap)\\tFP(Soap)\"\n",
      "id = \"050chick100\"\n",
      "print \"100\\t\\t\" + str(defaultAvgTp[id+\"BowtieSe\"])[0:5] + \"\\t\" + str(defaultAvgFp[id+\"BowtieSe\"])[0:5] + \"\\t\" + str(defaultAvgTp[id+\"BwaSe\"])[0:5] + \"\\t\" + str(defaultAvgFp[id+\"BwaSe\"])[0:5] + \"\\t\" + str(defaultAvgTp[id+\"SoapSe\"])[0:5] + \"\\t\" + str(defaultAvgFp[id+\"SoapSe\"])[0:5]\n",
      "id = \"050chick090\"\n",
      "print \"90\\t\\t\" + str(defaultAvgTp[id+\"BowtieSe\"])[0:5] + \"\\t\" + str(defaultAvgFp[id+\"BowtieSe\"])[0:5] + \"\\t\" + str(defaultAvgTp[id+\"BwaSe\"])[0:5] + \"\\t\" + str(defaultAvgFp[id+\"BwaSe\"])[0:5] + \"\\t\" + str(defaultAvgTp[id+\"SoapSe\"])[0:5] + \"\\t\" + str(defaultAvgFp[id+\"SoapSe\"])[0:5]\n",
      "id = \"050chick080\"\n",
      "print \"80\\t\\t\" + str(defaultAvgTp[id+\"BowtieSe\"])[0:5] + \"\\t\" + str(defaultAvgFp[id+\"BowtieSe\"])[0:5] + \"\\t\" + str(defaultAvgTp[id+\"BwaSe\"])[0:5] + \"\\t\" + str(defaultAvgFp[id+\"BwaSe\"])[0:5] + \"\\t\" + str(defaultAvgTp[id+\"SoapSe\"])[0:5] + \"\\t\" + str(defaultAvgFp[id+\"SoapSe\"])[0:5]\n",
      "id = \"050chick070\"\n",
      "print \"70\\t\\t\" + str(defaultAvgTp[id+\"BowtieSe\"])[0:5] + \"\\t\" + str(defaultAvgFp[id+\"BowtieSe\"])[0:5] + \"\\t\" + str(defaultAvgTp[id+\"BwaSe\"])[0:5] + \"\\t\" + str(defaultAvgFp[id+\"BwaSe\"])[0:5] + \"\\t\" + str(defaultAvgTp[id+\"SoapSe\"])[0:5] + \"\\t\" + str(defaultAvgFp[id+\"SoapSe\"])[0:5]\n",
      "id = \"050chick060\"\n",
      "print \"60\\t\\t\" + str(defaultAvgTp[id+\"BowtieSe\"])[0:5] + \"\\t\" + str(defaultAvgFp[id+\"BowtieSe\"])[0:5] + \"\\t\" + str(defaultAvgTp[id+\"BwaSe\"])[0:5] + \"\\t\" + str(defaultAvgFp[id+\"BwaSe\"])[0:5] + \"\\t\" + str(defaultAvgTp[id+\"SoapSe\"])[0:5] + \"\\t\" + str(defaultAvgFp[id+\"SoapSe\"])[0:5]\n",
      "id = \"050chick050\"\n",
      "print \"50\\t\\t\" + str(defaultAvgTp[id+\"BowtieSe\"])[0:5] + \"\\t\" + str(defaultAvgFp[id+\"BowtieSe\"])[0:5] + \"\\t\" + str(defaultAvgTp[id+\"BwaSe\"])[0:5] + \"\\t\" + str(defaultAvgFp[id+\"BwaSe\"])[0:5] + \"\\t\" + str(defaultAvgTp[id+\"SoapSe\"])[0:5] + \"\\t\" + str(defaultAvgFp[id+\"SoapSe\"])[0:5]\n",
      "id = \"050chick040\"\n",
      "print \"40\\t\\t\" + str(defaultAvgTp[id+\"BowtieSe\"])[0:5] + \"\\t\" + str(defaultAvgFp[id+\"BowtieSe\"])[0:5] + \"\\t\" + str(defaultAvgTp[id+\"BwaSe\"])[0:5] + \"\\t\" + str(defaultAvgFp[id+\"BwaSe\"])[0:5] + \"\\t\" + str(defaultAvgTp[id+\"SoapSe\"])[0:5] + \"\\t\" + str(defaultAvgFp[id+\"SoapSe\"])[0:5]\n",
      "id = \"050chick030\"\n",
      "print \"30\\t\\t\" + str(defaultAvgTp[id+\"BowtieSe\"])[0:5] + \"\\t\" + str(defaultAvgFp[id+\"BowtieSe\"])[0:5] + \"\\t\" + str(defaultAvgTp[id+\"BwaSe\"])[0:5] + \"\\t\" + str(defaultAvgFp[id+\"BwaSe\"])[0:5] + \"\\t\" + str(defaultAvgTp[id+\"SoapSe\"])[0:5] + \"\\t\" + str(defaultAvgFp[id+\"SoapSe\"])[0:5]\n",
      "id = \"050chick020\"\n",
      "print \"20\\t\\t\" + str(defaultAvgTp[id+\"BowtieSe\"])[0:5] + \"\\t\" + str(defaultAvgFp[id+\"BowtieSe\"])[0:5] + \"\\t\" + str(defaultAvgTp[id+\"BwaSe\"])[0:5] + \"\\t\" + str(defaultAvgFp[id+\"BwaSe\"])[0:5] + \"\\t\" + str(defaultAvgTp[id+\"SoapSe\"])[0:5] + \"\\t\" + str(defaultAvgFp[id+\"SoapSe\"])[0:5]\n",
      "id = \"050chick010\"\n",
      "print \"10\\t\\t\" + str(defaultAvgTp[id+\"BowtieSe\"])[0:5] + \"\\t\" + str(defaultAvgFp[id+\"BowtieSe\"])[0:5] + \"\\t\" + str(defaultAvgTp[id+\"BwaSe\"])[0:5] + \"\\t\" + str(defaultAvgFp[id+\"BwaSe\"])[0:5] + \"\\t\" + str(defaultAvgTp[id+\"SoapSe\"])[0:5] + \"\\t\" + str(defaultAvgFp[id+\"SoapSe\"])[0:5]\n"
     ],
     "language": "python",
     "metadata": {},
     "outputs": [
      {
       "output_type": "stream",
       "stream": "stdout",
       "text": [
        "Percent Mapping Accuracy Comparison on 50% Expressed Chicken Transcriptome using Bowtie, Bwa, and Soap Aligners\n",
        "PercRefComplete\tTP(Bowt)\tFP(Bowt)\tTP(Bwa)\tFP(Bwa)\tTP(Soap)\tFP(Soap)\n",
        "100\t\t72.24\t19.72\t77.76\t19.70\t72.32\t19.67\n",
        "90\t\t66.42\t19.67\t71.44\t20.23\t66.48\t19.63\n",
        "80\t\t60.38\t19.32\t64.97\t20.29\t60.44\t19.28\n",
        "70\t\t54.02\t18.47\t58.34\t19.25\t54.07\t18.44\n",
        "60\t\t48.08\t17.51\t51.87\t18.75\t48.12\t17.48\n",
        "50\t\t40.75\t16.11\t43.91\t17.48\t40.78\t16.10\n",
        "40\t\t32.51\t13.95\t35.11\t15.16\t32.53\t13.94\n",
        "30\t\t24.65\t11.57\t26.59\t12.62\t24.66\t11.56\n",
        "20\t\t17.98\t8.856\t19.34\t9.949\t17.98\t8.853\n",
        "10\t\t9.107\t4.826\t9.817\t5.514\t9.110\t4.824\n"
       ]
      }
     ],
     "prompt_number": 409
    },
    {
     "cell_type": "heading",
     "level": 2,
     "metadata": {},
     "source": [
      "Test 5: Transcript expression accuracy of read sets generated from 25, 50, 75, and 100% expressed full chicken transcriptome with incomplete reference transcriptome"
     ]
    },
    {
     "cell_type": "heading",
     "level": 6,
     "metadata": {},
     "source": [
      "Single end read sets"
     ]
    },
    {
     "cell_type": "raw",
     "metadata": {},
     "source": [
      "Chicken transcriptome, 50% expression, single end 100 bp reads, {0 10 100 1000}x expression"
     ]
    },
    {
     "cell_type": "code",
     "collapsed": false,
     "input": [
      "num = \"234\"\n",
      "rep = \"1\"\n",
      "error = \"1\"\n",
      "r = \"100\"\n",
      "g = \"100\"\n",
      "mode = \"default\"\n",
      "organism = \"chicken\"\n",
      "parseMapFile(num,rep,error,r,g,mode,organism)\n",
      "rep = \"2\"\n",
      "parseMapFile(num,rep,error,r,g,mode,organism)\n",
      "rep = \"3\"\n",
      "parseMapFile(num,rep,error,r,g,mode,organism)\n"
     ],
     "language": "python",
     "metadata": {},
     "outputs": []
    },
    {
     "cell_type": "code",
     "collapsed": false,
     "input": [
      "defaultTp = {}\n",
      "num = \"234\"\n",
      "rep = \"1\"\n",
      "error = \"1\"\n",
      "r = \"100\"\n",
      "g = \"100\"\n",
      "id = \"050chick100Trans\"\n",
      "defaultTp[rep] = getTransLevelErrors(num,rep,error,r,g)\n",
      "rep = \"2\"\n",
      "defaultTp[rep] = getTransLevelErrors(num,rep,error,r,g)\n",
      "rep = \"3\"\n",
      "defaultTp[rep] = getTransLevelErrors(num,rep,error,r,g)\n",
      "print id\n",
      "defaultAvgTp[id] = sum([defaultTp[\"1\"], defaultTp[\"2\"], defaultTp[\"3\"]]) / 3\n",
      "print \"Average Percent Transcripts Accurate: \", defaultAvgTp[id]\n"
     ],
     "language": "python",
     "metadata": {},
     "outputs": [
      {
       "output_type": "stream",
       "stream": "stdout",
       "text": [
        "050chick100Trans\n",
        "Average Percent Transcripts Accurate:  76.151249156\n"
       ]
      }
     ],
     "prompt_number": 84
    },
    {
     "cell_type": "code",
     "collapsed": false,
     "input": [
      "num = \"234\"\n",
      "rep = \"1\"\n",
      "error = \"1\"\n",
      "r = \"90\"\n",
      "g = \"100\"\n",
      "mode = \"default\"\n",
      "organism = \"chicken\"\n",
      "parseMapFile(num,rep,error,r,g,mode,organism)\n",
      "rep = \"2\"\n",
      "parseMapFile(num,rep,error,r,g,mode,organism)\n",
      "rep = \"3\"\n",
      "parseMapFile(num,rep,error,r,g,mode,organism)\n"
     ],
     "language": "python",
     "metadata": {},
     "outputs": [],
     "prompt_number": 85
    },
    {
     "cell_type": "code",
     "collapsed": false,
     "input": [
      "defaultTp = {}\n",
      "num = \"234\"\n",
      "rep = \"1\"\n",
      "error = \"1\"\n",
      "r = \"90\"\n",
      "id = \"050chick090Trans\"\n",
      "defaultTp[rep] = getTransLevelErrors(num,rep,error,r,g)\n",
      "rep = \"2\"\n",
      "defaultTp[rep] = getTransLevelErrors(num,rep,error,r,g)\n",
      "rep = \"3\"\n",
      "defaultTp[rep] = getTransLevelErrors(num,rep,error,r,g)\n",
      "print id\n",
      "defaultAvgTp[id] = sum([defaultTp[\"1\"], defaultTp[\"2\"], defaultTp[\"3\"]]) / 3\n",
      "print \"Average Percent Transcripts Accurate: \", defaultAvgTp[id]\n"
     ],
     "language": "python",
     "metadata": {},
     "outputs": [
      {
       "output_type": "stream",
       "stream": "stdout",
       "text": [
        "050chick090Trans\n",
        "Average Percent Transcripts Accurate:  73.1682796909\n"
       ]
      }
     ],
     "prompt_number": 92
    },
    {
     "cell_type": "code",
     "collapsed": false,
     "input": [
      "num = \"234\"\n",
      "rep = \"1\"\n",
      "error = \"1\"\n",
      "r = \"80\"\n",
      "g = \"100\"\n",
      "mode = \"default\"\n",
      "organism = \"chicken\"\n",
      "parseMapFile(num,rep,error,r,g,mode,organism)\n",
      "rep = \"2\"\n",
      "parseMapFile(num,rep,error,r,g,mode,organism)\n",
      "rep = \"3\"\n",
      "parseMapFile(num,rep,error,r,g,mode,organism)\n"
     ],
     "language": "python",
     "metadata": {},
     "outputs": [],
     "prompt_number": 93
    },
    {
     "cell_type": "code",
     "collapsed": false,
     "input": [
      "defaultTp = {}\n",
      "num = \"234\"\n",
      "rep = \"1\"\n",
      "error = \"1\"\n",
      "r = \"80\"\n",
      "id = \"050chick080Trans\"\n",
      "defaultTp[rep] = getTransLevelErrors(num,rep,error,r,g)\n",
      "rep = \"2\"\n",
      "defaultTp[rep] = getTransLevelErrors(num,rep,error,r,g)\n",
      "rep = \"3\"\n",
      "defaultTp[rep] = getTransLevelErrors(num,rep,error,r,g)\n",
      "print id\n",
      "defaultAvgTp[id] = sum([defaultTp[\"1\"], defaultTp[\"2\"], defaultTp[\"3\"]]) / 3\n",
      "print \"Average Percent Transcripts Accurate: \", defaultAvgTp[id]\n"
     ],
     "language": "python",
     "metadata": {},
     "outputs": [
      {
       "output_type": "stream",
       "stream": "stdout",
       "text": [
        "050chick080Trans\n",
        "Average Percent Transcripts Accurate:  69.8717083052\n"
       ]
      }
     ],
     "prompt_number": 101
    },
    {
     "cell_type": "code",
     "collapsed": false,
     "input": [
      "num = \"234\"\n",
      "rep = \"1\"\n",
      "error = \"1\"\n",
      "r = \"70\"\n",
      "g = \"100\"\n",
      "mode = \"default\"\n",
      "organism = \"chicken\"\n",
      "parseMapFile(num,rep,error,r,g,mode,organism)\n",
      "rep = \"2\"\n",
      "parseMapFile(num,rep,error,r,g,mode,organism)\n",
      "rep = \"3\"\n",
      "parseMapFile(num,rep,error,r,g,mode,organism)\n"
     ],
     "language": "python",
     "metadata": {},
     "outputs": [],
     "prompt_number": 89
    },
    {
     "cell_type": "code",
     "collapsed": false,
     "input": [
      "defaultTp = {}\n",
      "num = \"234\"\n",
      "rep = \"1\"\n",
      "error = \"1\"\n",
      "r = \"70\"\n",
      "id = \"050chick070Trans\"\n",
      "defaultTp[rep] = getTransLevelErrors(num,rep,error,r,g)\n",
      "rep = \"2\"\n",
      "defaultTp[rep] = getTransLevelErrors(num,rep,error,r,g)\n",
      "rep = \"3\"\n",
      "defaultTp[rep] = getTransLevelErrors(num,rep,error,r,g)\n",
      "print id\n",
      "defaultAvgTp[id] = sum([defaultTp[\"1\"], defaultTp[\"2\"], defaultTp[\"3\"]]) / 3\n",
      "print \"Average Percent Transcripts Accurate: \", defaultAvgTp[id]\n"
     ],
     "language": "python",
     "metadata": {},
     "outputs": [
      {
       "output_type": "stream",
       "stream": "stdout",
       "text": [
        "050chick070Trans\n",
        "Average Percent Transcripts Accurate:  66.4776052217\n"
       ]
      }
     ],
     "prompt_number": 94
    },
    {
     "cell_type": "code",
     "collapsed": false,
     "input": [
      "num = \"234\"\n",
      "rep = \"1\"\n",
      "error = \"1\"\n",
      "r = \"60\"\n",
      "g = \"100\"\n",
      "mode = \"default\"\n",
      "organism = \"chicken\"\n",
      "parseMapFile(num,rep,error,r,g,mode,organism)\n",
      "rep = \"2\"\n",
      "parseMapFile(num,rep,error,r,g,mode,organism)\n",
      "rep = \"3\"\n",
      "parseMapFile(num,rep,error,r,g,mode,organism)\n"
     ],
     "language": "python",
     "metadata": {},
     "outputs": [],
     "prompt_number": 91
    },
    {
     "cell_type": "code",
     "collapsed": false,
     "input": [
      "defaultTp = {}\n",
      "num = \"234\"\n",
      "rep = \"1\"\n",
      "error = \"1\"\n",
      "r = \"60\"\n",
      "id = \"050chick060Trans\"\n",
      "defaultTp[rep] = getTransLevelErrors(num,rep,error,r,g)\n",
      "rep = \"2\"\n",
      "defaultTp[rep] = getTransLevelErrors(num,rep,error,r,g)\n",
      "rep = \"3\"\n",
      "defaultTp[rep] = getTransLevelErrors(num,rep,error,r,g)\n",
      "print id\n",
      "defaultAvgTp[id] = sum([defaultTp[\"1\"], defaultTp[\"2\"], defaultTp[\"3\"]]) / 3\n",
      "print \"Average Percent Transcripts Accurate: \", defaultAvgTp[id]\n"
     ],
     "language": "python",
     "metadata": {},
     "outputs": [
      {
       "output_type": "stream",
       "stream": "stdout",
       "text": [
        "050chick060Trans\n",
        "Average Percent Transcripts Accurate:  63.0369870208\n"
       ]
      }
     ],
     "prompt_number": 95
    },
    {
     "cell_type": "code",
     "collapsed": false,
     "input": [
      "num = \"234\"\n",
      "rep = \"1\"\n",
      "error = \"1\"\n",
      "r = \"50\"\n",
      "g = \"100\"\n",
      "mode = \"default\"\n",
      "organism = \"chicken\"\n",
      "parseMapFile(num,rep,error,r,g,mode,organism)\n",
      "rep = \"2\"\n",
      "parseMapFile(num,rep,error,r,g,mode,organism)\n",
      "rep = \"3\"\n",
      "parseMapFile(num,rep,error,r,g,mode,organism)\n"
     ],
     "language": "python",
     "metadata": {},
     "outputs": []
    },
    {
     "cell_type": "code",
     "collapsed": false,
     "input": [
      "defaultTp = {}\n",
      "num = \"234\"\n",
      "rep = \"1\"\n",
      "error = \"1\"\n",
      "r = \"50\"\n",
      "id = \"050chick050Trans\"\n",
      "defaultTp[rep] = getTransLevelErrors(num,rep,error,r,g)\n",
      "rep = \"2\"\n",
      "defaultTp[rep] = getTransLevelErrors(num,rep,error,r,g)\n",
      "rep = \"3\"\n",
      "defaultTp[rep] = getTransLevelErrors(num,rep,error,r,g)\n",
      "print id\n",
      "defaultAvgTp[id] = sum([defaultTp[\"1\"], defaultTp[\"2\"], defaultTp[\"3\"]]) / 3\n",
      "print \"Average Percent Transcripts Accurate: \", defaultAvgTp[id]\n"
     ],
     "language": "python",
     "metadata": {},
     "outputs": [
      {
       "output_type": "stream",
       "stream": "stdout",
       "text": [
        "050chick050Trans\n",
        "Average Percent Transcripts Accurate:  59.0591942381\n"
       ]
      }
     ],
     "prompt_number": 96
    },
    {
     "cell_type": "code",
     "collapsed": false,
     "input": [
      "num = \"234\"\n",
      "rep = \"1\"\n",
      "error = \"1\"\n",
      "r = \"40\"\n",
      "g = \"100\"\n",
      "mode = \"default\"\n",
      "organism = \"chicken\"\n",
      "parseMapFile(num,rep,error,r,g,mode,organism)\n",
      "rep = \"2\"\n",
      "parseMapFile(num,rep,error,r,g,mode,organism)\n",
      "rep = \"3\"\n",
      "parseMapFile(num,rep,error,r,g,mode,organism)\n"
     ],
     "language": "python",
     "metadata": {},
     "outputs": []
    },
    {
     "cell_type": "code",
     "collapsed": false,
     "input": [
      "defaultTp = {}\n",
      "num = \"234\"\n",
      "rep = \"1\"\n",
      "error = \"1\"\n",
      "r = \"40\"\n",
      "id = \"050chick040Trans\"\n",
      "defaultTp[rep] = getTransLevelErrors(num,rep,error,r,g)\n",
      "rep = \"2\"\n",
      "defaultTp[rep] = getTransLevelErrors(num,rep,error,r,g)\n",
      "rep = \"3\"\n",
      "defaultTp[rep] = getTransLevelErrors(num,rep,error,r,g)\n",
      "print id\n",
      "defaultAvgTp[id] = sum([defaultTp[\"1\"], defaultTp[\"2\"], defaultTp[\"3\"]]) / 3\n",
      "print \"Average Percent Transcripts Accurate: \", defaultAvgTp[id]\n"
     ],
     "language": "python",
     "metadata": {},
     "outputs": [
      {
       "output_type": "stream",
       "stream": "stdout",
       "text": [
        "050chick040Trans\n",
        "Average Percent Transcripts Accurate:  54.6252532073\n"
       ]
      }
     ],
     "prompt_number": 97
    },
    {
     "cell_type": "code",
     "collapsed": false,
     "input": [
      "num = \"234\"\n",
      "rep = \"1\"\n",
      "error = \"1\"\n",
      "r = \"30\"\n",
      "g = \"100\"\n",
      "mode = \"default\"\n",
      "organism = \"chicken\"\n",
      "parseMapFile(num,rep,error,r,g,mode,organism)\n",
      "rep = \"2\"\n",
      "parseMapFile(num,rep,error,r,g,mode,organism)\n",
      "rep = \"3\"\n",
      "parseMapFile(num,rep,error,r,g,mode,organism)\n"
     ],
     "language": "python",
     "metadata": {},
     "outputs": []
    },
    {
     "cell_type": "code",
     "collapsed": false,
     "input": [
      "defaultTp = {}\n",
      "num = \"234\"\n",
      "rep = \"1\"\n",
      "error = \"1\"\n",
      "r = \"30\"\n",
      "id = \"050chick030Trans\"\n",
      "defaultTp[rep] = getTransLevelErrors(num,rep,error,r,g)\n",
      "rep = \"2\"\n",
      "defaultTp[rep] = getTransLevelErrors(num,rep,error,r,g)\n",
      "rep = \"3\"\n",
      "defaultTp[rep] = getTransLevelErrors(num,rep,error,r,g)\n",
      "print id\n",
      "defaultAvgTp[id] = sum([defaultTp[\"1\"], defaultTp[\"2\"], defaultTp[\"3\"]]) / 3\n",
      "print \"Average Percent Transcripts Accurate: \", defaultAvgTp[id]\n"
     ],
     "language": "python",
     "metadata": {},
     "outputs": [
      {
       "output_type": "stream",
       "stream": "stdout",
       "text": [
        "050chick030Trans\n",
        "Average Percent Transcripts Accurate:  49.9752419536\n"
       ]
      }
     ],
     "prompt_number": 98
    },
    {
     "cell_type": "code",
     "collapsed": false,
     "input": [
      "num = \"234\"\n",
      "rep = \"1\"\n",
      "error = \"1\"\n",
      "r = \"20\"\n",
      "g = \"100\"\n",
      "mode = \"default\"\n",
      "organism = \"chicken\"\n",
      "parseMapFile(num,rep,error,r,g,mode,organism)\n",
      "rep = \"2\"\n",
      "parseMapFile(num,rep,error,r,g,mode,organism)\n",
      "rep = \"3\"\n",
      "parseMapFile(num,rep,error,r,g,mode,organism)\n"
     ],
     "language": "python",
     "metadata": {},
     "outputs": []
    },
    {
     "cell_type": "code",
     "collapsed": false,
     "input": [
      "defaultTp = {}\n",
      "num = \"234\"\n",
      "rep = \"1\"\n",
      "error = \"1\"\n",
      "r = \"20\"\n",
      "id = \"050chick020Trans\"\n",
      "defaultTp[rep] = getTransLevelErrors(num,rep,error,r,g)\n",
      "rep = \"2\"\n",
      "defaultTp[rep] = getTransLevelErrors(num,rep,error,r,g)\n",
      "rep = \"3\"\n",
      "defaultTp[rep] = getTransLevelErrors(num,rep,error,r,g)\n",
      "print id\n",
      "defaultAvgTp[id] = sum([defaultTp[\"1\"], defaultTp[\"2\"], defaultTp[\"3\"]]) / 3\n",
      "print \"Average Percent Transcripts Accurate: \", defaultAvgTp[id]\n"
     ],
     "language": "python",
     "metadata": {},
     "outputs": [
      {
       "output_type": "stream",
       "stream": "stdout",
       "text": [
        "050chick020Trans\n",
        "Average Percent Transcripts Accurate:  45.1046590142\n"
       ]
      }
     ],
     "prompt_number": 99
    },
    {
     "cell_type": "code",
     "collapsed": false,
     "input": [
      "num = \"234\"\n",
      "rep = \"1\"\n",
      "error = \"1\"\n",
      "r = \"10\"\n",
      "g = \"100\"\n",
      "mode = \"default\"\n",
      "organism = \"chicken\"\n",
      "parseMapFile(num,rep,error,r,g,mode,organism)\n",
      "rep = \"2\"\n",
      "parseMapFile(num,rep,error,r,g,mode,organism)\n",
      "rep = \"3\"\n",
      "parseMapFile(num,rep,error,r,g,mode,organism)\n"
     ],
     "language": "python",
     "metadata": {},
     "outputs": []
    },
    {
     "cell_type": "code",
     "collapsed": false,
     "input": [
      "defaultTp = {}\n",
      "num = \"234\"\n",
      "rep = \"1\"\n",
      "error = \"1\"\n",
      "r = \"10\"\n",
      "id = \"050chick010Trans\"\n",
      "defaultTp[rep] = getTransLevelErrors(num,rep,error,r,g)\n",
      "rep = \"2\"\n",
      "defaultTp[rep] = getTransLevelErrors(num,rep,error,r,g)\n",
      "rep = \"3\"\n",
      "defaultTp[rep] = getTransLevelErrors(num,rep,error,r,g)\n",
      "print id\n",
      "defaultAvgTp[id] = sum([defaultTp[\"1\"], defaultTp[\"2\"], defaultTp[\"3\"]]) / 3\n",
      "print \"Average Percent Transcripts Accurate: \", defaultAvgTp[id]\n"
     ],
     "language": "python",
     "metadata": {},
     "outputs": [
      {
       "output_type": "stream",
       "stream": "stdout",
       "text": [
        "050chick010Trans\n",
        "Average Percent Transcripts Accurate:  39.76292295\n"
       ]
      }
     ],
     "prompt_number": 100
    },
    {
     "cell_type": "raw",
     "metadata": {},
     "source": [
      "Chicken transcriptome, 25% expression, single end 100 bp reads, {0 10 100 100}x expression"
     ]
    },
    {
     "cell_type": "code",
     "collapsed": false,
     "input": [
      "num = \"235\"\n",
      "rep = \"1\"\n",
      "createDataSet(num,rep)\n",
      "!grep '>' DataSet235rep1E1R100G100.fa | wc -l\n",
      "rep = \"2\"\n",
      "createDataSet(num,rep)\n",
      "!grep '>' DataSet235rep2E1R100G100.fa | wc -l\n",
      "rep = \"3\"\n",
      "createDataSet(num,rep)\n",
      "!grep '>' DataSet235rep3E1R100G100.fa | wc -l\n"
     ],
     "language": "python",
     "metadata": {},
     "outputs": []
    },
    {
     "cell_type": "code",
     "collapsed": false,
     "input": [
      "error = \"1\"\n",
      "r = \"100\"\n",
      "g = \"100\"\n",
      "rep = \"1\"\n",
      "mode = \"default\"\n",
      "org = \"chicken\"\n",
      "runBowtieBuild(num,rep,error,r,g)\n",
      "runBowtie(num,rep,error,r,g,num,rep,error,r,g,mode)\n",
      "r = \"90\"\n",
      "runBowtieBuild(num,rep,error,r,g)\n",
      "runBowtie(num,rep,error,r,g,num,rep,error,r,g,mode)\n",
      "r = \"80\"\n",
      "runBowtieBuild(num,rep,error,r,g)\n",
      "runBowtie(num,rep,error,r,g,num,rep,error,r,g,model)\n",
      "r = \"70\"\n",
      "runBowtieBuild(num,rep,error,r,g)\n",
      "runBowtie(num,rep,error,r,g,num,rep,error,r,g,model)\n",
      "r = \"60\"\n",
      "runBowtieBuild(num,rep,error,r,g)\n",
      "runBowtie(num,rep,error,r,g,num,rep,error,r,g,model)\n",
      "r = \"50\"\n",
      "runBowtieBuild(num,rep,error,r,g)\n",
      "runBowtie(num,rep,error,r,g,num,rep,error,r,g,model)\n",
      "r = \"40\"\n",
      "runBowtieBuild(num,rep,error,r,g)\n",
      "runBowtie(num,rep,error,r,g,num,rep,error,r,g,model)\n",
      "r = \"30\"\n",
      "runBowtieBuild(num,rep,error,r,g)\n",
      "runBowtie(num,rep,error,r,g,num,rep,error,r,g,model)\n",
      "r = \"20\"\n",
      "runBowtieBuild(num,rep,error,r,g)\n",
      "runBowtie(num,rep,error,r,g,num,rep,error,r,g,model)\n",
      "r = \"10\"\n",
      "runBowtieBuild(num,rep,error,r,g)\n",
      "runBowtie(num,rep,error,r,g,num,rep,error,r,g,model)\n",
      "rep = \"2\"\n",
      "runBowtieBuild(num,rep,error,r,g)\n",
      "runBowtie(num,rep,error,r,g,num,rep,error,r,g,model)\n",
      "r = \"90\"\n",
      "runBowtieBuild(num,rep,error,r,g)\n",
      "runBowtie(num,rep,error,r,g,num,rep,error,r,g,model)\n",
      "r = \"80\"\n",
      "runBowtieBuild(num,rep,error,r,g)\n",
      "runBowtie(num,rep,error,r,g,num,rep,error,r,g,model)\n",
      "r = \"70\"\n",
      "runBowtieBuild(num,rep,error,r,g)\n",
      "runBowtie(num,rep,error,r,g,num,rep,error,r,g,model)\n",
      "r = \"60\"\n",
      "runBowtieBuild(num,rep,error,r,g)\n",
      "runBowtie(num,rep,error,r,g,num,rep,error,r,g,model)\n",
      "r = \"50\"\n",
      "runBowtieBuild(num,rep,error,r,g)\n",
      "runBowtie(num,rep,error,r,g,num,rep,error,r,g,model)\n",
      "r = \"40\"\n",
      "runBowtieBuild(num,rep,error,r,g)\n",
      "runBowtie(num,rep,error,r,g,num,rep,error,r,g,model)\n",
      "r = \"30\"\n",
      "runBowtieBuild(num,rep,error,r,g)\n",
      "runBowtie(num,rep,error,r,g,num,rep,error,r,g,model)\n",
      "r = \"20\"\n",
      "runBowtieBuild(num,rep,error,r,g)\n",
      "runBowtie(num,rep,error,r,g,num,rep,error,r,g,model)\n",
      "r = \"10\"\n",
      "runBowtieBuild(num,rep,error,r,g)\n",
      "runBowtie(num,rep,error,r,g,num,rep,error,r,g,model)\n",
      "rep = \"3\"\n",
      "runBowtieBuild(num,rep,error,r,g)\n",
      "runBowtie(num,rep,error,r,g,num,rep,error,r,g,model)\n",
      "r = \"90\"\n",
      "runBowtieBuild(num,rep,error,r,g)\n",
      "runBowtie(num,rep,error,r,g,num,rep,error,r,g,model)\n",
      "r = \"80\"\n",
      "runBowtieBuild(num,rep,error,r,g)\n",
      "runBowtie(num,rep,error,r,g,num,rep,error,r,g,model)\n",
      "r = \"70\"\n",
      "runBowtieBuild(num,rep,error,r,g)\n",
      "runBowtie(num,rep,error,r,g,num,rep,error,r,g,model)\n",
      "r = \"60\"\n",
      "runBowtieBuild(num,rep,error,r,g)\n",
      "runBowtie(num,rep,error,r,g,num,rep,error,r,g,model)\n",
      "r = \"50\"\n",
      "runBowtieBuild(num,rep,error,r,g)\n",
      "runBowtie(num,rep,error,r,g,num,rep,error,r,g,model)\n",
      "r = \"40\"\n",
      "runBowtieBuild(num,rep,error,r,g)\n",
      "runBowtie(num,rep,error,r,g,num,rep,error,r,g,model)\n",
      "r = \"30\"\n",
      "runBowtieBuild(num,rep,error,r,g)\n",
      "runBowtie(num,rep,error,r,g,num,rep,error,r,g,model)\n",
      "r = \"20\"\n",
      "runBowtieBuild(num,rep,error,r,g)\n",
      "runBowtie(num,rep,error,r,g,num,rep,error,r,g,model)\n",
      "r = \"10\"\n",
      "runBowtieBuild(num,rep,error,r,g)\n",
      "runBowtie(num,rep,error,r,g,num,rep,error,r,g,model)\n"
     ],
     "language": "python",
     "metadata": {},
     "outputs": []
    },
    {
     "cell_type": "code",
     "collapsed": false,
     "input": [
      "num = \"235\"\n",
      "rep = \"1\"\n",
      "error = \"1\"\n",
      "r = \"100\"\n",
      "g = \"100\"\n",
      "mode = \"default\"\n",
      "organism = \"chicken\"\n",
      "parseMapFile(num,rep,error,r,g,mode,organism)\n",
      "rep = \"2\"\n",
      "parseMapFile(num,rep,error,r,g,mode,organism)\n",
      "rep = \"3\"\n",
      "parseMapFile(num,rep,error,r,g,mode,organism)\n"
     ],
     "language": "python",
     "metadata": {},
     "outputs": []
    },
    {
     "cell_type": "code",
     "collapsed": false,
     "input": [
      "defaultTp = {}\n",
      "num = \"235\"\n",
      "rep = \"1\"\n",
      "error = \"1\"\n",
      "r = \"100\"\n",
      "id = \"025chick100Trans\"\n",
      "defaultTp[rep] = getTransLevelErrors(num,rep,error,r,g)\n",
      "rep = \"2\"\n",
      "defaultTp[rep] = getTransLevelErrors(num,rep,error,r,g)\n",
      "rep = \"3\"\n",
      "defaultTp[rep] = getTransLevelErrors(num,rep,error,r,g)\n",
      "print id\n",
      "defaultAvgTp[id] = sum([defaultTp[\"1\"], defaultTp[\"2\"], defaultTp[\"3\"]]) / 3\n",
      "print \"Average Percent Transcripts Accurate: \", defaultAvgTp[id]\n"
     ],
     "language": "python",
     "metadata": {},
     "outputs": [
      {
       "output_type": "stream",
       "stream": "stdout",
       "text": [
        "025chick100Trans\n",
        "Average Percent Transcripts Accurate:  81.9701402956\n"
       ]
      }
     ],
     "prompt_number": 53
    },
    {
     "cell_type": "code",
     "collapsed": false,
     "input": [
      "num = \"235\"\n",
      "rep = \"1\"\n",
      "error = \"1\"\n",
      "r = \"90\"\n",
      "g = \"100\"\n",
      "mode = \"default\"\n",
      "organism = \"chicken\"\n",
      "parseMapFile(num,rep,error,r,g,mode,organism)\n",
      "rep = \"2\"\n",
      "parseMapFile(num,rep,error,r,g,mode,organism)\n",
      "rep = \"3\"\n",
      "parseMapFile(num,rep,error,r,g,mode,organism)\n"
     ],
     "language": "python",
     "metadata": {},
     "outputs": []
    },
    {
     "cell_type": "code",
     "collapsed": false,
     "input": [
      "defaultTp = {}\n",
      "num = \"235\"\n",
      "rep = \"1\"\n",
      "error = \"1\"\n",
      "r = \"90\"\n",
      "id = \"025chick090Trans\"\n",
      "defaultTp[rep] = getTransLevelErrors(num,rep,error,r,g)\n",
      "rep = \"2\"\n",
      "defaultTp[rep] = getTransLevelErrors(num,rep,error,r,g)\n",
      "rep = \"3\"\n",
      "defaultTp[rep] = getTransLevelErrors(num,rep,error,r,g)\n",
      "print id\n",
      "defaultAvgTp[id] = sum([defaultTp[\"1\"], defaultTp[\"2\"], defaultTp[\"3\"]]) / 3\n",
      "print \"Average Percent Transcripts Accurate: \", defaultAvgTp[id]\n"
     ],
     "language": "python",
     "metadata": {},
     "outputs": [
      {
       "output_type": "stream",
       "stream": "stdout",
       "text": [
        "025chick090Trans\n",
        "Average Percent Transcripts Accurate:  80.4666516618\n"
       ]
      }
     ],
     "prompt_number": 54
    },
    {
     "cell_type": "code",
     "collapsed": false,
     "input": [
      "num = \"235\"\n",
      "rep = \"1\"\n",
      "error = \"1\"\n",
      "r = \"80\"\n",
      "g = \"100\"\n",
      "mode = \"default\"\n",
      "organism = \"chicken\"\n",
      "parseMapFile(num,rep,error,r,g,mode,organism)\n",
      "rep = \"2\"\n",
      "parseMapFile(num,rep,error,r,g,mode,organism)\n",
      "rep = \"3\"\n",
      "parseMapFile(num,rep,error,r,g,mode,organism)\n"
     ],
     "language": "python",
     "metadata": {},
     "outputs": []
    },
    {
     "cell_type": "code",
     "collapsed": false,
     "input": [
      "defaultTp = {}\n",
      "num = \"235\"\n",
      "rep = \"1\"\n",
      "error = \"1\"\n",
      "r = \"80\"\n",
      "id = \"025chick080Trans\"\n",
      "defaultTp[rep] = getTransLevelErrors(num,rep,error,r,g)\n",
      "rep = \"2\"\n",
      "defaultTp[rep] = getTransLevelErrors(num,rep,error,r,g)\n",
      "rep = \"3\"\n",
      "defaultTp[rep] = getTransLevelErrors(num,rep,error,r,g)\n",
      "print id\n",
      "defaultAvgTp[id] = sum([defaultTp[\"1\"], defaultTp[\"2\"], defaultTp[\"3\"]]) / 3\n",
      "print \"Average Percent Transcripts Accurate: \", defaultAvgTp[id]\n"
     ],
     "language": "python",
     "metadata": {},
     "outputs": [
      {
       "output_type": "stream",
       "stream": "stdout",
       "text": [
        "025chick080Trans\n",
        "Average Percent Transcripts Accurate:  79.0096781454\n"
       ]
      }
     ],
     "prompt_number": 55
    },
    {
     "cell_type": "code",
     "collapsed": false,
     "input": [
      "num = \"235\"\n",
      "rep = \"1\"\n",
      "error = \"1\"\n",
      "r = \"70\"\n",
      "g = \"100\"\n",
      "mode = \"default\"\n",
      "organism = \"chicken\"\n",
      "parseMapFile(num,rep,error,r,g,mode,organism)\n",
      "rep = \"2\"\n",
      "parseMapFile(num,rep,error,r,g,mode,organism)\n",
      "rep = \"3\"\n",
      "parseMapFile(num,rep,error,r,g,mode,organism)\n"
     ],
     "language": "python",
     "metadata": {},
     "outputs": []
    },
    {
     "cell_type": "code",
     "collapsed": false,
     "input": [
      "defaultTp = {}\n",
      "num = \"235\"\n",
      "rep = \"1\"\n",
      "error = \"1\"\n",
      "r = \"70\"\n",
      "id = \"025chick070Trans\"\n",
      "defaultTp[rep] = getTransLevelErrors(num,rep,error,r,g)\n",
      "rep = \"2\"\n",
      "defaultTp[rep] = getTransLevelErrors(num,rep,error,r,g)\n",
      "rep = \"3\"\n",
      "defaultTp[rep] = getTransLevelErrors(num,rep,error,r,g)\n",
      "print id\n",
      "defaultAvgTp[id] = sum([defaultTp[\"1\"], defaultTp[\"2\"], defaultTp[\"3\"]]) / 3\n",
      "print \"Average Percent Transcripts Accurate: \", defaultAvgTp[id]\n"
     ],
     "language": "python",
     "metadata": {},
     "outputs": [
      {
       "output_type": "stream",
       "stream": "stdout",
       "text": [
        "025chick070Trans\n",
        "Average Percent Transcripts Accurate:  77.0860529672\n"
       ]
      }
     ],
     "prompt_number": 56
    },
    {
     "cell_type": "code",
     "collapsed": false,
     "input": [
      "num = \"235\"\n",
      "rep = \"1\"\n",
      "error = \"1\"\n",
      "r = \"60\"\n",
      "g = \"100\"\n",
      "mode = \"default\"\n",
      "organism = \"chicken\"\n",
      "parseMapFile(num,rep,error,r,g,mode,organism)\n",
      "rep = \"2\"\n",
      "parseMapFile(num,rep,error,r,g,mode,organism)\n",
      "rep = \"3\"\n",
      "parseMapFile(num,rep,error,r,g,mode,organism)\n"
     ],
     "language": "python",
     "metadata": {},
     "outputs": []
    },
    {
     "cell_type": "code",
     "collapsed": false,
     "input": [
      "defaultTp = {}\n",
      "num = \"235\"\n",
      "rep = \"1\"\n",
      "error = \"1\"\n",
      "r = \"60\"\n",
      "id = \"025chick060Trans\"\n",
      "defaultTp[rep] = getTransLevelErrors(num,rep,error,r,g)\n",
      "rep = \"2\"\n",
      "defaultTp[rep] = getTransLevelErrors(num,rep,error,r,g)\n",
      "rep = \"3\"\n",
      "defaultTp[rep] = getTransLevelErrors(num,rep,error,r,g)\n",
      "print id\n",
      "defaultAvgTp[id] = sum([defaultTp[\"1\"], defaultTp[\"2\"], defaultTp[\"3\"]]) / 3\n",
      "print \"Average Percent Transcripts Accurate: \", defaultAvgTp[id]\n"
     ],
     "language": "python",
     "metadata": {},
     "outputs": [
      {
       "output_type": "stream",
       "stream": "stdout",
       "text": [
        "025chick060Trans\n",
        "Average Percent Transcripts Accurate:  75.4715282467\n"
       ]
      }
     ],
     "prompt_number": 57
    },
    {
     "cell_type": "code",
     "collapsed": false,
     "input": [
      "num = \"235\"\n",
      "rep = \"1\"\n",
      "error = \"1\"\n",
      "r = \"50\"\n",
      "g = \"100\"\n",
      "mode = \"default\"\n",
      "organism = \"chicken\"\n",
      "parseMapFile(num,rep,error,r,g,mode,organism)\n",
      "rep = \"2\"\n",
      "parseMapFile(num,rep,error,r,g,mode,organism)\n",
      "rep = \"3\"\n",
      "parseMapFile(num,rep,error,r,g,mode,organism)\n"
     ],
     "language": "python",
     "metadata": {},
     "outputs": []
    },
    {
     "cell_type": "code",
     "collapsed": false,
     "input": [
      "defaultTp = {}\n",
      "num = \"235\"\n",
      "rep = \"1\"\n",
      "error = \"1\"\n",
      "r = \"50\"\n",
      "id = \"025chick050Trans\"\n",
      "defaultTp[rep] = getTransLevelErrors(num,rep,error,r,g)\n",
      "rep = \"2\"\n",
      "defaultTp[rep] = getTransLevelErrors(num,rep,error,r,g)\n",
      "rep = \"3\"\n",
      "defaultTp[rep] = getTransLevelErrors(num,rep,error,r,g)\n",
      "print id\n",
      "defaultAvgTp[id] = sum([defaultTp[\"1\"], defaultTp[\"2\"], defaultTp[\"3\"]]) / 3\n",
      "print \"Average Percent Transcripts Accurate: \", defaultAvgTp[id]\n"
     ],
     "language": "python",
     "metadata": {},
     "outputs": [
      {
       "output_type": "stream",
       "stream": "stdout",
       "text": [
        "025chick050Trans\n",
        "Average Percent Transcripts Accurate:  73.5163928277\n"
       ]
      }
     ],
     "prompt_number": 58
    },
    {
     "cell_type": "code",
     "collapsed": false,
     "input": [
      "num = \"235\"\n",
      "rep = \"1\"\n",
      "error = \"1\"\n",
      "r = \"40\"\n",
      "g = \"100\"\n",
      "mode = \"default\"\n",
      "organism = \"chicken\"\n",
      "parseMapFile(num,rep,error,r,g,mode,organism)\n",
      "rep = \"2\"\n",
      "parseMapFile(num,rep,error,r,g,mode,organism)\n",
      "rep = \"3\"\n",
      "parseMapFile(num,rep,error,r,g,mode,organism)\n"
     ],
     "language": "python",
     "metadata": {},
     "outputs": []
    },
    {
     "cell_type": "code",
     "collapsed": false,
     "input": [
      "defaultTp = {}\n",
      "num = \"235\"\n",
      "rep = \"1\"\n",
      "error = \"1\"\n",
      "r = \"40\"\n",
      "id = \"025chick040Trans\"\n",
      "defaultTp[rep] = getTransLevelErrors(num,rep,error,r,g)\n",
      "rep = \"2\"\n",
      "defaultTp[rep] = getTransLevelErrors(num,rep,error,r,g)\n",
      "rep = \"3\"\n",
      "defaultTp[rep] = getTransLevelErrors(num,rep,error,r,g)\n",
      "print id\n",
      "defaultAvgTp[id] = sum([defaultTp[\"1\"], defaultTp[\"2\"], defaultTp[\"3\"]]) / 3\n",
      "print \"Average Percent Transcripts Accurate: \", defaultAvgTp[id]\n"
     ],
     "language": "python",
     "metadata": {},
     "outputs": [
      {
       "output_type": "stream",
       "stream": "stdout",
       "text": [
        "025chick040Trans\n",
        "Average Percent Transcripts Accurate:  71.2011403706\n"
       ]
      }
     ],
     "prompt_number": 59
    },
    {
     "cell_type": "code",
     "collapsed": false,
     "input": [
      "num = \"235\"\n",
      "rep = \"1\"\n",
      "error = \"1\"\n",
      "r = \"30\"\n",
      "g = \"100\"\n",
      "mode = \"default\"\n",
      "organism = \"chicken\"\n",
      "parseMapFile(num,rep,error,r,g,mode,organism)\n",
      "rep = \"2\"\n",
      "parseMapFile(num,rep,error,r,g,mode,organism)\n",
      "rep = \"3\"\n",
      "parseMapFile(num,rep,error,r,g,mode,organism)\n"
     ],
     "language": "python",
     "metadata": {},
     "outputs": []
    },
    {
     "cell_type": "code",
     "collapsed": false,
     "input": [
      "defaultTp = {}\n",
      "num = \"235\"\n",
      "rep = \"1\"\n",
      "error = \"1\"\n",
      "r = \"30\"\n",
      "id = \"025chick030Trans\"\n",
      "defaultTp[rep] = getTransLevelErrors(num,rep,error,r,g)\n",
      "rep = \"2\"\n",
      "defaultTp[rep] = getTransLevelErrors(num,rep,error,r,g)\n",
      "rep = \"3\"\n",
      "defaultTp[rep] = getTransLevelErrors(num,rep,error,r,g)\n",
      "print id\n",
      "defaultAvgTp[id] = sum([defaultTp[\"1\"], defaultTp[\"2\"], defaultTp[\"3\"]]) / 3\n",
      "print \"Average Percent Transcripts Accurate: \", defaultAvgTp[id]\n"
     ],
     "language": "python",
     "metadata": {},
     "outputs": [
      {
       "output_type": "stream",
       "stream": "stdout",
       "text": [
        "025chick030Trans\n",
        "Average Percent Transcripts Accurate:  69.0074274139\n"
       ]
      }
     ],
     "prompt_number": 60
    },
    {
     "cell_type": "code",
     "collapsed": false,
     "input": [
      "num = \"235\"\n",
      "rep = \"1\"\n",
      "error = \"1\"\n",
      "r = \"20\"\n",
      "g = \"100\"\n",
      "mode = \"default\"\n",
      "organism = \"chicken\"\n",
      "parseMapFile(num,rep,error,r,g,mode,organism)\n",
      "rep = \"2\"\n",
      "parseMapFile(num,rep,error,r,g,mode,organism)\n",
      "rep = \"3\"\n",
      "parseMapFile(num,rep,error,r,g,mode,organism)\n"
     ],
     "language": "python",
     "metadata": {},
     "outputs": []
    },
    {
     "cell_type": "code",
     "collapsed": false,
     "input": [
      "defaultTp = {}\n",
      "num = \"235\"\n",
      "rep = \"1\"\n",
      "error = \"1\"\n",
      "r = \"20\"\n",
      "id = \"025chick020Trans\"\n",
      "defaultTp[rep] = getTransLevelErrors(num,rep,error,r,g)\n",
      "rep = \"2\"\n",
      "defaultTp[rep] = getTransLevelErrors(num,rep,error,r,g)\n",
      "rep = \"3\"\n",
      "defaultTp[rep] = getTransLevelErrors(num,rep,error,r,g)\n",
      "print id\n",
      "defaultAvgTp[id] = sum([defaultTp[\"1\"], defaultTp[\"2\"], defaultTp[\"3\"]]) / 3\n",
      "print \"Average Percent Transcripts Accurate: \", defaultAvgTp[id]\n"
     ],
     "language": "python",
     "metadata": {},
     "outputs": [
      {
       "output_type": "stream",
       "stream": "stdout",
       "text": [
        "025chick020Trans\n",
        "Average Percent Transcripts Accurate:  66.4701027834\n"
       ]
      }
     ],
     "prompt_number": 61
    },
    {
     "cell_type": "code",
     "collapsed": false,
     "input": [
      "num = \"235\"\n",
      "rep = \"1\"\n",
      "error = \"1\"\n",
      "r = \"10\"\n",
      "g = \"100\"\n",
      "mode = \"default\"\n",
      "organism = \"chicken\"\n",
      "parseMapFile(num,rep,error,r,g,mode,organism)\n",
      "rep = \"2\"\n",
      "parseMapFile(num,rep,error,r,g,mode,organism)\n",
      "rep = \"3\"\n",
      "parseMapFile(num,rep,error,r,g,mode,organism)\n"
     ],
     "language": "python",
     "metadata": {},
     "outputs": []
    },
    {
     "cell_type": "code",
     "collapsed": false,
     "input": [
      "defaultTp = {}\n",
      "num = \"235\"\n",
      "rep = \"1\"\n",
      "error = \"1\"\n",
      "r = \"10\"\n",
      "id = \"025chick010Trans\"\n",
      "defaultTp[rep] = getTransLevelErrors(num,rep,error,r,g)\n",
      "print defaultTp[rep]\n",
      "rep = \"2\"\n",
      "defaultTp[rep] = getTransLevelErrors(num,rep,error,r,g)\n",
      "print defaultTp[rep]\n",
      "rep = \"3\"\n",
      "defaultTp[rep] = getTransLevelErrors(num,rep,error,r,g)\n",
      "print defaultTp[rep]\n",
      "print id\n",
      "defaultAvgTp[id] = sum([defaultTp[\"1\"], defaultTp[\"2\"], defaultTp[\"3\"]]) / 3\n",
      "print \"Average Percent Transcripts Accurate: \", defaultAvgTp[id]\n"
     ],
     "language": "python",
     "metadata": {},
     "outputs": [
      {
       "output_type": "stream",
       "stream": "stdout",
       "text": [
        "63.5696601395\n",
        "63.5246455098"
       ]
      },
      {
       "output_type": "stream",
       "stream": "stdout",
       "text": [
        "\n",
        "64.2673869007"
       ]
      },
      {
       "output_type": "stream",
       "stream": "stdout",
       "text": [
        "\n",
        "025chick010Trans\n",
        "Average Percent Transcripts Accurate:  63.78723085\n"
       ]
      }
     ],
     "prompt_number": 62
    },
    {
     "cell_type": "raw",
     "metadata": {},
     "source": [
      "Chicken transcriptome, 75% expression, single end 100 bp reads, {0 10 100 100}x expression"
     ]
    },
    {
     "cell_type": "code",
     "collapsed": false,
     "input": [
      "num = \"233\"\n",
      "rep = \"1\"\n",
      "createDataSet(num,rep)\n",
      "!grep '>' DataSet233rep1E1R100G100.fa | wc -l\n",
      "rep = \"2\"\n",
      "createDataSet(num,rep)\n",
      "!grep '>' DataSet233rep2E1R100G100.fa | wc -l\n",
      "rep = \"3\"\n",
      "createDataSet(num,rep)\n",
      "!grep '>' DataSet233rep3E1R100G100.fa | wc -l\n"
     ],
     "language": "python",
     "metadata": {},
     "outputs": []
    },
    {
     "cell_type": "code",
     "collapsed": false,
     "input": [
      "error = \"1\"\n",
      "r = \"100\"\n",
      "g = \"100\"\n",
      "rep = \"1\"\n",
      "mode = \"default\"\n",
      "org = \"chicken\"\n",
      "runBowtieBuild(num,rep,error,r,g)\n",
      "runBowtie(num,rep,error,r,g,num,rep,error,r,g,mode)\n",
      "r = \"90\"\n",
      "runBowtieBuild(num,rep,error,r,g)\n",
      "runBowtie(num,rep,error,r,g,num,rep,error,r,g,mode)\n",
      "r = \"80\"\n",
      "runBowtieBuild(num,rep,error,r,g)\n",
      "runBowtie(num,rep,error,r,g,num,rep,error,r,g,model)\n",
      "r = \"70\"\n",
      "runBowtieBuild(num,rep,error,r,g)\n",
      "runBowtie(num,rep,error,r,g,num,rep,error,r,g,model)\n",
      "r = \"60\"\n",
      "runBowtieBuild(num,rep,error,r,g)\n",
      "runBowtie(num,rep,error,r,g,num,rep,error,r,g,model)\n",
      "r = \"50\"\n",
      "runBowtieBuild(num,rep,error,r,g)\n",
      "runBowtie(num,rep,error,r,g,num,rep,error,r,g,model)\n",
      "r = \"40\"\n",
      "runBowtieBuild(num,rep,error,r,g)\n",
      "runBowtie(num,rep,error,r,g,num,rep,error,r,g,model)\n",
      "r = \"30\"\n",
      "runBowtieBuild(num,rep,error,r,g)\n",
      "runBowtie(num,rep,error,r,g,num,rep,error,r,g,model)\n",
      "r = \"20\"\n",
      "runBowtieBuild(num,rep,error,r,g)\n",
      "runBowtie(num,rep,error,r,g,num,rep,error,r,g,model)\n",
      "r = \"10\"\n",
      "runBowtieBuild(num,rep,error,r,g)\n",
      "runBowtie(num,rep,error,r,g,num,rep,error,r,g,model)\n",
      "rep = \"2\"\n",
      "runBowtieBuild(num,rep,error,r,g)\n",
      "runBowtie(num,rep,error,r,g,num,rep,error,r,g,model)\n",
      "r = \"90\"\n",
      "runBowtieBuild(num,rep,error,r,g)\n",
      "runBowtie(num,rep,error,r,g,num,rep,error,r,g,model)\n",
      "r = \"80\"\n",
      "runBowtieBuild(num,rep,error,r,g)\n",
      "runBowtie(num,rep,error,r,g,num,rep,error,r,g,model)\n",
      "r = \"70\"\n",
      "runBowtieBuild(num,rep,error,r,g)\n",
      "runBowtie(num,rep,error,r,g,num,rep,error,r,g,model)\n",
      "r = \"60\"\n",
      "runBowtieBuild(num,rep,error,r,g)\n",
      "runBowtie(num,rep,error,r,g,num,rep,error,r,g,model)\n",
      "r = \"50\"\n",
      "runBowtieBuild(num,rep,error,r,g)\n",
      "runBowtie(num,rep,error,r,g,num,rep,error,r,g,model)\n",
      "r = \"40\"\n",
      "runBowtieBuild(num,rep,error,r,g)\n",
      "runBowtie(num,rep,error,r,g,num,rep,error,r,g,model)\n",
      "r = \"30\"\n",
      "runBowtieBuild(num,rep,error,r,g)\n",
      "runBowtie(num,rep,error,r,g,num,rep,error,r,g,model)\n",
      "r = \"20\"\n",
      "runBowtieBuild(num,rep,error,r,g)\n",
      "runBowtie(num,rep,error,r,g,num,rep,error,r,g,model)\n",
      "r = \"10\"\n",
      "runBowtieBuild(num,rep,error,r,g)\n",
      "runBowtie(num,rep,error,r,g,num,rep,error,r,g,model)\n",
      "rep = \"3\"\n",
      "runBowtieBuild(num,rep,error,r,g)\n",
      "runBowtie(num,rep,error,r,g,num,rep,error,r,g,model)\n",
      "r = \"90\"\n",
      "runBowtieBuild(num,rep,error,r,g)\n",
      "runBowtie(num,rep,error,r,g,num,rep,error,r,g,model)\n",
      "r = \"80\"\n",
      "runBowtieBuild(num,rep,error,r,g)\n",
      "runBowtie(num,rep,error,r,g,num,rep,error,r,g,model)\n",
      "r = \"70\"\n",
      "runBowtieBuild(num,rep,error,r,g)\n",
      "runBowtie(num,rep,error,r,g,num,rep,error,r,g,model)\n",
      "r = \"60\"\n",
      "runBowtieBuild(num,rep,error,r,g)\n",
      "runBowtie(num,rep,error,r,g,num,rep,error,r,g,model)\n",
      "r = \"50\"\n",
      "runBowtieBuild(num,rep,error,r,g)\n",
      "runBowtie(num,rep,error,r,g,num,rep,error,r,g,model)\n",
      "r = \"40\"\n",
      "runBowtieBuild(num,rep,error,r,g)\n",
      "runBowtie(num,rep,error,r,g,num,rep,error,r,g,model)\n",
      "r = \"30\"\n",
      "runBowtieBuild(num,rep,error,r,g)\n",
      "runBowtie(num,rep,error,r,g,num,rep,error,r,g,model)\n",
      "r = \"20\"\n",
      "runBowtieBuild(num,rep,error,r,g)\n",
      "runBowtie(num,rep,error,r,g,num,rep,error,r,g,model)\n",
      "r = \"10\"\n",
      "runBowtieBuild(num,rep,error,r,g)\n",
      "runBowtie(num,rep,error,r,g,num,rep,error,r,g,model)\n"
     ],
     "language": "python",
     "metadata": {},
     "outputs": []
    },
    {
     "cell_type": "code",
     "collapsed": false,
     "input": [
      "num = \"233\"\n",
      "rep = \"1\"\n",
      "error = \"1\"\n",
      "r = \"100\"\n",
      "g = \"100\"\n",
      "mode = \"default\"\n",
      "organism = \"chicken\"\n",
      "parseMapFile(num,rep,error,r,g,mode,organism)\n",
      "rep = \"2\"\n",
      "parseMapFile(num,rep,error,r,g,mode,organism)\n",
      "rep = \"3\"\n",
      "parseMapFile(num,rep,error,r,g,mode,organism)\n"
     ],
     "language": "python",
     "metadata": {},
     "outputs": []
    },
    {
     "cell_type": "code",
     "collapsed": false,
     "input": [
      "defaultTp = {}\n",
      "num = \"233\"\n",
      "rep = \"1\"\n",
      "error = \"1\"\n",
      "r = \"100\"\n",
      "id = \"075chick100Trans\"\n",
      "defaultTp[rep] = getTransLevelErrors(num,rep,error,r,g)\n",
      "rep = \"2\"\n",
      "defaultTp[rep] = getTransLevelErrors(num,rep,error,r,g)\n",
      "rep = \"3\"\n",
      "defaultTp[rep] = getTransLevelErrors(num,rep,error,r,g)\n",
      "print id\n",
      "defaultAvgTp[id] = sum([defaultTp[\"1\"], defaultTp[\"2\"], defaultTp[\"3\"]]) / 3\n",
      "print \"Average Percent Transcripts Accurate: \", defaultAvgTp[id]\n"
     ],
     "language": "python",
     "metadata": {},
     "outputs": [
      {
       "output_type": "stream",
       "stream": "stdout",
       "text": [
        "075chick100Trans\n",
        "Average Percent Transcripts Accurate:  76.0672218471\n"
       ]
      }
     ],
     "prompt_number": 122
    },
    {
     "cell_type": "code",
     "collapsed": false,
     "input": [
      "num = \"233\"\n",
      "rep = \"1\"\n",
      "error = \"1\"\n",
      "r = \"90\"\n",
      "g = \"100\"\n",
      "mode = \"default\"\n",
      "organism = \"chicken\"\n",
      "parseMapFile(num,rep,error,r,g,mode,organism)\n",
      "rep = \"2\"\n",
      "parseMapFile(num,rep,error,r,g,mode,organism)\n",
      "rep = \"3\"\n",
      "parseMapFile(num,rep,error,r,g,mode,organism)\n"
     ],
     "language": "python",
     "metadata": {},
     "outputs": []
    },
    {
     "cell_type": "code",
     "collapsed": false,
     "input": [
      "defaultTp = {}\n",
      "num = \"233\"\n",
      "rep = \"1\"\n",
      "error = \"1\"\n",
      "r = \"90\"\n",
      "id = \"075chick090Trans\"\n",
      "defaultTp[rep] = getTransLevelErrors(num,rep,error,r,g)\n",
      "rep = \"2\"\n",
      "defaultTp[rep] = getTransLevelErrors(num,rep,error,r,g)\n",
      "rep = \"3\"\n",
      "defaultTp[rep] = getTransLevelErrors(num,rep,error,r,g)\n",
      "print id\n",
      "defaultAvgTp[id] = sum([defaultTp[\"1\"], defaultTp[\"2\"], defaultTp[\"3\"]]) / 3\n",
      "print \"Average Percent Transcripts Accurate: \", defaultAvgTp[id]\n"
     ],
     "language": "python",
     "metadata": {},
     "outputs": [
      {
       "output_type": "stream",
       "stream": "stdout",
       "text": [
        "075chick090Trans\n",
        "Average Percent Transcripts Accurate:  71.6602895941\n"
       ]
      }
     ],
     "prompt_number": 123
    },
    {
     "cell_type": "code",
     "collapsed": false,
     "input": [
      "num = \"233\"\n",
      "rep = \"1\"\n",
      "error = \"1\"\n",
      "r = \"80\"\n",
      "g = \"100\"\n",
      "mode = \"default\"\n",
      "organism = \"chicken\"\n",
      "parseMapFile(num,rep,error,r,g,mode,organism)\n",
      "rep = \"2\"\n",
      "parseMapFile(num,rep,error,r,g,mode,organism)\n",
      "rep = \"3\"\n",
      "parseMapFile(num,rep,error,r,g,mode,organism)\n"
     ],
     "language": "python",
     "metadata": {},
     "outputs": []
    },
    {
     "cell_type": "code",
     "collapsed": false,
     "input": [
      "defaultTp = {}\n",
      "num = \"233\"\n",
      "rep = \"1\"\n",
      "error = \"1\"\n",
      "r = \"80\"\n",
      "id = \"075chick080Trans\"\n",
      "defaultTp[rep] = getTransLevelErrors(num,rep,error,r,g)\n",
      "rep = \"2\"\n",
      "defaultTp[rep] = getTransLevelErrors(num,rep,error,r,g)\n",
      "rep = \"3\"\n",
      "defaultTp[rep] = getTransLevelErrors(num,rep,error,r,g)\n",
      "print id\n",
      "defaultAvgTp[id] = sum([defaultTp[\"1\"], defaultTp[\"2\"], defaultTp[\"3\"]]) / 3\n",
      "print \"Average Percent Transcripts Accurate: \", defaultAvgTp[id]\n"
     ],
     "language": "python",
     "metadata": {},
     "outputs": [
      {
       "output_type": "stream",
       "stream": "stdout",
       "text": [
        "075chick080Trans\n",
        "Average Percent Transcripts Accurate:  66.8632305499\n"
       ]
      }
     ],
     "prompt_number": 124
    },
    {
     "cell_type": "code",
     "collapsed": false,
     "input": [
      "num = \"233\"\n",
      "rep = \"1\"\n",
      "error = \"1\"\n",
      "r = \"70\"\n",
      "g = \"100\"\n",
      "mode = \"default\"\n",
      "organism = \"chicken\"\n",
      "parseMapFile(num,rep,error,r,g,mode,organism)\n",
      "rep = \"2\"\n",
      "parseMapFile(num,rep,error,r,g,mode,organism)\n",
      "rep = \"3\"\n",
      "parseMapFile(num,rep,error,r,g,mode,organism)\n"
     ],
     "language": "python",
     "metadata": {},
     "outputs": []
    },
    {
     "cell_type": "code",
     "collapsed": false,
     "input": [
      "defaultTp = {}\n",
      "num = \"233\"\n",
      "rep = \"1\"\n",
      "error = \"1\"\n",
      "r = \"70\"\n",
      "id = \"075chick070Trans\"\n",
      "defaultTp[rep] = getTransLevelErrors(num,rep,error,r,g)\n",
      "rep = \"2\"\n",
      "defaultTp[rep] = getTransLevelErrors(num,rep,error,r,g)\n",
      "rep = \"3\"\n",
      "defaultTp[rep] = getTransLevelErrors(num,rep,error,r,g)\n",
      "print id\n",
      "defaultAvgTp[id] = sum([defaultTp[\"1\"], defaultTp[\"2\"], defaultTp[\"3\"]]) / 3\n",
      "print \"Average Percent Transcripts Accurate: \", defaultAvgTp[id]\n"
     ],
     "language": "python",
     "metadata": {},
     "outputs": [
      {
       "output_type": "stream",
       "stream": "stdout",
       "text": [
        "075chick070Trans\n",
        "Average Percent Transcripts Accurate:  61.8486007953\n"
       ]
      }
     ],
     "prompt_number": 125
    },
    {
     "cell_type": "code",
     "collapsed": false,
     "input": [
      "num = \"233\"\n",
      "rep = \"1\"\n",
      "error = \"1\"\n",
      "r = \"60\"\n",
      "g = \"100\"\n",
      "mode = \"default\"\n",
      "organism = \"chicken\"\n",
      "parseMapFile(num,rep,error,r,g,mode,organism)\n",
      "rep = \"2\"\n",
      "parseMapFile(num,rep,error,r,g,mode,organism)\n",
      "rep = \"3\"\n",
      "parseMapFile(num,rep,error,r,g,mode,organism)\n"
     ],
     "language": "python",
     "metadata": {},
     "outputs": []
    },
    {
     "cell_type": "code",
     "collapsed": false,
     "input": [
      "defaultTp = {}\n",
      "num = \"233\"\n",
      "rep = \"1\"\n",
      "error = \"1\"\n",
      "r = \"60\"\n",
      "id = \"075chick060Trans\"\n",
      "defaultTp[rep] = getTransLevelErrors(num,rep,error,r,g)\n",
      "rep = \"2\"\n",
      "defaultTp[rep] = getTransLevelErrors(num,rep,error,r,g)\n",
      "rep = \"3\"\n",
      "defaultTp[rep] = getTransLevelErrors(num,rep,error,r,g)\n",
      "print id\n",
      "defaultAvgTp[id] = sum([defaultTp[\"1\"], defaultTp[\"2\"], defaultTp[\"3\"]]) / 3\n",
      "print \"Average Percent Transcripts Accurate: \", defaultAvgTp[id]\n"
     ],
     "language": "python",
     "metadata": {},
     "outputs": [
      {
       "output_type": "stream",
       "stream": "stdout",
       "text": [
        "075chick060Trans\n",
        "Average Percent Transcripts Accurate:  56.5353739965\n"
       ]
      }
     ],
     "prompt_number": 126
    },
    {
     "cell_type": "code",
     "collapsed": false,
     "input": [
      "num = \"233\"\n",
      "rep = \"1\"\n",
      "error = \"1\"\n",
      "r = \"50\"\n",
      "g = \"100\"\n",
      "mode = \"default\"\n",
      "organism = \"chicken\"\n",
      "parseMapFile(num,rep,error,r,g,mode,organism)\n",
      "rep = \"2\"\n",
      "parseMapFile(num,rep,error,r,g,mode,organism)\n",
      "rep = \"3\"\n",
      "parseMapFile(num,rep,error,r,g,mode,organism)\n"
     ],
     "language": "python",
     "metadata": {},
     "outputs": []
    },
    {
     "cell_type": "code",
     "collapsed": false,
     "input": [
      "defaultTp = {}\n",
      "num = \"233\"\n",
      "rep = \"1\"\n",
      "error = \"1\"\n",
      "r = \"50\"\n",
      "id = \"075chick050Trans\"\n",
      "defaultTp[rep] = getTransLevelErrors(num,rep,error,r,g)\n",
      "rep = \"2\"\n",
      "defaultTp[rep] = getTransLevelErrors(num,rep,error,r,g)\n",
      "rep = \"3\"\n",
      "defaultTp[rep] = getTransLevelErrors(num,rep,error,r,g)\n",
      "print id\n",
      "defaultAvgTp[id] = sum([defaultTp[\"1\"], defaultTp[\"2\"], defaultTp[\"3\"]]) / 3\n",
      "print \"Average Percent Transcripts Accurate: \", defaultAvgTp[id]\n"
     ],
     "language": "python",
     "metadata": {},
     "outputs": [
      {
       "output_type": "stream",
       "stream": "stdout",
       "text": [
        "075chick050Trans\n",
        "Average Percent Transcripts Accurate:  50.7179833446\n"
       ]
      }
     ],
     "prompt_number": 127
    },
    {
     "cell_type": "code",
     "collapsed": false,
     "input": [
      "num = \"233\"\n",
      "rep = \"1\"\n",
      "error = \"1\"\n",
      "r = \"40\"\n",
      "g = \"100\"\n",
      "mode = \"default\"\n",
      "organism = \"chicken\"\n",
      "parseMapFile(num,rep,error,r,g,mode,organism)\n",
      "rep = \"2\"\n",
      "parseMapFile(num,rep,error,r,g,mode,organism)\n",
      "rep = \"3\"\n",
      "parseMapFile(num,rep,error,r,g,mode,organism)\n"
     ],
     "language": "python",
     "metadata": {},
     "outputs": []
    },
    {
     "cell_type": "code",
     "collapsed": false,
     "input": [
      "defaultTp = {}\n",
      "num = \"233\"\n",
      "rep = \"1\"\n",
      "error = \"1\"\n",
      "r = \"40\"\n",
      "id = \"075chick040Trans\"\n",
      "defaultTp[rep] = getTransLevelErrors(num,rep,error,r,g)\n",
      "rep = \"2\"\n",
      "defaultTp[rep] = getTransLevelErrors(num,rep,error,r,g)\n",
      "rep = \"3\"\n",
      "defaultTp[rep] = getTransLevelErrors(num,rep,error,r,g)\n",
      "print id\n",
      "defaultAvgTp[id] = sum([defaultTp[\"1\"], defaultTp[\"2\"], defaultTp[\"3\"]]) / 3\n",
      "print \"Average Percent Transcripts Accurate: \", defaultAvgTp[id]\n"
     ],
     "language": "python",
     "metadata": {},
     "outputs": [
      {
       "output_type": "stream",
       "stream": "stdout",
       "text": [
        "075chick040Trans\n",
        "Average Percent Transcripts Accurate:  44.577987846\n"
       ]
      }
     ],
     "prompt_number": 128
    },
    {
     "cell_type": "code",
     "collapsed": false,
     "input": [
      "num = \"233\"\n",
      "rep = \"1\"\n",
      "error = \"1\"\n",
      "r = \"30\"\n",
      "g = \"100\"\n",
      "mode = \"default\"\n",
      "organism = \"chicken\"\n",
      "parseMapFile(num,rep,error,r,g,mode,organism)\n",
      "rep = \"2\"\n",
      "parseMapFile(num,rep,error,r,g,mode,organism)\n",
      "rep = \"3\"\n",
      "parseMapFile(num,rep,error,r,g,mode,organism)\n"
     ],
     "language": "python",
     "metadata": {},
     "outputs": []
    },
    {
     "cell_type": "code",
     "collapsed": false,
     "input": [
      "defaultTp = {}\n",
      "num = \"233\"\n",
      "rep = \"1\"\n",
      "error = \"1\"\n",
      "r = \"30\"\n",
      "id = \"075chick030Trans\"\n",
      "defaultTp[rep] = getTransLevelErrors(num,rep,error,r,g)\n",
      "rep = \"2\"\n",
      "defaultTp[rep] = getTransLevelErrors(num,rep,error,r,g)\n",
      "rep = \"3\"\n",
      "defaultTp[rep] = getTransLevelErrors(num,rep,error,r,g)\n",
      "print id\n",
      "defaultAvgTp[id] = sum([defaultTp[\"1\"], defaultTp[\"2\"], defaultTp[\"3\"]]) / 3\n",
      "print \"Average Percent Transcripts Accurate: \", defaultAvgTp[id]\n"
     ],
     "language": "python",
     "metadata": {},
     "outputs": [
      {
       "output_type": "stream",
       "stream": "stdout",
       "text": [
        "075chick030Trans\n",
        "Average Percent Transcripts Accurate:  37.8888138645\n"
       ]
      }
     ],
     "prompt_number": 129
    },
    {
     "cell_type": "code",
     "collapsed": false,
     "input": [
      "num = \"233\"\n",
      "rep = \"1\"\n",
      "error = \"1\"\n",
      "r = \"20\"\n",
      "g = \"100\"\n",
      "mode = \"default\"\n",
      "organism = \"chicken\"\n",
      "parseMapFile(num,rep,error,r,g,mode,organism)\n",
      "rep = \"2\"\n",
      "parseMapFile(num,rep,error,r,g,mode,organism)\n",
      "rep = \"3\"\n",
      "parseMapFile(num,rep,error,r,g,mode,organism)\n"
     ],
     "language": "python",
     "metadata": {},
     "outputs": []
    },
    {
     "cell_type": "code",
     "collapsed": false,
     "input": [
      "defaultTp = {}\n",
      "num = \"233\"\n",
      "rep = \"1\"\n",
      "error = \"1\"\n",
      "r = \"20\"\n",
      "id = \"075chick020Trans\"\n",
      "defaultTp[rep] = getTransLevelErrors(num,rep,error,r,g)\n",
      "rep = \"2\"\n",
      "defaultTp[rep] = getTransLevelErrors(num,rep,error,r,g)\n",
      "rep = \"3\"\n",
      "defaultTp[rep] = getTransLevelErrors(num,rep,error,r,g)\n",
      "print id\n",
      "defaultAvgTp[id] = sum([defaultTp[\"1\"], defaultTp[\"2\"], defaultTp[\"3\"]]) / 3\n",
      "print \"Average Percent Transcripts Accurate: \", defaultAvgTp[id]\n"
     ],
     "language": "python",
     "metadata": {},
     "outputs": [
      {
       "output_type": "stream",
       "stream": "stdout",
       "text": [
        "075chick020Trans\n",
        "Average Percent Transcripts Accurate:  30.7374896841\n"
       ]
      }
     ],
     "prompt_number": 130
    },
    {
     "cell_type": "code",
     "collapsed": false,
     "input": [
      "num = \"233\"\n",
      "rep = \"1\"\n",
      "error = \"1\"\n",
      "r = \"10\"\n",
      "g = \"100\"\n",
      "mode = \"default\"\n",
      "organism = \"chicken\"\n",
      "parseMapFile(num,rep,error,r,g,mode,organism)\n",
      "rep = \"2\"\n",
      "parseMapFile(num,rep,error,r,g,mode,organism)\n",
      "rep = \"3\"\n",
      "parseMapFile(num,rep,error,r,g,mode,organism)\n"
     ],
     "language": "python",
     "metadata": {},
     "outputs": []
    },
    {
     "cell_type": "code",
     "collapsed": false,
     "input": [
      "defaultTp = {}\n",
      "num = \"233\"\n",
      "rep = \"1\"\n",
      "error = \"1\"\n",
      "r = \"10\"\n",
      "id = \"075chick010Trans\"\n",
      "defaultTp[rep] = getTransLevelErrors(num,rep,error,r,g)\n",
      "rep = \"2\"\n",
      "defaultTp[rep] = getTransLevelErrors(num,rep,error,r,g)\n",
      "rep = \"3\"\n",
      "defaultTp[rep] = getTransLevelErrors(num,rep,error,r,g)\n",
      "print id\n",
      "defaultAvgTp[id] = sum([defaultTp[\"1\"], defaultTp[\"2\"], defaultTp[\"3\"]]) / 3\n",
      "print \"Average Percent Transcripts Accurate: \", defaultAvgTp[id]\n"
     ],
     "language": "python",
     "metadata": {},
     "outputs": [
      {
       "output_type": "stream",
       "stream": "stdout",
       "text": [
        "075chick010Trans\n",
        "Average Percent Transcripts Accurate:  23.0219821442\n"
       ]
      }
     ],
     "prompt_number": 131
    },
    {
     "cell_type": "raw",
     "metadata": {},
     "source": [
      "Chicken transcriptome, 100% expression, single end 100 bp reads, {0 10 100 100}x expression"
     ]
    },
    {
     "cell_type": "code",
     "collapsed": false,
     "input": [
      "num = \"232\"\n",
      "rep = \"1\"\n",
      "createDataSet(num,rep)\n",
      "!grep '>' DataSet232rep1E1R100G100.fa | wc -l\n",
      "rep = \"2\"\n",
      "createDataSet(num,rep)\n",
      "!grep '>' DataSet232rep2E1R100G100.fa | wc -l\n",
      "rep = \"3\"\n",
      "createDataSet(num,rep)\n",
      "!grep '>' DataSet232rep3E1R100G100.fa | wc -l\n"
     ],
     "language": "python",
     "metadata": {},
     "outputs": []
    },
    {
     "cell_type": "code",
     "collapsed": false,
     "input": [
      "error = \"1\"\n",
      "r = \"100\"\n",
      "g = \"100\"\n",
      "rep = \"1\"\n",
      "mode = \"default\"\n",
      "org = \"chicken\"\n",
      "runBowtieBuild(num,rep,error,r,g)\n",
      "runBowtie(num,rep,error,r,g,num,rep,error,r,g,mode)\n",
      "r = \"90\"\n",
      "runBowtieBuild(num,rep,error,r,g)\n",
      "runBowtie(num,rep,error,r,g,num,rep,error,r,g,mode)\n",
      "r = \"80\"\n",
      "runBowtieBuild(num,rep,error,r,g)\n",
      "runBowtie(num,rep,error,r,g,num,rep,error,r,g,model)\n",
      "r = \"70\"\n",
      "runBowtieBuild(num,rep,error,r,g)\n",
      "runBowtie(num,rep,error,r,g,num,rep,error,r,g,model)\n",
      "r = \"60\"\n",
      "runBowtieBuild(num,rep,error,r,g)\n",
      "runBowtie(num,rep,error,r,g,num,rep,error,r,g,model)\n",
      "r = \"50\"\n",
      "runBowtieBuild(num,rep,error,r,g)\n",
      "runBowtie(num,rep,error,r,g,num,rep,error,r,g,model)\n",
      "r = \"40\"\n",
      "runBowtieBuild(num,rep,error,r,g)\n",
      "runBowtie(num,rep,error,r,g,num,rep,error,r,g,model)\n",
      "r = \"30\"\n",
      "runBowtieBuild(num,rep,error,r,g)\n",
      "runBowtie(num,rep,error,r,g,num,rep,error,r,g,model)\n",
      "r = \"20\"\n",
      "runBowtieBuild(num,rep,error,r,g)\n",
      "runBowtie(num,rep,error,r,g,num,rep,error,r,g,model)\n",
      "r = \"10\"\n",
      "runBowtieBuild(num,rep,error,r,g)\n",
      "runBowtie(num,rep,error,r,g,num,rep,error,r,g,model)\n",
      "rep = \"2\"\n",
      "runBowtieBuild(num,rep,error,r,g)\n",
      "runBowtie(num,rep,error,r,g,num,rep,error,r,g,model)\n",
      "r = \"90\"\n",
      "runBowtieBuild(num,rep,error,r,g)\n",
      "runBowtie(num,rep,error,r,g,num,rep,error,r,g,model)\n",
      "r = \"80\"\n",
      "runBowtieBuild(num,rep,error,r,g)\n",
      "runBowtie(num,rep,error,r,g,num,rep,error,r,g,model)\n",
      "r = \"70\"\n",
      "runBowtieBuild(num,rep,error,r,g)\n",
      "runBowtie(num,rep,error,r,g,num,rep,error,r,g,model)\n",
      "r = \"60\"\n",
      "runBowtieBuild(num,rep,error,r,g)\n",
      "runBowtie(num,rep,error,r,g,num,rep,error,r,g,model)\n",
      "r = \"50\"\n",
      "runBowtieBuild(num,rep,error,r,g)\n",
      "runBowtie(num,rep,error,r,g,num,rep,error,r,g,model)\n",
      "r = \"40\"\n",
      "runBowtieBuild(num,rep,error,r,g)\n",
      "runBowtie(num,rep,error,r,g,num,rep,error,r,g,model)\n",
      "r = \"30\"\n",
      "runBowtieBuild(num,rep,error,r,g)\n",
      "runBowtie(num,rep,error,r,g,num,rep,error,r,g,model)\n",
      "r = \"20\"\n",
      "runBowtieBuild(num,rep,error,r,g)\n",
      "runBowtie(num,rep,error,r,g,num,rep,error,r,g,model)\n",
      "r = \"10\"\n",
      "runBowtieBuild(num,rep,error,r,g)\n",
      "runBowtie(num,rep,error,r,g,num,rep,error,r,g,model)\n",
      "rep = \"3\"\n",
      "runBowtieBuild(num,rep,error,r,g)\n",
      "runBowtie(num,rep,error,r,g,num,rep,error,r,g,model)\n",
      "r = \"90\"\n",
      "runBowtieBuild(num,rep,error,r,g)\n",
      "runBowtie(num,rep,error,r,g,num,rep,error,r,g,model)\n",
      "r = \"80\"\n",
      "runBowtieBuild(num,rep,error,r,g)\n",
      "runBowtie(num,rep,error,r,g,num,rep,error,r,g,model)\n",
      "r = \"70\"\n",
      "runBowtieBuild(num,rep,error,r,g)\n",
      "runBowtie(num,rep,error,r,g,num,rep,error,r,g,model)\n",
      "r = \"60\"\n",
      "runBowtieBuild(num,rep,error,r,g)\n",
      "runBowtie(num,rep,error,r,g,num,rep,error,r,g,model)\n",
      "r = \"50\"\n",
      "runBowtieBuild(num,rep,error,r,g)\n",
      "runBowtie(num,rep,error,r,g,num,rep,error,r,g,model)\n",
      "r = \"40\"\n",
      "runBowtieBuild(num,rep,error,r,g)\n",
      "runBowtie(num,rep,error,r,g,num,rep,error,r,g,model)\n",
      "r = \"30\"\n",
      "runBowtieBuild(num,rep,error,r,g)\n",
      "runBowtie(num,rep,error,r,g,num,rep,error,r,g,model)\n",
      "r = \"20\"\n",
      "runBowtieBuild(num,rep,error,r,g)\n",
      "runBowtie(num,rep,error,r,g,num,rep,error,r,g,model)\n",
      "r = \"10\"\n",
      "runBowtieBuild(num,rep,error,r,g)\n",
      "runBowtie(num,rep,error,r,g,num,rep,error,r,g,model)\n"
     ],
     "language": "python",
     "metadata": {},
     "outputs": []
    },
    {
     "cell_type": "code",
     "collapsed": false,
     "input": [
      "num = \"232\"\n",
      "rep = \"1\"\n",
      "error = \"1\"\n",
      "r = \"100\"\n",
      "g = \"100\"\n",
      "mode = \"default\"\n",
      "organism = \"chicken\"\n",
      "parseMapFile(num,rep,error,r,g,mode,organism)\n",
      "rep = \"2\"\n",
      "parseMapFile(num,rep,error,r,g,mode,organism)\n",
      "rep = \"3\"\n",
      "parseMapFile(num,rep,error,r,g,mode,organism)\n"
     ],
     "language": "python",
     "metadata": {},
     "outputs": []
    },
    {
     "cell_type": "code",
     "collapsed": false,
     "input": [
      "defaultTp = {}\n",
      "num = \"232\"\n",
      "rep = \"1\"\n",
      "error = \"1\"\n",
      "r = \"100\"\n",
      "id = \"100chick100Trans\"\n",
      "defaultTp[rep] = getTransLevelErrors(num,rep,error,r,g)\n",
      "rep = \"2\"\n",
      "defaultTp[rep] = getTransLevelErrors(num,rep,error,r,g)\n",
      "rep = \"3\"\n",
      "defaultTp[rep] = getTransLevelErrors(num,rep,error,r,g)\n",
      "print id\n",
      "defaultAvgTp[id] = sum([defaultTp[\"1\"], defaultTp[\"2\"], defaultTp[\"3\"]]) / 3\n",
      "print \"Average Percent Transcripts Accurate: \", defaultAvgTp[id]\n"
     ],
     "language": "python",
     "metadata": {},
     "outputs": [
      {
       "output_type": "stream",
       "stream": "stdout",
       "text": [
        "100chick100Trans\n",
        "Average Percent Transcripts Accurate:  80.0945307225\n"
       ]
      }
     ],
     "prompt_number": 155
    },
    {
     "cell_type": "code",
     "collapsed": false,
     "input": [
      "num = \"232\"\n",
      "rep = \"1\"\n",
      "error = \"1\"\n",
      "r = \"90\"\n",
      "g = \"100\"\n",
      "mode = \"default\"\n",
      "organism = \"chicken\"\n",
      "parseMapFile(num,rep,error,r,g,mode,organism)\n",
      "rep = \"2\"\n",
      "parseMapFile(num,rep,error,r,g,mode,organism)\n",
      "rep = \"3\"\n",
      "parseMapFile(num,rep,error,r,g,mode,organism)\n"
     ],
     "language": "python",
     "metadata": {},
     "outputs": []
    },
    {
     "cell_type": "code",
     "collapsed": false,
     "input": [
      "defaultTp = {}\n",
      "num = \"232\"\n",
      "rep = \"1\"\n",
      "error = \"1\"\n",
      "r = \"90\"\n",
      "id = \"100chick090Trans\"\n",
      "defaultTp[rep] = getTransLevelErrors(num,rep,error,r,g)\n",
      "rep = \"2\"\n",
      "defaultTp[rep] = getTransLevelErrors(num,rep,error,r,g)\n",
      "rep = \"3\"\n",
      "defaultTp[rep] = getTransLevelErrors(num,rep,error,r,g)\n",
      "print id\n",
      "defaultAvgTp[id] = sum([defaultTp[\"1\"], defaultTp[\"2\"], defaultTp[\"3\"]]) / 3\n",
      "print \"Average Percent Transcripts Accurate: \", defaultAvgTp[id]\n"
     ],
     "language": "python",
     "metadata": {},
     "outputs": [
      {
       "output_type": "stream",
       "stream": "stdout",
       "text": [
        "100chick090Trans\n",
        "Average Percent Transcripts Accurate:  74.1330932553\n"
       ]
      }
     ],
     "prompt_number": 156
    },
    {
     "cell_type": "code",
     "collapsed": false,
     "input": [
      "num = \"232\"\n",
      "rep = \"1\"\n",
      "error = \"1\"\n",
      "r = \"80\"\n",
      "g = \"100\"\n",
      "mode = \"default\"\n",
      "organism = \"chicken\"\n",
      "parseMapFile(num,rep,error,r,g,mode,organism)\n",
      "rep = \"2\"\n",
      "parseMapFile(num,rep,error,r,g,mode,organism)\n",
      "rep = \"3\"\n",
      "parseMapFile(num,rep,error,r,g,mode,organism)\n"
     ],
     "language": "python",
     "metadata": {},
     "outputs": []
    },
    {
     "cell_type": "code",
     "collapsed": false,
     "input": [
      "defaultTp = {}\n",
      "num = \"232\"\n",
      "rep = \"1\"\n",
      "error = \"1\"\n",
      "r = \"80\"\n",
      "id = \"100chick080Trans\"\n",
      "defaultTp[rep] = getTransLevelErrors(num,rep,error,r,g)\n",
      "rep = \"2\"\n",
      "defaultTp[rep] = getTransLevelErrors(num,rep,error,r,g)\n",
      "rep = \"3\"\n",
      "defaultTp[rep] = getTransLevelErrors(num,rep,error,r,g)\n",
      "print id\n",
      "defaultAvgTp[id] = sum([defaultTp[\"1\"], defaultTp[\"2\"], defaultTp[\"3\"]]) / 3\n",
      "print \"Average Percent Transcripts Accurate: \", defaultAvgTp[id]\n"
     ],
     "language": "python",
     "metadata": {},
     "outputs": [
      {
       "output_type": "stream",
       "stream": "stdout",
       "text": [
        "100chick080Trans\n",
        "Average Percent Transcripts Accurate:  67.8760597194\n"
       ]
      }
     ],
     "prompt_number": 157
    },
    {
     "cell_type": "code",
     "collapsed": false,
     "input": [
      "num = \"232\"\n",
      "rep = \"1\"\n",
      "error = \"1\"\n",
      "r = \"70\"\n",
      "g = \"100\"\n",
      "mode = \"default\"\n",
      "organism = \"chicken\"\n",
      "parseMapFile(num,rep,error,r,g,mode,organism)\n",
      "rep = \"2\"\n",
      "parseMapFile(num,rep,error,r,g,mode,organism)\n",
      "rep = \"3\"\n",
      "parseMapFile(num,rep,error,r,g,mode,organism)\n"
     ],
     "language": "python",
     "metadata": {},
     "outputs": []
    },
    {
     "cell_type": "code",
     "collapsed": false,
     "input": [
      "defaultTp = {}\n",
      "num = \"232\"\n",
      "rep = \"1\"\n",
      "error = \"1\"\n",
      "r = \"70\"\n",
      "id = \"100chick070Trans\"\n",
      "defaultTp[rep] = getTransLevelErrors(num,rep,error,r,g)\n",
      "rep = \"2\"\n",
      "defaultTp[rep] = getTransLevelErrors(num,rep,error,r,g)\n",
      "rep = \"3\"\n",
      "defaultTp[rep] = getTransLevelErrors(num,rep,error,r,g)\n",
      "print id\n",
      "defaultAvgTp[id] = sum([defaultTp[\"1\"], defaultTp[\"2\"], defaultTp[\"3\"]]) / 3\n",
      "print \"Average Percent Transcripts Accurate: \", defaultAvgTp[id]\n"
     ],
     "language": "python",
     "metadata": {},
     "outputs": [
      {
       "output_type": "stream",
       "stream": "stdout",
       "text": [
        "100chick070Trans\n",
        "Average Percent Transcripts Accurate:  61.0518418486\n"
       ]
      }
     ],
     "prompt_number": 158
    },
    {
     "cell_type": "code",
     "collapsed": false,
     "input": [
      "num = \"232\"\n",
      "rep = \"1\"\n",
      "error = \"1\"\n",
      "r = \"60\"\n",
      "g = \"100\"\n",
      "mode = \"default\"\n",
      "organism = \"chicken\"\n",
      "parseMapFile(num,rep,error,r,g,mode,organism)\n",
      "rep = \"2\"\n",
      "parseMapFile(num,rep,error,r,g,mode,organism)\n",
      "rep = \"3\"\n",
      "parseMapFile(num,rep,error,r,g,mode,organism)\n"
     ],
     "language": "python",
     "metadata": {},
     "outputs": []
    },
    {
     "cell_type": "code",
     "collapsed": false,
     "input": [
      "defaultTp = {}\n",
      "num = \"232\"\n",
      "rep = \"1\"\n",
      "error = \"1\"\n",
      "r = \"60\"\n",
      "id = \"100chick060Trans\"\n",
      "defaultTp[rep] = getTransLevelErrors(num,rep,error,r,g)\n",
      "rep = \"2\"\n",
      "defaultTp[rep] = getTransLevelErrors(num,rep,error,r,g)\n",
      "rep = \"3\"\n",
      "defaultTp[rep] = getTransLevelErrors(num,rep,error,r,g)\n",
      "print id\n",
      "defaultAvgTp[id] = sum([defaultTp[\"1\"], defaultTp[\"2\"], defaultTp[\"3\"]]) / 3\n",
      "print \"Average Percent Transcripts Accurate: \", defaultAvgTp[id]\n"
     ],
     "language": "python",
     "metadata": {},
     "outputs": [
      {
       "output_type": "stream",
       "stream": "stdout",
       "text": [
        "100chick060Trans\n",
        "Average Percent Transcripts Accurate:  54.0970815515\n"
       ]
      }
     ],
     "prompt_number": 159
    },
    {
     "cell_type": "code",
     "collapsed": false,
     "input": [
      "num = \"232\"\n",
      "rep = \"1\"\n",
      "error = \"1\"\n",
      "r = \"50\"\n",
      "g = \"100\"\n",
      "mode = \"default\"\n",
      "organism = \"chicken\"\n",
      "parseMapFile(num,rep,error,r,g,mode,organism)\n",
      "rep = \"2\"\n",
      "parseMapFile(num,rep,error,r,g,mode,organism)\n",
      "rep = \"3\"\n",
      "parseMapFile(num,rep,error,r,g,mode,organism)\n"
     ],
     "language": "python",
     "metadata": {},
     "outputs": []
    },
    {
     "cell_type": "code",
     "collapsed": false,
     "input": [
      "defaultTp = {}\n",
      "num = \"232\"\n",
      "rep = \"1\"\n",
      "error = \"1\"\n",
      "r = \"50\"\n",
      "id = \"100chick050Trans\"\n",
      "defaultTp[rep] = getTransLevelErrors(num,rep,error,r,g)\n",
      "rep = \"2\"\n",
      "defaultTp[rep] = getTransLevelErrors(num,rep,error,r,g)\n",
      "rep = \"3\"\n",
      "defaultTp[rep] = getTransLevelErrors(num,rep,error,r,g)\n",
      "print id\n",
      "defaultAvgTp[id] = sum([defaultTp[\"1\"], defaultTp[\"2\"], defaultTp[\"3\"]]) / 3\n",
      "print \"Average Percent Transcripts Accurate: \", defaultAvgTp[id]\n"
     ],
     "language": "python",
     "metadata": {},
     "outputs": [
      {
       "output_type": "stream",
       "stream": "stdout",
       "text": [
        "100chick050Trans\n",
        "Average Percent Transcripts Accurate:  46.5016130242\n"
       ]
      }
     ],
     "prompt_number": 160
    },
    {
     "cell_type": "code",
     "collapsed": false,
     "input": [
      "num = \"232\"\n",
      "rep = \"1\"\n",
      "error = \"1\"\n",
      "r = \"40\"\n",
      "g = \"100\"\n",
      "mode = \"default\"\n",
      "organism = \"chicken\"\n",
      "parseMapFile(num,rep,error,r,g,mode,organism)\n",
      "rep = \"2\"\n",
      "parseMapFile(num,rep,error,r,g,mode,organism)\n",
      "rep = \"3\"\n",
      "parseMapFile(num,rep,error,r,g,mode,organism)\n"
     ],
     "language": "python",
     "metadata": {},
     "outputs": []
    },
    {
     "cell_type": "code",
     "collapsed": false,
     "input": [
      "defaultTp = {}\n",
      "num = \"232\"\n",
      "rep = \"1\"\n",
      "error = \"1\"\n",
      "r = \"40\"\n",
      "id = \"100chick040Trans\"\n",
      "defaultTp[rep] = getTransLevelErrors(num,rep,error,r,g)\n",
      "rep = \"2\"\n",
      "defaultTp[rep] = getTransLevelErrors(num,rep,error,r,g)\n",
      "rep = \"3\"\n",
      "defaultTp[rep] = getTransLevelErrors(num,rep,error,r,g)\n",
      "print id\n",
      "defaultAvgTp[id] = sum([defaultTp[\"1\"], defaultTp[\"2\"], defaultTp[\"3\"]]) / 3\n",
      "print \"Average Percent Transcripts Accurate: \", defaultAvgTp[id]\n"
     ],
     "language": "python",
     "metadata": {},
     "outputs": [
      {
       "output_type": "stream",
       "stream": "stdout",
       "text": [
        "100chick040Trans\n",
        "Average Percent Transcripts Accurate:  38.5430264836\n"
       ]
      }
     ],
     "prompt_number": 162
    },
    {
     "cell_type": "code",
     "collapsed": false,
     "input": [
      "num = \"232\"\n",
      "rep = \"1\"\n",
      "error = \"1\"\n",
      "r = \"30\"\n",
      "g = \"100\"\n",
      "mode = \"default\"\n",
      "organism = \"chicken\"\n",
      "parseMapFile(num,rep,error,r,g,mode,organism)\n",
      "rep = \"2\"\n",
      "parseMapFile(num,rep,error,r,g,mode,organism)\n",
      "rep = \"3\"\n",
      "parseMapFile(num,rep,error,r,g,mode,organism)\n"
     ],
     "language": "python",
     "metadata": {},
     "outputs": []
    },
    {
     "cell_type": "code",
     "collapsed": false,
     "input": [
      "defaultTp = {}\n",
      "num = \"232\"\n",
      "rep = \"1\"\n",
      "error = \"1\"\n",
      "r = \"30\"\n",
      "id = \"100chick030Trans\"\n",
      "defaultTp[rep] = getTransLevelErrors(num,rep,error,r,g)\n",
      "rep = \"2\"\n",
      "defaultTp[rep] = getTransLevelErrors(num,rep,error,r,g)\n",
      "rep = \"3\"\n",
      "defaultTp[rep] = getTransLevelErrors(num,rep,error,r,g)\n",
      "print id\n",
      "defaultAvgTp[id] = sum([defaultTp[\"1\"], defaultTp[\"2\"], defaultTp[\"3\"]]) / 3\n",
      "print \"Average Percent Transcripts Accurate: \", defaultAvgTp[id]\n"
     ],
     "language": "python",
     "metadata": {},
     "outputs": [
      {
       "output_type": "stream",
       "stream": "stdout",
       "text": [
        "100chick030Trans\n",
        "Average Percent Transcripts Accurate:  29.8446995273\n"
       ]
      }
     ],
     "prompt_number": 163
    },
    {
     "cell_type": "code",
     "collapsed": false,
     "input": [
      "num = \"232\"\n",
      "rep = \"1\"\n",
      "error = \"1\"\n",
      "r = \"20\"\n",
      "g = \"100\"\n",
      "mode = \"default\"\n",
      "organism = \"chicken\"\n",
      "parseMapFile(num,rep,error,r,g,mode,organism)\n",
      "rep = \"2\"\n",
      "parseMapFile(num,rep,error,r,g,mode,organism)\n",
      "rep = \"3\"\n",
      "parseMapFile(num,rep,error,r,g,mode,organism)\n"
     ],
     "language": "python",
     "metadata": {},
     "outputs": []
    },
    {
     "cell_type": "code",
     "collapsed": false,
     "input": [
      "defaultTp = {}\n",
      "num = \"232\"\n",
      "rep = \"1\"\n",
      "error = \"1\"\n",
      "r = \"20\"\n",
      "id = \"100chick020Trans\"\n",
      "defaultTp[rep] = getTransLevelErrors(num,rep,error,r,g)\n",
      "rep = \"2\"\n",
      "defaultTp[rep] = getTransLevelErrors(num,rep,error,r,g)\n",
      "rep = \"3\"\n",
      "defaultTp[rep] = getTransLevelErrors(num,rep,error,r,g)\n",
      "print id\n",
      "defaultAvgTp[id] = sum([defaultTp[\"1\"], defaultTp[\"2\"], defaultTp[\"3\"]]) / 3\n",
      "print \"Average Percent Transcripts Accurate: \", defaultAvgTp[id]\n"
     ],
     "language": "python",
     "metadata": {},
     "outputs": [
      {
       "output_type": "stream",
       "stream": "stdout",
       "text": [
        "100chick020Trans\n",
        "Average Percent Transcripts Accurate:  20.7742516318\n"
       ]
      }
     ],
     "prompt_number": 166
    },
    {
     "cell_type": "code",
     "collapsed": false,
     "input": [
      "num = \"232\"\n",
      "rep = \"1\"\n",
      "error = \"1\"\n",
      "r = \"10\"\n",
      "g = \"100\"\n",
      "mode = \"default\"\n",
      "organism = \"chicken\"\n",
      "parseMapFile(num,rep,error,r,g,mode,organism)\n",
      "rep = \"2\"\n",
      "parseMapFile(num,rep,error,r,g,mode,organism)\n",
      "rep = \"3\"\n",
      "parseMapFile(num,rep,error,r,g,mode,organism)\n"
     ],
     "language": "python",
     "metadata": {},
     "outputs": []
    },
    {
     "cell_type": "code",
     "collapsed": false,
     "input": [
      "defaultTp = {}\n",
      "num = \"232\"\n",
      "rep = \"1\"\n",
      "error = \"1\"\n",
      "r = \"10\"\n",
      "id = \"100chick010Trans\"\n",
      "defaultTp[rep] = getTransLevelErrors(num,rep,error,r,g)\n",
      "rep = \"2\"\n",
      "defaultTp[rep] = getTransLevelErrors(num,rep,error,r,g)\n",
      "rep = \"3\"\n",
      "defaultTp[rep] = getTransLevelErrors(num,rep,error,r,g)\n",
      "print id\n",
      "defaultAvgTp[id] = sum([defaultTp[\"1\"], defaultTp[\"2\"], defaultTp[\"3\"]]) / 3\n",
      "print \"Average Percent Transcripts Accurate: \", defaultAvgTp[id]\n"
     ],
     "language": "python",
     "metadata": {},
     "outputs": [
      {
       "output_type": "stream",
       "stream": "stdout",
       "text": [
        "100chick010Trans\n",
        "Average Percent Transcripts Accurate:  10.9520594193\n"
       ]
      }
     ],
     "prompt_number": 167
    },
    {
     "cell_type": "code",
     "collapsed": false,
     "input": [
      "print \"Transcript Expression Accuracy for Chicken Transcriptome with Varying Percentages of Randomly Selected Transcript Expression (Single End Reads)\"\n",
      "print \"PercRefExpressed\\t10\\t20\\t30\\t40\\t50\\t60\\t70\\t80\\t90\\t100\"\n",
      "id = \"025\"\n",
      "print \"25\\t\\t\" + str(defaultAvgTp[id+\"chick010Trans\"])[0:5] + \"\\t\" + str(defaultAvgTp[id+\"chick020Trans\"])[0:5] + \"\\t\" + str(defaultAvgTp[id+\"chick030Trans\"])[0:5] + \"\\t\" + str(defaultAvgTp[id+\"chick040Trans\"])[0:5] + \"\\t\" + str(defaultAvgTp[id+\"chick050Trans\"])[0:5] + \"\\t\" + str(defaultAvgTp[id+\"chick060Trans\"])[0:5] + \"\\t\" + str(defaultAvgTp[id+\"chick070Trans\"])[0:5] + \"\\t\" + str(defaultAvgTp[id+\"chick080Trans\"])[0:5] + \"\\t\" + str(defaultAvgTp[id+\"chick090Trans\"])[0:5] + \"\\t\" + str(defaultAvgTp[id+\"chick100Trans\"])[0:5]\n",
      "id = \"050\"\n",
      "print \"50\\t\\t\" + str(defaultAvgTp[id+\"chick010Trans\"])[0:5] + \"\\t\" + str(defaultAvgTp[id+\"chick020Trans\"])[0:5] + \"\\t\" + str(defaultAvgTp[id+\"chick030Trans\"])[0:5] + \"\\t\" + str(defaultAvgTp[id+\"chick040Trans\"])[0:5] + \"\\t\" + str(defaultAvgTp[id+\"chick050Trans\"])[0:5] + \"\\t\" + str(defaultAvgTp[id+\"chick060Trans\"])[0:5] + \"\\t\" + str(defaultAvgTp[id+\"chick070Trans\"])[0:5] + \"\\t\" + str(defaultAvgTp[id+\"chick080Trans\"])[0:5] + \"\\t\" + str(defaultAvgTp[id+\"chick090Trans\"])[0:5] + \"\\t\" + str(defaultAvgTp[id+\"chick100Trans\"])[0:5]\n",
      "id = \"075\"\n",
      "print \"75\\t\\t\" + str(defaultAvgTp[id+\"chick010Trans\"])[0:5] + \"\\t\" + str(defaultAvgTp[id+\"chick020Trans\"])[0:5] + \"\\t\" + str(defaultAvgTp[id+\"chick030Trans\"])[0:5] + \"\\t\" + str(defaultAvgTp[id+\"chick040Trans\"])[0:5] + \"\\t\" + str(defaultAvgTp[id+\"chick050Trans\"])[0:5] + \"\\t\" + str(defaultAvgTp[id+\"chick060Trans\"])[0:5] + \"\\t\" + str(defaultAvgTp[id+\"chick070Trans\"])[0:5] + \"\\t\" + str(defaultAvgTp[id+\"chick080Trans\"])[0:5] + \"\\t\" + str(defaultAvgTp[id+\"chick090Trans\"])[0:5] + \"\\t\" + str(defaultAvgTp[id+\"chick100Trans\"])[0:5]\n",
      "id = \"100\"\n",
      "print \"100\\t\\t\" + str(defaultAvgTp[id+\"chick010Trans\"])[0:5] + \"\\t\" + str(defaultAvgTp[id+\"chick020Trans\"])[0:5] + \"\\t\" + str(defaultAvgTp[id+\"chick030Trans\"])[0:5] + \"\\t\" + str(defaultAvgTp[id+\"chick040Trans\"])[0:5] + \"\\t\" + str(defaultAvgTp[id+\"chick050Trans\"])[0:5] + \"\\t\" + str(defaultAvgTp[id+\"chick060Trans\"])[0:5] + \"\\t\" + str(defaultAvgTp[id+\"chick070Trans\"])[0:5] + \"\\t\" + str(defaultAvgTp[id+\"chick080Trans\"])[0:5] + \"\\t\" + str(defaultAvgTp[id+\"chick090Trans\"])[0:5] + \"\\t\" + str(defaultAvgTp[id+\"chick100Trans\"])[0:5]\n"
     ],
     "language": "python",
     "metadata": {},
     "outputs": [
      {
       "output_type": "stream",
       "stream": "stdout",
       "text": [
        "Transcript Expression Accuracy for Chicken Transcriptome with Varying Percentages of Randomly Selected Transcript Expression (Single End Reads)\n",
        "PercRefExpressed\t10\t20\t30\t40\t50\t60\t70\t80\t90\t100\n",
        "25\t\t63.78\t66.47\t69.00\t71.20\t73.51\t75.47\t77.08\t79.00\t80.46\t81.97\n",
        "50\t\t39.76\t45.10\t49.97\t54.62\t59.05\t63.03\t66.47\t69.87\t73.16\t76.15\n",
        "75\t\t23.02\t30.73\t37.88\t44.57\t50.71\t56.53\t61.84\t66.86\t71.66\t76.06\n",
        "100\t\t10.95\t20.77\t29.84\t38.54\t46.50\t54.09\t61.05\t67.87\t74.13\t80.09\n"
       ]
      }
     ],
     "prompt_number": 411
    },
    {
     "cell_type": "heading",
     "level": 6,
     "metadata": {},
     "source": [
      "Paired end read sets"
     ]
    },
    {
     "cell_type": "raw",
     "metadata": {},
     "source": [
      "Chicken transcriptome, 25% expression, paired end 100:50:100 bp reads, {0 10 100 1000}x expression"
     ]
    },
    {
     "cell_type": "code",
     "collapsed": false,
     "input": [
      "num = \"243\"\n",
      "rep = \"1\"\n",
      "createDataSet(num,rep)\n",
      "!grep '>' DataSet243rep1E1R100G100.fa | wc -l\n",
      "rep = \"2\"\n",
      "createDataSet(num,rep)\n",
      "!grep '>' DataSet243rep2E1R100G100.fa | wc -l\n",
      "rep = \"3\"\n",
      "createDataSet(num,rep)\n",
      "!grep '>' DataSet243rep3E1R100G100.fa | wc -l\n"
     ],
     "language": "python",
     "metadata": {},
     "outputs": []
    },
    {
     "cell_type": "code",
     "collapsed": false,
     "input": [
      "error = \"1\"\n",
      "r = \"100\"\n",
      "g = \"100\"\n",
      "rep = \"1\"\n",
      "mode = \"default\"\n",
      "org = \"chicken\"\n",
      "runBowtieBuild(num,rep,error,r,g)\n",
      "runBowtiePaired(num,rep,error,r,g,num,rep,error,r,g,mode)\n",
      "r = \"90\"\n",
      "runBowtieBuild(num,rep,error,r,g)\n",
      "runBowtiePaired(num,rep,error,r,g,num,rep,error,r,g,mode)\n",
      "r = \"80\"\n",
      "runBowtieBuild(num,rep,error,r,g)\n",
      "runBowtiePaired(num,rep,error,r,g,num,rep,error,r,g,mode)\n",
      "r = \"70\"\n",
      "runBowtieBuild(num,rep,error,r,g)\n",
      "runBowtiePaired(num,rep,error,r,g,num,rep,error,r,g,mode)\n",
      "r = \"60\"\n",
      "runBowtieBuild(num,rep,error,r,g)\n",
      "runBowtiePaired(num,rep,error,r,g,num,rep,error,r,g,mode)\n",
      "r = \"50\"\n",
      "runBowtieBuild(num,rep,error,r,g)\n",
      "runBowtiePaired(num,rep,error,r,g,num,rep,error,r,g,mode)\n",
      "r = \"40\"\n",
      "runBowtieBuild(num,rep,error,r,g)\n",
      "runBowtiePaired(num,rep,error,r,g,num,rep,error,r,g,mode)\n",
      "r = \"30\"\n",
      "runBowtieBuild(num,rep,error,r,g)\n",
      "runBowtiePaired(num,rep,error,r,g,num,rep,error,r,g,mode)\n",
      "r = \"20\"\n",
      "runBowtieBuild(num,rep,error,r,g)\n",
      "runBowtiePaired(num,rep,error,r,g,num,rep,error,r,g,mode)\n",
      "r = \"10\"\n",
      "runBowtieBuild(num,rep,error,r,g)\n",
      "runBowtiePaired(num,rep,error,r,g,num,rep,error,r,g,mode)\n",
      "rep = \"2\"\n",
      "runBowtieBuild(num,rep,error,r,g)\n",
      "runBowtiePaired(num,rep,error,r,g,num,rep,error,r,g,mode)\n",
      "r = \"90\"\n",
      "runBowtieBuild(num,rep,error,r,g)\n",
      "runBowtiePaired(num,rep,error,r,g,num,rep,error,r,g,mode)\n",
      "r = \"80\"\n",
      "runBowtieBuild(num,rep,error,r,g)\n",
      "runBowtiePaired(num,rep,error,r,g,num,rep,error,r,g,mode)\n",
      "r = \"70\"\n",
      "runBowtieBuild(num,rep,error,r,g)\n",
      "runBowtiePaired(num,rep,error,r,g,num,rep,error,r,g,mode)\n",
      "r = \"60\"\n",
      "runBowtieBuild(num,rep,error,r,g)\n",
      "runBowtiePaired(num,rep,error,r,g,num,rep,error,r,g,mode)\n",
      "r = \"50\"\n",
      "runBowtieBuild(num,rep,error,r,g)\n",
      "runBowtiePaired(num,rep,error,r,g,num,rep,error,r,g,mode)\n",
      "r = \"40\"\n",
      "runBowtieBuild(num,rep,error,r,g)\n",
      "runBowtiePaired(num,rep,error,r,g,num,rep,error,r,g,mode)\n",
      "r = \"30\"\n",
      "runBowtieBuild(num,rep,error,r,g)\n",
      "runBowtiePaired(num,rep,error,r,g,num,rep,error,r,g,mode)\n",
      "r = \"20\"\n",
      "runBowtieBuild(num,rep,error,r,g)\n",
      "runBowtiePaired(num,rep,error,r,g,num,rep,error,r,g,mode)\n",
      "r = \"10\"\n",
      "runBowtieBuild(num,rep,error,r,g)\n",
      "runBowtiePaired(num,rep,error,r,g,num,rep,error,r,g,mode)\n",
      "rep = \"3\"\n",
      "runBowtieBuild(num,rep,error,r,g)\n",
      "runBowtiePaired(num,rep,error,r,g,num,rep,error,r,g,mode)\n",
      "r = \"90\"\n",
      "runBowtieBuild(num,rep,error,r,g)\n",
      "runBowtiePaired(num,rep,error,r,g,num,rep,error,r,g,mode)\n",
      "r = \"80\"\n",
      "runBowtieBuild(num,rep,error,r,g)\n",
      "runBowtiePaired(num,rep,error,r,g,num,rep,error,r,g,mode)\n",
      "r = \"70\"\n",
      "runBowtieBuild(num,rep,error,r,g)\n",
      "runBowtiePaired(num,rep,error,r,g,num,rep,error,r,g,mode)\n",
      "r = \"60\"\n",
      "runBowtieBuild(num,rep,error,r,g)\n",
      "runBowtiePaired(num,rep,error,r,g,num,rep,error,r,g,mode)\n",
      "r = \"50\"\n",
      "runBowtieBuild(num,rep,error,r,g)\n",
      "runBowtiePaired(num,rep,error,r,g,num,rep,error,r,g,mode)\n",
      "r = \"40\"\n",
      "runBowtieBuild(num,rep,error,r,g)\n",
      "runBowtiePaired(num,rep,error,r,g,num,rep,error,r,g,mode)\n",
      "r = \"30\"\n",
      "runBowtieBuild(num,rep,error,r,g)\n",
      "runBowtiePaired(num,rep,error,r,g,num,rep,error,r,g,mode)\n",
      "r = \"20\"\n",
      "runBowtieBuild(num,rep,error,r,g)\n",
      "runBowtiePaired(num,rep,error,r,g,num,rep,error,r,g,mode)\n",
      "r = \"10\"\n",
      "runBowtieBuild(num,rep,error,r,g)\n",
      "runBowtiePaired(num,rep,error,r,g,num,rep,error,r,g,mode)\n"
     ],
     "language": "python",
     "metadata": {},
     "outputs": []
    },
    {
     "cell_type": "code",
     "collapsed": false,
     "input": [
      "num = \"243\"\n",
      "rep = \"1\"\n",
      "error = \"1\"\n",
      "r = \"100\"\n",
      "g = \"100\"\n",
      "mode = \"default\"\n",
      "organism = \"chicken\"\n",
      "parseMapFile(num,rep,error,r,g,mode,organism)\n",
      "rep = \"2\"\n",
      "parseMapFile(num,rep,error,r,g,mode,organism)\n",
      "rep = \"3\"\n",
      "parseMapFile(num,rep,error,r,g,mode,organism)\n"
     ],
     "language": "python",
     "metadata": {},
     "outputs": []
    },
    {
     "cell_type": "code",
     "collapsed": false,
     "input": [
      "defaultTp = {}\n",
      "num = \"243\"\n",
      "rep = \"1\"\n",
      "error = \"1\"\n",
      "r = \"100\"\n",
      "id = \"025chick100TransPe\"\n",
      "defaultTp[rep] = getTransLevelErrors(num,rep,error,r,g)\n",
      "rep = \"2\"\n",
      "defaultTp[rep] = getTransLevelErrors(num,rep,error,r,g)\n",
      "rep = \"3\"\n",
      "defaultTp[rep] = getTransLevelErrors(num,rep,error,r,g)\n",
      "print id\n",
      "defaultAvgTp[id] = sum([defaultTp[\"1\"], defaultTp[\"2\"], defaultTp[\"3\"]]) / 3\n",
      "print \"Average Percent Transcripts Accurate: \", defaultAvgTp[id]\n"
     ],
     "language": "python",
     "metadata": {},
     "outputs": [
      {
       "output_type": "stream",
       "stream": "stdout",
       "text": [
        "025chick100TransPe\n",
        "Average Percent Transcripts Accurate:  85.2449612403\n"
       ]
      }
     ],
     "prompt_number": 266
    },
    {
     "cell_type": "code",
     "collapsed": false,
     "input": [
      "num = \"243\"\n",
      "rep = \"1\"\n",
      "error = \"1\"\n",
      "r = \"90\"\n",
      "g = \"100\"\n",
      "mode = \"default\"\n",
      "organism = \"chicken\"\n",
      "parseMapFile(num,rep,error,r,g,mode,organism)\n",
      "rep = \"2\"\n",
      "parseMapFile(num,rep,error,r,g,mode,organism)\n",
      "rep = \"3\"\n",
      "parseMapFile(num,rep,error,r,g,mode,organism)\n"
     ],
     "language": "python",
     "metadata": {},
     "outputs": []
    },
    {
     "cell_type": "code",
     "collapsed": false,
     "input": [
      "defaultTp = {}\n",
      "num = \"243\"\n",
      "rep = \"1\"\n",
      "error = \"1\"\n",
      "r = \"90\"\n",
      "id = \"025chick090TransPe\"\n",
      "defaultTp[rep] = getTransLevelErrors(num,rep,error,r,g)\n",
      "rep = \"2\"\n",
      "defaultTp[rep] = getTransLevelErrors(num,rep,error,r,g)\n",
      "rep = \"3\"\n",
      "defaultTp[rep] = getTransLevelErrors(num,rep,error,r,g)\n",
      "print id\n",
      "defaultAvgTp[id] = sum([defaultTp[\"1\"], defaultTp[\"2\"], defaultTp[\"3\"]]) / 3\n",
      "print \"Average Percent Transcripts Accurate: \", defaultAvgTp[id]\n"
     ],
     "language": "python",
     "metadata": {},
     "outputs": [
      {
       "output_type": "stream",
       "stream": "stdout",
       "text": [
        "025chick090TransPe\n",
        "Average Percent Transcripts Accurate:  83.6914728682\n"
       ]
      }
     ],
     "prompt_number": 267
    },
    {
     "cell_type": "code",
     "collapsed": false,
     "input": [
      "num = \"243\"\n",
      "rep = \"1\"\n",
      "error = \"1\"\n",
      "r = \"80\"\n",
      "g = \"100\"\n",
      "mode = \"default\"\n",
      "organism = \"chicken\"\n",
      "parseMapFile(num,rep,error,r,g,mode,organism)\n",
      "rep = \"2\"\n",
      "parseMapFile(num,rep,error,r,g,mode,organism)\n",
      "rep = \"3\"\n",
      "parseMapFile(num,rep,error,r,g,mode,organism)\n"
     ],
     "language": "python",
     "metadata": {},
     "outputs": []
    },
    {
     "cell_type": "code",
     "collapsed": false,
     "input": [
      "defaultTp = {}\n",
      "num = \"243\"\n",
      "rep = \"1\"\n",
      "error = \"1\"\n",
      "r = \"80\"\n",
      "id = \"025chick080TransPe\"\n",
      "defaultTp[rep] = getTransLevelErrors(num,rep,error,r,g)\n",
      "rep = \"2\"\n",
      "defaultTp[rep] = getTransLevelErrors(num,rep,error,r,g)\n",
      "rep = \"3\"\n",
      "defaultTp[rep] = getTransLevelErrors(num,rep,error,r,g)\n",
      "print id\n",
      "defaultAvgTp[id] = sum([defaultTp[\"1\"], defaultTp[\"2\"], defaultTp[\"3\"]]) / 3\n",
      "print \"Average Percent Transcripts Accurate: \", defaultAvgTp[id]\n"
     ],
     "language": "python",
     "metadata": {},
     "outputs": [
      {
       "output_type": "stream",
       "stream": "stdout",
       "text": [
        "025chick080TransPe\n",
        "Average Percent Transcripts Accurate:  81.9705426357\n"
       ]
      }
     ],
     "prompt_number": 268
    },
    {
     "cell_type": "code",
     "collapsed": false,
     "input": [
      "num = \"243\"\n",
      "rep = \"1\"\n",
      "error = \"1\"\n",
      "r = \"70\"\n",
      "g = \"100\"\n",
      "mode = \"default\"\n",
      "organism = \"chicken\"\n",
      "parseMapFile(num,rep,error,r,g,mode,organism)\n",
      "rep = \"2\"\n",
      "parseMapFile(num,rep,error,r,g,mode,organism)\n",
      "rep = \"3\"\n",
      "parseMapFile(num,rep,error,r,g,mode,organism)\n"
     ],
     "language": "python",
     "metadata": {},
     "outputs": []
    },
    {
     "cell_type": "code",
     "collapsed": false,
     "input": [
      "defaultTp = {}\n",
      "num = \"243\"\n",
      "rep = \"1\"\n",
      "error = \"1\"\n",
      "r = \"70\"\n",
      "id = \"025chick070TransPe\"\n",
      "defaultTp[rep] = getTransLevelErrors(num,rep,error,r,g)\n",
      "rep = \"2\"\n",
      "defaultTp[rep] = getTransLevelErrors(num,rep,error,r,g)\n",
      "rep = \"3\"\n",
      "defaultTp[rep] = getTransLevelErrors(num,rep,error,r,g)\n",
      "print id\n",
      "defaultAvgTp[id] = sum([defaultTp[\"1\"], defaultTp[\"2\"], defaultTp[\"3\"]]) / 3\n",
      "print \"Average Percent Transcripts Accurate: \", defaultAvgTp[id]\n"
     ],
     "language": "python",
     "metadata": {},
     "outputs": [
      {
       "output_type": "stream",
       "stream": "stdout",
       "text": [
        "025chick070TransPe\n",
        "Average Percent Transcripts Accurate:  80.1379844961\n"
       ]
      }
     ],
     "prompt_number": 269
    },
    {
     "cell_type": "code",
     "collapsed": false,
     "input": [
      "num = \"243\"\n",
      "rep = \"1\"\n",
      "error = \"1\"\n",
      "r = \"60\"\n",
      "g = \"100\"\n",
      "mode = \"default\"\n",
      "organism = \"chicken\"\n",
      "parseMapFile(num,rep,error,r,g,mode,organism)\n",
      "rep = \"2\"\n",
      "parseMapFile(num,rep,error,r,g,mode,organism)\n",
      "rep = \"3\"\n",
      "parseMapFile(num,rep,error,r,g,mode,organism)\n"
     ],
     "language": "python",
     "metadata": {},
     "outputs": []
    },
    {
     "cell_type": "code",
     "collapsed": false,
     "input": [
      "defaultTp = {}\n",
      "num = \"243\"\n",
      "rep = \"1\"\n",
      "error = \"1\"\n",
      "r = \"60\"\n",
      "id = \"025chick060TransPe\"\n",
      "defaultTp[rep] = getTransLevelErrors(num,rep,error,r,g)\n",
      "rep = \"2\"\n",
      "defaultTp[rep] = getTransLevelErrors(num,rep,error,r,g)\n",
      "rep = \"3\"\n",
      "defaultTp[rep] = getTransLevelErrors(num,rep,error,r,g)\n",
      "print id\n",
      "defaultAvgTp[id] = sum([defaultTp[\"1\"], defaultTp[\"2\"], defaultTp[\"3\"]]) / 3\n",
      "print \"Average Percent Transcripts Accurate: \", defaultAvgTp[id]\n"
     ],
     "language": "python",
     "metadata": {},
     "outputs": [
      {
       "output_type": "stream",
       "stream": "stdout",
       "text": [
        "025chick060TransPe\n",
        "Average Percent Transcripts Accurate:  78.2310077519\n"
       ]
      }
     ],
     "prompt_number": 270
    },
    {
     "cell_type": "code",
     "collapsed": false,
     "input": [
      "num = \"243\"\n",
      "rep = \"1\"\n",
      "error = \"1\"\n",
      "r = \"50\"\n",
      "g = \"100\"\n",
      "mode = \"default\"\n",
      "organism = \"chicken\"\n",
      "parseMapFile(num,rep,error,r,g,mode,organism)\n",
      "rep = \"2\"\n",
      "parseMapFile(num,rep,error,r,g,mode,organism)\n",
      "rep = \"3\"\n",
      "parseMapFile(num,rep,error,r,g,mode,organism)\n"
     ],
     "language": "python",
     "metadata": {},
     "outputs": []
    },
    {
     "cell_type": "code",
     "collapsed": false,
     "input": [
      "defaultTp = {}\n",
      "num = \"243\"\n",
      "rep = \"1\"\n",
      "error = \"1\"\n",
      "r = \"50\"\n",
      "id = \"025chick050TransPe\"\n",
      "defaultTp[rep] = getTransLevelErrors(num,rep,error,r,g)\n",
      "rep = \"2\"\n",
      "defaultTp[rep] = getTransLevelErrors(num,rep,error,r,g)\n",
      "rep = \"3\"\n",
      "defaultTp[rep] = getTransLevelErrors(num,rep,error,r,g)\n",
      "print id\n",
      "defaultAvgTp[id] = sum([defaultTp[\"1\"], defaultTp[\"2\"], defaultTp[\"3\"]]) / 3\n",
      "print \"Average Percent Transcripts Accurate: \", defaultAvgTp[id]\n"
     ],
     "language": "python",
     "metadata": {},
     "outputs": [
      {
       "output_type": "stream",
       "stream": "stdout",
       "text": [
        "025chick050TransPe\n",
        "Average Percent Transcripts Accurate:  76.0945736434\n"
       ]
      }
     ],
     "prompt_number": 271
    },
    {
     "cell_type": "code",
     "collapsed": false,
     "input": [
      "num = \"243\"\n",
      "rep = \"1\"\n",
      "error = \"1\"\n",
      "r = \"40\"\n",
      "g = \"100\"\n",
      "mode = \"default\"\n",
      "organism = \"chicken\"\n",
      "parseMapFile(num,rep,error,r,g,mode,organism)\n",
      "rep = \"2\"\n",
      "parseMapFile(num,rep,error,r,g,mode,organism)\n",
      "rep = \"3\"\n",
      "parseMapFile(num,rep,error,r,g,mode,organism)\n"
     ],
     "language": "python",
     "metadata": {},
     "outputs": []
    },
    {
     "cell_type": "code",
     "collapsed": false,
     "input": [
      "defaultTp = {}\n",
      "num = \"243\"\n",
      "rep = \"1\"\n",
      "error = \"1\"\n",
      "r = \"40\"\n",
      "id = \"025chick040TransPe\"\n",
      "defaultTp[rep] = getTransLevelErrors(num,rep,error,r,g)\n",
      "rep = \"2\"\n",
      "defaultTp[rep] = getTransLevelErrors(num,rep,error,r,g)\n",
      "rep = \"3\"\n",
      "defaultTp[rep] = getTransLevelErrors(num,rep,error,r,g)\n",
      "print id\n",
      "defaultAvgTp[id] = sum([defaultTp[\"1\"], defaultTp[\"2\"], defaultTp[\"3\"]]) / 3\n",
      "print \"Average Percent Transcripts Accurate: \", defaultAvgTp[id]\n"
     ],
     "language": "python",
     "metadata": {},
     "outputs": [
      {
       "output_type": "stream",
       "stream": "stdout",
       "text": [
        "025chick040TransPe\n",
        "Average Percent Transcripts Accurate:  74.0\n"
       ]
      }
     ],
     "prompt_number": 272
    },
    {
     "cell_type": "code",
     "collapsed": false,
     "input": [
      "num = \"243\"\n",
      "rep = \"1\"\n",
      "error = \"1\"\n",
      "r = \"30\"\n",
      "g = \"100\"\n",
      "mode = \"default\"\n",
      "organism = \"chicken\"\n",
      "parseMapFile(num,rep,error,r,g,mode,organism)\n",
      "rep = \"2\"\n",
      "parseMapFile(num,rep,error,r,g,mode,organism)\n",
      "rep = \"3\"\n",
      "parseMapFile(num,rep,error,r,g,mode,organism)\n"
     ],
     "language": "python",
     "metadata": {},
     "outputs": []
    },
    {
     "cell_type": "code",
     "collapsed": false,
     "input": [
      "defaultTp = {}\n",
      "num = \"243\"\n",
      "rep = \"1\"\n",
      "error = \"1\"\n",
      "r = \"30\"\n",
      "id = \"025chick030TransPe\"\n",
      "defaultTp[rep] = getTransLevelErrors(num,rep,error,r,g)\n",
      "rep = \"2\"\n",
      "defaultTp[rep] = getTransLevelErrors(num,rep,error,r,g)\n",
      "rep = \"3\"\n",
      "defaultTp[rep] = getTransLevelErrors(num,rep,error,r,g)\n",
      "print id\n",
      "defaultAvgTp[id] = sum([defaultTp[\"1\"], defaultTp[\"2\"], defaultTp[\"3\"]]) / 3\n",
      "print \"Average Percent Transcripts Accurate: \", defaultAvgTp[id]\n"
     ],
     "language": "python",
     "metadata": {},
     "outputs": [
      {
       "output_type": "stream",
       "stream": "stdout",
       "text": [
        "025chick030TransPe\n",
        "Average Percent Transcripts Accurate:  71.4697674419\n"
       ]
      }
     ],
     "prompt_number": 273
    },
    {
     "cell_type": "code",
     "collapsed": false,
     "input": [
      "num = \"243\"\n",
      "rep = \"1\"\n",
      "error = \"1\"\n",
      "r = \"20\"\n",
      "g = \"100\"\n",
      "mode = \"default\"\n",
      "organism = \"chicken\"\n",
      "parseMapFile(num,rep,error,r,g,mode,organism)\n",
      "rep = \"2\"\n",
      "parseMapFile(num,rep,error,r,g,mode,organism)\n",
      "rep = \"3\"\n",
      "parseMapFile(num,rep,error,r,g,mode,organism)\n"
     ],
     "language": "python",
     "metadata": {},
     "outputs": []
    },
    {
     "cell_type": "code",
     "collapsed": false,
     "input": [
      "defaultTp = {}\n",
      "num = \"243\"\n",
      "rep = \"1\"\n",
      "error = \"1\"\n",
      "r = \"20\"\n",
      "id = \"025chick020TransPe\"\n",
      "defaultTp[rep] = getTransLevelErrors(num,rep,error,r,g)\n",
      "rep = \"2\"\n",
      "defaultTp[rep] = getTransLevelErrors(num,rep,error,r,g)\n",
      "rep = \"3\"\n",
      "defaultTp[rep] = getTransLevelErrors(num,rep,error,r,g)\n",
      "print id\n",
      "defaultAvgTp[id] = sum([defaultTp[\"1\"], defaultTp[\"2\"], defaultTp[\"3\"]]) / 3\n",
      "print \"Average Percent Transcripts Accurate: \", defaultAvgTp[id]\n"
     ],
     "language": "python",
     "metadata": {},
     "outputs": [
      {
       "output_type": "stream",
       "stream": "stdout",
       "text": [
        "025chick020TransPe\n",
        "Average Percent Transcripts Accurate:  69.1162790698\n"
       ]
      }
     ],
     "prompt_number": 274
    },
    {
     "cell_type": "code",
     "collapsed": false,
     "input": [
      "num = \"243\"\n",
      "rep = \"1\"\n",
      "error = \"1\"\n",
      "r = \"10\"\n",
      "g = \"100\"\n",
      "mode = \"default\"\n",
      "organism = \"chicken\"\n",
      "parseMapFile(num,rep,error,r,g,mode,organism)\n",
      "rep = \"2\"\n",
      "parseMapFile(num,rep,error,r,g,mode,organism)\n",
      "rep = \"3\"\n",
      "parseMapFile(num,rep,error,r,g,mode,organism)\n"
     ],
     "language": "python",
     "metadata": {},
     "outputs": []
    },
    {
     "cell_type": "code",
     "collapsed": false,
     "input": [
      "defaultTp = {}\n",
      "num = \"243\"\n",
      "rep = \"1\"\n",
      "error = \"1\"\n",
      "r = \"10\"\n",
      "id = \"025chick010TransPe\"\n",
      "defaultTp[rep] = getTransLevelErrors(num,rep,error,r,g)\n",
      "rep = \"2\"\n",
      "defaultTp[rep] = getTransLevelErrors(num,rep,error,r,g)\n",
      "rep = \"3\"\n",
      "defaultTp[rep] = getTransLevelErrors(num,rep,error,r,g)\n",
      "print id\n",
      "defaultAvgTp[id] = sum([defaultTp[\"1\"], defaultTp[\"2\"], defaultTp[\"3\"]]) / 3\n",
      "print \"Average Percent Transcripts Accurate: \", defaultAvgTp[id]\n"
     ],
     "language": "python",
     "metadata": {},
     "outputs": [
      {
       "output_type": "stream",
       "stream": "stdout",
       "text": [
        "025chick010TransPe\n",
        "Average Percent Transcripts Accurate:  66.4108527132\n"
       ]
      }
     ],
     "prompt_number": 275
    },
    {
     "cell_type": "raw",
     "metadata": {},
     "source": [
      "Chicken transcriptome, 50% expression, paired end 100:50:100 bp reads, {0 10 100 1000}x expression"
     ]
    },
    {
     "cell_type": "code",
     "collapsed": false,
     "input": [
      "num = \"242\"\n",
      "rep = \"1\"\n",
      "createDataSet(num,rep)\n",
      "!grep '>' DataSet242rep1E1R100G100.fa | wc -l\n",
      "rep = \"2\"\n",
      "createDataSet(num,rep)\n",
      "!grep '>' DataSet242rep2E1R100G100.fa | wc -l\n",
      "rep = \"3\"\n",
      "createDataSet(num,rep)\n",
      "!grep '>' DataSet242rep3E1R100G100.fa | wc -l\n"
     ],
     "language": "python",
     "metadata": {},
     "outputs": []
    },
    {
     "cell_type": "code",
     "collapsed": false,
     "input": [
      "error = \"1\"\n",
      "r = \"100\"\n",
      "g = \"100\"\n",
      "rep = \"1\"\n",
      "mode = \"default\"\n",
      "org = \"chicken\"\n",
      "runBowtieBuild(num,rep,error,r,g)\n",
      "runBowtiePaired(num,rep,error,r,g,num,rep,error,r,g,mode)\n",
      "r = \"90\"\n",
      "runBowtieBuild(num,rep,error,r,g)\n",
      "runBowtiePaired(num,rep,error,r,g,num,rep,error,r,g,mode)\n",
      "r = \"80\"\n",
      "runBowtieBuild(num,rep,error,r,g)\n",
      "runBowtiePaired(num,rep,error,r,g,num,rep,error,r,g,mode)\n",
      "r = \"70\"\n",
      "runBowtieBuild(num,rep,error,r,g)\n",
      "runBowtiePaired(num,rep,error,r,g,num,rep,error,r,g,mode)\n",
      "r = \"60\"\n",
      "runBowtieBuild(num,rep,error,r,g)\n",
      "runBowtiePaired(num,rep,error,r,g,num,rep,error,r,g,mode)\n",
      "r = \"50\"\n",
      "runBowtieBuild(num,rep,error,r,g)\n",
      "runBowtiePaired(num,rep,error,r,g,num,rep,error,r,g,mode)\n",
      "r = \"40\"\n",
      "runBowtieBuild(num,rep,error,r,g)\n",
      "runBowtiePaired(num,rep,error,r,g,num,rep,error,r,g,mode)\n",
      "r = \"30\"\n",
      "runBowtieBuild(num,rep,error,r,g)\n",
      "runBowtiePaired(num,rep,error,r,g,num,rep,error,r,g,mode)\n",
      "r = \"20\"\n",
      "runBowtieBuild(num,rep,error,r,g)\n",
      "runBowtiePaired(num,rep,error,r,g,num,rep,error,r,g,mode)\n",
      "r = \"10\"\n",
      "runBowtieBuild(num,rep,error,r,g)\n",
      "runBowtiePaired(num,rep,error,r,g,num,rep,error,r,g,mode)\n",
      "rep = \"2\"\n",
      "runBowtieBuild(num,rep,error,r,g)\n",
      "runBowtiePaired(num,rep,error,r,g,num,rep,error,r,g,mode)\n",
      "r = \"90\"\n",
      "runBowtieBuild(num,rep,error,r,g)\n",
      "runBowtiePaired(num,rep,error,r,g,num,rep,error,r,g,mode)\n",
      "r = \"80\"\n",
      "runBowtieBuild(num,rep,error,r,g)\n",
      "runBowtiePaired(num,rep,error,r,g,num,rep,error,r,g,mode)\n",
      "r = \"70\"\n",
      "runBowtieBuild(num,rep,error,r,g)\n",
      "runBowtiePaired(num,rep,error,r,g,num,rep,error,r,g,mode)\n",
      "r = \"60\"\n",
      "runBowtieBuild(num,rep,error,r,g)\n",
      "runBowtiePaired(num,rep,error,r,g,num,rep,error,r,g,mode)\n",
      "r = \"50\"\n",
      "runBowtieBuild(num,rep,error,r,g)\n",
      "runBowtiePaired(num,rep,error,r,g,num,rep,error,r,g,mode)\n",
      "r = \"40\"\n",
      "runBowtieBuild(num,rep,error,r,g)\n",
      "runBowtiePaired(num,rep,error,r,g,num,rep,error,r,g,mode)\n",
      "r = \"30\"\n",
      "runBowtieBuild(num,rep,error,r,g)\n",
      "runBowtiePaired(num,rep,error,r,g,num,rep,error,r,g,mode)\n",
      "r = \"20\"\n",
      "runBowtieBuild(num,rep,error,r,g)\n",
      "runBowtiePaired(num,rep,error,r,g,num,rep,error,r,g,mode)\n",
      "r = \"10\"\n",
      "runBowtieBuild(num,rep,error,r,g)\n",
      "runBowtiePaired(num,rep,error,r,g,num,rep,error,r,g,mode)\n",
      "rep = \"3\"\n",
      "runBowtieBuild(num,rep,error,r,g)\n",
      "runBowtiePaired(num,rep,error,r,g,num,rep,error,r,g,mode)\n",
      "r = \"90\"\n",
      "runBowtieBuild(num,rep,error,r,g)\n",
      "runBowtiePaired(num,rep,error,r,g,num,rep,error,r,g,mode)\n",
      "r = \"80\"\n",
      "runBowtieBuild(num,rep,error,r,g)\n",
      "runBowtiePaired(num,rep,error,r,g,num,rep,error,r,g,mode)\n",
      "r = \"70\"\n",
      "runBowtieBuild(num,rep,error,r,g)\n",
      "runBowtiePaired(num,rep,error,r,g,num,rep,error,r,g,mode)\n",
      "r = \"60\"\n",
      "runBowtieBuild(num,rep,error,r,g)\n",
      "runBowtiePaired(num,rep,error,r,g,num,rep,error,r,g,mode)\n",
      "r = \"50\"\n",
      "runBowtieBuild(num,rep,error,r,g)\n",
      "runBowtiePaired(num,rep,error,r,g,num,rep,error,r,g,mode)\n",
      "r = \"40\"\n",
      "runBowtieBuild(num,rep,error,r,g)\n",
      "runBowtiePaired(num,rep,error,r,g,num,rep,error,r,g,mode)\n",
      "r = \"30\"\n",
      "runBowtieBuild(num,rep,error,r,g)\n",
      "runBowtiePaired(num,rep,error,r,g,num,rep,error,r,g,mode)\n",
      "r = \"20\"\n",
      "runBowtieBuild(num,rep,error,r,g)\n",
      "runBowtiePaired(num,rep,error,r,g,num,rep,error,r,g,mode)\n",
      "r = \"10\"\n",
      "runBowtieBuild(num,rep,error,r,g)\n",
      "runBowtiePaired(num,rep,error,r,g,num,rep,error,r,g,mode)\n"
     ],
     "language": "python",
     "metadata": {},
     "outputs": []
    },
    {
     "cell_type": "code",
     "collapsed": false,
     "input": [
      "num = \"242\"\n",
      "rep = \"1\"\n",
      "error = \"1\"\n",
      "r = \"100\"\n",
      "g = \"100\"\n",
      "mode = \"default\"\n",
      "organism = \"chicken\"\n",
      "parseMapFile(num,rep,error,r,g,mode,organism)\n",
      "rep = \"2\"\n",
      "parseMapFile(num,rep,error,r,g,mode,organism)\n",
      "rep = \"3\"\n",
      "parseMapFile(num,rep,error,r,g,mode,organism)\n"
     ],
     "language": "python",
     "metadata": {},
     "outputs": []
    },
    {
     "cell_type": "code",
     "collapsed": false,
     "input": [
      "defaultTp = {}\n",
      "num = \"242\"\n",
      "rep = \"1\"\n",
      "error = \"1\"\n",
      "r = \"100\"\n",
      "id = \"050chick100TransPe\"\n",
      "defaultTp[rep] = getTransLevelErrors(num,rep,error,r,g)\n",
      "rep = \"2\"\n",
      "defaultTp[rep] = getTransLevelErrors(num,rep,error,r,g)\n",
      "rep = \"3\"\n",
      "defaultTp[rep] = getTransLevelErrors(num,rep,error,r,g)\n",
      "print id\n",
      "defaultAvgTp[id] = sum([defaultTp[\"1\"], defaultTp[\"2\"], defaultTp[\"3\"]]) / 3\n",
      "print \"Average Percent Transcripts Accurate: \", defaultAvgTp[id]\n"
     ],
     "language": "python",
     "metadata": {},
     "outputs": [
      {
       "output_type": "stream",
       "stream": "stdout",
       "text": [
        "050chick100TransPe\n",
        "Average Percent Transcripts Accurate:  79.7860465116\n"
       ]
      }
     ],
     "prompt_number": 256
    },
    {
     "cell_type": "code",
     "collapsed": false,
     "input": [
      "num = \"242\"\n",
      "rep = \"1\"\n",
      "error = \"1\"\n",
      "r = \"90\"\n",
      "g = \"100\"\n",
      "mode = \"default\"\n",
      "organism = \"chicken\"\n",
      "parseMapFile(num,rep,error,r,g,mode,organism)\n",
      "rep = \"2\"\n",
      "parseMapFile(num,rep,error,r,g,mode,organism)\n",
      "rep = \"3\"\n",
      "parseMapFile(num,rep,error,r,g,mode,organism)\n"
     ],
     "language": "python",
     "metadata": {},
     "outputs": []
    },
    {
     "cell_type": "code",
     "collapsed": false,
     "input": [
      "defaultTp = {}\n",
      "num = \"242\"\n",
      "rep = \"1\"\n",
      "error = \"1\"\n",
      "r = \"90\"\n",
      "id = \"050chick090TransPe\"\n",
      "defaultTp[rep] = getTransLevelErrors(num,rep,error,r,g)\n",
      "rep = \"2\"\n",
      "defaultTp[rep] = getTransLevelErrors(num,rep,error,r,g)\n",
      "rep = \"3\"\n",
      "defaultTp[rep] = getTransLevelErrors(num,rep,error,r,g)\n",
      "print id\n",
      "defaultAvgTp[id] = sum([defaultTp[\"1\"], defaultTp[\"2\"], defaultTp[\"3\"]]) / 3\n",
      "print \"Average Percent Transcripts Accurate: \", defaultAvgTp[id]\n"
     ],
     "language": "python",
     "metadata": {},
     "outputs": [
      {
       "output_type": "stream",
       "stream": "stdout",
       "text": [
        "050chick090TransPe\n",
        "Average Percent Transcripts Accurate:  76.5472868217\n"
       ]
      }
     ],
     "prompt_number": 257
    },
    {
     "cell_type": "code",
     "collapsed": false,
     "input": [
      "num = \"242\"\n",
      "rep = \"1\"\n",
      "error = \"1\"\n",
      "r = \"80\"\n",
      "g = \"100\"\n",
      "mode = \"default\"\n",
      "organism = \"chicken\"\n",
      "parseMapFile(num,rep,error,r,g,mode,organism)\n",
      "rep = \"2\"\n",
      "parseMapFile(num,rep,error,r,g,mode,organism)\n",
      "rep = \"3\"\n",
      "parseMapFile(num,rep,error,r,g,mode,organism)\n"
     ],
     "language": "python",
     "metadata": {},
     "outputs": []
    },
    {
     "cell_type": "code",
     "collapsed": false,
     "input": [
      "defaultTp = {}\n",
      "num = \"242\"\n",
      "rep = \"1\"\n",
      "error = \"1\"\n",
      "r = \"80\"\n",
      "id = \"050chick080TransPe\"\n",
      "defaultTp[rep] = getTransLevelErrors(num,rep,error,r,g)\n",
      "rep = \"2\"\n",
      "defaultTp[rep] = getTransLevelErrors(num,rep,error,r,g)\n",
      "rep = \"3\"\n",
      "defaultTp[rep] = getTransLevelErrors(num,rep,error,r,g)\n",
      "print id\n",
      "defaultAvgTp[id] = sum([defaultTp[\"1\"], defaultTp[\"2\"], defaultTp[\"3\"]]) / 3\n",
      "print \"Average Percent Transcripts Accurate: \", defaultAvgTp[id]\n"
     ],
     "language": "python",
     "metadata": {},
     "outputs": [
      {
       "output_type": "stream",
       "stream": "stdout",
       "text": [
        "050chick080TransPe\n",
        "Average Percent Transcripts Accurate:  73.1829457364\n"
       ]
      }
     ],
     "prompt_number": 258
    },
    {
     "cell_type": "code",
     "collapsed": false,
     "input": [
      "num = \"242\"\n",
      "rep = \"1\"\n",
      "error = \"1\"\n",
      "r = \"70\"\n",
      "g = \"100\"\n",
      "mode = \"default\"\n",
      "organism = \"chicken\"\n",
      "parseMapFile(num,rep,error,r,g,mode,organism)\n",
      "rep = \"2\"\n",
      "parseMapFile(num,rep,error,r,g,mode,organism)\n",
      "rep = \"3\"\n",
      "parseMapFile(num,rep,error,r,g,mode,organism)\n"
     ],
     "language": "python",
     "metadata": {},
     "outputs": []
    },
    {
     "cell_type": "code",
     "collapsed": false,
     "input": [
      "defaultTp = {}\n",
      "num = \"242\"\n",
      "rep = \"1\"\n",
      "error = \"1\"\n",
      "r = \"70\"\n",
      "id = \"050chick070TransPe\"\n",
      "defaultTp[rep] = getTransLevelErrors(num,rep,error,r,g)\n",
      "rep = \"2\"\n",
      "defaultTp[rep] = getTransLevelErrors(num,rep,error,r,g)\n",
      "rep = \"3\"\n",
      "defaultTp[rep] = getTransLevelErrors(num,rep,error,r,g)\n",
      "print id\n",
      "defaultAvgTp[id] = sum([defaultTp[\"1\"], defaultTp[\"2\"], defaultTp[\"3\"]]) / 3\n",
      "print \"Average Percent Transcripts Accurate: \", defaultAvgTp[id]\n"
     ],
     "language": "python",
     "metadata": {},
     "outputs": [
      {
       "output_type": "stream",
       "stream": "stdout",
       "text": [
        "050chick070TransPe\n",
        "Average Percent Transcripts Accurate:  69.5379844961\n"
       ]
      }
     ],
     "prompt_number": 259
    },
    {
     "cell_type": "code",
     "collapsed": false,
     "input": [
      "num = \"242\"\n",
      "rep = \"1\"\n",
      "error = \"1\"\n",
      "r = \"60\"\n",
      "g = \"100\"\n",
      "mode = \"default\"\n",
      "organism = \"chicken\"\n",
      "parseMapFile(num,rep,error,r,g,mode,organism)\n",
      "rep = \"2\"\n",
      "parseMapFile(num,rep,error,r,g,mode,organism)\n",
      "rep = \"3\"\n",
      "parseMapFile(num,rep,error,r,g,mode,organism)\n"
     ],
     "language": "python",
     "metadata": {},
     "outputs": []
    },
    {
     "cell_type": "code",
     "collapsed": false,
     "input": [
      "defaultTp = {}\n",
      "num = \"242\"\n",
      "rep = \"1\"\n",
      "error = \"1\"\n",
      "r = \"60\"\n",
      "id = \"050chick060TransPe\"\n",
      "defaultTp[rep] = getTransLevelErrors(num,rep,error,r,g)\n",
      "rep = \"2\"\n",
      "defaultTp[rep] = getTransLevelErrors(num,rep,error,r,g)\n",
      "rep = \"3\"\n",
      "defaultTp[rep] = getTransLevelErrors(num,rep,error,r,g)\n",
      "print id\n",
      "defaultAvgTp[id] = sum([defaultTp[\"1\"], defaultTp[\"2\"], defaultTp[\"3\"]]) / 3\n",
      "print \"Average Percent Transcripts Accurate: \", defaultAvgTp[id]\n"
     ],
     "language": "python",
     "metadata": {},
     "outputs": [
      {
       "output_type": "stream",
       "stream": "stdout",
       "text": [
        "050chick060TransPe\n",
        "Average Percent Transcripts Accurate:  65.6356589147\n"
       ]
      }
     ],
     "prompt_number": 260
    },
    {
     "cell_type": "code",
     "collapsed": false,
     "input": [
      "num = \"242\"\n",
      "rep = \"1\"\n",
      "error = \"1\"\n",
      "r = \"50\"\n",
      "g = \"100\"\n",
      "mode = \"default\"\n",
      "organism = \"chicken\"\n",
      "parseMapFile(num,rep,error,r,g,mode,organism)\n",
      "rep = \"2\"\n",
      "parseMapFile(num,rep,error,r,g,mode,organism)\n",
      "rep = \"3\"\n",
      "parseMapFile(num,rep,error,r,g,mode,organism)\n"
     ],
     "language": "python",
     "metadata": {},
     "outputs": []
    },
    {
     "cell_type": "code",
     "collapsed": false,
     "input": [
      "defaultTp = {}\n",
      "num = \"242\"\n",
      "rep = \"1\"\n",
      "error = \"1\"\n",
      "r = \"50\"\n",
      "id = \"050chick050TransPe\"\n",
      "defaultTp[rep] = getTransLevelErrors(num,rep,error,r,g)\n",
      "rep = \"2\"\n",
      "defaultTp[rep] = getTransLevelErrors(num,rep,error,r,g)\n",
      "rep = \"3\"\n",
      "defaultTp[rep] = getTransLevelErrors(num,rep,error,r,g)\n",
      "print id\n",
      "defaultAvgTp[id] = sum([defaultTp[\"1\"], defaultTp[\"2\"], defaultTp[\"3\"]]) / 3\n",
      "print \"Average Percent Transcripts Accurate: \", defaultAvgTp[id]\n"
     ],
     "language": "python",
     "metadata": {},
     "outputs": [
      {
       "output_type": "stream",
       "stream": "stdout",
       "text": [
        "050chick050TransPe\n",
        "Average Percent Transcripts Accurate:  61.7007751938\n"
       ]
      }
     ],
     "prompt_number": 261
    },
    {
     "cell_type": "code",
     "collapsed": false,
     "input": [
      "num = \"242\"\n",
      "rep = \"1\"\n",
      "error = \"1\"\n",
      "r = \"40\"\n",
      "g = \"100\"\n",
      "mode = \"default\"\n",
      "organism = \"chicken\"\n",
      "parseMapFile(num,rep,error,r,g,mode,organism)\n",
      "rep = \"2\"\n",
      "parseMapFile(num,rep,error,r,g,mode,organism)\n",
      "rep = \"3\"\n",
      "parseMapFile(num,rep,error,r,g,mode,organism)\n"
     ],
     "language": "python",
     "metadata": {},
     "outputs": []
    },
    {
     "cell_type": "code",
     "collapsed": false,
     "input": [
      "defaultTp = {}\n",
      "num = \"242\"\n",
      "rep = \"1\"\n",
      "error = \"1\"\n",
      "r = \"40\"\n",
      "id = \"050chick040TransPe\"\n",
      "defaultTp[rep] = getTransLevelErrors(num,rep,error,r,g)\n",
      "rep = \"2\"\n",
      "defaultTp[rep] = getTransLevelErrors(num,rep,error,r,g)\n",
      "rep = \"3\"\n",
      "defaultTp[rep] = getTransLevelErrors(num,rep,error,r,g)\n",
      "print id\n",
      "defaultAvgTp[id] = sum([defaultTp[\"1\"], defaultTp[\"2\"], defaultTp[\"3\"]]) / 3\n",
      "print \"Average Percent Transcripts Accurate: \", defaultAvgTp[id]\n"
     ],
     "language": "python",
     "metadata": {},
     "outputs": [
      {
       "output_type": "stream",
       "stream": "stdout",
       "text": [
        "050chick040TransPe\n",
        "Average Percent Transcripts Accurate:  57.2790697674\n"
       ]
      }
     ],
     "prompt_number": 262
    },
    {
     "cell_type": "code",
     "collapsed": false,
     "input": [
      "num = \"242\"\n",
      "rep = \"1\"\n",
      "error = \"1\"\n",
      "r = \"30\"\n",
      "g = \"100\"\n",
      "mode = \"default\"\n",
      "organism = \"chicken\"\n",
      "parseMapFile(num,rep,error,r,g,mode,organism)\n",
      "rep = \"2\"\n",
      "parseMapFile(num,rep,error,r,g,mode,organism)\n",
      "rep = \"3\"\n",
      "parseMapFile(num,rep,error,r,g,mode,organism)\n"
     ],
     "language": "python",
     "metadata": {},
     "outputs": []
    },
    {
     "cell_type": "code",
     "collapsed": false,
     "input": [
      "defaultTp = {}\n",
      "num = \"242\"\n",
      "rep = \"1\"\n",
      "error = \"1\"\n",
      "r = \"30\"\n",
      "id = \"050chick030TransPe\"\n",
      "defaultTp[rep] = getTransLevelErrors(num,rep,error,r,g)\n",
      "rep = \"2\"\n",
      "defaultTp[rep] = getTransLevelErrors(num,rep,error,r,g)\n",
      "rep = \"3\"\n",
      "defaultTp[rep] = getTransLevelErrors(num,rep,error,r,g)\n",
      "print id\n",
      "defaultAvgTp[id] = sum([defaultTp[\"1\"], defaultTp[\"2\"], defaultTp[\"3\"]]) / 3\n",
      "print \"Average Percent Transcripts Accurate: \", defaultAvgTp[id]\n"
     ],
     "language": "python",
     "metadata": {},
     "outputs": [
      {
       "output_type": "stream",
       "stream": "stdout",
       "text": [
        "050chick030TransPe\n",
        "Average Percent Transcripts Accurate:  52.4635658915\n"
       ]
      }
     ],
     "prompt_number": 263
    },
    {
     "cell_type": "code",
     "collapsed": false,
     "input": [
      "num = \"242\"\n",
      "rep = \"1\"\n",
      "error = \"1\"\n",
      "r = \"20\"\n",
      "g = \"100\"\n",
      "mode = \"default\"\n",
      "organism = \"chicken\"\n",
      "parseMapFile(num,rep,error,r,g,mode,organism)\n",
      "rep = \"2\"\n",
      "parseMapFile(num,rep,error,r,g,mode,organism)\n",
      "rep = \"3\"\n",
      "parseMapFile(num,rep,error,r,g,mode,organism)\n"
     ],
     "language": "python",
     "metadata": {},
     "outputs": []
    },
    {
     "cell_type": "code",
     "collapsed": false,
     "input": [
      "defaultTp = {}\n",
      "num = \"242\"\n",
      "rep = \"1\"\n",
      "error = \"1\"\n",
      "r = \"20\"\n",
      "id = \"050chick020TransPe\"\n",
      "defaultTp[rep] = getTransLevelErrors(num,rep,error,r,g)\n",
      "rep = \"2\"\n",
      "defaultTp[rep] = getTransLevelErrors(num,rep,error,r,g)\n",
      "rep = \"3\"\n",
      "defaultTp[rep] = getTransLevelErrors(num,rep,error,r,g)\n",
      "print id\n",
      "defaultAvgTp[id] = sum([defaultTp[\"1\"], defaultTp[\"2\"], defaultTp[\"3\"]]) / 3\n",
      "print \"Average Percent Transcripts Accurate: \", defaultAvgTp[id]\n"
     ],
     "language": "python",
     "metadata": {},
     "outputs": [
      {
       "output_type": "stream",
       "stream": "stdout",
       "text": [
        "050chick020TransPe\n",
        "Average Percent Transcripts Accurate:  47.5240310078\n"
       ]
      }
     ],
     "prompt_number": 264
    },
    {
     "cell_type": "code",
     "collapsed": false,
     "input": [
      "num = \"242\"\n",
      "rep = \"1\"\n",
      "error = \"1\"\n",
      "r = \"10\"\n",
      "g = \"100\"\n",
      "mode = \"default\"\n",
      "organism = \"chicken\"\n",
      "parseMapFile(num,rep,error,r,g,mode,organism)\n",
      "rep = \"2\"\n",
      "parseMapFile(num,rep,error,r,g,mode,organism)\n",
      "rep = \"3\"\n",
      "parseMapFile(num,rep,error,r,g,mode,organism)\n"
     ],
     "language": "python",
     "metadata": {},
     "outputs": []
    },
    {
     "cell_type": "code",
     "collapsed": false,
     "input": [
      "defaultTp = {}\n",
      "num = \"242\"\n",
      "rep = \"1\"\n",
      "error = \"1\"\n",
      "r = \"10\"\n",
      "id = \"050chick010TransPe\"\n",
      "defaultTp[rep] = getTransLevelErrors(num,rep,error,r,g)\n",
      "rep = \"2\"\n",
      "defaultTp[rep] = getTransLevelErrors(num,rep,error,r,g)\n",
      "rep = \"3\"\n",
      "defaultTp[rep] = getTransLevelErrors(num,rep,error,r,g)\n",
      "print id\n",
      "defaultAvgTp[id] = sum([defaultTp[\"1\"], defaultTp[\"2\"], defaultTp[\"3\"]]) / 3\n",
      "print \"Average Percent Transcripts Accurate: \", defaultAvgTp[id]\n"
     ],
     "language": "python",
     "metadata": {},
     "outputs": [
      {
       "output_type": "stream",
       "stream": "stdout",
       "text": [
        "050chick010TransPe\n",
        "Average Percent Transcripts Accurate:  40.3581395349\n"
       ]
      }
     ],
     "prompt_number": 265
    },
    {
     "cell_type": "raw",
     "metadata": {},
     "source": [
      "Chicken transcriptome, 75% expression, paired end 100:50:100 bp reads, {0 10 100 1000}x expression"
     ]
    },
    {
     "cell_type": "code",
     "collapsed": false,
     "input": [
      "num = \"244\"\n",
      "rep = \"1\"\n",
      "createDataSet(num,rep)\n",
      "!grep '>' DataSet244rep1E1R100G100.fa | wc -l\n",
      "rep = \"2\"\n",
      "createDataSet(num,rep)\n",
      "!grep '>' DataSet244rep2E1R100G100.fa | wc -l\n",
      "rep = \"3\"\n",
      "createDataSet(num,rep)\n",
      "!grep '>' DataSet244rep3E1R100G100.fa | wc -l\n"
     ],
     "language": "python",
     "metadata": {},
     "outputs": []
    },
    {
     "cell_type": "code",
     "collapsed": false,
     "input": [
      "error = \"1\"\n",
      "r = \"100\"\n",
      "g = \"100\"\n",
      "rep = \"1\"\n",
      "mode = \"default\"\n",
      "org = \"chicken\"\n",
      "runBowtieBuild(num,rep,error,r,g)\n",
      "runBowtiePaired(num,rep,error,r,g,num,rep,error,r,g,mode)\n",
      "r = \"90\"\n",
      "runBowtieBuild(num,rep,error,r,g)\n",
      "runBowtiePaired(num,rep,error,r,g,num,rep,error,r,g,mode)\n",
      "r = \"80\"\n",
      "runBowtieBuild(num,rep,error,r,g)\n",
      "runBowtiePaired(num,rep,error,r,g,num,rep,error,r,g,mode)\n",
      "r = \"70\"\n",
      "runBowtieBuild(num,rep,error,r,g)\n",
      "runBowtiePaired(num,rep,error,r,g,num,rep,error,r,g,mode)\n",
      "r = \"60\"\n",
      "runBowtieBuild(num,rep,error,r,g)\n",
      "runBowtiePaired(num,rep,error,r,g,num,rep,error,r,g,mode)\n",
      "r = \"50\"\n",
      "runBowtieBuild(num,rep,error,r,g)\n",
      "runBowtiePaired(num,rep,error,r,g,num,rep,error,r,g,mode)\n",
      "r = \"40\"\n",
      "runBowtieBuild(num,rep,error,r,g)\n",
      "runBowtiePaired(num,rep,error,r,g,num,rep,error,r,g,mode)\n",
      "r = \"30\"\n",
      "runBowtieBuild(num,rep,error,r,g)\n",
      "runBowtiePaired(num,rep,error,r,g,num,rep,error,r,g,mode)\n",
      "r = \"20\"\n",
      "runBowtieBuild(num,rep,error,r,g)\n",
      "runBowtiePaired(num,rep,error,r,g,num,rep,error,r,g,mode)\n",
      "r = \"10\"\n",
      "runBowtieBuild(num,rep,error,r,g)\n",
      "runBowtiePaired(num,rep,error,r,g,num,rep,error,r,g,mode)\n",
      "rep = \"2\"\n",
      "runBowtieBuild(num,rep,error,r,g)\n",
      "runBowtiePaired(num,rep,error,r,g,num,rep,error,r,g,mode)\n",
      "r = \"90\"\n",
      "runBowtieBuild(num,rep,error,r,g)\n",
      "runBowtiePaired(num,rep,error,r,g,num,rep,error,r,g,mode)\n",
      "r = \"80\"\n",
      "runBowtieBuild(num,rep,error,r,g)\n",
      "runBowtiePaired(num,rep,error,r,g,num,rep,error,r,g,mode)\n",
      "r = \"70\"\n",
      "runBowtieBuild(num,rep,error,r,g)\n",
      "runBowtiePaired(num,rep,error,r,g,num,rep,error,r,g,mode)\n",
      "r = \"60\"\n",
      "runBowtieBuild(num,rep,error,r,g)\n",
      "runBowtiePaired(num,rep,error,r,g,num,rep,error,r,g,mode)\n",
      "r = \"50\"\n",
      "runBowtieBuild(num,rep,error,r,g)\n",
      "runBowtiePaired(num,rep,error,r,g,num,rep,error,r,g,mode)\n",
      "r = \"40\"\n",
      "runBowtieBuild(num,rep,error,r,g)\n",
      "runBowtiePaired(num,rep,error,r,g,num,rep,error,r,g,mode)\n",
      "r = \"30\"\n",
      "runBowtieBuild(num,rep,error,r,g)\n",
      "runBowtiePaired(num,rep,error,r,g,num,rep,error,r,g,mode)\n",
      "r = \"20\"\n",
      "runBowtieBuild(num,rep,error,r,g)\n",
      "runBowtiePaired(num,rep,error,r,g,num,rep,error,r,g,mode)\n",
      "r = \"10\"\n",
      "runBowtieBuild(num,rep,error,r,g)\n",
      "runBowtiePaired(num,rep,error,r,g,num,rep,error,r,g,mode)\n",
      "rep = \"3\"\n",
      "runBowtieBuild(num,rep,error,r,g)\n",
      "runBowtiePaired(num,rep,error,r,g,num,rep,error,r,g,mode)\n",
      "r = \"90\"\n",
      "runBowtieBuild(num,rep,error,r,g)\n",
      "runBowtiePaired(num,rep,error,r,g,num,rep,error,r,g,mode)\n",
      "r = \"80\"\n",
      "runBowtieBuild(num,rep,error,r,g)\n",
      "runBowtiePaired(num,rep,error,r,g,num,rep,error,r,g,mode)\n",
      "r = \"70\"\n",
      "runBowtieBuild(num,rep,error,r,g)\n",
      "runBowtiePaired(num,rep,error,r,g,num,rep,error,r,g,mode)\n",
      "r = \"60\"\n",
      "runBowtieBuild(num,rep,error,r,g)\n",
      "runBowtiePaired(num,rep,error,r,g,num,rep,error,r,g,mode)\n",
      "r = \"50\"\n",
      "runBowtieBuild(num,rep,error,r,g)\n",
      "runBowtiePaired(num,rep,error,r,g,num,rep,error,r,g,mode)\n",
      "r = \"40\"\n",
      "runBowtieBuild(num,rep,error,r,g)\n",
      "runBowtiePaired(num,rep,error,r,g,num,rep,error,r,g,mode)\n",
      "r = \"30\"\n",
      "runBowtieBuild(num,rep,error,r,g)\n",
      "runBowtiePaired(num,rep,error,r,g,num,rep,error,r,g,mode)\n",
      "r = \"20\"\n",
      "runBowtieBuild(num,rep,error,r,g)\n",
      "runBowtiePaired(num,rep,error,r,g,num,rep,error,r,g,mode)\n",
      "r = \"10\"\n",
      "runBowtieBuild(num,rep,error,r,g)\n",
      "runBowtiePaired(num,rep,error,r,g,num,rep,error,r,g,mode)\n"
     ],
     "language": "python",
     "metadata": {},
     "outputs": []
    },
    {
     "cell_type": "code",
     "collapsed": false,
     "input": [
      "num = \"244\"\n",
      "rep = \"1\"\n",
      "error = \"1\"\n",
      "r = \"100\"\n",
      "g = \"100\"\n",
      "mode = \"default\"\n",
      "organism = \"chicken\"\n",
      "parseMapFile(num,rep,error,r,g,mode,organism)\n",
      "rep = \"2\"\n",
      "parseMapFile(num,rep,error,r,g,mode,organism)\n",
      "rep = \"3\"\n",
      "parseMapFile(num,rep,error,r,g,mode,organism)\n"
     ],
     "language": "python",
     "metadata": {},
     "outputs": []
    },
    {
     "cell_type": "code",
     "collapsed": false,
     "input": [
      "defaultTp = {}\n",
      "num = \"244\"\n",
      "rep = \"1\"\n",
      "error = \"1\"\n",
      "r = \"100\"\n",
      "id = \"075chick100TransPe\"\n",
      "defaultTp[rep] = getTransLevelErrors(num,rep,error,r,g)\n",
      "rep = \"2\"\n",
      "defaultTp[rep] = getTransLevelErrors(num,rep,error,r,g)\n",
      "rep = \"3\"\n",
      "defaultTp[rep] = getTransLevelErrors(num,rep,error,r,g)\n",
      "print id\n",
      "defaultAvgTp[id] = sum([defaultTp[\"1\"], defaultTp[\"2\"], defaultTp[\"3\"]]) / 3\n",
      "print \"Average Percent Transcripts Accurate: \", defaultAvgTp[id]\n"
     ],
     "language": "python",
     "metadata": {},
     "outputs": [
      {
       "output_type": "stream",
       "stream": "stdout",
       "text": [
        "075chick100TransPe\n",
        "Average Percent Transcripts Accurate:  79.5906976744\n"
       ]
      }
     ],
     "prompt_number": 278
    },
    {
     "cell_type": "code",
     "collapsed": false,
     "input": [
      "num = \"244\"\n",
      "rep = \"1\"\n",
      "error = \"1\"\n",
      "r = \"90\"\n",
      "g = \"100\"\n",
      "mode = \"default\"\n",
      "organism = \"chicken\"\n",
      "parseMapFile(num,rep,error,r,g,mode,organism)\n",
      "rep = \"2\"\n",
      "parseMapFile(num,rep,error,r,g,mode,organism)\n",
      "rep = \"3\"\n",
      "parseMapFile(num,rep,error,r,g,mode,organism)\n"
     ],
     "language": "python",
     "metadata": {},
     "outputs": []
    },
    {
     "cell_type": "code",
     "collapsed": false,
     "input": [
      "defaultTp = {}\n",
      "num = \"244\"\n",
      "rep = \"1\"\n",
      "error = \"1\"\n",
      "r = \"90\"\n",
      "id = \"075chick090TransPe\"\n",
      "defaultTp[rep] = getTransLevelErrors(num,rep,error,r,g)\n",
      "rep = \"2\"\n",
      "defaultTp[rep] = getTransLevelErrors(num,rep,error,r,g)\n",
      "rep = \"3\"\n",
      "defaultTp[rep] = getTransLevelErrors(num,rep,error,r,g)\n",
      "print id\n",
      "defaultAvgTp[id] = sum([defaultTp[\"1\"], defaultTp[\"2\"], defaultTp[\"3\"]]) / 3\n",
      "print \"Average Percent Transcripts Accurate: \", defaultAvgTp[id]\n"
     ],
     "language": "python",
     "metadata": {},
     "outputs": [
      {
       "output_type": "stream",
       "stream": "stdout",
       "text": [
        "075chick090TransPe\n",
        "Average Percent Transcripts Accurate:  74.7984496124\n"
       ]
      }
     ],
     "prompt_number": 279
    },
    {
     "cell_type": "code",
     "collapsed": false,
     "input": [
      "num = \"244\"\n",
      "rep = \"1\"\n",
      "error = \"1\"\n",
      "r = \"80\"\n",
      "g = \"100\"\n",
      "mode = \"default\"\n",
      "organism = \"chicken\"\n",
      "parseMapFile(num,rep,error,r,g,mode,organism)\n",
      "rep = \"2\"\n",
      "parseMapFile(num,rep,error,r,g,mode,organism)\n",
      "rep = \"3\"\n",
      "parseMapFile(num,rep,error,r,g,mode,organism)\n"
     ],
     "language": "python",
     "metadata": {},
     "outputs": []
    },
    {
     "cell_type": "code",
     "collapsed": false,
     "input": [
      "defaultTp = {}\n",
      "num = \"244\"\n",
      "rep = \"1\"\n",
      "error = \"1\"\n",
      "r = \"80\"\n",
      "id = \"075chick080TransPe\"\n",
      "defaultTp[rep] = getTransLevelErrors(num,rep,error,r,g)\n",
      "rep = \"2\"\n",
      "defaultTp[rep] = getTransLevelErrors(num,rep,error,r,g)\n",
      "rep = \"3\"\n",
      "defaultTp[rep] = getTransLevelErrors(num,rep,error,r,g)\n",
      "print id\n",
      "defaultAvgTp[id] = sum([defaultTp[\"1\"], defaultTp[\"2\"], defaultTp[\"3\"]]) / 3\n",
      "print \"Average Percent Transcripts Accurate: \", defaultAvgTp[id]\n"
     ],
     "language": "python",
     "metadata": {},
     "outputs": [
      {
       "output_type": "stream",
       "stream": "stdout",
       "text": [
        "075chick080TransPe\n",
        "Average Percent Transcripts Accurate:  69.7224806202\n"
       ]
      }
     ],
     "prompt_number": 280
    },
    {
     "cell_type": "code",
     "collapsed": false,
     "input": [
      "num = \"244\"\n",
      "rep = \"1\"\n",
      "error = \"1\"\n",
      "r = \"70\"\n",
      "g = \"100\"\n",
      "mode = \"default\"\n",
      "organism = \"chicken\"\n",
      "parseMapFile(num,rep,error,r,g,mode,organism)\n",
      "rep = \"2\"\n",
      "parseMapFile(num,rep,error,r,g,mode,organism)\n",
      "rep = \"3\"\n",
      "parseMapFile(num,rep,error,r,g,mode,organism)\n"
     ],
     "language": "python",
     "metadata": {},
     "outputs": []
    },
    {
     "cell_type": "code",
     "collapsed": false,
     "input": [
      "defaultTp = {}\n",
      "num = \"244\"\n",
      "rep = \"1\"\n",
      "error = \"1\"\n",
      "r = \"70\"\n",
      "id = \"075chick070TransPe\"\n",
      "defaultTp[rep] = getTransLevelErrors(num,rep,error,r,g)\n",
      "rep = \"2\"\n",
      "defaultTp[rep] = getTransLevelErrors(num,rep,error,r,g)\n",
      "rep = \"3\"\n",
      "defaultTp[rep] = getTransLevelErrors(num,rep,error,r,g)\n",
      "print id\n",
      "defaultAvgTp[id] = sum([defaultTp[\"1\"], defaultTp[\"2\"], defaultTp[\"3\"]]) / 3\n",
      "print \"Average Percent Transcripts Accurate: \", defaultAvgTp[id]\n"
     ],
     "language": "python",
     "metadata": {},
     "outputs": [
      {
       "output_type": "stream",
       "stream": "stdout",
       "text": [
        "075chick070TransPe\n",
        "Average Percent Transcripts Accurate:  64.2279069767\n"
       ]
      }
     ],
     "prompt_number": 281
    },
    {
     "cell_type": "code",
     "collapsed": false,
     "input": [
      "num = \"244\"\n",
      "rep = \"1\"\n",
      "error = \"1\"\n",
      "r = \"60\"\n",
      "g = \"100\"\n",
      "mode = \"default\"\n",
      "organism = \"chicken\"\n",
      "parseMapFile(num,rep,error,r,g,mode,organism)\n",
      "rep = \"2\"\n",
      "parseMapFile(num,rep,error,r,g,mode,organism)\n",
      "rep = \"3\"\n",
      "parseMapFile(num,rep,error,r,g,mode,organism)\n"
     ],
     "language": "python",
     "metadata": {},
     "outputs": []
    },
    {
     "cell_type": "code",
     "collapsed": false,
     "input": [
      "defaultTp = {}\n",
      "num = \"244\"\n",
      "rep = \"1\"\n",
      "error = \"1\"\n",
      "r = \"60\"\n",
      "id = \"075chick060TransPe\"\n",
      "defaultTp[rep] = getTransLevelErrors(num,rep,error,r,g)\n",
      "rep = \"2\"\n",
      "defaultTp[rep] = getTransLevelErrors(num,rep,error,r,g)\n",
      "rep = \"3\"\n",
      "defaultTp[rep] = getTransLevelErrors(num,rep,error,r,g)\n",
      "print id\n",
      "defaultAvgTp[id] = sum([defaultTp[\"1\"], defaultTp[\"2\"], defaultTp[\"3\"]]) / 3\n",
      "print \"Average Percent Transcripts Accurate: \", defaultAvgTp[id]\n"
     ],
     "language": "python",
     "metadata": {},
     "outputs": [
      {
       "output_type": "stream",
       "stream": "stdout",
       "text": [
        "075chick060TransPe\n",
        "Average Percent Transcripts Accurate:  58.4992248062\n"
       ]
      }
     ],
     "prompt_number": 282
    },
    {
     "cell_type": "code",
     "collapsed": false,
     "input": [
      "num = \"244\"\n",
      "rep = \"1\"\n",
      "error = \"1\"\n",
      "r = \"50\"\n",
      "g = \"100\"\n",
      "mode = \"default\"\n",
      "organism = \"chicken\"\n",
      "parseMapFile(num,rep,error,r,g,mode,organism)\n",
      "rep = \"2\"\n",
      "parseMapFile(num,rep,error,r,g,mode,organism)\n",
      "rep = \"3\"\n",
      "parseMapFile(num,rep,error,r,g,mode,organism)\n"
     ],
     "language": "python",
     "metadata": {},
     "outputs": []
    },
    {
     "cell_type": "code",
     "collapsed": false,
     "input": [
      "defaultTp = {}\n",
      "num = \"244\"\n",
      "rep = \"1\"\n",
      "error = \"1\"\n",
      "r = \"50\"\n",
      "id = \"075chick050TransPe\"\n",
      "defaultTp[rep] = getTransLevelErrors(num,rep,error,r,g)\n",
      "rep = \"2\"\n",
      "defaultTp[rep] = getTransLevelErrors(num,rep,error,r,g)\n",
      "rep = \"3\"\n",
      "defaultTp[rep] = getTransLevelErrors(num,rep,error,r,g)\n",
      "print id\n",
      "defaultAvgTp[id] = sum([defaultTp[\"1\"], defaultTp[\"2\"], defaultTp[\"3\"]]) / 3\n",
      "print \"Average Percent Transcripts Accurate: \", defaultAvgTp[id]\n"
     ],
     "language": "python",
     "metadata": {},
     "outputs": [
      {
       "output_type": "stream",
       "stream": "stdout",
       "text": [
        "075chick050TransPe\n",
        "Average Percent Transcripts Accurate:  52.4201550388\n"
       ]
      }
     ],
     "prompt_number": 283
    },
    {
     "cell_type": "code",
     "collapsed": false,
     "input": [
      "num = \"244\"\n",
      "rep = \"1\"\n",
      "error = \"1\"\n",
      "r = \"40\"\n",
      "g = \"100\"\n",
      "mode = \"default\"\n",
      "organism = \"chicken\"\n",
      "parseMapFile(num,rep,error,r,g,mode,organism)\n",
      "rep = \"2\"\n",
      "parseMapFile(num,rep,error,r,g,mode,organism)\n",
      "rep = \"3\"\n",
      "parseMapFile(num,rep,error,r,g,mode,organism)\n"
     ],
     "language": "python",
     "metadata": {},
     "outputs": []
    },
    {
     "cell_type": "code",
     "collapsed": false,
     "input": [
      "defaultTp = {}\n",
      "num = \"244\"\n",
      "rep = \"1\"\n",
      "error = \"1\"\n",
      "r = \"40\"\n",
      "id = \"075chick040TransPe\"\n",
      "defaultTp[rep] = getTransLevelErrors(num,rep,error,r,g)\n",
      "rep = \"2\"\n",
      "defaultTp[rep] = getTransLevelErrors(num,rep,error,r,g)\n",
      "rep = \"3\"\n",
      "defaultTp[rep] = getTransLevelErrors(num,rep,error,r,g)\n",
      "print id\n",
      "defaultAvgTp[id] = sum([defaultTp[\"1\"], defaultTp[\"2\"], defaultTp[\"3\"]]) / 3\n",
      "print \"Average Percent Transcripts Accurate: \", defaultAvgTp[id]\n"
     ],
     "language": "python",
     "metadata": {},
     "outputs": [
      {
       "output_type": "stream",
       "stream": "stdout",
       "text": [
        "075chick040TransPe\n",
        "Average Percent Transcripts Accurate:  45.8930232558\n"
       ]
      }
     ],
     "prompt_number": 284
    },
    {
     "cell_type": "code",
     "collapsed": false,
     "input": [
      "num = \"244\"\n",
      "rep = \"1\"\n",
      "error = \"1\"\n",
      "r = \"30\"\n",
      "g = \"100\"\n",
      "mode = \"default\"\n",
      "organism = \"chicken\"\n",
      "parseMapFile(num,rep,error,r,g,mode,organism)\n",
      "rep = \"2\"\n",
      "parseMapFile(num,rep,error,r,g,mode,organism)\n",
      "rep = \"3\"\n",
      "parseMapFile(num,rep,error,r,g,mode,organism)\n"
     ],
     "language": "python",
     "metadata": {},
     "outputs": []
    },
    {
     "cell_type": "code",
     "collapsed": false,
     "input": [
      "defaultTp = {}\n",
      "num = \"244\"\n",
      "rep = \"1\"\n",
      "error = \"1\"\n",
      "r = \"30\"\n",
      "id = \"075chick030TransPe\"\n",
      "defaultTp[rep] = getTransLevelErrors(num,rep,error,r,g)\n",
      "rep = \"2\"\n",
      "defaultTp[rep] = getTransLevelErrors(num,rep,error,r,g)\n",
      "rep = \"3\"\n",
      "defaultTp[rep] = getTransLevelErrors(num,rep,error,r,g)\n",
      "print id\n",
      "defaultAvgTp[id] = sum([defaultTp[\"1\"], defaultTp[\"2\"], defaultTp[\"3\"]]) / 3\n",
      "print \"Average Percent Transcripts Accurate: \", defaultAvgTp[id]\n"
     ],
     "language": "python",
     "metadata": {},
     "outputs": [
      {
       "output_type": "stream",
       "stream": "stdout",
       "text": [
        "075chick030TransPe\n",
        "Average Percent Transcripts Accurate:  39.1209302326\n"
       ]
      }
     ],
     "prompt_number": 285
    },
    {
     "cell_type": "code",
     "collapsed": false,
     "input": [
      "num = \"244\"\n",
      "rep = \"1\"\n",
      "error = \"1\"\n",
      "r = \"20\"\n",
      "g = \"100\"\n",
      "mode = \"default\"\n",
      "organism = \"chicken\"\n",
      "parseMapFile(num,rep,error,r,g,mode,organism)\n",
      "rep = \"2\"\n",
      "parseMapFile(num,rep,error,r,g,mode,organism)\n",
      "rep = \"3\"\n",
      "parseMapFile(num,rep,error,r,g,mode,organism)\n"
     ],
     "language": "python",
     "metadata": {},
     "outputs": []
    },
    {
     "cell_type": "code",
     "collapsed": false,
     "input": [
      "defaultTp = {}\n",
      "num = \"244\"\n",
      "rep = \"1\"\n",
      "error = \"1\"\n",
      "r = \"20\"\n",
      "id = \"075chick020TransPe\"\n",
      "defaultTp[rep] = getTransLevelErrors(num,rep,error,r,g)\n",
      "rep = \"2\"\n",
      "defaultTp[rep] = getTransLevelErrors(num,rep,error,r,g)\n",
      "rep = \"3\"\n",
      "defaultTp[rep] = getTransLevelErrors(num,rep,error,r,g)\n",
      "print id\n",
      "defaultAvgTp[id] = sum([defaultTp[\"1\"], defaultTp[\"2\"], defaultTp[\"3\"]]) / 3\n",
      "print \"Average Percent Transcripts Accurate: \", defaultAvgTp[id]\n"
     ],
     "language": "python",
     "metadata": {},
     "outputs": [
      {
       "output_type": "stream",
       "stream": "stdout",
       "text": [
        "075chick020TransPe\n",
        "Average Percent Transcripts Accurate:  31.8728682171\n"
       ]
      }
     ],
     "prompt_number": 286
    },
    {
     "cell_type": "code",
     "collapsed": false,
     "input": [
      "num = \"244\"\n",
      "rep = \"1\"\n",
      "error = \"1\"\n",
      "r = \"10\"\n",
      "g = \"100\"\n",
      "mode = \"default\"\n",
      "organism = \"chicken\"\n",
      "parseMapFile(num,rep,error,r,g,mode,organism)\n",
      "rep = \"2\"\n",
      "parseMapFile(num,rep,error,r,g,mode,organism)\n",
      "rep = \"3\"\n",
      "parseMapFile(num,rep,error,r,g,mode,organism)\n"
     ],
     "language": "python",
     "metadata": {},
     "outputs": []
    },
    {
     "cell_type": "code",
     "collapsed": false,
     "input": [
      "defaultTp = {}\n",
      "num = \"244\"\n",
      "rep = \"1\"\n",
      "error = \"1\"\n",
      "r = \"10\"\n",
      "id = \"075chick010TransPe\"\n",
      "defaultTp[rep] = getTransLevelErrors(num,rep,error,r,g)\n",
      "rep = \"2\"\n",
      "defaultTp[rep] = getTransLevelErrors(num,rep,error,r,g)\n",
      "rep = \"3\"\n",
      "defaultTp[rep] = getTransLevelErrors(num,rep,error,r,g)\n",
      "print id\n",
      "defaultAvgTp[id] = sum([defaultTp[\"1\"], defaultTp[\"2\"], defaultTp[\"3\"]]) / 3\n",
      "print \"Average Percent Transcripts Accurate: \", defaultAvgTp[id]\n"
     ],
     "language": "python",
     "metadata": {},
     "outputs": [
      {
       "output_type": "stream",
       "stream": "stdout",
       "text": [
        "075chick010TransPe\n",
        "Average Percent Transcripts Accurate:  24.0310077519\n"
       ]
      }
     ],
     "prompt_number": 287
    },
    {
     "cell_type": "raw",
     "metadata": {},
     "source": [
      "Chicken transcriptome, 100% expression, paired end 100:50:100 bp reads, {0 10 100 1000}x expression"
     ]
    },
    {
     "cell_type": "code",
     "collapsed": false,
     "input": [
      "num = \"245\"\n",
      "rep = \"1\"\n",
      "createDataSet(num,rep)\n",
      "!grep '>' DataSet245rep1E1R100G100.fa | wc -l\n",
      "rep = \"2\"\n",
      "createDataSet(num,rep)\n",
      "!grep '>' DataSet245rep2E1R100G100.fa | wc -l\n",
      "rep = \"3\"\n",
      "createDataSet(num,rep)\n",
      "!grep '>' DataSet245rep3E1R100G100.fa | wc -l\n"
     ],
     "language": "python",
     "metadata": {},
     "outputs": []
    },
    {
     "cell_type": "code",
     "collapsed": false,
     "input": [
      "error = \"1\"\n",
      "r = \"100\"\n",
      "g = \"100\"\n",
      "rep = \"1\"\n",
      "mode = \"default\"\n",
      "org = \"chicken\"\n",
      "runBowtieBuild(num,rep,error,r,g)\n",
      "runBowtiePaired(num,rep,error,r,g,num,rep,error,r,g,mode)\n",
      "r = \"90\"\n",
      "runBowtieBuild(num,rep,error,r,g)\n",
      "runBowtiePaired(num,rep,error,r,g,num,rep,error,r,g,mode)\n",
      "r = \"80\"\n",
      "runBowtieBuild(num,rep,error,r,g)\n",
      "runBowtiePaired(num,rep,error,r,g,num,rep,error,r,g,mode)\n",
      "r = \"70\"\n",
      "runBowtieBuild(num,rep,error,r,g)\n",
      "runBowtiePaired(num,rep,error,r,g,num,rep,error,r,g,mode)\n",
      "r = \"60\"\n",
      "runBowtieBuild(num,rep,error,r,g)\n",
      "runBowtiePaired(num,rep,error,r,g,num,rep,error,r,g,mode)\n",
      "r = \"50\"\n",
      "runBowtieBuild(num,rep,error,r,g)\n",
      "runBowtiePaired(num,rep,error,r,g,num,rep,error,r,g,mode)\n",
      "r = \"40\"\n",
      "runBowtieBuild(num,rep,error,r,g)\n",
      "runBowtiePaired(num,rep,error,r,g,num,rep,error,r,g,mode)\n",
      "r = \"30\"\n",
      "runBowtieBuild(num,rep,error,r,g)\n",
      "runBowtiePaired(num,rep,error,r,g,num,rep,error,r,g,mode)\n",
      "r = \"20\"\n",
      "runBowtieBuild(num,rep,error,r,g)\n",
      "runBowtiePaired(num,rep,error,r,g,num,rep,error,r,g,mode)\n",
      "r = \"10\"\n",
      "runBowtieBuild(num,rep,error,r,g)\n",
      "runBowtiePaired(num,rep,error,r,g,num,rep,error,r,g,mode)\n",
      "rep = \"2\"\n",
      "runBowtieBuild(num,rep,error,r,g)\n",
      "runBowtiePaired(num,rep,error,r,g,num,rep,error,r,g,mode)\n",
      "r = \"90\"\n",
      "runBowtieBuild(num,rep,error,r,g)\n",
      "runBowtiePaired(num,rep,error,r,g,num,rep,error,r,g,mode)\n",
      "r = \"80\"\n",
      "runBowtieBuild(num,rep,error,r,g)\n",
      "runBowtiePaired(num,rep,error,r,g,num,rep,error,r,g,mode)\n",
      "r = \"70\"\n",
      "runBowtieBuild(num,rep,error,r,g)\n",
      "runBowtiePaired(num,rep,error,r,g,num,rep,error,r,g,mode)\n",
      "r = \"60\"\n",
      "runBowtieBuild(num,rep,error,r,g)\n",
      "runBowtiePaired(num,rep,error,r,g,num,rep,error,r,g,mode)\n",
      "r = \"50\"\n",
      "runBowtieBuild(num,rep,error,r,g)\n",
      "runBowtiePaired(num,rep,error,r,g,num,rep,error,r,g,mode)\n",
      "r = \"40\"\n",
      "runBowtieBuild(num,rep,error,r,g)\n",
      "runBowtiePaired(num,rep,error,r,g,num,rep,error,r,g,mode)\n",
      "r = \"30\"\n",
      "runBowtieBuild(num,rep,error,r,g)\n",
      "runBowtiePaired(num,rep,error,r,g,num,rep,error,r,g,mode)\n",
      "r = \"20\"\n",
      "runBowtieBuild(num,rep,error,r,g)\n",
      "runBowtiePaired(num,rep,error,r,g,num,rep,error,r,g,mode)\n",
      "r = \"10\"\n",
      "runBowtieBuild(num,rep,error,r,g)\n",
      "runBowtiePaired(num,rep,error,r,g,num,rep,error,r,g,mode)\n",
      "rep = \"3\"\n",
      "runBowtieBuild(num,rep,error,r,g)\n",
      "runBowtiePaired(num,rep,error,r,g,num,rep,error,r,g,mode)\n",
      "r = \"90\"\n",
      "runBowtieBuild(num,rep,error,r,g)\n",
      "runBowtiePaired(num,rep,error,r,g,num,rep,error,r,g,mode)\n",
      "r = \"80\"\n",
      "runBowtieBuild(num,rep,error,r,g)\n",
      "runBowtiePaired(num,rep,error,r,g,num,rep,error,r,g,mode)\n",
      "r = \"70\"\n",
      "runBowtieBuild(num,rep,error,r,g)\n",
      "runBowtiePaired(num,rep,error,r,g,num,rep,error,r,g,mode)\n",
      "r = \"60\"\n",
      "runBowtieBuild(num,rep,error,r,g)\n",
      "runBowtiePaired(num,rep,error,r,g,num,rep,error,r,g,mode)\n",
      "r = \"50\"\n",
      "runBowtieBuild(num,rep,error,r,g)\n",
      "runBowtiePaired(num,rep,error,r,g,num,rep,error,r,g,mode)\n",
      "r = \"40\"\n",
      "runBowtieBuild(num,rep,error,r,g)\n",
      "runBowtiePaired(num,rep,error,r,g,num,rep,error,r,g,mode)\n",
      "r = \"30\"\n",
      "runBowtieBuild(num,rep,error,r,g)\n",
      "runBowtiePaired(num,rep,error,r,g,num,rep,error,r,g,mode)\n",
      "r = \"20\"\n",
      "runBowtieBuild(num,rep,error,r,g)\n",
      "runBowtiePaired(num,rep,error,r,g,num,rep,error,r,g,mode)\n",
      "r = \"10\"\n",
      "runBowtieBuild(num,rep,error,r,g)\n",
      "runBowtiePaired(num,rep,error,r,g,num,rep,error,r,g,mode)\n"
     ],
     "language": "python",
     "metadata": {},
     "outputs": []
    },
    {
     "cell_type": "code",
     "collapsed": false,
     "input": [
      "num = \"245\"\n",
      "rep = \"1\"\n",
      "error = \"1\"\n",
      "r = \"100\"\n",
      "g = \"100\"\n",
      "mode = \"default\"\n",
      "organism = \"chicken\"\n",
      "parseMapFile(num,rep,error,r,g,mode,organism)\n",
      "rep = \"2\"\n",
      "parseMapFile(num,rep,error,r,g,mode,organism)\n",
      "rep = \"3\"\n",
      "parseMapFile(num,rep,error,r,g,mode,organism)\n"
     ],
     "language": "python",
     "metadata": {},
     "outputs": []
    },
    {
     "cell_type": "code",
     "collapsed": false,
     "input": [
      "defaultTp = {}\n",
      "num = \"245\"\n",
      "rep = \"1\"\n",
      "error = \"1\"\n",
      "r = \"100\"\n",
      "id = \"100chick100TransPe\"\n",
      "defaultTp[rep] = getTransLevelErrors(num,rep,error,r,g)\n",
      "rep = \"2\"\n",
      "defaultTp[rep] = getTransLevelErrors(num,rep,error,r,g)\n",
      "rep = \"3\"\n",
      "defaultTp[rep] = getTransLevelErrors(num,rep,error,r,g)\n",
      "print id\n",
      "defaultAvgTp[id] = sum([defaultTp[\"1\"], defaultTp[\"2\"], defaultTp[\"3\"]]) / 3\n",
      "print \"Average Percent Transcripts Accurate: \", defaultAvgTp[id]\n"
     ],
     "language": "python",
     "metadata": {},
     "outputs": [
      {
       "output_type": "stream",
       "stream": "stdout",
       "text": [
        "100chick100TransPe\n",
        "Average Percent Transcripts Accurate:  82.8976744186\n"
       ]
      }
     ],
     "prompt_number": 288
    },
    {
     "cell_type": "code",
     "collapsed": false,
     "input": [
      "num = \"245\"\n",
      "rep = \"1\"\n",
      "error = \"1\"\n",
      "r = \"90\"\n",
      "g = \"100\"\n",
      "mode = \"default\"\n",
      "organism = \"chicken\"\n",
      "parseMapFile(num,rep,error,r,g,mode,organism)\n",
      "rep = \"2\"\n",
      "parseMapFile(num,rep,error,r,g,mode,organism)\n",
      "rep = \"3\"\n",
      "parseMapFile(num,rep,error,r,g,mode,organism)\n"
     ],
     "language": "python",
     "metadata": {},
     "outputs": []
    },
    {
     "cell_type": "code",
     "collapsed": false,
     "input": [
      "defaultTp = {}\n",
      "num = \"245\"\n",
      "rep = \"1\"\n",
      "error = \"1\"\n",
      "r = \"90\"\n",
      "id = \"100chick90TransPe\"\n",
      "defaultTp[rep] = getTransLevelErrors(num,rep,error,r,g)\n",
      "rep = \"2\"\n",
      "defaultTp[rep] = getTransLevelErrors(num,rep,error,r,g)\n",
      "rep = \"3\"\n",
      "defaultTp[rep] = getTransLevelErrors(num,rep,error,r,g)\n",
      "print id\n",
      "defaultAvgTp[id] = sum([defaultTp[\"1\"], defaultTp[\"2\"], defaultTp[\"3\"]]) / 3\n",
      "print \"Average Percent Transcripts Accurate: \", defaultAvgTp[id]\n"
     ],
     "language": "python",
     "metadata": {},
     "outputs": [
      {
       "output_type": "stream",
       "stream": "stdout",
       "text": [
        "100chick90TransPe\n",
        "Average Percent Transcripts Accurate:  76.4759689922\n"
       ]
      }
     ],
     "prompt_number": 289
    },
    {
     "cell_type": "code",
     "collapsed": false,
     "input": [
      "num = \"245\"\n",
      "rep = \"1\"\n",
      "error = \"1\"\n",
      "r = \"80\"\n",
      "g = \"100\"\n",
      "mode = \"default\"\n",
      "organism = \"chicken\"\n",
      "parseMapFile(num,rep,error,r,g,mode,organism)\n",
      "rep = \"2\"\n",
      "parseMapFile(num,rep,error,r,g,mode,organism)\n",
      "rep = \"3\"\n",
      "parseMapFile(num,rep,error,r,g,mode,organism)\n"
     ],
     "language": "python",
     "metadata": {},
     "outputs": []
    },
    {
     "cell_type": "code",
     "collapsed": false,
     "input": [
      "defaultTp = {}\n",
      "num = \"245\"\n",
      "rep = \"1\"\n",
      "error = \"1\"\n",
      "r = \"80\"\n",
      "id = \"100chick80TransPe\"\n",
      "defaultTp[rep] = getTransLevelErrors(num,rep,error,r,g)\n",
      "rep = \"2\"\n",
      "defaultTp[rep] = getTransLevelErrors(num,rep,error,r,g)\n",
      "rep = \"3\"\n",
      "defaultTp[rep] = getTransLevelErrors(num,rep,error,r,g)\n",
      "print id\n",
      "defaultAvgTp[id] = sum([defaultTp[\"1\"], defaultTp[\"2\"], defaultTp[\"3\"]]) / 3\n",
      "print \"Average Percent Transcripts Accurate: \", defaultAvgTp[id]\n"
     ],
     "language": "python",
     "metadata": {},
     "outputs": [
      {
       "output_type": "stream",
       "stream": "stdout",
       "text": [
        "100chick80TransPe\n",
        "Average Percent Transcripts Accurate:  69.7829457364\n"
       ]
      }
     ],
     "prompt_number": 290
    },
    {
     "cell_type": "code",
     "collapsed": false,
     "input": [
      "num = \"245\"\n",
      "rep = \"1\"\n",
      "error = \"1\"\n",
      "r = \"70\"\n",
      "g = \"100\"\n",
      "mode = \"default\"\n",
      "organism = \"chicken\"\n",
      "parseMapFile(num,rep,error,r,g,mode,organism)\n",
      "rep = \"2\"\n",
      "parseMapFile(num,rep,error,r,g,mode,organism)\n",
      "rep = \"3\"\n",
      "parseMapFile(num,rep,error,r,g,mode,organism)\n"
     ],
     "language": "python",
     "metadata": {},
     "outputs": []
    },
    {
     "cell_type": "code",
     "collapsed": false,
     "input": [
      "defaultTp = {}\n",
      "num = \"245\"\n",
      "rep = \"1\"\n",
      "error = \"1\"\n",
      "r = \"70\"\n",
      "id = \"100chick70TransPe\"\n",
      "defaultTp[rep] = getTransLevelErrors(num,rep,error,r,g)\n",
      "rep = \"2\"\n",
      "defaultTp[rep] = getTransLevelErrors(num,rep,error,r,g)\n",
      "rep = \"3\"\n",
      "defaultTp[rep] = getTransLevelErrors(num,rep,error,r,g)\n",
      "print id\n",
      "defaultAvgTp[id] = sum([defaultTp[\"1\"], defaultTp[\"2\"], defaultTp[\"3\"]]) / 3\n",
      "print \"Average Percent Transcripts Accurate: \", defaultAvgTp[id]\n"
     ],
     "language": "python",
     "metadata": {},
     "outputs": [
      {
       "output_type": "stream",
       "stream": "stdout",
       "text": [
        "100chick70TransPe\n",
        "Average Percent Transcripts Accurate:  62.6744186047\n"
       ]
      }
     ],
     "prompt_number": 291
    },
    {
     "cell_type": "code",
     "collapsed": false,
     "input": [
      "num = \"245\"\n",
      "rep = \"1\"\n",
      "error = \"1\"\n",
      "r = \"60\"\n",
      "g = \"100\"\n",
      "mode = \"default\"\n",
      "organism = \"chicken\"\n",
      "parseMapFile(num,rep,error,r,g,mode,organism)\n",
      "rep = \"2\"\n",
      "parseMapFile(num,rep,error,r,g,mode,organism)\n",
      "rep = \"3\"\n",
      "parseMapFile(num,rep,error,r,g,mode,organism)\n"
     ],
     "language": "python",
     "metadata": {},
     "outputs": []
    },
    {
     "cell_type": "code",
     "collapsed": false,
     "input": [
      "defaultTp = {}\n",
      "num = \"245\"\n",
      "rep = \"1\"\n",
      "error = \"1\"\n",
      "r = \"60\"\n",
      "id = \"100chick60TransPe\"\n",
      "defaultTp[rep] = getTransLevelErrors(num,rep,error,r,g)\n",
      "rep = \"2\"\n",
      "defaultTp[rep] = getTransLevelErrors(num,rep,error,r,g)\n",
      "rep = \"3\"\n",
      "defaultTp[rep] = getTransLevelErrors(num,rep,error,r,g)\n",
      "print id\n",
      "defaultAvgTp[id] = sum([defaultTp[\"1\"], defaultTp[\"2\"], defaultTp[\"3\"]]) / 3\n",
      "print \"Average Percent Transcripts Accurate: \", defaultAvgTp[id]\n"
     ],
     "language": "python",
     "metadata": {},
     "outputs": [
      {
       "output_type": "stream",
       "stream": "stdout",
       "text": [
        "100chick60TransPe\n",
        "Average Percent Transcripts Accurate:  55.1302325581\n"
       ]
      }
     ],
     "prompt_number": 292
    },
    {
     "cell_type": "code",
     "collapsed": false,
     "input": [
      "num = \"245\"\n",
      "rep = \"1\"\n",
      "error = \"1\"\n",
      "r = \"50\"\n",
      "g = \"100\"\n",
      "mode = \"default\"\n",
      "organism = \"chicken\"\n",
      "parseMapFile(num,rep,error,r,g,mode,organism)\n",
      "rep = \"2\"\n",
      "parseMapFile(num,rep,error,r,g,mode,organism)\n",
      "rep = \"3\"\n",
      "parseMapFile(num,rep,error,r,g,mode,organism)\n"
     ],
     "language": "python",
     "metadata": {},
     "outputs": []
    },
    {
     "cell_type": "code",
     "collapsed": false,
     "input": [
      "defaultTp = {}\n",
      "num = \"245\"\n",
      "rep = \"1\"\n",
      "error = \"1\"\n",
      "r = \"50\"\n",
      "id = \"100chick50TransPe\"\n",
      "defaultTp[rep] = getTransLevelErrors(num,rep,error,r,g)\n",
      "rep = \"2\"\n",
      "defaultTp[rep] = getTransLevelErrors(num,rep,error,r,g)\n",
      "rep = \"3\"\n",
      "defaultTp[rep] = getTransLevelErrors(num,rep,error,r,g)\n",
      "print id\n",
      "defaultAvgTp[id] = sum([defaultTp[\"1\"], defaultTp[\"2\"], defaultTp[\"3\"]]) / 3\n",
      "print \"Average Percent Transcripts Accurate: \", defaultAvgTp[id]\n"
     ],
     "language": "python",
     "metadata": {},
     "outputs": [
      {
       "output_type": "stream",
       "stream": "stdout",
       "text": [
        "100chick50TransPe\n",
        "Average Percent Transcripts Accurate:  47.0263565891\n"
       ]
      }
     ],
     "prompt_number": 293
    },
    {
     "cell_type": "code",
     "collapsed": false,
     "input": [
      "num = \"245\"\n",
      "rep = \"1\"\n",
      "error = \"1\"\n",
      "r = \"40\"\n",
      "g = \"100\"\n",
      "mode = \"default\"\n",
      "organism = \"chicken\"\n",
      "parseMapFile(num,rep,error,r,g,mode,organism)\n",
      "rep = \"2\"\n",
      "parseMapFile(num,rep,error,r,g,mode,organism)\n",
      "rep = \"3\"\n",
      "parseMapFile(num,rep,error,r,g,mode,organism)\n"
     ],
     "language": "python",
     "metadata": {},
     "outputs": []
    },
    {
     "cell_type": "code",
     "collapsed": false,
     "input": [
      "defaultTp = {}\n",
      "num = \"245\"\n",
      "rep = \"1\"\n",
      "error = \"1\"\n",
      "r = \"40\"\n",
      "id = \"100chick40TransPe\"\n",
      "defaultTp[rep] = getTransLevelErrors(num,rep,error,r,g)\n",
      "rep = \"2\"\n",
      "defaultTp[rep] = getTransLevelErrors(num,rep,error,r,g)\n",
      "rep = \"3\"\n",
      "defaultTp[rep] = getTransLevelErrors(num,rep,error,r,g)\n",
      "print id\n",
      "defaultAvgTp[id] = sum([defaultTp[\"1\"], defaultTp[\"2\"], defaultTp[\"3\"]]) / 3\n",
      "print \"Average Percent Transcripts Accurate: \", defaultAvgTp[id]\n"
     ],
     "language": "python",
     "metadata": {},
     "outputs": [
      {
       "output_type": "stream",
       "stream": "stdout",
       "text": [
        "100chick40TransPe\n",
        "Average Percent Transcripts Accurate:  38.8821705426\n"
       ]
      }
     ],
     "prompt_number": 294
    },
    {
     "cell_type": "code",
     "collapsed": false,
     "input": [
      "num = \"245\"\n",
      "rep = \"1\"\n",
      "error = \"1\"\n",
      "r = \"30\"\n",
      "g = \"100\"\n",
      "mode = \"default\"\n",
      "organism = \"chicken\"\n",
      "parseMapFile(num,rep,error,r,g,mode,organism)\n",
      "rep = \"2\"\n",
      "parseMapFile(num,rep,error,r,g,mode,organism)\n",
      "rep = \"3\"\n",
      "parseMapFile(num,rep,error,r,g,mode,organism)\n"
     ],
     "language": "python",
     "metadata": {},
     "outputs": []
    },
    {
     "cell_type": "code",
     "collapsed": false,
     "input": [
      "defaultTp = {}\n",
      "num = \"245\"\n",
      "rep = \"1\"\n",
      "error = \"1\"\n",
      "r = \"30\"\n",
      "id = \"100chick30TransPe\"\n",
      "defaultTp[rep] = getTransLevelErrors(num,rep,error,r,g)\n",
      "rep = \"2\"\n",
      "defaultTp[rep] = getTransLevelErrors(num,rep,error,r,g)\n",
      "rep = \"3\"\n",
      "defaultTp[rep] = getTransLevelErrors(num,rep,error,r,g)\n",
      "print id\n",
      "defaultAvgTp[id] = sum([defaultTp[\"1\"], defaultTp[\"2\"], defaultTp[\"3\"]]) / 3\n",
      "print \"Average Percent Transcripts Accurate: \", defaultAvgTp[id]\n"
     ],
     "language": "python",
     "metadata": {},
     "outputs": [
      {
       "output_type": "stream",
       "stream": "stdout",
       "text": [
        "100chick30TransPe\n",
        "Average Percent Transcripts Accurate:  30.0403100775\n"
       ]
      }
     ],
     "prompt_number": 295
    },
    {
     "cell_type": "code",
     "collapsed": false,
     "input": [
      "num = \"245\"\n",
      "rep = \"1\"\n",
      "error = \"1\"\n",
      "r = \"20\"\n",
      "g = \"100\"\n",
      "mode = \"default\"\n",
      "organism = \"chicken\"\n",
      "parseMapFile(num,rep,error,r,g,mode,organism)\n",
      "rep = \"2\"\n",
      "parseMapFile(num,rep,error,r,g,mode,organism)\n",
      "rep = \"3\"\n",
      "parseMapFile(num,rep,error,r,g,mode,organism)\n"
     ],
     "language": "python",
     "metadata": {},
     "outputs": []
    },
    {
     "cell_type": "code",
     "collapsed": false,
     "input": [
      "defaultTp = {}\n",
      "num = \"245\"\n",
      "rep = \"1\"\n",
      "error = \"1\"\n",
      "r = \"20\"\n",
      "id = \"100chick20TransPe\"\n",
      "defaultTp[rep] = getTransLevelErrors(num,rep,error,r,g)\n",
      "rep = \"2\"\n",
      "defaultTp[rep] = getTransLevelErrors(num,rep,error,r,g)\n",
      "rep = \"3\"\n",
      "defaultTp[rep] = getTransLevelErrors(num,rep,error,r,g)\n",
      "print id\n",
      "defaultAvgTp[id] = sum([defaultTp[\"1\"], defaultTp[\"2\"], defaultTp[\"3\"]]) / 3\n",
      "print \"Average Percent Transcripts Accurate: \", defaultAvgTp[id]\n"
     ],
     "language": "python",
     "metadata": {},
     "outputs": [
      {
       "output_type": "stream",
       "stream": "stdout",
       "text": [
        "100chick20TransPe\n",
        "Average Percent Transcripts Accurate:  20.6434108527\n"
       ]
      }
     ],
     "prompt_number": 296
    },
    {
     "cell_type": "code",
     "collapsed": false,
     "input": [
      "num = \"245\"\n",
      "rep = \"1\"\n",
      "error = \"1\"\n",
      "r = \"10\"\n",
      "g = \"100\"\n",
      "mode = \"default\"\n",
      "organism = \"chicken\"\n",
      "parseMapFile(num,rep,error,r,g,mode,organism)\n",
      "rep = \"2\"\n",
      "parseMapFile(num,rep,error,r,g,mode,organism)\n",
      "rep = \"3\"\n",
      "parseMapFile(num,rep,error,r,g,mode,organism)\n"
     ],
     "language": "python",
     "metadata": {},
     "outputs": []
    },
    {
     "cell_type": "code",
     "collapsed": false,
     "input": [
      "defaultTp = {}\n",
      "num = \"245\"\n",
      "rep = \"1\"\n",
      "error = \"1\"\n",
      "r = \"10\"\n",
      "id = \"100chick10TransPe\"\n",
      "defaultTp[rep] = getTransLevelErrors(num,rep,error,r,g)\n",
      "rep = \"2\"\n",
      "defaultTp[rep] = getTransLevelErrors(num,rep,error,r,g)\n",
      "rep = \"3\"\n",
      "defaultTp[rep] = getTransLevelErrors(num,rep,error,r,g)\n",
      "print id\n",
      "defaultAvgTp[id] = sum([defaultTp[\"1\"], defaultTp[\"2\"], defaultTp[\"3\"]]) / 3\n",
      "print \"Average Percent Transcripts Accurate: \", defaultAvgTp[id]\n"
     ],
     "language": "python",
     "metadata": {},
     "outputs": [
      {
       "output_type": "stream",
       "stream": "stdout",
       "text": [
        "100chick10TransPe\n",
        "Average Percent Transcripts Accurate:  10.6868217054\n"
       ]
      }
     ],
     "prompt_number": 297
    },
    {
     "cell_type": "code",
     "collapsed": false,
     "input": [
      "print \"Transcript Expression Accuracy for Chicken Transcriptome with Varying Percentages of Randomly Selected Transcript Expression (Paired End Reads)\"\n",
      "print \"PercRefExpressed\\t10\\t20\\t30\\t40\\t50\\t60\\t70\\t80\\t90\\t100\"\n",
      "id = \"025\"\n",
      "print \"25\\t\\t\" + str(defaultAvgTp[id+\"chick010TransPe\"])[0:5] + \"\\t\" + str(defaultAvgTp[id+\"chick020TransPe\"])[0:5] + \"\\t\" + str(defaultAvgTp[id+\"chick030TransPe\"])[0:5] + \"\\t\" + str(defaultAvgTp[id+\"chick040TransPe\"])[0:5] + \"\\t\" + str(defaultAvgTp[id+\"chick050TransPe\"])[0:5] + \"\\t\" + str(defaultAvgTp[id+\"chick060TransPe\"])[0:5] + \"\\t\" + str(defaultAvgTp[id+\"chick070TransPe\"])[0:5] + \"\\t\" + str(defaultAvgTp[id+\"chick080TransPe\"])[0:5] + \"\\t\" + str(defaultAvgTp[id+\"chick090TransPe\"])[0:5] + \"\\t\" + str(defaultAvgTp[id+\"chick100TransPe\"])[0:5]\n",
      "id = \"050\"\n",
      "print \"50\\t\\t\" + str(defaultAvgTp[id+\"chick010TransPe\"])[0:5] + \"\\t\" + str(defaultAvgTp[id+\"chick020TransPe\"])[0:5] + \"\\t\" + str(defaultAvgTp[id+\"chick030TransPe\"])[0:5] + \"\\t\" + str(defaultAvgTp[id+\"chick040TransPe\"])[0:5] + \"\\t\" + str(defaultAvgTp[id+\"chick050TransPe\"])[0:5] + \"\\t\" + str(defaultAvgTp[id+\"chick060TransPe\"])[0:5] + \"\\t\" + str(defaultAvgTp[id+\"chick070TransPe\"])[0:5] + \"\\t\" + str(defaultAvgTp[id+\"chick080TransPe\"])[0:5] + \"\\t\" + str(defaultAvgTp[id+\"chick090TransPe\"])[0:5] + \"\\t\" + str(defaultAvgTp[id+\"chick100TransPe\"])[0:5]\n",
      "id = \"075\"\n",
      "print \"75\\t\\t\" + str(defaultAvgTp[id+\"chick010TransPe\"])[0:5] + \"\\t\" + str(defaultAvgTp[id+\"chick020TransPe\"])[0:5] + \"\\t\" + str(defaultAvgTp[id+\"chick030TransPe\"])[0:5] + \"\\t\" + str(defaultAvgTp[id+\"chick040TransPe\"])[0:5] + \"\\t\" + str(defaultAvgTp[id+\"chick050TransPe\"])[0:5] + \"\\t\" + str(defaultAvgTp[id+\"chick060TransPe\"])[0:5] + \"\\t\" + str(defaultAvgTp[id+\"chick070TransPe\"])[0:5] + \"\\t\" + str(defaultAvgTp[id+\"chick080TransPe\"])[0:5] + \"\\t\" + str(defaultAvgTp[id+\"chick090TransPe\"])[0:5] + \"\\t\" + str(defaultAvgTp[id+\"chick100TransPe\"])[0:5]\n",
      "id = \"100\"\n",
      "print \"100\\t\\t\" + str(defaultAvgTp[id+\"chick10TransPe\"])[0:5] + \"\\t\" + str(defaultAvgTp[id+\"chick20TransPe\"])[0:5] + \"\\t\" + str(defaultAvgTp[id+\"chick30TransPe\"])[0:5] + \"\\t\" + str(defaultAvgTp[id+\"chick40TransPe\"])[0:5] + \"\\t\" + str(defaultAvgTp[id+\"chick50TransPe\"])[0:5] + \"\\t\" + str(defaultAvgTp[id+\"chick60TransPe\"])[0:5] + \"\\t\" + str(defaultAvgTp[id+\"chick70TransPe\"])[0:5] + \"\\t\" + str(defaultAvgTp[id+\"chick80TransPe\"])[0:5] + \"\\t\" + str(defaultAvgTp[id+\"chick90TransPe\"])[0:5] + \"\\t\" + str(defaultAvgTp[id+\"chick100TransPe\"])[0:5]\n"
     ],
     "language": "python",
     "metadata": {},
     "outputs": [
      {
       "output_type": "stream",
       "stream": "stdout",
       "text": [
        "Transcript Expression Accuracy for Chicken Transcriptome with Varying Percentages of Randomly Selected Transcript Expression (Paired End Reads)\n",
        "PercRefExpressed\t10\t20\t30\t40\t50\t60\t70\t80\t90\t100\n",
        "25\t\t66.41\t69.11\t71.46\t74.0\t76.09\t78.23\t80.13\t81.97\t83.69\t85.24\n",
        "50\t\t40.35\t47.52\t52.46\t57.27\t61.70\t65.63\t69.53\t73.18\t76.54\t79.78\n",
        "75\t\t24.03\t31.87\t39.12\t45.89\t52.42\t58.49\t64.22\t69.72\t74.79\t79.59\n",
        "100\t\t10.68\t20.64\t30.04\t38.88\t47.02\t55.13\t62.67\t69.78\t76.47\t82.89\n"
       ]
      }
     ],
     "prompt_number": 412
    },
    {
     "cell_type": "heading",
     "level": 2,
     "metadata": {},
     "source": [
      "Test 6: Gene expression accuracy of read sets generated from 25, 50, 75, 100% expressed full chicken transcriptome with incomplete reference transcriptome"
     ]
    },
    {
     "cell_type": "raw",
     "metadata": {},
     "source": [
      "Chicken transcriptome, 25% expression, 100 bp reads, {0 10 100 1000}x expression"
     ]
    },
    {
     "cell_type": "code",
     "collapsed": false,
     "input": [
      "defaultTp = {}\n",
      "num = \"235\"\n",
      "rep = \"1\"\n",
      "error = \"1\"\n",
      "r = \"100\"\n",
      "id = \"025chick100Gene\"\n",
      "defaultTp[rep] = getGeneLevelErrors(num,rep,error,r,g)\n",
      "rep = \"2\"\n",
      "defaultTp[rep] = getGeneLevelErrors(num,rep,error,r,g)\n",
      "rep = \"3\"\n",
      "defaultTp[rep] = getGeneLevelErrors(num,rep,error,r,g)\n",
      "print id\n",
      "defaultAvgTp[id] = sum([defaultTp[\"1\"], defaultTp[\"2\"], defaultTp[\"3\"]]) / 3\n",
      "print \"Average Percent Genes Accurate: \", defaultAvgTp[id]\n"
     ],
     "language": "python",
     "metadata": {},
     "outputs": [
      {
       "output_type": "stream",
       "stream": "stdout",
       "text": [
        "025chick100Gene\n",
        "Average Percent Genes Accurate:  95.191628564\n"
       ]
      }
     ],
     "prompt_number": 63
    },
    {
     "cell_type": "code",
     "collapsed": false,
     "input": [
      "defaultTp = {}\n",
      "num = \"235\"\n",
      "rep = \"1\"\n",
      "error = \"1\"\n",
      "r = \"90\"\n",
      "id = \"025chick090Gene\"\n",
      "defaultTp[rep] = getGeneLevelErrors(num,rep,error,r,g)\n",
      "rep = \"2\"\n",
      "defaultTp[rep] = getGeneLevelErrors(num,rep,error,r,g)\n",
      "rep = \"3\"\n",
      "defaultTp[rep] = getGeneLevelErrors(num,rep,error,r,g)\n",
      "print id\n",
      "defaultAvgTp[id] = sum([defaultTp[\"1\"], defaultTp[\"2\"], defaultTp[\"3\"]]) / 3\n",
      "print \"Average Percent Genes Accurate: \", defaultAvgTp[id]\n"
     ],
     "language": "python",
     "metadata": {},
     "outputs": [
      {
       "output_type": "stream",
       "stream": "stdout",
       "text": [
        "025chick090Gene\n",
        "Average Percent Genes Accurate:  93.2697669232\n"
       ]
      }
     ],
     "prompt_number": 64
    },
    {
     "cell_type": "code",
     "collapsed": false,
     "input": [
      "defaultTp = {}\n",
      "num = \"235\"\n",
      "rep = \"1\"\n",
      "error = \"1\"\n",
      "r = \"80\"\n",
      "id = \"025chick080Gene\"\n",
      "defaultTp[rep] = getGeneLevelErrors(num,rep,error,r,g)\n",
      "rep = \"2\"\n",
      "defaultTp[rep] = getGeneLevelErrors(num,rep,error,r,g)\n",
      "rep = \"3\"\n",
      "defaultTp[rep] = getGeneLevelErrors(num,rep,error,r,g)\n",
      "print id\n",
      "defaultAvgTp[id] = sum([defaultTp[\"1\"], defaultTp[\"2\"], defaultTp[\"3\"]]) / 3\n",
      "print \"Average Percent Genes Accurate: \", defaultAvgTp[id]\n"
     ],
     "language": "python",
     "metadata": {},
     "outputs": [
      {
       "output_type": "stream",
       "stream": "stdout",
       "text": [
        "025chick080Gene\n",
        "Average Percent Genes Accurate:  91.3850786216\n"
       ]
      }
     ],
     "prompt_number": 65
    },
    {
     "cell_type": "code",
     "collapsed": false,
     "input": [
      "defaultTp = {}\n",
      "num = \"235\"\n",
      "rep = \"1\"\n",
      "error = \"1\"\n",
      "r = \"70\"\n",
      "id = \"025chick070Gene\"\n",
      "defaultTp[rep] = getGeneLevelErrors(num,rep,error,r,g)\n",
      "rep = \"2\"\n",
      "defaultTp[rep] = getGeneLevelErrors(num,rep,error,r,g)\n",
      "rep = \"3\"\n",
      "defaultTp[rep] = getGeneLevelErrors(num,rep,error,r,g)\n",
      "print id\n",
      "defaultAvgTp[id] = sum([defaultTp[\"1\"], defaultTp[\"2\"], defaultTp[\"3\"]]) / 3\n",
      "print \"Average Percent Genes Accurate: \", defaultAvgTp[id]\n"
     ],
     "language": "python",
     "metadata": {},
     "outputs": [
      {
       "output_type": "stream",
       "stream": "stdout",
       "text": [
        "025chick070Gene\n",
        "Average Percent Genes Accurate:  88.8703022192\n"
       ]
      }
     ],
     "prompt_number": 66
    },
    {
     "cell_type": "code",
     "collapsed": false,
     "input": [
      "defaultTp = {}\n",
      "num = \"235\"\n",
      "rep = \"1\"\n",
      "error = \"1\"\n",
      "r = \"60\"\n",
      "id = \"025chick060Gene\"\n",
      "defaultTp[rep] = getGeneLevelErrors(num,rep,error,r,g)\n",
      "rep = \"2\"\n",
      "defaultTp[rep] = getGeneLevelErrors(num,rep,error,r,g)\n",
      "rep = \"3\"\n",
      "defaultTp[rep] = getGeneLevelErrors(num,rep,error,r,g)\n",
      "print id\n",
      "defaultAvgTp[id] = sum([defaultTp[\"1\"], defaultTp[\"2\"], defaultTp[\"3\"]]) / 3\n",
      "print \"Average Percent Genes Accurate: \", defaultAvgTp[id]\n"
     ],
     "language": "python",
     "metadata": {},
     "outputs": [
      {
       "output_type": "stream",
       "stream": "stdout",
       "text": [
        "025chick060Gene\n",
        "Average Percent Genes Accurate:  86.7997472213\n"
       ]
      }
     ],
     "prompt_number": 67
    },
    {
     "cell_type": "code",
     "collapsed": false,
     "input": [
      "defaultTp = {}\n",
      "num = \"235\"\n",
      "rep = \"1\"\n",
      "error = \"1\"\n",
      "r = \"50\"\n",
      "id = \"025chick050Gene\"\n",
      "defaultTp[rep] = getGeneLevelErrors(num,rep,error,r,g)\n",
      "rep = \"2\"\n",
      "defaultTp[rep] = getGeneLevelErrors(num,rep,error,r,g)\n",
      "rep = \"3\"\n",
      "defaultTp[rep] = getGeneLevelErrors(num,rep,error,r,g)\n",
      "print id\n",
      "defaultAvgTp[id] = sum([defaultTp[\"1\"], defaultTp[\"2\"], defaultTp[\"3\"]]) / 3\n",
      "print \"Average Percent Genes Accurate: \", defaultAvgTp[id]\n"
     ],
     "language": "python",
     "metadata": {},
     "outputs": [
      {
       "output_type": "stream",
       "stream": "stdout",
       "text": [
        "025chick050Gene\n",
        "Average Percent Genes Accurate:  84.2608081484\n"
       ]
      }
     ],
     "prompt_number": 68
    },
    {
     "cell_type": "code",
     "collapsed": false,
     "input": [
      "defaultTp = {}\n",
      "num = \"235\"\n",
      "rep = \"1\"\n",
      "error = \"1\"\n",
      "r = \"40\"\n",
      "id = \"025chick040Gene\"\n",
      "defaultTp[rep] = getGeneLevelErrors(num,rep,error,r,g)\n",
      "rep = \"2\"\n",
      "defaultTp[rep] = getGeneLevelErrors(num,rep,error,r,g)\n",
      "rep = \"3\"\n",
      "defaultTp[rep] = getGeneLevelErrors(num,rep,error,r,g)\n",
      "print id\n",
      "defaultAvgTp[id] = sum([defaultTp[\"1\"], defaultTp[\"2\"], defaultTp[\"3\"]]) / 3\n",
      "print \"Average Percent Genes Accurate: \", defaultAvgTp[id]\n"
     ],
     "language": "python",
     "metadata": {},
     "outputs": [
      {
       "output_type": "stream",
       "stream": "stdout",
       "text": [
        "025chick040Gene\n",
        "Average Percent Genes Accurate:  81.1940076577\n"
       ]
      }
     ],
     "prompt_number": 69
    },
    {
     "cell_type": "code",
     "collapsed": false,
     "input": [
      "defaultTp = {}\n",
      "num = \"235\"\n",
      "rep = \"1\"\n",
      "error = \"1\"\n",
      "r = \"30\"\n",
      "id = \"025chick030Gene\"\n",
      "defaultTp[rep] = getGeneLevelErrors(num,rep,error,r,g)\n",
      "rep = \"2\"\n",
      "defaultTp[rep] = getGeneLevelErrors(num,rep,error,r,g)\n",
      "rep = \"3\"\n",
      "defaultTp[rep] = getGeneLevelErrors(num,rep,error,r,g)\n",
      "print id\n",
      "defaultAvgTp[id] = sum([defaultTp[\"1\"], defaultTp[\"2\"], defaultTp[\"3\"]]) / 3\n",
      "print \"Average Percent Genes Accurate: \", defaultAvgTp[id]\n"
     ],
     "language": "python",
     "metadata": {},
     "outputs": [
      {
       "output_type": "stream",
       "stream": "stdout",
       "text": [
        "025chick030Gene\n",
        "Average Percent Genes Accurate:  78.2647485224\n"
       ]
      }
     ],
     "prompt_number": 70
    },
    {
     "cell_type": "code",
     "collapsed": false,
     "input": [
      "defaultTp = {}\n",
      "num = \"235\"\n",
      "rep = \"1\"\n",
      "error = \"1\"\n",
      "r = \"20\"\n",
      "id = \"025chick020Gene\"\n",
      "defaultTp[rep] = getGeneLevelErrors(num,rep,error,r,g)\n",
      "rep = \"2\"\n",
      "defaultTp[rep] = getGeneLevelErrors(num,rep,error,r,g)\n",
      "rep = \"3\"\n",
      "defaultTp[rep] = getGeneLevelErrors(num,rep,error,r,g)\n",
      "print id\n",
      "defaultAvgTp[id] = sum([defaultTp[\"1\"], defaultTp[\"2\"], defaultTp[\"3\"]]) / 3\n",
      "print \"Average Percent Genes Accurate: \", defaultAvgTp[id]\n"
     ],
     "language": "python",
     "metadata": {},
     "outputs": [
      {
       "output_type": "stream",
       "stream": "stdout",
       "text": [
        "025chick020Gene\n",
        "Average Percent Genes Accurate:  74.9526039924\n"
       ]
      }
     ],
     "prompt_number": 71
    },
    {
     "cell_type": "code",
     "collapsed": false,
     "input": [
      "defaultTp = {}\n",
      "num = \"235\"\n",
      "rep = \"1\"\n",
      "error = \"1\"\n",
      "r = \"10\"\n",
      "id = \"025chick010Gene\"\n",
      "defaultTp[rep] = getGeneLevelErrors(num,rep,error,r,g)\n",
      "rep = \"2\"\n",
      "defaultTp[rep] = getGeneLevelErrors(num,rep,error,r,g)\n",
      "rep = \"3\"\n",
      "defaultTp[rep] = getGeneLevelErrors(num,rep,error,r,g)\n",
      "print id\n",
      "defaultAvgTp[id] = sum([defaultTp[\"1\"], defaultTp[\"2\"], defaultTp[\"3\"]]) / 3\n",
      "print \"Average Percent Genes Accurate: \", defaultAvgTp[id]\n"
     ],
     "language": "python",
     "metadata": {},
     "outputs": [
      {
       "output_type": "stream",
       "stream": "stdout",
       "text": [
        "025chick010Gene\n",
        "Average Percent Genes Accurate:  71.4508754321\n"
       ]
      }
     ],
     "prompt_number": 72
    },
    {
     "cell_type": "raw",
     "metadata": {},
     "source": [
      "Chicken transcriptome, 50% expression, 100 bp reads, {0 10 100 1000}x expression"
     ]
    },
    {
     "cell_type": "code",
     "collapsed": false,
     "input": [
      "defaultTp = {}\n",
      "num = \"234\"\n",
      "rep = \"1\"\n",
      "error = \"1\"\n",
      "r = \"100\"\n",
      "id = \"050chick100Gene\"\n",
      "defaultTp[rep] = getGeneLevelErrors(num,rep,error,r,g)\n",
      "rep = \"2\"\n",
      "defaultTp[rep] = getGeneLevelErrors(num,rep,error,r,g)\n",
      "rep = \"3\"\n",
      "defaultTp[rep] = getGeneLevelErrors(num,rep,error,r,g)\n",
      "print id\n",
      "defaultAvgTp[id] = sum([defaultTp[\"1\"], defaultTp[\"2\"], defaultTp[\"3\"]]) / 3\n",
      "print \"Average Percent Genes Accurate: \", defaultAvgTp[id]\n"
     ],
     "language": "python",
     "metadata": {},
     "outputs": [
      {
       "output_type": "stream",
       "stream": "stdout",
       "text": [
        "050chick100Gene\n",
        "Average Percent Genes Accurate:  94.8384818408\n"
       ]
      }
     ],
     "prompt_number": 102
    },
    {
     "cell_type": "code",
     "collapsed": false,
     "input": [
      "defaultTp = {}\n",
      "num = \"234\"\n",
      "rep = \"1\"\n",
      "error = \"1\"\n",
      "r = \"90\"\n",
      "id = \"050chick90Gene\"\n",
      "defaultTp[rep] = getGeneLevelErrors(num,rep,error,r,g)\n",
      "rep = \"2\"\n",
      "defaultTp[rep] = getGeneLevelErrors(num,rep,error,r,g)\n",
      "rep = \"3\"\n",
      "defaultTp[rep] = getGeneLevelErrors(num,rep,error,r,g)\n",
      "print id\n",
      "defaultAvgTp[id] = sum([defaultTp[\"1\"], defaultTp[\"2\"], defaultTp[\"3\"]]) / 3\n",
      "print \"Average Percent Genes Accurate: \", defaultAvgTp[id]\n"
     ],
     "language": "python",
     "metadata": {},
     "outputs": [
      {
       "output_type": "stream",
       "stream": "stdout",
       "text": [
        "050chick90Gene\n",
        "Average Percent Genes Accurate:  91.0988439091\n"
       ]
      }
     ],
     "prompt_number": 103
    },
    {
     "cell_type": "code",
     "collapsed": false,
     "input": [
      "defaultTp = {}\n",
      "num = \"234\"\n",
      "rep = \"1\"\n",
      "error = \"1\"\n",
      "r = \"80\"\n",
      "id = \"050chick80Gene\"\n",
      "defaultTp[rep] = getGeneLevelErrors(num,rep,error,r,g)\n",
      "rep = \"2\"\n",
      "defaultTp[rep] = getGeneLevelErrors(num,rep,error,r,g)\n",
      "rep = \"3\"\n",
      "defaultTp[rep] = getGeneLevelErrors(num,rep,error,r,g)\n",
      "print id\n",
      "defaultAvgTp[id] = sum([defaultTp[\"1\"], defaultTp[\"2\"], defaultTp[\"3\"]]) / 3\n",
      "print \"Average Percent Genes Accurate: \", defaultAvgTp[id]\n"
     ],
     "language": "python",
     "metadata": {},
     "outputs": [
      {
       "output_type": "stream",
       "stream": "stdout",
       "text": [
        "050chick80Gene\n",
        "Average Percent Genes Accurate:  87.0450912605\n"
       ]
      }
     ],
     "prompt_number": 104
    },
    {
     "cell_type": "code",
     "collapsed": false,
     "input": [
      "defaultTp = {}\n",
      "num = \"234\"\n",
      "rep = \"1\"\n",
      "error = \"1\"\n",
      "r = \"70\"\n",
      "id = \"050chick70Gene\"\n",
      "defaultTp[rep] = getGeneLevelErrors(num,rep,error,r,g)\n",
      "rep = \"2\"\n",
      "defaultTp[rep] = getGeneLevelErrors(num,rep,error,r,g)\n",
      "rep = \"3\"\n",
      "defaultTp[rep] = getGeneLevelErrors(num,rep,error,r,g)\n",
      "print id\n",
      "defaultAvgTp[id] = sum([defaultTp[\"1\"], defaultTp[\"2\"], defaultTp[\"3\"]]) / 3\n",
      "print \"Average Percent Genes Accurate: \", defaultAvgTp[id]\n"
     ],
     "language": "python",
     "metadata": {},
     "outputs": [
      {
       "output_type": "stream",
       "stream": "stdout",
       "text": [
        "050chick70Gene\n",
        "Average Percent Genes Accurate:  82.8426452548\n"
       ]
      }
     ],
     "prompt_number": 105
    },
    {
     "cell_type": "code",
     "collapsed": false,
     "input": [
      "defaultTp = {}\n",
      "num = \"234\"\n",
      "rep = \"1\"\n",
      "error = \"1\"\n",
      "r = \"60\"\n",
      "id = \"050chick60Gene\"\n",
      "defaultTp[rep] = getGeneLevelErrors(num,rep,error,r,g)\n",
      "rep = \"2\"\n",
      "defaultTp[rep] = getGeneLevelErrors(num,rep,error,r,g)\n",
      "rep = \"3\"\n",
      "defaultTp[rep] = getGeneLevelErrors(num,rep,error,r,g)\n",
      "print id\n",
      "defaultAvgTp[id] = sum([defaultTp[\"1\"], defaultTp[\"2\"], defaultTp[\"3\"]]) / 3\n",
      "print \"Average Percent Genes Accurate: \", defaultAvgTp[id]\n"
     ],
     "language": "python",
     "metadata": {},
     "outputs": [
      {
       "output_type": "stream",
       "stream": "stdout",
       "text": [
        "050chick60Gene\n",
        "Average Percent Genes Accurate:  78.4245938813\n"
       ]
      }
     ],
     "prompt_number": 106
    },
    {
     "cell_type": "code",
     "collapsed": false,
     "input": [
      "defaultTp = {}\n",
      "num = \"234\"\n",
      "rep = \"1\"\n",
      "error = \"1\"\n",
      "r = \"50\"\n",
      "id = \"050chick50Gene\"\n",
      "defaultTp[rep] = getGeneLevelErrors(num,rep,error,r,g)\n",
      "rep = \"2\"\n",
      "defaultTp[rep] = getGeneLevelErrors(num,rep,error,r,g)\n",
      "rep = \"3\"\n",
      "defaultTp[rep] = getGeneLevelErrors(num,rep,error,r,g)\n",
      "print id\n",
      "defaultAvgTp[id] = sum([defaultTp[\"1\"], defaultTp[\"2\"], defaultTp[\"3\"]]) / 3\n",
      "print \"Average Percent Genes Accurate: \", defaultAvgTp[id]\n"
     ],
     "language": "python",
     "metadata": {},
     "outputs": [
      {
       "output_type": "stream",
       "stream": "stdout",
       "text": [
        "050chick50Gene\n",
        "Average Percent Genes Accurate:  73.5307237649\n"
       ]
      }
     ],
     "prompt_number": 107
    },
    {
     "cell_type": "code",
     "collapsed": false,
     "input": [
      "defaultTp = {}\n",
      "num = \"234\"\n",
      "rep = \"1\"\n",
      "error = \"1\"\n",
      "r = \"40\"\n",
      "id = \"050chick40Gene\"\n",
      "defaultTp[rep] = getGeneLevelErrors(num,rep,error,r,g)\n",
      "rep = \"2\"\n",
      "defaultTp[rep] = getGeneLevelErrors(num,rep,error,r,g)\n",
      "rep = \"3\"\n",
      "defaultTp[rep] = getGeneLevelErrors(num,rep,error,r,g)\n",
      "print id\n",
      "defaultAvgTp[id] = sum([defaultTp[\"1\"], defaultTp[\"2\"], defaultTp[\"3\"]]) / 3\n",
      "print \"Average Percent Genes Accurate: \", defaultAvgTp[id]\n"
     ],
     "language": "python",
     "metadata": {},
     "outputs": [
      {
       "output_type": "stream",
       "stream": "stdout",
       "text": [
        "050chick40Gene\n",
        "Average Percent Genes Accurate:  67.9974722129\n"
       ]
      }
     ],
     "prompt_number": 108
    },
    {
     "cell_type": "code",
     "collapsed": false,
     "input": [
      "defaultTp = {}\n",
      "num = \"234\"\n",
      "rep = \"1\"\n",
      "error = \"1\"\n",
      "r = \"30\"\n",
      "id = \"050chick30Gene\"\n",
      "defaultTp[rep] = getGeneLevelErrors(num,rep,error,r,g)\n",
      "rep = \"2\"\n",
      "defaultTp[rep] = getGeneLevelErrors(num,rep,error,r,g)\n",
      "rep = \"3\"\n",
      "defaultTp[rep] = getGeneLevelErrors(num,rep,error,r,g)\n",
      "print id\n",
      "defaultAvgTp[id] = sum([defaultTp[\"1\"], defaultTp[\"2\"], defaultTp[\"3\"]]) / 3\n",
      "print \"Average Percent Genes Accurate: \", defaultAvgTp[id]\n"
     ],
     "language": "python",
     "metadata": {},
     "outputs": [
      {
       "output_type": "stream",
       "stream": "stdout",
       "text": [
        "050chick30Gene\n",
        "Average Percent Genes Accurate:  62.3229619717\n"
       ]
      }
     ],
     "prompt_number": 109
    },
    {
     "cell_type": "code",
     "collapsed": false,
     "input": [
      "defaultTp = {}\n",
      "num = \"234\"\n",
      "rep = \"1\"\n",
      "error = \"1\"\n",
      "r = \"20\"\n",
      "id = \"050chick20Gene\"\n",
      "defaultTp[rep] = getGeneLevelErrors(num,rep,error,r,g)\n",
      "rep = \"2\"\n",
      "defaultTp[rep] = getGeneLevelErrors(num,rep,error,r,g)\n",
      "rep = \"3\"\n",
      "defaultTp[rep] = getGeneLevelErrors(num,rep,error,r,g)\n",
      "print id\n",
      "defaultAvgTp[id] = sum([defaultTp[\"1\"], defaultTp[\"2\"], defaultTp[\"3\"]]) / 3\n",
      "print \"Average Percent Genes Accurate: \", defaultAvgTp[id]\n"
     ],
     "language": "python",
     "metadata": {},
     "outputs": [
      {
       "output_type": "stream",
       "stream": "stdout",
       "text": [
        "050chick20Gene\n",
        "Average Percent Genes Accurate:  56.3659343519\n"
       ]
      }
     ],
     "prompt_number": 110
    },
    {
     "cell_type": "code",
     "collapsed": false,
     "input": [
      "defaultTp = {}\n",
      "num = \"234\"\n",
      "rep = \"1\"\n",
      "error = \"1\"\n",
      "r = \"10\"\n",
      "id = \"050chick10Gene\"\n",
      "defaultTp[rep] = getGeneLevelErrors(num,rep,error,r,g)\n",
      "rep = \"2\"\n",
      "defaultTp[rep] = getGeneLevelErrors(num,rep,error,r,g)\n",
      "rep = \"3\"\n",
      "defaultTp[rep] = getGeneLevelErrors(num,rep,error,r,g)\n",
      "print id\n",
      "defaultAvgTp[id] = sum([defaultTp[\"1\"], defaultTp[\"2\"], defaultTp[\"3\"]]) / 3\n",
      "print \"Average Percent Genes Accurate: \", defaultAvgTp[id]\n"
     ],
     "language": "python",
     "metadata": {},
     "outputs": [
      {
       "output_type": "stream",
       "stream": "stdout",
       "text": [
        "050chick10Gene\n",
        "Average Percent Genes Accurate:  49.8122746366\n"
       ]
      }
     ],
     "prompt_number": 111
    },
    {
     "cell_type": "raw",
     "metadata": {},
     "source": [
      "Chicken transcriptome, 75% expression, 100 bp reads, {0 10 100 1000}x expression"
     ]
    },
    {
     "cell_type": "code",
     "collapsed": false,
     "input": [
      "defaultTp = {}\n",
      "num = \"233\"\n",
      "rep = \"1\"\n",
      "error = \"1\"\n",
      "r = \"100\"\n",
      "id = \"075chick100Gene\"\n",
      "defaultTp[rep] = getGeneLevelErrors(num,rep,error,r,g)\n",
      "rep = \"2\"\n",
      "defaultTp[rep] = getGeneLevelErrors(num,rep,error,r,g)\n",
      "rep = \"3\"\n",
      "defaultTp[rep] = getGeneLevelErrors(num,rep,error,r,g)\n",
      "print id\n",
      "defaultAvgTp[id] = sum([defaultTp[\"1\"], defaultTp[\"2\"], defaultTp[\"3\"]]) / 3\n",
      "print \"Average Percent Genes Accurate: \", defaultAvgTp[id]\n"
     ],
     "language": "python",
     "metadata": {},
     "outputs": [
      {
       "output_type": "stream",
       "stream": "stdout",
       "text": [
        "075chick100Gene\n",
        "Average Percent Genes Accurate:  95.39608193\n"
       ]
      }
     ],
     "prompt_number": 132
    },
    {
     "cell_type": "code",
     "collapsed": false,
     "input": [
      "defaultTp = {}\n",
      "num = \"233\"\n",
      "rep = \"1\"\n",
      "error = \"1\"\n",
      "r = \"90\"\n",
      "id = \"075chick90Gene\"\n",
      "defaultTp[rep] = getGeneLevelErrors(num,rep,error,r,g)\n",
      "rep = \"2\"\n",
      "defaultTp[rep] = getGeneLevelErrors(num,rep,error,r,g)\n",
      "rep = \"3\"\n",
      "defaultTp[rep] = getGeneLevelErrors(num,rep,error,r,g)\n",
      "print id\n",
      "defaultAvgTp[id] = sum([defaultTp[\"1\"], defaultTp[\"2\"], defaultTp[\"3\"]]) / 3\n",
      "print \"Average Percent Genes Accurate: \", defaultAvgTp[id]\n"
     ],
     "language": "python",
     "metadata": {},
     "outputs": [
      {
       "output_type": "stream",
       "stream": "stdout",
       "text": [
        "075chick90Gene\n",
        "Average Percent Genes Accurate:  89.9855023977\n"
       ]
      }
     ],
     "prompt_number": 133
    },
    {
     "cell_type": "code",
     "collapsed": false,
     "input": [
      "defaultTp = {}\n",
      "num = \"233\"\n",
      "rep = \"1\"\n",
      "error = \"1\"\n",
      "r = \"80\"\n",
      "id = \"075chick80Gene\"\n",
      "defaultTp[rep] = getGeneLevelErrors(num,rep,error,r,g)\n",
      "rep = \"2\"\n",
      "defaultTp[rep] = getGeneLevelErrors(num,rep,error,r,g)\n",
      "rep = \"3\"\n",
      "defaultTp[rep] = getGeneLevelErrors(num,rep,error,r,g)\n",
      "print id\n",
      "defaultAvgTp[id] = sum([defaultTp[\"1\"], defaultTp[\"2\"], defaultTp[\"3\"]]) / 3\n",
      "print \"Average Percent Genes Accurate: \", defaultAvgTp[id]\n"
     ],
     "language": "python",
     "metadata": {},
     "outputs": [
      {
       "output_type": "stream",
       "stream": "stdout",
       "text": [
        "075chick80Gene\n",
        "Average Percent Genes Accurate:  84.177168135\n"
       ]
      }
     ],
     "prompt_number": 134
    },
    {
     "cell_type": "code",
     "collapsed": false,
     "input": [
      "defaultTp = {}\n",
      "num = \"233\"\n",
      "rep = \"1\"\n",
      "error = \"1\"\n",
      "r = \"70\"\n",
      "id = \"075chick70Gene\"\n",
      "defaultTp[rep] = getGeneLevelErrors(num,rep,error,r,g)\n",
      "rep = \"2\"\n",
      "defaultTp[rep] = getGeneLevelErrors(num,rep,error,r,g)\n",
      "rep = \"3\"\n",
      "defaultTp[rep] = getGeneLevelErrors(num,rep,error,r,g)\n",
      "print id\n",
      "defaultAvgTp[id] = sum([defaultTp[\"1\"], defaultTp[\"2\"], defaultTp[\"3\"]]) / 3\n",
      "print \"Average Percent Genes Accurate: \", defaultAvgTp[id]\n"
     ],
     "language": "python",
     "metadata": {},
     "outputs": [
      {
       "output_type": "stream",
       "stream": "stdout",
       "text": [
        "075chick70Gene\n",
        "Average Percent Genes Accurate:  78.1141964983\n"
       ]
      }
     ],
     "prompt_number": 135
    },
    {
     "cell_type": "code",
     "collapsed": false,
     "input": [
      "defaultTp = {}\n",
      "num = \"233\"\n",
      "rep = \"1\"\n",
      "error = \"1\"\n",
      "r = \"60\"\n",
      "id = \"075chick60Gene\"\n",
      "defaultTp[rep] = getGeneLevelErrors(num,rep,error,r,g)\n",
      "rep = \"2\"\n",
      "defaultTp[rep] = getGeneLevelErrors(num,rep,error,r,g)\n",
      "rep = \"3\"\n",
      "defaultTp[rep] = getGeneLevelErrors(num,rep,error,r,g)\n",
      "print id\n",
      "defaultAvgTp[id] = sum([defaultTp[\"1\"], defaultTp[\"2\"], defaultTp[\"3\"]]) / 3\n",
      "print \"Average Percent Genes Accurate: \", defaultAvgTp[id]\n"
     ],
     "language": "python",
     "metadata": {},
     "outputs": [
      {
       "output_type": "stream",
       "stream": "stdout",
       "text": [
        "075chick60Gene\n",
        "Average Percent Genes Accurate:  71.718523475\n"
       ]
      }
     ],
     "prompt_number": 136
    },
    {
     "cell_type": "code",
     "collapsed": false,
     "input": [
      "defaultTp = {}\n",
      "num = \"233\"\n",
      "rep = \"1\"\n",
      "error = \"1\"\n",
      "r = \"50\"\n",
      "id = \"075chick50Gene\"\n",
      "defaultTp[rep] = getGeneLevelErrors(num,rep,error,r,g)\n",
      "rep = \"2\"\n",
      "defaultTp[rep] = getGeneLevelErrors(num,rep,error,r,g)\n",
      "rep = \"3\"\n",
      "defaultTp[rep] = getGeneLevelErrors(num,rep,error,r,g)\n",
      "print id\n",
      "defaultAvgTp[id] = sum([defaultTp[\"1\"], defaultTp[\"2\"], defaultTp[\"3\"]]) / 3\n",
      "print \"Average Percent Genes Accurate: \", defaultAvgTp[id]\n"
     ],
     "language": "python",
     "metadata": {},
     "outputs": [
      {
       "output_type": "stream",
       "stream": "stdout",
       "text": [
        "075chick50Gene\n",
        "Average Percent Genes Accurate:  64.7987063678\n"
       ]
      }
     ],
     "prompt_number": 137
    },
    {
     "cell_type": "code",
     "collapsed": false,
     "input": [
      "defaultTp = {}\n",
      "num = \"233\"\n",
      "rep = \"1\"\n",
      "error = \"1\"\n",
      "r = \"40\"\n",
      "id = \"075chick40Gene\"\n",
      "defaultTp[rep] = getGeneLevelErrors(num,rep,error,r,g)\n",
      "rep = \"2\"\n",
      "defaultTp[rep] = getGeneLevelErrors(num,rep,error,r,g)\n",
      "rep = \"3\"\n",
      "defaultTp[rep] = getGeneLevelErrors(num,rep,error,r,g)\n",
      "print id\n",
      "defaultAvgTp[id] = sum([defaultTp[\"1\"], defaultTp[\"2\"], defaultTp[\"3\"]]) / 3\n",
      "print \"Average Percent Genes Accurate: \", defaultAvgTp[id]\n"
     ],
     "language": "python",
     "metadata": {},
     "outputs": [
      {
       "output_type": "stream",
       "stream": "stdout",
       "text": [
        "075chick40Gene\n",
        "Average Percent Genes Accurate:  57.447678525\n"
       ]
      }
     ],
     "prompt_number": 138
    },
    {
     "cell_type": "code",
     "collapsed": false,
     "input": [
      "defaultTp = {}\n",
      "num = \"233\"\n",
      "rep = \"1\"\n",
      "error = \"1\"\n",
      "r = \"30\"\n",
      "id = \"075chick30Gene\"\n",
      "defaultTp[rep] = getGeneLevelErrors(num,rep,error,r,g)\n",
      "rep = \"2\"\n",
      "defaultTp[rep] = getGeneLevelErrors(num,rep,error,r,g)\n",
      "rep = \"3\"\n",
      "defaultTp[rep] = getGeneLevelErrors(num,rep,error,r,g)\n",
      "print id\n",
      "defaultAvgTp[id] = sum([defaultTp[\"1\"], defaultTp[\"2\"], defaultTp[\"3\"]]) / 3\n",
      "print \"Average Percent Genes Accurate: \", defaultAvgTp[id]\n"
     ],
     "language": "python",
     "metadata": {},
     "outputs": [
      {
       "output_type": "stream",
       "stream": "stdout",
       "text": [
        "075chick30Gene\n",
        "Average Percent Genes Accurate:  49.6691572804\n"
       ]
      }
     ],
     "prompt_number": 139
    },
    {
     "cell_type": "code",
     "collapsed": false,
     "input": [
      "defaultTp = {}\n",
      "num = \"233\"\n",
      "rep = \"1\"\n",
      "error = \"1\"\n",
      "r = \"20\"\n",
      "id = \"075chick20Gene\"\n",
      "defaultTp[rep] = getGeneLevelErrors(num,rep,error,r,g)\n",
      "rep = \"2\"\n",
      "defaultTp[rep] = getGeneLevelErrors(num,rep,error,r,g)\n",
      "rep = \"3\"\n",
      "defaultTp[rep] = getGeneLevelErrors(num,rep,error,r,g)\n",
      "print id\n",
      "defaultAvgTp[id] = sum([defaultTp[\"1\"], defaultTp[\"2\"], defaultTp[\"3\"]]) / 3\n",
      "print \"Average Percent Genes Accurate: \", defaultAvgTp[id]\n"
     ],
     "language": "python",
     "metadata": {},
     "outputs": [
      {
       "output_type": "stream",
       "stream": "stdout",
       "text": [
        "075chick20Gene\n",
        "Average Percent Genes Accurate:  41.3683506189\n"
       ]
      }
     ],
     "prompt_number": 140
    },
    {
     "cell_type": "code",
     "collapsed": false,
     "input": [
      "defaultTp = {}\n",
      "num = \"233\"\n",
      "rep = \"1\"\n",
      "error = \"1\"\n",
      "r = \"10\"\n",
      "id = \"075chick10Gene\"\n",
      "defaultTp[rep] = getGeneLevelErrors(num,rep,error,r,g)\n",
      "rep = \"2\"\n",
      "defaultTp[rep] = getGeneLevelErrors(num,rep,error,r,g)\n",
      "rep = \"3\"\n",
      "defaultTp[rep] = getGeneLevelErrors(num,rep,error,r,g)\n",
      "print id\n",
      "defaultAvgTp[id] = sum([defaultTp[\"1\"], defaultTp[\"2\"], defaultTp[\"3\"]]) / 3\n",
      "print \"Average Percent Genes Accurate: \", defaultAvgTp[id]\n"
     ],
     "language": "python",
     "metadata": {},
     "outputs": [
      {
       "output_type": "stream",
       "stream": "stdout",
       "text": [
        "075chick10Gene\n",
        "Average Percent Genes Accurate:  32.5545518754\n"
       ]
      }
     ],
     "prompt_number": 141
    },
    {
     "cell_type": "raw",
     "metadata": {},
     "source": [
      "Chicken transcriptome, 100% expression, 100 bp reads, {0 10 100 1000}x expression"
     ]
    },
    {
     "cell_type": "code",
     "collapsed": false,
     "input": [
      "defaultTp = {}\n",
      "num = \"232\"\n",
      "rep = \"1\"\n",
      "error = \"1\"\n",
      "r = \"100\"\n",
      "id = \"100chick100Gene\"\n",
      "defaultTp[rep] = getGeneLevelErrors(num,rep,error,r,g)\n",
      "rep = \"2\"\n",
      "defaultTp[rep] = getGeneLevelErrors(num,rep,error,r,g)\n",
      "rep = \"3\"\n",
      "defaultTp[rep] = getGeneLevelErrors(num,rep,error,r,g)\n",
      "print id\n",
      "defaultAvgTp[id] = sum([defaultTp[\"1\"], defaultTp[\"2\"], defaultTp[\"3\"]]) / 3\n",
      "print \"Average Percent Genes Accurate: \", defaultAvgTp[id]\n"
     ],
     "language": "python",
     "metadata": {},
     "outputs": [
      {
       "output_type": "stream",
       "stream": "stdout",
       "text": [
        "100chick100Gene\n",
        "Average Percent Genes Accurate:  96.7008661388\n"
       ]
      }
     ],
     "prompt_number": 168
    },
    {
     "cell_type": "code",
     "collapsed": false,
     "input": [
      "defaultTp = {}\n",
      "num = \"232\"\n",
      "rep = \"1\"\n",
      "error = \"1\"\n",
      "r = \"90\"\n",
      "id = \"100chick090Gene\"\n",
      "defaultTp[rep] = getGeneLevelErrors(num,rep,error,r,g)\n",
      "rep = \"2\"\n",
      "defaultTp[rep] = getGeneLevelErrors(num,rep,error,r,g)\n",
      "rep = \"3\"\n",
      "defaultTp[rep] = getGeneLevelErrors(num,rep,error,r,g)\n",
      "print id\n",
      "defaultAvgTp[id] = sum([defaultTp[\"1\"], defaultTp[\"2\"], defaultTp[\"3\"]]) / 3\n",
      "print \"Average Percent Genes Accurate: \", defaultAvgTp[id]\n"
     ],
     "language": "python",
     "metadata": {},
     "outputs": [
      {
       "output_type": "stream",
       "stream": "stdout",
       "text": [
        "100chick090Gene\n",
        "Average Percent Genes Accurate:  89.5896063343\n"
       ]
      }
     ],
     "prompt_number": 169
    },
    {
     "cell_type": "code",
     "collapsed": false,
     "input": [
      "defaultTp = {}\n",
      "num = \"232\"\n",
      "rep = \"1\"\n",
      "error = \"1\"\n",
      "r = \"80\"\n",
      "id = \"100chick080Gene\"\n",
      "defaultTp[rep] = getGeneLevelErrors(num,rep,error,r,g)\n",
      "rep = \"2\"\n",
      "defaultTp[rep] = getGeneLevelErrors(num,rep,error,r,g)\n",
      "rep = \"3\"\n",
      "defaultTp[rep] = getGeneLevelErrors(num,rep,error,r,g)\n",
      "print id\n",
      "defaultAvgTp[id] = sum([defaultTp[\"1\"], defaultTp[\"2\"], defaultTp[\"3\"]]) / 3\n",
      "print \"Average Percent Genes Accurate: \", defaultAvgTp[id]\n"
     ],
     "language": "python",
     "metadata": {},
     "outputs": [
      {
       "output_type": "stream",
       "stream": "stdout",
       "text": [
        "100chick080Gene\n",
        "Average Percent Genes Accurate:  82.1995464853\n"
       ]
      }
     ],
     "prompt_number": 170
    },
    {
     "cell_type": "code",
     "collapsed": false,
     "input": [
      "defaultTp = {}\n",
      "num = \"232\"\n",
      "rep = \"1\"\n",
      "error = \"1\"\n",
      "r = \"70\"\n",
      "id = \"100chick070Gene\"\n",
      "defaultTp[rep] = getGeneLevelErrors(num,rep,error,r,g)\n",
      "rep = \"2\"\n",
      "defaultTp[rep] = getGeneLevelErrors(num,rep,error,r,g)\n",
      "rep = \"3\"\n",
      "defaultTp[rep] = getGeneLevelErrors(num,rep,error,r,g)\n",
      "print id\n",
      "defaultAvgTp[id] = sum([defaultTp[\"1\"], defaultTp[\"2\"], defaultTp[\"3\"]]) / 3\n",
      "print \"Average Percent Genes Accurate: \", defaultAvgTp[id]\n"
     ],
     "language": "python",
     "metadata": {},
     "outputs": [
      {
       "output_type": "stream",
       "stream": "stdout",
       "text": [
        "100chick070Gene\n",
        "Average Percent Genes Accurate:  74.199843872\n"
       ]
      }
     ],
     "prompt_number": 171
    },
    {
     "cell_type": "code",
     "collapsed": false,
     "input": [
      "defaultTp = {}\n",
      "num = \"232\"\n",
      "rep = \"1\"\n",
      "error = \"1\"\n",
      "r = \"60\"\n",
      "id = \"100chick060Gene\"\n",
      "defaultTp[rep] = getGeneLevelErrors(num,rep,error,r,g)\n",
      "rep = \"2\"\n",
      "defaultTp[rep] = getGeneLevelErrors(num,rep,error,r,g)\n",
      "rep = \"3\"\n",
      "defaultTp[rep] = getGeneLevelErrors(num,rep,error,r,g)\n",
      "print id\n",
      "defaultAvgTp[id] = sum([defaultTp[\"1\"], defaultTp[\"2\"], defaultTp[\"3\"]]) / 3\n",
      "print \"Average Percent Genes Accurate: \", defaultAvgTp[id]\n"
     ],
     "language": "python",
     "metadata": {},
     "outputs": [
      {
       "output_type": "stream",
       "stream": "stdout",
       "text": [
        "100chick060Gene\n",
        "Average Percent Genes Accurate:  66.131370581\n"
       ]
      }
     ],
     "prompt_number": 172
    },
    {
     "cell_type": "code",
     "collapsed": false,
     "input": [
      "defaultTp = {}\n",
      "num = \"232\"\n",
      "rep = \"1\"\n",
      "error = \"1\"\n",
      "r = \"50\"\n",
      "id = \"100chick050Gene\"\n",
      "defaultTp[rep] = getGeneLevelErrors(num,rep,error,r,g)\n",
      "rep = \"2\"\n",
      "defaultTp[rep] = getGeneLevelErrors(num,rep,error,r,g)\n",
      "rep = \"3\"\n",
      "defaultTp[rep] = getGeneLevelErrors(num,rep,error,r,g)\n",
      "print id\n",
      "defaultAvgTp[id] = sum([defaultTp[\"1\"], defaultTp[\"2\"], defaultTp[\"3\"]]) / 3\n",
      "print \"Average Percent Genes Accurate: \", defaultAvgTp[id]\n"
     ],
     "language": "python",
     "metadata": {},
     "outputs": [
      {
       "output_type": "stream",
       "stream": "stdout",
       "text": [
        "100chick050Gene\n",
        "Average Percent Genes Accurate:  57.3658971785\n"
       ]
      }
     ],
     "prompt_number": 173
    },
    {
     "cell_type": "code",
     "collapsed": false,
     "input": [
      "defaultTp = {}\n",
      "num = \"232\"\n",
      "rep = \"1\"\n",
      "error = \"1\"\n",
      "r = \"40\"\n",
      "id = \"100chick040Gene\"\n",
      "defaultTp[rep] = getGeneLevelErrors(num,rep,error,r,g)\n",
      "rep = \"2\"\n",
      "defaultTp[rep] = getGeneLevelErrors(num,rep,error,r,g)\n",
      "rep = \"3\"\n",
      "defaultTp[rep] = getGeneLevelErrors(num,rep,error,r,g)\n",
      "print id\n",
      "defaultAvgTp[id] = sum([defaultTp[\"1\"], defaultTp[\"2\"], defaultTp[\"3\"]]) / 3\n",
      "print \"Average Percent Genes Accurate: \", defaultAvgTp[id]\n"
     ],
     "language": "python",
     "metadata": {},
     "outputs": [
      {
       "output_type": "stream",
       "stream": "stdout",
       "text": [
        "100chick040Gene\n",
        "Average Percent Genes Accurate:  48.3848184082\n"
       ]
      }
     ],
     "prompt_number": 174
    },
    {
     "cell_type": "code",
     "collapsed": false,
     "input": [
      "defaultTp = {}\n",
      "num = \"232\"\n",
      "rep = \"1\"\n",
      "error = \"1\"\n",
      "r = \"30\"\n",
      "id = \"100chick030Gene\"\n",
      "defaultTp[rep] = getGeneLevelErrors(num,rep,error,r,g)\n",
      "rep = \"2\"\n",
      "defaultTp[rep] = getGeneLevelErrors(num,rep,error,r,g)\n",
      "rep = \"3\"\n",
      "defaultTp[rep] = getGeneLevelErrors(num,rep,error,r,g)\n",
      "print id\n",
      "defaultAvgTp[id] = sum([defaultTp[\"1\"], defaultTp[\"2\"], defaultTp[\"3\"]]) / 3\n",
      "print \"Average Percent Genes Accurate: \", defaultAvgTp[id]\n"
     ],
     "language": "python",
     "metadata": {},
     "outputs": [
      {
       "output_type": "stream",
       "stream": "stdout",
       "text": [
        "100chick030Gene\n",
        "Average Percent Genes Accurate:  38.831270213\n"
       ]
      }
     ],
     "prompt_number": 175
    },
    {
     "cell_type": "code",
     "collapsed": false,
     "input": [
      "defaultTp = {}\n",
      "num = \"232\"\n",
      "rep = \"1\"\n",
      "error = \"1\"\n",
      "r = \"20\"\n",
      "id = \"100chick020Gene\"\n",
      "defaultTp[rep] = getGeneLevelErrors(num,rep,error,r,g)\n",
      "rep = \"2\"\n",
      "defaultTp[rep] = getGeneLevelErrors(num,rep,error,r,g)\n",
      "rep = \"3\"\n",
      "defaultTp[rep] = getGeneLevelErrors(num,rep,error,r,g)\n",
      "print id\n",
      "defaultAvgTp[id] = sum([defaultTp[\"1\"], defaultTp[\"2\"], defaultTp[\"3\"]]) / 3\n",
      "print \"Average Percent Genes Accurate: \", defaultAvgTp[id]\n"
     ],
     "language": "python",
     "metadata": {},
     "outputs": [
      {
       "output_type": "stream",
       "stream": "stdout",
       "text": [
        "100chick020Gene\n",
        "Average Percent Genes Accurate:  28.5825805732\n"
       ]
      }
     ],
     "prompt_number": 176
    },
    {
     "cell_type": "code",
     "collapsed": false,
     "input": [
      "defaultTp = {}\n",
      "num = \"232\"\n",
      "rep = \"1\"\n",
      "error = \"1\"\n",
      "r = \"10\"\n",
      "id = \"100chick010Gene\"\n",
      "defaultTp[rep] = getGeneLevelErrors(num,rep,error,r,g)\n",
      "rep = \"2\"\n",
      "defaultTp[rep] = getGeneLevelErrors(num,rep,error,r,g)\n",
      "rep = \"3\"\n",
      "defaultTp[rep] = getGeneLevelErrors(num,rep,error,r,g)\n",
      "print id\n",
      "defaultAvgTp[id] = sum([defaultTp[\"1\"], defaultTp[\"2\"], defaultTp[\"3\"]]) / 3\n",
      "print \"Average Percent Genes Accurate: \", defaultAvgTp[id]\n"
     ],
     "language": "python",
     "metadata": {},
     "outputs": [
      {
       "output_type": "stream",
       "stream": "stdout",
       "text": [
        "100chick010Gene\n",
        "Average Percent Genes Accurate:  17.9268428683\n"
       ]
      }
     ],
     "prompt_number": 177
    },
    {
     "cell_type": "code",
     "collapsed": false,
     "input": [
      "print \"Gene Expression Accuracy for Chicken Transcriptome with Varying Percentages of Randomly Selected Transcript Expression (Single End Reads)\"\n",
      "print \"PercRefExpressed\\t10\\t20\\t30\\t40\\t50\\t60\\t70\\t80\\t90\\t100\"\n",
      "id = \"025\"\n",
      "print \"25\\t\\t\" + str(defaultAvgTp[id+\"chick010Gene\"])[0:5] + \"\\t\" + str(defaultAvgTp[\"025chick020Gene\"])[0:5] + \"\\t\" + str(defaultAvgTp[id+\"chick030Gene\"])[0:5] + \"\\t\" + str(defaultAvgTp[id+\"chick040Gene\"])[0:5] + \"\\t\" + str(defaultAvgTp[id+\"chick050Gene\"])[0:5] + \"\\t\" + str(defaultAvgTp[id+\"chick060Gene\"])[0:5] + \"\\t\" + str(defaultAvgTp[id+\"chick070Gene\"])[0:5] + \"\\t\" + str(defaultAvgTp[id+\"chick080Gene\"])[0:5] + \"\\t\" + str(defaultAvgTp[id+\"chick090Gene\"])[0:5] + \"\\t\" + str(defaultAvgTp[id+\"chick100Gene\"])[0:5]\n",
      "id = \"050\"\n",
      "print \"50\\t\\t\" + str(defaultAvgTp[id+\"chick10Gene\"])[0:5] + \"\\t\" + str(defaultAvgTp[id+\"chick20Gene\"])[0:5] + \"\\t\" + str(defaultAvgTp[id+\"chick30Gene\"])[0:5] + \"\\t\" + str(defaultAvgTp[id+\"chick40Gene\"])[0:5] + \"\\t\" + str(defaultAvgTp[id+\"chick50Gene\"])[0:5] + \"\\t\" + str(defaultAvgTp[id+\"chick60Gene\"])[0:5] + \"\\t\" + str(defaultAvgTp[id+\"chick70Gene\"])[0:5] + \"\\t\" + str(defaultAvgTp[id+\"chick80Gene\"])[0:5] + \"\\t\" + str(defaultAvgTp[id+\"chick90Gene\"])[0:5] + \"\\t\" + str(defaultAvgTp[id+\"chick100Gene\"])[0:5]\n",
      "id = \"075\"\n",
      "print \"50\\t\\t\" + str(defaultAvgTp[id+\"chick10Gene\"])[0:5] + \"\\t\" + str(defaultAvgTp[id+\"chick20Gene\"])[0:5] + \"\\t\" + str(defaultAvgTp[id+\"chick30Gene\"])[0:5] + \"\\t\" + str(defaultAvgTp[id+\"chick40Gene\"])[0:5] + \"\\t\" + str(defaultAvgTp[id+\"chick50Gene\"])[0:5] + \"\\t\" + str(defaultAvgTp[id+\"chick60Gene\"])[0:5] + \"\\t\" + str(defaultAvgTp[id+\"chick70Gene\"])[0:5] + \"\\t\" + str(defaultAvgTp[id+\"chick80Gene\"])[0:5] + \"\\t\" + str(defaultAvgTp[id+\"chick90Gene\"])[0:5] + \"\\t\" + str(defaultAvgTp[id+\"chick100Gene\"])[0:5]\n",
      "id = \"100\"\n",
      "print \"100\\t\\t\" + str(defaultAvgTp[id+\"chick010Gene\"])[0:5] + \"\\t\" + str(defaultAvgTp[id+\"chick020Gene\"])[0:5] + \"\\t\" + str(defaultAvgTp[id+\"chick030Gene\"])[0:5] + \"\\t\" + str(defaultAvgTp[id+\"chick040Gene\"])[0:5] + \"\\t\" + str(defaultAvgTp[id+\"chick050Gene\"])[0:5] + \"\\t\" + str(defaultAvgTp[id+\"chick060Gene\"])[0:5] + \"\\t\" + str(defaultAvgTp[id+\"chick070Gene\"])[0:5] + \"\\t\" + str(defaultAvgTp[id+\"chick080Gene\"])[0:5] + \"\\t\" + str(defaultAvgTp[id+\"chick090Gene\"])[0:5] + \"\\t\" + str(defaultAvgTp[id+\"chick100Gene\"])[0:5]\n"
     ],
     "language": "python",
     "metadata": {},
     "outputs": [
      {
       "output_type": "stream",
       "stream": "stdout",
       "text": [
        "Gene Expression Accuracy for Chicken Transcriptome with Varying Percentages of Randomly Selected Transcript Expression (Single End Reads)\n",
        "PercRefExpressed\t10\t20\t30\t40\t50\t60\t70\t80\t90\t100\n",
        "25\t\t71.45\t74.95\t78.26\t81.19\t84.26\t86.79\t88.87\t91.38\t93.26\t95.19\n",
        "50\t\t49.81\t56.36\t62.32\t67.99\t73.53\t78.42\t82.84\t87.04\t91.09\t94.83\n",
        "50\t\t32.55\t41.36\t49.66\t57.44\t64.79\t71.71\t78.11\t84.17\t89.98\t95.39\n",
        "100\t\t17.92\t28.58\t38.83\t48.38\t57.36\t66.13\t74.19\t82.19\t89.58\t96.70\n"
       ]
      }
     ],
     "prompt_number": 414
    },
    {
     "cell_type": "heading",
     "level": 2,
     "metadata": {},
     "source": [
      "Test 7: Transcript family expression accuracy of read sets generated from 25, 50, 75, 100% expressed full chicken transcriptome with incomplete reference transcriptome"
     ]
    },
    {
     "cell_type": "raw",
     "metadata": {},
     "source": [
      "Chicken transcriptome, 25% expression, 100 bp reads, {0 10 100 1000}x expression"
     ]
    },
    {
     "cell_type": "code",
     "collapsed": false,
     "input": [
      "defaultTp = {}\n",
      "num = \"235\"\n",
      "rep = \"1\"\n",
      "error = \"1\"\n",
      "r = \"100\"\n",
      "id = \"025chick100Tfam\"\n",
      "defaultTp[rep] = getTfamLevelErrors(num,rep,error,r,g)\n",
      "rep = \"2\"\n",
      "defaultTp[rep] = getTfamLevelErrors(num,rep,error,r,g)\n",
      "rep = \"3\"\n",
      "defaultTp[rep] = getTfamLevelErrors(num,rep,error,r,g)\n",
      "print id\n",
      "defaultAvgTp[id] = sum([defaultTp[\"1\"], defaultTp[\"2\"], defaultTp[\"3\"]]) / 3\n",
      "print \"Average Percent Transcript Families Accurate: \", defaultAvgTp[id]\n"
     ],
     "language": "python",
     "metadata": {},
     "outputs": [
      {
       "output_type": "stream",
       "stream": "stdout",
       "text": [
        "025chick100Tfam\n",
        "Average Percent Transcript Families Accurate:  99.8832684825\n"
       ]
      }
     ],
     "prompt_number": 73
    },
    {
     "cell_type": "code",
     "collapsed": false,
     "input": [
      "defaultTp = {}\n",
      "num = \"235\"\n",
      "rep = \"1\"\n",
      "error = \"1\"\n",
      "r = \"90\"\n",
      "id = \"025chick090Tfam\"\n",
      "defaultTp[rep] = getTfamLevelErrors(num,rep,error,r,g)\n",
      "rep = \"2\"\n",
      "defaultTp[rep] = getTfamLevelErrors(num,rep,error,r,g)\n",
      "rep = \"3\"\n",
      "defaultTp[rep] = getTfamLevelErrors(num,rep,error,r,g)\n",
      "print id\n",
      "defaultAvgTp[id] = sum([defaultTp[\"1\"], defaultTp[\"2\"], defaultTp[\"3\"]]) / 3\n",
      "print \"Average Percent Transcript Families Accurate: \", defaultAvgTp[id]\n"
     ],
     "language": "python",
     "metadata": {},
     "outputs": [
      {
       "output_type": "stream",
       "stream": "stdout",
       "text": [
        "025chick090Tfam\n",
        "Average Percent Transcript Families Accurate:  97.6891482923\n"
       ]
      }
     ],
     "prompt_number": 74
    },
    {
     "cell_type": "code",
     "collapsed": false,
     "input": [
      "defaultTp = {}\n",
      "num = \"235\"\n",
      "rep = \"1\"\n",
      "error = \"1\"\n",
      "r = \"80\"\n",
      "id = \"025chick080Tfam\"\n",
      "defaultTp[rep] = getTfamLevelErrors(num,rep,error,r,g)\n",
      "rep = \"2\"\n",
      "defaultTp[rep] = getTfamLevelErrors(num,rep,error,r,g)\n",
      "rep = \"3\"\n",
      "defaultTp[rep] = getTfamLevelErrors(num,rep,error,r,g)\n",
      "print id\n",
      "defaultAvgTp[id] = sum([defaultTp[\"1\"], defaultTp[\"2\"], defaultTp[\"3\"]]) / 3\n",
      "print \"Average Percent Transcript Families Accurate: \", defaultAvgTp[id]\n"
     ],
     "language": "python",
     "metadata": {},
     "outputs": [
      {
       "output_type": "stream",
       "stream": "stdout",
       "text": [
        "025chick080Tfam\n",
        "Average Percent Transcript Families Accurate:  95.5209684393\n"
       ]
      }
     ],
     "prompt_number": 75
    },
    {
     "cell_type": "code",
     "collapsed": false,
     "input": [
      "defaultTp = {}\n",
      "num = \"235\"\n",
      "rep = \"1\"\n",
      "error = \"1\"\n",
      "r = \"70\"\n",
      "id = \"025chick070Tfam\"\n",
      "defaultTp[rep] = getTfamLevelErrors(num,rep,error,r,g)\n",
      "rep = \"2\"\n",
      "defaultTp[rep] = getTfamLevelErrors(num,rep,error,r,g)\n",
      "rep = \"3\"\n",
      "defaultTp[rep] = getTfamLevelErrors(num,rep,error,r,g)\n",
      "print id\n",
      "defaultAvgTp[id] = sum([defaultTp[\"1\"], defaultTp[\"2\"], defaultTp[\"3\"]]) / 3\n",
      "print \"Average Percent Transcript Families Accurate: \", defaultAvgTp[id]\n"
     ],
     "language": "python",
     "metadata": {},
     "outputs": [
      {
       "output_type": "stream",
       "stream": "stdout",
       "text": [
        "025chick070Tfam\n",
        "Average Percent Transcript Families Accurate:  92.6848249027\n"
       ]
      }
     ],
     "prompt_number": 76
    },
    {
     "cell_type": "code",
     "collapsed": false,
     "input": [
      "defaultTp = {}\n",
      "num = \"235\"\n",
      "rep = \"1\"\n",
      "error = \"1\"\n",
      "r = \"60\"\n",
      "id = \"025chick060Tfam\"\n",
      "defaultTp[rep] = getTfamLevelErrors(num,rep,error,r,g)\n",
      "rep = \"2\"\n",
      "defaultTp[rep] = getTfamLevelErrors(num,rep,error,r,g)\n",
      "rep = \"3\"\n",
      "defaultTp[rep] = getTfamLevelErrors(num,rep,error,r,g)\n",
      "print id\n",
      "defaultAvgTp[id] = sum([defaultTp[\"1\"], defaultTp[\"2\"], defaultTp[\"3\"]]) / 3\n",
      "print \"Average Percent Transcript Families Accurate: \", defaultAvgTp[id]\n"
     ],
     "language": "python",
     "metadata": {},
     "outputs": [
      {
       "output_type": "stream",
       "stream": "stdout",
       "text": [
        "025chick060Tfam\n",
        "Average Percent Transcript Families Accurate:  90.3307392996\n"
       ]
      }
     ],
     "prompt_number": 77
    },
    {
     "cell_type": "code",
     "collapsed": false,
     "input": [
      "defaultTp = {}\n",
      "num = \"235\"\n",
      "rep = \"1\"\n",
      "error = \"1\"\n",
      "r = \"50\"\n",
      "id = \"025chick050Tfam\"\n",
      "defaultTp[rep] = getTfamLevelErrors(num,rep,error,r,g)\n",
      "rep = \"2\"\n",
      "defaultTp[rep] = getTfamLevelErrors(num,rep,error,r,g)\n",
      "rep = \"3\"\n",
      "defaultTp[rep] = getTfamLevelErrors(num,rep,error,r,g)\n",
      "print id\n",
      "defaultAvgTp[id] = sum([defaultTp[\"1\"], defaultTp[\"2\"], defaultTp[\"3\"]]) / 3\n",
      "print \"Average Percent Transcript Families Accurate: \", defaultAvgTp[id]\n"
     ],
     "language": "python",
     "metadata": {},
     "outputs": [
      {
       "output_type": "stream",
       "stream": "stdout",
       "text": [
        "025chick050Tfam\n",
        "Average Percent Transcript Families Accurate:  87.4124513619\n"
       ]
      }
     ],
     "prompt_number": 78
    },
    {
     "cell_type": "code",
     "collapsed": false,
     "input": [
      "defaultTp = {}\n",
      "num = \"235\"\n",
      "rep = \"1\"\n",
      "error = \"1\"\n",
      "r = \"40\"\n",
      "id = \"025chick040Tfam\"\n",
      "defaultTp[rep] = getTfamLevelErrors(num,rep,error,r,g)\n",
      "rep = \"2\"\n",
      "defaultTp[rep] = getTfamLevelErrors(num,rep,error,r,g)\n",
      "rep = \"3\"\n",
      "defaultTp[rep] = getTfamLevelErrors(num,rep,error,r,g)\n",
      "print id\n",
      "defaultAvgTp[id] = sum([defaultTp[\"1\"], defaultTp[\"2\"], defaultTp[\"3\"]]) / 3\n",
      "print \"Average Percent Transcript Families Accurate: \", defaultAvgTp[id]\n"
     ],
     "language": "python",
     "metadata": {},
     "outputs": [
      {
       "output_type": "stream",
       "stream": "stdout",
       "text": [
        "025chick040Tfam\n",
        "Average Percent Transcript Families Accurate:  83.9559014267\n"
       ]
      }
     ],
     "prompt_number": 79
    },
    {
     "cell_type": "code",
     "collapsed": false,
     "input": [
      "defaultTp = {}\n",
      "num = \"235\"\n",
      "rep = \"1\"\n",
      "error = \"1\"\n",
      "r = \"30\"\n",
      "id = \"025chick030Tfam\"\n",
      "defaultTp[rep] = getTfamLevelErrors(num,rep,error,r,g)\n",
      "rep = \"2\"\n",
      "defaultTp[rep] = getTfamLevelErrors(num,rep,error,r,g)\n",
      "rep = \"3\"\n",
      "defaultTp[rep] = getTfamLevelErrors(num,rep,error,r,g)\n",
      "print id\n",
      "defaultAvgTp[id] = sum([defaultTp[\"1\"], defaultTp[\"2\"], defaultTp[\"3\"]]) / 3\n",
      "print \"Average Percent Transcript Families Accurate: \", defaultAvgTp[id]\n"
     ],
     "language": "python",
     "metadata": {},
     "outputs": [
      {
       "output_type": "stream",
       "stream": "stdout",
       "text": [
        "025chick030Tfam\n",
        "Average Percent Transcript Families Accurate:  80.6766104626\n"
       ]
      }
     ],
     "prompt_number": 80
    },
    {
     "cell_type": "code",
     "collapsed": false,
     "input": [
      "defaultTp = {}\n",
      "num = \"235\"\n",
      "rep = \"1\"\n",
      "error = \"1\"\n",
      "r = \"20\"\n",
      "id = \"025chick020Tfam\"\n",
      "defaultTp[rep] = getTfamLevelErrors(num,rep,error,r,g)\n",
      "rep = \"2\"\n",
      "defaultTp[rep] = getTfamLevelErrors(num,rep,error,r,g)\n",
      "rep = \"3\"\n",
      "defaultTp[rep] = getTfamLevelErrors(num,rep,error,r,g)\n",
      "print id\n",
      "defaultAvgTp[id] = sum([defaultTp[\"1\"], defaultTp[\"2\"], defaultTp[\"3\"]]) / 3\n",
      "print \"Average Percent Transcript Families Accurate: \", defaultAvgTp[id]\n"
     ],
     "language": "python",
     "metadata": {},
     "outputs": [
      {
       "output_type": "stream",
       "stream": "stdout",
       "text": [
        "025chick020Tfam\n",
        "Average Percent Transcript Families Accurate:  76.9930825767\n"
       ]
      }
     ],
     "prompt_number": 81
    },
    {
     "cell_type": "code",
     "collapsed": false,
     "input": [
      "defaultTp = {}\n",
      "num = \"235\"\n",
      "rep = \"1\"\n",
      "error = \"1\"\n",
      "r = \"10\"\n",
      "id = \"025chick010Tfam\"\n",
      "defaultTp[rep] = getTfamLevelErrors(num,rep,error,r,g)\n",
      "rep = \"2\"\n",
      "defaultTp[rep] = getTfamLevelErrors(num,rep,error,r,g)\n",
      "rep = \"3\"\n",
      "defaultTp[rep] = getTfamLevelErrors(num,rep,error,r,g)\n",
      "print id\n",
      "defaultAvgTp[id] = sum([defaultTp[\"1\"], defaultTp[\"2\"], defaultTp[\"3\"]]) / 3\n",
      "print \"Average Percent Transcript Families Accurate: \", defaultAvgTp[id]\n"
     ],
     "language": "python",
     "metadata": {},
     "outputs": [
      {
       "output_type": "stream",
       "stream": "stdout",
       "text": [
        "025chick010Tfam\n",
        "Average Percent Transcript Families Accurate:  73.0523130134\n"
       ]
      }
     ],
     "prompt_number": 82
    },
    {
     "cell_type": "raw",
     "metadata": {},
     "source": [
      "Chicken transcriptome, 50% expression, 100 bp reads, {0 10 100 1000}x expression"
     ]
    },
    {
     "cell_type": "code",
     "collapsed": false,
     "input": [
      "defaultTp = {}\n",
      "num = \"234\"\n",
      "rep = \"1\"\n",
      "error = \"1\"\n",
      "r = \"100\"\n",
      "id = \"050chick100Tfam\"\n",
      "defaultTp[rep] = getTfamLevelErrors(num,rep,error,r,g)\n",
      "rep = \"2\"\n",
      "defaultTp[rep] = getTfamLevelErrors(num,rep,error,r,g)\n",
      "rep = \"3\"\n",
      "defaultTp[rep] = getTfamLevelErrors(num,rep,error,r,g)\n",
      "print id\n",
      "defaultAvgTp[id] = sum([defaultTp[\"1\"], defaultTp[\"2\"], defaultTp[\"3\"]]) / 3\n",
      "print \"Average Percent Transcript Families Accurate: \", defaultAvgTp[id]\n"
     ],
     "language": "python",
     "metadata": {},
     "outputs": [
      {
       "output_type": "stream",
       "stream": "stdout",
       "text": [
        "050chick100Tfam\n",
        "Average Percent Transcript Families Accurate:  99.8465196714\n"
       ]
      }
     ],
     "prompt_number": 112
    },
    {
     "cell_type": "code",
     "collapsed": false,
     "input": [
      "defaultTp = {}\n",
      "num = \"234\"\n",
      "rep = \"1\"\n",
      "error = \"1\"\n",
      "r = \"90\"\n",
      "id = \"050chick090Tfam\"\n",
      "defaultTp[rep] = getTfamLevelErrors(num,rep,error,r,g)\n",
      "rep = \"2\"\n",
      "defaultTp[rep] = getTfamLevelErrors(num,rep,error,r,g)\n",
      "rep = \"3\"\n",
      "defaultTp[rep] = getTfamLevelErrors(num,rep,error,r,g)\n",
      "print id\n",
      "defaultAvgTp[id] = sum([defaultTp[\"1\"], defaultTp[\"2\"], defaultTp[\"3\"]]) / 3\n",
      "print \"Average Percent Transcript Families Accurate: \", defaultAvgTp[id]\n"
     ],
     "language": "python",
     "metadata": {},
     "outputs": [
      {
       "output_type": "stream",
       "stream": "stdout",
       "text": [
        "050chick090Tfam\n",
        "Average Percent Transcript Families Accurate:  95.60743623\n"
       ]
      }
     ],
     "prompt_number": 113
    },
    {
     "cell_type": "code",
     "collapsed": false,
     "input": [
      "defaultTp = {}\n",
      "num = \"234\"\n",
      "rep = \"1\"\n",
      "error = \"1\"\n",
      "r = \"80\"\n",
      "id = \"050chick080Tfam\"\n",
      "defaultTp[rep] = getTfamLevelErrors(num,rep,error,r,g)\n",
      "rep = \"2\"\n",
      "defaultTp[rep] = getTfamLevelErrors(num,rep,error,r,g)\n",
      "rep = \"3\"\n",
      "defaultTp[rep] = getTfamLevelErrors(num,rep,error,r,g)\n",
      "print id\n",
      "defaultAvgTp[id] = sum([defaultTp[\"1\"], defaultTp[\"2\"], defaultTp[\"3\"]]) / 3\n",
      "print \"Average Percent Transcript Families Accurate: \", defaultAvgTp[id]\n"
     ],
     "language": "python",
     "metadata": {},
     "outputs": [
      {
       "output_type": "stream",
       "stream": "stdout",
       "text": [
        "050chick080Tfam\n",
        "Average Percent Transcript Families Accurate:  91.0678772157\n"
       ]
      }
     ],
     "prompt_number": 114
    },
    {
     "cell_type": "code",
     "collapsed": false,
     "input": [
      "defaultTp = {}\n",
      "num = \"234\"\n",
      "rep = \"1\"\n",
      "error = \"1\"\n",
      "r = \"70\"\n",
      "id = \"050chick070Tfam\"\n",
      "defaultTp[rep] = getTfamLevelErrors(num,rep,error,r,g)\n",
      "rep = \"2\"\n",
      "defaultTp[rep] = getTfamLevelErrors(num,rep,error,r,g)\n",
      "rep = \"3\"\n",
      "defaultTp[rep] = getTfamLevelErrors(num,rep,error,r,g)\n",
      "print id\n",
      "defaultAvgTp[id] = sum([defaultTp[\"1\"], defaultTp[\"2\"], defaultTp[\"3\"]]) / 3\n",
      "print \"Average Percent Transcript Families Accurate: \", defaultAvgTp[id]\n"
     ],
     "language": "python",
     "metadata": {},
     "outputs": [
      {
       "output_type": "stream",
       "stream": "stdout",
       "text": [
        "050chick070Tfam\n",
        "Average Percent Transcript Families Accurate:  86.3359273671\n"
       ]
      }
     ],
     "prompt_number": 115
    },
    {
     "cell_type": "code",
     "collapsed": false,
     "input": [
      "defaultTp = {}\n",
      "num = \"234\"\n",
      "rep = \"1\"\n",
      "error = \"1\"\n",
      "r = \"60\"\n",
      "id = \"050chick060Tfam\"\n",
      "defaultTp[rep] = getTfamLevelErrors(num,rep,error,r,g)\n",
      "rep = \"2\"\n",
      "defaultTp[rep] = getTfamLevelErrors(num,rep,error,r,g)\n",
      "rep = \"3\"\n",
      "defaultTp[rep] = getTfamLevelErrors(num,rep,error,r,g)\n",
      "print id\n",
      "defaultAvgTp[id] = sum([defaultTp[\"1\"], defaultTp[\"2\"], defaultTp[\"3\"]]) / 3\n",
      "print \"Average Percent Transcript Families Accurate: \", defaultAvgTp[id]\n"
     ],
     "language": "python",
     "metadata": {},
     "outputs": [
      {
       "output_type": "stream",
       "stream": "stdout",
       "text": [
        "050chick060Tfam\n",
        "Average Percent Transcript Families Accurate:  81.3510592304\n"
       ]
      }
     ],
     "prompt_number": 116
    },
    {
     "cell_type": "code",
     "collapsed": false,
     "input": [
      "defaultTp = {}\n",
      "num = \"234\"\n",
      "rep = \"1\"\n",
      "error = \"1\"\n",
      "r = \"50\"\n",
      "id = \"050chick050Tfam\"\n",
      "defaultTp[rep] = getTfamLevelErrors(num,rep,error,r,g)\n",
      "rep = \"2\"\n",
      "defaultTp[rep] = getTfamLevelErrors(num,rep,error,r,g)\n",
      "rep = \"3\"\n",
      "defaultTp[rep] = getTfamLevelErrors(num,rep,error,r,g)\n",
      "print id\n",
      "defaultAvgTp[id] = sum([defaultTp[\"1\"], defaultTp[\"2\"], defaultTp[\"3\"]]) / 3\n",
      "print \"Average Percent Transcript Families Accurate: \", defaultAvgTp[id]\n"
     ],
     "language": "python",
     "metadata": {},
     "outputs": [
      {
       "output_type": "stream",
       "stream": "stdout",
       "text": [
        "050chick050Tfam\n",
        "Average Percent Transcript Families Accurate:  75.9208819715\n"
       ]
      }
     ],
     "prompt_number": 117
    },
    {
     "cell_type": "code",
     "collapsed": false,
     "input": [
      "defaultTp = {}\n",
      "num = \"234\"\n",
      "rep = \"1\"\n",
      "error = \"1\"\n",
      "r = \"40\"\n",
      "id = \"050chick040Tfam\"\n",
      "defaultTp[rep] = getTfamLevelErrors(num,rep,error,r,g)\n",
      "rep = \"2\"\n",
      "defaultTp[rep] = getTfamLevelErrors(num,rep,error,r,g)\n",
      "rep = \"3\"\n",
      "defaultTp[rep] = getTfamLevelErrors(num,rep,error,r,g)\n",
      "print id\n",
      "defaultAvgTp[id] = sum([defaultTp[\"1\"], defaultTp[\"2\"], defaultTp[\"3\"]]) / 3\n",
      "print \"Average Percent Transcript Families Accurate: \", defaultAvgTp[id]\n"
     ],
     "language": "python",
     "metadata": {},
     "outputs": [
      {
       "output_type": "stream",
       "stream": "stdout",
       "text": [
        "050chick040Tfam\n",
        "Average Percent Transcript Families Accurate:  69.6411586684\n"
       ]
      }
     ],
     "prompt_number": 118
    },
    {
     "cell_type": "code",
     "collapsed": false,
     "input": [
      "defaultTp = {}\n",
      "num = \"234\"\n",
      "rep = \"1\"\n",
      "error = \"1\"\n",
      "r = \"30\"\n",
      "id = \"050chick030Tfam\"\n",
      "defaultTp[rep] = getTfamLevelErrors(num,rep,error,r,g)\n",
      "rep = \"2\"\n",
      "defaultTp[rep] = getTfamLevelErrors(num,rep,error,r,g)\n",
      "rep = \"3\"\n",
      "defaultTp[rep] = getTfamLevelErrors(num,rep,error,r,g)\n",
      "print id\n",
      "defaultAvgTp[id] = sum([defaultTp[\"1\"], defaultTp[\"2\"], defaultTp[\"3\"]]) / 3\n",
      "print \"Average Percent Transcript Families Accurate: \", defaultAvgTp[id]\n"
     ],
     "language": "python",
     "metadata": {},
     "outputs": [
      {
       "output_type": "stream",
       "stream": "stdout",
       "text": [
        "050chick030Tfam\n",
        "Average Percent Transcript Families Accurate:  63.3657587549\n"
       ]
      }
     ],
     "prompt_number": 119
    },
    {
     "cell_type": "code",
     "collapsed": false,
     "input": [
      "defaultTp = {}\n",
      "num = \"234\"\n",
      "rep = \"1\"\n",
      "error = \"1\"\n",
      "r = \"20\"\n",
      "id = \"050chick020Tfam\"\n",
      "defaultTp[rep] = getTfamLevelErrors(num,rep,error,r,g)\n",
      "rep = \"2\"\n",
      "defaultTp[rep] = getTfamLevelErrors(num,rep,error,r,g)\n",
      "rep = \"3\"\n",
      "defaultTp[rep] = getTfamLevelErrors(num,rep,error,r,g)\n",
      "print id\n",
      "defaultAvgTp[id] = sum([defaultTp[\"1\"], defaultTp[\"2\"], defaultTp[\"3\"]]) / 3\n",
      "print \"Average Percent Transcript Families Accurate: \", defaultAvgTp[id]\n"
     ],
     "language": "python",
     "metadata": {},
     "outputs": [
      {
       "output_type": "stream",
       "stream": "stdout",
       "text": [
        "050chick020Tfam\n",
        "Average Percent Transcript Families Accurate:  56.6926070039\n"
       ]
      }
     ],
     "prompt_number": 120
    },
    {
     "cell_type": "code",
     "collapsed": false,
     "input": [
      "defaultTp = {}\n",
      "num = \"234\"\n",
      "rep = \"1\"\n",
      "error = \"1\"\n",
      "r = \"10\"\n",
      "id = \"050chick010Tfam\"\n",
      "defaultTp[rep] = getTfamLevelErrors(num,rep,error,r,g)\n",
      "rep = \"2\"\n",
      "defaultTp[rep] = getTfamLevelErrors(num,rep,error,r,g)\n",
      "rep = \"3\"\n",
      "defaultTp[rep] = getTfamLevelErrors(num,rep,error,r,g)\n",
      "print id\n",
      "defaultAvgTp[id] = sum([defaultTp[\"1\"], defaultTp[\"2\"], defaultTp[\"3\"]]) / 3\n",
      "print \"Average Percent Transcript Families Accurate: \", defaultAvgTp[id]\n"
     ],
     "language": "python",
     "metadata": {},
     "outputs": [
      {
       "output_type": "stream",
       "stream": "stdout",
       "text": [
        "050chick010Tfam\n",
        "Average Percent Transcript Families Accurate:  49.4725464764\n"
       ]
      }
     ],
     "prompt_number": 121
    },
    {
     "cell_type": "raw",
     "metadata": {},
     "source": [
      "Chicken transcriptome, 75% expression, 100 bp reads, {0 10 100 1000}x expression"
     ]
    },
    {
     "cell_type": "code",
     "collapsed": false,
     "input": [
      "defaultTp = {}\n",
      "num = \"233\"\n",
      "rep = \"1\"\n",
      "error = \"1\"\n",
      "r = \"100\"\n",
      "id = \"075chick100Tfam\"\n",
      "defaultTp[rep] = getTfamLevelErrors(num,rep,error,r,g)\n",
      "rep = \"2\"\n",
      "defaultTp[rep] = getTfamLevelErrors(num,rep,error,r,g)\n",
      "rep = \"3\"\n",
      "defaultTp[rep] = getTfamLevelErrors(num,rep,error,r,g)\n",
      "print id\n",
      "defaultAvgTp[id] = sum([defaultTp[\"1\"], defaultTp[\"2\"], defaultTp[\"3\"]]) / 3\n",
      "print \"Average Percent Transcript Families Accurate: \", defaultAvgTp[id]\n"
     ],
     "language": "python",
     "metadata": {},
     "outputs": [
      {
       "output_type": "stream",
       "stream": "stdout",
       "text": [
        "075chick100Tfam\n",
        "Average Percent Transcript Families Accurate:  99.8659749243\n"
       ]
      }
     ],
     "prompt_number": 143
    },
    {
     "cell_type": "code",
     "collapsed": false,
     "input": [
      "defaultTp = {}\n",
      "num = \"233\"\n",
      "rep = \"1\"\n",
      "error = \"1\"\n",
      "r = \"90\"\n",
      "id = \"075chick090Tfam\"\n",
      "defaultTp[rep] = getTfamLevelErrors(num,rep,error,r,g)\n",
      "rep = \"2\"\n",
      "defaultTp[rep] = getTfamLevelErrors(num,rep,error,r,g)\n",
      "rep = \"3\"\n",
      "defaultTp[rep] = getTfamLevelErrors(num,rep,error,r,g)\n",
      "print id\n",
      "defaultAvgTp[id] = sum([defaultTp[\"1\"], defaultTp[\"2\"], defaultTp[\"3\"]]) / 3\n",
      "print \"Average Percent Transcript Families Accurate: \", defaultAvgTp[id]\n"
     ],
     "language": "python",
     "metadata": {},
     "outputs": [
      {
       "output_type": "stream",
       "stream": "stdout",
       "text": [
        "075chick090Tfam\n",
        "Average Percent Transcript Families Accurate:  93.728923476\n"
       ]
      }
     ],
     "prompt_number": 144
    },
    {
     "cell_type": "code",
     "collapsed": false,
     "input": [
      "defaultTp = {}\n",
      "num = \"233\"\n",
      "rep = \"1\"\n",
      "error = \"1\"\n",
      "r = \"80\"\n",
      "id = \"075chick080Tfam\"\n",
      "defaultTp[rep] = getTfamLevelErrors(num,rep,error,r,g)\n",
      "rep = \"2\"\n",
      "defaultTp[rep] = getTfamLevelErrors(num,rep,error,r,g)\n",
      "rep = \"3\"\n",
      "defaultTp[rep] = getTfamLevelErrors(num,rep,error,r,g)\n",
      "print id\n",
      "defaultAvgTp[id] = sum([defaultTp[\"1\"], defaultTp[\"2\"], defaultTp[\"3\"]]) / 3\n",
      "print \"Average Percent Transcript Families Accurate: \", defaultAvgTp[id]\n"
     ],
     "language": "python",
     "metadata": {},
     "outputs": [
      {
       "output_type": "stream",
       "stream": "stdout",
       "text": [
        "075chick080Tfam\n",
        "Average Percent Transcript Families Accurate:  87.3065283182\n"
       ]
      }
     ],
     "prompt_number": 145
    },
    {
     "cell_type": "code",
     "collapsed": false,
     "input": [
      "defaultTp = {}\n",
      "num = \"233\"\n",
      "rep = \"1\"\n",
      "error = \"1\"\n",
      "r = \"70\"\n",
      "id = \"075chick070Tfam\"\n",
      "defaultTp[rep] = getTfamLevelErrors(num,rep,error,r,g)\n",
      "rep = \"2\"\n",
      "defaultTp[rep] = getTfamLevelErrors(num,rep,error,r,g)\n",
      "rep = \"3\"\n",
      "defaultTp[rep] = getTfamLevelErrors(num,rep,error,r,g)\n",
      "print id\n",
      "defaultAvgTp[id] = sum([defaultTp[\"1\"], defaultTp[\"2\"], defaultTp[\"3\"]]) / 3\n",
      "print \"Average Percent Transcript Families Accurate: \", defaultAvgTp[id]\n"
     ],
     "language": "python",
     "metadata": {},
     "outputs": [
      {
       "output_type": "stream",
       "stream": "stdout",
       "text": [
        "075chick070Tfam\n",
        "Average Percent Transcript Families Accurate:  80.5058365759\n"
       ]
      }
     ],
     "prompt_number": 146
    },
    {
     "cell_type": "code",
     "collapsed": false,
     "input": [
      "defaultTp = {}\n",
      "num = \"233\"\n",
      "rep = \"1\"\n",
      "error = \"1\"\n",
      "r = \"60\"\n",
      "id = \"075chick060Tfam\"\n",
      "defaultTp[rep] = getTfamLevelErrors(num,rep,error,r,g)\n",
      "rep = \"2\"\n",
      "defaultTp[rep] = getTfamLevelErrors(num,rep,error,r,g)\n",
      "rep = \"3\"\n",
      "defaultTp[rep] = getTfamLevelErrors(num,rep,error,r,g)\n",
      "print id\n",
      "defaultAvgTp[id] = sum([defaultTp[\"1\"], defaultTp[\"2\"], defaultTp[\"3\"]]) / 3\n",
      "print \"Average Percent Transcript Families Accurate: \", defaultAvgTp[id]\n"
     ],
     "language": "python",
     "metadata": {},
     "outputs": [
      {
       "output_type": "stream",
       "stream": "stdout",
       "text": [
        "075chick060Tfam\n",
        "Average Percent Transcript Families Accurate:  73.3376567229\n"
       ]
      }
     ],
     "prompt_number": 147
    },
    {
     "cell_type": "code",
     "collapsed": false,
     "input": [
      "defaultTp = {}\n",
      "num = \"233\"\n",
      "rep = \"1\"\n",
      "error = \"1\"\n",
      "r = \"50\"\n",
      "id = \"075chick050Tfam\"\n",
      "defaultTp[rep] = getTfamLevelErrors(num,rep,error,r,g)\n",
      "rep = \"2\"\n",
      "defaultTp[rep] = getTfamLevelErrors(num,rep,error,r,g)\n",
      "rep = \"3\"\n",
      "defaultTp[rep] = getTfamLevelErrors(num,rep,error,r,g)\n",
      "print id\n",
      "defaultAvgTp[id] = sum([defaultTp[\"1\"], defaultTp[\"2\"], defaultTp[\"3\"]]) / 3\n",
      "print \"Average Percent Transcript Families Accurate: \", defaultAvgTp[id]\n"
     ],
     "language": "python",
     "metadata": {},
     "outputs": [
      {
       "output_type": "stream",
       "stream": "stdout",
       "text": [
        "075chick050Tfam\n",
        "Average Percent Transcript Families Accurate:  65.6809338521\n"
       ]
      }
     ],
     "prompt_number": 148
    },
    {
     "cell_type": "code",
     "collapsed": false,
     "input": [
      "defaultTp = {}\n",
      "num = \"233\"\n",
      "rep = \"1\"\n",
      "error = \"1\"\n",
      "r = \"40\"\n",
      "id = \"075chick040Tfam\"\n",
      "defaultTp[rep] = getTfamLevelErrors(num,rep,error,r,g)\n",
      "rep = \"2\"\n",
      "defaultTp[rep] = getTfamLevelErrors(num,rep,error,r,g)\n",
      "rep = \"3\"\n",
      "defaultTp[rep] = getTfamLevelErrors(num,rep,error,r,g)\n",
      "print id\n",
      "defaultAvgTp[id] = sum([defaultTp[\"1\"], defaultTp[\"2\"], defaultTp[\"3\"]]) / 3\n",
      "print \"Average Percent Transcript Families Accurate: \", defaultAvgTp[id]\n"
     ],
     "language": "python",
     "metadata": {},
     "outputs": [
      {
       "output_type": "stream",
       "stream": "stdout",
       "text": [
        "075chick040Tfam\n",
        "Average Percent Transcript Families Accurate:  57.5853869434\n"
       ]
      }
     ],
     "prompt_number": 149
    },
    {
     "cell_type": "code",
     "collapsed": false,
     "input": [
      "defaultTp = {}\n",
      "num = \"233\"\n",
      "rep = \"1\"\n",
      "error = \"1\"\n",
      "r = \"30\"\n",
      "id = \"075chick030Tfam\"\n",
      "defaultTp[rep] = getTfamLevelErrors(num,rep,error,r,g)\n",
      "rep = \"2\"\n",
      "defaultTp[rep] = getTfamLevelErrors(num,rep,error,r,g)\n",
      "rep = \"3\"\n",
      "defaultTp[rep] = getTfamLevelErrors(num,rep,error,r,g)\n",
      "print id\n",
      "defaultAvgTp[id] = sum([defaultTp[\"1\"], defaultTp[\"2\"], defaultTp[\"3\"]]) / 3\n",
      "print \"Average Percent Transcript Families Accurate: \", defaultAvgTp[id]\n"
     ],
     "language": "python",
     "metadata": {},
     "outputs": [
      {
       "output_type": "stream",
       "stream": "stdout",
       "text": [
        "075chick030Tfam\n",
        "Average Percent Transcript Families Accurate:  48.9753566796\n"
       ]
      }
     ],
     "prompt_number": 150
    },
    {
     "cell_type": "code",
     "collapsed": false,
     "input": [
      "defaultTp = {}\n",
      "num = \"233\"\n",
      "rep = \"1\"\n",
      "error = \"1\"\n",
      "r = \"20\"\n",
      "id = \"075chick020Tfam\"\n",
      "defaultTp[rep] = getTfamLevelErrors(num,rep,error,r,g)\n",
      "rep = \"2\"\n",
      "defaultTp[rep] = getTfamLevelErrors(num,rep,error,r,g)\n",
      "rep = \"3\"\n",
      "defaultTp[rep] = getTfamLevelErrors(num,rep,error,r,g)\n",
      "print id\n",
      "defaultAvgTp[id] = sum([defaultTp[\"1\"], defaultTp[\"2\"], defaultTp[\"3\"]]) / 3\n",
      "print \"Average Percent Transcript Families Accurate: \", defaultAvgTp[id]\n"
     ],
     "language": "python",
     "metadata": {},
     "outputs": [
      {
       "output_type": "stream",
       "stream": "stdout",
       "text": [
        "075chick020Tfam\n",
        "Average Percent Transcript Families Accurate:  39.6670990056\n"
       ]
      }
     ],
     "prompt_number": 151
    },
    {
     "cell_type": "code",
     "collapsed": false,
     "input": [
      "defaultTp = {}\n",
      "num = \"233\"\n",
      "rep = \"1\"\n",
      "error = \"1\"\n",
      "r = \"10\"\n",
      "id = \"075chick010Tfam\"\n",
      "defaultTp[rep] = getTfamLevelErrors(num,rep,error,r,g)\n",
      "rep = \"2\"\n",
      "defaultTp[rep] = getTfamLevelErrors(num,rep,error,r,g)\n",
      "rep = \"3\"\n",
      "defaultTp[rep] = getTfamLevelErrors(num,rep,error,r,g)\n",
      "print id\n",
      "defaultAvgTp[id] = sum([defaultTp[\"1\"], defaultTp[\"2\"], defaultTp[\"3\"]]) / 3\n",
      "print \"Average Percent Transcript Families Accurate: \", defaultAvgTp[id]\n"
     ],
     "language": "python",
     "metadata": {},
     "outputs": [
      {
       "output_type": "stream",
       "stream": "stdout",
       "text": [
        "075chick010Tfam\n",
        "Average Percent Transcript Families Accurate:  30.0021616948\n"
       ]
      }
     ],
     "prompt_number": 152
    },
    {
     "cell_type": "raw",
     "metadata": {},
     "source": [
      "Chicken transcriptome, 100% expression, 100 bp reads, {0 10 100 1000}x expression"
     ]
    },
    {
     "cell_type": "code",
     "collapsed": false,
     "input": [
      "defaultTp = {}\n",
      "num = \"232\"\n",
      "rep = \"1\"\n",
      "error = \"1\"\n",
      "r = \"100\"\n",
      "id = \"100chick100Tfam\"\n",
      "defaultTp[rep] = getTfamLevelErrors(num,rep,error,r,g)\n",
      "rep = \"2\"\n",
      "defaultTp[rep] = getTfamLevelErrors(num,rep,error,r,g)\n",
      "rep = \"3\"\n",
      "defaultTp[rep] = getTfamLevelErrors(num,rep,error,r,g)\n",
      "print id\n",
      "defaultAvgTp[id] = sum([defaultTp[\"1\"], defaultTp[\"2\"], defaultTp[\"3\"]]) / 3\n",
      "print \"Average Percent Transcript Families Accurate: \", defaultAvgTp[id]\n"
     ],
     "language": "python",
     "metadata": {},
     "outputs": [
      {
       "output_type": "stream",
       "stream": "stdout",
       "text": [
        "100chick100Tfam\n",
        "Average Percent Transcript Families Accurate:  99.9027237354\n"
       ]
      }
     ],
     "prompt_number": 188
    },
    {
     "cell_type": "code",
     "collapsed": false,
     "input": [
      "defaultTp = {}\n",
      "num = \"232\"\n",
      "rep = \"1\"\n",
      "error = \"1\"\n",
      "r = \"90\"\n",
      "id = \"100chick090Tfam\"\n",
      "defaultTp[rep] = getTfamLevelErrors(num,rep,error,r,g)\n",
      "rep = \"2\"\n",
      "defaultTp[rep] = getTfamLevelErrors(num,rep,error,r,g)\n",
      "rep = \"3\"\n",
      "defaultTp[rep] = getTfamLevelErrors(num,rep,error,r,g)\n",
      "print id\n",
      "defaultAvgTp[id] = sum([defaultTp[\"1\"], defaultTp[\"2\"], defaultTp[\"3\"]]) / 3\n",
      "print \"Average Percent Transcript Families Accurate: \", defaultAvgTp[id]\n"
     ],
     "language": "python",
     "metadata": {},
     "outputs": [
      {
       "output_type": "stream",
       "stream": "stdout",
       "text": [
        "100chick090Tfam\n",
        "Average Percent Transcript Families Accurate:  91.9671422395\n"
       ]
      }
     ],
     "prompt_number": 193
    },
    {
     "cell_type": "code",
     "collapsed": false,
     "input": [
      "defaultTp = {}\n",
      "num = \"232\"\n",
      "rep = \"1\"\n",
      "error = \"1\"\n",
      "r = \"80\"\n",
      "id = \"100chick080Tfam\"\n",
      "defaultTp[rep] = getTfamLevelErrors(num,rep,error,r,g)\n",
      "rep = \"2\"\n",
      "defaultTp[rep] = getTfamLevelErrors(num,rep,error,r,g)\n",
      "rep = \"3\"\n",
      "defaultTp[rep] = getTfamLevelErrors(num,rep,error,r,g)\n",
      "print id\n",
      "defaultAvgTp[id] = sum([defaultTp[\"1\"], defaultTp[\"2\"], defaultTp[\"3\"]]) / 3\n",
      "print \"Average Percent Transcript Families Accurate: \", defaultAvgTp[id]\n"
     ],
     "language": "python",
     "metadata": {},
     "outputs": [
      {
       "output_type": "stream",
       "stream": "stdout",
       "text": [
        "100chick080Tfam\n",
        "Average Percent Transcript Families Accurate:  83.7483787289\n"
       ]
      }
     ],
     "prompt_number": 194
    },
    {
     "cell_type": "code",
     "collapsed": false,
     "input": [
      "defaultTp = {}\n",
      "num = \"232\"\n",
      "rep = \"1\"\n",
      "error = \"1\"\n",
      "r = \"70\"\n",
      "id = \"100chick070Tfam\"\n",
      "defaultTp[rep] = getTfamLevelErrors(num,rep,error,r,g)\n",
      "rep = \"2\"\n",
      "defaultTp[rep] = getTfamLevelErrors(num,rep,error,r,g)\n",
      "rep = \"3\"\n",
      "defaultTp[rep] = getTfamLevelErrors(num,rep,error,r,g)\n",
      "print id\n",
      "defaultAvgTp[id] = sum([defaultTp[\"1\"], defaultTp[\"2\"], defaultTp[\"3\"]]) / 3\n",
      "print \"Average Percent Transcript Families Accurate: \", defaultAvgTp[id]\n"
     ],
     "language": "python",
     "metadata": {},
     "outputs": [
      {
       "output_type": "stream",
       "stream": "stdout",
       "text": [
        "100chick070Tfam\n",
        "Average Percent Transcript Families Accurate:  74.8659749243\n"
       ]
      }
     ],
     "prompt_number": 195
    },
    {
     "cell_type": "code",
     "collapsed": false,
     "input": [
      "defaultTp = {}\n",
      "num = \"232\"\n",
      "rep = \"1\"\n",
      "error = \"1\"\n",
      "r = \"60\"\n",
      "id = \"100chick060Tfam\"\n",
      "defaultTp[rep] = getTfamLevelErrors(num,rep,error,r,g)\n",
      "rep = \"2\"\n",
      "defaultTp[rep] = getTfamLevelErrors(num,rep,error,r,g)\n",
      "rep = \"3\"\n",
      "defaultTp[rep] = getTfamLevelErrors(num,rep,error,r,g)\n",
      "print id\n",
      "defaultAvgTp[id] = sum([defaultTp[\"1\"], defaultTp[\"2\"], defaultTp[\"3\"]]) / 3\n",
      "print \"Average Percent Transcript Families Accurate: \", defaultAvgTp[id]\n"
     ],
     "language": "python",
     "metadata": {},
     "outputs": [
      {
       "output_type": "stream",
       "stream": "stdout",
       "text": [
        "100chick060Tfam\n",
        "Average Percent Transcript Families Accurate:  65.9122351924\n"
       ]
      }
     ],
     "prompt_number": 196
    },
    {
     "cell_type": "code",
     "collapsed": false,
     "input": [
      "defaultTp = {}\n",
      "num = \"232\"\n",
      "rep = \"1\"\n",
      "error = \"1\"\n",
      "r = \"50\"\n",
      "id = \"100chick050Tfam\"\n",
      "defaultTp[rep] = getTfamLevelErrors(num,rep,error,r,g)\n",
      "rep = \"2\"\n",
      "defaultTp[rep] = getTfamLevelErrors(num,rep,error,r,g)\n",
      "rep = \"3\"\n",
      "defaultTp[rep] = getTfamLevelErrors(num,rep,error,r,g)\n",
      "print id\n",
      "defaultAvgTp[id] = sum([defaultTp[\"1\"], defaultTp[\"2\"], defaultTp[\"3\"]]) / 3\n",
      "print \"Average Percent Transcript Families Accurate: \", defaultAvgTp[id]\n"
     ],
     "language": "python",
     "metadata": {},
     "outputs": [
      {
       "output_type": "stream",
       "stream": "stdout",
       "text": [
        "100chick050Tfam\n",
        "Average Percent Transcript Families Accurate:  56.1435365326\n"
       ]
      }
     ],
     "prompt_number": 197
    },
    {
     "cell_type": "code",
     "collapsed": false,
     "input": [
      "defaultTp = {}\n",
      "num = \"232\"\n",
      "rep = \"1\"\n",
      "error = \"1\"\n",
      "r = \"40\"\n",
      "id = \"100chick040Tfam\"\n",
      "defaultTp[rep] = getTfamLevelErrors(num,rep,error,r,g)\n",
      "rep = \"2\"\n",
      "defaultTp[rep] = getTfamLevelErrors(num,rep,error,r,g)\n",
      "rep = \"3\"\n",
      "defaultTp[rep] = getTfamLevelErrors(num,rep,error,r,g)\n",
      "print id\n",
      "defaultAvgTp[id] = sum([defaultTp[\"1\"], defaultTp[\"2\"], defaultTp[\"3\"]]) / 3\n",
      "print \"Average Percent Transcript Families Accurate: \", defaultAvgTp[id]\n"
     ],
     "language": "python",
     "metadata": {},
     "outputs": [
      {
       "output_type": "stream",
       "stream": "stdout",
       "text": [
        "100chick040Tfam\n",
        "Average Percent Transcript Families Accurate:  46.2300043234\n"
       ]
      }
     ],
     "prompt_number": 198
    },
    {
     "cell_type": "code",
     "collapsed": false,
     "input": [
      "defaultTp = {}\n",
      "num = \"232\"\n",
      "rep = \"1\"\n",
      "error = \"1\"\n",
      "r = \"30\"\n",
      "id = \"100chick030Tfam\"\n",
      "defaultTp[rep] = getTfamLevelErrors(num,rep,error,r,g)\n",
      "rep = \"2\"\n",
      "defaultTp[rep] = getTfamLevelErrors(num,rep,error,r,g)\n",
      "rep = \"3\"\n",
      "defaultTp[rep] = getTfamLevelErrors(num,rep,error,r,g)\n",
      "print id\n",
      "defaultAvgTp[id] = sum([defaultTp[\"1\"], defaultTp[\"2\"], defaultTp[\"3\"]]) / 3\n",
      "print \"Average Percent Transcript Families Accurate: \", defaultAvgTp[id]\n"
     ],
     "language": "python",
     "metadata": {},
     "outputs": [
      {
       "output_type": "stream",
       "stream": "stdout",
       "text": [
        "100chick030Tfam\n",
        "Average Percent Transcript Families Accurate:  35.7392996109\n"
       ]
      }
     ],
     "prompt_number": 199
    },
    {
     "cell_type": "code",
     "collapsed": false,
     "input": [
      "defaultTp = {}\n",
      "num = \"232\"\n",
      "rep = \"1\"\n",
      "error = \"1\"\n",
      "r = \"20\"\n",
      "id = \"100chick020Tfam\"\n",
      "defaultTp[rep] = getTfamLevelErrors(num,rep,error,r,g)\n",
      "rep = \"2\"\n",
      "defaultTp[rep] = getTfamLevelErrors(num,rep,error,r,g)\n",
      "rep = \"3\"\n",
      "defaultTp[rep] = getTfamLevelErrors(num,rep,error,r,g)\n",
      "print id\n",
      "defaultAvgTp[id] = sum([defaultTp[\"1\"], defaultTp[\"2\"], defaultTp[\"3\"]]) / 3\n",
      "print \"Average Percent Transcript Families Accurate: \", defaultAvgTp[id]\n"
     ],
     "language": "python",
     "metadata": {},
     "outputs": [
      {
       "output_type": "stream",
       "stream": "stdout",
       "text": [
        "100chick020Tfam\n",
        "Average Percent Transcript Families Accurate:  24.4379593601\n"
       ]
      }
     ],
     "prompt_number": 200
    },
    {
     "cell_type": "code",
     "collapsed": false,
     "input": [
      "defaultTp = {}\n",
      "num = \"232\"\n",
      "rep = \"1\"\n",
      "error = \"1\"\n",
      "r = \"10\"\n",
      "id = \"100chick010Tfam\"\n",
      "defaultTp[rep] = getTfamLevelErrors(num,rep,error,r,g)\n",
      "rep = \"2\"\n",
      "defaultTp[rep] = getTfamLevelErrors(num,rep,error,r,g)\n",
      "rep = \"3\"\n",
      "defaultTp[rep] = getTfamLevelErrors(num,rep,error,r,g)\n",
      "print id\n",
      "defaultAvgTp[id] = sum([defaultTp[\"1\"], defaultTp[\"2\"], defaultTp[\"3\"]]) / 3\n",
      "print \"Average Percent Transcript Families Accurate: \", defaultAvgTp[id]\n"
     ],
     "language": "python",
     "metadata": {},
     "outputs": [
      {
       "output_type": "stream",
       "stream": "stdout",
       "text": [
        "100chick010Tfam\n",
        "Average Percent Transcript Families Accurate:  12.9636835279\n"
       ]
      }
     ],
     "prompt_number": 201
    },
    {
     "cell_type": "code",
     "collapsed": false,
     "input": [
      "print \"Transcript Family Expression Accuracy for Chicken Transcriptome with Varying Percentages of Randomly Selected Transcript Expression (Single End Reads)\"\n",
      "print \"PercRefExpressed\\t10\\t20\\t30\\t40\\t50\\t60\\t70\\t80\\t90\\t100\"\n",
      "id = \"025\"\n",
      "print \"25\\t\\t\" + str(defaultAvgTp[id+\"chick010Tfam\"])[0:5] + \"\\t\" + str(defaultAvgTp[id+\"chick020Tfam\"])[0:5] + \"\\t\" + str(defaultAvgTp[id+\"chick030Tfam\"])[0:5] + \"\\t\" + str(defaultAvgTp[id+\"chick040Tfam\"])[0:5] + \"\\t\" + str(defaultAvgTp[id+\"chick050Tfam\"])[0:5] + \"\\t\" + str(defaultAvgTp[id+\"chick060Tfam\"])[0:5] + \"\\t\" + str(defaultAvgTp[id+\"chick070Tfam\"])[0:5] + \"\\t\" + str(defaultAvgTp[id+\"chick080Tfam\"])[0:5] + \"\\t\" + str(defaultAvgTp[id+\"chick090Tfam\"])[0:5] + \"\\t\" + str(defaultAvgTp[id+\"chick100Tfam\"])[0:5]\n",
      "id = \"050\"\n",
      "print \"50\\t\\t\" + str(defaultAvgTp[id+\"chick010Tfam\"])[0:5] + \"\\t\" + str(defaultAvgTp[id+\"chick020Tfam\"])[0:5] + \"\\t\" + str(defaultAvgTp[id+\"chick030Tfam\"])[0:5] + \"\\t\" + str(defaultAvgTp[id+\"chick040Tfam\"])[0:5] + \"\\t\" + str(defaultAvgTp[id+\"chick050Tfam\"])[0:5] + \"\\t\" + str(defaultAvgTp[id+\"chick060Tfam\"])[0:5] + \"\\t\" + str(defaultAvgTp[id+\"chick070Tfam\"])[0:5] + \"\\t\" + str(defaultAvgTp[id+\"chick080Tfam\"])[0:5] + \"\\t\" + str(defaultAvgTp[id+\"chick090Tfam\"])[0:5] + \"\\t\" + str(defaultAvgTp[id+\"chick100Tfam\"])[0:5]\n",
      "id = \"075\"\n",
      "print \"75\\t\\t\" + str(defaultAvgTp[id+\"chick010Tfam\"])[0:5] + \"\\t\" + str(defaultAvgTp[id+\"chick020Tfam\"])[0:5] + \"\\t\" + str(defaultAvgTp[id+\"chick030Tfam\"])[0:5] + \"\\t\" + str(defaultAvgTp[id+\"chick040Tfam\"])[0:5] + \"\\t\" + str(defaultAvgTp[id+\"chick050Tfam\"])[0:5] + \"\\t\" + str(defaultAvgTp[id+\"chick060Tfam\"])[0:5] + \"\\t\" + str(defaultAvgTp[id+\"chick070Tfam\"])[0:5] + \"\\t\" + str(defaultAvgTp[id+\"chick080Tfam\"])[0:5] + \"\\t\" + str(defaultAvgTp[id+\"chick090Tfam\"])[0:5] + \"\\t\" + str(defaultAvgTp[id+\"chick100Tfam\"])[0:5]\n",
      "id = \"100\"\n",
      "print \"100\\t\\t\" + str(defaultAvgTp[id+\"chick010Tfam\"])[0:5] + \"\\t\" + str(defaultAvgTp[id+\"chick020Tfam\"])[0:5] + \"\\t\" + str(defaultAvgTp[id+\"chick030Tfam\"])[0:5] + \"\\t\" + str(defaultAvgTp[id+\"chick040Tfam\"])[0:5] + \"\\t\" + str(defaultAvgTp[id+\"chick050Tfam\"])[0:5] + \"\\t\" + str(defaultAvgTp[id+\"chick060Tfam\"])[0:5] + \"\\t\" + str(defaultAvgTp[id+\"chick070Tfam\"])[0:5] + \"\\t\" + str(defaultAvgTp[id+\"chick080Tfam\"])[0:5] + \"\\t\" + str(defaultAvgTp[id+\"chick090Tfam\"])[0:5] + \"\\t\" + str(defaultAvgTp[id+\"chick100Tfam\"])[0:5]\n"
     ],
     "language": "python",
     "metadata": {},
     "outputs": [
      {
       "output_type": "stream",
       "stream": "stdout",
       "text": [
        "Transcript Family Expression Accuracy for Chicken Transcriptome with Varying Percentages of Randomly Selected Transcript Expression (Single End Reads)\n",
        "PercRefExpressed\t10\t20\t30\t40\t50\t60\t70\t80\t90\t100\n",
        "25\t\t73.05\t76.99\t80.67\t83.95\t87.41\t90.33\t92.68\t95.52\t97.68\t99.88\n",
        "50\t\t49.47\t56.69\t63.36\t69.64\t75.92\t81.35\t86.33\t91.06\t95.60\t99.84\n",
        "75\t\t30.00\t39.66\t48.97\t57.58\t65.68\t73.33\t80.50\t87.30\t93.72\t99.86\n",
        "100\t\t12.96\t24.43\t35.73\t46.23\t56.14\t65.91\t74.86\t83.74\t91.96\t99.90\n"
       ]
      }
     ],
     "prompt_number": 415
    },
    {
     "cell_type": "heading",
     "level": 2,
     "metadata": {},
     "source": [
      "Test 8: Mapping accuracy of reads from 100% expressed mouse transcriptome at progressively longer read lengths, single end 100 bp reads, 20x"
     ]
    },
    {
     "cell_type": "raw",
     "metadata": {},
     "source": [
      "Mouse transcriptome, single end 100 bp reads, 20x expression"
     ]
    },
    {
     "cell_type": "code",
     "collapsed": false,
     "input": [
      "defaultAvgTp = {}\n",
      "defaultAvgFp = {}\n",
      "uniqueAvgTp = {}\n",
      "uniqueAvgFp = {}\n",
      "multimapAvgTp = {}\n",
      "multimapAvgFp = {}"
     ],
     "language": "python",
     "metadata": {},
     "outputs": [],
     "prompt_number": 184
    },
    {
     "cell_type": "code",
     "collapsed": false,
     "input": [
      "num = \"201\"\n",
      "rep = \"1\"\n",
      "createDataSet(num,rep)\n",
      "!grep '>' DataSet201rep1E1R100G100.fa | wc -l\n",
      "rep = \"2\"\n",
      "createDataSet(num,rep)\n",
      "!grep '>' DataSet201rep2E1R100G100.fa | wc -l\n",
      "rep = \"3\"\n",
      "createDataSet(num,rep)\n",
      "!grep '>' DataSet201rep3E1R100G100.fa | wc -l\n"
     ],
     "language": "python",
     "metadata": {},
     "outputs": []
    },
    {
     "cell_type": "code",
     "collapsed": false,
     "input": [
      "error = \"1\"\n",
      "r = \"100\"\n",
      "g = \"100\"\n",
      "rep = \"1\"\n",
      "org = \"mouse\"\n",
      "runBowtieBuild(num,rep,error,r,g)\n",
      "runBowtieAllParams(num,rep,error,r,g,num,rep,error,r,g)\n",
      "getTruePositivesAllParams(num,rep,error,r,g,org)\n",
      "rep = \"2\"\n",
      "runBowtieBuild(num,rep,error,r,g)\n",
      "runBowtieAllParams(num,rep,error,r,g,num,rep,error,r,g)\n",
      "getTruePositivesAllParams(num,rep,error,r,g,org)\n",
      "rep = \"3\"\n",
      "runBowtieBuild(num,rep,error,r,g)\n",
      "runBowtieAllParams(num,rep,error,r,g,num,rep,error,r,g)\n",
      "getTruePositivesAllParams(num,rep,error,r,g,org)\n"
     ],
     "language": "python",
     "metadata": {},
     "outputs": []
    },
    {
     "cell_type": "code",
     "collapsed": false,
     "input": [
      "num = \"201\"\n",
      "rep = \"1\"\n",
      "error = \"1\"\n",
      "r = \"100\"\n",
      "id = \"mouse0100Se\"\n",
      "g = \"100\"\n",
      "defaultTp = {}\n",
      "defaultFp = {}\n",
      "uniqueTp = {}\n",
      "uniqueFp = {}\n",
      "multimapTp = {}\n",
      "multimapFp = {}\n",
      "defaultTp[rep],defaultFp[rep] = getTpFp(num,rep,error,r,g,\"default\",num,rep,error,r,g)\n",
      "uniqueTp[rep],uniqueFp[rep] = getTpFp(num,rep,error,r,g,\"unique\",num,rep,error,r,g)\n",
      "multimapTp[rep],multimapFp[rep] = getTpFp(num,rep,error,r,g,\"multimap\",num,rep,error,r,g)\n",
      "rep = \"2\"\n",
      "defaultTp[rep],defaultFp[rep] = getTpFp(num,rep,error,r,g,\"default\",num,rep,error,r,g)\n",
      "uniqueTp[rep],uniqueFp[rep] = getTpFp(num,rep,error,r,g,\"unique\",num,rep,error,r,g)\n",
      "multimapTp[rep],multimapFp[rep] = getTpFp(num,rep,error,r,g,\"multimap\",num,rep,error,r,g)\n",
      "rep = \"3\"\n",
      "defaultTp[rep],defaultFp[rep] = getTpFp(num,rep,error,r,g,\"default\",num,rep,error,r,g)\n",
      "uniqueTp[rep],uniqueFp[rep] = getTpFp(num,rep,error,r,g,\"unique\",num,rep,error,r,g)\n",
      "multimapTp[rep],multimapFp[rep] = getTpFp(num,rep,error,r,g,\"multimap\",num,rep,error,r,g)\n",
      "print defaultTp, defaultFp, uniqueTp, uniqueFp, multimapTp, multimapFp\n",
      "defaultAvgTp[id] = sum([defaultTp[\"1\"], defaultTp[\"2\"], defaultTp[\"3\"]]) / 3\n",
      "print \"Average Default True Positive Percentage: \", defaultAvgTp[id]\n",
      "defaultAvgFp[id] = sum([defaultFp[\"1\"], defaultFp[\"2\"], defaultFp[\"3\"]]) / 3\n",
      "print \"Average Default False Positive Percentage: \", defaultAvgFp[id]\n",
      "uniqueAvgTp[id] = sum([uniqueTp[\"1\"], uniqueTp[\"2\"], uniqueTp[\"3\"]]) / 3\n",
      "print \"Average Unique True Positive Percentage: \", uniqueAvgTp[id]\n",
      "uniqueAvgFp[id] = sum([uniqueFp[\"1\"], uniqueFp[\"2\"], uniqueFp[\"3\"]]) / 3\n",
      "print \"Average Unique False Positive Percentage: \", uniqueAvgFp[id]\n",
      "multimapAvgTp[id] = sum([multimapTp[\"1\"], multimapTp[\"2\"], multimapTp[\"3\"]]) / 3\n",
      "print \"Average Multimap True Positive Percentage: \", multimapAvgTp[id]\n",
      "multimapAvgFp[id] = sum([multimapFp[\"1\"], multimapFp[\"2\"], multimapFp[\"3\"]]) / 3\n",
      "print \"Average Multimap False Positive Percentage: \", multimapAvgFp[id]"
     ],
     "language": "python",
     "metadata": {},
     "outputs": [
      {
       "output_type": "stream",
       "stream": "stdout",
       "text": [
        "{'1': 51.385488305652686, '3': 51.49743825745925, '2': 51.53171733576075} {'1': 48.614186361807135, '3': 48.50233328889871, '2': 48.46799143397858} {'1': 28.111221786588686, '3': 28.27731587225249, '2': 28.255260880896856} {'1': 0.0, '3': 0.0, '2': 0.0} {'1': 100.39264828973151, '3': 100.46436853293666, '2': 100.35346898572696} {'1': 262.2341208112792, '3': 261.72804454516296, '2': 261.3786939182408}\n",
        "Average Default True Positive Percentage:  51.4715479663\n",
        "Average Default False Positive Percentage:  48.5281703616\n",
        "Average Unique True Positive Percentage:  28.2145995132\n",
        "Average Unique False Positive Percentage:  0.0\n",
        "Average Multimap True Positive Percentage:  100.403495269\n",
        "Average Multimap False Positive Percentage:  261.780286425\n"
       ]
      }
     ],
     "prompt_number": 303
    },
    {
     "cell_type": "raw",
     "metadata": {},
     "source": [
      "Mouse transcriptome, single end 200 bp reads, 20x expression"
     ]
    },
    {
     "cell_type": "code",
     "collapsed": false,
     "input": [
      "num = \"202\"\n",
      "rep = \"1\"\n",
      "createDataSet(num,rep)\n",
      "!grep '>' DataSet202rep1E1R100G100.fa | wc -l\n",
      "rep = \"2\"\n",
      "createDataSet(num,rep)\n",
      "!grep '>' DataSet202rep2E1R100G100.fa | wc -l\n",
      "rep = \"3\"\n",
      "createDataSet(num,rep)\n",
      "!grep '>' DataSet202rep3E1R100G100.fa | wc -l\n"
     ],
     "language": "python",
     "metadata": {},
     "outputs": []
    },
    {
     "cell_type": "code",
     "collapsed": false,
     "input": [
      "error = \"1\"\n",
      "r = \"100\"\n",
      "g = \"100\"\n",
      "rep = \"1\"\n",
      "org = \"mouse\"\n",
      "runBowtieBuild(num,rep,error,r,g)\n",
      "runBowtieAllParams(num,rep,error,r,g,num,rep,error,r,g)\n",
      "getTruePositivesAllParams(num,rep,error,r,g,org)\n",
      "rep = \"2\"\n",
      "runBowtieBuild(num,rep,error,r,g)\n",
      "runBowtieAllParams(num,rep,error,r,g,num,rep,error,r,g)\n",
      "getTruePositivesAllParams(num,rep,error,r,g,org)\n",
      "rep = \"3\"\n",
      "runBowtieBuild(num,rep,error,r,g)\n",
      "runBowtieAllParams(num,rep,error,r,g,num,rep,error,r,g)\n",
      "getTruePositivesAllParams(num,rep,error,r,g,org)\n"
     ],
     "language": "python",
     "metadata": {},
     "outputs": []
    },
    {
     "cell_type": "code",
     "collapsed": false,
     "input": [
      "num = \"202\"\n",
      "rep = \"1\"\n",
      "error = \"1\"\n",
      "r = \"100\"\n",
      "id = \"mouse0200Se\"\n",
      "g = \"100\"\n",
      "defaultTp = {}\n",
      "defaultFp = {}\n",
      "uniqueTp = {}\n",
      "uniqueFp = {}\n",
      "multimapTp = {}\n",
      "multimapFp = {}\n",
      "defaultTp[rep],defaultFp[rep] = getTpFp(num,rep,error,r,g,\"default\",num,rep,error,r,g)\n",
      "uniqueTp[rep],uniqueFp[rep] = getTpFp(num,rep,error,r,g,\"unique\",num,rep,error,r,g)\n",
      "multimapTp[rep],multimapFp[rep] = getTpFp(num,rep,error,r,g,\"multimap\",num,rep,error,r,g)\n",
      "rep = \"2\"\n",
      "defaultTp[rep],defaultFp[rep] = getTpFp(num,rep,error,r,g,\"default\",num,rep,error,r,g)\n",
      "uniqueTp[rep],uniqueFp[rep] = getTpFp(num,rep,error,r,g,\"unique\",num,rep,error,r,g)\n",
      "multimapTp[rep],multimapFp[rep] = getTpFp(num,rep,error,r,g,\"multimap\",num,rep,error,r,g)\n",
      "rep = \"3\"\n",
      "defaultTp[rep],defaultFp[rep] = getTpFp(num,rep,error,r,g,\"default\",num,rep,error,r,g)\n",
      "uniqueTp[rep],uniqueFp[rep] = getTpFp(num,rep,error,r,g,\"unique\",num,rep,error,r,g)\n",
      "multimapTp[rep],multimapFp[rep] = getTpFp(num,rep,error,r,g,\"multimap\",num,rep,error,r,g)\n",
      "print defaultTp, defaultFp, uniqueTp, uniqueFp, multimapTp, multimapFp\n",
      "defaultAvgTp[id] = sum([defaultTp[\"1\"], defaultTp[\"2\"], defaultTp[\"3\"]]) / 3\n",
      "print \"Average Default True Positive Percentage: \", defaultAvgTp[id]\n",
      "defaultAvgFp[id] = sum([defaultFp[\"1\"], defaultFp[\"2\"], defaultFp[\"3\"]]) / 3\n",
      "print \"Average Default False Positive Percentage: \", defaultAvgFp[id]\n",
      "uniqueAvgTp[id] = sum([uniqueTp[\"1\"], uniqueTp[\"2\"], uniqueTp[\"3\"]]) / 3\n",
      "print \"Average Unique True Positive Percentage: \", uniqueAvgTp[id]\n",
      "uniqueAvgFp[id] = sum([uniqueFp[\"1\"], uniqueFp[\"2\"], uniqueFp[\"3\"]]) / 3\n",
      "print \"Average Unique False Positive Percentage: \", uniqueAvgFp[id]\n",
      "multimapAvgTp[id] = sum([multimapTp[\"1\"], multimapTp[\"2\"], multimapTp[\"3\"]]) / 3\n",
      "print \"Average Multimap True Positive Percentage: \", multimapAvgTp[id]\n",
      "multimapAvgFp[id] = sum([multimapFp[\"1\"], multimapFp[\"2\"], multimapFp[\"3\"]]) / 3\n",
      "print \"Average Multimap False Positive Percentage: \", multimapAvgFp[id]"
     ],
     "language": "python",
     "metadata": {},
     "outputs": [
      {
       "output_type": "stream",
       "stream": "stdout",
       "text": [
        "{'1': 54.746023070462854, '3': 54.706908906373705, '2': 54.80434456745621} {'1': 45.253564536894544, '3': 45.29227349937388, '2': 45.19507908578659} {'1': 32.18374510348173, '3': 32.09333731166552, '2': 32.23069295763772} {'1': 0.0, '3': 0.0, '2': 0.0} {'1': 100.15423953461115, '3': 100.18870921132697, '2': 100.15108250806803} {'1': 220.45071516616588, '3': 219.53276837883746, '2': 219.10871113448985}\n",
        "Average Default True Positive Percentage:  54.7524255148\n",
        "Average Default False Positive Percentage:  45.246972374\n",
        "Average Unique True Positive Percentage:  32.1692584576\n",
        "Average Unique False Positive Percentage:  0.0\n",
        "Average Multimap True Positive Percentage:  100.164677085\n",
        "Average Multimap False Positive Percentage:  219.697398226\n"
       ]
      }
     ],
     "prompt_number": 304
    },
    {
     "cell_type": "raw",
     "metadata": {},
     "source": [
      "Mouse transcriptome, single end 300 bp reads, 20x expression"
     ]
    },
    {
     "cell_type": "code",
     "collapsed": false,
     "input": [
      "num = \"203\"\n",
      "rep = \"1\"\n",
      "createDataSet(num,rep)\n",
      "!grep '>' DataSet203rep1E1R100G100.fa | wc -l\n",
      "rep = \"2\"\n",
      "createDataSet(num,rep)\n",
      "!grep '>' DataSet203rep2E1R100G100.fa | wc -l\n",
      "rep = \"3\"\n",
      "createDataSet(num,rep)\n",
      "!grep '>' DataSet203rep3E1R100G100.fa | wc -l\n"
     ],
     "language": "python",
     "metadata": {},
     "outputs": []
    },
    {
     "cell_type": "code",
     "collapsed": false,
     "input": [
      "error = \"1\"\n",
      "r = \"100\"\n",
      "g = \"100\"\n",
      "rep = \"1\"\n",
      "org = \"mouse\"\n",
      "runBowtieBuild(num,rep,error,r,g)\n",
      "runBowtieAllParams(num,rep,error,r,g,num,rep,error,r,g)\n",
      "getTruePositivesAllParams(num,rep,error,r,g,org)\n",
      "rep = \"2\"\n",
      "runBowtieBuild(num,rep,error,r,g)\n",
      "runBowtieAllParams(num,rep,error,r,g,num,rep,error,r,g)\n",
      "getTruePositivesAllParams(num,rep,error,r,g,org)\n",
      "rep = \"3\"\n",
      "runBowtieBuild(num,rep,error,r,g)\n",
      "runBowtieAllParams(num,rep,error,r,g,num,rep,error,r,g)\n",
      "getTruePositivesAllParams(num,rep,error,r,g,org)\n"
     ],
     "language": "python",
     "metadata": {},
     "outputs": []
    },
    {
     "cell_type": "code",
     "collapsed": false,
     "input": [
      "num = \"203\"\n",
      "rep = \"1\"\n",
      "error = \"1\"\n",
      "r = \"100\"\n",
      "id = \"mouse0300Se\"\n",
      "g = \"100\"\n",
      "defaultTp = {}\n",
      "defaultFp = {}\n",
      "uniqueTp = {}\n",
      "uniqueFp = {}\n",
      "multimapTp = {}\n",
      "multimapFp = {}\n",
      "defaultTp[rep],defaultFp[rep] = getTpFp(num,rep,error,r,g,\"default\",num,rep,error,r,g)\n",
      "uniqueTp[rep],uniqueFp[rep] = getTpFp(num,rep,error,r,g,\"unique\",num,rep,error,r,g)\n",
      "multimapTp[rep],multimapFp[rep] = getTpFp(num,rep,error,r,g,\"multimap\",num,rep,error,r,g)\n",
      "rep = \"2\"\n",
      "defaultTp[rep],defaultFp[rep] = getTpFp(num,rep,error,r,g,\"default\",num,rep,error,r,g)\n",
      "uniqueTp[rep],uniqueFp[rep] = getTpFp(num,rep,error,r,g,\"unique\",num,rep,error,r,g)\n",
      "multimapTp[rep],multimapFp[rep] = getTpFp(num,rep,error,r,g,\"multimap\",num,rep,error,r,g)\n",
      "rep = \"3\"\n",
      "defaultTp[rep],defaultFp[rep] = getTpFp(num,rep,error,r,g,\"default\",num,rep,error,r,g)\n",
      "uniqueTp[rep],uniqueFp[rep] = getTpFp(num,rep,error,r,g,\"unique\",num,rep,error,r,g)\n",
      "multimapTp[rep],multimapFp[rep] = getTpFp(num,rep,error,r,g,\"multimap\",num,rep,error,r,g)\n",
      "print defaultTp, defaultFp, uniqueTp, uniqueFp, multimapTp, multimapFp\n",
      "defaultAvgTp[id] = sum([defaultTp[\"1\"], defaultTp[\"2\"], defaultTp[\"3\"]]) / 3\n",
      "print \"Average Default True Positive Percentage: \", defaultAvgTp[id]\n",
      "defaultAvgFp[id] = sum([defaultFp[\"1\"], defaultFp[\"2\"], defaultFp[\"3\"]]) / 3\n",
      "print \"Average Default False Positive Percentage: \", defaultAvgFp[id]\n",
      "uniqueAvgTp[id] = sum([uniqueTp[\"1\"], uniqueTp[\"2\"], uniqueTp[\"3\"]]) / 3\n",
      "print \"Average Unique True Positive Percentage: \", uniqueAvgTp[id]\n",
      "uniqueAvgFp[id] = sum([uniqueFp[\"1\"], uniqueFp[\"2\"], uniqueFp[\"3\"]]) / 3\n",
      "print \"Average Unique False Positive Percentage: \", uniqueAvgFp[id]\n",
      "multimapAvgTp[id] = sum([multimapTp[\"1\"], multimapTp[\"2\"], multimapTp[\"3\"]]) / 3\n",
      "print \"Average Multimap True Positive Percentage: \", multimapAvgTp[id]\n",
      "multimapAvgFp[id] = sum([multimapFp[\"1\"], multimapFp[\"2\"], multimapFp[\"3\"]]) / 3\n",
      "print \"Average Multimap False Positive Percentage: \", multimapAvgFp[id]"
     ],
     "language": "python",
     "metadata": {},
     "outputs": [
      {
       "output_type": "stream",
       "stream": "stdout",
       "text": [
        "{'1': 57.63330317293588, '3': 57.661758715593535, '2': 57.62214325106109} {'1': 42.36549069330262, '3': 42.33747738996224, '2': 42.37731009104906} {'1': 35.74098792370915, '3': 35.757304793671054, '2': 35.682341217891306} {'1': 0.0, '3': 0.0, '2': 0.0} {'1': 100.07590178600903, '3': 100.085443008205, '2': 100.09971891845227} {'1': 193.34808766434102, '3': 193.07092568940942, '2': 193.27271441626309}\n",
        "Average Default True Positive Percentage:  57.6390683799\n",
        "Average Default False Positive Percentage:  42.3600927248\n",
        "Average Unique True Positive Percentage:  35.7268779784\n",
        "Average Unique False Positive Percentage:  0.0\n",
        "Average Multimap True Positive Percentage:  100.087021238\n",
        "Average Multimap False Positive Percentage:  193.230575923\n"
       ]
      }
     ],
     "prompt_number": 305
    },
    {
     "cell_type": "raw",
     "metadata": {},
     "source": [
      "Mouse transcriptome, single end 400 bp reads, 20x expression"
     ]
    },
    {
     "cell_type": "code",
     "collapsed": false,
     "input": [
      "num = \"204\"\n",
      "rep = \"1\"\n",
      "createDataSet(num,rep)\n",
      "!grep '>' DataSet204rep1E1R100G100.fa | wc -l\n",
      "rep = \"2\"\n",
      "createDataSet(num,rep)\n",
      "!grep '>' DataSet204rep2E1R100G100.fa | wc -l\n",
      "rep = \"3\"\n",
      "createDataSet(num,rep)\n",
      "!grep '>' DataSet204rep3E1R100G100.fa | wc -l\n"
     ],
     "language": "python",
     "metadata": {},
     "outputs": []
    },
    {
     "cell_type": "code",
     "collapsed": false,
     "input": [
      "error = \"1\"\n",
      "r = \"100\"\n",
      "g = \"100\"\n",
      "rep = \"1\"\n",
      "org = \"mouse\"\n",
      "runBowtieBuild(num,rep,error,r,g)\n",
      "runBowtieAllParams(num,rep,error,r,g,num,rep,error,r,g)\n",
      "getTruePositivesAllParams(num,rep,error,r,g,org)\n",
      "rep = \"2\"\n",
      "runBowtieBuild(num,rep,error,r,g)\n",
      "runBowtieAllParams(num,rep,error,r,g,num,rep,error,r,g)\n",
      "getTruePositivesAllParams(num,rep,error,r,g,org)\n",
      "rep = \"3\"\n",
      "runBowtieBuild(num,rep,error,r,g)\n",
      "runBowtieAllParams(num,rep,error,r,g,num,rep,error,r,g)\n",
      "getTruePositivesAllParams(num,rep,error,r,g,org)\n"
     ],
     "language": "python",
     "metadata": {},
     "outputs": []
    },
    {
     "cell_type": "code",
     "collapsed": false,
     "input": [
      "num = \"204\"\n",
      "rep = \"1\"\n",
      "error = \"1\"\n",
      "r = \"100\"\n",
      "id = \"mouse0400Se\"\n",
      "g = \"100\"\n",
      "defaultTp = {}\n",
      "defaultFp = {}\n",
      "uniqueTp = {}\n",
      "uniqueFp = {}\n",
      "multimapTp = {}\n",
      "multimapFp = {}\n",
      "defaultTp[rep],defaultFp[rep] = getTpFp(num,rep,error,r,g,\"default\",num,rep,error,r,g)\n",
      "uniqueTp[rep],uniqueFp[rep] = getTpFp(num,rep,error,r,g,\"unique\",num,rep,error,r,g)\n",
      "multimapTp[rep],multimapFp[rep] = getTpFp(num,rep,error,r,g,\"multimap\",num,rep,error,r,g)\n",
      "rep = \"2\"\n",
      "defaultTp[rep],defaultFp[rep] = getTpFp(num,rep,error,r,g,\"default\",num,rep,error,r,g)\n",
      "uniqueTp[rep],uniqueFp[rep] = getTpFp(num,rep,error,r,g,\"unique\",num,rep,error,r,g)\n",
      "multimapTp[rep],multimapFp[rep] = getTpFp(num,rep,error,r,g,\"multimap\",num,rep,error,r,g)\n",
      "rep = \"3\"\n",
      "defaultTp[rep],defaultFp[rep] = getTpFp(num,rep,error,r,g,\"default\",num,rep,error,r,g)\n",
      "uniqueTp[rep],uniqueFp[rep] = getTpFp(num,rep,error,r,g,\"unique\",num,rep,error,r,g)\n",
      "multimapTp[rep],multimapFp[rep] = getTpFp(num,rep,error,r,g,\"multimap\",num,rep,error,r,g)\n",
      "print defaultTp, defaultFp, uniqueTp, uniqueFp, multimapTp, multimapFp\n",
      "defaultAvgTp[id] = sum([defaultTp[\"1\"], defaultTp[\"2\"], defaultTp[\"3\"]]) / 3\n",
      "print \"Average Default True Positive Percentage: \", defaultAvgTp[id]\n",
      "defaultAvgFp[id] = sum([defaultFp[\"1\"], defaultFp[\"2\"], defaultFp[\"3\"]]) / 3\n",
      "print \"Average Default False Positive Percentage: \", defaultAvgFp[id]\n",
      "uniqueAvgTp[id] = sum([uniqueTp[\"1\"], uniqueTp[\"2\"], uniqueTp[\"3\"]]) / 3\n",
      "print \"Average Unique True Positive Percentage: \", uniqueAvgTp[id]\n",
      "uniqueAvgFp[id] = sum([uniqueFp[\"1\"], uniqueFp[\"2\"], uniqueFp[\"3\"]]) / 3\n",
      "print \"Average Unique False Positive Percentage: \", uniqueAvgFp[id]\n",
      "multimapAvgTp[id] = sum([multimapTp[\"1\"], multimapTp[\"2\"], multimapTp[\"3\"]]) / 3\n",
      "print \"Average Multimap True Positive Percentage: \", multimapAvgTp[id]\n",
      "multimapAvgFp[id] = sum([multimapFp[\"1\"], multimapFp[\"2\"], multimapFp[\"3\"]]) / 3\n",
      "print \"Average Multimap False Positive Percentage: \", multimapAvgFp[id]"
     ],
     "language": "python",
     "metadata": {},
     "outputs": [
      {
       "output_type": "stream",
       "stream": "stdout",
       "text": [
        "{'1': 59.95737109343753, '3': 59.79548330202063, '2': 59.69313038656462} {'1': 40.04130991938142, '3': 40.2035869023427, '2': 40.30556589909612} {'1': 38.63630389806259, '3': 38.42992024845673, '2': 38.321607675813254} {'1': 0.0, '3': 0.0, '2': 0.0} {'1': 100.04964705705967, '3': 100.05809784900886, '2': 100.04470693405689} {'1': 174.70388500557343, '3': 176.71561673248726, '2': 176.482258969626}\n",
        "Average Default True Positive Percentage:  59.8153282607\n",
        "Average Default False Positive Percentage:  40.1834875736\n",
        "Average Unique True Positive Percentage:  38.4626106074\n",
        "Average Unique False Positive Percentage:  0.0\n",
        "Average Multimap True Positive Percentage:  100.05081728\n",
        "Average Multimap False Positive Percentage:  175.967253569\n"
       ]
      }
     ],
     "prompt_number": 306
    },
    {
     "cell_type": "raw",
     "metadata": {},
     "source": [
      "Mouse transcriptome, single end 500 bp reads, 20x expression"
     ]
    },
    {
     "cell_type": "code",
     "collapsed": false,
     "input": [
      "num = \"205\"\n",
      "rep = \"1\"\n",
      "createDataSet(num,rep)\n",
      "!grep '>' DataSet205rep1E1R100G100.fa | wc -l\n",
      "rep = \"2\"\n",
      "createDataSet(num,rep)\n",
      "!grep '>' DataSet205rep2E1R100G100.fa | wc -l\n",
      "rep = \"3\"\n",
      "createDataSet(num,rep)\n",
      "!grep '>' DataSet205rep3E1R100G100.fa | wc -l\n"
     ],
     "language": "python",
     "metadata": {},
     "outputs": []
    },
    {
     "cell_type": "code",
     "collapsed": false,
     "input": [
      "error = \"1\"\n",
      "r = \"100\"\n",
      "g = \"100\"\n",
      "rep = \"1\"\n",
      "org = \"mouse\"\n",
      "runBowtieBuild(num,rep,error,r,g)\n",
      "runBowtieAllParams(num,rep,error,r,g,num,rep,error,r,g)\n",
      "getTruePositivesAllParams(num,rep,error,r,g,org)\n",
      "rep = \"2\"\n",
      "runBowtieBuild(num,rep,error,r,g)\n",
      "runBowtieAllParams(num,rep,error,r,g,num,rep,error,r,g)\n",
      "getTruePositivesAllParams(num,rep,error,r,g,org)\n",
      "rep = \"3\"\n",
      "runBowtieBuild(num,rep,error,r,g)\n",
      "runBowtieAllParams(num,rep,error,r,g,num,rep,error,r,g)\n",
      "getTruePositivesAllParams(num,rep,error,r,g,org)\n"
     ],
     "language": "python",
     "metadata": {},
     "outputs": []
    },
    {
     "cell_type": "code",
     "collapsed": false,
     "input": [
      "num = \"205\"\n",
      "rep = \"1\"\n",
      "error = \"1\"\n",
      "r = \"100\"\n",
      "id = \"mouse0500Se\"\n",
      "g = \"100\"\n",
      "defaultTp = {}\n",
      "defaultFp = {}\n",
      "uniqueTp = {}\n",
      "uniqueFp = {}\n",
      "multimapTp = {}\n",
      "multimapFp = {}\n",
      "defaultTp[rep],defaultFp[rep] = getTpFp(num,rep,error,r,g,\"default\",num,rep,error,r,g)\n",
      "uniqueTp[rep],uniqueFp[rep] = getTpFp(num,rep,error,r,g,\"unique\",num,rep,error,r,g)\n",
      "multimapTp[rep],multimapFp[rep] = getTpFp(num,rep,error,r,g,\"multimap\",num,rep,error,r,g)\n",
      "rep = \"2\"\n",
      "defaultTp[rep],defaultFp[rep] = getTpFp(num,rep,error,r,g,\"default\",num,rep,error,r,g)\n",
      "uniqueTp[rep],uniqueFp[rep] = getTpFp(num,rep,error,r,g,\"unique\",num,rep,error,r,g)\n",
      "multimapTp[rep],multimapFp[rep] = getTpFp(num,rep,error,r,g,\"multimap\",num,rep,error,r,g)\n",
      "rep = \"3\"\n",
      "defaultTp[rep],defaultFp[rep] = getTpFp(num,rep,error,r,g,\"default\",num,rep,error,r,g)\n",
      "uniqueTp[rep],uniqueFp[rep] = getTpFp(num,rep,error,r,g,\"unique\",num,rep,error,r,g)\n",
      "multimapTp[rep],multimapFp[rep] = getTpFp(num,rep,error,r,g,\"multimap\",num,rep,error,r,g)\n",
      "print defaultTp, defaultFp, uniqueTp, uniqueFp, multimapTp, multimapFp\n",
      "defaultAvgTp[id] = sum([defaultTp[\"1\"], defaultTp[\"2\"], defaultTp[\"3\"]]) / 3\n",
      "print \"Average Default True Positive Percentage: \", defaultAvgTp[id]\n",
      "defaultAvgFp[id] = sum([defaultFp[\"1\"], defaultFp[\"2\"], defaultFp[\"3\"]]) / 3\n",
      "print \"Average Default False Positive Percentage: \", defaultAvgFp[id]\n",
      "uniqueAvgTp[id] = sum([uniqueTp[\"1\"], uniqueTp[\"2\"], uniqueTp[\"3\"]]) / 3\n",
      "print \"Average Unique True Positive Percentage: \", uniqueAvgTp[id]\n",
      "uniqueAvgFp[id] = sum([uniqueFp[\"1\"], uniqueFp[\"2\"], uniqueFp[\"3\"]]) / 3\n",
      "print \"Average Unique False Positive Percentage: \", uniqueAvgFp[id]\n",
      "multimapAvgTp[id] = sum([multimapTp[\"1\"], multimapTp[\"2\"], multimapTp[\"3\"]]) / 3\n",
      "print \"Average Multimap True Positive Percentage: \", multimapAvgTp[id]\n",
      "multimapAvgFp[id] = sum([multimapFp[\"1\"], multimapFp[\"2\"], multimapFp[\"3\"]]) / 3\n",
      "print \"Average Multimap False Positive Percentage: \", multimapAvgFp[id]"
     ],
     "language": "python",
     "metadata": {},
     "outputs": [
      {
       "output_type": "stream",
       "stream": "stdout",
       "text": [
        "{'1': 61.57047673672808, '3': 61.57489329811926, '2': 61.49366203430695} {'1': 38.428215303708214, '3': 38.423031049573616, '2': 38.504626756825935} {'1': 40.67463585436887, '3': 40.607928214960864, '2': 40.520734208121105} {'1': 0.0, '3': 0.0, '2': 0.0} {'1': 100.03719207240864, '3': 100.02852504632588, '2': 100.04952796728168} {'1': 162.82206082108857, '3': 162.683971375905, '2': 163.54464901953193}\n",
        "Average Default True Positive Percentage:  61.5463440231\n",
        "Average Default False Positive Percentage:  38.4519577034\n",
        "Average Unique True Positive Percentage:  40.6010994258\n",
        "Average Unique False Positive Percentage:  0.0\n",
        "Average Multimap True Positive Percentage:  100.038415029\n",
        "Average Multimap False Positive Percentage:  163.016893739\n"
       ]
      }
     ],
     "prompt_number": 307
    },
    {
     "cell_type": "raw",
     "metadata": {},
     "source": [
      "Mouse transcriptome, single end 600 bp reads, 20x expression"
     ]
    },
    {
     "cell_type": "code",
     "collapsed": false,
     "input": [
      "num = \"206\"\n",
      "rep = \"1\"\n",
      "createDataSet(num,rep)\n",
      "!grep '>' DataSet206rep1E1R100G100.fa | wc -l\n",
      "rep = \"2\"\n",
      "createDataSet(num,rep)\n",
      "!grep '>' DataSet206rep2E1R100G100.fa | wc -l\n",
      "rep = \"3\"\n",
      "createDataSet(num,rep)\n",
      "!grep '>' DataSet206rep3E1R100G100.fa | wc -l\n"
     ],
     "language": "python",
     "metadata": {},
     "outputs": []
    },
    {
     "cell_type": "code",
     "collapsed": false,
     "input": [
      "error = \"1\"\n",
      "r = \"100\"\n",
      "g = \"100\"\n",
      "rep = \"1\"\n",
      "org = \"mouse\"\n",
      "runBowtieBuild(num,rep,error,r,g)\n",
      "runBowtieAllParams(num,rep,error,r,g,num,rep,error,r,g)\n",
      "getTruePositivesAllParams(num,rep,error,r,g,org)\n",
      "rep = \"2\"\n",
      "runBowtieBuild(num,rep,error,r,g)\n",
      "runBowtieAllParams(num,rep,error,r,g,num,rep,error,r,g)\n",
      "getTruePositivesAllParams(num,rep,error,r,g,org)\n",
      "rep = \"3\"\n",
      "runBowtieBuild(num,rep,error,r,g)\n",
      "runBowtieAllParams(num,rep,error,r,g,num,rep,error,r,g)\n",
      "getTruePositivesAllParams(num,rep,error,r,g,org)\n"
     ],
     "language": "python",
     "metadata": {},
     "outputs": []
    },
    {
     "cell_type": "code",
     "collapsed": false,
     "input": [
      "num = \"206\"\n",
      "rep = \"1\"\n",
      "error = \"1\"\n",
      "r = \"100\"\n",
      "id = \"mouse0600Se\"\n",
      "g = \"100\"\n",
      "defaultTp = {}\n",
      "defaultFp = {}\n",
      "uniqueTp = {}\n",
      "uniqueFp = {}\n",
      "multimapTp = {}\n",
      "multimapFp = {}\n",
      "defaultTp[rep],defaultFp[rep] = getTpFp(num,rep,error,r,g,\"default\",num,rep,error,r,g)\n",
      "uniqueTp[rep],uniqueFp[rep] = getTpFp(num,rep,error,r,g,\"unique\",num,rep,error,r,g)\n",
      "multimapTp[rep],multimapFp[rep] = getTpFp(num,rep,error,r,g,\"multimap\",num,rep,error,r,g)\n",
      "rep = \"2\"\n",
      "defaultTp[rep],defaultFp[rep] = getTpFp(num,rep,error,r,g,\"default\",num,rep,error,r,g)\n",
      "uniqueTp[rep],uniqueFp[rep] = getTpFp(num,rep,error,r,g,\"unique\",num,rep,error,r,g)\n",
      "multimapTp[rep],multimapFp[rep] = getTpFp(num,rep,error,r,g,\"multimap\",num,rep,error,r,g)\n",
      "rep = \"3\"\n",
      "defaultTp[rep],defaultFp[rep] = getTpFp(num,rep,error,r,g,\"default\",num,rep,error,r,g)\n",
      "uniqueTp[rep],uniqueFp[rep] = getTpFp(num,rep,error,r,g,\"unique\",num,rep,error,r,g)\n",
      "multimapTp[rep],multimapFp[rep] = getTpFp(num,rep,error,r,g,\"multimap\",num,rep,error,r,g)\n",
      "print defaultTp, defaultFp, uniqueTp, uniqueFp, multimapTp, multimapFp\n",
      "defaultAvgTp[id] = sum([defaultTp[\"1\"], defaultTp[\"2\"], defaultTp[\"3\"]]) / 3\n",
      "print \"Average Default True Positive Percentage: \", defaultAvgTp[id]\n",
      "defaultAvgFp[id] = sum([defaultFp[\"1\"], defaultFp[\"2\"], defaultFp[\"3\"]]) / 3\n",
      "print \"Average Default False Positive Percentage: \", defaultAvgFp[id]\n",
      "uniqueAvgTp[id] = sum([uniqueTp[\"1\"], uniqueTp[\"2\"], uniqueTp[\"3\"]]) / 3\n",
      "print \"Average Unique True Positive Percentage: \", uniqueAvgTp[id]\n",
      "uniqueAvgFp[id] = sum([uniqueFp[\"1\"], uniqueFp[\"2\"], uniqueFp[\"3\"]]) / 3\n",
      "print \"Average Unique False Positive Percentage: \", uniqueAvgFp[id]\n",
      "multimapAvgTp[id] = sum([multimapTp[\"1\"], multimapTp[\"2\"], multimapTp[\"3\"]]) / 3\n",
      "print \"Average Multimap True Positive Percentage: \", multimapAvgTp[id]\n",
      "multimapAvgFp[id] = sum([multimapFp[\"1\"], multimapFp[\"2\"], multimapFp[\"3\"]]) / 3\n",
      "print \"Average Multimap False Positive Percentage: \", multimapAvgFp[id]"
     ],
     "language": "python",
     "metadata": {},
     "outputs": [
      {
       "output_type": "stream",
       "stream": "stdout",
       "text": [
        "{'1': 63.08076145204037, '3': 63.068872829953506, '2': 63.20959592766609} {'1': 36.91703891916186, '3': 36.92954097627707, '2': 36.787994231256974} {'1': 42.559488069094506, '3': 42.52441700708065, '2': 42.742146260990246} {'1': 0.0, '3': 0.0, '2': 0.0} {'1': 100.05662557918605, '3': 100.04084078350263, '2': 100.02073653371137} {'1': 152.4795761493655, '3': 152.34392001551208, '2': 151.0702446360582}\n",
        "Average Default True Positive Percentage:  63.1197434032\n",
        "Average Default False Positive Percentage:  36.8781913756\n",
        "Average Unique True Positive Percentage:  42.6086837791\n",
        "Average Unique False Positive Percentage:  0.0\n",
        "Average Multimap True Positive Percentage:  100.039400965\n",
        "Average Multimap False Positive Percentage:  151.964580267\n"
       ]
      }
     ],
     "prompt_number": 308
    },
    {
     "cell_type": "raw",
     "metadata": {},
     "source": [
      "Mouse transcriptome, single end 700 bp reads, 20x expression"
     ]
    },
    {
     "cell_type": "code",
     "collapsed": false,
     "input": [
      "num = \"207\"\n",
      "rep = \"1\"\n",
      "createDataSet(num,rep)\n",
      "!grep '>' DataSet207rep1E1R100G100.fa | wc -l\n",
      "rep = \"2\"\n",
      "createDataSet(num,rep)\n",
      "!grep '>' DataSet207rep2E1R100G100.fa | wc -l\n",
      "rep = \"3\"\n",
      "createDataSet(num,rep)\n",
      "!grep '>' DataSet207rep3E1R100G100.fa | wc -l\n"
     ],
     "language": "python",
     "metadata": {},
     "outputs": []
    },
    {
     "cell_type": "code",
     "collapsed": false,
     "input": [
      "error = \"1\"\n",
      "r = \"100\"\n",
      "g = \"100\"\n",
      "rep = \"1\"\n",
      "org = \"mouse\"\n",
      "runBowtieBuild(num,rep,error,r,g)\n",
      "runBowtieAllParams(num,rep,error,r,g,num,rep,error,r,g)\n",
      "getTruePositivesAllParams(num,rep,error,r,g,org)\n",
      "rep = \"2\"\n",
      "runBowtieBuild(num,rep,error,r,g)\n",
      "runBowtieAllParams(num,rep,error,r,g,num,rep,error,r,g)\n",
      "getTruePositivesAllParams(num,rep,error,r,g,org)\n",
      "rep = \"3\"\n",
      "runBowtieBuild(num,rep,error,r,g)\n",
      "runBowtieAllParams(num,rep,error,r,g,num,rep,error,r,g)\n",
      "getTruePositivesAllParams(num,rep,error,r,g,org)\n"
     ],
     "language": "python",
     "metadata": {},
     "outputs": []
    },
    {
     "cell_type": "code",
     "collapsed": false,
     "input": [
      "num = \"207\"\n",
      "rep = \"1\"\n",
      "error = \"1\"\n",
      "r = \"100\"\n",
      "id = \"mouse0700Se\"\n",
      "g = \"100\"\n",
      "defaultTp = {}\n",
      "defaultFp = {}\n",
      "uniqueTp = {}\n",
      "uniqueFp = {}\n",
      "multimapTp = {}\n",
      "multimapFp = {}\n",
      "defaultTp[rep],defaultFp[rep] = getTpFp(num,rep,error,r,g,\"default\",num,rep,error,r,g)\n",
      "uniqueTp[rep],uniqueFp[rep] = getTpFp(num,rep,error,r,g,\"unique\",num,rep,error,r,g)\n",
      "multimapTp[rep],multimapFp[rep] = getTpFp(num,rep,error,r,g,\"multimap\",num,rep,error,r,g)\n",
      "rep = \"2\"\n",
      "defaultTp[rep],defaultFp[rep] = getTpFp(num,rep,error,r,g,\"default\",num,rep,error,r,g)\n",
      "uniqueTp[rep],uniqueFp[rep] = getTpFp(num,rep,error,r,g,\"unique\",num,rep,error,r,g)\n",
      "multimapTp[rep],multimapFp[rep] = getTpFp(num,rep,error,r,g,\"multimap\",num,rep,error,r,g)\n",
      "rep = \"3\"\n",
      "defaultTp[rep],defaultFp[rep] = getTpFp(num,rep,error,r,g,\"default\",num,rep,error,r,g)\n",
      "uniqueTp[rep],uniqueFp[rep] = getTpFp(num,rep,error,r,g,\"unique\",num,rep,error,r,g)\n",
      "multimapTp[rep],multimapFp[rep] = getTpFp(num,rep,error,r,g,\"multimap\",num,rep,error,r,g)\n",
      "print defaultTp, defaultFp, uniqueTp, uniqueFp, multimapTp, multimapFp\n",
      "defaultAvgTp[id] = sum([defaultTp[\"1\"], defaultTp[\"2\"], defaultTp[\"3\"]]) / 3\n",
      "print \"Average Default True Positive Percentage: \", defaultAvgTp[id]\n",
      "defaultAvgFp[id] = sum([defaultFp[\"1\"], defaultFp[\"2\"], defaultFp[\"3\"]]) / 3\n",
      "print \"Average Default False Positive Percentage: \", defaultAvgFp[id]\n",
      "uniqueAvgTp[id] = sum([uniqueTp[\"1\"], uniqueTp[\"2\"], uniqueTp[\"3\"]]) / 3\n",
      "print \"Average Unique True Positive Percentage: \", uniqueAvgTp[id]\n",
      "uniqueAvgFp[id] = sum([uniqueFp[\"1\"], uniqueFp[\"2\"], uniqueFp[\"3\"]]) / 3\n",
      "print \"Average Unique False Positive Percentage: \", uniqueAvgFp[id]\n",
      "multimapAvgTp[id] = sum([multimapTp[\"1\"], multimapTp[\"2\"], multimapTp[\"3\"]]) / 3\n",
      "print \"Average Multimap True Positive Percentage: \", multimapAvgTp[id]\n",
      "multimapAvgFp[id] = sum([multimapFp[\"1\"], multimapFp[\"2\"], multimapFp[\"3\"]]) / 3\n",
      "print \"Average Multimap False Positive Percentage: \", multimapAvgFp[id]"
     ],
     "language": "python",
     "metadata": {},
     "outputs": [
      {
       "output_type": "stream",
       "stream": "stdout",
       "text": [
        "{'1': 64.04990882117548, '3': 63.849095383424846, '2': 63.878550645688016} {'1': 35.94754731541469, '3': 36.14907648085649, '2': 36.118771696124455} {'1': 43.780191700565574, '3': 43.41534799805827, '2': 43.50483468031953} {'1': 0.0, '3': 0.0, '2': 0.0} {'1': 100.02705745626824, '3': 100.01435885239225, '2': 100.02338961026065} {'1': 144.91751211581658, '3': 145.0236282104415, '2': 146.18587983946819}\n",
        "Average Default True Positive Percentage:  63.9258516168\n",
        "Average Default False Positive Percentage:  36.0717984975\n",
        "Average Unique True Positive Percentage:  43.5667914596\n",
        "Average Unique False Positive Percentage:  0.0\n",
        "Average Multimap True Positive Percentage:  100.021601973\n",
        "Average Multimap False Positive Percentage:  145.375673389\n"
       ]
      }
     ],
     "prompt_number": 309
    },
    {
     "cell_type": "raw",
     "metadata": {},
     "source": [
      "Mouse transcriptome, single end 800 bp reads, 20x expression"
     ]
    },
    {
     "cell_type": "code",
     "collapsed": false,
     "input": [
      "num = \"208\"\n",
      "rep = \"1\"\n",
      "createDataSet(num,rep)\n",
      "!grep '>' DataSet208rep1E1R100G100.fa | wc -l\n",
      "rep = \"2\"\n",
      "createDataSet(num,rep)\n",
      "!grep '>' DataSet208rep2E1R100G100.fa | wc -l\n",
      "rep = \"3\"\n",
      "createDataSet(num,rep)\n",
      "!grep '>' DataSet208rep3E1R100G100.fa | wc -l\n"
     ],
     "language": "python",
     "metadata": {},
     "outputs": []
    },
    {
     "cell_type": "code",
     "collapsed": false,
     "input": [
      "error = \"1\"\n",
      "r = \"100\"\n",
      "g = \"100\"\n",
      "rep = \"1\"\n",
      "org = \"mouse\"\n",
      "runBowtieBuild(num,rep,error,r,g)\n",
      "runBowtieAllParams(num,rep,error,r,g,num,rep,error,r,g)\n",
      "getTruePositivesAllParams(num,rep,error,r,g,org)\n",
      "rep = \"2\"\n",
      "runBowtieBuild(num,rep,error,r,g)\n",
      "runBowtieAllParams(num,rep,error,r,g,num,rep,error,r,g)\n",
      "getTruePositivesAllParams(num,rep,error,r,g,org)\n",
      "rep = \"3\"\n",
      "runBowtieBuild(num,rep,error,r,g)\n",
      "runBowtieAllParams(num,rep,error,r,g,num,rep,error,r,g)\n",
      "getTruePositivesAllParams(num,rep,error,r,g,org)\n"
     ],
     "language": "python",
     "metadata": {},
     "outputs": []
    },
    {
     "cell_type": "code",
     "collapsed": false,
     "input": [
      "num = \"208\"\n",
      "rep = \"1\"\n",
      "error = \"1\"\n",
      "r = \"100\"\n",
      "id = \"mouse0800Se\"\n",
      "g = \"100\"\n",
      "defaultTp = {}\n",
      "defaultFp = {}\n",
      "uniqueTp = {}\n",
      "uniqueFp = {}\n",
      "multimapTp = {}\n",
      "multimapFp = {}\n",
      "defaultTp[rep],defaultFp[rep] = getTpFp(num,rep,error,r,g,\"default\",num,rep,error,r,g)\n",
      "uniqueTp[rep],uniqueFp[rep] = getTpFp(num,rep,error,r,g,\"unique\",num,rep,error,r,g)\n",
      "multimapTp[rep],multimapFp[rep] = getTpFp(num,rep,error,r,g,\"multimap\",num,rep,error,r,g)\n",
      "rep = \"2\"\n",
      "defaultTp[rep],defaultFp[rep] = getTpFp(num,rep,error,r,g,\"default\",num,rep,error,r,g)\n",
      "uniqueTp[rep],uniqueFp[rep] = getTpFp(num,rep,error,r,g,\"unique\",num,rep,error,r,g)\n",
      "multimapTp[rep],multimapFp[rep] = getTpFp(num,rep,error,r,g,\"multimap\",num,rep,error,r,g)\n",
      "rep = \"3\"\n",
      "defaultTp[rep],defaultFp[rep] = getTpFp(num,rep,error,r,g,\"default\",num,rep,error,r,g)\n",
      "uniqueTp[rep],uniqueFp[rep] = getTpFp(num,rep,error,r,g,\"unique\",num,rep,error,r,g)\n",
      "multimapTp[rep],multimapFp[rep] = getTpFp(num,rep,error,r,g,\"multimap\",num,rep,error,r,g)\n",
      "print defaultTp, defaultFp, uniqueTp, uniqueFp, multimapTp, multimapFp\n",
      "defaultAvgTp[id] = sum([defaultTp[\"1\"], defaultTp[\"2\"], defaultTp[\"3\"]]) / 3\n",
      "print \"Average Default True Positive Percentage: \", defaultAvgTp[id]\n",
      "defaultAvgFp[id] = sum([defaultFp[\"1\"], defaultFp[\"2\"], defaultFp[\"3\"]]) / 3\n",
      "print \"Average Default False Positive Percentage: \", defaultAvgFp[id]\n",
      "uniqueAvgTp[id] = sum([uniqueTp[\"1\"], uniqueTp[\"2\"], uniqueTp[\"3\"]]) / 3\n",
      "print \"Average Unique True Positive Percentage: \", uniqueAvgTp[id]\n",
      "uniqueAvgFp[id] = sum([uniqueFp[\"1\"], uniqueFp[\"2\"], uniqueFp[\"3\"]]) / 3\n",
      "print \"Average Unique False Positive Percentage: \", uniqueAvgFp[id]\n",
      "multimapAvgTp[id] = sum([multimapTp[\"1\"], multimapTp[\"2\"], multimapTp[\"3\"]]) / 3\n",
      "print \"Average Multimap True Positive Percentage: \", multimapAvgTp[id]\n",
      "multimapAvgFp[id] = sum([multimapFp[\"1\"], multimapFp[\"2\"], multimapFp[\"3\"]]) / 3\n",
      "print \"Average Multimap False Positive Percentage: \", multimapAvgFp[id]"
     ],
     "language": "python",
     "metadata": {},
     "outputs": [
      {
       "output_type": "stream",
       "stream": "stdout",
       "text": [
        "{'1': 64.63785892711243, '3': 64.58992468302993, '2': 64.61368000688269} {'1': 35.35992382715021, '3': 35.4079014257382, '2': 35.383981216280894} {'1': 44.478116830443035, '3': 44.31109386862339, '2': 44.344962901152435} {'1': 0.0, '3': 0.0, '2': 0.0} {'1': 100.01740328729689, '3': 100.0226377327318, '2': 100.00722514986965} {'1': 140.96231811786794, '3': 140.4427798383294, '2': 140.96841648937902}\n",
        "Average Default True Positive Percentage:  64.6138212057\n",
        "Average Default False Positive Percentage:  35.3839354897\n",
        "Average Unique True Positive Percentage:  44.3780578667\n",
        "Average Unique False Positive Percentage:  0.0\n",
        "Average Multimap True Positive Percentage:  100.01575539\n",
        "Average Multimap False Positive Percentage:  140.791171482\n"
       ]
      }
     ],
     "prompt_number": 310
    },
    {
     "cell_type": "raw",
     "metadata": {},
     "source": [
      "Mouse transcriptome, single end 900 bp reads, 20x expression"
     ]
    },
    {
     "cell_type": "code",
     "collapsed": false,
     "input": [
      "num = \"209\"\n",
      "rep = \"1\"\n",
      "createDataSet(num,rep)\n",
      "!grep '>' DataSet209rep1E1R100G100.fa | wc -l\n",
      "rep = \"2\"\n",
      "createDataSet(num,rep)\n",
      "!grep '>' DataSet209rep2E1R100G100.fa | wc -l\n",
      "rep = \"3\"\n",
      "createDataSet(num,rep)\n",
      "!grep '>' DataSet209rep3E1R100G100.fa | wc -l\n"
     ],
     "language": "python",
     "metadata": {},
     "outputs": []
    },
    {
     "cell_type": "code",
     "collapsed": false,
     "input": [
      "error = \"1\"\n",
      "r = \"100\"\n",
      "g = \"100\"\n",
      "rep = \"1\"\n",
      "org = \"mouse\"\n",
      "runBowtieBuild(num,rep,error,r,g)\n",
      "runBowtieAllParams(num,rep,error,r,g,num,rep,error,r,g)\n",
      "getTruePositivesAllParams(num,rep,error,r,g,org)\n",
      "rep = \"2\"\n",
      "runBowtieBuild(num,rep,error,r,g)\n",
      "runBowtieAllParams(num,rep,error,r,g,num,rep,error,r,g)\n",
      "getTruePositivesAllParams(num,rep,error,r,g,org)\n",
      "rep = \"3\"\n",
      "runBowtieBuild(num,rep,error,r,g)\n",
      "runBowtieAllParams(num,rep,error,r,g,num,rep,error,r,g)\n",
      "getTruePositivesAllParams(num,rep,error,r,g,org)\n"
     ],
     "language": "python",
     "metadata": {},
     "outputs": []
    },
    {
     "cell_type": "code",
     "collapsed": false,
     "input": [
      "num = \"209\"\n",
      "rep = \"1\"\n",
      "error = \"1\"\n",
      "r = \"100\"\n",
      "id = \"mouse0900Se\"\n",
      "g = \"100\"\n",
      "defaultTp = {}\n",
      "defaultFp = {}\n",
      "uniqueTp = {}\n",
      "uniqueFp = {}\n",
      "multimapTp = {}\n",
      "multimapFp = {}\n",
      "defaultTp[rep],defaultFp[rep] = getTpFp(num,rep,error,r,g,\"default\",num,rep,error,r,g)\n",
      "uniqueTp[rep],uniqueFp[rep] = getTpFp(num,rep,error,r,g,\"unique\",num,rep,error,r,g)\n",
      "multimapTp[rep],multimapFp[rep] = getTpFp(num,rep,error,r,g,\"multimap\",num,rep,error,r,g)\n",
      "rep = \"2\"\n",
      "defaultTp[rep],defaultFp[rep] = getTpFp(num,rep,error,r,g,\"default\",num,rep,error,r,g)\n",
      "uniqueTp[rep],uniqueFp[rep] = getTpFp(num,rep,error,r,g,\"unique\",num,rep,error,r,g)\n",
      "multimapTp[rep],multimapFp[rep] = getTpFp(num,rep,error,r,g,\"multimap\",num,rep,error,r,g)\n",
      "rep = \"3\"\n",
      "defaultTp[rep],defaultFp[rep] = getTpFp(num,rep,error,r,g,\"default\",num,rep,error,r,g)\n",
      "uniqueTp[rep],uniqueFp[rep] = getTpFp(num,rep,error,r,g,\"unique\",num,rep,error,r,g)\n",
      "multimapTp[rep],multimapFp[rep] = getTpFp(num,rep,error,r,g,\"multimap\",num,rep,error,r,g)\n",
      "print defaultTp, defaultFp, uniqueTp, uniqueFp, multimapTp, multimapFp\n",
      "defaultAvgTp[id] = sum([defaultTp[\"1\"], defaultTp[\"2\"], defaultTp[\"3\"]]) / 3\n",
      "print \"Average Default True Positive Percentage: \", defaultAvgTp[id]\n",
      "defaultAvgFp[id] = sum([defaultFp[\"1\"], defaultFp[\"2\"], defaultFp[\"3\"]]) / 3\n",
      "print \"Average Default False Positive Percentage: \", defaultAvgFp[id]\n",
      "uniqueAvgTp[id] = sum([uniqueTp[\"1\"], uniqueTp[\"2\"], uniqueTp[\"3\"]]) / 3\n",
      "print \"Average Unique True Positive Percentage: \", uniqueAvgTp[id]\n",
      "uniqueAvgFp[id] = sum([uniqueFp[\"1\"], uniqueFp[\"2\"], uniqueFp[\"3\"]]) / 3\n",
      "print \"Average Unique False Positive Percentage: \", uniqueAvgFp[id]\n",
      "multimapAvgTp[id] = sum([multimapTp[\"1\"], multimapTp[\"2\"], multimapTp[\"3\"]]) / 3\n",
      "print \"Average Multimap True Positive Percentage: \", multimapAvgTp[id]\n",
      "multimapAvgFp[id] = sum([multimapFp[\"1\"], multimapFp[\"2\"], multimapFp[\"3\"]]) / 3\n",
      "print \"Average Multimap False Positive Percentage: \", multimapAvgFp[id]"
     ],
     "language": "python",
     "metadata": {},
     "outputs": [
      {
       "output_type": "stream",
       "stream": "stdout",
       "text": [
        "{'1': 65.39642771815296, '3': 65.38326667322656, '2': 65.3782675078139} {'1': 34.60157126012053, '3': 34.61458689062919, '2': 34.61914838430466} {'1': 45.405425083313624, '3': 45.37971178909553, '2': 45.34858166288067} {'1': 0.0, '3': 0.0, '2': 0.0} {'1': 100.00720849995454, '3': 100.02098201624152, '2': 100.01103679721322} {'1': 134.93094425804404, '3': 135.8014937266183, '2': 135.71413391088547}\n",
        "Average Default True Positive Percentage:  65.3859872997\n",
        "Average Default False Positive Percentage:  34.611768845\n",
        "Average Unique True Positive Percentage:  45.3779061784\n",
        "Average Unique False Positive Percentage:  0.0\n",
        "Average Multimap True Positive Percentage:  100.013075771\n",
        "Average Multimap False Positive Percentage:  135.482190632\n"
       ]
      }
     ],
     "prompt_number": 311
    },
    {
     "cell_type": "raw",
     "metadata": {},
     "source": [
      "Mouse transcriptome, single end 1000 bp reads, 20x expression"
     ]
    },
    {
     "cell_type": "code",
     "collapsed": false,
     "input": [
      "num = \"210\"\n",
      "rep = \"1\"\n",
      "createDataSet(num,rep)\n",
      "!grep '>' DataSet210rep1E1R100G100.fa | wc -l\n",
      "rep = \"2\"\n",
      "createDataSet(num,rep)\n",
      "!grep '>' DataSet210rep2E1R100G100.fa | wc -l\n",
      "rep = \"3\"\n",
      "createDataSet(num,rep)\n",
      "!grep '>' DataSet210rep3E1R100G100.fa | wc -l\n"
     ],
     "language": "python",
     "metadata": {},
     "outputs": []
    },
    {
     "cell_type": "code",
     "collapsed": false,
     "input": [
      "error = \"1\"\n",
      "r = \"100\"\n",
      "g = \"100\"\n",
      "rep = \"1\"\n",
      "org = \"mouse\"\n",
      "runBowtieBuild(num,rep,error,r,g)\n",
      "runBowtieAllParams(num,rep,error,r,g,num,rep,error,r,g)\n",
      "getTruePositivesAllParams(num,rep,error,r,g,org)\n",
      "rep = \"2\"\n",
      "runBowtieBuild(num,rep,error,r,g)\n",
      "runBowtieAllParams(num,rep,error,r,g,num,rep,error,r,g)\n",
      "getTruePositivesAllParams(num,rep,error,r,g,org)\n",
      "rep = \"3\"\n",
      "runBowtieBuild(num,rep,error,r,g)\n",
      "runBowtieAllParams(num,rep,error,r,g,num,rep,error,r,g)\n",
      "getTruePositivesAllParams(num,rep,error,r,g,org)\n"
     ],
     "language": "python",
     "metadata": {},
     "outputs": []
    },
    {
     "cell_type": "code",
     "collapsed": false,
     "input": [
      "num = \"210\"\n",
      "rep = \"1\"\n",
      "error = \"1\"\n",
      "r = \"100\"\n",
      "id = \"mouse1000Se\"\n",
      "g = \"100\"\n",
      "defaultTp = {}\n",
      "defaultFp = {}\n",
      "uniqueTp = {}\n",
      "uniqueFp = {}\n",
      "multimapTp = {}\n",
      "multimapFp = {}\n",
      "defaultTp[rep],defaultFp[rep] = getTpFp(num,rep,error,r,g,\"default\",num,rep,error,r,g)\n",
      "uniqueTp[rep],uniqueFp[rep] = getTpFp(num,rep,error,r,g,\"unique\",num,rep,error,r,g)\n",
      "multimapTp[rep],multimapFp[rep] = getTpFp(num,rep,error,r,g,\"multimap\",num,rep,error,r,g)\n",
      "rep = \"2\"\n",
      "defaultTp[rep],defaultFp[rep] = getTpFp(num,rep,error,r,g,\"default\",num,rep,error,r,g)\n",
      "uniqueTp[rep],uniqueFp[rep] = getTpFp(num,rep,error,r,g,\"unique\",num,rep,error,r,g)\n",
      "multimapTp[rep],multimapFp[rep] = getTpFp(num,rep,error,r,g,\"multimap\",num,rep,error,r,g)\n",
      "rep = \"3\"\n",
      "defaultTp[rep],defaultFp[rep] = getTpFp(num,rep,error,r,g,\"default\",num,rep,error,r,g)\n",
      "uniqueTp[rep],uniqueFp[rep] = getTpFp(num,rep,error,r,g,\"unique\",num,rep,error,r,g)\n",
      "multimapTp[rep],multimapFp[rep] = getTpFp(num,rep,error,r,g,\"multimap\",num,rep,error,r,g)\n",
      "print defaultTp, defaultFp, uniqueTp, uniqueFp, multimapTp, multimapFp\n",
      "defaultAvgTp[id] = sum([defaultTp[\"1\"], defaultTp[\"2\"], defaultTp[\"3\"]]) / 3\n",
      "print \"Average Default True Positive Percentage: \", defaultAvgTp[id]\n",
      "defaultAvgFp[id] = sum([defaultFp[\"1\"], defaultFp[\"2\"], defaultFp[\"3\"]]) / 3\n",
      "print \"Average Default False Positive Percentage: \", defaultAvgFp[id]\n",
      "uniqueAvgTp[id] = sum([uniqueTp[\"1\"], uniqueTp[\"2\"], uniqueTp[\"3\"]]) / 3\n",
      "print \"Average Unique True Positive Percentage: \", uniqueAvgTp[id]\n",
      "uniqueAvgFp[id] = sum([uniqueFp[\"1\"], uniqueFp[\"2\"], uniqueFp[\"3\"]]) / 3\n",
      "print \"Average Unique False Positive Percentage: \", uniqueAvgFp[id]\n",
      "multimapAvgTp[id] = sum([multimapTp[\"1\"], multimapTp[\"2\"], multimapTp[\"3\"]]) / 3\n",
      "print \"Average Multimap True Positive Percentage: \", multimapAvgTp[id]\n",
      "multimapAvgFp[id] = sum([multimapFp[\"1\"], multimapFp[\"2\"], multimapFp[\"3\"]]) / 3\n",
      "print \"Average Multimap False Positive Percentage: \", multimapAvgFp[id]"
     ],
     "language": "python",
     "metadata": {},
     "outputs": [
      {
       "output_type": "stream",
       "stream": "stdout",
       "text": [
        "{'1': 66.27891921736429, '3': 66.1309264250493, '2': 66.06482890470807} {'1': 33.71740915835605, '3': 33.86609734140429, '2': 33.93214692308348} {'1': 46.444860071085955, '3': 46.28376284388126, '2': 46.18455313319362} {'1': 0.0, '3': 0.0, '2': 0.0} {'1': 100.00532799613512, '3': 100.01021203070053, '2': 100.01201421140998} {'1': 129.1245936712792, '3': 129.98025583048246, '2': 130.62326264743183}\n",
        "Average Default True Positive Percentage:  66.158224849\n",
        "Average Default False Positive Percentage:  33.8385511409\n",
        "Average Unique True Positive Percentage:  46.3043920161\n",
        "Average Unique False Positive Percentage:  0.0\n",
        "Average Multimap True Positive Percentage:  100.009184746\n",
        "Average Multimap False Positive Percentage:  129.909370716\n"
       ]
      }
     ],
     "prompt_number": 427
    },
    {
     "cell_type": "code",
     "collapsed": false,
     "input": [
      "print \"Percent Mapping Accuracy for Mouse Transcriptome 20x with Increasing Length of Single End Reads\"\n",
      "print \"Read Length\\tTP(d)\\tFP(d)\\tTP(u)\\tFP(u)\\tTP(m)\\tFP(m)\"\n",
      "id = \"mouse0100Se\"\n",
      "print \"100\\t\\t\" + str(defaultAvgTp[id])[0:5] + \"\\t\" + str(defaultAvgFp[id])[0:5] + \"\\t\" + str(uniqueAvgTp[id])[0:5] + \"\\t\" + str(uniqueAvgFp[id])[0:5] + \"\\t\" + str(multimapAvgTp[id])[0:5] + \"\\t\" + str(multimapAvgFp[id])[0:5]\n",
      "id = \"mouse0200Se\"\n",
      "print \"200\\t\\t\" + str(defaultAvgTp[id])[0:5] + \"\\t\" + str(defaultAvgFp[id])[0:5] + \"\\t\" + str(uniqueAvgTp[id])[0:5] + \"\\t\" + str(uniqueAvgFp[id])[0:5] + \"\\t\" + str(multimapAvgTp[id])[0:5] + \"\\t\" + str(multimapAvgFp[id])[0:5]\n",
      "id = \"mouse0300Se\"\n",
      "print \"300\\t\\t\" + str(defaultAvgTp[id])[0:5] + \"\\t\" + str(defaultAvgFp[id])[0:5] + \"\\t\" + str(uniqueAvgTp[id])[0:5] + \"\\t\" + str(uniqueAvgFp[id])[0:5] + \"\\t\" + str(multimapAvgTp[id])[0:5] + \"\\t\" + str(multimapAvgFp[id])[0:5]\n",
      "id = \"mouse0400Se\"\n",
      "print \"400\\t\\t\" + str(defaultAvgTp[id])[0:5] + \"\\t\" + str(defaultAvgFp[id])[0:5] + \"\\t\" + str(uniqueAvgTp[id])[0:5] + \"\\t\" + str(uniqueAvgFp[id])[0:5] + \"\\t\" + str(multimapAvgTp[id])[0:5] + \"\\t\" + str(multimapAvgFp[id])[0:5]\n",
      "id = \"mouse0500Se\"\n",
      "print \"500\\t\\t\" + str(defaultAvgTp[id])[0:5] + \"\\t\" + str(defaultAvgFp[id])[0:5] + \"\\t\" + str(uniqueAvgTp[id])[0:5] + \"\\t\" + str(uniqueAvgFp[id])[0:5] + \"\\t\" + str(multimapAvgTp[id])[0:5] + \"\\t\" + str(multimapAvgFp[id])[0:5]\n",
      "id = \"mouse0600Se\"\n",
      "print \"600\\t\\t\" + str(defaultAvgTp[id])[0:5] + \"\\t\" + str(defaultAvgFp[id])[0:5] + \"\\t\" + str(uniqueAvgTp[id])[0:5] + \"\\t\" + str(uniqueAvgFp[id])[0:5] + \"\\t\" + str(multimapAvgTp[id])[0:5] + \"\\t\" + str(multimapAvgFp[id])[0:5]\n",
      "id = \"mouse0700Se\"\n",
      "print \"700\\t\\t\" + str(defaultAvgTp[id])[0:5] + \"\\t\" + str(defaultAvgFp[id])[0:5] + \"\\t\" + str(uniqueAvgTp[id])[0:5] + \"\\t\" + str(uniqueAvgFp[id])[0:5] + \"\\t\" + str(multimapAvgTp[id])[0:5] + \"\\t\" + str(multimapAvgFp[id])[0:5]\n",
      "id = \"mouse0800Se\"\n",
      "print \"800\\t\\t\" + str(defaultAvgTp[id])[0:5] + \"\\t\" + str(defaultAvgFp[id])[0:5] + \"\\t\" + str(uniqueAvgTp[id])[0:5] + \"\\t\" + str(uniqueAvgFp[id])[0:5] + \"\\t\" + str(multimapAvgTp[id])[0:5] + \"\\t\" + str(multimapAvgFp[id])[0:5]\n",
      "id = \"mouse0900Se\"\n",
      "print \"900\\t\\t\" + str(defaultAvgTp[id])[0:5] + \"\\t\" + str(defaultAvgFp[id])[0:5] + \"\\t\" + str(uniqueAvgTp[id])[0:5] + \"\\t\" + str(uniqueAvgFp[id])[0:5] + \"\\t\" + str(multimapAvgTp[id])[0:5] + \"\\t\" + str(multimapAvgFp[id])[0:5]\n",
      "id = \"mouse1000Se\"\n",
      "print \"1000\\t\\t\" + str(defaultAvgTp[id])[0:5] + \"\\t\" + str(defaultAvgFp[id])[0:5] + \"\\t\" + str(uniqueAvgTp[id])[0:5] + \"\\t\" + str(uniqueAvgFp[id])[0:5] + \"\\t\" + str(multimapAvgTp[id])[0:5] + \"\\t\" + str(multimapAvgFp[id])[0:5]\n"
     ],
     "language": "python",
     "metadata": {},
     "outputs": [
      {
       "output_type": "stream",
       "stream": "stdout",
       "text": [
        "Percent Mapping Accuracy for Mouse Transcriptome 20x with Increasing Length of Single End Reads\n",
        "Read Length\tTP(d)\tFP(d)\tTP(u)\tFP(u)\tTP(m)\tFP(m)\n",
        "100\t\t51.47\t48.52\t28.21\t0.0\t100.4\t261.7\n",
        "200\t\t54.75\t45.24\t32.16\t0.0\t100.1\t219.6\n",
        "300\t\t57.63\t42.36\t35.72\t0.0\t100.0\t193.2\n",
        "400\t\t59.81\t40.18\t38.46\t0.0\t100.0\t175.9\n",
        "500\t\t61.54\t38.45\t40.60\t0.0\t100.0\t163.0\n",
        "600\t\t63.11\t36.87\t42.60\t0.0\t100.0\t151.9\n",
        "700\t\t63.92\t36.07\t43.56\t0.0\t100.0\t145.3\n",
        "800\t\t64.61\t35.38\t44.37\t0.0\t100.0\t140.7\n",
        "900\t\t65.38\t34.61\t45.37\t0.0\t100.0\t135.4\n",
        "1000\t\t66.15\t33.83\t46.30\t0.0\t100.0\t129.9\n"
       ]
      }
     ],
     "prompt_number": 428
    },
    {
     "cell_type": "heading",
     "level": 2,
     "metadata": {},
     "source": [
      "Test 9: Mapping accuracy of reads from 100% expressed mouse transcriptome at progressively longer fragment lengths, paired end 100 bp reads, 20x"
     ]
    },
    {
     "cell_type": "raw",
     "metadata": {},
     "source": [
      "Mouse transcriptome, paired end 100 bp reads, 100 bp gap, 20x expression"
     ]
    },
    {
     "cell_type": "code",
     "collapsed": false,
     "input": [
      "num = \"281\"\n",
      "rep = \"1\"\n",
      "createDataSet(num,rep)\n",
      "!grep '>' DataSet281rep1E1R100G100.fa | wc -l\n",
      "rep = \"2\"\n",
      "createDataSet(num,rep)\n",
      "!grep '>' DataSet281rep2E1R100G100.fa | wc -l\n",
      "rep = \"3\"\n",
      "createDataSet(num,rep)\n",
      "!grep '>' DataSet281rep3E1R100G100.fa | wc -l\n"
     ],
     "language": "python",
     "metadata": {},
     "outputs": []
    },
    {
     "cell_type": "code",
     "collapsed": false,
     "input": [
      "error = \"1\"\n",
      "r = \"100\"\n",
      "g = \"100\"\n",
      "rep = \"1\"\n",
      "org = \"mouse\"\n",
      "runBowtieBuild(num,rep,error,r,g)\n",
      "runBowtieAllParamsPaired(num,rep,error,r,g,num,rep,error,r,g)\n",
      "getTruePositivesAllParamsPaired(num,rep,error,r,g,org)\n",
      "rep = \"2\"\n",
      "runBowtieBuild(num,rep,error,r,g)\n",
      "runBowtieAllParamsPaired(num,rep,error,r,g,num,rep,error,r,g)\n",
      "getTruePositivesAllParamsPaired(num,rep,error,r,g,org)\n",
      "rep = \"3\"\n",
      "runBowtieBuild(num,rep,error,r,g)\n",
      "runBowtieAllParamsPaired(num,rep,error,r,g,num,rep,error,r,g)\n",
      "getTruePositivesAllParamsPaired(num,rep,error,r,g,org)\n"
     ],
     "language": "python",
     "metadata": {},
     "outputs": []
    },
    {
     "cell_type": "code",
     "collapsed": false,
     "input": [
      "num = \"281\"\n",
      "rep = \"1\"\n",
      "error = \"1\"\n",
      "r = \"100\"\n",
      "id = \"mouse100Pe100Gap\"\n",
      "g = \"100\"\n",
      "defaultTp = {}\n",
      "defaultFp = {}\n",
      "defaultTp[rep],defaultFp[rep] = getTpFpPairedEnds(num,rep,error,r,g,\"default\",num,rep,error,r,g)\n",
      "rep = \"2\"\n",
      "defaultTp[rep],defaultFp[rep] = getTpFpPairedEnds(num,rep,error,r,g,\"default\",num,rep,error,r,g)\n",
      "rep = \"3\"\n",
      "defaultTp[rep],defaultFp[rep] = getTpFpPairedEnds(num,rep,error,r,g,\"default\",num,rep,error,r,g)\n",
      "print defaultTp, defaultFp\n",
      "defaultAvgTp[id] = sum([defaultTp[\"1\"], defaultTp[\"2\"], defaultTp[\"3\"]]) / 3\n",
      "print \"Average Default True Positive Percentage: \", defaultAvgTp[id]\n",
      "defaultAvgFp[id] = sum([defaultFp[\"1\"], defaultFp[\"2\"], defaultFp[\"3\"]]) / 3\n",
      "print \"Average Default False Positive Percentage: \", defaultAvgFp[id]"
     ],
     "language": "python",
     "metadata": {},
     "outputs": [
      {
       "output_type": "stream",
       "stream": "stdout",
       "text": [
        "{'1': 56.18205377474976, '3': 56.17256655751503, '2': 56.184158115571634} {'1': 43.81742456092885, '3': 43.826876411090936, '2': 43.81523180242539}\n",
        "Average Default True Positive Percentage:  56.1795928159\n",
        "Average Default False Positive Percentage:  43.8198442581\n"
       ]
      }
     ],
     "prompt_number": 239
    },
    {
     "cell_type": "raw",
     "metadata": {},
     "source": [
      "Mouse transcriptome, paired end 100 bp reads, 200 bp gap, 20x expression"
     ]
    },
    {
     "cell_type": "code",
     "collapsed": false,
     "input": [
      "num = \"280\"\n",
      "rep = \"1\"\n",
      "createDataSet(num,rep)\n",
      "!grep '>' DataSet280rep1E1R100G100.fa | wc -l\n",
      "rep = \"2\"\n",
      "createDataSet(num,rep)\n",
      "!grep '>' DataSet280rep2E1R100G100.fa | wc -l\n",
      "rep = \"3\"\n",
      "createDataSet(num,rep)\n",
      "!grep '>' DataSet280rep3E1R100G100.fa | wc -l\n"
     ],
     "language": "python",
     "metadata": {},
     "outputs": []
    },
    {
     "cell_type": "code",
     "collapsed": false,
     "input": [
      "error = \"1\"\n",
      "r = \"100\"\n",
      "g = \"100\"\n",
      "rep = \"1\"\n",
      "org = \"mouse\"\n",
      "runBowtieBuild(num,rep,error,r,g)\n",
      "runBowtieAllParamsPaired(num,rep,error,r,g,num,rep,error,r,g)\n",
      "getTruePositivesAllParamsPaired(num,rep,error,r,g,org)\n",
      "rep = \"2\"\n",
      "runBowtieBuild(num,rep,error,r,g)\n",
      "runBowtieAllParamsPaired(num,rep,error,r,g,num,rep,error,r,g)\n",
      "getTruePositivesAllParamsPaired(num,rep,error,r,g,org)\n",
      "rep = \"3\"\n",
      "runBowtieBuild(num,rep,error,r,g)\n",
      "runBowtieAllParamsPaired(num,rep,error,r,g,num,rep,error,r,g)\n",
      "getTruePositivesAllParamsPaired(num,rep,error,r,g,org)\n"
     ],
     "language": "python",
     "metadata": {},
     "outputs": []
    },
    {
     "cell_type": "code",
     "collapsed": false,
     "input": [
      "num = \"280\"\n",
      "rep = \"1\"\n",
      "error = \"1\"\n",
      "r = \"100\"\n",
      "id = \"mouse100Pe200Gap\"\n",
      "g = \"100\"\n",
      "defaultTp = {}\n",
      "defaultFp = {}\n",
      "defaultTp[rep],defaultFp[rep] = getTpFpPairedEnds(num,rep,error,r,g,\"default\",num,rep,error,r,g)\n",
      "rep = \"2\"\n",
      "defaultTp[rep],defaultFp[rep] = getTpFpPairedEnds(num,rep,error,r,g,\"default\",num,rep,error,r,g)\n",
      "rep = \"3\"\n",
      "defaultTp[rep],defaultFp[rep] = getTpFpPairedEnds(num,rep,error,r,g,\"default\",num,rep,error,r,g)\n",
      "print defaultTp, defaultFp\n",
      "defaultAvgTp[id] = sum([defaultTp[\"1\"], defaultTp[\"2\"], defaultTp[\"3\"]]) / 3\n",
      "print \"Average Default True Positive Percentage: \", defaultAvgTp[id]\n",
      "defaultAvgFp[id] = sum([defaultFp[\"1\"], defaultFp[\"2\"], defaultFp[\"3\"]]) / 3\n",
      "print \"Average Default False Positive Percentage: \", defaultAvgFp[id]"
     ],
     "language": "python",
     "metadata": {},
     "outputs": [
      {
       "output_type": "stream",
       "stream": "stdout",
       "text": [
        "{'1': 57.23708069929806, '3': 57.22191609539108, '2': 57.212927014144334} {'1': 42.76221591105531, '3': 42.777344749387034, '2': 42.78629806505854}\n",
        "Average Default True Positive Percentage:  57.2239746029\n",
        "Average Default False Positive Percentage:  42.7752862418\n"
       ]
      }
     ],
     "prompt_number": 240
    },
    {
     "cell_type": "raw",
     "metadata": {},
     "source": [
      "Mouse transcriptome, paired end 100 bp reads, 300 bp gap, 20x expression"
     ]
    },
    {
     "cell_type": "code",
     "collapsed": false,
     "input": [
      "num = \"279\"\n",
      "rep = \"1\"\n",
      "createDataSet(num,rep)\n",
      "!grep '>' DataSet279rep1E1R100G100.fa | wc -l\n",
      "rep = \"2\"\n",
      "createDataSet(num,rep)\n",
      "!grep '>' DataSet279rep2E1R100G100.fa | wc -l\n",
      "rep = \"3\"\n",
      "createDataSet(num,rep)\n",
      "!grep '>' DataSet279rep3E1R100G100.fa | wc -l\n"
     ],
     "language": "python",
     "metadata": {},
     "outputs": []
    },
    {
     "cell_type": "code",
     "collapsed": false,
     "input": [
      "error = \"1\"\n",
      "r = \"100\"\n",
      "g = \"100\"\n",
      "rep = \"1\"\n",
      "org = \"mouse\"\n",
      "runBowtieBuild(num,rep,error,r,g)\n",
      "runBowtieAllParamsPaired(num,rep,error,r,g,num,rep,error,r,g)\n",
      "getTruePositivesAllParamsPaired(num,rep,error,r,g,org)\n",
      "rep = \"2\"\n",
      "runBowtieBuild(num,rep,error,r,g)\n",
      "runBowtieAllParamsPaired(num,rep,error,r,g,num,rep,error,r,g)\n",
      "getTruePositivesAllParamsPaired(num,rep,error,r,g,org)\n",
      "rep = \"3\"\n",
      "runBowtieBuild(num,rep,error,r,g)\n",
      "runBowtieAllParamsPaired(num,rep,error,r,g,num,rep,error,r,g)\n",
      "getTruePositivesAllParamsPaired(num,rep,error,r,g,org)\n"
     ],
     "language": "python",
     "metadata": {},
     "outputs": []
    },
    {
     "cell_type": "code",
     "collapsed": false,
     "input": [
      "num = \"279\"\n",
      "rep = \"1\"\n",
      "error = \"1\"\n",
      "r = \"100\"\n",
      "id = \"mouse100Pe300Gap\"\n",
      "g = \"100\"\n",
      "defaultTp = {}\n",
      "defaultFp = {}\n",
      "defaultTp[rep],defaultFp[rep] = getTpFpPairedEnds(num,rep,error,r,g,\"default\",num,rep,error,r,g)\n",
      "rep = \"2\"\n",
      "defaultTp[rep],defaultFp[rep] = getTpFpPairedEnds(num,rep,error,r,g,\"default\",num,rep,error,r,g)\n",
      "rep = \"3\"\n",
      "defaultTp[rep],defaultFp[rep] = getTpFpPairedEnds(num,rep,error,r,g,\"default\",num,rep,error,r,g)\n",
      "print defaultTp, defaultFp\n",
      "defaultAvgTp[id] = sum([defaultTp[\"1\"], defaultTp[\"2\"], defaultTp[\"3\"]]) / 3\n",
      "print \"Average Default True Positive Percentage: \", defaultAvgTp[id]\n",
      "defaultAvgFp[id] = sum([defaultFp[\"1\"], defaultFp[\"2\"], defaultFp[\"3\"]]) / 3\n",
      "print \"Average Default False Positive Percentage: \", defaultAvgFp[id]"
     ],
     "language": "python",
     "metadata": {},
     "outputs": [
      {
       "output_type": "stream",
       "stream": "stdout",
       "text": [
        "{'1': 57.9138138920048, '3': 57.875371665060996, '2': 57.88491019001075} {'1': 42.08562501829228, '3': 42.12387010561073, '2': 42.11437707442066}\n",
        "Average Default True Positive Percentage:  57.891365249\n",
        "Average Default False Positive Percentage:  42.1079573994\n"
       ]
      }
     ],
     "prompt_number": 241
    },
    {
     "cell_type": "raw",
     "metadata": {},
     "source": [
      "Mouse transcriptome, paired end 100 bp reads, 400 bp gap, 20x expression"
     ]
    },
    {
     "cell_type": "code",
     "collapsed": false,
     "input": [
      "num = \"278\"\n",
      "rep = \"1\"\n",
      "createDataSet(num,rep)\n",
      "!grep '>' DataSet278rep1E1R100G100.fa | wc -l\n",
      "rep = \"2\"\n",
      "createDataSet(num,rep)\n",
      "!grep '>' DataSet278rep2E1R100G100.fa | wc -l\n",
      "rep = \"3\"\n",
      "createDataSet(num,rep)\n",
      "!grep '>' DataSet278rep3E1R100G100.fa | wc -l\n"
     ],
     "language": "python",
     "metadata": {},
     "outputs": []
    },
    {
     "cell_type": "code",
     "collapsed": false,
     "input": [
      "error = \"1\"\n",
      "r = \"100\"\n",
      "g = \"100\"\n",
      "rep = \"1\"\n",
      "org = \"mouse\"\n",
      "runBowtieBuild(num,rep,error,r,g)\n",
      "runBowtieAllParamsPaired(num,rep,error,r,g,num,rep,error,r,g)\n",
      "getTruePositivesAllParamsPaired(num,rep,error,r,g,org)\n",
      "rep = \"2\"\n",
      "runBowtieBuild(num,rep,error,r,g)\n",
      "runBowtieAllParamsPaired(num,rep,error,r,g,num,rep,error,r,g)\n",
      "getTruePositivesAllParamsPaired(num,rep,error,r,g,org)\n",
      "rep = \"3\"\n",
      "runBowtieBuild(num,rep,error,r,g)\n",
      "runBowtieAllParamsPaired(num,rep,error,r,g,num,rep,error,r,g)\n",
      "getTruePositivesAllParamsPaired(num,rep,error,r,g,org)\n"
     ],
     "language": "python",
     "metadata": {},
     "outputs": []
    },
    {
     "cell_type": "code",
     "collapsed": false,
     "input": [
      "num = \"278\"\n",
      "rep = \"1\"\n",
      "error = \"1\"\n",
      "r = \"100\"\n",
      "id = \"mouse100Pe400Gap\"\n",
      "g = \"100\"\n",
      "defaultTp = {}\n",
      "defaultFp = {}\n",
      "defaultTp[rep],defaultFp[rep] = getTpFpPairedEnds(num,rep,error,r,g,\"default\",num,rep,error,r,g)\n",
      "rep = \"2\"\n",
      "defaultTp[rep],defaultFp[rep] = getTpFpPairedEnds(num,rep,error,r,g,\"default\",num,rep,error,r,g)\n",
      "rep = \"3\"\n",
      "defaultTp[rep],defaultFp[rep] = getTpFpPairedEnds(num,rep,error,r,g,\"default\",num,rep,error,r,g)\n",
      "print defaultTp, defaultFp\n",
      "defaultAvgTp[id] = sum([defaultTp[\"1\"], defaultTp[\"2\"], defaultTp[\"3\"]]) / 3\n",
      "print \"Average Default True Positive Percentage: \", defaultAvgTp[id]\n",
      "defaultAvgFp[id] = sum([defaultFp[\"1\"], defaultFp[\"2\"], defaultFp[\"3\"]]) / 3\n",
      "print \"Average Default False Positive Percentage: \", defaultAvgFp[id]"
     ],
     "language": "python",
     "metadata": {},
     "outputs": [
      {
       "output_type": "stream",
       "stream": "stdout",
       "text": [
        "{'1': 58.426965666484335, '3': 58.43114188354072, '2': 58.431661590552174} {'1': 41.57275591904524, '3': 41.568486897165386, '2': 41.56796719015393}\n",
        "Average Default True Positive Percentage:  58.4299230469\n",
        "Average Default False Positive Percentage:  41.5697366688\n"
       ]
      }
     ],
     "prompt_number": 242
    },
    {
     "cell_type": "raw",
     "metadata": {},
     "source": [
      "Mouse transcriptome, paired end 100 bp reads, 500 bp gap, 20x expression"
     ]
    },
    {
     "cell_type": "code",
     "collapsed": false,
     "input": [
      "num = \"277\"\n",
      "rep = \"1\"\n",
      "createDataSet(num,rep)\n",
      "!grep '>' DataSet277rep1E1R100G100.fa | wc -l\n",
      "rep = \"2\"\n",
      "createDataSet(num,rep)\n",
      "!grep '>' DataSet277rep2E1R100G100.fa | wc -l\n",
      "rep = \"3\"\n",
      "createDataSet(num,rep)\n",
      "!grep '>' DataSet277rep3E1R100G100.fa | wc -l\n"
     ],
     "language": "python",
     "metadata": {},
     "outputs": []
    },
    {
     "cell_type": "code",
     "collapsed": false,
     "input": [
      "error = \"1\"\n",
      "r = \"100\"\n",
      "g = \"100\"\n",
      "rep = \"1\"\n",
      "org = \"mouse\"\n",
      "runBowtieBuild(num,rep,error,r,g)\n",
      "runBowtieAllParamsPaired(num,rep,error,r,g,num,rep,error,r,g)\n",
      "getTruePositivesAllParamsPaired(num,rep,error,r,g,org)\n",
      "rep = \"2\"\n",
      "runBowtieBuild(num,rep,error,r,g)\n",
      "runBowtieAllParamsPaired(num,rep,error,r,g,num,rep,error,r,g)\n",
      "getTruePositivesAllParamsPaired(num,rep,error,r,g,org)\n",
      "rep = \"3\"\n",
      "runBowtieBuild(num,rep,error,r,g)\n",
      "runBowtieAllParamsPaired(num,rep,error,r,g,num,rep,error,r,g)\n",
      "getTruePositivesAllParamsPaired(num,rep,error,r,g,org)\n"
     ],
     "language": "python",
     "metadata": {},
     "outputs": []
    },
    {
     "cell_type": "code",
     "collapsed": false,
     "input": [
      "num = \"277\"\n",
      "rep = \"1\"\n",
      "error = \"1\"\n",
      "r = \"100\"\n",
      "id = \"mouse100Pe500Gap\"\n",
      "g = \"100\"\n",
      "defaultTp = {}\n",
      "defaultFp = {}\n",
      "defaultTp[rep],defaultFp[rep] = getTpFpPairedEnds(num,rep,error,r,g,\"default\",num,rep,error,r,g)\n",
      "rep = \"2\"\n",
      "defaultTp[rep],defaultFp[rep] = getTpFpPairedEnds(num,rep,error,r,g,\"default\",num,rep,error,r,g)\n",
      "rep = \"3\"\n",
      "defaultTp[rep],defaultFp[rep] = getTpFpPairedEnds(num,rep,error,r,g,\"default\",num,rep,error,r,g)\n",
      "print defaultTp, defaultFp\n",
      "defaultAvgTp[id] = sum([defaultTp[\"1\"], defaultTp[\"2\"], defaultTp[\"3\"]]) / 3\n",
      "print \"Average Default True Positive Percentage: \", defaultAvgTp[id]\n",
      "defaultAvgFp[id] = sum([defaultFp[\"1\"], defaultFp[\"2\"], defaultFp[\"3\"]]) / 3\n",
      "print \"Average Default False Positive Percentage: \", defaultAvgFp[id]"
     ],
     "language": "python",
     "metadata": {},
     "outputs": [
      {
       "output_type": "stream",
       "stream": "stdout",
       "text": [
        "{'1': 58.709671385213966, '3': 58.67332861679022, '2': 58.66070217702536} {'1': 41.28990550657522, '3': 41.32638188811816, '2': 41.33896379017663}\n",
        "Average Default True Positive Percentage:  58.6812340597\n",
        "Average Default False Positive Percentage:  41.3184170616\n"
       ]
      }
     ],
     "prompt_number": 243
    },
    {
     "cell_type": "raw",
     "metadata": {},
     "source": [
      "Mouse transcriptome, paired end 100 bp reads, 600 bp gap, 20x expression"
     ]
    },
    {
     "cell_type": "code",
     "collapsed": false,
     "input": [
      "num = \"276\"\n",
      "rep = \"1\"\n",
      "createDataSet(num,rep)\n",
      "!grep '>' DataSet276rep1E1R100G100.fa | wc -l\n",
      "rep = \"2\"\n",
      "createDataSet(num,rep)\n",
      "!grep '>' DataSet276rep2E1R100G100.fa | wc -l\n",
      "rep = \"3\"\n",
      "createDataSet(num,rep)\n",
      "!grep '>' DataSet276rep3E1R100G100.fa | wc -l\n"
     ],
     "language": "python",
     "metadata": {},
     "outputs": []
    },
    {
     "cell_type": "code",
     "collapsed": false,
     "input": [
      "error = \"1\"\n",
      "r = \"100\"\n",
      "g = \"100\"\n",
      "rep = \"1\"\n",
      "org = \"mouse\"\n",
      "runBowtieBuild(num,rep,error,r,g)\n",
      "runBowtieAllParamsPaired(num,rep,error,r,g,num,rep,error,r,g)\n",
      "getTruePositivesAllParamsPaired(num,rep,error,r,g,org)\n",
      "rep = \"2\"\n",
      "runBowtieBuild(num,rep,error,r,g)\n",
      "runBowtieAllParamsPaired(num,rep,error,r,g,num,rep,error,r,g)\n",
      "getTruePositivesAllParamsPaired(num,rep,error,r,g,org)\n",
      "rep = \"3\"\n",
      "runBowtieBuild(num,rep,error,r,g)\n",
      "runBowtieAllParamsPaired(num,rep,error,r,g,num,rep,error,r,g)\n",
      "getTruePositivesAllParamsPaired(num,rep,error,r,g,org)\n"
     ],
     "language": "python",
     "metadata": {},
     "outputs": []
    },
    {
     "cell_type": "code",
     "collapsed": false,
     "input": [
      "num = \"276\"\n",
      "rep = \"1\"\n",
      "error = \"1\"\n",
      "r = \"100\"\n",
      "id = \"mouse100Pe600Gap\"\n",
      "g = \"100\"\n",
      "defaultTp = {}\n",
      "defaultFp = {}\n",
      "defaultTp[rep],defaultFp[rep] = getTpFpPairedEnds(num,rep,error,r,g,\"default\",num,rep,error,r,g)\n",
      "rep = \"2\"\n",
      "defaultTp[rep],defaultFp[rep] = getTpFpPairedEnds(num,rep,error,r,g,\"default\",num,rep,error,r,g)\n",
      "rep = \"3\"\n",
      "defaultTp[rep],defaultFp[rep] = getTpFpPairedEnds(num,rep,error,r,g,\"default\",num,rep,error,r,g)\n",
      "print defaultTp, defaultFp\n",
      "defaultAvgTp[id] = sum([defaultTp[\"1\"], defaultTp[\"2\"], defaultTp[\"3\"]]) / 3\n",
      "print \"Average Default True Positive Percentage: \", defaultAvgTp[id]\n",
      "defaultAvgFp[id] = sum([defaultFp[\"1\"], defaultFp[\"2\"], defaultFp[\"3\"]]) / 3\n",
      "print \"Average Default False Positive Percentage: \", defaultAvgFp[id]"
     ],
     "language": "python",
     "metadata": {},
     "outputs": [
      {
       "output_type": "stream",
       "stream": "stdout",
       "text": [
        "{'1': 59.062521755653066, '3': 59.056214252026905, '2': 59.06485108271833} {'1': 40.93716417777634, '3': 40.94349785361671, '2': 40.93467781742577}\n",
        "Average Default True Positive Percentage:  59.0611956968\n",
        "Average Default False Positive Percentage:  40.9384466163\n"
       ]
      }
     ],
     "prompt_number": 244
    },
    {
     "cell_type": "raw",
     "metadata": {},
     "source": [
      "Mouse transcriptome, paired end 100 bp reads, 700 bp gap, 20x expression"
     ]
    },
    {
     "cell_type": "code",
     "collapsed": false,
     "input": [
      "num = \"275\"\n",
      "rep = \"1\"\n",
      "createDataSet(num,rep)\n",
      "!grep '>' DataSet275rep1E1R100G100.fa | wc -l\n",
      "rep = \"2\"\n",
      "createDataSet(num,rep)\n",
      "!grep '>' DataSet275rep2E1R100G100.fa | wc -l\n",
      "rep = \"3\"\n",
      "createDataSet(num,rep)\n",
      "!grep '>' DataSet275rep3E1R100G100.fa | wc -l\n"
     ],
     "language": "python",
     "metadata": {},
     "outputs": []
    },
    {
     "cell_type": "code",
     "collapsed": false,
     "input": [
      "error = \"1\"\n",
      "r = \"100\"\n",
      "g = \"100\"\n",
      "rep = \"1\"\n",
      "org = \"mouse\"\n",
      "runBowtieBuild(num,rep,error,r,g)\n",
      "runBowtieAllParamsPaired(num,rep,error,r,g,num,rep,error,r,g)\n",
      "getTruePositivesAllParamsPaired(num,rep,error,r,g,org)\n",
      "rep = \"2\"\n",
      "runBowtieBuild(num,rep,error,r,g)\n",
      "runBowtieAllParamsPaired(num,rep,error,r,g,num,rep,error,r,g)\n",
      "getTruePositivesAllParamsPaired(num,rep,error,r,g,org)\n",
      "rep = \"3\"\n",
      "runBowtieBuild(num,rep,error,r,g)\n",
      "runBowtieAllParamsPaired(num,rep,error,r,g,num,rep,error,r,g)\n",
      "getTruePositivesAllParamsPaired(num,rep,error,r,g,org)\n"
     ],
     "language": "python",
     "metadata": {},
     "outputs": []
    },
    {
     "cell_type": "code",
     "collapsed": false,
     "input": [
      "num = \"275\"\n",
      "rep = \"1\"\n",
      "error = \"1\"\n",
      "r = \"100\"\n",
      "id = \"mouse100Pe700Gap\"\n",
      "g = \"100\"\n",
      "defaultTp = {}\n",
      "defaultFp = {}\n",
      "defaultTp[rep],defaultFp[rep] = getTpFpPairedEnds(num,rep,error,r,g,\"default\",num,rep,error,r,g)\n",
      "rep = \"2\"\n",
      "defaultTp[rep],defaultFp[rep] = getTpFpPairedEnds(num,rep,error,r,g,\"default\",num,rep,error,r,g)\n",
      "rep = \"3\"\n",
      "defaultTp[rep],defaultFp[rep] = getTpFpPairedEnds(num,rep,error,r,g,\"default\",num,rep,error,r,g)\n",
      "print defaultTp, defaultFp\n",
      "defaultAvgTp[id] = sum([defaultTp[\"1\"], defaultTp[\"2\"], defaultTp[\"3\"]]) / 3\n",
      "print \"Average Default True Positive Percentage: \", defaultAvgTp[id]\n",
      "defaultAvgFp[id] = sum([defaultFp[\"1\"], defaultFp[\"2\"], defaultFp[\"3\"]]) / 3\n",
      "print \"Average Default False Positive Percentage: \", defaultAvgFp[id]"
     ],
     "language": "python",
     "metadata": {},
     "outputs": [
      {
       "output_type": "stream",
       "stream": "stdout",
       "text": [
        "{'1': 60.01960423572134, '3': 60.0570030854051, '2': 60.062522431769715} {'1': 39.98024496246543, '3': 39.94254450915518, '2': 39.9371156438785}\n",
        "Average Default True Positive Percentage:  60.0463765843\n",
        "Average Default False Positive Percentage:  39.9533017052\n"
       ]
      }
     ],
     "prompt_number": 245
    },
    {
     "cell_type": "raw",
     "metadata": {},
     "source": [
      "Mouse transcriptome, paired end 100 bp reads, 800 bp gap, 20x expression"
     ]
    },
    {
     "cell_type": "code",
     "collapsed": false,
     "input": [
      "num = \"271\"\n",
      "rep = \"1\"\n",
      "createDataSet(num,rep)\n",
      "!grep '>' DataSet271rep1E1R100G100.fa | wc -l\n",
      "rep = \"2\"\n",
      "createDataSet(num,rep)\n",
      "!grep '>' DataSet271rep2E1R100G100.fa | wc -l\n",
      "rep = \"3\"\n",
      "createDataSet(num,rep)\n",
      "!grep '>' DataSet271rep3E1R100G100.fa | wc -l\n"
     ],
     "language": "python",
     "metadata": {},
     "outputs": []
    },
    {
     "cell_type": "code",
     "collapsed": false,
     "input": [
      "error = \"1\"\n",
      "r = \"100\"\n",
      "g = \"100\"\n",
      "rep = \"1\"\n",
      "org = \"mouse\"\n",
      "runBowtieBuild(num,rep,error,r,g)\n",
      "runBowtieAllParamsPaired(num,rep,error,r,g,num,rep,error,r,g)\n",
      "getTruePositivesAllParamsPaired(num,rep,error,r,g,org)\n",
      "rep = \"2\"\n",
      "runBowtieBuild(num,rep,error,r,g)\n",
      "runBowtieAllParamsPaired(num,rep,error,r,g,num,rep,error,r,g)\n",
      "getTruePositivesAllParamsPaired(num,rep,error,r,g,org)\n",
      "rep = \"3\"\n",
      "runBowtieBuild(num,rep,error,r,g)\n",
      "runBowtieAllParamsPaired(num,rep,error,r,g,num,rep,error,r,g)\n",
      "getTruePositivesAllParamsPaired(num,rep,error,r,g,org)\n"
     ],
     "language": "python",
     "metadata": {},
     "outputs": []
    },
    {
     "cell_type": "code",
     "collapsed": false,
     "input": [
      "num = \"271\"\n",
      "rep = \"1\"\n",
      "error = \"1\"\n",
      "r = \"100\"\n",
      "id = \"mouse100Pe800Gap\"\n",
      "g = \"100\"\n",
      "defaultTp = {}\n",
      "defaultFp = {}\n",
      "defaultTp[rep],defaultFp[rep] = getTpFpPairedEnds(num,rep,error,r,g,\"default\",num,rep,error,r,g)\n",
      "rep = \"2\"\n",
      "defaultTp[rep],defaultFp[rep] = getTpFpPairedEnds(num,rep,error,r,g,\"default\",num,rep,error,r,g)\n",
      "rep = \"3\"\n",
      "defaultTp[rep],defaultFp[rep] = getTpFpPairedEnds(num,rep,error,r,g,\"default\",num,rep,error,r,g)\n",
      "print defaultTp, defaultFp\n",
      "defaultAvgTp[id] = sum([defaultTp[\"1\"], defaultTp[\"2\"], defaultTp[\"3\"]]) / 3\n",
      "print \"Average Default True Positive Percentage: \", defaultAvgTp[id]\n",
      "defaultAvgFp[id] = sum([defaultFp[\"1\"], defaultFp[\"2\"], defaultFp[\"3\"]]) / 3\n",
      "print \"Average Default False Positive Percentage: \", defaultAvgFp[id]"
     ],
     "language": "python",
     "metadata": {},
     "outputs": [
      {
       "output_type": "stream",
       "stream": "stdout",
       "text": [
        "{'1': 62.09179321990334, '3': 62.0798005296027, '2': 62.061175778476795} {'1': 37.90789751301155, '3': 37.91992456632164, '2': 37.938549317447546}\n",
        "Average Default True Positive Percentage:  62.0775898427\n",
        "Average Default False Positive Percentage:  37.9221237989\n"
       ]
      }
     ],
     "prompt_number": 246
    },
    {
     "cell_type": "code",
     "collapsed": false,
     "input": [
      "print \"Percent Mapping Accuracy for Mouse Transcriptome 20x with Increasing Gap Size between Paired End Reads\"\n",
      "print \"Read Length\\tGap Size\\t\\tTP(d)\\tFP(d)\"\n",
      "id = \"mouse100Pe100Gap\"\n",
      "print \"100\\t\\t100\\t\\t\" + str(defaultAvgTp[id])[0:5] + \"\\t\" + str(defaultAvgFp[id])[0:5] \n",
      "id = \"mouse100Pe200Gap\"\n",
      "print \"100\\t\\t200\\t\\t\" + str(defaultAvgTp[id])[0:5] + \"\\t\" + str(defaultAvgFp[id])[0:5] \n",
      "id = \"mouse100Pe300Gap\"\n",
      "print \"100\\t\\t300\\t\\t\" + str(defaultAvgTp[id])[0:5] + \"\\t\" + str(defaultAvgFp[id])[0:5] \n",
      "id = \"mouse100Pe400Gap\"\n",
      "print \"100\\t\\t400\\t\\t\" + str(defaultAvgTp[id])[0:5] + \"\\t\" + str(defaultAvgFp[id])[0:5] \n",
      "id = \"mouse100Pe500Gap\"\n",
      "print \"100\\t\\t500\\t\\t\" + str(defaultAvgTp[id])[0:5] + \"\\t\" + str(defaultAvgFp[id])[0:5] \n",
      "id = \"mouse100Pe600Gap\"\n",
      "print \"100\\t\\t600\\t\\t\" + str(defaultAvgTp[id])[0:5] + \"\\t\" + str(defaultAvgFp[id])[0:5] \n",
      "id = \"mouse100Pe700Gap\"\n",
      "print \"100\\t\\t700\\t\\t\" + str(defaultAvgTp[id])[0:5] + \"\\t\" + str(defaultAvgFp[id])[0:5] \n",
      "id = \"mouse100Pe800Gap\"\n",
      "print \"100\\t\\t800\\t\\t\" + str(defaultAvgTp[id])[0:5] + \"\\t\" + str(defaultAvgFp[id])[0:5] \n"
     ],
     "language": "python",
     "metadata": {},
     "outputs": [
      {
       "output_type": "stream",
       "stream": "stdout",
       "text": [
        "Percent Mapping Accuracy for Mouse Transcriptome 20x with Increasing Gap Size between Paired End Reads\n",
        "Read Length\tGap Size\t\tTP(d)\tFP(d)\n",
        "100\t\t100\t\t56.17\t43.81\n",
        "100\t\t200\t\t57.22\t42.77\n",
        "100\t\t300\t\t57.89\t42.10\n",
        "100\t\t400\t\t58.42\t41.56\n",
        "100\t\t500\t\t58.68\t41.31\n",
        "100\t\t600\t\t59.06\t40.93\n",
        "100\t\t700\t\t60.04\t39.95\n",
        "100\t\t800\t\t62.07\t37.92\n"
       ]
      }
     ],
     "prompt_number": 423
    },
    {
     "cell_type": "heading",
     "level": 2,
     "metadata": {},
     "source": [
      "Test 10: Mapping accuracy of reads from 100% expressed mouse transcriptome at progressively longer read lengths, fragment length 1000 bp, paired end reads, 20x"
     ]
    },
    {
     "cell_type": "raw",
     "metadata": {},
     "source": [
      "Mouse transcriptome, paired end 200 bp reads, 600 bp gap, 20x expression"
     ]
    },
    {
     "cell_type": "code",
     "collapsed": false,
     "input": [
      "num = \"272\"\n",
      "rep = \"1\"\n",
      "createDataSet(num,rep)\n",
      "!grep '>' DataSet272rep1E1R100G100.fa | wc -l\n",
      "rep = \"2\"\n",
      "createDataSet(num,rep)\n",
      "!grep '>' DataSet272rep2E1R100G100.fa | wc -l\n",
      "rep = \"3\"\n",
      "createDataSet(num,rep)\n",
      "!grep '>' DataSet272rep3E1R100G100.fa | wc -l\n"
     ],
     "language": "python",
     "metadata": {},
     "outputs": []
    },
    {
     "cell_type": "code",
     "collapsed": false,
     "input": [
      "error = \"1\"\n",
      "r = \"100\"\n",
      "g = \"100\"\n",
      "rep = \"1\"\n",
      "org = \"mouse\"\n",
      "runBowtieBuild(num,rep,error,r,g)\n",
      "runBowtieAllParamsPaired(num,rep,error,r,g,num,rep,error,r,g)\n",
      "getTruePositivesAllParamsPaired(num,rep,error,r,g,org)\n",
      "rep = \"2\"\n",
      "runBowtieBuild(num,rep,error,r,g)\n",
      "runBowtieAllParamsPaired(num,rep,error,r,g,num,rep,error,r,g)\n",
      "getTruePositivesAllParamsPaired(num,rep,error,r,g,org)\n",
      "rep = \"3\"\n",
      "runBowtieBuild(num,rep,error,r,g)\n",
      "runBowtieAllParamsPaired(num,rep,error,r,g,num,rep,error,r,g)\n",
      "getTruePositivesAllParamsPaired(num,rep,error,r,g,org)\n"
     ],
     "language": "python",
     "metadata": {},
     "outputs": []
    },
    {
     "cell_type": "code",
     "collapsed": false,
     "input": [
      "num = \"272\"\n",
      "rep = \"1\"\n",
      "error = \"1\"\n",
      "r = \"100\"\n",
      "id = \"mouse200Pe600Gap\"\n",
      "g = \"100\"\n",
      "defaultTp = {}\n",
      "defaultFp = {}\n",
      "defaultTp[rep],defaultFp[rep] = getTpFpPairedEnds(num,rep,error,r,g,\"default\",num,rep,error,r,g)\n",
      "rep = \"2\"\n",
      "defaultTp[rep],defaultFp[rep] = getTpFpPairedEnds(num,rep,error,r,g,\"default\",num,rep,error,r,g)\n",
      "rep = \"3\"\n",
      "defaultTp[rep],defaultFp[rep] = getTpFpPairedEnds(num,rep,error,r,g,\"default\",num,rep,error,r,g)\n",
      "print defaultTp, defaultFp\n",
      "defaultAvgTp[id] = sum([defaultTp[\"1\"], defaultTp[\"2\"], defaultTp[\"3\"]]) / 3\n",
      "print \"Average Default True Positive Percentage: \", defaultAvgTp[id]\n",
      "defaultAvgFp[id] = sum([defaultFp[\"1\"], defaultFp[\"2\"], defaultFp[\"3\"]]) / 3\n",
      "print \"Average Default False Positive Percentage: \", defaultAvgFp[id]"
     ],
     "language": "python",
     "metadata": {},
     "outputs": [
      {
       "output_type": "stream",
       "stream": "stdout",
       "text": [
        "{'1': 63.45353055868068, '3': 63.39861846956778, '2': 63.40071461314467} {'1': 36.54609144821529, '3': 36.600625544224165, '2': 36.5989073937513}\n",
        "Average Default True Positive Percentage:  63.4176212138\n",
        "Average Default False Positive Percentage:  36.5818747954\n"
       ]
      }
     ],
     "prompt_number": 252
    },
    {
     "cell_type": "raw",
     "metadata": {},
     "source": [
      "Mouse transcriptome, paired end 300 bp reads, 400 bp gap, 20x expression"
     ]
    },
    {
     "cell_type": "code",
     "collapsed": false,
     "input": [
      "num = \"273\"\n",
      "rep = \"1\"\n",
      "createDataSet(num,rep)\n",
      "!grep '>' DataSet273rep1E1R100G100.fa | wc -l\n",
      "rep = \"2\"\n",
      "createDataSet(num,rep)\n",
      "!grep '>' DataSet273rep2E1R100G100.fa | wc -l\n",
      "rep = \"3\"\n",
      "createDataSet(num,rep)\n",
      "!grep '>' DataSet273rep3E1R100G100.fa | wc -l\n"
     ],
     "language": "python",
     "metadata": {},
     "outputs": []
    },
    {
     "cell_type": "code",
     "collapsed": false,
     "input": [
      "error = \"1\"\n",
      "r = \"100\"\n",
      "g = \"100\"\n",
      "rep = \"1\"\n",
      "org = \"mouse\"\n",
      "runBowtieBuild(num,rep,error,r,g)\n",
      "runBowtieAllParamsPaired(num,rep,error,r,g,num,rep,error,r,g)\n",
      "getTruePositivesAllParamsPaired(num,rep,error,r,g,org)\n",
      "rep = \"2\"\n",
      "runBowtieBuild(num,rep,error,r,g)\n",
      "runBowtieAllParamsPaired(num,rep,error,r,g,num,rep,error,r,g)\n",
      "getTruePositivesAllParamsPaired(num,rep,error,r,g,org)\n",
      "rep = \"3\"\n",
      "runBowtieBuild(num,rep,error,r,g)\n",
      "runBowtieAllParamsPaired(num,rep,error,r,g,num,rep,error,r,g)\n",
      "getTruePositivesAllParamsPaired(num,rep,error,r,g,org)\n"
     ],
     "language": "python",
     "metadata": {},
     "outputs": []
    },
    {
     "cell_type": "code",
     "collapsed": false,
     "input": [
      "num = \"273\"\n",
      "rep = \"1\"\n",
      "error = \"1\"\n",
      "r = \"100\"\n",
      "id = \"mouse300Pe400Gap\"\n",
      "g = \"100\"\n",
      "defaultTp = {}\n",
      "defaultFp = {}\n",
      "defaultTp[rep],defaultFp[rep] = getTpFpPairedEnds(num,rep,error,r,g,\"default\",num,rep,error,r,g)\n",
      "rep = \"2\"\n",
      "defaultTp[rep],defaultFp[rep] = getTpFpPairedEnds(num,rep,error,r,g,\"default\",num,rep,error,r,g)\n",
      "rep = \"3\"\n",
      "defaultTp[rep],defaultFp[rep] = getTpFpPairedEnds(num,rep,error,r,g,\"default\",num,rep,error,r,g)\n",
      "print defaultTp, defaultFp\n",
      "defaultAvgTp[id] = sum([defaultTp[\"1\"], defaultTp[\"2\"], defaultTp[\"3\"]]) / 3\n",
      "print \"Average Default True Positive Percentage: \", defaultAvgTp[id]\n",
      "defaultAvgFp[id] = sum([defaultFp[\"1\"], defaultFp[\"2\"], defaultFp[\"3\"]]) / 3\n",
      "print \"Average Default False Positive Percentage: \", defaultAvgFp[id]"
     ],
     "language": "python",
     "metadata": {},
     "outputs": [
      {
       "output_type": "stream",
       "stream": "stdout",
       "text": [
        "{'1': 64.47823550069998, '3': 64.52995182993334, '2': 64.45809877715794} {'1': 35.52069924600685, '3': 35.469154731820765, '2': 35.54090469556779}\n",
        "Average Default True Positive Percentage:  64.4887620359\n",
        "Average Default False Positive Percentage:  35.5102528911\n"
       ]
      }
     ],
     "prompt_number": 253
    },
    {
     "cell_type": "raw",
     "metadata": {},
     "source": [
      "Mouse transcriptome, paired end 400 bp reads, 200 bp gap, 20x expression"
     ]
    },
    {
     "cell_type": "code",
     "collapsed": false,
     "input": [
      "num = \"274\"\n",
      "rep = \"1\"\n",
      "createDataSet(num,rep)\n",
      "!grep '>' DataSet274rep1E1R100G100.fa | wc -l\n",
      "rep = \"2\"\n",
      "createDataSet(num,rep)\n",
      "!grep '>' DataSet274rep2E1R100G100.fa | wc -l\n",
      "rep = \"3\"\n",
      "createDataSet(num,rep)\n",
      "!grep '>' DataSet274rep3E1R100G100.fa | wc -l\n"
     ],
     "language": "python",
     "metadata": {},
     "outputs": []
    },
    {
     "cell_type": "code",
     "collapsed": false,
     "input": [
      "error = \"1\"\n",
      "r = \"100\"\n",
      "g = \"100\"\n",
      "rep = \"1\"\n",
      "org = \"mouse\"\n",
      "runBowtieBuild(num,rep,error,r,g)\n",
      "runBowtieAllParamsPaired(num,rep,error,r,g,num,rep,error,r,g)\n",
      "getTruePositivesAllParamsPaired(num,rep,error,r,g,org)\n",
      "rep = \"2\"\n",
      "runBowtieBuild(num,rep,error,r,g)\n",
      "runBowtieAllParamsPaired(num,rep,error,r,g,num,rep,error,r,g)\n",
      "getTruePositivesAllParamsPaired(num,rep,error,r,g,org)\n",
      "rep = \"3\"\n",
      "runBowtieBuild(num,rep,error,r,g)\n",
      "runBowtieAllParamsPaired(num,rep,error,r,g,num,rep,error,r,g)\n",
      "getTruePositivesAllParamsPaired(num,rep,error,r,g,org)\n"
     ],
     "language": "python",
     "metadata": {},
     "outputs": []
    },
    {
     "cell_type": "code",
     "collapsed": false,
     "input": [
      "num = \"274\"\n",
      "rep = \"1\"\n",
      "error = \"1\"\n",
      "r = \"100\"\n",
      "id = \"mouse400Pe200Gap\"\n",
      "g = \"100\"\n",
      "defaultTp = {}\n",
      "defaultFp = {}\n",
      "defaultTp[rep],defaultFp[rep] = getTpFpPairedEnds(num,rep,error,r,g,\"default\",num,rep,error,r,g)\n",
      "rep = \"2\"\n",
      "defaultTp[rep],defaultFp[rep] = getTpFpPairedEnds(num,rep,error,r,g,\"default\",num,rep,error,r,g)\n",
      "rep = \"3\"\n",
      "defaultTp[rep],defaultFp[rep] = getTpFpPairedEnds(num,rep,error,r,g,\"default\",num,rep,error,r,g)\n",
      "print defaultTp, defaultFp\n",
      "defaultAvgTp[id] = sum([defaultTp[\"1\"], defaultTp[\"2\"], defaultTp[\"3\"]]) / 3\n",
      "print \"Average Default True Positive Percentage: \", defaultAvgTp[id]\n",
      "defaultAvgFp[id] = sum([defaultFp[\"1\"], defaultFp[\"2\"], defaultFp[\"3\"]]) / 3\n",
      "print \"Average Default False Positive Percentage: \", defaultAvgFp[id]"
     ],
     "language": "python",
     "metadata": {},
     "outputs": [
      {
       "output_type": "stream",
       "stream": "stdout",
       "text": [
        "{'1': 65.38995486762337, '3': 65.44431714858496, '2': 65.43204955420869} {'1': 34.608739338017244, '3': 34.554205242008365, '2': 34.56626665832791}\n",
        "Average Default True Positive Percentage:  65.4221071901\n",
        "Average Default False Positive Percentage:  34.5764037461\n"
       ]
      }
     ],
     "prompt_number": 226
    },
    {
     "cell_type": "code",
     "collapsed": false,
     "input": [
      "print \"Percent Mapping Accuracy for Mouse Transcriptome 20x with Increasing Length Paired End Reads\"\n",
      "print \"Read Length\\tGap Size\\t\\tTP(d)\\tFP(d)\"\n",
      "id = \"mouse100Pe800Gap\"\n",
      "print \"100\\t\\t800\\t\\t\" + str(defaultAvgTp[id])[0:5] + \"\\t\" + str(defaultAvgFp[id])[0:5]\n",
      "id = \"mouse200Pe600Gap\"\n",
      "print \"200\\t\\t600\\t\\t\" + str(defaultAvgTp[id])[0:5] + \"\\t\" + str(defaultAvgFp[id])[0:5]\n",
      "id = \"mouse300Pe400Gap\"\n",
      "print \"300\\t\\t400\\t\\t\" + str(defaultAvgTp[id])[0:5] + \"\\t\" + str(defaultAvgFp[id])[0:5]\n",
      "id = \"mouse400Pe200Gap\"\n",
      "print \"400\\t\\t200\\t\\t\" + str(defaultAvgTp[id])[0:5] + \"\\t\" + str(defaultAvgFp[id])[0:5]\n"
     ],
     "language": "python",
     "metadata": {},
     "outputs": [
      {
       "output_type": "stream",
       "stream": "stdout",
       "text": [
        "Percent Mapping Accuracy for Mouse Transcriptome 20x with Increasing Length Paired End Reads\n",
        "Read Length\tGap Size\t\tTP(d)\tFP(d)\n",
        "100\t\t800\t\t62.07\t37.92\n",
        "200\t\t600\t\t63.41\t36.58\n",
        "300\t\t400\t\t64.48\t35.51\n",
        "400\t\t200\t\t65.42\t34.57\n"
       ]
      }
     ],
     "prompt_number": 425
    },
    {
     "cell_type": "code",
     "collapsed": false,
     "input": [],
     "language": "python",
     "metadata": {},
     "outputs": []
    }
   ],
   "metadata": {}
  }
 ]
}